{
 "cells": [
  {
   "cell_type": "code",
   "execution_count": 1,
   "metadata": {
    "execution": {
     "iopub.execute_input": "2025-01-08T11:50:26.375132Z",
     "iopub.status.busy": "2025-01-08T11:50:26.374681Z",
     "iopub.status.idle": "2025-01-08T11:50:27.433178Z",
     "shell.execute_reply": "2025-01-08T11:50:27.432599Z"
    }
   },
   "outputs": [],
   "source": [
    "import numpy as np\n",
    "import sisl as si\n",
    "import matplotlib.pyplot as plt\n",
    "\n",
    "%matplotlib inline"
   ]
  },
  {
   "cell_type": "markdown",
   "metadata": {},
   "source": [
    "# Anomalous Hall conductivity (AHC) for graphene\n",
    "\n",
    "This tutorial will describe a complete walk-through of how to calculate the anomalous Hall conductivity for graphene.\n",
    "\n",
    "## Creating the geometry to investigate\n",
    "\n",
    "Our system of interest will be the pristine graphene system, from a DFT (SIESTA) calculation."
   ]
  },
  {
   "cell_type": "code",
   "execution_count": 2,
   "metadata": {
    "execution": {
     "iopub.execute_input": "2025-01-08T11:50:27.435470Z",
     "iopub.status.busy": "2025-01-08T11:50:27.434907Z",
     "iopub.status.idle": "2025-01-08T11:50:27.454131Z",
     "shell.execute_reply": "2025-01-08T11:50:27.453530Z"
    }
   },
   "outputs": [],
   "source": [
    "H = si.get_sile(\"siesta_2/RUN.fdf\").read_hamiltonian()"
   ]
  },
  {
   "cell_type": "markdown",
   "metadata": {},
   "source": [
    "The anomalous Hall conductivity (AHC) requires a rather dense $k$ grid. It is related to the Berry curvature defined as:\n",
    "$$\n",
    "    \\boldsymbol\\Omega_{i,\\alpha\\beta} = 2i\\hbar^2\\sum_{j\\neq i}\n",
    "                \\frac{\\hat v^{\\alpha}_{ij} \\hat v^\\beta_{ji}}\n",
    "                     {[\\epsilon_j - \\epsilon_i]^2 + i\\eta^2}\n",
    "$$\n",
    "where $\\hat v$ is the velocity operator. One can determine that the units of this quantity is $\\mathrm{Ang}^2$.\n",
    "The AHC can then be calculated via:\n",
    "$$\n",
    "    \\sigma_{\\alpha\\beta} = \\frac{-e^2}{\\hbar}\\int\\,\\mathrm d\\mathbf k\\sum_i f_i\\Omega_{i,\\alpha\\beta}(\\mathbf k).\n",
    "$$\n",
    "This method is implemented in `sisl.physics.electron.ahc`.\n",
    "The units of AHC is $\\mathrm S / \\mathrm{Ang}^{2 - D}$ which for 2D systems is just $\\mathrm S$.  \n",
    "Its API looks like:"
   ]
  },
  {
   "cell_type": "code",
   "execution_count": 3,
   "metadata": {
    "execution": {
     "iopub.execute_input": "2025-01-08T11:50:27.456027Z",
     "iopub.status.busy": "2025-01-08T11:50:27.455596Z",
     "iopub.status.idle": "2025-01-08T11:50:27.458968Z",
     "shell.execute_reply": "2025-01-08T11:50:27.458450Z"
    }
   },
   "outputs": [
    {
     "name": "stdout",
     "output_type": "stream",
     "text": [
      "Help on function ahc in module sisl.physics.electron:\n",
      "\n",
      "ahc(bz: 'BrillouinZone', k_average: 'bool' = True, *, distribution: 'DistributionType' = 'step', eigenstate_kwargs={}, apply_kwargs={}, **berry_kwargs) -> 'np.ndarray'\n",
      "    Electronic anomalous Hall conductivity for a given `BrillouinZone` integral\n",
      "\n",
      "    .. math::\n",
      "       \\sigma_{\\alpha\\beta} = \\frac{-e^2}{\\hbar}\\int\\,\\mathrm d\\mathbf k\\sum_i f_i\\Omega_{i,\\alpha\\beta}(\\mathbf k)\n",
      "\n",
      "    where :math:`\\Omega_{i,\\alpha\\beta}` and :math:`f_i` is the Berry curvature and occupation\n",
      "    for state :math:`i`.\n",
      "\n",
      "    The conductivity will be averaged by volume of the periodic unit cell.\n",
      "    Hence the unit of `ahc` depends on the periodic unit cell.\n",
      "    See `~sisl.Lattice.volumef` for details.\n",
      "\n",
      "    See :cite:`Wang2006` for details on the implementation.\n",
      "\n",
      "    Parameters\n",
      "    ----------\n",
      "    bz :\n",
      "        containing the integration grid and has the ``bz.parent`` as an instance of Hamiltonian.\n",
      "    k_average :\n",
      "        if `True`, the returned quantity is averaged over `bz`, else all k-point\n",
      "        contributions will be collected (in the 1st dimension).\n",
      "        Note, for large `bz` integrations this may explode the memory usage.\n",
      "    distribution :\n",
      "        An optional distribution enabling one to automatically sum states\n",
      "        across occupied/unoccupied states.\n",
      "    eigenstate_kwargs :\n",
      "       keyword arguments passed directly to the ``contour.eigenstate`` method.\n",
      "       One should *not* pass a ``k`` or a ``wrap`` keyword argument as they are\n",
      "       already used.\n",
      "    apply_kwargs :\n",
      "       keyword arguments passed directly to ``bz.apply(**apply_kwargs)``.\n",
      "    **berry_kwargs :\n",
      "        arguments passed directly to the `berry_curvature` method.\n",
      "\n",
      "        Here one can pass `derivative_kwargs` to pass flags to the\n",
      "        `derivative` method. In particular ``axes`` can be used\n",
      "        to speedup the calculation (by omitting certain directions).\n",
      "\n",
      "    Examples\n",
      "    --------\n",
      "\n",
      "    To calculate the AHC for a range of energy-points.\n",
      "    First create ``E`` which is the energy grid.\n",
      "    In order for the internal algorithm to be able\n",
      "    to broadcast arrays correctly, we have to allow the eigenvalue\n",
      "    spectrum to be appended by reshaping.\n",
      "\n",
      "    >>> E = np.linspace(-2, 2, 51)\n",
      "    >>> dist = get_distribution(\"step\", x0=E.reshape(-1, 1))\n",
      "    >>> ahc_cond = ahc(bz, dist)\n",
      "    >>> assert ahc_cond.shape == (3, 3, len(E))\n",
      "\n",
      "    Sometimes one wishes to see the k-resolved AHC.\n",
      "    Be aware that AHC requires a dense k-grid, and hence it might\n",
      "    require a lot of memory.\n",
      "    Here it is calculated at :math:`E=0` (default energy reference).\n",
      "\n",
      "    >>> ahc_cond = ahc(bz, k_average=False)\n",
      "    >>> assert ahc_cond.shape == (len(bz), 3, 3)\n",
      "\n",
      "    See Also\n",
      "    --------\n",
      "    ~sisl.physics.derivative: method for calculating the exact derivatives\n",
      "    ~sisl.physics.berry_curvature: method used to calculate the Berry curvature for calculating the conductivity\n",
      "    ~sisl.Lattice.volumef: volume calculation of the lattice\n",
      "    shc: spin Hall conductivity\n",
      "\n",
      "    Returns\n",
      "    -------\n",
      "    ahc:\n",
      "        Anomalous Hall conductivity returned in certain dimensions ``ahc[:, :]``.\n",
      "        If `sum` is False, it will be at least a 3D array with the 3rd dimension\n",
      "        having the contribution from state `i`.\n",
      "        If `k_average` is False, it will have a dimension prepended with\n",
      "        k-point resolved AHC.\n",
      "        If one passes `axes` to the `derivative_kwargs` argument one will get\n",
      "        dimensions according to the number of axes requested, by default all\n",
      "        axes will be used (even if they are non-periodic).\n",
      "        The dtype will be imaginary.\n",
      "        When :math:`D` is the dimensionality of the system we find the unit to be\n",
      "        :math:`\\mathrm S/\\mathrm{Ang}^{D-2}`.\n",
      "\n"
     ]
    }
   ],
   "source": [
    "help(si.physics.electron.ahc)"
   ]
  },
  {
   "cell_type": "markdown",
   "metadata": {},
   "source": [
    "-----\n",
    "\n",
    "We will be interested in calculating the `ahc` for a set of different energies (equivalent to different chemical potentials).\n",
    "So we need to define an energy-range, and a distribution function, here the simple step-function is used."
   ]
  },
  {
   "cell_type": "code",
   "execution_count": 4,
   "metadata": {
    "execution": {
     "iopub.execute_input": "2025-01-08T11:50:27.460575Z",
     "iopub.status.busy": "2025-01-08T11:50:27.460398Z",
     "iopub.status.idle": "2025-01-08T11:50:27.463949Z",
     "shell.execute_reply": "2025-01-08T11:50:27.463473Z"
    }
   },
   "outputs": [],
   "source": [
    "E = np.linspace(-5, 2, 251)\n",
    "# When calculating for a variety of energy-points, we have to have an available axis for the eigenvalue distribution\n",
    "# calculation.\n",
    "dist = si.get_distribution(\"step\", x0=E.reshape(-1, 1))\n",
    "# Generally you want a *very* dense k-point grid\n",
    "bz = si.MonkhorstPack(H, [33, 33, 1], trs=False)"
   ]
  },
  {
   "cell_type": "markdown",
   "metadata": {},
   "source": [
    "Since we are only interested in the $xy$ plane (there is no periodicity along $z$, hence superfluous calculation), we will try and reduce the computation by specifying which axes we want to calculate the AHC along.\n",
    "Additionally, we can speed up the calculation for matrices that are small, by explicitly specifying them to be calculated in the `numpy.ndarray` format, as opposed to the default `scipy.sparse.csr_matrix` format (slower, but much less memory consuming).\n",
    "When dealing with these conductivities it can also be instructive to view the $k$-resolved conductivities at certain energies.\n",
    "\n",
    "\n",
    "Lastly, `eta=True` specifies we want to show the progressbar.\n",
    "\n"
   ]
  },
  {
   "cell_type": "code",
   "execution_count": 5,
   "metadata": {
    "execution": {
     "iopub.execute_input": "2025-01-08T11:50:27.465658Z",
     "iopub.status.busy": "2025-01-08T11:50:27.465315Z",
     "iopub.status.idle": "2025-01-08T11:54:06.535936Z",
     "shell.execute_reply": "2025-01-08T11:54:06.535379Z"
    }
   },
   "outputs": [
    {
     "data": {
      "application/vnd.jupyter.widget-view+json": {
       "model_id": "fb7f0f60e2de49b290c6b1d8f6305349",
       "version_major": 2,
       "version_minor": 0
      },
      "text/plain": [
       "MonkhorstPack.ndarray:   0%|          | 0/1089 [00:00<?, ?k/s]"
      ]
     },
     "metadata": {},
     "output_type": "display_data"
    }
   ],
   "source": [
    "ahc = si.physics.electron.ahc(\n",
    "    bz,\n",
    "    # yield a k-resolved AHC array\n",
    "    k_average=False,\n",
    "    distribution=dist,\n",
    "    # Speed up by format='array'\n",
    "    eigenstate_kwargs={\"format\": \"array\", \"dtype\": np.complex128, \"eta\": True},\n",
    "    # Speed up by only calculating the xx, xy, yx, yy contributions\n",
    "    derivative_kwargs={\"axes\": \"xy\"},\n",
    ").real  # we don't need the imaginary part."
   ]
  },
  {
   "cell_type": "markdown",
   "metadata": {},
   "source": [
    "Now we have a `(len(bz), 2, 2, len(E))` AHC array."
   ]
  },
  {
   "cell_type": "code",
   "execution_count": 6,
   "metadata": {
    "execution": {
     "iopub.execute_input": "2025-01-08T11:54:06.538324Z",
     "iopub.status.busy": "2025-01-08T11:54:06.537907Z",
     "iopub.status.idle": "2025-01-08T11:54:06.794801Z",
     "shell.execute_reply": "2025-01-08T11:54:06.794299Z"
    }
   },
   "outputs": [
    {
     "data": {
      "image/png": "[encoded data removed]",
      "text/plain": [
       "<Figure size 640x480 with 1 Axes>"
      ]
     },
     "metadata": {},
     "output_type": "display_data"
    }
   ],
   "source": [
    "plt.plot(E, ahc.sum(0)[0, 1], label=r\"$\\sigma_{xy}$\")\n",
    "plt.plot(E, ahc.sum(0)[1, 0], label=r\"$\\sigma_{yx}$\")\n",
    "plt.xlabel(\"Energy [eV]\")\n",
    "plt.ylabel(r\"$\\sigma$ [Ang^2]\")\n",
    "plt.legend();"
   ]
  },
  {
   "cell_type": "markdown",
   "metadata": {},
   "source": [
    "As we can see there are some contributions near $E_F$, and at the lower bands.  \n",
    "The numbers though are not converged, and likely requires more scrutiny (outside the scope of this tutorial).\n",
    "\n",
    "We can now plot the $k$-resolved AHC values at $E_F$:"
   ]
  },
  {
   "cell_type": "code",
   "execution_count": 7,
   "metadata": {
    "execution": {
     "iopub.execute_input": "2025-01-08T11:54:06.796547Z",
     "iopub.status.busy": "2025-01-08T11:54:06.796374Z",
     "iopub.status.idle": "2025-01-08T11:54:06.939164Z",
     "shell.execute_reply": "2025-01-08T11:54:06.938699Z"
    }
   },
   "outputs": [
    {
     "data": {
      "image/png": "[encoded data removed]",
      "text/plain": [
       "<Figure size 640x480 with 2 Axes>"
      ]
     },
     "metadata": {},
     "output_type": "display_data"
    }
   ],
   "source": [
    "E0 = np.argmin(np.fabs(E))\n",
    "kx = np.unique(bz.k[:, 0])\n",
    "ky = np.unique(bz.k[:, 1])\n",
    "plt.contourf(\n",
    "    # unique values along x, y\n",
    "    kx,\n",
    "    ky,\n",
    "    ahc[:, 0, 1, E0].reshape(len(kx), len(ky)),\n",
    ")\n",
    "plt.colorbar();"
   ]
  },
  {
   "cell_type": "markdown",
   "metadata": {},
   "source": [
    "This concludes a simple tutorial on how to calculate the AHC for a given  system, and also how to calculate the $k$-resolved AHC."
   ]
  }
 ],
 "metadata": {
  "kernelspec": {
   "display_name": "Python 3 (ipykernel)",
   "language": "python",
   "name": "python3"
  },
  "language_info": {
   "codemirror_mode": {
    "name": "ipython",
    "version": 3
   },
   "file_extension": ".py",
   "mimetype": "text/x-python",
   "name": "python",
   "nbconvert_exporter": "python",
   "pygments_lexer": "ipython3",
   "version": "3.12.8"
  },
  "widgets": {
   "application/vnd.jupyter.widget-state+json": {
    "state": {
     "0b63cb5fd1f94089b7721a5479411edc": {
      "model_module": "@jupyter-widgets/controls",
      "model_module_version": "2.0.0",
      "model_name": "HTMLModel",
      "state": {
       "_dom_classes": [],
       "_model_module": "@jupyter-widgets/controls",
       "_model_module_version": "2.0.0",
       "_model_name": "HTMLModel",
       "_view_count": null,
       "_view_module": "@jupyter-widgets/controls",
       "_view_module_version": "2.0.0",
       "_view_name": "HTMLView",
       "description": "",
       "description_allow_html": false,
       "layout": "IPY_MODEL_ffb7d33c0e434077b2dbb7b676f4cb02",
       "placeholder": "​",
       "style": "IPY_MODEL_6fcadcf413294e56ae4d87d7d473e5c8",
       "tabbable": null,
       "tooltip": null,
       "value": " 1089/1089 [03:38&lt;00:00,  7.93k/s]"
      }
     },
     "0ba94935afea4b69b8cfdb44cc3936a3": {
      "model_module": "@jupyter-widgets/controls",
      "model_module_version": "2.0.0",
      "model_name": "FloatProgressModel",
      "state": {
       "_dom_classes": [],
       "_model_module": "@jupyter-widgets/controls",
       "_model_module_version": "2.0.0",
       "_model_name": "FloatProgressModel",
       "_view_count": null,
       "_view_module": "@jupyter-widgets/controls",
       "_view_module_version": "2.0.0",
       "_view_name": "ProgressView",
       "bar_style": "success",
       "description": "",
       "description_allow_html": false,
       "layout": "IPY_MODEL_23b990a0a8be4dcd8de89c789338d33a",
       "max": 1089.0,
       "min": 0.0,
       "orientation": "horizontal",
       "style": "IPY_MODEL_b19f76da276144daaea88916f018ff9f",
       "tabbable": null,
       "tooltip": null,
       "value": 1089.0
      }
     },
     "23b990a0a8be4dcd8de89c789338d33a": {
      "model_module": "@jupyter-widgets/base",
      "model_module_version": "2.0.0",
      "model_name": "LayoutModel",
      "state": {
       "_model_module": "@jupyter-widgets/base",
       "_model_module_version": "2.0.0",
       "_model_name": "LayoutModel",
       "_view_count": null,
       "_view_module": "@jupyter-widgets/base",
       "_view_module_version": "2.0.0",
       "_view_name": "LayoutView",
       "align_content": null,
       "align_items": null,
       "align_self": null,
       "border_bottom": null,
       "border_left": null,
       "border_right": null,
       "border_top": null,
       "bottom": null,
       "display": null,
       "flex": null,
       "flex_flow": null,
       "grid_area": null,
       "grid_auto_columns": null,
       "grid_auto_flow": null,
       "grid_auto_rows": null,
       "grid_column": null,
       "grid_gap": null,
       "grid_row": null,
       "grid_template_areas": null,
       "grid_template_columns": null,
       "grid_template_rows": null,
       "height": null,
       "justify_content": null,
       "justify_items": null,
       "left": null,
       "margin": null,
       "max_height": null,
       "max_width": null,
       "min_height": null,
       "min_width": null,
       "object_fit": null,
       "object_position": null,
       "order": null,
       "overflow": null,
       "padding": null,
       "right": null,
       "top": null,
       "visibility": null,
       "width": null
      }
     },
     "24e38cb8b98c47a0aa2dc65386baad13": {
      "model_module": "@jupyter-widgets/controls",
      "model_module_version": "2.0.0",
      "model_name": "HTMLStyleModel",
      "state": {
       "_model_module": "@jupyter-widgets/controls",
       "_model_module_version": "2.0.0",
       "_model_name": "HTMLStyleModel",
       "_view_count": null,
       "_view_module": "@jupyter-widgets/base",
       "_view_module_version": "2.0.0",
       "_view_name": "StyleView",
       "background": null,
       "description_width": "",
       "font_size": null,
       "text_color": null
      }
     },
     "5293c257c11a4de785dd5ab9905e60f7": {
      "model_module": "@jupyter-widgets/controls",
      "model_module_version": "2.0.0",
      "model_name": "HTMLModel",
      "state": {
       "_dom_classes": [],
       "_model_module": "@jupyter-widgets/controls",
       "_model_module_version": "2.0.0",
       "_model_name": "HTMLModel",
       "_view_count": null,
       "_view_module": "@jupyter-widgets/controls",
       "_view_module_version": "2.0.0",
       "_view_name": "HTMLView",
       "description": "",
       "description_allow_html": false,
       "layout": "IPY_MODEL_a13460c96fef4b9a85c7686025708a39",
       "placeholder": "​",
       "style": "IPY_MODEL_24e38cb8b98c47a0aa2dc65386baad13",
       "tabbable": null,
       "tooltip": null,
       "value": "MonkhorstPack.ndarray: 100%"
      }
     },
     "6fcadcf413294e56ae4d87d7d473e5c8": {
      "model_module": "@jupyter-widgets/controls",
      "model_module_version": "2.0.0",
      "model_name": "HTMLStyleModel",
      "state": {
       "_model_module": "@jupyter-widgets/controls",
       "_model_module_version": "2.0.0",
       "_model_name": "HTMLStyleModel",
       "_view_count": null,
       "_view_module": "@jupyter-widgets/base",
       "_view_module_version": "2.0.0",
       "_view_name": "StyleView",
       "background": null,
       "description_width": "",
       "font_size": null,
       "text_color": null
      }
     },
     "a13460c96fef4b9a85c7686025708a39": {
      "model_module": "@jupyter-widgets/base",
      "model_module_version": "2.0.0",
      "model_name": "LayoutModel",
      "state": {
       "_model_module": "@jupyter-widgets/base",
       "_model_module_version": "2.0.0",
       "_model_name": "LayoutModel",
       "_view_count": null,
       "_view_module": "@jupyter-widgets/base",
       "_view_module_version": "2.0.0",
       "_view_name": "LayoutView",
       "align_content": null,
       "align_items": null,
       "align_self": null,
       "border_bottom": null,
       "border_left": null,
       "border_right": null,
       "border_top": null,
       "bottom": null,
       "display": null,
       "flex": null,
       "flex_flow": null,
       "grid_area": null,
       "grid_auto_columns": null,
       "grid_auto_flow": null,
       "grid_auto_rows": null,
       "grid_column": null,
       "grid_gap": null,
       "grid_row": null,
       "grid_template_areas": null,
       "grid_template_columns": null,
       "grid_template_rows": null,
       "height": null,
       "justify_content": null,
       "justify_items": null,
       "left": null,
       "margin": null,
       "max_height": null,
       "max_width": null,
       "min_height": null,
       "min_width": null,
       "object_fit": null,
       "object_position": null,
       "order": null,
       "overflow": null,
       "padding": null,
       "right": null,
       "top": null,
       "visibility": null,
       "width": null
      }
     },
     "b19f76da276144daaea88916f018ff9f": {
      "model_module": "@jupyter-widgets/controls",
      "model_module_version": "2.0.0",
      "model_name": "ProgressStyleModel",
      "state": {
       "_model_module": "@jupyter-widgets/controls",
       "_model_module_version": "2.0.0",
       "_model_name": "ProgressStyleModel",
       "_view_count": null,
       "_view_module": "@jupyter-widgets/base",
       "_view_module_version": "2.0.0",
       "_view_name": "StyleView",
       "bar_color": null,
       "description_width": ""
      }
     },
     "d4e283de6caa4daea1792676787d7f83": {
      "model_module": "@jupyter-widgets/base",
      "model_module_version": "2.0.0",
      "model_name": "LayoutModel",
      "state": {
       "_model_module": "@jupyter-widgets/base",
       "_model_module_version": "2.0.0",
       "_model_name": "LayoutModel",
       "_view_count": null,
       "_view_module": "@jupyter-widgets/base",
       "_view_module_version": "2.0.0",
       "_view_name": "LayoutView",
       "align_content": null,
       "align_items": null,
       "align_self": null,
       "border_bottom": null,
       "border_left": null,
       "border_right": null,
       "border_top": null,
       "bottom": null,
       "display": null,
       "flex": null,
       "flex_flow": null,
       "grid_area": null,
       "grid_auto_columns": null,
       "grid_auto_flow": null,
       "grid_auto_rows": null,
       "grid_column": null,
       "grid_gap": null,
       "grid_row": null,
       "grid_template_areas": null,
       "grid_template_columns": null,
       "grid_template_rows": null,
       "height": null,
       "justify_content": null,
       "justify_items": null,
       "left": null,
       "margin": null,
       "max_height": null,
       "max_width": null,
       "min_height": null,
       "min_width": null,
       "object_fit": null,
       "object_position": null,
       "order": null,
       "overflow": null,
       "padding": null,
       "right": null,
       "top": null,
       "visibility": null,
       "width": null
      }
     },
     "fb7f0f60e2de49b290c6b1d8f6305349": {
      "model_module": "@jupyter-widgets/controls",
      "model_module_version": "2.0.0",
      "model_name": "HBoxModel",
      "state": {
       "_dom_classes": [],
       "_model_module": "@jupyter-widgets/controls",
       "_model_module_version": "2.0.0",
       "_model_name": "HBoxModel",
       "_view_count": null,
       "_view_module": "@jupyter-widgets/controls",
       "_view_module_version": "2.0.0",
       "_view_name": "HBoxView",
       "box_style": "",
       "children": [
        "IPY_MODEL_5293c257c11a4de785dd5ab9905e60f7",
        "IPY_MODEL_0ba94935afea4b69b8cfdb44cc3936a3",
        "IPY_MODEL_0b63cb5fd1f94089b7721a5479411edc"
       ],
       "layout": "IPY_MODEL_d4e283de6caa4daea1792676787d7f83",
       "tabbable": null,
       "tooltip": null
      }
     },
     "ffb7d33c0e434077b2dbb7b676f4cb02": {
      "model_module": "@jupyter-widgets/base",
      "model_module_version": "2.0.0",
      "model_name": "LayoutModel",
      "state": {
       "_model_module": "@jupyter-widgets/base",
       "_model_module_version": "2.0.0",
       "_model_name": "LayoutModel",
       "_view_count": null,
       "_view_module": "@jupyter-widgets/base",
       "_view_module_version": "2.0.0",
       "_view_name": "LayoutView",
       "align_content": null,
       "align_items": null,
       "align_self": null,
       "border_bottom": null,
       "border_left": null,
       "border_right": null,
       "border_top": null,
       "bottom": null,
       "display": null,
       "flex": null,
       "flex_flow": null,
       "grid_area": null,
       "grid_auto_columns": null,
       "grid_auto_flow": null,
       "grid_auto_rows": null,
       "grid_column": null,
       "grid_gap": null,
       "grid_row": null,
       "grid_template_areas": null,
       "grid_template_columns": null,
       "grid_template_rows": null,
       "height": null,
       "justify_content": null,
       "justify_items": null,
       "left": null,
       "margin": null,
       "max_height": null,
       "max_width": null,
       "min_height": null,
       "min_width": null,
       "object_fit": null,
       "object_position": null,
       "order": null,
       "overflow": null,
       "padding": null,
       "right": null,
       "top": null,
       "visibility": null,
       "width": null
      }
     }
    },
    "version_major": 2,
    "version_minor": 0
   }
  }
 },
 "nbformat": 4,
 "nbformat_minor": 4
}
