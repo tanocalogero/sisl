{
 "cells": [
  {
   "cell_type": "code",
   "execution_count": 1,
   "metadata": {
    "execution": {
     "iopub.execute_input": "2024-09-23T10:49:03.566324Z",
     "iopub.status.busy": "2024-09-23T10:49:03.566119Z",
     "iopub.status.idle": "2024-09-23T10:49:04.688659Z",
     "shell.execute_reply": "2024-09-23T10:49:04.688050Z"
    }
   },
   "outputs": [],
   "source": [
    "import numpy as np\n",
    "import sisl as si\n",
    "import matplotlib.pyplot as plt\n",
    "\n",
    "%matplotlib inline"
   ]
  },
  {
   "cell_type": "markdown",
   "metadata": {},
   "source": [
    "# Anomalous Hall conductivity (AHC) for graphene\n",
    "\n",
    "This tutorial will describe a complete walk-through of how to calculate the anomalous Hall conductivity for graphene.\n",
    "\n",
    "## Creating the geometry to investigate\n",
    "\n",
    "Our system of interest will be the pristine graphene system, from a DFT (SIESTA) calculation."
   ]
  },
  {
   "cell_type": "code",
   "execution_count": 2,
   "metadata": {
    "execution": {
     "iopub.execute_input": "2024-09-23T10:49:04.690985Z",
     "iopub.status.busy": "2024-09-23T10:49:04.690640Z",
     "iopub.status.idle": "2024-09-23T10:49:04.711248Z",
     "shell.execute_reply": "2024-09-23T10:49:04.710719Z"
    }
   },
   "outputs": [],
   "source": [
    "H = si.get_sile(\"siesta_2/RUN.fdf\").read_hamiltonian()"
   ]
  },
  {
   "cell_type": "markdown",
   "metadata": {},
   "source": [
    "The anomalous Hall conductivity (AHC) requires a rather dense $k$ grid. It is related to the Berry curvature defined as:\n",
    "$$\n",
    "    \\boldsymbol\\Omega_{i,\\alpha\\beta} = 2i\\hbar^2\\sum_{j\\neq i}\n",
    "                \\frac{\\hat v^{\\alpha}_{ij} \\hat v^\\beta_{ji}}\n",
    "                     {[\\epsilon_j - \\epsilon_i]^2 + i\\eta^2}\n",
    "$$\n",
    "where $\\hat v$ is the velocity operator. One can determine that the units of this quantity is $\\mathrm{Ang}^2$.\n",
    "The AHC can then be calculated via:\n",
    "$$\n",
    "    \\sigma_{\\alpha\\beta} = \\frac{-e^2}{\\hbar}\\int\\,\\mathrm d\\mathbf k\\sum_i f_i\\Omega_{i,\\alpha\\beta}(\\mathbf k).\n",
    "$$\n",
    "This method is implemented in `sisl.physics.electron.ahc`.\n",
    "The units of AHC is $\\mathrm S / \\mathrm{Ang}^{2 - D}$ which for 2D systems is just $\\mathrm S$.  \n",
    "Its API looks like:"
   ]
  },
  {
   "cell_type": "code",
   "execution_count": 3,
   "metadata": {
    "execution": {
     "iopub.execute_input": "2024-09-23T10:49:04.713309Z",
     "iopub.status.busy": "2024-09-23T10:49:04.713105Z",
     "iopub.status.idle": "2024-09-23T10:49:04.716904Z",
     "shell.execute_reply": "2024-09-23T10:49:04.716370Z"
    }
   },
   "outputs": [
    {
     "name": "stdout",
     "output_type": "stream",
     "text": [
      "Help on function ahc in module sisl.physics.electron:\n",
      "\n",
      "ahc(bz: 'BrillouinZone', k_average: 'bool' = True, *, distribution: '_TDist' = 'step', eigenstate_kwargs={}, apply_kwargs={}, **berry_kwargs) -> 'np.ndarray'\n",
      "    Electronic anomalous Hall conductivity for a given `BrillouinZone` integral\n",
      "\n",
      "    .. math::\n",
      "       \\sigma_{\\alpha\\beta} = \\frac{-e^2}{\\hbar}\\int\\,\\mathrm d\\mathbf k\\sum_i f_i\\Omega_{i,\\alpha\\beta}(\\mathbf k)\n",
      "\n",
      "    where :math:`\\Omega_{i,\\alpha\\beta}` and :math:`f_i` is the Berry curvature and occupation\n",
      "    for state :math:`i`.\n",
      "\n",
      "    The conductivity will be averaged by volume of the periodic unit cell.\n",
      "    Hence the unit of `ahc` depends on the periodic unit cell.\n",
      "    See `Lattice.volumef` for details.\n",
      "\n",
      "    See :cite:`Wang2006` for details on the implementation.\n",
      "\n",
      "    Parameters\n",
      "    ----------\n",
      "    bz : BrillouinZone\n",
      "        containing the integration grid and has the ``bz.parent`` as an instance of Hamiltonian.\n",
      "    k_average:\n",
      "        if `True`, the returned quantity is averaged over `bz`, else all k-point\n",
      "        contributions will be collected (in the 1st dimension).\n",
      "        Note, for large `bz` integrations this may explode the memory usage.\n",
      "    distribution :\n",
      "        An optional distribution enabling one to automatically sum states\n",
      "        across occupied/unoccupied states.\n",
      "    eigenstate_kwargs :\n",
      "       keyword arguments passed directly to the ``contour.eigenstate`` method.\n",
      "       One should *not* pass a ``k`` or a ``wrap`` keyword argument as they are\n",
      "       already used.\n",
      "    apply_kwargs :\n",
      "       keyword arguments passed directly to ``bz.apply(**apply_kwargs)``.\n",
      "    **berry_kwargs :\n",
      "        arguments passed directly to the `berry_curvature` method.\n",
      "\n",
      "        Here one can pass `derivative_kwargs` to pass flags to the\n",
      "        `derivative` method. In particular ``axes`` can be used\n",
      "        to speedup the calculation (by omitting certain directions).\n",
      "\n",
      "    Examples\n",
      "    --------\n",
      "\n",
      "    To calculate the AHC for a range of energy-points.\n",
      "    First create ``E`` which is the energy grid.\n",
      "    In order for the internal algorithm to be able\n",
      "    to broadcast arrays correctly, we have to allow the eigenvalue\n",
      "    spectrum to be appended by reshaping.\n",
      "\n",
      "    >>> E = np.linspace(-2, 2, 51)\n",
      "    >>> dist = get_distribution(\"step\", x0=E.reshape(-1, 1))\n",
      "    >>> ahc_cond = ahc(bz, dist)\n",
      "    >>> assert ahc_cond.shape == (3, 3, len(E))\n",
      "\n",
      "    Sometimes one wishes to see the k-resolved AHC.\n",
      "    Be aware that AHC requires a dense k-grid, and hence it might\n",
      "    require a lot of memory.\n",
      "    Here it is calculated at :math:`E=0` (default energy reference).\n",
      "\n",
      "    >>> ahc_cond = ahc(bz, k_average=False)\n",
      "    >>> assert ahc_cond.shape == (len(bz), 3, 3)\n",
      "\n",
      "    See Also\n",
      "    --------\n",
      "    derivative: method for calculating the exact derivatives\n",
      "    berry_curvature: method used to calculate the Berry curvature for calculating the conductivity\n",
      "    Lattice.volumef: volume calculation of the lattice\n",
      "    shc: spin Hall conductivity\n",
      "\n",
      "    Returns\n",
      "    -------\n",
      "    ahc: numpy.ndarray\n",
      "        Anomalous Hall conductivity returned in certain dimensions ``ahc[:, :]``.\n",
      "        If `sum` is False, it will be at least a 3D array with the 3rd dimension\n",
      "        having the contribution from state `i`.\n",
      "        If `k_average` is False, it will have a dimension prepended with\n",
      "        k-point resolved AHC.\n",
      "        If one passes `axes` to the `derivative_kwargs` argument one will get\n",
      "        dimensions according to the number of axes requested, by default all\n",
      "        axes will be used (even if they are non-periodic).\n",
      "        The dtype will be imaginary.\n",
      "        When :math:`D` is the dimensionality of the system we find the unit to be\n",
      "        :math:`\\mathrm S/\\mathrm{Ang}^{D-2}`.\n",
      "\n"
     ]
    }
   ],
   "source": [
    "help(si.physics.electron.ahc)"
   ]
  },
  {
   "cell_type": "markdown",
   "metadata": {},
   "source": [
    "-----\n",
    "\n",
    "We will be interested in calculating the `ahc` for a set of different energies (equivalent to different chemical potentials).\n",
    "So we need to define an energy-range, and a distribution function, here the simple step-function is used."
   ]
  },
  {
   "cell_type": "code",
   "execution_count": 4,
   "metadata": {
    "execution": {
     "iopub.execute_input": "2024-09-23T10:49:04.718659Z",
     "iopub.status.busy": "2024-09-23T10:49:04.718454Z",
     "iopub.status.idle": "2024-09-23T10:49:04.722150Z",
     "shell.execute_reply": "2024-09-23T10:49:04.721666Z"
    }
   },
   "outputs": [],
   "source": [
    "E = np.linspace(-5, 2, 251)\n",
    "# When calculating for a variety of energy-points, we have to have an available axis for the eigenvalue distribution\n",
    "# calculation.\n",
    "dist = si.get_distribution(\"step\", x0=E.reshape(-1, 1))\n",
    "# Generally you want a *very* dense k-point grid\n",
    "bz = si.MonkhorstPack(H, [33, 33, 1], trs=False)"
   ]
  },
  {
   "cell_type": "markdown",
   "metadata": {},
   "source": [
    "Since we are only interested in the $xy$ plane (there is no periodicity along $z$, hence superfluous calculation), we will try and reduce the computation by specifying which axes we want to calculate the AHC along.\n",
    "Additionally, we can speed up the calculation for matrices that are small, by explicitly specifying them to be calculated in the `numpy.ndarray` format, as opposed to the default `scipy.sparse.csr_matrix` format (slower, but much less memory consuming).\n",
    "When dealing with these conductivities it can also be instructive to view the $k$-resolved conductivities at certain energies.\n",
    "\n",
    "\n",
    "Lastly, `eta=True` specifies we want to show the progressbar.\n",
    "\n"
   ]
  },
  {
   "cell_type": "code",
   "execution_count": 5,
   "metadata": {
    "execution": {
     "iopub.execute_input": "2024-09-23T10:49:04.723843Z",
     "iopub.status.busy": "2024-09-23T10:49:04.723652Z",
     "iopub.status.idle": "2024-09-23T10:52:50.936086Z",
     "shell.execute_reply": "2024-09-23T10:52:50.935466Z"
    }
   },
   "outputs": [
    {
     "data": {
      "application/vnd.jupyter.widget-view+json": {
       "model_id": "bf2eb619b8634f54b9fbe00f9aa7dfc5",
       "version_major": 2,
       "version_minor": 0
      },
      "text/plain": [
       "MonkhorstPack.ndarray:   0%|          | 0/1089 [00:00<?, ?k/s]"
      ]
     },
     "metadata": {},
     "output_type": "display_data"
    }
   ],
   "source": [
    "ahc = si.physics.electron.ahc(\n",
    "    bz,\n",
    "    # yield a k-resolved AHC array\n",
    "    k_average=False,\n",
    "    distribution=dist,\n",
    "    # Speed up by format='array'\n",
    "    eigenstate_kwargs={\"format\": \"array\", \"dtype\": np.complex128, \"eta\": True},\n",
    "    # Speed up by only calculating the xx, xy, yx, yy contributions\n",
    "    derivative_kwargs={\"axes\": \"xy\"},\n",
    ").real  # we don't need the imaginary part."
   ]
  },
  {
   "cell_type": "markdown",
   "metadata": {},
   "source": [
    "Now we have a `(len(bz), 2, 2, len(E))` AHC array."
   ]
  },
  {
   "cell_type": "code",
   "execution_count": 6,
   "metadata": {
    "execution": {
     "iopub.execute_input": "2024-09-23T10:52:50.938263Z",
     "iopub.status.busy": "2024-09-23T10:52:50.938059Z",
     "iopub.status.idle": "2024-09-23T10:52:51.151368Z",
     "shell.execute_reply": "2024-09-23T10:52:51.150811Z"
    }
   },
   "outputs": [
    {
     "data": {
      "image/png": "[encoded data removed]",
      "text/plain": [
       "<Figure size 640x480 with 1 Axes>"
      ]
     },
     "metadata": {},
     "output_type": "display_data"
    }
   ],
   "source": [
    "plt.plot(E, ahc.sum(0)[0, 1], label=r\"$\\sigma_{xy}$\")\n",
    "plt.plot(E, ahc.sum(0)[1, 0], label=r\"$\\sigma_{yx}$\")\n",
    "plt.xlabel(\"Energy [eV]\")\n",
    "plt.ylabel(r\"$\\sigma$ [Ang^2]\")\n",
    "plt.legend();"
   ]
  },
  {
   "cell_type": "markdown",
   "metadata": {},
   "source": [
    "As we can see there are some contributions near $E_F$, and at the lower bands.  \n",
    "The numbers though are not converged, and likely requires more scrutiny (outside the scope of this tutorial).\n",
    "\n",
    "We can now plot the $k$-resolved AHC values at $E_F$:"
   ]
  },
  {
   "cell_type": "code",
   "execution_count": 7,
   "metadata": {
    "execution": {
     "iopub.execute_input": "2024-09-23T10:52:51.153317Z",
     "iopub.status.busy": "2024-09-23T10:52:51.153125Z",
     "iopub.status.idle": "2024-09-23T10:52:51.389401Z",
     "shell.execute_reply": "2024-09-23T10:52:51.388764Z"
    }
   },
   "outputs": [
    {
     "data": {
      "image/png": "[encoded data removed]",
      "text/plain": [
       "<Figure size 640x480 with 2 Axes>"
      ]
     },
     "metadata": {},
     "output_type": "display_data"
    }
   ],
   "source": [
    "E0 = np.argmin(np.fabs(E))\n",
    "kx = np.unique(bz.k[:, 0])\n",
    "ky = np.unique(bz.k[:, 1])\n",
    "plt.contourf(\n",
    "    # unique values along x, y\n",
    "    kx,\n",
    "    ky,\n",
    "    ahc[:, 0, 1, E0].reshape(len(kx), len(ky)),\n",
    ")\n",
    "plt.colorbar();"
   ]
  },
  {
   "cell_type": "markdown",
   "metadata": {},
   "source": [
    "This concludes a simple tutorial on how to calculate the AHC for a given  system, and also how to calculate the $k$-resolved AHC."
   ]
  }
 ],
 "metadata": {
  "kernelspec": {
   "display_name": "Python 3 (ipykernel)",
   "language": "python",
   "name": "python3"
  },
  "language_info": {
   "codemirror_mode": {
    "name": "ipython",
    "version": 3
   },
   "file_extension": ".py",
   "mimetype": "text/x-python",
   "name": "python",
   "nbconvert_exporter": "python",
   "pygments_lexer": "ipython3",
   "version": "3.12.6"
  },
  "widgets": {
   "application/vnd.jupyter.widget-state+json": {
    "state": {
     "210d35c586944dc299177509de27faf3": {
      "model_module": "@jupyter-widgets/base",
      "model_module_version": "2.0.0",
      "model_name": "LayoutModel",
      "state": {
       "_model_module": "@jupyter-widgets/base",
       "_model_module_version": "2.0.0",
       "_model_name": "LayoutModel",
       "_view_count": null,
       "_view_module": "@jupyter-widgets/base",
       "_view_module_version": "2.0.0",
       "_view_name": "LayoutView",
       "align_content": null,
       "align_items": null,
       "align_self": null,
       "border_bottom": null,
       "border_left": null,
       "border_right": null,
       "border_top": null,
       "bottom": null,
       "display": null,
       "flex": null,
       "flex_flow": null,
       "grid_area": null,
       "grid_auto_columns": null,
       "grid_auto_flow": null,
       "grid_auto_rows": null,
       "grid_column": null,
       "grid_gap": null,
       "grid_row": null,
       "grid_template_areas": null,
       "grid_template_columns": null,
       "grid_template_rows": null,
       "height": null,
       "justify_content": null,
       "justify_items": null,
       "left": null,
       "margin": null,
       "max_height": null,
       "max_width": null,
       "min_height": null,
       "min_width": null,
       "object_fit": null,
       "object_position": null,
       "order": null,
       "overflow": null,
       "padding": null,
       "right": null,
       "top": null,
       "visibility": null,
       "width": null
      }
     },
     "5344862b7f344c699ba07456d4c0a152": {
      "model_module": "@jupyter-widgets/controls",
      "model_module_version": "2.0.0",
      "model_name": "HTMLStyleModel",
      "state": {
       "_model_module": "@jupyter-widgets/controls",
       "_model_module_version": "2.0.0",
       "_model_name": "HTMLStyleModel",
       "_view_count": null,
       "_view_module": "@jupyter-widgets/base",
       "_view_module_version": "2.0.0",
       "_view_name": "StyleView",
       "background": null,
       "description_width": "",
       "font_size": null,
       "text_color": null
      }
     },
     "62770658ea734415b7df6476848d3d72": {
      "model_module": "@jupyter-widgets/base",
      "model_module_version": "2.0.0",
      "model_name": "LayoutModel",
      "state": {
       "_model_module": "@jupyter-widgets/base",
       "_model_module_version": "2.0.0",
       "_model_name": "LayoutModel",
       "_view_count": null,
       "_view_module": "@jupyter-widgets/base",
       "_view_module_version": "2.0.0",
       "_view_name": "LayoutView",
       "align_content": null,
       "align_items": null,
       "align_self": null,
       "border_bottom": null,
       "border_left": null,
       "border_right": null,
       "border_top": null,
       "bottom": null,
       "display": null,
       "flex": null,
       "flex_flow": null,
       "grid_area": null,
       "grid_auto_columns": null,
       "grid_auto_flow": null,
       "grid_auto_rows": null,
       "grid_column": null,
       "grid_gap": null,
       "grid_row": null,
       "grid_template_areas": null,
       "grid_template_columns": null,
       "grid_template_rows": null,
       "height": null,
       "justify_content": null,
       "justify_items": null,
       "left": null,
       "margin": null,
       "max_height": null,
       "max_width": null,
       "min_height": null,
       "min_width": null,
       "object_fit": null,
       "object_position": null,
       "order": null,
       "overflow": null,
       "padding": null,
       "right": null,
       "top": null,
       "visibility": null,
       "width": null
      }
     },
     "62ff25c7202343d9821d455a0a030b82": {
      "model_module": "@jupyter-widgets/controls",
      "model_module_version": "2.0.0",
      "model_name": "HTMLModel",
      "state": {
       "_dom_classes": [],
       "_model_module": "@jupyter-widgets/controls",
       "_model_module_version": "2.0.0",
       "_model_name": "HTMLModel",
       "_view_count": null,
       "_view_module": "@jupyter-widgets/controls",
       "_view_module_version": "2.0.0",
       "_view_name": "HTMLView",
       "description": "",
       "description_allow_html": false,
       "layout": "IPY_MODEL_c480fda158ee48d0b42da564db59ccb3",
       "placeholder": "​",
       "style": "IPY_MODEL_6a8bb251cb604ecbb902dada3b2a1fc2",
       "tabbable": null,
       "tooltip": null,
       "value": " 1089/1089 [03:46&lt;00:00,  7.82k/s]"
      }
     },
     "6a8bb251cb604ecbb902dada3b2a1fc2": {
      "model_module": "@jupyter-widgets/controls",
      "model_module_version": "2.0.0",
      "model_name": "HTMLStyleModel",
      "state": {
       "_model_module": "@jupyter-widgets/controls",
       "_model_module_version": "2.0.0",
       "_model_name": "HTMLStyleModel",
       "_view_count": null,
       "_view_module": "@jupyter-widgets/base",
       "_view_module_version": "2.0.0",
       "_view_name": "StyleView",
       "background": null,
       "description_width": "",
       "font_size": null,
       "text_color": null
      }
     },
     "775fd711b44944a9a8d29ac6e2fc5783": {
      "model_module": "@jupyter-widgets/controls",
      "model_module_version": "2.0.0",
      "model_name": "HTMLModel",
      "state": {
       "_dom_classes": [],
       "_model_module": "@jupyter-widgets/controls",
       "_model_module_version": "2.0.0",
       "_model_name": "HTMLModel",
       "_view_count": null,
       "_view_module": "@jupyter-widgets/controls",
       "_view_module_version": "2.0.0",
       "_view_name": "HTMLView",
       "description": "",
       "description_allow_html": false,
       "layout": "IPY_MODEL_210d35c586944dc299177509de27faf3",
       "placeholder": "​",
       "style": "IPY_MODEL_5344862b7f344c699ba07456d4c0a152",
       "tabbable": null,
       "tooltip": null,
       "value": "MonkhorstPack.ndarray: 100%"
      }
     },
     "a72d6d2bac514225831e6f0d2b016cc7": {
      "model_module": "@jupyter-widgets/base",
      "model_module_version": "2.0.0",
      "model_name": "LayoutModel",
      "state": {
       "_model_module": "@jupyter-widgets/base",
       "_model_module_version": "2.0.0",
       "_model_name": "LayoutModel",
       "_view_count": null,
       "_view_module": "@jupyter-widgets/base",
       "_view_module_version": "2.0.0",
       "_view_name": "LayoutView",
       "align_content": null,
       "align_items": null,
       "align_self": null,
       "border_bottom": null,
       "border_left": null,
       "border_right": null,
       "border_top": null,
       "bottom": null,
       "display": null,
       "flex": null,
       "flex_flow": null,
       "grid_area": null,
       "grid_auto_columns": null,
       "grid_auto_flow": null,
       "grid_auto_rows": null,
       "grid_column": null,
       "grid_gap": null,
       "grid_row": null,
       "grid_template_areas": null,
       "grid_template_columns": null,
       "grid_template_rows": null,
       "height": null,
       "justify_content": null,
       "justify_items": null,
       "left": null,
       "margin": null,
       "max_height": null,
       "max_width": null,
       "min_height": null,
       "min_width": null,
       "object_fit": null,
       "object_position": null,
       "order": null,
       "overflow": null,
       "padding": null,
       "right": null,
       "top": null,
       "visibility": null,
       "width": null
      }
     },
     "bf2eb619b8634f54b9fbe00f9aa7dfc5": {
      "model_module": "@jupyter-widgets/controls",
      "model_module_version": "2.0.0",
      "model_name": "HBoxModel",
      "state": {
       "_dom_classes": [],
       "_model_module": "@jupyter-widgets/controls",
       "_model_module_version": "2.0.0",
       "_model_name": "HBoxModel",
       "_view_count": null,
       "_view_module": "@jupyter-widgets/controls",
       "_view_module_version": "2.0.0",
       "_view_name": "HBoxView",
       "box_style": "",
       "children": [
        "IPY_MODEL_775fd711b44944a9a8d29ac6e2fc5783",
        "IPY_MODEL_fe9ba32105bb4c4189fac182f773a1fd",
        "IPY_MODEL_62ff25c7202343d9821d455a0a030b82"
       ],
       "layout": "IPY_MODEL_a72d6d2bac514225831e6f0d2b016cc7",
       "tabbable": null,
       "tooltip": null
      }
     },
     "c480fda158ee48d0b42da564db59ccb3": {
      "model_module": "@jupyter-widgets/base",
      "model_module_version": "2.0.0",
      "model_name": "LayoutModel",
      "state": {
       "_model_module": "@jupyter-widgets/base",
       "_model_module_version": "2.0.0",
       "_model_name": "LayoutModel",
       "_view_count": null,
       "_view_module": "@jupyter-widgets/base",
       "_view_module_version": "2.0.0",
       "_view_name": "LayoutView",
       "align_content": null,
       "align_items": null,
       "align_self": null,
       "border_bottom": null,
       "border_left": null,
       "border_right": null,
       "border_top": null,
       "bottom": null,
       "display": null,
       "flex": null,
       "flex_flow": null,
       "grid_area": null,
       "grid_auto_columns": null,
       "grid_auto_flow": null,
       "grid_auto_rows": null,
       "grid_column": null,
       "grid_gap": null,
       "grid_row": null,
       "grid_template_areas": null,
       "grid_template_columns": null,
       "grid_template_rows": null,
       "height": null,
       "justify_content": null,
       "justify_items": null,
       "left": null,
       "margin": null,
       "max_height": null,
       "max_width": null,
       "min_height": null,
       "min_width": null,
       "object_fit": null,
       "object_position": null,
       "order": null,
       "overflow": null,
       "padding": null,
       "right": null,
       "top": null,
       "visibility": null,
       "width": null
      }
     },
     "caf7926727ca415a94b3f5c1e8a3a2cf": {
      "model_module": "@jupyter-widgets/controls",
      "model_module_version": "2.0.0",
      "model_name": "ProgressStyleModel",
      "state": {
       "_model_module": "@jupyter-widgets/controls",
       "_model_module_version": "2.0.0",
       "_model_name": "ProgressStyleModel",
       "_view_count": null,
       "_view_module": "@jupyter-widgets/base",
       "_view_module_version": "2.0.0",
       "_view_name": "StyleView",
       "bar_color": null,
       "description_width": ""
      }
     },
     "fe9ba32105bb4c4189fac182f773a1fd": {
      "model_module": "@jupyter-widgets/controls",
      "model_module_version": "2.0.0",
      "model_name": "FloatProgressModel",
      "state": {
       "_dom_classes": [],
       "_model_module": "@jupyter-widgets/controls",
       "_model_module_version": "2.0.0",
       "_model_name": "FloatProgressModel",
       "_view_count": null,
       "_view_module": "@jupyter-widgets/controls",
       "_view_module_version": "2.0.0",
       "_view_name": "ProgressView",
       "bar_style": "success",
       "description": "",
       "description_allow_html": false,
       "layout": "IPY_MODEL_62770658ea734415b7df6476848d3d72",
       "max": 1089.0,
       "min": 0.0,
       "orientation": "horizontal",
       "style": "IPY_MODEL_caf7926727ca415a94b3f5c1e8a3a2cf",
       "tabbable": null,
       "tooltip": null,
       "value": 1089.0
      }
     }
    },
    "version_major": 2,
    "version_minor": 0
   }
  }
 },
 "nbformat": 4,
 "nbformat_minor": 4
}
