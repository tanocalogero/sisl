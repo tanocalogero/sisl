{
 "cells": [
  {
   "cell_type": "markdown",
   "metadata": {
    "tags": [
     "notebook-header"
    ]
   },
   "source": [
    "[![GitHub issues by-label](https://img.shields.io/github/issues-raw/pfebrer/sisl/AtomicmatrixPlot?style=for-the-badge)](https://github.com/pfebrer/sisl/labels/AtomicMatrixPlot)"
   ]
  },
  {
   "cell_type": "markdown",
   "metadata": {},
   "source": [
    "AtomicMatrixPlot\n",
    "=========\n",
    "\n",
    "`AtomicMatrixPlot` allows you to visualize sparse matrices. This can help you:\n",
    "\n",
    "- **Understand sparse matrices better**, if you are new to them.\n",
    "- Easily **introspect matrices** to debug or understand how to implement new functionality."
   ]
  },
  {
   "cell_type": "code",
   "execution_count": 1,
   "metadata": {
    "execution": {
     "iopub.execute_input": "2025-08-18T08:00:55.606365Z",
     "iopub.status.busy": "2025-08-18T08:00:55.606125Z",
     "iopub.status.idle": "2025-08-18T08:00:56.474425Z",
     "shell.execute_reply": "2025-08-18T08:00:56.473829Z"
    }
   },
   "outputs": [],
   "source": [
    "import sisl\n",
    "\n",
    "import numpy as np"
   ]
  },
  {
   "cell_type": "markdown",
   "metadata": {},
   "source": [
    "Let's create a toy **Hamiltonian** that we will play with. We will use a chain with two atoms: \n",
    "\n",
    "  - C: With one s orbital and a set of p orbitals.\n",
    "  - H: With one s orbital."
   ]
  },
  {
   "cell_type": "code",
   "execution_count": 2,
   "metadata": {
    "execution": {
     "iopub.execute_input": "2025-08-18T08:00:56.476537Z",
     "iopub.status.busy": "2025-08-18T08:00:56.476226Z",
     "iopub.status.idle": "2025-08-18T08:00:56.499563Z",
     "shell.execute_reply": "2025-08-18T08:00:56.499071Z"
    }
   },
   "outputs": [],
   "source": [
    "# Create a C atom with s and p orbitals\n",
    "C = sisl.Atom(\n",
    "    \"C\",\n",
    "    orbitals=[\n",
    "        sisl.AtomicOrbital(\"2s\", R=0.8),\n",
    "        sisl.AtomicOrbital(\"2py\", R=0.8),\n",
    "        sisl.AtomicOrbital(\"2pz\", R=0.8),\n",
    "        sisl.AtomicOrbital(\"2px\", R=0.8),\n",
    "    ],\n",
    ")\n",
    "\n",
    "# Create a H atom with one s orbital\n",
    "H = sisl.Atom(\"H\", orbitals=[sisl.AtomicOrbital(\"1s\", R=0.4)])\n",
    "\n",
    "# Create a chain along X\n",
    "geom = sisl.Geometry(\n",
    "    [[0, 0, 0], [1, 0, 0]],\n",
    "    atoms=[C, H],\n",
    "    lattice=sisl.Lattice([2, 10, 10], nsc=[3, 1, 1]),\n",
    ")\n",
    "\n",
    "# Random Hamiltonian with non-zero elements only for orbitals that overlap\n",
    "H = sisl.Hamiltonian(geom)\n",
    "for i in range(geom.no):\n",
    "    for j in range(geom.no * 3):\n",
    "        dist = geom.rij(*geom.o2a([i, j]))\n",
    "        if dist < 1.2:\n",
    "            H[i, j] = (np.random.random() - 0.5) * (1 if j < geom.no else 0.2)\n",
    "# Symmetrize it to make it more realistic\n",
    "H = H + H.transpose()"
   ]
  },
  {
   "cell_type": "markdown",
   "metadata": {},
   "source": [
    "## Matrix as an image\n",
    "\n",
    "The default mode of `AtomicMatrixPlot` is simply to plot an image where the values of the matrix are encoded as colors:"
   ]
  },
  {
   "cell_type": "code",
   "execution_count": 3,
   "metadata": {
    "execution": {
     "iopub.execute_input": "2025-08-18T08:00:56.501354Z",
     "iopub.status.busy": "2025-08-18T08:00:56.501175Z",
     "iopub.status.idle": "2025-08-18T08:00:57.275621Z",
     "shell.execute_reply": "2025-08-18T08:00:57.275128Z"
    }
   },
   "outputs": [
    {
     "data": {
      "application/vnd.plotly.v1+json": {
       "config": {
        "plotlyServerURL": "https://plot.ly"
       },
       "data": [
        {
         "coloraxis": "coloraxis",
         "meta": {},
         "opacity": 1,
         "type": "heatmap",
         "z": {
          "bdata": "7MfmIeDi0r9KfjQdWnDRv7gTXr5BXrK/djWLuS+i37+inz7iSAjfPwAAAAAAAPh/AAAAAAAA+H8AAAAAAAD4fwAAAAAAAPh/80RmK2IhpD8AAAAAAAD4fwAAAAAAAPh/AAAAAAAA+H8AAAAAAAD4fwAAAAAAAPh/Sn40HVpw0b8kg0LpUc3hv5bVvdGw0OM/+Af+SCOa17+qSV/mu2/oPwAAAAAAAPh/AAAAAAAA+H8AAAAAAAD4fwAAAAAAAPh/YP12GdOYaz8AAAAAAAD4fwAAAAAAAPh/AAAAAAAA+H8AAAAAAAD4fwAAAAAAAPh/uBNevkFesr+W1b3RsNDjP8CLnA9VMdy/Ir2d2ruv0L+GzoLWKlbSvwAAAAAAAPh/AAAAAAAA+H8AAAAAAAD4fwAAAAAAAPh/LdoHaGxxrr8AAAAAAAD4fwAAAAAAAPh/AAAAAAAA+H8AAAAAAAD4fwAAAAAAAPh/djWLuS+i37/4B/5II5rXvyK9ndq7r9C/omVng5o75b+OyZyCv/zrvwAAAAAAAPh/AAAAAAAA+H8AAAAAAAD4fwAAAAAAAPh/1PdYEXOis78AAAAAAAD4fwAAAAAAAPh/AAAAAAAA+H8AAAAAAAD4fwAAAAAAAPh/op8+4kgI3z+qSV/mu2/oP4bOgtYqVtK/jsmcgr/867+IazCxoEPevwAAAAAAAPh/AAAAAAAA+H8AAAAAAAD4fwAAAAAAAPh/AAAAAAAA+H/zRGYrYiGkP2D9dhnTmGs/LdoHaGxxrr/U91gRc6KzvwAAAAAAAPh/",
          "dtype": "f8",
          "shape": "5, 15"
         },
         "zsmooth": false
        }
       ],
       "layout": {
        "coloraxis": {
         "cmid": 0,
         "colorscale": [
          [
           0.0,
           "rgb(103,0,31)"
          ],
          [
           0.1,
           "rgb(178,24,43)"
          ],
          [
           0.2,
           "rgb(214,96,77)"
          ],
          [
           0.3,
           "rgb(244,165,130)"
          ],
          [
           0.4,
           "rgb(253,219,199)"
          ],
          [
           0.5,
           "rgb(247,247,247)"
          ],
          [
           0.6,
           "rgb(209,229,240)"
          ],
          [
           0.7,
           "rgb(146,197,222)"
          ],
          [
           0.8,
           "rgb(67,147,195)"
          ],
          [
           0.9,
           "rgb(33,102,172)"
          ],
          [
           1.0,
           "rgb(5,48,97)"
          ]
         ],
         "showscale": true
        },
        "scene": {
         "aspectmode": "data",
         "xaxis": {
          "range": [
           -0.5,
           14.5
          ]
         },
         "yaxis": {
          "range": [
           4.5,
           -0.5
          ]
         }
        },
        "template": {
         "layout": {
          "hovermode": "closest",
          "paper_bgcolor": "white",
          "plot_bgcolor": "white",
          "scene": {
           "xaxis": {
            "color": "black",
            "gridcolor": "#ccc",
            "gridwidth": 1,
            "linewidth": 1,
            "mirror": true,
            "showgrid": false,
            "showline": true,
            "ticklen": 5,
            "ticks": "outside",
            "ticksuffix": " ",
            "visible": true,
            "zeroline": false,
            "zerolinecolor": "#ccc",
            "zerolinewidth": 1
           },
           "yaxis": {
            "color": "black",
            "gridcolor": "#ccc",
            "gridwidth": 1,
            "linewidth": 1,
            "mirror": true,
            "showgrid": false,
            "showline": true,
            "ticklen": 5,
            "ticks": "outside",
            "ticksuffix": " ",
            "visible": true,
            "zeroline": false,
            "zerolinecolor": "#ccc",
            "zerolinewidth": 1
           },
           "zaxis": {
            "color": "black",
            "gridcolor": "#ccc",
            "gridwidth": 1,
            "linewidth": 1,
            "mirror": true,
            "showgrid": false,
            "showline": true,
            "ticklen": 5,
            "ticks": "outside",
            "ticksuffix": " ",
            "visible": true,
            "zeroline": false,
            "zerolinecolor": "#ccc",
            "zerolinewidth": 1
           }
          },
          "xaxis": {
           "color": "black",
           "gridcolor": "#ccc",
           "gridwidth": 1,
           "linewidth": 1,
           "mirror": true,
           "showgrid": false,
           "showline": true,
           "ticklen": 5,
           "ticks": "outside",
           "ticksuffix": " ",
           "visible": true,
           "zeroline": false,
           "zerolinecolor": "#ccc",
           "zerolinewidth": 1
          },
          "yaxis": {
           "color": "black",
           "gridcolor": "#ccc",
           "gridwidth": 1,
           "linewidth": 1,
           "mirror": true,
           "showgrid": false,
           "showline": true,
           "ticklen": 5,
           "ticks": "outside",
           "ticksuffix": " ",
           "visible": true,
           "zeroline": false,
           "zerolinecolor": "#ccc",
           "zerolinewidth": 1
          }
         }
        },
        "xaxis": {
         "constrain": "domain",
         "range": [
          -0.5,
          14.5
         ],
         "scaleanchor": "y",
         "scaleratio": 1
        },
        "yaxis": {
         "constrain": "domain",
         "range": [
          4.5,
          -0.5
         ]
        }
       }
      }
     },
     "metadata": {},
     "output_type": "display_data"
    }
   ],
   "source": [
    "plot = H.plot()\n",
    "plot.get()"
   ]
  },
  {
   "cell_type": "markdown",
   "metadata": {},
   "source": [
    "## Changing the colorscale\n",
    "\n",
    "The most obvious thing to tweak here is the colorscale, you can do so by using the `colorscale` input, which, as usual, accepts any colorscale that the plotting backend can understand."
   ]
  },
  {
   "cell_type": "code",
   "execution_count": 4,
   "metadata": {
    "execution": {
     "iopub.execute_input": "2025-08-18T08:00:57.277367Z",
     "iopub.status.busy": "2025-08-18T08:00:57.277192Z",
     "iopub.status.idle": "2025-08-18T08:00:57.349771Z",
     "shell.execute_reply": "2025-08-18T08:00:57.349179Z"
    }
   },
   "outputs": [
    {
     "name": "stderr",
     "output_type": "stream",
     "text": [
      "INFO\tTask(Task-2) nodify.node.139849830180832:node.py:get()- No need to evaluate\n"
     ]
    },
    {
     "name": "stderr",
     "output_type": "stream",
     "text": [
      "INFO\tTask(Task-2) nodify.node.139849830174448:node.py:get()- No need to evaluate\n"
     ]
    },
    {
     "name": "stderr",
     "output_type": "stream",
     "text": [
      "INFO\tTask(Task-2) nodify.node.139849830174832:node.py:get()- No need to evaluate\n"
     ]
    },
    {
     "name": "stderr",
     "output_type": "stream",
     "text": [
      "INFO\tTask(Task-2) nodify.node.139849830175648:node.py:get()- No need to evaluate\n"
     ]
    },
    {
     "name": "stderr",
     "output_type": "stream",
     "text": [
      "INFO\tTask(Task-2) nodify.node.139849830175024:node.py:get()- No need to evaluate\n"
     ]
    },
    {
     "name": "stderr",
     "output_type": "stream",
     "text": [
      "INFO\tTask(Task-2) nodify.node.139849830182608:node.py:get()- No need to evaluate\n"
     ]
    },
    {
     "name": "stderr",
     "output_type": "stream",
     "text": [
      "INFO\tTask(Task-2) nodify.node.139849830177760:node.py:get()- Evaluated because inputs changed.\n"
     ]
    },
    {
     "name": "stderr",
     "output_type": "stream",
     "text": [
      "INFO\tTask(Task-2) nodify.node.139849830178144:node.py:get()- No need to evaluate\n"
     ]
    },
    {
     "name": "stderr",
     "output_type": "stream",
     "text": [
      "INFO\tTask(Task-2) nodify.node.139849830174448:node.py:get()- No need to evaluate\n"
     ]
    },
    {
     "name": "stderr",
     "output_type": "stream",
     "text": [
      "INFO\tTask(Task-2) nodify.node.139849830178528:node.py:get()- No need to evaluate\n"
     ]
    },
    {
     "name": "stderr",
     "output_type": "stream",
     "text": [
      "INFO\tTask(Task-2) nodify.node.139849830178144:node.py:get()- No need to evaluate\n"
     ]
    },
    {
     "name": "stderr",
     "output_type": "stream",
     "text": [
      "INFO\tTask(Task-2) nodify.node.139849830183856:node.py:get()- No need to evaluate\n"
     ]
    },
    {
     "name": "stderr",
     "output_type": "stream",
     "text": [
      "INFO\tTask(Task-2) nodify.node.139849830177376:node.py:get()- No need to evaluate\n"
     ]
    },
    {
     "name": "stderr",
     "output_type": "stream",
     "text": [
      "INFO\tTask(Task-2) nodify.node.139849830178912:node.py:get()- No need to evaluate\n"
     ]
    },
    {
     "name": "stderr",
     "output_type": "stream",
     "text": [
      "INFO\tTask(Task-2) nodify.node.139849830179296:node.py:get()- No need to evaluate\n"
     ]
    },
    {
     "name": "stderr",
     "output_type": "stream",
     "text": [
      "INFO\tTask(Task-2) nodify.node.139849830183760:node.py:get()- Evaluated because inputs changed.\n"
     ]
    },
    {
     "name": "stderr",
     "output_type": "stream",
     "text": [
      "INFO\tTask(Task-2) nodify.node.139849830174448:node.py:get()- No need to evaluate\n"
     ]
    },
    {
     "name": "stderr",
     "output_type": "stream",
     "text": [
      "INFO\tTask(Task-2) nodify.node.139849830174832:node.py:get()- No need to evaluate\n"
     ]
    },
    {
     "name": "stderr",
     "output_type": "stream",
     "text": [
      "INFO\tTask(Task-2) nodify.node.139849830175648:node.py:get()- No need to evaluate\n"
     ]
    },
    {
     "name": "stderr",
     "output_type": "stream",
     "text": [
      "INFO\tTask(Task-2) nodify.node.139849830175024:node.py:get()- No need to evaluate\n"
     ]
    },
    {
     "name": "stderr",
     "output_type": "stream",
     "text": [
      "INFO\tTask(Task-2) nodify.node.139849830182608:node.py:get()- No need to evaluate\n"
     ]
    },
    {
     "name": "stderr",
     "output_type": "stream",
     "text": [
      "INFO\tTask(Task-2) nodify.node.139849830180448:node.py:get()- No need to evaluate\n"
     ]
    },
    {
     "name": "stderr",
     "output_type": "stream",
     "text": [
      "INFO\tTask(Task-2) nodify.node.139849830184528:node.py:get()- No need to evaluate\n"
     ]
    },
    {
     "name": "stderr",
     "output_type": "stream",
     "text": [
      "INFO\tTask(Task-2) nodify.node.139849830183904:node.py:get()- No need to evaluate\n"
     ]
    },
    {
     "name": "stderr",
     "output_type": "stream",
     "text": [
      "INFO\tTask(Task-2) nodify.node.139849830176224:node.py:get()- No need to evaluate\n"
     ]
    },
    {
     "name": "stderr",
     "output_type": "stream",
     "text": [
      "INFO\tTask(Task-2) nodify.node.139849830174448:node.py:get()- No need to evaluate\n"
     ]
    },
    {
     "name": "stderr",
     "output_type": "stream",
     "text": [
      "INFO\tTask(Task-2) nodify.node.139849830176080:node.py:get()- No need to evaluate\n"
     ]
    },
    {
     "name": "stderr",
     "output_type": "stream",
     "text": [
      "INFO\tTask(Task-2) nodify.node.139849830182128:node.py:get()- No need to evaluate\n"
     ]
    },
    {
     "name": "stderr",
     "output_type": "stream",
     "text": [
      "INFO\tTask(Task-2) nodify.node.139849830174448:node.py:get()- No need to evaluate\n"
     ]
    },
    {
     "name": "stderr",
     "output_type": "stream",
     "text": [
      "INFO\tTask(Task-2) nodify.node.139849830182704:node.py:get()- No need to evaluate\n"
     ]
    },
    {
     "name": "stderr",
     "output_type": "stream",
     "text": [
      "INFO\tTask(Task-2) nodify.node.139849830184576:node.py:get()- No need to evaluate\n"
     ]
    },
    {
     "name": "stderr",
     "output_type": "stream",
     "text": [
      "INFO\tTask(Task-2) nodify.node.139849830176560:node.py:get()- No need to evaluate\n"
     ]
    },
    {
     "name": "stderr",
     "output_type": "stream",
     "text": [
      "INFO\tTask(Task-2) nodify.node.139849830174448:node.py:get()- No need to evaluate\n"
     ]
    },
    {
     "name": "stderr",
     "output_type": "stream",
     "text": [
      "INFO\tTask(Task-2) nodify.node.139849830176080:node.py:get()- No need to evaluate\n"
     ]
    },
    {
     "name": "stderr",
     "output_type": "stream",
     "text": [
      "INFO\tTask(Task-2) nodify.node.139849830182128:node.py:get()- No need to evaluate\n"
     ]
    },
    {
     "name": "stderr",
     "output_type": "stream",
     "text": [
      "INFO\tTask(Task-2) nodify.node.139849830174448:node.py:get()- No need to evaluate\n"
     ]
    },
    {
     "name": "stderr",
     "output_type": "stream",
     "text": [
      "INFO\tTask(Task-2) nodify.node.139849830182704:node.py:get()- No need to evaluate\n"
     ]
    },
    {
     "name": "stderr",
     "output_type": "stream",
     "text": [
      "INFO\tTask(Task-2) nodify.node.139849830185248:node.py:get()- No need to evaluate\n"
     ]
    },
    {
     "name": "stderr",
     "output_type": "stream",
     "text": [
      "INFO\tTask(Task-2) nodify.node.139849830176944:node.py:get()- No need to evaluate\n"
     ]
    },
    {
     "name": "stderr",
     "output_type": "stream",
     "text": [
      "INFO\tTask(Task-2) nodify.node.139849830174448:node.py:get()- No need to evaluate\n"
     ]
    },
    {
     "name": "stderr",
     "output_type": "stream",
     "text": [
      "INFO\tTask(Task-2) nodify.node.139849830176080:node.py:get()- No need to evaluate\n"
     ]
    },
    {
     "name": "stderr",
     "output_type": "stream",
     "text": [
      "INFO\tTask(Task-2) nodify.node.139849830182128:node.py:get()- No need to evaluate\n"
     ]
    },
    {
     "name": "stderr",
     "output_type": "stream",
     "text": [
      "INFO\tTask(Task-2) nodify.node.139849830174448:node.py:get()- No need to evaluate\n"
     ]
    },
    {
     "name": "stderr",
     "output_type": "stream",
     "text": [
      "INFO\tTask(Task-2) nodify.node.139849830182704:node.py:get()- No need to evaluate\n"
     ]
    },
    {
     "name": "stderr",
     "output_type": "stream",
     "text": [
      "INFO\tTask(Task-2) nodify.node.139849830185584:node.py:get()- No need to evaluate\n"
     ]
    },
    {
     "name": "stderr",
     "output_type": "stream",
     "text": [
      "INFO\tTask(Task-2) nodify.node.139849830174448:node.py:get()- No need to evaluate\n"
     ]
    },
    {
     "name": "stderr",
     "output_type": "stream",
     "text": [
      "INFO\tTask(Task-2) nodify.node.139849830174832:node.py:get()- No need to evaluate\n"
     ]
    },
    {
     "name": "stderr",
     "output_type": "stream",
     "text": [
      "INFO\tTask(Task-2) nodify.node.139849830175648:node.py:get()- No need to evaluate\n"
     ]
    },
    {
     "name": "stderr",
     "output_type": "stream",
     "text": [
      "INFO\tTask(Task-2) nodify.node.139849830175024:node.py:get()- No need to evaluate\n"
     ]
    },
    {
     "name": "stderr",
     "output_type": "stream",
     "text": [
      "INFO\tTask(Task-2) nodify.node.139849830182608:node.py:get()- No need to evaluate\n"
     ]
    },
    {
     "name": "stderr",
     "output_type": "stream",
     "text": [
      "INFO\tTask(Task-2) nodify.node.139849830174448:node.py:get()- No need to evaluate\n"
     ]
    },
    {
     "name": "stderr",
     "output_type": "stream",
     "text": [
      "INFO\tTask(Task-2) nodify.node.139849830176080:node.py:get()- No need to evaluate\n"
     ]
    },
    {
     "name": "stderr",
     "output_type": "stream",
     "text": [
      "INFO\tTask(Task-2) nodify.node.139849830182128:node.py:get()- No need to evaluate\n"
     ]
    },
    {
     "name": "stderr",
     "output_type": "stream",
     "text": [
      "INFO\tTask(Task-2) nodify.node.139849830174448:node.py:get()- No need to evaluate\n"
     ]
    },
    {
     "name": "stderr",
     "output_type": "stream",
     "text": [
      "INFO\tTask(Task-2) nodify.node.139849830182704:node.py:get()- No need to evaluate\n"
     ]
    },
    {
     "name": "stderr",
     "output_type": "stream",
     "text": [
      "INFO\tTask(Task-2) nodify.node.139849830180064:node.py:get()- No need to evaluate\n"
     ]
    },
    {
     "name": "stderr",
     "output_type": "stream",
     "text": [
      "INFO\tTask(Task-2) nodify.node.139849830179680:node.py:get()- No need to evaluate\n"
     ]
    },
    {
     "name": "stderr",
     "output_type": "stream",
     "text": [
      "INFO\tTask(Task-2) nodify.node.139849830182416:node.py:get()- No need to evaluate\n"
     ]
    },
    {
     "name": "stderr",
     "output_type": "stream",
     "text": [
      "INFO\tTask(Task-2) nodify.node.139849831356208:node.py:get()- Evaluated because inputs changed.\n"
     ]
    },
    {
     "name": "stderr",
     "output_type": "stream",
     "text": [
      "INFO\tTask(Task-2) nodify.node.139849830186064:node.py:get()- Evaluated because inputs changed.\n"
     ]
    },
    {
     "name": "stderr",
     "output_type": "stream",
     "text": [
      "INFO\tTask(Task-2) nodify.node.139849830186544:node.py:get()- Evaluated because inputs changed.\n"
     ]
    },
    {
     "data": {
      "application/vnd.plotly.v1+json": {
       "config": {
        "plotlyServerURL": "https://plot.ly"
       },
       "data": [
        {
         "coloraxis": "coloraxis",
         "meta": {},
         "opacity": 1,
         "type": "heatmap",
         "z": {
          "bdata": "7MfmIeDi0r9KfjQdWnDRv7gTXr5BXrK/djWLuS+i37+inz7iSAjfPwAAAAAAAPh/AAAAAAAA+H8AAAAAAAD4fwAAAAAAAPh/80RmK2IhpD8AAAAAAAD4fwAAAAAAAPh/AAAAAAAA+H8AAAAAAAD4fwAAAAAAAPh/Sn40HVpw0b8kg0LpUc3hv5bVvdGw0OM/+Af+SCOa17+qSV/mu2/oPwAAAAAAAPh/AAAAAAAA+H8AAAAAAAD4fwAAAAAAAPh/YP12GdOYaz8AAAAAAAD4fwAAAAAAAPh/AAAAAAAA+H8AAAAAAAD4fwAAAAAAAPh/uBNevkFesr+W1b3RsNDjP8CLnA9VMdy/Ir2d2ruv0L+GzoLWKlbSvwAAAAAAAPh/AAAAAAAA+H8AAAAAAAD4fwAAAAAAAPh/LdoHaGxxrr8AAAAAAAD4fwAAAAAAAPh/AAAAAAAA+H8AAAAAAAD4fwAAAAAAAPh/djWLuS+i37/4B/5II5rXvyK9ndq7r9C/omVng5o75b+OyZyCv/zrvwAAAAAAAPh/AAAAAAAA+H8AAAAAAAD4fwAAAAAAAPh/1PdYEXOis78AAAAAAAD4fwAAAAAAAPh/AAAAAAAA+H8AAAAAAAD4fwAAAAAAAPh/op8+4kgI3z+qSV/mu2/oP4bOgtYqVtK/jsmcgr/867+IazCxoEPevwAAAAAAAPh/AAAAAAAA+H8AAAAAAAD4fwAAAAAAAPh/AAAAAAAA+H/zRGYrYiGkP2D9dhnTmGs/LdoHaGxxrr/U91gRc6KzvwAAAAAAAPh/",
          "dtype": "f8",
          "shape": "5, 15"
         },
         "zsmooth": false
        }
       ],
       "layout": {
        "coloraxis": {
         "cmid": 0,
         "colorscale": [
          [
           0.0,
           "rgb(0, 147, 146)"
          ],
          [
           0.16666666666666666,
           "rgb(57, 177, 133)"
          ],
          [
           0.3333333333333333,
           "rgb(156, 203, 134)"
          ],
          [
           0.5,
           "rgb(233, 226, 156)"
          ],
          [
           0.6666666666666666,
           "rgb(238, 180, 121)"
          ],
          [
           0.8333333333333334,
           "rgb(232, 132, 113)"
          ],
          [
           1.0,
           "rgb(207, 89, 126)"
          ]
         ],
         "showscale": true
        },
        "scene": {
         "aspectmode": "data",
         "xaxis": {
          "range": [
           -0.5,
           14.5
          ]
         },
         "yaxis": {
          "range": [
           4.5,
           -0.5
          ]
         }
        },
        "template": {
         "layout": {
          "hovermode": "closest",
          "paper_bgcolor": "white",
          "plot_bgcolor": "white",
          "scene": {
           "xaxis": {
            "color": "black",
            "gridcolor": "#ccc",
            "gridwidth": 1,
            "linewidth": 1,
            "mirror": true,
            "showgrid": false,
            "showline": true,
            "ticklen": 5,
            "ticks": "outside",
            "ticksuffix": " ",
            "visible": true,
            "zeroline": false,
            "zerolinecolor": "#ccc",
            "zerolinewidth": 1
           },
           "yaxis": {
            "color": "black",
            "gridcolor": "#ccc",
            "gridwidth": 1,
            "linewidth": 1,
            "mirror": true,
            "showgrid": false,
            "showline": true,
            "ticklen": 5,
            "ticks": "outside",
            "ticksuffix": " ",
            "visible": true,
            "zeroline": false,
            "zerolinecolor": "#ccc",
            "zerolinewidth": 1
           },
           "zaxis": {
            "color": "black",
            "gridcolor": "#ccc",
            "gridwidth": 1,
            "linewidth": 1,
            "mirror": true,
            "showgrid": false,
            "showline": true,
            "ticklen": 5,
            "ticks": "outside",
            "ticksuffix": " ",
            "visible": true,
            "zeroline": false,
            "zerolinecolor": "#ccc",
            "zerolinewidth": 1
           }
          },
          "xaxis": {
           "color": "black",
           "gridcolor": "#ccc",
           "gridwidth": 1,
           "linewidth": 1,
           "mirror": true,
           "showgrid": false,
           "showline": true,
           "ticklen": 5,
           "ticks": "outside",
           "ticksuffix": " ",
           "visible": true,
           "zeroline": false,
           "zerolinecolor": "#ccc",
           "zerolinewidth": 1
          },
          "yaxis": {
           "color": "black",
           "gridcolor": "#ccc",
           "gridwidth": 1,
           "linewidth": 1,
           "mirror": true,
           "showgrid": false,
           "showline": true,
           "ticklen": 5,
           "ticks": "outside",
           "ticksuffix": " ",
           "visible": true,
           "zeroline": false,
           "zerolinecolor": "#ccc",
           "zerolinewidth": 1
          }
         }
        },
        "xaxis": {
         "constrain": "domain",
         "range": [
          -0.5,
          14.5
         ],
         "scaleanchor": "y",
         "scaleratio": 1
        },
        "yaxis": {
         "constrain": "domain",
         "range": [
          4.5,
          -0.5
         ]
        }
       }
      }
     },
     "metadata": {},
     "output_type": "display_data"
    }
   ],
   "source": [
    "plot.update_inputs(colorscale=\"temps\")"
   ]
  },
  {
   "cell_type": "markdown",
   "metadata": {},
   "source": [
    "Note how the `temps` colorscale makes it more clear that there are elements of the matrix that are not set (because the matrix is sparse). Those elements are not displayed.\n",
    "\n",
    "The range of colors **by default is set from min to max**. **Unless there are negative and positive values**. In that case, the colorscale is just **centered at 0** by default.\n",
    "\n",
    "However, you can set the `crange` and `cmid` to customize the colorscale as you wish. For example, to center the scale at `0.5`:"
   ]
  },
  {
   "cell_type": "code",
   "execution_count": 5,
   "metadata": {
    "execution": {
     "iopub.execute_input": "2025-08-18T08:00:57.351709Z",
     "iopub.status.busy": "2025-08-18T08:00:57.351515Z",
     "iopub.status.idle": "2025-08-18T08:00:57.424811Z",
     "shell.execute_reply": "2025-08-18T08:00:57.424227Z"
    }
   },
   "outputs": [
    {
     "name": "stderr",
     "output_type": "stream",
     "text": [
      "INFO\tTask(Task-2) nodify.node.139849830180832:node.py:get()- No need to evaluate\n"
     ]
    },
    {
     "name": "stderr",
     "output_type": "stream",
     "text": [
      "INFO\tTask(Task-2) nodify.node.139849830174448:node.py:get()- No need to evaluate\n"
     ]
    },
    {
     "name": "stderr",
     "output_type": "stream",
     "text": [
      "INFO\tTask(Task-2) nodify.node.139849830174832:node.py:get()- No need to evaluate\n"
     ]
    },
    {
     "name": "stderr",
     "output_type": "stream",
     "text": [
      "INFO\tTask(Task-2) nodify.node.139849830175648:node.py:get()- No need to evaluate\n"
     ]
    },
    {
     "name": "stderr",
     "output_type": "stream",
     "text": [
      "INFO\tTask(Task-2) nodify.node.139849830175024:node.py:get()- No need to evaluate\n"
     ]
    },
    {
     "name": "stderr",
     "output_type": "stream",
     "text": [
      "INFO\tTask(Task-2) nodify.node.139849830182608:node.py:get()- No need to evaluate\n"
     ]
    },
    {
     "name": "stderr",
     "output_type": "stream",
     "text": [
      "INFO\tTask(Task-2) nodify.node.139849830177760:node.py:get()- No need to evaluate\n"
     ]
    },
    {
     "name": "stderr",
     "output_type": "stream",
     "text": [
      "INFO\tTask(Task-2) nodify.node.139849830178144:node.py:get()- No need to evaluate\n"
     ]
    },
    {
     "name": "stderr",
     "output_type": "stream",
     "text": [
      "INFO\tTask(Task-2) nodify.node.139849830174448:node.py:get()- No need to evaluate\n"
     ]
    },
    {
     "name": "stderr",
     "output_type": "stream",
     "text": [
      "INFO\tTask(Task-2) nodify.node.139849830178528:node.py:get()- Evaluated because inputs changed.\n"
     ]
    },
    {
     "name": "stderr",
     "output_type": "stream",
     "text": [
      "INFO\tTask(Task-2) nodify.node.139849830178144:node.py:get()- No need to evaluate\n"
     ]
    },
    {
     "name": "stderr",
     "output_type": "stream",
     "text": [
      "INFO\tTask(Task-2) nodify.node.139849830183856:node.py:get()- Evaluated because inputs changed.\n"
     ]
    },
    {
     "name": "stderr",
     "output_type": "stream",
     "text": [
      "INFO\tTask(Task-2) nodify.node.139849830177376:node.py:get()- No need to evaluate\n"
     ]
    },
    {
     "name": "stderr",
     "output_type": "stream",
     "text": [
      "INFO\tTask(Task-2) nodify.node.139849830178912:node.py:get()- No need to evaluate\n"
     ]
    },
    {
     "name": "stderr",
     "output_type": "stream",
     "text": [
      "INFO\tTask(Task-2) nodify.node.139849830179296:node.py:get()- No need to evaluate\n"
     ]
    },
    {
     "name": "stderr",
     "output_type": "stream",
     "text": [
      "INFO\tTask(Task-2) nodify.node.139849830183760:node.py:get()- Evaluated because inputs changed.\n"
     ]
    },
    {
     "name": "stderr",
     "output_type": "stream",
     "text": [
      "INFO\tTask(Task-2) nodify.node.139849830174448:node.py:get()- No need to evaluate\n"
     ]
    },
    {
     "name": "stderr",
     "output_type": "stream",
     "text": [
      "INFO\tTask(Task-2) nodify.node.139849830174832:node.py:get()- No need to evaluate\n"
     ]
    },
    {
     "name": "stderr",
     "output_type": "stream",
     "text": [
      "INFO\tTask(Task-2) nodify.node.139849830175648:node.py:get()- No need to evaluate\n"
     ]
    },
    {
     "name": "stderr",
     "output_type": "stream",
     "text": [
      "INFO\tTask(Task-2) nodify.node.139849830175024:node.py:get()- No need to evaluate\n"
     ]
    },
    {
     "name": "stderr",
     "output_type": "stream",
     "text": [
      "INFO\tTask(Task-2) nodify.node.139849830182608:node.py:get()- No need to evaluate\n"
     ]
    },
    {
     "name": "stderr",
     "output_type": "stream",
     "text": [
      "INFO\tTask(Task-2) nodify.node.139849830180448:node.py:get()- No need to evaluate\n"
     ]
    },
    {
     "name": "stderr",
     "output_type": "stream",
     "text": [
      "INFO\tTask(Task-2) nodify.node.139849830184528:node.py:get()- No need to evaluate\n"
     ]
    },
    {
     "name": "stderr",
     "output_type": "stream",
     "text": [
      "INFO\tTask(Task-2) nodify.node.139849830183904:node.py:get()- No need to evaluate\n"
     ]
    },
    {
     "name": "stderr",
     "output_type": "stream",
     "text": [
      "INFO\tTask(Task-2) nodify.node.139849830176224:node.py:get()- No need to evaluate\n"
     ]
    },
    {
     "name": "stderr",
     "output_type": "stream",
     "text": [
      "INFO\tTask(Task-2) nodify.node.139849830174448:node.py:get()- No need to evaluate\n"
     ]
    },
    {
     "name": "stderr",
     "output_type": "stream",
     "text": [
      "INFO\tTask(Task-2) nodify.node.139849830176080:node.py:get()- No need to evaluate\n"
     ]
    },
    {
     "name": "stderr",
     "output_type": "stream",
     "text": [
      "INFO\tTask(Task-2) nodify.node.139849830182128:node.py:get()- No need to evaluate\n"
     ]
    },
    {
     "name": "stderr",
     "output_type": "stream",
     "text": [
      "INFO\tTask(Task-2) nodify.node.139849830174448:node.py:get()- No need to evaluate\n"
     ]
    },
    {
     "name": "stderr",
     "output_type": "stream",
     "text": [
      "INFO\tTask(Task-2) nodify.node.139849830182704:node.py:get()- No need to evaluate\n"
     ]
    },
    {
     "name": "stderr",
     "output_type": "stream",
     "text": [
      "INFO\tTask(Task-2) nodify.node.139849830184576:node.py:get()- No need to evaluate\n"
     ]
    },
    {
     "name": "stderr",
     "output_type": "stream",
     "text": [
      "INFO\tTask(Task-2) nodify.node.139849830176560:node.py:get()- No need to evaluate\n"
     ]
    },
    {
     "name": "stderr",
     "output_type": "stream",
     "text": [
      "INFO\tTask(Task-2) nodify.node.139849830174448:node.py:get()- No need to evaluate\n"
     ]
    },
    {
     "name": "stderr",
     "output_type": "stream",
     "text": [
      "INFO\tTask(Task-2) nodify.node.139849830176080:node.py:get()- No need to evaluate\n"
     ]
    },
    {
     "name": "stderr",
     "output_type": "stream",
     "text": [
      "INFO\tTask(Task-2) nodify.node.139849830182128:node.py:get()- No need to evaluate\n"
     ]
    },
    {
     "name": "stderr",
     "output_type": "stream",
     "text": [
      "INFO\tTask(Task-2) nodify.node.139849830174448:node.py:get()- No need to evaluate\n"
     ]
    },
    {
     "name": "stderr",
     "output_type": "stream",
     "text": [
      "INFO\tTask(Task-2) nodify.node.139849830182704:node.py:get()- No need to evaluate\n"
     ]
    },
    {
     "name": "stderr",
     "output_type": "stream",
     "text": [
      "INFO\tTask(Task-2) nodify.node.139849830185248:node.py:get()- No need to evaluate\n"
     ]
    },
    {
     "name": "stderr",
     "output_type": "stream",
     "text": [
      "INFO\tTask(Task-2) nodify.node.139849830176944:node.py:get()- No need to evaluate\n"
     ]
    },
    {
     "name": "stderr",
     "output_type": "stream",
     "text": [
      "INFO\tTask(Task-2) nodify.node.139849830174448:node.py:get()- No need to evaluate\n"
     ]
    },
    {
     "name": "stderr",
     "output_type": "stream",
     "text": [
      "INFO\tTask(Task-2) nodify.node.139849830176080:node.py:get()- No need to evaluate\n"
     ]
    },
    {
     "name": "stderr",
     "output_type": "stream",
     "text": [
      "INFO\tTask(Task-2) nodify.node.139849830182128:node.py:get()- No need to evaluate\n"
     ]
    },
    {
     "name": "stderr",
     "output_type": "stream",
     "text": [
      "INFO\tTask(Task-2) nodify.node.139849830174448:node.py:get()- No need to evaluate\n"
     ]
    },
    {
     "name": "stderr",
     "output_type": "stream",
     "text": [
      "INFO\tTask(Task-2) nodify.node.139849830182704:node.py:get()- No need to evaluate\n"
     ]
    },
    {
     "name": "stderr",
     "output_type": "stream",
     "text": [
      "INFO\tTask(Task-2) nodify.node.139849830185584:node.py:get()- No need to evaluate\n"
     ]
    },
    {
     "name": "stderr",
     "output_type": "stream",
     "text": [
      "INFO\tTask(Task-2) nodify.node.139849830174448:node.py:get()- No need to evaluate\n"
     ]
    },
    {
     "name": "stderr",
     "output_type": "stream",
     "text": [
      "INFO\tTask(Task-2) nodify.node.139849830174832:node.py:get()- No need to evaluate\n"
     ]
    },
    {
     "name": "stderr",
     "output_type": "stream",
     "text": [
      "INFO\tTask(Task-2) nodify.node.139849830175648:node.py:get()- No need to evaluate\n"
     ]
    },
    {
     "name": "stderr",
     "output_type": "stream",
     "text": [
      "INFO\tTask(Task-2) nodify.node.139849830175024:node.py:get()- No need to evaluate\n"
     ]
    },
    {
     "name": "stderr",
     "output_type": "stream",
     "text": [
      "INFO\tTask(Task-2) nodify.node.139849830182608:node.py:get()- No need to evaluate\n"
     ]
    },
    {
     "name": "stderr",
     "output_type": "stream",
     "text": [
      "INFO\tTask(Task-2) nodify.node.139849830174448:node.py:get()- No need to evaluate\n"
     ]
    },
    {
     "name": "stderr",
     "output_type": "stream",
     "text": [
      "INFO\tTask(Task-2) nodify.node.139849830176080:node.py:get()- No need to evaluate\n"
     ]
    },
    {
     "name": "stderr",
     "output_type": "stream",
     "text": [
      "INFO\tTask(Task-2) nodify.node.139849830182128:node.py:get()- No need to evaluate\n"
     ]
    },
    {
     "name": "stderr",
     "output_type": "stream",
     "text": [
      "INFO\tTask(Task-2) nodify.node.139849830174448:node.py:get()- No need to evaluate\n"
     ]
    },
    {
     "name": "stderr",
     "output_type": "stream",
     "text": [
      "INFO\tTask(Task-2) nodify.node.139849830182704:node.py:get()- No need to evaluate\n"
     ]
    },
    {
     "name": "stderr",
     "output_type": "stream",
     "text": [
      "INFO\tTask(Task-2) nodify.node.139849830180064:node.py:get()- No need to evaluate\n"
     ]
    },
    {
     "name": "stderr",
     "output_type": "stream",
     "text": [
      "INFO\tTask(Task-2) nodify.node.139849830179680:node.py:get()- No need to evaluate\n"
     ]
    },
    {
     "name": "stderr",
     "output_type": "stream",
     "text": [
      "INFO\tTask(Task-2) nodify.node.139849830182416:node.py:get()- No need to evaluate\n"
     ]
    },
    {
     "name": "stderr",
     "output_type": "stream",
     "text": [
      "INFO\tTask(Task-2) nodify.node.139849831356208:node.py:get()- Evaluated because inputs changed.\n"
     ]
    },
    {
     "name": "stderr",
     "output_type": "stream",
     "text": [
      "INFO\tTask(Task-2) nodify.node.139849830186064:node.py:get()- Evaluated because inputs changed.\n"
     ]
    },
    {
     "name": "stderr",
     "output_type": "stream",
     "text": [
      "INFO\tTask(Task-2) nodify.node.139849830186544:node.py:get()- Evaluated because inputs changed.\n"
     ]
    },
    {
     "data": {
      "application/vnd.plotly.v1+json": {
       "config": {
        "plotlyServerURL": "https://plot.ly"
       },
       "data": [
        {
         "coloraxis": "coloraxis",
         "meta": {},
         "opacity": 1,
         "type": "heatmap",
         "z": {
          "bdata": "7MfmIeDi0r9KfjQdWnDRv7gTXr5BXrK/djWLuS+i37+inz7iSAjfPwAAAAAAAPh/AAAAAAAA+H8AAAAAAAD4fwAAAAAAAPh/80RmK2IhpD8AAAAAAAD4fwAAAAAAAPh/AAAAAAAA+H8AAAAAAAD4fwAAAAAAAPh/Sn40HVpw0b8kg0LpUc3hv5bVvdGw0OM/+Af+SCOa17+qSV/mu2/oPwAAAAAAAPh/AAAAAAAA+H8AAAAAAAD4fwAAAAAAAPh/YP12GdOYaz8AAAAAAAD4fwAAAAAAAPh/AAAAAAAA+H8AAAAAAAD4fwAAAAAAAPh/uBNevkFesr+W1b3RsNDjP8CLnA9VMdy/Ir2d2ruv0L+GzoLWKlbSvwAAAAAAAPh/AAAAAAAA+H8AAAAAAAD4fwAAAAAAAPh/LdoHaGxxrr8AAAAAAAD4fwAAAAAAAPh/AAAAAAAA+H8AAAAAAAD4fwAAAAAAAPh/djWLuS+i37/4B/5II5rXvyK9ndq7r9C/omVng5o75b+OyZyCv/zrvwAAAAAAAPh/AAAAAAAA+H8AAAAAAAD4fwAAAAAAAPh/1PdYEXOis78AAAAAAAD4fwAAAAAAAPh/AAAAAAAA+H8AAAAAAAD4fwAAAAAAAPh/op8+4kgI3z+qSV/mu2/oP4bOgtYqVtK/jsmcgr/867+IazCxoEPevwAAAAAAAPh/AAAAAAAA+H8AAAAAAAD4fwAAAAAAAPh/AAAAAAAA+H/zRGYrYiGkP2D9dhnTmGs/LdoHaGxxrr/U91gRc6KzvwAAAAAAAPh/",
          "dtype": "f8",
          "shape": "5, 15"
         },
         "zsmooth": false
        }
       ],
       "layout": {
        "coloraxis": {
         "cmid": 0.5,
         "colorscale": [
          [
           0.0,
           "rgb(0, 147, 146)"
          ],
          [
           0.16666666666666666,
           "rgb(57, 177, 133)"
          ],
          [
           0.3333333333333333,
           "rgb(156, 203, 134)"
          ],
          [
           0.5,
           "rgb(233, 226, 156)"
          ],
          [
           0.6666666666666666,
           "rgb(238, 180, 121)"
          ],
          [
           0.8333333333333334,
           "rgb(232, 132, 113)"
          ],
          [
           1.0,
           "rgb(207, 89, 126)"
          ]
         ],
         "showscale": true
        },
        "scene": {
         "aspectmode": "data",
         "xaxis": {
          "range": [
           -0.5,
           14.5
          ]
         },
         "yaxis": {
          "range": [
           4.5,
           -0.5
          ]
         }
        },
        "template": {
         "layout": {
          "hovermode": "closest",
          "paper_bgcolor": "white",
          "plot_bgcolor": "white",
          "scene": {
           "xaxis": {
            "color": "black",
            "gridcolor": "#ccc",
            "gridwidth": 1,
            "linewidth": 1,
            "mirror": true,
            "showgrid": false,
            "showline": true,
            "ticklen": 5,
            "ticks": "outside",
            "ticksuffix": " ",
            "visible": true,
            "zeroline": false,
            "zerolinecolor": "#ccc",
            "zerolinewidth": 1
           },
           "yaxis": {
            "color": "black",
            "gridcolor": "#ccc",
            "gridwidth": 1,
            "linewidth": 1,
            "mirror": true,
            "showgrid": false,
            "showline": true,
            "ticklen": 5,
            "ticks": "outside",
            "ticksuffix": " ",
            "visible": true,
            "zeroline": false,
            "zerolinecolor": "#ccc",
            "zerolinewidth": 1
           },
           "zaxis": {
            "color": "black",
            "gridcolor": "#ccc",
            "gridwidth": 1,
            "linewidth": 1,
            "mirror": true,
            "showgrid": false,
            "showline": true,
            "ticklen": 5,
            "ticks": "outside",
            "ticksuffix": " ",
            "visible": true,
            "zeroline": false,
            "zerolinecolor": "#ccc",
            "zerolinewidth": 1
           }
          },
          "xaxis": {
           "color": "black",
           "gridcolor": "#ccc",
           "gridwidth": 1,
           "linewidth": 1,
           "mirror": true,
           "showgrid": false,
           "showline": true,
           "ticklen": 5,
           "ticks": "outside",
           "ticksuffix": " ",
           "visible": true,
           "zeroline": false,
           "zerolinecolor": "#ccc",
           "zerolinewidth": 1
          },
          "yaxis": {
           "color": "black",
           "gridcolor": "#ccc",
           "gridwidth": 1,
           "linewidth": 1,
           "mirror": true,
           "showgrid": false,
           "showline": true,
           "ticklen": 5,
           "ticks": "outside",
           "ticksuffix": " ",
           "visible": true,
           "zeroline": false,
           "zerolinecolor": "#ccc",
           "zerolinewidth": 1
          }
         }
        },
        "xaxis": {
         "constrain": "domain",
         "range": [
          -0.5,
          14.5
         ],
         "scaleanchor": "y",
         "scaleratio": 1
        },
        "yaxis": {
         "constrain": "domain",
         "range": [
          4.5,
          -0.5
         ]
        }
       }
      }
     },
     "metadata": {},
     "output_type": "display_data"
    }
   ],
   "source": [
    "plot.update_inputs(cmid=0.5)"
   ]
  },
  {
   "cell_type": "markdown",
   "metadata": {},
   "source": [
    "And to set the range of the scale from `-4` to `1`:"
   ]
  },
  {
   "cell_type": "code",
   "execution_count": 6,
   "metadata": {
    "execution": {
     "iopub.execute_input": "2025-08-18T08:00:57.426594Z",
     "iopub.status.busy": "2025-08-18T08:00:57.426412Z",
     "iopub.status.idle": "2025-08-18T08:00:57.503124Z",
     "shell.execute_reply": "2025-08-18T08:00:57.502619Z"
    }
   },
   "outputs": [
    {
     "name": "stderr",
     "output_type": "stream",
     "text": [
      "INFO\tTask(Task-2) nodify.node.139849830180832:node.py:get()- No need to evaluate\n"
     ]
    },
    {
     "name": "stderr",
     "output_type": "stream",
     "text": [
      "INFO\tTask(Task-2) nodify.node.139849830174448:node.py:get()- No need to evaluate\n"
     ]
    },
    {
     "name": "stderr",
     "output_type": "stream",
     "text": [
      "INFO\tTask(Task-2) nodify.node.139849830174832:node.py:get()- No need to evaluate\n"
     ]
    },
    {
     "name": "stderr",
     "output_type": "stream",
     "text": [
      "INFO\tTask(Task-2) nodify.node.139849830175648:node.py:get()- No need to evaluate\n"
     ]
    },
    {
     "name": "stderr",
     "output_type": "stream",
     "text": [
      "INFO\tTask(Task-2) nodify.node.139849830175024:node.py:get()- No need to evaluate\n"
     ]
    },
    {
     "name": "stderr",
     "output_type": "stream",
     "text": [
      "INFO\tTask(Task-2) nodify.node.139849830182608:node.py:get()- No need to evaluate\n"
     ]
    },
    {
     "name": "stderr",
     "output_type": "stream",
     "text": [
      "INFO\tTask(Task-2) nodify.node.139849830177760:node.py:get()- No need to evaluate\n"
     ]
    },
    {
     "name": "stderr",
     "output_type": "stream",
     "text": [
      "INFO\tTask(Task-2) nodify.node.139849830178144:node.py:get()- Evaluated because inputs changed.\n"
     ]
    },
    {
     "name": "stderr",
     "output_type": "stream",
     "text": [
      "INFO\tTask(Task-2) nodify.node.139849830174448:node.py:get()- No need to evaluate\n"
     ]
    },
    {
     "name": "stderr",
     "output_type": "stream",
     "text": [
      "INFO\tTask(Task-2) nodify.node.139849830178528:node.py:get()- No need to evaluate\n"
     ]
    },
    {
     "name": "stderr",
     "output_type": "stream",
     "text": [
      "INFO\tTask(Task-2) nodify.node.139849830178144:node.py:get()- No need to evaluate\n"
     ]
    },
    {
     "name": "stderr",
     "output_type": "stream",
     "text": [
      "INFO\tTask(Task-2) nodify.node.139849830183856:node.py:get()- Evaluated because inputs changed.\n"
     ]
    },
    {
     "name": "stderr",
     "output_type": "stream",
     "text": [
      "INFO\tTask(Task-2) nodify.node.139849830177376:node.py:get()- No need to evaluate\n"
     ]
    },
    {
     "name": "stderr",
     "output_type": "stream",
     "text": [
      "INFO\tTask(Task-2) nodify.node.139849830178912:node.py:get()- No need to evaluate\n"
     ]
    },
    {
     "name": "stderr",
     "output_type": "stream",
     "text": [
      "INFO\tTask(Task-2) nodify.node.139849830179296:node.py:get()- No need to evaluate\n"
     ]
    },
    {
     "name": "stderr",
     "output_type": "stream",
     "text": [
      "INFO\tTask(Task-2) nodify.node.139849830183760:node.py:get()- Evaluated because inputs changed.\n"
     ]
    },
    {
     "name": "stderr",
     "output_type": "stream",
     "text": [
      "INFO\tTask(Task-2) nodify.node.139849830174448:node.py:get()- No need to evaluate\n"
     ]
    },
    {
     "name": "stderr",
     "output_type": "stream",
     "text": [
      "INFO\tTask(Task-2) nodify.node.139849830174832:node.py:get()- No need to evaluate\n"
     ]
    },
    {
     "name": "stderr",
     "output_type": "stream",
     "text": [
      "INFO\tTask(Task-2) nodify.node.139849830175648:node.py:get()- No need to evaluate\n"
     ]
    },
    {
     "name": "stderr",
     "output_type": "stream",
     "text": [
      "INFO\tTask(Task-2) nodify.node.139849830175024:node.py:get()- No need to evaluate\n"
     ]
    },
    {
     "name": "stderr",
     "output_type": "stream",
     "text": [
      "INFO\tTask(Task-2) nodify.node.139849830182608:node.py:get()- No need to evaluate\n"
     ]
    },
    {
     "name": "stderr",
     "output_type": "stream",
     "text": [
      "INFO\tTask(Task-2) nodify.node.139849830180448:node.py:get()- No need to evaluate\n"
     ]
    },
    {
     "name": "stderr",
     "output_type": "stream",
     "text": [
      "INFO\tTask(Task-2) nodify.node.139849830184528:node.py:get()- No need to evaluate\n"
     ]
    },
    {
     "name": "stderr",
     "output_type": "stream",
     "text": [
      "INFO\tTask(Task-2) nodify.node.139849830183904:node.py:get()- No need to evaluate\n"
     ]
    },
    {
     "name": "stderr",
     "output_type": "stream",
     "text": [
      "INFO\tTask(Task-2) nodify.node.139849830176224:node.py:get()- No need to evaluate\n"
     ]
    },
    {
     "name": "stderr",
     "output_type": "stream",
     "text": [
      "INFO\tTask(Task-2) nodify.node.139849830174448:node.py:get()- No need to evaluate\n"
     ]
    },
    {
     "name": "stderr",
     "output_type": "stream",
     "text": [
      "INFO\tTask(Task-2) nodify.node.139849830176080:node.py:get()- No need to evaluate\n"
     ]
    },
    {
     "name": "stderr",
     "output_type": "stream",
     "text": [
      "INFO\tTask(Task-2) nodify.node.139849830182128:node.py:get()- No need to evaluate\n"
     ]
    },
    {
     "name": "stderr",
     "output_type": "stream",
     "text": [
      "INFO\tTask(Task-2) nodify.node.139849830174448:node.py:get()- No need to evaluate\n"
     ]
    },
    {
     "name": "stderr",
     "output_type": "stream",
     "text": [
      "INFO\tTask(Task-2) nodify.node.139849830182704:node.py:get()- No need to evaluate\n"
     ]
    },
    {
     "name": "stderr",
     "output_type": "stream",
     "text": [
      "INFO\tTask(Task-2) nodify.node.139849830184576:node.py:get()- No need to evaluate\n"
     ]
    },
    {
     "name": "stderr",
     "output_type": "stream",
     "text": [
      "INFO\tTask(Task-2) nodify.node.139849830176560:node.py:get()- No need to evaluate\n"
     ]
    },
    {
     "name": "stderr",
     "output_type": "stream",
     "text": [
      "INFO\tTask(Task-2) nodify.node.139849830174448:node.py:get()- No need to evaluate\n"
     ]
    },
    {
     "name": "stderr",
     "output_type": "stream",
     "text": [
      "INFO\tTask(Task-2) nodify.node.139849830176080:node.py:get()- No need to evaluate\n"
     ]
    },
    {
     "name": "stderr",
     "output_type": "stream",
     "text": [
      "INFO\tTask(Task-2) nodify.node.139849830182128:node.py:get()- No need to evaluate\n"
     ]
    },
    {
     "name": "stderr",
     "output_type": "stream",
     "text": [
      "INFO\tTask(Task-2) nodify.node.139849830174448:node.py:get()- No need to evaluate\n"
     ]
    },
    {
     "name": "stderr",
     "output_type": "stream",
     "text": [
      "INFO\tTask(Task-2) nodify.node.139849830182704:node.py:get()- No need to evaluate\n"
     ]
    },
    {
     "name": "stderr",
     "output_type": "stream",
     "text": [
      "INFO\tTask(Task-2) nodify.node.139849830185248:node.py:get()- No need to evaluate\n"
     ]
    },
    {
     "name": "stderr",
     "output_type": "stream",
     "text": [
      "INFO\tTask(Task-2) nodify.node.139849830176944:node.py:get()- No need to evaluate\n"
     ]
    },
    {
     "name": "stderr",
     "output_type": "stream",
     "text": [
      "INFO\tTask(Task-2) nodify.node.139849830174448:node.py:get()- No need to evaluate\n"
     ]
    },
    {
     "name": "stderr",
     "output_type": "stream",
     "text": [
      "INFO\tTask(Task-2) nodify.node.139849830176080:node.py:get()- No need to evaluate\n"
     ]
    },
    {
     "name": "stderr",
     "output_type": "stream",
     "text": [
      "INFO\tTask(Task-2) nodify.node.139849830182128:node.py:get()- No need to evaluate\n"
     ]
    },
    {
     "name": "stderr",
     "output_type": "stream",
     "text": [
      "INFO\tTask(Task-2) nodify.node.139849830174448:node.py:get()- No need to evaluate\n"
     ]
    },
    {
     "name": "stderr",
     "output_type": "stream",
     "text": [
      "INFO\tTask(Task-2) nodify.node.139849830182704:node.py:get()- No need to evaluate\n"
     ]
    },
    {
     "name": "stderr",
     "output_type": "stream",
     "text": [
      "INFO\tTask(Task-2) nodify.node.139849830185584:node.py:get()- No need to evaluate\n"
     ]
    },
    {
     "name": "stderr",
     "output_type": "stream",
     "text": [
      "INFO\tTask(Task-2) nodify.node.139849830174448:node.py:get()- No need to evaluate\n"
     ]
    },
    {
     "name": "stderr",
     "output_type": "stream",
     "text": [
      "INFO\tTask(Task-2) nodify.node.139849830174832:node.py:get()- No need to evaluate\n"
     ]
    },
    {
     "name": "stderr",
     "output_type": "stream",
     "text": [
      "INFO\tTask(Task-2) nodify.node.139849830175648:node.py:get()- No need to evaluate\n"
     ]
    },
    {
     "name": "stderr",
     "output_type": "stream",
     "text": [
      "INFO\tTask(Task-2) nodify.node.139849830175024:node.py:get()- No need to evaluate\n"
     ]
    },
    {
     "name": "stderr",
     "output_type": "stream",
     "text": [
      "INFO\tTask(Task-2) nodify.node.139849830182608:node.py:get()- No need to evaluate\n"
     ]
    },
    {
     "name": "stderr",
     "output_type": "stream",
     "text": [
      "INFO\tTask(Task-2) nodify.node.139849830174448:node.py:get()- No need to evaluate\n"
     ]
    },
    {
     "name": "stderr",
     "output_type": "stream",
     "text": [
      "INFO\tTask(Task-2) nodify.node.139849830176080:node.py:get()- No need to evaluate\n"
     ]
    },
    {
     "name": "stderr",
     "output_type": "stream",
     "text": [
      "INFO\tTask(Task-2) nodify.node.139849830182128:node.py:get()- No need to evaluate\n"
     ]
    },
    {
     "name": "stderr",
     "output_type": "stream",
     "text": [
      "INFO\tTask(Task-2) nodify.node.139849830174448:node.py:get()- No need to evaluate\n"
     ]
    },
    {
     "name": "stderr",
     "output_type": "stream",
     "text": [
      "INFO\tTask(Task-2) nodify.node.139849830182704:node.py:get()- No need to evaluate\n"
     ]
    },
    {
     "name": "stderr",
     "output_type": "stream",
     "text": [
      "INFO\tTask(Task-2) nodify.node.139849830180064:node.py:get()- No need to evaluate\n"
     ]
    },
    {
     "name": "stderr",
     "output_type": "stream",
     "text": [
      "INFO\tTask(Task-2) nodify.node.139849830179680:node.py:get()- No need to evaluate\n"
     ]
    },
    {
     "name": "stderr",
     "output_type": "stream",
     "text": [
      "INFO\tTask(Task-2) nodify.node.139849830182416:node.py:get()- No need to evaluate\n"
     ]
    },
    {
     "name": "stderr",
     "output_type": "stream",
     "text": [
      "INFO\tTask(Task-2) nodify.node.139849831356208:node.py:get()- Evaluated because inputs changed.\n"
     ]
    },
    {
     "name": "stderr",
     "output_type": "stream",
     "text": [
      "INFO\tTask(Task-2) nodify.node.139849830186064:node.py:get()- Evaluated because inputs changed.\n"
     ]
    },
    {
     "name": "stderr",
     "output_type": "stream",
     "text": [
      "INFO\tTask(Task-2) nodify.node.139849830186544:node.py:get()- Evaluated because inputs changed.\n"
     ]
    },
    {
     "data": {
      "application/vnd.plotly.v1+json": {
       "config": {
        "plotlyServerURL": "https://plot.ly"
       },
       "data": [
        {
         "coloraxis": "coloraxis",
         "meta": {},
         "opacity": 1,
         "type": "heatmap",
         "z": {
          "bdata": "7MfmIeDi0r9KfjQdWnDRv7gTXr5BXrK/djWLuS+i37+inz7iSAjfPwAAAAAAAPh/AAAAAAAA+H8AAAAAAAD4fwAAAAAAAPh/80RmK2IhpD8AAAAAAAD4fwAAAAAAAPh/AAAAAAAA+H8AAAAAAAD4fwAAAAAAAPh/Sn40HVpw0b8kg0LpUc3hv5bVvdGw0OM/+Af+SCOa17+qSV/mu2/oPwAAAAAAAPh/AAAAAAAA+H8AAAAAAAD4fwAAAAAAAPh/YP12GdOYaz8AAAAAAAD4fwAAAAAAAPh/AAAAAAAA+H8AAAAAAAD4fwAAAAAAAPh/uBNevkFesr+W1b3RsNDjP8CLnA9VMdy/Ir2d2ruv0L+GzoLWKlbSvwAAAAAAAPh/AAAAAAAA+H8AAAAAAAD4fwAAAAAAAPh/LdoHaGxxrr8AAAAAAAD4fwAAAAAAAPh/AAAAAAAA+H8AAAAAAAD4fwAAAAAAAPh/djWLuS+i37/4B/5II5rXvyK9ndq7r9C/omVng5o75b+OyZyCv/zrvwAAAAAAAPh/AAAAAAAA+H8AAAAAAAD4fwAAAAAAAPh/1PdYEXOis78AAAAAAAD4fwAAAAAAAPh/AAAAAAAA+H8AAAAAAAD4fwAAAAAAAPh/op8+4kgI3z+qSV/mu2/oP4bOgtYqVtK/jsmcgr/867+IazCxoEPevwAAAAAAAPh/AAAAAAAA+H8AAAAAAAD4fwAAAAAAAPh/AAAAAAAA+H/zRGYrYiGkP2D9dhnTmGs/LdoHaGxxrr/U91gRc6KzvwAAAAAAAPh/",
          "dtype": "f8",
          "shape": "5, 15"
         },
         "zsmooth": false
        }
       ],
       "layout": {
        "coloraxis": {
         "cmax": 1,
         "cmid": 0.5,
         "cmin": -4,
         "colorscale": [
          [
           0.0,
           "rgb(0, 147, 146)"
          ],
          [
           0.16666666666666666,
           "rgb(57, 177, 133)"
          ],
          [
           0.3333333333333333,
           "rgb(156, 203, 134)"
          ],
          [
           0.5,
           "rgb(233, 226, 156)"
          ],
          [
           0.6666666666666666,
           "rgb(238, 180, 121)"
          ],
          [
           0.8333333333333334,
           "rgb(232, 132, 113)"
          ],
          [
           1.0,
           "rgb(207, 89, 126)"
          ]
         ],
         "showscale": true
        },
        "scene": {
         "aspectmode": "data",
         "xaxis": {
          "range": [
           -0.5,
           14.5
          ]
         },
         "yaxis": {
          "range": [
           4.5,
           -0.5
          ]
         }
        },
        "template": {
         "layout": {
          "hovermode": "closest",
          "paper_bgcolor": "white",
          "plot_bgcolor": "white",
          "scene": {
           "xaxis": {
            "color": "black",
            "gridcolor": "#ccc",
            "gridwidth": 1,
            "linewidth": 1,
            "mirror": true,
            "showgrid": false,
            "showline": true,
            "ticklen": 5,
            "ticks": "outside",
            "ticksuffix": " ",
            "visible": true,
            "zeroline": false,
            "zerolinecolor": "#ccc",
            "zerolinewidth": 1
           },
           "yaxis": {
            "color": "black",
            "gridcolor": "#ccc",
            "gridwidth": 1,
            "linewidth": 1,
            "mirror": true,
            "showgrid": false,
            "showline": true,
            "ticklen": 5,
            "ticks": "outside",
            "ticksuffix": " ",
            "visible": true,
            "zeroline": false,
            "zerolinecolor": "#ccc",
            "zerolinewidth": 1
           },
           "zaxis": {
            "color": "black",
            "gridcolor": "#ccc",
            "gridwidth": 1,
            "linewidth": 1,
            "mirror": true,
            "showgrid": false,
            "showline": true,
            "ticklen": 5,
            "ticks": "outside",
            "ticksuffix": " ",
            "visible": true,
            "zeroline": false,
            "zerolinecolor": "#ccc",
            "zerolinewidth": 1
           }
          },
          "xaxis": {
           "color": "black",
           "gridcolor": "#ccc",
           "gridwidth": 1,
           "linewidth": 1,
           "mirror": true,
           "showgrid": false,
           "showline": true,
           "ticklen": 5,
           "ticks": "outside",
           "ticksuffix": " ",
           "visible": true,
           "zeroline": false,
           "zerolinecolor": "#ccc",
           "zerolinewidth": 1
          },
          "yaxis": {
           "color": "black",
           "gridcolor": "#ccc",
           "gridwidth": 1,
           "linewidth": 1,
           "mirror": true,
           "showgrid": false,
           "showline": true,
           "ticklen": 5,
           "ticks": "outside",
           "ticksuffix": " ",
           "visible": true,
           "zeroline": false,
           "zerolinecolor": "#ccc",
           "zerolinewidth": 1
          }
         }
        },
        "xaxis": {
         "constrain": "domain",
         "range": [
          -0.5,
          14.5
         ],
         "scaleanchor": "y",
         "scaleratio": 1
        },
        "yaxis": {
         "constrain": "domain",
         "range": [
          4.5,
          -0.5
         ]
        }
       }
      }
     },
     "metadata": {},
     "output_type": "display_data"
    }
   ],
   "source": [
    "plot.update_inputs(crange=(-4, 1))"
   ]
  },
  {
   "cell_type": "markdown",
   "metadata": {},
   "source": [
    "Notice how **`crange` takes precedence over `cmid`**. Now, to go back to the default range, just set both to `None`."
   ]
  },
  {
   "cell_type": "code",
   "execution_count": 7,
   "metadata": {
    "execution": {
     "iopub.execute_input": "2025-08-18T08:00:57.504793Z",
     "iopub.status.busy": "2025-08-18T08:00:57.504593Z",
     "iopub.status.idle": "2025-08-18T08:00:57.583891Z",
     "shell.execute_reply": "2025-08-18T08:00:57.583280Z"
    }
   },
   "outputs": [
    {
     "name": "stderr",
     "output_type": "stream",
     "text": [
      "INFO\tTask(Task-2) nodify.node.139849830180832:node.py:get()- No need to evaluate\n"
     ]
    },
    {
     "name": "stderr",
     "output_type": "stream",
     "text": [
      "INFO\tTask(Task-2) nodify.node.139849830174448:node.py:get()- No need to evaluate\n"
     ]
    },
    {
     "name": "stderr",
     "output_type": "stream",
     "text": [
      "INFO\tTask(Task-2) nodify.node.139849830174832:node.py:get()- No need to evaluate\n"
     ]
    },
    {
     "name": "stderr",
     "output_type": "stream",
     "text": [
      "INFO\tTask(Task-2) nodify.node.139849830175648:node.py:get()- No need to evaluate\n"
     ]
    },
    {
     "name": "stderr",
     "output_type": "stream",
     "text": [
      "INFO\tTask(Task-2) nodify.node.139849830175024:node.py:get()- No need to evaluate\n"
     ]
    },
    {
     "name": "stderr",
     "output_type": "stream",
     "text": [
      "INFO\tTask(Task-2) nodify.node.139849830182608:node.py:get()- No need to evaluate\n"
     ]
    },
    {
     "name": "stderr",
     "output_type": "stream",
     "text": [
      "INFO\tTask(Task-2) nodify.node.139849830177760:node.py:get()- No need to evaluate\n"
     ]
    },
    {
     "name": "stderr",
     "output_type": "stream",
     "text": [
      "INFO\tTask(Task-2) nodify.node.139849830178144:node.py:get()- Evaluated because inputs changed.\n"
     ]
    },
    {
     "name": "stderr",
     "output_type": "stream",
     "text": [
      "INFO\tTask(Task-2) nodify.node.139849830174448:node.py:get()- No need to evaluate\n"
     ]
    },
    {
     "name": "stderr",
     "output_type": "stream",
     "text": [
      "INFO\tTask(Task-2) nodify.node.139849830178528:node.py:get()- Evaluated because inputs changed.\n"
     ]
    },
    {
     "name": "stderr",
     "output_type": "stream",
     "text": [
      "INFO\tTask(Task-2) nodify.node.139849830178144:node.py:get()- No need to evaluate\n"
     ]
    },
    {
     "name": "stderr",
     "output_type": "stream",
     "text": [
      "INFO\tTask(Task-2) nodify.node.139849830183856:node.py:get()- Evaluated because inputs changed.\n"
     ]
    },
    {
     "name": "stderr",
     "output_type": "stream",
     "text": [
      "INFO\tTask(Task-2) nodify.node.139849830177376:node.py:get()- No need to evaluate\n"
     ]
    },
    {
     "name": "stderr",
     "output_type": "stream",
     "text": [
      "INFO\tTask(Task-2) nodify.node.139849830178912:node.py:get()- No need to evaluate\n"
     ]
    },
    {
     "name": "stderr",
     "output_type": "stream",
     "text": [
      "INFO\tTask(Task-2) nodify.node.139849830179296:node.py:get()- No need to evaluate\n"
     ]
    },
    {
     "name": "stderr",
     "output_type": "stream",
     "text": [
      "INFO\tTask(Task-2) nodify.node.139849830183760:node.py:get()- Evaluated because inputs changed.\n"
     ]
    },
    {
     "name": "stderr",
     "output_type": "stream",
     "text": [
      "INFO\tTask(Task-2) nodify.node.139849830174448:node.py:get()- No need to evaluate\n"
     ]
    },
    {
     "name": "stderr",
     "output_type": "stream",
     "text": [
      "INFO\tTask(Task-2) nodify.node.139849830174832:node.py:get()- No need to evaluate\n"
     ]
    },
    {
     "name": "stderr",
     "output_type": "stream",
     "text": [
      "INFO\tTask(Task-2) nodify.node.139849830175648:node.py:get()- No need to evaluate\n"
     ]
    },
    {
     "name": "stderr",
     "output_type": "stream",
     "text": [
      "INFO\tTask(Task-2) nodify.node.139849830175024:node.py:get()- No need to evaluate\n"
     ]
    },
    {
     "name": "stderr",
     "output_type": "stream",
     "text": [
      "INFO\tTask(Task-2) nodify.node.139849830182608:node.py:get()- No need to evaluate\n"
     ]
    },
    {
     "name": "stderr",
     "output_type": "stream",
     "text": [
      "INFO\tTask(Task-2) nodify.node.139849830180448:node.py:get()- No need to evaluate\n"
     ]
    },
    {
     "name": "stderr",
     "output_type": "stream",
     "text": [
      "INFO\tTask(Task-2) nodify.node.139849830184528:node.py:get()- No need to evaluate\n"
     ]
    },
    {
     "name": "stderr",
     "output_type": "stream",
     "text": [
      "INFO\tTask(Task-2) nodify.node.139849830183904:node.py:get()- No need to evaluate\n"
     ]
    },
    {
     "name": "stderr",
     "output_type": "stream",
     "text": [
      "INFO\tTask(Task-2) nodify.node.139849830176224:node.py:get()- No need to evaluate\n"
     ]
    },
    {
     "name": "stderr",
     "output_type": "stream",
     "text": [
      "INFO\tTask(Task-2) nodify.node.139849830174448:node.py:get()- No need to evaluate\n"
     ]
    },
    {
     "name": "stderr",
     "output_type": "stream",
     "text": [
      "INFO\tTask(Task-2) nodify.node.139849830176080:node.py:get()- No need to evaluate\n"
     ]
    },
    {
     "name": "stderr",
     "output_type": "stream",
     "text": [
      "INFO\tTask(Task-2) nodify.node.139849830182128:node.py:get()- No need to evaluate\n"
     ]
    },
    {
     "name": "stderr",
     "output_type": "stream",
     "text": [
      "INFO\tTask(Task-2) nodify.node.139849830174448:node.py:get()- No need to evaluate\n"
     ]
    },
    {
     "name": "stderr",
     "output_type": "stream",
     "text": [
      "INFO\tTask(Task-2) nodify.node.139849830182704:node.py:get()- No need to evaluate\n"
     ]
    },
    {
     "name": "stderr",
     "output_type": "stream",
     "text": [
      "INFO\tTask(Task-2) nodify.node.139849830184576:node.py:get()- No need to evaluate\n"
     ]
    },
    {
     "name": "stderr",
     "output_type": "stream",
     "text": [
      "INFO\tTask(Task-2) nodify.node.139849830176560:node.py:get()- No need to evaluate\n"
     ]
    },
    {
     "name": "stderr",
     "output_type": "stream",
     "text": [
      "INFO\tTask(Task-2) nodify.node.139849830174448:node.py:get()- No need to evaluate\n"
     ]
    },
    {
     "name": "stderr",
     "output_type": "stream",
     "text": [
      "INFO\tTask(Task-2) nodify.node.139849830176080:node.py:get()- No need to evaluate\n"
     ]
    },
    {
     "name": "stderr",
     "output_type": "stream",
     "text": [
      "INFO\tTask(Task-2) nodify.node.139849830182128:node.py:get()- No need to evaluate\n"
     ]
    },
    {
     "name": "stderr",
     "output_type": "stream",
     "text": [
      "INFO\tTask(Task-2) nodify.node.139849830174448:node.py:get()- No need to evaluate\n"
     ]
    },
    {
     "name": "stderr",
     "output_type": "stream",
     "text": [
      "INFO\tTask(Task-2) nodify.node.139849830182704:node.py:get()- No need to evaluate\n"
     ]
    },
    {
     "name": "stderr",
     "output_type": "stream",
     "text": [
      "INFO\tTask(Task-2) nodify.node.139849830185248:node.py:get()- No need to evaluate\n"
     ]
    },
    {
     "name": "stderr",
     "output_type": "stream",
     "text": [
      "INFO\tTask(Task-2) nodify.node.139849830176944:node.py:get()- No need to evaluate\n"
     ]
    },
    {
     "name": "stderr",
     "output_type": "stream",
     "text": [
      "INFO\tTask(Task-2) nodify.node.139849830174448:node.py:get()- No need to evaluate\n"
     ]
    },
    {
     "name": "stderr",
     "output_type": "stream",
     "text": [
      "INFO\tTask(Task-2) nodify.node.139849830176080:node.py:get()- No need to evaluate\n"
     ]
    },
    {
     "name": "stderr",
     "output_type": "stream",
     "text": [
      "INFO\tTask(Task-2) nodify.node.139849830182128:node.py:get()- No need to evaluate\n"
     ]
    },
    {
     "name": "stderr",
     "output_type": "stream",
     "text": [
      "INFO\tTask(Task-2) nodify.node.139849830174448:node.py:get()- No need to evaluate\n"
     ]
    },
    {
     "name": "stderr",
     "output_type": "stream",
     "text": [
      "INFO\tTask(Task-2) nodify.node.139849830182704:node.py:get()- No need to evaluate\n"
     ]
    },
    {
     "name": "stderr",
     "output_type": "stream",
     "text": [
      "INFO\tTask(Task-2) nodify.node.139849830185584:node.py:get()- No need to evaluate\n"
     ]
    },
    {
     "name": "stderr",
     "output_type": "stream",
     "text": [
      "INFO\tTask(Task-2) nodify.node.139849830174448:node.py:get()- No need to evaluate\n"
     ]
    },
    {
     "name": "stderr",
     "output_type": "stream",
     "text": [
      "INFO\tTask(Task-2) nodify.node.139849830174832:node.py:get()- No need to evaluate\n"
     ]
    },
    {
     "name": "stderr",
     "output_type": "stream",
     "text": [
      "INFO\tTask(Task-2) nodify.node.139849830175648:node.py:get()- No need to evaluate\n"
     ]
    },
    {
     "name": "stderr",
     "output_type": "stream",
     "text": [
      "INFO\tTask(Task-2) nodify.node.139849830175024:node.py:get()- No need to evaluate\n"
     ]
    },
    {
     "name": "stderr",
     "output_type": "stream",
     "text": [
      "INFO\tTask(Task-2) nodify.node.139849830182608:node.py:get()- No need to evaluate\n"
     ]
    },
    {
     "name": "stderr",
     "output_type": "stream",
     "text": [
      "INFO\tTask(Task-2) nodify.node.139849830174448:node.py:get()- No need to evaluate\n"
     ]
    },
    {
     "name": "stderr",
     "output_type": "stream",
     "text": [
      "INFO\tTask(Task-2) nodify.node.139849830176080:node.py:get()- No need to evaluate\n"
     ]
    },
    {
     "name": "stderr",
     "output_type": "stream",
     "text": [
      "INFO\tTask(Task-2) nodify.node.139849830182128:node.py:get()- No need to evaluate\n"
     ]
    },
    {
     "name": "stderr",
     "output_type": "stream",
     "text": [
      "INFO\tTask(Task-2) nodify.node.139849830174448:node.py:get()- No need to evaluate\n"
     ]
    },
    {
     "name": "stderr",
     "output_type": "stream",
     "text": [
      "INFO\tTask(Task-2) nodify.node.139849830182704:node.py:get()- No need to evaluate\n"
     ]
    },
    {
     "name": "stderr",
     "output_type": "stream",
     "text": [
      "INFO\tTask(Task-2) nodify.node.139849830180064:node.py:get()- No need to evaluate\n"
     ]
    },
    {
     "name": "stderr",
     "output_type": "stream",
     "text": [
      "INFO\tTask(Task-2) nodify.node.139849830179680:node.py:get()- No need to evaluate\n"
     ]
    },
    {
     "name": "stderr",
     "output_type": "stream",
     "text": [
      "INFO\tTask(Task-2) nodify.node.139849830182416:node.py:get()- No need to evaluate\n"
     ]
    },
    {
     "name": "stderr",
     "output_type": "stream",
     "text": [
      "INFO\tTask(Task-2) nodify.node.139849831356208:node.py:get()- Evaluated because inputs changed.\n"
     ]
    },
    {
     "name": "stderr",
     "output_type": "stream",
     "text": [
      "INFO\tTask(Task-2) nodify.node.139849830186064:node.py:get()- Evaluated because inputs changed.\n"
     ]
    },
    {
     "name": "stderr",
     "output_type": "stream",
     "text": [
      "INFO\tTask(Task-2) nodify.node.139849830186544:node.py:get()- Evaluated because inputs changed.\n"
     ]
    },
    {
     "data": {
      "application/vnd.plotly.v1+json": {
       "config": {
        "plotlyServerURL": "https://plot.ly"
       },
       "data": [
        {
         "coloraxis": "coloraxis",
         "meta": {},
         "opacity": 1,
         "type": "heatmap",
         "z": {
          "bdata": "7MfmIeDi0r9KfjQdWnDRv7gTXr5BXrK/djWLuS+i37+inz7iSAjfPwAAAAAAAPh/AAAAAAAA+H8AAAAAAAD4fwAAAAAAAPh/80RmK2IhpD8AAAAAAAD4fwAAAAAAAPh/AAAAAAAA+H8AAAAAAAD4fwAAAAAAAPh/Sn40HVpw0b8kg0LpUc3hv5bVvdGw0OM/+Af+SCOa17+qSV/mu2/oPwAAAAAAAPh/AAAAAAAA+H8AAAAAAAD4fwAAAAAAAPh/YP12GdOYaz8AAAAAAAD4fwAAAAAAAPh/AAAAAAAA+H8AAAAAAAD4fwAAAAAAAPh/uBNevkFesr+W1b3RsNDjP8CLnA9VMdy/Ir2d2ruv0L+GzoLWKlbSvwAAAAAAAPh/AAAAAAAA+H8AAAAAAAD4fwAAAAAAAPh/LdoHaGxxrr8AAAAAAAD4fwAAAAAAAPh/AAAAAAAA+H8AAAAAAAD4fwAAAAAAAPh/djWLuS+i37/4B/5II5rXvyK9ndq7r9C/omVng5o75b+OyZyCv/zrvwAAAAAAAPh/AAAAAAAA+H8AAAAAAAD4fwAAAAAAAPh/1PdYEXOis78AAAAAAAD4fwAAAAAAAPh/AAAAAAAA+H8AAAAAAAD4fwAAAAAAAPh/op8+4kgI3z+qSV/mu2/oP4bOgtYqVtK/jsmcgr/867+IazCxoEPevwAAAAAAAPh/AAAAAAAA+H8AAAAAAAD4fwAAAAAAAPh/AAAAAAAA+H/zRGYrYiGkP2D9dhnTmGs/LdoHaGxxrr/U91gRc6KzvwAAAAAAAPh/",
          "dtype": "f8",
          "shape": "5, 15"
         },
         "zsmooth": false
        }
       ],
       "layout": {
        "coloraxis": {
         "cmid": 0,
         "colorscale": [
          [
           0.0,
           "rgb(0, 147, 146)"
          ],
          [
           0.16666666666666666,
           "rgb(57, 177, 133)"
          ],
          [
           0.3333333333333333,
           "rgb(156, 203, 134)"
          ],
          [
           0.5,
           "rgb(233, 226, 156)"
          ],
          [
           0.6666666666666666,
           "rgb(238, 180, 121)"
          ],
          [
           0.8333333333333334,
           "rgb(232, 132, 113)"
          ],
          [
           1.0,
           "rgb(207, 89, 126)"
          ]
         ],
         "showscale": true
        },
        "scene": {
         "aspectmode": "data",
         "xaxis": {
          "range": [
           -0.5,
           14.5
          ]
         },
         "yaxis": {
          "range": [
           4.5,
           -0.5
          ]
         }
        },
        "template": {
         "layout": {
          "hovermode": "closest",
          "paper_bgcolor": "white",
          "plot_bgcolor": "white",
          "scene": {
           "xaxis": {
            "color": "black",
            "gridcolor": "#ccc",
            "gridwidth": 1,
            "linewidth": 1,
            "mirror": true,
            "showgrid": false,
            "showline": true,
            "ticklen": 5,
            "ticks": "outside",
            "ticksuffix": " ",
            "visible": true,
            "zeroline": false,
            "zerolinecolor": "#ccc",
            "zerolinewidth": 1
           },
           "yaxis": {
            "color": "black",
            "gridcolor": "#ccc",
            "gridwidth": 1,
            "linewidth": 1,
            "mirror": true,
            "showgrid": false,
            "showline": true,
            "ticklen": 5,
            "ticks": "outside",
            "ticksuffix": " ",
            "visible": true,
            "zeroline": false,
            "zerolinecolor": "#ccc",
            "zerolinewidth": 1
           },
           "zaxis": {
            "color": "black",
            "gridcolor": "#ccc",
            "gridwidth": 1,
            "linewidth": 1,
            "mirror": true,
            "showgrid": false,
            "showline": true,
            "ticklen": 5,
            "ticks": "outside",
            "ticksuffix": " ",
            "visible": true,
            "zeroline": false,
            "zerolinecolor": "#ccc",
            "zerolinewidth": 1
           }
          },
          "xaxis": {
           "color": "black",
           "gridcolor": "#ccc",
           "gridwidth": 1,
           "linewidth": 1,
           "mirror": true,
           "showgrid": false,
           "showline": true,
           "ticklen": 5,
           "ticks": "outside",
           "ticksuffix": " ",
           "visible": true,
           "zeroline": false,
           "zerolinecolor": "#ccc",
           "zerolinewidth": 1
          },
          "yaxis": {
           "color": "black",
           "gridcolor": "#ccc",
           "gridwidth": 1,
           "linewidth": 1,
           "mirror": true,
           "showgrid": false,
           "showline": true,
           "ticklen": 5,
           "ticks": "outside",
           "ticksuffix": " ",
           "visible": true,
           "zeroline": false,
           "zerolinecolor": "#ccc",
           "zerolinewidth": 1
          }
         }
        },
        "xaxis": {
         "constrain": "domain",
         "range": [
          -0.5,
          14.5
         ],
         "scaleanchor": "y",
         "scaleratio": 1
        },
        "yaxis": {
         "constrain": "domain",
         "range": [
          4.5,
          -0.5
         ]
        }
       }
      }
     },
     "metadata": {},
     "output_type": "display_data"
    }
   ],
   "source": [
    "plot.update_inputs(crange=None, cmid=None)"
   ]
  },
  {
   "cell_type": "markdown",
   "metadata": {},
   "source": [
    "## Show values as text\n",
    "\n",
    "Colors are nice to give you a quick impression of the relative magnitude of the matrix elements. However, you might want to know the exact value. Although `plotly` shows them when you pass the mouse over the matrix elements, sometimes it might be more convenient to directly display them on top.\n",
    "\n",
    "To do this, you need to pass a formatting string to the `text` input. For example, to show two decimals:"
   ]
  },
  {
   "cell_type": "code",
   "execution_count": 8,
   "metadata": {
    "execution": {
     "iopub.execute_input": "2025-08-18T08:00:57.585660Z",
     "iopub.status.busy": "2025-08-18T08:00:57.585488Z",
     "iopub.status.idle": "2025-08-18T08:00:57.662436Z",
     "shell.execute_reply": "2025-08-18T08:00:57.661863Z"
    }
   },
   "outputs": [
    {
     "name": "stderr",
     "output_type": "stream",
     "text": [
      "INFO\tTask(Task-2) nodify.node.139849830180832:node.py:get()- No need to evaluate\n"
     ]
    },
    {
     "name": "stderr",
     "output_type": "stream",
     "text": [
      "INFO\tTask(Task-2) nodify.node.139849830174448:node.py:get()- No need to evaluate\n"
     ]
    },
    {
     "name": "stderr",
     "output_type": "stream",
     "text": [
      "INFO\tTask(Task-2) nodify.node.139849830174832:node.py:get()- No need to evaluate\n"
     ]
    },
    {
     "name": "stderr",
     "output_type": "stream",
     "text": [
      "INFO\tTask(Task-2) nodify.node.139849830175648:node.py:get()- No need to evaluate\n"
     ]
    },
    {
     "name": "stderr",
     "output_type": "stream",
     "text": [
      "INFO\tTask(Task-2) nodify.node.139849830175024:node.py:get()- No need to evaluate\n"
     ]
    },
    {
     "name": "stderr",
     "output_type": "stream",
     "text": [
      "INFO\tTask(Task-2) nodify.node.139849830182608:node.py:get()- No need to evaluate\n"
     ]
    },
    {
     "name": "stderr",
     "output_type": "stream",
     "text": [
      "INFO\tTask(Task-2) nodify.node.139849830177760:node.py:get()- No need to evaluate\n"
     ]
    },
    {
     "name": "stderr",
     "output_type": "stream",
     "text": [
      "INFO\tTask(Task-2) nodify.node.139849830178144:node.py:get()- No need to evaluate\n"
     ]
    },
    {
     "name": "stderr",
     "output_type": "stream",
     "text": [
      "INFO\tTask(Task-2) nodify.node.139849830174448:node.py:get()- No need to evaluate\n"
     ]
    },
    {
     "name": "stderr",
     "output_type": "stream",
     "text": [
      "INFO\tTask(Task-2) nodify.node.139849830178528:node.py:get()- No need to evaluate\n"
     ]
    },
    {
     "name": "stderr",
     "output_type": "stream",
     "text": [
      "INFO\tTask(Task-2) nodify.node.139849830178144:node.py:get()- No need to evaluate\n"
     ]
    },
    {
     "name": "stderr",
     "output_type": "stream",
     "text": [
      "INFO\tTask(Task-2) nodify.node.139849830183856:node.py:get()- No need to evaluate\n"
     ]
    },
    {
     "name": "stderr",
     "output_type": "stream",
     "text": [
      "INFO\tTask(Task-2) nodify.node.139849830177376:node.py:get()- No need to evaluate\n"
     ]
    },
    {
     "name": "stderr",
     "output_type": "stream",
     "text": [
      "INFO\tTask(Task-2) nodify.node.139849830178912:node.py:get()- Evaluated because inputs changed.\n"
     ]
    },
    {
     "name": "stderr",
     "output_type": "stream",
     "text": [
      "INFO\tTask(Task-2) nodify.node.139849830179296:node.py:get()- No need to evaluate\n"
     ]
    },
    {
     "name": "stderr",
     "output_type": "stream",
     "text": [
      "INFO\tTask(Task-2) nodify.node.139849830183760:node.py:get()- Evaluated because inputs changed.\n"
     ]
    },
    {
     "name": "stderr",
     "output_type": "stream",
     "text": [
      "INFO\tTask(Task-2) nodify.node.139849830174448:node.py:get()- No need to evaluate\n"
     ]
    },
    {
     "name": "stderr",
     "output_type": "stream",
     "text": [
      "INFO\tTask(Task-2) nodify.node.139849830174832:node.py:get()- No need to evaluate\n"
     ]
    },
    {
     "name": "stderr",
     "output_type": "stream",
     "text": [
      "INFO\tTask(Task-2) nodify.node.139849830175648:node.py:get()- No need to evaluate\n"
     ]
    },
    {
     "name": "stderr",
     "output_type": "stream",
     "text": [
      "INFO\tTask(Task-2) nodify.node.139849830175024:node.py:get()- No need to evaluate\n"
     ]
    },
    {
     "name": "stderr",
     "output_type": "stream",
     "text": [
      "INFO\tTask(Task-2) nodify.node.139849830182608:node.py:get()- No need to evaluate\n"
     ]
    },
    {
     "name": "stderr",
     "output_type": "stream",
     "text": [
      "INFO\tTask(Task-2) nodify.node.139849830180448:node.py:get()- No need to evaluate\n"
     ]
    },
    {
     "name": "stderr",
     "output_type": "stream",
     "text": [
      "INFO\tTask(Task-2) nodify.node.139849830184528:node.py:get()- No need to evaluate\n"
     ]
    },
    {
     "name": "stderr",
     "output_type": "stream",
     "text": [
      "INFO\tTask(Task-2) nodify.node.139849830183904:node.py:get()- No need to evaluate\n"
     ]
    },
    {
     "name": "stderr",
     "output_type": "stream",
     "text": [
      "INFO\tTask(Task-2) nodify.node.139849830176224:node.py:get()- No need to evaluate\n"
     ]
    },
    {
     "name": "stderr",
     "output_type": "stream",
     "text": [
      "INFO\tTask(Task-2) nodify.node.139849830174448:node.py:get()- No need to evaluate\n"
     ]
    },
    {
     "name": "stderr",
     "output_type": "stream",
     "text": [
      "INFO\tTask(Task-2) nodify.node.139849830176080:node.py:get()- No need to evaluate\n"
     ]
    },
    {
     "name": "stderr",
     "output_type": "stream",
     "text": [
      "INFO\tTask(Task-2) nodify.node.139849830182128:node.py:get()- No need to evaluate\n"
     ]
    },
    {
     "name": "stderr",
     "output_type": "stream",
     "text": [
      "INFO\tTask(Task-2) nodify.node.139849830174448:node.py:get()- No need to evaluate\n"
     ]
    },
    {
     "name": "stderr",
     "output_type": "stream",
     "text": [
      "INFO\tTask(Task-2) nodify.node.139849830182704:node.py:get()- No need to evaluate\n"
     ]
    },
    {
     "name": "stderr",
     "output_type": "stream",
     "text": [
      "INFO\tTask(Task-2) nodify.node.139849830184576:node.py:get()- No need to evaluate\n"
     ]
    },
    {
     "name": "stderr",
     "output_type": "stream",
     "text": [
      "INFO\tTask(Task-2) nodify.node.139849830176560:node.py:get()- No need to evaluate\n"
     ]
    },
    {
     "name": "stderr",
     "output_type": "stream",
     "text": [
      "INFO\tTask(Task-2) nodify.node.139849830174448:node.py:get()- No need to evaluate\n"
     ]
    },
    {
     "name": "stderr",
     "output_type": "stream",
     "text": [
      "INFO\tTask(Task-2) nodify.node.139849830176080:node.py:get()- No need to evaluate\n"
     ]
    },
    {
     "name": "stderr",
     "output_type": "stream",
     "text": [
      "INFO\tTask(Task-2) nodify.node.139849830182128:node.py:get()- No need to evaluate\n"
     ]
    },
    {
     "name": "stderr",
     "output_type": "stream",
     "text": [
      "INFO\tTask(Task-2) nodify.node.139849830174448:node.py:get()- No need to evaluate\n"
     ]
    },
    {
     "name": "stderr",
     "output_type": "stream",
     "text": [
      "INFO\tTask(Task-2) nodify.node.139849830182704:node.py:get()- No need to evaluate\n"
     ]
    },
    {
     "name": "stderr",
     "output_type": "stream",
     "text": [
      "INFO\tTask(Task-2) nodify.node.139849830185248:node.py:get()- No need to evaluate\n"
     ]
    },
    {
     "name": "stderr",
     "output_type": "stream",
     "text": [
      "INFO\tTask(Task-2) nodify.node.139849830176944:node.py:get()- No need to evaluate\n"
     ]
    },
    {
     "name": "stderr",
     "output_type": "stream",
     "text": [
      "INFO\tTask(Task-2) nodify.node.139849830174448:node.py:get()- No need to evaluate\n"
     ]
    },
    {
     "name": "stderr",
     "output_type": "stream",
     "text": [
      "INFO\tTask(Task-2) nodify.node.139849830176080:node.py:get()- No need to evaluate\n"
     ]
    },
    {
     "name": "stderr",
     "output_type": "stream",
     "text": [
      "INFO\tTask(Task-2) nodify.node.139849830182128:node.py:get()- No need to evaluate\n"
     ]
    },
    {
     "name": "stderr",
     "output_type": "stream",
     "text": [
      "INFO\tTask(Task-2) nodify.node.139849830174448:node.py:get()- No need to evaluate\n"
     ]
    },
    {
     "name": "stderr",
     "output_type": "stream",
     "text": [
      "INFO\tTask(Task-2) nodify.node.139849830182704:node.py:get()- No need to evaluate\n"
     ]
    },
    {
     "name": "stderr",
     "output_type": "stream",
     "text": [
      "INFO\tTask(Task-2) nodify.node.139849830185584:node.py:get()- No need to evaluate\n"
     ]
    },
    {
     "name": "stderr",
     "output_type": "stream",
     "text": [
      "INFO\tTask(Task-2) nodify.node.139849830174448:node.py:get()- No need to evaluate\n"
     ]
    },
    {
     "name": "stderr",
     "output_type": "stream",
     "text": [
      "INFO\tTask(Task-2) nodify.node.139849830174832:node.py:get()- No need to evaluate\n"
     ]
    },
    {
     "name": "stderr",
     "output_type": "stream",
     "text": [
      "INFO\tTask(Task-2) nodify.node.139849830175648:node.py:get()- No need to evaluate\n"
     ]
    },
    {
     "name": "stderr",
     "output_type": "stream",
     "text": [
      "INFO\tTask(Task-2) nodify.node.139849830175024:node.py:get()- No need to evaluate\n"
     ]
    },
    {
     "name": "stderr",
     "output_type": "stream",
     "text": [
      "INFO\tTask(Task-2) nodify.node.139849830182608:node.py:get()- No need to evaluate\n"
     ]
    },
    {
     "name": "stderr",
     "output_type": "stream",
     "text": [
      "INFO\tTask(Task-2) nodify.node.139849830174448:node.py:get()- No need to evaluate\n"
     ]
    },
    {
     "name": "stderr",
     "output_type": "stream",
     "text": [
      "INFO\tTask(Task-2) nodify.node.139849830176080:node.py:get()- No need to evaluate\n"
     ]
    },
    {
     "name": "stderr",
     "output_type": "stream",
     "text": [
      "INFO\tTask(Task-2) nodify.node.139849830182128:node.py:get()- No need to evaluate\n"
     ]
    },
    {
     "name": "stderr",
     "output_type": "stream",
     "text": [
      "INFO\tTask(Task-2) nodify.node.139849830174448:node.py:get()- No need to evaluate\n"
     ]
    },
    {
     "name": "stderr",
     "output_type": "stream",
     "text": [
      "INFO\tTask(Task-2) nodify.node.139849830182704:node.py:get()- No need to evaluate\n"
     ]
    },
    {
     "name": "stderr",
     "output_type": "stream",
     "text": [
      "INFO\tTask(Task-2) nodify.node.139849830180064:node.py:get()- No need to evaluate\n"
     ]
    },
    {
     "name": "stderr",
     "output_type": "stream",
     "text": [
      "INFO\tTask(Task-2) nodify.node.139849830179680:node.py:get()- No need to evaluate\n"
     ]
    },
    {
     "name": "stderr",
     "output_type": "stream",
     "text": [
      "INFO\tTask(Task-2) nodify.node.139849830182416:node.py:get()- No need to evaluate\n"
     ]
    },
    {
     "name": "stderr",
     "output_type": "stream",
     "text": [
      "INFO\tTask(Task-2) nodify.node.139849831356208:node.py:get()- Evaluated because inputs changed.\n"
     ]
    },
    {
     "name": "stderr",
     "output_type": "stream",
     "text": [
      "INFO\tTask(Task-2) nodify.node.139849830186064:node.py:get()- Evaluated because inputs changed.\n"
     ]
    },
    {
     "name": "stderr",
     "output_type": "stream",
     "text": [
      "INFO\tTask(Task-2) nodify.node.139849830186544:node.py:get()- Evaluated because inputs changed.\n"
     ]
    },
    {
     "data": {
      "application/vnd.plotly.v1+json": {
       "config": {
        "plotlyServerURL": "https://plot.ly"
       },
       "data": [
        {
         "coloraxis": "coloraxis",
         "meta": {},
         "opacity": 1,
         "texttemplate": "%{z:.2f}",
         "type": "heatmap",
         "z": {
          "bdata": "7MfmIeDi0r9KfjQdWnDRv7gTXr5BXrK/djWLuS+i37+inz7iSAjfPwAAAAAAAPh/AAAAAAAA+H8AAAAAAAD4fwAAAAAAAPh/80RmK2IhpD8AAAAAAAD4fwAAAAAAAPh/AAAAAAAA+H8AAAAAAAD4fwAAAAAAAPh/Sn40HVpw0b8kg0LpUc3hv5bVvdGw0OM/+Af+SCOa17+qSV/mu2/oPwAAAAAAAPh/AAAAAAAA+H8AAAAAAAD4fwAAAAAAAPh/YP12GdOYaz8AAAAAAAD4fwAAAAAAAPh/AAAAAAAA+H8AAAAAAAD4fwAAAAAAAPh/uBNevkFesr+W1b3RsNDjP8CLnA9VMdy/Ir2d2ruv0L+GzoLWKlbSvwAAAAAAAPh/AAAAAAAA+H8AAAAAAAD4fwAAAAAAAPh/LdoHaGxxrr8AAAAAAAD4fwAAAAAAAPh/AAAAAAAA+H8AAAAAAAD4fwAAAAAAAPh/djWLuS+i37/4B/5II5rXvyK9ndq7r9C/omVng5o75b+OyZyCv/zrvwAAAAAAAPh/AAAAAAAA+H8AAAAAAAD4fwAAAAAAAPh/1PdYEXOis78AAAAAAAD4fwAAAAAAAPh/AAAAAAAA+H8AAAAAAAD4fwAAAAAAAPh/op8+4kgI3z+qSV/mu2/oP4bOgtYqVtK/jsmcgr/867+IazCxoEPevwAAAAAAAPh/AAAAAAAA+H8AAAAAAAD4fwAAAAAAAPh/AAAAAAAA+H/zRGYrYiGkP2D9dhnTmGs/LdoHaGxxrr/U91gRc6KzvwAAAAAAAPh/",
          "dtype": "f8",
          "shape": "5, 15"
         },
         "zsmooth": false
        }
       ],
       "layout": {
        "coloraxis": {
         "cmid": 0,
         "colorscale": [
          [
           0.0,
           "rgb(0, 147, 146)"
          ],
          [
           0.16666666666666666,
           "rgb(57, 177, 133)"
          ],
          [
           0.3333333333333333,
           "rgb(156, 203, 134)"
          ],
          [
           0.5,
           "rgb(233, 226, 156)"
          ],
          [
           0.6666666666666666,
           "rgb(238, 180, 121)"
          ],
          [
           0.8333333333333334,
           "rgb(232, 132, 113)"
          ],
          [
           1.0,
           "rgb(207, 89, 126)"
          ]
         ],
         "showscale": true
        },
        "scene": {
         "aspectmode": "data",
         "xaxis": {
          "range": [
           -0.5,
           14.5
          ]
         },
         "yaxis": {
          "range": [
           4.5,
           -0.5
          ]
         }
        },
        "template": {
         "layout": {
          "hovermode": "closest",
          "paper_bgcolor": "white",
          "plot_bgcolor": "white",
          "scene": {
           "xaxis": {
            "color": "black",
            "gridcolor": "#ccc",
            "gridwidth": 1,
            "linewidth": 1,
            "mirror": true,
            "showgrid": false,
            "showline": true,
            "ticklen": 5,
            "ticks": "outside",
            "ticksuffix": " ",
            "visible": true,
            "zeroline": false,
            "zerolinecolor": "#ccc",
            "zerolinewidth": 1
           },
           "yaxis": {
            "color": "black",
            "gridcolor": "#ccc",
            "gridwidth": 1,
            "linewidth": 1,
            "mirror": true,
            "showgrid": false,
            "showline": true,
            "ticklen": 5,
            "ticks": "outside",
            "ticksuffix": " ",
            "visible": true,
            "zeroline": false,
            "zerolinecolor": "#ccc",
            "zerolinewidth": 1
           },
           "zaxis": {
            "color": "black",
            "gridcolor": "#ccc",
            "gridwidth": 1,
            "linewidth": 1,
            "mirror": true,
            "showgrid": false,
            "showline": true,
            "ticklen": 5,
            "ticks": "outside",
            "ticksuffix": " ",
            "visible": true,
            "zeroline": false,
            "zerolinecolor": "#ccc",
            "zerolinewidth": 1
           }
          },
          "xaxis": {
           "color": "black",
           "gridcolor": "#ccc",
           "gridwidth": 1,
           "linewidth": 1,
           "mirror": true,
           "showgrid": false,
           "showline": true,
           "ticklen": 5,
           "ticks": "outside",
           "ticksuffix": " ",
           "visible": true,
           "zeroline": false,
           "zerolinecolor": "#ccc",
           "zerolinewidth": 1
          },
          "yaxis": {
           "color": "black",
           "gridcolor": "#ccc",
           "gridwidth": 1,
           "linewidth": 1,
           "mirror": true,
           "showgrid": false,
           "showline": true,
           "ticklen": 5,
           "ticks": "outside",
           "ticksuffix": " ",
           "visible": true,
           "zeroline": false,
           "zerolinecolor": "#ccc",
           "zerolinewidth": 1
          }
         }
        },
        "xaxis": {
         "constrain": "domain",
         "range": [
          -0.5,
          14.5
         ],
         "scaleanchor": "y",
         "scaleratio": 1
        },
        "yaxis": {
         "constrain": "domain",
         "range": [
          4.5,
          -0.5
         ]
        }
       }
      }
     },
     "metadata": {},
     "output_type": "display_data"
    }
   ],
   "source": [
    "plot.update_inputs(text=\".2f\")"
   ]
  },
  {
   "cell_type": "markdown",
   "metadata": {},
   "source": [
    "You can tweak the style of text with the `textfont` input, which is a dictionary with three (optional) keys:\n",
    "\n",
    "- `color`: Text color.\n",
    "- `family`: Font family for the text. Note that different backends might support different fonts.\n",
    "- `size`: The size of the font.\n",
    "\n",
    "The default value will be used for any key that you don't include in the dictionary."
   ]
  },
  {
   "cell_type": "code",
   "execution_count": 9,
   "metadata": {
    "execution": {
     "iopub.execute_input": "2025-08-18T08:00:57.664250Z",
     "iopub.status.busy": "2025-08-18T08:00:57.664072Z",
     "iopub.status.idle": "2025-08-18T08:00:57.744862Z",
     "shell.execute_reply": "2025-08-18T08:00:57.744383Z"
    }
   },
   "outputs": [
    {
     "name": "stderr",
     "output_type": "stream",
     "text": [
      "INFO\tTask(Task-2) nodify.node.139849830180832:node.py:get()- No need to evaluate\n"
     ]
    },
    {
     "name": "stderr",
     "output_type": "stream",
     "text": [
      "INFO\tTask(Task-2) nodify.node.139849830174448:node.py:get()- No need to evaluate\n"
     ]
    },
    {
     "name": "stderr",
     "output_type": "stream",
     "text": [
      "INFO\tTask(Task-2) nodify.node.139849830174832:node.py:get()- No need to evaluate\n"
     ]
    },
    {
     "name": "stderr",
     "output_type": "stream",
     "text": [
      "INFO\tTask(Task-2) nodify.node.139849830175648:node.py:get()- No need to evaluate\n"
     ]
    },
    {
     "name": "stderr",
     "output_type": "stream",
     "text": [
      "INFO\tTask(Task-2) nodify.node.139849830175024:node.py:get()- No need to evaluate\n"
     ]
    },
    {
     "name": "stderr",
     "output_type": "stream",
     "text": [
      "INFO\tTask(Task-2) nodify.node.139849830182608:node.py:get()- No need to evaluate\n"
     ]
    },
    {
     "name": "stderr",
     "output_type": "stream",
     "text": [
      "INFO\tTask(Task-2) nodify.node.139849830177760:node.py:get()- No need to evaluate\n"
     ]
    },
    {
     "name": "stderr",
     "output_type": "stream",
     "text": [
      "INFO\tTask(Task-2) nodify.node.139849830178144:node.py:get()- No need to evaluate\n"
     ]
    },
    {
     "name": "stderr",
     "output_type": "stream",
     "text": [
      "INFO\tTask(Task-2) nodify.node.139849830174448:node.py:get()- No need to evaluate\n"
     ]
    },
    {
     "name": "stderr",
     "output_type": "stream",
     "text": [
      "INFO\tTask(Task-2) nodify.node.139849830178528:node.py:get()- No need to evaluate\n"
     ]
    },
    {
     "name": "stderr",
     "output_type": "stream",
     "text": [
      "INFO\tTask(Task-2) nodify.node.139849830178144:node.py:get()- No need to evaluate\n"
     ]
    },
    {
     "name": "stderr",
     "output_type": "stream",
     "text": [
      "INFO\tTask(Task-2) nodify.node.139849830183856:node.py:get()- No need to evaluate\n"
     ]
    },
    {
     "name": "stderr",
     "output_type": "stream",
     "text": [
      "INFO\tTask(Task-2) nodify.node.139849830177376:node.py:get()- No need to evaluate\n"
     ]
    },
    {
     "name": "stderr",
     "output_type": "stream",
     "text": [
      "INFO\tTask(Task-2) nodify.node.139849830178912:node.py:get()- No need to evaluate\n"
     ]
    },
    {
     "name": "stderr",
     "output_type": "stream",
     "text": [
      "INFO\tTask(Task-2) nodify.node.139849830179296:node.py:get()- Evaluated because inputs changed.\n"
     ]
    },
    {
     "name": "stderr",
     "output_type": "stream",
     "text": [
      "INFO\tTask(Task-2) nodify.node.139849830183760:node.py:get()- Evaluated because inputs changed.\n"
     ]
    },
    {
     "name": "stderr",
     "output_type": "stream",
     "text": [
      "INFO\tTask(Task-2) nodify.node.139849830174448:node.py:get()- No need to evaluate\n"
     ]
    },
    {
     "name": "stderr",
     "output_type": "stream",
     "text": [
      "INFO\tTask(Task-2) nodify.node.139849830174832:node.py:get()- No need to evaluate\n"
     ]
    },
    {
     "name": "stderr",
     "output_type": "stream",
     "text": [
      "INFO\tTask(Task-2) nodify.node.139849830175648:node.py:get()- No need to evaluate\n"
     ]
    },
    {
     "name": "stderr",
     "output_type": "stream",
     "text": [
      "INFO\tTask(Task-2) nodify.node.139849830175024:node.py:get()- No need to evaluate\n"
     ]
    },
    {
     "name": "stderr",
     "output_type": "stream",
     "text": [
      "INFO\tTask(Task-2) nodify.node.139849830182608:node.py:get()- No need to evaluate\n"
     ]
    },
    {
     "name": "stderr",
     "output_type": "stream",
     "text": [
      "INFO\tTask(Task-2) nodify.node.139849830180448:node.py:get()- No need to evaluate\n"
     ]
    },
    {
     "name": "stderr",
     "output_type": "stream",
     "text": [
      "INFO\tTask(Task-2) nodify.node.139849830184528:node.py:get()- No need to evaluate\n"
     ]
    },
    {
     "name": "stderr",
     "output_type": "stream",
     "text": [
      "INFO\tTask(Task-2) nodify.node.139849830183904:node.py:get()- No need to evaluate\n"
     ]
    },
    {
     "name": "stderr",
     "output_type": "stream",
     "text": [
      "INFO\tTask(Task-2) nodify.node.139849830176224:node.py:get()- No need to evaluate\n"
     ]
    },
    {
     "name": "stderr",
     "output_type": "stream",
     "text": [
      "INFO\tTask(Task-2) nodify.node.139849830174448:node.py:get()- No need to evaluate\n"
     ]
    },
    {
     "name": "stderr",
     "output_type": "stream",
     "text": [
      "INFO\tTask(Task-2) nodify.node.139849830176080:node.py:get()- No need to evaluate\n"
     ]
    },
    {
     "name": "stderr",
     "output_type": "stream",
     "text": [
      "INFO\tTask(Task-2) nodify.node.139849830182128:node.py:get()- No need to evaluate\n"
     ]
    },
    {
     "name": "stderr",
     "output_type": "stream",
     "text": [
      "INFO\tTask(Task-2) nodify.node.139849830174448:node.py:get()- No need to evaluate\n"
     ]
    },
    {
     "name": "stderr",
     "output_type": "stream",
     "text": [
      "INFO\tTask(Task-2) nodify.node.139849830182704:node.py:get()- No need to evaluate\n"
     ]
    },
    {
     "name": "stderr",
     "output_type": "stream",
     "text": [
      "INFO\tTask(Task-2) nodify.node.139849830184576:node.py:get()- No need to evaluate\n"
     ]
    },
    {
     "name": "stderr",
     "output_type": "stream",
     "text": [
      "INFO\tTask(Task-2) nodify.node.139849830176560:node.py:get()- No need to evaluate\n"
     ]
    },
    {
     "name": "stderr",
     "output_type": "stream",
     "text": [
      "INFO\tTask(Task-2) nodify.node.139849830174448:node.py:get()- No need to evaluate\n"
     ]
    },
    {
     "name": "stderr",
     "output_type": "stream",
     "text": [
      "INFO\tTask(Task-2) nodify.node.139849830176080:node.py:get()- No need to evaluate\n"
     ]
    },
    {
     "name": "stderr",
     "output_type": "stream",
     "text": [
      "INFO\tTask(Task-2) nodify.node.139849830182128:node.py:get()- No need to evaluate\n"
     ]
    },
    {
     "name": "stderr",
     "output_type": "stream",
     "text": [
      "INFO\tTask(Task-2) nodify.node.139849830174448:node.py:get()- No need to evaluate\n"
     ]
    },
    {
     "name": "stderr",
     "output_type": "stream",
     "text": [
      "INFO\tTask(Task-2) nodify.node.139849830182704:node.py:get()- No need to evaluate\n"
     ]
    },
    {
     "name": "stderr",
     "output_type": "stream",
     "text": [
      "INFO\tTask(Task-2) nodify.node.139849830185248:node.py:get()- No need to evaluate\n"
     ]
    },
    {
     "name": "stderr",
     "output_type": "stream",
     "text": [
      "INFO\tTask(Task-2) nodify.node.139849830176944:node.py:get()- No need to evaluate\n"
     ]
    },
    {
     "name": "stderr",
     "output_type": "stream",
     "text": [
      "INFO\tTask(Task-2) nodify.node.139849830174448:node.py:get()- No need to evaluate\n"
     ]
    },
    {
     "name": "stderr",
     "output_type": "stream",
     "text": [
      "INFO\tTask(Task-2) nodify.node.139849830176080:node.py:get()- No need to evaluate\n"
     ]
    },
    {
     "name": "stderr",
     "output_type": "stream",
     "text": [
      "INFO\tTask(Task-2) nodify.node.139849830182128:node.py:get()- No need to evaluate\n"
     ]
    },
    {
     "name": "stderr",
     "output_type": "stream",
     "text": [
      "INFO\tTask(Task-2) nodify.node.139849830174448:node.py:get()- No need to evaluate\n"
     ]
    },
    {
     "name": "stderr",
     "output_type": "stream",
     "text": [
      "INFO\tTask(Task-2) nodify.node.139849830182704:node.py:get()- No need to evaluate\n"
     ]
    },
    {
     "name": "stderr",
     "output_type": "stream",
     "text": [
      "INFO\tTask(Task-2) nodify.node.139849830185584:node.py:get()- No need to evaluate\n"
     ]
    },
    {
     "name": "stderr",
     "output_type": "stream",
     "text": [
      "INFO\tTask(Task-2) nodify.node.139849830174448:node.py:get()- No need to evaluate\n"
     ]
    },
    {
     "name": "stderr",
     "output_type": "stream",
     "text": [
      "INFO\tTask(Task-2) nodify.node.139849830174832:node.py:get()- No need to evaluate\n"
     ]
    },
    {
     "name": "stderr",
     "output_type": "stream",
     "text": [
      "INFO\tTask(Task-2) nodify.node.139849830175648:node.py:get()- No need to evaluate\n"
     ]
    },
    {
     "name": "stderr",
     "output_type": "stream",
     "text": [
      "INFO\tTask(Task-2) nodify.node.139849830175024:node.py:get()- No need to evaluate\n"
     ]
    },
    {
     "name": "stderr",
     "output_type": "stream",
     "text": [
      "INFO\tTask(Task-2) nodify.node.139849830182608:node.py:get()- No need to evaluate\n"
     ]
    },
    {
     "name": "stderr",
     "output_type": "stream",
     "text": [
      "INFO\tTask(Task-2) nodify.node.139849830174448:node.py:get()- No need to evaluate\n"
     ]
    },
    {
     "name": "stderr",
     "output_type": "stream",
     "text": [
      "INFO\tTask(Task-2) nodify.node.139849830176080:node.py:get()- No need to evaluate\n"
     ]
    },
    {
     "name": "stderr",
     "output_type": "stream",
     "text": [
      "INFO\tTask(Task-2) nodify.node.139849830182128:node.py:get()- No need to evaluate\n"
     ]
    },
    {
     "name": "stderr",
     "output_type": "stream",
     "text": [
      "INFO\tTask(Task-2) nodify.node.139849830174448:node.py:get()- No need to evaluate\n"
     ]
    },
    {
     "name": "stderr",
     "output_type": "stream",
     "text": [
      "INFO\tTask(Task-2) nodify.node.139849830182704:node.py:get()- No need to evaluate\n"
     ]
    },
    {
     "name": "stderr",
     "output_type": "stream",
     "text": [
      "INFO\tTask(Task-2) nodify.node.139849830180064:node.py:get()- No need to evaluate\n"
     ]
    },
    {
     "name": "stderr",
     "output_type": "stream",
     "text": [
      "INFO\tTask(Task-2) nodify.node.139849830179680:node.py:get()- No need to evaluate\n"
     ]
    },
    {
     "name": "stderr",
     "output_type": "stream",
     "text": [
      "INFO\tTask(Task-2) nodify.node.139849830182416:node.py:get()- No need to evaluate\n"
     ]
    },
    {
     "name": "stderr",
     "output_type": "stream",
     "text": [
      "INFO\tTask(Task-2) nodify.node.139849831356208:node.py:get()- Evaluated because inputs changed.\n"
     ]
    },
    {
     "name": "stderr",
     "output_type": "stream",
     "text": [
      "INFO\tTask(Task-2) nodify.node.139849830186064:node.py:get()- Evaluated because inputs changed.\n"
     ]
    },
    {
     "name": "stderr",
     "output_type": "stream",
     "text": [
      "INFO\tTask(Task-2) nodify.node.139849830186544:node.py:get()- Evaluated because inputs changed.\n"
     ]
    },
    {
     "data": {
      "application/vnd.plotly.v1+json": {
       "config": {
        "plotlyServerURL": "https://plot.ly"
       },
       "data": [
        {
         "coloraxis": "coloraxis",
         "meta": {},
         "opacity": 1,
         "text": [
          [
           "-0.30",
           "-0.27",
           "-0.07",
           "-0.49",
           "0.48",
           "",
           "",
           "",
           "",
           "0.04",
           "",
           "",
           "",
           "",
           ""
          ],
          [
           "-0.27",
           "-0.56",
           "0.62",
           "-0.37",
           "0.76",
           "",
           "",
           "",
           "",
           "0.00",
           "",
           "",
           "",
           "",
           ""
          ],
          [
           "-0.07",
           "0.62",
           "-0.44",
           "-0.26",
           "-0.29",
           "",
           "",
           "",
           "",
           "-0.06",
           "",
           "",
           "",
           "",
           ""
          ],
          [
           "-0.49",
           "-0.37",
           "-0.26",
           "-0.66",
           "-0.87",
           "",
           "",
           "",
           "",
           "-0.08",
           "",
           "",
           "",
           "",
           ""
          ],
          [
           "0.48",
           "0.76",
           "-0.29",
           "-0.87",
           "-0.47",
           "",
           "",
           "",
           "",
           "",
           "0.04",
           "0.00",
           "-0.06",
           "-0.08",
           ""
          ]
         ],
         "textfont": {
          "color": "blue",
          "family": "times",
          "size": 15
         },
         "texttemplate": "%{text}",
         "type": "heatmap",
         "z": {
          "bdata": "7MfmIeDi0r9KfjQdWnDRv7gTXr5BXrK/djWLuS+i37+inz7iSAjfPwAAAAAAAPh/AAAAAAAA+H8AAAAAAAD4fwAAAAAAAPh/80RmK2IhpD8AAAAAAAD4fwAAAAAAAPh/AAAAAAAA+H8AAAAAAAD4fwAAAAAAAPh/Sn40HVpw0b8kg0LpUc3hv5bVvdGw0OM/+Af+SCOa17+qSV/mu2/oPwAAAAAAAPh/AAAAAAAA+H8AAAAAAAD4fwAAAAAAAPh/YP12GdOYaz8AAAAAAAD4fwAAAAAAAPh/AAAAAAAA+H8AAAAAAAD4fwAAAAAAAPh/uBNevkFesr+W1b3RsNDjP8CLnA9VMdy/Ir2d2ruv0L+GzoLWKlbSvwAAAAAAAPh/AAAAAAAA+H8AAAAAAAD4fwAAAAAAAPh/LdoHaGxxrr8AAAAAAAD4fwAAAAAAAPh/AAAAAAAA+H8AAAAAAAD4fwAAAAAAAPh/djWLuS+i37/4B/5II5rXvyK9ndq7r9C/omVng5o75b+OyZyCv/zrvwAAAAAAAPh/AAAAAAAA+H8AAAAAAAD4fwAAAAAAAPh/1PdYEXOis78AAAAAAAD4fwAAAAAAAPh/AAAAAAAA+H8AAAAAAAD4fwAAAAAAAPh/op8+4kgI3z+qSV/mu2/oP4bOgtYqVtK/jsmcgr/867+IazCxoEPevwAAAAAAAPh/AAAAAAAA+H8AAAAAAAD4fwAAAAAAAPh/AAAAAAAA+H/zRGYrYiGkP2D9dhnTmGs/LdoHaGxxrr/U91gRc6KzvwAAAAAAAPh/",
          "dtype": "f8",
          "shape": "5, 15"
         },
         "zsmooth": false
        }
       ],
       "layout": {
        "coloraxis": {
         "cmid": 0,
         "colorscale": [
          [
           0.0,
           "rgb(0, 147, 146)"
          ],
          [
           0.16666666666666666,
           "rgb(57, 177, 133)"
          ],
          [
           0.3333333333333333,
           "rgb(156, 203, 134)"
          ],
          [
           0.5,
           "rgb(233, 226, 156)"
          ],
          [
           0.6666666666666666,
           "rgb(238, 180, 121)"
          ],
          [
           0.8333333333333334,
           "rgb(232, 132, 113)"
          ],
          [
           1.0,
           "rgb(207, 89, 126)"
          ]
         ],
         "showscale": true
        },
        "scene": {
         "aspectmode": "data",
         "xaxis": {
          "range": [
           -0.5,
           14.5
          ]
         },
         "yaxis": {
          "range": [
           4.5,
           -0.5
          ]
         }
        },
        "template": {
         "layout": {
          "hovermode": "closest",
          "paper_bgcolor": "white",
          "plot_bgcolor": "white",
          "scene": {
           "xaxis": {
            "color": "black",
            "gridcolor": "#ccc",
            "gridwidth": 1,
            "linewidth": 1,
            "mirror": true,
            "showgrid": false,
            "showline": true,
            "ticklen": 5,
            "ticks": "outside",
            "ticksuffix": " ",
            "visible": true,
            "zeroline": false,
            "zerolinecolor": "#ccc",
            "zerolinewidth": 1
           },
           "yaxis": {
            "color": "black",
            "gridcolor": "#ccc",
            "gridwidth": 1,
            "linewidth": 1,
            "mirror": true,
            "showgrid": false,
            "showline": true,
            "ticklen": 5,
            "ticks": "outside",
            "ticksuffix": " ",
            "visible": true,
            "zeroline": false,
            "zerolinecolor": "#ccc",
            "zerolinewidth": 1
           },
           "zaxis": {
            "color": "black",
            "gridcolor": "#ccc",
            "gridwidth": 1,
            "linewidth": 1,
            "mirror": true,
            "showgrid": false,
            "showline": true,
            "ticklen": 5,
            "ticks": "outside",
            "ticksuffix": " ",
            "visible": true,
            "zeroline": false,
            "zerolinecolor": "#ccc",
            "zerolinewidth": 1
           }
          },
          "xaxis": {
           "color": "black",
           "gridcolor": "#ccc",
           "gridwidth": 1,
           "linewidth": 1,
           "mirror": true,
           "showgrid": false,
           "showline": true,
           "ticklen": 5,
           "ticks": "outside",
           "ticksuffix": " ",
           "visible": true,
           "zeroline": false,
           "zerolinecolor": "#ccc",
           "zerolinewidth": 1
          },
          "yaxis": {
           "color": "black",
           "gridcolor": "#ccc",
           "gridwidth": 1,
           "linewidth": 1,
           "mirror": true,
           "showgrid": false,
           "showline": true,
           "ticklen": 5,
           "ticks": "outside",
           "ticksuffix": " ",
           "visible": true,
           "zeroline": false,
           "zerolinecolor": "#ccc",
           "zerolinewidth": 1
          }
         }
        },
        "xaxis": {
         "constrain": "domain",
         "range": [
          -0.5,
          14.5
         ],
         "scaleanchor": "y",
         "scaleratio": 1
        },
        "yaxis": {
         "constrain": "domain",
         "range": [
          4.5,
          -0.5
         ]
        }
       }
      }
     },
     "metadata": {},
     "output_type": "display_data"
    }
   ],
   "source": [
    "plot.update_inputs(textfont={\"color\": \"blue\", \"family\": \"times\", \"size\": 15})"
   ]
  },
  {
   "cell_type": "markdown",
   "metadata": {},
   "source": [
    "If you want the text to go away, set the `text` input to `None`:"
   ]
  },
  {
   "cell_type": "code",
   "execution_count": 10,
   "metadata": {
    "execution": {
     "iopub.execute_input": "2025-08-18T08:00:57.746553Z",
     "iopub.status.busy": "2025-08-18T08:00:57.746383Z",
     "iopub.status.idle": "2025-08-18T08:00:57.829328Z",
     "shell.execute_reply": "2025-08-18T08:00:57.828712Z"
    }
   },
   "outputs": [
    {
     "name": "stderr",
     "output_type": "stream",
     "text": [
      "INFO\tTask(Task-2) nodify.node.139849830180832:node.py:get()- No need to evaluate\n"
     ]
    },
    {
     "name": "stderr",
     "output_type": "stream",
     "text": [
      "INFO\tTask(Task-2) nodify.node.139849830174448:node.py:get()- No need to evaluate\n"
     ]
    },
    {
     "name": "stderr",
     "output_type": "stream",
     "text": [
      "INFO\tTask(Task-2) nodify.node.139849830174832:node.py:get()- No need to evaluate\n"
     ]
    },
    {
     "name": "stderr",
     "output_type": "stream",
     "text": [
      "INFO\tTask(Task-2) nodify.node.139849830175648:node.py:get()- No need to evaluate\n"
     ]
    },
    {
     "name": "stderr",
     "output_type": "stream",
     "text": [
      "INFO\tTask(Task-2) nodify.node.139849830175024:node.py:get()- No need to evaluate\n"
     ]
    },
    {
     "name": "stderr",
     "output_type": "stream",
     "text": [
      "INFO\tTask(Task-2) nodify.node.139849830182608:node.py:get()- No need to evaluate\n"
     ]
    },
    {
     "name": "stderr",
     "output_type": "stream",
     "text": [
      "INFO\tTask(Task-2) nodify.node.139849830177760:node.py:get()- No need to evaluate\n"
     ]
    },
    {
     "name": "stderr",
     "output_type": "stream",
     "text": [
      "INFO\tTask(Task-2) nodify.node.139849830178144:node.py:get()- No need to evaluate\n"
     ]
    },
    {
     "name": "stderr",
     "output_type": "stream",
     "text": [
      "INFO\tTask(Task-2) nodify.node.139849830174448:node.py:get()- No need to evaluate\n"
     ]
    },
    {
     "name": "stderr",
     "output_type": "stream",
     "text": [
      "INFO\tTask(Task-2) nodify.node.139849830178528:node.py:get()- No need to evaluate\n"
     ]
    },
    {
     "name": "stderr",
     "output_type": "stream",
     "text": [
      "INFO\tTask(Task-2) nodify.node.139849830178144:node.py:get()- No need to evaluate\n"
     ]
    },
    {
     "name": "stderr",
     "output_type": "stream",
     "text": [
      "INFO\tTask(Task-2) nodify.node.139849830183856:node.py:get()- No need to evaluate\n"
     ]
    },
    {
     "name": "stderr",
     "output_type": "stream",
     "text": [
      "INFO\tTask(Task-2) nodify.node.139849830177376:node.py:get()- No need to evaluate\n"
     ]
    },
    {
     "name": "stderr",
     "output_type": "stream",
     "text": [
      "INFO\tTask(Task-2) nodify.node.139849830178912:node.py:get()- Evaluated because inputs changed.\n"
     ]
    },
    {
     "name": "stderr",
     "output_type": "stream",
     "text": [
      "INFO\tTask(Task-2) nodify.node.139849830179296:node.py:get()- No need to evaluate\n"
     ]
    },
    {
     "name": "stderr",
     "output_type": "stream",
     "text": [
      "INFO\tTask(Task-2) nodify.node.139849830183760:node.py:get()- Evaluated because inputs changed.\n"
     ]
    },
    {
     "name": "stderr",
     "output_type": "stream",
     "text": [
      "INFO\tTask(Task-2) nodify.node.139849830174448:node.py:get()- No need to evaluate\n"
     ]
    },
    {
     "name": "stderr",
     "output_type": "stream",
     "text": [
      "INFO\tTask(Task-2) nodify.node.139849830174832:node.py:get()- No need to evaluate\n"
     ]
    },
    {
     "name": "stderr",
     "output_type": "stream",
     "text": [
      "INFO\tTask(Task-2) nodify.node.139849830175648:node.py:get()- No need to evaluate\n"
     ]
    },
    {
     "name": "stderr",
     "output_type": "stream",
     "text": [
      "INFO\tTask(Task-2) nodify.node.139849830175024:node.py:get()- No need to evaluate\n"
     ]
    },
    {
     "name": "stderr",
     "output_type": "stream",
     "text": [
      "INFO\tTask(Task-2) nodify.node.139849830182608:node.py:get()- No need to evaluate\n"
     ]
    },
    {
     "name": "stderr",
     "output_type": "stream",
     "text": [
      "INFO\tTask(Task-2) nodify.node.139849830180448:node.py:get()- No need to evaluate\n"
     ]
    },
    {
     "name": "stderr",
     "output_type": "stream",
     "text": [
      "INFO\tTask(Task-2) nodify.node.139849830184528:node.py:get()- No need to evaluate\n"
     ]
    },
    {
     "name": "stderr",
     "output_type": "stream",
     "text": [
      "INFO\tTask(Task-2) nodify.node.139849830183904:node.py:get()- No need to evaluate\n"
     ]
    },
    {
     "name": "stderr",
     "output_type": "stream",
     "text": [
      "INFO\tTask(Task-2) nodify.node.139849830176224:node.py:get()- No need to evaluate\n"
     ]
    },
    {
     "name": "stderr",
     "output_type": "stream",
     "text": [
      "INFO\tTask(Task-2) nodify.node.139849830174448:node.py:get()- No need to evaluate\n"
     ]
    },
    {
     "name": "stderr",
     "output_type": "stream",
     "text": [
      "INFO\tTask(Task-2) nodify.node.139849830176080:node.py:get()- No need to evaluate\n"
     ]
    },
    {
     "name": "stderr",
     "output_type": "stream",
     "text": [
      "INFO\tTask(Task-2) nodify.node.139849830182128:node.py:get()- No need to evaluate\n"
     ]
    },
    {
     "name": "stderr",
     "output_type": "stream",
     "text": [
      "INFO\tTask(Task-2) nodify.node.139849830174448:node.py:get()- No need to evaluate\n"
     ]
    },
    {
     "name": "stderr",
     "output_type": "stream",
     "text": [
      "INFO\tTask(Task-2) nodify.node.139849830182704:node.py:get()- No need to evaluate\n"
     ]
    },
    {
     "name": "stderr",
     "output_type": "stream",
     "text": [
      "INFO\tTask(Task-2) nodify.node.139849830184576:node.py:get()- No need to evaluate\n"
     ]
    },
    {
     "name": "stderr",
     "output_type": "stream",
     "text": [
      "INFO\tTask(Task-2) nodify.node.139849830176560:node.py:get()- No need to evaluate\n"
     ]
    },
    {
     "name": "stderr",
     "output_type": "stream",
     "text": [
      "INFO\tTask(Task-2) nodify.node.139849830174448:node.py:get()- No need to evaluate\n"
     ]
    },
    {
     "name": "stderr",
     "output_type": "stream",
     "text": [
      "INFO\tTask(Task-2) nodify.node.139849830176080:node.py:get()- No need to evaluate\n"
     ]
    },
    {
     "name": "stderr",
     "output_type": "stream",
     "text": [
      "INFO\tTask(Task-2) nodify.node.139849830182128:node.py:get()- No need to evaluate\n"
     ]
    },
    {
     "name": "stderr",
     "output_type": "stream",
     "text": [
      "INFO\tTask(Task-2) nodify.node.139849830174448:node.py:get()- No need to evaluate\n"
     ]
    },
    {
     "name": "stderr",
     "output_type": "stream",
     "text": [
      "INFO\tTask(Task-2) nodify.node.139849830182704:node.py:get()- No need to evaluate\n"
     ]
    },
    {
     "name": "stderr",
     "output_type": "stream",
     "text": [
      "INFO\tTask(Task-2) nodify.node.139849830185248:node.py:get()- No need to evaluate\n"
     ]
    },
    {
     "name": "stderr",
     "output_type": "stream",
     "text": [
      "INFO\tTask(Task-2) nodify.node.139849830176944:node.py:get()- No need to evaluate\n"
     ]
    },
    {
     "name": "stderr",
     "output_type": "stream",
     "text": [
      "INFO\tTask(Task-2) nodify.node.139849830174448:node.py:get()- No need to evaluate\n"
     ]
    },
    {
     "name": "stderr",
     "output_type": "stream",
     "text": [
      "INFO\tTask(Task-2) nodify.node.139849830176080:node.py:get()- No need to evaluate\n"
     ]
    },
    {
     "name": "stderr",
     "output_type": "stream",
     "text": [
      "INFO\tTask(Task-2) nodify.node.139849830182128:node.py:get()- No need to evaluate\n"
     ]
    },
    {
     "name": "stderr",
     "output_type": "stream",
     "text": [
      "INFO\tTask(Task-2) nodify.node.139849830174448:node.py:get()- No need to evaluate\n"
     ]
    },
    {
     "name": "stderr",
     "output_type": "stream",
     "text": [
      "INFO\tTask(Task-2) nodify.node.139849830182704:node.py:get()- No need to evaluate\n"
     ]
    },
    {
     "name": "stderr",
     "output_type": "stream",
     "text": [
      "INFO\tTask(Task-2) nodify.node.139849830185584:node.py:get()- No need to evaluate\n"
     ]
    },
    {
     "name": "stderr",
     "output_type": "stream",
     "text": [
      "INFO\tTask(Task-2) nodify.node.139849830174448:node.py:get()- No need to evaluate\n"
     ]
    },
    {
     "name": "stderr",
     "output_type": "stream",
     "text": [
      "INFO\tTask(Task-2) nodify.node.139849830174832:node.py:get()- No need to evaluate\n"
     ]
    },
    {
     "name": "stderr",
     "output_type": "stream",
     "text": [
      "INFO\tTask(Task-2) nodify.node.139849830175648:node.py:get()- No need to evaluate\n"
     ]
    },
    {
     "name": "stderr",
     "output_type": "stream",
     "text": [
      "INFO\tTask(Task-2) nodify.node.139849830175024:node.py:get()- No need to evaluate\n"
     ]
    },
    {
     "name": "stderr",
     "output_type": "stream",
     "text": [
      "INFO\tTask(Task-2) nodify.node.139849830182608:node.py:get()- No need to evaluate\n"
     ]
    },
    {
     "name": "stderr",
     "output_type": "stream",
     "text": [
      "INFO\tTask(Task-2) nodify.node.139849830174448:node.py:get()- No need to evaluate\n"
     ]
    },
    {
     "name": "stderr",
     "output_type": "stream",
     "text": [
      "INFO\tTask(Task-2) nodify.node.139849830176080:node.py:get()- No need to evaluate\n"
     ]
    },
    {
     "name": "stderr",
     "output_type": "stream",
     "text": [
      "INFO\tTask(Task-2) nodify.node.139849830182128:node.py:get()- No need to evaluate\n"
     ]
    },
    {
     "name": "stderr",
     "output_type": "stream",
     "text": [
      "INFO\tTask(Task-2) nodify.node.139849830174448:node.py:get()- No need to evaluate\n"
     ]
    },
    {
     "name": "stderr",
     "output_type": "stream",
     "text": [
      "INFO\tTask(Task-2) nodify.node.139849830182704:node.py:get()- No need to evaluate\n"
     ]
    },
    {
     "name": "stderr",
     "output_type": "stream",
     "text": [
      "INFO\tTask(Task-2) nodify.node.139849830180064:node.py:get()- No need to evaluate\n"
     ]
    },
    {
     "name": "stderr",
     "output_type": "stream",
     "text": [
      "INFO\tTask(Task-2) nodify.node.139849830179680:node.py:get()- No need to evaluate\n"
     ]
    },
    {
     "name": "stderr",
     "output_type": "stream",
     "text": [
      "INFO\tTask(Task-2) nodify.node.139849830182416:node.py:get()- No need to evaluate\n"
     ]
    },
    {
     "name": "stderr",
     "output_type": "stream",
     "text": [
      "INFO\tTask(Task-2) nodify.node.139849831356208:node.py:get()- Evaluated because inputs changed.\n"
     ]
    },
    {
     "name": "stderr",
     "output_type": "stream",
     "text": [
      "INFO\tTask(Task-2) nodify.node.139849830186064:node.py:get()- Evaluated because inputs changed.\n"
     ]
    },
    {
     "name": "stderr",
     "output_type": "stream",
     "text": [
      "INFO\tTask(Task-2) nodify.node.139849830186544:node.py:get()- Evaluated because inputs changed.\n"
     ]
    },
    {
     "data": {
      "application/vnd.plotly.v1+json": {
       "config": {
        "plotlyServerURL": "https://plot.ly"
       },
       "data": [
        {
         "coloraxis": "coloraxis",
         "meta": {},
         "opacity": 1,
         "textfont": {
          "color": "blue",
          "family": "times",
          "size": 15
         },
         "type": "heatmap",
         "z": {
          "bdata": "7MfmIeDi0r9KfjQdWnDRv7gTXr5BXrK/djWLuS+i37+inz7iSAjfPwAAAAAAAPh/AAAAAAAA+H8AAAAAAAD4fwAAAAAAAPh/80RmK2IhpD8AAAAAAAD4fwAAAAAAAPh/AAAAAAAA+H8AAAAAAAD4fwAAAAAAAPh/Sn40HVpw0b8kg0LpUc3hv5bVvdGw0OM/+Af+SCOa17+qSV/mu2/oPwAAAAAAAPh/AAAAAAAA+H8AAAAAAAD4fwAAAAAAAPh/YP12GdOYaz8AAAAAAAD4fwAAAAAAAPh/AAAAAAAA+H8AAAAAAAD4fwAAAAAAAPh/uBNevkFesr+W1b3RsNDjP8CLnA9VMdy/Ir2d2ruv0L+GzoLWKlbSvwAAAAAAAPh/AAAAAAAA+H8AAAAAAAD4fwAAAAAAAPh/LdoHaGxxrr8AAAAAAAD4fwAAAAAAAPh/AAAAAAAA+H8AAAAAAAD4fwAAAAAAAPh/djWLuS+i37/4B/5II5rXvyK9ndq7r9C/omVng5o75b+OyZyCv/zrvwAAAAAAAPh/AAAAAAAA+H8AAAAAAAD4fwAAAAAAAPh/1PdYEXOis78AAAAAAAD4fwAAAAAAAPh/AAAAAAAA+H8AAAAAAAD4fwAAAAAAAPh/op8+4kgI3z+qSV/mu2/oP4bOgtYqVtK/jsmcgr/867+IazCxoEPevwAAAAAAAPh/AAAAAAAA+H8AAAAAAAD4fwAAAAAAAPh/AAAAAAAA+H/zRGYrYiGkP2D9dhnTmGs/LdoHaGxxrr/U91gRc6KzvwAAAAAAAPh/",
          "dtype": "f8",
          "shape": "5, 15"
         },
         "zsmooth": false
        }
       ],
       "layout": {
        "coloraxis": {
         "cmid": 0,
         "colorscale": [
          [
           0.0,
           "rgb(0, 147, 146)"
          ],
          [
           0.16666666666666666,
           "rgb(57, 177, 133)"
          ],
          [
           0.3333333333333333,
           "rgb(156, 203, 134)"
          ],
          [
           0.5,
           "rgb(233, 226, 156)"
          ],
          [
           0.6666666666666666,
           "rgb(238, 180, 121)"
          ],
          [
           0.8333333333333334,
           "rgb(232, 132, 113)"
          ],
          [
           1.0,
           "rgb(207, 89, 126)"
          ]
         ],
         "showscale": true
        },
        "scene": {
         "aspectmode": "data",
         "xaxis": {
          "range": [
           -0.5,
           14.5
          ]
         },
         "yaxis": {
          "range": [
           4.5,
           -0.5
          ]
         }
        },
        "template": {
         "layout": {
          "hovermode": "closest",
          "paper_bgcolor": "white",
          "plot_bgcolor": "white",
          "scene": {
           "xaxis": {
            "color": "black",
            "gridcolor": "#ccc",
            "gridwidth": 1,
            "linewidth": 1,
            "mirror": true,
            "showgrid": false,
            "showline": true,
            "ticklen": 5,
            "ticks": "outside",
            "ticksuffix": " ",
            "visible": true,
            "zeroline": false,
            "zerolinecolor": "#ccc",
            "zerolinewidth": 1
           },
           "yaxis": {
            "color": "black",
            "gridcolor": "#ccc",
            "gridwidth": 1,
            "linewidth": 1,
            "mirror": true,
            "showgrid": false,
            "showline": true,
            "ticklen": 5,
            "ticks": "outside",
            "ticksuffix": " ",
            "visible": true,
            "zeroline": false,
            "zerolinecolor": "#ccc",
            "zerolinewidth": 1
           },
           "zaxis": {
            "color": "black",
            "gridcolor": "#ccc",
            "gridwidth": 1,
            "linewidth": 1,
            "mirror": true,
            "showgrid": false,
            "showline": true,
            "ticklen": 5,
            "ticks": "outside",
            "ticksuffix": " ",
            "visible": true,
            "zeroline": false,
            "zerolinecolor": "#ccc",
            "zerolinewidth": 1
           }
          },
          "xaxis": {
           "color": "black",
           "gridcolor": "#ccc",
           "gridwidth": 1,
           "linewidth": 1,
           "mirror": true,
           "showgrid": false,
           "showline": true,
           "ticklen": 5,
           "ticks": "outside",
           "ticksuffix": " ",
           "visible": true,
           "zeroline": false,
           "zerolinecolor": "#ccc",
           "zerolinewidth": 1
          },
          "yaxis": {
           "color": "black",
           "gridcolor": "#ccc",
           "gridwidth": 1,
           "linewidth": 1,
           "mirror": true,
           "showgrid": false,
           "showline": true,
           "ticklen": 5,
           "ticks": "outside",
           "ticksuffix": " ",
           "visible": true,
           "zeroline": false,
           "zerolinecolor": "#ccc",
           "zerolinewidth": 1
          }
         }
        },
        "xaxis": {
         "constrain": "domain",
         "range": [
          -0.5,
          14.5
         ],
         "scaleanchor": "y",
         "scaleratio": 1
        },
        "yaxis": {
         "constrain": "domain",
         "range": [
          4.5,
          -0.5
         ]
        }
       }
      }
     },
     "metadata": {},
     "output_type": "display_data"
    }
   ],
   "source": [
    "plot.update_inputs(text=None)"
   ]
  },
  {
   "cell_type": "code",
   "execution_count": 11,
   "metadata": {
    "execution": {
     "iopub.execute_input": "2025-08-18T08:00:57.831090Z",
     "iopub.status.busy": "2025-08-18T08:00:57.830921Z",
     "iopub.status.idle": "2025-08-18T08:00:57.833893Z",
     "shell.execute_reply": "2025-08-18T08:00:57.833380Z"
    }
   },
   "outputs": [],
   "source": [
    "plot = plot.update_inputs(textfont={}, text=\".2f\")"
   ]
  },
  {
   "cell_type": "markdown",
   "metadata": {},
   "source": [
    "## Separators\n",
    "\n",
    "Sparse atomic matrices may be hard to interpret because it's hard to know by eye to which atoms/orbitals an element belongs.\n",
    "\n",
    "Separators come to the rescue by providing a guide for your eye to quickly pinpoint what each element is. There are three types of separators:\n",
    "\n",
    "- `sc_lines`: Draw lines separating the **different cells of the auxiliary supercell**.\n",
    "- `atom_lines`: Draw lines separating the blocks corresponding to **each atom-atom interaction**.\n",
    "- `orbital_lines`: Within each atom, draw lines that **isolate the interactions between two sets of orbitals**. E.g. a set of 3 `p` orbitals from one atom and an `s` orbital from another atom.\n",
    "\n",
    "They all can be activated (deactivated) by setting the corresponding input to `True` (`False`)."
   ]
  },
  {
   "cell_type": "code",
   "execution_count": 12,
   "metadata": {
    "execution": {
     "iopub.execute_input": "2025-08-18T08:00:57.835455Z",
     "iopub.status.busy": "2025-08-18T08:00:57.835283Z",
     "iopub.status.idle": "2025-08-18T08:00:57.923838Z",
     "shell.execute_reply": "2025-08-18T08:00:57.923350Z"
    }
   },
   "outputs": [
    {
     "name": "stderr",
     "output_type": "stream",
     "text": [
      "INFO\tTask(Task-2) nodify.node.139849830180832:node.py:get()- No need to evaluate\n"
     ]
    },
    {
     "name": "stderr",
     "output_type": "stream",
     "text": [
      "INFO\tTask(Task-2) nodify.node.139849830174448:node.py:get()- No need to evaluate\n"
     ]
    },
    {
     "name": "stderr",
     "output_type": "stream",
     "text": [
      "INFO\tTask(Task-2) nodify.node.139849830174832:node.py:get()- No need to evaluate\n"
     ]
    },
    {
     "name": "stderr",
     "output_type": "stream",
     "text": [
      "INFO\tTask(Task-2) nodify.node.139849830175648:node.py:get()- No need to evaluate\n"
     ]
    },
    {
     "name": "stderr",
     "output_type": "stream",
     "text": [
      "INFO\tTask(Task-2) nodify.node.139849830175024:node.py:get()- No need to evaluate\n"
     ]
    },
    {
     "name": "stderr",
     "output_type": "stream",
     "text": [
      "INFO\tTask(Task-2) nodify.node.139849830182608:node.py:get()- No need to evaluate\n"
     ]
    },
    {
     "name": "stderr",
     "output_type": "stream",
     "text": [
      "INFO\tTask(Task-2) nodify.node.139849830177760:node.py:get()- No need to evaluate\n"
     ]
    },
    {
     "name": "stderr",
     "output_type": "stream",
     "text": [
      "INFO\tTask(Task-2) nodify.node.139849830178144:node.py:get()- No need to evaluate\n"
     ]
    },
    {
     "name": "stderr",
     "output_type": "stream",
     "text": [
      "INFO\tTask(Task-2) nodify.node.139849830174448:node.py:get()- No need to evaluate\n"
     ]
    },
    {
     "name": "stderr",
     "output_type": "stream",
     "text": [
      "INFO\tTask(Task-2) nodify.node.139849830178528:node.py:get()- No need to evaluate\n"
     ]
    },
    {
     "name": "stderr",
     "output_type": "stream",
     "text": [
      "INFO\tTask(Task-2) nodify.node.139849830178144:node.py:get()- No need to evaluate\n"
     ]
    },
    {
     "name": "stderr",
     "output_type": "stream",
     "text": [
      "INFO\tTask(Task-2) nodify.node.139849830183856:node.py:get()- No need to evaluate\n"
     ]
    },
    {
     "name": "stderr",
     "output_type": "stream",
     "text": [
      "INFO\tTask(Task-2) nodify.node.139849830177376:node.py:get()- No need to evaluate\n"
     ]
    },
    {
     "name": "stderr",
     "output_type": "stream",
     "text": [
      "INFO\tTask(Task-2) nodify.node.139849830178912:node.py:get()- Evaluated because inputs changed.\n"
     ]
    },
    {
     "name": "stderr",
     "output_type": "stream",
     "text": [
      "INFO\tTask(Task-2) nodify.node.139849830179296:node.py:get()- Evaluated because inputs changed.\n"
     ]
    },
    {
     "name": "stderr",
     "output_type": "stream",
     "text": [
      "INFO\tTask(Task-2) nodify.node.139849830183760:node.py:get()- Evaluated because inputs changed.\n"
     ]
    },
    {
     "name": "stderr",
     "output_type": "stream",
     "text": [
      "INFO\tTask(Task-2) nodify.node.139849830174448:node.py:get()- No need to evaluate\n"
     ]
    },
    {
     "name": "stderr",
     "output_type": "stream",
     "text": [
      "INFO\tTask(Task-2) nodify.node.139849830174832:node.py:get()- No need to evaluate\n"
     ]
    },
    {
     "name": "stderr",
     "output_type": "stream",
     "text": [
      "INFO\tTask(Task-2) nodify.node.139849830175648:node.py:get()- No need to evaluate\n"
     ]
    },
    {
     "name": "stderr",
     "output_type": "stream",
     "text": [
      "INFO\tTask(Task-2) nodify.node.139849830175024:node.py:get()- No need to evaluate\n"
     ]
    },
    {
     "name": "stderr",
     "output_type": "stream",
     "text": [
      "INFO\tTask(Task-2) nodify.node.139849830182608:node.py:get()- No need to evaluate\n"
     ]
    },
    {
     "name": "stderr",
     "output_type": "stream",
     "text": [
      "INFO\tTask(Task-2) nodify.node.139849830180448:node.py:get()- No need to evaluate\n"
     ]
    },
    {
     "name": "stderr",
     "output_type": "stream",
     "text": [
      "INFO\tTask(Task-2) nodify.node.139849830184528:node.py:get()- No need to evaluate\n"
     ]
    },
    {
     "name": "stderr",
     "output_type": "stream",
     "text": [
      "INFO\tTask(Task-2) nodify.node.139849830183904:node.py:get()- No need to evaluate\n"
     ]
    },
    {
     "name": "stderr",
     "output_type": "stream",
     "text": [
      "INFO\tTask(Task-2) nodify.node.139849830176224:node.py:get()- Evaluated because inputs changed.\n"
     ]
    },
    {
     "name": "stderr",
     "output_type": "stream",
     "text": [
      "INFO\tTask(Task-2) nodify.node.139849830174448:node.py:get()- No need to evaluate\n"
     ]
    },
    {
     "name": "stderr",
     "output_type": "stream",
     "text": [
      "INFO\tTask(Task-2) nodify.node.139849830176080:node.py:get()- No need to evaluate\n"
     ]
    },
    {
     "name": "stderr",
     "output_type": "stream",
     "text": [
      "INFO\tTask(Task-2) nodify.node.139849830182128:node.py:get()- No need to evaluate\n"
     ]
    },
    {
     "name": "stderr",
     "output_type": "stream",
     "text": [
      "INFO\tTask(Task-2) nodify.node.139849830174448:node.py:get()- No need to evaluate\n"
     ]
    },
    {
     "name": "stderr",
     "output_type": "stream",
     "text": [
      "INFO\tTask(Task-2) nodify.node.139849830182704:node.py:get()- No need to evaluate\n"
     ]
    },
    {
     "name": "stderr",
     "output_type": "stream",
     "text": [
      "INFO\tTask(Task-2) nodify.node.139849830184576:node.py:get()- Evaluated because inputs changed.\n"
     ]
    },
    {
     "name": "stderr",
     "output_type": "stream",
     "text": [
      "INFO\tTask(Task-2) nodify.node.139849830176560:node.py:get()- Evaluated because inputs changed.\n"
     ]
    },
    {
     "name": "stderr",
     "output_type": "stream",
     "text": [
      "INFO\tTask(Task-2) nodify.node.139849830174448:node.py:get()- No need to evaluate\n"
     ]
    },
    {
     "name": "stderr",
     "output_type": "stream",
     "text": [
      "INFO\tTask(Task-2) nodify.node.139849830176080:node.py:get()- No need to evaluate\n"
     ]
    },
    {
     "name": "stderr",
     "output_type": "stream",
     "text": [
      "INFO\tTask(Task-2) nodify.node.139849830182128:node.py:get()- No need to evaluate\n"
     ]
    },
    {
     "name": "stderr",
     "output_type": "stream",
     "text": [
      "INFO\tTask(Task-2) nodify.node.139849830174448:node.py:get()- No need to evaluate\n"
     ]
    },
    {
     "name": "stderr",
     "output_type": "stream",
     "text": [
      "INFO\tTask(Task-2) nodify.node.139849830182704:node.py:get()- No need to evaluate\n"
     ]
    },
    {
     "name": "stderr",
     "output_type": "stream",
     "text": [
      "INFO\tTask(Task-2) nodify.node.139849830185248:node.py:get()- Evaluated because inputs changed.\n"
     ]
    },
    {
     "name": "stderr",
     "output_type": "stream",
     "text": [
      "INFO\tTask(Task-2) nodify.node.139849830176944:node.py:get()- Evaluated because inputs changed.\n"
     ]
    },
    {
     "name": "stderr",
     "output_type": "stream",
     "text": [
      "INFO\tTask(Task-2) nodify.node.139849830174448:node.py:get()- No need to evaluate\n"
     ]
    },
    {
     "name": "stderr",
     "output_type": "stream",
     "text": [
      "INFO\tTask(Task-2) nodify.node.139849830176080:node.py:get()- No need to evaluate\n"
     ]
    },
    {
     "name": "stderr",
     "output_type": "stream",
     "text": [
      "INFO\tTask(Task-2) nodify.node.139849830182128:node.py:get()- No need to evaluate\n"
     ]
    },
    {
     "name": "stderr",
     "output_type": "stream",
     "text": [
      "INFO\tTask(Task-2) nodify.node.139849830174448:node.py:get()- No need to evaluate\n"
     ]
    },
    {
     "name": "stderr",
     "output_type": "stream",
     "text": [
      "INFO\tTask(Task-2) nodify.node.139849830182704:node.py:get()- No need to evaluate\n"
     ]
    },
    {
     "name": "stderr",
     "output_type": "stream",
     "text": [
      "INFO\tTask(Task-2) nodify.node.139849830185584:node.py:get()- Evaluated because inputs changed.\n"
     ]
    },
    {
     "name": "stderr",
     "output_type": "stream",
     "text": [
      "INFO\tTask(Task-2) nodify.node.139849830174448:node.py:get()- No need to evaluate\n"
     ]
    },
    {
     "name": "stderr",
     "output_type": "stream",
     "text": [
      "INFO\tTask(Task-2) nodify.node.139849830174832:node.py:get()- No need to evaluate\n"
     ]
    },
    {
     "name": "stderr",
     "output_type": "stream",
     "text": [
      "INFO\tTask(Task-2) nodify.node.139849830175648:node.py:get()- No need to evaluate\n"
     ]
    },
    {
     "name": "stderr",
     "output_type": "stream",
     "text": [
      "INFO\tTask(Task-2) nodify.node.139849830175024:node.py:get()- No need to evaluate\n"
     ]
    },
    {
     "name": "stderr",
     "output_type": "stream",
     "text": [
      "INFO\tTask(Task-2) nodify.node.139849830182608:node.py:get()- No need to evaluate\n"
     ]
    },
    {
     "name": "stderr",
     "output_type": "stream",
     "text": [
      "INFO\tTask(Task-2) nodify.node.139849830174448:node.py:get()- No need to evaluate\n"
     ]
    },
    {
     "name": "stderr",
     "output_type": "stream",
     "text": [
      "INFO\tTask(Task-2) nodify.node.139849830176080:node.py:get()- No need to evaluate\n"
     ]
    },
    {
     "name": "stderr",
     "output_type": "stream",
     "text": [
      "INFO\tTask(Task-2) nodify.node.139849830182128:node.py:get()- No need to evaluate\n"
     ]
    },
    {
     "name": "stderr",
     "output_type": "stream",
     "text": [
      "INFO\tTask(Task-2) nodify.node.139849830174448:node.py:get()- No need to evaluate\n"
     ]
    },
    {
     "name": "stderr",
     "output_type": "stream",
     "text": [
      "INFO\tTask(Task-2) nodify.node.139849830182704:node.py:get()- No need to evaluate\n"
     ]
    },
    {
     "name": "stderr",
     "output_type": "stream",
     "text": [
      "INFO\tTask(Task-2) nodify.node.139849830180064:node.py:get()- No need to evaluate\n"
     ]
    },
    {
     "name": "stderr",
     "output_type": "stream",
     "text": [
      "INFO\tTask(Task-2) nodify.node.139849830179680:node.py:get()- No need to evaluate\n"
     ]
    },
    {
     "name": "stderr",
     "output_type": "stream",
     "text": [
      "INFO\tTask(Task-2) nodify.node.139849830182416:node.py:get()- No need to evaluate\n"
     ]
    },
    {
     "name": "stderr",
     "output_type": "stream",
     "text": [
      "INFO\tTask(Task-2) nodify.node.139849831356208:node.py:get()- Evaluated because inputs changed.\n"
     ]
    },
    {
     "name": "stderr",
     "output_type": "stream",
     "text": [
      "INFO\tTask(Task-2) nodify.node.139849830186064:node.py:get()- Evaluated because inputs changed.\n"
     ]
    },
    {
     "name": "stderr",
     "output_type": "stream",
     "text": [
      "INFO\tTask(Task-2) nodify.node.139849830186544:node.py:get()- Evaluated because inputs changed.\n"
     ]
    },
    {
     "data": {
      "application/vnd.plotly.v1+json": {
       "config": {
        "plotlyServerURL": "https://plot.ly"
       },
       "data": [
        {
         "coloraxis": "coloraxis",
         "meta": {},
         "opacity": 1,
         "texttemplate": "%{z:.2f}",
         "type": "heatmap",
         "z": {
          "bdata": "7MfmIeDi0r9KfjQdWnDRv7gTXr5BXrK/djWLuS+i37+inz7iSAjfPwAAAAAAAPh/AAAAAAAA+H8AAAAAAAD4fwAAAAAAAPh/80RmK2IhpD8AAAAAAAD4fwAAAAAAAPh/AAAAAAAA+H8AAAAAAAD4fwAAAAAAAPh/Sn40HVpw0b8kg0LpUc3hv5bVvdGw0OM/+Af+SCOa17+qSV/mu2/oPwAAAAAAAPh/AAAAAAAA+H8AAAAAAAD4fwAAAAAAAPh/YP12GdOYaz8AAAAAAAD4fwAAAAAAAPh/AAAAAAAA+H8AAAAAAAD4fwAAAAAAAPh/uBNevkFesr+W1b3RsNDjP8CLnA9VMdy/Ir2d2ruv0L+GzoLWKlbSvwAAAAAAAPh/AAAAAAAA+H8AAAAAAAD4fwAAAAAAAPh/LdoHaGxxrr8AAAAAAAD4fwAAAAAAAPh/AAAAAAAA+H8AAAAAAAD4fwAAAAAAAPh/djWLuS+i37/4B/5II5rXvyK9ndq7r9C/omVng5o75b+OyZyCv/zrvwAAAAAAAPh/AAAAAAAA+H8AAAAAAAD4fwAAAAAAAPh/1PdYEXOis78AAAAAAAD4fwAAAAAAAPh/AAAAAAAA+H8AAAAAAAD4fwAAAAAAAPh/op8+4kgI3z+qSV/mu2/oP4bOgtYqVtK/jsmcgr/867+IazCxoEPevwAAAAAAAPh/AAAAAAAA+H8AAAAAAAD4fwAAAAAAAPh/AAAAAAAA+H/zRGYrYiGkP2D9dhnTmGs/LdoHaGxxrr/U91gRc6KzvwAAAAAAAPh/",
          "dtype": "f8",
          "shape": "5, 15"
         },
         "zsmooth": false
        },
        {
         "line": {
          "color": "black",
          "dash": "dot"
         },
         "meta": {},
         "mode": "lines",
         "name": "orbitals separators",
         "opacity": 1,
         "showlegend": false,
         "type": "scatter",
         "x": {
          "bdata": "AAAAAAAA4L8AAAAAAAASQAAAAAAAAPh/AAAAAAAA4D8AAAAAAADgPwAAAAAAAPh/",
          "dtype": "f8"
         },
         "y": {
          "bdata": "AAAAAAAA4D8AAAAAAADgPwAAAAAAAPh/AAAAAAAA4L8AAAAAAAASQAAAAAAAAPh/",
          "dtype": "f8"
         }
        },
        {
         "line": {
          "color": "orange"
         },
         "meta": {},
         "mode": "lines",
         "name": "atoms separators",
         "opacity": 1,
         "showlegend": false,
         "type": "scatter",
         "x": {
          "bdata": "AAAAAAAA4L8AAAAAAAASQAAAAAAAAPh/AAAAAAAADEAAAAAAAAAMQAAAAAAAAPh/",
          "dtype": "f8"
         },
         "y": {
          "bdata": "AAAAAAAADEAAAAAAAAAMQAAAAAAAAPh/AAAAAAAA4L8AAAAAAAASQAAAAAAAAPh/",
          "dtype": "f8"
         }
        }
       ],
       "layout": {
        "coloraxis": {
         "cmid": 0,
         "colorscale": [
          [
           0.0,
           "rgb(0, 147, 146)"
          ],
          [
           0.16666666666666666,
           "rgb(57, 177, 133)"
          ],
          [
           0.3333333333333333,
           "rgb(156, 203, 134)"
          ],
          [
           0.5,
           "rgb(233, 226, 156)"
          ],
          [
           0.6666666666666666,
           "rgb(238, 180, 121)"
          ],
          [
           0.8333333333333334,
           "rgb(232, 132, 113)"
          ],
          [
           1.0,
           "rgb(207, 89, 126)"
          ]
         ],
         "showscale": true
        },
        "scene": {
         "aspectmode": "data",
         "xaxis": {
          "range": [
           -0.5,
           14.5
          ]
         },
         "yaxis": {
          "range": [
           4.5,
           -0.5
          ]
         }
        },
        "template": {
         "layout": {
          "hovermode": "closest",
          "paper_bgcolor": "white",
          "plot_bgcolor": "white",
          "scene": {
           "xaxis": {
            "color": "black",
            "gridcolor": "#ccc",
            "gridwidth": 1,
            "linewidth": 1,
            "mirror": true,
            "showgrid": false,
            "showline": true,
            "ticklen": 5,
            "ticks": "outside",
            "ticksuffix": " ",
            "visible": true,
            "zeroline": false,
            "zerolinecolor": "#ccc",
            "zerolinewidth": 1
           },
           "yaxis": {
            "color": "black",
            "gridcolor": "#ccc",
            "gridwidth": 1,
            "linewidth": 1,
            "mirror": true,
            "showgrid": false,
            "showline": true,
            "ticklen": 5,
            "ticks": "outside",
            "ticksuffix": " ",
            "visible": true,
            "zeroline": false,
            "zerolinecolor": "#ccc",
            "zerolinewidth": 1
           },
           "zaxis": {
            "color": "black",
            "gridcolor": "#ccc",
            "gridwidth": 1,
            "linewidth": 1,
            "mirror": true,
            "showgrid": false,
            "showline": true,
            "ticklen": 5,
            "ticks": "outside",
            "ticksuffix": " ",
            "visible": true,
            "zeroline": false,
            "zerolinecolor": "#ccc",
            "zerolinewidth": 1
           }
          },
          "xaxis": {
           "color": "black",
           "gridcolor": "#ccc",
           "gridwidth": 1,
           "linewidth": 1,
           "mirror": true,
           "showgrid": false,
           "showline": true,
           "ticklen": 5,
           "ticks": "outside",
           "ticksuffix": " ",
           "visible": true,
           "zeroline": false,
           "zerolinecolor": "#ccc",
           "zerolinewidth": 1
          },
          "yaxis": {
           "color": "black",
           "gridcolor": "#ccc",
           "gridwidth": 1,
           "linewidth": 1,
           "mirror": true,
           "showgrid": false,
           "showline": true,
           "ticklen": 5,
           "ticks": "outside",
           "ticksuffix": " ",
           "visible": true,
           "zeroline": false,
           "zerolinecolor": "#ccc",
           "zerolinewidth": 1
          }
         }
        },
        "xaxis": {
         "constrain": "domain",
         "range": [
          -0.5,
          14.5
         ],
         "scaleanchor": "y",
         "scaleratio": 1
        },
        "yaxis": {
         "constrain": "domain",
         "range": [
          4.5,
          -0.5
         ]
        }
       }
      }
     },
     "metadata": {},
     "output_type": "display_data"
    }
   ],
   "source": [
    "plot.update_inputs(\n",
    "    sc_lines=True,\n",
    "    atom_lines=True,\n",
    "    orbital_lines=True,\n",
    ")"
   ]
  },
  {
   "cell_type": "markdown",
   "metadata": {},
   "source": [
    "Sometimes, the **default styles for the lines might not suit your visualization**. For example, they might not play well with your chosen colorscale. In that case, you can **pass a dictionary of line styles** to the inputs."
   ]
  },
  {
   "cell_type": "code",
   "execution_count": 13,
   "metadata": {
    "execution": {
     "iopub.execute_input": "2025-08-18T08:00:57.925472Z",
     "iopub.status.busy": "2025-08-18T08:00:57.925274Z",
     "iopub.status.idle": "2025-08-18T08:00:58.012274Z",
     "shell.execute_reply": "2025-08-18T08:00:58.011694Z"
    }
   },
   "outputs": [
    {
     "name": "stderr",
     "output_type": "stream",
     "text": [
      "INFO\tTask(Task-2) nodify.node.139849830180832:node.py:get()- No need to evaluate\n"
     ]
    },
    {
     "name": "stderr",
     "output_type": "stream",
     "text": [
      "INFO\tTask(Task-2) nodify.node.139849830174448:node.py:get()- No need to evaluate\n"
     ]
    },
    {
     "name": "stderr",
     "output_type": "stream",
     "text": [
      "INFO\tTask(Task-2) nodify.node.139849830174832:node.py:get()- No need to evaluate\n"
     ]
    },
    {
     "name": "stderr",
     "output_type": "stream",
     "text": [
      "INFO\tTask(Task-2) nodify.node.139849830175648:node.py:get()- No need to evaluate\n"
     ]
    },
    {
     "name": "stderr",
     "output_type": "stream",
     "text": [
      "INFO\tTask(Task-2) nodify.node.139849830175024:node.py:get()- No need to evaluate\n"
     ]
    },
    {
     "name": "stderr",
     "output_type": "stream",
     "text": [
      "INFO\tTask(Task-2) nodify.node.139849830182608:node.py:get()- No need to evaluate\n"
     ]
    },
    {
     "name": "stderr",
     "output_type": "stream",
     "text": [
      "INFO\tTask(Task-2) nodify.node.139849830177760:node.py:get()- No need to evaluate\n"
     ]
    },
    {
     "name": "stderr",
     "output_type": "stream",
     "text": [
      "INFO\tTask(Task-2) nodify.node.139849830178144:node.py:get()- No need to evaluate\n"
     ]
    },
    {
     "name": "stderr",
     "output_type": "stream",
     "text": [
      "INFO\tTask(Task-2) nodify.node.139849830174448:node.py:get()- No need to evaluate\n"
     ]
    },
    {
     "name": "stderr",
     "output_type": "stream",
     "text": [
      "INFO\tTask(Task-2) nodify.node.139849830178528:node.py:get()- No need to evaluate\n"
     ]
    },
    {
     "name": "stderr",
     "output_type": "stream",
     "text": [
      "INFO\tTask(Task-2) nodify.node.139849830178144:node.py:get()- No need to evaluate\n"
     ]
    },
    {
     "name": "stderr",
     "output_type": "stream",
     "text": [
      "INFO\tTask(Task-2) nodify.node.139849830183856:node.py:get()- No need to evaluate\n"
     ]
    },
    {
     "name": "stderr",
     "output_type": "stream",
     "text": [
      "INFO\tTask(Task-2) nodify.node.139849830177376:node.py:get()- No need to evaluate\n"
     ]
    },
    {
     "name": "stderr",
     "output_type": "stream",
     "text": [
      "INFO\tTask(Task-2) nodify.node.139849830178912:node.py:get()- No need to evaluate\n"
     ]
    },
    {
     "name": "stderr",
     "output_type": "stream",
     "text": [
      "INFO\tTask(Task-2) nodify.node.139849830179296:node.py:get()- No need to evaluate\n"
     ]
    },
    {
     "name": "stderr",
     "output_type": "stream",
     "text": [
      "INFO\tTask(Task-2) nodify.node.139849830183760:node.py:get()- No need to evaluate\n"
     ]
    },
    {
     "name": "stderr",
     "output_type": "stream",
     "text": [
      "INFO\tTask(Task-2) nodify.node.139849830174448:node.py:get()- No need to evaluate\n"
     ]
    },
    {
     "name": "stderr",
     "output_type": "stream",
     "text": [
      "INFO\tTask(Task-2) nodify.node.139849830174832:node.py:get()- No need to evaluate\n"
     ]
    },
    {
     "name": "stderr",
     "output_type": "stream",
     "text": [
      "INFO\tTask(Task-2) nodify.node.139849830175648:node.py:get()- No need to evaluate\n"
     ]
    },
    {
     "name": "stderr",
     "output_type": "stream",
     "text": [
      "INFO\tTask(Task-2) nodify.node.139849830175024:node.py:get()- No need to evaluate\n"
     ]
    },
    {
     "name": "stderr",
     "output_type": "stream",
     "text": [
      "INFO\tTask(Task-2) nodify.node.139849830182608:node.py:get()- No need to evaluate\n"
     ]
    },
    {
     "name": "stderr",
     "output_type": "stream",
     "text": [
      "INFO\tTask(Task-2) nodify.node.139849830180448:node.py:get()- No need to evaluate\n"
     ]
    },
    {
     "name": "stderr",
     "output_type": "stream",
     "text": [
      "INFO\tTask(Task-2) nodify.node.139849830184528:node.py:get()- No need to evaluate\n"
     ]
    },
    {
     "name": "stderr",
     "output_type": "stream",
     "text": [
      "INFO\tTask(Task-2) nodify.node.139849830183904:node.py:get()- No need to evaluate\n"
     ]
    },
    {
     "name": "stderr",
     "output_type": "stream",
     "text": [
      "INFO\tTask(Task-2) nodify.node.139849830176224:node.py:get()- Evaluated because inputs changed.\n"
     ]
    },
    {
     "name": "stderr",
     "output_type": "stream",
     "text": [
      "INFO\tTask(Task-2) nodify.node.139849830174448:node.py:get()- No need to evaluate\n"
     ]
    },
    {
     "name": "stderr",
     "output_type": "stream",
     "text": [
      "INFO\tTask(Task-2) nodify.node.139849830176080:node.py:get()- No need to evaluate\n"
     ]
    },
    {
     "name": "stderr",
     "output_type": "stream",
     "text": [
      "INFO\tTask(Task-2) nodify.node.139849830182128:node.py:get()- No need to evaluate\n"
     ]
    },
    {
     "name": "stderr",
     "output_type": "stream",
     "text": [
      "INFO\tTask(Task-2) nodify.node.139849830174448:node.py:get()- No need to evaluate\n"
     ]
    },
    {
     "name": "stderr",
     "output_type": "stream",
     "text": [
      "INFO\tTask(Task-2) nodify.node.139849830182704:node.py:get()- No need to evaluate\n"
     ]
    },
    {
     "name": "stderr",
     "output_type": "stream",
     "text": [
      "INFO\tTask(Task-2) nodify.node.139849830184576:node.py:get()- Evaluated because inputs changed.\n"
     ]
    },
    {
     "name": "stderr",
     "output_type": "stream",
     "text": [
      "INFO\tTask(Task-2) nodify.node.139849830176560:node.py:get()- Evaluated because inputs changed.\n"
     ]
    },
    {
     "name": "stderr",
     "output_type": "stream",
     "text": [
      "INFO\tTask(Task-2) nodify.node.139849830174448:node.py:get()- No need to evaluate\n"
     ]
    },
    {
     "name": "stderr",
     "output_type": "stream",
     "text": [
      "INFO\tTask(Task-2) nodify.node.139849830176080:node.py:get()- No need to evaluate\n"
     ]
    },
    {
     "name": "stderr",
     "output_type": "stream",
     "text": [
      "INFO\tTask(Task-2) nodify.node.139849830182128:node.py:get()- No need to evaluate\n"
     ]
    },
    {
     "name": "stderr",
     "output_type": "stream",
     "text": [
      "INFO\tTask(Task-2) nodify.node.139849830174448:node.py:get()- No need to evaluate\n"
     ]
    },
    {
     "name": "stderr",
     "output_type": "stream",
     "text": [
      "INFO\tTask(Task-2) nodify.node.139849830182704:node.py:get()- No need to evaluate\n"
     ]
    },
    {
     "name": "stderr",
     "output_type": "stream",
     "text": [
      "INFO\tTask(Task-2) nodify.node.139849830185248:node.py:get()- Evaluated because inputs changed.\n"
     ]
    },
    {
     "name": "stderr",
     "output_type": "stream",
     "text": [
      "INFO\tTask(Task-2) nodify.node.139849830176944:node.py:get()- Evaluated because inputs changed.\n"
     ]
    },
    {
     "name": "stderr",
     "output_type": "stream",
     "text": [
      "INFO\tTask(Task-2) nodify.node.139849830174448:node.py:get()- No need to evaluate\n"
     ]
    },
    {
     "name": "stderr",
     "output_type": "stream",
     "text": [
      "INFO\tTask(Task-2) nodify.node.139849830176080:node.py:get()- No need to evaluate\n"
     ]
    },
    {
     "name": "stderr",
     "output_type": "stream",
     "text": [
      "INFO\tTask(Task-2) nodify.node.139849830182128:node.py:get()- No need to evaluate\n"
     ]
    },
    {
     "name": "stderr",
     "output_type": "stream",
     "text": [
      "INFO\tTask(Task-2) nodify.node.139849830174448:node.py:get()- No need to evaluate\n"
     ]
    },
    {
     "name": "stderr",
     "output_type": "stream",
     "text": [
      "INFO\tTask(Task-2) nodify.node.139849830182704:node.py:get()- No need to evaluate\n"
     ]
    },
    {
     "name": "stderr",
     "output_type": "stream",
     "text": [
      "INFO\tTask(Task-2) nodify.node.139849830185584:node.py:get()- Evaluated because inputs changed.\n"
     ]
    },
    {
     "name": "stderr",
     "output_type": "stream",
     "text": [
      "INFO\tTask(Task-2) nodify.node.139849830174448:node.py:get()- No need to evaluate\n"
     ]
    },
    {
     "name": "stderr",
     "output_type": "stream",
     "text": [
      "INFO\tTask(Task-2) nodify.node.139849830174832:node.py:get()- No need to evaluate\n"
     ]
    },
    {
     "name": "stderr",
     "output_type": "stream",
     "text": [
      "INFO\tTask(Task-2) nodify.node.139849830175648:node.py:get()- No need to evaluate\n"
     ]
    },
    {
     "name": "stderr",
     "output_type": "stream",
     "text": [
      "INFO\tTask(Task-2) nodify.node.139849830175024:node.py:get()- No need to evaluate\n"
     ]
    },
    {
     "name": "stderr",
     "output_type": "stream",
     "text": [
      "INFO\tTask(Task-2) nodify.node.139849830182608:node.py:get()- No need to evaluate\n"
     ]
    },
    {
     "name": "stderr",
     "output_type": "stream",
     "text": [
      "INFO\tTask(Task-2) nodify.node.139849830174448:node.py:get()- No need to evaluate\n"
     ]
    },
    {
     "name": "stderr",
     "output_type": "stream",
     "text": [
      "INFO\tTask(Task-2) nodify.node.139849830176080:node.py:get()- No need to evaluate\n"
     ]
    },
    {
     "name": "stderr",
     "output_type": "stream",
     "text": [
      "INFO\tTask(Task-2) nodify.node.139849830182128:node.py:get()- No need to evaluate\n"
     ]
    },
    {
     "name": "stderr",
     "output_type": "stream",
     "text": [
      "INFO\tTask(Task-2) nodify.node.139849830174448:node.py:get()- No need to evaluate\n"
     ]
    },
    {
     "name": "stderr",
     "output_type": "stream",
     "text": [
      "INFO\tTask(Task-2) nodify.node.139849830182704:node.py:get()- No need to evaluate\n"
     ]
    },
    {
     "name": "stderr",
     "output_type": "stream",
     "text": [
      "INFO\tTask(Task-2) nodify.node.139849830180064:node.py:get()- No need to evaluate\n"
     ]
    },
    {
     "name": "stderr",
     "output_type": "stream",
     "text": [
      "INFO\tTask(Task-2) nodify.node.139849830179680:node.py:get()- No need to evaluate\n"
     ]
    },
    {
     "name": "stderr",
     "output_type": "stream",
     "text": [
      "INFO\tTask(Task-2) nodify.node.139849830182416:node.py:get()- No need to evaluate\n"
     ]
    },
    {
     "name": "stderr",
     "output_type": "stream",
     "text": [
      "INFO\tTask(Task-2) nodify.node.139849831356208:node.py:get()- Evaluated because inputs changed.\n"
     ]
    },
    {
     "name": "stderr",
     "output_type": "stream",
     "text": [
      "INFO\tTask(Task-2) nodify.node.139849830186064:node.py:get()- Evaluated because inputs changed.\n"
     ]
    },
    {
     "name": "stderr",
     "output_type": "stream",
     "text": [
      "INFO\tTask(Task-2) nodify.node.139849830186544:node.py:get()- Evaluated because inputs changed.\n"
     ]
    },
    {
     "data": {
      "application/vnd.plotly.v1+json": {
       "config": {
        "plotlyServerURL": "https://plot.ly"
       },
       "data": [
        {
         "coloraxis": "coloraxis",
         "meta": {},
         "opacity": 1,
         "texttemplate": "%{z:.2f}",
         "type": "heatmap",
         "z": {
          "bdata": "7MfmIeDi0r9KfjQdWnDRv7gTXr5BXrK/djWLuS+i37+inz7iSAjfPwAAAAAAAPh/AAAAAAAA+H8AAAAAAAD4fwAAAAAAAPh/80RmK2IhpD8AAAAAAAD4fwAAAAAAAPh/AAAAAAAA+H8AAAAAAAD4fwAAAAAAAPh/Sn40HVpw0b8kg0LpUc3hv5bVvdGw0OM/+Af+SCOa17+qSV/mu2/oPwAAAAAAAPh/AAAAAAAA+H8AAAAAAAD4fwAAAAAAAPh/YP12GdOYaz8AAAAAAAD4fwAAAAAAAPh/AAAAAAAA+H8AAAAAAAD4fwAAAAAAAPh/uBNevkFesr+W1b3RsNDjP8CLnA9VMdy/Ir2d2ruv0L+GzoLWKlbSvwAAAAAAAPh/AAAAAAAA+H8AAAAAAAD4fwAAAAAAAPh/LdoHaGxxrr8AAAAAAAD4fwAAAAAAAPh/AAAAAAAA+H8AAAAAAAD4fwAAAAAAAPh/djWLuS+i37/4B/5II5rXvyK9ndq7r9C/omVng5o75b+OyZyCv/zrvwAAAAAAAPh/AAAAAAAA+H8AAAAAAAD4fwAAAAAAAPh/1PdYEXOis78AAAAAAAD4fwAAAAAAAPh/AAAAAAAA+H8AAAAAAAD4fwAAAAAAAPh/op8+4kgI3z+qSV/mu2/oP4bOgtYqVtK/jsmcgr/867+IazCxoEPevwAAAAAAAPh/AAAAAAAA+H8AAAAAAAD4fwAAAAAAAPh/AAAAAAAA+H/zRGYrYiGkP2D9dhnTmGs/LdoHaGxxrr/U91gRc6KzvwAAAAAAAPh/",
          "dtype": "f8",
          "shape": "5, 15"
         },
         "zsmooth": false
        },
        {
         "line": {
          "color": "pink",
          "dash": "dash",
          "width": 5
         },
         "meta": {},
         "mode": "lines",
         "name": "orbitals separators",
         "opacity": 0.8,
         "showlegend": false,
         "type": "scatter",
         "x": {
          "bdata": "AAAAAAAA4L8AAAAAAAASQAAAAAAAAPh/AAAAAAAA4D8AAAAAAADgPwAAAAAAAPh/",
          "dtype": "f8"
         },
         "y": {
          "bdata": "AAAAAAAA4D8AAAAAAADgPwAAAAAAAPh/AAAAAAAA4L8AAAAAAAASQAAAAAAAAPh/",
          "dtype": "f8"
         }
        },
        {
         "line": {
          "color": "gray"
         },
         "meta": {},
         "mode": "lines",
         "name": "atoms separators",
         "opacity": 1,
         "showlegend": false,
         "type": "scatter",
         "x": {
          "bdata": "AAAAAAAA4L8AAAAAAAASQAAAAAAAAPh/AAAAAAAADEAAAAAAAAAMQAAAAAAAAPh/",
          "dtype": "f8"
         },
         "y": {
          "bdata": "AAAAAAAADEAAAAAAAAAMQAAAAAAAAPh/AAAAAAAA4L8AAAAAAAASQAAAAAAAAPh/",
          "dtype": "f8"
         }
        }
       ],
       "layout": {
        "coloraxis": {
         "cmid": 0,
         "colorscale": [
          [
           0.0,
           "rgb(0, 147, 146)"
          ],
          [
           0.16666666666666666,
           "rgb(57, 177, 133)"
          ],
          [
           0.3333333333333333,
           "rgb(156, 203, 134)"
          ],
          [
           0.5,
           "rgb(233, 226, 156)"
          ],
          [
           0.6666666666666666,
           "rgb(238, 180, 121)"
          ],
          [
           0.8333333333333334,
           "rgb(232, 132, 113)"
          ],
          [
           1.0,
           "rgb(207, 89, 126)"
          ]
         ],
         "showscale": true
        },
        "scene": {
         "aspectmode": "data",
         "xaxis": {
          "range": [
           -0.5,
           14.5
          ]
         },
         "yaxis": {
          "range": [
           4.5,
           -0.5
          ]
         }
        },
        "template": {
         "layout": {
          "hovermode": "closest",
          "paper_bgcolor": "white",
          "plot_bgcolor": "white",
          "scene": {
           "xaxis": {
            "color": "black",
            "gridcolor": "#ccc",
            "gridwidth": 1,
            "linewidth": 1,
            "mirror": true,
            "showgrid": false,
            "showline": true,
            "ticklen": 5,
            "ticks": "outside",
            "ticksuffix": " ",
            "visible": true,
            "zeroline": false,
            "zerolinecolor": "#ccc",
            "zerolinewidth": 1
           },
           "yaxis": {
            "color": "black",
            "gridcolor": "#ccc",
            "gridwidth": 1,
            "linewidth": 1,
            "mirror": true,
            "showgrid": false,
            "showline": true,
            "ticklen": 5,
            "ticks": "outside",
            "ticksuffix": " ",
            "visible": true,
            "zeroline": false,
            "zerolinecolor": "#ccc",
            "zerolinewidth": 1
           },
           "zaxis": {
            "color": "black",
            "gridcolor": "#ccc",
            "gridwidth": 1,
            "linewidth": 1,
            "mirror": true,
            "showgrid": false,
            "showline": true,
            "ticklen": 5,
            "ticks": "outside",
            "ticksuffix": " ",
            "visible": true,
            "zeroline": false,
            "zerolinecolor": "#ccc",
            "zerolinewidth": 1
           }
          },
          "xaxis": {
           "color": "black",
           "gridcolor": "#ccc",
           "gridwidth": 1,
           "linewidth": 1,
           "mirror": true,
           "showgrid": false,
           "showline": true,
           "ticklen": 5,
           "ticks": "outside",
           "ticksuffix": " ",
           "visible": true,
           "zeroline": false,
           "zerolinecolor": "#ccc",
           "zerolinewidth": 1
          },
          "yaxis": {
           "color": "black",
           "gridcolor": "#ccc",
           "gridwidth": 1,
           "linewidth": 1,
           "mirror": true,
           "showgrid": false,
           "showline": true,
           "ticklen": 5,
           "ticks": "outside",
           "ticksuffix": " ",
           "visible": true,
           "zeroline": false,
           "zerolinecolor": "#ccc",
           "zerolinewidth": 1
          }
         }
        },
        "xaxis": {
         "constrain": "domain",
         "range": [
          -0.5,
          14.5
         ],
         "scaleanchor": "y",
         "scaleratio": 1
        },
        "yaxis": {
         "constrain": "domain",
         "range": [
          4.5,
          -0.5
         ]
        }
       }
      }
     },
     "metadata": {},
     "output_type": "display_data"
    }
   ],
   "source": [
    "plot.update_inputs(\n",
    "    orbital_lines={\"color\": \"pink\", \"width\": 5, \"dash\": \"dash\", \"opacity\": 0.8},\n",
    "    sc_lines={\"width\": 4},\n",
    "    atom_lines={\"color\": \"gray\"},\n",
    ")"
   ]
  },
  {
   "cell_type": "markdown",
   "metadata": {},
   "source": [
    "## Labels\n",
    "\n",
    "You might want to have a clearer idea of the orbitals that correspond to a given matrix element. You can turn on labels with `set_labels`:"
   ]
  },
  {
   "cell_type": "code",
   "execution_count": 14,
   "metadata": {
    "execution": {
     "iopub.execute_input": "2025-08-18T08:00:58.014117Z",
     "iopub.status.busy": "2025-08-18T08:00:58.013939Z",
     "iopub.status.idle": "2025-08-18T08:00:58.109349Z",
     "shell.execute_reply": "2025-08-18T08:00:58.108901Z"
    }
   },
   "outputs": [
    {
     "name": "stderr",
     "output_type": "stream",
     "text": [
      "INFO\tTask(Task-2) nodify.node.139849830180832:node.py:get()- No need to evaluate\n"
     ]
    },
    {
     "name": "stderr",
     "output_type": "stream",
     "text": [
      "INFO\tTask(Task-2) nodify.node.139849830174448:node.py:get()- No need to evaluate\n"
     ]
    },
    {
     "name": "stderr",
     "output_type": "stream",
     "text": [
      "INFO\tTask(Task-2) nodify.node.139849830174832:node.py:get()- No need to evaluate\n"
     ]
    },
    {
     "name": "stderr",
     "output_type": "stream",
     "text": [
      "INFO\tTask(Task-2) nodify.node.139849830175648:node.py:get()- No need to evaluate\n"
     ]
    },
    {
     "name": "stderr",
     "output_type": "stream",
     "text": [
      "INFO\tTask(Task-2) nodify.node.139849830175024:node.py:get()- No need to evaluate\n"
     ]
    },
    {
     "name": "stderr",
     "output_type": "stream",
     "text": [
      "INFO\tTask(Task-2) nodify.node.139849830182608:node.py:get()- No need to evaluate\n"
     ]
    },
    {
     "name": "stderr",
     "output_type": "stream",
     "text": [
      "INFO\tTask(Task-2) nodify.node.139849830177760:node.py:get()- No need to evaluate\n"
     ]
    },
    {
     "name": "stderr",
     "output_type": "stream",
     "text": [
      "INFO\tTask(Task-2) nodify.node.139849830178144:node.py:get()- No need to evaluate\n"
     ]
    },
    {
     "name": "stderr",
     "output_type": "stream",
     "text": [
      "INFO\tTask(Task-2) nodify.node.139849830174448:node.py:get()- No need to evaluate\n"
     ]
    },
    {
     "name": "stderr",
     "output_type": "stream",
     "text": [
      "INFO\tTask(Task-2) nodify.node.139849830178528:node.py:get()- No need to evaluate\n"
     ]
    },
    {
     "name": "stderr",
     "output_type": "stream",
     "text": [
      "INFO\tTask(Task-2) nodify.node.139849830178144:node.py:get()- No need to evaluate\n"
     ]
    },
    {
     "name": "stderr",
     "output_type": "stream",
     "text": [
      "INFO\tTask(Task-2) nodify.node.139849830183856:node.py:get()- No need to evaluate\n"
     ]
    },
    {
     "name": "stderr",
     "output_type": "stream",
     "text": [
      "INFO\tTask(Task-2) nodify.node.139849830177376:node.py:get()- No need to evaluate\n"
     ]
    },
    {
     "name": "stderr",
     "output_type": "stream",
     "text": [
      "INFO\tTask(Task-2) nodify.node.139849830178912:node.py:get()- No need to evaluate\n"
     ]
    },
    {
     "name": "stderr",
     "output_type": "stream",
     "text": [
      "INFO\tTask(Task-2) nodify.node.139849830179296:node.py:get()- No need to evaluate\n"
     ]
    },
    {
     "name": "stderr",
     "output_type": "stream",
     "text": [
      "INFO\tTask(Task-2) nodify.node.139849830183760:node.py:get()- No need to evaluate\n"
     ]
    },
    {
     "name": "stderr",
     "output_type": "stream",
     "text": [
      "INFO\tTask(Task-2) nodify.node.139849830174448:node.py:get()- No need to evaluate\n"
     ]
    },
    {
     "name": "stderr",
     "output_type": "stream",
     "text": [
      "INFO\tTask(Task-2) nodify.node.139849830174832:node.py:get()- No need to evaluate\n"
     ]
    },
    {
     "name": "stderr",
     "output_type": "stream",
     "text": [
      "INFO\tTask(Task-2) nodify.node.139849830175648:node.py:get()- No need to evaluate\n"
     ]
    },
    {
     "name": "stderr",
     "output_type": "stream",
     "text": [
      "INFO\tTask(Task-2) nodify.node.139849830175024:node.py:get()- No need to evaluate\n"
     ]
    },
    {
     "name": "stderr",
     "output_type": "stream",
     "text": [
      "INFO\tTask(Task-2) nodify.node.139849830182608:node.py:get()- No need to evaluate\n"
     ]
    },
    {
     "name": "stderr",
     "output_type": "stream",
     "text": [
      "INFO\tTask(Task-2) nodify.node.139849830180448:node.py:get()- No need to evaluate\n"
     ]
    },
    {
     "name": "stderr",
     "output_type": "stream",
     "text": [
      "INFO\tTask(Task-2) nodify.node.139849830184528:node.py:get()- No need to evaluate\n"
     ]
    },
    {
     "name": "stderr",
     "output_type": "stream",
     "text": [
      "INFO\tTask(Task-2) nodify.node.139849830183904:node.py:get()- No need to evaluate\n"
     ]
    },
    {
     "name": "stderr",
     "output_type": "stream",
     "text": [
      "INFO\tTask(Task-2) nodify.node.139849830176224:node.py:get()- No need to evaluate\n"
     ]
    },
    {
     "name": "stderr",
     "output_type": "stream",
     "text": [
      "INFO\tTask(Task-2) nodify.node.139849830174448:node.py:get()- No need to evaluate\n"
     ]
    },
    {
     "name": "stderr",
     "output_type": "stream",
     "text": [
      "INFO\tTask(Task-2) nodify.node.139849830176080:node.py:get()- No need to evaluate\n"
     ]
    },
    {
     "name": "stderr",
     "output_type": "stream",
     "text": [
      "INFO\tTask(Task-2) nodify.node.139849830182128:node.py:get()- No need to evaluate\n"
     ]
    },
    {
     "name": "stderr",
     "output_type": "stream",
     "text": [
      "INFO\tTask(Task-2) nodify.node.139849830174448:node.py:get()- No need to evaluate\n"
     ]
    },
    {
     "name": "stderr",
     "output_type": "stream",
     "text": [
      "INFO\tTask(Task-2) nodify.node.139849830182704:node.py:get()- No need to evaluate\n"
     ]
    },
    {
     "name": "stderr",
     "output_type": "stream",
     "text": [
      "INFO\tTask(Task-2) nodify.node.139849830184576:node.py:get()- No need to evaluate\n"
     ]
    },
    {
     "name": "stderr",
     "output_type": "stream",
     "text": [
      "INFO\tTask(Task-2) nodify.node.139849830176560:node.py:get()- No need to evaluate\n"
     ]
    },
    {
     "name": "stderr",
     "output_type": "stream",
     "text": [
      "INFO\tTask(Task-2) nodify.node.139849830174448:node.py:get()- No need to evaluate\n"
     ]
    },
    {
     "name": "stderr",
     "output_type": "stream",
     "text": [
      "INFO\tTask(Task-2) nodify.node.139849830176080:node.py:get()- No need to evaluate\n"
     ]
    },
    {
     "name": "stderr",
     "output_type": "stream",
     "text": [
      "INFO\tTask(Task-2) nodify.node.139849830182128:node.py:get()- No need to evaluate\n"
     ]
    },
    {
     "name": "stderr",
     "output_type": "stream",
     "text": [
      "INFO\tTask(Task-2) nodify.node.139849830174448:node.py:get()- No need to evaluate\n"
     ]
    },
    {
     "name": "stderr",
     "output_type": "stream",
     "text": [
      "INFO\tTask(Task-2) nodify.node.139849830182704:node.py:get()- No need to evaluate\n"
     ]
    },
    {
     "name": "stderr",
     "output_type": "stream",
     "text": [
      "INFO\tTask(Task-2) nodify.node.139849830185248:node.py:get()- No need to evaluate\n"
     ]
    },
    {
     "name": "stderr",
     "output_type": "stream",
     "text": [
      "INFO\tTask(Task-2) nodify.node.139849830176944:node.py:get()- No need to evaluate\n"
     ]
    },
    {
     "name": "stderr",
     "output_type": "stream",
     "text": [
      "INFO\tTask(Task-2) nodify.node.139849830174448:node.py:get()- No need to evaluate\n"
     ]
    },
    {
     "name": "stderr",
     "output_type": "stream",
     "text": [
      "INFO\tTask(Task-2) nodify.node.139849830176080:node.py:get()- No need to evaluate\n"
     ]
    },
    {
     "name": "stderr",
     "output_type": "stream",
     "text": [
      "INFO\tTask(Task-2) nodify.node.139849830182128:node.py:get()- No need to evaluate\n"
     ]
    },
    {
     "name": "stderr",
     "output_type": "stream",
     "text": [
      "INFO\tTask(Task-2) nodify.node.139849830174448:node.py:get()- No need to evaluate\n"
     ]
    },
    {
     "name": "stderr",
     "output_type": "stream",
     "text": [
      "INFO\tTask(Task-2) nodify.node.139849830182704:node.py:get()- No need to evaluate\n"
     ]
    },
    {
     "name": "stderr",
     "output_type": "stream",
     "text": [
      "INFO\tTask(Task-2) nodify.node.139849830185584:node.py:get()- No need to evaluate\n"
     ]
    },
    {
     "name": "stderr",
     "output_type": "stream",
     "text": [
      "INFO\tTask(Task-2) nodify.node.139849830174448:node.py:get()- No need to evaluate\n"
     ]
    },
    {
     "name": "stderr",
     "output_type": "stream",
     "text": [
      "INFO\tTask(Task-2) nodify.node.139849830174832:node.py:get()- No need to evaluate\n"
     ]
    },
    {
     "name": "stderr",
     "output_type": "stream",
     "text": [
      "INFO\tTask(Task-2) nodify.node.139849830175648:node.py:get()- No need to evaluate\n"
     ]
    },
    {
     "name": "stderr",
     "output_type": "stream",
     "text": [
      "INFO\tTask(Task-2) nodify.node.139849830175024:node.py:get()- No need to evaluate\n"
     ]
    },
    {
     "name": "stderr",
     "output_type": "stream",
     "text": [
      "INFO\tTask(Task-2) nodify.node.139849830182608:node.py:get()- No need to evaluate\n"
     ]
    },
    {
     "name": "stderr",
     "output_type": "stream",
     "text": [
      "INFO\tTask(Task-2) nodify.node.139849830174448:node.py:get()- No need to evaluate\n"
     ]
    },
    {
     "name": "stderr",
     "output_type": "stream",
     "text": [
      "INFO\tTask(Task-2) nodify.node.139849830176080:node.py:get()- No need to evaluate\n"
     ]
    },
    {
     "name": "stderr",
     "output_type": "stream",
     "text": [
      "INFO\tTask(Task-2) nodify.node.139849830182128:node.py:get()- No need to evaluate\n"
     ]
    },
    {
     "name": "stderr",
     "output_type": "stream",
     "text": [
      "INFO\tTask(Task-2) nodify.node.139849830174448:node.py:get()- No need to evaluate\n"
     ]
    },
    {
     "name": "stderr",
     "output_type": "stream",
     "text": [
      "INFO\tTask(Task-2) nodify.node.139849830182704:node.py:get()- No need to evaluate\n"
     ]
    },
    {
     "name": "stderr",
     "output_type": "stream",
     "text": [
      "INFO\tTask(Task-2) nodify.node.139849830180064:node.py:get()- No need to evaluate\n"
     ]
    },
    {
     "name": "stderr",
     "output_type": "stream",
     "text": [
      "INFO\tTask(Task-2) nodify.node.139849830179680:node.py:get()- Evaluated because inputs changed.\n"
     ]
    },
    {
     "name": "stderr",
     "output_type": "stream",
     "text": [
      "INFO\tTask(Task-2) nodify.node.139849830182416:node.py:get()- Evaluated because inputs changed.\n"
     ]
    },
    {
     "name": "stderr",
     "output_type": "stream",
     "text": [
      "INFO\tTask(Task-2) nodify.node.139849831356208:node.py:get()- Evaluated because inputs changed.\n"
     ]
    },
    {
     "name": "stderr",
     "output_type": "stream",
     "text": [
      "INFO\tTask(Task-2) nodify.node.139849830186064:node.py:get()- Evaluated because inputs changed.\n"
     ]
    },
    {
     "name": "stderr",
     "output_type": "stream",
     "text": [
      "INFO\tTask(Task-2) nodify.node.139849830186544:node.py:get()- Evaluated because inputs changed.\n"
     ]
    },
    {
     "data": {
      "application/vnd.plotly.v1+json": {
       "config": {
        "plotlyServerURL": "https://plot.ly"
       },
       "data": [
        {
         "coloraxis": "coloraxis",
         "meta": {},
         "opacity": 1,
         "texttemplate": "%{z:.2f}",
         "type": "heatmap",
         "z": {
          "bdata": "7MfmIeDi0r9KfjQdWnDRv7gTXr5BXrK/djWLuS+i37+inz7iSAjfPwAAAAAAAPh/AAAAAAAA+H8AAAAAAAD4fwAAAAAAAPh/80RmK2IhpD8AAAAAAAD4fwAAAAAAAPh/AAAAAAAA+H8AAAAAAAD4fwAAAAAAAPh/Sn40HVpw0b8kg0LpUc3hv5bVvdGw0OM/+Af+SCOa17+qSV/mu2/oPwAAAAAAAPh/AAAAAAAA+H8AAAAAAAD4fwAAAAAAAPh/YP12GdOYaz8AAAAAAAD4fwAAAAAAAPh/AAAAAAAA+H8AAAAAAAD4fwAAAAAAAPh/uBNevkFesr+W1b3RsNDjP8CLnA9VMdy/Ir2d2ruv0L+GzoLWKlbSvwAAAAAAAPh/AAAAAAAA+H8AAAAAAAD4fwAAAAAAAPh/LdoHaGxxrr8AAAAAAAD4fwAAAAAAAPh/AAAAAAAA+H8AAAAAAAD4fwAAAAAAAPh/djWLuS+i37/4B/5II5rXvyK9ndq7r9C/omVng5o75b+OyZyCv/zrvwAAAAAAAPh/AAAAAAAA+H8AAAAAAAD4fwAAAAAAAPh/1PdYEXOis78AAAAAAAD4fwAAAAAAAPh/AAAAAAAA+H8AAAAAAAD4fwAAAAAAAPh/op8+4kgI3z+qSV/mu2/oP4bOgtYqVtK/jsmcgr/867+IazCxoEPevwAAAAAAAPh/AAAAAAAA+H8AAAAAAAD4fwAAAAAAAPh/AAAAAAAA+H/zRGYrYiGkP2D9dhnTmGs/LdoHaGxxrr/U91gRc6KzvwAAAAAAAPh/",
          "dtype": "f8",
          "shape": "5, 15"
         },
         "zsmooth": false
        },
        {
         "line": {
          "color": "pink",
          "dash": "dash",
          "width": 5
         },
         "meta": {},
         "mode": "lines",
         "name": "orbitals separators",
         "opacity": 0.8,
         "showlegend": false,
         "type": "scatter",
         "x": {
          "bdata": "AAAAAAAA4L8AAAAAAAASQAAAAAAAAPh/AAAAAAAA4D8AAAAAAADgPwAAAAAAAPh/",
          "dtype": "f8"
         },
         "y": {
          "bdata": "AAAAAAAA4D8AAAAAAADgPwAAAAAAAPh/AAAAAAAA4L8AAAAAAAASQAAAAAAAAPh/",
          "dtype": "f8"
         }
        },
        {
         "line": {
          "color": "gray"
         },
         "meta": {},
         "mode": "lines",
         "name": "atoms separators",
         "opacity": 1,
         "showlegend": false,
         "type": "scatter",
         "x": {
          "bdata": "AAAAAAAA4L8AAAAAAAASQAAAAAAAAPh/AAAAAAAADEAAAAAAAAAMQAAAAAAAAPh/",
          "dtype": "f8"
         },
         "y": {
          "bdata": "AAAAAAAADEAAAAAAAAAMQAAAAAAAAPh/AAAAAAAA4L8AAAAAAAASQAAAAAAAAPh/",
          "dtype": "f8"
         }
        }
       ],
       "layout": {
        "coloraxis": {
         "cmid": 0,
         "colorscale": [
          [
           0.0,
           "rgb(0, 147, 146)"
          ],
          [
           0.16666666666666666,
           "rgb(57, 177, 133)"
          ],
          [
           0.3333333333333333,
           "rgb(156, 203, 134)"
          ],
          [
           0.5,
           "rgb(233, 226, 156)"
          ],
          [
           0.6666666666666666,
           "rgb(238, 180, 121)"
          ],
          [
           0.8333333333333334,
           "rgb(232, 132, 113)"
          ],
          [
           1.0,
           "rgb(207, 89, 126)"
          ]
         ],
         "showscale": true
        },
        "scene": {
         "aspectmode": "data",
         "xaxis": {
          "range": [
           -0.5,
           14.5
          ],
          "ticktext": [
           "0: (0, 0)",
           "0: (1, -1)",
           "0: (1, 0)",
           "0: (1, 1)",
           "1: (0, 0)",
           "0: (0, 0)",
           "0: (1, -1)",
           "0: (1, 0)",
           "0: (1, 1)",
           "1: (0, 0)",
           "0: (0, 0)",
           "0: (1, -1)",
           "0: (1, 0)",
           "0: (1, 1)",
           "1: (0, 0)"
          ],
          "tickvals": {
           "bdata": "AAECAwQFBgcICQoLDA0O",
           "dtype": "i1"
          }
         },
         "yaxis": {
          "range": [
           4.5,
           -0.5
          ],
          "ticktext": [
           "0: (0, 0)",
           "0: (1, -1)",
           "0: (1, 0)",
           "0: (1, 1)",
           "1: (0, 0)"
          ],
          "tickvals": {
           "bdata": "AAECAwQ=",
           "dtype": "i1"
          }
         }
        },
        "template": {
         "layout": {
          "hovermode": "closest",
          "paper_bgcolor": "white",
          "plot_bgcolor": "white",
          "scene": {
           "xaxis": {
            "color": "black",
            "gridcolor": "#ccc",
            "gridwidth": 1,
            "linewidth": 1,
            "mirror": true,
            "showgrid": false,
            "showline": true,
            "ticklen": 5,
            "ticks": "outside",
            "ticksuffix": " ",
            "visible": true,
            "zeroline": false,
            "zerolinecolor": "#ccc",
            "zerolinewidth": 1
           },
           "yaxis": {
            "color": "black",
            "gridcolor": "#ccc",
            "gridwidth": 1,
            "linewidth": 1,
            "mirror": true,
            "showgrid": false,
            "showline": true,
            "ticklen": 5,
            "ticks": "outside",
            "ticksuffix": " ",
            "visible": true,
            "zeroline": false,
            "zerolinecolor": "#ccc",
            "zerolinewidth": 1
           },
           "zaxis": {
            "color": "black",
            "gridcolor": "#ccc",
            "gridwidth": 1,
            "linewidth": 1,
            "mirror": true,
            "showgrid": false,
            "showline": true,
            "ticklen": 5,
            "ticks": "outside",
            "ticksuffix": " ",
            "visible": true,
            "zeroline": false,
            "zerolinecolor": "#ccc",
            "zerolinewidth": 1
           }
          },
          "xaxis": {
           "color": "black",
           "gridcolor": "#ccc",
           "gridwidth": 1,
           "linewidth": 1,
           "mirror": true,
           "showgrid": false,
           "showline": true,
           "ticklen": 5,
           "ticks": "outside",
           "ticksuffix": " ",
           "visible": true,
           "zeroline": false,
           "zerolinecolor": "#ccc",
           "zerolinewidth": 1
          },
          "yaxis": {
           "color": "black",
           "gridcolor": "#ccc",
           "gridwidth": 1,
           "linewidth": 1,
           "mirror": true,
           "showgrid": false,
           "showline": true,
           "ticklen": 5,
           "ticks": "outside",
           "ticksuffix": " ",
           "visible": true,
           "zeroline": false,
           "zerolinecolor": "#ccc",
           "zerolinewidth": 1
          }
         }
        },
        "xaxis": {
         "constrain": "domain",
         "range": [
          -0.5,
          14.5
         ],
         "scaleanchor": "y",
         "scaleratio": 1,
         "ticktext": [
          "0: (0, 0)",
          "0: (1, -1)",
          "0: (1, 0)",
          "0: (1, 1)",
          "1: (0, 0)",
          "0: (0, 0)",
          "0: (1, -1)",
          "0: (1, 0)",
          "0: (1, 1)",
          "1: (0, 0)",
          "0: (0, 0)",
          "0: (1, -1)",
          "0: (1, 0)",
          "0: (1, 1)",
          "1: (0, 0)"
         ],
         "tickvals": {
          "bdata": "AAECAwQFBgcICQoLDA0O",
          "dtype": "i1"
         }
        },
        "yaxis": {
         "constrain": "domain",
         "range": [
          4.5,
          -0.5
         ],
         "ticktext": [
          "0: (0, 0)",
          "0: (1, -1)",
          "0: (1, 0)",
          "0: (1, 1)",
          "1: (0, 0)"
         ],
         "tickvals": {
          "bdata": "AAECAwQ=",
          "dtype": "i1"
         }
        }
       }
      }
     },
     "metadata": {},
     "output_type": "display_data"
    }
   ],
   "source": [
    "plot.update_inputs(set_labels=True)"
   ]
  },
  {
   "cell_type": "markdown",
   "metadata": {},
   "source": [
    "Labels have the format: `Atom index: (l, m)`. where l and m are the quantum numbers of the orbital."
   ]
  },
  {
   "cell_type": "code",
   "execution_count": 15,
   "metadata": {
    "execution": {
     "iopub.execute_input": "2025-08-18T08:00:58.111064Z",
     "iopub.status.busy": "2025-08-18T08:00:58.110883Z",
     "iopub.status.idle": "2025-08-18T08:00:58.113762Z",
     "shell.execute_reply": "2025-08-18T08:00:58.113177Z"
    }
   },
   "outputs": [],
   "source": [
    "plot = plot.update_inputs(set_labels=False)"
   ]
  },
  {
   "cell_type": "markdown",
   "metadata": {},
   "source": [
    "## Showing only one cell\n",
    "\n",
    "If you only want to visualize a given cell in the supercell, you can pass the index to the `isc` input."
   ]
  },
  {
   "cell_type": "code",
   "execution_count": 16,
   "metadata": {
    "execution": {
     "iopub.execute_input": "2025-08-18T08:00:58.115444Z",
     "iopub.status.busy": "2025-08-18T08:00:58.115281Z",
     "iopub.status.idle": "2025-08-18T08:00:58.209142Z",
     "shell.execute_reply": "2025-08-18T08:00:58.208693Z"
    }
   },
   "outputs": [
    {
     "name": "stderr",
     "output_type": "stream",
     "text": [
      "INFO\tTask(Task-2) nodify.node.139849830180832:node.py:get()- No need to evaluate\n"
     ]
    },
    {
     "name": "stderr",
     "output_type": "stream",
     "text": [
      "INFO\tTask(Task-2) nodify.node.139849830174448:node.py:get()- No need to evaluate\n"
     ]
    },
    {
     "name": "stderr",
     "output_type": "stream",
     "text": [
      "INFO\tTask(Task-2) nodify.node.139849830174832:node.py:get()- No need to evaluate\n"
     ]
    },
    {
     "name": "stderr",
     "output_type": "stream",
     "text": [
      "INFO\tTask(Task-2) nodify.node.139849830175648:node.py:get()- Evaluated because inputs changed.\n"
     ]
    },
    {
     "name": "stderr",
     "output_type": "stream",
     "text": [
      "INFO\tTask(Task-2) nodify.node.139849830175024:node.py:get()- No need to evaluate\n"
     ]
    },
    {
     "name": "stderr",
     "output_type": "stream",
     "text": [
      "INFO\tTask(Task-2) nodify.node.139849830182608:node.py:get()- Evaluated because inputs changed.\n"
     ]
    },
    {
     "name": "stderr",
     "output_type": "stream",
     "text": [
      "INFO\tTask(Task-2) nodify.node.139849830177760:node.py:get()- No need to evaluate\n"
     ]
    },
    {
     "name": "stderr",
     "output_type": "stream",
     "text": [
      "INFO\tTask(Task-2) nodify.node.139849830178144:node.py:get()- No need to evaluate\n"
     ]
    },
    {
     "name": "stderr",
     "output_type": "stream",
     "text": [
      "INFO\tTask(Task-2) nodify.node.139849830174448:node.py:get()- No need to evaluate\n"
     ]
    },
    {
     "name": "stderr",
     "output_type": "stream",
     "text": [
      "INFO\tTask(Task-2) nodify.node.139849830178528:node.py:get()- No need to evaluate\n"
     ]
    },
    {
     "name": "stderr",
     "output_type": "stream",
     "text": [
      "INFO\tTask(Task-2) nodify.node.139849830178144:node.py:get()- No need to evaluate\n"
     ]
    },
    {
     "name": "stderr",
     "output_type": "stream",
     "text": [
      "INFO\tTask(Task-2) nodify.node.139849830183856:node.py:get()- No need to evaluate\n"
     ]
    },
    {
     "name": "stderr",
     "output_type": "stream",
     "text": [
      "INFO\tTask(Task-2) nodify.node.139849830177376:node.py:get()- No need to evaluate\n"
     ]
    },
    {
     "name": "stderr",
     "output_type": "stream",
     "text": [
      "INFO\tTask(Task-2) nodify.node.139849830178912:node.py:get()- No need to evaluate\n"
     ]
    },
    {
     "name": "stderr",
     "output_type": "stream",
     "text": [
      "INFO\tTask(Task-2) nodify.node.139849830179296:node.py:get()- No need to evaluate\n"
     ]
    },
    {
     "name": "stderr",
     "output_type": "stream",
     "text": [
      "INFO\tTask(Task-2) nodify.node.139849830183760:node.py:get()- Evaluated because inputs changed.\n"
     ]
    },
    {
     "name": "stderr",
     "output_type": "stream",
     "text": [
      "INFO\tTask(Task-2) nodify.node.139849830174448:node.py:get()- No need to evaluate\n"
     ]
    },
    {
     "name": "stderr",
     "output_type": "stream",
     "text": [
      "INFO\tTask(Task-2) nodify.node.139849830174832:node.py:get()- No need to evaluate\n"
     ]
    },
    {
     "name": "stderr",
     "output_type": "stream",
     "text": [
      "INFO\tTask(Task-2) nodify.node.139849830175648:node.py:get()- No need to evaluate\n"
     ]
    },
    {
     "name": "stderr",
     "output_type": "stream",
     "text": [
      "INFO\tTask(Task-2) nodify.node.139849830175024:node.py:get()- No need to evaluate\n"
     ]
    },
    {
     "name": "stderr",
     "output_type": "stream",
     "text": [
      "INFO\tTask(Task-2) nodify.node.139849830182608:node.py:get()- No need to evaluate\n"
     ]
    },
    {
     "name": "stderr",
     "output_type": "stream",
     "text": [
      "INFO\tTask(Task-2) nodify.node.139849830180448:node.py:get()- No need to evaluate\n"
     ]
    },
    {
     "name": "stderr",
     "output_type": "stream",
     "text": [
      "INFO\tTask(Task-2) nodify.node.139849830184528:node.py:get()- No need to evaluate\n"
     ]
    },
    {
     "name": "stderr",
     "output_type": "stream",
     "text": [
      "INFO\tTask(Task-2) nodify.node.139849830183904:node.py:get()- Evaluated because inputs changed.\n"
     ]
    },
    {
     "name": "stderr",
     "output_type": "stream",
     "text": [
      "INFO\tTask(Task-2) nodify.node.139849830176224:node.py:get()- No need to evaluate\n"
     ]
    },
    {
     "name": "stderr",
     "output_type": "stream",
     "text": [
      "INFO\tTask(Task-2) nodify.node.139849830174448:node.py:get()- No need to evaluate\n"
     ]
    },
    {
     "name": "stderr",
     "output_type": "stream",
     "text": [
      "INFO\tTask(Task-2) nodify.node.139849830176080:node.py:get()- No need to evaluate\n"
     ]
    },
    {
     "name": "stderr",
     "output_type": "stream",
     "text": [
      "INFO\tTask(Task-2) nodify.node.139849830182128:node.py:get()- No need to evaluate\n"
     ]
    },
    {
     "name": "stderr",
     "output_type": "stream",
     "text": [
      "INFO\tTask(Task-2) nodify.node.139849830174448:node.py:get()- No need to evaluate\n"
     ]
    },
    {
     "name": "stderr",
     "output_type": "stream",
     "text": [
      "INFO\tTask(Task-2) nodify.node.139849830182704:node.py:get()- No need to evaluate\n"
     ]
    },
    {
     "name": "stderr",
     "output_type": "stream",
     "text": [
      "INFO\tTask(Task-2) nodify.node.139849830184576:node.py:get()- No need to evaluate\n"
     ]
    },
    {
     "name": "stderr",
     "output_type": "stream",
     "text": [
      "INFO\tTask(Task-2) nodify.node.139849830176560:node.py:get()- No need to evaluate\n"
     ]
    },
    {
     "name": "stderr",
     "output_type": "stream",
     "text": [
      "INFO\tTask(Task-2) nodify.node.139849830174448:node.py:get()- No need to evaluate\n"
     ]
    },
    {
     "name": "stderr",
     "output_type": "stream",
     "text": [
      "INFO\tTask(Task-2) nodify.node.139849830176080:node.py:get()- No need to evaluate\n"
     ]
    },
    {
     "name": "stderr",
     "output_type": "stream",
     "text": [
      "INFO\tTask(Task-2) nodify.node.139849830182128:node.py:get()- No need to evaluate\n"
     ]
    },
    {
     "name": "stderr",
     "output_type": "stream",
     "text": [
      "INFO\tTask(Task-2) nodify.node.139849830174448:node.py:get()- No need to evaluate\n"
     ]
    },
    {
     "name": "stderr",
     "output_type": "stream",
     "text": [
      "INFO\tTask(Task-2) nodify.node.139849830182704:node.py:get()- No need to evaluate\n"
     ]
    },
    {
     "name": "stderr",
     "output_type": "stream",
     "text": [
      "INFO\tTask(Task-2) nodify.node.139849830185248:node.py:get()- No need to evaluate\n"
     ]
    },
    {
     "name": "stderr",
     "output_type": "stream",
     "text": [
      "INFO\tTask(Task-2) nodify.node.139849830176944:node.py:get()- No need to evaluate\n"
     ]
    },
    {
     "name": "stderr",
     "output_type": "stream",
     "text": [
      "INFO\tTask(Task-2) nodify.node.139849830174448:node.py:get()- No need to evaluate\n"
     ]
    },
    {
     "name": "stderr",
     "output_type": "stream",
     "text": [
      "INFO\tTask(Task-2) nodify.node.139849830176080:node.py:get()- No need to evaluate\n"
     ]
    },
    {
     "name": "stderr",
     "output_type": "stream",
     "text": [
      "INFO\tTask(Task-2) nodify.node.139849830182128:node.py:get()- No need to evaluate\n"
     ]
    },
    {
     "name": "stderr",
     "output_type": "stream",
     "text": [
      "INFO\tTask(Task-2) nodify.node.139849830174448:node.py:get()- No need to evaluate\n"
     ]
    },
    {
     "name": "stderr",
     "output_type": "stream",
     "text": [
      "INFO\tTask(Task-2) nodify.node.139849830182704:node.py:get()- No need to evaluate\n"
     ]
    },
    {
     "name": "stderr",
     "output_type": "stream",
     "text": [
      "INFO\tTask(Task-2) nodify.node.139849830185584:node.py:get()- No need to evaluate\n"
     ]
    },
    {
     "name": "stderr",
     "output_type": "stream",
     "text": [
      "INFO\tTask(Task-2) nodify.node.139849830174448:node.py:get()- No need to evaluate\n"
     ]
    },
    {
     "name": "stderr",
     "output_type": "stream",
     "text": [
      "INFO\tTask(Task-2) nodify.node.139849830174832:node.py:get()- No need to evaluate\n"
     ]
    },
    {
     "name": "stderr",
     "output_type": "stream",
     "text": [
      "INFO\tTask(Task-2) nodify.node.139849830175648:node.py:get()- No need to evaluate\n"
     ]
    },
    {
     "name": "stderr",
     "output_type": "stream",
     "text": [
      "INFO\tTask(Task-2) nodify.node.139849830175024:node.py:get()- No need to evaluate\n"
     ]
    },
    {
     "name": "stderr",
     "output_type": "stream",
     "text": [
      "INFO\tTask(Task-2) nodify.node.139849830182608:node.py:get()- No need to evaluate\n"
     ]
    },
    {
     "name": "stderr",
     "output_type": "stream",
     "text": [
      "INFO\tTask(Task-2) nodify.node.139849830174448:node.py:get()- No need to evaluate\n"
     ]
    },
    {
     "name": "stderr",
     "output_type": "stream",
     "text": [
      "INFO\tTask(Task-2) nodify.node.139849830176080:node.py:get()- No need to evaluate\n"
     ]
    },
    {
     "name": "stderr",
     "output_type": "stream",
     "text": [
      "INFO\tTask(Task-2) nodify.node.139849830182128:node.py:get()- No need to evaluate\n"
     ]
    },
    {
     "name": "stderr",
     "output_type": "stream",
     "text": [
      "INFO\tTask(Task-2) nodify.node.139849830174448:node.py:get()- No need to evaluate\n"
     ]
    },
    {
     "name": "stderr",
     "output_type": "stream",
     "text": [
      "INFO\tTask(Task-2) nodify.node.139849830182704:node.py:get()- No need to evaluate\n"
     ]
    },
    {
     "name": "stderr",
     "output_type": "stream",
     "text": [
      "INFO\tTask(Task-2) nodify.node.139849830180064:node.py:get()- No need to evaluate\n"
     ]
    },
    {
     "name": "stderr",
     "output_type": "stream",
     "text": [
      "INFO\tTask(Task-2) nodify.node.139849830179680:node.py:get()- Evaluated because inputs changed.\n"
     ]
    },
    {
     "name": "stderr",
     "output_type": "stream",
     "text": [
      "INFO\tTask(Task-2) nodify.node.139849830182416:node.py:get()- Evaluated because inputs changed.\n"
     ]
    },
    {
     "name": "stderr",
     "output_type": "stream",
     "text": [
      "INFO\tTask(Task-2) nodify.node.139849831356208:node.py:get()- Evaluated because inputs changed.\n"
     ]
    },
    {
     "name": "stderr",
     "output_type": "stream",
     "text": [
      "INFO\tTask(Task-2) nodify.node.139849830186064:node.py:get()- Evaluated because inputs changed.\n"
     ]
    },
    {
     "name": "stderr",
     "output_type": "stream",
     "text": [
      "INFO\tTask(Task-2) nodify.node.139849830186544:node.py:get()- Evaluated because inputs changed.\n"
     ]
    },
    {
     "data": {
      "application/vnd.plotly.v1+json": {
       "config": {
        "plotlyServerURL": "https://plot.ly"
       },
       "data": [
        {
         "coloraxis": "coloraxis",
         "meta": {},
         "opacity": 1,
         "texttemplate": "%{z:.2f}",
         "type": "heatmap",
         "z": {
          "bdata": "AAAAAAAA+H8AAAAAAAD4fwAAAAAAAPh/AAAAAAAA+H/zRGYrYiGkPwAAAAAAAPh/AAAAAAAA+H8AAAAAAAD4fwAAAAAAAPh/YP12GdOYaz8AAAAAAAD4fwAAAAAAAPh/AAAAAAAA+H8AAAAAAAD4fy3aB2hsca6/AAAAAAAA+H8AAAAAAAD4fwAAAAAAAPh/AAAAAAAA+H/U91gRc6KzvwAAAAAAAPh/AAAAAAAA+H8AAAAAAAD4fwAAAAAAAPh/AAAAAAAA+H8=",
          "dtype": "f8",
          "shape": "5, 5"
         },
         "zsmooth": false
        },
        {
         "line": {
          "color": "pink",
          "dash": "dash",
          "width": 5
         },
         "meta": {},
         "mode": "lines",
         "name": "orbitals separators",
         "opacity": 0.8,
         "showlegend": false,
         "type": "scatter",
         "x": {
          "bdata": "AAAAAAAA4L8AAAAAAAASQAAAAAAAAPh/AAAAAAAA4D8AAAAAAADgPwAAAAAAAPh/",
          "dtype": "f8"
         },
         "y": {
          "bdata": "AAAAAAAA4D8AAAAAAADgPwAAAAAAAPh/AAAAAAAA4L8AAAAAAAASQAAAAAAAAPh/",
          "dtype": "f8"
         }
        },
        {
         "line": {
          "color": "gray"
         },
         "meta": {},
         "mode": "lines",
         "name": "atoms separators",
         "opacity": 1,
         "showlegend": false,
         "type": "scatter",
         "x": {
          "bdata": "AAAAAAAA4L8AAAAAAAASQAAAAAAAAPh/AAAAAAAADEAAAAAAAAAMQAAAAAAAAPh/",
          "dtype": "f8"
         },
         "y": {
          "bdata": "AAAAAAAADEAAAAAAAAAMQAAAAAAAAPh/AAAAAAAA4L8AAAAAAAASQAAAAAAAAPh/",
          "dtype": "f8"
         }
        }
       ],
       "layout": {
        "coloraxis": {
         "cmid": 0,
         "colorscale": [
          [
           0.0,
           "rgb(0, 147, 146)"
          ],
          [
           0.16666666666666666,
           "rgb(57, 177, 133)"
          ],
          [
           0.3333333333333333,
           "rgb(156, 203, 134)"
          ],
          [
           0.5,
           "rgb(233, 226, 156)"
          ],
          [
           0.6666666666666666,
           "rgb(238, 180, 121)"
          ],
          [
           0.8333333333333334,
           "rgb(232, 132, 113)"
          ],
          [
           1.0,
           "rgb(207, 89, 126)"
          ]
         ],
         "showscale": true
        },
        "scene": {
         "aspectmode": "data",
         "xaxis": {
          "range": [
           -0.5,
           4.5
          ]
         },
         "yaxis": {
          "range": [
           4.5,
           -0.5
          ]
         }
        },
        "template": {
         "layout": {
          "hovermode": "closest",
          "paper_bgcolor": "white",
          "plot_bgcolor": "white",
          "scene": {
           "xaxis": {
            "color": "black",
            "gridcolor": "#ccc",
            "gridwidth": 1,
            "linewidth": 1,
            "mirror": true,
            "showgrid": false,
            "showline": true,
            "ticklen": 5,
            "ticks": "outside",
            "ticksuffix": " ",
            "visible": true,
            "zeroline": false,
            "zerolinecolor": "#ccc",
            "zerolinewidth": 1
           },
           "yaxis": {
            "color": "black",
            "gridcolor": "#ccc",
            "gridwidth": 1,
            "linewidth": 1,
            "mirror": true,
            "showgrid": false,
            "showline": true,
            "ticklen": 5,
            "ticks": "outside",
            "ticksuffix": " ",
            "visible": true,
            "zeroline": false,
            "zerolinecolor": "#ccc",
            "zerolinewidth": 1
           },
           "zaxis": {
            "color": "black",
            "gridcolor": "#ccc",
            "gridwidth": 1,
            "linewidth": 1,
            "mirror": true,
            "showgrid": false,
            "showline": true,
            "ticklen": 5,
            "ticks": "outside",
            "ticksuffix": " ",
            "visible": true,
            "zeroline": false,
            "zerolinecolor": "#ccc",
            "zerolinewidth": 1
           }
          },
          "xaxis": {
           "color": "black",
           "gridcolor": "#ccc",
           "gridwidth": 1,
           "linewidth": 1,
           "mirror": true,
           "showgrid": false,
           "showline": true,
           "ticklen": 5,
           "ticks": "outside",
           "ticksuffix": " ",
           "visible": true,
           "zeroline": false,
           "zerolinecolor": "#ccc",
           "zerolinewidth": 1
          },
          "yaxis": {
           "color": "black",
           "gridcolor": "#ccc",
           "gridwidth": 1,
           "linewidth": 1,
           "mirror": true,
           "showgrid": false,
           "showline": true,
           "ticklen": 5,
           "ticks": "outside",
           "ticksuffix": " ",
           "visible": true,
           "zeroline": false,
           "zerolinecolor": "#ccc",
           "zerolinewidth": 1
          }
         }
        },
        "xaxis": {
         "constrain": "domain",
         "range": [
          -0.5,
          4.5
         ],
         "scaleanchor": "y",
         "scaleratio": 1
        },
        "yaxis": {
         "constrain": "domain",
         "range": [
          4.5,
          -0.5
         ]
        }
       }
      }
     },
     "metadata": {},
     "output_type": "display_data"
    }
   ],
   "source": [
    "plot.update_inputs(isc=1)"
   ]
  },
  {
   "cell_type": "markdown",
   "metadata": {},
   "source": [
    "To go back to visualizing the whole supercell, just set `isc` to `None`."
   ]
  },
  {
   "cell_type": "code",
   "execution_count": 17,
   "metadata": {
    "execution": {
     "iopub.execute_input": "2025-08-18T08:00:58.210810Z",
     "iopub.status.busy": "2025-08-18T08:00:58.210619Z",
     "iopub.status.idle": "2025-08-18T08:00:58.307058Z",
     "shell.execute_reply": "2025-08-18T08:00:58.306573Z"
    }
   },
   "outputs": [
    {
     "name": "stderr",
     "output_type": "stream",
     "text": [
      "INFO\tTask(Task-2) nodify.node.139849830180832:node.py:get()- No need to evaluate\n"
     ]
    },
    {
     "name": "stderr",
     "output_type": "stream",
     "text": [
      "INFO\tTask(Task-2) nodify.node.139849830174448:node.py:get()- No need to evaluate\n"
     ]
    },
    {
     "name": "stderr",
     "output_type": "stream",
     "text": [
      "INFO\tTask(Task-2) nodify.node.139849830174832:node.py:get()- No need to evaluate\n"
     ]
    },
    {
     "name": "stderr",
     "output_type": "stream",
     "text": [
      "INFO\tTask(Task-2) nodify.node.139849830175648:node.py:get()- Evaluated because inputs changed.\n"
     ]
    },
    {
     "name": "stderr",
     "output_type": "stream",
     "text": [
      "INFO\tTask(Task-2) nodify.node.139849830175024:node.py:get()- No need to evaluate\n"
     ]
    },
    {
     "name": "stderr",
     "output_type": "stream",
     "text": [
      "INFO\tTask(Task-2) nodify.node.139849830182608:node.py:get()- Evaluated because inputs changed.\n"
     ]
    },
    {
     "name": "stderr",
     "output_type": "stream",
     "text": [
      "INFO\tTask(Task-2) nodify.node.139849830177760:node.py:get()- No need to evaluate\n"
     ]
    },
    {
     "name": "stderr",
     "output_type": "stream",
     "text": [
      "INFO\tTask(Task-2) nodify.node.139849830178144:node.py:get()- No need to evaluate\n"
     ]
    },
    {
     "name": "stderr",
     "output_type": "stream",
     "text": [
      "INFO\tTask(Task-2) nodify.node.139849830174448:node.py:get()- No need to evaluate\n"
     ]
    },
    {
     "name": "stderr",
     "output_type": "stream",
     "text": [
      "INFO\tTask(Task-2) nodify.node.139849830178528:node.py:get()- No need to evaluate\n"
     ]
    },
    {
     "name": "stderr",
     "output_type": "stream",
     "text": [
      "INFO\tTask(Task-2) nodify.node.139849830178144:node.py:get()- No need to evaluate\n"
     ]
    },
    {
     "name": "stderr",
     "output_type": "stream",
     "text": [
      "INFO\tTask(Task-2) nodify.node.139849830183856:node.py:get()- No need to evaluate\n"
     ]
    },
    {
     "name": "stderr",
     "output_type": "stream",
     "text": [
      "INFO\tTask(Task-2) nodify.node.139849830177376:node.py:get()- No need to evaluate\n"
     ]
    },
    {
     "name": "stderr",
     "output_type": "stream",
     "text": [
      "INFO\tTask(Task-2) nodify.node.139849830178912:node.py:get()- No need to evaluate\n"
     ]
    },
    {
     "name": "stderr",
     "output_type": "stream",
     "text": [
      "INFO\tTask(Task-2) nodify.node.139849830179296:node.py:get()- No need to evaluate\n"
     ]
    },
    {
     "name": "stderr",
     "output_type": "stream",
     "text": [
      "INFO\tTask(Task-2) nodify.node.139849830183760:node.py:get()- Evaluated because inputs changed.\n"
     ]
    },
    {
     "name": "stderr",
     "output_type": "stream",
     "text": [
      "INFO\tTask(Task-2) nodify.node.139849830174448:node.py:get()- No need to evaluate\n"
     ]
    },
    {
     "name": "stderr",
     "output_type": "stream",
     "text": [
      "INFO\tTask(Task-2) nodify.node.139849830174832:node.py:get()- No need to evaluate\n"
     ]
    },
    {
     "name": "stderr",
     "output_type": "stream",
     "text": [
      "INFO\tTask(Task-2) nodify.node.139849830175648:node.py:get()- No need to evaluate\n"
     ]
    },
    {
     "name": "stderr",
     "output_type": "stream",
     "text": [
      "INFO\tTask(Task-2) nodify.node.139849830175024:node.py:get()- No need to evaluate\n"
     ]
    },
    {
     "name": "stderr",
     "output_type": "stream",
     "text": [
      "INFO\tTask(Task-2) nodify.node.139849830182608:node.py:get()- No need to evaluate\n"
     ]
    },
    {
     "name": "stderr",
     "output_type": "stream",
     "text": [
      "INFO\tTask(Task-2) nodify.node.139849830180448:node.py:get()- No need to evaluate\n"
     ]
    },
    {
     "name": "stderr",
     "output_type": "stream",
     "text": [
      "INFO\tTask(Task-2) nodify.node.139849830184528:node.py:get()- No need to evaluate\n"
     ]
    },
    {
     "name": "stderr",
     "output_type": "stream",
     "text": [
      "INFO\tTask(Task-2) nodify.node.139849830183904:node.py:get()- Evaluated because inputs changed.\n"
     ]
    },
    {
     "name": "stderr",
     "output_type": "stream",
     "text": [
      "INFO\tTask(Task-2) nodify.node.139849830176224:node.py:get()- No need to evaluate\n"
     ]
    },
    {
     "name": "stderr",
     "output_type": "stream",
     "text": [
      "INFO\tTask(Task-2) nodify.node.139849830174448:node.py:get()- No need to evaluate\n"
     ]
    },
    {
     "name": "stderr",
     "output_type": "stream",
     "text": [
      "INFO\tTask(Task-2) nodify.node.139849830176080:node.py:get()- No need to evaluate\n"
     ]
    },
    {
     "name": "stderr",
     "output_type": "stream",
     "text": [
      "INFO\tTask(Task-2) nodify.node.139849830182128:node.py:get()- No need to evaluate\n"
     ]
    },
    {
     "name": "stderr",
     "output_type": "stream",
     "text": [
      "INFO\tTask(Task-2) nodify.node.139849830174448:node.py:get()- No need to evaluate\n"
     ]
    },
    {
     "name": "stderr",
     "output_type": "stream",
     "text": [
      "INFO\tTask(Task-2) nodify.node.139849830182704:node.py:get()- No need to evaluate\n"
     ]
    },
    {
     "name": "stderr",
     "output_type": "stream",
     "text": [
      "INFO\tTask(Task-2) nodify.node.139849830184576:node.py:get()- No need to evaluate\n"
     ]
    },
    {
     "name": "stderr",
     "output_type": "stream",
     "text": [
      "INFO\tTask(Task-2) nodify.node.139849830176560:node.py:get()- No need to evaluate\n"
     ]
    },
    {
     "name": "stderr",
     "output_type": "stream",
     "text": [
      "INFO\tTask(Task-2) nodify.node.139849830174448:node.py:get()- No need to evaluate\n"
     ]
    },
    {
     "name": "stderr",
     "output_type": "stream",
     "text": [
      "INFO\tTask(Task-2) nodify.node.139849830176080:node.py:get()- No need to evaluate\n"
     ]
    },
    {
     "name": "stderr",
     "output_type": "stream",
     "text": [
      "INFO\tTask(Task-2) nodify.node.139849830182128:node.py:get()- No need to evaluate\n"
     ]
    },
    {
     "name": "stderr",
     "output_type": "stream",
     "text": [
      "INFO\tTask(Task-2) nodify.node.139849830174448:node.py:get()- No need to evaluate\n"
     ]
    },
    {
     "name": "stderr",
     "output_type": "stream",
     "text": [
      "INFO\tTask(Task-2) nodify.node.139849830182704:node.py:get()- No need to evaluate\n"
     ]
    },
    {
     "name": "stderr",
     "output_type": "stream",
     "text": [
      "INFO\tTask(Task-2) nodify.node.139849830185248:node.py:get()- No need to evaluate\n"
     ]
    },
    {
     "name": "stderr",
     "output_type": "stream",
     "text": [
      "INFO\tTask(Task-2) nodify.node.139849830176944:node.py:get()- No need to evaluate\n"
     ]
    },
    {
     "name": "stderr",
     "output_type": "stream",
     "text": [
      "INFO\tTask(Task-2) nodify.node.139849830174448:node.py:get()- No need to evaluate\n"
     ]
    },
    {
     "name": "stderr",
     "output_type": "stream",
     "text": [
      "INFO\tTask(Task-2) nodify.node.139849830176080:node.py:get()- No need to evaluate\n"
     ]
    },
    {
     "name": "stderr",
     "output_type": "stream",
     "text": [
      "INFO\tTask(Task-2) nodify.node.139849830182128:node.py:get()- No need to evaluate\n"
     ]
    },
    {
     "name": "stderr",
     "output_type": "stream",
     "text": [
      "INFO\tTask(Task-2) nodify.node.139849830174448:node.py:get()- No need to evaluate\n"
     ]
    },
    {
     "name": "stderr",
     "output_type": "stream",
     "text": [
      "INFO\tTask(Task-2) nodify.node.139849830182704:node.py:get()- No need to evaluate\n"
     ]
    },
    {
     "name": "stderr",
     "output_type": "stream",
     "text": [
      "INFO\tTask(Task-2) nodify.node.139849830185584:node.py:get()- No need to evaluate\n"
     ]
    },
    {
     "name": "stderr",
     "output_type": "stream",
     "text": [
      "INFO\tTask(Task-2) nodify.node.139849830174448:node.py:get()- No need to evaluate\n"
     ]
    },
    {
     "name": "stderr",
     "output_type": "stream",
     "text": [
      "INFO\tTask(Task-2) nodify.node.139849830174832:node.py:get()- No need to evaluate\n"
     ]
    },
    {
     "name": "stderr",
     "output_type": "stream",
     "text": [
      "INFO\tTask(Task-2) nodify.node.139849830175648:node.py:get()- No need to evaluate\n"
     ]
    },
    {
     "name": "stderr",
     "output_type": "stream",
     "text": [
      "INFO\tTask(Task-2) nodify.node.139849830175024:node.py:get()- No need to evaluate\n"
     ]
    },
    {
     "name": "stderr",
     "output_type": "stream",
     "text": [
      "INFO\tTask(Task-2) nodify.node.139849830182608:node.py:get()- No need to evaluate\n"
     ]
    },
    {
     "name": "stderr",
     "output_type": "stream",
     "text": [
      "INFO\tTask(Task-2) nodify.node.139849830174448:node.py:get()- No need to evaluate\n"
     ]
    },
    {
     "name": "stderr",
     "output_type": "stream",
     "text": [
      "INFO\tTask(Task-2) nodify.node.139849830176080:node.py:get()- No need to evaluate\n"
     ]
    },
    {
     "name": "stderr",
     "output_type": "stream",
     "text": [
      "INFO\tTask(Task-2) nodify.node.139849830182128:node.py:get()- No need to evaluate\n"
     ]
    },
    {
     "name": "stderr",
     "output_type": "stream",
     "text": [
      "INFO\tTask(Task-2) nodify.node.139849830174448:node.py:get()- No need to evaluate\n"
     ]
    },
    {
     "name": "stderr",
     "output_type": "stream",
     "text": [
      "INFO\tTask(Task-2) nodify.node.139849830182704:node.py:get()- No need to evaluate\n"
     ]
    },
    {
     "name": "stderr",
     "output_type": "stream",
     "text": [
      "INFO\tTask(Task-2) nodify.node.139849830180064:node.py:get()- No need to evaluate\n"
     ]
    },
    {
     "name": "stderr",
     "output_type": "stream",
     "text": [
      "INFO\tTask(Task-2) nodify.node.139849830179680:node.py:get()- No need to evaluate\n"
     ]
    },
    {
     "name": "stderr",
     "output_type": "stream",
     "text": [
      "INFO\tTask(Task-2) nodify.node.139849830182416:node.py:get()- Evaluated because inputs changed.\n"
     ]
    },
    {
     "name": "stderr",
     "output_type": "stream",
     "text": [
      "INFO\tTask(Task-2) nodify.node.139849831356208:node.py:get()- Evaluated because inputs changed.\n"
     ]
    },
    {
     "name": "stderr",
     "output_type": "stream",
     "text": [
      "INFO\tTask(Task-2) nodify.node.139849830186064:node.py:get()- Evaluated because inputs changed.\n"
     ]
    },
    {
     "name": "stderr",
     "output_type": "stream",
     "text": [
      "INFO\tTask(Task-2) nodify.node.139849830186544:node.py:get()- Evaluated because inputs changed.\n"
     ]
    },
    {
     "data": {
      "application/vnd.plotly.v1+json": {
       "config": {
        "plotlyServerURL": "https://plot.ly"
       },
       "data": [
        {
         "coloraxis": "coloraxis",
         "meta": {},
         "opacity": 1,
         "texttemplate": "%{z:.2f}",
         "type": "heatmap",
         "z": {
          "bdata": "7MfmIeDi0r9KfjQdWnDRv7gTXr5BXrK/djWLuS+i37+inz7iSAjfPwAAAAAAAPh/AAAAAAAA+H8AAAAAAAD4fwAAAAAAAPh/80RmK2IhpD8AAAAAAAD4fwAAAAAAAPh/AAAAAAAA+H8AAAAAAAD4fwAAAAAAAPh/Sn40HVpw0b8kg0LpUc3hv5bVvdGw0OM/+Af+SCOa17+qSV/mu2/oPwAAAAAAAPh/AAAAAAAA+H8AAAAAAAD4fwAAAAAAAPh/YP12GdOYaz8AAAAAAAD4fwAAAAAAAPh/AAAAAAAA+H8AAAAAAAD4fwAAAAAAAPh/uBNevkFesr+W1b3RsNDjP8CLnA9VMdy/Ir2d2ruv0L+GzoLWKlbSvwAAAAAAAPh/AAAAAAAA+H8AAAAAAAD4fwAAAAAAAPh/LdoHaGxxrr8AAAAAAAD4fwAAAAAAAPh/AAAAAAAA+H8AAAAAAAD4fwAAAAAAAPh/djWLuS+i37/4B/5II5rXvyK9ndq7r9C/omVng5o75b+OyZyCv/zrvwAAAAAAAPh/AAAAAAAA+H8AAAAAAAD4fwAAAAAAAPh/1PdYEXOis78AAAAAAAD4fwAAAAAAAPh/AAAAAAAA+H8AAAAAAAD4fwAAAAAAAPh/op8+4kgI3z+qSV/mu2/oP4bOgtYqVtK/jsmcgr/867+IazCxoEPevwAAAAAAAPh/AAAAAAAA+H8AAAAAAAD4fwAAAAAAAPh/AAAAAAAA+H/zRGYrYiGkP2D9dhnTmGs/LdoHaGxxrr/U91gRc6KzvwAAAAAAAPh/",
          "dtype": "f8",
          "shape": "5, 15"
         },
         "zsmooth": false
        },
        {
         "line": {
          "color": "pink",
          "dash": "dash",
          "width": 5
         },
         "meta": {},
         "mode": "lines",
         "name": "orbitals separators",
         "opacity": 0.8,
         "showlegend": false,
         "type": "scatter",
         "x": {
          "bdata": "AAAAAAAA4L8AAAAAAAASQAAAAAAAAPh/AAAAAAAA4D8AAAAAAADgPwAAAAAAAPh/",
          "dtype": "f8"
         },
         "y": {
          "bdata": "AAAAAAAA4D8AAAAAAADgPwAAAAAAAPh/AAAAAAAA4L8AAAAAAAASQAAAAAAAAPh/",
          "dtype": "f8"
         }
        },
        {
         "line": {
          "color": "gray"
         },
         "meta": {},
         "mode": "lines",
         "name": "atoms separators",
         "opacity": 1,
         "showlegend": false,
         "type": "scatter",
         "x": {
          "bdata": "AAAAAAAA4L8AAAAAAAASQAAAAAAAAPh/AAAAAAAADEAAAAAAAAAMQAAAAAAAAPh/",
          "dtype": "f8"
         },
         "y": {
          "bdata": "AAAAAAAADEAAAAAAAAAMQAAAAAAAAPh/AAAAAAAA4L8AAAAAAAASQAAAAAAAAPh/",
          "dtype": "f8"
         }
        }
       ],
       "layout": {
        "coloraxis": {
         "cmid": 0,
         "colorscale": [
          [
           0.0,
           "rgb(0, 147, 146)"
          ],
          [
           0.16666666666666666,
           "rgb(57, 177, 133)"
          ],
          [
           0.3333333333333333,
           "rgb(156, 203, 134)"
          ],
          [
           0.5,
           "rgb(233, 226, 156)"
          ],
          [
           0.6666666666666666,
           "rgb(238, 180, 121)"
          ],
          [
           0.8333333333333334,
           "rgb(232, 132, 113)"
          ],
          [
           1.0,
           "rgb(207, 89, 126)"
          ]
         ],
         "showscale": true
        },
        "scene": {
         "aspectmode": "data",
         "xaxis": {
          "range": [
           -0.5,
           14.5
          ]
         },
         "yaxis": {
          "range": [
           4.5,
           -0.5
          ]
         }
        },
        "template": {
         "layout": {
          "hovermode": "closest",
          "paper_bgcolor": "white",
          "plot_bgcolor": "white",
          "scene": {
           "xaxis": {
            "color": "black",
            "gridcolor": "#ccc",
            "gridwidth": 1,
            "linewidth": 1,
            "mirror": true,
            "showgrid": false,
            "showline": true,
            "ticklen": 5,
            "ticks": "outside",
            "ticksuffix": " ",
            "visible": true,
            "zeroline": false,
            "zerolinecolor": "#ccc",
            "zerolinewidth": 1
           },
           "yaxis": {
            "color": "black",
            "gridcolor": "#ccc",
            "gridwidth": 1,
            "linewidth": 1,
            "mirror": true,
            "showgrid": false,
            "showline": true,
            "ticklen": 5,
            "ticks": "outside",
            "ticksuffix": " ",
            "visible": true,
            "zeroline": false,
            "zerolinecolor": "#ccc",
            "zerolinewidth": 1
           },
           "zaxis": {
            "color": "black",
            "gridcolor": "#ccc",
            "gridwidth": 1,
            "linewidth": 1,
            "mirror": true,
            "showgrid": false,
            "showline": true,
            "ticklen": 5,
            "ticks": "outside",
            "ticksuffix": " ",
            "visible": true,
            "zeroline": false,
            "zerolinecolor": "#ccc",
            "zerolinewidth": 1
           }
          },
          "xaxis": {
           "color": "black",
           "gridcolor": "#ccc",
           "gridwidth": 1,
           "linewidth": 1,
           "mirror": true,
           "showgrid": false,
           "showline": true,
           "ticklen": 5,
           "ticks": "outside",
           "ticksuffix": " ",
           "visible": true,
           "zeroline": false,
           "zerolinecolor": "#ccc",
           "zerolinewidth": 1
          },
          "yaxis": {
           "color": "black",
           "gridcolor": "#ccc",
           "gridwidth": 1,
           "linewidth": 1,
           "mirror": true,
           "showgrid": false,
           "showline": true,
           "ticklen": 5,
           "ticks": "outside",
           "ticksuffix": " ",
           "visible": true,
           "zeroline": false,
           "zerolinecolor": "#ccc",
           "zerolinewidth": 1
          }
         }
        },
        "xaxis": {
         "constrain": "domain",
         "range": [
          -0.5,
          14.5
         ],
         "scaleanchor": "y",
         "scaleratio": 1
        },
        "yaxis": {
         "constrain": "domain",
         "range": [
          4.5,
          -0.5
         ]
        }
       }
      }
     },
     "metadata": {},
     "output_type": "display_data"
    }
   ],
   "source": [
    "plot.update_inputs(isc=None)"
   ]
  },
  {
   "cell_type": "markdown",
   "metadata": {},
   "source": [
    "## Arrows\n",
    "\n",
    "One can ask for an arrow to be drawn on each matrix element. You are free to represent whatever you like as arrows.\n",
    "\n",
    "The arrow specification works the same as for atom arrows in `GeometryPlot`. It is a dictionary with the key `data` containing the arrow data and the styling keys (`color`, `width`, `opacity`...) to tweak the style.\n",
    "\n",
    "However, there is one main difference. If `data` is skipped, vertical arrows are drawn, with the value of the corresponding matrix element defining the length of the arrow:"
   ]
  },
  {
   "cell_type": "code",
   "execution_count": 18,
   "metadata": {
    "execution": {
     "iopub.execute_input": "2025-08-18T08:00:58.308781Z",
     "iopub.status.busy": "2025-08-18T08:00:58.308587Z",
     "iopub.status.idle": "2025-08-18T08:00:59.976468Z",
     "shell.execute_reply": "2025-08-18T08:00:59.975944Z"
    },
    "tags": [
     "nbsphinx-thumbnail"
    ]
   },
   "outputs": [
    {
     "name": "stderr",
     "output_type": "stream",
     "text": [
      "INFO\tTask(Task-2) nodify.node.139849830180832:node.py:get()- No need to evaluate\n"
     ]
    },
    {
     "name": "stderr",
     "output_type": "stream",
     "text": [
      "INFO\tTask(Task-2) nodify.node.139849830174448:node.py:get()- No need to evaluate\n"
     ]
    },
    {
     "name": "stderr",
     "output_type": "stream",
     "text": [
      "INFO\tTask(Task-2) nodify.node.139849830174832:node.py:get()- No need to evaluate\n"
     ]
    },
    {
     "name": "stderr",
     "output_type": "stream",
     "text": [
      "INFO\tTask(Task-2) nodify.node.139849830175648:node.py:get()- No need to evaluate\n"
     ]
    },
    {
     "name": "stderr",
     "output_type": "stream",
     "text": [
      "INFO\tTask(Task-2) nodify.node.139849830175024:node.py:get()- No need to evaluate\n"
     ]
    },
    {
     "name": "stderr",
     "output_type": "stream",
     "text": [
      "INFO\tTask(Task-2) nodify.node.139849830182608:node.py:get()- No need to evaluate\n"
     ]
    },
    {
     "name": "stderr",
     "output_type": "stream",
     "text": [
      "INFO\tTask(Task-2) nodify.node.139849830177760:node.py:get()- No need to evaluate\n"
     ]
    },
    {
     "name": "stderr",
     "output_type": "stream",
     "text": [
      "INFO\tTask(Task-2) nodify.node.139849830178144:node.py:get()- No need to evaluate\n"
     ]
    },
    {
     "name": "stderr",
     "output_type": "stream",
     "text": [
      "INFO\tTask(Task-2) nodify.node.139849830174448:node.py:get()- No need to evaluate\n"
     ]
    },
    {
     "name": "stderr",
     "output_type": "stream",
     "text": [
      "INFO\tTask(Task-2) nodify.node.139849830178528:node.py:get()- No need to evaluate\n"
     ]
    },
    {
     "name": "stderr",
     "output_type": "stream",
     "text": [
      "INFO\tTask(Task-2) nodify.node.139849830178144:node.py:get()- No need to evaluate\n"
     ]
    },
    {
     "name": "stderr",
     "output_type": "stream",
     "text": [
      "INFO\tTask(Task-2) nodify.node.139849830183856:node.py:get()- No need to evaluate\n"
     ]
    },
    {
     "name": "stderr",
     "output_type": "stream",
     "text": [
      "INFO\tTask(Task-2) nodify.node.139849830177376:node.py:get()- No need to evaluate\n"
     ]
    },
    {
     "name": "stderr",
     "output_type": "stream",
     "text": [
      "INFO\tTask(Task-2) nodify.node.139849830178912:node.py:get()- No need to evaluate\n"
     ]
    },
    {
     "name": "stderr",
     "output_type": "stream",
     "text": [
      "INFO\tTask(Task-2) nodify.node.139849830179296:node.py:get()- No need to evaluate\n"
     ]
    },
    {
     "name": "stderr",
     "output_type": "stream",
     "text": [
      "INFO\tTask(Task-2) nodify.node.139849830183760:node.py:get()- No need to evaluate\n"
     ]
    },
    {
     "name": "stderr",
     "output_type": "stream",
     "text": [
      "INFO\tTask(Task-2) nodify.node.139849830174448:node.py:get()- No need to evaluate\n"
     ]
    },
    {
     "name": "stderr",
     "output_type": "stream",
     "text": [
      "INFO\tTask(Task-2) nodify.node.139849830174832:node.py:get()- No need to evaluate\n"
     ]
    },
    {
     "name": "stderr",
     "output_type": "stream",
     "text": [
      "INFO\tTask(Task-2) nodify.node.139849830175648:node.py:get()- No need to evaluate\n"
     ]
    },
    {
     "name": "stderr",
     "output_type": "stream",
     "text": [
      "INFO\tTask(Task-2) nodify.node.139849830175024:node.py:get()- No need to evaluate\n"
     ]
    },
    {
     "name": "stderr",
     "output_type": "stream",
     "text": [
      "INFO\tTask(Task-2) nodify.node.139849830182608:node.py:get()- No need to evaluate\n"
     ]
    },
    {
     "name": "stderr",
     "output_type": "stream",
     "text": [
      "INFO\tTask(Task-2) nodify.node.139849830180448:node.py:get()- Evaluated because inputs changed.\n"
     ]
    },
    {
     "name": "stderr",
     "output_type": "stream",
     "text": [
      "INFO\tTask(Task-2) nodify.node.139849830184528:node.py:get()- Evaluated because inputs changed.\n"
     ]
    },
    {
     "name": "stderr",
     "output_type": "stream",
     "text": [
      "INFO\tTask(Task-2) nodify.node.139849830183904:node.py:get()- Evaluated because inputs changed.\n"
     ]
    },
    {
     "name": "stderr",
     "output_type": "stream",
     "text": [
      "INFO\tTask(Task-2) nodify.node.139849830176224:node.py:get()- No need to evaluate\n"
     ]
    },
    {
     "name": "stderr",
     "output_type": "stream",
     "text": [
      "INFO\tTask(Task-2) nodify.node.139849830174448:node.py:get()- No need to evaluate\n"
     ]
    },
    {
     "name": "stderr",
     "output_type": "stream",
     "text": [
      "INFO\tTask(Task-2) nodify.node.139849830176080:node.py:get()- No need to evaluate\n"
     ]
    },
    {
     "name": "stderr",
     "output_type": "stream",
     "text": [
      "INFO\tTask(Task-2) nodify.node.139849830182128:node.py:get()- No need to evaluate\n"
     ]
    },
    {
     "name": "stderr",
     "output_type": "stream",
     "text": [
      "INFO\tTask(Task-2) nodify.node.139849830174448:node.py:get()- No need to evaluate\n"
     ]
    },
    {
     "name": "stderr",
     "output_type": "stream",
     "text": [
      "INFO\tTask(Task-2) nodify.node.139849830182704:node.py:get()- No need to evaluate\n"
     ]
    },
    {
     "name": "stderr",
     "output_type": "stream",
     "text": [
      "INFO\tTask(Task-2) nodify.node.139849830184576:node.py:get()- No need to evaluate\n"
     ]
    },
    {
     "name": "stderr",
     "output_type": "stream",
     "text": [
      "INFO\tTask(Task-2) nodify.node.139849830176560:node.py:get()- No need to evaluate\n"
     ]
    },
    {
     "name": "stderr",
     "output_type": "stream",
     "text": [
      "INFO\tTask(Task-2) nodify.node.139849830174448:node.py:get()- No need to evaluate\n"
     ]
    },
    {
     "name": "stderr",
     "output_type": "stream",
     "text": [
      "INFO\tTask(Task-2) nodify.node.139849830176080:node.py:get()- No need to evaluate\n"
     ]
    },
    {
     "name": "stderr",
     "output_type": "stream",
     "text": [
      "INFO\tTask(Task-2) nodify.node.139849830182128:node.py:get()- No need to evaluate\n"
     ]
    },
    {
     "name": "stderr",
     "output_type": "stream",
     "text": [
      "INFO\tTask(Task-2) nodify.node.139849830174448:node.py:get()- No need to evaluate\n"
     ]
    },
    {
     "name": "stderr",
     "output_type": "stream",
     "text": [
      "INFO\tTask(Task-2) nodify.node.139849830182704:node.py:get()- No need to evaluate\n"
     ]
    },
    {
     "name": "stderr",
     "output_type": "stream",
     "text": [
      "INFO\tTask(Task-2) nodify.node.139849830185248:node.py:get()- No need to evaluate\n"
     ]
    },
    {
     "name": "stderr",
     "output_type": "stream",
     "text": [
      "INFO\tTask(Task-2) nodify.node.139849830176944:node.py:get()- No need to evaluate\n"
     ]
    },
    {
     "name": "stderr",
     "output_type": "stream",
     "text": [
      "INFO\tTask(Task-2) nodify.node.139849830174448:node.py:get()- No need to evaluate\n"
     ]
    },
    {
     "name": "stderr",
     "output_type": "stream",
     "text": [
      "INFO\tTask(Task-2) nodify.node.139849830176080:node.py:get()- No need to evaluate\n"
     ]
    },
    {
     "name": "stderr",
     "output_type": "stream",
     "text": [
      "INFO\tTask(Task-2) nodify.node.139849830182128:node.py:get()- No need to evaluate\n"
     ]
    },
    {
     "name": "stderr",
     "output_type": "stream",
     "text": [
      "INFO\tTask(Task-2) nodify.node.139849830174448:node.py:get()- No need to evaluate\n"
     ]
    },
    {
     "name": "stderr",
     "output_type": "stream",
     "text": [
      "INFO\tTask(Task-2) nodify.node.139849830182704:node.py:get()- No need to evaluate\n"
     ]
    },
    {
     "name": "stderr",
     "output_type": "stream",
     "text": [
      "INFO\tTask(Task-2) nodify.node.139849830185584:node.py:get()- No need to evaluate\n"
     ]
    },
    {
     "name": "stderr",
     "output_type": "stream",
     "text": [
      "INFO\tTask(Task-2) nodify.node.139849830174448:node.py:get()- No need to evaluate\n"
     ]
    },
    {
     "name": "stderr",
     "output_type": "stream",
     "text": [
      "INFO\tTask(Task-2) nodify.node.139849830174832:node.py:get()- No need to evaluate\n"
     ]
    },
    {
     "name": "stderr",
     "output_type": "stream",
     "text": [
      "INFO\tTask(Task-2) nodify.node.139849830175648:node.py:get()- No need to evaluate\n"
     ]
    },
    {
     "name": "stderr",
     "output_type": "stream",
     "text": [
      "INFO\tTask(Task-2) nodify.node.139849830175024:node.py:get()- No need to evaluate\n"
     ]
    },
    {
     "name": "stderr",
     "output_type": "stream",
     "text": [
      "INFO\tTask(Task-2) nodify.node.139849830182608:node.py:get()- No need to evaluate\n"
     ]
    },
    {
     "name": "stderr",
     "output_type": "stream",
     "text": [
      "INFO\tTask(Task-2) nodify.node.139849830174448:node.py:get()- No need to evaluate\n"
     ]
    },
    {
     "name": "stderr",
     "output_type": "stream",
     "text": [
      "INFO\tTask(Task-2) nodify.node.139849830176080:node.py:get()- No need to evaluate\n"
     ]
    },
    {
     "name": "stderr",
     "output_type": "stream",
     "text": [
      "INFO\tTask(Task-2) nodify.node.139849830182128:node.py:get()- No need to evaluate\n"
     ]
    },
    {
     "name": "stderr",
     "output_type": "stream",
     "text": [
      "INFO\tTask(Task-2) nodify.node.139849830174448:node.py:get()- No need to evaluate\n"
     ]
    },
    {
     "name": "stderr",
     "output_type": "stream",
     "text": [
      "INFO\tTask(Task-2) nodify.node.139849830182704:node.py:get()- No need to evaluate\n"
     ]
    },
    {
     "name": "stderr",
     "output_type": "stream",
     "text": [
      "INFO\tTask(Task-2) nodify.node.139849830180064:node.py:get()- No need to evaluate\n"
     ]
    },
    {
     "name": "stderr",
     "output_type": "stream",
     "text": [
      "INFO\tTask(Task-2) nodify.node.139849830179680:node.py:get()- No need to evaluate\n"
     ]
    },
    {
     "name": "stderr",
     "output_type": "stream",
     "text": [
      "INFO\tTask(Task-2) nodify.node.139849830182416:node.py:get()- No need to evaluate\n"
     ]
    },
    {
     "name": "stderr",
     "output_type": "stream",
     "text": [
      "INFO\tTask(Task-2) nodify.node.139849831356208:node.py:get()- Evaluated because inputs changed.\n"
     ]
    },
    {
     "name": "stderr",
     "output_type": "stream",
     "text": [
      "INFO\tTask(Task-2) nodify.node.139849830186064:node.py:get()- Evaluated because inputs changed.\n"
     ]
    },
    {
     "name": "stderr",
     "output_type": "stream",
     "text": [
      "INFO\tTask(Task-2) nodify.node.139849830186544:node.py:get()- Evaluated because inputs changed.\n"
     ]
    },
    {
     "data": {
      "image/png": "[encoded data removed]"
     },
     "metadata": {},
     "output_type": "display_data"
    }
   ],
   "source": [
    "plot.update_inputs(arrows={\"color\": \"blue\"}).show(\"png\")"
   ]
  },
  {
   "cell_type": "markdown",
   "metadata": {},
   "source": [
    "**Arrows are normalized so that they fit the box** of their matrix element.\n",
    "\n",
    "It may be that pixel colors and numbers make it difficult to visualize the arrows. In that case, you can disable them both. We have already seen how to disable text. For pixel colors there's the `color_pixels` input, which is a switch to turn them on or off:"
   ]
  },
  {
   "cell_type": "code",
   "execution_count": 19,
   "metadata": {
    "execution": {
     "iopub.execute_input": "2025-08-18T08:00:59.978193Z",
     "iopub.status.busy": "2025-08-18T08:00:59.978018Z",
     "iopub.status.idle": "2025-08-18T08:01:00.116732Z",
     "shell.execute_reply": "2025-08-18T08:01:00.116242Z"
    }
   },
   "outputs": [
    {
     "name": "stderr",
     "output_type": "stream",
     "text": [
      "INFO\tTask(Task-2) nodify.node.139849830180832:node.py:get()- No need to evaluate\n"
     ]
    },
    {
     "name": "stderr",
     "output_type": "stream",
     "text": [
      "INFO\tTask(Task-2) nodify.node.139849830174448:node.py:get()- No need to evaluate\n"
     ]
    },
    {
     "name": "stderr",
     "output_type": "stream",
     "text": [
      "INFO\tTask(Task-2) nodify.node.139849830174832:node.py:get()- No need to evaluate\n"
     ]
    },
    {
     "name": "stderr",
     "output_type": "stream",
     "text": [
      "INFO\tTask(Task-2) nodify.node.139849830175648:node.py:get()- No need to evaluate\n"
     ]
    },
    {
     "name": "stderr",
     "output_type": "stream",
     "text": [
      "INFO\tTask(Task-2) nodify.node.139849830175024:node.py:get()- No need to evaluate\n"
     ]
    },
    {
     "name": "stderr",
     "output_type": "stream",
     "text": [
      "INFO\tTask(Task-2) nodify.node.139849830182608:node.py:get()- No need to evaluate\n"
     ]
    },
    {
     "name": "stderr",
     "output_type": "stream",
     "text": [
      "INFO\tTask(Task-2) nodify.node.139849830177760:node.py:get()- No need to evaluate\n"
     ]
    },
    {
     "name": "stderr",
     "output_type": "stream",
     "text": [
      "INFO\tTask(Task-2) nodify.node.139849830178144:node.py:get()- No need to evaluate\n"
     ]
    },
    {
     "name": "stderr",
     "output_type": "stream",
     "text": [
      "INFO\tTask(Task-2) nodify.node.139849830174448:node.py:get()- No need to evaluate\n"
     ]
    },
    {
     "name": "stderr",
     "output_type": "stream",
     "text": [
      "INFO\tTask(Task-2) nodify.node.139849830178528:node.py:get()- No need to evaluate\n"
     ]
    },
    {
     "name": "stderr",
     "output_type": "stream",
     "text": [
      "INFO\tTask(Task-2) nodify.node.139849830178144:node.py:get()- No need to evaluate\n"
     ]
    },
    {
     "name": "stderr",
     "output_type": "stream",
     "text": [
      "INFO\tTask(Task-2) nodify.node.139849830183856:node.py:get()- No need to evaluate\n"
     ]
    },
    {
     "name": "stderr",
     "output_type": "stream",
     "text": [
      "INFO\tTask(Task-2) nodify.node.139849830177376:node.py:get()- Evaluated because inputs changed.\n"
     ]
    },
    {
     "name": "stderr",
     "output_type": "stream",
     "text": [
      "INFO\tTask(Task-2) nodify.node.139849830178912:node.py:get()- Evaluated because inputs changed.\n"
     ]
    },
    {
     "name": "stderr",
     "output_type": "stream",
     "text": [
      "INFO\tTask(Task-2) nodify.node.139849830179296:node.py:get()- No need to evaluate\n"
     ]
    },
    {
     "name": "stderr",
     "output_type": "stream",
     "text": [
      "INFO\tTask(Task-2) nodify.node.139849830183760:node.py:get()- Evaluated because inputs changed.\n"
     ]
    },
    {
     "name": "stderr",
     "output_type": "stream",
     "text": [
      "INFO\tTask(Task-2) nodify.node.139849830174448:node.py:get()- No need to evaluate\n"
     ]
    },
    {
     "name": "stderr",
     "output_type": "stream",
     "text": [
      "INFO\tTask(Task-2) nodify.node.139849830174832:node.py:get()- No need to evaluate\n"
     ]
    },
    {
     "name": "stderr",
     "output_type": "stream",
     "text": [
      "INFO\tTask(Task-2) nodify.node.139849830175648:node.py:get()- No need to evaluate\n"
     ]
    },
    {
     "name": "stderr",
     "output_type": "stream",
     "text": [
      "INFO\tTask(Task-2) nodify.node.139849830175024:node.py:get()- No need to evaluate\n"
     ]
    },
    {
     "name": "stderr",
     "output_type": "stream",
     "text": [
      "INFO\tTask(Task-2) nodify.node.139849830182608:node.py:get()- No need to evaluate\n"
     ]
    },
    {
     "name": "stderr",
     "output_type": "stream",
     "text": [
      "INFO\tTask(Task-2) nodify.node.139849830180448:node.py:get()- No need to evaluate\n"
     ]
    },
    {
     "name": "stderr",
     "output_type": "stream",
     "text": [
      "INFO\tTask(Task-2) nodify.node.139849830184528:node.py:get()- No need to evaluate\n"
     ]
    },
    {
     "name": "stderr",
     "output_type": "stream",
     "text": [
      "INFO\tTask(Task-2) nodify.node.139849830183904:node.py:get()- No need to evaluate\n"
     ]
    },
    {
     "name": "stderr",
     "output_type": "stream",
     "text": [
      "INFO\tTask(Task-2) nodify.node.139849830176224:node.py:get()- No need to evaluate\n"
     ]
    },
    {
     "name": "stderr",
     "output_type": "stream",
     "text": [
      "INFO\tTask(Task-2) nodify.node.139849830174448:node.py:get()- No need to evaluate\n"
     ]
    },
    {
     "name": "stderr",
     "output_type": "stream",
     "text": [
      "INFO\tTask(Task-2) nodify.node.139849830176080:node.py:get()- No need to evaluate\n"
     ]
    },
    {
     "name": "stderr",
     "output_type": "stream",
     "text": [
      "INFO\tTask(Task-2) nodify.node.139849830182128:node.py:get()- No need to evaluate\n"
     ]
    },
    {
     "name": "stderr",
     "output_type": "stream",
     "text": [
      "INFO\tTask(Task-2) nodify.node.139849830174448:node.py:get()- No need to evaluate\n"
     ]
    },
    {
     "name": "stderr",
     "output_type": "stream",
     "text": [
      "INFO\tTask(Task-2) nodify.node.139849830182704:node.py:get()- No need to evaluate\n"
     ]
    },
    {
     "name": "stderr",
     "output_type": "stream",
     "text": [
      "INFO\tTask(Task-2) nodify.node.139849830184576:node.py:get()- No need to evaluate\n"
     ]
    },
    {
     "name": "stderr",
     "output_type": "stream",
     "text": [
      "INFO\tTask(Task-2) nodify.node.139849830176560:node.py:get()- No need to evaluate\n"
     ]
    },
    {
     "name": "stderr",
     "output_type": "stream",
     "text": [
      "INFO\tTask(Task-2) nodify.node.139849830174448:node.py:get()- No need to evaluate\n"
     ]
    },
    {
     "name": "stderr",
     "output_type": "stream",
     "text": [
      "INFO\tTask(Task-2) nodify.node.139849830176080:node.py:get()- No need to evaluate\n"
     ]
    },
    {
     "name": "stderr",
     "output_type": "stream",
     "text": [
      "INFO\tTask(Task-2) nodify.node.139849830182128:node.py:get()- No need to evaluate\n"
     ]
    },
    {
     "name": "stderr",
     "output_type": "stream",
     "text": [
      "INFO\tTask(Task-2) nodify.node.139849830174448:node.py:get()- No need to evaluate\n"
     ]
    },
    {
     "name": "stderr",
     "output_type": "stream",
     "text": [
      "INFO\tTask(Task-2) nodify.node.139849830182704:node.py:get()- No need to evaluate\n"
     ]
    },
    {
     "name": "stderr",
     "output_type": "stream",
     "text": [
      "INFO\tTask(Task-2) nodify.node.139849830185248:node.py:get()- No need to evaluate\n"
     ]
    },
    {
     "name": "stderr",
     "output_type": "stream",
     "text": [
      "INFO\tTask(Task-2) nodify.node.139849830176944:node.py:get()- No need to evaluate\n"
     ]
    },
    {
     "name": "stderr",
     "output_type": "stream",
     "text": [
      "INFO\tTask(Task-2) nodify.node.139849830174448:node.py:get()- No need to evaluate\n"
     ]
    },
    {
     "name": "stderr",
     "output_type": "stream",
     "text": [
      "INFO\tTask(Task-2) nodify.node.139849830176080:node.py:get()- No need to evaluate\n"
     ]
    },
    {
     "name": "stderr",
     "output_type": "stream",
     "text": [
      "INFO\tTask(Task-2) nodify.node.139849830182128:node.py:get()- No need to evaluate\n"
     ]
    },
    {
     "name": "stderr",
     "output_type": "stream",
     "text": [
      "INFO\tTask(Task-2) nodify.node.139849830174448:node.py:get()- No need to evaluate\n"
     ]
    },
    {
     "name": "stderr",
     "output_type": "stream",
     "text": [
      "INFO\tTask(Task-2) nodify.node.139849830182704:node.py:get()- No need to evaluate\n"
     ]
    },
    {
     "name": "stderr",
     "output_type": "stream",
     "text": [
      "INFO\tTask(Task-2) nodify.node.139849830185584:node.py:get()- No need to evaluate\n"
     ]
    },
    {
     "name": "stderr",
     "output_type": "stream",
     "text": [
      "INFO\tTask(Task-2) nodify.node.139849830174448:node.py:get()- No need to evaluate\n"
     ]
    },
    {
     "name": "stderr",
     "output_type": "stream",
     "text": [
      "INFO\tTask(Task-2) nodify.node.139849830174832:node.py:get()- No need to evaluate\n"
     ]
    },
    {
     "name": "stderr",
     "output_type": "stream",
     "text": [
      "INFO\tTask(Task-2) nodify.node.139849830175648:node.py:get()- No need to evaluate\n"
     ]
    },
    {
     "name": "stderr",
     "output_type": "stream",
     "text": [
      "INFO\tTask(Task-2) nodify.node.139849830175024:node.py:get()- No need to evaluate\n"
     ]
    },
    {
     "name": "stderr",
     "output_type": "stream",
     "text": [
      "INFO\tTask(Task-2) nodify.node.139849830182608:node.py:get()- No need to evaluate\n"
     ]
    },
    {
     "name": "stderr",
     "output_type": "stream",
     "text": [
      "INFO\tTask(Task-2) nodify.node.139849830174448:node.py:get()- No need to evaluate\n"
     ]
    },
    {
     "name": "stderr",
     "output_type": "stream",
     "text": [
      "INFO\tTask(Task-2) nodify.node.139849830176080:node.py:get()- No need to evaluate\n"
     ]
    },
    {
     "name": "stderr",
     "output_type": "stream",
     "text": [
      "INFO\tTask(Task-2) nodify.node.139849830182128:node.py:get()- No need to evaluate\n"
     ]
    },
    {
     "name": "stderr",
     "output_type": "stream",
     "text": [
      "INFO\tTask(Task-2) nodify.node.139849830174448:node.py:get()- No need to evaluate\n"
     ]
    },
    {
     "name": "stderr",
     "output_type": "stream",
     "text": [
      "INFO\tTask(Task-2) nodify.node.139849830182704:node.py:get()- No need to evaluate\n"
     ]
    },
    {
     "name": "stderr",
     "output_type": "stream",
     "text": [
      "INFO\tTask(Task-2) nodify.node.139849830180064:node.py:get()- No need to evaluate\n"
     ]
    },
    {
     "name": "stderr",
     "output_type": "stream",
     "text": [
      "INFO\tTask(Task-2) nodify.node.139849830179680:node.py:get()- No need to evaluate\n"
     ]
    },
    {
     "name": "stderr",
     "output_type": "stream",
     "text": [
      "INFO\tTask(Task-2) nodify.node.139849830182416:node.py:get()- No need to evaluate\n"
     ]
    },
    {
     "name": "stderr",
     "output_type": "stream",
     "text": [
      "INFO\tTask(Task-2) nodify.node.139849831356208:node.py:get()- Evaluated because inputs changed.\n"
     ]
    },
    {
     "name": "stderr",
     "output_type": "stream",
     "text": [
      "INFO\tTask(Task-2) nodify.node.139849830186064:node.py:get()- Evaluated because inputs changed.\n"
     ]
    },
    {
     "name": "stderr",
     "output_type": "stream",
     "text": [
      "INFO\tTask(Task-2) nodify.node.139849830186544:node.py:get()- Evaluated because inputs changed.\n"
     ]
    },
    {
     "data": {
      "application/vnd.plotly.v1+json": {
       "config": {
        "plotlyServerURL": "https://plot.ly"
       },
       "data": [
        {
         "coloraxis": "coloraxis",
         "meta": {},
         "opacity": 0,
         "textfont": {
          "color": "black"
         },
         "type": "heatmap",
         "z": {
          "bdata": "7MfmIeDi0r9KfjQdWnDRv7gTXr5BXrK/djWLuS+i37+inz7iSAjfPwAAAAAAAPh/AAAAAAAA+H8AAAAAAAD4fwAAAAAAAPh/80RmK2IhpD8AAAAAAAD4fwAAAAAAAPh/AAAAAAAA+H8AAAAAAAD4fwAAAAAAAPh/Sn40HVpw0b8kg0LpUc3hv5bVvdGw0OM/+Af+SCOa17+qSV/mu2/oPwAAAAAAAPh/AAAAAAAA+H8AAAAAAAD4fwAAAAAAAPh/YP12GdOYaz8AAAAAAAD4fwAAAAAAAPh/AAAAAAAA+H8AAAAAAAD4fwAAAAAAAPh/uBNevkFesr+W1b3RsNDjP8CLnA9VMdy/Ir2d2ruv0L+GzoLWKlbSvwAAAAAAAPh/AAAAAAAA+H8AAAAAAAD4fwAAAAAAAPh/LdoHaGxxrr8AAAAAAAD4fwAAAAAAAPh/AAAAAAAA+H8AAAAAAAD4fwAAAAAAAPh/djWLuS+i37/4B/5II5rXvyK9ndq7r9C/omVng5o75b+OyZyCv/zrvwAAAAAAAPh/AAAAAAAA+H8AAAAAAAD4fwAAAAAAAPh/1PdYEXOis78AAAAAAAD4fwAAAAAAAPh/AAAAAAAA+H8AAAAAAAD4fwAAAAAAAPh/op8+4kgI3z+qSV/mu2/oP4bOgtYqVtK/jsmcgr/867+IazCxoEPevwAAAAAAAPh/AAAAAAAA+H8AAAAAAAD4fwAAAAAAAPh/AAAAAAAA+H/zRGYrYiGkP2D9dhnTmGs/LdoHaGxxrr/U91gRc6KzvwAAAAAAAPh/",
          "dtype": "f8",
          "shape": "5, 15"
         },
         "zsmooth": false
        },
        {
         "hovertext": [
          "[0.         0.33740722]",
          "[0.         0.33740722]",
          "[0.         0.33740722]",
          "[0.         0.33740722]",
          "[0.         0.33740722]",
          "[0.         0.33740722]",
          "[0.         0.33740722]",
          "[0.         0.31154982]",
          "[0.         0.31154982]",
          "[0.         0.31154982]",
          "[0.         0.31154982]",
          "[0.         0.31154982]",
          "[0.         0.31154982]",
          "[0.         0.31154982]",
          "[0.         0.08203807]",
          "[0.         0.08203807]",
          "[0.         0.08203807]",
          "[0.         0.08203807]",
          "[0.         0.08203807]",
          "[0.         0.08203807]",
          "[0.         0.08203807]",
          "[0.         0.56514104]",
          "[0.         0.56514104]",
          "[0.         0.56514104]",
          "[0.         0.56514104]",
          "[0.         0.56514104]",
          "[0.         0.56514104]",
          "[0.         0.56514104]",
          "[ 0.         -0.55440084]",
          "[ 0.         -0.55440084]",
          "[ 0.         -0.55440084]",
          "[ 0.         -0.55440084]",
          "[ 0.         -0.55440084]",
          "[ 0.         -0.55440084]",
          "[ 0.         -0.55440084]",
          "[ 0. nan]",
          "[ 0. nan]",
          "[ 0. nan]",
          "[ 0. nan]",
          "[ 0. nan]",
          "[ 0. nan]",
          "[ 0. nan]",
          "[ 0. nan]",
          "[ 0. nan]",
          "[ 0. nan]",
          "[ 0. nan]",
          "[ 0. nan]",
          "[ 0. nan]",
          "[ 0. nan]",
          "[ 0. nan]",
          "[ 0. nan]",
          "[ 0. nan]",
          "[ 0. nan]",
          "[ 0. nan]",
          "[ 0. nan]",
          "[ 0. nan]",
          "[ 0. nan]",
          "[ 0. nan]",
          "[ 0. nan]",
          "[ 0. nan]",
          "[ 0. nan]",
          "[ 0. nan]",
          "[ 0. nan]",
          "[ 0.         -0.04495433]",
          "[ 0.         -0.04495433]",
          "[ 0.         -0.04495433]",
          "[ 0.         -0.04495433]",
          "[ 0.         -0.04495433]",
          "[ 0.         -0.04495433]",
          "[ 0.         -0.04495433]",
          "[ 0. nan]",
          "[ 0. nan]",
          "[ 0. nan]",
          "[ 0. nan]",
          "[ 0. nan]",
          "[ 0. nan]",
          "[ 0. nan]",
          "[ 0. nan]",
          "[ 0. nan]",
          "[ 0. nan]",
          "[ 0. nan]",
          "[ 0. nan]",
          "[ 0. nan]",
          "[ 0. nan]",
          "[ 0. nan]",
          "[ 0. nan]",
          "[ 0. nan]",
          "[ 0. nan]",
          "[ 0. nan]",
          "[ 0. nan]",
          "[ 0. nan]",
          "[ 0. nan]",
          "[ 0. nan]",
          "[ 0. nan]",
          "[ 0. nan]",
          "[ 0. nan]",
          "[ 0. nan]",
          "[ 0. nan]",
          "[ 0. nan]",
          "[ 0. nan]",
          "[ 0. nan]",
          "[ 0. nan]",
          "[ 0. nan]",
          "[ 0. nan]",
          "[ 0. nan]",
          "[0.         0.31154982]",
          "[0.         0.31154982]",
          "[0.         0.31154982]",
          "[0.         0.31154982]",
          "[0.         0.31154982]",
          "[0.         0.31154982]",
          "[0.         0.31154982]",
          "[0.         0.63607539]",
          "[0.         0.63607539]",
          "[0.         0.63607539]",
          "[0.         0.63607539]",
          "[0.         0.63607539]",
          "[0.         0.63607539]",
          "[0.         0.63607539]",
          "[ 0.         -0.70800685]",
          "[ 0.         -0.70800685]",
          "[ 0.         -0.70800685]",
          "[ 0.         -0.70800685]",
          "[ 0.         -0.70800685]",
          "[ 0.         -0.70800685]",
          "[ 0.         -0.70800685]",
          "[0.         0.42165738]",
          "[0.         0.42165738]",
          "[0.         0.42165738]",
          "[0.         0.42165738]",
          "[0.         0.42165738]",
          "[0.         0.42165738]",
          "[0.         0.42165738]",
          "[ 0.         -0.87312686]",
          "[ 0.         -0.87312686]",
          "[ 0.         -0.87312686]",
          "[ 0.         -0.87312686]",
          "[ 0.         -0.87312686]",
          "[ 0.         -0.87312686]",
          "[ 0.         -0.87312686]",
          "[ 0. nan]",
          "[ 0. nan]",
          "[ 0. nan]",
          "[ 0. nan]",
          "[ 0. nan]",
          "[ 0. nan]",
          "[ 0. nan]",
          "[ 0. nan]",
          "[ 0. nan]",
          "[ 0. nan]",
          "[ 0. nan]",
          "[ 0. nan]",
          "[ 0. nan]",
          "[ 0. nan]",
          "[ 0. nan]",
          "[ 0. nan]",
          "[ 0. nan]",
          "[ 0. nan]",
          "[ 0. nan]",
          "[ 0. nan]",
          "[ 0. nan]",
          "[ 0. nan]",
          "[ 0. nan]",
          "[ 0. nan]",
          "[ 0. nan]",
          "[ 0. nan]",
          "[ 0. nan]",
          "[ 0. nan]",
          "[ 0.         -0.00385177]",
          "[ 0.         -0.00385177]",
          "[ 0.         -0.00385177]",
          "[ 0.         -0.00385177]",
          "[ 0.         -0.00385177]",
          "[ 0.         -0.00385177]",
          "[ 0.         -0.00385177]",
          "[ 0. nan]",
          "[ 0. nan]",
          "[ 0. nan]",
          "[ 0. nan]",
          "[ 0. nan]",
          "[ 0. nan]",
          "[ 0. nan]",
          "[ 0. nan]",
          "[ 0. nan]",
          "[ 0. nan]",
          "[ 0. nan]",
          "[ 0. nan]",
          "[ 0. nan]",
          "[ 0. nan]",
          "[ 0. nan]",
          "[ 0. nan]",
          "[ 0. nan]",
          "[ 0. nan]",
          "[ 0. nan]",
          "[ 0. nan]",
          "[ 0. nan]",
          "[ 0. nan]",
          "[ 0. nan]",
          "[ 0. nan]",
          "[ 0. nan]",
          "[ 0. nan]",
          "[ 0. nan]",
          "[ 0. nan]",
          "[ 0. nan]",
          "[ 0. nan]",
          "[ 0. nan]",
          "[ 0. nan]",
          "[ 0. nan]",
          "[ 0. nan]",
          "[ 0. nan]",
          "[0.         0.08203807]",
          "[0.         0.08203807]",
          "[0.         0.08203807]",
          "[0.         0.08203807]",
          "[0.         0.08203807]",
          "[0.         0.08203807]",
          "[0.         0.08203807]",
          "[ 0.         -0.70800685]",
          "[ 0.         -0.70800685]",
          "[ 0.         -0.70800685]",
          "[ 0.         -0.70800685]",
          "[ 0.         -0.70800685]",
          "[ 0.         -0.70800685]",
          "[ 0.         -0.70800685]",
          "[0.         0.50366965]",
          "[0.         0.50366965]",
          "[0.         0.50366965]",
          "[0.         0.50366965]",
          "[0.         0.50366965]",
          "[0.         0.50366965]",
          "[0.         0.50366965]",
          "[0.         0.29810775]",
          "[0.         0.29810775]",
          "[0.         0.29810775]",
          "[0.         0.29810775]",
          "[0.         0.29810775]",
          "[0.         0.29810775]",
          "[0.         0.29810775]",
          "[0.         0.32758774]",
          "[0.         0.32758774]",
          "[0.         0.32758774]",
          "[0.         0.32758774]",
          "[0.         0.32758774]",
          "[0.         0.32758774]",
          "[0.         0.32758774]",
          "[ 0. nan]",
          "[ 0. nan]",
          "[ 0. nan]",
          "[ 0. nan]",
          "[ 0. nan]",
          "[ 0. nan]",
          "[ 0. nan]",
          "[ 0. nan]",
          "[ 0. nan]",
          "[ 0. nan]",
          "[ 0. nan]",
          "[ 0. nan]",
          "[ 0. nan]",
          "[ 0. nan]",
          "[ 0. nan]",
          "[ 0. nan]",
          "[ 0. nan]",
          "[ 0. nan]",
          "[ 0. nan]",
          "[ 0. nan]",
          "[ 0. nan]",
          "[ 0. nan]",
          "[ 0. nan]",
          "[ 0. nan]",
          "[ 0. nan]",
          "[ 0. nan]",
          "[ 0. nan]",
          "[ 0. nan]",
          "[0.        0.0679841]",
          "[0.        0.0679841]",
          "[0.        0.0679841]",
          "[0.        0.0679841]",
          "[0.        0.0679841]",
          "[0.        0.0679841]",
          "[0.        0.0679841]",
          "[ 0. nan]",
          "[ 0. nan]",
          "[ 0. nan]",
          "[ 0. nan]",
          "[ 0. nan]",
          "[ 0. nan]",
          "[ 0. nan]",
          "[ 0. nan]",
          "[ 0. nan]",
          "[ 0. nan]",
          "[ 0. nan]",
          "[ 0. nan]",
          "[ 0. nan]",
          "[ 0. nan]",
          "[ 0. nan]",
          "[ 0. nan]",
          "[ 0. nan]",
          "[ 0. nan]",
          "[ 0. nan]",
          "[ 0. nan]",
          "[ 0. nan]",
          "[ 0. nan]",
          "[ 0. nan]",
          "[ 0. nan]",
          "[ 0. nan]",
          "[ 0. nan]",
          "[ 0. nan]",
          "[ 0. nan]",
          "[ 0. nan]",
          "[ 0. nan]",
          "[ 0. nan]",
          "[ 0. nan]",
          "[ 0. nan]",
          "[ 0. nan]",
          "[ 0. nan]",
          "[0.         0.56514104]",
          "[0.         0.56514104]",
          "[0.         0.56514104]",
          "[0.         0.56514104]",
          "[0.         0.56514104]",
          "[0.         0.56514104]",
          "[0.         0.56514104]",
          "[0.         0.42165738]",
          "[0.         0.42165738]",
          "[0.         0.42165738]",
          "[0.         0.42165738]",
          "[0.         0.42165738]",
          "[0.         0.42165738]",
          "[0.         0.42165738]",
          "[0.         0.29810775]",
          "[0.         0.29810775]",
          "[0.         0.29810775]",
          "[0.         0.29810775]",
          "[0.         0.29810775]",
          "[0.         0.29810775]",
          "[0.         0.29810775]",
          "[0.         0.75865941]",
          "[0.         0.75865941]",
          "[0.         0.75865941]",
          "[0.         0.75865941]",
          "[0.         0.75865941]",
          "[0.         0.75865941]",
          "[0.         0.75865941]",
          "[0. 1.]",
          "[0. 1.]",
          "[0. 1.]",
          "[0. 1.]",
          "[0. 1.]",
          "[0. 1.]",
          "[0. 1.]",
          "[ 0. nan]",
          "[ 0. nan]",
          "[ 0. nan]",
          "[ 0. nan]",
          "[ 0. nan]",
          "[ 0. nan]",
          "[ 0. nan]",
          "[ 0. nan]",
          "[ 0. nan]",
          "[ 0. nan]",
          "[ 0. nan]",
          "[ 0. nan]",
          "[ 0. nan]",
          "[ 0. nan]",
          "[ 0. nan]",
          "[ 0. nan]",
          "[ 0. nan]",
          "[ 0. nan]",
          "[ 0. nan]",
          "[ 0. nan]",
          "[ 0. nan]",
          "[ 0. nan]",
          "[ 0. nan]",
          "[ 0. nan]",
          "[ 0. nan]",
          "[ 0. nan]",
          "[ 0. nan]",
          "[ 0. nan]",
          "[0.         0.08769411]",
          "[0.         0.08769411]",
          "[0.         0.08769411]",
          "[0.         0.08769411]",
          "[0.         0.08769411]",
          "[0.         0.08769411]",
          "[0.         0.08769411]",
          "[ 0. nan]",
          "[ 0. nan]",
          "[ 0. nan]",
          "[ 0. nan]",
          "[ 0. nan]",
          "[ 0. nan]",
          "[ 0. nan]",
          "[ 0. nan]",
          "[ 0. nan]",
          "[ 0. nan]",
          "[ 0. nan]",
          "[ 0. nan]",
          "[ 0. nan]",
          "[ 0. nan]",
          "[ 0. nan]",
          "[ 0. nan]",
          "[ 0. nan]",
          "[ 0. nan]",
          "[ 0. nan]",
          "[ 0. nan]",
          "[ 0. nan]",
          "[ 0. nan]",
          "[ 0. nan]",
          "[ 0. nan]",
          "[ 0. nan]",
          "[ 0. nan]",
          "[ 0. nan]",
          "[ 0. nan]",
          "[ 0. nan]",
          "[ 0. nan]",
          "[ 0. nan]",
          "[ 0. nan]",
          "[ 0. nan]",
          "[ 0. nan]",
          "[ 0. nan]",
          "[ 0.         -0.55440084]",
          "[ 0.         -0.55440084]",
          "[ 0.         -0.55440084]",
          "[ 0.         -0.55440084]",
          "[ 0.         -0.55440084]",
          "[ 0.         -0.55440084]",
          "[ 0.         -0.55440084]",
          "[ 0.         -0.87312686]",
          "[ 0.         -0.87312686]",
          "[ 0.         -0.87312686]",
          "[ 0.         -0.87312686]",
          "[ 0.         -0.87312686]",
          "[ 0.         -0.87312686]",
          "[ 0.         -0.87312686]",
          "[0.         0.32758774]",
          "[0.         0.32758774]",
          "[0.         0.32758774]",
          "[0.         0.32758774]",
          "[0.         0.32758774]",
          "[0.         0.32758774]",
          "[0.         0.32758774]",
          "[0. 1.]",
          "[0. 1.]",
          "[0. 1.]",
          "[0. 1.]",
          "[0. 1.]",
          "[0. 1.]",
          "[0. 1.]",
          "[0.         0.54067691]",
          "[0.         0.54067691]",
          "[0.         0.54067691]",
          "[0.         0.54067691]",
          "[0.         0.54067691]",
          "[0.         0.54067691]",
          "[0.         0.54067691]",
          "[ 0. nan]",
          "[ 0. nan]",
          "[ 0. nan]",
          "[ 0. nan]",
          "[ 0. nan]",
          "[ 0. nan]",
          "[ 0. nan]",
          "[ 0. nan]",
          "[ 0. nan]",
          "[ 0. nan]",
          "[ 0. nan]",
          "[ 0. nan]",
          "[ 0. nan]",
          "[ 0. nan]",
          "[ 0. nan]",
          "[ 0. nan]",
          "[ 0. nan]",
          "[ 0. nan]",
          "[ 0. nan]",
          "[ 0. nan]",
          "[ 0. nan]",
          "[ 0. nan]",
          "[ 0. nan]",
          "[ 0. nan]",
          "[ 0. nan]",
          "[ 0. nan]",
          "[ 0. nan]",
          "[ 0. nan]",
          "[ 0. nan]",
          "[ 0. nan]",
          "[ 0. nan]",
          "[ 0. nan]",
          "[ 0. nan]",
          "[ 0. nan]",
          "[ 0. nan]",
          "[ 0.         -0.04495433]",
          "[ 0.         -0.04495433]",
          "[ 0.         -0.04495433]",
          "[ 0.         -0.04495433]",
          "[ 0.         -0.04495433]",
          "[ 0.         -0.04495433]",
          "[ 0.         -0.04495433]",
          "[ 0.         -0.00385177]",
          "[ 0.         -0.00385177]",
          "[ 0.         -0.00385177]",
          "[ 0.         -0.00385177]",
          "[ 0.         -0.00385177]",
          "[ 0.         -0.00385177]",
          "[ 0.         -0.00385177]",
          "[0.        0.0679841]",
          "[0.        0.0679841]",
          "[0.        0.0679841]",
          "[0.        0.0679841]",
          "[0.        0.0679841]",
          "[0.        0.0679841]",
          "[0.        0.0679841]",
          "[0.         0.08769411]",
          "[0.         0.08769411]",
          "[0.         0.08769411]",
          "[0.         0.08769411]",
          "[0.         0.08769411]",
          "[0.         0.08769411]",
          "[0.         0.08769411]",
          "[ 0. nan]",
          "[ 0. nan]",
          "[ 0. nan]",
          "[ 0. nan]",
          "[ 0. nan]",
          "[ 0. nan]",
          "[ 0. nan]"
         ],
         "line": {
          "color": "blue"
         },
         "meta": {},
         "mode": "lines",
         "type": "scatter",
         "x": {
          "bdata": "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",
          "dtype": "f8"
         },
         "y": {
          "bdata": "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",
          "dtype": "f8"
         }
        },
        {
         "line": {
          "color": "pink",
          "dash": "dash",
          "width": 5
         },
         "meta": {},
         "mode": "lines",
         "name": "orbitals separators",
         "opacity": 0.8,
         "showlegend": false,
         "type": "scatter",
         "x": {
          "bdata": "AAAAAAAA4L8AAAAAAAASQAAAAAAAAPh/AAAAAAAA4D8AAAAAAADgPwAAAAAAAPh/",
          "dtype": "f8"
         },
         "y": {
          "bdata": "AAAAAAAA4D8AAAAAAADgPwAAAAAAAPh/AAAAAAAA4L8AAAAAAAASQAAAAAAAAPh/",
          "dtype": "f8"
         }
        },
        {
         "line": {
          "color": "gray"
         },
         "meta": {},
         "mode": "lines",
         "name": "atoms separators",
         "opacity": 1,
         "showlegend": false,
         "type": "scatter",
         "x": {
          "bdata": "AAAAAAAA4L8AAAAAAAASQAAAAAAAAPh/AAAAAAAADEAAAAAAAAAMQAAAAAAAAPh/",
          "dtype": "f8"
         },
         "y": {
          "bdata": "AAAAAAAADEAAAAAAAAAMQAAAAAAAAPh/AAAAAAAA4L8AAAAAAAASQAAAAAAAAPh/",
          "dtype": "f8"
         }
        }
       ],
       "layout": {
        "coloraxis": {
         "cmid": 0,
         "colorscale": [
          [
           0.0,
           "rgb(0, 147, 146)"
          ],
          [
           0.16666666666666666,
           "rgb(57, 177, 133)"
          ],
          [
           0.3333333333333333,
           "rgb(156, 203, 134)"
          ],
          [
           0.5,
           "rgb(233, 226, 156)"
          ],
          [
           0.6666666666666666,
           "rgb(238, 180, 121)"
          ],
          [
           0.8333333333333334,
           "rgb(232, 132, 113)"
          ],
          [
           1.0,
           "rgb(207, 89, 126)"
          ]
         ],
         "showscale": false
        },
        "scene": {
         "aspectmode": "data",
         "xaxis": {
          "range": [
           -0.5,
           14.5
          ]
         },
         "yaxis": {
          "range": [
           4.5,
           -0.5
          ]
         }
        },
        "template": {
         "layout": {
          "hovermode": "closest",
          "paper_bgcolor": "white",
          "plot_bgcolor": "white",
          "scene": {
           "xaxis": {
            "color": "black",
            "gridcolor": "#ccc",
            "gridwidth": 1,
            "linewidth": 1,
            "mirror": true,
            "showgrid": false,
            "showline": true,
            "ticklen": 5,
            "ticks": "outside",
            "ticksuffix": " ",
            "visible": true,
            "zeroline": false,
            "zerolinecolor": "#ccc",
            "zerolinewidth": 1
           },
           "yaxis": {
            "color": "black",
            "gridcolor": "#ccc",
            "gridwidth": 1,
            "linewidth": 1,
            "mirror": true,
            "showgrid": false,
            "showline": true,
            "ticklen": 5,
            "ticks": "outside",
            "ticksuffix": " ",
            "visible": true,
            "zeroline": false,
            "zerolinecolor": "#ccc",
            "zerolinewidth": 1
           },
           "zaxis": {
            "color": "black",
            "gridcolor": "#ccc",
            "gridwidth": 1,
            "linewidth": 1,
            "mirror": true,
            "showgrid": false,
            "showline": true,
            "ticklen": 5,
            "ticks": "outside",
            "ticksuffix": " ",
            "visible": true,
            "zeroline": false,
            "zerolinecolor": "#ccc",
            "zerolinewidth": 1
           }
          },
          "xaxis": {
           "color": "black",
           "gridcolor": "#ccc",
           "gridwidth": 1,
           "linewidth": 1,
           "mirror": true,
           "showgrid": false,
           "showline": true,
           "ticklen": 5,
           "ticks": "outside",
           "ticksuffix": " ",
           "visible": true,
           "zeroline": false,
           "zerolinecolor": "#ccc",
           "zerolinewidth": 1
          },
          "yaxis": {
           "color": "black",
           "gridcolor": "#ccc",
           "gridwidth": 1,
           "linewidth": 1,
           "mirror": true,
           "showgrid": false,
           "showline": true,
           "ticklen": 5,
           "ticks": "outside",
           "ticksuffix": " ",
           "visible": true,
           "zeroline": false,
           "zerolinecolor": "#ccc",
           "zerolinewidth": 1
          }
         }
        },
        "xaxis": {
         "constrain": "domain",
         "range": [
          -0.5,
          14.5
         ],
         "scaleanchor": "y",
         "scaleratio": 1
        },
        "yaxis": {
         "constrain": "domain",
         "range": [
          4.5,
          -0.5
         ]
        }
       }
      }
     },
     "metadata": {},
     "output_type": "display_data"
    }
   ],
   "source": [
    "plot.update_inputs(color_pixels=False, text=None)"
   ]
  },
  {
   "cell_type": "markdown",
   "metadata": {},
   "source": [
    "If you want to plot custom data for the arrows, you have to pass a sparse matrix where the last dimension is the cartesian coordinate `(X, Y)`. Let's create some random data to display it:"
   ]
  },
  {
   "cell_type": "code",
   "execution_count": 20,
   "metadata": {
    "execution": {
     "iopub.execute_input": "2025-08-18T08:01:00.118451Z",
     "iopub.status.busy": "2025-08-18T08:01:00.118256Z",
     "iopub.status.idle": "2025-08-18T08:01:00.261265Z",
     "shell.execute_reply": "2025-08-18T08:01:00.260622Z"
    }
   },
   "outputs": [
    {
     "name": "stderr",
     "output_type": "stream",
     "text": [
      "INFO\tTask(Task-2) nodify.node.139849830180832:node.py:get()- No need to evaluate\n"
     ]
    },
    {
     "name": "stderr",
     "output_type": "stream",
     "text": [
      "INFO\tTask(Task-2) nodify.node.139849830174448:node.py:get()- No need to evaluate\n"
     ]
    },
    {
     "name": "stderr",
     "output_type": "stream",
     "text": [
      "INFO\tTask(Task-2) nodify.node.139849830174832:node.py:get()- No need to evaluate\n"
     ]
    },
    {
     "name": "stderr",
     "output_type": "stream",
     "text": [
      "INFO\tTask(Task-2) nodify.node.139849830175648:node.py:get()- No need to evaluate\n"
     ]
    },
    {
     "name": "stderr",
     "output_type": "stream",
     "text": [
      "INFO\tTask(Task-2) nodify.node.139849830175024:node.py:get()- No need to evaluate\n"
     ]
    },
    {
     "name": "stderr",
     "output_type": "stream",
     "text": [
      "INFO\tTask(Task-2) nodify.node.139849830182608:node.py:get()- No need to evaluate\n"
     ]
    },
    {
     "name": "stderr",
     "output_type": "stream",
     "text": [
      "INFO\tTask(Task-2) nodify.node.139849830177760:node.py:get()- No need to evaluate\n"
     ]
    },
    {
     "name": "stderr",
     "output_type": "stream",
     "text": [
      "INFO\tTask(Task-2) nodify.node.139849830178144:node.py:get()- No need to evaluate\n"
     ]
    },
    {
     "name": "stderr",
     "output_type": "stream",
     "text": [
      "INFO\tTask(Task-2) nodify.node.139849830174448:node.py:get()- No need to evaluate\n"
     ]
    },
    {
     "name": "stderr",
     "output_type": "stream",
     "text": [
      "INFO\tTask(Task-2) nodify.node.139849830178528:node.py:get()- No need to evaluate\n"
     ]
    },
    {
     "name": "stderr",
     "output_type": "stream",
     "text": [
      "INFO\tTask(Task-2) nodify.node.139849830178144:node.py:get()- No need to evaluate\n"
     ]
    },
    {
     "name": "stderr",
     "output_type": "stream",
     "text": [
      "INFO\tTask(Task-2) nodify.node.139849830183856:node.py:get()- No need to evaluate\n"
     ]
    },
    {
     "name": "stderr",
     "output_type": "stream",
     "text": [
      "INFO\tTask(Task-2) nodify.node.139849830177376:node.py:get()- No need to evaluate\n"
     ]
    },
    {
     "name": "stderr",
     "output_type": "stream",
     "text": [
      "INFO\tTask(Task-2) nodify.node.139849830178912:node.py:get()- No need to evaluate\n"
     ]
    },
    {
     "name": "stderr",
     "output_type": "stream",
     "text": [
      "INFO\tTask(Task-2) nodify.node.139849830179296:node.py:get()- No need to evaluate\n"
     ]
    },
    {
     "name": "stderr",
     "output_type": "stream",
     "text": [
      "INFO\tTask(Task-2) nodify.node.139849830183760:node.py:get()- No need to evaluate\n"
     ]
    },
    {
     "name": "stderr",
     "output_type": "stream",
     "text": [
      "INFO\tTask(Task-2) nodify.node.139849830174448:node.py:get()- No need to evaluate\n"
     ]
    },
    {
     "name": "stderr",
     "output_type": "stream",
     "text": [
      "INFO\tTask(Task-2) nodify.node.139849830174832:node.py:get()- No need to evaluate\n"
     ]
    },
    {
     "name": "stderr",
     "output_type": "stream",
     "text": [
      "INFO\tTask(Task-2) nodify.node.139849830175648:node.py:get()- No need to evaluate\n"
     ]
    },
    {
     "name": "stderr",
     "output_type": "stream",
     "text": [
      "INFO\tTask(Task-2) nodify.node.139849830175024:node.py:get()- No need to evaluate\n"
     ]
    },
    {
     "name": "stderr",
     "output_type": "stream",
     "text": [
      "INFO\tTask(Task-2) nodify.node.139849830182608:node.py:get()- No need to evaluate\n"
     ]
    },
    {
     "name": "stderr",
     "output_type": "stream",
     "text": [
      "INFO\tTask(Task-2) nodify.node.139849830180448:node.py:get()- Evaluated because inputs changed.\n"
     ]
    },
    {
     "name": "stderr",
     "output_type": "stream",
     "text": [
      "INFO\tTask(Task-2) nodify.node.139849830184528:node.py:get()- Evaluated because inputs changed.\n"
     ]
    },
    {
     "name": "stderr",
     "output_type": "stream",
     "text": [
      "INFO\tTask(Task-2) nodify.node.139849830183904:node.py:get()- Evaluated because inputs changed.\n"
     ]
    },
    {
     "name": "stderr",
     "output_type": "stream",
     "text": [
      "INFO\tTask(Task-2) nodify.node.139849830176224:node.py:get()- No need to evaluate\n"
     ]
    },
    {
     "name": "stderr",
     "output_type": "stream",
     "text": [
      "INFO\tTask(Task-2) nodify.node.139849830174448:node.py:get()- No need to evaluate\n"
     ]
    },
    {
     "name": "stderr",
     "output_type": "stream",
     "text": [
      "INFO\tTask(Task-2) nodify.node.139849830176080:node.py:get()- No need to evaluate\n"
     ]
    },
    {
     "name": "stderr",
     "output_type": "stream",
     "text": [
      "INFO\tTask(Task-2) nodify.node.139849830182128:node.py:get()- No need to evaluate\n"
     ]
    },
    {
     "name": "stderr",
     "output_type": "stream",
     "text": [
      "INFO\tTask(Task-2) nodify.node.139849830174448:node.py:get()- No need to evaluate\n"
     ]
    },
    {
     "name": "stderr",
     "output_type": "stream",
     "text": [
      "INFO\tTask(Task-2) nodify.node.139849830182704:node.py:get()- No need to evaluate\n"
     ]
    },
    {
     "name": "stderr",
     "output_type": "stream",
     "text": [
      "INFO\tTask(Task-2) nodify.node.139849830184576:node.py:get()- No need to evaluate\n"
     ]
    },
    {
     "name": "stderr",
     "output_type": "stream",
     "text": [
      "INFO\tTask(Task-2) nodify.node.139849830176560:node.py:get()- No need to evaluate\n"
     ]
    },
    {
     "name": "stderr",
     "output_type": "stream",
     "text": [
      "INFO\tTask(Task-2) nodify.node.139849830174448:node.py:get()- No need to evaluate\n"
     ]
    },
    {
     "name": "stderr",
     "output_type": "stream",
     "text": [
      "INFO\tTask(Task-2) nodify.node.139849830176080:node.py:get()- No need to evaluate\n"
     ]
    },
    {
     "name": "stderr",
     "output_type": "stream",
     "text": [
      "INFO\tTask(Task-2) nodify.node.139849830182128:node.py:get()- No need to evaluate\n"
     ]
    },
    {
     "name": "stderr",
     "output_type": "stream",
     "text": [
      "INFO\tTask(Task-2) nodify.node.139849830174448:node.py:get()- No need to evaluate\n"
     ]
    },
    {
     "name": "stderr",
     "output_type": "stream",
     "text": [
      "INFO\tTask(Task-2) nodify.node.139849830182704:node.py:get()- No need to evaluate\n"
     ]
    },
    {
     "name": "stderr",
     "output_type": "stream",
     "text": [
      "INFO\tTask(Task-2) nodify.node.139849830185248:node.py:get()- No need to evaluate\n"
     ]
    },
    {
     "name": "stderr",
     "output_type": "stream",
     "text": [
      "INFO\tTask(Task-2) nodify.node.139849830176944:node.py:get()- No need to evaluate\n"
     ]
    },
    {
     "name": "stderr",
     "output_type": "stream",
     "text": [
      "INFO\tTask(Task-2) nodify.node.139849830174448:node.py:get()- No need to evaluate\n"
     ]
    },
    {
     "name": "stderr",
     "output_type": "stream",
     "text": [
      "INFO\tTask(Task-2) nodify.node.139849830176080:node.py:get()- No need to evaluate\n"
     ]
    },
    {
     "name": "stderr",
     "output_type": "stream",
     "text": [
      "INFO\tTask(Task-2) nodify.node.139849830182128:node.py:get()- No need to evaluate\n"
     ]
    },
    {
     "name": "stderr",
     "output_type": "stream",
     "text": [
      "INFO\tTask(Task-2) nodify.node.139849830174448:node.py:get()- No need to evaluate\n"
     ]
    },
    {
     "name": "stderr",
     "output_type": "stream",
     "text": [
      "INFO\tTask(Task-2) nodify.node.139849830182704:node.py:get()- No need to evaluate\n"
     ]
    },
    {
     "name": "stderr",
     "output_type": "stream",
     "text": [
      "INFO\tTask(Task-2) nodify.node.139849830185584:node.py:get()- No need to evaluate\n"
     ]
    },
    {
     "name": "stderr",
     "output_type": "stream",
     "text": [
      "INFO\tTask(Task-2) nodify.node.139849830174448:node.py:get()- No need to evaluate\n"
     ]
    },
    {
     "name": "stderr",
     "output_type": "stream",
     "text": [
      "INFO\tTask(Task-2) nodify.node.139849830174832:node.py:get()- No need to evaluate\n"
     ]
    },
    {
     "name": "stderr",
     "output_type": "stream",
     "text": [
      "INFO\tTask(Task-2) nodify.node.139849830175648:node.py:get()- No need to evaluate\n"
     ]
    },
    {
     "name": "stderr",
     "output_type": "stream",
     "text": [
      "INFO\tTask(Task-2) nodify.node.139849830175024:node.py:get()- No need to evaluate\n"
     ]
    },
    {
     "name": "stderr",
     "output_type": "stream",
     "text": [
      "INFO\tTask(Task-2) nodify.node.139849830182608:node.py:get()- No need to evaluate\n"
     ]
    },
    {
     "name": "stderr",
     "output_type": "stream",
     "text": [
      "INFO\tTask(Task-2) nodify.node.139849830174448:node.py:get()- No need to evaluate\n"
     ]
    },
    {
     "name": "stderr",
     "output_type": "stream",
     "text": [
      "INFO\tTask(Task-2) nodify.node.139849830176080:node.py:get()- No need to evaluate\n"
     ]
    },
    {
     "name": "stderr",
     "output_type": "stream",
     "text": [
      "INFO\tTask(Task-2) nodify.node.139849830182128:node.py:get()- No need to evaluate\n"
     ]
    },
    {
     "name": "stderr",
     "output_type": "stream",
     "text": [
      "INFO\tTask(Task-2) nodify.node.139849830174448:node.py:get()- No need to evaluate\n"
     ]
    },
    {
     "name": "stderr",
     "output_type": "stream",
     "text": [
      "INFO\tTask(Task-2) nodify.node.139849830182704:node.py:get()- No need to evaluate\n"
     ]
    },
    {
     "name": "stderr",
     "output_type": "stream",
     "text": [
      "INFO\tTask(Task-2) nodify.node.139849830180064:node.py:get()- No need to evaluate\n"
     ]
    },
    {
     "name": "stderr",
     "output_type": "stream",
     "text": [
      "INFO\tTask(Task-2) nodify.node.139849830179680:node.py:get()- No need to evaluate\n"
     ]
    },
    {
     "name": "stderr",
     "output_type": "stream",
     "text": [
      "INFO\tTask(Task-2) nodify.node.139849830182416:node.py:get()- No need to evaluate\n"
     ]
    },
    {
     "name": "stderr",
     "output_type": "stream",
     "text": [
      "INFO\tTask(Task-2) nodify.node.139849831356208:node.py:get()- Evaluated because inputs changed.\n"
     ]
    },
    {
     "name": "stderr",
     "output_type": "stream",
     "text": [
      "INFO\tTask(Task-2) nodify.node.139849830186064:node.py:get()- Evaluated because inputs changed.\n"
     ]
    },
    {
     "name": "stderr",
     "output_type": "stream",
     "text": [
      "INFO\tTask(Task-2) nodify.node.139849830186544:node.py:get()- Evaluated because inputs changed.\n"
     ]
    },
    {
     "data": {
      "application/vnd.plotly.v1+json": {
       "config": {
        "plotlyServerURL": "https://plot.ly"
       },
       "data": [
        {
         "coloraxis": "coloraxis",
         "meta": {},
         "opacity": 0,
         "textfont": {
          "color": "black"
         },
         "type": "heatmap",
         "z": {
          "bdata": "7MfmIeDi0r9KfjQdWnDRv7gTXr5BXrK/djWLuS+i37+inz7iSAjfPwAAAAAAAPh/AAAAAAAA+H8AAAAAAAD4fwAAAAAAAPh/80RmK2IhpD8AAAAAAAD4fwAAAAAAAPh/AAAAAAAA+H8AAAAAAAD4fwAAAAAAAPh/Sn40HVpw0b8kg0LpUc3hv5bVvdGw0OM/+Af+SCOa17+qSV/mu2/oPwAAAAAAAPh/AAAAAAAA+H8AAAAAAAD4fwAAAAAAAPh/YP12GdOYaz8AAAAAAAD4fwAAAAAAAPh/AAAAAAAA+H8AAAAAAAD4fwAAAAAAAPh/uBNevkFesr+W1b3RsNDjP8CLnA9VMdy/Ir2d2ruv0L+GzoLWKlbSvwAAAAAAAPh/AAAAAAAA+H8AAAAAAAD4fwAAAAAAAPh/LdoHaGxxrr8AAAAAAAD4fwAAAAAAAPh/AAAAAAAA+H8AAAAAAAD4fwAAAAAAAPh/djWLuS+i37/4B/5II5rXvyK9ndq7r9C/omVng5o75b+OyZyCv/zrvwAAAAAAAPh/AAAAAAAA+H8AAAAAAAD4fwAAAAAAAPh/1PdYEXOis78AAAAAAAD4fwAAAAAAAPh/AAAAAAAA+H8AAAAAAAD4fwAAAAAAAPh/op8+4kgI3z+qSV/mu2/oP4bOgtYqVtK/jsmcgr/867+IazCxoEPevwAAAAAAAPh/AAAAAAAA+H8AAAAAAAD4fwAAAAAAAPh/AAAAAAAA+H/zRGYrYiGkP2D9dhnTmGs/LdoHaGxxrr/U91gRc6KzvwAAAAAAAPh/",
          "dtype": "f8",
          "shape": "5, 15"
         },
         "zsmooth": false
        },
        {
         "hovertext": [
          "[-0.26322325  0.223513  ]",
          "[-0.26322325  0.223513  ]",
          "[-0.26322325  0.223513  ]",
          "[-0.26322325  0.223513  ]",
          "[-0.26322325  0.223513  ]",
          "[-0.26322325  0.223513  ]",
          "[-0.26322325  0.223513  ]",
          "[-0.24305099  0.14519438]",
          "[-0.24305099  0.14519438]",
          "[-0.24305099  0.14519438]",
          "[-0.24305099  0.14519438]",
          "[-0.24305099  0.14519438]",
          "[-0.24305099  0.14519438]",
          "[-0.24305099  0.14519438]",
          "[-0.06400079  0.03357465]",
          "[-0.06400079  0.03357465]",
          "[-0.06400079  0.03357465]",
          "[-0.06400079  0.03357465]",
          "[-0.06400079  0.03357465]",
          "[-0.06400079  0.03357465]",
          "[-0.06400079  0.03357465]",
          "[-0.44088643  0.04594374]",
          "[-0.44088643  0.04594374]",
          "[-0.44088643  0.04594374]",
          "[-0.44088643  0.04594374]",
          "[-0.44088643  0.04594374]",
          "[-0.44088643  0.04594374]",
          "[-0.44088643  0.04594374]",
          "[ 0.43250761 -0.40380586]",
          "[ 0.43250761 -0.40380586]",
          "[ 0.43250761 -0.40380586]",
          "[ 0.43250761 -0.40380586]",
          "[ 0.43250761 -0.40380586]",
          "[ 0.43250761 -0.40380586]",
          "[ 0.43250761 -0.40380586]",
          "[ 0. -0.]",
          "[ 0. -0.]",
          "[ 0. -0.]",
          "[ 0. -0.]",
          "[ 0. -0.]",
          "[ 0. -0.]",
          "[ 0. -0.]",
          "[ 0. -0.]",
          "[ 0. -0.]",
          "[ 0. -0.]",
          "[ 0. -0.]",
          "[ 0. -0.]",
          "[ 0. -0.]",
          "[ 0. -0.]",
          "[ 0. -0.]",
          "[ 0. -0.]",
          "[ 0. -0.]",
          "[ 0. -0.]",
          "[ 0. -0.]",
          "[ 0. -0.]",
          "[ 0. -0.]",
          "[ 0. -0.]",
          "[ 0. -0.]",
          "[ 0. -0.]",
          "[ 0. -0.]",
          "[ 0. -0.]",
          "[ 0. -0.]",
          "[ 0. -0.]",
          "[ 0.03507046 -0.01413107]",
          "[ 0.03507046 -0.01413107]",
          "[ 0.03507046 -0.01413107]",
          "[ 0.03507046 -0.01413107]",
          "[ 0.03507046 -0.01413107]",
          "[ 0.03507046 -0.01413107]",
          "[ 0.03507046 -0.01413107]",
          "[ 0. -0.]",
          "[ 0. -0.]",
          "[ 0. -0.]",
          "[ 0. -0.]",
          "[ 0. -0.]",
          "[ 0. -0.]",
          "[ 0. -0.]",
          "[ 0. -0.]",
          "[ 0. -0.]",
          "[ 0. -0.]",
          "[ 0. -0.]",
          "[ 0. -0.]",
          "[ 0. -0.]",
          "[ 0. -0.]",
          "[ 0. -0.]",
          "[ 0. -0.]",
          "[ 0. -0.]",
          "[ 0. -0.]",
          "[ 0. -0.]",
          "[ 0. -0.]",
          "[ 0. -0.]",
          "[ 0. -0.]",
          "[ 0. -0.]",
          "[ 0. -0.]",
          "[ 0. -0.]",
          "[ 0. -0.]",
          "[ 0. -0.]",
          "[ 0. -0.]",
          "[ 0. -0.]",
          "[ 0. -0.]",
          "[ 0. -0.]",
          "[ 0. -0.]",
          "[ 0. -0.]",
          "[ 0. -0.]",
          "[ 0. -0.]",
          "[-0.24305099  0.18530192]",
          "[-0.24305099  0.18530192]",
          "[-0.24305099  0.18530192]",
          "[-0.24305099  0.18530192]",
          "[-0.24305099  0.18530192]",
          "[-0.24305099  0.18530192]",
          "[-0.24305099  0.18530192]",
          "[-0.49622481  0.12752936]",
          "[-0.49622481  0.12752936]",
          "[-0.49622481  0.12752936]",
          "[-0.49622481  0.12752936]",
          "[-0.49622481  0.12752936]",
          "[-0.49622481  0.12752936]",
          "[-0.49622481  0.12752936]",
          "[ 0.55234107 -0.46577775]",
          "[ 0.55234107 -0.46577775]",
          "[ 0.55234107 -0.46577775]",
          "[ 0.55234107 -0.46577775]",
          "[ 0.55234107 -0.46577775]",
          "[ 0.55234107 -0.46577775]",
          "[ 0.55234107 -0.46577775]",
          "[-0.32894977  0.09413045]",
          "[-0.32894977  0.09413045]",
          "[-0.32894977  0.09413045]",
          "[-0.32894977  0.09413045]",
          "[-0.32894977  0.09413045]",
          "[-0.32894977  0.09413045]",
          "[-0.32894977  0.09413045]",
          "[ 0.681157   -0.03479603]",
          "[ 0.681157   -0.03479603]",
          "[ 0.681157   -0.03479603]",
          "[ 0.681157   -0.03479603]",
          "[ 0.681157   -0.03479603]",
          "[ 0.681157   -0.03479603]",
          "[ 0.681157   -0.03479603]",
          "[ 0. -0.]",
          "[ 0. -0.]",
          "[ 0. -0.]",
          "[ 0. -0.]",
          "[ 0. -0.]",
          "[ 0. -0.]",
          "[ 0. -0.]",
          "[ 0. -0.]",
          "[ 0. -0.]",
          "[ 0. -0.]",
          "[ 0. -0.]",
          "[ 0. -0.]",
          "[ 0. -0.]",
          "[ 0. -0.]",
          "[ 0. -0.]",
          "[ 0. -0.]",
          "[ 0. -0.]",
          "[ 0. -0.]",
          "[ 0. -0.]",
          "[ 0. -0.]",
          "[ 0. -0.]",
          "[ 0. -0.]",
          "[ 0. -0.]",
          "[ 0. -0.]",
          "[ 0. -0.]",
          "[ 0. -0.]",
          "[ 0. -0.]",
          "[ 0. -0.]",
          "[ 0.0030049  -0.00140458]",
          "[ 0.0030049  -0.00140458]",
          "[ 0.0030049  -0.00140458]",
          "[ 0.0030049  -0.00140458]",
          "[ 0.0030049  -0.00140458]",
          "[ 0.0030049  -0.00140458]",
          "[ 0.0030049  -0.00140458]",
          "[ 0. -0.]",
          "[ 0. -0.]",
          "[ 0. -0.]",
          "[ 0. -0.]",
          "[ 0. -0.]",
          "[ 0. -0.]",
          "[ 0. -0.]",
          "[ 0. -0.]",
          "[ 0. -0.]",
          "[ 0. -0.]",
          "[ 0. -0.]",
          "[ 0. -0.]",
          "[ 0. -0.]",
          "[ 0. -0.]",
          "[ 0. -0.]",
          "[ 0. -0.]",
          "[ 0. -0.]",
          "[ 0. -0.]",
          "[ 0. -0.]",
          "[ 0. -0.]",
          "[ 0. -0.]",
          "[ 0. -0.]",
          "[ 0. -0.]",
          "[ 0. -0.]",
          "[ 0. -0.]",
          "[ 0. -0.]",
          "[ 0. -0.]",
          "[ 0. -0.]",
          "[ 0. -0.]",
          "[ 0. -0.]",
          "[ 0. -0.]",
          "[ 0. -0.]",
          "[ 0. -0.]",
          "[ 0. -0.]",
          "[ 0. -0.]",
          "[-0.06400079  0.02665063]",
          "[-0.06400079  0.02665063]",
          "[-0.06400079  0.02665063]",
          "[-0.06400079  0.02665063]",
          "[-0.06400079  0.02665063]",
          "[-0.06400079  0.02665063]",
          "[-0.06400079  0.02665063]",
          "[ 0.55234107 -0.02639834]",
          "[ 0.55234107 -0.02639834]",
          "[ 0.55234107 -0.02639834]",
          "[ 0.55234107 -0.02639834]",
          "[ 0.55234107 -0.02639834]",
          "[ 0.55234107 -0.02639834]",
          "[ 0.55234107 -0.02639834]",
          "[-0.39293042  0.30349702]",
          "[-0.39293042  0.30349702]",
          "[-0.39293042  0.30349702]",
          "[-0.39293042  0.30349702]",
          "[-0.39293042  0.30349702]",
          "[-0.39293042  0.30349702]",
          "[-0.39293042  0.30349702]",
          "[-0.23256435  0.04212854]",
          "[-0.23256435  0.04212854]",
          "[-0.23256435  0.04212854]",
          "[-0.23256435  0.04212854]",
          "[-0.23256435  0.04212854]",
          "[-0.23256435  0.04212854]",
          "[-0.23256435  0.04212854]",
          "[-0.25556273  0.22729429]",
          "[-0.25556273  0.22729429]",
          "[-0.25556273  0.22729429]",
          "[-0.25556273  0.22729429]",
          "[-0.25556273  0.22729429]",
          "[-0.25556273  0.22729429]",
          "[-0.25556273  0.22729429]",
          "[ 0. -0.]",
          "[ 0. -0.]",
          "[ 0. -0.]",
          "[ 0. -0.]",
          "[ 0. -0.]",
          "[ 0. -0.]",
          "[ 0. -0.]",
          "[ 0. -0.]",
          "[ 0. -0.]",
          "[ 0. -0.]",
          "[ 0. -0.]",
          "[ 0. -0.]",
          "[ 0. -0.]",
          "[ 0. -0.]",
          "[ 0. -0.]",
          "[ 0. -0.]",
          "[ 0. -0.]",
          "[ 0. -0.]",
          "[ 0. -0.]",
          "[ 0. -0.]",
          "[ 0. -0.]",
          "[ 0. -0.]",
          "[ 0. -0.]",
          "[ 0. -0.]",
          "[ 0. -0.]",
          "[ 0. -0.]",
          "[ 0. -0.]",
          "[ 0. -0.]",
          "[-0.05303679  0.01620798]",
          "[-0.05303679  0.01620798]",
          "[-0.05303679  0.01620798]",
          "[-0.05303679  0.01620798]",
          "[-0.05303679  0.01620798]",
          "[-0.05303679  0.01620798]",
          "[-0.05303679  0.01620798]",
          "[ 0. -0.]",
          "[ 0. -0.]",
          "[ 0. -0.]",
          "[ 0. -0.]",
          "[ 0. -0.]",
          "[ 0. -0.]",
          "[ 0. -0.]",
          "[ 0. -0.]",
          "[ 0. -0.]",
          "[ 0. -0.]",
          "[ 0. -0.]",
          "[ 0. -0.]",
          "[ 0. -0.]",
          "[ 0. -0.]",
          "[ 0. -0.]",
          "[ 0. -0.]",
          "[ 0. -0.]",
          "[ 0. -0.]",
          "[ 0. -0.]",
          "[ 0. -0.]",
          "[ 0. -0.]",
          "[ 0. -0.]",
          "[ 0. -0.]",
          "[ 0. -0.]",
          "[ 0. -0.]",
          "[ 0. -0.]",
          "[ 0. -0.]",
          "[ 0. -0.]",
          "[ 0. -0.]",
          "[ 0. -0.]",
          "[ 0. -0.]",
          "[ 0. -0.]",
          "[ 0. -0.]",
          "[ 0. -0.]",
          "[ 0. -0.]",
          "[-0.44088643  0.34932271]",
          "[-0.44088643  0.34932271]",
          "[-0.44088643  0.34932271]",
          "[-0.44088643  0.34932271]",
          "[-0.44088643  0.34932271]",
          "[-0.44088643  0.34932271]",
          "[-0.44088643  0.34932271]",
          "[-0.32894977  0.21444356]",
          "[-0.32894977  0.21444356]",
          "[-0.32894977  0.21444356]",
          "[-0.32894977  0.21444356]",
          "[-0.32894977  0.21444356]",
          "[-0.32894977  0.21444356]",
          "[-0.32894977  0.21444356]",
          "[-0.23256435  0.09580858]",
          "[-0.23256435  0.09580858]",
          "[-0.23256435  0.09580858]",
          "[-0.23256435  0.09580858]",
          "[-0.23256435  0.09580858]",
          "[-0.23256435  0.09580858]",
          "[-0.23256435  0.09580858]",
          "[-0.59185692  0.53529175]",
          "[-0.59185692  0.53529175]",
          "[-0.59185692  0.53529175]",
          "[-0.59185692  0.53529175]",
          "[-0.59185692  0.53529175]",
          "[-0.59185692  0.53529175]",
          "[-0.59185692  0.53529175]",
          "[-0.78013521  0.14703341]",
          "[-0.78013521  0.14703341]",
          "[-0.78013521  0.14703341]",
          "[-0.78013521  0.14703341]",
          "[-0.78013521  0.14703341]",
          "[-0.78013521  0.14703341]",
          "[-0.78013521  0.14703341]",
          "[ 0. -0.]",
          "[ 0. -0.]",
          "[ 0. -0.]",
          "[ 0. -0.]",
          "[ 0. -0.]",
          "[ 0. -0.]",
          "[ 0. -0.]",
          "[ 0. -0.]",
          "[ 0. -0.]",
          "[ 0. -0.]",
          "[ 0. -0.]",
          "[ 0. -0.]",
          "[ 0. -0.]",
          "[ 0. -0.]",
          "[ 0. -0.]",
          "[ 0. -0.]",
          "[ 0. -0.]",
          "[ 0. -0.]",
          "[ 0. -0.]",
          "[ 0. -0.]",
          "[ 0. -0.]",
          "[ 0. -0.]",
          "[ 0. -0.]",
          "[ 0. -0.]",
          "[ 0. -0.]",
          "[ 0. -0.]",
          "[ 0. -0.]",
          "[ 0. -0.]",
          "[-0.06841326  0.04069498]",
          "[-0.06841326  0.04069498]",
          "[-0.06841326  0.04069498]",
          "[-0.06841326  0.04069498]",
          "[-0.06841326  0.04069498]",
          "[-0.06841326  0.04069498]",
          "[-0.06841326  0.04069498]",
          "[ 0. -0.]",
          "[ 0. -0.]",
          "[ 0. -0.]",
          "[ 0. -0.]",
          "[ 0. -0.]",
          "[ 0. -0.]",
          "[ 0. -0.]",
          "[ 0. -0.]",
          "[ 0. -0.]",
          "[ 0. -0.]",
          "[ 0. -0.]",
          "[ 0. -0.]",
          "[ 0. -0.]",
          "[ 0. -0.]",
          "[ 0. -0.]",
          "[ 0. -0.]",
          "[ 0. -0.]",
          "[ 0. -0.]",
          "[ 0. -0.]",
          "[ 0. -0.]",
          "[ 0. -0.]",
          "[ 0. -0.]",
          "[ 0. -0.]",
          "[ 0. -0.]",
          "[ 0. -0.]",
          "[ 0. -0.]",
          "[ 0. -0.]",
          "[ 0. -0.]",
          "[ 0. -0.]",
          "[ 0. -0.]",
          "[ 0. -0.]",
          "[ 0. -0.]",
          "[ 0. -0.]",
          "[ 0. -0.]",
          "[ 0. -0.]",
          "[ 0.43250761 -0.27232499]",
          "[ 0.43250761 -0.27232499]",
          "[ 0.43250761 -0.27232499]",
          "[ 0.43250761 -0.27232499]",
          "[ 0.43250761 -0.27232499]",
          "[ 0.43250761 -0.27232499]",
          "[ 0.43250761 -0.27232499]",
          "[ 0.681157   -0.58042266]",
          "[ 0.681157   -0.58042266]",
          "[ 0.681157   -0.58042266]",
          "[ 0.681157   -0.58042266]",
          "[ 0.681157   -0.58042266]",
          "[ 0.681157   -0.58042266]",
          "[ 0.681157   -0.58042266]",
          "[-0.25556273  0.18485997]",
          "[-0.25556273  0.18485997]",
          "[-0.25556273  0.18485997]",
          "[-0.25556273  0.18485997]",
          "[-0.25556273  0.18485997]",
          "[-0.25556273  0.18485997]",
          "[-0.25556273  0.18485997]",
          "[-0.78013521  0.62561095]",
          "[-0.78013521  0.62561095]",
          "[-0.78013521  0.62561095]",
          "[-0.78013521  0.62561095]",
          "[-0.78013521  0.62561095]",
          "[-0.78013521  0.62561095]",
          "[-0.78013521  0.62561095]",
          "[-0.42180109  0.25113676]",
          "[-0.42180109  0.25113676]",
          "[-0.42180109  0.25113676]",
          "[-0.42180109  0.25113676]",
          "[-0.42180109  0.25113676]",
          "[-0.42180109  0.25113676]",
          "[-0.42180109  0.25113676]",
          "[ 0. -0.]",
          "[ 0. -0.]",
          "[ 0. -0.]",
          "[ 0. -0.]",
          "[ 0. -0.]",
          "[ 0. -0.]",
          "[ 0. -0.]",
          "[ 0. -0.]",
          "[ 0. -0.]",
          "[ 0. -0.]",
          "[ 0. -0.]",
          "[ 0. -0.]",
          "[ 0. -0.]",
          "[ 0. -0.]",
          "[ 0. -0.]",
          "[ 0. -0.]",
          "[ 0. -0.]",
          "[ 0. -0.]",
          "[ 0. -0.]",
          "[ 0. -0.]",
          "[ 0. -0.]",
          "[ 0. -0.]",
          "[ 0. -0.]",
          "[ 0. -0.]",
          "[ 0. -0.]",
          "[ 0. -0.]",
          "[ 0. -0.]",
          "[ 0. -0.]",
          "[ 0. -0.]",
          "[ 0. -0.]",
          "[ 0. -0.]",
          "[ 0. -0.]",
          "[ 0. -0.]",
          "[ 0. -0.]",
          "[ 0. -0.]",
          "[ 0.03507046 -0.00193665]",
          "[ 0.03507046 -0.00193665]",
          "[ 0.03507046 -0.00193665]",
          "[ 0.03507046 -0.00193665]",
          "[ 0.03507046 -0.00193665]",
          "[ 0.03507046 -0.00193665]",
          "[ 0.03507046 -0.00193665]",
          "[ 0.0030049  -0.00159958]",
          "[ 0.0030049  -0.00159958]",
          "[ 0.0030049  -0.00159958]",
          "[ 0.0030049  -0.00159958]",
          "[ 0.0030049  -0.00159958]",
          "[ 0.0030049  -0.00159958]",
          "[ 0.0030049  -0.00159958]",
          "[-0.05303679  0.05167336]",
          "[-0.05303679  0.05167336]",
          "[-0.05303679  0.05167336]",
          "[-0.05303679  0.05167336]",
          "[-0.05303679  0.05167336]",
          "[-0.05303679  0.05167336]",
          "[-0.05303679  0.05167336]",
          "[-0.06841326  0.03143877]",
          "[-0.06841326  0.03143877]",
          "[-0.06841326  0.03143877]",
          "[-0.06841326  0.03143877]",
          "[-0.06841326  0.03143877]",
          "[-0.06841326  0.03143877]",
          "[-0.06841326  0.03143877]",
          "[ 0. -0.]",
          "[ 0. -0.]",
          "[ 0. -0.]",
          "[ 0. -0.]",
          "[ 0. -0.]",
          "[ 0. -0.]",
          "[ 0. -0.]"
         ],
         "line": {
          "color": "red"
         },
         "meta": {},
         "mode": "lines",
         "type": "scatter",
         "x": {
          "bdata": "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",
          "dtype": "f8"
         },
         "y": {
          "bdata": "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",
          "dtype": "f8"
         }
        },
        {
         "line": {
          "color": "pink",
          "dash": "dash",
          "width": 5
         },
         "meta": {},
         "mode": "lines",
         "name": "orbitals separators",
         "opacity": 0.8,
         "showlegend": false,
         "type": "scatter",
         "x": {
          "bdata": "AAAAAAAA4L8AAAAAAAASQAAAAAAAAPh/AAAAAAAA4D8AAAAAAADgPwAAAAAAAPh/",
          "dtype": "f8"
         },
         "y": {
          "bdata": "AAAAAAAA4D8AAAAAAADgPwAAAAAAAPh/AAAAAAAA4L8AAAAAAAASQAAAAAAAAPh/",
          "dtype": "f8"
         }
        },
        {
         "line": {
          "color": "gray"
         },
         "meta": {},
         "mode": "lines",
         "name": "atoms separators",
         "opacity": 1,
         "showlegend": false,
         "type": "scatter",
         "x": {
          "bdata": "AAAAAAAA4L8AAAAAAAASQAAAAAAAAPh/AAAAAAAADEAAAAAAAAAMQAAAAAAAAPh/",
          "dtype": "f8"
         },
         "y": {
          "bdata": "AAAAAAAADEAAAAAAAAAMQAAAAAAAAPh/AAAAAAAA4L8AAAAAAAASQAAAAAAAAPh/",
          "dtype": "f8"
         }
        }
       ],
       "layout": {
        "coloraxis": {
         "cmid": 0,
         "colorscale": [
          [
           0.0,
           "rgb(0, 147, 146)"
          ],
          [
           0.16666666666666666,
           "rgb(57, 177, 133)"
          ],
          [
           0.3333333333333333,
           "rgb(156, 203, 134)"
          ],
          [
           0.5,
           "rgb(233, 226, 156)"
          ],
          [
           0.6666666666666666,
           "rgb(238, 180, 121)"
          ],
          [
           0.8333333333333334,
           "rgb(232, 132, 113)"
          ],
          [
           1.0,
           "rgb(207, 89, 126)"
          ]
         ],
         "showscale": false
        },
        "scene": {
         "aspectmode": "data",
         "xaxis": {
          "range": [
           -0.5,
           14.5
          ]
         },
         "yaxis": {
          "range": [
           4.5,
           -0.5
          ]
         }
        },
        "template": {
         "layout": {
          "hovermode": "closest",
          "paper_bgcolor": "white",
          "plot_bgcolor": "white",
          "scene": {
           "xaxis": {
            "color": "black",
            "gridcolor": "#ccc",
            "gridwidth": 1,
            "linewidth": 1,
            "mirror": true,
            "showgrid": false,
            "showline": true,
            "ticklen": 5,
            "ticks": "outside",
            "ticksuffix": " ",
            "visible": true,
            "zeroline": false,
            "zerolinecolor": "#ccc",
            "zerolinewidth": 1
           },
           "yaxis": {
            "color": "black",
            "gridcolor": "#ccc",
            "gridwidth": 1,
            "linewidth": 1,
            "mirror": true,
            "showgrid": false,
            "showline": true,
            "ticklen": 5,
            "ticks": "outside",
            "ticksuffix": " ",
            "visible": true,
            "zeroline": false,
            "zerolinecolor": "#ccc",
            "zerolinewidth": 1
           },
           "zaxis": {
            "color": "black",
            "gridcolor": "#ccc",
            "gridwidth": 1,
            "linewidth": 1,
            "mirror": true,
            "showgrid": false,
            "showline": true,
            "ticklen": 5,
            "ticks": "outside",
            "ticksuffix": " ",
            "visible": true,
            "zeroline": false,
            "zerolinecolor": "#ccc",
            "zerolinewidth": 1
           }
          },
          "xaxis": {
           "color": "black",
           "gridcolor": "#ccc",
           "gridwidth": 1,
           "linewidth": 1,
           "mirror": true,
           "showgrid": false,
           "showline": true,
           "ticklen": 5,
           "ticks": "outside",
           "ticksuffix": " ",
           "visible": true,
           "zeroline": false,
           "zerolinecolor": "#ccc",
           "zerolinewidth": 1
          },
          "yaxis": {
           "color": "black",
           "gridcolor": "#ccc",
           "gridwidth": 1,
           "linewidth": 1,
           "mirror": true,
           "showgrid": false,
           "showline": true,
           "ticklen": 5,
           "ticks": "outside",
           "ticksuffix": " ",
           "visible": true,
           "zeroline": false,
           "zerolinecolor": "#ccc",
           "zerolinewidth": 1
          }
         }
        },
        "xaxis": {
         "constrain": "domain",
         "range": [
          -0.5,
          14.5
         ],
         "scaleanchor": "y",
         "scaleratio": 1
        },
        "yaxis": {
         "constrain": "domain",
         "range": [
          4.5,
          -0.5
         ]
        }
       }
      }
     },
     "metadata": {},
     "output_type": "display_data"
    }
   ],
   "source": [
    "# Initialize a sparse matrix with the same sparsity pattern as our Hamiltonian,\n",
    "# but with an extra dimension that will host the X and Y coordinates.\n",
    "arrow_data = sisl.SparseCSR.fromsp([H, H])\n",
    "\n",
    "# The X coordinate will be the Hamiltonian's value,\n",
    "# while the Y coordinate will be just random.\n",
    "for i in range(arrow_data.shape[0]):\n",
    "    for j in range(arrow_data.shape[1]):\n",
    "        if arrow_data[i, j, 1] != 0:\n",
    "            arrow_data[i, j, 1] *= np.random.random()\n",
    "\n",
    "# Let's display the data\n",
    "plot.update_inputs(arrows={\"data\": arrow_data, \"color\": \"red\"})"
   ]
  },
  {
   "cell_type": "markdown",
   "metadata": {},
   "source": [
    "Finally, we showcase how **you can have multiple specifications of arrows**.\n",
    "\n",
    "We also show how you can use the `center` key. You can set `center` to `\"start\"`, `\"middle\"` or `\"end\"`. It determines which part of the arrow is pinned to the center of the matrix element (the default is `\"middle\"`):"
   ]
  },
  {
   "cell_type": "code",
   "execution_count": 21,
   "metadata": {
    "execution": {
     "iopub.execute_input": "2025-08-18T08:01:00.263183Z",
     "iopub.status.busy": "2025-08-18T08:01:00.263015Z",
     "iopub.status.idle": "2025-08-18T08:01:00.430707Z",
     "shell.execute_reply": "2025-08-18T08:01:00.430219Z"
    }
   },
   "outputs": [
    {
     "name": "stderr",
     "output_type": "stream",
     "text": [
      "INFO\tTask(Task-2) nodify.node.139849830180832:node.py:get()- No need to evaluate\n"
     ]
    },
    {
     "name": "stderr",
     "output_type": "stream",
     "text": [
      "INFO\tTask(Task-2) nodify.node.139849830174448:node.py:get()- No need to evaluate\n"
     ]
    },
    {
     "name": "stderr",
     "output_type": "stream",
     "text": [
      "INFO\tTask(Task-2) nodify.node.139849830174832:node.py:get()- No need to evaluate\n"
     ]
    },
    {
     "name": "stderr",
     "output_type": "stream",
     "text": [
      "INFO\tTask(Task-2) nodify.node.139849830175648:node.py:get()- No need to evaluate\n"
     ]
    },
    {
     "name": "stderr",
     "output_type": "stream",
     "text": [
      "INFO\tTask(Task-2) nodify.node.139849830175024:node.py:get()- No need to evaluate\n"
     ]
    },
    {
     "name": "stderr",
     "output_type": "stream",
     "text": [
      "INFO\tTask(Task-2) nodify.node.139849830182608:node.py:get()- No need to evaluate\n"
     ]
    },
    {
     "name": "stderr",
     "output_type": "stream",
     "text": [
      "INFO\tTask(Task-2) nodify.node.139849830177760:node.py:get()- No need to evaluate\n"
     ]
    },
    {
     "name": "stderr",
     "output_type": "stream",
     "text": [
      "INFO\tTask(Task-2) nodify.node.139849830178144:node.py:get()- No need to evaluate\n"
     ]
    },
    {
     "name": "stderr",
     "output_type": "stream",
     "text": [
      "INFO\tTask(Task-2) nodify.node.139849830174448:node.py:get()- No need to evaluate\n"
     ]
    },
    {
     "name": "stderr",
     "output_type": "stream",
     "text": [
      "INFO\tTask(Task-2) nodify.node.139849830178528:node.py:get()- No need to evaluate\n"
     ]
    },
    {
     "name": "stderr",
     "output_type": "stream",
     "text": [
      "INFO\tTask(Task-2) nodify.node.139849830178144:node.py:get()- No need to evaluate\n"
     ]
    },
    {
     "name": "stderr",
     "output_type": "stream",
     "text": [
      "INFO\tTask(Task-2) nodify.node.139849830183856:node.py:get()- No need to evaluate\n"
     ]
    },
    {
     "name": "stderr",
     "output_type": "stream",
     "text": [
      "INFO\tTask(Task-2) nodify.node.139849830177376:node.py:get()- No need to evaluate\n"
     ]
    },
    {
     "name": "stderr",
     "output_type": "stream",
     "text": [
      "INFO\tTask(Task-2) nodify.node.139849830178912:node.py:get()- No need to evaluate\n"
     ]
    },
    {
     "name": "stderr",
     "output_type": "stream",
     "text": [
      "INFO\tTask(Task-2) nodify.node.139849830179296:node.py:get()- No need to evaluate\n"
     ]
    },
    {
     "name": "stderr",
     "output_type": "stream",
     "text": [
      "INFO\tTask(Task-2) nodify.node.139849830183760:node.py:get()- No need to evaluate\n"
     ]
    },
    {
     "name": "stderr",
     "output_type": "stream",
     "text": [
      "INFO\tTask(Task-2) nodify.node.139849830174448:node.py:get()- No need to evaluate\n"
     ]
    },
    {
     "name": "stderr",
     "output_type": "stream",
     "text": [
      "INFO\tTask(Task-2) nodify.node.139849830174832:node.py:get()- No need to evaluate\n"
     ]
    },
    {
     "name": "stderr",
     "output_type": "stream",
     "text": [
      "INFO\tTask(Task-2) nodify.node.139849830175648:node.py:get()- No need to evaluate\n"
     ]
    },
    {
     "name": "stderr",
     "output_type": "stream",
     "text": [
      "INFO\tTask(Task-2) nodify.node.139849830175024:node.py:get()- No need to evaluate\n"
     ]
    },
    {
     "name": "stderr",
     "output_type": "stream",
     "text": [
      "INFO\tTask(Task-2) nodify.node.139849830182608:node.py:get()- No need to evaluate\n"
     ]
    },
    {
     "name": "stderr",
     "output_type": "stream",
     "text": [
      "INFO\tTask(Task-2) nodify.node.139849830180448:node.py:get()- Evaluated because inputs changed.\n"
     ]
    },
    {
     "name": "stderr",
     "output_type": "stream",
     "text": [
      "INFO\tTask(Task-2) nodify.node.139849830184528:node.py:get()- Evaluated because inputs changed.\n"
     ]
    },
    {
     "name": "stderr",
     "output_type": "stream",
     "text": [
      "INFO\tTask(Task-2) nodify.node.139849830183904:node.py:get()- Evaluated because inputs changed.\n"
     ]
    },
    {
     "name": "stderr",
     "output_type": "stream",
     "text": [
      "INFO\tTask(Task-2) nodify.node.139849830176224:node.py:get()- No need to evaluate\n"
     ]
    },
    {
     "name": "stderr",
     "output_type": "stream",
     "text": [
      "INFO\tTask(Task-2) nodify.node.139849830174448:node.py:get()- No need to evaluate\n"
     ]
    },
    {
     "name": "stderr",
     "output_type": "stream",
     "text": [
      "INFO\tTask(Task-2) nodify.node.139849830176080:node.py:get()- No need to evaluate\n"
     ]
    },
    {
     "name": "stderr",
     "output_type": "stream",
     "text": [
      "INFO\tTask(Task-2) nodify.node.139849830182128:node.py:get()- No need to evaluate\n"
     ]
    },
    {
     "name": "stderr",
     "output_type": "stream",
     "text": [
      "INFO\tTask(Task-2) nodify.node.139849830174448:node.py:get()- No need to evaluate\n"
     ]
    },
    {
     "name": "stderr",
     "output_type": "stream",
     "text": [
      "INFO\tTask(Task-2) nodify.node.139849830182704:node.py:get()- No need to evaluate\n"
     ]
    },
    {
     "name": "stderr",
     "output_type": "stream",
     "text": [
      "INFO\tTask(Task-2) nodify.node.139849830184576:node.py:get()- No need to evaluate\n"
     ]
    },
    {
     "name": "stderr",
     "output_type": "stream",
     "text": [
      "INFO\tTask(Task-2) nodify.node.139849830176560:node.py:get()- No need to evaluate\n"
     ]
    },
    {
     "name": "stderr",
     "output_type": "stream",
     "text": [
      "INFO\tTask(Task-2) nodify.node.139849830174448:node.py:get()- No need to evaluate\n"
     ]
    },
    {
     "name": "stderr",
     "output_type": "stream",
     "text": [
      "INFO\tTask(Task-2) nodify.node.139849830176080:node.py:get()- No need to evaluate\n"
     ]
    },
    {
     "name": "stderr",
     "output_type": "stream",
     "text": [
      "INFO\tTask(Task-2) nodify.node.139849830182128:node.py:get()- No need to evaluate\n"
     ]
    },
    {
     "name": "stderr",
     "output_type": "stream",
     "text": [
      "INFO\tTask(Task-2) nodify.node.139849830174448:node.py:get()- No need to evaluate\n"
     ]
    },
    {
     "name": "stderr",
     "output_type": "stream",
     "text": [
      "INFO\tTask(Task-2) nodify.node.139849830182704:node.py:get()- No need to evaluate\n"
     ]
    },
    {
     "name": "stderr",
     "output_type": "stream",
     "text": [
      "INFO\tTask(Task-2) nodify.node.139849830185248:node.py:get()- No need to evaluate\n"
     ]
    },
    {
     "name": "stderr",
     "output_type": "stream",
     "text": [
      "INFO\tTask(Task-2) nodify.node.139849830176944:node.py:get()- No need to evaluate\n"
     ]
    },
    {
     "name": "stderr",
     "output_type": "stream",
     "text": [
      "INFO\tTask(Task-2) nodify.node.139849830174448:node.py:get()- No need to evaluate\n"
     ]
    },
    {
     "name": "stderr",
     "output_type": "stream",
     "text": [
      "INFO\tTask(Task-2) nodify.node.139849830176080:node.py:get()- No need to evaluate\n"
     ]
    },
    {
     "name": "stderr",
     "output_type": "stream",
     "text": [
      "INFO\tTask(Task-2) nodify.node.139849830182128:node.py:get()- No need to evaluate\n"
     ]
    },
    {
     "name": "stderr",
     "output_type": "stream",
     "text": [
      "INFO\tTask(Task-2) nodify.node.139849830174448:node.py:get()- No need to evaluate\n"
     ]
    },
    {
     "name": "stderr",
     "output_type": "stream",
     "text": [
      "INFO\tTask(Task-2) nodify.node.139849830182704:node.py:get()- No need to evaluate\n"
     ]
    },
    {
     "name": "stderr",
     "output_type": "stream",
     "text": [
      "INFO\tTask(Task-2) nodify.node.139849830185584:node.py:get()- No need to evaluate\n"
     ]
    },
    {
     "name": "stderr",
     "output_type": "stream",
     "text": [
      "INFO\tTask(Task-2) nodify.node.139849830174448:node.py:get()- No need to evaluate\n"
     ]
    },
    {
     "name": "stderr",
     "output_type": "stream",
     "text": [
      "INFO\tTask(Task-2) nodify.node.139849830174832:node.py:get()- No need to evaluate\n"
     ]
    },
    {
     "name": "stderr",
     "output_type": "stream",
     "text": [
      "INFO\tTask(Task-2) nodify.node.139849830175648:node.py:get()- No need to evaluate\n"
     ]
    },
    {
     "name": "stderr",
     "output_type": "stream",
     "text": [
      "INFO\tTask(Task-2) nodify.node.139849830175024:node.py:get()- No need to evaluate\n"
     ]
    },
    {
     "name": "stderr",
     "output_type": "stream",
     "text": [
      "INFO\tTask(Task-2) nodify.node.139849830182608:node.py:get()- No need to evaluate\n"
     ]
    },
    {
     "name": "stderr",
     "output_type": "stream",
     "text": [
      "INFO\tTask(Task-2) nodify.node.139849830174448:node.py:get()- No need to evaluate\n"
     ]
    },
    {
     "name": "stderr",
     "output_type": "stream",
     "text": [
      "INFO\tTask(Task-2) nodify.node.139849830176080:node.py:get()- No need to evaluate\n"
     ]
    },
    {
     "name": "stderr",
     "output_type": "stream",
     "text": [
      "INFO\tTask(Task-2) nodify.node.139849830182128:node.py:get()- No need to evaluate\n"
     ]
    },
    {
     "name": "stderr",
     "output_type": "stream",
     "text": [
      "INFO\tTask(Task-2) nodify.node.139849830174448:node.py:get()- No need to evaluate\n"
     ]
    },
    {
     "name": "stderr",
     "output_type": "stream",
     "text": [
      "INFO\tTask(Task-2) nodify.node.139849830182704:node.py:get()- No need to evaluate\n"
     ]
    },
    {
     "name": "stderr",
     "output_type": "stream",
     "text": [
      "INFO\tTask(Task-2) nodify.node.139849830180064:node.py:get()- No need to evaluate\n"
     ]
    },
    {
     "name": "stderr",
     "output_type": "stream",
     "text": [
      "INFO\tTask(Task-2) nodify.node.139849830179680:node.py:get()- No need to evaluate\n"
     ]
    },
    {
     "name": "stderr",
     "output_type": "stream",
     "text": [
      "INFO\tTask(Task-2) nodify.node.139849830182416:node.py:get()- No need to evaluate\n"
     ]
    },
    {
     "name": "stderr",
     "output_type": "stream",
     "text": [
      "INFO\tTask(Task-2) nodify.node.139849831356208:node.py:get()- Evaluated because inputs changed.\n"
     ]
    },
    {
     "name": "stderr",
     "output_type": "stream",
     "text": [
      "INFO\tTask(Task-2) nodify.node.139849830186064:node.py:get()- Evaluated because inputs changed.\n"
     ]
    },
    {
     "name": "stderr",
     "output_type": "stream",
     "text": [
      "INFO\tTask(Task-2) nodify.node.139849830186544:node.py:get()- Evaluated because inputs changed.\n"
     ]
    },
    {
     "data": {
      "application/vnd.plotly.v1+json": {
       "config": {
        "plotlyServerURL": "https://plot.ly"
       },
       "data": [
        {
         "coloraxis": "coloraxis",
         "meta": {},
         "opacity": 0,
         "textfont": {
          "color": "black"
         },
         "type": "heatmap",
         "z": {
          "bdata": "7MfmIeDi0r9KfjQdWnDRv7gTXr5BXrK/djWLuS+i37+inz7iSAjfPwAAAAAAAPh/AAAAAAAA+H8AAAAAAAD4fwAAAAAAAPh/80RmK2IhpD8AAAAAAAD4fwAAAAAAAPh/AAAAAAAA+H8AAAAAAAD4fwAAAAAAAPh/Sn40HVpw0b8kg0LpUc3hv5bVvdGw0OM/+Af+SCOa17+qSV/mu2/oPwAAAAAAAPh/AAAAAAAA+H8AAAAAAAD4fwAAAAAAAPh/YP12GdOYaz8AAAAAAAD4fwAAAAAAAPh/AAAAAAAA+H8AAAAAAAD4fwAAAAAAAPh/uBNevkFesr+W1b3RsNDjP8CLnA9VMdy/Ir2d2ruv0L+GzoLWKlbSvwAAAAAAAPh/AAAAAAAA+H8AAAAAAAD4fwAAAAAAAPh/LdoHaGxxrr8AAAAAAAD4fwAAAAAAAPh/AAAAAAAA+H8AAAAAAAD4fwAAAAAAAPh/djWLuS+i37/4B/5II5rXvyK9ndq7r9C/omVng5o75b+OyZyCv/zrvwAAAAAAAPh/AAAAAAAA+H8AAAAAAAD4fwAAAAAAAPh/1PdYEXOis78AAAAAAAD4fwAAAAAAAPh/AAAAAAAA+H8AAAAAAAD4fwAAAAAAAPh/op8+4kgI3z+qSV/mu2/oP4bOgtYqVtK/jsmcgr/867+IazCxoEPevwAAAAAAAPh/AAAAAAAA+H8AAAAAAAD4fwAAAAAAAPh/AAAAAAAA+H/zRGYrYiGkP2D9dhnTmGs/LdoHaGxxrr/U91gRc6KzvwAAAAAAAPh/",
          "dtype": "f8",
          "shape": "5, 15"
         },
         "zsmooth": false
        },
        {
         "hovertext": [
          "[0.         0.16870361]",
          "[0.         0.16870361]",
          "[0.         0.16870361]",
          "[0.         0.16870361]",
          "[0.         0.16870361]",
          "[0.         0.16870361]",
          "[0.         0.16870361]",
          "[0.         0.15577491]",
          "[0.         0.15577491]",
          "[0.         0.15577491]",
          "[0.         0.15577491]",
          "[0.         0.15577491]",
          "[0.         0.15577491]",
          "[0.         0.15577491]",
          "[0.         0.04101903]",
          "[0.         0.04101903]",
          "[0.         0.04101903]",
          "[0.         0.04101903]",
          "[0.         0.04101903]",
          "[0.         0.04101903]",
          "[0.         0.04101903]",
          "[0.         0.28257052]",
          "[0.         0.28257052]",
          "[0.         0.28257052]",
          "[0.         0.28257052]",
          "[0.         0.28257052]",
          "[0.         0.28257052]",
          "[0.         0.28257052]",
          "[ 0.         -0.27720042]",
          "[ 0.         -0.27720042]",
          "[ 0.         -0.27720042]",
          "[ 0.         -0.27720042]",
          "[ 0.         -0.27720042]",
          "[ 0.         -0.27720042]",
          "[ 0.         -0.27720042]",
          "[ 0. nan]",
          "[ 0. nan]",
          "[ 0. nan]",
          "[ 0. nan]",
          "[ 0. nan]",
          "[ 0. nan]",
          "[ 0. nan]",
          "[ 0. nan]",
          "[ 0. nan]",
          "[ 0. nan]",
          "[ 0. nan]",
          "[ 0. nan]",
          "[ 0. nan]",
          "[ 0. nan]",
          "[ 0. nan]",
          "[ 0. nan]",
          "[ 0. nan]",
          "[ 0. nan]",
          "[ 0. nan]",
          "[ 0. nan]",
          "[ 0. nan]",
          "[ 0. nan]",
          "[ 0. nan]",
          "[ 0. nan]",
          "[ 0. nan]",
          "[ 0. nan]",
          "[ 0. nan]",
          "[ 0. nan]",
          "[ 0.         -0.02247717]",
          "[ 0.         -0.02247717]",
          "[ 0.         -0.02247717]",
          "[ 0.         -0.02247717]",
          "[ 0.         -0.02247717]",
          "[ 0.         -0.02247717]",
          "[ 0.         -0.02247717]",
          "[ 0. nan]",
          "[ 0. nan]",
          "[ 0. nan]",
          "[ 0. nan]",
          "[ 0. nan]",
          "[ 0. nan]",
          "[ 0. nan]",
          "[ 0. nan]",
          "[ 0. nan]",
          "[ 0. nan]",
          "[ 0. nan]",
          "[ 0. nan]",
          "[ 0. nan]",
          "[ 0. nan]",
          "[ 0. nan]",
          "[ 0. nan]",
          "[ 0. nan]",
          "[ 0. nan]",
          "[ 0. nan]",
          "[ 0. nan]",
          "[ 0. nan]",
          "[ 0. nan]",
          "[ 0. nan]",
          "[ 0. nan]",
          "[ 0. nan]",
          "[ 0. nan]",
          "[ 0. nan]",
          "[ 0. nan]",
          "[ 0. nan]",
          "[ 0. nan]",
          "[ 0. nan]",
          "[ 0. nan]",
          "[ 0. nan]",
          "[ 0. nan]",
          "[ 0. nan]",
          "[0.         0.15577491]",
          "[0.         0.15577491]",
          "[0.         0.15577491]",
          "[0.         0.15577491]",
          "[0.         0.15577491]",
          "[0.         0.15577491]",
          "[0.         0.15577491]",
          "[0.        0.3180377]",
          "[0.        0.3180377]",
          "[0.        0.3180377]",
          "[0.        0.3180377]",
          "[0.        0.3180377]",
          "[0.        0.3180377]",
          "[0.        0.3180377]",
          "[ 0.         -0.35400342]",
          "[ 0.         -0.35400342]",
          "[ 0.         -0.35400342]",
          "[ 0.         -0.35400342]",
          "[ 0.         -0.35400342]",
          "[ 0.         -0.35400342]",
          "[ 0.         -0.35400342]",
          "[0.         0.21082869]",
          "[0.         0.21082869]",
          "[0.         0.21082869]",
          "[0.         0.21082869]",
          "[0.         0.21082869]",
          "[0.         0.21082869]",
          "[0.         0.21082869]",
          "[ 0.         -0.43656343]",
          "[ 0.         -0.43656343]",
          "[ 0.         -0.43656343]",
          "[ 0.         -0.43656343]",
          "[ 0.         -0.43656343]",
          "[ 0.         -0.43656343]",
          "[ 0.         -0.43656343]",
          "[ 0. nan]",
          "[ 0. nan]",
          "[ 0. nan]",
          "[ 0. nan]",
          "[ 0. nan]",
          "[ 0. nan]",
          "[ 0. nan]",
          "[ 0. nan]",
          "[ 0. nan]",
          "[ 0. nan]",
          "[ 0. nan]",
          "[ 0. nan]",
          "[ 0. nan]",
          "[ 0. nan]",
          "[ 0. nan]",
          "[ 0. nan]",
          "[ 0. nan]",
          "[ 0. nan]",
          "[ 0. nan]",
          "[ 0. nan]",
          "[ 0. nan]",
          "[ 0. nan]",
          "[ 0. nan]",
          "[ 0. nan]",
          "[ 0. nan]",
          "[ 0. nan]",
          "[ 0. nan]",
          "[ 0. nan]",
          "[ 0.         -0.00192589]",
          "[ 0.         -0.00192589]",
          "[ 0.         -0.00192589]",
          "[ 0.         -0.00192589]",
          "[ 0.         -0.00192589]",
          "[ 0.         -0.00192589]",
          "[ 0.         -0.00192589]",
          "[ 0. nan]",
          "[ 0. nan]",
          "[ 0. nan]",
          "[ 0. nan]",
          "[ 0. nan]",
          "[ 0. nan]",
          "[ 0. nan]",
          "[ 0. nan]",
          "[ 0. nan]",
          "[ 0. nan]",
          "[ 0. nan]",
          "[ 0. nan]",
          "[ 0. nan]",
          "[ 0. nan]",
          "[ 0. nan]",
          "[ 0. nan]",
          "[ 0. nan]",
          "[ 0. nan]",
          "[ 0. nan]",
          "[ 0. nan]",
          "[ 0. nan]",
          "[ 0. nan]",
          "[ 0. nan]",
          "[ 0. nan]",
          "[ 0. nan]",
          "[ 0. nan]",
          "[ 0. nan]",
          "[ 0. nan]",
          "[ 0. nan]",
          "[ 0. nan]",
          "[ 0. nan]",
          "[ 0. nan]",
          "[ 0. nan]",
          "[ 0. nan]",
          "[ 0. nan]",
          "[0.         0.04101903]",
          "[0.         0.04101903]",
          "[0.         0.04101903]",
          "[0.         0.04101903]",
          "[0.         0.04101903]",
          "[0.         0.04101903]",
          "[0.         0.04101903]",
          "[ 0.         -0.35400342]",
          "[ 0.         -0.35400342]",
          "[ 0.         -0.35400342]",
          "[ 0.         -0.35400342]",
          "[ 0.         -0.35400342]",
          "[ 0.         -0.35400342]",
          "[ 0.         -0.35400342]",
          "[0.         0.25183482]",
          "[0.         0.25183482]",
          "[0.         0.25183482]",
          "[0.         0.25183482]",
          "[0.         0.25183482]",
          "[0.         0.25183482]",
          "[0.         0.25183482]",
          "[0.         0.14905387]",
          "[0.         0.14905387]",
          "[0.         0.14905387]",
          "[0.         0.14905387]",
          "[0.         0.14905387]",
          "[0.         0.14905387]",
          "[0.         0.14905387]",
          "[0.         0.16379387]",
          "[0.         0.16379387]",
          "[0.         0.16379387]",
          "[0.         0.16379387]",
          "[0.         0.16379387]",
          "[0.         0.16379387]",
          "[0.         0.16379387]",
          "[ 0. nan]",
          "[ 0. nan]",
          "[ 0. nan]",
          "[ 0. nan]",
          "[ 0. nan]",
          "[ 0. nan]",
          "[ 0. nan]",
          "[ 0. nan]",
          "[ 0. nan]",
          "[ 0. nan]",
          "[ 0. nan]",
          "[ 0. nan]",
          "[ 0. nan]",
          "[ 0. nan]",
          "[ 0. nan]",
          "[ 0. nan]",
          "[ 0. nan]",
          "[ 0. nan]",
          "[ 0. nan]",
          "[ 0. nan]",
          "[ 0. nan]",
          "[ 0. nan]",
          "[ 0. nan]",
          "[ 0. nan]",
          "[ 0. nan]",
          "[ 0. nan]",
          "[ 0. nan]",
          "[ 0. nan]",
          "[0.         0.03399205]",
          "[0.         0.03399205]",
          "[0.         0.03399205]",
          "[0.         0.03399205]",
          "[0.         0.03399205]",
          "[0.         0.03399205]",
          "[0.         0.03399205]",
          "[ 0. nan]",
          "[ 0. nan]",
          "[ 0. nan]",
          "[ 0. nan]",
          "[ 0. nan]",
          "[ 0. nan]",
          "[ 0. nan]",
          "[ 0. nan]",
          "[ 0. nan]",
          "[ 0. nan]",
          "[ 0. nan]",
          "[ 0. nan]",
          "[ 0. nan]",
          "[ 0. nan]",
          "[ 0. nan]",
          "[ 0. nan]",
          "[ 0. nan]",
          "[ 0. nan]",
          "[ 0. nan]",
          "[ 0. nan]",
          "[ 0. nan]",
          "[ 0. nan]",
          "[ 0. nan]",
          "[ 0. nan]",
          "[ 0. nan]",
          "[ 0. nan]",
          "[ 0. nan]",
          "[ 0. nan]",
          "[ 0. nan]",
          "[ 0. nan]",
          "[ 0. nan]",
          "[ 0. nan]",
          "[ 0. nan]",
          "[ 0. nan]",
          "[ 0. nan]",
          "[0.         0.28257052]",
          "[0.         0.28257052]",
          "[0.         0.28257052]",
          "[0.         0.28257052]",
          "[0.         0.28257052]",
          "[0.         0.28257052]",
          "[0.         0.28257052]",
          "[0.         0.21082869]",
          "[0.         0.21082869]",
          "[0.         0.21082869]",
          "[0.         0.21082869]",
          "[0.         0.21082869]",
          "[0.         0.21082869]",
          "[0.         0.21082869]",
          "[0.         0.14905387]",
          "[0.         0.14905387]",
          "[0.         0.14905387]",
          "[0.         0.14905387]",
          "[0.         0.14905387]",
          "[0.         0.14905387]",
          "[0.         0.14905387]",
          "[0.         0.37932971]",
          "[0.         0.37932971]",
          "[0.         0.37932971]",
          "[0.         0.37932971]",
          "[0.         0.37932971]",
          "[0.         0.37932971]",
          "[0.         0.37932971]",
          "[0.  0.5]",
          "[0.  0.5]",
          "[0.  0.5]",
          "[0.  0.5]",
          "[0.  0.5]",
          "[0.  0.5]",
          "[0.  0.5]",
          "[ 0. nan]",
          "[ 0. nan]",
          "[ 0. nan]",
          "[ 0. nan]",
          "[ 0. nan]",
          "[ 0. nan]",
          "[ 0. nan]",
          "[ 0. nan]",
          "[ 0. nan]",
          "[ 0. nan]",
          "[ 0. nan]",
          "[ 0. nan]",
          "[ 0. nan]",
          "[ 0. nan]",
          "[ 0. nan]",
          "[ 0. nan]",
          "[ 0. nan]",
          "[ 0. nan]",
          "[ 0. nan]",
          "[ 0. nan]",
          "[ 0. nan]",
          "[ 0. nan]",
          "[ 0. nan]",
          "[ 0. nan]",
          "[ 0. nan]",
          "[ 0. nan]",
          "[ 0. nan]",
          "[ 0. nan]",
          "[0.         0.04384705]",
          "[0.         0.04384705]",
          "[0.         0.04384705]",
          "[0.         0.04384705]",
          "[0.         0.04384705]",
          "[0.         0.04384705]",
          "[0.         0.04384705]",
          "[ 0. nan]",
          "[ 0. nan]",
          "[ 0. nan]",
          "[ 0. nan]",
          "[ 0. nan]",
          "[ 0. nan]",
          "[ 0. nan]",
          "[ 0. nan]",
          "[ 0. nan]",
          "[ 0. nan]",
          "[ 0. nan]",
          "[ 0. nan]",
          "[ 0. nan]",
          "[ 0. nan]",
          "[ 0. nan]",
          "[ 0. nan]",
          "[ 0. nan]",
          "[ 0. nan]",
          "[ 0. nan]",
          "[ 0. nan]",
          "[ 0. nan]",
          "[ 0. nan]",
          "[ 0. nan]",
          "[ 0. nan]",
          "[ 0. nan]",
          "[ 0. nan]",
          "[ 0. nan]",
          "[ 0. nan]",
          "[ 0. nan]",
          "[ 0. nan]",
          "[ 0. nan]",
          "[ 0. nan]",
          "[ 0. nan]",
          "[ 0. nan]",
          "[ 0. nan]",
          "[ 0.         -0.27720042]",
          "[ 0.         -0.27720042]",
          "[ 0.         -0.27720042]",
          "[ 0.         -0.27720042]",
          "[ 0.         -0.27720042]",
          "[ 0.         -0.27720042]",
          "[ 0.         -0.27720042]",
          "[ 0.         -0.43656343]",
          "[ 0.         -0.43656343]",
          "[ 0.         -0.43656343]",
          "[ 0.         -0.43656343]",
          "[ 0.         -0.43656343]",
          "[ 0.         -0.43656343]",
          "[ 0.         -0.43656343]",
          "[0.         0.16379387]",
          "[0.         0.16379387]",
          "[0.         0.16379387]",
          "[0.         0.16379387]",
          "[0.         0.16379387]",
          "[0.         0.16379387]",
          "[0.         0.16379387]",
          "[0.  0.5]",
          "[0.  0.5]",
          "[0.  0.5]",
          "[0.  0.5]",
          "[0.  0.5]",
          "[0.  0.5]",
          "[0.  0.5]",
          "[0.         0.27033845]",
          "[0.         0.27033845]",
          "[0.         0.27033845]",
          "[0.         0.27033845]",
          "[0.         0.27033845]",
          "[0.         0.27033845]",
          "[0.         0.27033845]",
          "[ 0. nan]",
          "[ 0. nan]",
          "[ 0. nan]",
          "[ 0. nan]",
          "[ 0. nan]",
          "[ 0. nan]",
          "[ 0. nan]",
          "[ 0. nan]",
          "[ 0. nan]",
          "[ 0. nan]",
          "[ 0. nan]",
          "[ 0. nan]",
          "[ 0. nan]",
          "[ 0. nan]",
          "[ 0. nan]",
          "[ 0. nan]",
          "[ 0. nan]",
          "[ 0. nan]",
          "[ 0. nan]",
          "[ 0. nan]",
          "[ 0. nan]",
          "[ 0. nan]",
          "[ 0. nan]",
          "[ 0. nan]",
          "[ 0. nan]",
          "[ 0. nan]",
          "[ 0. nan]",
          "[ 0. nan]",
          "[ 0. nan]",
          "[ 0. nan]",
          "[ 0. nan]",
          "[ 0. nan]",
          "[ 0. nan]",
          "[ 0. nan]",
          "[ 0. nan]",
          "[ 0.         -0.02247717]",
          "[ 0.         -0.02247717]",
          "[ 0.         -0.02247717]",
          "[ 0.         -0.02247717]",
          "[ 0.         -0.02247717]",
          "[ 0.         -0.02247717]",
          "[ 0.         -0.02247717]",
          "[ 0.         -0.00192589]",
          "[ 0.         -0.00192589]",
          "[ 0.         -0.00192589]",
          "[ 0.         -0.00192589]",
          "[ 0.         -0.00192589]",
          "[ 0.         -0.00192589]",
          "[ 0.         -0.00192589]",
          "[0.         0.03399205]",
          "[0.         0.03399205]",
          "[0.         0.03399205]",
          "[0.         0.03399205]",
          "[0.         0.03399205]",
          "[0.         0.03399205]",
          "[0.         0.03399205]",
          "[0.         0.04384705]",
          "[0.         0.04384705]",
          "[0.         0.04384705]",
          "[0.         0.04384705]",
          "[0.         0.04384705]",
          "[0.         0.04384705]",
          "[0.         0.04384705]",
          "[ 0. nan]",
          "[ 0. nan]",
          "[ 0. nan]",
          "[ 0. nan]",
          "[ 0. nan]",
          "[ 0. nan]",
          "[ 0. nan]"
         ],
         "line": {
          "color": "blue"
         },
         "meta": {},
         "mode": "lines",
         "name": "Hamiltonian value",
         "type": "scatter",
         "x": {
          "bdata": "AAAAAAAAAAAAAAAAAAAAAAAAAAAAAPh/NxW2ekmih78AAAAAAAAAADYVtnpJooc/AAAAAAAA+H8AAAAAAADwPwAAAAAAAPA/AAAAAAAA+H8iqWCFtajvPwAAAAAAAPA/b6tPPaUr8D8AAAAAAAD4fwAAAAAAAABAAAAAAAAAAEAAAAAAAAD4f2dHwNWB9P8/AAAAAAAAAEBM3B8VvwUAQAAAAAAAAPh/AAAAAAAACEAAAAAAAAAIQAAAAAAAAPh/MvufDmrYB0AAAAAAAAAIQM4EYPGVJwhAAAAAAAAA+H8AAAAAAAAQQAAAAAAAABBAAAAAAAAA+H9CpiStahMQQAAAAAAAABBAe7O2pSrZD0AAAAAAAAD4fwAAAAAAABRAAAAAAAAAFEAAAAAAAAD4fwAAAAAAAPj/AAAAAAAAFEAAAAAAAAD4/wAAAAAAAPh/AAAAAAAAGEAAAAAAAAAYQAAAAAAAAPh/AAAAAAAA+P8AAAAAAAAYQAAAAAAAAPj/AAAAAAAA+H8AAAAAAAAcQAAAAAAAABxAAAAAAAAA+H8AAAAAAAD4/wAAAAAAABxAAAAAAAAA+P8AAAAAAAD4fwAAAAAAACBAAAAAAAAAIEAAAAAAAAD4fwAAAAAAAPj/AAAAAAAAIEAAAAAAAAD4/wAAAAAAAPh/AAAAAAAAIkAAAAAAAAAiQAAAAAAAAPh/6CbnhskAIkAAAAAAAAAiQBjZGHk2/yFAAAAAAAAA+H8AAAAAAAAkQAAAAAAAACRAAAAAAAAA+H8AAAAAAAD4/wAAAAAAACRAAAAAAAAA+P8AAAAAAAD4fwAAAAAAACZAAAAAAAAAJkAAAAAAAAD4fwAAAAAAAPj/AAAAAAAAJkAAAAAAAAD4/wAAAAAAAPh/AAAAAAAAKEAAAAAAAAAoQAAAAAAAAPh/AAAAAAAA+P8AAAAAAAAoQAAAAAAAAPj/AAAAAAAA+H8AAAAAAAAqQAAAAAAAACpAAAAAAAAA+H8AAAAAAAD4/wAAAAAAACpAAAAAAAAA+P8AAAAAAAD4fwAAAAAAACxAAAAAAAAALEAAAAAAAAD4fwAAAAAAAPj/AAAAAAAALEAAAAAAAAD4/wAAAAAAAPh/AAAAAAAAAAAAAAAAAAAAAAAAAAAAAPh/lLfVp57Shb8AAAAAAAAAAJO31aee0oU/AAAAAAAA+H8AAAAAAADwPwAAAAAAAPA/AAAAAAAA+H8RITpVyE3vPwAAAAAAAPA/d+9i1RtZ8D8AAAAAAAD4fwAAAAAAAABAAAAAAAAAAEAAAAAAAAD4fy8SOcWXMQBAAAAAAAAAAECi24110Jz/PwAAAAAAAPh/AAAAAAAACEAAAAAAAAAIQAAAAAAAAPh/RXrE9nbiB0AAAAAAAAAIQLuFOwmJHQhAAAAAAAAA+H8AAAAAAAAQQAAAAAAAABBAAAAAAAAA+H/KLbFTlB4QQAAAAAAAABBAa6SdWNfCD0AAAAAAAAD4fwAAAAAAABRAAAAAAAAAFEAAAAAAAAD4fwAAAAAAAPj/AAAAAAAAFEAAAAAAAAD4/wAAAAAAAPh/AAAAAAAAGEAAAAAAAAAYQAAAAAAAAPh/AAAAAAAA+P8AAAAAAAAYQAAAAAAAAPj/AAAAAAAA+H8AAAAAAAAcQAAAAAAAABxAAAAAAAAA+H8AAAAAAAD4/wAAAAAAABxAAAAAAAAA+P8AAAAAAAD4fwAAAAAAACBAAAAAAAAAIEAAAAAAAAD4fwAAAAAAAPj/AAAAAAAAIEAAAAAAAAD4/wAAAAAAAPh/AAAAAAAAIkAAAAAAAAAiQAAAAAAAAPh/6LNnRBEAIkAAAAAAAAAiQBhMmLvu/yFAAAAAAAAA+H8AAAAAAAAkQAAAAAAAACRAAAAAAAAA+H8AAAAAAAD4/wAAAAAAACRAAAAAAAAA+P8AAAAAAAD4fwAAAAAAACZAAAAAAAAAJkAAAAAAAAD4fwAAAAAAAPj/AAAAAAAAJkAAAAAAAAD4/wAAAAAAAPh/AAAAAAAAKEAAAAAAAAAoQAAAAAAAAPh/AAAAAAAA+P8AAAAAAAAoQAAAAAAAAPj/AAAAAAAA+H8AAAAAAAAqQAAAAAAAACpAAAAAAAAA+H8AAAAAAAD4/wAAAAAAACpAAAAAAAAA+P8AAAAAAAD4fwAAAAAAACxAAAAAAAAALEAAAAAAAAD4fwAAAAAAAPj/AAAAAAAALEAAAAAAAAD4/wAAAAAAAPh/AAAAAAAAAAAAAAAAAAAAAAAAAAAAAPh/UjFxf1T8Zr8AAAAAAAAAAFExcX9U/GY/AAAAAAAA+H8AAAAAAADwPwAAAAAAAPA/AAAAAAAA+H9eJHKKL2PwPwAAAAAAAPA/RLcb66A57z8AAAAAAAD4fwAAAAAAAABAAAAAAAAAAEAAAAAAAAD4fx/BMrBwuf8/AAAAAAAAAEBwn+anRyMAQAAAAAAAAPh/AAAAAAAACEAAAAAAAAAIQAAAAAAAAPh/f0Ntax7rB0AAAAAAAAAIQIG8kpThFAhAAAAAAAAA+H8AAAAAAAAQQAAAAAAAABBAAAAAAAAA+H+BPADLDekPQAAAAAAAABBAwOF/GnkLEEAAAAAAAAD4fwAAAAAAABRAAAAAAAAAFEAAAAAAAAD4fwAAAAAAAPj/AAAAAAAAFEAAAAAAAAD4/wAAAAAAAPh/AAAAAAAAGEAAAAAAAAAYQAAAAAAAAPh/AAAAAAAA+P8AAAAAAAAYQAAAAAAAAPj/AAAAAAAA+H8AAAAAAAAcQAAAAAAAABxAAAAAAAAA+H8AAAAAAAD4/wAAAAAAABxAAAAAAAAA+P8AAAAAAAD4fwAAAAAAACBAAAAAAAAAIEAAAAAAAAD4fwAAAAAAAPj/AAAAAAAAIEAAAAAAAAD4/wAAAAAAAPh/AAAAAAAAIkAAAAAAAAAiQAAAAAAAAPh/6il2O8/+IUAAAAAAAAAiQBbWicQwASJAAAAAAAAA+H8AAAAAAAAkQAAAAAAAACRAAAAAAAAA+H8AAAAAAAD4/wAAAAAAACRAAAAAAAAA+P8AAAAAAAD4fwAAAAAAACZAAAAAAAAAJkAAAAAAAAD4fwAAAAAAAPj/AAAAAAAAJkAAAAAAAAD4/wAAAAAAAPh/AAAAAAAAKEAAAAAAAAAoQAAAAAAAAPh/AAAAAAAA+P8AAAAAAAAoQAAAAAAAAPj/AAAAAAAA+H8AAAAAAAAqQAAAAAAAACpAAAAAAAAA+H8AAAAAAAD4/wAAAAAAACpAAAAAAAAA+P8AAAAAAAD4fwAAAAAAACxAAAAAAAAALEAAAAAAAAD4fwAAAAAAAPj/AAAAAAAALEAAAAAAAAD4/wAAAAAAAPh/AAAAAAAAAAAAAAAAAAAAAAAAAAAAAPh/7mYCsPjKk78AAAAAAAAAAO1mArD4ypM/AAAAAAAA+H8AAAAAAADwPwAAAAAAAPA/AAAAAAAA+H8V6RHb24nvPwAAAAAAAPA/dQt3EhI78D8AAAAAAAD4fwAAAAAAAABAAAAAAAAAAEAAAAAAAAD4f/6G2tY81v8/AAAAAAAAAECBvJKU4RQAQAAAAAAAAPh/AAAAAAAACEAAAAAAAAAIQAAAAAAAAPh/iplV8dvKB0AAAAAAAAAIQHZmqg4kNQhAAAAAAAAA+H8AAAAAAAAQQAAAAAAAABBAAAAAAAAA+H/a31dL9LkPQAAAAAAAABBAExBU2gUjEEAAAAAAAAD4fwAAAAAAABRAAAAAAAAAFEAAAAAAAAD4fwAAAAAAAPj/AAAAAAAAFEAAAAAAAAD4/wAAAAAAAPh/AAAAAAAAGEAAAAAAAAAYQAAAAAAAAPh/AAAAAAAA+P8AAAAAAAAYQAAAAAAAAPj/AAAAAAAA+H8AAAAAAAAcQAAAAAAAABxAAAAAAAAA+H8AAAAAAAD4/wAAAAAAABxAAAAAAAAA+P8AAAAAAAD4fwAAAAAAACBAAAAAAAAAIEAAAAAAAAD4fwAAAAAAAPj/AAAAAAAAIEAAAAAAAAD4/wAAAAAAAPh/AAAAAAAAIkAAAAAAAAAiQAAAAAAAAPh/mG2v33b+IUAAAAAAAAAiQGiSUCCJASJAAAAAAAAA+H8AAAAAAAAkQAAAAAAAACRAAAAAAAAA+H8AAAAAAAD4/wAAAAAAACRAAAAAAAAA+P8AAAAAAAD4fwAAAAAAACZAAAAAAAAAJkAAAAAAAAD4fwAAAAAAAPj/AAAAAAAAJkAAAAAAAAD4/wAAAAAAAPh/AAAAAAAAKEAAAAAAAAAoQAAAAAAAAPh/AAAAAAAA+P8AAAAAAAAoQAAAAAAAAPj/AAAAAAAA+H8AAAAAAAAqQAAAAAAAACpAAAAAAAAA+H8AAAAAAAD4/wAAAAAAACpAAAAAAAAA+P8AAAAAAAD4fwAAAAAAACxAAAAAAAAALEAAAAAAAAD4fwAAAAAAAPj/AAAAAAAALEAAAAAAAAD4/wAAAAAAAPh/AAAAAAAAAAAAAAAAAAAAAAAAAAAAAPh/cUKmJK1qkz8AAAAAAAAAAHFCpiStapO/AAAAAAAA+H8AAAAAAADwPwAAAAAAAPA/AAAAAAAA+H8pt8ROUXrwPwAAAAAAAPA/rZF2Yl0L7z8AAAAAAAD4fwAAAAAAAABAAAAAAAAAAEAAAAAAAAD4fwF5AJYb0v8/AAAAAAAAAEB/w/808hYAQAAAAAAAAPh/AAAAAAAACEAAAAAAAAAIQAAAAAAAAPh/2t9XS/S5B0AAAAAAAAAIQCYgqLQLRghAAAAAAAAA+H8AAAAAAAAQQAAAAAAAABBAAAAAAAAA+H/MRaS9INoPQAAAAAAAABBAGt0toe8SEEAAAAAAAAD4fwAAAAAAABRAAAAAAAAAFEAAAAAAAAD4fwAAAAAAAPj/AAAAAAAAFEAAAAAAAAD4/wAAAAAAAPh/AAAAAAAAGEAAAAAAAAAYQAAAAAAAAPh/AAAAAAAA+P8AAAAAAAAYQAAAAAAAAPj/AAAAAAAA+H8AAAAAAAAcQAAAAAAAABxAAAAAAAAA+H8AAAAAAAD4/wAAAAAAABxAAAAAAAAA+P8AAAAAAAD4fwAAAAAAACBAAAAAAAAAIEAAAAAAAAD4fwAAAAAAAPj/AAAAAAAAIEAAAAAAAAD4/wAAAAAAAPh/AAAAAAAAIkAAAAAAAAAiQAAAAAAAAPh/AAAAAAAA+P8AAAAAAAAiQAAAAAAAAPj/AAAAAAAA+H8AAAAAAAAkQAAAAAAAACRAAAAAAAAA+H/oJueGyQAkQAAAAAAAACRAGNkYeTb/I0AAAAAAAAD4fwAAAAAAACZAAAAAAAAAJkAAAAAAAAD4f+izZ0QRACZAAAAAAAAAJkAYTJi77v8lQAAAAAAAAPh/AAAAAAAAKEAAAAAAAAAoQAAAAAAAAPh/6il2O8/+J0AAAAAAAAAoQBbWicQwAShAAAAAAAAA+H8AAAAAAAAqQAAAAAAAACpAAAAAAAAA+H+Yba/fdv4pQAAAAAAAACpAaJJQIIkBKkAAAAAAAAD4fwAAAAAAACxAAAAAAAAALEAAAAAAAAD4fwAAAAAAAPj/AAAAAAAALEAAAAAAAAD4/wAAAAAAAPh/",
          "dtype": "f8"
         },
         "y": {
          "bdata": "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",
          "dtype": "f8"
         }
        },
        {
         "hovertext": [
          "[-0.13161163  0.1117565 ]",
          "[-0.13161163  0.1117565 ]",
          "[-0.13161163  0.1117565 ]",
          "[-0.13161163  0.1117565 ]",
          "[-0.13161163  0.1117565 ]",
          "[-0.13161163  0.1117565 ]",
          "[-0.13161163  0.1117565 ]",
          "[-0.12152549  0.07259719]",
          "[-0.12152549  0.07259719]",
          "[-0.12152549  0.07259719]",
          "[-0.12152549  0.07259719]",
          "[-0.12152549  0.07259719]",
          "[-0.12152549  0.07259719]",
          "[-0.12152549  0.07259719]",
          "[-0.03200039  0.01678732]",
          "[-0.03200039  0.01678732]",
          "[-0.03200039  0.01678732]",
          "[-0.03200039  0.01678732]",
          "[-0.03200039  0.01678732]",
          "[-0.03200039  0.01678732]",
          "[-0.03200039  0.01678732]",
          "[-0.22044321  0.02297187]",
          "[-0.22044321  0.02297187]",
          "[-0.22044321  0.02297187]",
          "[-0.22044321  0.02297187]",
          "[-0.22044321  0.02297187]",
          "[-0.22044321  0.02297187]",
          "[-0.22044321  0.02297187]",
          "[ 0.21625381 -0.20190293]",
          "[ 0.21625381 -0.20190293]",
          "[ 0.21625381 -0.20190293]",
          "[ 0.21625381 -0.20190293]",
          "[ 0.21625381 -0.20190293]",
          "[ 0.21625381 -0.20190293]",
          "[ 0.21625381 -0.20190293]",
          "[ 0. -0.]",
          "[ 0. -0.]",
          "[ 0. -0.]",
          "[ 0. -0.]",
          "[ 0. -0.]",
          "[ 0. -0.]",
          "[ 0. -0.]",
          "[ 0. -0.]",
          "[ 0. -0.]",
          "[ 0. -0.]",
          "[ 0. -0.]",
          "[ 0. -0.]",
          "[ 0. -0.]",
          "[ 0. -0.]",
          "[ 0. -0.]",
          "[ 0. -0.]",
          "[ 0. -0.]",
          "[ 0. -0.]",
          "[ 0. -0.]",
          "[ 0. -0.]",
          "[ 0. -0.]",
          "[ 0. -0.]",
          "[ 0. -0.]",
          "[ 0. -0.]",
          "[ 0. -0.]",
          "[ 0. -0.]",
          "[ 0. -0.]",
          "[ 0. -0.]",
          "[ 0.01753523 -0.00706553]",
          "[ 0.01753523 -0.00706553]",
          "[ 0.01753523 -0.00706553]",
          "[ 0.01753523 -0.00706553]",
          "[ 0.01753523 -0.00706553]",
          "[ 0.01753523 -0.00706553]",
          "[ 0.01753523 -0.00706553]",
          "[ 0. -0.]",
          "[ 0. -0.]",
          "[ 0. -0.]",
          "[ 0. -0.]",
          "[ 0. -0.]",
          "[ 0. -0.]",
          "[ 0. -0.]",
          "[ 0. -0.]",
          "[ 0. -0.]",
          "[ 0. -0.]",
          "[ 0. -0.]",
          "[ 0. -0.]",
          "[ 0. -0.]",
          "[ 0. -0.]",
          "[ 0. -0.]",
          "[ 0. -0.]",
          "[ 0. -0.]",
          "[ 0. -0.]",
          "[ 0. -0.]",
          "[ 0. -0.]",
          "[ 0. -0.]",
          "[ 0. -0.]",
          "[ 0. -0.]",
          "[ 0. -0.]",
          "[ 0. -0.]",
          "[ 0. -0.]",
          "[ 0. -0.]",
          "[ 0. -0.]",
          "[ 0. -0.]",
          "[ 0. -0.]",
          "[ 0. -0.]",
          "[ 0. -0.]",
          "[ 0. -0.]",
          "[ 0. -0.]",
          "[ 0. -0.]",
          "[-0.12152549  0.09265096]",
          "[-0.12152549  0.09265096]",
          "[-0.12152549  0.09265096]",
          "[-0.12152549  0.09265096]",
          "[-0.12152549  0.09265096]",
          "[-0.12152549  0.09265096]",
          "[-0.12152549  0.09265096]",
          "[-0.24811241  0.06376468]",
          "[-0.24811241  0.06376468]",
          "[-0.24811241  0.06376468]",
          "[-0.24811241  0.06376468]",
          "[-0.24811241  0.06376468]",
          "[-0.24811241  0.06376468]",
          "[-0.24811241  0.06376468]",
          "[ 0.27617053 -0.23288888]",
          "[ 0.27617053 -0.23288888]",
          "[ 0.27617053 -0.23288888]",
          "[ 0.27617053 -0.23288888]",
          "[ 0.27617053 -0.23288888]",
          "[ 0.27617053 -0.23288888]",
          "[ 0.27617053 -0.23288888]",
          "[-0.16447488  0.04706523]",
          "[-0.16447488  0.04706523]",
          "[-0.16447488  0.04706523]",
          "[-0.16447488  0.04706523]",
          "[-0.16447488  0.04706523]",
          "[-0.16447488  0.04706523]",
          "[-0.16447488  0.04706523]",
          "[ 0.3405785  -0.01739802]",
          "[ 0.3405785  -0.01739802]",
          "[ 0.3405785  -0.01739802]",
          "[ 0.3405785  -0.01739802]",
          "[ 0.3405785  -0.01739802]",
          "[ 0.3405785  -0.01739802]",
          "[ 0.3405785  -0.01739802]",
          "[ 0. -0.]",
          "[ 0. -0.]",
          "[ 0. -0.]",
          "[ 0. -0.]",
          "[ 0. -0.]",
          "[ 0. -0.]",
          "[ 0. -0.]",
          "[ 0. -0.]",
          "[ 0. -0.]",
          "[ 0. -0.]",
          "[ 0. -0.]",
          "[ 0. -0.]",
          "[ 0. -0.]",
          "[ 0. -0.]",
          "[ 0. -0.]",
          "[ 0. -0.]",
          "[ 0. -0.]",
          "[ 0. -0.]",
          "[ 0. -0.]",
          "[ 0. -0.]",
          "[ 0. -0.]",
          "[ 0. -0.]",
          "[ 0. -0.]",
          "[ 0. -0.]",
          "[ 0. -0.]",
          "[ 0. -0.]",
          "[ 0. -0.]",
          "[ 0. -0.]",
          "[ 0.00150245 -0.00070229]",
          "[ 0.00150245 -0.00070229]",
          "[ 0.00150245 -0.00070229]",
          "[ 0.00150245 -0.00070229]",
          "[ 0.00150245 -0.00070229]",
          "[ 0.00150245 -0.00070229]",
          "[ 0.00150245 -0.00070229]",
          "[ 0. -0.]",
          "[ 0. -0.]",
          "[ 0. -0.]",
          "[ 0. -0.]",
          "[ 0. -0.]",
          "[ 0. -0.]",
          "[ 0. -0.]",
          "[ 0. -0.]",
          "[ 0. -0.]",
          "[ 0. -0.]",
          "[ 0. -0.]",
          "[ 0. -0.]",
          "[ 0. -0.]",
          "[ 0. -0.]",
          "[ 0. -0.]",
          "[ 0. -0.]",
          "[ 0. -0.]",
          "[ 0. -0.]",
          "[ 0. -0.]",
          "[ 0. -0.]",
          "[ 0. -0.]",
          "[ 0. -0.]",
          "[ 0. -0.]",
          "[ 0. -0.]",
          "[ 0. -0.]",
          "[ 0. -0.]",
          "[ 0. -0.]",
          "[ 0. -0.]",
          "[ 0. -0.]",
          "[ 0. -0.]",
          "[ 0. -0.]",
          "[ 0. -0.]",
          "[ 0. -0.]",
          "[ 0. -0.]",
          "[ 0. -0.]",
          "[-0.03200039  0.01332531]",
          "[-0.03200039  0.01332531]",
          "[-0.03200039  0.01332531]",
          "[-0.03200039  0.01332531]",
          "[-0.03200039  0.01332531]",
          "[-0.03200039  0.01332531]",
          "[-0.03200039  0.01332531]",
          "[ 0.27617053 -0.01319917]",
          "[ 0.27617053 -0.01319917]",
          "[ 0.27617053 -0.01319917]",
          "[ 0.27617053 -0.01319917]",
          "[ 0.27617053 -0.01319917]",
          "[ 0.27617053 -0.01319917]",
          "[ 0.27617053 -0.01319917]",
          "[-0.19646521  0.15174851]",
          "[-0.19646521  0.15174851]",
          "[-0.19646521  0.15174851]",
          "[-0.19646521  0.15174851]",
          "[-0.19646521  0.15174851]",
          "[-0.19646521  0.15174851]",
          "[-0.19646521  0.15174851]",
          "[-0.11628217  0.02106427]",
          "[-0.11628217  0.02106427]",
          "[-0.11628217  0.02106427]",
          "[-0.11628217  0.02106427]",
          "[-0.11628217  0.02106427]",
          "[-0.11628217  0.02106427]",
          "[-0.11628217  0.02106427]",
          "[-0.12778137  0.11364715]",
          "[-0.12778137  0.11364715]",
          "[-0.12778137  0.11364715]",
          "[-0.12778137  0.11364715]",
          "[-0.12778137  0.11364715]",
          "[-0.12778137  0.11364715]",
          "[-0.12778137  0.11364715]",
          "[ 0. -0.]",
          "[ 0. -0.]",
          "[ 0. -0.]",
          "[ 0. -0.]",
          "[ 0. -0.]",
          "[ 0. -0.]",
          "[ 0. -0.]",
          "[ 0. -0.]",
          "[ 0. -0.]",
          "[ 0. -0.]",
          "[ 0. -0.]",
          "[ 0. -0.]",
          "[ 0. -0.]",
          "[ 0. -0.]",
          "[ 0. -0.]",
          "[ 0. -0.]",
          "[ 0. -0.]",
          "[ 0. -0.]",
          "[ 0. -0.]",
          "[ 0. -0.]",
          "[ 0. -0.]",
          "[ 0. -0.]",
          "[ 0. -0.]",
          "[ 0. -0.]",
          "[ 0. -0.]",
          "[ 0. -0.]",
          "[ 0. -0.]",
          "[ 0. -0.]",
          "[-0.0265184   0.00810399]",
          "[-0.0265184   0.00810399]",
          "[-0.0265184   0.00810399]",
          "[-0.0265184   0.00810399]",
          "[-0.0265184   0.00810399]",
          "[-0.0265184   0.00810399]",
          "[-0.0265184   0.00810399]",
          "[ 0. -0.]",
          "[ 0. -0.]",
          "[ 0. -0.]",
          "[ 0. -0.]",
          "[ 0. -0.]",
          "[ 0. -0.]",
          "[ 0. -0.]",
          "[ 0. -0.]",
          "[ 0. -0.]",
          "[ 0. -0.]",
          "[ 0. -0.]",
          "[ 0. -0.]",
          "[ 0. -0.]",
          "[ 0. -0.]",
          "[ 0. -0.]",
          "[ 0. -0.]",
          "[ 0. -0.]",
          "[ 0. -0.]",
          "[ 0. -0.]",
          "[ 0. -0.]",
          "[ 0. -0.]",
          "[ 0. -0.]",
          "[ 0. -0.]",
          "[ 0. -0.]",
          "[ 0. -0.]",
          "[ 0. -0.]",
          "[ 0. -0.]",
          "[ 0. -0.]",
          "[ 0. -0.]",
          "[ 0. -0.]",
          "[ 0. -0.]",
          "[ 0. -0.]",
          "[ 0. -0.]",
          "[ 0. -0.]",
          "[ 0. -0.]",
          "[-0.22044321  0.17466135]",
          "[-0.22044321  0.17466135]",
          "[-0.22044321  0.17466135]",
          "[-0.22044321  0.17466135]",
          "[-0.22044321  0.17466135]",
          "[-0.22044321  0.17466135]",
          "[-0.22044321  0.17466135]",
          "[-0.16447488  0.10722178]",
          "[-0.16447488  0.10722178]",
          "[-0.16447488  0.10722178]",
          "[-0.16447488  0.10722178]",
          "[-0.16447488  0.10722178]",
          "[-0.16447488  0.10722178]",
          "[-0.16447488  0.10722178]",
          "[-0.11628217  0.04790429]",
          "[-0.11628217  0.04790429]",
          "[-0.11628217  0.04790429]",
          "[-0.11628217  0.04790429]",
          "[-0.11628217  0.04790429]",
          "[-0.11628217  0.04790429]",
          "[-0.11628217  0.04790429]",
          "[-0.29592846  0.26764588]",
          "[-0.29592846  0.26764588]",
          "[-0.29592846  0.26764588]",
          "[-0.29592846  0.26764588]",
          "[-0.29592846  0.26764588]",
          "[-0.29592846  0.26764588]",
          "[-0.29592846  0.26764588]",
          "[-0.3900676  0.0735167]",
          "[-0.3900676  0.0735167]",
          "[-0.3900676  0.0735167]",
          "[-0.3900676  0.0735167]",
          "[-0.3900676  0.0735167]",
          "[-0.3900676  0.0735167]",
          "[-0.3900676  0.0735167]",
          "[ 0. -0.]",
          "[ 0. -0.]",
          "[ 0. -0.]",
          "[ 0. -0.]",
          "[ 0. -0.]",
          "[ 0. -0.]",
          "[ 0. -0.]",
          "[ 0. -0.]",
          "[ 0. -0.]",
          "[ 0. -0.]",
          "[ 0. -0.]",
          "[ 0. -0.]",
          "[ 0. -0.]",
          "[ 0. -0.]",
          "[ 0. -0.]",
          "[ 0. -0.]",
          "[ 0. -0.]",
          "[ 0. -0.]",
          "[ 0. -0.]",
          "[ 0. -0.]",
          "[ 0. -0.]",
          "[ 0. -0.]",
          "[ 0. -0.]",
          "[ 0. -0.]",
          "[ 0. -0.]",
          "[ 0. -0.]",
          "[ 0. -0.]",
          "[ 0. -0.]",
          "[-0.03420663  0.02034749]",
          "[-0.03420663  0.02034749]",
          "[-0.03420663  0.02034749]",
          "[-0.03420663  0.02034749]",
          "[-0.03420663  0.02034749]",
          "[-0.03420663  0.02034749]",
          "[-0.03420663  0.02034749]",
          "[ 0. -0.]",
          "[ 0. -0.]",
          "[ 0. -0.]",
          "[ 0. -0.]",
          "[ 0. -0.]",
          "[ 0. -0.]",
          "[ 0. -0.]",
          "[ 0. -0.]",
          "[ 0. -0.]",
          "[ 0. -0.]",
          "[ 0. -0.]",
          "[ 0. -0.]",
          "[ 0. -0.]",
          "[ 0. -0.]",
          "[ 0. -0.]",
          "[ 0. -0.]",
          "[ 0. -0.]",
          "[ 0. -0.]",
          "[ 0. -0.]",
          "[ 0. -0.]",
          "[ 0. -0.]",
          "[ 0. -0.]",
          "[ 0. -0.]",
          "[ 0. -0.]",
          "[ 0. -0.]",
          "[ 0. -0.]",
          "[ 0. -0.]",
          "[ 0. -0.]",
          "[ 0. -0.]",
          "[ 0. -0.]",
          "[ 0. -0.]",
          "[ 0. -0.]",
          "[ 0. -0.]",
          "[ 0. -0.]",
          "[ 0. -0.]",
          "[ 0.21625381 -0.1361625 ]",
          "[ 0.21625381 -0.1361625 ]",
          "[ 0.21625381 -0.1361625 ]",
          "[ 0.21625381 -0.1361625 ]",
          "[ 0.21625381 -0.1361625 ]",
          "[ 0.21625381 -0.1361625 ]",
          "[ 0.21625381 -0.1361625 ]",
          "[ 0.3405785  -0.29021133]",
          "[ 0.3405785  -0.29021133]",
          "[ 0.3405785  -0.29021133]",
          "[ 0.3405785  -0.29021133]",
          "[ 0.3405785  -0.29021133]",
          "[ 0.3405785  -0.29021133]",
          "[ 0.3405785  -0.29021133]",
          "[-0.12778137  0.09242998]",
          "[-0.12778137  0.09242998]",
          "[-0.12778137  0.09242998]",
          "[-0.12778137  0.09242998]",
          "[-0.12778137  0.09242998]",
          "[-0.12778137  0.09242998]",
          "[-0.12778137  0.09242998]",
          "[-0.3900676   0.31280547]",
          "[-0.3900676   0.31280547]",
          "[-0.3900676   0.31280547]",
          "[-0.3900676   0.31280547]",
          "[-0.3900676   0.31280547]",
          "[-0.3900676   0.31280547]",
          "[-0.3900676   0.31280547]",
          "[-0.21090055  0.12556838]",
          "[-0.21090055  0.12556838]",
          "[-0.21090055  0.12556838]",
          "[-0.21090055  0.12556838]",
          "[-0.21090055  0.12556838]",
          "[-0.21090055  0.12556838]",
          "[-0.21090055  0.12556838]",
          "[ 0. -0.]",
          "[ 0. -0.]",
          "[ 0. -0.]",
          "[ 0. -0.]",
          "[ 0. -0.]",
          "[ 0. -0.]",
          "[ 0. -0.]",
          "[ 0. -0.]",
          "[ 0. -0.]",
          "[ 0. -0.]",
          "[ 0. -0.]",
          "[ 0. -0.]",
          "[ 0. -0.]",
          "[ 0. -0.]",
          "[ 0. -0.]",
          "[ 0. -0.]",
          "[ 0. -0.]",
          "[ 0. -0.]",
          "[ 0. -0.]",
          "[ 0. -0.]",
          "[ 0. -0.]",
          "[ 0. -0.]",
          "[ 0. -0.]",
          "[ 0. -0.]",
          "[ 0. -0.]",
          "[ 0. -0.]",
          "[ 0. -0.]",
          "[ 0. -0.]",
          "[ 0. -0.]",
          "[ 0. -0.]",
          "[ 0. -0.]",
          "[ 0. -0.]",
          "[ 0. -0.]",
          "[ 0. -0.]",
          "[ 0. -0.]",
          "[ 0.01753523 -0.00096833]",
          "[ 0.01753523 -0.00096833]",
          "[ 0.01753523 -0.00096833]",
          "[ 0.01753523 -0.00096833]",
          "[ 0.01753523 -0.00096833]",
          "[ 0.01753523 -0.00096833]",
          "[ 0.01753523 -0.00096833]",
          "[ 0.00150245 -0.00079979]",
          "[ 0.00150245 -0.00079979]",
          "[ 0.00150245 -0.00079979]",
          "[ 0.00150245 -0.00079979]",
          "[ 0.00150245 -0.00079979]",
          "[ 0.00150245 -0.00079979]",
          "[ 0.00150245 -0.00079979]",
          "[-0.0265184   0.02583668]",
          "[-0.0265184   0.02583668]",
          "[-0.0265184   0.02583668]",
          "[-0.0265184   0.02583668]",
          "[-0.0265184   0.02583668]",
          "[-0.0265184   0.02583668]",
          "[-0.0265184   0.02583668]",
          "[-0.03420663  0.01571938]",
          "[-0.03420663  0.01571938]",
          "[-0.03420663  0.01571938]",
          "[-0.03420663  0.01571938]",
          "[-0.03420663  0.01571938]",
          "[-0.03420663  0.01571938]",
          "[-0.03420663  0.01571938]",
          "[ 0. -0.]",
          "[ 0. -0.]",
          "[ 0. -0.]",
          "[ 0. -0.]",
          "[ 0. -0.]",
          "[ 0. -0.]",
          "[ 0. -0.]"
         ],
         "line": {
          "color": "red"
         },
         "meta": {},
         "mode": "lines",
         "name": "Some data",
         "type": "scatter",
         "x": {
          "bdata": "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",
          "dtype": "f8"
         },
         "y": {
          "bdata": "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",
          "dtype": "f8"
         }
        },
        {
         "line": {
          "color": "pink",
          "dash": "dash",
          "width": 5
         },
         "meta": {},
         "mode": "lines",
         "name": "orbitals separators",
         "opacity": 0.8,
         "showlegend": false,
         "type": "scatter",
         "x": {
          "bdata": "AAAAAAAA4L8AAAAAAAASQAAAAAAAAPh/AAAAAAAA4D8AAAAAAADgPwAAAAAAAPh/",
          "dtype": "f8"
         },
         "y": {
          "bdata": "AAAAAAAA4D8AAAAAAADgPwAAAAAAAPh/AAAAAAAA4L8AAAAAAAASQAAAAAAAAPh/",
          "dtype": "f8"
         }
        },
        {
         "line": {
          "color": "gray"
         },
         "meta": {},
         "mode": "lines",
         "name": "atoms separators",
         "opacity": 1,
         "showlegend": false,
         "type": "scatter",
         "x": {
          "bdata": "AAAAAAAA4L8AAAAAAAASQAAAAAAAAPh/AAAAAAAADEAAAAAAAAAMQAAAAAAAAPh/",
          "dtype": "f8"
         },
         "y": {
          "bdata": "AAAAAAAADEAAAAAAAAAMQAAAAAAAAPh/AAAAAAAA4L8AAAAAAAASQAAAAAAAAPh/",
          "dtype": "f8"
         }
        }
       ],
       "layout": {
        "coloraxis": {
         "cmid": 0,
         "colorscale": [
          [
           0.0,
           "rgb(0, 147, 146)"
          ],
          [
           0.16666666666666666,
           "rgb(57, 177, 133)"
          ],
          [
           0.3333333333333333,
           "rgb(156, 203, 134)"
          ],
          [
           0.5,
           "rgb(233, 226, 156)"
          ],
          [
           0.6666666666666666,
           "rgb(238, 180, 121)"
          ],
          [
           0.8333333333333334,
           "rgb(232, 132, 113)"
          ],
          [
           1.0,
           "rgb(207, 89, 126)"
          ]
         ],
         "showscale": false
        },
        "scene": {
         "aspectmode": "data",
         "xaxis": {
          "range": [
           -0.5,
           14.5
          ]
         },
         "yaxis": {
          "range": [
           4.5,
           -0.5
          ]
         }
        },
        "template": {
         "layout": {
          "hovermode": "closest",
          "paper_bgcolor": "white",
          "plot_bgcolor": "white",
          "scene": {
           "xaxis": {
            "color": "black",
            "gridcolor": "#ccc",
            "gridwidth": 1,
            "linewidth": 1,
            "mirror": true,
            "showgrid": false,
            "showline": true,
            "ticklen": 5,
            "ticks": "outside",
            "ticksuffix": " ",
            "visible": true,
            "zeroline": false,
            "zerolinecolor": "#ccc",
            "zerolinewidth": 1
           },
           "yaxis": {
            "color": "black",
            "gridcolor": "#ccc",
            "gridwidth": 1,
            "linewidth": 1,
            "mirror": true,
            "showgrid": false,
            "showline": true,
            "ticklen": 5,
            "ticks": "outside",
            "ticksuffix": " ",
            "visible": true,
            "zeroline": false,
            "zerolinecolor": "#ccc",
            "zerolinewidth": 1
           },
           "zaxis": {
            "color": "black",
            "gridcolor": "#ccc",
            "gridwidth": 1,
            "linewidth": 1,
            "mirror": true,
            "showgrid": false,
            "showline": true,
            "ticklen": 5,
            "ticks": "outside",
            "ticksuffix": " ",
            "visible": true,
            "zeroline": false,
            "zerolinecolor": "#ccc",
            "zerolinewidth": 1
           }
          },
          "xaxis": {
           "color": "black",
           "gridcolor": "#ccc",
           "gridwidth": 1,
           "linewidth": 1,
           "mirror": true,
           "showgrid": false,
           "showline": true,
           "ticklen": 5,
           "ticks": "outside",
           "ticksuffix": " ",
           "visible": true,
           "zeroline": false,
           "zerolinecolor": "#ccc",
           "zerolinewidth": 1
          },
          "yaxis": {
           "color": "black",
           "gridcolor": "#ccc",
           "gridwidth": 1,
           "linewidth": 1,
           "mirror": true,
           "showgrid": false,
           "showline": true,
           "ticklen": 5,
           "ticks": "outside",
           "ticksuffix": " ",
           "visible": true,
           "zeroline": false,
           "zerolinecolor": "#ccc",
           "zerolinewidth": 1
          }
         }
        },
        "xaxis": {
         "constrain": "domain",
         "range": [
          -0.5,
          14.5
         ],
         "scaleanchor": "y",
         "scaleratio": 1
        },
        "yaxis": {
         "constrain": "domain",
         "range": [
          4.5,
          -0.5
         ]
        }
       }
      }
     },
     "metadata": {},
     "output_type": "display_data"
    }
   ],
   "source": [
    "plot.update_inputs(\n",
    "    arrows=[\n",
    "        {\"color\": \"blue\", \"center\": \"start\", \"name\": \"Hamiltonian value\"},\n",
    "        {\"data\": arrow_data, \"color\": \"red\", \"center\": \"end\", \"name\": \"Some data\"},\n",
    "    ]\n",
    ")"
   ]
  }
 ],
 "metadata": {
  "kernelspec": {
   "display_name": "Python 3 (ipykernel)",
   "language": "python",
   "name": "python3"
  },
  "language_info": {
   "codemirror_mode": {
    "name": "ipython",
    "version": 3
   },
   "file_extension": ".py",
   "mimetype": "text/x-python",
   "name": "python",
   "nbconvert_exporter": "python",
   "pygments_lexer": "ipython3",
   "version": "3.12.11"
  }
 },
 "nbformat": 4,
 "nbformat_minor": 4
}
