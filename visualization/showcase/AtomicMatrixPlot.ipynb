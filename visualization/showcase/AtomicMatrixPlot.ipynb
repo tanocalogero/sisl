{
 "cells": [
  {
   "cell_type": "markdown",
   "metadata": {
    "tags": [
     "notebook-header"
    ]
   },
   "source": [
    "[![GitHub issues by-label](https://img.shields.io/github/issues-raw/pfebrer/sisl/AtomicmatrixPlot?style=for-the-badge)](https://github.com/pfebrer/sisl/labels/AtomicMatrixPlot)"
   ]
  },
  {
   "cell_type": "markdown",
   "metadata": {},
   "source": [
    "AtomicMatrixPlot\n",
    "=========\n",
    "\n",
    "`AtomicMatrixPlot` allows you to visualize sparse matrices. This can help you:\n",
    "\n",
    "- **Understand sparse matrices better**, if you are new to them.\n",
    "- Easily **introspect matrices** to debug or understand how to implement new functionality."
   ]
  },
  {
   "cell_type": "code",
   "execution_count": 1,
   "metadata": {
    "execution": {
     "iopub.execute_input": "2025-08-14T08:05:59.652559Z",
     "iopub.status.busy": "2025-08-14T08:05:59.652383Z",
     "iopub.status.idle": "2025-08-14T08:06:00.514824Z",
     "shell.execute_reply": "2025-08-14T08:06:00.514132Z"
    }
   },
   "outputs": [],
   "source": [
    "import sisl\n",
    "\n",
    "import numpy as np"
   ]
  },
  {
   "cell_type": "markdown",
   "metadata": {},
   "source": [
    "Let's create a toy **Hamiltonian** that we will play with. We will use a chain with two atoms: \n",
    "\n",
    "  - C: With one s orbital and a set of p orbitals.\n",
    "  - H: With one s orbital."
   ]
  },
  {
   "cell_type": "code",
   "execution_count": 2,
   "metadata": {
    "execution": {
     "iopub.execute_input": "2025-08-14T08:06:00.516979Z",
     "iopub.status.busy": "2025-08-14T08:06:00.516696Z",
     "iopub.status.idle": "2025-08-14T08:06:00.545263Z",
     "shell.execute_reply": "2025-08-14T08:06:00.544647Z"
    }
   },
   "outputs": [],
   "source": [
    "# Create a C atom with s and p orbitals\n",
    "C = sisl.Atom(\n",
    "    \"C\",\n",
    "    orbitals=[\n",
    "        sisl.AtomicOrbital(\"2s\", R=0.8),\n",
    "        sisl.AtomicOrbital(\"2py\", R=0.8),\n",
    "        sisl.AtomicOrbital(\"2pz\", R=0.8),\n",
    "        sisl.AtomicOrbital(\"2px\", R=0.8),\n",
    "    ],\n",
    ")\n",
    "\n",
    "# Create a H atom with one s orbital\n",
    "H = sisl.Atom(\"H\", orbitals=[sisl.AtomicOrbital(\"1s\", R=0.4)])\n",
    "\n",
    "# Create a chain along X\n",
    "geom = sisl.Geometry(\n",
    "    [[0, 0, 0], [1, 0, 0]],\n",
    "    atoms=[C, H],\n",
    "    lattice=sisl.Lattice([2, 10, 10], nsc=[3, 1, 1]),\n",
    ")\n",
    "\n",
    "# Random Hamiltonian with non-zero elements only for orbitals that overlap\n",
    "H = sisl.Hamiltonian(geom)\n",
    "for i in range(geom.no):\n",
    "    for j in range(geom.no * 3):\n",
    "        dist = geom.rij(*geom.o2a([i, j]))\n",
    "        if dist < 1.2:\n",
    "            H[i, j] = (np.random.random() - 0.5) * (1 if j < geom.no else 0.2)\n",
    "# Symmetrize it to make it more realistic\n",
    "H = H + H.transpose()"
   ]
  },
  {
   "cell_type": "markdown",
   "metadata": {},
   "source": [
    "## Matrix as an image\n",
    "\n",
    "The default mode of `AtomicMatrixPlot` is simply to plot an image where the values of the matrix are encoded as colors:"
   ]
  },
  {
   "cell_type": "code",
   "execution_count": 3,
   "metadata": {
    "execution": {
     "iopub.execute_input": "2025-08-14T08:06:00.546961Z",
     "iopub.status.busy": "2025-08-14T08:06:00.546798Z",
     "iopub.status.idle": "2025-08-14T08:06:01.305684Z",
     "shell.execute_reply": "2025-08-14T08:06:01.305119Z"
    }
   },
   "outputs": [
    {
     "data": {
      "application/vnd.plotly.v1+json": {
       "config": {
        "plotlyServerURL": "https://plot.ly"
       },
       "data": [
        {
         "coloraxis": "coloraxis",
         "meta": {},
         "opacity": 1,
         "type": "heatmap",
         "z": {
          "bdata": "hPjVt1v77z8d8lZMHyDkP9jICR3gdd8/0Cq88WAXwj8idcFelZnYPwAAAAAAAPh/AAAAAAAA+H8AAAAAAAD4fwAAAAAAAPh/7Td+MSRJpb8AAAAAAAD4fwAAAAAAAPh/AAAAAAAA+H8AAAAAAAD4fwAAAAAAAPh/HfJWTB8g5D96CSwuUDLuP8B7GcphXLS/7h30oo0E1b+glpMPy1jEvwAAAAAAAPh/AAAAAAAA+H8AAAAAAAD4fwAAAAAAAPh/GuNOeUPKir8AAAAAAAD4fwAAAAAAAPh/AAAAAAAA+H8AAAAAAAD4fwAAAAAAAPh/2MgJHeB13z/AexnKYVy0v1IiYxT1du8/cG5BjDIJpz8U8ISPJLzFvwAAAAAAAPh/AAAAAAAA+H8AAAAAAAD4fwAAAAAAAPh/CD0Jo6ngwD8AAAAAAAD4fwAAAAAAAPh/AAAAAAAA+H8AAAAAAAD4fwAAAAAAAPh/0Cq88WAXwj/uHfSijQTVv3BuQYwyCac/AI5GA+6Pf79l27r0GQTrPwAAAAAAAPh/AAAAAAAA+H8AAAAAAAD4fwAAAAAAAPh/c/1TXF0rrb8AAAAAAAD4fwAAAAAAAPh/AAAAAAAA+H8AAAAAAAD4fwAAAAAAAPh/InXBXpWZ2D+glpMPy1jEvxTwhI8kvMW/Zdu69BkE6z8kNemXVF/evwAAAAAAAPh/AAAAAAAA+H8AAAAAAAD4fwAAAAAAAPh/AAAAAAAA+H/tN34xJEmlvxrjTnlDyoq/CD0Jo6ngwD9z/VNcXSutvwAAAAAAAPh/",
          "dtype": "f8",
          "shape": "5, 15"
         },
         "zsmooth": false
        }
       ],
       "layout": {
        "coloraxis": {
         "cmid": 0,
         "colorscale": [
          [
           0.0,
           "rgb(103,0,31)"
          ],
          [
           0.1,
           "rgb(178,24,43)"
          ],
          [
           0.2,
           "rgb(214,96,77)"
          ],
          [
           0.3,
           "rgb(244,165,130)"
          ],
          [
           0.4,
           "rgb(253,219,199)"
          ],
          [
           0.5,
           "rgb(247,247,247)"
          ],
          [
           0.6,
           "rgb(209,229,240)"
          ],
          [
           0.7,
           "rgb(146,197,222)"
          ],
          [
           0.8,
           "rgb(67,147,195)"
          ],
          [
           0.9,
           "rgb(33,102,172)"
          ],
          [
           1.0,
           "rgb(5,48,97)"
          ]
         ],
         "showscale": true
        },
        "scene": {
         "aspectmode": "data",
         "xaxis": {
          "range": [
           -0.5,
           14.5
          ]
         },
         "yaxis": {
          "range": [
           4.5,
           -0.5
          ]
         }
        },
        "template": {
         "layout": {
          "hovermode": "closest",
          "paper_bgcolor": "white",
          "plot_bgcolor": "white",
          "scene": {
           "xaxis": {
            "color": "black",
            "gridcolor": "#ccc",
            "gridwidth": 1,
            "linewidth": 1,
            "mirror": true,
            "showgrid": false,
            "showline": true,
            "ticklen": 5,
            "ticks": "outside",
            "ticksuffix": " ",
            "visible": true,
            "zeroline": false,
            "zerolinecolor": "#ccc",
            "zerolinewidth": 1
           },
           "yaxis": {
            "color": "black",
            "gridcolor": "#ccc",
            "gridwidth": 1,
            "linewidth": 1,
            "mirror": true,
            "showgrid": false,
            "showline": true,
            "ticklen": 5,
            "ticks": "outside",
            "ticksuffix": " ",
            "visible": true,
            "zeroline": false,
            "zerolinecolor": "#ccc",
            "zerolinewidth": 1
           },
           "zaxis": {
            "color": "black",
            "gridcolor": "#ccc",
            "gridwidth": 1,
            "linewidth": 1,
            "mirror": true,
            "showgrid": false,
            "showline": true,
            "ticklen": 5,
            "ticks": "outside",
            "ticksuffix": " ",
            "visible": true,
            "zeroline": false,
            "zerolinecolor": "#ccc",
            "zerolinewidth": 1
           }
          },
          "xaxis": {
           "color": "black",
           "gridcolor": "#ccc",
           "gridwidth": 1,
           "linewidth": 1,
           "mirror": true,
           "showgrid": false,
           "showline": true,
           "ticklen": 5,
           "ticks": "outside",
           "ticksuffix": " ",
           "visible": true,
           "zeroline": false,
           "zerolinecolor": "#ccc",
           "zerolinewidth": 1
          },
          "yaxis": {
           "color": "black",
           "gridcolor": "#ccc",
           "gridwidth": 1,
           "linewidth": 1,
           "mirror": true,
           "showgrid": false,
           "showline": true,
           "ticklen": 5,
           "ticks": "outside",
           "ticksuffix": " ",
           "visible": true,
           "zeroline": false,
           "zerolinecolor": "#ccc",
           "zerolinewidth": 1
          }
         }
        },
        "xaxis": {
         "constrain": "domain",
         "range": [
          -0.5,
          14.5
         ],
         "scaleanchor": "y",
         "scaleratio": 1
        },
        "yaxis": {
         "constrain": "domain",
         "range": [
          4.5,
          -0.5
         ]
        }
       }
      }
     },
     "metadata": {},
     "output_type": "display_data"
    }
   ],
   "source": [
    "plot = H.plot()\n",
    "plot.get()"
   ]
  },
  {
   "cell_type": "markdown",
   "metadata": {},
   "source": [
    "## Changing the colorscale\n",
    "\n",
    "The most obvious thing to tweak here is the colorscale, you can do so by using the `colorscale` input, which, as usual, accepts any colorscale that the plotting backend can understand."
   ]
  },
  {
   "cell_type": "code",
   "execution_count": 4,
   "metadata": {
    "execution": {
     "iopub.execute_input": "2025-08-14T08:06:01.307396Z",
     "iopub.status.busy": "2025-08-14T08:06:01.307223Z",
     "iopub.status.idle": "2025-08-14T08:06:01.380722Z",
     "shell.execute_reply": "2025-08-14T08:06:01.380268Z"
    }
   },
   "outputs": [
    {
     "name": "stderr",
     "output_type": "stream",
     "text": [
      "INFO\tTask(Task-2) nodify.node.140656810367008:node.py:get()- No need to evaluate\n"
     ]
    },
    {
     "name": "stderr",
     "output_type": "stream",
     "text": [
      "INFO\tTask(Task-2) nodify.node.140656814357152:node.py:get()- No need to evaluate\n"
     ]
    },
    {
     "name": "stderr",
     "output_type": "stream",
     "text": [
      "INFO\tTask(Task-2) nodify.node.140656810362016:node.py:get()- No need to evaluate\n"
     ]
    },
    {
     "name": "stderr",
     "output_type": "stream",
     "text": [
      "INFO\tTask(Task-2) nodify.node.140656810362112:node.py:get()- No need to evaluate\n"
     ]
    },
    {
     "name": "stderr",
     "output_type": "stream",
     "text": [
      "INFO\tTask(Task-2) nodify.node.140656810361248:node.py:get()- No need to evaluate\n"
     ]
    },
    {
     "name": "stderr",
     "output_type": "stream",
     "text": [
      "INFO\tTask(Task-2) nodify.node.140656810368784:node.py:get()- No need to evaluate\n"
     ]
    },
    {
     "name": "stderr",
     "output_type": "stream",
     "text": [
      "INFO\tTask(Task-2) nodify.node.140656810363936:node.py:get()- Evaluated because inputs changed.\n"
     ]
    },
    {
     "name": "stderr",
     "output_type": "stream",
     "text": [
      "INFO\tTask(Task-2) nodify.node.140656810364320:node.py:get()- No need to evaluate\n"
     ]
    },
    {
     "name": "stderr",
     "output_type": "stream",
     "text": [
      "INFO\tTask(Task-2) nodify.node.140656814357152:node.py:get()- No need to evaluate\n"
     ]
    },
    {
     "name": "stderr",
     "output_type": "stream",
     "text": [
      "INFO\tTask(Task-2) nodify.node.140656810364704:node.py:get()- No need to evaluate\n"
     ]
    },
    {
     "name": "stderr",
     "output_type": "stream",
     "text": [
      "INFO\tTask(Task-2) nodify.node.140656810364320:node.py:get()- No need to evaluate\n"
     ]
    },
    {
     "name": "stderr",
     "output_type": "stream",
     "text": [
      "INFO\tTask(Task-2) nodify.node.140656810370032:node.py:get()- No need to evaluate\n"
     ]
    },
    {
     "name": "stderr",
     "output_type": "stream",
     "text": [
      "INFO\tTask(Task-2) nodify.node.140656810363552:node.py:get()- No need to evaluate\n"
     ]
    },
    {
     "name": "stderr",
     "output_type": "stream",
     "text": [
      "INFO\tTask(Task-2) nodify.node.140656810365088:node.py:get()- No need to evaluate\n"
     ]
    },
    {
     "name": "stderr",
     "output_type": "stream",
     "text": [
      "INFO\tTask(Task-2) nodify.node.140656810365472:node.py:get()- No need to evaluate\n"
     ]
    },
    {
     "name": "stderr",
     "output_type": "stream",
     "text": [
      "INFO\tTask(Task-2) nodify.node.140656810369936:node.py:get()- Evaluated because inputs changed.\n"
     ]
    },
    {
     "name": "stderr",
     "output_type": "stream",
     "text": [
      "INFO\tTask(Task-2) nodify.node.140656814357152:node.py:get()- No need to evaluate\n"
     ]
    },
    {
     "name": "stderr",
     "output_type": "stream",
     "text": [
      "INFO\tTask(Task-2) nodify.node.140656810362016:node.py:get()- No need to evaluate\n"
     ]
    },
    {
     "name": "stderr",
     "output_type": "stream",
     "text": [
      "INFO\tTask(Task-2) nodify.node.140656810362112:node.py:get()- No need to evaluate\n"
     ]
    },
    {
     "name": "stderr",
     "output_type": "stream",
     "text": [
      "INFO\tTask(Task-2) nodify.node.140656810361248:node.py:get()- No need to evaluate\n"
     ]
    },
    {
     "name": "stderr",
     "output_type": "stream",
     "text": [
      "INFO\tTask(Task-2) nodify.node.140656810368784:node.py:get()- No need to evaluate\n"
     ]
    },
    {
     "name": "stderr",
     "output_type": "stream",
     "text": [
      "INFO\tTask(Task-2) nodify.node.140656810366624:node.py:get()- No need to evaluate\n"
     ]
    },
    {
     "name": "stderr",
     "output_type": "stream",
     "text": [
      "INFO\tTask(Task-2) nodify.node.140656810370704:node.py:get()- No need to evaluate\n"
     ]
    },
    {
     "name": "stderr",
     "output_type": "stream",
     "text": [
      "INFO\tTask(Task-2) nodify.node.140656810370080:node.py:get()- No need to evaluate\n"
     ]
    },
    {
     "name": "stderr",
     "output_type": "stream",
     "text": [
      "INFO\tTask(Task-2) nodify.node.140656810361392:node.py:get()- No need to evaluate\n"
     ]
    },
    {
     "name": "stderr",
     "output_type": "stream",
     "text": [
      "INFO\tTask(Task-2) nodify.node.140656814357152:node.py:get()- No need to evaluate\n"
     ]
    },
    {
     "name": "stderr",
     "output_type": "stream",
     "text": [
      "INFO\tTask(Task-2) nodify.node.140656810361536:node.py:get()- No need to evaluate\n"
     ]
    },
    {
     "name": "stderr",
     "output_type": "stream",
     "text": [
      "INFO\tTask(Task-2) nodify.node.140656810368304:node.py:get()- No need to evaluate\n"
     ]
    },
    {
     "name": "stderr",
     "output_type": "stream",
     "text": [
      "INFO\tTask(Task-2) nodify.node.140656814357152:node.py:get()- No need to evaluate\n"
     ]
    },
    {
     "name": "stderr",
     "output_type": "stream",
     "text": [
      "INFO\tTask(Task-2) nodify.node.140656810368880:node.py:get()- No need to evaluate\n"
     ]
    },
    {
     "name": "stderr",
     "output_type": "stream",
     "text": [
      "INFO\tTask(Task-2) nodify.node.140656810370752:node.py:get()- No need to evaluate\n"
     ]
    },
    {
     "name": "stderr",
     "output_type": "stream",
     "text": [
      "INFO\tTask(Task-2) nodify.node.140656810362592:node.py:get()- No need to evaluate\n"
     ]
    },
    {
     "name": "stderr",
     "output_type": "stream",
     "text": [
      "INFO\tTask(Task-2) nodify.node.140656814357152:node.py:get()- No need to evaluate\n"
     ]
    },
    {
     "name": "stderr",
     "output_type": "stream",
     "text": [
      "INFO\tTask(Task-2) nodify.node.140656810361536:node.py:get()- No need to evaluate\n"
     ]
    },
    {
     "name": "stderr",
     "output_type": "stream",
     "text": [
      "INFO\tTask(Task-2) nodify.node.140656810368304:node.py:get()- No need to evaluate\n"
     ]
    },
    {
     "name": "stderr",
     "output_type": "stream",
     "text": [
      "INFO\tTask(Task-2) nodify.node.140656814357152:node.py:get()- No need to evaluate\n"
     ]
    },
    {
     "name": "stderr",
     "output_type": "stream",
     "text": [
      "INFO\tTask(Task-2) nodify.node.140656810368880:node.py:get()- No need to evaluate\n"
     ]
    },
    {
     "name": "stderr",
     "output_type": "stream",
     "text": [
      "INFO\tTask(Task-2) nodify.node.140656810371424:node.py:get()- No need to evaluate\n"
     ]
    },
    {
     "name": "stderr",
     "output_type": "stream",
     "text": [
      "INFO\tTask(Task-2) nodify.node.140656810363120:node.py:get()- No need to evaluate\n"
     ]
    },
    {
     "name": "stderr",
     "output_type": "stream",
     "text": [
      "INFO\tTask(Task-2) nodify.node.140656814357152:node.py:get()- No need to evaluate\n"
     ]
    },
    {
     "name": "stderr",
     "output_type": "stream",
     "text": [
      "INFO\tTask(Task-2) nodify.node.140656810361536:node.py:get()- No need to evaluate\n"
     ]
    },
    {
     "name": "stderr",
     "output_type": "stream",
     "text": [
      "INFO\tTask(Task-2) nodify.node.140656810368304:node.py:get()- No need to evaluate\n"
     ]
    },
    {
     "name": "stderr",
     "output_type": "stream",
     "text": [
      "INFO\tTask(Task-2) nodify.node.140656814357152:node.py:get()- No need to evaluate\n"
     ]
    },
    {
     "name": "stderr",
     "output_type": "stream",
     "text": [
      "INFO\tTask(Task-2) nodify.node.140656810368880:node.py:get()- No need to evaluate\n"
     ]
    },
    {
     "name": "stderr",
     "output_type": "stream",
     "text": [
      "INFO\tTask(Task-2) nodify.node.140656810371760:node.py:get()- No need to evaluate\n"
     ]
    },
    {
     "name": "stderr",
     "output_type": "stream",
     "text": [
      "INFO\tTask(Task-2) nodify.node.140656814357152:node.py:get()- No need to evaluate\n"
     ]
    },
    {
     "name": "stderr",
     "output_type": "stream",
     "text": [
      "INFO\tTask(Task-2) nodify.node.140656810362016:node.py:get()- No need to evaluate\n"
     ]
    },
    {
     "name": "stderr",
     "output_type": "stream",
     "text": [
      "INFO\tTask(Task-2) nodify.node.140656810362112:node.py:get()- No need to evaluate\n"
     ]
    },
    {
     "name": "stderr",
     "output_type": "stream",
     "text": [
      "INFO\tTask(Task-2) nodify.node.140656810361248:node.py:get()- No need to evaluate\n"
     ]
    },
    {
     "name": "stderr",
     "output_type": "stream",
     "text": [
      "INFO\tTask(Task-2) nodify.node.140656810368784:node.py:get()- No need to evaluate\n"
     ]
    },
    {
     "name": "stderr",
     "output_type": "stream",
     "text": [
      "INFO\tTask(Task-2) nodify.node.140656814357152:node.py:get()- No need to evaluate\n"
     ]
    },
    {
     "name": "stderr",
     "output_type": "stream",
     "text": [
      "INFO\tTask(Task-2) nodify.node.140656810361536:node.py:get()- No need to evaluate\n"
     ]
    },
    {
     "name": "stderr",
     "output_type": "stream",
     "text": [
      "INFO\tTask(Task-2) nodify.node.140656810368304:node.py:get()- No need to evaluate\n"
     ]
    },
    {
     "name": "stderr",
     "output_type": "stream",
     "text": [
      "INFO\tTask(Task-2) nodify.node.140656814357152:node.py:get()- No need to evaluate\n"
     ]
    },
    {
     "name": "stderr",
     "output_type": "stream",
     "text": [
      "INFO\tTask(Task-2) nodify.node.140656810368880:node.py:get()- No need to evaluate\n"
     ]
    },
    {
     "name": "stderr",
     "output_type": "stream",
     "text": [
      "INFO\tTask(Task-2) nodify.node.140656810366240:node.py:get()- No need to evaluate\n"
     ]
    },
    {
     "name": "stderr",
     "output_type": "stream",
     "text": [
      "INFO\tTask(Task-2) nodify.node.140656810365856:node.py:get()- No need to evaluate\n"
     ]
    },
    {
     "name": "stderr",
     "output_type": "stream",
     "text": [
      "INFO\tTask(Task-2) nodify.node.140656810368592:node.py:get()- No need to evaluate\n"
     ]
    },
    {
     "name": "stderr",
     "output_type": "stream",
     "text": [
      "INFO\tTask(Task-2) nodify.node.140656810369024:node.py:get()- Evaluated because inputs changed.\n"
     ]
    },
    {
     "name": "stderr",
     "output_type": "stream",
     "text": [
      "INFO\tTask(Task-2) nodify.node.140656810372240:node.py:get()- Evaluated because inputs changed.\n"
     ]
    },
    {
     "name": "stderr",
     "output_type": "stream",
     "text": [
      "INFO\tTask(Task-2) nodify.node.140656810372720:node.py:get()- Evaluated because inputs changed.\n"
     ]
    },
    {
     "data": {
      "application/vnd.plotly.v1+json": {
       "config": {
        "plotlyServerURL": "https://plot.ly"
       },
       "data": [
        {
         "coloraxis": "coloraxis",
         "meta": {},
         "opacity": 1,
         "type": "heatmap",
         "z": {
          "bdata": "hPjVt1v77z8d8lZMHyDkP9jICR3gdd8/0Cq88WAXwj8idcFelZnYPwAAAAAAAPh/AAAAAAAA+H8AAAAAAAD4fwAAAAAAAPh/7Td+MSRJpb8AAAAAAAD4fwAAAAAAAPh/AAAAAAAA+H8AAAAAAAD4fwAAAAAAAPh/HfJWTB8g5D96CSwuUDLuP8B7GcphXLS/7h30oo0E1b+glpMPy1jEvwAAAAAAAPh/AAAAAAAA+H8AAAAAAAD4fwAAAAAAAPh/GuNOeUPKir8AAAAAAAD4fwAAAAAAAPh/AAAAAAAA+H8AAAAAAAD4fwAAAAAAAPh/2MgJHeB13z/AexnKYVy0v1IiYxT1du8/cG5BjDIJpz8U8ISPJLzFvwAAAAAAAPh/AAAAAAAA+H8AAAAAAAD4fwAAAAAAAPh/CD0Jo6ngwD8AAAAAAAD4fwAAAAAAAPh/AAAAAAAA+H8AAAAAAAD4fwAAAAAAAPh/0Cq88WAXwj/uHfSijQTVv3BuQYwyCac/AI5GA+6Pf79l27r0GQTrPwAAAAAAAPh/AAAAAAAA+H8AAAAAAAD4fwAAAAAAAPh/c/1TXF0rrb8AAAAAAAD4fwAAAAAAAPh/AAAAAAAA+H8AAAAAAAD4fwAAAAAAAPh/InXBXpWZ2D+glpMPy1jEvxTwhI8kvMW/Zdu69BkE6z8kNemXVF/evwAAAAAAAPh/AAAAAAAA+H8AAAAAAAD4fwAAAAAAAPh/AAAAAAAA+H/tN34xJEmlvxrjTnlDyoq/CD0Jo6ngwD9z/VNcXSutvwAAAAAAAPh/",
          "dtype": "f8",
          "shape": "5, 15"
         },
         "zsmooth": false
        }
       ],
       "layout": {
        "coloraxis": {
         "cmid": 0,
         "colorscale": [
          [
           0.0,
           "rgb(0, 147, 146)"
          ],
          [
           0.16666666666666666,
           "rgb(57, 177, 133)"
          ],
          [
           0.3333333333333333,
           "rgb(156, 203, 134)"
          ],
          [
           0.5,
           "rgb(233, 226, 156)"
          ],
          [
           0.6666666666666666,
           "rgb(238, 180, 121)"
          ],
          [
           0.8333333333333334,
           "rgb(232, 132, 113)"
          ],
          [
           1.0,
           "rgb(207, 89, 126)"
          ]
         ],
         "showscale": true
        },
        "scene": {
         "aspectmode": "data",
         "xaxis": {
          "range": [
           -0.5,
           14.5
          ]
         },
         "yaxis": {
          "range": [
           4.5,
           -0.5
          ]
         }
        },
        "template": {
         "layout": {
          "hovermode": "closest",
          "paper_bgcolor": "white",
          "plot_bgcolor": "white",
          "scene": {
           "xaxis": {
            "color": "black",
            "gridcolor": "#ccc",
            "gridwidth": 1,
            "linewidth": 1,
            "mirror": true,
            "showgrid": false,
            "showline": true,
            "ticklen": 5,
            "ticks": "outside",
            "ticksuffix": " ",
            "visible": true,
            "zeroline": false,
            "zerolinecolor": "#ccc",
            "zerolinewidth": 1
           },
           "yaxis": {
            "color": "black",
            "gridcolor": "#ccc",
            "gridwidth": 1,
            "linewidth": 1,
            "mirror": true,
            "showgrid": false,
            "showline": true,
            "ticklen": 5,
            "ticks": "outside",
            "ticksuffix": " ",
            "visible": true,
            "zeroline": false,
            "zerolinecolor": "#ccc",
            "zerolinewidth": 1
           },
           "zaxis": {
            "color": "black",
            "gridcolor": "#ccc",
            "gridwidth": 1,
            "linewidth": 1,
            "mirror": true,
            "showgrid": false,
            "showline": true,
            "ticklen": 5,
            "ticks": "outside",
            "ticksuffix": " ",
            "visible": true,
            "zeroline": false,
            "zerolinecolor": "#ccc",
            "zerolinewidth": 1
           }
          },
          "xaxis": {
           "color": "black",
           "gridcolor": "#ccc",
           "gridwidth": 1,
           "linewidth": 1,
           "mirror": true,
           "showgrid": false,
           "showline": true,
           "ticklen": 5,
           "ticks": "outside",
           "ticksuffix": " ",
           "visible": true,
           "zeroline": false,
           "zerolinecolor": "#ccc",
           "zerolinewidth": 1
          },
          "yaxis": {
           "color": "black",
           "gridcolor": "#ccc",
           "gridwidth": 1,
           "linewidth": 1,
           "mirror": true,
           "showgrid": false,
           "showline": true,
           "ticklen": 5,
           "ticks": "outside",
           "ticksuffix": " ",
           "visible": true,
           "zeroline": false,
           "zerolinecolor": "#ccc",
           "zerolinewidth": 1
          }
         }
        },
        "xaxis": {
         "constrain": "domain",
         "range": [
          -0.5,
          14.5
         ],
         "scaleanchor": "y",
         "scaleratio": 1
        },
        "yaxis": {
         "constrain": "domain",
         "range": [
          4.5,
          -0.5
         ]
        }
       }
      }
     },
     "metadata": {},
     "output_type": "display_data"
    }
   ],
   "source": [
    "plot.update_inputs(colorscale=\"temps\")"
   ]
  },
  {
   "cell_type": "markdown",
   "metadata": {},
   "source": [
    "Note how the `temps` colorscale makes it more clear that there are elements of the matrix that are not set (because the matrix is sparse). Those elements are not displayed.\n",
    "\n",
    "The range of colors **by default is set from min to max**. **Unless there are negative and positive values**. In that case, the colorscale is just **centered at 0** by default.\n",
    "\n",
    "However, you can set the `crange` and `cmid` to customize the colorscale as you wish. For example, to center the scale at `0.5`:"
   ]
  },
  {
   "cell_type": "code",
   "execution_count": 5,
   "metadata": {
    "execution": {
     "iopub.execute_input": "2025-08-14T08:06:01.382533Z",
     "iopub.status.busy": "2025-08-14T08:06:01.382364Z",
     "iopub.status.idle": "2025-08-14T08:06:01.455374Z",
     "shell.execute_reply": "2025-08-14T08:06:01.454889Z"
    }
   },
   "outputs": [
    {
     "name": "stderr",
     "output_type": "stream",
     "text": [
      "INFO\tTask(Task-2) nodify.node.140656810367008:node.py:get()- No need to evaluate\n"
     ]
    },
    {
     "name": "stderr",
     "output_type": "stream",
     "text": [
      "INFO\tTask(Task-2) nodify.node.140656814357152:node.py:get()- No need to evaluate\n"
     ]
    },
    {
     "name": "stderr",
     "output_type": "stream",
     "text": [
      "INFO\tTask(Task-2) nodify.node.140656810362016:node.py:get()- No need to evaluate\n"
     ]
    },
    {
     "name": "stderr",
     "output_type": "stream",
     "text": [
      "INFO\tTask(Task-2) nodify.node.140656810362112:node.py:get()- No need to evaluate\n"
     ]
    },
    {
     "name": "stderr",
     "output_type": "stream",
     "text": [
      "INFO\tTask(Task-2) nodify.node.140656810361248:node.py:get()- No need to evaluate\n"
     ]
    },
    {
     "name": "stderr",
     "output_type": "stream",
     "text": [
      "INFO\tTask(Task-2) nodify.node.140656810368784:node.py:get()- No need to evaluate\n"
     ]
    },
    {
     "name": "stderr",
     "output_type": "stream",
     "text": [
      "INFO\tTask(Task-2) nodify.node.140656810363936:node.py:get()- No need to evaluate\n"
     ]
    },
    {
     "name": "stderr",
     "output_type": "stream",
     "text": [
      "INFO\tTask(Task-2) nodify.node.140656810364320:node.py:get()- No need to evaluate\n"
     ]
    },
    {
     "name": "stderr",
     "output_type": "stream",
     "text": [
      "INFO\tTask(Task-2) nodify.node.140656814357152:node.py:get()- No need to evaluate\n"
     ]
    },
    {
     "name": "stderr",
     "output_type": "stream",
     "text": [
      "INFO\tTask(Task-2) nodify.node.140656810364704:node.py:get()- Evaluated because inputs changed.\n"
     ]
    },
    {
     "name": "stderr",
     "output_type": "stream",
     "text": [
      "INFO\tTask(Task-2) nodify.node.140656810364320:node.py:get()- No need to evaluate\n"
     ]
    },
    {
     "name": "stderr",
     "output_type": "stream",
     "text": [
      "INFO\tTask(Task-2) nodify.node.140656810370032:node.py:get()- Evaluated because inputs changed.\n"
     ]
    },
    {
     "name": "stderr",
     "output_type": "stream",
     "text": [
      "INFO\tTask(Task-2) nodify.node.140656810363552:node.py:get()- No need to evaluate\n"
     ]
    },
    {
     "name": "stderr",
     "output_type": "stream",
     "text": [
      "INFO\tTask(Task-2) nodify.node.140656810365088:node.py:get()- No need to evaluate\n"
     ]
    },
    {
     "name": "stderr",
     "output_type": "stream",
     "text": [
      "INFO\tTask(Task-2) nodify.node.140656810365472:node.py:get()- No need to evaluate\n"
     ]
    },
    {
     "name": "stderr",
     "output_type": "stream",
     "text": [
      "INFO\tTask(Task-2) nodify.node.140656810369936:node.py:get()- Evaluated because inputs changed.\n"
     ]
    },
    {
     "name": "stderr",
     "output_type": "stream",
     "text": [
      "INFO\tTask(Task-2) nodify.node.140656814357152:node.py:get()- No need to evaluate\n"
     ]
    },
    {
     "name": "stderr",
     "output_type": "stream",
     "text": [
      "INFO\tTask(Task-2) nodify.node.140656810362016:node.py:get()- No need to evaluate\n"
     ]
    },
    {
     "name": "stderr",
     "output_type": "stream",
     "text": [
      "INFO\tTask(Task-2) nodify.node.140656810362112:node.py:get()- No need to evaluate\n"
     ]
    },
    {
     "name": "stderr",
     "output_type": "stream",
     "text": [
      "INFO\tTask(Task-2) nodify.node.140656810361248:node.py:get()- No need to evaluate\n"
     ]
    },
    {
     "name": "stderr",
     "output_type": "stream",
     "text": [
      "INFO\tTask(Task-2) nodify.node.140656810368784:node.py:get()- No need to evaluate\n"
     ]
    },
    {
     "name": "stderr",
     "output_type": "stream",
     "text": [
      "INFO\tTask(Task-2) nodify.node.140656810366624:node.py:get()- No need to evaluate\n"
     ]
    },
    {
     "name": "stderr",
     "output_type": "stream",
     "text": [
      "INFO\tTask(Task-2) nodify.node.140656810370704:node.py:get()- No need to evaluate\n"
     ]
    },
    {
     "name": "stderr",
     "output_type": "stream",
     "text": [
      "INFO\tTask(Task-2) nodify.node.140656810370080:node.py:get()- No need to evaluate\n"
     ]
    },
    {
     "name": "stderr",
     "output_type": "stream",
     "text": [
      "INFO\tTask(Task-2) nodify.node.140656810361392:node.py:get()- No need to evaluate\n"
     ]
    },
    {
     "name": "stderr",
     "output_type": "stream",
     "text": [
      "INFO\tTask(Task-2) nodify.node.140656814357152:node.py:get()- No need to evaluate\n"
     ]
    },
    {
     "name": "stderr",
     "output_type": "stream",
     "text": [
      "INFO\tTask(Task-2) nodify.node.140656810361536:node.py:get()- No need to evaluate\n"
     ]
    },
    {
     "name": "stderr",
     "output_type": "stream",
     "text": [
      "INFO\tTask(Task-2) nodify.node.140656810368304:node.py:get()- No need to evaluate\n"
     ]
    },
    {
     "name": "stderr",
     "output_type": "stream",
     "text": [
      "INFO\tTask(Task-2) nodify.node.140656814357152:node.py:get()- No need to evaluate\n"
     ]
    },
    {
     "name": "stderr",
     "output_type": "stream",
     "text": [
      "INFO\tTask(Task-2) nodify.node.140656810368880:node.py:get()- No need to evaluate\n"
     ]
    },
    {
     "name": "stderr",
     "output_type": "stream",
     "text": [
      "INFO\tTask(Task-2) nodify.node.140656810370752:node.py:get()- No need to evaluate\n"
     ]
    },
    {
     "name": "stderr",
     "output_type": "stream",
     "text": [
      "INFO\tTask(Task-2) nodify.node.140656810362592:node.py:get()- No need to evaluate\n"
     ]
    },
    {
     "name": "stderr",
     "output_type": "stream",
     "text": [
      "INFO\tTask(Task-2) nodify.node.140656814357152:node.py:get()- No need to evaluate\n"
     ]
    },
    {
     "name": "stderr",
     "output_type": "stream",
     "text": [
      "INFO\tTask(Task-2) nodify.node.140656810361536:node.py:get()- No need to evaluate\n"
     ]
    },
    {
     "name": "stderr",
     "output_type": "stream",
     "text": [
      "INFO\tTask(Task-2) nodify.node.140656810368304:node.py:get()- No need to evaluate\n"
     ]
    },
    {
     "name": "stderr",
     "output_type": "stream",
     "text": [
      "INFO\tTask(Task-2) nodify.node.140656814357152:node.py:get()- No need to evaluate\n"
     ]
    },
    {
     "name": "stderr",
     "output_type": "stream",
     "text": [
      "INFO\tTask(Task-2) nodify.node.140656810368880:node.py:get()- No need to evaluate\n"
     ]
    },
    {
     "name": "stderr",
     "output_type": "stream",
     "text": [
      "INFO\tTask(Task-2) nodify.node.140656810371424:node.py:get()- No need to evaluate\n"
     ]
    },
    {
     "name": "stderr",
     "output_type": "stream",
     "text": [
      "INFO\tTask(Task-2) nodify.node.140656810363120:node.py:get()- No need to evaluate\n"
     ]
    },
    {
     "name": "stderr",
     "output_type": "stream",
     "text": [
      "INFO\tTask(Task-2) nodify.node.140656814357152:node.py:get()- No need to evaluate\n"
     ]
    },
    {
     "name": "stderr",
     "output_type": "stream",
     "text": [
      "INFO\tTask(Task-2) nodify.node.140656810361536:node.py:get()- No need to evaluate\n"
     ]
    },
    {
     "name": "stderr",
     "output_type": "stream",
     "text": [
      "INFO\tTask(Task-2) nodify.node.140656810368304:node.py:get()- No need to evaluate\n"
     ]
    },
    {
     "name": "stderr",
     "output_type": "stream",
     "text": [
      "INFO\tTask(Task-2) nodify.node.140656814357152:node.py:get()- No need to evaluate\n"
     ]
    },
    {
     "name": "stderr",
     "output_type": "stream",
     "text": [
      "INFO\tTask(Task-2) nodify.node.140656810368880:node.py:get()- No need to evaluate\n"
     ]
    },
    {
     "name": "stderr",
     "output_type": "stream",
     "text": [
      "INFO\tTask(Task-2) nodify.node.140656810371760:node.py:get()- No need to evaluate\n"
     ]
    },
    {
     "name": "stderr",
     "output_type": "stream",
     "text": [
      "INFO\tTask(Task-2) nodify.node.140656814357152:node.py:get()- No need to evaluate\n"
     ]
    },
    {
     "name": "stderr",
     "output_type": "stream",
     "text": [
      "INFO\tTask(Task-2) nodify.node.140656810362016:node.py:get()- No need to evaluate\n"
     ]
    },
    {
     "name": "stderr",
     "output_type": "stream",
     "text": [
      "INFO\tTask(Task-2) nodify.node.140656810362112:node.py:get()- No need to evaluate\n"
     ]
    },
    {
     "name": "stderr",
     "output_type": "stream",
     "text": [
      "INFO\tTask(Task-2) nodify.node.140656810361248:node.py:get()- No need to evaluate\n"
     ]
    },
    {
     "name": "stderr",
     "output_type": "stream",
     "text": [
      "INFO\tTask(Task-2) nodify.node.140656810368784:node.py:get()- No need to evaluate\n"
     ]
    },
    {
     "name": "stderr",
     "output_type": "stream",
     "text": [
      "INFO\tTask(Task-2) nodify.node.140656814357152:node.py:get()- No need to evaluate\n"
     ]
    },
    {
     "name": "stderr",
     "output_type": "stream",
     "text": [
      "INFO\tTask(Task-2) nodify.node.140656810361536:node.py:get()- No need to evaluate\n"
     ]
    },
    {
     "name": "stderr",
     "output_type": "stream",
     "text": [
      "INFO\tTask(Task-2) nodify.node.140656810368304:node.py:get()- No need to evaluate\n"
     ]
    },
    {
     "name": "stderr",
     "output_type": "stream",
     "text": [
      "INFO\tTask(Task-2) nodify.node.140656814357152:node.py:get()- No need to evaluate\n"
     ]
    },
    {
     "name": "stderr",
     "output_type": "stream",
     "text": [
      "INFO\tTask(Task-2) nodify.node.140656810368880:node.py:get()- No need to evaluate\n"
     ]
    },
    {
     "name": "stderr",
     "output_type": "stream",
     "text": [
      "INFO\tTask(Task-2) nodify.node.140656810366240:node.py:get()- No need to evaluate\n"
     ]
    },
    {
     "name": "stderr",
     "output_type": "stream",
     "text": [
      "INFO\tTask(Task-2) nodify.node.140656810365856:node.py:get()- No need to evaluate\n"
     ]
    },
    {
     "name": "stderr",
     "output_type": "stream",
     "text": [
      "INFO\tTask(Task-2) nodify.node.140656810368592:node.py:get()- No need to evaluate\n"
     ]
    },
    {
     "name": "stderr",
     "output_type": "stream",
     "text": [
      "INFO\tTask(Task-2) nodify.node.140656810369024:node.py:get()- Evaluated because inputs changed.\n"
     ]
    },
    {
     "name": "stderr",
     "output_type": "stream",
     "text": [
      "INFO\tTask(Task-2) nodify.node.140656810372240:node.py:get()- Evaluated because inputs changed.\n"
     ]
    },
    {
     "name": "stderr",
     "output_type": "stream",
     "text": [
      "INFO\tTask(Task-2) nodify.node.140656810372720:node.py:get()- Evaluated because inputs changed.\n"
     ]
    },
    {
     "data": {
      "application/vnd.plotly.v1+json": {
       "config": {
        "plotlyServerURL": "https://plot.ly"
       },
       "data": [
        {
         "coloraxis": "coloraxis",
         "meta": {},
         "opacity": 1,
         "type": "heatmap",
         "z": {
          "bdata": "hPjVt1v77z8d8lZMHyDkP9jICR3gdd8/0Cq88WAXwj8idcFelZnYPwAAAAAAAPh/AAAAAAAA+H8AAAAAAAD4fwAAAAAAAPh/7Td+MSRJpb8AAAAAAAD4fwAAAAAAAPh/AAAAAAAA+H8AAAAAAAD4fwAAAAAAAPh/HfJWTB8g5D96CSwuUDLuP8B7GcphXLS/7h30oo0E1b+glpMPy1jEvwAAAAAAAPh/AAAAAAAA+H8AAAAAAAD4fwAAAAAAAPh/GuNOeUPKir8AAAAAAAD4fwAAAAAAAPh/AAAAAAAA+H8AAAAAAAD4fwAAAAAAAPh/2MgJHeB13z/AexnKYVy0v1IiYxT1du8/cG5BjDIJpz8U8ISPJLzFvwAAAAAAAPh/AAAAAAAA+H8AAAAAAAD4fwAAAAAAAPh/CD0Jo6ngwD8AAAAAAAD4fwAAAAAAAPh/AAAAAAAA+H8AAAAAAAD4fwAAAAAAAPh/0Cq88WAXwj/uHfSijQTVv3BuQYwyCac/AI5GA+6Pf79l27r0GQTrPwAAAAAAAPh/AAAAAAAA+H8AAAAAAAD4fwAAAAAAAPh/c/1TXF0rrb8AAAAAAAD4fwAAAAAAAPh/AAAAAAAA+H8AAAAAAAD4fwAAAAAAAPh/InXBXpWZ2D+glpMPy1jEvxTwhI8kvMW/Zdu69BkE6z8kNemXVF/evwAAAAAAAPh/AAAAAAAA+H8AAAAAAAD4fwAAAAAAAPh/AAAAAAAA+H/tN34xJEmlvxrjTnlDyoq/CD0Jo6ngwD9z/VNcXSutvwAAAAAAAPh/",
          "dtype": "f8",
          "shape": "5, 15"
         },
         "zsmooth": false
        }
       ],
       "layout": {
        "coloraxis": {
         "cmid": 0.5,
         "colorscale": [
          [
           0.0,
           "rgb(0, 147, 146)"
          ],
          [
           0.16666666666666666,
           "rgb(57, 177, 133)"
          ],
          [
           0.3333333333333333,
           "rgb(156, 203, 134)"
          ],
          [
           0.5,
           "rgb(233, 226, 156)"
          ],
          [
           0.6666666666666666,
           "rgb(238, 180, 121)"
          ],
          [
           0.8333333333333334,
           "rgb(232, 132, 113)"
          ],
          [
           1.0,
           "rgb(207, 89, 126)"
          ]
         ],
         "showscale": true
        },
        "scene": {
         "aspectmode": "data",
         "xaxis": {
          "range": [
           -0.5,
           14.5
          ]
         },
         "yaxis": {
          "range": [
           4.5,
           -0.5
          ]
         }
        },
        "template": {
         "layout": {
          "hovermode": "closest",
          "paper_bgcolor": "white",
          "plot_bgcolor": "white",
          "scene": {
           "xaxis": {
            "color": "black",
            "gridcolor": "#ccc",
            "gridwidth": 1,
            "linewidth": 1,
            "mirror": true,
            "showgrid": false,
            "showline": true,
            "ticklen": 5,
            "ticks": "outside",
            "ticksuffix": " ",
            "visible": true,
            "zeroline": false,
            "zerolinecolor": "#ccc",
            "zerolinewidth": 1
           },
           "yaxis": {
            "color": "black",
            "gridcolor": "#ccc",
            "gridwidth": 1,
            "linewidth": 1,
            "mirror": true,
            "showgrid": false,
            "showline": true,
            "ticklen": 5,
            "ticks": "outside",
            "ticksuffix": " ",
            "visible": true,
            "zeroline": false,
            "zerolinecolor": "#ccc",
            "zerolinewidth": 1
           },
           "zaxis": {
            "color": "black",
            "gridcolor": "#ccc",
            "gridwidth": 1,
            "linewidth": 1,
            "mirror": true,
            "showgrid": false,
            "showline": true,
            "ticklen": 5,
            "ticks": "outside",
            "ticksuffix": " ",
            "visible": true,
            "zeroline": false,
            "zerolinecolor": "#ccc",
            "zerolinewidth": 1
           }
          },
          "xaxis": {
           "color": "black",
           "gridcolor": "#ccc",
           "gridwidth": 1,
           "linewidth": 1,
           "mirror": true,
           "showgrid": false,
           "showline": true,
           "ticklen": 5,
           "ticks": "outside",
           "ticksuffix": " ",
           "visible": true,
           "zeroline": false,
           "zerolinecolor": "#ccc",
           "zerolinewidth": 1
          },
          "yaxis": {
           "color": "black",
           "gridcolor": "#ccc",
           "gridwidth": 1,
           "linewidth": 1,
           "mirror": true,
           "showgrid": false,
           "showline": true,
           "ticklen": 5,
           "ticks": "outside",
           "ticksuffix": " ",
           "visible": true,
           "zeroline": false,
           "zerolinecolor": "#ccc",
           "zerolinewidth": 1
          }
         }
        },
        "xaxis": {
         "constrain": "domain",
         "range": [
          -0.5,
          14.5
         ],
         "scaleanchor": "y",
         "scaleratio": 1
        },
        "yaxis": {
         "constrain": "domain",
         "range": [
          4.5,
          -0.5
         ]
        }
       }
      }
     },
     "metadata": {},
     "output_type": "display_data"
    }
   ],
   "source": [
    "plot.update_inputs(cmid=0.5)"
   ]
  },
  {
   "cell_type": "markdown",
   "metadata": {},
   "source": [
    "And to set the range of the scale from `-4` to `1`:"
   ]
  },
  {
   "cell_type": "code",
   "execution_count": 6,
   "metadata": {
    "execution": {
     "iopub.execute_input": "2025-08-14T08:06:01.457175Z",
     "iopub.status.busy": "2025-08-14T08:06:01.457003Z",
     "iopub.status.idle": "2025-08-14T08:06:01.536020Z",
     "shell.execute_reply": "2025-08-14T08:06:01.535411Z"
    }
   },
   "outputs": [
    {
     "name": "stderr",
     "output_type": "stream",
     "text": [
      "INFO\tTask(Task-2) nodify.node.140656810367008:node.py:get()- No need to evaluate\n"
     ]
    },
    {
     "name": "stderr",
     "output_type": "stream",
     "text": [
      "INFO\tTask(Task-2) nodify.node.140656814357152:node.py:get()- No need to evaluate\n"
     ]
    },
    {
     "name": "stderr",
     "output_type": "stream",
     "text": [
      "INFO\tTask(Task-2) nodify.node.140656810362016:node.py:get()- No need to evaluate\n"
     ]
    },
    {
     "name": "stderr",
     "output_type": "stream",
     "text": [
      "INFO\tTask(Task-2) nodify.node.140656810362112:node.py:get()- No need to evaluate\n"
     ]
    },
    {
     "name": "stderr",
     "output_type": "stream",
     "text": [
      "INFO\tTask(Task-2) nodify.node.140656810361248:node.py:get()- No need to evaluate\n"
     ]
    },
    {
     "name": "stderr",
     "output_type": "stream",
     "text": [
      "INFO\tTask(Task-2) nodify.node.140656810368784:node.py:get()- No need to evaluate\n"
     ]
    },
    {
     "name": "stderr",
     "output_type": "stream",
     "text": [
      "INFO\tTask(Task-2) nodify.node.140656810363936:node.py:get()- No need to evaluate\n"
     ]
    },
    {
     "name": "stderr",
     "output_type": "stream",
     "text": [
      "INFO\tTask(Task-2) nodify.node.140656810364320:node.py:get()- Evaluated because inputs changed.\n"
     ]
    },
    {
     "name": "stderr",
     "output_type": "stream",
     "text": [
      "INFO\tTask(Task-2) nodify.node.140656814357152:node.py:get()- No need to evaluate\n"
     ]
    },
    {
     "name": "stderr",
     "output_type": "stream",
     "text": [
      "INFO\tTask(Task-2) nodify.node.140656810364704:node.py:get()- No need to evaluate\n"
     ]
    },
    {
     "name": "stderr",
     "output_type": "stream",
     "text": [
      "INFO\tTask(Task-2) nodify.node.140656810364320:node.py:get()- No need to evaluate\n"
     ]
    },
    {
     "name": "stderr",
     "output_type": "stream",
     "text": [
      "INFO\tTask(Task-2) nodify.node.140656810370032:node.py:get()- Evaluated because inputs changed.\n"
     ]
    },
    {
     "name": "stderr",
     "output_type": "stream",
     "text": [
      "INFO\tTask(Task-2) nodify.node.140656810363552:node.py:get()- No need to evaluate\n"
     ]
    },
    {
     "name": "stderr",
     "output_type": "stream",
     "text": [
      "INFO\tTask(Task-2) nodify.node.140656810365088:node.py:get()- No need to evaluate\n"
     ]
    },
    {
     "name": "stderr",
     "output_type": "stream",
     "text": [
      "INFO\tTask(Task-2) nodify.node.140656810365472:node.py:get()- No need to evaluate\n"
     ]
    },
    {
     "name": "stderr",
     "output_type": "stream",
     "text": [
      "INFO\tTask(Task-2) nodify.node.140656810369936:node.py:get()- Evaluated because inputs changed.\n"
     ]
    },
    {
     "name": "stderr",
     "output_type": "stream",
     "text": [
      "INFO\tTask(Task-2) nodify.node.140656814357152:node.py:get()- No need to evaluate\n"
     ]
    },
    {
     "name": "stderr",
     "output_type": "stream",
     "text": [
      "INFO\tTask(Task-2) nodify.node.140656810362016:node.py:get()- No need to evaluate\n"
     ]
    },
    {
     "name": "stderr",
     "output_type": "stream",
     "text": [
      "INFO\tTask(Task-2) nodify.node.140656810362112:node.py:get()- No need to evaluate\n"
     ]
    },
    {
     "name": "stderr",
     "output_type": "stream",
     "text": [
      "INFO\tTask(Task-2) nodify.node.140656810361248:node.py:get()- No need to evaluate\n"
     ]
    },
    {
     "name": "stderr",
     "output_type": "stream",
     "text": [
      "INFO\tTask(Task-2) nodify.node.140656810368784:node.py:get()- No need to evaluate\n"
     ]
    },
    {
     "name": "stderr",
     "output_type": "stream",
     "text": [
      "INFO\tTask(Task-2) nodify.node.140656810366624:node.py:get()- No need to evaluate\n"
     ]
    },
    {
     "name": "stderr",
     "output_type": "stream",
     "text": [
      "INFO\tTask(Task-2) nodify.node.140656810370704:node.py:get()- No need to evaluate\n"
     ]
    },
    {
     "name": "stderr",
     "output_type": "stream",
     "text": [
      "INFO\tTask(Task-2) nodify.node.140656810370080:node.py:get()- No need to evaluate\n"
     ]
    },
    {
     "name": "stderr",
     "output_type": "stream",
     "text": [
      "INFO\tTask(Task-2) nodify.node.140656810361392:node.py:get()- No need to evaluate\n"
     ]
    },
    {
     "name": "stderr",
     "output_type": "stream",
     "text": [
      "INFO\tTask(Task-2) nodify.node.140656814357152:node.py:get()- No need to evaluate\n"
     ]
    },
    {
     "name": "stderr",
     "output_type": "stream",
     "text": [
      "INFO\tTask(Task-2) nodify.node.140656810361536:node.py:get()- No need to evaluate\n"
     ]
    },
    {
     "name": "stderr",
     "output_type": "stream",
     "text": [
      "INFO\tTask(Task-2) nodify.node.140656810368304:node.py:get()- No need to evaluate\n"
     ]
    },
    {
     "name": "stderr",
     "output_type": "stream",
     "text": [
      "INFO\tTask(Task-2) nodify.node.140656814357152:node.py:get()- No need to evaluate\n"
     ]
    },
    {
     "name": "stderr",
     "output_type": "stream",
     "text": [
      "INFO\tTask(Task-2) nodify.node.140656810368880:node.py:get()- No need to evaluate\n"
     ]
    },
    {
     "name": "stderr",
     "output_type": "stream",
     "text": [
      "INFO\tTask(Task-2) nodify.node.140656810370752:node.py:get()- No need to evaluate\n"
     ]
    },
    {
     "name": "stderr",
     "output_type": "stream",
     "text": [
      "INFO\tTask(Task-2) nodify.node.140656810362592:node.py:get()- No need to evaluate\n"
     ]
    },
    {
     "name": "stderr",
     "output_type": "stream",
     "text": [
      "INFO\tTask(Task-2) nodify.node.140656814357152:node.py:get()- No need to evaluate\n"
     ]
    },
    {
     "name": "stderr",
     "output_type": "stream",
     "text": [
      "INFO\tTask(Task-2) nodify.node.140656810361536:node.py:get()- No need to evaluate\n"
     ]
    },
    {
     "name": "stderr",
     "output_type": "stream",
     "text": [
      "INFO\tTask(Task-2) nodify.node.140656810368304:node.py:get()- No need to evaluate\n"
     ]
    },
    {
     "name": "stderr",
     "output_type": "stream",
     "text": [
      "INFO\tTask(Task-2) nodify.node.140656814357152:node.py:get()- No need to evaluate\n"
     ]
    },
    {
     "name": "stderr",
     "output_type": "stream",
     "text": [
      "INFO\tTask(Task-2) nodify.node.140656810368880:node.py:get()- No need to evaluate\n"
     ]
    },
    {
     "name": "stderr",
     "output_type": "stream",
     "text": [
      "INFO\tTask(Task-2) nodify.node.140656810371424:node.py:get()- No need to evaluate\n"
     ]
    },
    {
     "name": "stderr",
     "output_type": "stream",
     "text": [
      "INFO\tTask(Task-2) nodify.node.140656810363120:node.py:get()- No need to evaluate\n"
     ]
    },
    {
     "name": "stderr",
     "output_type": "stream",
     "text": [
      "INFO\tTask(Task-2) nodify.node.140656814357152:node.py:get()- No need to evaluate\n"
     ]
    },
    {
     "name": "stderr",
     "output_type": "stream",
     "text": [
      "INFO\tTask(Task-2) nodify.node.140656810361536:node.py:get()- No need to evaluate\n"
     ]
    },
    {
     "name": "stderr",
     "output_type": "stream",
     "text": [
      "INFO\tTask(Task-2) nodify.node.140656810368304:node.py:get()- No need to evaluate\n"
     ]
    },
    {
     "name": "stderr",
     "output_type": "stream",
     "text": [
      "INFO\tTask(Task-2) nodify.node.140656814357152:node.py:get()- No need to evaluate\n"
     ]
    },
    {
     "name": "stderr",
     "output_type": "stream",
     "text": [
      "INFO\tTask(Task-2) nodify.node.140656810368880:node.py:get()- No need to evaluate\n"
     ]
    },
    {
     "name": "stderr",
     "output_type": "stream",
     "text": [
      "INFO\tTask(Task-2) nodify.node.140656810371760:node.py:get()- No need to evaluate\n"
     ]
    },
    {
     "name": "stderr",
     "output_type": "stream",
     "text": [
      "INFO\tTask(Task-2) nodify.node.140656814357152:node.py:get()- No need to evaluate\n"
     ]
    },
    {
     "name": "stderr",
     "output_type": "stream",
     "text": [
      "INFO\tTask(Task-2) nodify.node.140656810362016:node.py:get()- No need to evaluate\n"
     ]
    },
    {
     "name": "stderr",
     "output_type": "stream",
     "text": [
      "INFO\tTask(Task-2) nodify.node.140656810362112:node.py:get()- No need to evaluate\n"
     ]
    },
    {
     "name": "stderr",
     "output_type": "stream",
     "text": [
      "INFO\tTask(Task-2) nodify.node.140656810361248:node.py:get()- No need to evaluate\n"
     ]
    },
    {
     "name": "stderr",
     "output_type": "stream",
     "text": [
      "INFO\tTask(Task-2) nodify.node.140656810368784:node.py:get()- No need to evaluate\n"
     ]
    },
    {
     "name": "stderr",
     "output_type": "stream",
     "text": [
      "INFO\tTask(Task-2) nodify.node.140656814357152:node.py:get()- No need to evaluate\n"
     ]
    },
    {
     "name": "stderr",
     "output_type": "stream",
     "text": [
      "INFO\tTask(Task-2) nodify.node.140656810361536:node.py:get()- No need to evaluate\n"
     ]
    },
    {
     "name": "stderr",
     "output_type": "stream",
     "text": [
      "INFO\tTask(Task-2) nodify.node.140656810368304:node.py:get()- No need to evaluate\n"
     ]
    },
    {
     "name": "stderr",
     "output_type": "stream",
     "text": [
      "INFO\tTask(Task-2) nodify.node.140656814357152:node.py:get()- No need to evaluate\n"
     ]
    },
    {
     "name": "stderr",
     "output_type": "stream",
     "text": [
      "INFO\tTask(Task-2) nodify.node.140656810368880:node.py:get()- No need to evaluate\n"
     ]
    },
    {
     "name": "stderr",
     "output_type": "stream",
     "text": [
      "INFO\tTask(Task-2) nodify.node.140656810366240:node.py:get()- No need to evaluate\n"
     ]
    },
    {
     "name": "stderr",
     "output_type": "stream",
     "text": [
      "INFO\tTask(Task-2) nodify.node.140656810365856:node.py:get()- No need to evaluate\n"
     ]
    },
    {
     "name": "stderr",
     "output_type": "stream",
     "text": [
      "INFO\tTask(Task-2) nodify.node.140656810368592:node.py:get()- No need to evaluate\n"
     ]
    },
    {
     "name": "stderr",
     "output_type": "stream",
     "text": [
      "INFO\tTask(Task-2) nodify.node.140656810369024:node.py:get()- Evaluated because inputs changed.\n"
     ]
    },
    {
     "name": "stderr",
     "output_type": "stream",
     "text": [
      "INFO\tTask(Task-2) nodify.node.140656810372240:node.py:get()- Evaluated because inputs changed.\n"
     ]
    },
    {
     "name": "stderr",
     "output_type": "stream",
     "text": [
      "INFO\tTask(Task-2) nodify.node.140656810372720:node.py:get()- Evaluated because inputs changed.\n"
     ]
    },
    {
     "data": {
      "application/vnd.plotly.v1+json": {
       "config": {
        "plotlyServerURL": "https://plot.ly"
       },
       "data": [
        {
         "coloraxis": "coloraxis",
         "meta": {},
         "opacity": 1,
         "type": "heatmap",
         "z": {
          "bdata": "hPjVt1v77z8d8lZMHyDkP9jICR3gdd8/0Cq88WAXwj8idcFelZnYPwAAAAAAAPh/AAAAAAAA+H8AAAAAAAD4fwAAAAAAAPh/7Td+MSRJpb8AAAAAAAD4fwAAAAAAAPh/AAAAAAAA+H8AAAAAAAD4fwAAAAAAAPh/HfJWTB8g5D96CSwuUDLuP8B7GcphXLS/7h30oo0E1b+glpMPy1jEvwAAAAAAAPh/AAAAAAAA+H8AAAAAAAD4fwAAAAAAAPh/GuNOeUPKir8AAAAAAAD4fwAAAAAAAPh/AAAAAAAA+H8AAAAAAAD4fwAAAAAAAPh/2MgJHeB13z/AexnKYVy0v1IiYxT1du8/cG5BjDIJpz8U8ISPJLzFvwAAAAAAAPh/AAAAAAAA+H8AAAAAAAD4fwAAAAAAAPh/CD0Jo6ngwD8AAAAAAAD4fwAAAAAAAPh/AAAAAAAA+H8AAAAAAAD4fwAAAAAAAPh/0Cq88WAXwj/uHfSijQTVv3BuQYwyCac/AI5GA+6Pf79l27r0GQTrPwAAAAAAAPh/AAAAAAAA+H8AAAAAAAD4fwAAAAAAAPh/c/1TXF0rrb8AAAAAAAD4fwAAAAAAAPh/AAAAAAAA+H8AAAAAAAD4fwAAAAAAAPh/InXBXpWZ2D+glpMPy1jEvxTwhI8kvMW/Zdu69BkE6z8kNemXVF/evwAAAAAAAPh/AAAAAAAA+H8AAAAAAAD4fwAAAAAAAPh/AAAAAAAA+H/tN34xJEmlvxrjTnlDyoq/CD0Jo6ngwD9z/VNcXSutvwAAAAAAAPh/",
          "dtype": "f8",
          "shape": "5, 15"
         },
         "zsmooth": false
        }
       ],
       "layout": {
        "coloraxis": {
         "cmax": 1,
         "cmid": 0.5,
         "cmin": -4,
         "colorscale": [
          [
           0.0,
           "rgb(0, 147, 146)"
          ],
          [
           0.16666666666666666,
           "rgb(57, 177, 133)"
          ],
          [
           0.3333333333333333,
           "rgb(156, 203, 134)"
          ],
          [
           0.5,
           "rgb(233, 226, 156)"
          ],
          [
           0.6666666666666666,
           "rgb(238, 180, 121)"
          ],
          [
           0.8333333333333334,
           "rgb(232, 132, 113)"
          ],
          [
           1.0,
           "rgb(207, 89, 126)"
          ]
         ],
         "showscale": true
        },
        "scene": {
         "aspectmode": "data",
         "xaxis": {
          "range": [
           -0.5,
           14.5
          ]
         },
         "yaxis": {
          "range": [
           4.5,
           -0.5
          ]
         }
        },
        "template": {
         "layout": {
          "hovermode": "closest",
          "paper_bgcolor": "white",
          "plot_bgcolor": "white",
          "scene": {
           "xaxis": {
            "color": "black",
            "gridcolor": "#ccc",
            "gridwidth": 1,
            "linewidth": 1,
            "mirror": true,
            "showgrid": false,
            "showline": true,
            "ticklen": 5,
            "ticks": "outside",
            "ticksuffix": " ",
            "visible": true,
            "zeroline": false,
            "zerolinecolor": "#ccc",
            "zerolinewidth": 1
           },
           "yaxis": {
            "color": "black",
            "gridcolor": "#ccc",
            "gridwidth": 1,
            "linewidth": 1,
            "mirror": true,
            "showgrid": false,
            "showline": true,
            "ticklen": 5,
            "ticks": "outside",
            "ticksuffix": " ",
            "visible": true,
            "zeroline": false,
            "zerolinecolor": "#ccc",
            "zerolinewidth": 1
           },
           "zaxis": {
            "color": "black",
            "gridcolor": "#ccc",
            "gridwidth": 1,
            "linewidth": 1,
            "mirror": true,
            "showgrid": false,
            "showline": true,
            "ticklen": 5,
            "ticks": "outside",
            "ticksuffix": " ",
            "visible": true,
            "zeroline": false,
            "zerolinecolor": "#ccc",
            "zerolinewidth": 1
           }
          },
          "xaxis": {
           "color": "black",
           "gridcolor": "#ccc",
           "gridwidth": 1,
           "linewidth": 1,
           "mirror": true,
           "showgrid": false,
           "showline": true,
           "ticklen": 5,
           "ticks": "outside",
           "ticksuffix": " ",
           "visible": true,
           "zeroline": false,
           "zerolinecolor": "#ccc",
           "zerolinewidth": 1
          },
          "yaxis": {
           "color": "black",
           "gridcolor": "#ccc",
           "gridwidth": 1,
           "linewidth": 1,
           "mirror": true,
           "showgrid": false,
           "showline": true,
           "ticklen": 5,
           "ticks": "outside",
           "ticksuffix": " ",
           "visible": true,
           "zeroline": false,
           "zerolinecolor": "#ccc",
           "zerolinewidth": 1
          }
         }
        },
        "xaxis": {
         "constrain": "domain",
         "range": [
          -0.5,
          14.5
         ],
         "scaleanchor": "y",
         "scaleratio": 1
        },
        "yaxis": {
         "constrain": "domain",
         "range": [
          4.5,
          -0.5
         ]
        }
       }
      }
     },
     "metadata": {},
     "output_type": "display_data"
    }
   ],
   "source": [
    "plot.update_inputs(crange=(-4, 1))"
   ]
  },
  {
   "cell_type": "markdown",
   "metadata": {},
   "source": [
    "Notice how **`crange` takes precedence over `cmid`**. Now, to go back to the default range, just set both to `None`."
   ]
  },
  {
   "cell_type": "code",
   "execution_count": 7,
   "metadata": {
    "execution": {
     "iopub.execute_input": "2025-08-14T08:06:01.537926Z",
     "iopub.status.busy": "2025-08-14T08:06:01.537739Z",
     "iopub.status.idle": "2025-08-14T08:06:01.619159Z",
     "shell.execute_reply": "2025-08-14T08:06:01.618693Z"
    }
   },
   "outputs": [
    {
     "name": "stderr",
     "output_type": "stream",
     "text": [
      "INFO\tTask(Task-2) nodify.node.140656810367008:node.py:get()- No need to evaluate\n"
     ]
    },
    {
     "name": "stderr",
     "output_type": "stream",
     "text": [
      "INFO\tTask(Task-2) nodify.node.140656814357152:node.py:get()- No need to evaluate\n"
     ]
    },
    {
     "name": "stderr",
     "output_type": "stream",
     "text": [
      "INFO\tTask(Task-2) nodify.node.140656810362016:node.py:get()- No need to evaluate\n"
     ]
    },
    {
     "name": "stderr",
     "output_type": "stream",
     "text": [
      "INFO\tTask(Task-2) nodify.node.140656810362112:node.py:get()- No need to evaluate\n"
     ]
    },
    {
     "name": "stderr",
     "output_type": "stream",
     "text": [
      "INFO\tTask(Task-2) nodify.node.140656810361248:node.py:get()- No need to evaluate\n"
     ]
    },
    {
     "name": "stderr",
     "output_type": "stream",
     "text": [
      "INFO\tTask(Task-2) nodify.node.140656810368784:node.py:get()- No need to evaluate\n"
     ]
    },
    {
     "name": "stderr",
     "output_type": "stream",
     "text": [
      "INFO\tTask(Task-2) nodify.node.140656810363936:node.py:get()- No need to evaluate\n"
     ]
    },
    {
     "name": "stderr",
     "output_type": "stream",
     "text": [
      "INFO\tTask(Task-2) nodify.node.140656810364320:node.py:get()- Evaluated because inputs changed.\n"
     ]
    },
    {
     "name": "stderr",
     "output_type": "stream",
     "text": [
      "INFO\tTask(Task-2) nodify.node.140656814357152:node.py:get()- No need to evaluate\n"
     ]
    },
    {
     "name": "stderr",
     "output_type": "stream",
     "text": [
      "INFO\tTask(Task-2) nodify.node.140656810364704:node.py:get()- Evaluated because inputs changed.\n"
     ]
    },
    {
     "name": "stderr",
     "output_type": "stream",
     "text": [
      "INFO\tTask(Task-2) nodify.node.140656810364320:node.py:get()- No need to evaluate\n"
     ]
    },
    {
     "name": "stderr",
     "output_type": "stream",
     "text": [
      "INFO\tTask(Task-2) nodify.node.140656810370032:node.py:get()- Evaluated because inputs changed.\n"
     ]
    },
    {
     "name": "stderr",
     "output_type": "stream",
     "text": [
      "INFO\tTask(Task-2) nodify.node.140656810363552:node.py:get()- No need to evaluate\n"
     ]
    },
    {
     "name": "stderr",
     "output_type": "stream",
     "text": [
      "INFO\tTask(Task-2) nodify.node.140656810365088:node.py:get()- No need to evaluate\n"
     ]
    },
    {
     "name": "stderr",
     "output_type": "stream",
     "text": [
      "INFO\tTask(Task-2) nodify.node.140656810365472:node.py:get()- No need to evaluate\n"
     ]
    },
    {
     "name": "stderr",
     "output_type": "stream",
     "text": [
      "INFO\tTask(Task-2) nodify.node.140656810369936:node.py:get()- Evaluated because inputs changed.\n"
     ]
    },
    {
     "name": "stderr",
     "output_type": "stream",
     "text": [
      "INFO\tTask(Task-2) nodify.node.140656814357152:node.py:get()- No need to evaluate\n"
     ]
    },
    {
     "name": "stderr",
     "output_type": "stream",
     "text": [
      "INFO\tTask(Task-2) nodify.node.140656810362016:node.py:get()- No need to evaluate\n"
     ]
    },
    {
     "name": "stderr",
     "output_type": "stream",
     "text": [
      "INFO\tTask(Task-2) nodify.node.140656810362112:node.py:get()- No need to evaluate\n"
     ]
    },
    {
     "name": "stderr",
     "output_type": "stream",
     "text": [
      "INFO\tTask(Task-2) nodify.node.140656810361248:node.py:get()- No need to evaluate\n"
     ]
    },
    {
     "name": "stderr",
     "output_type": "stream",
     "text": [
      "INFO\tTask(Task-2) nodify.node.140656810368784:node.py:get()- No need to evaluate\n"
     ]
    },
    {
     "name": "stderr",
     "output_type": "stream",
     "text": [
      "INFO\tTask(Task-2) nodify.node.140656810366624:node.py:get()- No need to evaluate\n"
     ]
    },
    {
     "name": "stderr",
     "output_type": "stream",
     "text": [
      "INFO\tTask(Task-2) nodify.node.140656810370704:node.py:get()- No need to evaluate\n"
     ]
    },
    {
     "name": "stderr",
     "output_type": "stream",
     "text": [
      "INFO\tTask(Task-2) nodify.node.140656810370080:node.py:get()- No need to evaluate\n"
     ]
    },
    {
     "name": "stderr",
     "output_type": "stream",
     "text": [
      "INFO\tTask(Task-2) nodify.node.140656810361392:node.py:get()- No need to evaluate\n"
     ]
    },
    {
     "name": "stderr",
     "output_type": "stream",
     "text": [
      "INFO\tTask(Task-2) nodify.node.140656814357152:node.py:get()- No need to evaluate\n"
     ]
    },
    {
     "name": "stderr",
     "output_type": "stream",
     "text": [
      "INFO\tTask(Task-2) nodify.node.140656810361536:node.py:get()- No need to evaluate\n"
     ]
    },
    {
     "name": "stderr",
     "output_type": "stream",
     "text": [
      "INFO\tTask(Task-2) nodify.node.140656810368304:node.py:get()- No need to evaluate\n"
     ]
    },
    {
     "name": "stderr",
     "output_type": "stream",
     "text": [
      "INFO\tTask(Task-2) nodify.node.140656814357152:node.py:get()- No need to evaluate\n"
     ]
    },
    {
     "name": "stderr",
     "output_type": "stream",
     "text": [
      "INFO\tTask(Task-2) nodify.node.140656810368880:node.py:get()- No need to evaluate\n"
     ]
    },
    {
     "name": "stderr",
     "output_type": "stream",
     "text": [
      "INFO\tTask(Task-2) nodify.node.140656810370752:node.py:get()- No need to evaluate\n"
     ]
    },
    {
     "name": "stderr",
     "output_type": "stream",
     "text": [
      "INFO\tTask(Task-2) nodify.node.140656810362592:node.py:get()- No need to evaluate\n"
     ]
    },
    {
     "name": "stderr",
     "output_type": "stream",
     "text": [
      "INFO\tTask(Task-2) nodify.node.140656814357152:node.py:get()- No need to evaluate\n"
     ]
    },
    {
     "name": "stderr",
     "output_type": "stream",
     "text": [
      "INFO\tTask(Task-2) nodify.node.140656810361536:node.py:get()- No need to evaluate\n"
     ]
    },
    {
     "name": "stderr",
     "output_type": "stream",
     "text": [
      "INFO\tTask(Task-2) nodify.node.140656810368304:node.py:get()- No need to evaluate\n"
     ]
    },
    {
     "name": "stderr",
     "output_type": "stream",
     "text": [
      "INFO\tTask(Task-2) nodify.node.140656814357152:node.py:get()- No need to evaluate\n"
     ]
    },
    {
     "name": "stderr",
     "output_type": "stream",
     "text": [
      "INFO\tTask(Task-2) nodify.node.140656810368880:node.py:get()- No need to evaluate\n"
     ]
    },
    {
     "name": "stderr",
     "output_type": "stream",
     "text": [
      "INFO\tTask(Task-2) nodify.node.140656810371424:node.py:get()- No need to evaluate\n"
     ]
    },
    {
     "name": "stderr",
     "output_type": "stream",
     "text": [
      "INFO\tTask(Task-2) nodify.node.140656810363120:node.py:get()- No need to evaluate\n"
     ]
    },
    {
     "name": "stderr",
     "output_type": "stream",
     "text": [
      "INFO\tTask(Task-2) nodify.node.140656814357152:node.py:get()- No need to evaluate\n"
     ]
    },
    {
     "name": "stderr",
     "output_type": "stream",
     "text": [
      "INFO\tTask(Task-2) nodify.node.140656810361536:node.py:get()- No need to evaluate\n"
     ]
    },
    {
     "name": "stderr",
     "output_type": "stream",
     "text": [
      "INFO\tTask(Task-2) nodify.node.140656810368304:node.py:get()- No need to evaluate\n"
     ]
    },
    {
     "name": "stderr",
     "output_type": "stream",
     "text": [
      "INFO\tTask(Task-2) nodify.node.140656814357152:node.py:get()- No need to evaluate\n"
     ]
    },
    {
     "name": "stderr",
     "output_type": "stream",
     "text": [
      "INFO\tTask(Task-2) nodify.node.140656810368880:node.py:get()- No need to evaluate\n"
     ]
    },
    {
     "name": "stderr",
     "output_type": "stream",
     "text": [
      "INFO\tTask(Task-2) nodify.node.140656810371760:node.py:get()- No need to evaluate\n"
     ]
    },
    {
     "name": "stderr",
     "output_type": "stream",
     "text": [
      "INFO\tTask(Task-2) nodify.node.140656814357152:node.py:get()- No need to evaluate\n"
     ]
    },
    {
     "name": "stderr",
     "output_type": "stream",
     "text": [
      "INFO\tTask(Task-2) nodify.node.140656810362016:node.py:get()- No need to evaluate\n"
     ]
    },
    {
     "name": "stderr",
     "output_type": "stream",
     "text": [
      "INFO\tTask(Task-2) nodify.node.140656810362112:node.py:get()- No need to evaluate\n"
     ]
    },
    {
     "name": "stderr",
     "output_type": "stream",
     "text": [
      "INFO\tTask(Task-2) nodify.node.140656810361248:node.py:get()- No need to evaluate\n"
     ]
    },
    {
     "name": "stderr",
     "output_type": "stream",
     "text": [
      "INFO\tTask(Task-2) nodify.node.140656810368784:node.py:get()- No need to evaluate\n"
     ]
    },
    {
     "name": "stderr",
     "output_type": "stream",
     "text": [
      "INFO\tTask(Task-2) nodify.node.140656814357152:node.py:get()- No need to evaluate\n"
     ]
    },
    {
     "name": "stderr",
     "output_type": "stream",
     "text": [
      "INFO\tTask(Task-2) nodify.node.140656810361536:node.py:get()- No need to evaluate\n"
     ]
    },
    {
     "name": "stderr",
     "output_type": "stream",
     "text": [
      "INFO\tTask(Task-2) nodify.node.140656810368304:node.py:get()- No need to evaluate\n"
     ]
    },
    {
     "name": "stderr",
     "output_type": "stream",
     "text": [
      "INFO\tTask(Task-2) nodify.node.140656814357152:node.py:get()- No need to evaluate\n"
     ]
    },
    {
     "name": "stderr",
     "output_type": "stream",
     "text": [
      "INFO\tTask(Task-2) nodify.node.140656810368880:node.py:get()- No need to evaluate\n"
     ]
    },
    {
     "name": "stderr",
     "output_type": "stream",
     "text": [
      "INFO\tTask(Task-2) nodify.node.140656810366240:node.py:get()- No need to evaluate\n"
     ]
    },
    {
     "name": "stderr",
     "output_type": "stream",
     "text": [
      "INFO\tTask(Task-2) nodify.node.140656810365856:node.py:get()- No need to evaluate\n"
     ]
    },
    {
     "name": "stderr",
     "output_type": "stream",
     "text": [
      "INFO\tTask(Task-2) nodify.node.140656810368592:node.py:get()- No need to evaluate\n"
     ]
    },
    {
     "name": "stderr",
     "output_type": "stream",
     "text": [
      "INFO\tTask(Task-2) nodify.node.140656810369024:node.py:get()- Evaluated because inputs changed.\n"
     ]
    },
    {
     "name": "stderr",
     "output_type": "stream",
     "text": [
      "INFO\tTask(Task-2) nodify.node.140656810372240:node.py:get()- Evaluated because inputs changed.\n"
     ]
    },
    {
     "name": "stderr",
     "output_type": "stream",
     "text": [
      "INFO\tTask(Task-2) nodify.node.140656810372720:node.py:get()- Evaluated because inputs changed.\n"
     ]
    },
    {
     "data": {
      "application/vnd.plotly.v1+json": {
       "config": {
        "plotlyServerURL": "https://plot.ly"
       },
       "data": [
        {
         "coloraxis": "coloraxis",
         "meta": {},
         "opacity": 1,
         "type": "heatmap",
         "z": {
          "bdata": "hPjVt1v77z8d8lZMHyDkP9jICR3gdd8/0Cq88WAXwj8idcFelZnYPwAAAAAAAPh/AAAAAAAA+H8AAAAAAAD4fwAAAAAAAPh/7Td+MSRJpb8AAAAAAAD4fwAAAAAAAPh/AAAAAAAA+H8AAAAAAAD4fwAAAAAAAPh/HfJWTB8g5D96CSwuUDLuP8B7GcphXLS/7h30oo0E1b+glpMPy1jEvwAAAAAAAPh/AAAAAAAA+H8AAAAAAAD4fwAAAAAAAPh/GuNOeUPKir8AAAAAAAD4fwAAAAAAAPh/AAAAAAAA+H8AAAAAAAD4fwAAAAAAAPh/2MgJHeB13z/AexnKYVy0v1IiYxT1du8/cG5BjDIJpz8U8ISPJLzFvwAAAAAAAPh/AAAAAAAA+H8AAAAAAAD4fwAAAAAAAPh/CD0Jo6ngwD8AAAAAAAD4fwAAAAAAAPh/AAAAAAAA+H8AAAAAAAD4fwAAAAAAAPh/0Cq88WAXwj/uHfSijQTVv3BuQYwyCac/AI5GA+6Pf79l27r0GQTrPwAAAAAAAPh/AAAAAAAA+H8AAAAAAAD4fwAAAAAAAPh/c/1TXF0rrb8AAAAAAAD4fwAAAAAAAPh/AAAAAAAA+H8AAAAAAAD4fwAAAAAAAPh/InXBXpWZ2D+glpMPy1jEvxTwhI8kvMW/Zdu69BkE6z8kNemXVF/evwAAAAAAAPh/AAAAAAAA+H8AAAAAAAD4fwAAAAAAAPh/AAAAAAAA+H/tN34xJEmlvxrjTnlDyoq/CD0Jo6ngwD9z/VNcXSutvwAAAAAAAPh/",
          "dtype": "f8",
          "shape": "5, 15"
         },
         "zsmooth": false
        }
       ],
       "layout": {
        "coloraxis": {
         "cmid": 0,
         "colorscale": [
          [
           0.0,
           "rgb(0, 147, 146)"
          ],
          [
           0.16666666666666666,
           "rgb(57, 177, 133)"
          ],
          [
           0.3333333333333333,
           "rgb(156, 203, 134)"
          ],
          [
           0.5,
           "rgb(233, 226, 156)"
          ],
          [
           0.6666666666666666,
           "rgb(238, 180, 121)"
          ],
          [
           0.8333333333333334,
           "rgb(232, 132, 113)"
          ],
          [
           1.0,
           "rgb(207, 89, 126)"
          ]
         ],
         "showscale": true
        },
        "scene": {
         "aspectmode": "data",
         "xaxis": {
          "range": [
           -0.5,
           14.5
          ]
         },
         "yaxis": {
          "range": [
           4.5,
           -0.5
          ]
         }
        },
        "template": {
         "layout": {
          "hovermode": "closest",
          "paper_bgcolor": "white",
          "plot_bgcolor": "white",
          "scene": {
           "xaxis": {
            "color": "black",
            "gridcolor": "#ccc",
            "gridwidth": 1,
            "linewidth": 1,
            "mirror": true,
            "showgrid": false,
            "showline": true,
            "ticklen": 5,
            "ticks": "outside",
            "ticksuffix": " ",
            "visible": true,
            "zeroline": false,
            "zerolinecolor": "#ccc",
            "zerolinewidth": 1
           },
           "yaxis": {
            "color": "black",
            "gridcolor": "#ccc",
            "gridwidth": 1,
            "linewidth": 1,
            "mirror": true,
            "showgrid": false,
            "showline": true,
            "ticklen": 5,
            "ticks": "outside",
            "ticksuffix": " ",
            "visible": true,
            "zeroline": false,
            "zerolinecolor": "#ccc",
            "zerolinewidth": 1
           },
           "zaxis": {
            "color": "black",
            "gridcolor": "#ccc",
            "gridwidth": 1,
            "linewidth": 1,
            "mirror": true,
            "showgrid": false,
            "showline": true,
            "ticklen": 5,
            "ticks": "outside",
            "ticksuffix": " ",
            "visible": true,
            "zeroline": false,
            "zerolinecolor": "#ccc",
            "zerolinewidth": 1
           }
          },
          "xaxis": {
           "color": "black",
           "gridcolor": "#ccc",
           "gridwidth": 1,
           "linewidth": 1,
           "mirror": true,
           "showgrid": false,
           "showline": true,
           "ticklen": 5,
           "ticks": "outside",
           "ticksuffix": " ",
           "visible": true,
           "zeroline": false,
           "zerolinecolor": "#ccc",
           "zerolinewidth": 1
          },
          "yaxis": {
           "color": "black",
           "gridcolor": "#ccc",
           "gridwidth": 1,
           "linewidth": 1,
           "mirror": true,
           "showgrid": false,
           "showline": true,
           "ticklen": 5,
           "ticks": "outside",
           "ticksuffix": " ",
           "visible": true,
           "zeroline": false,
           "zerolinecolor": "#ccc",
           "zerolinewidth": 1
          }
         }
        },
        "xaxis": {
         "constrain": "domain",
         "range": [
          -0.5,
          14.5
         ],
         "scaleanchor": "y",
         "scaleratio": 1
        },
        "yaxis": {
         "constrain": "domain",
         "range": [
          4.5,
          -0.5
         ]
        }
       }
      }
     },
     "metadata": {},
     "output_type": "display_data"
    }
   ],
   "source": [
    "plot.update_inputs(crange=None, cmid=None)"
   ]
  },
  {
   "cell_type": "markdown",
   "metadata": {},
   "source": [
    "## Show values as text\n",
    "\n",
    "Colors are nice to give you a quick impression of the relative magnitude of the matrix elements. However, you might want to know the exact value. Although `plotly` shows them when you pass the mouse over the matrix elements, sometimes it might be more convenient to directly display them on top.\n",
    "\n",
    "To do this, you need to pass a formatting string to the `text` input. For example, to show two decimals:"
   ]
  },
  {
   "cell_type": "code",
   "execution_count": 8,
   "metadata": {
    "execution": {
     "iopub.execute_input": "2025-08-14T08:06:01.620810Z",
     "iopub.status.busy": "2025-08-14T08:06:01.620643Z",
     "iopub.status.idle": "2025-08-14T08:06:01.700705Z",
     "shell.execute_reply": "2025-08-14T08:06:01.700223Z"
    }
   },
   "outputs": [
    {
     "name": "stderr",
     "output_type": "stream",
     "text": [
      "INFO\tTask(Task-2) nodify.node.140656810367008:node.py:get()- No need to evaluate\n"
     ]
    },
    {
     "name": "stderr",
     "output_type": "stream",
     "text": [
      "INFO\tTask(Task-2) nodify.node.140656814357152:node.py:get()- No need to evaluate\n"
     ]
    },
    {
     "name": "stderr",
     "output_type": "stream",
     "text": [
      "INFO\tTask(Task-2) nodify.node.140656810362016:node.py:get()- No need to evaluate\n"
     ]
    },
    {
     "name": "stderr",
     "output_type": "stream",
     "text": [
      "INFO\tTask(Task-2) nodify.node.140656810362112:node.py:get()- No need to evaluate\n"
     ]
    },
    {
     "name": "stderr",
     "output_type": "stream",
     "text": [
      "INFO\tTask(Task-2) nodify.node.140656810361248:node.py:get()- No need to evaluate\n"
     ]
    },
    {
     "name": "stderr",
     "output_type": "stream",
     "text": [
      "INFO\tTask(Task-2) nodify.node.140656810368784:node.py:get()- No need to evaluate\n"
     ]
    },
    {
     "name": "stderr",
     "output_type": "stream",
     "text": [
      "INFO\tTask(Task-2) nodify.node.140656810363936:node.py:get()- No need to evaluate\n"
     ]
    },
    {
     "name": "stderr",
     "output_type": "stream",
     "text": [
      "INFO\tTask(Task-2) nodify.node.140656810364320:node.py:get()- No need to evaluate\n"
     ]
    },
    {
     "name": "stderr",
     "output_type": "stream",
     "text": [
      "INFO\tTask(Task-2) nodify.node.140656814357152:node.py:get()- No need to evaluate\n"
     ]
    },
    {
     "name": "stderr",
     "output_type": "stream",
     "text": [
      "INFO\tTask(Task-2) nodify.node.140656810364704:node.py:get()- No need to evaluate\n"
     ]
    },
    {
     "name": "stderr",
     "output_type": "stream",
     "text": [
      "INFO\tTask(Task-2) nodify.node.140656810364320:node.py:get()- No need to evaluate\n"
     ]
    },
    {
     "name": "stderr",
     "output_type": "stream",
     "text": [
      "INFO\tTask(Task-2) nodify.node.140656810370032:node.py:get()- No need to evaluate\n"
     ]
    },
    {
     "name": "stderr",
     "output_type": "stream",
     "text": [
      "INFO\tTask(Task-2) nodify.node.140656810363552:node.py:get()- No need to evaluate\n"
     ]
    },
    {
     "name": "stderr",
     "output_type": "stream",
     "text": [
      "INFO\tTask(Task-2) nodify.node.140656810365088:node.py:get()- Evaluated because inputs changed.\n"
     ]
    },
    {
     "name": "stderr",
     "output_type": "stream",
     "text": [
      "INFO\tTask(Task-2) nodify.node.140656810365472:node.py:get()- No need to evaluate\n"
     ]
    },
    {
     "name": "stderr",
     "output_type": "stream",
     "text": [
      "INFO\tTask(Task-2) nodify.node.140656810369936:node.py:get()- Evaluated because inputs changed.\n"
     ]
    },
    {
     "name": "stderr",
     "output_type": "stream",
     "text": [
      "INFO\tTask(Task-2) nodify.node.140656814357152:node.py:get()- No need to evaluate\n"
     ]
    },
    {
     "name": "stderr",
     "output_type": "stream",
     "text": [
      "INFO\tTask(Task-2) nodify.node.140656810362016:node.py:get()- No need to evaluate\n"
     ]
    },
    {
     "name": "stderr",
     "output_type": "stream",
     "text": [
      "INFO\tTask(Task-2) nodify.node.140656810362112:node.py:get()- No need to evaluate\n"
     ]
    },
    {
     "name": "stderr",
     "output_type": "stream",
     "text": [
      "INFO\tTask(Task-2) nodify.node.140656810361248:node.py:get()- No need to evaluate\n"
     ]
    },
    {
     "name": "stderr",
     "output_type": "stream",
     "text": [
      "INFO\tTask(Task-2) nodify.node.140656810368784:node.py:get()- No need to evaluate\n"
     ]
    },
    {
     "name": "stderr",
     "output_type": "stream",
     "text": [
      "INFO\tTask(Task-2) nodify.node.140656810366624:node.py:get()- No need to evaluate\n"
     ]
    },
    {
     "name": "stderr",
     "output_type": "stream",
     "text": [
      "INFO\tTask(Task-2) nodify.node.140656810370704:node.py:get()- No need to evaluate\n"
     ]
    },
    {
     "name": "stderr",
     "output_type": "stream",
     "text": [
      "INFO\tTask(Task-2) nodify.node.140656810370080:node.py:get()- No need to evaluate\n"
     ]
    },
    {
     "name": "stderr",
     "output_type": "stream",
     "text": [
      "INFO\tTask(Task-2) nodify.node.140656810361392:node.py:get()- No need to evaluate\n"
     ]
    },
    {
     "name": "stderr",
     "output_type": "stream",
     "text": [
      "INFO\tTask(Task-2) nodify.node.140656814357152:node.py:get()- No need to evaluate\n"
     ]
    },
    {
     "name": "stderr",
     "output_type": "stream",
     "text": [
      "INFO\tTask(Task-2) nodify.node.140656810361536:node.py:get()- No need to evaluate\n"
     ]
    },
    {
     "name": "stderr",
     "output_type": "stream",
     "text": [
      "INFO\tTask(Task-2) nodify.node.140656810368304:node.py:get()- No need to evaluate\n"
     ]
    },
    {
     "name": "stderr",
     "output_type": "stream",
     "text": [
      "INFO\tTask(Task-2) nodify.node.140656814357152:node.py:get()- No need to evaluate\n"
     ]
    },
    {
     "name": "stderr",
     "output_type": "stream",
     "text": [
      "INFO\tTask(Task-2) nodify.node.140656810368880:node.py:get()- No need to evaluate\n"
     ]
    },
    {
     "name": "stderr",
     "output_type": "stream",
     "text": [
      "INFO\tTask(Task-2) nodify.node.140656810370752:node.py:get()- No need to evaluate\n"
     ]
    },
    {
     "name": "stderr",
     "output_type": "stream",
     "text": [
      "INFO\tTask(Task-2) nodify.node.140656810362592:node.py:get()- No need to evaluate\n"
     ]
    },
    {
     "name": "stderr",
     "output_type": "stream",
     "text": [
      "INFO\tTask(Task-2) nodify.node.140656814357152:node.py:get()- No need to evaluate\n"
     ]
    },
    {
     "name": "stderr",
     "output_type": "stream",
     "text": [
      "INFO\tTask(Task-2) nodify.node.140656810361536:node.py:get()- No need to evaluate\n"
     ]
    },
    {
     "name": "stderr",
     "output_type": "stream",
     "text": [
      "INFO\tTask(Task-2) nodify.node.140656810368304:node.py:get()- No need to evaluate\n"
     ]
    },
    {
     "name": "stderr",
     "output_type": "stream",
     "text": [
      "INFO\tTask(Task-2) nodify.node.140656814357152:node.py:get()- No need to evaluate\n"
     ]
    },
    {
     "name": "stderr",
     "output_type": "stream",
     "text": [
      "INFO\tTask(Task-2) nodify.node.140656810368880:node.py:get()- No need to evaluate\n"
     ]
    },
    {
     "name": "stderr",
     "output_type": "stream",
     "text": [
      "INFO\tTask(Task-2) nodify.node.140656810371424:node.py:get()- No need to evaluate\n"
     ]
    },
    {
     "name": "stderr",
     "output_type": "stream",
     "text": [
      "INFO\tTask(Task-2) nodify.node.140656810363120:node.py:get()- No need to evaluate\n"
     ]
    },
    {
     "name": "stderr",
     "output_type": "stream",
     "text": [
      "INFO\tTask(Task-2) nodify.node.140656814357152:node.py:get()- No need to evaluate\n"
     ]
    },
    {
     "name": "stderr",
     "output_type": "stream",
     "text": [
      "INFO\tTask(Task-2) nodify.node.140656810361536:node.py:get()- No need to evaluate\n"
     ]
    },
    {
     "name": "stderr",
     "output_type": "stream",
     "text": [
      "INFO\tTask(Task-2) nodify.node.140656810368304:node.py:get()- No need to evaluate\n"
     ]
    },
    {
     "name": "stderr",
     "output_type": "stream",
     "text": [
      "INFO\tTask(Task-2) nodify.node.140656814357152:node.py:get()- No need to evaluate\n"
     ]
    },
    {
     "name": "stderr",
     "output_type": "stream",
     "text": [
      "INFO\tTask(Task-2) nodify.node.140656810368880:node.py:get()- No need to evaluate\n"
     ]
    },
    {
     "name": "stderr",
     "output_type": "stream",
     "text": [
      "INFO\tTask(Task-2) nodify.node.140656810371760:node.py:get()- No need to evaluate\n"
     ]
    },
    {
     "name": "stderr",
     "output_type": "stream",
     "text": [
      "INFO\tTask(Task-2) nodify.node.140656814357152:node.py:get()- No need to evaluate\n"
     ]
    },
    {
     "name": "stderr",
     "output_type": "stream",
     "text": [
      "INFO\tTask(Task-2) nodify.node.140656810362016:node.py:get()- No need to evaluate\n"
     ]
    },
    {
     "name": "stderr",
     "output_type": "stream",
     "text": [
      "INFO\tTask(Task-2) nodify.node.140656810362112:node.py:get()- No need to evaluate\n"
     ]
    },
    {
     "name": "stderr",
     "output_type": "stream",
     "text": [
      "INFO\tTask(Task-2) nodify.node.140656810361248:node.py:get()- No need to evaluate\n"
     ]
    },
    {
     "name": "stderr",
     "output_type": "stream",
     "text": [
      "INFO\tTask(Task-2) nodify.node.140656810368784:node.py:get()- No need to evaluate\n"
     ]
    },
    {
     "name": "stderr",
     "output_type": "stream",
     "text": [
      "INFO\tTask(Task-2) nodify.node.140656814357152:node.py:get()- No need to evaluate\n"
     ]
    },
    {
     "name": "stderr",
     "output_type": "stream",
     "text": [
      "INFO\tTask(Task-2) nodify.node.140656810361536:node.py:get()- No need to evaluate\n"
     ]
    },
    {
     "name": "stderr",
     "output_type": "stream",
     "text": [
      "INFO\tTask(Task-2) nodify.node.140656810368304:node.py:get()- No need to evaluate\n"
     ]
    },
    {
     "name": "stderr",
     "output_type": "stream",
     "text": [
      "INFO\tTask(Task-2) nodify.node.140656814357152:node.py:get()- No need to evaluate\n"
     ]
    },
    {
     "name": "stderr",
     "output_type": "stream",
     "text": [
      "INFO\tTask(Task-2) nodify.node.140656810368880:node.py:get()- No need to evaluate\n"
     ]
    },
    {
     "name": "stderr",
     "output_type": "stream",
     "text": [
      "INFO\tTask(Task-2) nodify.node.140656810366240:node.py:get()- No need to evaluate\n"
     ]
    },
    {
     "name": "stderr",
     "output_type": "stream",
     "text": [
      "INFO\tTask(Task-2) nodify.node.140656810365856:node.py:get()- No need to evaluate\n"
     ]
    },
    {
     "name": "stderr",
     "output_type": "stream",
     "text": [
      "INFO\tTask(Task-2) nodify.node.140656810368592:node.py:get()- No need to evaluate\n"
     ]
    },
    {
     "name": "stderr",
     "output_type": "stream",
     "text": [
      "INFO\tTask(Task-2) nodify.node.140656810369024:node.py:get()- Evaluated because inputs changed.\n"
     ]
    },
    {
     "name": "stderr",
     "output_type": "stream",
     "text": [
      "INFO\tTask(Task-2) nodify.node.140656810372240:node.py:get()- Evaluated because inputs changed.\n"
     ]
    },
    {
     "name": "stderr",
     "output_type": "stream",
     "text": [
      "INFO\tTask(Task-2) nodify.node.140656810372720:node.py:get()- Evaluated because inputs changed.\n"
     ]
    },
    {
     "data": {
      "application/vnd.plotly.v1+json": {
       "config": {
        "plotlyServerURL": "https://plot.ly"
       },
       "data": [
        {
         "coloraxis": "coloraxis",
         "meta": {},
         "opacity": 1,
         "texttemplate": "%{z:.2f}",
         "type": "heatmap",
         "z": {
          "bdata": "hPjVt1v77z8d8lZMHyDkP9jICR3gdd8/0Cq88WAXwj8idcFelZnYPwAAAAAAAPh/AAAAAAAA+H8AAAAAAAD4fwAAAAAAAPh/7Td+MSRJpb8AAAAAAAD4fwAAAAAAAPh/AAAAAAAA+H8AAAAAAAD4fwAAAAAAAPh/HfJWTB8g5D96CSwuUDLuP8B7GcphXLS/7h30oo0E1b+glpMPy1jEvwAAAAAAAPh/AAAAAAAA+H8AAAAAAAD4fwAAAAAAAPh/GuNOeUPKir8AAAAAAAD4fwAAAAAAAPh/AAAAAAAA+H8AAAAAAAD4fwAAAAAAAPh/2MgJHeB13z/AexnKYVy0v1IiYxT1du8/cG5BjDIJpz8U8ISPJLzFvwAAAAAAAPh/AAAAAAAA+H8AAAAAAAD4fwAAAAAAAPh/CD0Jo6ngwD8AAAAAAAD4fwAAAAAAAPh/AAAAAAAA+H8AAAAAAAD4fwAAAAAAAPh/0Cq88WAXwj/uHfSijQTVv3BuQYwyCac/AI5GA+6Pf79l27r0GQTrPwAAAAAAAPh/AAAAAAAA+H8AAAAAAAD4fwAAAAAAAPh/c/1TXF0rrb8AAAAAAAD4fwAAAAAAAPh/AAAAAAAA+H8AAAAAAAD4fwAAAAAAAPh/InXBXpWZ2D+glpMPy1jEvxTwhI8kvMW/Zdu69BkE6z8kNemXVF/evwAAAAAAAPh/AAAAAAAA+H8AAAAAAAD4fwAAAAAAAPh/AAAAAAAA+H/tN34xJEmlvxrjTnlDyoq/CD0Jo6ngwD9z/VNcXSutvwAAAAAAAPh/",
          "dtype": "f8",
          "shape": "5, 15"
         },
         "zsmooth": false
        }
       ],
       "layout": {
        "coloraxis": {
         "cmid": 0,
         "colorscale": [
          [
           0.0,
           "rgb(0, 147, 146)"
          ],
          [
           0.16666666666666666,
           "rgb(57, 177, 133)"
          ],
          [
           0.3333333333333333,
           "rgb(156, 203, 134)"
          ],
          [
           0.5,
           "rgb(233, 226, 156)"
          ],
          [
           0.6666666666666666,
           "rgb(238, 180, 121)"
          ],
          [
           0.8333333333333334,
           "rgb(232, 132, 113)"
          ],
          [
           1.0,
           "rgb(207, 89, 126)"
          ]
         ],
         "showscale": true
        },
        "scene": {
         "aspectmode": "data",
         "xaxis": {
          "range": [
           -0.5,
           14.5
          ]
         },
         "yaxis": {
          "range": [
           4.5,
           -0.5
          ]
         }
        },
        "template": {
         "layout": {
          "hovermode": "closest",
          "paper_bgcolor": "white",
          "plot_bgcolor": "white",
          "scene": {
           "xaxis": {
            "color": "black",
            "gridcolor": "#ccc",
            "gridwidth": 1,
            "linewidth": 1,
            "mirror": true,
            "showgrid": false,
            "showline": true,
            "ticklen": 5,
            "ticks": "outside",
            "ticksuffix": " ",
            "visible": true,
            "zeroline": false,
            "zerolinecolor": "#ccc",
            "zerolinewidth": 1
           },
           "yaxis": {
            "color": "black",
            "gridcolor": "#ccc",
            "gridwidth": 1,
            "linewidth": 1,
            "mirror": true,
            "showgrid": false,
            "showline": true,
            "ticklen": 5,
            "ticks": "outside",
            "ticksuffix": " ",
            "visible": true,
            "zeroline": false,
            "zerolinecolor": "#ccc",
            "zerolinewidth": 1
           },
           "zaxis": {
            "color": "black",
            "gridcolor": "#ccc",
            "gridwidth": 1,
            "linewidth": 1,
            "mirror": true,
            "showgrid": false,
            "showline": true,
            "ticklen": 5,
            "ticks": "outside",
            "ticksuffix": " ",
            "visible": true,
            "zeroline": false,
            "zerolinecolor": "#ccc",
            "zerolinewidth": 1
           }
          },
          "xaxis": {
           "color": "black",
           "gridcolor": "#ccc",
           "gridwidth": 1,
           "linewidth": 1,
           "mirror": true,
           "showgrid": false,
           "showline": true,
           "ticklen": 5,
           "ticks": "outside",
           "ticksuffix": " ",
           "visible": true,
           "zeroline": false,
           "zerolinecolor": "#ccc",
           "zerolinewidth": 1
          },
          "yaxis": {
           "color": "black",
           "gridcolor": "#ccc",
           "gridwidth": 1,
           "linewidth": 1,
           "mirror": true,
           "showgrid": false,
           "showline": true,
           "ticklen": 5,
           "ticks": "outside",
           "ticksuffix": " ",
           "visible": true,
           "zeroline": false,
           "zerolinecolor": "#ccc",
           "zerolinewidth": 1
          }
         }
        },
        "xaxis": {
         "constrain": "domain",
         "range": [
          -0.5,
          14.5
         ],
         "scaleanchor": "y",
         "scaleratio": 1
        },
        "yaxis": {
         "constrain": "domain",
         "range": [
          4.5,
          -0.5
         ]
        }
       }
      }
     },
     "metadata": {},
     "output_type": "display_data"
    }
   ],
   "source": [
    "plot.update_inputs(text=\".2f\")"
   ]
  },
  {
   "cell_type": "markdown",
   "metadata": {},
   "source": [
    "You can tweak the style of text with the `textfont` input, which is a dictionary with three (optional) keys:\n",
    "\n",
    "- `color`: Text color.\n",
    "- `family`: Font family for the text. Note that different backends might support different fonts.\n",
    "- `size`: The size of the font.\n",
    "\n",
    "The default value will be used for any key that you don't include in the dictionary."
   ]
  },
  {
   "cell_type": "code",
   "execution_count": 9,
   "metadata": {
    "execution": {
     "iopub.execute_input": "2025-08-14T08:06:01.702481Z",
     "iopub.status.busy": "2025-08-14T08:06:01.702301Z",
     "iopub.status.idle": "2025-08-14T08:06:01.783338Z",
     "shell.execute_reply": "2025-08-14T08:06:01.782732Z"
    }
   },
   "outputs": [
    {
     "name": "stderr",
     "output_type": "stream",
     "text": [
      "INFO\tTask(Task-2) nodify.node.140656810367008:node.py:get()- No need to evaluate\n"
     ]
    },
    {
     "name": "stderr",
     "output_type": "stream",
     "text": [
      "INFO\tTask(Task-2) nodify.node.140656814357152:node.py:get()- No need to evaluate\n"
     ]
    },
    {
     "name": "stderr",
     "output_type": "stream",
     "text": [
      "INFO\tTask(Task-2) nodify.node.140656810362016:node.py:get()- No need to evaluate\n"
     ]
    },
    {
     "name": "stderr",
     "output_type": "stream",
     "text": [
      "INFO\tTask(Task-2) nodify.node.140656810362112:node.py:get()- No need to evaluate\n"
     ]
    },
    {
     "name": "stderr",
     "output_type": "stream",
     "text": [
      "INFO\tTask(Task-2) nodify.node.140656810361248:node.py:get()- No need to evaluate\n"
     ]
    },
    {
     "name": "stderr",
     "output_type": "stream",
     "text": [
      "INFO\tTask(Task-2) nodify.node.140656810368784:node.py:get()- No need to evaluate\n"
     ]
    },
    {
     "name": "stderr",
     "output_type": "stream",
     "text": [
      "INFO\tTask(Task-2) nodify.node.140656810363936:node.py:get()- No need to evaluate\n"
     ]
    },
    {
     "name": "stderr",
     "output_type": "stream",
     "text": [
      "INFO\tTask(Task-2) nodify.node.140656810364320:node.py:get()- No need to evaluate\n"
     ]
    },
    {
     "name": "stderr",
     "output_type": "stream",
     "text": [
      "INFO\tTask(Task-2) nodify.node.140656814357152:node.py:get()- No need to evaluate\n"
     ]
    },
    {
     "name": "stderr",
     "output_type": "stream",
     "text": [
      "INFO\tTask(Task-2) nodify.node.140656810364704:node.py:get()- No need to evaluate\n"
     ]
    },
    {
     "name": "stderr",
     "output_type": "stream",
     "text": [
      "INFO\tTask(Task-2) nodify.node.140656810364320:node.py:get()- No need to evaluate\n"
     ]
    },
    {
     "name": "stderr",
     "output_type": "stream",
     "text": [
      "INFO\tTask(Task-2) nodify.node.140656810370032:node.py:get()- No need to evaluate\n"
     ]
    },
    {
     "name": "stderr",
     "output_type": "stream",
     "text": [
      "INFO\tTask(Task-2) nodify.node.140656810363552:node.py:get()- No need to evaluate\n"
     ]
    },
    {
     "name": "stderr",
     "output_type": "stream",
     "text": [
      "INFO\tTask(Task-2) nodify.node.140656810365088:node.py:get()- No need to evaluate\n"
     ]
    },
    {
     "name": "stderr",
     "output_type": "stream",
     "text": [
      "INFO\tTask(Task-2) nodify.node.140656810365472:node.py:get()- Evaluated because inputs changed.\n"
     ]
    },
    {
     "name": "stderr",
     "output_type": "stream",
     "text": [
      "INFO\tTask(Task-2) nodify.node.140656810369936:node.py:get()- Evaluated because inputs changed.\n"
     ]
    },
    {
     "name": "stderr",
     "output_type": "stream",
     "text": [
      "INFO\tTask(Task-2) nodify.node.140656814357152:node.py:get()- No need to evaluate\n"
     ]
    },
    {
     "name": "stderr",
     "output_type": "stream",
     "text": [
      "INFO\tTask(Task-2) nodify.node.140656810362016:node.py:get()- No need to evaluate\n"
     ]
    },
    {
     "name": "stderr",
     "output_type": "stream",
     "text": [
      "INFO\tTask(Task-2) nodify.node.140656810362112:node.py:get()- No need to evaluate\n"
     ]
    },
    {
     "name": "stderr",
     "output_type": "stream",
     "text": [
      "INFO\tTask(Task-2) nodify.node.140656810361248:node.py:get()- No need to evaluate\n"
     ]
    },
    {
     "name": "stderr",
     "output_type": "stream",
     "text": [
      "INFO\tTask(Task-2) nodify.node.140656810368784:node.py:get()- No need to evaluate\n"
     ]
    },
    {
     "name": "stderr",
     "output_type": "stream",
     "text": [
      "INFO\tTask(Task-2) nodify.node.140656810366624:node.py:get()- No need to evaluate\n"
     ]
    },
    {
     "name": "stderr",
     "output_type": "stream",
     "text": [
      "INFO\tTask(Task-2) nodify.node.140656810370704:node.py:get()- No need to evaluate\n"
     ]
    },
    {
     "name": "stderr",
     "output_type": "stream",
     "text": [
      "INFO\tTask(Task-2) nodify.node.140656810370080:node.py:get()- No need to evaluate\n"
     ]
    },
    {
     "name": "stderr",
     "output_type": "stream",
     "text": [
      "INFO\tTask(Task-2) nodify.node.140656810361392:node.py:get()- No need to evaluate\n"
     ]
    },
    {
     "name": "stderr",
     "output_type": "stream",
     "text": [
      "INFO\tTask(Task-2) nodify.node.140656814357152:node.py:get()- No need to evaluate\n"
     ]
    },
    {
     "name": "stderr",
     "output_type": "stream",
     "text": [
      "INFO\tTask(Task-2) nodify.node.140656810361536:node.py:get()- No need to evaluate\n"
     ]
    },
    {
     "name": "stderr",
     "output_type": "stream",
     "text": [
      "INFO\tTask(Task-2) nodify.node.140656810368304:node.py:get()- No need to evaluate\n"
     ]
    },
    {
     "name": "stderr",
     "output_type": "stream",
     "text": [
      "INFO\tTask(Task-2) nodify.node.140656814357152:node.py:get()- No need to evaluate\n"
     ]
    },
    {
     "name": "stderr",
     "output_type": "stream",
     "text": [
      "INFO\tTask(Task-2) nodify.node.140656810368880:node.py:get()- No need to evaluate\n"
     ]
    },
    {
     "name": "stderr",
     "output_type": "stream",
     "text": [
      "INFO\tTask(Task-2) nodify.node.140656810370752:node.py:get()- No need to evaluate\n"
     ]
    },
    {
     "name": "stderr",
     "output_type": "stream",
     "text": [
      "INFO\tTask(Task-2) nodify.node.140656810362592:node.py:get()- No need to evaluate\n"
     ]
    },
    {
     "name": "stderr",
     "output_type": "stream",
     "text": [
      "INFO\tTask(Task-2) nodify.node.140656814357152:node.py:get()- No need to evaluate\n"
     ]
    },
    {
     "name": "stderr",
     "output_type": "stream",
     "text": [
      "INFO\tTask(Task-2) nodify.node.140656810361536:node.py:get()- No need to evaluate\n"
     ]
    },
    {
     "name": "stderr",
     "output_type": "stream",
     "text": [
      "INFO\tTask(Task-2) nodify.node.140656810368304:node.py:get()- No need to evaluate\n"
     ]
    },
    {
     "name": "stderr",
     "output_type": "stream",
     "text": [
      "INFO\tTask(Task-2) nodify.node.140656814357152:node.py:get()- No need to evaluate\n"
     ]
    },
    {
     "name": "stderr",
     "output_type": "stream",
     "text": [
      "INFO\tTask(Task-2) nodify.node.140656810368880:node.py:get()- No need to evaluate\n"
     ]
    },
    {
     "name": "stderr",
     "output_type": "stream",
     "text": [
      "INFO\tTask(Task-2) nodify.node.140656810371424:node.py:get()- No need to evaluate\n"
     ]
    },
    {
     "name": "stderr",
     "output_type": "stream",
     "text": [
      "INFO\tTask(Task-2) nodify.node.140656810363120:node.py:get()- No need to evaluate\n"
     ]
    },
    {
     "name": "stderr",
     "output_type": "stream",
     "text": [
      "INFO\tTask(Task-2) nodify.node.140656814357152:node.py:get()- No need to evaluate\n"
     ]
    },
    {
     "name": "stderr",
     "output_type": "stream",
     "text": [
      "INFO\tTask(Task-2) nodify.node.140656810361536:node.py:get()- No need to evaluate\n"
     ]
    },
    {
     "name": "stderr",
     "output_type": "stream",
     "text": [
      "INFO\tTask(Task-2) nodify.node.140656810368304:node.py:get()- No need to evaluate\n"
     ]
    },
    {
     "name": "stderr",
     "output_type": "stream",
     "text": [
      "INFO\tTask(Task-2) nodify.node.140656814357152:node.py:get()- No need to evaluate\n"
     ]
    },
    {
     "name": "stderr",
     "output_type": "stream",
     "text": [
      "INFO\tTask(Task-2) nodify.node.140656810368880:node.py:get()- No need to evaluate\n"
     ]
    },
    {
     "name": "stderr",
     "output_type": "stream",
     "text": [
      "INFO\tTask(Task-2) nodify.node.140656810371760:node.py:get()- No need to evaluate\n"
     ]
    },
    {
     "name": "stderr",
     "output_type": "stream",
     "text": [
      "INFO\tTask(Task-2) nodify.node.140656814357152:node.py:get()- No need to evaluate\n"
     ]
    },
    {
     "name": "stderr",
     "output_type": "stream",
     "text": [
      "INFO\tTask(Task-2) nodify.node.140656810362016:node.py:get()- No need to evaluate\n"
     ]
    },
    {
     "name": "stderr",
     "output_type": "stream",
     "text": [
      "INFO\tTask(Task-2) nodify.node.140656810362112:node.py:get()- No need to evaluate\n"
     ]
    },
    {
     "name": "stderr",
     "output_type": "stream",
     "text": [
      "INFO\tTask(Task-2) nodify.node.140656810361248:node.py:get()- No need to evaluate\n"
     ]
    },
    {
     "name": "stderr",
     "output_type": "stream",
     "text": [
      "INFO\tTask(Task-2) nodify.node.140656810368784:node.py:get()- No need to evaluate\n"
     ]
    },
    {
     "name": "stderr",
     "output_type": "stream",
     "text": [
      "INFO\tTask(Task-2) nodify.node.140656814357152:node.py:get()- No need to evaluate\n"
     ]
    },
    {
     "name": "stderr",
     "output_type": "stream",
     "text": [
      "INFO\tTask(Task-2) nodify.node.140656810361536:node.py:get()- No need to evaluate\n"
     ]
    },
    {
     "name": "stderr",
     "output_type": "stream",
     "text": [
      "INFO\tTask(Task-2) nodify.node.140656810368304:node.py:get()- No need to evaluate\n"
     ]
    },
    {
     "name": "stderr",
     "output_type": "stream",
     "text": [
      "INFO\tTask(Task-2) nodify.node.140656814357152:node.py:get()- No need to evaluate\n"
     ]
    },
    {
     "name": "stderr",
     "output_type": "stream",
     "text": [
      "INFO\tTask(Task-2) nodify.node.140656810368880:node.py:get()- No need to evaluate\n"
     ]
    },
    {
     "name": "stderr",
     "output_type": "stream",
     "text": [
      "INFO\tTask(Task-2) nodify.node.140656810366240:node.py:get()- No need to evaluate\n"
     ]
    },
    {
     "name": "stderr",
     "output_type": "stream",
     "text": [
      "INFO\tTask(Task-2) nodify.node.140656810365856:node.py:get()- No need to evaluate\n"
     ]
    },
    {
     "name": "stderr",
     "output_type": "stream",
     "text": [
      "INFO\tTask(Task-2) nodify.node.140656810368592:node.py:get()- No need to evaluate\n"
     ]
    },
    {
     "name": "stderr",
     "output_type": "stream",
     "text": [
      "INFO\tTask(Task-2) nodify.node.140656810369024:node.py:get()- Evaluated because inputs changed.\n"
     ]
    },
    {
     "name": "stderr",
     "output_type": "stream",
     "text": [
      "INFO\tTask(Task-2) nodify.node.140656810372240:node.py:get()- Evaluated because inputs changed.\n"
     ]
    },
    {
     "name": "stderr",
     "output_type": "stream",
     "text": [
      "INFO\tTask(Task-2) nodify.node.140656810372720:node.py:get()- Evaluated because inputs changed.\n"
     ]
    },
    {
     "data": {
      "application/vnd.plotly.v1+json": {
       "config": {
        "plotlyServerURL": "https://plot.ly"
       },
       "data": [
        {
         "coloraxis": "coloraxis",
         "meta": {},
         "opacity": 1,
         "text": [
          [
           "1.00",
           "0.63",
           "0.49",
           "0.14",
           "0.38",
           "",
           "",
           "",
           "",
           "-0.04",
           "",
           "",
           "",
           "",
           ""
          ],
          [
           "0.63",
           "0.94",
           "-0.08",
           "-0.33",
           "-0.16",
           "",
           "",
           "",
           "",
           "-0.01",
           "",
           "",
           "",
           "",
           ""
          ],
          [
           "0.49",
           "-0.08",
           "0.98",
           "0.04",
           "-0.17",
           "",
           "",
           "",
           "",
           "0.13",
           "",
           "",
           "",
           "",
           ""
          ],
          [
           "0.14",
           "-0.33",
           "0.04",
           "-0.01",
           "0.84",
           "",
           "",
           "",
           "",
           "-0.06",
           "",
           "",
           "",
           "",
           ""
          ],
          [
           "0.38",
           "-0.16",
           "-0.17",
           "0.84",
           "-0.47",
           "",
           "",
           "",
           "",
           "",
           "-0.04",
           "-0.01",
           "0.13",
           "-0.06",
           ""
          ]
         ],
         "textfont": {
          "color": "blue",
          "family": "times",
          "size": 15
         },
         "texttemplate": "%{text}",
         "type": "heatmap",
         "z": {
          "bdata": "hPjVt1v77z8d8lZMHyDkP9jICR3gdd8/0Cq88WAXwj8idcFelZnYPwAAAAAAAPh/AAAAAAAA+H8AAAAAAAD4fwAAAAAAAPh/7Td+MSRJpb8AAAAAAAD4fwAAAAAAAPh/AAAAAAAA+H8AAAAAAAD4fwAAAAAAAPh/HfJWTB8g5D96CSwuUDLuP8B7GcphXLS/7h30oo0E1b+glpMPy1jEvwAAAAAAAPh/AAAAAAAA+H8AAAAAAAD4fwAAAAAAAPh/GuNOeUPKir8AAAAAAAD4fwAAAAAAAPh/AAAAAAAA+H8AAAAAAAD4fwAAAAAAAPh/2MgJHeB13z/AexnKYVy0v1IiYxT1du8/cG5BjDIJpz8U8ISPJLzFvwAAAAAAAPh/AAAAAAAA+H8AAAAAAAD4fwAAAAAAAPh/CD0Jo6ngwD8AAAAAAAD4fwAAAAAAAPh/AAAAAAAA+H8AAAAAAAD4fwAAAAAAAPh/0Cq88WAXwj/uHfSijQTVv3BuQYwyCac/AI5GA+6Pf79l27r0GQTrPwAAAAAAAPh/AAAAAAAA+H8AAAAAAAD4fwAAAAAAAPh/c/1TXF0rrb8AAAAAAAD4fwAAAAAAAPh/AAAAAAAA+H8AAAAAAAD4fwAAAAAAAPh/InXBXpWZ2D+glpMPy1jEvxTwhI8kvMW/Zdu69BkE6z8kNemXVF/evwAAAAAAAPh/AAAAAAAA+H8AAAAAAAD4fwAAAAAAAPh/AAAAAAAA+H/tN34xJEmlvxrjTnlDyoq/CD0Jo6ngwD9z/VNcXSutvwAAAAAAAPh/",
          "dtype": "f8",
          "shape": "5, 15"
         },
         "zsmooth": false
        }
       ],
       "layout": {
        "coloraxis": {
         "cmid": 0,
         "colorscale": [
          [
           0.0,
           "rgb(0, 147, 146)"
          ],
          [
           0.16666666666666666,
           "rgb(57, 177, 133)"
          ],
          [
           0.3333333333333333,
           "rgb(156, 203, 134)"
          ],
          [
           0.5,
           "rgb(233, 226, 156)"
          ],
          [
           0.6666666666666666,
           "rgb(238, 180, 121)"
          ],
          [
           0.8333333333333334,
           "rgb(232, 132, 113)"
          ],
          [
           1.0,
           "rgb(207, 89, 126)"
          ]
         ],
         "showscale": true
        },
        "scene": {
         "aspectmode": "data",
         "xaxis": {
          "range": [
           -0.5,
           14.5
          ]
         },
         "yaxis": {
          "range": [
           4.5,
           -0.5
          ]
         }
        },
        "template": {
         "layout": {
          "hovermode": "closest",
          "paper_bgcolor": "white",
          "plot_bgcolor": "white",
          "scene": {
           "xaxis": {
            "color": "black",
            "gridcolor": "#ccc",
            "gridwidth": 1,
            "linewidth": 1,
            "mirror": true,
            "showgrid": false,
            "showline": true,
            "ticklen": 5,
            "ticks": "outside",
            "ticksuffix": " ",
            "visible": true,
            "zeroline": false,
            "zerolinecolor": "#ccc",
            "zerolinewidth": 1
           },
           "yaxis": {
            "color": "black",
            "gridcolor": "#ccc",
            "gridwidth": 1,
            "linewidth": 1,
            "mirror": true,
            "showgrid": false,
            "showline": true,
            "ticklen": 5,
            "ticks": "outside",
            "ticksuffix": " ",
            "visible": true,
            "zeroline": false,
            "zerolinecolor": "#ccc",
            "zerolinewidth": 1
           },
           "zaxis": {
            "color": "black",
            "gridcolor": "#ccc",
            "gridwidth": 1,
            "linewidth": 1,
            "mirror": true,
            "showgrid": false,
            "showline": true,
            "ticklen": 5,
            "ticks": "outside",
            "ticksuffix": " ",
            "visible": true,
            "zeroline": false,
            "zerolinecolor": "#ccc",
            "zerolinewidth": 1
           }
          },
          "xaxis": {
           "color": "black",
           "gridcolor": "#ccc",
           "gridwidth": 1,
           "linewidth": 1,
           "mirror": true,
           "showgrid": false,
           "showline": true,
           "ticklen": 5,
           "ticks": "outside",
           "ticksuffix": " ",
           "visible": true,
           "zeroline": false,
           "zerolinecolor": "#ccc",
           "zerolinewidth": 1
          },
          "yaxis": {
           "color": "black",
           "gridcolor": "#ccc",
           "gridwidth": 1,
           "linewidth": 1,
           "mirror": true,
           "showgrid": false,
           "showline": true,
           "ticklen": 5,
           "ticks": "outside",
           "ticksuffix": " ",
           "visible": true,
           "zeroline": false,
           "zerolinecolor": "#ccc",
           "zerolinewidth": 1
          }
         }
        },
        "xaxis": {
         "constrain": "domain",
         "range": [
          -0.5,
          14.5
         ],
         "scaleanchor": "y",
         "scaleratio": 1
        },
        "yaxis": {
         "constrain": "domain",
         "range": [
          4.5,
          -0.5
         ]
        }
       }
      }
     },
     "metadata": {},
     "output_type": "display_data"
    }
   ],
   "source": [
    "plot.update_inputs(textfont={\"color\": \"blue\", \"family\": \"times\", \"size\": 15})"
   ]
  },
  {
   "cell_type": "markdown",
   "metadata": {},
   "source": [
    "If you want the text to go away, set the `text` input to `None`:"
   ]
  },
  {
   "cell_type": "code",
   "execution_count": 10,
   "metadata": {
    "execution": {
     "iopub.execute_input": "2025-08-14T08:06:01.785190Z",
     "iopub.status.busy": "2025-08-14T08:06:01.785024Z",
     "iopub.status.idle": "2025-08-14T08:06:01.869263Z",
     "shell.execute_reply": "2025-08-14T08:06:01.868633Z"
    }
   },
   "outputs": [
    {
     "name": "stderr",
     "output_type": "stream",
     "text": [
      "INFO\tTask(Task-2) nodify.node.140656810367008:node.py:get()- No need to evaluate\n"
     ]
    },
    {
     "name": "stderr",
     "output_type": "stream",
     "text": [
      "INFO\tTask(Task-2) nodify.node.140656814357152:node.py:get()- No need to evaluate\n"
     ]
    },
    {
     "name": "stderr",
     "output_type": "stream",
     "text": [
      "INFO\tTask(Task-2) nodify.node.140656810362016:node.py:get()- No need to evaluate\n"
     ]
    },
    {
     "name": "stderr",
     "output_type": "stream",
     "text": [
      "INFO\tTask(Task-2) nodify.node.140656810362112:node.py:get()- No need to evaluate\n"
     ]
    },
    {
     "name": "stderr",
     "output_type": "stream",
     "text": [
      "INFO\tTask(Task-2) nodify.node.140656810361248:node.py:get()- No need to evaluate\n"
     ]
    },
    {
     "name": "stderr",
     "output_type": "stream",
     "text": [
      "INFO\tTask(Task-2) nodify.node.140656810368784:node.py:get()- No need to evaluate\n"
     ]
    },
    {
     "name": "stderr",
     "output_type": "stream",
     "text": [
      "INFO\tTask(Task-2) nodify.node.140656810363936:node.py:get()- No need to evaluate\n"
     ]
    },
    {
     "name": "stderr",
     "output_type": "stream",
     "text": [
      "INFO\tTask(Task-2) nodify.node.140656810364320:node.py:get()- No need to evaluate\n"
     ]
    },
    {
     "name": "stderr",
     "output_type": "stream",
     "text": [
      "INFO\tTask(Task-2) nodify.node.140656814357152:node.py:get()- No need to evaluate\n"
     ]
    },
    {
     "name": "stderr",
     "output_type": "stream",
     "text": [
      "INFO\tTask(Task-2) nodify.node.140656810364704:node.py:get()- No need to evaluate\n"
     ]
    },
    {
     "name": "stderr",
     "output_type": "stream",
     "text": [
      "INFO\tTask(Task-2) nodify.node.140656810364320:node.py:get()- No need to evaluate\n"
     ]
    },
    {
     "name": "stderr",
     "output_type": "stream",
     "text": [
      "INFO\tTask(Task-2) nodify.node.140656810370032:node.py:get()- No need to evaluate\n"
     ]
    },
    {
     "name": "stderr",
     "output_type": "stream",
     "text": [
      "INFO\tTask(Task-2) nodify.node.140656810363552:node.py:get()- No need to evaluate\n"
     ]
    },
    {
     "name": "stderr",
     "output_type": "stream",
     "text": [
      "INFO\tTask(Task-2) nodify.node.140656810365088:node.py:get()- Evaluated because inputs changed.\n"
     ]
    },
    {
     "name": "stderr",
     "output_type": "stream",
     "text": [
      "INFO\tTask(Task-2) nodify.node.140656810365472:node.py:get()- No need to evaluate\n"
     ]
    },
    {
     "name": "stderr",
     "output_type": "stream",
     "text": [
      "INFO\tTask(Task-2) nodify.node.140656810369936:node.py:get()- Evaluated because inputs changed.\n"
     ]
    },
    {
     "name": "stderr",
     "output_type": "stream",
     "text": [
      "INFO\tTask(Task-2) nodify.node.140656814357152:node.py:get()- No need to evaluate\n"
     ]
    },
    {
     "name": "stderr",
     "output_type": "stream",
     "text": [
      "INFO\tTask(Task-2) nodify.node.140656810362016:node.py:get()- No need to evaluate\n"
     ]
    },
    {
     "name": "stderr",
     "output_type": "stream",
     "text": [
      "INFO\tTask(Task-2) nodify.node.140656810362112:node.py:get()- No need to evaluate\n"
     ]
    },
    {
     "name": "stderr",
     "output_type": "stream",
     "text": [
      "INFO\tTask(Task-2) nodify.node.140656810361248:node.py:get()- No need to evaluate\n"
     ]
    },
    {
     "name": "stderr",
     "output_type": "stream",
     "text": [
      "INFO\tTask(Task-2) nodify.node.140656810368784:node.py:get()- No need to evaluate\n"
     ]
    },
    {
     "name": "stderr",
     "output_type": "stream",
     "text": [
      "INFO\tTask(Task-2) nodify.node.140656810366624:node.py:get()- No need to evaluate\n"
     ]
    },
    {
     "name": "stderr",
     "output_type": "stream",
     "text": [
      "INFO\tTask(Task-2) nodify.node.140656810370704:node.py:get()- No need to evaluate\n"
     ]
    },
    {
     "name": "stderr",
     "output_type": "stream",
     "text": [
      "INFO\tTask(Task-2) nodify.node.140656810370080:node.py:get()- No need to evaluate\n"
     ]
    },
    {
     "name": "stderr",
     "output_type": "stream",
     "text": [
      "INFO\tTask(Task-2) nodify.node.140656810361392:node.py:get()- No need to evaluate\n"
     ]
    },
    {
     "name": "stderr",
     "output_type": "stream",
     "text": [
      "INFO\tTask(Task-2) nodify.node.140656814357152:node.py:get()- No need to evaluate\n"
     ]
    },
    {
     "name": "stderr",
     "output_type": "stream",
     "text": [
      "INFO\tTask(Task-2) nodify.node.140656810361536:node.py:get()- No need to evaluate\n"
     ]
    },
    {
     "name": "stderr",
     "output_type": "stream",
     "text": [
      "INFO\tTask(Task-2) nodify.node.140656810368304:node.py:get()- No need to evaluate\n"
     ]
    },
    {
     "name": "stderr",
     "output_type": "stream",
     "text": [
      "INFO\tTask(Task-2) nodify.node.140656814357152:node.py:get()- No need to evaluate\n"
     ]
    },
    {
     "name": "stderr",
     "output_type": "stream",
     "text": [
      "INFO\tTask(Task-2) nodify.node.140656810368880:node.py:get()- No need to evaluate\n"
     ]
    },
    {
     "name": "stderr",
     "output_type": "stream",
     "text": [
      "INFO\tTask(Task-2) nodify.node.140656810370752:node.py:get()- No need to evaluate\n"
     ]
    },
    {
     "name": "stderr",
     "output_type": "stream",
     "text": [
      "INFO\tTask(Task-2) nodify.node.140656810362592:node.py:get()- No need to evaluate\n"
     ]
    },
    {
     "name": "stderr",
     "output_type": "stream",
     "text": [
      "INFO\tTask(Task-2) nodify.node.140656814357152:node.py:get()- No need to evaluate\n"
     ]
    },
    {
     "name": "stderr",
     "output_type": "stream",
     "text": [
      "INFO\tTask(Task-2) nodify.node.140656810361536:node.py:get()- No need to evaluate\n"
     ]
    },
    {
     "name": "stderr",
     "output_type": "stream",
     "text": [
      "INFO\tTask(Task-2) nodify.node.140656810368304:node.py:get()- No need to evaluate\n"
     ]
    },
    {
     "name": "stderr",
     "output_type": "stream",
     "text": [
      "INFO\tTask(Task-2) nodify.node.140656814357152:node.py:get()- No need to evaluate\n"
     ]
    },
    {
     "name": "stderr",
     "output_type": "stream",
     "text": [
      "INFO\tTask(Task-2) nodify.node.140656810368880:node.py:get()- No need to evaluate\n"
     ]
    },
    {
     "name": "stderr",
     "output_type": "stream",
     "text": [
      "INFO\tTask(Task-2) nodify.node.140656810371424:node.py:get()- No need to evaluate\n"
     ]
    },
    {
     "name": "stderr",
     "output_type": "stream",
     "text": [
      "INFO\tTask(Task-2) nodify.node.140656810363120:node.py:get()- No need to evaluate\n"
     ]
    },
    {
     "name": "stderr",
     "output_type": "stream",
     "text": [
      "INFO\tTask(Task-2) nodify.node.140656814357152:node.py:get()- No need to evaluate\n"
     ]
    },
    {
     "name": "stderr",
     "output_type": "stream",
     "text": [
      "INFO\tTask(Task-2) nodify.node.140656810361536:node.py:get()- No need to evaluate\n"
     ]
    },
    {
     "name": "stderr",
     "output_type": "stream",
     "text": [
      "INFO\tTask(Task-2) nodify.node.140656810368304:node.py:get()- No need to evaluate\n"
     ]
    },
    {
     "name": "stderr",
     "output_type": "stream",
     "text": [
      "INFO\tTask(Task-2) nodify.node.140656814357152:node.py:get()- No need to evaluate\n"
     ]
    },
    {
     "name": "stderr",
     "output_type": "stream",
     "text": [
      "INFO\tTask(Task-2) nodify.node.140656810368880:node.py:get()- No need to evaluate\n"
     ]
    },
    {
     "name": "stderr",
     "output_type": "stream",
     "text": [
      "INFO\tTask(Task-2) nodify.node.140656810371760:node.py:get()- No need to evaluate\n"
     ]
    },
    {
     "name": "stderr",
     "output_type": "stream",
     "text": [
      "INFO\tTask(Task-2) nodify.node.140656814357152:node.py:get()- No need to evaluate\n"
     ]
    },
    {
     "name": "stderr",
     "output_type": "stream",
     "text": [
      "INFO\tTask(Task-2) nodify.node.140656810362016:node.py:get()- No need to evaluate\n"
     ]
    },
    {
     "name": "stderr",
     "output_type": "stream",
     "text": [
      "INFO\tTask(Task-2) nodify.node.140656810362112:node.py:get()- No need to evaluate\n"
     ]
    },
    {
     "name": "stderr",
     "output_type": "stream",
     "text": [
      "INFO\tTask(Task-2) nodify.node.140656810361248:node.py:get()- No need to evaluate\n"
     ]
    },
    {
     "name": "stderr",
     "output_type": "stream",
     "text": [
      "INFO\tTask(Task-2) nodify.node.140656810368784:node.py:get()- No need to evaluate\n"
     ]
    },
    {
     "name": "stderr",
     "output_type": "stream",
     "text": [
      "INFO\tTask(Task-2) nodify.node.140656814357152:node.py:get()- No need to evaluate\n"
     ]
    },
    {
     "name": "stderr",
     "output_type": "stream",
     "text": [
      "INFO\tTask(Task-2) nodify.node.140656810361536:node.py:get()- No need to evaluate\n"
     ]
    },
    {
     "name": "stderr",
     "output_type": "stream",
     "text": [
      "INFO\tTask(Task-2) nodify.node.140656810368304:node.py:get()- No need to evaluate\n"
     ]
    },
    {
     "name": "stderr",
     "output_type": "stream",
     "text": [
      "INFO\tTask(Task-2) nodify.node.140656814357152:node.py:get()- No need to evaluate\n"
     ]
    },
    {
     "name": "stderr",
     "output_type": "stream",
     "text": [
      "INFO\tTask(Task-2) nodify.node.140656810368880:node.py:get()- No need to evaluate\n"
     ]
    },
    {
     "name": "stderr",
     "output_type": "stream",
     "text": [
      "INFO\tTask(Task-2) nodify.node.140656810366240:node.py:get()- No need to evaluate\n"
     ]
    },
    {
     "name": "stderr",
     "output_type": "stream",
     "text": [
      "INFO\tTask(Task-2) nodify.node.140656810365856:node.py:get()- No need to evaluate\n"
     ]
    },
    {
     "name": "stderr",
     "output_type": "stream",
     "text": [
      "INFO\tTask(Task-2) nodify.node.140656810368592:node.py:get()- No need to evaluate\n"
     ]
    },
    {
     "name": "stderr",
     "output_type": "stream",
     "text": [
      "INFO\tTask(Task-2) nodify.node.140656810369024:node.py:get()- Evaluated because inputs changed.\n"
     ]
    },
    {
     "name": "stderr",
     "output_type": "stream",
     "text": [
      "INFO\tTask(Task-2) nodify.node.140656810372240:node.py:get()- Evaluated because inputs changed.\n"
     ]
    },
    {
     "name": "stderr",
     "output_type": "stream",
     "text": [
      "INFO\tTask(Task-2) nodify.node.140656810372720:node.py:get()- Evaluated because inputs changed.\n"
     ]
    },
    {
     "data": {
      "application/vnd.plotly.v1+json": {
       "config": {
        "plotlyServerURL": "https://plot.ly"
       },
       "data": [
        {
         "coloraxis": "coloraxis",
         "meta": {},
         "opacity": 1,
         "textfont": {
          "color": "blue",
          "family": "times",
          "size": 15
         },
         "type": "heatmap",
         "z": {
          "bdata": "hPjVt1v77z8d8lZMHyDkP9jICR3gdd8/0Cq88WAXwj8idcFelZnYPwAAAAAAAPh/AAAAAAAA+H8AAAAAAAD4fwAAAAAAAPh/7Td+MSRJpb8AAAAAAAD4fwAAAAAAAPh/AAAAAAAA+H8AAAAAAAD4fwAAAAAAAPh/HfJWTB8g5D96CSwuUDLuP8B7GcphXLS/7h30oo0E1b+glpMPy1jEvwAAAAAAAPh/AAAAAAAA+H8AAAAAAAD4fwAAAAAAAPh/GuNOeUPKir8AAAAAAAD4fwAAAAAAAPh/AAAAAAAA+H8AAAAAAAD4fwAAAAAAAPh/2MgJHeB13z/AexnKYVy0v1IiYxT1du8/cG5BjDIJpz8U8ISPJLzFvwAAAAAAAPh/AAAAAAAA+H8AAAAAAAD4fwAAAAAAAPh/CD0Jo6ngwD8AAAAAAAD4fwAAAAAAAPh/AAAAAAAA+H8AAAAAAAD4fwAAAAAAAPh/0Cq88WAXwj/uHfSijQTVv3BuQYwyCac/AI5GA+6Pf79l27r0GQTrPwAAAAAAAPh/AAAAAAAA+H8AAAAAAAD4fwAAAAAAAPh/c/1TXF0rrb8AAAAAAAD4fwAAAAAAAPh/AAAAAAAA+H8AAAAAAAD4fwAAAAAAAPh/InXBXpWZ2D+glpMPy1jEvxTwhI8kvMW/Zdu69BkE6z8kNemXVF/evwAAAAAAAPh/AAAAAAAA+H8AAAAAAAD4fwAAAAAAAPh/AAAAAAAA+H/tN34xJEmlvxrjTnlDyoq/CD0Jo6ngwD9z/VNcXSutvwAAAAAAAPh/",
          "dtype": "f8",
          "shape": "5, 15"
         },
         "zsmooth": false
        }
       ],
       "layout": {
        "coloraxis": {
         "cmid": 0,
         "colorscale": [
          [
           0.0,
           "rgb(0, 147, 146)"
          ],
          [
           0.16666666666666666,
           "rgb(57, 177, 133)"
          ],
          [
           0.3333333333333333,
           "rgb(156, 203, 134)"
          ],
          [
           0.5,
           "rgb(233, 226, 156)"
          ],
          [
           0.6666666666666666,
           "rgb(238, 180, 121)"
          ],
          [
           0.8333333333333334,
           "rgb(232, 132, 113)"
          ],
          [
           1.0,
           "rgb(207, 89, 126)"
          ]
         ],
         "showscale": true
        },
        "scene": {
         "aspectmode": "data",
         "xaxis": {
          "range": [
           -0.5,
           14.5
          ]
         },
         "yaxis": {
          "range": [
           4.5,
           -0.5
          ]
         }
        },
        "template": {
         "layout": {
          "hovermode": "closest",
          "paper_bgcolor": "white",
          "plot_bgcolor": "white",
          "scene": {
           "xaxis": {
            "color": "black",
            "gridcolor": "#ccc",
            "gridwidth": 1,
            "linewidth": 1,
            "mirror": true,
            "showgrid": false,
            "showline": true,
            "ticklen": 5,
            "ticks": "outside",
            "ticksuffix": " ",
            "visible": true,
            "zeroline": false,
            "zerolinecolor": "#ccc",
            "zerolinewidth": 1
           },
           "yaxis": {
            "color": "black",
            "gridcolor": "#ccc",
            "gridwidth": 1,
            "linewidth": 1,
            "mirror": true,
            "showgrid": false,
            "showline": true,
            "ticklen": 5,
            "ticks": "outside",
            "ticksuffix": " ",
            "visible": true,
            "zeroline": false,
            "zerolinecolor": "#ccc",
            "zerolinewidth": 1
           },
           "zaxis": {
            "color": "black",
            "gridcolor": "#ccc",
            "gridwidth": 1,
            "linewidth": 1,
            "mirror": true,
            "showgrid": false,
            "showline": true,
            "ticklen": 5,
            "ticks": "outside",
            "ticksuffix": " ",
            "visible": true,
            "zeroline": false,
            "zerolinecolor": "#ccc",
            "zerolinewidth": 1
           }
          },
          "xaxis": {
           "color": "black",
           "gridcolor": "#ccc",
           "gridwidth": 1,
           "linewidth": 1,
           "mirror": true,
           "showgrid": false,
           "showline": true,
           "ticklen": 5,
           "ticks": "outside",
           "ticksuffix": " ",
           "visible": true,
           "zeroline": false,
           "zerolinecolor": "#ccc",
           "zerolinewidth": 1
          },
          "yaxis": {
           "color": "black",
           "gridcolor": "#ccc",
           "gridwidth": 1,
           "linewidth": 1,
           "mirror": true,
           "showgrid": false,
           "showline": true,
           "ticklen": 5,
           "ticks": "outside",
           "ticksuffix": " ",
           "visible": true,
           "zeroline": false,
           "zerolinecolor": "#ccc",
           "zerolinewidth": 1
          }
         }
        },
        "xaxis": {
         "constrain": "domain",
         "range": [
          -0.5,
          14.5
         ],
         "scaleanchor": "y",
         "scaleratio": 1
        },
        "yaxis": {
         "constrain": "domain",
         "range": [
          4.5,
          -0.5
         ]
        }
       }
      }
     },
     "metadata": {},
     "output_type": "display_data"
    }
   ],
   "source": [
    "plot.update_inputs(text=None)"
   ]
  },
  {
   "cell_type": "code",
   "execution_count": 11,
   "metadata": {
    "execution": {
     "iopub.execute_input": "2025-08-14T08:06:01.870967Z",
     "iopub.status.busy": "2025-08-14T08:06:01.870768Z",
     "iopub.status.idle": "2025-08-14T08:06:01.873757Z",
     "shell.execute_reply": "2025-08-14T08:06:01.873147Z"
    }
   },
   "outputs": [],
   "source": [
    "plot = plot.update_inputs(textfont={}, text=\".2f\")"
   ]
  },
  {
   "cell_type": "markdown",
   "metadata": {},
   "source": [
    "## Separators\n",
    "\n",
    "Sparse atomic matrices may be hard to interpret because it's hard to know by eye to which atoms/orbitals an element belongs.\n",
    "\n",
    "Separators come to the rescue by providing a guide for your eye to quickly pinpoint what each element is. There are three types of separators:\n",
    "\n",
    "- `sc_lines`: Draw lines separating the **different cells of the auxiliary supercell**.\n",
    "- `atom_lines`: Draw lines separating the blocks corresponding to **each atom-atom interaction**.\n",
    "- `orbital_lines`: Within each atom, draw lines that **isolate the interactions between two sets of orbitals**. E.g. a set of 3 `p` orbitals from one atom and an `s` orbital from another atom.\n",
    "\n",
    "They all can be activated (deactivated) by setting the corresponding input to `True` (`False`)."
   ]
  },
  {
   "cell_type": "code",
   "execution_count": 12,
   "metadata": {
    "execution": {
     "iopub.execute_input": "2025-08-14T08:06:01.875340Z",
     "iopub.status.busy": "2025-08-14T08:06:01.875135Z",
     "iopub.status.idle": "2025-08-14T08:06:01.963612Z",
     "shell.execute_reply": "2025-08-14T08:06:01.963121Z"
    }
   },
   "outputs": [
    {
     "name": "stderr",
     "output_type": "stream",
     "text": [
      "INFO\tTask(Task-2) nodify.node.140656810367008:node.py:get()- No need to evaluate\n"
     ]
    },
    {
     "name": "stderr",
     "output_type": "stream",
     "text": [
      "INFO\tTask(Task-2) nodify.node.140656814357152:node.py:get()- No need to evaluate\n"
     ]
    },
    {
     "name": "stderr",
     "output_type": "stream",
     "text": [
      "INFO\tTask(Task-2) nodify.node.140656810362016:node.py:get()- No need to evaluate\n"
     ]
    },
    {
     "name": "stderr",
     "output_type": "stream",
     "text": [
      "INFO\tTask(Task-2) nodify.node.140656810362112:node.py:get()- No need to evaluate\n"
     ]
    },
    {
     "name": "stderr",
     "output_type": "stream",
     "text": [
      "INFO\tTask(Task-2) nodify.node.140656810361248:node.py:get()- No need to evaluate\n"
     ]
    },
    {
     "name": "stderr",
     "output_type": "stream",
     "text": [
      "INFO\tTask(Task-2) nodify.node.140656810368784:node.py:get()- No need to evaluate\n"
     ]
    },
    {
     "name": "stderr",
     "output_type": "stream",
     "text": [
      "INFO\tTask(Task-2) nodify.node.140656810363936:node.py:get()- No need to evaluate\n"
     ]
    },
    {
     "name": "stderr",
     "output_type": "stream",
     "text": [
      "INFO\tTask(Task-2) nodify.node.140656810364320:node.py:get()- No need to evaluate\n"
     ]
    },
    {
     "name": "stderr",
     "output_type": "stream",
     "text": [
      "INFO\tTask(Task-2) nodify.node.140656814357152:node.py:get()- No need to evaluate\n"
     ]
    },
    {
     "name": "stderr",
     "output_type": "stream",
     "text": [
      "INFO\tTask(Task-2) nodify.node.140656810364704:node.py:get()- No need to evaluate\n"
     ]
    },
    {
     "name": "stderr",
     "output_type": "stream",
     "text": [
      "INFO\tTask(Task-2) nodify.node.140656810364320:node.py:get()- No need to evaluate\n"
     ]
    },
    {
     "name": "stderr",
     "output_type": "stream",
     "text": [
      "INFO\tTask(Task-2) nodify.node.140656810370032:node.py:get()- No need to evaluate\n"
     ]
    },
    {
     "name": "stderr",
     "output_type": "stream",
     "text": [
      "INFO\tTask(Task-2) nodify.node.140656810363552:node.py:get()- No need to evaluate\n"
     ]
    },
    {
     "name": "stderr",
     "output_type": "stream",
     "text": [
      "INFO\tTask(Task-2) nodify.node.140656810365088:node.py:get()- Evaluated because inputs changed.\n"
     ]
    },
    {
     "name": "stderr",
     "output_type": "stream",
     "text": [
      "INFO\tTask(Task-2) nodify.node.140656810365472:node.py:get()- Evaluated because inputs changed.\n"
     ]
    },
    {
     "name": "stderr",
     "output_type": "stream",
     "text": [
      "INFO\tTask(Task-2) nodify.node.140656810369936:node.py:get()- Evaluated because inputs changed.\n"
     ]
    },
    {
     "name": "stderr",
     "output_type": "stream",
     "text": [
      "INFO\tTask(Task-2) nodify.node.140656814357152:node.py:get()- No need to evaluate\n"
     ]
    },
    {
     "name": "stderr",
     "output_type": "stream",
     "text": [
      "INFO\tTask(Task-2) nodify.node.140656810362016:node.py:get()- No need to evaluate\n"
     ]
    },
    {
     "name": "stderr",
     "output_type": "stream",
     "text": [
      "INFO\tTask(Task-2) nodify.node.140656810362112:node.py:get()- No need to evaluate\n"
     ]
    },
    {
     "name": "stderr",
     "output_type": "stream",
     "text": [
      "INFO\tTask(Task-2) nodify.node.140656810361248:node.py:get()- No need to evaluate\n"
     ]
    },
    {
     "name": "stderr",
     "output_type": "stream",
     "text": [
      "INFO\tTask(Task-2) nodify.node.140656810368784:node.py:get()- No need to evaluate\n"
     ]
    },
    {
     "name": "stderr",
     "output_type": "stream",
     "text": [
      "INFO\tTask(Task-2) nodify.node.140656810366624:node.py:get()- No need to evaluate\n"
     ]
    },
    {
     "name": "stderr",
     "output_type": "stream",
     "text": [
      "INFO\tTask(Task-2) nodify.node.140656810370704:node.py:get()- No need to evaluate\n"
     ]
    },
    {
     "name": "stderr",
     "output_type": "stream",
     "text": [
      "INFO\tTask(Task-2) nodify.node.140656810370080:node.py:get()- No need to evaluate\n"
     ]
    },
    {
     "name": "stderr",
     "output_type": "stream",
     "text": [
      "INFO\tTask(Task-2) nodify.node.140656810361392:node.py:get()- Evaluated because inputs changed.\n"
     ]
    },
    {
     "name": "stderr",
     "output_type": "stream",
     "text": [
      "INFO\tTask(Task-2) nodify.node.140656814357152:node.py:get()- No need to evaluate\n"
     ]
    },
    {
     "name": "stderr",
     "output_type": "stream",
     "text": [
      "INFO\tTask(Task-2) nodify.node.140656810361536:node.py:get()- No need to evaluate\n"
     ]
    },
    {
     "name": "stderr",
     "output_type": "stream",
     "text": [
      "INFO\tTask(Task-2) nodify.node.140656810368304:node.py:get()- No need to evaluate\n"
     ]
    },
    {
     "name": "stderr",
     "output_type": "stream",
     "text": [
      "INFO\tTask(Task-2) nodify.node.140656814357152:node.py:get()- No need to evaluate\n"
     ]
    },
    {
     "name": "stderr",
     "output_type": "stream",
     "text": [
      "INFO\tTask(Task-2) nodify.node.140656810368880:node.py:get()- No need to evaluate\n"
     ]
    },
    {
     "name": "stderr",
     "output_type": "stream",
     "text": [
      "INFO\tTask(Task-2) nodify.node.140656810370752:node.py:get()- Evaluated because inputs changed.\n"
     ]
    },
    {
     "name": "stderr",
     "output_type": "stream",
     "text": [
      "INFO\tTask(Task-2) nodify.node.140656810362592:node.py:get()- Evaluated because inputs changed.\n"
     ]
    },
    {
     "name": "stderr",
     "output_type": "stream",
     "text": [
      "INFO\tTask(Task-2) nodify.node.140656814357152:node.py:get()- No need to evaluate\n"
     ]
    },
    {
     "name": "stderr",
     "output_type": "stream",
     "text": [
      "INFO\tTask(Task-2) nodify.node.140656810361536:node.py:get()- No need to evaluate\n"
     ]
    },
    {
     "name": "stderr",
     "output_type": "stream",
     "text": [
      "INFO\tTask(Task-2) nodify.node.140656810368304:node.py:get()- No need to evaluate\n"
     ]
    },
    {
     "name": "stderr",
     "output_type": "stream",
     "text": [
      "INFO\tTask(Task-2) nodify.node.140656814357152:node.py:get()- No need to evaluate\n"
     ]
    },
    {
     "name": "stderr",
     "output_type": "stream",
     "text": [
      "INFO\tTask(Task-2) nodify.node.140656810368880:node.py:get()- No need to evaluate\n"
     ]
    },
    {
     "name": "stderr",
     "output_type": "stream",
     "text": [
      "INFO\tTask(Task-2) nodify.node.140656810371424:node.py:get()- Evaluated because inputs changed.\n"
     ]
    },
    {
     "name": "stderr",
     "output_type": "stream",
     "text": [
      "INFO\tTask(Task-2) nodify.node.140656810363120:node.py:get()- Evaluated because inputs changed.\n"
     ]
    },
    {
     "name": "stderr",
     "output_type": "stream",
     "text": [
      "INFO\tTask(Task-2) nodify.node.140656814357152:node.py:get()- No need to evaluate\n"
     ]
    },
    {
     "name": "stderr",
     "output_type": "stream",
     "text": [
      "INFO\tTask(Task-2) nodify.node.140656810361536:node.py:get()- No need to evaluate\n"
     ]
    },
    {
     "name": "stderr",
     "output_type": "stream",
     "text": [
      "INFO\tTask(Task-2) nodify.node.140656810368304:node.py:get()- No need to evaluate\n"
     ]
    },
    {
     "name": "stderr",
     "output_type": "stream",
     "text": [
      "INFO\tTask(Task-2) nodify.node.140656814357152:node.py:get()- No need to evaluate\n"
     ]
    },
    {
     "name": "stderr",
     "output_type": "stream",
     "text": [
      "INFO\tTask(Task-2) nodify.node.140656810368880:node.py:get()- No need to evaluate\n"
     ]
    },
    {
     "name": "stderr",
     "output_type": "stream",
     "text": [
      "INFO\tTask(Task-2) nodify.node.140656810371760:node.py:get()- Evaluated because inputs changed.\n"
     ]
    },
    {
     "name": "stderr",
     "output_type": "stream",
     "text": [
      "INFO\tTask(Task-2) nodify.node.140656814357152:node.py:get()- No need to evaluate\n"
     ]
    },
    {
     "name": "stderr",
     "output_type": "stream",
     "text": [
      "INFO\tTask(Task-2) nodify.node.140656810362016:node.py:get()- No need to evaluate\n"
     ]
    },
    {
     "name": "stderr",
     "output_type": "stream",
     "text": [
      "INFO\tTask(Task-2) nodify.node.140656810362112:node.py:get()- No need to evaluate\n"
     ]
    },
    {
     "name": "stderr",
     "output_type": "stream",
     "text": [
      "INFO\tTask(Task-2) nodify.node.140656810361248:node.py:get()- No need to evaluate\n"
     ]
    },
    {
     "name": "stderr",
     "output_type": "stream",
     "text": [
      "INFO\tTask(Task-2) nodify.node.140656810368784:node.py:get()- No need to evaluate\n"
     ]
    },
    {
     "name": "stderr",
     "output_type": "stream",
     "text": [
      "INFO\tTask(Task-2) nodify.node.140656814357152:node.py:get()- No need to evaluate\n"
     ]
    },
    {
     "name": "stderr",
     "output_type": "stream",
     "text": [
      "INFO\tTask(Task-2) nodify.node.140656810361536:node.py:get()- No need to evaluate\n"
     ]
    },
    {
     "name": "stderr",
     "output_type": "stream",
     "text": [
      "INFO\tTask(Task-2) nodify.node.140656810368304:node.py:get()- No need to evaluate\n"
     ]
    },
    {
     "name": "stderr",
     "output_type": "stream",
     "text": [
      "INFO\tTask(Task-2) nodify.node.140656814357152:node.py:get()- No need to evaluate\n"
     ]
    },
    {
     "name": "stderr",
     "output_type": "stream",
     "text": [
      "INFO\tTask(Task-2) nodify.node.140656810368880:node.py:get()- No need to evaluate\n"
     ]
    },
    {
     "name": "stderr",
     "output_type": "stream",
     "text": [
      "INFO\tTask(Task-2) nodify.node.140656810366240:node.py:get()- No need to evaluate\n"
     ]
    },
    {
     "name": "stderr",
     "output_type": "stream",
     "text": [
      "INFO\tTask(Task-2) nodify.node.140656810365856:node.py:get()- No need to evaluate\n"
     ]
    },
    {
     "name": "stderr",
     "output_type": "stream",
     "text": [
      "INFO\tTask(Task-2) nodify.node.140656810368592:node.py:get()- No need to evaluate\n"
     ]
    },
    {
     "name": "stderr",
     "output_type": "stream",
     "text": [
      "INFO\tTask(Task-2) nodify.node.140656810369024:node.py:get()- Evaluated because inputs changed.\n"
     ]
    },
    {
     "name": "stderr",
     "output_type": "stream",
     "text": [
      "INFO\tTask(Task-2) nodify.node.140656810372240:node.py:get()- Evaluated because inputs changed.\n"
     ]
    },
    {
     "name": "stderr",
     "output_type": "stream",
     "text": [
      "INFO\tTask(Task-2) nodify.node.140656810372720:node.py:get()- Evaluated because inputs changed.\n"
     ]
    },
    {
     "data": {
      "application/vnd.plotly.v1+json": {
       "config": {
        "plotlyServerURL": "https://plot.ly"
       },
       "data": [
        {
         "coloraxis": "coloraxis",
         "meta": {},
         "opacity": 1,
         "texttemplate": "%{z:.2f}",
         "type": "heatmap",
         "z": {
          "bdata": "hPjVt1v77z8d8lZMHyDkP9jICR3gdd8/0Cq88WAXwj8idcFelZnYPwAAAAAAAPh/AAAAAAAA+H8AAAAAAAD4fwAAAAAAAPh/7Td+MSRJpb8AAAAAAAD4fwAAAAAAAPh/AAAAAAAA+H8AAAAAAAD4fwAAAAAAAPh/HfJWTB8g5D96CSwuUDLuP8B7GcphXLS/7h30oo0E1b+glpMPy1jEvwAAAAAAAPh/AAAAAAAA+H8AAAAAAAD4fwAAAAAAAPh/GuNOeUPKir8AAAAAAAD4fwAAAAAAAPh/AAAAAAAA+H8AAAAAAAD4fwAAAAAAAPh/2MgJHeB13z/AexnKYVy0v1IiYxT1du8/cG5BjDIJpz8U8ISPJLzFvwAAAAAAAPh/AAAAAAAA+H8AAAAAAAD4fwAAAAAAAPh/CD0Jo6ngwD8AAAAAAAD4fwAAAAAAAPh/AAAAAAAA+H8AAAAAAAD4fwAAAAAAAPh/0Cq88WAXwj/uHfSijQTVv3BuQYwyCac/AI5GA+6Pf79l27r0GQTrPwAAAAAAAPh/AAAAAAAA+H8AAAAAAAD4fwAAAAAAAPh/c/1TXF0rrb8AAAAAAAD4fwAAAAAAAPh/AAAAAAAA+H8AAAAAAAD4fwAAAAAAAPh/InXBXpWZ2D+glpMPy1jEvxTwhI8kvMW/Zdu69BkE6z8kNemXVF/evwAAAAAAAPh/AAAAAAAA+H8AAAAAAAD4fwAAAAAAAPh/AAAAAAAA+H/tN34xJEmlvxrjTnlDyoq/CD0Jo6ngwD9z/VNcXSutvwAAAAAAAPh/",
          "dtype": "f8",
          "shape": "5, 15"
         },
         "zsmooth": false
        },
        {
         "line": {
          "color": "black",
          "dash": "dot"
         },
         "meta": {},
         "mode": "lines",
         "name": "orbitals separators",
         "opacity": 1,
         "showlegend": false,
         "type": "scatter",
         "x": {
          "bdata": "AAAAAAAA4L8AAAAAAAASQAAAAAAAAPh/AAAAAAAA4D8AAAAAAADgPwAAAAAAAPh/",
          "dtype": "f8"
         },
         "y": {
          "bdata": "AAAAAAAA4D8AAAAAAADgPwAAAAAAAPh/AAAAAAAA4L8AAAAAAAASQAAAAAAAAPh/",
          "dtype": "f8"
         }
        },
        {
         "line": {
          "color": "orange"
         },
         "meta": {},
         "mode": "lines",
         "name": "atoms separators",
         "opacity": 1,
         "showlegend": false,
         "type": "scatter",
         "x": {
          "bdata": "AAAAAAAA4L8AAAAAAAASQAAAAAAAAPh/AAAAAAAADEAAAAAAAAAMQAAAAAAAAPh/",
          "dtype": "f8"
         },
         "y": {
          "bdata": "AAAAAAAADEAAAAAAAAAMQAAAAAAAAPh/AAAAAAAA4L8AAAAAAAASQAAAAAAAAPh/",
          "dtype": "f8"
         }
        }
       ],
       "layout": {
        "coloraxis": {
         "cmid": 0,
         "colorscale": [
          [
           0.0,
           "rgb(0, 147, 146)"
          ],
          [
           0.16666666666666666,
           "rgb(57, 177, 133)"
          ],
          [
           0.3333333333333333,
           "rgb(156, 203, 134)"
          ],
          [
           0.5,
           "rgb(233, 226, 156)"
          ],
          [
           0.6666666666666666,
           "rgb(238, 180, 121)"
          ],
          [
           0.8333333333333334,
           "rgb(232, 132, 113)"
          ],
          [
           1.0,
           "rgb(207, 89, 126)"
          ]
         ],
         "showscale": true
        },
        "scene": {
         "aspectmode": "data",
         "xaxis": {
          "range": [
           -0.5,
           14.5
          ]
         },
         "yaxis": {
          "range": [
           4.5,
           -0.5
          ]
         }
        },
        "template": {
         "layout": {
          "hovermode": "closest",
          "paper_bgcolor": "white",
          "plot_bgcolor": "white",
          "scene": {
           "xaxis": {
            "color": "black",
            "gridcolor": "#ccc",
            "gridwidth": 1,
            "linewidth": 1,
            "mirror": true,
            "showgrid": false,
            "showline": true,
            "ticklen": 5,
            "ticks": "outside",
            "ticksuffix": " ",
            "visible": true,
            "zeroline": false,
            "zerolinecolor": "#ccc",
            "zerolinewidth": 1
           },
           "yaxis": {
            "color": "black",
            "gridcolor": "#ccc",
            "gridwidth": 1,
            "linewidth": 1,
            "mirror": true,
            "showgrid": false,
            "showline": true,
            "ticklen": 5,
            "ticks": "outside",
            "ticksuffix": " ",
            "visible": true,
            "zeroline": false,
            "zerolinecolor": "#ccc",
            "zerolinewidth": 1
           },
           "zaxis": {
            "color": "black",
            "gridcolor": "#ccc",
            "gridwidth": 1,
            "linewidth": 1,
            "mirror": true,
            "showgrid": false,
            "showline": true,
            "ticklen": 5,
            "ticks": "outside",
            "ticksuffix": " ",
            "visible": true,
            "zeroline": false,
            "zerolinecolor": "#ccc",
            "zerolinewidth": 1
           }
          },
          "xaxis": {
           "color": "black",
           "gridcolor": "#ccc",
           "gridwidth": 1,
           "linewidth": 1,
           "mirror": true,
           "showgrid": false,
           "showline": true,
           "ticklen": 5,
           "ticks": "outside",
           "ticksuffix": " ",
           "visible": true,
           "zeroline": false,
           "zerolinecolor": "#ccc",
           "zerolinewidth": 1
          },
          "yaxis": {
           "color": "black",
           "gridcolor": "#ccc",
           "gridwidth": 1,
           "linewidth": 1,
           "mirror": true,
           "showgrid": false,
           "showline": true,
           "ticklen": 5,
           "ticks": "outside",
           "ticksuffix": " ",
           "visible": true,
           "zeroline": false,
           "zerolinecolor": "#ccc",
           "zerolinewidth": 1
          }
         }
        },
        "xaxis": {
         "constrain": "domain",
         "range": [
          -0.5,
          14.5
         ],
         "scaleanchor": "y",
         "scaleratio": 1
        },
        "yaxis": {
         "constrain": "domain",
         "range": [
          4.5,
          -0.5
         ]
        }
       }
      }
     },
     "metadata": {},
     "output_type": "display_data"
    }
   ],
   "source": [
    "plot.update_inputs(\n",
    "    sc_lines=True,\n",
    "    atom_lines=True,\n",
    "    orbital_lines=True,\n",
    ")"
   ]
  },
  {
   "cell_type": "markdown",
   "metadata": {},
   "source": [
    "Sometimes, the **default styles for the lines might not suit your visualization**. For example, they might not play well with your chosen colorscale. In that case, you can **pass a dictionary of line styles** to the inputs."
   ]
  },
  {
   "cell_type": "code",
   "execution_count": 13,
   "metadata": {
    "execution": {
     "iopub.execute_input": "2025-08-14T08:06:01.965259Z",
     "iopub.status.busy": "2025-08-14T08:06:01.965068Z",
     "iopub.status.idle": "2025-08-14T08:06:02.055017Z",
     "shell.execute_reply": "2025-08-14T08:06:02.054422Z"
    }
   },
   "outputs": [
    {
     "name": "stderr",
     "output_type": "stream",
     "text": [
      "INFO\tTask(Task-2) nodify.node.140656810367008:node.py:get()- No need to evaluate\n"
     ]
    },
    {
     "name": "stderr",
     "output_type": "stream",
     "text": [
      "INFO\tTask(Task-2) nodify.node.140656814357152:node.py:get()- No need to evaluate\n"
     ]
    },
    {
     "name": "stderr",
     "output_type": "stream",
     "text": [
      "INFO\tTask(Task-2) nodify.node.140656810362016:node.py:get()- No need to evaluate\n"
     ]
    },
    {
     "name": "stderr",
     "output_type": "stream",
     "text": [
      "INFO\tTask(Task-2) nodify.node.140656810362112:node.py:get()- No need to evaluate\n"
     ]
    },
    {
     "name": "stderr",
     "output_type": "stream",
     "text": [
      "INFO\tTask(Task-2) nodify.node.140656810361248:node.py:get()- No need to evaluate\n"
     ]
    },
    {
     "name": "stderr",
     "output_type": "stream",
     "text": [
      "INFO\tTask(Task-2) nodify.node.140656810368784:node.py:get()- No need to evaluate\n"
     ]
    },
    {
     "name": "stderr",
     "output_type": "stream",
     "text": [
      "INFO\tTask(Task-2) nodify.node.140656810363936:node.py:get()- No need to evaluate\n"
     ]
    },
    {
     "name": "stderr",
     "output_type": "stream",
     "text": [
      "INFO\tTask(Task-2) nodify.node.140656810364320:node.py:get()- No need to evaluate\n"
     ]
    },
    {
     "name": "stderr",
     "output_type": "stream",
     "text": [
      "INFO\tTask(Task-2) nodify.node.140656814357152:node.py:get()- No need to evaluate\n"
     ]
    },
    {
     "name": "stderr",
     "output_type": "stream",
     "text": [
      "INFO\tTask(Task-2) nodify.node.140656810364704:node.py:get()- No need to evaluate\n"
     ]
    },
    {
     "name": "stderr",
     "output_type": "stream",
     "text": [
      "INFO\tTask(Task-2) nodify.node.140656810364320:node.py:get()- No need to evaluate\n"
     ]
    },
    {
     "name": "stderr",
     "output_type": "stream",
     "text": [
      "INFO\tTask(Task-2) nodify.node.140656810370032:node.py:get()- No need to evaluate\n"
     ]
    },
    {
     "name": "stderr",
     "output_type": "stream",
     "text": [
      "INFO\tTask(Task-2) nodify.node.140656810363552:node.py:get()- No need to evaluate\n"
     ]
    },
    {
     "name": "stderr",
     "output_type": "stream",
     "text": [
      "INFO\tTask(Task-2) nodify.node.140656810365088:node.py:get()- No need to evaluate\n"
     ]
    },
    {
     "name": "stderr",
     "output_type": "stream",
     "text": [
      "INFO\tTask(Task-2) nodify.node.140656810365472:node.py:get()- No need to evaluate\n"
     ]
    },
    {
     "name": "stderr",
     "output_type": "stream",
     "text": [
      "INFO\tTask(Task-2) nodify.node.140656810369936:node.py:get()- No need to evaluate\n"
     ]
    },
    {
     "name": "stderr",
     "output_type": "stream",
     "text": [
      "INFO\tTask(Task-2) nodify.node.140656814357152:node.py:get()- No need to evaluate\n"
     ]
    },
    {
     "name": "stderr",
     "output_type": "stream",
     "text": [
      "INFO\tTask(Task-2) nodify.node.140656810362016:node.py:get()- No need to evaluate\n"
     ]
    },
    {
     "name": "stderr",
     "output_type": "stream",
     "text": [
      "INFO\tTask(Task-2) nodify.node.140656810362112:node.py:get()- No need to evaluate\n"
     ]
    },
    {
     "name": "stderr",
     "output_type": "stream",
     "text": [
      "INFO\tTask(Task-2) nodify.node.140656810361248:node.py:get()- No need to evaluate\n"
     ]
    },
    {
     "name": "stderr",
     "output_type": "stream",
     "text": [
      "INFO\tTask(Task-2) nodify.node.140656810368784:node.py:get()- No need to evaluate\n"
     ]
    },
    {
     "name": "stderr",
     "output_type": "stream",
     "text": [
      "INFO\tTask(Task-2) nodify.node.140656810366624:node.py:get()- No need to evaluate\n"
     ]
    },
    {
     "name": "stderr",
     "output_type": "stream",
     "text": [
      "INFO\tTask(Task-2) nodify.node.140656810370704:node.py:get()- No need to evaluate\n"
     ]
    },
    {
     "name": "stderr",
     "output_type": "stream",
     "text": [
      "INFO\tTask(Task-2) nodify.node.140656810370080:node.py:get()- No need to evaluate\n"
     ]
    },
    {
     "name": "stderr",
     "output_type": "stream",
     "text": [
      "INFO\tTask(Task-2) nodify.node.140656810361392:node.py:get()- Evaluated because inputs changed.\n"
     ]
    },
    {
     "name": "stderr",
     "output_type": "stream",
     "text": [
      "INFO\tTask(Task-2) nodify.node.140656814357152:node.py:get()- No need to evaluate\n"
     ]
    },
    {
     "name": "stderr",
     "output_type": "stream",
     "text": [
      "INFO\tTask(Task-2) nodify.node.140656810361536:node.py:get()- No need to evaluate\n"
     ]
    },
    {
     "name": "stderr",
     "output_type": "stream",
     "text": [
      "INFO\tTask(Task-2) nodify.node.140656810368304:node.py:get()- No need to evaluate\n"
     ]
    },
    {
     "name": "stderr",
     "output_type": "stream",
     "text": [
      "INFO\tTask(Task-2) nodify.node.140656814357152:node.py:get()- No need to evaluate\n"
     ]
    },
    {
     "name": "stderr",
     "output_type": "stream",
     "text": [
      "INFO\tTask(Task-2) nodify.node.140656810368880:node.py:get()- No need to evaluate\n"
     ]
    },
    {
     "name": "stderr",
     "output_type": "stream",
     "text": [
      "INFO\tTask(Task-2) nodify.node.140656810370752:node.py:get()- Evaluated because inputs changed.\n"
     ]
    },
    {
     "name": "stderr",
     "output_type": "stream",
     "text": [
      "INFO\tTask(Task-2) nodify.node.140656810362592:node.py:get()- Evaluated because inputs changed.\n"
     ]
    },
    {
     "name": "stderr",
     "output_type": "stream",
     "text": [
      "INFO\tTask(Task-2) nodify.node.140656814357152:node.py:get()- No need to evaluate\n"
     ]
    },
    {
     "name": "stderr",
     "output_type": "stream",
     "text": [
      "INFO\tTask(Task-2) nodify.node.140656810361536:node.py:get()- No need to evaluate\n"
     ]
    },
    {
     "name": "stderr",
     "output_type": "stream",
     "text": [
      "INFO\tTask(Task-2) nodify.node.140656810368304:node.py:get()- No need to evaluate\n"
     ]
    },
    {
     "name": "stderr",
     "output_type": "stream",
     "text": [
      "INFO\tTask(Task-2) nodify.node.140656814357152:node.py:get()- No need to evaluate\n"
     ]
    },
    {
     "name": "stderr",
     "output_type": "stream",
     "text": [
      "INFO\tTask(Task-2) nodify.node.140656810368880:node.py:get()- No need to evaluate\n"
     ]
    },
    {
     "name": "stderr",
     "output_type": "stream",
     "text": [
      "INFO\tTask(Task-2) nodify.node.140656810371424:node.py:get()- Evaluated because inputs changed.\n"
     ]
    },
    {
     "name": "stderr",
     "output_type": "stream",
     "text": [
      "INFO\tTask(Task-2) nodify.node.140656810363120:node.py:get()- Evaluated because inputs changed.\n"
     ]
    },
    {
     "name": "stderr",
     "output_type": "stream",
     "text": [
      "INFO\tTask(Task-2) nodify.node.140656814357152:node.py:get()- No need to evaluate\n"
     ]
    },
    {
     "name": "stderr",
     "output_type": "stream",
     "text": [
      "INFO\tTask(Task-2) nodify.node.140656810361536:node.py:get()- No need to evaluate\n"
     ]
    },
    {
     "name": "stderr",
     "output_type": "stream",
     "text": [
      "INFO\tTask(Task-2) nodify.node.140656810368304:node.py:get()- No need to evaluate\n"
     ]
    },
    {
     "name": "stderr",
     "output_type": "stream",
     "text": [
      "INFO\tTask(Task-2) nodify.node.140656814357152:node.py:get()- No need to evaluate\n"
     ]
    },
    {
     "name": "stderr",
     "output_type": "stream",
     "text": [
      "INFO\tTask(Task-2) nodify.node.140656810368880:node.py:get()- No need to evaluate\n"
     ]
    },
    {
     "name": "stderr",
     "output_type": "stream",
     "text": [
      "INFO\tTask(Task-2) nodify.node.140656810371760:node.py:get()- Evaluated because inputs changed.\n"
     ]
    },
    {
     "name": "stderr",
     "output_type": "stream",
     "text": [
      "INFO\tTask(Task-2) nodify.node.140656814357152:node.py:get()- No need to evaluate\n"
     ]
    },
    {
     "name": "stderr",
     "output_type": "stream",
     "text": [
      "INFO\tTask(Task-2) nodify.node.140656810362016:node.py:get()- No need to evaluate\n"
     ]
    },
    {
     "name": "stderr",
     "output_type": "stream",
     "text": [
      "INFO\tTask(Task-2) nodify.node.140656810362112:node.py:get()- No need to evaluate\n"
     ]
    },
    {
     "name": "stderr",
     "output_type": "stream",
     "text": [
      "INFO\tTask(Task-2) nodify.node.140656810361248:node.py:get()- No need to evaluate\n"
     ]
    },
    {
     "name": "stderr",
     "output_type": "stream",
     "text": [
      "INFO\tTask(Task-2) nodify.node.140656810368784:node.py:get()- No need to evaluate\n"
     ]
    },
    {
     "name": "stderr",
     "output_type": "stream",
     "text": [
      "INFO\tTask(Task-2) nodify.node.140656814357152:node.py:get()- No need to evaluate\n"
     ]
    },
    {
     "name": "stderr",
     "output_type": "stream",
     "text": [
      "INFO\tTask(Task-2) nodify.node.140656810361536:node.py:get()- No need to evaluate\n"
     ]
    },
    {
     "name": "stderr",
     "output_type": "stream",
     "text": [
      "INFO\tTask(Task-2) nodify.node.140656810368304:node.py:get()- No need to evaluate\n"
     ]
    },
    {
     "name": "stderr",
     "output_type": "stream",
     "text": [
      "INFO\tTask(Task-2) nodify.node.140656814357152:node.py:get()- No need to evaluate\n"
     ]
    },
    {
     "name": "stderr",
     "output_type": "stream",
     "text": [
      "INFO\tTask(Task-2) nodify.node.140656810368880:node.py:get()- No need to evaluate\n"
     ]
    },
    {
     "name": "stderr",
     "output_type": "stream",
     "text": [
      "INFO\tTask(Task-2) nodify.node.140656810366240:node.py:get()- No need to evaluate\n"
     ]
    },
    {
     "name": "stderr",
     "output_type": "stream",
     "text": [
      "INFO\tTask(Task-2) nodify.node.140656810365856:node.py:get()- No need to evaluate\n"
     ]
    },
    {
     "name": "stderr",
     "output_type": "stream",
     "text": [
      "INFO\tTask(Task-2) nodify.node.140656810368592:node.py:get()- No need to evaluate\n"
     ]
    },
    {
     "name": "stderr",
     "output_type": "stream",
     "text": [
      "INFO\tTask(Task-2) nodify.node.140656810369024:node.py:get()- Evaluated because inputs changed.\n"
     ]
    },
    {
     "name": "stderr",
     "output_type": "stream",
     "text": [
      "INFO\tTask(Task-2) nodify.node.140656810372240:node.py:get()- Evaluated because inputs changed.\n"
     ]
    },
    {
     "name": "stderr",
     "output_type": "stream",
     "text": [
      "INFO\tTask(Task-2) nodify.node.140656810372720:node.py:get()- Evaluated because inputs changed.\n"
     ]
    },
    {
     "data": {
      "application/vnd.plotly.v1+json": {
       "config": {
        "plotlyServerURL": "https://plot.ly"
       },
       "data": [
        {
         "coloraxis": "coloraxis",
         "meta": {},
         "opacity": 1,
         "texttemplate": "%{z:.2f}",
         "type": "heatmap",
         "z": {
          "bdata": "hPjVt1v77z8d8lZMHyDkP9jICR3gdd8/0Cq88WAXwj8idcFelZnYPwAAAAAAAPh/AAAAAAAA+H8AAAAAAAD4fwAAAAAAAPh/7Td+MSRJpb8AAAAAAAD4fwAAAAAAAPh/AAAAAAAA+H8AAAAAAAD4fwAAAAAAAPh/HfJWTB8g5D96CSwuUDLuP8B7GcphXLS/7h30oo0E1b+glpMPy1jEvwAAAAAAAPh/AAAAAAAA+H8AAAAAAAD4fwAAAAAAAPh/GuNOeUPKir8AAAAAAAD4fwAAAAAAAPh/AAAAAAAA+H8AAAAAAAD4fwAAAAAAAPh/2MgJHeB13z/AexnKYVy0v1IiYxT1du8/cG5BjDIJpz8U8ISPJLzFvwAAAAAAAPh/AAAAAAAA+H8AAAAAAAD4fwAAAAAAAPh/CD0Jo6ngwD8AAAAAAAD4fwAAAAAAAPh/AAAAAAAA+H8AAAAAAAD4fwAAAAAAAPh/0Cq88WAXwj/uHfSijQTVv3BuQYwyCac/AI5GA+6Pf79l27r0GQTrPwAAAAAAAPh/AAAAAAAA+H8AAAAAAAD4fwAAAAAAAPh/c/1TXF0rrb8AAAAAAAD4fwAAAAAAAPh/AAAAAAAA+H8AAAAAAAD4fwAAAAAAAPh/InXBXpWZ2D+glpMPy1jEvxTwhI8kvMW/Zdu69BkE6z8kNemXVF/evwAAAAAAAPh/AAAAAAAA+H8AAAAAAAD4fwAAAAAAAPh/AAAAAAAA+H/tN34xJEmlvxrjTnlDyoq/CD0Jo6ngwD9z/VNcXSutvwAAAAAAAPh/",
          "dtype": "f8",
          "shape": "5, 15"
         },
         "zsmooth": false
        },
        {
         "line": {
          "color": "pink",
          "dash": "dash",
          "width": 5
         },
         "meta": {},
         "mode": "lines",
         "name": "orbitals separators",
         "opacity": 0.8,
         "showlegend": false,
         "type": "scatter",
         "x": {
          "bdata": "AAAAAAAA4L8AAAAAAAASQAAAAAAAAPh/AAAAAAAA4D8AAAAAAADgPwAAAAAAAPh/",
          "dtype": "f8"
         },
         "y": {
          "bdata": "AAAAAAAA4D8AAAAAAADgPwAAAAAAAPh/AAAAAAAA4L8AAAAAAAASQAAAAAAAAPh/",
          "dtype": "f8"
         }
        },
        {
         "line": {
          "color": "gray"
         },
         "meta": {},
         "mode": "lines",
         "name": "atoms separators",
         "opacity": 1,
         "showlegend": false,
         "type": "scatter",
         "x": {
          "bdata": "AAAAAAAA4L8AAAAAAAASQAAAAAAAAPh/AAAAAAAADEAAAAAAAAAMQAAAAAAAAPh/",
          "dtype": "f8"
         },
         "y": {
          "bdata": "AAAAAAAADEAAAAAAAAAMQAAAAAAAAPh/AAAAAAAA4L8AAAAAAAASQAAAAAAAAPh/",
          "dtype": "f8"
         }
        }
       ],
       "layout": {
        "coloraxis": {
         "cmid": 0,
         "colorscale": [
          [
           0.0,
           "rgb(0, 147, 146)"
          ],
          [
           0.16666666666666666,
           "rgb(57, 177, 133)"
          ],
          [
           0.3333333333333333,
           "rgb(156, 203, 134)"
          ],
          [
           0.5,
           "rgb(233, 226, 156)"
          ],
          [
           0.6666666666666666,
           "rgb(238, 180, 121)"
          ],
          [
           0.8333333333333334,
           "rgb(232, 132, 113)"
          ],
          [
           1.0,
           "rgb(207, 89, 126)"
          ]
         ],
         "showscale": true
        },
        "scene": {
         "aspectmode": "data",
         "xaxis": {
          "range": [
           -0.5,
           14.5
          ]
         },
         "yaxis": {
          "range": [
           4.5,
           -0.5
          ]
         }
        },
        "template": {
         "layout": {
          "hovermode": "closest",
          "paper_bgcolor": "white",
          "plot_bgcolor": "white",
          "scene": {
           "xaxis": {
            "color": "black",
            "gridcolor": "#ccc",
            "gridwidth": 1,
            "linewidth": 1,
            "mirror": true,
            "showgrid": false,
            "showline": true,
            "ticklen": 5,
            "ticks": "outside",
            "ticksuffix": " ",
            "visible": true,
            "zeroline": false,
            "zerolinecolor": "#ccc",
            "zerolinewidth": 1
           },
           "yaxis": {
            "color": "black",
            "gridcolor": "#ccc",
            "gridwidth": 1,
            "linewidth": 1,
            "mirror": true,
            "showgrid": false,
            "showline": true,
            "ticklen": 5,
            "ticks": "outside",
            "ticksuffix": " ",
            "visible": true,
            "zeroline": false,
            "zerolinecolor": "#ccc",
            "zerolinewidth": 1
           },
           "zaxis": {
            "color": "black",
            "gridcolor": "#ccc",
            "gridwidth": 1,
            "linewidth": 1,
            "mirror": true,
            "showgrid": false,
            "showline": true,
            "ticklen": 5,
            "ticks": "outside",
            "ticksuffix": " ",
            "visible": true,
            "zeroline": false,
            "zerolinecolor": "#ccc",
            "zerolinewidth": 1
           }
          },
          "xaxis": {
           "color": "black",
           "gridcolor": "#ccc",
           "gridwidth": 1,
           "linewidth": 1,
           "mirror": true,
           "showgrid": false,
           "showline": true,
           "ticklen": 5,
           "ticks": "outside",
           "ticksuffix": " ",
           "visible": true,
           "zeroline": false,
           "zerolinecolor": "#ccc",
           "zerolinewidth": 1
          },
          "yaxis": {
           "color": "black",
           "gridcolor": "#ccc",
           "gridwidth": 1,
           "linewidth": 1,
           "mirror": true,
           "showgrid": false,
           "showline": true,
           "ticklen": 5,
           "ticks": "outside",
           "ticksuffix": " ",
           "visible": true,
           "zeroline": false,
           "zerolinecolor": "#ccc",
           "zerolinewidth": 1
          }
         }
        },
        "xaxis": {
         "constrain": "domain",
         "range": [
          -0.5,
          14.5
         ],
         "scaleanchor": "y",
         "scaleratio": 1
        },
        "yaxis": {
         "constrain": "domain",
         "range": [
          4.5,
          -0.5
         ]
        }
       }
      }
     },
     "metadata": {},
     "output_type": "display_data"
    }
   ],
   "source": [
    "plot.update_inputs(\n",
    "    orbital_lines={\"color\": \"pink\", \"width\": 5, \"dash\": \"dash\", \"opacity\": 0.8},\n",
    "    sc_lines={\"width\": 4},\n",
    "    atom_lines={\"color\": \"gray\"},\n",
    ")"
   ]
  },
  {
   "cell_type": "markdown",
   "metadata": {},
   "source": [
    "## Labels\n",
    "\n",
    "You might want to have a clearer idea of the orbitals that correspond to a given matrix element. You can turn on labels with `set_labels`:"
   ]
  },
  {
   "cell_type": "code",
   "execution_count": 14,
   "metadata": {
    "execution": {
     "iopub.execute_input": "2025-08-14T08:06:02.056867Z",
     "iopub.status.busy": "2025-08-14T08:06:02.056701Z",
     "iopub.status.idle": "2025-08-14T08:06:02.150958Z",
     "shell.execute_reply": "2025-08-14T08:06:02.150374Z"
    }
   },
   "outputs": [
    {
     "name": "stderr",
     "output_type": "stream",
     "text": [
      "INFO\tTask(Task-2) nodify.node.140656810367008:node.py:get()- No need to evaluate\n"
     ]
    },
    {
     "name": "stderr",
     "output_type": "stream",
     "text": [
      "INFO\tTask(Task-2) nodify.node.140656814357152:node.py:get()- No need to evaluate\n"
     ]
    },
    {
     "name": "stderr",
     "output_type": "stream",
     "text": [
      "INFO\tTask(Task-2) nodify.node.140656810362016:node.py:get()- No need to evaluate\n"
     ]
    },
    {
     "name": "stderr",
     "output_type": "stream",
     "text": [
      "INFO\tTask(Task-2) nodify.node.140656810362112:node.py:get()- No need to evaluate\n"
     ]
    },
    {
     "name": "stderr",
     "output_type": "stream",
     "text": [
      "INFO\tTask(Task-2) nodify.node.140656810361248:node.py:get()- No need to evaluate\n"
     ]
    },
    {
     "name": "stderr",
     "output_type": "stream",
     "text": [
      "INFO\tTask(Task-2) nodify.node.140656810368784:node.py:get()- No need to evaluate\n"
     ]
    },
    {
     "name": "stderr",
     "output_type": "stream",
     "text": [
      "INFO\tTask(Task-2) nodify.node.140656810363936:node.py:get()- No need to evaluate\n"
     ]
    },
    {
     "name": "stderr",
     "output_type": "stream",
     "text": [
      "INFO\tTask(Task-2) nodify.node.140656810364320:node.py:get()- No need to evaluate\n"
     ]
    },
    {
     "name": "stderr",
     "output_type": "stream",
     "text": [
      "INFO\tTask(Task-2) nodify.node.140656814357152:node.py:get()- No need to evaluate\n"
     ]
    },
    {
     "name": "stderr",
     "output_type": "stream",
     "text": [
      "INFO\tTask(Task-2) nodify.node.140656810364704:node.py:get()- No need to evaluate\n"
     ]
    },
    {
     "name": "stderr",
     "output_type": "stream",
     "text": [
      "INFO\tTask(Task-2) nodify.node.140656810364320:node.py:get()- No need to evaluate\n"
     ]
    },
    {
     "name": "stderr",
     "output_type": "stream",
     "text": [
      "INFO\tTask(Task-2) nodify.node.140656810370032:node.py:get()- No need to evaluate\n"
     ]
    },
    {
     "name": "stderr",
     "output_type": "stream",
     "text": [
      "INFO\tTask(Task-2) nodify.node.140656810363552:node.py:get()- No need to evaluate\n"
     ]
    },
    {
     "name": "stderr",
     "output_type": "stream",
     "text": [
      "INFO\tTask(Task-2) nodify.node.140656810365088:node.py:get()- No need to evaluate\n"
     ]
    },
    {
     "name": "stderr",
     "output_type": "stream",
     "text": [
      "INFO\tTask(Task-2) nodify.node.140656810365472:node.py:get()- No need to evaluate\n"
     ]
    },
    {
     "name": "stderr",
     "output_type": "stream",
     "text": [
      "INFO\tTask(Task-2) nodify.node.140656810369936:node.py:get()- No need to evaluate\n"
     ]
    },
    {
     "name": "stderr",
     "output_type": "stream",
     "text": [
      "INFO\tTask(Task-2) nodify.node.140656814357152:node.py:get()- No need to evaluate\n"
     ]
    },
    {
     "name": "stderr",
     "output_type": "stream",
     "text": [
      "INFO\tTask(Task-2) nodify.node.140656810362016:node.py:get()- No need to evaluate\n"
     ]
    },
    {
     "name": "stderr",
     "output_type": "stream",
     "text": [
      "INFO\tTask(Task-2) nodify.node.140656810362112:node.py:get()- No need to evaluate\n"
     ]
    },
    {
     "name": "stderr",
     "output_type": "stream",
     "text": [
      "INFO\tTask(Task-2) nodify.node.140656810361248:node.py:get()- No need to evaluate\n"
     ]
    },
    {
     "name": "stderr",
     "output_type": "stream",
     "text": [
      "INFO\tTask(Task-2) nodify.node.140656810368784:node.py:get()- No need to evaluate\n"
     ]
    },
    {
     "name": "stderr",
     "output_type": "stream",
     "text": [
      "INFO\tTask(Task-2) nodify.node.140656810366624:node.py:get()- No need to evaluate\n"
     ]
    },
    {
     "name": "stderr",
     "output_type": "stream",
     "text": [
      "INFO\tTask(Task-2) nodify.node.140656810370704:node.py:get()- No need to evaluate\n"
     ]
    },
    {
     "name": "stderr",
     "output_type": "stream",
     "text": [
      "INFO\tTask(Task-2) nodify.node.140656810370080:node.py:get()- No need to evaluate\n"
     ]
    },
    {
     "name": "stderr",
     "output_type": "stream",
     "text": [
      "INFO\tTask(Task-2) nodify.node.140656810361392:node.py:get()- No need to evaluate\n"
     ]
    },
    {
     "name": "stderr",
     "output_type": "stream",
     "text": [
      "INFO\tTask(Task-2) nodify.node.140656814357152:node.py:get()- No need to evaluate\n"
     ]
    },
    {
     "name": "stderr",
     "output_type": "stream",
     "text": [
      "INFO\tTask(Task-2) nodify.node.140656810361536:node.py:get()- No need to evaluate\n"
     ]
    },
    {
     "name": "stderr",
     "output_type": "stream",
     "text": [
      "INFO\tTask(Task-2) nodify.node.140656810368304:node.py:get()- No need to evaluate\n"
     ]
    },
    {
     "name": "stderr",
     "output_type": "stream",
     "text": [
      "INFO\tTask(Task-2) nodify.node.140656814357152:node.py:get()- No need to evaluate\n"
     ]
    },
    {
     "name": "stderr",
     "output_type": "stream",
     "text": [
      "INFO\tTask(Task-2) nodify.node.140656810368880:node.py:get()- No need to evaluate\n"
     ]
    },
    {
     "name": "stderr",
     "output_type": "stream",
     "text": [
      "INFO\tTask(Task-2) nodify.node.140656810370752:node.py:get()- No need to evaluate\n"
     ]
    },
    {
     "name": "stderr",
     "output_type": "stream",
     "text": [
      "INFO\tTask(Task-2) nodify.node.140656810362592:node.py:get()- No need to evaluate\n"
     ]
    },
    {
     "name": "stderr",
     "output_type": "stream",
     "text": [
      "INFO\tTask(Task-2) nodify.node.140656814357152:node.py:get()- No need to evaluate\n"
     ]
    },
    {
     "name": "stderr",
     "output_type": "stream",
     "text": [
      "INFO\tTask(Task-2) nodify.node.140656810361536:node.py:get()- No need to evaluate\n"
     ]
    },
    {
     "name": "stderr",
     "output_type": "stream",
     "text": [
      "INFO\tTask(Task-2) nodify.node.140656810368304:node.py:get()- No need to evaluate\n"
     ]
    },
    {
     "name": "stderr",
     "output_type": "stream",
     "text": [
      "INFO\tTask(Task-2) nodify.node.140656814357152:node.py:get()- No need to evaluate\n"
     ]
    },
    {
     "name": "stderr",
     "output_type": "stream",
     "text": [
      "INFO\tTask(Task-2) nodify.node.140656810368880:node.py:get()- No need to evaluate\n"
     ]
    },
    {
     "name": "stderr",
     "output_type": "stream",
     "text": [
      "INFO\tTask(Task-2) nodify.node.140656810371424:node.py:get()- No need to evaluate\n"
     ]
    },
    {
     "name": "stderr",
     "output_type": "stream",
     "text": [
      "INFO\tTask(Task-2) nodify.node.140656810363120:node.py:get()- No need to evaluate\n"
     ]
    },
    {
     "name": "stderr",
     "output_type": "stream",
     "text": [
      "INFO\tTask(Task-2) nodify.node.140656814357152:node.py:get()- No need to evaluate\n"
     ]
    },
    {
     "name": "stderr",
     "output_type": "stream",
     "text": [
      "INFO\tTask(Task-2) nodify.node.140656810361536:node.py:get()- No need to evaluate\n"
     ]
    },
    {
     "name": "stderr",
     "output_type": "stream",
     "text": [
      "INFO\tTask(Task-2) nodify.node.140656810368304:node.py:get()- No need to evaluate\n"
     ]
    },
    {
     "name": "stderr",
     "output_type": "stream",
     "text": [
      "INFO\tTask(Task-2) nodify.node.140656814357152:node.py:get()- No need to evaluate\n"
     ]
    },
    {
     "name": "stderr",
     "output_type": "stream",
     "text": [
      "INFO\tTask(Task-2) nodify.node.140656810368880:node.py:get()- No need to evaluate\n"
     ]
    },
    {
     "name": "stderr",
     "output_type": "stream",
     "text": [
      "INFO\tTask(Task-2) nodify.node.140656810371760:node.py:get()- No need to evaluate\n"
     ]
    },
    {
     "name": "stderr",
     "output_type": "stream",
     "text": [
      "INFO\tTask(Task-2) nodify.node.140656814357152:node.py:get()- No need to evaluate\n"
     ]
    },
    {
     "name": "stderr",
     "output_type": "stream",
     "text": [
      "INFO\tTask(Task-2) nodify.node.140656810362016:node.py:get()- No need to evaluate\n"
     ]
    },
    {
     "name": "stderr",
     "output_type": "stream",
     "text": [
      "INFO\tTask(Task-2) nodify.node.140656810362112:node.py:get()- No need to evaluate\n"
     ]
    },
    {
     "name": "stderr",
     "output_type": "stream",
     "text": [
      "INFO\tTask(Task-2) nodify.node.140656810361248:node.py:get()- No need to evaluate\n"
     ]
    },
    {
     "name": "stderr",
     "output_type": "stream",
     "text": [
      "INFO\tTask(Task-2) nodify.node.140656810368784:node.py:get()- No need to evaluate\n"
     ]
    },
    {
     "name": "stderr",
     "output_type": "stream",
     "text": [
      "INFO\tTask(Task-2) nodify.node.140656814357152:node.py:get()- No need to evaluate\n"
     ]
    },
    {
     "name": "stderr",
     "output_type": "stream",
     "text": [
      "INFO\tTask(Task-2) nodify.node.140656810361536:node.py:get()- No need to evaluate\n"
     ]
    },
    {
     "name": "stderr",
     "output_type": "stream",
     "text": [
      "INFO\tTask(Task-2) nodify.node.140656810368304:node.py:get()- No need to evaluate\n"
     ]
    },
    {
     "name": "stderr",
     "output_type": "stream",
     "text": [
      "INFO\tTask(Task-2) nodify.node.140656814357152:node.py:get()- No need to evaluate\n"
     ]
    },
    {
     "name": "stderr",
     "output_type": "stream",
     "text": [
      "INFO\tTask(Task-2) nodify.node.140656810368880:node.py:get()- No need to evaluate\n"
     ]
    },
    {
     "name": "stderr",
     "output_type": "stream",
     "text": [
      "INFO\tTask(Task-2) nodify.node.140656810366240:node.py:get()- No need to evaluate\n"
     ]
    },
    {
     "name": "stderr",
     "output_type": "stream",
     "text": [
      "INFO\tTask(Task-2) nodify.node.140656810365856:node.py:get()- Evaluated because inputs changed.\n"
     ]
    },
    {
     "name": "stderr",
     "output_type": "stream",
     "text": [
      "INFO\tTask(Task-2) nodify.node.140656810368592:node.py:get()- Evaluated because inputs changed.\n"
     ]
    },
    {
     "name": "stderr",
     "output_type": "stream",
     "text": [
      "INFO\tTask(Task-2) nodify.node.140656810369024:node.py:get()- Evaluated because inputs changed.\n"
     ]
    },
    {
     "name": "stderr",
     "output_type": "stream",
     "text": [
      "INFO\tTask(Task-2) nodify.node.140656810372240:node.py:get()- Evaluated because inputs changed.\n"
     ]
    },
    {
     "name": "stderr",
     "output_type": "stream",
     "text": [
      "INFO\tTask(Task-2) nodify.node.140656810372720:node.py:get()- Evaluated because inputs changed.\n"
     ]
    },
    {
     "data": {
      "application/vnd.plotly.v1+json": {
       "config": {
        "plotlyServerURL": "https://plot.ly"
       },
       "data": [
        {
         "coloraxis": "coloraxis",
         "meta": {},
         "opacity": 1,
         "texttemplate": "%{z:.2f}",
         "type": "heatmap",
         "z": {
          "bdata": "hPjVt1v77z8d8lZMHyDkP9jICR3gdd8/0Cq88WAXwj8idcFelZnYPwAAAAAAAPh/AAAAAAAA+H8AAAAAAAD4fwAAAAAAAPh/7Td+MSRJpb8AAAAAAAD4fwAAAAAAAPh/AAAAAAAA+H8AAAAAAAD4fwAAAAAAAPh/HfJWTB8g5D96CSwuUDLuP8B7GcphXLS/7h30oo0E1b+glpMPy1jEvwAAAAAAAPh/AAAAAAAA+H8AAAAAAAD4fwAAAAAAAPh/GuNOeUPKir8AAAAAAAD4fwAAAAAAAPh/AAAAAAAA+H8AAAAAAAD4fwAAAAAAAPh/2MgJHeB13z/AexnKYVy0v1IiYxT1du8/cG5BjDIJpz8U8ISPJLzFvwAAAAAAAPh/AAAAAAAA+H8AAAAAAAD4fwAAAAAAAPh/CD0Jo6ngwD8AAAAAAAD4fwAAAAAAAPh/AAAAAAAA+H8AAAAAAAD4fwAAAAAAAPh/0Cq88WAXwj/uHfSijQTVv3BuQYwyCac/AI5GA+6Pf79l27r0GQTrPwAAAAAAAPh/AAAAAAAA+H8AAAAAAAD4fwAAAAAAAPh/c/1TXF0rrb8AAAAAAAD4fwAAAAAAAPh/AAAAAAAA+H8AAAAAAAD4fwAAAAAAAPh/InXBXpWZ2D+glpMPy1jEvxTwhI8kvMW/Zdu69BkE6z8kNemXVF/evwAAAAAAAPh/AAAAAAAA+H8AAAAAAAD4fwAAAAAAAPh/AAAAAAAA+H/tN34xJEmlvxrjTnlDyoq/CD0Jo6ngwD9z/VNcXSutvwAAAAAAAPh/",
          "dtype": "f8",
          "shape": "5, 15"
         },
         "zsmooth": false
        },
        {
         "line": {
          "color": "pink",
          "dash": "dash",
          "width": 5
         },
         "meta": {},
         "mode": "lines",
         "name": "orbitals separators",
         "opacity": 0.8,
         "showlegend": false,
         "type": "scatter",
         "x": {
          "bdata": "AAAAAAAA4L8AAAAAAAASQAAAAAAAAPh/AAAAAAAA4D8AAAAAAADgPwAAAAAAAPh/",
          "dtype": "f8"
         },
         "y": {
          "bdata": "AAAAAAAA4D8AAAAAAADgPwAAAAAAAPh/AAAAAAAA4L8AAAAAAAASQAAAAAAAAPh/",
          "dtype": "f8"
         }
        },
        {
         "line": {
          "color": "gray"
         },
         "meta": {},
         "mode": "lines",
         "name": "atoms separators",
         "opacity": 1,
         "showlegend": false,
         "type": "scatter",
         "x": {
          "bdata": "AAAAAAAA4L8AAAAAAAASQAAAAAAAAPh/AAAAAAAADEAAAAAAAAAMQAAAAAAAAPh/",
          "dtype": "f8"
         },
         "y": {
          "bdata": "AAAAAAAADEAAAAAAAAAMQAAAAAAAAPh/AAAAAAAA4L8AAAAAAAASQAAAAAAAAPh/",
          "dtype": "f8"
         }
        }
       ],
       "layout": {
        "coloraxis": {
         "cmid": 0,
         "colorscale": [
          [
           0.0,
           "rgb(0, 147, 146)"
          ],
          [
           0.16666666666666666,
           "rgb(57, 177, 133)"
          ],
          [
           0.3333333333333333,
           "rgb(156, 203, 134)"
          ],
          [
           0.5,
           "rgb(233, 226, 156)"
          ],
          [
           0.6666666666666666,
           "rgb(238, 180, 121)"
          ],
          [
           0.8333333333333334,
           "rgb(232, 132, 113)"
          ],
          [
           1.0,
           "rgb(207, 89, 126)"
          ]
         ],
         "showscale": true
        },
        "scene": {
         "aspectmode": "data",
         "xaxis": {
          "range": [
           -0.5,
           14.5
          ],
          "ticktext": [
           "0: (0, 0)",
           "0: (1, -1)",
           "0: (1, 0)",
           "0: (1, 1)",
           "1: (0, 0)",
           "0: (0, 0)",
           "0: (1, -1)",
           "0: (1, 0)",
           "0: (1, 1)",
           "1: (0, 0)",
           "0: (0, 0)",
           "0: (1, -1)",
           "0: (1, 0)",
           "0: (1, 1)",
           "1: (0, 0)"
          ],
          "tickvals": {
           "bdata": "AAECAwQFBgcICQoLDA0O",
           "dtype": "i1"
          }
         },
         "yaxis": {
          "range": [
           4.5,
           -0.5
          ],
          "ticktext": [
           "0: (0, 0)",
           "0: (1, -1)",
           "0: (1, 0)",
           "0: (1, 1)",
           "1: (0, 0)"
          ],
          "tickvals": {
           "bdata": "AAECAwQ=",
           "dtype": "i1"
          }
         }
        },
        "template": {
         "layout": {
          "hovermode": "closest",
          "paper_bgcolor": "white",
          "plot_bgcolor": "white",
          "scene": {
           "xaxis": {
            "color": "black",
            "gridcolor": "#ccc",
            "gridwidth": 1,
            "linewidth": 1,
            "mirror": true,
            "showgrid": false,
            "showline": true,
            "ticklen": 5,
            "ticks": "outside",
            "ticksuffix": " ",
            "visible": true,
            "zeroline": false,
            "zerolinecolor": "#ccc",
            "zerolinewidth": 1
           },
           "yaxis": {
            "color": "black",
            "gridcolor": "#ccc",
            "gridwidth": 1,
            "linewidth": 1,
            "mirror": true,
            "showgrid": false,
            "showline": true,
            "ticklen": 5,
            "ticks": "outside",
            "ticksuffix": " ",
            "visible": true,
            "zeroline": false,
            "zerolinecolor": "#ccc",
            "zerolinewidth": 1
           },
           "zaxis": {
            "color": "black",
            "gridcolor": "#ccc",
            "gridwidth": 1,
            "linewidth": 1,
            "mirror": true,
            "showgrid": false,
            "showline": true,
            "ticklen": 5,
            "ticks": "outside",
            "ticksuffix": " ",
            "visible": true,
            "zeroline": false,
            "zerolinecolor": "#ccc",
            "zerolinewidth": 1
           }
          },
          "xaxis": {
           "color": "black",
           "gridcolor": "#ccc",
           "gridwidth": 1,
           "linewidth": 1,
           "mirror": true,
           "showgrid": false,
           "showline": true,
           "ticklen": 5,
           "ticks": "outside",
           "ticksuffix": " ",
           "visible": true,
           "zeroline": false,
           "zerolinecolor": "#ccc",
           "zerolinewidth": 1
          },
          "yaxis": {
           "color": "black",
           "gridcolor": "#ccc",
           "gridwidth": 1,
           "linewidth": 1,
           "mirror": true,
           "showgrid": false,
           "showline": true,
           "ticklen": 5,
           "ticks": "outside",
           "ticksuffix": " ",
           "visible": true,
           "zeroline": false,
           "zerolinecolor": "#ccc",
           "zerolinewidth": 1
          }
         }
        },
        "xaxis": {
         "constrain": "domain",
         "range": [
          -0.5,
          14.5
         ],
         "scaleanchor": "y",
         "scaleratio": 1,
         "ticktext": [
          "0: (0, 0)",
          "0: (1, -1)",
          "0: (1, 0)",
          "0: (1, 1)",
          "1: (0, 0)",
          "0: (0, 0)",
          "0: (1, -1)",
          "0: (1, 0)",
          "0: (1, 1)",
          "1: (0, 0)",
          "0: (0, 0)",
          "0: (1, -1)",
          "0: (1, 0)",
          "0: (1, 1)",
          "1: (0, 0)"
         ],
         "tickvals": {
          "bdata": "AAECAwQFBgcICQoLDA0O",
          "dtype": "i1"
         }
        },
        "yaxis": {
         "constrain": "domain",
         "range": [
          4.5,
          -0.5
         ],
         "ticktext": [
          "0: (0, 0)",
          "0: (1, -1)",
          "0: (1, 0)",
          "0: (1, 1)",
          "1: (0, 0)"
         ],
         "tickvals": {
          "bdata": "AAECAwQ=",
          "dtype": "i1"
         }
        }
       }
      }
     },
     "metadata": {},
     "output_type": "display_data"
    }
   ],
   "source": [
    "plot.update_inputs(set_labels=True)"
   ]
  },
  {
   "cell_type": "markdown",
   "metadata": {},
   "source": [
    "Labels have the format: `Atom index: (l, m)`. where l and m are the quantum numbers of the orbital."
   ]
  },
  {
   "cell_type": "code",
   "execution_count": 15,
   "metadata": {
    "execution": {
     "iopub.execute_input": "2025-08-14T08:06:02.152820Z",
     "iopub.status.busy": "2025-08-14T08:06:02.152643Z",
     "iopub.status.idle": "2025-08-14T08:06:02.155461Z",
     "shell.execute_reply": "2025-08-14T08:06:02.154872Z"
    }
   },
   "outputs": [],
   "source": [
    "plot = plot.update_inputs(set_labels=False)"
   ]
  },
  {
   "cell_type": "markdown",
   "metadata": {},
   "source": [
    "## Showing only one cell\n",
    "\n",
    "If you only want to visualize a given cell in the supercell, you can pass the index to the `isc` input."
   ]
  },
  {
   "cell_type": "code",
   "execution_count": 16,
   "metadata": {
    "execution": {
     "iopub.execute_input": "2025-08-14T08:06:02.157134Z",
     "iopub.status.busy": "2025-08-14T08:06:02.156969Z",
     "iopub.status.idle": "2025-08-14T08:06:02.246623Z",
     "shell.execute_reply": "2025-08-14T08:06:02.246148Z"
    }
   },
   "outputs": [
    {
     "name": "stderr",
     "output_type": "stream",
     "text": [
      "INFO\tTask(Task-2) nodify.node.140656810367008:node.py:get()- No need to evaluate\n"
     ]
    },
    {
     "name": "stderr",
     "output_type": "stream",
     "text": [
      "INFO\tTask(Task-2) nodify.node.140656814357152:node.py:get()- No need to evaluate\n"
     ]
    },
    {
     "name": "stderr",
     "output_type": "stream",
     "text": [
      "INFO\tTask(Task-2) nodify.node.140656810362016:node.py:get()- No need to evaluate\n"
     ]
    },
    {
     "name": "stderr",
     "output_type": "stream",
     "text": [
      "INFO\tTask(Task-2) nodify.node.140656810362112:node.py:get()- Evaluated because inputs changed.\n"
     ]
    },
    {
     "name": "stderr",
     "output_type": "stream",
     "text": [
      "INFO\tTask(Task-2) nodify.node.140656810361248:node.py:get()- No need to evaluate\n"
     ]
    },
    {
     "name": "stderr",
     "output_type": "stream",
     "text": [
      "INFO\tTask(Task-2) nodify.node.140656810368784:node.py:get()- Evaluated because inputs changed.\n"
     ]
    },
    {
     "name": "stderr",
     "output_type": "stream",
     "text": [
      "INFO\tTask(Task-2) nodify.node.140656810363936:node.py:get()- No need to evaluate\n"
     ]
    },
    {
     "name": "stderr",
     "output_type": "stream",
     "text": [
      "INFO\tTask(Task-2) nodify.node.140656810364320:node.py:get()- No need to evaluate\n"
     ]
    },
    {
     "name": "stderr",
     "output_type": "stream",
     "text": [
      "INFO\tTask(Task-2) nodify.node.140656814357152:node.py:get()- No need to evaluate\n"
     ]
    },
    {
     "name": "stderr",
     "output_type": "stream",
     "text": [
      "INFO\tTask(Task-2) nodify.node.140656810364704:node.py:get()- No need to evaluate\n"
     ]
    },
    {
     "name": "stderr",
     "output_type": "stream",
     "text": [
      "INFO\tTask(Task-2) nodify.node.140656810364320:node.py:get()- No need to evaluate\n"
     ]
    },
    {
     "name": "stderr",
     "output_type": "stream",
     "text": [
      "INFO\tTask(Task-2) nodify.node.140656810370032:node.py:get()- No need to evaluate\n"
     ]
    },
    {
     "name": "stderr",
     "output_type": "stream",
     "text": [
      "INFO\tTask(Task-2) nodify.node.140656810363552:node.py:get()- No need to evaluate\n"
     ]
    },
    {
     "name": "stderr",
     "output_type": "stream",
     "text": [
      "INFO\tTask(Task-2) nodify.node.140656810365088:node.py:get()- No need to evaluate\n"
     ]
    },
    {
     "name": "stderr",
     "output_type": "stream",
     "text": [
      "INFO\tTask(Task-2) nodify.node.140656810365472:node.py:get()- No need to evaluate\n"
     ]
    },
    {
     "name": "stderr",
     "output_type": "stream",
     "text": [
      "INFO\tTask(Task-2) nodify.node.140656810369936:node.py:get()- Evaluated because inputs changed.\n"
     ]
    },
    {
     "name": "stderr",
     "output_type": "stream",
     "text": [
      "INFO\tTask(Task-2) nodify.node.140656814357152:node.py:get()- No need to evaluate\n"
     ]
    },
    {
     "name": "stderr",
     "output_type": "stream",
     "text": [
      "INFO\tTask(Task-2) nodify.node.140656810362016:node.py:get()- No need to evaluate\n"
     ]
    },
    {
     "name": "stderr",
     "output_type": "stream",
     "text": [
      "INFO\tTask(Task-2) nodify.node.140656810362112:node.py:get()- No need to evaluate\n"
     ]
    },
    {
     "name": "stderr",
     "output_type": "stream",
     "text": [
      "INFO\tTask(Task-2) nodify.node.140656810361248:node.py:get()- No need to evaluate\n"
     ]
    },
    {
     "name": "stderr",
     "output_type": "stream",
     "text": [
      "INFO\tTask(Task-2) nodify.node.140656810368784:node.py:get()- No need to evaluate\n"
     ]
    },
    {
     "name": "stderr",
     "output_type": "stream",
     "text": [
      "INFO\tTask(Task-2) nodify.node.140656810366624:node.py:get()- No need to evaluate\n"
     ]
    },
    {
     "name": "stderr",
     "output_type": "stream",
     "text": [
      "INFO\tTask(Task-2) nodify.node.140656810370704:node.py:get()- No need to evaluate\n"
     ]
    },
    {
     "name": "stderr",
     "output_type": "stream",
     "text": [
      "INFO\tTask(Task-2) nodify.node.140656810370080:node.py:get()- Evaluated because inputs changed.\n"
     ]
    },
    {
     "name": "stderr",
     "output_type": "stream",
     "text": [
      "INFO\tTask(Task-2) nodify.node.140656810361392:node.py:get()- No need to evaluate\n"
     ]
    },
    {
     "name": "stderr",
     "output_type": "stream",
     "text": [
      "INFO\tTask(Task-2) nodify.node.140656814357152:node.py:get()- No need to evaluate\n"
     ]
    },
    {
     "name": "stderr",
     "output_type": "stream",
     "text": [
      "INFO\tTask(Task-2) nodify.node.140656810361536:node.py:get()- No need to evaluate\n"
     ]
    },
    {
     "name": "stderr",
     "output_type": "stream",
     "text": [
      "INFO\tTask(Task-2) nodify.node.140656810368304:node.py:get()- No need to evaluate\n"
     ]
    },
    {
     "name": "stderr",
     "output_type": "stream",
     "text": [
      "INFO\tTask(Task-2) nodify.node.140656814357152:node.py:get()- No need to evaluate\n"
     ]
    },
    {
     "name": "stderr",
     "output_type": "stream",
     "text": [
      "INFO\tTask(Task-2) nodify.node.140656810368880:node.py:get()- No need to evaluate\n"
     ]
    },
    {
     "name": "stderr",
     "output_type": "stream",
     "text": [
      "INFO\tTask(Task-2) nodify.node.140656810370752:node.py:get()- No need to evaluate\n"
     ]
    },
    {
     "name": "stderr",
     "output_type": "stream",
     "text": [
      "INFO\tTask(Task-2) nodify.node.140656810362592:node.py:get()- No need to evaluate\n"
     ]
    },
    {
     "name": "stderr",
     "output_type": "stream",
     "text": [
      "INFO\tTask(Task-2) nodify.node.140656814357152:node.py:get()- No need to evaluate\n"
     ]
    },
    {
     "name": "stderr",
     "output_type": "stream",
     "text": [
      "INFO\tTask(Task-2) nodify.node.140656810361536:node.py:get()- No need to evaluate\n"
     ]
    },
    {
     "name": "stderr",
     "output_type": "stream",
     "text": [
      "INFO\tTask(Task-2) nodify.node.140656810368304:node.py:get()- No need to evaluate\n"
     ]
    },
    {
     "name": "stderr",
     "output_type": "stream",
     "text": [
      "INFO\tTask(Task-2) nodify.node.140656814357152:node.py:get()- No need to evaluate\n"
     ]
    },
    {
     "name": "stderr",
     "output_type": "stream",
     "text": [
      "INFO\tTask(Task-2) nodify.node.140656810368880:node.py:get()- No need to evaluate\n"
     ]
    },
    {
     "name": "stderr",
     "output_type": "stream",
     "text": [
      "INFO\tTask(Task-2) nodify.node.140656810371424:node.py:get()- No need to evaluate\n"
     ]
    },
    {
     "name": "stderr",
     "output_type": "stream",
     "text": [
      "INFO\tTask(Task-2) nodify.node.140656810363120:node.py:get()- No need to evaluate\n"
     ]
    },
    {
     "name": "stderr",
     "output_type": "stream",
     "text": [
      "INFO\tTask(Task-2) nodify.node.140656814357152:node.py:get()- No need to evaluate\n"
     ]
    },
    {
     "name": "stderr",
     "output_type": "stream",
     "text": [
      "INFO\tTask(Task-2) nodify.node.140656810361536:node.py:get()- No need to evaluate\n"
     ]
    },
    {
     "name": "stderr",
     "output_type": "stream",
     "text": [
      "INFO\tTask(Task-2) nodify.node.140656810368304:node.py:get()- No need to evaluate\n"
     ]
    },
    {
     "name": "stderr",
     "output_type": "stream",
     "text": [
      "INFO\tTask(Task-2) nodify.node.140656814357152:node.py:get()- No need to evaluate\n"
     ]
    },
    {
     "name": "stderr",
     "output_type": "stream",
     "text": [
      "INFO\tTask(Task-2) nodify.node.140656810368880:node.py:get()- No need to evaluate\n"
     ]
    },
    {
     "name": "stderr",
     "output_type": "stream",
     "text": [
      "INFO\tTask(Task-2) nodify.node.140656810371760:node.py:get()- No need to evaluate\n"
     ]
    },
    {
     "name": "stderr",
     "output_type": "stream",
     "text": [
      "INFO\tTask(Task-2) nodify.node.140656814357152:node.py:get()- No need to evaluate\n"
     ]
    },
    {
     "name": "stderr",
     "output_type": "stream",
     "text": [
      "INFO\tTask(Task-2) nodify.node.140656810362016:node.py:get()- No need to evaluate\n"
     ]
    },
    {
     "name": "stderr",
     "output_type": "stream",
     "text": [
      "INFO\tTask(Task-2) nodify.node.140656810362112:node.py:get()- No need to evaluate\n"
     ]
    },
    {
     "name": "stderr",
     "output_type": "stream",
     "text": [
      "INFO\tTask(Task-2) nodify.node.140656810361248:node.py:get()- No need to evaluate\n"
     ]
    },
    {
     "name": "stderr",
     "output_type": "stream",
     "text": [
      "INFO\tTask(Task-2) nodify.node.140656810368784:node.py:get()- No need to evaluate\n"
     ]
    },
    {
     "name": "stderr",
     "output_type": "stream",
     "text": [
      "INFO\tTask(Task-2) nodify.node.140656814357152:node.py:get()- No need to evaluate\n"
     ]
    },
    {
     "name": "stderr",
     "output_type": "stream",
     "text": [
      "INFO\tTask(Task-2) nodify.node.140656810361536:node.py:get()- No need to evaluate\n"
     ]
    },
    {
     "name": "stderr",
     "output_type": "stream",
     "text": [
      "INFO\tTask(Task-2) nodify.node.140656810368304:node.py:get()- No need to evaluate\n"
     ]
    },
    {
     "name": "stderr",
     "output_type": "stream",
     "text": [
      "INFO\tTask(Task-2) nodify.node.140656814357152:node.py:get()- No need to evaluate\n"
     ]
    },
    {
     "name": "stderr",
     "output_type": "stream",
     "text": [
      "INFO\tTask(Task-2) nodify.node.140656810368880:node.py:get()- No need to evaluate\n"
     ]
    },
    {
     "name": "stderr",
     "output_type": "stream",
     "text": [
      "INFO\tTask(Task-2) nodify.node.140656810366240:node.py:get()- No need to evaluate\n"
     ]
    },
    {
     "name": "stderr",
     "output_type": "stream",
     "text": [
      "INFO\tTask(Task-2) nodify.node.140656810365856:node.py:get()- Evaluated because inputs changed.\n"
     ]
    },
    {
     "name": "stderr",
     "output_type": "stream",
     "text": [
      "INFO\tTask(Task-2) nodify.node.140656810368592:node.py:get()- Evaluated because inputs changed.\n"
     ]
    },
    {
     "name": "stderr",
     "output_type": "stream",
     "text": [
      "INFO\tTask(Task-2) nodify.node.140656810369024:node.py:get()- Evaluated because inputs changed.\n"
     ]
    },
    {
     "name": "stderr",
     "output_type": "stream",
     "text": [
      "INFO\tTask(Task-2) nodify.node.140656810372240:node.py:get()- Evaluated because inputs changed.\n"
     ]
    },
    {
     "name": "stderr",
     "output_type": "stream",
     "text": [
      "INFO\tTask(Task-2) nodify.node.140656810372720:node.py:get()- Evaluated because inputs changed.\n"
     ]
    },
    {
     "data": {
      "application/vnd.plotly.v1+json": {
       "config": {
        "plotlyServerURL": "https://plot.ly"
       },
       "data": [
        {
         "coloraxis": "coloraxis",
         "meta": {},
         "opacity": 1,
         "texttemplate": "%{z:.2f}",
         "type": "heatmap",
         "z": {
          "bdata": "AAAAAAAA+H8AAAAAAAD4fwAAAAAAAPh/AAAAAAAA+H/tN34xJEmlvwAAAAAAAPh/AAAAAAAA+H8AAAAAAAD4fwAAAAAAAPh/GuNOeUPKir8AAAAAAAD4fwAAAAAAAPh/AAAAAAAA+H8AAAAAAAD4fwg9CaOp4MA/AAAAAAAA+H8AAAAAAAD4fwAAAAAAAPh/AAAAAAAA+H9z/VNcXSutvwAAAAAAAPh/AAAAAAAA+H8AAAAAAAD4fwAAAAAAAPh/AAAAAAAA+H8=",
          "dtype": "f8",
          "shape": "5, 5"
         },
         "zsmooth": false
        },
        {
         "line": {
          "color": "pink",
          "dash": "dash",
          "width": 5
         },
         "meta": {},
         "mode": "lines",
         "name": "orbitals separators",
         "opacity": 0.8,
         "showlegend": false,
         "type": "scatter",
         "x": {
          "bdata": "AAAAAAAA4L8AAAAAAAASQAAAAAAAAPh/AAAAAAAA4D8AAAAAAADgPwAAAAAAAPh/",
          "dtype": "f8"
         },
         "y": {
          "bdata": "AAAAAAAA4D8AAAAAAADgPwAAAAAAAPh/AAAAAAAA4L8AAAAAAAASQAAAAAAAAPh/",
          "dtype": "f8"
         }
        },
        {
         "line": {
          "color": "gray"
         },
         "meta": {},
         "mode": "lines",
         "name": "atoms separators",
         "opacity": 1,
         "showlegend": false,
         "type": "scatter",
         "x": {
          "bdata": "AAAAAAAA4L8AAAAAAAASQAAAAAAAAPh/AAAAAAAADEAAAAAAAAAMQAAAAAAAAPh/",
          "dtype": "f8"
         },
         "y": {
          "bdata": "AAAAAAAADEAAAAAAAAAMQAAAAAAAAPh/AAAAAAAA4L8AAAAAAAASQAAAAAAAAPh/",
          "dtype": "f8"
         }
        }
       ],
       "layout": {
        "coloraxis": {
         "cmid": 0,
         "colorscale": [
          [
           0.0,
           "rgb(0, 147, 146)"
          ],
          [
           0.16666666666666666,
           "rgb(57, 177, 133)"
          ],
          [
           0.3333333333333333,
           "rgb(156, 203, 134)"
          ],
          [
           0.5,
           "rgb(233, 226, 156)"
          ],
          [
           0.6666666666666666,
           "rgb(238, 180, 121)"
          ],
          [
           0.8333333333333334,
           "rgb(232, 132, 113)"
          ],
          [
           1.0,
           "rgb(207, 89, 126)"
          ]
         ],
         "showscale": true
        },
        "scene": {
         "aspectmode": "data",
         "xaxis": {
          "range": [
           -0.5,
           4.5
          ]
         },
         "yaxis": {
          "range": [
           4.5,
           -0.5
          ]
         }
        },
        "template": {
         "layout": {
          "hovermode": "closest",
          "paper_bgcolor": "white",
          "plot_bgcolor": "white",
          "scene": {
           "xaxis": {
            "color": "black",
            "gridcolor": "#ccc",
            "gridwidth": 1,
            "linewidth": 1,
            "mirror": true,
            "showgrid": false,
            "showline": true,
            "ticklen": 5,
            "ticks": "outside",
            "ticksuffix": " ",
            "visible": true,
            "zeroline": false,
            "zerolinecolor": "#ccc",
            "zerolinewidth": 1
           },
           "yaxis": {
            "color": "black",
            "gridcolor": "#ccc",
            "gridwidth": 1,
            "linewidth": 1,
            "mirror": true,
            "showgrid": false,
            "showline": true,
            "ticklen": 5,
            "ticks": "outside",
            "ticksuffix": " ",
            "visible": true,
            "zeroline": false,
            "zerolinecolor": "#ccc",
            "zerolinewidth": 1
           },
           "zaxis": {
            "color": "black",
            "gridcolor": "#ccc",
            "gridwidth": 1,
            "linewidth": 1,
            "mirror": true,
            "showgrid": false,
            "showline": true,
            "ticklen": 5,
            "ticks": "outside",
            "ticksuffix": " ",
            "visible": true,
            "zeroline": false,
            "zerolinecolor": "#ccc",
            "zerolinewidth": 1
           }
          },
          "xaxis": {
           "color": "black",
           "gridcolor": "#ccc",
           "gridwidth": 1,
           "linewidth": 1,
           "mirror": true,
           "showgrid": false,
           "showline": true,
           "ticklen": 5,
           "ticks": "outside",
           "ticksuffix": " ",
           "visible": true,
           "zeroline": false,
           "zerolinecolor": "#ccc",
           "zerolinewidth": 1
          },
          "yaxis": {
           "color": "black",
           "gridcolor": "#ccc",
           "gridwidth": 1,
           "linewidth": 1,
           "mirror": true,
           "showgrid": false,
           "showline": true,
           "ticklen": 5,
           "ticks": "outside",
           "ticksuffix": " ",
           "visible": true,
           "zeroline": false,
           "zerolinecolor": "#ccc",
           "zerolinewidth": 1
          }
         }
        },
        "xaxis": {
         "constrain": "domain",
         "range": [
          -0.5,
          4.5
         ],
         "scaleanchor": "y",
         "scaleratio": 1
        },
        "yaxis": {
         "constrain": "domain",
         "range": [
          4.5,
          -0.5
         ]
        }
       }
      }
     },
     "metadata": {},
     "output_type": "display_data"
    }
   ],
   "source": [
    "plot.update_inputs(isc=1)"
   ]
  },
  {
   "cell_type": "markdown",
   "metadata": {},
   "source": [
    "To go back to visualizing the whole supercell, just set `isc` to `None`."
   ]
  },
  {
   "cell_type": "code",
   "execution_count": 17,
   "metadata": {
    "execution": {
     "iopub.execute_input": "2025-08-14T08:06:02.248159Z",
     "iopub.status.busy": "2025-08-14T08:06:02.247999Z",
     "iopub.status.idle": "2025-08-14T08:06:02.342980Z",
     "shell.execute_reply": "2025-08-14T08:06:02.342506Z"
    }
   },
   "outputs": [
    {
     "name": "stderr",
     "output_type": "stream",
     "text": [
      "INFO\tTask(Task-2) nodify.node.140656810367008:node.py:get()- No need to evaluate\n"
     ]
    },
    {
     "name": "stderr",
     "output_type": "stream",
     "text": [
      "INFO\tTask(Task-2) nodify.node.140656814357152:node.py:get()- No need to evaluate\n"
     ]
    },
    {
     "name": "stderr",
     "output_type": "stream",
     "text": [
      "INFO\tTask(Task-2) nodify.node.140656810362016:node.py:get()- No need to evaluate\n"
     ]
    },
    {
     "name": "stderr",
     "output_type": "stream",
     "text": [
      "INFO\tTask(Task-2) nodify.node.140656810362112:node.py:get()- Evaluated because inputs changed.\n"
     ]
    },
    {
     "name": "stderr",
     "output_type": "stream",
     "text": [
      "INFO\tTask(Task-2) nodify.node.140656810361248:node.py:get()- No need to evaluate\n"
     ]
    },
    {
     "name": "stderr",
     "output_type": "stream",
     "text": [
      "INFO\tTask(Task-2) nodify.node.140656810368784:node.py:get()- Evaluated because inputs changed.\n"
     ]
    },
    {
     "name": "stderr",
     "output_type": "stream",
     "text": [
      "INFO\tTask(Task-2) nodify.node.140656810363936:node.py:get()- No need to evaluate\n"
     ]
    },
    {
     "name": "stderr",
     "output_type": "stream",
     "text": [
      "INFO\tTask(Task-2) nodify.node.140656810364320:node.py:get()- No need to evaluate\n"
     ]
    },
    {
     "name": "stderr",
     "output_type": "stream",
     "text": [
      "INFO\tTask(Task-2) nodify.node.140656814357152:node.py:get()- No need to evaluate\n"
     ]
    },
    {
     "name": "stderr",
     "output_type": "stream",
     "text": [
      "INFO\tTask(Task-2) nodify.node.140656810364704:node.py:get()- No need to evaluate\n"
     ]
    },
    {
     "name": "stderr",
     "output_type": "stream",
     "text": [
      "INFO\tTask(Task-2) nodify.node.140656810364320:node.py:get()- No need to evaluate\n"
     ]
    },
    {
     "name": "stderr",
     "output_type": "stream",
     "text": [
      "INFO\tTask(Task-2) nodify.node.140656810370032:node.py:get()- No need to evaluate\n"
     ]
    },
    {
     "name": "stderr",
     "output_type": "stream",
     "text": [
      "INFO\tTask(Task-2) nodify.node.140656810363552:node.py:get()- No need to evaluate\n"
     ]
    },
    {
     "name": "stderr",
     "output_type": "stream",
     "text": [
      "INFO\tTask(Task-2) nodify.node.140656810365088:node.py:get()- No need to evaluate\n"
     ]
    },
    {
     "name": "stderr",
     "output_type": "stream",
     "text": [
      "INFO\tTask(Task-2) nodify.node.140656810365472:node.py:get()- No need to evaluate\n"
     ]
    },
    {
     "name": "stderr",
     "output_type": "stream",
     "text": [
      "INFO\tTask(Task-2) nodify.node.140656810369936:node.py:get()- Evaluated because inputs changed.\n"
     ]
    },
    {
     "name": "stderr",
     "output_type": "stream",
     "text": [
      "INFO\tTask(Task-2) nodify.node.140656814357152:node.py:get()- No need to evaluate\n"
     ]
    },
    {
     "name": "stderr",
     "output_type": "stream",
     "text": [
      "INFO\tTask(Task-2) nodify.node.140656810362016:node.py:get()- No need to evaluate\n"
     ]
    },
    {
     "name": "stderr",
     "output_type": "stream",
     "text": [
      "INFO\tTask(Task-2) nodify.node.140656810362112:node.py:get()- No need to evaluate\n"
     ]
    },
    {
     "name": "stderr",
     "output_type": "stream",
     "text": [
      "INFO\tTask(Task-2) nodify.node.140656810361248:node.py:get()- No need to evaluate\n"
     ]
    },
    {
     "name": "stderr",
     "output_type": "stream",
     "text": [
      "INFO\tTask(Task-2) nodify.node.140656810368784:node.py:get()- No need to evaluate\n"
     ]
    },
    {
     "name": "stderr",
     "output_type": "stream",
     "text": [
      "INFO\tTask(Task-2) nodify.node.140656810366624:node.py:get()- No need to evaluate\n"
     ]
    },
    {
     "name": "stderr",
     "output_type": "stream",
     "text": [
      "INFO\tTask(Task-2) nodify.node.140656810370704:node.py:get()- No need to evaluate\n"
     ]
    },
    {
     "name": "stderr",
     "output_type": "stream",
     "text": [
      "INFO\tTask(Task-2) nodify.node.140656810370080:node.py:get()- Evaluated because inputs changed.\n"
     ]
    },
    {
     "name": "stderr",
     "output_type": "stream",
     "text": [
      "INFO\tTask(Task-2) nodify.node.140656810361392:node.py:get()- No need to evaluate\n"
     ]
    },
    {
     "name": "stderr",
     "output_type": "stream",
     "text": [
      "INFO\tTask(Task-2) nodify.node.140656814357152:node.py:get()- No need to evaluate\n"
     ]
    },
    {
     "name": "stderr",
     "output_type": "stream",
     "text": [
      "INFO\tTask(Task-2) nodify.node.140656810361536:node.py:get()- No need to evaluate\n"
     ]
    },
    {
     "name": "stderr",
     "output_type": "stream",
     "text": [
      "INFO\tTask(Task-2) nodify.node.140656810368304:node.py:get()- No need to evaluate\n"
     ]
    },
    {
     "name": "stderr",
     "output_type": "stream",
     "text": [
      "INFO\tTask(Task-2) nodify.node.140656814357152:node.py:get()- No need to evaluate\n"
     ]
    },
    {
     "name": "stderr",
     "output_type": "stream",
     "text": [
      "INFO\tTask(Task-2) nodify.node.140656810368880:node.py:get()- No need to evaluate\n"
     ]
    },
    {
     "name": "stderr",
     "output_type": "stream",
     "text": [
      "INFO\tTask(Task-2) nodify.node.140656810370752:node.py:get()- No need to evaluate\n"
     ]
    },
    {
     "name": "stderr",
     "output_type": "stream",
     "text": [
      "INFO\tTask(Task-2) nodify.node.140656810362592:node.py:get()- No need to evaluate\n"
     ]
    },
    {
     "name": "stderr",
     "output_type": "stream",
     "text": [
      "INFO\tTask(Task-2) nodify.node.140656814357152:node.py:get()- No need to evaluate\n"
     ]
    },
    {
     "name": "stderr",
     "output_type": "stream",
     "text": [
      "INFO\tTask(Task-2) nodify.node.140656810361536:node.py:get()- No need to evaluate\n"
     ]
    },
    {
     "name": "stderr",
     "output_type": "stream",
     "text": [
      "INFO\tTask(Task-2) nodify.node.140656810368304:node.py:get()- No need to evaluate\n"
     ]
    },
    {
     "name": "stderr",
     "output_type": "stream",
     "text": [
      "INFO\tTask(Task-2) nodify.node.140656814357152:node.py:get()- No need to evaluate\n"
     ]
    },
    {
     "name": "stderr",
     "output_type": "stream",
     "text": [
      "INFO\tTask(Task-2) nodify.node.140656810368880:node.py:get()- No need to evaluate\n"
     ]
    },
    {
     "name": "stderr",
     "output_type": "stream",
     "text": [
      "INFO\tTask(Task-2) nodify.node.140656810371424:node.py:get()- No need to evaluate\n"
     ]
    },
    {
     "name": "stderr",
     "output_type": "stream",
     "text": [
      "INFO\tTask(Task-2) nodify.node.140656810363120:node.py:get()- No need to evaluate\n"
     ]
    },
    {
     "name": "stderr",
     "output_type": "stream",
     "text": [
      "INFO\tTask(Task-2) nodify.node.140656814357152:node.py:get()- No need to evaluate\n"
     ]
    },
    {
     "name": "stderr",
     "output_type": "stream",
     "text": [
      "INFO\tTask(Task-2) nodify.node.140656810361536:node.py:get()- No need to evaluate\n"
     ]
    },
    {
     "name": "stderr",
     "output_type": "stream",
     "text": [
      "INFO\tTask(Task-2) nodify.node.140656810368304:node.py:get()- No need to evaluate\n"
     ]
    },
    {
     "name": "stderr",
     "output_type": "stream",
     "text": [
      "INFO\tTask(Task-2) nodify.node.140656814357152:node.py:get()- No need to evaluate\n"
     ]
    },
    {
     "name": "stderr",
     "output_type": "stream",
     "text": [
      "INFO\tTask(Task-2) nodify.node.140656810368880:node.py:get()- No need to evaluate\n"
     ]
    },
    {
     "name": "stderr",
     "output_type": "stream",
     "text": [
      "INFO\tTask(Task-2) nodify.node.140656810371760:node.py:get()- No need to evaluate\n"
     ]
    },
    {
     "name": "stderr",
     "output_type": "stream",
     "text": [
      "INFO\tTask(Task-2) nodify.node.140656814357152:node.py:get()- No need to evaluate\n"
     ]
    },
    {
     "name": "stderr",
     "output_type": "stream",
     "text": [
      "INFO\tTask(Task-2) nodify.node.140656810362016:node.py:get()- No need to evaluate\n"
     ]
    },
    {
     "name": "stderr",
     "output_type": "stream",
     "text": [
      "INFO\tTask(Task-2) nodify.node.140656810362112:node.py:get()- No need to evaluate\n"
     ]
    },
    {
     "name": "stderr",
     "output_type": "stream",
     "text": [
      "INFO\tTask(Task-2) nodify.node.140656810361248:node.py:get()- No need to evaluate\n"
     ]
    },
    {
     "name": "stderr",
     "output_type": "stream",
     "text": [
      "INFO\tTask(Task-2) nodify.node.140656810368784:node.py:get()- No need to evaluate\n"
     ]
    },
    {
     "name": "stderr",
     "output_type": "stream",
     "text": [
      "INFO\tTask(Task-2) nodify.node.140656814357152:node.py:get()- No need to evaluate\n"
     ]
    },
    {
     "name": "stderr",
     "output_type": "stream",
     "text": [
      "INFO\tTask(Task-2) nodify.node.140656810361536:node.py:get()- No need to evaluate\n"
     ]
    },
    {
     "name": "stderr",
     "output_type": "stream",
     "text": [
      "INFO\tTask(Task-2) nodify.node.140656810368304:node.py:get()- No need to evaluate\n"
     ]
    },
    {
     "name": "stderr",
     "output_type": "stream",
     "text": [
      "INFO\tTask(Task-2) nodify.node.140656814357152:node.py:get()- No need to evaluate\n"
     ]
    },
    {
     "name": "stderr",
     "output_type": "stream",
     "text": [
      "INFO\tTask(Task-2) nodify.node.140656810368880:node.py:get()- No need to evaluate\n"
     ]
    },
    {
     "name": "stderr",
     "output_type": "stream",
     "text": [
      "INFO\tTask(Task-2) nodify.node.140656810366240:node.py:get()- No need to evaluate\n"
     ]
    },
    {
     "name": "stderr",
     "output_type": "stream",
     "text": [
      "INFO\tTask(Task-2) nodify.node.140656810365856:node.py:get()- No need to evaluate\n"
     ]
    },
    {
     "name": "stderr",
     "output_type": "stream",
     "text": [
      "INFO\tTask(Task-2) nodify.node.140656810368592:node.py:get()- Evaluated because inputs changed.\n"
     ]
    },
    {
     "name": "stderr",
     "output_type": "stream",
     "text": [
      "INFO\tTask(Task-2) nodify.node.140656810369024:node.py:get()- Evaluated because inputs changed.\n"
     ]
    },
    {
     "name": "stderr",
     "output_type": "stream",
     "text": [
      "INFO\tTask(Task-2) nodify.node.140656810372240:node.py:get()- Evaluated because inputs changed.\n"
     ]
    },
    {
     "name": "stderr",
     "output_type": "stream",
     "text": [
      "INFO\tTask(Task-2) nodify.node.140656810372720:node.py:get()- Evaluated because inputs changed.\n"
     ]
    },
    {
     "data": {
      "application/vnd.plotly.v1+json": {
       "config": {
        "plotlyServerURL": "https://plot.ly"
       },
       "data": [
        {
         "coloraxis": "coloraxis",
         "meta": {},
         "opacity": 1,
         "texttemplate": "%{z:.2f}",
         "type": "heatmap",
         "z": {
          "bdata": "hPjVt1v77z8d8lZMHyDkP9jICR3gdd8/0Cq88WAXwj8idcFelZnYPwAAAAAAAPh/AAAAAAAA+H8AAAAAAAD4fwAAAAAAAPh/7Td+MSRJpb8AAAAAAAD4fwAAAAAAAPh/AAAAAAAA+H8AAAAAAAD4fwAAAAAAAPh/HfJWTB8g5D96CSwuUDLuP8B7GcphXLS/7h30oo0E1b+glpMPy1jEvwAAAAAAAPh/AAAAAAAA+H8AAAAAAAD4fwAAAAAAAPh/GuNOeUPKir8AAAAAAAD4fwAAAAAAAPh/AAAAAAAA+H8AAAAAAAD4fwAAAAAAAPh/2MgJHeB13z/AexnKYVy0v1IiYxT1du8/cG5BjDIJpz8U8ISPJLzFvwAAAAAAAPh/AAAAAAAA+H8AAAAAAAD4fwAAAAAAAPh/CD0Jo6ngwD8AAAAAAAD4fwAAAAAAAPh/AAAAAAAA+H8AAAAAAAD4fwAAAAAAAPh/0Cq88WAXwj/uHfSijQTVv3BuQYwyCac/AI5GA+6Pf79l27r0GQTrPwAAAAAAAPh/AAAAAAAA+H8AAAAAAAD4fwAAAAAAAPh/c/1TXF0rrb8AAAAAAAD4fwAAAAAAAPh/AAAAAAAA+H8AAAAAAAD4fwAAAAAAAPh/InXBXpWZ2D+glpMPy1jEvxTwhI8kvMW/Zdu69BkE6z8kNemXVF/evwAAAAAAAPh/AAAAAAAA+H8AAAAAAAD4fwAAAAAAAPh/AAAAAAAA+H/tN34xJEmlvxrjTnlDyoq/CD0Jo6ngwD9z/VNcXSutvwAAAAAAAPh/",
          "dtype": "f8",
          "shape": "5, 15"
         },
         "zsmooth": false
        },
        {
         "line": {
          "color": "pink",
          "dash": "dash",
          "width": 5
         },
         "meta": {},
         "mode": "lines",
         "name": "orbitals separators",
         "opacity": 0.8,
         "showlegend": false,
         "type": "scatter",
         "x": {
          "bdata": "AAAAAAAA4L8AAAAAAAASQAAAAAAAAPh/AAAAAAAA4D8AAAAAAADgPwAAAAAAAPh/",
          "dtype": "f8"
         },
         "y": {
          "bdata": "AAAAAAAA4D8AAAAAAADgPwAAAAAAAPh/AAAAAAAA4L8AAAAAAAASQAAAAAAAAPh/",
          "dtype": "f8"
         }
        },
        {
         "line": {
          "color": "gray"
         },
         "meta": {},
         "mode": "lines",
         "name": "atoms separators",
         "opacity": 1,
         "showlegend": false,
         "type": "scatter",
         "x": {
          "bdata": "AAAAAAAA4L8AAAAAAAASQAAAAAAAAPh/AAAAAAAADEAAAAAAAAAMQAAAAAAAAPh/",
          "dtype": "f8"
         },
         "y": {
          "bdata": "AAAAAAAADEAAAAAAAAAMQAAAAAAAAPh/AAAAAAAA4L8AAAAAAAASQAAAAAAAAPh/",
          "dtype": "f8"
         }
        }
       ],
       "layout": {
        "coloraxis": {
         "cmid": 0,
         "colorscale": [
          [
           0.0,
           "rgb(0, 147, 146)"
          ],
          [
           0.16666666666666666,
           "rgb(57, 177, 133)"
          ],
          [
           0.3333333333333333,
           "rgb(156, 203, 134)"
          ],
          [
           0.5,
           "rgb(233, 226, 156)"
          ],
          [
           0.6666666666666666,
           "rgb(238, 180, 121)"
          ],
          [
           0.8333333333333334,
           "rgb(232, 132, 113)"
          ],
          [
           1.0,
           "rgb(207, 89, 126)"
          ]
         ],
         "showscale": true
        },
        "scene": {
         "aspectmode": "data",
         "xaxis": {
          "range": [
           -0.5,
           14.5
          ]
         },
         "yaxis": {
          "range": [
           4.5,
           -0.5
          ]
         }
        },
        "template": {
         "layout": {
          "hovermode": "closest",
          "paper_bgcolor": "white",
          "plot_bgcolor": "white",
          "scene": {
           "xaxis": {
            "color": "black",
            "gridcolor": "#ccc",
            "gridwidth": 1,
            "linewidth": 1,
            "mirror": true,
            "showgrid": false,
            "showline": true,
            "ticklen": 5,
            "ticks": "outside",
            "ticksuffix": " ",
            "visible": true,
            "zeroline": false,
            "zerolinecolor": "#ccc",
            "zerolinewidth": 1
           },
           "yaxis": {
            "color": "black",
            "gridcolor": "#ccc",
            "gridwidth": 1,
            "linewidth": 1,
            "mirror": true,
            "showgrid": false,
            "showline": true,
            "ticklen": 5,
            "ticks": "outside",
            "ticksuffix": " ",
            "visible": true,
            "zeroline": false,
            "zerolinecolor": "#ccc",
            "zerolinewidth": 1
           },
           "zaxis": {
            "color": "black",
            "gridcolor": "#ccc",
            "gridwidth": 1,
            "linewidth": 1,
            "mirror": true,
            "showgrid": false,
            "showline": true,
            "ticklen": 5,
            "ticks": "outside",
            "ticksuffix": " ",
            "visible": true,
            "zeroline": false,
            "zerolinecolor": "#ccc",
            "zerolinewidth": 1
           }
          },
          "xaxis": {
           "color": "black",
           "gridcolor": "#ccc",
           "gridwidth": 1,
           "linewidth": 1,
           "mirror": true,
           "showgrid": false,
           "showline": true,
           "ticklen": 5,
           "ticks": "outside",
           "ticksuffix": " ",
           "visible": true,
           "zeroline": false,
           "zerolinecolor": "#ccc",
           "zerolinewidth": 1
          },
          "yaxis": {
           "color": "black",
           "gridcolor": "#ccc",
           "gridwidth": 1,
           "linewidth": 1,
           "mirror": true,
           "showgrid": false,
           "showline": true,
           "ticklen": 5,
           "ticks": "outside",
           "ticksuffix": " ",
           "visible": true,
           "zeroline": false,
           "zerolinecolor": "#ccc",
           "zerolinewidth": 1
          }
         }
        },
        "xaxis": {
         "constrain": "domain",
         "range": [
          -0.5,
          14.5
         ],
         "scaleanchor": "y",
         "scaleratio": 1
        },
        "yaxis": {
         "constrain": "domain",
         "range": [
          4.5,
          -0.5
         ]
        }
       }
      }
     },
     "metadata": {},
     "output_type": "display_data"
    }
   ],
   "source": [
    "plot.update_inputs(isc=None)"
   ]
  },
  {
   "cell_type": "markdown",
   "metadata": {},
   "source": [
    "## Arrows\n",
    "\n",
    "One can ask for an arrow to be drawn on each matrix element. You are free to represent whatever you like as arrows.\n",
    "\n",
    "The arrow specification works the same as for atom arrows in `GeometryPlot`. It is a dictionary with the key `data` containing the arrow data and the styling keys (`color`, `width`, `opacity`...) to tweak the style.\n",
    "\n",
    "However, there is one main difference. If `data` is skipped, vertical arrows are drawn, with the value of the corresponding matrix element defining the length of the arrow:"
   ]
  },
  {
   "cell_type": "code",
   "execution_count": 18,
   "metadata": {
    "execution": {
     "iopub.execute_input": "2025-08-14T08:06:02.344669Z",
     "iopub.status.busy": "2025-08-14T08:06:02.344498Z",
     "iopub.status.idle": "2025-08-14T08:06:04.084797Z",
     "shell.execute_reply": "2025-08-14T08:06:04.084242Z"
    },
    "tags": [
     "nbsphinx-thumbnail"
    ]
   },
   "outputs": [
    {
     "name": "stderr",
     "output_type": "stream",
     "text": [
      "INFO\tTask(Task-2) nodify.node.140656810367008:node.py:get()- No need to evaluate\n"
     ]
    },
    {
     "name": "stderr",
     "output_type": "stream",
     "text": [
      "INFO\tTask(Task-2) nodify.node.140656814357152:node.py:get()- No need to evaluate\n"
     ]
    },
    {
     "name": "stderr",
     "output_type": "stream",
     "text": [
      "INFO\tTask(Task-2) nodify.node.140656810362016:node.py:get()- No need to evaluate\n"
     ]
    },
    {
     "name": "stderr",
     "output_type": "stream",
     "text": [
      "INFO\tTask(Task-2) nodify.node.140656810362112:node.py:get()- No need to evaluate\n"
     ]
    },
    {
     "name": "stderr",
     "output_type": "stream",
     "text": [
      "INFO\tTask(Task-2) nodify.node.140656810361248:node.py:get()- No need to evaluate\n"
     ]
    },
    {
     "name": "stderr",
     "output_type": "stream",
     "text": [
      "INFO\tTask(Task-2) nodify.node.140656810368784:node.py:get()- No need to evaluate\n"
     ]
    },
    {
     "name": "stderr",
     "output_type": "stream",
     "text": [
      "INFO\tTask(Task-2) nodify.node.140656810363936:node.py:get()- No need to evaluate\n"
     ]
    },
    {
     "name": "stderr",
     "output_type": "stream",
     "text": [
      "INFO\tTask(Task-2) nodify.node.140656810364320:node.py:get()- No need to evaluate\n"
     ]
    },
    {
     "name": "stderr",
     "output_type": "stream",
     "text": [
      "INFO\tTask(Task-2) nodify.node.140656814357152:node.py:get()- No need to evaluate\n"
     ]
    },
    {
     "name": "stderr",
     "output_type": "stream",
     "text": [
      "INFO\tTask(Task-2) nodify.node.140656810364704:node.py:get()- No need to evaluate\n"
     ]
    },
    {
     "name": "stderr",
     "output_type": "stream",
     "text": [
      "INFO\tTask(Task-2) nodify.node.140656810364320:node.py:get()- No need to evaluate\n"
     ]
    },
    {
     "name": "stderr",
     "output_type": "stream",
     "text": [
      "INFO\tTask(Task-2) nodify.node.140656810370032:node.py:get()- No need to evaluate\n"
     ]
    },
    {
     "name": "stderr",
     "output_type": "stream",
     "text": [
      "INFO\tTask(Task-2) nodify.node.140656810363552:node.py:get()- No need to evaluate\n"
     ]
    },
    {
     "name": "stderr",
     "output_type": "stream",
     "text": [
      "INFO\tTask(Task-2) nodify.node.140656810365088:node.py:get()- No need to evaluate\n"
     ]
    },
    {
     "name": "stderr",
     "output_type": "stream",
     "text": [
      "INFO\tTask(Task-2) nodify.node.140656810365472:node.py:get()- No need to evaluate\n"
     ]
    },
    {
     "name": "stderr",
     "output_type": "stream",
     "text": [
      "INFO\tTask(Task-2) nodify.node.140656810369936:node.py:get()- No need to evaluate\n"
     ]
    },
    {
     "name": "stderr",
     "output_type": "stream",
     "text": [
      "INFO\tTask(Task-2) nodify.node.140656814357152:node.py:get()- No need to evaluate\n"
     ]
    },
    {
     "name": "stderr",
     "output_type": "stream",
     "text": [
      "INFO\tTask(Task-2) nodify.node.140656810362016:node.py:get()- No need to evaluate\n"
     ]
    },
    {
     "name": "stderr",
     "output_type": "stream",
     "text": [
      "INFO\tTask(Task-2) nodify.node.140656810362112:node.py:get()- No need to evaluate\n"
     ]
    },
    {
     "name": "stderr",
     "output_type": "stream",
     "text": [
      "INFO\tTask(Task-2) nodify.node.140656810361248:node.py:get()- No need to evaluate\n"
     ]
    },
    {
     "name": "stderr",
     "output_type": "stream",
     "text": [
      "INFO\tTask(Task-2) nodify.node.140656810368784:node.py:get()- No need to evaluate\n"
     ]
    },
    {
     "name": "stderr",
     "output_type": "stream",
     "text": [
      "INFO\tTask(Task-2) nodify.node.140656810366624:node.py:get()- Evaluated because inputs changed.\n"
     ]
    },
    {
     "name": "stderr",
     "output_type": "stream",
     "text": [
      "INFO\tTask(Task-2) nodify.node.140656810370704:node.py:get()- Evaluated because inputs changed.\n"
     ]
    },
    {
     "name": "stderr",
     "output_type": "stream",
     "text": [
      "INFO\tTask(Task-2) nodify.node.140656810370080:node.py:get()- Evaluated because inputs changed.\n"
     ]
    },
    {
     "name": "stderr",
     "output_type": "stream",
     "text": [
      "INFO\tTask(Task-2) nodify.node.140656810361392:node.py:get()- No need to evaluate\n"
     ]
    },
    {
     "name": "stderr",
     "output_type": "stream",
     "text": [
      "INFO\tTask(Task-2) nodify.node.140656814357152:node.py:get()- No need to evaluate\n"
     ]
    },
    {
     "name": "stderr",
     "output_type": "stream",
     "text": [
      "INFO\tTask(Task-2) nodify.node.140656810361536:node.py:get()- No need to evaluate\n"
     ]
    },
    {
     "name": "stderr",
     "output_type": "stream",
     "text": [
      "INFO\tTask(Task-2) nodify.node.140656810368304:node.py:get()- No need to evaluate\n"
     ]
    },
    {
     "name": "stderr",
     "output_type": "stream",
     "text": [
      "INFO\tTask(Task-2) nodify.node.140656814357152:node.py:get()- No need to evaluate\n"
     ]
    },
    {
     "name": "stderr",
     "output_type": "stream",
     "text": [
      "INFO\tTask(Task-2) nodify.node.140656810368880:node.py:get()- No need to evaluate\n"
     ]
    },
    {
     "name": "stderr",
     "output_type": "stream",
     "text": [
      "INFO\tTask(Task-2) nodify.node.140656810370752:node.py:get()- No need to evaluate\n"
     ]
    },
    {
     "name": "stderr",
     "output_type": "stream",
     "text": [
      "INFO\tTask(Task-2) nodify.node.140656810362592:node.py:get()- No need to evaluate\n"
     ]
    },
    {
     "name": "stderr",
     "output_type": "stream",
     "text": [
      "INFO\tTask(Task-2) nodify.node.140656814357152:node.py:get()- No need to evaluate\n"
     ]
    },
    {
     "name": "stderr",
     "output_type": "stream",
     "text": [
      "INFO\tTask(Task-2) nodify.node.140656810361536:node.py:get()- No need to evaluate\n"
     ]
    },
    {
     "name": "stderr",
     "output_type": "stream",
     "text": [
      "INFO\tTask(Task-2) nodify.node.140656810368304:node.py:get()- No need to evaluate\n"
     ]
    },
    {
     "name": "stderr",
     "output_type": "stream",
     "text": [
      "INFO\tTask(Task-2) nodify.node.140656814357152:node.py:get()- No need to evaluate\n"
     ]
    },
    {
     "name": "stderr",
     "output_type": "stream",
     "text": [
      "INFO\tTask(Task-2) nodify.node.140656810368880:node.py:get()- No need to evaluate\n"
     ]
    },
    {
     "name": "stderr",
     "output_type": "stream",
     "text": [
      "INFO\tTask(Task-2) nodify.node.140656810371424:node.py:get()- No need to evaluate\n"
     ]
    },
    {
     "name": "stderr",
     "output_type": "stream",
     "text": [
      "INFO\tTask(Task-2) nodify.node.140656810363120:node.py:get()- No need to evaluate\n"
     ]
    },
    {
     "name": "stderr",
     "output_type": "stream",
     "text": [
      "INFO\tTask(Task-2) nodify.node.140656814357152:node.py:get()- No need to evaluate\n"
     ]
    },
    {
     "name": "stderr",
     "output_type": "stream",
     "text": [
      "INFO\tTask(Task-2) nodify.node.140656810361536:node.py:get()- No need to evaluate\n"
     ]
    },
    {
     "name": "stderr",
     "output_type": "stream",
     "text": [
      "INFO\tTask(Task-2) nodify.node.140656810368304:node.py:get()- No need to evaluate\n"
     ]
    },
    {
     "name": "stderr",
     "output_type": "stream",
     "text": [
      "INFO\tTask(Task-2) nodify.node.140656814357152:node.py:get()- No need to evaluate\n"
     ]
    },
    {
     "name": "stderr",
     "output_type": "stream",
     "text": [
      "INFO\tTask(Task-2) nodify.node.140656810368880:node.py:get()- No need to evaluate\n"
     ]
    },
    {
     "name": "stderr",
     "output_type": "stream",
     "text": [
      "INFO\tTask(Task-2) nodify.node.140656810371760:node.py:get()- No need to evaluate\n"
     ]
    },
    {
     "name": "stderr",
     "output_type": "stream",
     "text": [
      "INFO\tTask(Task-2) nodify.node.140656814357152:node.py:get()- No need to evaluate\n"
     ]
    },
    {
     "name": "stderr",
     "output_type": "stream",
     "text": [
      "INFO\tTask(Task-2) nodify.node.140656810362016:node.py:get()- No need to evaluate\n"
     ]
    },
    {
     "name": "stderr",
     "output_type": "stream",
     "text": [
      "INFO\tTask(Task-2) nodify.node.140656810362112:node.py:get()- No need to evaluate\n"
     ]
    },
    {
     "name": "stderr",
     "output_type": "stream",
     "text": [
      "INFO\tTask(Task-2) nodify.node.140656810361248:node.py:get()- No need to evaluate\n"
     ]
    },
    {
     "name": "stderr",
     "output_type": "stream",
     "text": [
      "INFO\tTask(Task-2) nodify.node.140656810368784:node.py:get()- No need to evaluate\n"
     ]
    },
    {
     "name": "stderr",
     "output_type": "stream",
     "text": [
      "INFO\tTask(Task-2) nodify.node.140656814357152:node.py:get()- No need to evaluate\n"
     ]
    },
    {
     "name": "stderr",
     "output_type": "stream",
     "text": [
      "INFO\tTask(Task-2) nodify.node.140656810361536:node.py:get()- No need to evaluate\n"
     ]
    },
    {
     "name": "stderr",
     "output_type": "stream",
     "text": [
      "INFO\tTask(Task-2) nodify.node.140656810368304:node.py:get()- No need to evaluate\n"
     ]
    },
    {
     "name": "stderr",
     "output_type": "stream",
     "text": [
      "INFO\tTask(Task-2) nodify.node.140656814357152:node.py:get()- No need to evaluate\n"
     ]
    },
    {
     "name": "stderr",
     "output_type": "stream",
     "text": [
      "INFO\tTask(Task-2) nodify.node.140656810368880:node.py:get()- No need to evaluate\n"
     ]
    },
    {
     "name": "stderr",
     "output_type": "stream",
     "text": [
      "INFO\tTask(Task-2) nodify.node.140656810366240:node.py:get()- No need to evaluate\n"
     ]
    },
    {
     "name": "stderr",
     "output_type": "stream",
     "text": [
      "INFO\tTask(Task-2) nodify.node.140656810365856:node.py:get()- No need to evaluate\n"
     ]
    },
    {
     "name": "stderr",
     "output_type": "stream",
     "text": [
      "INFO\tTask(Task-2) nodify.node.140656810368592:node.py:get()- No need to evaluate\n"
     ]
    },
    {
     "name": "stderr",
     "output_type": "stream",
     "text": [
      "INFO\tTask(Task-2) nodify.node.140656810369024:node.py:get()- Evaluated because inputs changed.\n"
     ]
    },
    {
     "name": "stderr",
     "output_type": "stream",
     "text": [
      "INFO\tTask(Task-2) nodify.node.140656810372240:node.py:get()- Evaluated because inputs changed.\n"
     ]
    },
    {
     "name": "stderr",
     "output_type": "stream",
     "text": [
      "INFO\tTask(Task-2) nodify.node.140656810372720:node.py:get()- Evaluated because inputs changed.\n"
     ]
    },
    {
     "data": {
      "image/png": "[encoded data removed]"
     },
     "metadata": {},
     "output_type": "display_data"
    }
   ],
   "source": [
    "plot.update_inputs(arrows={\"color\": \"blue\"}).show(\"png\")"
   ]
  },
  {
   "cell_type": "markdown",
   "metadata": {},
   "source": [
    "**Arrows are normalized so that they fit the box** of their matrix element.\n",
    "\n",
    "It may be that pixel colors and numbers make it difficult to visualize the arrows. In that case, you can disable them both. We have already seen how to disable text. For pixel colors there's the `color_pixels` input, which is a switch to turn them on or off:"
   ]
  },
  {
   "cell_type": "code",
   "execution_count": 19,
   "metadata": {
    "execution": {
     "iopub.execute_input": "2025-08-14T08:06:04.086570Z",
     "iopub.status.busy": "2025-08-14T08:06:04.086396Z",
     "iopub.status.idle": "2025-08-14T08:06:04.226808Z",
     "shell.execute_reply": "2025-08-14T08:06:04.226316Z"
    }
   },
   "outputs": [
    {
     "name": "stderr",
     "output_type": "stream",
     "text": [
      "INFO\tTask(Task-2) nodify.node.140656810367008:node.py:get()- No need to evaluate\n"
     ]
    },
    {
     "name": "stderr",
     "output_type": "stream",
     "text": [
      "INFO\tTask(Task-2) nodify.node.140656814357152:node.py:get()- No need to evaluate\n"
     ]
    },
    {
     "name": "stderr",
     "output_type": "stream",
     "text": [
      "INFO\tTask(Task-2) nodify.node.140656810362016:node.py:get()- No need to evaluate\n"
     ]
    },
    {
     "name": "stderr",
     "output_type": "stream",
     "text": [
      "INFO\tTask(Task-2) nodify.node.140656810362112:node.py:get()- No need to evaluate\n"
     ]
    },
    {
     "name": "stderr",
     "output_type": "stream",
     "text": [
      "INFO\tTask(Task-2) nodify.node.140656810361248:node.py:get()- No need to evaluate\n"
     ]
    },
    {
     "name": "stderr",
     "output_type": "stream",
     "text": [
      "INFO\tTask(Task-2) nodify.node.140656810368784:node.py:get()- No need to evaluate\n"
     ]
    },
    {
     "name": "stderr",
     "output_type": "stream",
     "text": [
      "INFO\tTask(Task-2) nodify.node.140656810363936:node.py:get()- No need to evaluate\n"
     ]
    },
    {
     "name": "stderr",
     "output_type": "stream",
     "text": [
      "INFO\tTask(Task-2) nodify.node.140656810364320:node.py:get()- No need to evaluate\n"
     ]
    },
    {
     "name": "stderr",
     "output_type": "stream",
     "text": [
      "INFO\tTask(Task-2) nodify.node.140656814357152:node.py:get()- No need to evaluate\n"
     ]
    },
    {
     "name": "stderr",
     "output_type": "stream",
     "text": [
      "INFO\tTask(Task-2) nodify.node.140656810364704:node.py:get()- No need to evaluate\n"
     ]
    },
    {
     "name": "stderr",
     "output_type": "stream",
     "text": [
      "INFO\tTask(Task-2) nodify.node.140656810364320:node.py:get()- No need to evaluate\n"
     ]
    },
    {
     "name": "stderr",
     "output_type": "stream",
     "text": [
      "INFO\tTask(Task-2) nodify.node.140656810370032:node.py:get()- No need to evaluate\n"
     ]
    },
    {
     "name": "stderr",
     "output_type": "stream",
     "text": [
      "INFO\tTask(Task-2) nodify.node.140656810363552:node.py:get()- Evaluated because inputs changed.\n"
     ]
    },
    {
     "name": "stderr",
     "output_type": "stream",
     "text": [
      "INFO\tTask(Task-2) nodify.node.140656810365088:node.py:get()- Evaluated because inputs changed.\n"
     ]
    },
    {
     "name": "stderr",
     "output_type": "stream",
     "text": [
      "INFO\tTask(Task-2) nodify.node.140656810365472:node.py:get()- No need to evaluate\n"
     ]
    },
    {
     "name": "stderr",
     "output_type": "stream",
     "text": [
      "INFO\tTask(Task-2) nodify.node.140656810369936:node.py:get()- Evaluated because inputs changed.\n"
     ]
    },
    {
     "name": "stderr",
     "output_type": "stream",
     "text": [
      "INFO\tTask(Task-2) nodify.node.140656814357152:node.py:get()- No need to evaluate\n"
     ]
    },
    {
     "name": "stderr",
     "output_type": "stream",
     "text": [
      "INFO\tTask(Task-2) nodify.node.140656810362016:node.py:get()- No need to evaluate\n"
     ]
    },
    {
     "name": "stderr",
     "output_type": "stream",
     "text": [
      "INFO\tTask(Task-2) nodify.node.140656810362112:node.py:get()- No need to evaluate\n"
     ]
    },
    {
     "name": "stderr",
     "output_type": "stream",
     "text": [
      "INFO\tTask(Task-2) nodify.node.140656810361248:node.py:get()- No need to evaluate\n"
     ]
    },
    {
     "name": "stderr",
     "output_type": "stream",
     "text": [
      "INFO\tTask(Task-2) nodify.node.140656810368784:node.py:get()- No need to evaluate\n"
     ]
    },
    {
     "name": "stderr",
     "output_type": "stream",
     "text": [
      "INFO\tTask(Task-2) nodify.node.140656810366624:node.py:get()- No need to evaluate\n"
     ]
    },
    {
     "name": "stderr",
     "output_type": "stream",
     "text": [
      "INFO\tTask(Task-2) nodify.node.140656810370704:node.py:get()- No need to evaluate\n"
     ]
    },
    {
     "name": "stderr",
     "output_type": "stream",
     "text": [
      "INFO\tTask(Task-2) nodify.node.140656810370080:node.py:get()- No need to evaluate\n"
     ]
    },
    {
     "name": "stderr",
     "output_type": "stream",
     "text": [
      "INFO\tTask(Task-2) nodify.node.140656810361392:node.py:get()- No need to evaluate\n"
     ]
    },
    {
     "name": "stderr",
     "output_type": "stream",
     "text": [
      "INFO\tTask(Task-2) nodify.node.140656814357152:node.py:get()- No need to evaluate\n"
     ]
    },
    {
     "name": "stderr",
     "output_type": "stream",
     "text": [
      "INFO\tTask(Task-2) nodify.node.140656810361536:node.py:get()- No need to evaluate\n"
     ]
    },
    {
     "name": "stderr",
     "output_type": "stream",
     "text": [
      "INFO\tTask(Task-2) nodify.node.140656810368304:node.py:get()- No need to evaluate\n"
     ]
    },
    {
     "name": "stderr",
     "output_type": "stream",
     "text": [
      "INFO\tTask(Task-2) nodify.node.140656814357152:node.py:get()- No need to evaluate\n"
     ]
    },
    {
     "name": "stderr",
     "output_type": "stream",
     "text": [
      "INFO\tTask(Task-2) nodify.node.140656810368880:node.py:get()- No need to evaluate\n"
     ]
    },
    {
     "name": "stderr",
     "output_type": "stream",
     "text": [
      "INFO\tTask(Task-2) nodify.node.140656810370752:node.py:get()- No need to evaluate\n"
     ]
    },
    {
     "name": "stderr",
     "output_type": "stream",
     "text": [
      "INFO\tTask(Task-2) nodify.node.140656810362592:node.py:get()- No need to evaluate\n"
     ]
    },
    {
     "name": "stderr",
     "output_type": "stream",
     "text": [
      "INFO\tTask(Task-2) nodify.node.140656814357152:node.py:get()- No need to evaluate\n"
     ]
    },
    {
     "name": "stderr",
     "output_type": "stream",
     "text": [
      "INFO\tTask(Task-2) nodify.node.140656810361536:node.py:get()- No need to evaluate\n"
     ]
    },
    {
     "name": "stderr",
     "output_type": "stream",
     "text": [
      "INFO\tTask(Task-2) nodify.node.140656810368304:node.py:get()- No need to evaluate\n"
     ]
    },
    {
     "name": "stderr",
     "output_type": "stream",
     "text": [
      "INFO\tTask(Task-2) nodify.node.140656814357152:node.py:get()- No need to evaluate\n"
     ]
    },
    {
     "name": "stderr",
     "output_type": "stream",
     "text": [
      "INFO\tTask(Task-2) nodify.node.140656810368880:node.py:get()- No need to evaluate\n"
     ]
    },
    {
     "name": "stderr",
     "output_type": "stream",
     "text": [
      "INFO\tTask(Task-2) nodify.node.140656810371424:node.py:get()- No need to evaluate\n"
     ]
    },
    {
     "name": "stderr",
     "output_type": "stream",
     "text": [
      "INFO\tTask(Task-2) nodify.node.140656810363120:node.py:get()- No need to evaluate\n"
     ]
    },
    {
     "name": "stderr",
     "output_type": "stream",
     "text": [
      "INFO\tTask(Task-2) nodify.node.140656814357152:node.py:get()- No need to evaluate\n"
     ]
    },
    {
     "name": "stderr",
     "output_type": "stream",
     "text": [
      "INFO\tTask(Task-2) nodify.node.140656810361536:node.py:get()- No need to evaluate\n"
     ]
    },
    {
     "name": "stderr",
     "output_type": "stream",
     "text": [
      "INFO\tTask(Task-2) nodify.node.140656810368304:node.py:get()- No need to evaluate\n"
     ]
    },
    {
     "name": "stderr",
     "output_type": "stream",
     "text": [
      "INFO\tTask(Task-2) nodify.node.140656814357152:node.py:get()- No need to evaluate\n"
     ]
    },
    {
     "name": "stderr",
     "output_type": "stream",
     "text": [
      "INFO\tTask(Task-2) nodify.node.140656810368880:node.py:get()- No need to evaluate\n"
     ]
    },
    {
     "name": "stderr",
     "output_type": "stream",
     "text": [
      "INFO\tTask(Task-2) nodify.node.140656810371760:node.py:get()- No need to evaluate\n"
     ]
    },
    {
     "name": "stderr",
     "output_type": "stream",
     "text": [
      "INFO\tTask(Task-2) nodify.node.140656814357152:node.py:get()- No need to evaluate\n"
     ]
    },
    {
     "name": "stderr",
     "output_type": "stream",
     "text": [
      "INFO\tTask(Task-2) nodify.node.140656810362016:node.py:get()- No need to evaluate\n"
     ]
    },
    {
     "name": "stderr",
     "output_type": "stream",
     "text": [
      "INFO\tTask(Task-2) nodify.node.140656810362112:node.py:get()- No need to evaluate\n"
     ]
    },
    {
     "name": "stderr",
     "output_type": "stream",
     "text": [
      "INFO\tTask(Task-2) nodify.node.140656810361248:node.py:get()- No need to evaluate\n"
     ]
    },
    {
     "name": "stderr",
     "output_type": "stream",
     "text": [
      "INFO\tTask(Task-2) nodify.node.140656810368784:node.py:get()- No need to evaluate\n"
     ]
    },
    {
     "name": "stderr",
     "output_type": "stream",
     "text": [
      "INFO\tTask(Task-2) nodify.node.140656814357152:node.py:get()- No need to evaluate\n"
     ]
    },
    {
     "name": "stderr",
     "output_type": "stream",
     "text": [
      "INFO\tTask(Task-2) nodify.node.140656810361536:node.py:get()- No need to evaluate\n"
     ]
    },
    {
     "name": "stderr",
     "output_type": "stream",
     "text": [
      "INFO\tTask(Task-2) nodify.node.140656810368304:node.py:get()- No need to evaluate\n"
     ]
    },
    {
     "name": "stderr",
     "output_type": "stream",
     "text": [
      "INFO\tTask(Task-2) nodify.node.140656814357152:node.py:get()- No need to evaluate\n"
     ]
    },
    {
     "name": "stderr",
     "output_type": "stream",
     "text": [
      "INFO\tTask(Task-2) nodify.node.140656810368880:node.py:get()- No need to evaluate\n"
     ]
    },
    {
     "name": "stderr",
     "output_type": "stream",
     "text": [
      "INFO\tTask(Task-2) nodify.node.140656810366240:node.py:get()- No need to evaluate\n"
     ]
    },
    {
     "name": "stderr",
     "output_type": "stream",
     "text": [
      "INFO\tTask(Task-2) nodify.node.140656810365856:node.py:get()- No need to evaluate\n"
     ]
    },
    {
     "name": "stderr",
     "output_type": "stream",
     "text": [
      "INFO\tTask(Task-2) nodify.node.140656810368592:node.py:get()- No need to evaluate\n"
     ]
    },
    {
     "name": "stderr",
     "output_type": "stream",
     "text": [
      "INFO\tTask(Task-2) nodify.node.140656810369024:node.py:get()- Evaluated because inputs changed.\n"
     ]
    },
    {
     "name": "stderr",
     "output_type": "stream",
     "text": [
      "INFO\tTask(Task-2) nodify.node.140656810372240:node.py:get()- Evaluated because inputs changed.\n"
     ]
    },
    {
     "name": "stderr",
     "output_type": "stream",
     "text": [
      "INFO\tTask(Task-2) nodify.node.140656810372720:node.py:get()- Evaluated because inputs changed.\n"
     ]
    },
    {
     "data": {
      "application/vnd.plotly.v1+json": {
       "config": {
        "plotlyServerURL": "https://plot.ly"
       },
       "data": [
        {
         "coloraxis": "coloraxis",
         "meta": {},
         "opacity": 0,
         "textfont": {
          "color": "black"
         },
         "type": "heatmap",
         "z": {
          "bdata": "hPjVt1v77z8d8lZMHyDkP9jICR3gdd8/0Cq88WAXwj8idcFelZnYPwAAAAAAAPh/AAAAAAAA+H8AAAAAAAD4fwAAAAAAAPh/7Td+MSRJpb8AAAAAAAD4fwAAAAAAAPh/AAAAAAAA+H8AAAAAAAD4fwAAAAAAAPh/HfJWTB8g5D96CSwuUDLuP8B7GcphXLS/7h30oo0E1b+glpMPy1jEvwAAAAAAAPh/AAAAAAAA+H8AAAAAAAD4fwAAAAAAAPh/GuNOeUPKir8AAAAAAAD4fwAAAAAAAPh/AAAAAAAA+H8AAAAAAAD4fwAAAAAAAPh/2MgJHeB13z/AexnKYVy0v1IiYxT1du8/cG5BjDIJpz8U8ISPJLzFvwAAAAAAAPh/AAAAAAAA+H8AAAAAAAD4fwAAAAAAAPh/CD0Jo6ngwD8AAAAAAAD4fwAAAAAAAPh/AAAAAAAA+H8AAAAAAAD4fwAAAAAAAPh/0Cq88WAXwj/uHfSijQTVv3BuQYwyCac/AI5GA+6Pf79l27r0GQTrPwAAAAAAAPh/AAAAAAAA+H8AAAAAAAD4fwAAAAAAAPh/c/1TXF0rrb8AAAAAAAD4fwAAAAAAAPh/AAAAAAAA+H8AAAAAAAD4fwAAAAAAAPh/InXBXpWZ2D+glpMPy1jEvxTwhI8kvMW/Zdu69BkE6z8kNemXVF/evwAAAAAAAPh/AAAAAAAA+H8AAAAAAAD4fwAAAAAAAPh/AAAAAAAA+H/tN34xJEmlvxrjTnlDyoq/CD0Jo6ngwD9z/VNcXSutvwAAAAAAAPh/",
          "dtype": "f8",
          "shape": "5, 15"
         },
         "zsmooth": false
        },
        {
         "hovertext": [
          "[ 0. -1.]",
          "[ 0. -1.]",
          "[ 0. -1.]",
          "[ 0. -1.]",
          "[ 0. -1.]",
          "[ 0. -1.]",
          "[ 0. -1.]",
          "[ 0.         -0.62927773]",
          "[ 0.         -0.62927773]",
          "[ 0.         -0.62927773]",
          "[ 0.         -0.62927773]",
          "[ 0.         -0.62927773]",
          "[ 0.         -0.62927773]",
          "[ 0.         -0.62927773]",
          "[ 0.         -0.49184824]",
          "[ 0.         -0.49184824]",
          "[ 0.         -0.49184824]",
          "[ 0.         -0.49184824]",
          "[ 0.         -0.49184824]",
          "[ 0.         -0.49184824]",
          "[ 0.         -0.49184824]",
          "[ 0.         -0.14141859]",
          "[ 0.         -0.14141859]",
          "[ 0.         -0.14141859]",
          "[ 0.         -0.14141859]",
          "[ 0.         -0.14141859]",
          "[ 0.         -0.14141859]",
          "[ 0.         -0.14141859]",
          "[ 0.         -0.38459191]",
          "[ 0.         -0.38459191]",
          "[ 0.         -0.38459191]",
          "[ 0.         -0.38459191]",
          "[ 0.         -0.38459191]",
          "[ 0.         -0.38459191]",
          "[ 0.         -0.38459191]",
          "[ 0. nan]",
          "[ 0. nan]",
          "[ 0. nan]",
          "[ 0. nan]",
          "[ 0. nan]",
          "[ 0. nan]",
          "[ 0. nan]",
          "[ 0. nan]",
          "[ 0. nan]",
          "[ 0. nan]",
          "[ 0. nan]",
          "[ 0. nan]",
          "[ 0. nan]",
          "[ 0. nan]",
          "[ 0. nan]",
          "[ 0. nan]",
          "[ 0. nan]",
          "[ 0. nan]",
          "[ 0. nan]",
          "[ 0. nan]",
          "[ 0. nan]",
          "[ 0. nan]",
          "[ 0. nan]",
          "[ 0. nan]",
          "[ 0. nan]",
          "[ 0. nan]",
          "[ 0. nan]",
          "[ 0. nan]",
          "[0.         0.04159722]",
          "[0.         0.04159722]",
          "[0.         0.04159722]",
          "[0.         0.04159722]",
          "[0.         0.04159722]",
          "[0.         0.04159722]",
          "[0.         0.04159722]",
          "[ 0. nan]",
          "[ 0. nan]",
          "[ 0. nan]",
          "[ 0. nan]",
          "[ 0. nan]",
          "[ 0. nan]",
          "[ 0. nan]",
          "[ 0. nan]",
          "[ 0. nan]",
          "[ 0. nan]",
          "[ 0. nan]",
          "[ 0. nan]",
          "[ 0. nan]",
          "[ 0. nan]",
          "[ 0. nan]",
          "[ 0. nan]",
          "[ 0. nan]",
          "[ 0. nan]",
          "[ 0. nan]",
          "[ 0. nan]",
          "[ 0. nan]",
          "[ 0. nan]",
          "[ 0. nan]",
          "[ 0. nan]",
          "[ 0. nan]",
          "[ 0. nan]",
          "[ 0. nan]",
          "[ 0. nan]",
          "[ 0. nan]",
          "[ 0. nan]",
          "[ 0. nan]",
          "[ 0. nan]",
          "[ 0. nan]",
          "[ 0. nan]",
          "[ 0. nan]",
          "[ 0.         -0.62927773]",
          "[ 0.         -0.62927773]",
          "[ 0.         -0.62927773]",
          "[ 0.         -0.62927773]",
          "[ 0.         -0.62927773]",
          "[ 0.         -0.62927773]",
          "[ 0.         -0.62927773]",
          "[ 0.         -0.94417674]",
          "[ 0.         -0.94417674]",
          "[ 0.         -0.94417674]",
          "[ 0.         -0.94417674]",
          "[ 0.         -0.94417674]",
          "[ 0.         -0.94417674]",
          "[ 0.         -0.94417674]",
          "[0.         0.07957973]",
          "[0.         0.07957973]",
          "[0.         0.07957973]",
          "[0.         0.07957973]",
          "[0.         0.07957973]",
          "[0.         0.07957973]",
          "[0.         0.07957973]",
          "[0.         0.32858909]",
          "[0.         0.32858909]",
          "[0.         0.32858909]",
          "[0.         0.32858909]",
          "[0.         0.32858909]",
          "[0.         0.32858909]",
          "[0.         0.32858909]",
          "[0.         0.15904987]",
          "[0.         0.15904987]",
          "[0.         0.15904987]",
          "[0.         0.15904987]",
          "[0.         0.15904987]",
          "[0.         0.15904987]",
          "[0.         0.15904987]",
          "[ 0. nan]",
          "[ 0. nan]",
          "[ 0. nan]",
          "[ 0. nan]",
          "[ 0. nan]",
          "[ 0. nan]",
          "[ 0. nan]",
          "[ 0. nan]",
          "[ 0. nan]",
          "[ 0. nan]",
          "[ 0. nan]",
          "[ 0. nan]",
          "[ 0. nan]",
          "[ 0. nan]",
          "[ 0. nan]",
          "[ 0. nan]",
          "[ 0. nan]",
          "[ 0. nan]",
          "[ 0. nan]",
          "[ 0. nan]",
          "[ 0. nan]",
          "[ 0. nan]",
          "[ 0. nan]",
          "[ 0. nan]",
          "[ 0. nan]",
          "[ 0. nan]",
          "[ 0. nan]",
          "[ 0. nan]",
          "[0.         0.01308852]",
          "[0.         0.01308852]",
          "[0.         0.01308852]",
          "[0.         0.01308852]",
          "[0.         0.01308852]",
          "[0.         0.01308852]",
          "[0.         0.01308852]",
          "[ 0. nan]",
          "[ 0. nan]",
          "[ 0. nan]",
          "[ 0. nan]",
          "[ 0. nan]",
          "[ 0. nan]",
          "[ 0. nan]",
          "[ 0. nan]",
          "[ 0. nan]",
          "[ 0. nan]",
          "[ 0. nan]",
          "[ 0. nan]",
          "[ 0. nan]",
          "[ 0. nan]",
          "[ 0. nan]",
          "[ 0. nan]",
          "[ 0. nan]",
          "[ 0. nan]",
          "[ 0. nan]",
          "[ 0. nan]",
          "[ 0. nan]",
          "[ 0. nan]",
          "[ 0. nan]",
          "[ 0. nan]",
          "[ 0. nan]",
          "[ 0. nan]",
          "[ 0. nan]",
          "[ 0. nan]",
          "[ 0. nan]",
          "[ 0. nan]",
          "[ 0. nan]",
          "[ 0. nan]",
          "[ 0. nan]",
          "[ 0. nan]",
          "[ 0. nan]",
          "[ 0.         -0.49184824]",
          "[ 0.         -0.49184824]",
          "[ 0.         -0.49184824]",
          "[ 0.         -0.49184824]",
          "[ 0.         -0.49184824]",
          "[ 0.         -0.49184824]",
          "[ 0.         -0.49184824]",
          "[0.         0.07957973]",
          "[0.         0.07957973]",
          "[0.         0.07957973]",
          "[0.         0.07957973]",
          "[0.         0.07957973]",
          "[0.         0.07957973]",
          "[0.         0.07957973]",
          "[ 0.         -0.98382861]",
          "[ 0.         -0.98382861]",
          "[ 0.         -0.98382861]",
          "[ 0.         -0.98382861]",
          "[ 0.         -0.98382861]",
          "[ 0.         -0.98382861]",
          "[ 0.         -0.98382861]",
          "[ 0.         -0.04501755]",
          "[ 0.         -0.04501755]",
          "[ 0.         -0.04501755]",
          "[ 0.         -0.04501755]",
          "[ 0.         -0.04501755]",
          "[ 0.         -0.04501755]",
          "[ 0.         -0.04501755]",
          "[0.         0.16990043]",
          "[0.         0.16990043]",
          "[0.         0.16990043]",
          "[0.         0.16990043]",
          "[0.         0.16990043]",
          "[0.         0.16990043]",
          "[0.         0.16990043]",
          "[ 0. nan]",
          "[ 0. nan]",
          "[ 0. nan]",
          "[ 0. nan]",
          "[ 0. nan]",
          "[ 0. nan]",
          "[ 0. nan]",
          "[ 0. nan]",
          "[ 0. nan]",
          "[ 0. nan]",
          "[ 0. nan]",
          "[ 0. nan]",
          "[ 0. nan]",
          "[ 0. nan]",
          "[ 0. nan]",
          "[ 0. nan]",
          "[ 0. nan]",
          "[ 0. nan]",
          "[ 0. nan]",
          "[ 0. nan]",
          "[ 0. nan]",
          "[ 0. nan]",
          "[ 0. nan]",
          "[ 0. nan]",
          "[ 0. nan]",
          "[ 0. nan]",
          "[ 0. nan]",
          "[ 0. nan]",
          "[ 0.         -0.13193091]",
          "[ 0.         -0.13193091]",
          "[ 0.         -0.13193091]",
          "[ 0.         -0.13193091]",
          "[ 0.         -0.13193091]",
          "[ 0.         -0.13193091]",
          "[ 0.         -0.13193091]",
          "[ 0. nan]",
          "[ 0. nan]",
          "[ 0. nan]",
          "[ 0. nan]",
          "[ 0. nan]",
          "[ 0. nan]",
          "[ 0. nan]",
          "[ 0. nan]",
          "[ 0. nan]",
          "[ 0. nan]",
          "[ 0. nan]",
          "[ 0. nan]",
          "[ 0. nan]",
          "[ 0. nan]",
          "[ 0. nan]",
          "[ 0. nan]",
          "[ 0. nan]",
          "[ 0. nan]",
          "[ 0. nan]",
          "[ 0. nan]",
          "[ 0. nan]",
          "[ 0. nan]",
          "[ 0. nan]",
          "[ 0. nan]",
          "[ 0. nan]",
          "[ 0. nan]",
          "[ 0. nan]",
          "[ 0. nan]",
          "[ 0. nan]",
          "[ 0. nan]",
          "[ 0. nan]",
          "[ 0. nan]",
          "[ 0. nan]",
          "[ 0. nan]",
          "[ 0. nan]",
          "[ 0.         -0.14141859]",
          "[ 0.         -0.14141859]",
          "[ 0.         -0.14141859]",
          "[ 0.         -0.14141859]",
          "[ 0.         -0.14141859]",
          "[ 0.         -0.14141859]",
          "[ 0.         -0.14141859]",
          "[0.         0.32858909]",
          "[0.         0.32858909]",
          "[0.         0.32858909]",
          "[0.         0.32858909]",
          "[0.         0.32858909]",
          "[0.         0.32858909]",
          "[0.         0.32858909]",
          "[ 0.         -0.04501755]",
          "[ 0.         -0.04501755]",
          "[ 0.         -0.04501755]",
          "[ 0.         -0.04501755]",
          "[ 0.         -0.04501755]",
          "[ 0.         -0.04501755]",
          "[ 0.         -0.04501755]",
          "[0.         0.00770999]",
          "[0.         0.00770999]",
          "[0.         0.00770999]",
          "[0.         0.00770999]",
          "[0.         0.00770999]",
          "[0.         0.00770999]",
          "[0.         0.00770999]",
          "[ 0.        -0.8447293]",
          "[ 0.        -0.8447293]",
          "[ 0.        -0.8447293]",
          "[ 0.        -0.8447293]",
          "[ 0.        -0.8447293]",
          "[ 0.        -0.8447293]",
          "[ 0.        -0.8447293]",
          "[ 0. nan]",
          "[ 0. nan]",
          "[ 0. nan]",
          "[ 0. nan]",
          "[ 0. nan]",
          "[ 0. nan]",
          "[ 0. nan]",
          "[ 0. nan]",
          "[ 0. nan]",
          "[ 0. nan]",
          "[ 0. nan]",
          "[ 0. nan]",
          "[ 0. nan]",
          "[ 0. nan]",
          "[ 0. nan]",
          "[ 0. nan]",
          "[ 0. nan]",
          "[ 0. nan]",
          "[ 0. nan]",
          "[ 0. nan]",
          "[ 0. nan]",
          "[ 0. nan]",
          "[ 0. nan]",
          "[ 0. nan]",
          "[ 0. nan]",
          "[ 0. nan]",
          "[ 0. nan]",
          "[ 0. nan]",
          "[0.         0.05700377]",
          "[0.         0.05700377]",
          "[0.         0.05700377]",
          "[0.         0.05700377]",
          "[0.         0.05700377]",
          "[0.         0.05700377]",
          "[0.         0.05700377]",
          "[ 0. nan]",
          "[ 0. nan]",
          "[ 0. nan]",
          "[ 0. nan]",
          "[ 0. nan]",
          "[ 0. nan]",
          "[ 0. nan]",
          "[ 0. nan]",
          "[ 0. nan]",
          "[ 0. nan]",
          "[ 0. nan]",
          "[ 0. nan]",
          "[ 0. nan]",
          "[ 0. nan]",
          "[ 0. nan]",
          "[ 0. nan]",
          "[ 0. nan]",
          "[ 0. nan]",
          "[ 0. nan]",
          "[ 0. nan]",
          "[ 0. nan]",
          "[ 0. nan]",
          "[ 0. nan]",
          "[ 0. nan]",
          "[ 0. nan]",
          "[ 0. nan]",
          "[ 0. nan]",
          "[ 0. nan]",
          "[ 0. nan]",
          "[ 0. nan]",
          "[ 0. nan]",
          "[ 0. nan]",
          "[ 0. nan]",
          "[ 0. nan]",
          "[ 0. nan]",
          "[ 0.         -0.38459191]",
          "[ 0.         -0.38459191]",
          "[ 0.         -0.38459191]",
          "[ 0.         -0.38459191]",
          "[ 0.         -0.38459191]",
          "[ 0.         -0.38459191]",
          "[ 0.         -0.38459191]",
          "[0.         0.15904987]",
          "[0.         0.15904987]",
          "[0.         0.15904987]",
          "[0.         0.15904987]",
          "[0.         0.15904987]",
          "[0.         0.15904987]",
          "[0.         0.15904987]",
          "[0.         0.16990043]",
          "[0.         0.16990043]",
          "[0.         0.16990043]",
          "[0.         0.16990043]",
          "[0.         0.16990043]",
          "[0.         0.16990043]",
          "[0.         0.16990043]",
          "[ 0.        -0.8447293]",
          "[ 0.        -0.8447293]",
          "[ 0.        -0.8447293]",
          "[ 0.        -0.8447293]",
          "[ 0.        -0.8447293]",
          "[ 0.        -0.8447293]",
          "[ 0.        -0.8447293]",
          "[0.         0.47483756]",
          "[0.         0.47483756]",
          "[0.         0.47483756]",
          "[0.         0.47483756]",
          "[0.         0.47483756]",
          "[0.         0.47483756]",
          "[0.         0.47483756]",
          "[ 0. nan]",
          "[ 0. nan]",
          "[ 0. nan]",
          "[ 0. nan]",
          "[ 0. nan]",
          "[ 0. nan]",
          "[ 0. nan]",
          "[ 0. nan]",
          "[ 0. nan]",
          "[ 0. nan]",
          "[ 0. nan]",
          "[ 0. nan]",
          "[ 0. nan]",
          "[ 0. nan]",
          "[ 0. nan]",
          "[ 0. nan]",
          "[ 0. nan]",
          "[ 0. nan]",
          "[ 0. nan]",
          "[ 0. nan]",
          "[ 0. nan]",
          "[ 0. nan]",
          "[ 0. nan]",
          "[ 0. nan]",
          "[ 0. nan]",
          "[ 0. nan]",
          "[ 0. nan]",
          "[ 0. nan]",
          "[ 0. nan]",
          "[ 0. nan]",
          "[ 0. nan]",
          "[ 0. nan]",
          "[ 0. nan]",
          "[ 0. nan]",
          "[ 0. nan]",
          "[0.         0.04159722]",
          "[0.         0.04159722]",
          "[0.         0.04159722]",
          "[0.         0.04159722]",
          "[0.         0.04159722]",
          "[0.         0.04159722]",
          "[0.         0.04159722]",
          "[0.         0.01308852]",
          "[0.         0.01308852]",
          "[0.         0.01308852]",
          "[0.         0.01308852]",
          "[0.         0.01308852]",
          "[0.         0.01308852]",
          "[0.         0.01308852]",
          "[ 0.         -0.13193091]",
          "[ 0.         -0.13193091]",
          "[ 0.         -0.13193091]",
          "[ 0.         -0.13193091]",
          "[ 0.         -0.13193091]",
          "[ 0.         -0.13193091]",
          "[ 0.         -0.13193091]",
          "[0.         0.05700377]",
          "[0.         0.05700377]",
          "[0.         0.05700377]",
          "[0.         0.05700377]",
          "[0.         0.05700377]",
          "[0.         0.05700377]",
          "[0.         0.05700377]",
          "[ 0. nan]",
          "[ 0. nan]",
          "[ 0. nan]",
          "[ 0. nan]",
          "[ 0. nan]",
          "[ 0. nan]",
          "[ 0. nan]"
         ],
         "line": {
          "color": "blue"
         },
         "meta": {},
         "mode": "lines",
         "type": "scatter",
         "x": {
          "bdata": "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",
          "dtype": "f8"
         },
         "y": {
          "bdata": "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",
          "dtype": "f8"
         }
        },
        {
         "line": {
          "color": "pink",
          "dash": "dash",
          "width": 5
         },
         "meta": {},
         "mode": "lines",
         "name": "orbitals separators",
         "opacity": 0.8,
         "showlegend": false,
         "type": "scatter",
         "x": {
          "bdata": "AAAAAAAA4L8AAAAAAAASQAAAAAAAAPh/AAAAAAAA4D8AAAAAAADgPwAAAAAAAPh/",
          "dtype": "f8"
         },
         "y": {
          "bdata": "AAAAAAAA4D8AAAAAAADgPwAAAAAAAPh/AAAAAAAA4L8AAAAAAAASQAAAAAAAAPh/",
          "dtype": "f8"
         }
        },
        {
         "line": {
          "color": "gray"
         },
         "meta": {},
         "mode": "lines",
         "name": "atoms separators",
         "opacity": 1,
         "showlegend": false,
         "type": "scatter",
         "x": {
          "bdata": "AAAAAAAA4L8AAAAAAAASQAAAAAAAAPh/AAAAAAAADEAAAAAAAAAMQAAAAAAAAPh/",
          "dtype": "f8"
         },
         "y": {
          "bdata": "AAAAAAAADEAAAAAAAAAMQAAAAAAAAPh/AAAAAAAA4L8AAAAAAAASQAAAAAAAAPh/",
          "dtype": "f8"
         }
        }
       ],
       "layout": {
        "coloraxis": {
         "cmid": 0,
         "colorscale": [
          [
           0.0,
           "rgb(0, 147, 146)"
          ],
          [
           0.16666666666666666,
           "rgb(57, 177, 133)"
          ],
          [
           0.3333333333333333,
           "rgb(156, 203, 134)"
          ],
          [
           0.5,
           "rgb(233, 226, 156)"
          ],
          [
           0.6666666666666666,
           "rgb(238, 180, 121)"
          ],
          [
           0.8333333333333334,
           "rgb(232, 132, 113)"
          ],
          [
           1.0,
           "rgb(207, 89, 126)"
          ]
         ],
         "showscale": false
        },
        "scene": {
         "aspectmode": "data",
         "xaxis": {
          "range": [
           -0.5,
           14.5
          ]
         },
         "yaxis": {
          "range": [
           4.5,
           -0.5
          ]
         }
        },
        "template": {
         "layout": {
          "hovermode": "closest",
          "paper_bgcolor": "white",
          "plot_bgcolor": "white",
          "scene": {
           "xaxis": {
            "color": "black",
            "gridcolor": "#ccc",
            "gridwidth": 1,
            "linewidth": 1,
            "mirror": true,
            "showgrid": false,
            "showline": true,
            "ticklen": 5,
            "ticks": "outside",
            "ticksuffix": " ",
            "visible": true,
            "zeroline": false,
            "zerolinecolor": "#ccc",
            "zerolinewidth": 1
           },
           "yaxis": {
            "color": "black",
            "gridcolor": "#ccc",
            "gridwidth": 1,
            "linewidth": 1,
            "mirror": true,
            "showgrid": false,
            "showline": true,
            "ticklen": 5,
            "ticks": "outside",
            "ticksuffix": " ",
            "visible": true,
            "zeroline": false,
            "zerolinecolor": "#ccc",
            "zerolinewidth": 1
           },
           "zaxis": {
            "color": "black",
            "gridcolor": "#ccc",
            "gridwidth": 1,
            "linewidth": 1,
            "mirror": true,
            "showgrid": false,
            "showline": true,
            "ticklen": 5,
            "ticks": "outside",
            "ticksuffix": " ",
            "visible": true,
            "zeroline": false,
            "zerolinecolor": "#ccc",
            "zerolinewidth": 1
           }
          },
          "xaxis": {
           "color": "black",
           "gridcolor": "#ccc",
           "gridwidth": 1,
           "linewidth": 1,
           "mirror": true,
           "showgrid": false,
           "showline": true,
           "ticklen": 5,
           "ticks": "outside",
           "ticksuffix": " ",
           "visible": true,
           "zeroline": false,
           "zerolinecolor": "#ccc",
           "zerolinewidth": 1
          },
          "yaxis": {
           "color": "black",
           "gridcolor": "#ccc",
           "gridwidth": 1,
           "linewidth": 1,
           "mirror": true,
           "showgrid": false,
           "showline": true,
           "ticklen": 5,
           "ticks": "outside",
           "ticksuffix": " ",
           "visible": true,
           "zeroline": false,
           "zerolinecolor": "#ccc",
           "zerolinewidth": 1
          }
         }
        },
        "xaxis": {
         "constrain": "domain",
         "range": [
          -0.5,
          14.5
         ],
         "scaleanchor": "y",
         "scaleratio": 1
        },
        "yaxis": {
         "constrain": "domain",
         "range": [
          4.5,
          -0.5
         ]
        }
       }
      }
     },
     "metadata": {},
     "output_type": "display_data"
    }
   ],
   "source": [
    "plot.update_inputs(color_pixels=False, text=None)"
   ]
  },
  {
   "cell_type": "markdown",
   "metadata": {},
   "source": [
    "If you want to plot custom data for the arrows, you have to pass a sparse matrix where the last dimension is the cartesian coordinate `(X, Y)`. Let's create some random data to display it:"
   ]
  },
  {
   "cell_type": "code",
   "execution_count": 20,
   "metadata": {
    "execution": {
     "iopub.execute_input": "2025-08-14T08:06:04.228592Z",
     "iopub.status.busy": "2025-08-14T08:06:04.228419Z",
     "iopub.status.idle": "2025-08-14T08:06:04.371454Z",
     "shell.execute_reply": "2025-08-14T08:06:04.370845Z"
    }
   },
   "outputs": [
    {
     "name": "stderr",
     "output_type": "stream",
     "text": [
      "INFO\tTask(Task-2) nodify.node.140656810367008:node.py:get()- No need to evaluate\n"
     ]
    },
    {
     "name": "stderr",
     "output_type": "stream",
     "text": [
      "INFO\tTask(Task-2) nodify.node.140656814357152:node.py:get()- No need to evaluate\n"
     ]
    },
    {
     "name": "stderr",
     "output_type": "stream",
     "text": [
      "INFO\tTask(Task-2) nodify.node.140656810362016:node.py:get()- No need to evaluate\n"
     ]
    },
    {
     "name": "stderr",
     "output_type": "stream",
     "text": [
      "INFO\tTask(Task-2) nodify.node.140656810362112:node.py:get()- No need to evaluate\n"
     ]
    },
    {
     "name": "stderr",
     "output_type": "stream",
     "text": [
      "INFO\tTask(Task-2) nodify.node.140656810361248:node.py:get()- No need to evaluate\n"
     ]
    },
    {
     "name": "stderr",
     "output_type": "stream",
     "text": [
      "INFO\tTask(Task-2) nodify.node.140656810368784:node.py:get()- No need to evaluate\n"
     ]
    },
    {
     "name": "stderr",
     "output_type": "stream",
     "text": [
      "INFO\tTask(Task-2) nodify.node.140656810363936:node.py:get()- No need to evaluate\n"
     ]
    },
    {
     "name": "stderr",
     "output_type": "stream",
     "text": [
      "INFO\tTask(Task-2) nodify.node.140656810364320:node.py:get()- No need to evaluate\n"
     ]
    },
    {
     "name": "stderr",
     "output_type": "stream",
     "text": [
      "INFO\tTask(Task-2) nodify.node.140656814357152:node.py:get()- No need to evaluate\n"
     ]
    },
    {
     "name": "stderr",
     "output_type": "stream",
     "text": [
      "INFO\tTask(Task-2) nodify.node.140656810364704:node.py:get()- No need to evaluate\n"
     ]
    },
    {
     "name": "stderr",
     "output_type": "stream",
     "text": [
      "INFO\tTask(Task-2) nodify.node.140656810364320:node.py:get()- No need to evaluate\n"
     ]
    },
    {
     "name": "stderr",
     "output_type": "stream",
     "text": [
      "INFO\tTask(Task-2) nodify.node.140656810370032:node.py:get()- No need to evaluate\n"
     ]
    },
    {
     "name": "stderr",
     "output_type": "stream",
     "text": [
      "INFO\tTask(Task-2) nodify.node.140656810363552:node.py:get()- No need to evaluate\n"
     ]
    },
    {
     "name": "stderr",
     "output_type": "stream",
     "text": [
      "INFO\tTask(Task-2) nodify.node.140656810365088:node.py:get()- No need to evaluate\n"
     ]
    },
    {
     "name": "stderr",
     "output_type": "stream",
     "text": [
      "INFO\tTask(Task-2) nodify.node.140656810365472:node.py:get()- No need to evaluate\n"
     ]
    },
    {
     "name": "stderr",
     "output_type": "stream",
     "text": [
      "INFO\tTask(Task-2) nodify.node.140656810369936:node.py:get()- No need to evaluate\n"
     ]
    },
    {
     "name": "stderr",
     "output_type": "stream",
     "text": [
      "INFO\tTask(Task-2) nodify.node.140656814357152:node.py:get()- No need to evaluate\n"
     ]
    },
    {
     "name": "stderr",
     "output_type": "stream",
     "text": [
      "INFO\tTask(Task-2) nodify.node.140656810362016:node.py:get()- No need to evaluate\n"
     ]
    },
    {
     "name": "stderr",
     "output_type": "stream",
     "text": [
      "INFO\tTask(Task-2) nodify.node.140656810362112:node.py:get()- No need to evaluate\n"
     ]
    },
    {
     "name": "stderr",
     "output_type": "stream",
     "text": [
      "INFO\tTask(Task-2) nodify.node.140656810361248:node.py:get()- No need to evaluate\n"
     ]
    },
    {
     "name": "stderr",
     "output_type": "stream",
     "text": [
      "INFO\tTask(Task-2) nodify.node.140656810368784:node.py:get()- No need to evaluate\n"
     ]
    },
    {
     "name": "stderr",
     "output_type": "stream",
     "text": [
      "INFO\tTask(Task-2) nodify.node.140656810366624:node.py:get()- Evaluated because inputs changed.\n"
     ]
    },
    {
     "name": "stderr",
     "output_type": "stream",
     "text": [
      "INFO\tTask(Task-2) nodify.node.140656810370704:node.py:get()- Evaluated because inputs changed.\n"
     ]
    },
    {
     "name": "stderr",
     "output_type": "stream",
     "text": [
      "INFO\tTask(Task-2) nodify.node.140656810370080:node.py:get()- Evaluated because inputs changed.\n"
     ]
    },
    {
     "name": "stderr",
     "output_type": "stream",
     "text": [
      "INFO\tTask(Task-2) nodify.node.140656810361392:node.py:get()- No need to evaluate\n"
     ]
    },
    {
     "name": "stderr",
     "output_type": "stream",
     "text": [
      "INFO\tTask(Task-2) nodify.node.140656814357152:node.py:get()- No need to evaluate\n"
     ]
    },
    {
     "name": "stderr",
     "output_type": "stream",
     "text": [
      "INFO\tTask(Task-2) nodify.node.140656810361536:node.py:get()- No need to evaluate\n"
     ]
    },
    {
     "name": "stderr",
     "output_type": "stream",
     "text": [
      "INFO\tTask(Task-2) nodify.node.140656810368304:node.py:get()- No need to evaluate\n"
     ]
    },
    {
     "name": "stderr",
     "output_type": "stream",
     "text": [
      "INFO\tTask(Task-2) nodify.node.140656814357152:node.py:get()- No need to evaluate\n"
     ]
    },
    {
     "name": "stderr",
     "output_type": "stream",
     "text": [
      "INFO\tTask(Task-2) nodify.node.140656810368880:node.py:get()- No need to evaluate\n"
     ]
    },
    {
     "name": "stderr",
     "output_type": "stream",
     "text": [
      "INFO\tTask(Task-2) nodify.node.140656810370752:node.py:get()- No need to evaluate\n"
     ]
    },
    {
     "name": "stderr",
     "output_type": "stream",
     "text": [
      "INFO\tTask(Task-2) nodify.node.140656810362592:node.py:get()- No need to evaluate\n"
     ]
    },
    {
     "name": "stderr",
     "output_type": "stream",
     "text": [
      "INFO\tTask(Task-2) nodify.node.140656814357152:node.py:get()- No need to evaluate\n"
     ]
    },
    {
     "name": "stderr",
     "output_type": "stream",
     "text": [
      "INFO\tTask(Task-2) nodify.node.140656810361536:node.py:get()- No need to evaluate\n"
     ]
    },
    {
     "name": "stderr",
     "output_type": "stream",
     "text": [
      "INFO\tTask(Task-2) nodify.node.140656810368304:node.py:get()- No need to evaluate\n"
     ]
    },
    {
     "name": "stderr",
     "output_type": "stream",
     "text": [
      "INFO\tTask(Task-2) nodify.node.140656814357152:node.py:get()- No need to evaluate\n"
     ]
    },
    {
     "name": "stderr",
     "output_type": "stream",
     "text": [
      "INFO\tTask(Task-2) nodify.node.140656810368880:node.py:get()- No need to evaluate\n"
     ]
    },
    {
     "name": "stderr",
     "output_type": "stream",
     "text": [
      "INFO\tTask(Task-2) nodify.node.140656810371424:node.py:get()- No need to evaluate\n"
     ]
    },
    {
     "name": "stderr",
     "output_type": "stream",
     "text": [
      "INFO\tTask(Task-2) nodify.node.140656810363120:node.py:get()- No need to evaluate\n"
     ]
    },
    {
     "name": "stderr",
     "output_type": "stream",
     "text": [
      "INFO\tTask(Task-2) nodify.node.140656814357152:node.py:get()- No need to evaluate\n"
     ]
    },
    {
     "name": "stderr",
     "output_type": "stream",
     "text": [
      "INFO\tTask(Task-2) nodify.node.140656810361536:node.py:get()- No need to evaluate\n"
     ]
    },
    {
     "name": "stderr",
     "output_type": "stream",
     "text": [
      "INFO\tTask(Task-2) nodify.node.140656810368304:node.py:get()- No need to evaluate\n"
     ]
    },
    {
     "name": "stderr",
     "output_type": "stream",
     "text": [
      "INFO\tTask(Task-2) nodify.node.140656814357152:node.py:get()- No need to evaluate\n"
     ]
    },
    {
     "name": "stderr",
     "output_type": "stream",
     "text": [
      "INFO\tTask(Task-2) nodify.node.140656810368880:node.py:get()- No need to evaluate\n"
     ]
    },
    {
     "name": "stderr",
     "output_type": "stream",
     "text": [
      "INFO\tTask(Task-2) nodify.node.140656810371760:node.py:get()- No need to evaluate\n"
     ]
    },
    {
     "name": "stderr",
     "output_type": "stream",
     "text": [
      "INFO\tTask(Task-2) nodify.node.140656814357152:node.py:get()- No need to evaluate\n"
     ]
    },
    {
     "name": "stderr",
     "output_type": "stream",
     "text": [
      "INFO\tTask(Task-2) nodify.node.140656810362016:node.py:get()- No need to evaluate\n"
     ]
    },
    {
     "name": "stderr",
     "output_type": "stream",
     "text": [
      "INFO\tTask(Task-2) nodify.node.140656810362112:node.py:get()- No need to evaluate\n"
     ]
    },
    {
     "name": "stderr",
     "output_type": "stream",
     "text": [
      "INFO\tTask(Task-2) nodify.node.140656810361248:node.py:get()- No need to evaluate\n"
     ]
    },
    {
     "name": "stderr",
     "output_type": "stream",
     "text": [
      "INFO\tTask(Task-2) nodify.node.140656810368784:node.py:get()- No need to evaluate\n"
     ]
    },
    {
     "name": "stderr",
     "output_type": "stream",
     "text": [
      "INFO\tTask(Task-2) nodify.node.140656814357152:node.py:get()- No need to evaluate\n"
     ]
    },
    {
     "name": "stderr",
     "output_type": "stream",
     "text": [
      "INFO\tTask(Task-2) nodify.node.140656810361536:node.py:get()- No need to evaluate\n"
     ]
    },
    {
     "name": "stderr",
     "output_type": "stream",
     "text": [
      "INFO\tTask(Task-2) nodify.node.140656810368304:node.py:get()- No need to evaluate\n"
     ]
    },
    {
     "name": "stderr",
     "output_type": "stream",
     "text": [
      "INFO\tTask(Task-2) nodify.node.140656814357152:node.py:get()- No need to evaluate\n"
     ]
    },
    {
     "name": "stderr",
     "output_type": "stream",
     "text": [
      "INFO\tTask(Task-2) nodify.node.140656810368880:node.py:get()- No need to evaluate\n"
     ]
    },
    {
     "name": "stderr",
     "output_type": "stream",
     "text": [
      "INFO\tTask(Task-2) nodify.node.140656810366240:node.py:get()- No need to evaluate\n"
     ]
    },
    {
     "name": "stderr",
     "output_type": "stream",
     "text": [
      "INFO\tTask(Task-2) nodify.node.140656810365856:node.py:get()- No need to evaluate\n"
     ]
    },
    {
     "name": "stderr",
     "output_type": "stream",
     "text": [
      "INFO\tTask(Task-2) nodify.node.140656810368592:node.py:get()- No need to evaluate\n"
     ]
    },
    {
     "name": "stderr",
     "output_type": "stream",
     "text": [
      "INFO\tTask(Task-2) nodify.node.140656810369024:node.py:get()- Evaluated because inputs changed.\n"
     ]
    },
    {
     "name": "stderr",
     "output_type": "stream",
     "text": [
      "INFO\tTask(Task-2) nodify.node.140656810372240:node.py:get()- Evaluated because inputs changed.\n"
     ]
    },
    {
     "name": "stderr",
     "output_type": "stream",
     "text": [
      "INFO\tTask(Task-2) nodify.node.140656810372720:node.py:get()- Evaluated because inputs changed.\n"
     ]
    },
    {
     "data": {
      "application/vnd.plotly.v1+json": {
       "config": {
        "plotlyServerURL": "https://plot.ly"
       },
       "data": [
        {
         "coloraxis": "coloraxis",
         "meta": {},
         "opacity": 0,
         "textfont": {
          "color": "black"
         },
         "type": "heatmap",
         "z": {
          "bdata": "hPjVt1v77z8d8lZMHyDkP9jICR3gdd8/0Cq88WAXwj8idcFelZnYPwAAAAAAAPh/AAAAAAAA+H8AAAAAAAD4fwAAAAAAAPh/7Td+MSRJpb8AAAAAAAD4fwAAAAAAAPh/AAAAAAAA+H8AAAAAAAD4fwAAAAAAAPh/HfJWTB8g5D96CSwuUDLuP8B7GcphXLS/7h30oo0E1b+glpMPy1jEvwAAAAAAAPh/AAAAAAAA+H8AAAAAAAD4fwAAAAAAAPh/GuNOeUPKir8AAAAAAAD4fwAAAAAAAPh/AAAAAAAA+H8AAAAAAAD4fwAAAAAAAPh/2MgJHeB13z/AexnKYVy0v1IiYxT1du8/cG5BjDIJpz8U8ISPJLzFvwAAAAAAAPh/AAAAAAAA+H8AAAAAAAD4fwAAAAAAAPh/CD0Jo6ngwD8AAAAAAAD4fwAAAAAAAPh/AAAAAAAA+H8AAAAAAAD4fwAAAAAAAPh/0Cq88WAXwj/uHfSijQTVv3BuQYwyCac/AI5GA+6Pf79l27r0GQTrPwAAAAAAAPh/AAAAAAAA+H8AAAAAAAD4fwAAAAAAAPh/c/1TXF0rrb8AAAAAAAD4fwAAAAAAAPh/AAAAAAAA+H8AAAAAAAD4fwAAAAAAAPh/InXBXpWZ2D+glpMPy1jEvxTwhI8kvMW/Zdu69BkE6z8kNemXVF/evwAAAAAAAPh/AAAAAAAA+H8AAAAAAAD4fwAAAAAAAPh/AAAAAAAA+H/tN34xJEmlvxrjTnlDyoq/CD0Jo6ngwD9z/VNcXSutvwAAAAAAAPh/",
          "dtype": "f8",
          "shape": "5, 15"
         },
         "zsmooth": false
        },
        {
         "hovertext": [
          "[ 0.72761082 -0.68599016]",
          "[ 0.72761082 -0.68599016]",
          "[ 0.72761082 -0.68599016]",
          "[ 0.72761082 -0.68599016]",
          "[ 0.72761082 -0.68599016]",
          "[ 0.72761082 -0.68599016]",
          "[ 0.72761082 -0.68599016]",
          "[ 0.45786929 -0.38780195]",
          "[ 0.45786929 -0.38780195]",
          "[ 0.45786929 -0.38780195]",
          "[ 0.45786929 -0.38780195]",
          "[ 0.45786929 -0.38780195]",
          "[ 0.45786929 -0.38780195]",
          "[ 0.45786929 -0.38780195]",
          "[ 0.3578741  -0.14314211]",
          "[ 0.3578741  -0.14314211]",
          "[ 0.3578741  -0.14314211]",
          "[ 0.3578741  -0.14314211]",
          "[ 0.3578741  -0.14314211]",
          "[ 0.3578741  -0.14314211]",
          "[ 0.3578741  -0.14314211]",
          "[ 0.1028977  -0.08520747]",
          "[ 0.1028977  -0.08520747]",
          "[ 0.1028977  -0.08520747]",
          "[ 0.1028977  -0.08520747]",
          "[ 0.1028977  -0.08520747]",
          "[ 0.1028977  -0.08520747]",
          "[ 0.1028977  -0.08520747]",
          "[ 0.27983323 -0.17747321]",
          "[ 0.27983323 -0.17747321]",
          "[ 0.27983323 -0.17747321]",
          "[ 0.27983323 -0.17747321]",
          "[ 0.27983323 -0.17747321]",
          "[ 0.27983323 -0.17747321]",
          "[ 0.27983323 -0.17747321]",
          "[ 0. -0.]",
          "[ 0. -0.]",
          "[ 0. -0.]",
          "[ 0. -0.]",
          "[ 0. -0.]",
          "[ 0. -0.]",
          "[ 0. -0.]",
          "[ 0. -0.]",
          "[ 0. -0.]",
          "[ 0. -0.]",
          "[ 0. -0.]",
          "[ 0. -0.]",
          "[ 0. -0.]",
          "[ 0. -0.]",
          "[ 0. -0.]",
          "[ 0. -0.]",
          "[ 0. -0.]",
          "[ 0. -0.]",
          "[ 0. -0.]",
          "[ 0. -0.]",
          "[ 0. -0.]",
          "[ 0. -0.]",
          "[ 0. -0.]",
          "[ 0. -0.]",
          "[ 0. -0.]",
          "[ 0. -0.]",
          "[ 0. -0.]",
          "[ 0. -0.]",
          "[-0.03026659  0.02198296]",
          "[-0.03026659  0.02198296]",
          "[-0.03026659  0.02198296]",
          "[-0.03026659  0.02198296]",
          "[-0.03026659  0.02198296]",
          "[-0.03026659  0.02198296]",
          "[-0.03026659  0.02198296]",
          "[ 0. -0.]",
          "[ 0. -0.]",
          "[ 0. -0.]",
          "[ 0. -0.]",
          "[ 0. -0.]",
          "[ 0. -0.]",
          "[ 0. -0.]",
          "[ 0. -0.]",
          "[ 0. -0.]",
          "[ 0. -0.]",
          "[ 0. -0.]",
          "[ 0. -0.]",
          "[ 0. -0.]",
          "[ 0. -0.]",
          "[ 0. -0.]",
          "[ 0. -0.]",
          "[ 0. -0.]",
          "[ 0. -0.]",
          "[ 0. -0.]",
          "[ 0. -0.]",
          "[ 0. -0.]",
          "[ 0. -0.]",
          "[ 0. -0.]",
          "[ 0. -0.]",
          "[ 0. -0.]",
          "[ 0. -0.]",
          "[ 0. -0.]",
          "[ 0. -0.]",
          "[ 0. -0.]",
          "[ 0. -0.]",
          "[ 0. -0.]",
          "[ 0. -0.]",
          "[ 0. -0.]",
          "[ 0. -0.]",
          "[ 0. -0.]",
          "[ 0.45786929 -0.40685977]",
          "[ 0.45786929 -0.40685977]",
          "[ 0.45786929 -0.40685977]",
          "[ 0.45786929 -0.40685977]",
          "[ 0.45786929 -0.40685977]",
          "[ 0.45786929 -0.40685977]",
          "[ 0.45786929 -0.40685977]",
          "[ 0.68699321 -0.14689391]",
          "[ 0.68699321 -0.14689391]",
          "[ 0.68699321 -0.14689391]",
          "[ 0.68699321 -0.14689391]",
          "[ 0.68699321 -0.14689391]",
          "[ 0.68699321 -0.14689391]",
          "[ 0.68699321 -0.14689391]",
          "[-0.05790307  0.05167698]",
          "[-0.05790307  0.05167698]",
          "[-0.05790307  0.05167698]",
          "[-0.05790307  0.05167698]",
          "[-0.05790307  0.05167698]",
          "[-0.05790307  0.05167698]",
          "[-0.05790307  0.05167698]",
          "[-0.23908498  0.20324652]",
          "[-0.23908498  0.20324652]",
          "[-0.23908498  0.20324652]",
          "[-0.23908498  0.20324652]",
          "[-0.23908498  0.20324652]",
          "[-0.23908498  0.20324652]",
          "[-0.23908498  0.20324652]",
          "[-0.11572641  0.05615323]",
          "[-0.11572641  0.05615323]",
          "[-0.11572641  0.05615323]",
          "[-0.11572641  0.05615323]",
          "[-0.11572641  0.05615323]",
          "[-0.11572641  0.05615323]",
          "[-0.11572641  0.05615323]",
          "[ 0. -0.]",
          "[ 0. -0.]",
          "[ 0. -0.]",
          "[ 0. -0.]",
          "[ 0. -0.]",
          "[ 0. -0.]",
          "[ 0. -0.]",
          "[ 0. -0.]",
          "[ 0. -0.]",
          "[ 0. -0.]",
          "[ 0. -0.]",
          "[ 0. -0.]",
          "[ 0. -0.]",
          "[ 0. -0.]",
          "[ 0. -0.]",
          "[ 0. -0.]",
          "[ 0. -0.]",
          "[ 0. -0.]",
          "[ 0. -0.]",
          "[ 0. -0.]",
          "[ 0. -0.]",
          "[ 0. -0.]",
          "[ 0. -0.]",
          "[ 0. -0.]",
          "[ 0. -0.]",
          "[ 0. -0.]",
          "[ 0. -0.]",
          "[ 0. -0.]",
          "[-0.00952335  0.00463695]",
          "[-0.00952335  0.00463695]",
          "[-0.00952335  0.00463695]",
          "[-0.00952335  0.00463695]",
          "[-0.00952335  0.00463695]",
          "[-0.00952335  0.00463695]",
          "[-0.00952335  0.00463695]",
          "[ 0. -0.]",
          "[ 0. -0.]",
          "[ 0. -0.]",
          "[ 0. -0.]",
          "[ 0. -0.]",
          "[ 0. -0.]",
          "[ 0. -0.]",
          "[ 0. -0.]",
          "[ 0. -0.]",
          "[ 0. -0.]",
          "[ 0. -0.]",
          "[ 0. -0.]",
          "[ 0. -0.]",
          "[ 0. -0.]",
          "[ 0. -0.]",
          "[ 0. -0.]",
          "[ 0. -0.]",
          "[ 0. -0.]",
          "[ 0. -0.]",
          "[ 0. -0.]",
          "[ 0. -0.]",
          "[ 0. -0.]",
          "[ 0. -0.]",
          "[ 0. -0.]",
          "[ 0. -0.]",
          "[ 0. -0.]",
          "[ 0. -0.]",
          "[ 0. -0.]",
          "[ 0. -0.]",
          "[ 0. -0.]",
          "[ 0. -0.]",
          "[ 0. -0.]",
          "[ 0. -0.]",
          "[ 0. -0.]",
          "[ 0. -0.]",
          "[ 0.3578741  -0.32932102]",
          "[ 0.3578741  -0.32932102]",
          "[ 0.3578741  -0.32932102]",
          "[ 0.3578741  -0.32932102]",
          "[ 0.3578741  -0.32932102]",
          "[ 0.3578741  -0.32932102]",
          "[ 0.3578741  -0.32932102]",
          "[-0.05790307  0.03126812]",
          "[-0.05790307  0.03126812]",
          "[-0.05790307  0.03126812]",
          "[-0.05790307  0.03126812]",
          "[-0.05790307  0.03126812]",
          "[-0.05790307  0.03126812]",
          "[-0.05790307  0.03126812]",
          "[ 0.71584434 -0.5807446 ]",
          "[ 0.71584434 -0.5807446 ]",
          "[ 0.71584434 -0.5807446 ]",
          "[ 0.71584434 -0.5807446 ]",
          "[ 0.71584434 -0.5807446 ]",
          "[ 0.71584434 -0.5807446 ]",
          "[ 0.71584434 -0.5807446 ]",
          "[ 0.03275526 -0.00942978]",
          "[ 0.03275526 -0.00942978]",
          "[ 0.03275526 -0.00942978]",
          "[ 0.03275526 -0.00942978]",
          "[ 0.03275526 -0.00942978]",
          "[ 0.03275526 -0.00942978]",
          "[ 0.03275526 -0.00942978]",
          "[-0.12362139  0.03976646]",
          "[-0.12362139  0.03976646]",
          "[-0.12362139  0.03976646]",
          "[-0.12362139  0.03976646]",
          "[-0.12362139  0.03976646]",
          "[-0.12362139  0.03976646]",
          "[-0.12362139  0.03976646]",
          "[ 0. -0.]",
          "[ 0. -0.]",
          "[ 0. -0.]",
          "[ 0. -0.]",
          "[ 0. -0.]",
          "[ 0. -0.]",
          "[ 0. -0.]",
          "[ 0. -0.]",
          "[ 0. -0.]",
          "[ 0. -0.]",
          "[ 0. -0.]",
          "[ 0. -0.]",
          "[ 0. -0.]",
          "[ 0. -0.]",
          "[ 0. -0.]",
          "[ 0. -0.]",
          "[ 0. -0.]",
          "[ 0. -0.]",
          "[ 0. -0.]",
          "[ 0. -0.]",
          "[ 0. -0.]",
          "[ 0. -0.]",
          "[ 0. -0.]",
          "[ 0. -0.]",
          "[ 0. -0.]",
          "[ 0. -0.]",
          "[ 0. -0.]",
          "[ 0. -0.]",
          "[ 0.09599436 -0.01602895]",
          "[ 0.09599436 -0.01602895]",
          "[ 0.09599436 -0.01602895]",
          "[ 0.09599436 -0.01602895]",
          "[ 0.09599436 -0.01602895]",
          "[ 0.09599436 -0.01602895]",
          "[ 0.09599436 -0.01602895]",
          "[ 0. -0.]",
          "[ 0. -0.]",
          "[ 0. -0.]",
          "[ 0. -0.]",
          "[ 0. -0.]",
          "[ 0. -0.]",
          "[ 0. -0.]",
          "[ 0. -0.]",
          "[ 0. -0.]",
          "[ 0. -0.]",
          "[ 0. -0.]",
          "[ 0. -0.]",
          "[ 0. -0.]",
          "[ 0. -0.]",
          "[ 0. -0.]",
          "[ 0. -0.]",
          "[ 0. -0.]",
          "[ 0. -0.]",
          "[ 0. -0.]",
          "[ 0. -0.]",
          "[ 0. -0.]",
          "[ 0. -0.]",
          "[ 0. -0.]",
          "[ 0. -0.]",
          "[ 0. -0.]",
          "[ 0. -0.]",
          "[ 0. -0.]",
          "[ 0. -0.]",
          "[ 0. -0.]",
          "[ 0. -0.]",
          "[ 0. -0.]",
          "[ 0. -0.]",
          "[ 0. -0.]",
          "[ 0. -0.]",
          "[ 0. -0.]",
          "[ 0.1028977  -0.08314074]",
          "[ 0.1028977  -0.08314074]",
          "[ 0.1028977  -0.08314074]",
          "[ 0.1028977  -0.08314074]",
          "[ 0.1028977  -0.08314074]",
          "[ 0.1028977  -0.08314074]",
          "[ 0.1028977  -0.08314074]",
          "[-0.23908498  0.07590398]",
          "[-0.23908498  0.07590398]",
          "[-0.23908498  0.07590398]",
          "[-0.23908498  0.07590398]",
          "[-0.23908498  0.07590398]",
          "[-0.23908498  0.07590398]",
          "[-0.23908498  0.07590398]",
          "[ 0.03275526 -0.00129934]",
          "[ 0.03275526 -0.00129934]",
          "[ 0.03275526 -0.00129934]",
          "[ 0.03275526 -0.00129934]",
          "[ 0.03275526 -0.00129934]",
          "[ 0.03275526 -0.00129934]",
          "[ 0.03275526 -0.00129934]",
          "[-0.00560987  0.00252005]",
          "[-0.00560987  0.00252005]",
          "[-0.00560987  0.00252005]",
          "[-0.00560987  0.00252005]",
          "[-0.00560987  0.00252005]",
          "[-0.00560987  0.00252005]",
          "[-0.00560987  0.00252005]",
          "[ 0.61463418 -0.38659417]",
          "[ 0.61463418 -0.38659417]",
          "[ 0.61463418 -0.38659417]",
          "[ 0.61463418 -0.38659417]",
          "[ 0.61463418 -0.38659417]",
          "[ 0.61463418 -0.38659417]",
          "[ 0.61463418 -0.38659417]",
          "[ 0. -0.]",
          "[ 0. -0.]",
          "[ 0. -0.]",
          "[ 0. -0.]",
          "[ 0. -0.]",
          "[ 0. -0.]",
          "[ 0. -0.]",
          "[ 0. -0.]",
          "[ 0. -0.]",
          "[ 0. -0.]",
          "[ 0. -0.]",
          "[ 0. -0.]",
          "[ 0. -0.]",
          "[ 0. -0.]",
          "[ 0. -0.]",
          "[ 0. -0.]",
          "[ 0. -0.]",
          "[ 0. -0.]",
          "[ 0. -0.]",
          "[ 0. -0.]",
          "[ 0. -0.]",
          "[ 0. -0.]",
          "[ 0. -0.]",
          "[ 0. -0.]",
          "[ 0. -0.]",
          "[ 0. -0.]",
          "[ 0. -0.]",
          "[ 0. -0.]",
          "[-0.04147656  0.01671332]",
          "[-0.04147656  0.01671332]",
          "[-0.04147656  0.01671332]",
          "[-0.04147656  0.01671332]",
          "[-0.04147656  0.01671332]",
          "[-0.04147656  0.01671332]",
          "[-0.04147656  0.01671332]",
          "[ 0. -0.]",
          "[ 0. -0.]",
          "[ 0. -0.]",
          "[ 0. -0.]",
          "[ 0. -0.]",
          "[ 0. -0.]",
          "[ 0. -0.]",
          "[ 0. -0.]",
          "[ 0. -0.]",
          "[ 0. -0.]",
          "[ 0. -0.]",
          "[ 0. -0.]",
          "[ 0. -0.]",
          "[ 0. -0.]",
          "[ 0. -0.]",
          "[ 0. -0.]",
          "[ 0. -0.]",
          "[ 0. -0.]",
          "[ 0. -0.]",
          "[ 0. -0.]",
          "[ 0. -0.]",
          "[ 0. -0.]",
          "[ 0. -0.]",
          "[ 0. -0.]",
          "[ 0. -0.]",
          "[ 0. -0.]",
          "[ 0. -0.]",
          "[ 0. -0.]",
          "[ 0. -0.]",
          "[ 0. -0.]",
          "[ 0. -0.]",
          "[ 0. -0.]",
          "[ 0. -0.]",
          "[ 0. -0.]",
          "[ 0. -0.]",
          "[ 0.27983323 -0.07857647]",
          "[ 0.27983323 -0.07857647]",
          "[ 0.27983323 -0.07857647]",
          "[ 0.27983323 -0.07857647]",
          "[ 0.27983323 -0.07857647]",
          "[ 0.27983323 -0.07857647]",
          "[ 0.27983323 -0.07857647]",
          "[-0.11572641  0.09872699]",
          "[-0.11572641  0.09872699]",
          "[-0.11572641  0.09872699]",
          "[-0.11572641  0.09872699]",
          "[-0.11572641  0.09872699]",
          "[-0.11572641  0.09872699]",
          "[-0.11572641  0.09872699]",
          "[-0.12362139  0.01438764]",
          "[-0.12362139  0.01438764]",
          "[-0.12362139  0.01438764]",
          "[-0.12362139  0.01438764]",
          "[-0.12362139  0.01438764]",
          "[-0.12362139  0.01438764]",
          "[-0.12362139  0.01438764]",
          "[ 0.61463418 -0.23652932]",
          "[ 0.61463418 -0.23652932]",
          "[ 0.61463418 -0.23652932]",
          "[ 0.61463418 -0.23652932]",
          "[ 0.61463418 -0.23652932]",
          "[ 0.61463418 -0.23652932]",
          "[ 0.61463418 -0.23652932]",
          "[-0.34549695  0.01949996]",
          "[-0.34549695  0.01949996]",
          "[-0.34549695  0.01949996]",
          "[-0.34549695  0.01949996]",
          "[-0.34549695  0.01949996]",
          "[-0.34549695  0.01949996]",
          "[-0.34549695  0.01949996]",
          "[ 0. -0.]",
          "[ 0. -0.]",
          "[ 0. -0.]",
          "[ 0. -0.]",
          "[ 0. -0.]",
          "[ 0. -0.]",
          "[ 0. -0.]",
          "[ 0. -0.]",
          "[ 0. -0.]",
          "[ 0. -0.]",
          "[ 0. -0.]",
          "[ 0. -0.]",
          "[ 0. -0.]",
          "[ 0. -0.]",
          "[ 0. -0.]",
          "[ 0. -0.]",
          "[ 0. -0.]",
          "[ 0. -0.]",
          "[ 0. -0.]",
          "[ 0. -0.]",
          "[ 0. -0.]",
          "[ 0. -0.]",
          "[ 0. -0.]",
          "[ 0. -0.]",
          "[ 0. -0.]",
          "[ 0. -0.]",
          "[ 0. -0.]",
          "[ 0. -0.]",
          "[ 0. -0.]",
          "[ 0. -0.]",
          "[ 0. -0.]",
          "[ 0. -0.]",
          "[ 0. -0.]",
          "[ 0. -0.]",
          "[ 0. -0.]",
          "[-0.03026659  0.00123159]",
          "[-0.03026659  0.00123159]",
          "[-0.03026659  0.00123159]",
          "[-0.03026659  0.00123159]",
          "[-0.03026659  0.00123159]",
          "[-0.03026659  0.00123159]",
          "[-0.03026659  0.00123159]",
          "[-0.00952335  0.00012668]",
          "[-0.00952335  0.00012668]",
          "[-0.00952335  0.00012668]",
          "[-0.00952335  0.00012668]",
          "[-0.00952335  0.00012668]",
          "[-0.00952335  0.00012668]",
          "[-0.00952335  0.00012668]",
          "[ 0.09599436 -0.03610459]",
          "[ 0.09599436 -0.03610459]",
          "[ 0.09599436 -0.03610459]",
          "[ 0.09599436 -0.03610459]",
          "[ 0.09599436 -0.03610459]",
          "[ 0.09599436 -0.03610459]",
          "[ 0.09599436 -0.03610459]",
          "[-0.04147656  0.01952314]",
          "[-0.04147656  0.01952314]",
          "[-0.04147656  0.01952314]",
          "[-0.04147656  0.01952314]",
          "[-0.04147656  0.01952314]",
          "[-0.04147656  0.01952314]",
          "[-0.04147656  0.01952314]",
          "[ 0. -0.]",
          "[ 0. -0.]",
          "[ 0. -0.]",
          "[ 0. -0.]",
          "[ 0. -0.]",
          "[ 0. -0.]",
          "[ 0. -0.]"
         ],
         "line": {
          "color": "red"
         },
         "meta": {},
         "mode": "lines",
         "type": "scatter",
         "x": {
          "bdata": "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",
          "dtype": "f8"
         },
         "y": {
          "bdata": "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",
          "dtype": "f8"
         }
        },
        {
         "line": {
          "color": "pink",
          "dash": "dash",
          "width": 5
         },
         "meta": {},
         "mode": "lines",
         "name": "orbitals separators",
         "opacity": 0.8,
         "showlegend": false,
         "type": "scatter",
         "x": {
          "bdata": "AAAAAAAA4L8AAAAAAAASQAAAAAAAAPh/AAAAAAAA4D8AAAAAAADgPwAAAAAAAPh/",
          "dtype": "f8"
         },
         "y": {
          "bdata": "AAAAAAAA4D8AAAAAAADgPwAAAAAAAPh/AAAAAAAA4L8AAAAAAAASQAAAAAAAAPh/",
          "dtype": "f8"
         }
        },
        {
         "line": {
          "color": "gray"
         },
         "meta": {},
         "mode": "lines",
         "name": "atoms separators",
         "opacity": 1,
         "showlegend": false,
         "type": "scatter",
         "x": {
          "bdata": "AAAAAAAA4L8AAAAAAAASQAAAAAAAAPh/AAAAAAAADEAAAAAAAAAMQAAAAAAAAPh/",
          "dtype": "f8"
         },
         "y": {
          "bdata": "AAAAAAAADEAAAAAAAAAMQAAAAAAAAPh/AAAAAAAA4L8AAAAAAAASQAAAAAAAAPh/",
          "dtype": "f8"
         }
        }
       ],
       "layout": {
        "coloraxis": {
         "cmid": 0,
         "colorscale": [
          [
           0.0,
           "rgb(0, 147, 146)"
          ],
          [
           0.16666666666666666,
           "rgb(57, 177, 133)"
          ],
          [
           0.3333333333333333,
           "rgb(156, 203, 134)"
          ],
          [
           0.5,
           "rgb(233, 226, 156)"
          ],
          [
           0.6666666666666666,
           "rgb(238, 180, 121)"
          ],
          [
           0.8333333333333334,
           "rgb(232, 132, 113)"
          ],
          [
           1.0,
           "rgb(207, 89, 126)"
          ]
         ],
         "showscale": false
        },
        "scene": {
         "aspectmode": "data",
         "xaxis": {
          "range": [
           -0.5,
           14.5
          ]
         },
         "yaxis": {
          "range": [
           4.5,
           -0.5
          ]
         }
        },
        "template": {
         "layout": {
          "hovermode": "closest",
          "paper_bgcolor": "white",
          "plot_bgcolor": "white",
          "scene": {
           "xaxis": {
            "color": "black",
            "gridcolor": "#ccc",
            "gridwidth": 1,
            "linewidth": 1,
            "mirror": true,
            "showgrid": false,
            "showline": true,
            "ticklen": 5,
            "ticks": "outside",
            "ticksuffix": " ",
            "visible": true,
            "zeroline": false,
            "zerolinecolor": "#ccc",
            "zerolinewidth": 1
           },
           "yaxis": {
            "color": "black",
            "gridcolor": "#ccc",
            "gridwidth": 1,
            "linewidth": 1,
            "mirror": true,
            "showgrid": false,
            "showline": true,
            "ticklen": 5,
            "ticks": "outside",
            "ticksuffix": " ",
            "visible": true,
            "zeroline": false,
            "zerolinecolor": "#ccc",
            "zerolinewidth": 1
           },
           "zaxis": {
            "color": "black",
            "gridcolor": "#ccc",
            "gridwidth": 1,
            "linewidth": 1,
            "mirror": true,
            "showgrid": false,
            "showline": true,
            "ticklen": 5,
            "ticks": "outside",
            "ticksuffix": " ",
            "visible": true,
            "zeroline": false,
            "zerolinecolor": "#ccc",
            "zerolinewidth": 1
           }
          },
          "xaxis": {
           "color": "black",
           "gridcolor": "#ccc",
           "gridwidth": 1,
           "linewidth": 1,
           "mirror": true,
           "showgrid": false,
           "showline": true,
           "ticklen": 5,
           "ticks": "outside",
           "ticksuffix": " ",
           "visible": true,
           "zeroline": false,
           "zerolinecolor": "#ccc",
           "zerolinewidth": 1
          },
          "yaxis": {
           "color": "black",
           "gridcolor": "#ccc",
           "gridwidth": 1,
           "linewidth": 1,
           "mirror": true,
           "showgrid": false,
           "showline": true,
           "ticklen": 5,
           "ticks": "outside",
           "ticksuffix": " ",
           "visible": true,
           "zeroline": false,
           "zerolinecolor": "#ccc",
           "zerolinewidth": 1
          }
         }
        },
        "xaxis": {
         "constrain": "domain",
         "range": [
          -0.5,
          14.5
         ],
         "scaleanchor": "y",
         "scaleratio": 1
        },
        "yaxis": {
         "constrain": "domain",
         "range": [
          4.5,
          -0.5
         ]
        }
       }
      }
     },
     "metadata": {},
     "output_type": "display_data"
    }
   ],
   "source": [
    "# Initialize a sparse matrix with the same sparsity pattern as our Hamiltonian,\n",
    "# but with an extra dimension that will host the X and Y coordinates.\n",
    "arrow_data = sisl.SparseCSR.fromsp([H, H])\n",
    "\n",
    "# The X coordinate will be the Hamiltonian's value,\n",
    "# while the Y coordinate will be just random.\n",
    "for i in range(arrow_data.shape[0]):\n",
    "    for j in range(arrow_data.shape[1]):\n",
    "        if arrow_data[i, j, 1] != 0:\n",
    "            arrow_data[i, j, 1] *= np.random.random()\n",
    "\n",
    "# Let's display the data\n",
    "plot.update_inputs(arrows={\"data\": arrow_data, \"color\": \"red\"})"
   ]
  },
  {
   "cell_type": "markdown",
   "metadata": {},
   "source": [
    "Finally, we showcase how **you can have multiple specifications of arrows**.\n",
    "\n",
    "We also show how you can use the `center` key. You can set `center` to `\"start\"`, `\"middle\"` or `\"end\"`. It determines which part of the arrow is pinned to the center of the matrix element (the default is `\"middle\"`):"
   ]
  },
  {
   "cell_type": "code",
   "execution_count": 21,
   "metadata": {
    "execution": {
     "iopub.execute_input": "2025-08-14T08:06:04.373233Z",
     "iopub.status.busy": "2025-08-14T08:06:04.373039Z",
     "iopub.status.idle": "2025-08-14T08:06:04.546494Z",
     "shell.execute_reply": "2025-08-14T08:06:04.545839Z"
    }
   },
   "outputs": [
    {
     "name": "stderr",
     "output_type": "stream",
     "text": [
      "INFO\tTask(Task-2) nodify.node.140656810367008:node.py:get()- No need to evaluate\n"
     ]
    },
    {
     "name": "stderr",
     "output_type": "stream",
     "text": [
      "INFO\tTask(Task-2) nodify.node.140656814357152:node.py:get()- No need to evaluate\n"
     ]
    },
    {
     "name": "stderr",
     "output_type": "stream",
     "text": [
      "INFO\tTask(Task-2) nodify.node.140656810362016:node.py:get()- No need to evaluate\n"
     ]
    },
    {
     "name": "stderr",
     "output_type": "stream",
     "text": [
      "INFO\tTask(Task-2) nodify.node.140656810362112:node.py:get()- No need to evaluate\n"
     ]
    },
    {
     "name": "stderr",
     "output_type": "stream",
     "text": [
      "INFO\tTask(Task-2) nodify.node.140656810361248:node.py:get()- No need to evaluate\n"
     ]
    },
    {
     "name": "stderr",
     "output_type": "stream",
     "text": [
      "INFO\tTask(Task-2) nodify.node.140656810368784:node.py:get()- No need to evaluate\n"
     ]
    },
    {
     "name": "stderr",
     "output_type": "stream",
     "text": [
      "INFO\tTask(Task-2) nodify.node.140656810363936:node.py:get()- No need to evaluate\n"
     ]
    },
    {
     "name": "stderr",
     "output_type": "stream",
     "text": [
      "INFO\tTask(Task-2) nodify.node.140656810364320:node.py:get()- No need to evaluate\n"
     ]
    },
    {
     "name": "stderr",
     "output_type": "stream",
     "text": [
      "INFO\tTask(Task-2) nodify.node.140656814357152:node.py:get()- No need to evaluate\n"
     ]
    },
    {
     "name": "stderr",
     "output_type": "stream",
     "text": [
      "INFO\tTask(Task-2) nodify.node.140656810364704:node.py:get()- No need to evaluate\n"
     ]
    },
    {
     "name": "stderr",
     "output_type": "stream",
     "text": [
      "INFO\tTask(Task-2) nodify.node.140656810364320:node.py:get()- No need to evaluate\n"
     ]
    },
    {
     "name": "stderr",
     "output_type": "stream",
     "text": [
      "INFO\tTask(Task-2) nodify.node.140656810370032:node.py:get()- No need to evaluate\n"
     ]
    },
    {
     "name": "stderr",
     "output_type": "stream",
     "text": [
      "INFO\tTask(Task-2) nodify.node.140656810363552:node.py:get()- No need to evaluate\n"
     ]
    },
    {
     "name": "stderr",
     "output_type": "stream",
     "text": [
      "INFO\tTask(Task-2) nodify.node.140656810365088:node.py:get()- No need to evaluate\n"
     ]
    },
    {
     "name": "stderr",
     "output_type": "stream",
     "text": [
      "INFO\tTask(Task-2) nodify.node.140656810365472:node.py:get()- No need to evaluate\n"
     ]
    },
    {
     "name": "stderr",
     "output_type": "stream",
     "text": [
      "INFO\tTask(Task-2) nodify.node.140656810369936:node.py:get()- No need to evaluate\n"
     ]
    },
    {
     "name": "stderr",
     "output_type": "stream",
     "text": [
      "INFO\tTask(Task-2) nodify.node.140656814357152:node.py:get()- No need to evaluate\n"
     ]
    },
    {
     "name": "stderr",
     "output_type": "stream",
     "text": [
      "INFO\tTask(Task-2) nodify.node.140656810362016:node.py:get()- No need to evaluate\n"
     ]
    },
    {
     "name": "stderr",
     "output_type": "stream",
     "text": [
      "INFO\tTask(Task-2) nodify.node.140656810362112:node.py:get()- No need to evaluate\n"
     ]
    },
    {
     "name": "stderr",
     "output_type": "stream",
     "text": [
      "INFO\tTask(Task-2) nodify.node.140656810361248:node.py:get()- No need to evaluate\n"
     ]
    },
    {
     "name": "stderr",
     "output_type": "stream",
     "text": [
      "INFO\tTask(Task-2) nodify.node.140656810368784:node.py:get()- No need to evaluate\n"
     ]
    },
    {
     "name": "stderr",
     "output_type": "stream",
     "text": [
      "INFO\tTask(Task-2) nodify.node.140656810366624:node.py:get()- Evaluated because inputs changed.\n"
     ]
    },
    {
     "name": "stderr",
     "output_type": "stream",
     "text": [
      "INFO\tTask(Task-2) nodify.node.140656810370704:node.py:get()- Evaluated because inputs changed.\n"
     ]
    },
    {
     "name": "stderr",
     "output_type": "stream",
     "text": [
      "INFO\tTask(Task-2) nodify.node.140656810370080:node.py:get()- Evaluated because inputs changed.\n"
     ]
    },
    {
     "name": "stderr",
     "output_type": "stream",
     "text": [
      "INFO\tTask(Task-2) nodify.node.140656810361392:node.py:get()- No need to evaluate\n"
     ]
    },
    {
     "name": "stderr",
     "output_type": "stream",
     "text": [
      "INFO\tTask(Task-2) nodify.node.140656814357152:node.py:get()- No need to evaluate\n"
     ]
    },
    {
     "name": "stderr",
     "output_type": "stream",
     "text": [
      "INFO\tTask(Task-2) nodify.node.140656810361536:node.py:get()- No need to evaluate\n"
     ]
    },
    {
     "name": "stderr",
     "output_type": "stream",
     "text": [
      "INFO\tTask(Task-2) nodify.node.140656810368304:node.py:get()- No need to evaluate\n"
     ]
    },
    {
     "name": "stderr",
     "output_type": "stream",
     "text": [
      "INFO\tTask(Task-2) nodify.node.140656814357152:node.py:get()- No need to evaluate\n"
     ]
    },
    {
     "name": "stderr",
     "output_type": "stream",
     "text": [
      "INFO\tTask(Task-2) nodify.node.140656810368880:node.py:get()- No need to evaluate\n"
     ]
    },
    {
     "name": "stderr",
     "output_type": "stream",
     "text": [
      "INFO\tTask(Task-2) nodify.node.140656810370752:node.py:get()- No need to evaluate\n"
     ]
    },
    {
     "name": "stderr",
     "output_type": "stream",
     "text": [
      "INFO\tTask(Task-2) nodify.node.140656810362592:node.py:get()- No need to evaluate\n"
     ]
    },
    {
     "name": "stderr",
     "output_type": "stream",
     "text": [
      "INFO\tTask(Task-2) nodify.node.140656814357152:node.py:get()- No need to evaluate\n"
     ]
    },
    {
     "name": "stderr",
     "output_type": "stream",
     "text": [
      "INFO\tTask(Task-2) nodify.node.140656810361536:node.py:get()- No need to evaluate\n"
     ]
    },
    {
     "name": "stderr",
     "output_type": "stream",
     "text": [
      "INFO\tTask(Task-2) nodify.node.140656810368304:node.py:get()- No need to evaluate\n"
     ]
    },
    {
     "name": "stderr",
     "output_type": "stream",
     "text": [
      "INFO\tTask(Task-2) nodify.node.140656814357152:node.py:get()- No need to evaluate\n"
     ]
    },
    {
     "name": "stderr",
     "output_type": "stream",
     "text": [
      "INFO\tTask(Task-2) nodify.node.140656810368880:node.py:get()- No need to evaluate\n"
     ]
    },
    {
     "name": "stderr",
     "output_type": "stream",
     "text": [
      "INFO\tTask(Task-2) nodify.node.140656810371424:node.py:get()- No need to evaluate\n"
     ]
    },
    {
     "name": "stderr",
     "output_type": "stream",
     "text": [
      "INFO\tTask(Task-2) nodify.node.140656810363120:node.py:get()- No need to evaluate\n"
     ]
    },
    {
     "name": "stderr",
     "output_type": "stream",
     "text": [
      "INFO\tTask(Task-2) nodify.node.140656814357152:node.py:get()- No need to evaluate\n"
     ]
    },
    {
     "name": "stderr",
     "output_type": "stream",
     "text": [
      "INFO\tTask(Task-2) nodify.node.140656810361536:node.py:get()- No need to evaluate\n"
     ]
    },
    {
     "name": "stderr",
     "output_type": "stream",
     "text": [
      "INFO\tTask(Task-2) nodify.node.140656810368304:node.py:get()- No need to evaluate\n"
     ]
    },
    {
     "name": "stderr",
     "output_type": "stream",
     "text": [
      "INFO\tTask(Task-2) nodify.node.140656814357152:node.py:get()- No need to evaluate\n"
     ]
    },
    {
     "name": "stderr",
     "output_type": "stream",
     "text": [
      "INFO\tTask(Task-2) nodify.node.140656810368880:node.py:get()- No need to evaluate\n"
     ]
    },
    {
     "name": "stderr",
     "output_type": "stream",
     "text": [
      "INFO\tTask(Task-2) nodify.node.140656810371760:node.py:get()- No need to evaluate\n"
     ]
    },
    {
     "name": "stderr",
     "output_type": "stream",
     "text": [
      "INFO\tTask(Task-2) nodify.node.140656814357152:node.py:get()- No need to evaluate\n"
     ]
    },
    {
     "name": "stderr",
     "output_type": "stream",
     "text": [
      "INFO\tTask(Task-2) nodify.node.140656810362016:node.py:get()- No need to evaluate\n"
     ]
    },
    {
     "name": "stderr",
     "output_type": "stream",
     "text": [
      "INFO\tTask(Task-2) nodify.node.140656810362112:node.py:get()- No need to evaluate\n"
     ]
    },
    {
     "name": "stderr",
     "output_type": "stream",
     "text": [
      "INFO\tTask(Task-2) nodify.node.140656810361248:node.py:get()- No need to evaluate\n"
     ]
    },
    {
     "name": "stderr",
     "output_type": "stream",
     "text": [
      "INFO\tTask(Task-2) nodify.node.140656810368784:node.py:get()- No need to evaluate\n"
     ]
    },
    {
     "name": "stderr",
     "output_type": "stream",
     "text": [
      "INFO\tTask(Task-2) nodify.node.140656814357152:node.py:get()- No need to evaluate\n"
     ]
    },
    {
     "name": "stderr",
     "output_type": "stream",
     "text": [
      "INFO\tTask(Task-2) nodify.node.140656810361536:node.py:get()- No need to evaluate\n"
     ]
    },
    {
     "name": "stderr",
     "output_type": "stream",
     "text": [
      "INFO\tTask(Task-2) nodify.node.140656810368304:node.py:get()- No need to evaluate\n"
     ]
    },
    {
     "name": "stderr",
     "output_type": "stream",
     "text": [
      "INFO\tTask(Task-2) nodify.node.140656814357152:node.py:get()- No need to evaluate\n"
     ]
    },
    {
     "name": "stderr",
     "output_type": "stream",
     "text": [
      "INFO\tTask(Task-2) nodify.node.140656810368880:node.py:get()- No need to evaluate\n"
     ]
    },
    {
     "name": "stderr",
     "output_type": "stream",
     "text": [
      "INFO\tTask(Task-2) nodify.node.140656810366240:node.py:get()- No need to evaluate\n"
     ]
    },
    {
     "name": "stderr",
     "output_type": "stream",
     "text": [
      "INFO\tTask(Task-2) nodify.node.140656810365856:node.py:get()- No need to evaluate\n"
     ]
    },
    {
     "name": "stderr",
     "output_type": "stream",
     "text": [
      "INFO\tTask(Task-2) nodify.node.140656810368592:node.py:get()- No need to evaluate\n"
     ]
    },
    {
     "name": "stderr",
     "output_type": "stream",
     "text": [
      "INFO\tTask(Task-2) nodify.node.140656810369024:node.py:get()- Evaluated because inputs changed.\n"
     ]
    },
    {
     "name": "stderr",
     "output_type": "stream",
     "text": [
      "INFO\tTask(Task-2) nodify.node.140656810372240:node.py:get()- Evaluated because inputs changed.\n"
     ]
    },
    {
     "name": "stderr",
     "output_type": "stream",
     "text": [
      "INFO\tTask(Task-2) nodify.node.140656810372720:node.py:get()- Evaluated because inputs changed.\n"
     ]
    },
    {
     "data": {
      "application/vnd.plotly.v1+json": {
       "config": {
        "plotlyServerURL": "https://plot.ly"
       },
       "data": [
        {
         "coloraxis": "coloraxis",
         "meta": {},
         "opacity": 0,
         "textfont": {
          "color": "black"
         },
         "type": "heatmap",
         "z": {
          "bdata": "hPjVt1v77z8d8lZMHyDkP9jICR3gdd8/0Cq88WAXwj8idcFelZnYPwAAAAAAAPh/AAAAAAAA+H8AAAAAAAD4fwAAAAAAAPh/7Td+MSRJpb8AAAAAAAD4fwAAAAAAAPh/AAAAAAAA+H8AAAAAAAD4fwAAAAAAAPh/HfJWTB8g5D96CSwuUDLuP8B7GcphXLS/7h30oo0E1b+glpMPy1jEvwAAAAAAAPh/AAAAAAAA+H8AAAAAAAD4fwAAAAAAAPh/GuNOeUPKir8AAAAAAAD4fwAAAAAAAPh/AAAAAAAA+H8AAAAAAAD4fwAAAAAAAPh/2MgJHeB13z/AexnKYVy0v1IiYxT1du8/cG5BjDIJpz8U8ISPJLzFvwAAAAAAAPh/AAAAAAAA+H8AAAAAAAD4fwAAAAAAAPh/CD0Jo6ngwD8AAAAAAAD4fwAAAAAAAPh/AAAAAAAA+H8AAAAAAAD4fwAAAAAAAPh/0Cq88WAXwj/uHfSijQTVv3BuQYwyCac/AI5GA+6Pf79l27r0GQTrPwAAAAAAAPh/AAAAAAAA+H8AAAAAAAD4fwAAAAAAAPh/c/1TXF0rrb8AAAAAAAD4fwAAAAAAAPh/AAAAAAAA+H8AAAAAAAD4fwAAAAAAAPh/InXBXpWZ2D+glpMPy1jEvxTwhI8kvMW/Zdu69BkE6z8kNemXVF/evwAAAAAAAPh/AAAAAAAA+H8AAAAAAAD4fwAAAAAAAPh/AAAAAAAA+H/tN34xJEmlvxrjTnlDyoq/CD0Jo6ngwD9z/VNcXSutvwAAAAAAAPh/",
          "dtype": "f8",
          "shape": "5, 15"
         },
         "zsmooth": false
        },
        {
         "hovertext": [
          "[ 0.  -0.5]",
          "[ 0.  -0.5]",
          "[ 0.  -0.5]",
          "[ 0.  -0.5]",
          "[ 0.  -0.5]",
          "[ 0.  -0.5]",
          "[ 0.  -0.5]",
          "[ 0.         -0.31463887]",
          "[ 0.         -0.31463887]",
          "[ 0.         -0.31463887]",
          "[ 0.         -0.31463887]",
          "[ 0.         -0.31463887]",
          "[ 0.         -0.31463887]",
          "[ 0.         -0.31463887]",
          "[ 0.         -0.24592412]",
          "[ 0.         -0.24592412]",
          "[ 0.         -0.24592412]",
          "[ 0.         -0.24592412]",
          "[ 0.         -0.24592412]",
          "[ 0.         -0.24592412]",
          "[ 0.         -0.24592412]",
          "[ 0.        -0.0707093]",
          "[ 0.        -0.0707093]",
          "[ 0.        -0.0707093]",
          "[ 0.        -0.0707093]",
          "[ 0.        -0.0707093]",
          "[ 0.        -0.0707093]",
          "[ 0.        -0.0707093]",
          "[ 0.         -0.19229595]",
          "[ 0.         -0.19229595]",
          "[ 0.         -0.19229595]",
          "[ 0.         -0.19229595]",
          "[ 0.         -0.19229595]",
          "[ 0.         -0.19229595]",
          "[ 0.         -0.19229595]",
          "[ 0. nan]",
          "[ 0. nan]",
          "[ 0. nan]",
          "[ 0. nan]",
          "[ 0. nan]",
          "[ 0. nan]",
          "[ 0. nan]",
          "[ 0. nan]",
          "[ 0. nan]",
          "[ 0. nan]",
          "[ 0. nan]",
          "[ 0. nan]",
          "[ 0. nan]",
          "[ 0. nan]",
          "[ 0. nan]",
          "[ 0. nan]",
          "[ 0. nan]",
          "[ 0. nan]",
          "[ 0. nan]",
          "[ 0. nan]",
          "[ 0. nan]",
          "[ 0. nan]",
          "[ 0. nan]",
          "[ 0. nan]",
          "[ 0. nan]",
          "[ 0. nan]",
          "[ 0. nan]",
          "[ 0. nan]",
          "[0.         0.02079861]",
          "[0.         0.02079861]",
          "[0.         0.02079861]",
          "[0.         0.02079861]",
          "[0.         0.02079861]",
          "[0.         0.02079861]",
          "[0.         0.02079861]",
          "[ 0. nan]",
          "[ 0. nan]",
          "[ 0. nan]",
          "[ 0. nan]",
          "[ 0. nan]",
          "[ 0. nan]",
          "[ 0. nan]",
          "[ 0. nan]",
          "[ 0. nan]",
          "[ 0. nan]",
          "[ 0. nan]",
          "[ 0. nan]",
          "[ 0. nan]",
          "[ 0. nan]",
          "[ 0. nan]",
          "[ 0. nan]",
          "[ 0. nan]",
          "[ 0. nan]",
          "[ 0. nan]",
          "[ 0. nan]",
          "[ 0. nan]",
          "[ 0. nan]",
          "[ 0. nan]",
          "[ 0. nan]",
          "[ 0. nan]",
          "[ 0. nan]",
          "[ 0. nan]",
          "[ 0. nan]",
          "[ 0. nan]",
          "[ 0. nan]",
          "[ 0. nan]",
          "[ 0. nan]",
          "[ 0. nan]",
          "[ 0. nan]",
          "[ 0. nan]",
          "[ 0.         -0.31463887]",
          "[ 0.         -0.31463887]",
          "[ 0.         -0.31463887]",
          "[ 0.         -0.31463887]",
          "[ 0.         -0.31463887]",
          "[ 0.         -0.31463887]",
          "[ 0.         -0.31463887]",
          "[ 0.         -0.47208837]",
          "[ 0.         -0.47208837]",
          "[ 0.         -0.47208837]",
          "[ 0.         -0.47208837]",
          "[ 0.         -0.47208837]",
          "[ 0.         -0.47208837]",
          "[ 0.         -0.47208837]",
          "[0.         0.03978986]",
          "[0.         0.03978986]",
          "[0.         0.03978986]",
          "[0.         0.03978986]",
          "[0.         0.03978986]",
          "[0.         0.03978986]",
          "[0.         0.03978986]",
          "[0.         0.16429455]",
          "[0.         0.16429455]",
          "[0.         0.16429455]",
          "[0.         0.16429455]",
          "[0.         0.16429455]",
          "[0.         0.16429455]",
          "[0.         0.16429455]",
          "[0.         0.07952494]",
          "[0.         0.07952494]",
          "[0.         0.07952494]",
          "[0.         0.07952494]",
          "[0.         0.07952494]",
          "[0.         0.07952494]",
          "[0.         0.07952494]",
          "[ 0. nan]",
          "[ 0. nan]",
          "[ 0. nan]",
          "[ 0. nan]",
          "[ 0. nan]",
          "[ 0. nan]",
          "[ 0. nan]",
          "[ 0. nan]",
          "[ 0. nan]",
          "[ 0. nan]",
          "[ 0. nan]",
          "[ 0. nan]",
          "[ 0. nan]",
          "[ 0. nan]",
          "[ 0. nan]",
          "[ 0. nan]",
          "[ 0. nan]",
          "[ 0. nan]",
          "[ 0. nan]",
          "[ 0. nan]",
          "[ 0. nan]",
          "[ 0. nan]",
          "[ 0. nan]",
          "[ 0. nan]",
          "[ 0. nan]",
          "[ 0. nan]",
          "[ 0. nan]",
          "[ 0. nan]",
          "[0.         0.00654426]",
          "[0.         0.00654426]",
          "[0.         0.00654426]",
          "[0.         0.00654426]",
          "[0.         0.00654426]",
          "[0.         0.00654426]",
          "[0.         0.00654426]",
          "[ 0. nan]",
          "[ 0. nan]",
          "[ 0. nan]",
          "[ 0. nan]",
          "[ 0. nan]",
          "[ 0. nan]",
          "[ 0. nan]",
          "[ 0. nan]",
          "[ 0. nan]",
          "[ 0. nan]",
          "[ 0. nan]",
          "[ 0. nan]",
          "[ 0. nan]",
          "[ 0. nan]",
          "[ 0. nan]",
          "[ 0. nan]",
          "[ 0. nan]",
          "[ 0. nan]",
          "[ 0. nan]",
          "[ 0. nan]",
          "[ 0. nan]",
          "[ 0. nan]",
          "[ 0. nan]",
          "[ 0. nan]",
          "[ 0. nan]",
          "[ 0. nan]",
          "[ 0. nan]",
          "[ 0. nan]",
          "[ 0. nan]",
          "[ 0. nan]",
          "[ 0. nan]",
          "[ 0. nan]",
          "[ 0. nan]",
          "[ 0. nan]",
          "[ 0. nan]",
          "[ 0.         -0.24592412]",
          "[ 0.         -0.24592412]",
          "[ 0.         -0.24592412]",
          "[ 0.         -0.24592412]",
          "[ 0.         -0.24592412]",
          "[ 0.         -0.24592412]",
          "[ 0.         -0.24592412]",
          "[0.         0.03978986]",
          "[0.         0.03978986]",
          "[0.         0.03978986]",
          "[0.         0.03978986]",
          "[0.         0.03978986]",
          "[0.         0.03978986]",
          "[0.         0.03978986]",
          "[ 0.         -0.49191431]",
          "[ 0.         -0.49191431]",
          "[ 0.         -0.49191431]",
          "[ 0.         -0.49191431]",
          "[ 0.         -0.49191431]",
          "[ 0.         -0.49191431]",
          "[ 0.         -0.49191431]",
          "[ 0.         -0.02250878]",
          "[ 0.         -0.02250878]",
          "[ 0.         -0.02250878]",
          "[ 0.         -0.02250878]",
          "[ 0.         -0.02250878]",
          "[ 0.         -0.02250878]",
          "[ 0.         -0.02250878]",
          "[0.         0.08495022]",
          "[0.         0.08495022]",
          "[0.         0.08495022]",
          "[0.         0.08495022]",
          "[0.         0.08495022]",
          "[0.         0.08495022]",
          "[0.         0.08495022]",
          "[ 0. nan]",
          "[ 0. nan]",
          "[ 0. nan]",
          "[ 0. nan]",
          "[ 0. nan]",
          "[ 0. nan]",
          "[ 0. nan]",
          "[ 0. nan]",
          "[ 0. nan]",
          "[ 0. nan]",
          "[ 0. nan]",
          "[ 0. nan]",
          "[ 0. nan]",
          "[ 0. nan]",
          "[ 0. nan]",
          "[ 0. nan]",
          "[ 0. nan]",
          "[ 0. nan]",
          "[ 0. nan]",
          "[ 0. nan]",
          "[ 0. nan]",
          "[ 0. nan]",
          "[ 0. nan]",
          "[ 0. nan]",
          "[ 0. nan]",
          "[ 0. nan]",
          "[ 0. nan]",
          "[ 0. nan]",
          "[ 0.         -0.06596546]",
          "[ 0.         -0.06596546]",
          "[ 0.         -0.06596546]",
          "[ 0.         -0.06596546]",
          "[ 0.         -0.06596546]",
          "[ 0.         -0.06596546]",
          "[ 0.         -0.06596546]",
          "[ 0. nan]",
          "[ 0. nan]",
          "[ 0. nan]",
          "[ 0. nan]",
          "[ 0. nan]",
          "[ 0. nan]",
          "[ 0. nan]",
          "[ 0. nan]",
          "[ 0. nan]",
          "[ 0. nan]",
          "[ 0. nan]",
          "[ 0. nan]",
          "[ 0. nan]",
          "[ 0. nan]",
          "[ 0. nan]",
          "[ 0. nan]",
          "[ 0. nan]",
          "[ 0. nan]",
          "[ 0. nan]",
          "[ 0. nan]",
          "[ 0. nan]",
          "[ 0. nan]",
          "[ 0. nan]",
          "[ 0. nan]",
          "[ 0. nan]",
          "[ 0. nan]",
          "[ 0. nan]",
          "[ 0. nan]",
          "[ 0. nan]",
          "[ 0. nan]",
          "[ 0. nan]",
          "[ 0. nan]",
          "[ 0. nan]",
          "[ 0. nan]",
          "[ 0. nan]",
          "[ 0.        -0.0707093]",
          "[ 0.        -0.0707093]",
          "[ 0.        -0.0707093]",
          "[ 0.        -0.0707093]",
          "[ 0.        -0.0707093]",
          "[ 0.        -0.0707093]",
          "[ 0.        -0.0707093]",
          "[0.         0.16429455]",
          "[0.         0.16429455]",
          "[0.         0.16429455]",
          "[0.         0.16429455]",
          "[0.         0.16429455]",
          "[0.         0.16429455]",
          "[0.         0.16429455]",
          "[ 0.         -0.02250878]",
          "[ 0.         -0.02250878]",
          "[ 0.         -0.02250878]",
          "[ 0.         -0.02250878]",
          "[ 0.         -0.02250878]",
          "[ 0.         -0.02250878]",
          "[ 0.         -0.02250878]",
          "[0.       0.003855]",
          "[0.       0.003855]",
          "[0.       0.003855]",
          "[0.       0.003855]",
          "[0.       0.003855]",
          "[0.       0.003855]",
          "[0.       0.003855]",
          "[ 0.         -0.42236465]",
          "[ 0.         -0.42236465]",
          "[ 0.         -0.42236465]",
          "[ 0.         -0.42236465]",
          "[ 0.         -0.42236465]",
          "[ 0.         -0.42236465]",
          "[ 0.         -0.42236465]",
          "[ 0. nan]",
          "[ 0. nan]",
          "[ 0. nan]",
          "[ 0. nan]",
          "[ 0. nan]",
          "[ 0. nan]",
          "[ 0. nan]",
          "[ 0. nan]",
          "[ 0. nan]",
          "[ 0. nan]",
          "[ 0. nan]",
          "[ 0. nan]",
          "[ 0. nan]",
          "[ 0. nan]",
          "[ 0. nan]",
          "[ 0. nan]",
          "[ 0. nan]",
          "[ 0. nan]",
          "[ 0. nan]",
          "[ 0. nan]",
          "[ 0. nan]",
          "[ 0. nan]",
          "[ 0. nan]",
          "[ 0. nan]",
          "[ 0. nan]",
          "[ 0. nan]",
          "[ 0. nan]",
          "[ 0. nan]",
          "[0.         0.02850189]",
          "[0.         0.02850189]",
          "[0.         0.02850189]",
          "[0.         0.02850189]",
          "[0.         0.02850189]",
          "[0.         0.02850189]",
          "[0.         0.02850189]",
          "[ 0. nan]",
          "[ 0. nan]",
          "[ 0. nan]",
          "[ 0. nan]",
          "[ 0. nan]",
          "[ 0. nan]",
          "[ 0. nan]",
          "[ 0. nan]",
          "[ 0. nan]",
          "[ 0. nan]",
          "[ 0. nan]",
          "[ 0. nan]",
          "[ 0. nan]",
          "[ 0. nan]",
          "[ 0. nan]",
          "[ 0. nan]",
          "[ 0. nan]",
          "[ 0. nan]",
          "[ 0. nan]",
          "[ 0. nan]",
          "[ 0. nan]",
          "[ 0. nan]",
          "[ 0. nan]",
          "[ 0. nan]",
          "[ 0. nan]",
          "[ 0. nan]",
          "[ 0. nan]",
          "[ 0. nan]",
          "[ 0. nan]",
          "[ 0. nan]",
          "[ 0. nan]",
          "[ 0. nan]",
          "[ 0. nan]",
          "[ 0. nan]",
          "[ 0. nan]",
          "[ 0.         -0.19229595]",
          "[ 0.         -0.19229595]",
          "[ 0.         -0.19229595]",
          "[ 0.         -0.19229595]",
          "[ 0.         -0.19229595]",
          "[ 0.         -0.19229595]",
          "[ 0.         -0.19229595]",
          "[0.         0.07952494]",
          "[0.         0.07952494]",
          "[0.         0.07952494]",
          "[0.         0.07952494]",
          "[0.         0.07952494]",
          "[0.         0.07952494]",
          "[0.         0.07952494]",
          "[0.         0.08495022]",
          "[0.         0.08495022]",
          "[0.         0.08495022]",
          "[0.         0.08495022]",
          "[0.         0.08495022]",
          "[0.         0.08495022]",
          "[0.         0.08495022]",
          "[ 0.         -0.42236465]",
          "[ 0.         -0.42236465]",
          "[ 0.         -0.42236465]",
          "[ 0.         -0.42236465]",
          "[ 0.         -0.42236465]",
          "[ 0.         -0.42236465]",
          "[ 0.         -0.42236465]",
          "[0.         0.23741878]",
          "[0.         0.23741878]",
          "[0.         0.23741878]",
          "[0.         0.23741878]",
          "[0.         0.23741878]",
          "[0.         0.23741878]",
          "[0.         0.23741878]",
          "[ 0. nan]",
          "[ 0. nan]",
          "[ 0. nan]",
          "[ 0. nan]",
          "[ 0. nan]",
          "[ 0. nan]",
          "[ 0. nan]",
          "[ 0. nan]",
          "[ 0. nan]",
          "[ 0. nan]",
          "[ 0. nan]",
          "[ 0. nan]",
          "[ 0. nan]",
          "[ 0. nan]",
          "[ 0. nan]",
          "[ 0. nan]",
          "[ 0. nan]",
          "[ 0. nan]",
          "[ 0. nan]",
          "[ 0. nan]",
          "[ 0. nan]",
          "[ 0. nan]",
          "[ 0. nan]",
          "[ 0. nan]",
          "[ 0. nan]",
          "[ 0. nan]",
          "[ 0. nan]",
          "[ 0. nan]",
          "[ 0. nan]",
          "[ 0. nan]",
          "[ 0. nan]",
          "[ 0. nan]",
          "[ 0. nan]",
          "[ 0. nan]",
          "[ 0. nan]",
          "[0.         0.02079861]",
          "[0.         0.02079861]",
          "[0.         0.02079861]",
          "[0.         0.02079861]",
          "[0.         0.02079861]",
          "[0.         0.02079861]",
          "[0.         0.02079861]",
          "[0.         0.00654426]",
          "[0.         0.00654426]",
          "[0.         0.00654426]",
          "[0.         0.00654426]",
          "[0.         0.00654426]",
          "[0.         0.00654426]",
          "[0.         0.00654426]",
          "[ 0.         -0.06596546]",
          "[ 0.         -0.06596546]",
          "[ 0.         -0.06596546]",
          "[ 0.         -0.06596546]",
          "[ 0.         -0.06596546]",
          "[ 0.         -0.06596546]",
          "[ 0.         -0.06596546]",
          "[0.         0.02850189]",
          "[0.         0.02850189]",
          "[0.         0.02850189]",
          "[0.         0.02850189]",
          "[0.         0.02850189]",
          "[0.         0.02850189]",
          "[0.         0.02850189]",
          "[ 0. nan]",
          "[ 0. nan]",
          "[ 0. nan]",
          "[ 0. nan]",
          "[ 0. nan]",
          "[ 0. nan]",
          "[ 0. nan]"
         ],
         "line": {
          "color": "blue"
         },
         "meta": {},
         "mode": "lines",
         "name": "Hamiltonian value",
         "type": "scatter",
         "x": {
          "bdata": "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",
          "dtype": "f8"
         },
         "y": {
          "bdata": "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",
          "dtype": "f8"
         }
        },
        {
         "hovertext": [
          "[ 0.36380541 -0.34299508]",
          "[ 0.36380541 -0.34299508]",
          "[ 0.36380541 -0.34299508]",
          "[ 0.36380541 -0.34299508]",
          "[ 0.36380541 -0.34299508]",
          "[ 0.36380541 -0.34299508]",
          "[ 0.36380541 -0.34299508]",
          "[ 0.22893464 -0.19390097]",
          "[ 0.22893464 -0.19390097]",
          "[ 0.22893464 -0.19390097]",
          "[ 0.22893464 -0.19390097]",
          "[ 0.22893464 -0.19390097]",
          "[ 0.22893464 -0.19390097]",
          "[ 0.22893464 -0.19390097]",
          "[ 0.17893705 -0.07157106]",
          "[ 0.17893705 -0.07157106]",
          "[ 0.17893705 -0.07157106]",
          "[ 0.17893705 -0.07157106]",
          "[ 0.17893705 -0.07157106]",
          "[ 0.17893705 -0.07157106]",
          "[ 0.17893705 -0.07157106]",
          "[ 0.05144885 -0.04260374]",
          "[ 0.05144885 -0.04260374]",
          "[ 0.05144885 -0.04260374]",
          "[ 0.05144885 -0.04260374]",
          "[ 0.05144885 -0.04260374]",
          "[ 0.05144885 -0.04260374]",
          "[ 0.05144885 -0.04260374]",
          "[ 0.13991662 -0.08873661]",
          "[ 0.13991662 -0.08873661]",
          "[ 0.13991662 -0.08873661]",
          "[ 0.13991662 -0.08873661]",
          "[ 0.13991662 -0.08873661]",
          "[ 0.13991662 -0.08873661]",
          "[ 0.13991662 -0.08873661]",
          "[ 0. -0.]",
          "[ 0. -0.]",
          "[ 0. -0.]",
          "[ 0. -0.]",
          "[ 0. -0.]",
          "[ 0. -0.]",
          "[ 0. -0.]",
          "[ 0. -0.]",
          "[ 0. -0.]",
          "[ 0. -0.]",
          "[ 0. -0.]",
          "[ 0. -0.]",
          "[ 0. -0.]",
          "[ 0. -0.]",
          "[ 0. -0.]",
          "[ 0. -0.]",
          "[ 0. -0.]",
          "[ 0. -0.]",
          "[ 0. -0.]",
          "[ 0. -0.]",
          "[ 0. -0.]",
          "[ 0. -0.]",
          "[ 0. -0.]",
          "[ 0. -0.]",
          "[ 0. -0.]",
          "[ 0. -0.]",
          "[ 0. -0.]",
          "[ 0. -0.]",
          "[-0.01513329  0.01099148]",
          "[-0.01513329  0.01099148]",
          "[-0.01513329  0.01099148]",
          "[-0.01513329  0.01099148]",
          "[-0.01513329  0.01099148]",
          "[-0.01513329  0.01099148]",
          "[-0.01513329  0.01099148]",
          "[ 0. -0.]",
          "[ 0. -0.]",
          "[ 0. -0.]",
          "[ 0. -0.]",
          "[ 0. -0.]",
          "[ 0. -0.]",
          "[ 0. -0.]",
          "[ 0. -0.]",
          "[ 0. -0.]",
          "[ 0. -0.]",
          "[ 0. -0.]",
          "[ 0. -0.]",
          "[ 0. -0.]",
          "[ 0. -0.]",
          "[ 0. -0.]",
          "[ 0. -0.]",
          "[ 0. -0.]",
          "[ 0. -0.]",
          "[ 0. -0.]",
          "[ 0. -0.]",
          "[ 0. -0.]",
          "[ 0. -0.]",
          "[ 0. -0.]",
          "[ 0. -0.]",
          "[ 0. -0.]",
          "[ 0. -0.]",
          "[ 0. -0.]",
          "[ 0. -0.]",
          "[ 0. -0.]",
          "[ 0. -0.]",
          "[ 0. -0.]",
          "[ 0. -0.]",
          "[ 0. -0.]",
          "[ 0. -0.]",
          "[ 0. -0.]",
          "[ 0.22893464 -0.20342988]",
          "[ 0.22893464 -0.20342988]",
          "[ 0.22893464 -0.20342988]",
          "[ 0.22893464 -0.20342988]",
          "[ 0.22893464 -0.20342988]",
          "[ 0.22893464 -0.20342988]",
          "[ 0.22893464 -0.20342988]",
          "[ 0.3434966  -0.07344695]",
          "[ 0.3434966  -0.07344695]",
          "[ 0.3434966  -0.07344695]",
          "[ 0.3434966  -0.07344695]",
          "[ 0.3434966  -0.07344695]",
          "[ 0.3434966  -0.07344695]",
          "[ 0.3434966  -0.07344695]",
          "[-0.02895154  0.02583849]",
          "[-0.02895154  0.02583849]",
          "[-0.02895154  0.02583849]",
          "[-0.02895154  0.02583849]",
          "[-0.02895154  0.02583849]",
          "[-0.02895154  0.02583849]",
          "[-0.02895154  0.02583849]",
          "[-0.11954249  0.10162326]",
          "[-0.11954249  0.10162326]",
          "[-0.11954249  0.10162326]",
          "[-0.11954249  0.10162326]",
          "[-0.11954249  0.10162326]",
          "[-0.11954249  0.10162326]",
          "[-0.11954249  0.10162326]",
          "[-0.0578632   0.02807661]",
          "[-0.0578632   0.02807661]",
          "[-0.0578632   0.02807661]",
          "[-0.0578632   0.02807661]",
          "[-0.0578632   0.02807661]",
          "[-0.0578632   0.02807661]",
          "[-0.0578632   0.02807661]",
          "[ 0. -0.]",
          "[ 0. -0.]",
          "[ 0. -0.]",
          "[ 0. -0.]",
          "[ 0. -0.]",
          "[ 0. -0.]",
          "[ 0. -0.]",
          "[ 0. -0.]",
          "[ 0. -0.]",
          "[ 0. -0.]",
          "[ 0. -0.]",
          "[ 0. -0.]",
          "[ 0. -0.]",
          "[ 0. -0.]",
          "[ 0. -0.]",
          "[ 0. -0.]",
          "[ 0. -0.]",
          "[ 0. -0.]",
          "[ 0. -0.]",
          "[ 0. -0.]",
          "[ 0. -0.]",
          "[ 0. -0.]",
          "[ 0. -0.]",
          "[ 0. -0.]",
          "[ 0. -0.]",
          "[ 0. -0.]",
          "[ 0. -0.]",
          "[ 0. -0.]",
          "[-0.00476167  0.00231848]",
          "[-0.00476167  0.00231848]",
          "[-0.00476167  0.00231848]",
          "[-0.00476167  0.00231848]",
          "[-0.00476167  0.00231848]",
          "[-0.00476167  0.00231848]",
          "[-0.00476167  0.00231848]",
          "[ 0. -0.]",
          "[ 0. -0.]",
          "[ 0. -0.]",
          "[ 0. -0.]",
          "[ 0. -0.]",
          "[ 0. -0.]",
          "[ 0. -0.]",
          "[ 0. -0.]",
          "[ 0. -0.]",
          "[ 0. -0.]",
          "[ 0. -0.]",
          "[ 0. -0.]",
          "[ 0. -0.]",
          "[ 0. -0.]",
          "[ 0. -0.]",
          "[ 0. -0.]",
          "[ 0. -0.]",
          "[ 0. -0.]",
          "[ 0. -0.]",
          "[ 0. -0.]",
          "[ 0. -0.]",
          "[ 0. -0.]",
          "[ 0. -0.]",
          "[ 0. -0.]",
          "[ 0. -0.]",
          "[ 0. -0.]",
          "[ 0. -0.]",
          "[ 0. -0.]",
          "[ 0. -0.]",
          "[ 0. -0.]",
          "[ 0. -0.]",
          "[ 0. -0.]",
          "[ 0. -0.]",
          "[ 0. -0.]",
          "[ 0. -0.]",
          "[ 0.17893705 -0.16466051]",
          "[ 0.17893705 -0.16466051]",
          "[ 0.17893705 -0.16466051]",
          "[ 0.17893705 -0.16466051]",
          "[ 0.17893705 -0.16466051]",
          "[ 0.17893705 -0.16466051]",
          "[ 0.17893705 -0.16466051]",
          "[-0.02895154  0.01563406]",
          "[-0.02895154  0.01563406]",
          "[-0.02895154  0.01563406]",
          "[-0.02895154  0.01563406]",
          "[-0.02895154  0.01563406]",
          "[-0.02895154  0.01563406]",
          "[-0.02895154  0.01563406]",
          "[ 0.35792217 -0.2903723 ]",
          "[ 0.35792217 -0.2903723 ]",
          "[ 0.35792217 -0.2903723 ]",
          "[ 0.35792217 -0.2903723 ]",
          "[ 0.35792217 -0.2903723 ]",
          "[ 0.35792217 -0.2903723 ]",
          "[ 0.35792217 -0.2903723 ]",
          "[ 0.01637763 -0.00471489]",
          "[ 0.01637763 -0.00471489]",
          "[ 0.01637763 -0.00471489]",
          "[ 0.01637763 -0.00471489]",
          "[ 0.01637763 -0.00471489]",
          "[ 0.01637763 -0.00471489]",
          "[ 0.01637763 -0.00471489]",
          "[-0.0618107   0.01988323]",
          "[-0.0618107   0.01988323]",
          "[-0.0618107   0.01988323]",
          "[-0.0618107   0.01988323]",
          "[-0.0618107   0.01988323]",
          "[-0.0618107   0.01988323]",
          "[-0.0618107   0.01988323]",
          "[ 0. -0.]",
          "[ 0. -0.]",
          "[ 0. -0.]",
          "[ 0. -0.]",
          "[ 0. -0.]",
          "[ 0. -0.]",
          "[ 0. -0.]",
          "[ 0. -0.]",
          "[ 0. -0.]",
          "[ 0. -0.]",
          "[ 0. -0.]",
          "[ 0. -0.]",
          "[ 0. -0.]",
          "[ 0. -0.]",
          "[ 0. -0.]",
          "[ 0. -0.]",
          "[ 0. -0.]",
          "[ 0. -0.]",
          "[ 0. -0.]",
          "[ 0. -0.]",
          "[ 0. -0.]",
          "[ 0. -0.]",
          "[ 0. -0.]",
          "[ 0. -0.]",
          "[ 0. -0.]",
          "[ 0. -0.]",
          "[ 0. -0.]",
          "[ 0. -0.]",
          "[ 0.04799718 -0.00801448]",
          "[ 0.04799718 -0.00801448]",
          "[ 0.04799718 -0.00801448]",
          "[ 0.04799718 -0.00801448]",
          "[ 0.04799718 -0.00801448]",
          "[ 0.04799718 -0.00801448]",
          "[ 0.04799718 -0.00801448]",
          "[ 0. -0.]",
          "[ 0. -0.]",
          "[ 0. -0.]",
          "[ 0. -0.]",
          "[ 0. -0.]",
          "[ 0. -0.]",
          "[ 0. -0.]",
          "[ 0. -0.]",
          "[ 0. -0.]",
          "[ 0. -0.]",
          "[ 0. -0.]",
          "[ 0. -0.]",
          "[ 0. -0.]",
          "[ 0. -0.]",
          "[ 0. -0.]",
          "[ 0. -0.]",
          "[ 0. -0.]",
          "[ 0. -0.]",
          "[ 0. -0.]",
          "[ 0. -0.]",
          "[ 0. -0.]",
          "[ 0. -0.]",
          "[ 0. -0.]",
          "[ 0. -0.]",
          "[ 0. -0.]",
          "[ 0. -0.]",
          "[ 0. -0.]",
          "[ 0. -0.]",
          "[ 0. -0.]",
          "[ 0. -0.]",
          "[ 0. -0.]",
          "[ 0. -0.]",
          "[ 0. -0.]",
          "[ 0. -0.]",
          "[ 0. -0.]",
          "[ 0.05144885 -0.04157037]",
          "[ 0.05144885 -0.04157037]",
          "[ 0.05144885 -0.04157037]",
          "[ 0.05144885 -0.04157037]",
          "[ 0.05144885 -0.04157037]",
          "[ 0.05144885 -0.04157037]",
          "[ 0.05144885 -0.04157037]",
          "[-0.11954249  0.03795199]",
          "[-0.11954249  0.03795199]",
          "[-0.11954249  0.03795199]",
          "[-0.11954249  0.03795199]",
          "[-0.11954249  0.03795199]",
          "[-0.11954249  0.03795199]",
          "[-0.11954249  0.03795199]",
          "[ 0.01637763 -0.00064967]",
          "[ 0.01637763 -0.00064967]",
          "[ 0.01637763 -0.00064967]",
          "[ 0.01637763 -0.00064967]",
          "[ 0.01637763 -0.00064967]",
          "[ 0.01637763 -0.00064967]",
          "[ 0.01637763 -0.00064967]",
          "[-0.00280494  0.00126003]",
          "[-0.00280494  0.00126003]",
          "[-0.00280494  0.00126003]",
          "[-0.00280494  0.00126003]",
          "[-0.00280494  0.00126003]",
          "[-0.00280494  0.00126003]",
          "[-0.00280494  0.00126003]",
          "[ 0.30731709 -0.19329709]",
          "[ 0.30731709 -0.19329709]",
          "[ 0.30731709 -0.19329709]",
          "[ 0.30731709 -0.19329709]",
          "[ 0.30731709 -0.19329709]",
          "[ 0.30731709 -0.19329709]",
          "[ 0.30731709 -0.19329709]",
          "[ 0. -0.]",
          "[ 0. -0.]",
          "[ 0. -0.]",
          "[ 0. -0.]",
          "[ 0. -0.]",
          "[ 0. -0.]",
          "[ 0. -0.]",
          "[ 0. -0.]",
          "[ 0. -0.]",
          "[ 0. -0.]",
          "[ 0. -0.]",
          "[ 0. -0.]",
          "[ 0. -0.]",
          "[ 0. -0.]",
          "[ 0. -0.]",
          "[ 0. -0.]",
          "[ 0. -0.]",
          "[ 0. -0.]",
          "[ 0. -0.]",
          "[ 0. -0.]",
          "[ 0. -0.]",
          "[ 0. -0.]",
          "[ 0. -0.]",
          "[ 0. -0.]",
          "[ 0. -0.]",
          "[ 0. -0.]",
          "[ 0. -0.]",
          "[ 0. -0.]",
          "[-0.02073828  0.00835666]",
          "[-0.02073828  0.00835666]",
          "[-0.02073828  0.00835666]",
          "[-0.02073828  0.00835666]",
          "[-0.02073828  0.00835666]",
          "[-0.02073828  0.00835666]",
          "[-0.02073828  0.00835666]",
          "[ 0. -0.]",
          "[ 0. -0.]",
          "[ 0. -0.]",
          "[ 0. -0.]",
          "[ 0. -0.]",
          "[ 0. -0.]",
          "[ 0. -0.]",
          "[ 0. -0.]",
          "[ 0. -0.]",
          "[ 0. -0.]",
          "[ 0. -0.]",
          "[ 0. -0.]",
          "[ 0. -0.]",
          "[ 0. -0.]",
          "[ 0. -0.]",
          "[ 0. -0.]",
          "[ 0. -0.]",
          "[ 0. -0.]",
          "[ 0. -0.]",
          "[ 0. -0.]",
          "[ 0. -0.]",
          "[ 0. -0.]",
          "[ 0. -0.]",
          "[ 0. -0.]",
          "[ 0. -0.]",
          "[ 0. -0.]",
          "[ 0. -0.]",
          "[ 0. -0.]",
          "[ 0. -0.]",
          "[ 0. -0.]",
          "[ 0. -0.]",
          "[ 0. -0.]",
          "[ 0. -0.]",
          "[ 0. -0.]",
          "[ 0. -0.]",
          "[ 0.13991662 -0.03928824]",
          "[ 0.13991662 -0.03928824]",
          "[ 0.13991662 -0.03928824]",
          "[ 0.13991662 -0.03928824]",
          "[ 0.13991662 -0.03928824]",
          "[ 0.13991662 -0.03928824]",
          "[ 0.13991662 -0.03928824]",
          "[-0.0578632   0.04936349]",
          "[-0.0578632   0.04936349]",
          "[-0.0578632   0.04936349]",
          "[-0.0578632   0.04936349]",
          "[-0.0578632   0.04936349]",
          "[-0.0578632   0.04936349]",
          "[-0.0578632   0.04936349]",
          "[-0.0618107   0.00719382]",
          "[-0.0618107   0.00719382]",
          "[-0.0618107   0.00719382]",
          "[-0.0618107   0.00719382]",
          "[-0.0618107   0.00719382]",
          "[-0.0618107   0.00719382]",
          "[-0.0618107   0.00719382]",
          "[ 0.30731709 -0.11826466]",
          "[ 0.30731709 -0.11826466]",
          "[ 0.30731709 -0.11826466]",
          "[ 0.30731709 -0.11826466]",
          "[ 0.30731709 -0.11826466]",
          "[ 0.30731709 -0.11826466]",
          "[ 0.30731709 -0.11826466]",
          "[-0.17274847  0.00974998]",
          "[-0.17274847  0.00974998]",
          "[-0.17274847  0.00974998]",
          "[-0.17274847  0.00974998]",
          "[-0.17274847  0.00974998]",
          "[-0.17274847  0.00974998]",
          "[-0.17274847  0.00974998]",
          "[ 0. -0.]",
          "[ 0. -0.]",
          "[ 0. -0.]",
          "[ 0. -0.]",
          "[ 0. -0.]",
          "[ 0. -0.]",
          "[ 0. -0.]",
          "[ 0. -0.]",
          "[ 0. -0.]",
          "[ 0. -0.]",
          "[ 0. -0.]",
          "[ 0. -0.]",
          "[ 0. -0.]",
          "[ 0. -0.]",
          "[ 0. -0.]",
          "[ 0. -0.]",
          "[ 0. -0.]",
          "[ 0. -0.]",
          "[ 0. -0.]",
          "[ 0. -0.]",
          "[ 0. -0.]",
          "[ 0. -0.]",
          "[ 0. -0.]",
          "[ 0. -0.]",
          "[ 0. -0.]",
          "[ 0. -0.]",
          "[ 0. -0.]",
          "[ 0. -0.]",
          "[ 0. -0.]",
          "[ 0. -0.]",
          "[ 0. -0.]",
          "[ 0. -0.]",
          "[ 0. -0.]",
          "[ 0. -0.]",
          "[ 0. -0.]",
          "[-0.01513329  0.0006158 ]",
          "[-0.01513329  0.0006158 ]",
          "[-0.01513329  0.0006158 ]",
          "[-0.01513329  0.0006158 ]",
          "[-0.01513329  0.0006158 ]",
          "[-0.01513329  0.0006158 ]",
          "[-0.01513329  0.0006158 ]",
          "[-4.76167286e-03  6.33382390e-05]",
          "[-4.76167286e-03  6.33382390e-05]",
          "[-4.76167286e-03  6.33382390e-05]",
          "[-4.76167286e-03  6.33382390e-05]",
          "[-4.76167286e-03  6.33382390e-05]",
          "[-4.76167286e-03  6.33382390e-05]",
          "[-4.76167286e-03  6.33382390e-05]",
          "[ 0.04799718 -0.0180523 ]",
          "[ 0.04799718 -0.0180523 ]",
          "[ 0.04799718 -0.0180523 ]",
          "[ 0.04799718 -0.0180523 ]",
          "[ 0.04799718 -0.0180523 ]",
          "[ 0.04799718 -0.0180523 ]",
          "[ 0.04799718 -0.0180523 ]",
          "[-0.02073828  0.00976157]",
          "[-0.02073828  0.00976157]",
          "[-0.02073828  0.00976157]",
          "[-0.02073828  0.00976157]",
          "[-0.02073828  0.00976157]",
          "[-0.02073828  0.00976157]",
          "[-0.02073828  0.00976157]",
          "[ 0. -0.]",
          "[ 0. -0.]",
          "[ 0. -0.]",
          "[ 0. -0.]",
          "[ 0. -0.]",
          "[ 0. -0.]",
          "[ 0. -0.]"
         ],
         "line": {
          "color": "red"
         },
         "meta": {},
         "mode": "lines",
         "name": "Some data",
         "type": "scatter",
         "x": {
          "bdata": "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",
          "dtype": "f8"
         },
         "y": {
          "bdata": "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",
          "dtype": "f8"
         }
        },
        {
         "line": {
          "color": "pink",
          "dash": "dash",
          "width": 5
         },
         "meta": {},
         "mode": "lines",
         "name": "orbitals separators",
         "opacity": 0.8,
         "showlegend": false,
         "type": "scatter",
         "x": {
          "bdata": "AAAAAAAA4L8AAAAAAAASQAAAAAAAAPh/AAAAAAAA4D8AAAAAAADgPwAAAAAAAPh/",
          "dtype": "f8"
         },
         "y": {
          "bdata": "AAAAAAAA4D8AAAAAAADgPwAAAAAAAPh/AAAAAAAA4L8AAAAAAAASQAAAAAAAAPh/",
          "dtype": "f8"
         }
        },
        {
         "line": {
          "color": "gray"
         },
         "meta": {},
         "mode": "lines",
         "name": "atoms separators",
         "opacity": 1,
         "showlegend": false,
         "type": "scatter",
         "x": {
          "bdata": "AAAAAAAA4L8AAAAAAAASQAAAAAAAAPh/AAAAAAAADEAAAAAAAAAMQAAAAAAAAPh/",
          "dtype": "f8"
         },
         "y": {
          "bdata": "AAAAAAAADEAAAAAAAAAMQAAAAAAAAPh/AAAAAAAA4L8AAAAAAAASQAAAAAAAAPh/",
          "dtype": "f8"
         }
        }
       ],
       "layout": {
        "coloraxis": {
         "cmid": 0,
         "colorscale": [
          [
           0.0,
           "rgb(0, 147, 146)"
          ],
          [
           0.16666666666666666,
           "rgb(57, 177, 133)"
          ],
          [
           0.3333333333333333,
           "rgb(156, 203, 134)"
          ],
          [
           0.5,
           "rgb(233, 226, 156)"
          ],
          [
           0.6666666666666666,
           "rgb(238, 180, 121)"
          ],
          [
           0.8333333333333334,
           "rgb(232, 132, 113)"
          ],
          [
           1.0,
           "rgb(207, 89, 126)"
          ]
         ],
         "showscale": false
        },
        "scene": {
         "aspectmode": "data",
         "xaxis": {
          "range": [
           -0.5,
           14.5
          ]
         },
         "yaxis": {
          "range": [
           4.5,
           -0.5
          ]
         }
        },
        "template": {
         "layout": {
          "hovermode": "closest",
          "paper_bgcolor": "white",
          "plot_bgcolor": "white",
          "scene": {
           "xaxis": {
            "color": "black",
            "gridcolor": "#ccc",
            "gridwidth": 1,
            "linewidth": 1,
            "mirror": true,
            "showgrid": false,
            "showline": true,
            "ticklen": 5,
            "ticks": "outside",
            "ticksuffix": " ",
            "visible": true,
            "zeroline": false,
            "zerolinecolor": "#ccc",
            "zerolinewidth": 1
           },
           "yaxis": {
            "color": "black",
            "gridcolor": "#ccc",
            "gridwidth": 1,
            "linewidth": 1,
            "mirror": true,
            "showgrid": false,
            "showline": true,
            "ticklen": 5,
            "ticks": "outside",
            "ticksuffix": " ",
            "visible": true,
            "zeroline": false,
            "zerolinecolor": "#ccc",
            "zerolinewidth": 1
           },
           "zaxis": {
            "color": "black",
            "gridcolor": "#ccc",
            "gridwidth": 1,
            "linewidth": 1,
            "mirror": true,
            "showgrid": false,
            "showline": true,
            "ticklen": 5,
            "ticks": "outside",
            "ticksuffix": " ",
            "visible": true,
            "zeroline": false,
            "zerolinecolor": "#ccc",
            "zerolinewidth": 1
           }
          },
          "xaxis": {
           "color": "black",
           "gridcolor": "#ccc",
           "gridwidth": 1,
           "linewidth": 1,
           "mirror": true,
           "showgrid": false,
           "showline": true,
           "ticklen": 5,
           "ticks": "outside",
           "ticksuffix": " ",
           "visible": true,
           "zeroline": false,
           "zerolinecolor": "#ccc",
           "zerolinewidth": 1
          },
          "yaxis": {
           "color": "black",
           "gridcolor": "#ccc",
           "gridwidth": 1,
           "linewidth": 1,
           "mirror": true,
           "showgrid": false,
           "showline": true,
           "ticklen": 5,
           "ticks": "outside",
           "ticksuffix": " ",
           "visible": true,
           "zeroline": false,
           "zerolinecolor": "#ccc",
           "zerolinewidth": 1
          }
         }
        },
        "xaxis": {
         "constrain": "domain",
         "range": [
          -0.5,
          14.5
         ],
         "scaleanchor": "y",
         "scaleratio": 1
        },
        "yaxis": {
         "constrain": "domain",
         "range": [
          4.5,
          -0.5
         ]
        }
       }
      }
     },
     "metadata": {},
     "output_type": "display_data"
    }
   ],
   "source": [
    "plot.update_inputs(\n",
    "    arrows=[\n",
    "        {\"color\": \"blue\", \"center\": \"start\", \"name\": \"Hamiltonian value\"},\n",
    "        {\"data\": arrow_data, \"color\": \"red\", \"center\": \"end\", \"name\": \"Some data\"},\n",
    "    ]\n",
    ")"
   ]
  }
 ],
 "metadata": {
  "kernelspec": {
   "display_name": "Python 3 (ipykernel)",
   "language": "python",
   "name": "python3"
  },
  "language_info": {
   "codemirror_mode": {
    "name": "ipython",
    "version": 3
   },
   "file_extension": ".py",
   "mimetype": "text/x-python",
   "name": "python",
   "nbconvert_exporter": "python",
   "pygments_lexer": "ipython3",
   "version": "3.12.11"
  }
 },
 "nbformat": 4,
 "nbformat_minor": 4
}
