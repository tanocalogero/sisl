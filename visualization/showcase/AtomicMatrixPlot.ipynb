{
 "cells": [
  {
   "cell_type": "markdown",
   "metadata": {
    "tags": [
     "notebook-header"
    ]
   },
   "source": [
    "[![GitHub issues by-label](https://img.shields.io/github/issues-raw/pfebrer/sisl/AtomicmatrixPlot?style=for-the-badge)](https://github.com/pfebrer/sisl/labels/AtomicMatrixPlot)"
   ]
  },
  {
   "cell_type": "markdown",
   "metadata": {},
   "source": [
    "AtomicMatrixPlot\n",
    "=========\n",
    "\n",
    "`AtomicMatrixPlot` allows you to visualize sparse matrices. This can help you:\n",
    "\n",
    "- **Understand sparse matrices better**, if you are new to them.\n",
    "- Easily **introspect matrices** to debug or understand how to implement new functionality."
   ]
  },
  {
   "cell_type": "code",
   "execution_count": 1,
   "metadata": {
    "execution": {
     "iopub.execute_input": "2025-08-14T08:48:46.874936Z",
     "iopub.status.busy": "2025-08-14T08:48:46.874755Z",
     "iopub.status.idle": "2025-08-14T08:48:47.799439Z",
     "shell.execute_reply": "2025-08-14T08:48:47.798794Z"
    }
   },
   "outputs": [],
   "source": [
    "import sisl\n",
    "\n",
    "import numpy as np"
   ]
  },
  {
   "cell_type": "markdown",
   "metadata": {},
   "source": [
    "Let's create a toy **Hamiltonian** that we will play with. We will use a chain with two atoms: \n",
    "\n",
    "  - C: With one s orbital and a set of p orbitals.\n",
    "  - H: With one s orbital."
   ]
  },
  {
   "cell_type": "code",
   "execution_count": 2,
   "metadata": {
    "execution": {
     "iopub.execute_input": "2025-08-14T08:48:47.801654Z",
     "iopub.status.busy": "2025-08-14T08:48:47.801350Z",
     "iopub.status.idle": "2025-08-14T08:48:47.830739Z",
     "shell.execute_reply": "2025-08-14T08:48:47.830021Z"
    }
   },
   "outputs": [],
   "source": [
    "# Create a C atom with s and p orbitals\n",
    "C = sisl.Atom(\n",
    "    \"C\",\n",
    "    orbitals=[\n",
    "        sisl.AtomicOrbital(\"2s\", R=0.8),\n",
    "        sisl.AtomicOrbital(\"2py\", R=0.8),\n",
    "        sisl.AtomicOrbital(\"2pz\", R=0.8),\n",
    "        sisl.AtomicOrbital(\"2px\", R=0.8),\n",
    "    ],\n",
    ")\n",
    "\n",
    "# Create a H atom with one s orbital\n",
    "H = sisl.Atom(\"H\", orbitals=[sisl.AtomicOrbital(\"1s\", R=0.4)])\n",
    "\n",
    "# Create a chain along X\n",
    "geom = sisl.Geometry(\n",
    "    [[0, 0, 0], [1, 0, 0]],\n",
    "    atoms=[C, H],\n",
    "    lattice=sisl.Lattice([2, 10, 10], nsc=[3, 1, 1]),\n",
    ")\n",
    "\n",
    "# Random Hamiltonian with non-zero elements only for orbitals that overlap\n",
    "H = sisl.Hamiltonian(geom)\n",
    "for i in range(geom.no):\n",
    "    for j in range(geom.no * 3):\n",
    "        dist = geom.rij(*geom.o2a([i, j]))\n",
    "        if dist < 1.2:\n",
    "            H[i, j] = (np.random.random() - 0.5) * (1 if j < geom.no else 0.2)\n",
    "# Symmetrize it to make it more realistic\n",
    "H = H + H.transpose()"
   ]
  },
  {
   "cell_type": "markdown",
   "metadata": {},
   "source": [
    "## Matrix as an image\n",
    "\n",
    "The default mode of `AtomicMatrixPlot` is simply to plot an image where the values of the matrix are encoded as colors:"
   ]
  },
  {
   "cell_type": "code",
   "execution_count": 3,
   "metadata": {
    "execution": {
     "iopub.execute_input": "2025-08-14T08:48:47.832718Z",
     "iopub.status.busy": "2025-08-14T08:48:47.832522Z",
     "iopub.status.idle": "2025-08-14T08:48:48.635364Z",
     "shell.execute_reply": "2025-08-14T08:48:48.634821Z"
    }
   },
   "outputs": [
    {
     "data": {
      "application/vnd.plotly.v1+json": {
       "config": {
        "plotlyServerURL": "https://plot.ly"
       },
       "data": [
        {
         "coloraxis": "coloraxis",
         "meta": {},
         "opacity": 1,
         "type": "heatmap",
         "z": {
          "bdata": "Avu7mQ5T77+Il6ltAra0v6Rvh+pFl+i/ICFqDy/0lT8gU05A3ibWvwAAAAAAAPh/AAAAAAAA+H8AAAAAAAD4fwAAAAAAAPh/Lm+rIj31kD8AAAAAAAD4fwAAAAAAAPh/AAAAAAAA+H8AAAAAAAD4fwAAAAAAAPh/iJepbQK2tL9YbZVl3AvNPwNX0+u4XeM/vHBtbIR6yL9apZkXjlvovwAAAAAAAPh/AAAAAAAA+H8AAAAAAAD4fwAAAAAAAPh/ANBjXxMRnb8AAAAAAAD4fwAAAAAAAPh/AAAAAAAA+H8AAAAAAAD4fwAAAAAAAPh/pG+H6kWX6L8DV9PruF3jP4LHzQCDsO6/rEhCIALF1L8IrEZ53jS3vwAAAAAAAPh/AAAAAAAA+H8AAAAAAAD4fwAAAAAAAPh/q3hpZP5YoD8AAAAAAAD4fwAAAAAAAPh/AAAAAAAA+H8AAAAAAAD4fwAAAAAAAPh/ICFqDy/0lT+8cG1shHrIv6xIQiACxdS/ZGxmyqzS1T+ALeMXET69PwAAAAAAAPh/AAAAAAAA+H8AAAAAAAD4fwAAAAAAAPh/VWav5R6nwT8AAAAAAAD4fwAAAAAAAPh/AAAAAAAA+H8AAAAAAAD4fwAAAAAAAPh/IFNOQN4m1r9apZkXjlvovwisRnneNLe/gC3jFxE+vT+IG2VUNzbGvwAAAAAAAPh/AAAAAAAA+H8AAAAAAAD4fwAAAAAAAPh/AAAAAAAA+H8ub6siPfWQPwDQY18TEZ2/q3hpZP5YoD9VZq/lHqfBPwAAAAAAAPh/",
          "dtype": "f8",
          "shape": "5, 15"
         },
         "zsmooth": false
        }
       ],
       "layout": {
        "coloraxis": {
         "cmid": 0,
         "colorscale": [
          [
           0.0,
           "rgb(103,0,31)"
          ],
          [
           0.1,
           "rgb(178,24,43)"
          ],
          [
           0.2,
           "rgb(214,96,77)"
          ],
          [
           0.3,
           "rgb(244,165,130)"
          ],
          [
           0.4,
           "rgb(253,219,199)"
          ],
          [
           0.5,
           "rgb(247,247,247)"
          ],
          [
           0.6,
           "rgb(209,229,240)"
          ],
          [
           0.7,
           "rgb(146,197,222)"
          ],
          [
           0.8,
           "rgb(67,147,195)"
          ],
          [
           0.9,
           "rgb(33,102,172)"
          ],
          [
           1.0,
           "rgb(5,48,97)"
          ]
         ],
         "showscale": true
        },
        "scene": {
         "aspectmode": "data",
         "xaxis": {
          "range": [
           -0.5,
           14.5
          ]
         },
         "yaxis": {
          "range": [
           4.5,
           -0.5
          ]
         }
        },
        "template": {
         "layout": {
          "hovermode": "closest",
          "paper_bgcolor": "white",
          "plot_bgcolor": "white",
          "scene": {
           "xaxis": {
            "color": "black",
            "gridcolor": "#ccc",
            "gridwidth": 1,
            "linewidth": 1,
            "mirror": true,
            "showgrid": false,
            "showline": true,
            "ticklen": 5,
            "ticks": "outside",
            "ticksuffix": " ",
            "visible": true,
            "zeroline": false,
            "zerolinecolor": "#ccc",
            "zerolinewidth": 1
           },
           "yaxis": {
            "color": "black",
            "gridcolor": "#ccc",
            "gridwidth": 1,
            "linewidth": 1,
            "mirror": true,
            "showgrid": false,
            "showline": true,
            "ticklen": 5,
            "ticks": "outside",
            "ticksuffix": " ",
            "visible": true,
            "zeroline": false,
            "zerolinecolor": "#ccc",
            "zerolinewidth": 1
           },
           "zaxis": {
            "color": "black",
            "gridcolor": "#ccc",
            "gridwidth": 1,
            "linewidth": 1,
            "mirror": true,
            "showgrid": false,
            "showline": true,
            "ticklen": 5,
            "ticks": "outside",
            "ticksuffix": " ",
            "visible": true,
            "zeroline": false,
            "zerolinecolor": "#ccc",
            "zerolinewidth": 1
           }
          },
          "xaxis": {
           "color": "black",
           "gridcolor": "#ccc",
           "gridwidth": 1,
           "linewidth": 1,
           "mirror": true,
           "showgrid": false,
           "showline": true,
           "ticklen": 5,
           "ticks": "outside",
           "ticksuffix": " ",
           "visible": true,
           "zeroline": false,
           "zerolinecolor": "#ccc",
           "zerolinewidth": 1
          },
          "yaxis": {
           "color": "black",
           "gridcolor": "#ccc",
           "gridwidth": 1,
           "linewidth": 1,
           "mirror": true,
           "showgrid": false,
           "showline": true,
           "ticklen": 5,
           "ticks": "outside",
           "ticksuffix": " ",
           "visible": true,
           "zeroline": false,
           "zerolinecolor": "#ccc",
           "zerolinewidth": 1
          }
         }
        },
        "xaxis": {
         "constrain": "domain",
         "range": [
          -0.5,
          14.5
         ],
         "scaleanchor": "y",
         "scaleratio": 1
        },
        "yaxis": {
         "constrain": "domain",
         "range": [
          4.5,
          -0.5
         ]
        }
       }
      }
     },
     "metadata": {},
     "output_type": "display_data"
    }
   ],
   "source": [
    "plot = H.plot()\n",
    "plot.get()"
   ]
  },
  {
   "cell_type": "markdown",
   "metadata": {},
   "source": [
    "## Changing the colorscale\n",
    "\n",
    "The most obvious thing to tweak here is the colorscale, you can do so by using the `colorscale` input, which, as usual, accepts any colorscale that the plotting backend can understand."
   ]
  },
  {
   "cell_type": "code",
   "execution_count": 4,
   "metadata": {
    "execution": {
     "iopub.execute_input": "2025-08-14T08:48:48.637123Z",
     "iopub.status.busy": "2025-08-14T08:48:48.636932Z",
     "iopub.status.idle": "2025-08-14T08:48:48.713156Z",
     "shell.execute_reply": "2025-08-14T08:48:48.712547Z"
    }
   },
   "outputs": [
    {
     "name": "stderr",
     "output_type": "stream",
     "text": [
      "INFO\tTask(Task-2) nodify.node.139719887494400:node.py:get()- No need to evaluate\n"
     ]
    },
    {
     "name": "stderr",
     "output_type": "stream",
     "text": [
      "INFO\tTask(Task-2) nodify.node.139719887489120:node.py:get()- No need to evaluate\n"
     ]
    },
    {
     "name": "stderr",
     "output_type": "stream",
     "text": [
      "INFO\tTask(Task-2) nodify.node.139719887488064:node.py:get()- No need to evaluate\n"
     ]
    },
    {
     "name": "stderr",
     "output_type": "stream",
     "text": [
      "INFO\tTask(Task-2) nodify.node.139719887489552:node.py:get()- No need to evaluate\n"
     ]
    },
    {
     "name": "stderr",
     "output_type": "stream",
     "text": [
      "INFO\tTask(Task-2) nodify.node.139719887489504:node.py:get()- No need to evaluate\n"
     ]
    },
    {
     "name": "stderr",
     "output_type": "stream",
     "text": [
      "INFO\tTask(Task-2) nodify.node.139719887496176:node.py:get()- No need to evaluate\n"
     ]
    },
    {
     "name": "stderr",
     "output_type": "stream",
     "text": [
      "INFO\tTask(Task-2) nodify.node.139719887491328:node.py:get()- Evaluated because inputs changed.\n"
     ]
    },
    {
     "name": "stderr",
     "output_type": "stream",
     "text": [
      "INFO\tTask(Task-2) nodify.node.139719887491712:node.py:get()- No need to evaluate\n"
     ]
    },
    {
     "name": "stderr",
     "output_type": "stream",
     "text": [
      "INFO\tTask(Task-2) nodify.node.139719887489120:node.py:get()- No need to evaluate\n"
     ]
    },
    {
     "name": "stderr",
     "output_type": "stream",
     "text": [
      "INFO\tTask(Task-2) nodify.node.139719887492096:node.py:get()- No need to evaluate\n"
     ]
    },
    {
     "name": "stderr",
     "output_type": "stream",
     "text": [
      "INFO\tTask(Task-2) nodify.node.139719887491712:node.py:get()- No need to evaluate\n"
     ]
    },
    {
     "name": "stderr",
     "output_type": "stream",
     "text": [
      "INFO\tTask(Task-2) nodify.node.139719887497472:node.py:get()- No need to evaluate\n"
     ]
    },
    {
     "name": "stderr",
     "output_type": "stream",
     "text": [
      "INFO\tTask(Task-2) nodify.node.139719887490944:node.py:get()- No need to evaluate\n"
     ]
    },
    {
     "name": "stderr",
     "output_type": "stream",
     "text": [
      "INFO\tTask(Task-2) nodify.node.139719887492480:node.py:get()- No need to evaluate\n"
     ]
    },
    {
     "name": "stderr",
     "output_type": "stream",
     "text": [
      "INFO\tTask(Task-2) nodify.node.139719887492864:node.py:get()- No need to evaluate\n"
     ]
    },
    {
     "name": "stderr",
     "output_type": "stream",
     "text": [
      "INFO\tTask(Task-2) nodify.node.139719887497376:node.py:get()- Evaluated because inputs changed.\n"
     ]
    },
    {
     "name": "stderr",
     "output_type": "stream",
     "text": [
      "INFO\tTask(Task-2) nodify.node.139719887489120:node.py:get()- No need to evaluate\n"
     ]
    },
    {
     "name": "stderr",
     "output_type": "stream",
     "text": [
      "INFO\tTask(Task-2) nodify.node.139719887488064:node.py:get()- No need to evaluate\n"
     ]
    },
    {
     "name": "stderr",
     "output_type": "stream",
     "text": [
      "INFO\tTask(Task-2) nodify.node.139719887489552:node.py:get()- No need to evaluate\n"
     ]
    },
    {
     "name": "stderr",
     "output_type": "stream",
     "text": [
      "INFO\tTask(Task-2) nodify.node.139719887489504:node.py:get()- No need to evaluate\n"
     ]
    },
    {
     "name": "stderr",
     "output_type": "stream",
     "text": [
      "INFO\tTask(Task-2) nodify.node.139719887496176:node.py:get()- No need to evaluate\n"
     ]
    },
    {
     "name": "stderr",
     "output_type": "stream",
     "text": [
      "INFO\tTask(Task-2) nodify.node.139719887494016:node.py:get()- No need to evaluate\n"
     ]
    },
    {
     "name": "stderr",
     "output_type": "stream",
     "text": [
      "INFO\tTask(Task-2) nodify.node.139719887498144:node.py:get()- No need to evaluate\n"
     ]
    },
    {
     "name": "stderr",
     "output_type": "stream",
     "text": [
      "INFO\tTask(Task-2) nodify.node.139719887497520:node.py:get()- No need to evaluate\n"
     ]
    },
    {
     "name": "stderr",
     "output_type": "stream",
     "text": [
      "INFO\tTask(Task-2) nodify.node.139719887489168:node.py:get()- No need to evaluate\n"
     ]
    },
    {
     "name": "stderr",
     "output_type": "stream",
     "text": [
      "INFO\tTask(Task-2) nodify.node.139719887489120:node.py:get()- No need to evaluate\n"
     ]
    },
    {
     "name": "stderr",
     "output_type": "stream",
     "text": [
      "INFO\tTask(Task-2) nodify.node.139719887489744:node.py:get()- No need to evaluate\n"
     ]
    },
    {
     "name": "stderr",
     "output_type": "stream",
     "text": [
      "INFO\tTask(Task-2) nodify.node.139719887495696:node.py:get()- No need to evaluate\n"
     ]
    },
    {
     "name": "stderr",
     "output_type": "stream",
     "text": [
      "INFO\tTask(Task-2) nodify.node.139719887489120:node.py:get()- No need to evaluate\n"
     ]
    },
    {
     "name": "stderr",
     "output_type": "stream",
     "text": [
      "INFO\tTask(Task-2) nodify.node.139719887496272:node.py:get()- No need to evaluate\n"
     ]
    },
    {
     "name": "stderr",
     "output_type": "stream",
     "text": [
      "INFO\tTask(Task-2) nodify.node.139719887498192:node.py:get()- No need to evaluate\n"
     ]
    },
    {
     "name": "stderr",
     "output_type": "stream",
     "text": [
      "INFO\tTask(Task-2) nodify.node.139719887490128:node.py:get()- No need to evaluate\n"
     ]
    },
    {
     "name": "stderr",
     "output_type": "stream",
     "text": [
      "INFO\tTask(Task-2) nodify.node.139719887489120:node.py:get()- No need to evaluate\n"
     ]
    },
    {
     "name": "stderr",
     "output_type": "stream",
     "text": [
      "INFO\tTask(Task-2) nodify.node.139719887489744:node.py:get()- No need to evaluate\n"
     ]
    },
    {
     "name": "stderr",
     "output_type": "stream",
     "text": [
      "INFO\tTask(Task-2) nodify.node.139719887495696:node.py:get()- No need to evaluate\n"
     ]
    },
    {
     "name": "stderr",
     "output_type": "stream",
     "text": [
      "INFO\tTask(Task-2) nodify.node.139719887489120:node.py:get()- No need to evaluate\n"
     ]
    },
    {
     "name": "stderr",
     "output_type": "stream",
     "text": [
      "INFO\tTask(Task-2) nodify.node.139719887496272:node.py:get()- No need to evaluate\n"
     ]
    },
    {
     "name": "stderr",
     "output_type": "stream",
     "text": [
      "INFO\tTask(Task-2) nodify.node.139719887498864:node.py:get()- No need to evaluate\n"
     ]
    },
    {
     "name": "stderr",
     "output_type": "stream",
     "text": [
      "INFO\tTask(Task-2) nodify.node.139719887490512:node.py:get()- No need to evaluate\n"
     ]
    },
    {
     "name": "stderr",
     "output_type": "stream",
     "text": [
      "INFO\tTask(Task-2) nodify.node.139719887489120:node.py:get()- No need to evaluate\n"
     ]
    },
    {
     "name": "stderr",
     "output_type": "stream",
     "text": [
      "INFO\tTask(Task-2) nodify.node.139719887489744:node.py:get()- No need to evaluate\n"
     ]
    },
    {
     "name": "stderr",
     "output_type": "stream",
     "text": [
      "INFO\tTask(Task-2) nodify.node.139719887495696:node.py:get()- No need to evaluate\n"
     ]
    },
    {
     "name": "stderr",
     "output_type": "stream",
     "text": [
      "INFO\tTask(Task-2) nodify.node.139719887489120:node.py:get()- No need to evaluate\n"
     ]
    },
    {
     "name": "stderr",
     "output_type": "stream",
     "text": [
      "INFO\tTask(Task-2) nodify.node.139719887496272:node.py:get()- No need to evaluate\n"
     ]
    },
    {
     "name": "stderr",
     "output_type": "stream",
     "text": [
      "INFO\tTask(Task-2) nodify.node.139719887499200:node.py:get()- No need to evaluate\n"
     ]
    },
    {
     "name": "stderr",
     "output_type": "stream",
     "text": [
      "INFO\tTask(Task-2) nodify.node.139719887489120:node.py:get()- No need to evaluate\n"
     ]
    },
    {
     "name": "stderr",
     "output_type": "stream",
     "text": [
      "INFO\tTask(Task-2) nodify.node.139719887488064:node.py:get()- No need to evaluate\n"
     ]
    },
    {
     "name": "stderr",
     "output_type": "stream",
     "text": [
      "INFO\tTask(Task-2) nodify.node.139719887489552:node.py:get()- No need to evaluate\n"
     ]
    },
    {
     "name": "stderr",
     "output_type": "stream",
     "text": [
      "INFO\tTask(Task-2) nodify.node.139719887489504:node.py:get()- No need to evaluate\n"
     ]
    },
    {
     "name": "stderr",
     "output_type": "stream",
     "text": [
      "INFO\tTask(Task-2) nodify.node.139719887496176:node.py:get()- No need to evaluate\n"
     ]
    },
    {
     "name": "stderr",
     "output_type": "stream",
     "text": [
      "INFO\tTask(Task-2) nodify.node.139719887489120:node.py:get()- No need to evaluate\n"
     ]
    },
    {
     "name": "stderr",
     "output_type": "stream",
     "text": [
      "INFO\tTask(Task-2) nodify.node.139719887489744:node.py:get()- No need to evaluate\n"
     ]
    },
    {
     "name": "stderr",
     "output_type": "stream",
     "text": [
      "INFO\tTask(Task-2) nodify.node.139719887495696:node.py:get()- No need to evaluate\n"
     ]
    },
    {
     "name": "stderr",
     "output_type": "stream",
     "text": [
      "INFO\tTask(Task-2) nodify.node.139719887489120:node.py:get()- No need to evaluate\n"
     ]
    },
    {
     "name": "stderr",
     "output_type": "stream",
     "text": [
      "INFO\tTask(Task-2) nodify.node.139719887496272:node.py:get()- No need to evaluate\n"
     ]
    },
    {
     "name": "stderr",
     "output_type": "stream",
     "text": [
      "INFO\tTask(Task-2) nodify.node.139719887493632:node.py:get()- No need to evaluate\n"
     ]
    },
    {
     "name": "stderr",
     "output_type": "stream",
     "text": [
      "INFO\tTask(Task-2) nodify.node.139719887493248:node.py:get()- No need to evaluate\n"
     ]
    },
    {
     "name": "stderr",
     "output_type": "stream",
     "text": [
      "INFO\tTask(Task-2) nodify.node.139719887495984:node.py:get()- No need to evaluate\n"
     ]
    },
    {
     "name": "stderr",
     "output_type": "stream",
     "text": [
      "INFO\tTask(Task-2) nodify.node.139719887496416:node.py:get()- Evaluated because inputs changed.\n"
     ]
    },
    {
     "name": "stderr",
     "output_type": "stream",
     "text": [
      "INFO\tTask(Task-2) nodify.node.139719887499680:node.py:get()- Evaluated because inputs changed.\n"
     ]
    },
    {
     "name": "stderr",
     "output_type": "stream",
     "text": [
      "INFO\tTask(Task-2) nodify.node.139719887500160:node.py:get()- Evaluated because inputs changed.\n"
     ]
    },
    {
     "data": {
      "application/vnd.plotly.v1+json": {
       "config": {
        "plotlyServerURL": "https://plot.ly"
       },
       "data": [
        {
         "coloraxis": "coloraxis",
         "meta": {},
         "opacity": 1,
         "type": "heatmap",
         "z": {
          "bdata": "Avu7mQ5T77+Il6ltAra0v6Rvh+pFl+i/ICFqDy/0lT8gU05A3ibWvwAAAAAAAPh/AAAAAAAA+H8AAAAAAAD4fwAAAAAAAPh/Lm+rIj31kD8AAAAAAAD4fwAAAAAAAPh/AAAAAAAA+H8AAAAAAAD4fwAAAAAAAPh/iJepbQK2tL9YbZVl3AvNPwNX0+u4XeM/vHBtbIR6yL9apZkXjlvovwAAAAAAAPh/AAAAAAAA+H8AAAAAAAD4fwAAAAAAAPh/ANBjXxMRnb8AAAAAAAD4fwAAAAAAAPh/AAAAAAAA+H8AAAAAAAD4fwAAAAAAAPh/pG+H6kWX6L8DV9PruF3jP4LHzQCDsO6/rEhCIALF1L8IrEZ53jS3vwAAAAAAAPh/AAAAAAAA+H8AAAAAAAD4fwAAAAAAAPh/q3hpZP5YoD8AAAAAAAD4fwAAAAAAAPh/AAAAAAAA+H8AAAAAAAD4fwAAAAAAAPh/ICFqDy/0lT+8cG1shHrIv6xIQiACxdS/ZGxmyqzS1T+ALeMXET69PwAAAAAAAPh/AAAAAAAA+H8AAAAAAAD4fwAAAAAAAPh/VWav5R6nwT8AAAAAAAD4fwAAAAAAAPh/AAAAAAAA+H8AAAAAAAD4fwAAAAAAAPh/IFNOQN4m1r9apZkXjlvovwisRnneNLe/gC3jFxE+vT+IG2VUNzbGvwAAAAAAAPh/AAAAAAAA+H8AAAAAAAD4fwAAAAAAAPh/AAAAAAAA+H8ub6siPfWQPwDQY18TEZ2/q3hpZP5YoD9VZq/lHqfBPwAAAAAAAPh/",
          "dtype": "f8",
          "shape": "5, 15"
         },
         "zsmooth": false
        }
       ],
       "layout": {
        "coloraxis": {
         "cmid": 0,
         "colorscale": [
          [
           0.0,
           "rgb(0, 147, 146)"
          ],
          [
           0.16666666666666666,
           "rgb(57, 177, 133)"
          ],
          [
           0.3333333333333333,
           "rgb(156, 203, 134)"
          ],
          [
           0.5,
           "rgb(233, 226, 156)"
          ],
          [
           0.6666666666666666,
           "rgb(238, 180, 121)"
          ],
          [
           0.8333333333333334,
           "rgb(232, 132, 113)"
          ],
          [
           1.0,
           "rgb(207, 89, 126)"
          ]
         ],
         "showscale": true
        },
        "scene": {
         "aspectmode": "data",
         "xaxis": {
          "range": [
           -0.5,
           14.5
          ]
         },
         "yaxis": {
          "range": [
           4.5,
           -0.5
          ]
         }
        },
        "template": {
         "layout": {
          "hovermode": "closest",
          "paper_bgcolor": "white",
          "plot_bgcolor": "white",
          "scene": {
           "xaxis": {
            "color": "black",
            "gridcolor": "#ccc",
            "gridwidth": 1,
            "linewidth": 1,
            "mirror": true,
            "showgrid": false,
            "showline": true,
            "ticklen": 5,
            "ticks": "outside",
            "ticksuffix": " ",
            "visible": true,
            "zeroline": false,
            "zerolinecolor": "#ccc",
            "zerolinewidth": 1
           },
           "yaxis": {
            "color": "black",
            "gridcolor": "#ccc",
            "gridwidth": 1,
            "linewidth": 1,
            "mirror": true,
            "showgrid": false,
            "showline": true,
            "ticklen": 5,
            "ticks": "outside",
            "ticksuffix": " ",
            "visible": true,
            "zeroline": false,
            "zerolinecolor": "#ccc",
            "zerolinewidth": 1
           },
           "zaxis": {
            "color": "black",
            "gridcolor": "#ccc",
            "gridwidth": 1,
            "linewidth": 1,
            "mirror": true,
            "showgrid": false,
            "showline": true,
            "ticklen": 5,
            "ticks": "outside",
            "ticksuffix": " ",
            "visible": true,
            "zeroline": false,
            "zerolinecolor": "#ccc",
            "zerolinewidth": 1
           }
          },
          "xaxis": {
           "color": "black",
           "gridcolor": "#ccc",
           "gridwidth": 1,
           "linewidth": 1,
           "mirror": true,
           "showgrid": false,
           "showline": true,
           "ticklen": 5,
           "ticks": "outside",
           "ticksuffix": " ",
           "visible": true,
           "zeroline": false,
           "zerolinecolor": "#ccc",
           "zerolinewidth": 1
          },
          "yaxis": {
           "color": "black",
           "gridcolor": "#ccc",
           "gridwidth": 1,
           "linewidth": 1,
           "mirror": true,
           "showgrid": false,
           "showline": true,
           "ticklen": 5,
           "ticks": "outside",
           "ticksuffix": " ",
           "visible": true,
           "zeroline": false,
           "zerolinecolor": "#ccc",
           "zerolinewidth": 1
          }
         }
        },
        "xaxis": {
         "constrain": "domain",
         "range": [
          -0.5,
          14.5
         ],
         "scaleanchor": "y",
         "scaleratio": 1
        },
        "yaxis": {
         "constrain": "domain",
         "range": [
          4.5,
          -0.5
         ]
        }
       }
      }
     },
     "metadata": {},
     "output_type": "display_data"
    }
   ],
   "source": [
    "plot.update_inputs(colorscale=\"temps\")"
   ]
  },
  {
   "cell_type": "markdown",
   "metadata": {},
   "source": [
    "Note how the `temps` colorscale makes it more clear that there are elements of the matrix that are not set (because the matrix is sparse). Those elements are not displayed.\n",
    "\n",
    "The range of colors **by default is set from min to max**. **Unless there are negative and positive values**. In that case, the colorscale is just **centered at 0** by default.\n",
    "\n",
    "However, you can set the `crange` and `cmid` to customize the colorscale as you wish. For example, to center the scale at `0.5`:"
   ]
  },
  {
   "cell_type": "code",
   "execution_count": 5,
   "metadata": {
    "execution": {
     "iopub.execute_input": "2025-08-14T08:48:48.715102Z",
     "iopub.status.busy": "2025-08-14T08:48:48.714905Z",
     "iopub.status.idle": "2025-08-14T08:48:48.791741Z",
     "shell.execute_reply": "2025-08-14T08:48:48.791251Z"
    }
   },
   "outputs": [
    {
     "name": "stderr",
     "output_type": "stream",
     "text": [
      "INFO\tTask(Task-2) nodify.node.139719887494400:node.py:get()- No need to evaluate\n"
     ]
    },
    {
     "name": "stderr",
     "output_type": "stream",
     "text": [
      "INFO\tTask(Task-2) nodify.node.139719887489120:node.py:get()- No need to evaluate\n"
     ]
    },
    {
     "name": "stderr",
     "output_type": "stream",
     "text": [
      "INFO\tTask(Task-2) nodify.node.139719887488064:node.py:get()- No need to evaluate\n"
     ]
    },
    {
     "name": "stderr",
     "output_type": "stream",
     "text": [
      "INFO\tTask(Task-2) nodify.node.139719887489552:node.py:get()- No need to evaluate\n"
     ]
    },
    {
     "name": "stderr",
     "output_type": "stream",
     "text": [
      "INFO\tTask(Task-2) nodify.node.139719887489504:node.py:get()- No need to evaluate\n"
     ]
    },
    {
     "name": "stderr",
     "output_type": "stream",
     "text": [
      "INFO\tTask(Task-2) nodify.node.139719887496176:node.py:get()- No need to evaluate\n"
     ]
    },
    {
     "name": "stderr",
     "output_type": "stream",
     "text": [
      "INFO\tTask(Task-2) nodify.node.139719887491328:node.py:get()- No need to evaluate\n"
     ]
    },
    {
     "name": "stderr",
     "output_type": "stream",
     "text": [
      "INFO\tTask(Task-2) nodify.node.139719887491712:node.py:get()- No need to evaluate\n"
     ]
    },
    {
     "name": "stderr",
     "output_type": "stream",
     "text": [
      "INFO\tTask(Task-2) nodify.node.139719887489120:node.py:get()- No need to evaluate\n"
     ]
    },
    {
     "name": "stderr",
     "output_type": "stream",
     "text": [
      "INFO\tTask(Task-2) nodify.node.139719887492096:node.py:get()- Evaluated because inputs changed.\n"
     ]
    },
    {
     "name": "stderr",
     "output_type": "stream",
     "text": [
      "INFO\tTask(Task-2) nodify.node.139719887491712:node.py:get()- No need to evaluate\n"
     ]
    },
    {
     "name": "stderr",
     "output_type": "stream",
     "text": [
      "INFO\tTask(Task-2) nodify.node.139719887497472:node.py:get()- Evaluated because inputs changed.\n"
     ]
    },
    {
     "name": "stderr",
     "output_type": "stream",
     "text": [
      "INFO\tTask(Task-2) nodify.node.139719887490944:node.py:get()- No need to evaluate\n"
     ]
    },
    {
     "name": "stderr",
     "output_type": "stream",
     "text": [
      "INFO\tTask(Task-2) nodify.node.139719887492480:node.py:get()- No need to evaluate\n"
     ]
    },
    {
     "name": "stderr",
     "output_type": "stream",
     "text": [
      "INFO\tTask(Task-2) nodify.node.139719887492864:node.py:get()- No need to evaluate\n"
     ]
    },
    {
     "name": "stderr",
     "output_type": "stream",
     "text": [
      "INFO\tTask(Task-2) nodify.node.139719887497376:node.py:get()- Evaluated because inputs changed.\n"
     ]
    },
    {
     "name": "stderr",
     "output_type": "stream",
     "text": [
      "INFO\tTask(Task-2) nodify.node.139719887489120:node.py:get()- No need to evaluate\n"
     ]
    },
    {
     "name": "stderr",
     "output_type": "stream",
     "text": [
      "INFO\tTask(Task-2) nodify.node.139719887488064:node.py:get()- No need to evaluate\n"
     ]
    },
    {
     "name": "stderr",
     "output_type": "stream",
     "text": [
      "INFO\tTask(Task-2) nodify.node.139719887489552:node.py:get()- No need to evaluate\n"
     ]
    },
    {
     "name": "stderr",
     "output_type": "stream",
     "text": [
      "INFO\tTask(Task-2) nodify.node.139719887489504:node.py:get()- No need to evaluate\n"
     ]
    },
    {
     "name": "stderr",
     "output_type": "stream",
     "text": [
      "INFO\tTask(Task-2) nodify.node.139719887496176:node.py:get()- No need to evaluate\n"
     ]
    },
    {
     "name": "stderr",
     "output_type": "stream",
     "text": [
      "INFO\tTask(Task-2) nodify.node.139719887494016:node.py:get()- No need to evaluate\n"
     ]
    },
    {
     "name": "stderr",
     "output_type": "stream",
     "text": [
      "INFO\tTask(Task-2) nodify.node.139719887498144:node.py:get()- No need to evaluate\n"
     ]
    },
    {
     "name": "stderr",
     "output_type": "stream",
     "text": [
      "INFO\tTask(Task-2) nodify.node.139719887497520:node.py:get()- No need to evaluate\n"
     ]
    },
    {
     "name": "stderr",
     "output_type": "stream",
     "text": [
      "INFO\tTask(Task-2) nodify.node.139719887489168:node.py:get()- No need to evaluate\n"
     ]
    },
    {
     "name": "stderr",
     "output_type": "stream",
     "text": [
      "INFO\tTask(Task-2) nodify.node.139719887489120:node.py:get()- No need to evaluate\n"
     ]
    },
    {
     "name": "stderr",
     "output_type": "stream",
     "text": [
      "INFO\tTask(Task-2) nodify.node.139719887489744:node.py:get()- No need to evaluate\n"
     ]
    },
    {
     "name": "stderr",
     "output_type": "stream",
     "text": [
      "INFO\tTask(Task-2) nodify.node.139719887495696:node.py:get()- No need to evaluate\n"
     ]
    },
    {
     "name": "stderr",
     "output_type": "stream",
     "text": [
      "INFO\tTask(Task-2) nodify.node.139719887489120:node.py:get()- No need to evaluate\n"
     ]
    },
    {
     "name": "stderr",
     "output_type": "stream",
     "text": [
      "INFO\tTask(Task-2) nodify.node.139719887496272:node.py:get()- No need to evaluate\n"
     ]
    },
    {
     "name": "stderr",
     "output_type": "stream",
     "text": [
      "INFO\tTask(Task-2) nodify.node.139719887498192:node.py:get()- No need to evaluate\n"
     ]
    },
    {
     "name": "stderr",
     "output_type": "stream",
     "text": [
      "INFO\tTask(Task-2) nodify.node.139719887490128:node.py:get()- No need to evaluate\n"
     ]
    },
    {
     "name": "stderr",
     "output_type": "stream",
     "text": [
      "INFO\tTask(Task-2) nodify.node.139719887489120:node.py:get()- No need to evaluate\n"
     ]
    },
    {
     "name": "stderr",
     "output_type": "stream",
     "text": [
      "INFO\tTask(Task-2) nodify.node.139719887489744:node.py:get()- No need to evaluate\n"
     ]
    },
    {
     "name": "stderr",
     "output_type": "stream",
     "text": [
      "INFO\tTask(Task-2) nodify.node.139719887495696:node.py:get()- No need to evaluate\n"
     ]
    },
    {
     "name": "stderr",
     "output_type": "stream",
     "text": [
      "INFO\tTask(Task-2) nodify.node.139719887489120:node.py:get()- No need to evaluate\n"
     ]
    },
    {
     "name": "stderr",
     "output_type": "stream",
     "text": [
      "INFO\tTask(Task-2) nodify.node.139719887496272:node.py:get()- No need to evaluate\n"
     ]
    },
    {
     "name": "stderr",
     "output_type": "stream",
     "text": [
      "INFO\tTask(Task-2) nodify.node.139719887498864:node.py:get()- No need to evaluate\n"
     ]
    },
    {
     "name": "stderr",
     "output_type": "stream",
     "text": [
      "INFO\tTask(Task-2) nodify.node.139719887490512:node.py:get()- No need to evaluate\n"
     ]
    },
    {
     "name": "stderr",
     "output_type": "stream",
     "text": [
      "INFO\tTask(Task-2) nodify.node.139719887489120:node.py:get()- No need to evaluate\n"
     ]
    },
    {
     "name": "stderr",
     "output_type": "stream",
     "text": [
      "INFO\tTask(Task-2) nodify.node.139719887489744:node.py:get()- No need to evaluate\n"
     ]
    },
    {
     "name": "stderr",
     "output_type": "stream",
     "text": [
      "INFO\tTask(Task-2) nodify.node.139719887495696:node.py:get()- No need to evaluate\n"
     ]
    },
    {
     "name": "stderr",
     "output_type": "stream",
     "text": [
      "INFO\tTask(Task-2) nodify.node.139719887489120:node.py:get()- No need to evaluate\n"
     ]
    },
    {
     "name": "stderr",
     "output_type": "stream",
     "text": [
      "INFO\tTask(Task-2) nodify.node.139719887496272:node.py:get()- No need to evaluate\n"
     ]
    },
    {
     "name": "stderr",
     "output_type": "stream",
     "text": [
      "INFO\tTask(Task-2) nodify.node.139719887499200:node.py:get()- No need to evaluate\n"
     ]
    },
    {
     "name": "stderr",
     "output_type": "stream",
     "text": [
      "INFO\tTask(Task-2) nodify.node.139719887489120:node.py:get()- No need to evaluate\n"
     ]
    },
    {
     "name": "stderr",
     "output_type": "stream",
     "text": [
      "INFO\tTask(Task-2) nodify.node.139719887488064:node.py:get()- No need to evaluate\n"
     ]
    },
    {
     "name": "stderr",
     "output_type": "stream",
     "text": [
      "INFO\tTask(Task-2) nodify.node.139719887489552:node.py:get()- No need to evaluate\n"
     ]
    },
    {
     "name": "stderr",
     "output_type": "stream",
     "text": [
      "INFO\tTask(Task-2) nodify.node.139719887489504:node.py:get()- No need to evaluate\n"
     ]
    },
    {
     "name": "stderr",
     "output_type": "stream",
     "text": [
      "INFO\tTask(Task-2) nodify.node.139719887496176:node.py:get()- No need to evaluate\n"
     ]
    },
    {
     "name": "stderr",
     "output_type": "stream",
     "text": [
      "INFO\tTask(Task-2) nodify.node.139719887489120:node.py:get()- No need to evaluate\n"
     ]
    },
    {
     "name": "stderr",
     "output_type": "stream",
     "text": [
      "INFO\tTask(Task-2) nodify.node.139719887489744:node.py:get()- No need to evaluate\n"
     ]
    },
    {
     "name": "stderr",
     "output_type": "stream",
     "text": [
      "INFO\tTask(Task-2) nodify.node.139719887495696:node.py:get()- No need to evaluate\n"
     ]
    },
    {
     "name": "stderr",
     "output_type": "stream",
     "text": [
      "INFO\tTask(Task-2) nodify.node.139719887489120:node.py:get()- No need to evaluate\n"
     ]
    },
    {
     "name": "stderr",
     "output_type": "stream",
     "text": [
      "INFO\tTask(Task-2) nodify.node.139719887496272:node.py:get()- No need to evaluate\n"
     ]
    },
    {
     "name": "stderr",
     "output_type": "stream",
     "text": [
      "INFO\tTask(Task-2) nodify.node.139719887493632:node.py:get()- No need to evaluate\n"
     ]
    },
    {
     "name": "stderr",
     "output_type": "stream",
     "text": [
      "INFO\tTask(Task-2) nodify.node.139719887493248:node.py:get()- No need to evaluate\n"
     ]
    },
    {
     "name": "stderr",
     "output_type": "stream",
     "text": [
      "INFO\tTask(Task-2) nodify.node.139719887495984:node.py:get()- No need to evaluate\n"
     ]
    },
    {
     "name": "stderr",
     "output_type": "stream",
     "text": [
      "INFO\tTask(Task-2) nodify.node.139719887496416:node.py:get()- Evaluated because inputs changed.\n"
     ]
    },
    {
     "name": "stderr",
     "output_type": "stream",
     "text": [
      "INFO\tTask(Task-2) nodify.node.139719887499680:node.py:get()- Evaluated because inputs changed.\n"
     ]
    },
    {
     "name": "stderr",
     "output_type": "stream",
     "text": [
      "INFO\tTask(Task-2) nodify.node.139719887500160:node.py:get()- Evaluated because inputs changed.\n"
     ]
    },
    {
     "data": {
      "application/vnd.plotly.v1+json": {
       "config": {
        "plotlyServerURL": "https://plot.ly"
       },
       "data": [
        {
         "coloraxis": "coloraxis",
         "meta": {},
         "opacity": 1,
         "type": "heatmap",
         "z": {
          "bdata": "Avu7mQ5T77+Il6ltAra0v6Rvh+pFl+i/ICFqDy/0lT8gU05A3ibWvwAAAAAAAPh/AAAAAAAA+H8AAAAAAAD4fwAAAAAAAPh/Lm+rIj31kD8AAAAAAAD4fwAAAAAAAPh/AAAAAAAA+H8AAAAAAAD4fwAAAAAAAPh/iJepbQK2tL9YbZVl3AvNPwNX0+u4XeM/vHBtbIR6yL9apZkXjlvovwAAAAAAAPh/AAAAAAAA+H8AAAAAAAD4fwAAAAAAAPh/ANBjXxMRnb8AAAAAAAD4fwAAAAAAAPh/AAAAAAAA+H8AAAAAAAD4fwAAAAAAAPh/pG+H6kWX6L8DV9PruF3jP4LHzQCDsO6/rEhCIALF1L8IrEZ53jS3vwAAAAAAAPh/AAAAAAAA+H8AAAAAAAD4fwAAAAAAAPh/q3hpZP5YoD8AAAAAAAD4fwAAAAAAAPh/AAAAAAAA+H8AAAAAAAD4fwAAAAAAAPh/ICFqDy/0lT+8cG1shHrIv6xIQiACxdS/ZGxmyqzS1T+ALeMXET69PwAAAAAAAPh/AAAAAAAA+H8AAAAAAAD4fwAAAAAAAPh/VWav5R6nwT8AAAAAAAD4fwAAAAAAAPh/AAAAAAAA+H8AAAAAAAD4fwAAAAAAAPh/IFNOQN4m1r9apZkXjlvovwisRnneNLe/gC3jFxE+vT+IG2VUNzbGvwAAAAAAAPh/AAAAAAAA+H8AAAAAAAD4fwAAAAAAAPh/AAAAAAAA+H8ub6siPfWQPwDQY18TEZ2/q3hpZP5YoD9VZq/lHqfBPwAAAAAAAPh/",
          "dtype": "f8",
          "shape": "5, 15"
         },
         "zsmooth": false
        }
       ],
       "layout": {
        "coloraxis": {
         "cmid": 0.5,
         "colorscale": [
          [
           0.0,
           "rgb(0, 147, 146)"
          ],
          [
           0.16666666666666666,
           "rgb(57, 177, 133)"
          ],
          [
           0.3333333333333333,
           "rgb(156, 203, 134)"
          ],
          [
           0.5,
           "rgb(233, 226, 156)"
          ],
          [
           0.6666666666666666,
           "rgb(238, 180, 121)"
          ],
          [
           0.8333333333333334,
           "rgb(232, 132, 113)"
          ],
          [
           1.0,
           "rgb(207, 89, 126)"
          ]
         ],
         "showscale": true
        },
        "scene": {
         "aspectmode": "data",
         "xaxis": {
          "range": [
           -0.5,
           14.5
          ]
         },
         "yaxis": {
          "range": [
           4.5,
           -0.5
          ]
         }
        },
        "template": {
         "layout": {
          "hovermode": "closest",
          "paper_bgcolor": "white",
          "plot_bgcolor": "white",
          "scene": {
           "xaxis": {
            "color": "black",
            "gridcolor": "#ccc",
            "gridwidth": 1,
            "linewidth": 1,
            "mirror": true,
            "showgrid": false,
            "showline": true,
            "ticklen": 5,
            "ticks": "outside",
            "ticksuffix": " ",
            "visible": true,
            "zeroline": false,
            "zerolinecolor": "#ccc",
            "zerolinewidth": 1
           },
           "yaxis": {
            "color": "black",
            "gridcolor": "#ccc",
            "gridwidth": 1,
            "linewidth": 1,
            "mirror": true,
            "showgrid": false,
            "showline": true,
            "ticklen": 5,
            "ticks": "outside",
            "ticksuffix": " ",
            "visible": true,
            "zeroline": false,
            "zerolinecolor": "#ccc",
            "zerolinewidth": 1
           },
           "zaxis": {
            "color": "black",
            "gridcolor": "#ccc",
            "gridwidth": 1,
            "linewidth": 1,
            "mirror": true,
            "showgrid": false,
            "showline": true,
            "ticklen": 5,
            "ticks": "outside",
            "ticksuffix": " ",
            "visible": true,
            "zeroline": false,
            "zerolinecolor": "#ccc",
            "zerolinewidth": 1
           }
          },
          "xaxis": {
           "color": "black",
           "gridcolor": "#ccc",
           "gridwidth": 1,
           "linewidth": 1,
           "mirror": true,
           "showgrid": false,
           "showline": true,
           "ticklen": 5,
           "ticks": "outside",
           "ticksuffix": " ",
           "visible": true,
           "zeroline": false,
           "zerolinecolor": "#ccc",
           "zerolinewidth": 1
          },
          "yaxis": {
           "color": "black",
           "gridcolor": "#ccc",
           "gridwidth": 1,
           "linewidth": 1,
           "mirror": true,
           "showgrid": false,
           "showline": true,
           "ticklen": 5,
           "ticks": "outside",
           "ticksuffix": " ",
           "visible": true,
           "zeroline": false,
           "zerolinecolor": "#ccc",
           "zerolinewidth": 1
          }
         }
        },
        "xaxis": {
         "constrain": "domain",
         "range": [
          -0.5,
          14.5
         ],
         "scaleanchor": "y",
         "scaleratio": 1
        },
        "yaxis": {
         "constrain": "domain",
         "range": [
          4.5,
          -0.5
         ]
        }
       }
      }
     },
     "metadata": {},
     "output_type": "display_data"
    }
   ],
   "source": [
    "plot.update_inputs(cmid=0.5)"
   ]
  },
  {
   "cell_type": "markdown",
   "metadata": {},
   "source": [
    "And to set the range of the scale from `-4` to `1`:"
   ]
  },
  {
   "cell_type": "code",
   "execution_count": 6,
   "metadata": {
    "execution": {
     "iopub.execute_input": "2025-08-14T08:48:48.793560Z",
     "iopub.status.busy": "2025-08-14T08:48:48.793381Z",
     "iopub.status.idle": "2025-08-14T08:48:48.870959Z",
     "shell.execute_reply": "2025-08-14T08:48:48.870288Z"
    }
   },
   "outputs": [
    {
     "name": "stderr",
     "output_type": "stream",
     "text": [
      "INFO\tTask(Task-2) nodify.node.139719887494400:node.py:get()- No need to evaluate\n"
     ]
    },
    {
     "name": "stderr",
     "output_type": "stream",
     "text": [
      "INFO\tTask(Task-2) nodify.node.139719887489120:node.py:get()- No need to evaluate\n"
     ]
    },
    {
     "name": "stderr",
     "output_type": "stream",
     "text": [
      "INFO\tTask(Task-2) nodify.node.139719887488064:node.py:get()- No need to evaluate\n"
     ]
    },
    {
     "name": "stderr",
     "output_type": "stream",
     "text": [
      "INFO\tTask(Task-2) nodify.node.139719887489552:node.py:get()- No need to evaluate\n"
     ]
    },
    {
     "name": "stderr",
     "output_type": "stream",
     "text": [
      "INFO\tTask(Task-2) nodify.node.139719887489504:node.py:get()- No need to evaluate\n"
     ]
    },
    {
     "name": "stderr",
     "output_type": "stream",
     "text": [
      "INFO\tTask(Task-2) nodify.node.139719887496176:node.py:get()- No need to evaluate\n"
     ]
    },
    {
     "name": "stderr",
     "output_type": "stream",
     "text": [
      "INFO\tTask(Task-2) nodify.node.139719887491328:node.py:get()- No need to evaluate\n"
     ]
    },
    {
     "name": "stderr",
     "output_type": "stream",
     "text": [
      "INFO\tTask(Task-2) nodify.node.139719887491712:node.py:get()- Evaluated because inputs changed.\n"
     ]
    },
    {
     "name": "stderr",
     "output_type": "stream",
     "text": [
      "INFO\tTask(Task-2) nodify.node.139719887489120:node.py:get()- No need to evaluate\n"
     ]
    },
    {
     "name": "stderr",
     "output_type": "stream",
     "text": [
      "INFO\tTask(Task-2) nodify.node.139719887492096:node.py:get()- No need to evaluate\n"
     ]
    },
    {
     "name": "stderr",
     "output_type": "stream",
     "text": [
      "INFO\tTask(Task-2) nodify.node.139719887491712:node.py:get()- No need to evaluate\n"
     ]
    },
    {
     "name": "stderr",
     "output_type": "stream",
     "text": [
      "INFO\tTask(Task-2) nodify.node.139719887497472:node.py:get()- Evaluated because inputs changed.\n"
     ]
    },
    {
     "name": "stderr",
     "output_type": "stream",
     "text": [
      "INFO\tTask(Task-2) nodify.node.139719887490944:node.py:get()- No need to evaluate\n"
     ]
    },
    {
     "name": "stderr",
     "output_type": "stream",
     "text": [
      "INFO\tTask(Task-2) nodify.node.139719887492480:node.py:get()- No need to evaluate\n"
     ]
    },
    {
     "name": "stderr",
     "output_type": "stream",
     "text": [
      "INFO\tTask(Task-2) nodify.node.139719887492864:node.py:get()- No need to evaluate\n"
     ]
    },
    {
     "name": "stderr",
     "output_type": "stream",
     "text": [
      "INFO\tTask(Task-2) nodify.node.139719887497376:node.py:get()- Evaluated because inputs changed.\n"
     ]
    },
    {
     "name": "stderr",
     "output_type": "stream",
     "text": [
      "INFO\tTask(Task-2) nodify.node.139719887489120:node.py:get()- No need to evaluate\n"
     ]
    },
    {
     "name": "stderr",
     "output_type": "stream",
     "text": [
      "INFO\tTask(Task-2) nodify.node.139719887488064:node.py:get()- No need to evaluate\n"
     ]
    },
    {
     "name": "stderr",
     "output_type": "stream",
     "text": [
      "INFO\tTask(Task-2) nodify.node.139719887489552:node.py:get()- No need to evaluate\n"
     ]
    },
    {
     "name": "stderr",
     "output_type": "stream",
     "text": [
      "INFO\tTask(Task-2) nodify.node.139719887489504:node.py:get()- No need to evaluate\n"
     ]
    },
    {
     "name": "stderr",
     "output_type": "stream",
     "text": [
      "INFO\tTask(Task-2) nodify.node.139719887496176:node.py:get()- No need to evaluate\n"
     ]
    },
    {
     "name": "stderr",
     "output_type": "stream",
     "text": [
      "INFO\tTask(Task-2) nodify.node.139719887494016:node.py:get()- No need to evaluate\n"
     ]
    },
    {
     "name": "stderr",
     "output_type": "stream",
     "text": [
      "INFO\tTask(Task-2) nodify.node.139719887498144:node.py:get()- No need to evaluate\n"
     ]
    },
    {
     "name": "stderr",
     "output_type": "stream",
     "text": [
      "INFO\tTask(Task-2) nodify.node.139719887497520:node.py:get()- No need to evaluate\n"
     ]
    },
    {
     "name": "stderr",
     "output_type": "stream",
     "text": [
      "INFO\tTask(Task-2) nodify.node.139719887489168:node.py:get()- No need to evaluate\n"
     ]
    },
    {
     "name": "stderr",
     "output_type": "stream",
     "text": [
      "INFO\tTask(Task-2) nodify.node.139719887489120:node.py:get()- No need to evaluate\n"
     ]
    },
    {
     "name": "stderr",
     "output_type": "stream",
     "text": [
      "INFO\tTask(Task-2) nodify.node.139719887489744:node.py:get()- No need to evaluate\n"
     ]
    },
    {
     "name": "stderr",
     "output_type": "stream",
     "text": [
      "INFO\tTask(Task-2) nodify.node.139719887495696:node.py:get()- No need to evaluate\n"
     ]
    },
    {
     "name": "stderr",
     "output_type": "stream",
     "text": [
      "INFO\tTask(Task-2) nodify.node.139719887489120:node.py:get()- No need to evaluate\n"
     ]
    },
    {
     "name": "stderr",
     "output_type": "stream",
     "text": [
      "INFO\tTask(Task-2) nodify.node.139719887496272:node.py:get()- No need to evaluate\n"
     ]
    },
    {
     "name": "stderr",
     "output_type": "stream",
     "text": [
      "INFO\tTask(Task-2) nodify.node.139719887498192:node.py:get()- No need to evaluate\n"
     ]
    },
    {
     "name": "stderr",
     "output_type": "stream",
     "text": [
      "INFO\tTask(Task-2) nodify.node.139719887490128:node.py:get()- No need to evaluate\n"
     ]
    },
    {
     "name": "stderr",
     "output_type": "stream",
     "text": [
      "INFO\tTask(Task-2) nodify.node.139719887489120:node.py:get()- No need to evaluate\n"
     ]
    },
    {
     "name": "stderr",
     "output_type": "stream",
     "text": [
      "INFO\tTask(Task-2) nodify.node.139719887489744:node.py:get()- No need to evaluate\n"
     ]
    },
    {
     "name": "stderr",
     "output_type": "stream",
     "text": [
      "INFO\tTask(Task-2) nodify.node.139719887495696:node.py:get()- No need to evaluate\n"
     ]
    },
    {
     "name": "stderr",
     "output_type": "stream",
     "text": [
      "INFO\tTask(Task-2) nodify.node.139719887489120:node.py:get()- No need to evaluate\n"
     ]
    },
    {
     "name": "stderr",
     "output_type": "stream",
     "text": [
      "INFO\tTask(Task-2) nodify.node.139719887496272:node.py:get()- No need to evaluate\n"
     ]
    },
    {
     "name": "stderr",
     "output_type": "stream",
     "text": [
      "INFO\tTask(Task-2) nodify.node.139719887498864:node.py:get()- No need to evaluate\n"
     ]
    },
    {
     "name": "stderr",
     "output_type": "stream",
     "text": [
      "INFO\tTask(Task-2) nodify.node.139719887490512:node.py:get()- No need to evaluate\n"
     ]
    },
    {
     "name": "stderr",
     "output_type": "stream",
     "text": [
      "INFO\tTask(Task-2) nodify.node.139719887489120:node.py:get()- No need to evaluate\n"
     ]
    },
    {
     "name": "stderr",
     "output_type": "stream",
     "text": [
      "INFO\tTask(Task-2) nodify.node.139719887489744:node.py:get()- No need to evaluate\n"
     ]
    },
    {
     "name": "stderr",
     "output_type": "stream",
     "text": [
      "INFO\tTask(Task-2) nodify.node.139719887495696:node.py:get()- No need to evaluate\n"
     ]
    },
    {
     "name": "stderr",
     "output_type": "stream",
     "text": [
      "INFO\tTask(Task-2) nodify.node.139719887489120:node.py:get()- No need to evaluate\n"
     ]
    },
    {
     "name": "stderr",
     "output_type": "stream",
     "text": [
      "INFO\tTask(Task-2) nodify.node.139719887496272:node.py:get()- No need to evaluate\n"
     ]
    },
    {
     "name": "stderr",
     "output_type": "stream",
     "text": [
      "INFO\tTask(Task-2) nodify.node.139719887499200:node.py:get()- No need to evaluate\n"
     ]
    },
    {
     "name": "stderr",
     "output_type": "stream",
     "text": [
      "INFO\tTask(Task-2) nodify.node.139719887489120:node.py:get()- No need to evaluate\n"
     ]
    },
    {
     "name": "stderr",
     "output_type": "stream",
     "text": [
      "INFO\tTask(Task-2) nodify.node.139719887488064:node.py:get()- No need to evaluate\n"
     ]
    },
    {
     "name": "stderr",
     "output_type": "stream",
     "text": [
      "INFO\tTask(Task-2) nodify.node.139719887489552:node.py:get()- No need to evaluate\n"
     ]
    },
    {
     "name": "stderr",
     "output_type": "stream",
     "text": [
      "INFO\tTask(Task-2) nodify.node.139719887489504:node.py:get()- No need to evaluate\n"
     ]
    },
    {
     "name": "stderr",
     "output_type": "stream",
     "text": [
      "INFO\tTask(Task-2) nodify.node.139719887496176:node.py:get()- No need to evaluate\n"
     ]
    },
    {
     "name": "stderr",
     "output_type": "stream",
     "text": [
      "INFO\tTask(Task-2) nodify.node.139719887489120:node.py:get()- No need to evaluate\n"
     ]
    },
    {
     "name": "stderr",
     "output_type": "stream",
     "text": [
      "INFO\tTask(Task-2) nodify.node.139719887489744:node.py:get()- No need to evaluate\n"
     ]
    },
    {
     "name": "stderr",
     "output_type": "stream",
     "text": [
      "INFO\tTask(Task-2) nodify.node.139719887495696:node.py:get()- No need to evaluate\n"
     ]
    },
    {
     "name": "stderr",
     "output_type": "stream",
     "text": [
      "INFO\tTask(Task-2) nodify.node.139719887489120:node.py:get()- No need to evaluate\n"
     ]
    },
    {
     "name": "stderr",
     "output_type": "stream",
     "text": [
      "INFO\tTask(Task-2) nodify.node.139719887496272:node.py:get()- No need to evaluate\n"
     ]
    },
    {
     "name": "stderr",
     "output_type": "stream",
     "text": [
      "INFO\tTask(Task-2) nodify.node.139719887493632:node.py:get()- No need to evaluate\n"
     ]
    },
    {
     "name": "stderr",
     "output_type": "stream",
     "text": [
      "INFO\tTask(Task-2) nodify.node.139719887493248:node.py:get()- No need to evaluate\n"
     ]
    },
    {
     "name": "stderr",
     "output_type": "stream",
     "text": [
      "INFO\tTask(Task-2) nodify.node.139719887495984:node.py:get()- No need to evaluate\n"
     ]
    },
    {
     "name": "stderr",
     "output_type": "stream",
     "text": [
      "INFO\tTask(Task-2) nodify.node.139719887496416:node.py:get()- Evaluated because inputs changed.\n"
     ]
    },
    {
     "name": "stderr",
     "output_type": "stream",
     "text": [
      "INFO\tTask(Task-2) nodify.node.139719887499680:node.py:get()- Evaluated because inputs changed.\n"
     ]
    },
    {
     "name": "stderr",
     "output_type": "stream",
     "text": [
      "INFO\tTask(Task-2) nodify.node.139719887500160:node.py:get()- Evaluated because inputs changed.\n"
     ]
    },
    {
     "data": {
      "application/vnd.plotly.v1+json": {
       "config": {
        "plotlyServerURL": "https://plot.ly"
       },
       "data": [
        {
         "coloraxis": "coloraxis",
         "meta": {},
         "opacity": 1,
         "type": "heatmap",
         "z": {
          "bdata": "Avu7mQ5T77+Il6ltAra0v6Rvh+pFl+i/ICFqDy/0lT8gU05A3ibWvwAAAAAAAPh/AAAAAAAA+H8AAAAAAAD4fwAAAAAAAPh/Lm+rIj31kD8AAAAAAAD4fwAAAAAAAPh/AAAAAAAA+H8AAAAAAAD4fwAAAAAAAPh/iJepbQK2tL9YbZVl3AvNPwNX0+u4XeM/vHBtbIR6yL9apZkXjlvovwAAAAAAAPh/AAAAAAAA+H8AAAAAAAD4fwAAAAAAAPh/ANBjXxMRnb8AAAAAAAD4fwAAAAAAAPh/AAAAAAAA+H8AAAAAAAD4fwAAAAAAAPh/pG+H6kWX6L8DV9PruF3jP4LHzQCDsO6/rEhCIALF1L8IrEZ53jS3vwAAAAAAAPh/AAAAAAAA+H8AAAAAAAD4fwAAAAAAAPh/q3hpZP5YoD8AAAAAAAD4fwAAAAAAAPh/AAAAAAAA+H8AAAAAAAD4fwAAAAAAAPh/ICFqDy/0lT+8cG1shHrIv6xIQiACxdS/ZGxmyqzS1T+ALeMXET69PwAAAAAAAPh/AAAAAAAA+H8AAAAAAAD4fwAAAAAAAPh/VWav5R6nwT8AAAAAAAD4fwAAAAAAAPh/AAAAAAAA+H8AAAAAAAD4fwAAAAAAAPh/IFNOQN4m1r9apZkXjlvovwisRnneNLe/gC3jFxE+vT+IG2VUNzbGvwAAAAAAAPh/AAAAAAAA+H8AAAAAAAD4fwAAAAAAAPh/AAAAAAAA+H8ub6siPfWQPwDQY18TEZ2/q3hpZP5YoD9VZq/lHqfBPwAAAAAAAPh/",
          "dtype": "f8",
          "shape": "5, 15"
         },
         "zsmooth": false
        }
       ],
       "layout": {
        "coloraxis": {
         "cmax": 1,
         "cmid": 0.5,
         "cmin": -4,
         "colorscale": [
          [
           0.0,
           "rgb(0, 147, 146)"
          ],
          [
           0.16666666666666666,
           "rgb(57, 177, 133)"
          ],
          [
           0.3333333333333333,
           "rgb(156, 203, 134)"
          ],
          [
           0.5,
           "rgb(233, 226, 156)"
          ],
          [
           0.6666666666666666,
           "rgb(238, 180, 121)"
          ],
          [
           0.8333333333333334,
           "rgb(232, 132, 113)"
          ],
          [
           1.0,
           "rgb(207, 89, 126)"
          ]
         ],
         "showscale": true
        },
        "scene": {
         "aspectmode": "data",
         "xaxis": {
          "range": [
           -0.5,
           14.5
          ]
         },
         "yaxis": {
          "range": [
           4.5,
           -0.5
          ]
         }
        },
        "template": {
         "layout": {
          "hovermode": "closest",
          "paper_bgcolor": "white",
          "plot_bgcolor": "white",
          "scene": {
           "xaxis": {
            "color": "black",
            "gridcolor": "#ccc",
            "gridwidth": 1,
            "linewidth": 1,
            "mirror": true,
            "showgrid": false,
            "showline": true,
            "ticklen": 5,
            "ticks": "outside",
            "ticksuffix": " ",
            "visible": true,
            "zeroline": false,
            "zerolinecolor": "#ccc",
            "zerolinewidth": 1
           },
           "yaxis": {
            "color": "black",
            "gridcolor": "#ccc",
            "gridwidth": 1,
            "linewidth": 1,
            "mirror": true,
            "showgrid": false,
            "showline": true,
            "ticklen": 5,
            "ticks": "outside",
            "ticksuffix": " ",
            "visible": true,
            "zeroline": false,
            "zerolinecolor": "#ccc",
            "zerolinewidth": 1
           },
           "zaxis": {
            "color": "black",
            "gridcolor": "#ccc",
            "gridwidth": 1,
            "linewidth": 1,
            "mirror": true,
            "showgrid": false,
            "showline": true,
            "ticklen": 5,
            "ticks": "outside",
            "ticksuffix": " ",
            "visible": true,
            "zeroline": false,
            "zerolinecolor": "#ccc",
            "zerolinewidth": 1
           }
          },
          "xaxis": {
           "color": "black",
           "gridcolor": "#ccc",
           "gridwidth": 1,
           "linewidth": 1,
           "mirror": true,
           "showgrid": false,
           "showline": true,
           "ticklen": 5,
           "ticks": "outside",
           "ticksuffix": " ",
           "visible": true,
           "zeroline": false,
           "zerolinecolor": "#ccc",
           "zerolinewidth": 1
          },
          "yaxis": {
           "color": "black",
           "gridcolor": "#ccc",
           "gridwidth": 1,
           "linewidth": 1,
           "mirror": true,
           "showgrid": false,
           "showline": true,
           "ticklen": 5,
           "ticks": "outside",
           "ticksuffix": " ",
           "visible": true,
           "zeroline": false,
           "zerolinecolor": "#ccc",
           "zerolinewidth": 1
          }
         }
        },
        "xaxis": {
         "constrain": "domain",
         "range": [
          -0.5,
          14.5
         ],
         "scaleanchor": "y",
         "scaleratio": 1
        },
        "yaxis": {
         "constrain": "domain",
         "range": [
          4.5,
          -0.5
         ]
        }
       }
      }
     },
     "metadata": {},
     "output_type": "display_data"
    }
   ],
   "source": [
    "plot.update_inputs(crange=(-4, 1))"
   ]
  },
  {
   "cell_type": "markdown",
   "metadata": {},
   "source": [
    "Notice how **`crange` takes precedence over `cmid`**. Now, to go back to the default range, just set both to `None`."
   ]
  },
  {
   "cell_type": "code",
   "execution_count": 7,
   "metadata": {
    "execution": {
     "iopub.execute_input": "2025-08-14T08:48:48.872786Z",
     "iopub.status.busy": "2025-08-14T08:48:48.872597Z",
     "iopub.status.idle": "2025-08-14T08:48:48.956990Z",
     "shell.execute_reply": "2025-08-14T08:48:48.956479Z"
    }
   },
   "outputs": [
    {
     "name": "stderr",
     "output_type": "stream",
     "text": [
      "INFO\tTask(Task-2) nodify.node.139719887494400:node.py:get()- No need to evaluate\n"
     ]
    },
    {
     "name": "stderr",
     "output_type": "stream",
     "text": [
      "INFO\tTask(Task-2) nodify.node.139719887489120:node.py:get()- No need to evaluate\n"
     ]
    },
    {
     "name": "stderr",
     "output_type": "stream",
     "text": [
      "INFO\tTask(Task-2) nodify.node.139719887488064:node.py:get()- No need to evaluate\n"
     ]
    },
    {
     "name": "stderr",
     "output_type": "stream",
     "text": [
      "INFO\tTask(Task-2) nodify.node.139719887489552:node.py:get()- No need to evaluate\n"
     ]
    },
    {
     "name": "stderr",
     "output_type": "stream",
     "text": [
      "INFO\tTask(Task-2) nodify.node.139719887489504:node.py:get()- No need to evaluate\n"
     ]
    },
    {
     "name": "stderr",
     "output_type": "stream",
     "text": [
      "INFO\tTask(Task-2) nodify.node.139719887496176:node.py:get()- No need to evaluate\n"
     ]
    },
    {
     "name": "stderr",
     "output_type": "stream",
     "text": [
      "INFO\tTask(Task-2) nodify.node.139719887491328:node.py:get()- No need to evaluate\n"
     ]
    },
    {
     "name": "stderr",
     "output_type": "stream",
     "text": [
      "INFO\tTask(Task-2) nodify.node.139719887491712:node.py:get()- Evaluated because inputs changed.\n"
     ]
    },
    {
     "name": "stderr",
     "output_type": "stream",
     "text": [
      "INFO\tTask(Task-2) nodify.node.139719887489120:node.py:get()- No need to evaluate\n"
     ]
    },
    {
     "name": "stderr",
     "output_type": "stream",
     "text": [
      "INFO\tTask(Task-2) nodify.node.139719887492096:node.py:get()- Evaluated because inputs changed.\n"
     ]
    },
    {
     "name": "stderr",
     "output_type": "stream",
     "text": [
      "INFO\tTask(Task-2) nodify.node.139719887491712:node.py:get()- No need to evaluate\n"
     ]
    },
    {
     "name": "stderr",
     "output_type": "stream",
     "text": [
      "INFO\tTask(Task-2) nodify.node.139719887497472:node.py:get()- Evaluated because inputs changed.\n"
     ]
    },
    {
     "name": "stderr",
     "output_type": "stream",
     "text": [
      "INFO\tTask(Task-2) nodify.node.139719887490944:node.py:get()- No need to evaluate\n"
     ]
    },
    {
     "name": "stderr",
     "output_type": "stream",
     "text": [
      "INFO\tTask(Task-2) nodify.node.139719887492480:node.py:get()- No need to evaluate\n"
     ]
    },
    {
     "name": "stderr",
     "output_type": "stream",
     "text": [
      "INFO\tTask(Task-2) nodify.node.139719887492864:node.py:get()- No need to evaluate\n"
     ]
    },
    {
     "name": "stderr",
     "output_type": "stream",
     "text": [
      "INFO\tTask(Task-2) nodify.node.139719887497376:node.py:get()- Evaluated because inputs changed.\n"
     ]
    },
    {
     "name": "stderr",
     "output_type": "stream",
     "text": [
      "INFO\tTask(Task-2) nodify.node.139719887489120:node.py:get()- No need to evaluate\n"
     ]
    },
    {
     "name": "stderr",
     "output_type": "stream",
     "text": [
      "INFO\tTask(Task-2) nodify.node.139719887488064:node.py:get()- No need to evaluate\n"
     ]
    },
    {
     "name": "stderr",
     "output_type": "stream",
     "text": [
      "INFO\tTask(Task-2) nodify.node.139719887489552:node.py:get()- No need to evaluate\n"
     ]
    },
    {
     "name": "stderr",
     "output_type": "stream",
     "text": [
      "INFO\tTask(Task-2) nodify.node.139719887489504:node.py:get()- No need to evaluate\n"
     ]
    },
    {
     "name": "stderr",
     "output_type": "stream",
     "text": [
      "INFO\tTask(Task-2) nodify.node.139719887496176:node.py:get()- No need to evaluate\n"
     ]
    },
    {
     "name": "stderr",
     "output_type": "stream",
     "text": [
      "INFO\tTask(Task-2) nodify.node.139719887494016:node.py:get()- No need to evaluate\n"
     ]
    },
    {
     "name": "stderr",
     "output_type": "stream",
     "text": [
      "INFO\tTask(Task-2) nodify.node.139719887498144:node.py:get()- No need to evaluate\n"
     ]
    },
    {
     "name": "stderr",
     "output_type": "stream",
     "text": [
      "INFO\tTask(Task-2) nodify.node.139719887497520:node.py:get()- No need to evaluate\n"
     ]
    },
    {
     "name": "stderr",
     "output_type": "stream",
     "text": [
      "INFO\tTask(Task-2) nodify.node.139719887489168:node.py:get()- No need to evaluate\n"
     ]
    },
    {
     "name": "stderr",
     "output_type": "stream",
     "text": [
      "INFO\tTask(Task-2) nodify.node.139719887489120:node.py:get()- No need to evaluate\n"
     ]
    },
    {
     "name": "stderr",
     "output_type": "stream",
     "text": [
      "INFO\tTask(Task-2) nodify.node.139719887489744:node.py:get()- No need to evaluate\n"
     ]
    },
    {
     "name": "stderr",
     "output_type": "stream",
     "text": [
      "INFO\tTask(Task-2) nodify.node.139719887495696:node.py:get()- No need to evaluate\n"
     ]
    },
    {
     "name": "stderr",
     "output_type": "stream",
     "text": [
      "INFO\tTask(Task-2) nodify.node.139719887489120:node.py:get()- No need to evaluate\n"
     ]
    },
    {
     "name": "stderr",
     "output_type": "stream",
     "text": [
      "INFO\tTask(Task-2) nodify.node.139719887496272:node.py:get()- No need to evaluate\n"
     ]
    },
    {
     "name": "stderr",
     "output_type": "stream",
     "text": [
      "INFO\tTask(Task-2) nodify.node.139719887498192:node.py:get()- No need to evaluate\n"
     ]
    },
    {
     "name": "stderr",
     "output_type": "stream",
     "text": [
      "INFO\tTask(Task-2) nodify.node.139719887490128:node.py:get()- No need to evaluate\n"
     ]
    },
    {
     "name": "stderr",
     "output_type": "stream",
     "text": [
      "INFO\tTask(Task-2) nodify.node.139719887489120:node.py:get()- No need to evaluate\n"
     ]
    },
    {
     "name": "stderr",
     "output_type": "stream",
     "text": [
      "INFO\tTask(Task-2) nodify.node.139719887489744:node.py:get()- No need to evaluate\n"
     ]
    },
    {
     "name": "stderr",
     "output_type": "stream",
     "text": [
      "INFO\tTask(Task-2) nodify.node.139719887495696:node.py:get()- No need to evaluate\n"
     ]
    },
    {
     "name": "stderr",
     "output_type": "stream",
     "text": [
      "INFO\tTask(Task-2) nodify.node.139719887489120:node.py:get()- No need to evaluate\n"
     ]
    },
    {
     "name": "stderr",
     "output_type": "stream",
     "text": [
      "INFO\tTask(Task-2) nodify.node.139719887496272:node.py:get()- No need to evaluate\n"
     ]
    },
    {
     "name": "stderr",
     "output_type": "stream",
     "text": [
      "INFO\tTask(Task-2) nodify.node.139719887498864:node.py:get()- No need to evaluate\n"
     ]
    },
    {
     "name": "stderr",
     "output_type": "stream",
     "text": [
      "INFO\tTask(Task-2) nodify.node.139719887490512:node.py:get()- No need to evaluate\n"
     ]
    },
    {
     "name": "stderr",
     "output_type": "stream",
     "text": [
      "INFO\tTask(Task-2) nodify.node.139719887489120:node.py:get()- No need to evaluate\n"
     ]
    },
    {
     "name": "stderr",
     "output_type": "stream",
     "text": [
      "INFO\tTask(Task-2) nodify.node.139719887489744:node.py:get()- No need to evaluate\n"
     ]
    },
    {
     "name": "stderr",
     "output_type": "stream",
     "text": [
      "INFO\tTask(Task-2) nodify.node.139719887495696:node.py:get()- No need to evaluate\n"
     ]
    },
    {
     "name": "stderr",
     "output_type": "stream",
     "text": [
      "INFO\tTask(Task-2) nodify.node.139719887489120:node.py:get()- No need to evaluate\n"
     ]
    },
    {
     "name": "stderr",
     "output_type": "stream",
     "text": [
      "INFO\tTask(Task-2) nodify.node.139719887496272:node.py:get()- No need to evaluate\n"
     ]
    },
    {
     "name": "stderr",
     "output_type": "stream",
     "text": [
      "INFO\tTask(Task-2) nodify.node.139719887499200:node.py:get()- No need to evaluate\n"
     ]
    },
    {
     "name": "stderr",
     "output_type": "stream",
     "text": [
      "INFO\tTask(Task-2) nodify.node.139719887489120:node.py:get()- No need to evaluate\n"
     ]
    },
    {
     "name": "stderr",
     "output_type": "stream",
     "text": [
      "INFO\tTask(Task-2) nodify.node.139719887488064:node.py:get()- No need to evaluate\n"
     ]
    },
    {
     "name": "stderr",
     "output_type": "stream",
     "text": [
      "INFO\tTask(Task-2) nodify.node.139719887489552:node.py:get()- No need to evaluate\n"
     ]
    },
    {
     "name": "stderr",
     "output_type": "stream",
     "text": [
      "INFO\tTask(Task-2) nodify.node.139719887489504:node.py:get()- No need to evaluate\n"
     ]
    },
    {
     "name": "stderr",
     "output_type": "stream",
     "text": [
      "INFO\tTask(Task-2) nodify.node.139719887496176:node.py:get()- No need to evaluate\n"
     ]
    },
    {
     "name": "stderr",
     "output_type": "stream",
     "text": [
      "INFO\tTask(Task-2) nodify.node.139719887489120:node.py:get()- No need to evaluate\n"
     ]
    },
    {
     "name": "stderr",
     "output_type": "stream",
     "text": [
      "INFO\tTask(Task-2) nodify.node.139719887489744:node.py:get()- No need to evaluate\n"
     ]
    },
    {
     "name": "stderr",
     "output_type": "stream",
     "text": [
      "INFO\tTask(Task-2) nodify.node.139719887495696:node.py:get()- No need to evaluate\n"
     ]
    },
    {
     "name": "stderr",
     "output_type": "stream",
     "text": [
      "INFO\tTask(Task-2) nodify.node.139719887489120:node.py:get()- No need to evaluate\n"
     ]
    },
    {
     "name": "stderr",
     "output_type": "stream",
     "text": [
      "INFO\tTask(Task-2) nodify.node.139719887496272:node.py:get()- No need to evaluate\n"
     ]
    },
    {
     "name": "stderr",
     "output_type": "stream",
     "text": [
      "INFO\tTask(Task-2) nodify.node.139719887493632:node.py:get()- No need to evaluate\n"
     ]
    },
    {
     "name": "stderr",
     "output_type": "stream",
     "text": [
      "INFO\tTask(Task-2) nodify.node.139719887493248:node.py:get()- No need to evaluate\n"
     ]
    },
    {
     "name": "stderr",
     "output_type": "stream",
     "text": [
      "INFO\tTask(Task-2) nodify.node.139719887495984:node.py:get()- No need to evaluate\n"
     ]
    },
    {
     "name": "stderr",
     "output_type": "stream",
     "text": [
      "INFO\tTask(Task-2) nodify.node.139719887496416:node.py:get()- Evaluated because inputs changed.\n"
     ]
    },
    {
     "name": "stderr",
     "output_type": "stream",
     "text": [
      "INFO\tTask(Task-2) nodify.node.139719887499680:node.py:get()- Evaluated because inputs changed.\n"
     ]
    },
    {
     "name": "stderr",
     "output_type": "stream",
     "text": [
      "INFO\tTask(Task-2) nodify.node.139719887500160:node.py:get()- Evaluated because inputs changed.\n"
     ]
    },
    {
     "data": {
      "application/vnd.plotly.v1+json": {
       "config": {
        "plotlyServerURL": "https://plot.ly"
       },
       "data": [
        {
         "coloraxis": "coloraxis",
         "meta": {},
         "opacity": 1,
         "type": "heatmap",
         "z": {
          "bdata": "Avu7mQ5T77+Il6ltAra0v6Rvh+pFl+i/ICFqDy/0lT8gU05A3ibWvwAAAAAAAPh/AAAAAAAA+H8AAAAAAAD4fwAAAAAAAPh/Lm+rIj31kD8AAAAAAAD4fwAAAAAAAPh/AAAAAAAA+H8AAAAAAAD4fwAAAAAAAPh/iJepbQK2tL9YbZVl3AvNPwNX0+u4XeM/vHBtbIR6yL9apZkXjlvovwAAAAAAAPh/AAAAAAAA+H8AAAAAAAD4fwAAAAAAAPh/ANBjXxMRnb8AAAAAAAD4fwAAAAAAAPh/AAAAAAAA+H8AAAAAAAD4fwAAAAAAAPh/pG+H6kWX6L8DV9PruF3jP4LHzQCDsO6/rEhCIALF1L8IrEZ53jS3vwAAAAAAAPh/AAAAAAAA+H8AAAAAAAD4fwAAAAAAAPh/q3hpZP5YoD8AAAAAAAD4fwAAAAAAAPh/AAAAAAAA+H8AAAAAAAD4fwAAAAAAAPh/ICFqDy/0lT+8cG1shHrIv6xIQiACxdS/ZGxmyqzS1T+ALeMXET69PwAAAAAAAPh/AAAAAAAA+H8AAAAAAAD4fwAAAAAAAPh/VWav5R6nwT8AAAAAAAD4fwAAAAAAAPh/AAAAAAAA+H8AAAAAAAD4fwAAAAAAAPh/IFNOQN4m1r9apZkXjlvovwisRnneNLe/gC3jFxE+vT+IG2VUNzbGvwAAAAAAAPh/AAAAAAAA+H8AAAAAAAD4fwAAAAAAAPh/AAAAAAAA+H8ub6siPfWQPwDQY18TEZ2/q3hpZP5YoD9VZq/lHqfBPwAAAAAAAPh/",
          "dtype": "f8",
          "shape": "5, 15"
         },
         "zsmooth": false
        }
       ],
       "layout": {
        "coloraxis": {
         "cmid": 0,
         "colorscale": [
          [
           0.0,
           "rgb(0, 147, 146)"
          ],
          [
           0.16666666666666666,
           "rgb(57, 177, 133)"
          ],
          [
           0.3333333333333333,
           "rgb(156, 203, 134)"
          ],
          [
           0.5,
           "rgb(233, 226, 156)"
          ],
          [
           0.6666666666666666,
           "rgb(238, 180, 121)"
          ],
          [
           0.8333333333333334,
           "rgb(232, 132, 113)"
          ],
          [
           1.0,
           "rgb(207, 89, 126)"
          ]
         ],
         "showscale": true
        },
        "scene": {
         "aspectmode": "data",
         "xaxis": {
          "range": [
           -0.5,
           14.5
          ]
         },
         "yaxis": {
          "range": [
           4.5,
           -0.5
          ]
         }
        },
        "template": {
         "layout": {
          "hovermode": "closest",
          "paper_bgcolor": "white",
          "plot_bgcolor": "white",
          "scene": {
           "xaxis": {
            "color": "black",
            "gridcolor": "#ccc",
            "gridwidth": 1,
            "linewidth": 1,
            "mirror": true,
            "showgrid": false,
            "showline": true,
            "ticklen": 5,
            "ticks": "outside",
            "ticksuffix": " ",
            "visible": true,
            "zeroline": false,
            "zerolinecolor": "#ccc",
            "zerolinewidth": 1
           },
           "yaxis": {
            "color": "black",
            "gridcolor": "#ccc",
            "gridwidth": 1,
            "linewidth": 1,
            "mirror": true,
            "showgrid": false,
            "showline": true,
            "ticklen": 5,
            "ticks": "outside",
            "ticksuffix": " ",
            "visible": true,
            "zeroline": false,
            "zerolinecolor": "#ccc",
            "zerolinewidth": 1
           },
           "zaxis": {
            "color": "black",
            "gridcolor": "#ccc",
            "gridwidth": 1,
            "linewidth": 1,
            "mirror": true,
            "showgrid": false,
            "showline": true,
            "ticklen": 5,
            "ticks": "outside",
            "ticksuffix": " ",
            "visible": true,
            "zeroline": false,
            "zerolinecolor": "#ccc",
            "zerolinewidth": 1
           }
          },
          "xaxis": {
           "color": "black",
           "gridcolor": "#ccc",
           "gridwidth": 1,
           "linewidth": 1,
           "mirror": true,
           "showgrid": false,
           "showline": true,
           "ticklen": 5,
           "ticks": "outside",
           "ticksuffix": " ",
           "visible": true,
           "zeroline": false,
           "zerolinecolor": "#ccc",
           "zerolinewidth": 1
          },
          "yaxis": {
           "color": "black",
           "gridcolor": "#ccc",
           "gridwidth": 1,
           "linewidth": 1,
           "mirror": true,
           "showgrid": false,
           "showline": true,
           "ticklen": 5,
           "ticks": "outside",
           "ticksuffix": " ",
           "visible": true,
           "zeroline": false,
           "zerolinecolor": "#ccc",
           "zerolinewidth": 1
          }
         }
        },
        "xaxis": {
         "constrain": "domain",
         "range": [
          -0.5,
          14.5
         ],
         "scaleanchor": "y",
         "scaleratio": 1
        },
        "yaxis": {
         "constrain": "domain",
         "range": [
          4.5,
          -0.5
         ]
        }
       }
      }
     },
     "metadata": {},
     "output_type": "display_data"
    }
   ],
   "source": [
    "plot.update_inputs(crange=None, cmid=None)"
   ]
  },
  {
   "cell_type": "markdown",
   "metadata": {},
   "source": [
    "## Show values as text\n",
    "\n",
    "Colors are nice to give you a quick impression of the relative magnitude of the matrix elements. However, you might want to know the exact value. Although `plotly` shows them when you pass the mouse over the matrix elements, sometimes it might be more convenient to directly display them on top.\n",
    "\n",
    "To do this, you need to pass a formatting string to the `text` input. For example, to show two decimals:"
   ]
  },
  {
   "cell_type": "code",
   "execution_count": 8,
   "metadata": {
    "execution": {
     "iopub.execute_input": "2025-08-14T08:48:48.958800Z",
     "iopub.status.busy": "2025-08-14T08:48:48.958607Z",
     "iopub.status.idle": "2025-08-14T08:48:49.041742Z",
     "shell.execute_reply": "2025-08-14T08:48:49.041262Z"
    }
   },
   "outputs": [
    {
     "name": "stderr",
     "output_type": "stream",
     "text": [
      "INFO\tTask(Task-2) nodify.node.139719887494400:node.py:get()- No need to evaluate\n"
     ]
    },
    {
     "name": "stderr",
     "output_type": "stream",
     "text": [
      "INFO\tTask(Task-2) nodify.node.139719887489120:node.py:get()- No need to evaluate\n"
     ]
    },
    {
     "name": "stderr",
     "output_type": "stream",
     "text": [
      "INFO\tTask(Task-2) nodify.node.139719887488064:node.py:get()- No need to evaluate\n"
     ]
    },
    {
     "name": "stderr",
     "output_type": "stream",
     "text": [
      "INFO\tTask(Task-2) nodify.node.139719887489552:node.py:get()- No need to evaluate\n"
     ]
    },
    {
     "name": "stderr",
     "output_type": "stream",
     "text": [
      "INFO\tTask(Task-2) nodify.node.139719887489504:node.py:get()- No need to evaluate\n"
     ]
    },
    {
     "name": "stderr",
     "output_type": "stream",
     "text": [
      "INFO\tTask(Task-2) nodify.node.139719887496176:node.py:get()- No need to evaluate\n"
     ]
    },
    {
     "name": "stderr",
     "output_type": "stream",
     "text": [
      "INFO\tTask(Task-2) nodify.node.139719887491328:node.py:get()- No need to evaluate\n"
     ]
    },
    {
     "name": "stderr",
     "output_type": "stream",
     "text": [
      "INFO\tTask(Task-2) nodify.node.139719887491712:node.py:get()- No need to evaluate\n"
     ]
    },
    {
     "name": "stderr",
     "output_type": "stream",
     "text": [
      "INFO\tTask(Task-2) nodify.node.139719887489120:node.py:get()- No need to evaluate\n"
     ]
    },
    {
     "name": "stderr",
     "output_type": "stream",
     "text": [
      "INFO\tTask(Task-2) nodify.node.139719887492096:node.py:get()- No need to evaluate\n"
     ]
    },
    {
     "name": "stderr",
     "output_type": "stream",
     "text": [
      "INFO\tTask(Task-2) nodify.node.139719887491712:node.py:get()- No need to evaluate\n"
     ]
    },
    {
     "name": "stderr",
     "output_type": "stream",
     "text": [
      "INFO\tTask(Task-2) nodify.node.139719887497472:node.py:get()- No need to evaluate\n"
     ]
    },
    {
     "name": "stderr",
     "output_type": "stream",
     "text": [
      "INFO\tTask(Task-2) nodify.node.139719887490944:node.py:get()- No need to evaluate\n"
     ]
    },
    {
     "name": "stderr",
     "output_type": "stream",
     "text": [
      "INFO\tTask(Task-2) nodify.node.139719887492480:node.py:get()- Evaluated because inputs changed.\n"
     ]
    },
    {
     "name": "stderr",
     "output_type": "stream",
     "text": [
      "INFO\tTask(Task-2) nodify.node.139719887492864:node.py:get()- No need to evaluate\n"
     ]
    },
    {
     "name": "stderr",
     "output_type": "stream",
     "text": [
      "INFO\tTask(Task-2) nodify.node.139719887497376:node.py:get()- Evaluated because inputs changed.\n"
     ]
    },
    {
     "name": "stderr",
     "output_type": "stream",
     "text": [
      "INFO\tTask(Task-2) nodify.node.139719887489120:node.py:get()- No need to evaluate\n"
     ]
    },
    {
     "name": "stderr",
     "output_type": "stream",
     "text": [
      "INFO\tTask(Task-2) nodify.node.139719887488064:node.py:get()- No need to evaluate\n"
     ]
    },
    {
     "name": "stderr",
     "output_type": "stream",
     "text": [
      "INFO\tTask(Task-2) nodify.node.139719887489552:node.py:get()- No need to evaluate\n"
     ]
    },
    {
     "name": "stderr",
     "output_type": "stream",
     "text": [
      "INFO\tTask(Task-2) nodify.node.139719887489504:node.py:get()- No need to evaluate\n"
     ]
    },
    {
     "name": "stderr",
     "output_type": "stream",
     "text": [
      "INFO\tTask(Task-2) nodify.node.139719887496176:node.py:get()- No need to evaluate\n"
     ]
    },
    {
     "name": "stderr",
     "output_type": "stream",
     "text": [
      "INFO\tTask(Task-2) nodify.node.139719887494016:node.py:get()- No need to evaluate\n"
     ]
    },
    {
     "name": "stderr",
     "output_type": "stream",
     "text": [
      "INFO\tTask(Task-2) nodify.node.139719887498144:node.py:get()- No need to evaluate\n"
     ]
    },
    {
     "name": "stderr",
     "output_type": "stream",
     "text": [
      "INFO\tTask(Task-2) nodify.node.139719887497520:node.py:get()- No need to evaluate\n"
     ]
    },
    {
     "name": "stderr",
     "output_type": "stream",
     "text": [
      "INFO\tTask(Task-2) nodify.node.139719887489168:node.py:get()- No need to evaluate\n"
     ]
    },
    {
     "name": "stderr",
     "output_type": "stream",
     "text": [
      "INFO\tTask(Task-2) nodify.node.139719887489120:node.py:get()- No need to evaluate\n"
     ]
    },
    {
     "name": "stderr",
     "output_type": "stream",
     "text": [
      "INFO\tTask(Task-2) nodify.node.139719887489744:node.py:get()- No need to evaluate\n"
     ]
    },
    {
     "name": "stderr",
     "output_type": "stream",
     "text": [
      "INFO\tTask(Task-2) nodify.node.139719887495696:node.py:get()- No need to evaluate\n"
     ]
    },
    {
     "name": "stderr",
     "output_type": "stream",
     "text": [
      "INFO\tTask(Task-2) nodify.node.139719887489120:node.py:get()- No need to evaluate\n"
     ]
    },
    {
     "name": "stderr",
     "output_type": "stream",
     "text": [
      "INFO\tTask(Task-2) nodify.node.139719887496272:node.py:get()- No need to evaluate\n"
     ]
    },
    {
     "name": "stderr",
     "output_type": "stream",
     "text": [
      "INFO\tTask(Task-2) nodify.node.139719887498192:node.py:get()- No need to evaluate\n"
     ]
    },
    {
     "name": "stderr",
     "output_type": "stream",
     "text": [
      "INFO\tTask(Task-2) nodify.node.139719887490128:node.py:get()- No need to evaluate\n"
     ]
    },
    {
     "name": "stderr",
     "output_type": "stream",
     "text": [
      "INFO\tTask(Task-2) nodify.node.139719887489120:node.py:get()- No need to evaluate\n"
     ]
    },
    {
     "name": "stderr",
     "output_type": "stream",
     "text": [
      "INFO\tTask(Task-2) nodify.node.139719887489744:node.py:get()- No need to evaluate\n"
     ]
    },
    {
     "name": "stderr",
     "output_type": "stream",
     "text": [
      "INFO\tTask(Task-2) nodify.node.139719887495696:node.py:get()- No need to evaluate\n"
     ]
    },
    {
     "name": "stderr",
     "output_type": "stream",
     "text": [
      "INFO\tTask(Task-2) nodify.node.139719887489120:node.py:get()- No need to evaluate\n"
     ]
    },
    {
     "name": "stderr",
     "output_type": "stream",
     "text": [
      "INFO\tTask(Task-2) nodify.node.139719887496272:node.py:get()- No need to evaluate\n"
     ]
    },
    {
     "name": "stderr",
     "output_type": "stream",
     "text": [
      "INFO\tTask(Task-2) nodify.node.139719887498864:node.py:get()- No need to evaluate\n"
     ]
    },
    {
     "name": "stderr",
     "output_type": "stream",
     "text": [
      "INFO\tTask(Task-2) nodify.node.139719887490512:node.py:get()- No need to evaluate\n"
     ]
    },
    {
     "name": "stderr",
     "output_type": "stream",
     "text": [
      "INFO\tTask(Task-2) nodify.node.139719887489120:node.py:get()- No need to evaluate\n"
     ]
    },
    {
     "name": "stderr",
     "output_type": "stream",
     "text": [
      "INFO\tTask(Task-2) nodify.node.139719887489744:node.py:get()- No need to evaluate\n"
     ]
    },
    {
     "name": "stderr",
     "output_type": "stream",
     "text": [
      "INFO\tTask(Task-2) nodify.node.139719887495696:node.py:get()- No need to evaluate\n"
     ]
    },
    {
     "name": "stderr",
     "output_type": "stream",
     "text": [
      "INFO\tTask(Task-2) nodify.node.139719887489120:node.py:get()- No need to evaluate\n"
     ]
    },
    {
     "name": "stderr",
     "output_type": "stream",
     "text": [
      "INFO\tTask(Task-2) nodify.node.139719887496272:node.py:get()- No need to evaluate\n"
     ]
    },
    {
     "name": "stderr",
     "output_type": "stream",
     "text": [
      "INFO\tTask(Task-2) nodify.node.139719887499200:node.py:get()- No need to evaluate\n"
     ]
    },
    {
     "name": "stderr",
     "output_type": "stream",
     "text": [
      "INFO\tTask(Task-2) nodify.node.139719887489120:node.py:get()- No need to evaluate\n"
     ]
    },
    {
     "name": "stderr",
     "output_type": "stream",
     "text": [
      "INFO\tTask(Task-2) nodify.node.139719887488064:node.py:get()- No need to evaluate\n"
     ]
    },
    {
     "name": "stderr",
     "output_type": "stream",
     "text": [
      "INFO\tTask(Task-2) nodify.node.139719887489552:node.py:get()- No need to evaluate\n"
     ]
    },
    {
     "name": "stderr",
     "output_type": "stream",
     "text": [
      "INFO\tTask(Task-2) nodify.node.139719887489504:node.py:get()- No need to evaluate\n"
     ]
    },
    {
     "name": "stderr",
     "output_type": "stream",
     "text": [
      "INFO\tTask(Task-2) nodify.node.139719887496176:node.py:get()- No need to evaluate\n"
     ]
    },
    {
     "name": "stderr",
     "output_type": "stream",
     "text": [
      "INFO\tTask(Task-2) nodify.node.139719887489120:node.py:get()- No need to evaluate\n"
     ]
    },
    {
     "name": "stderr",
     "output_type": "stream",
     "text": [
      "INFO\tTask(Task-2) nodify.node.139719887489744:node.py:get()- No need to evaluate\n"
     ]
    },
    {
     "name": "stderr",
     "output_type": "stream",
     "text": [
      "INFO\tTask(Task-2) nodify.node.139719887495696:node.py:get()- No need to evaluate\n"
     ]
    },
    {
     "name": "stderr",
     "output_type": "stream",
     "text": [
      "INFO\tTask(Task-2) nodify.node.139719887489120:node.py:get()- No need to evaluate\n"
     ]
    },
    {
     "name": "stderr",
     "output_type": "stream",
     "text": [
      "INFO\tTask(Task-2) nodify.node.139719887496272:node.py:get()- No need to evaluate\n"
     ]
    },
    {
     "name": "stderr",
     "output_type": "stream",
     "text": [
      "INFO\tTask(Task-2) nodify.node.139719887493632:node.py:get()- No need to evaluate\n"
     ]
    },
    {
     "name": "stderr",
     "output_type": "stream",
     "text": [
      "INFO\tTask(Task-2) nodify.node.139719887493248:node.py:get()- No need to evaluate\n"
     ]
    },
    {
     "name": "stderr",
     "output_type": "stream",
     "text": [
      "INFO\tTask(Task-2) nodify.node.139719887495984:node.py:get()- No need to evaluate\n"
     ]
    },
    {
     "name": "stderr",
     "output_type": "stream",
     "text": [
      "INFO\tTask(Task-2) nodify.node.139719887496416:node.py:get()- Evaluated because inputs changed.\n"
     ]
    },
    {
     "name": "stderr",
     "output_type": "stream",
     "text": [
      "INFO\tTask(Task-2) nodify.node.139719887499680:node.py:get()- Evaluated because inputs changed.\n"
     ]
    },
    {
     "name": "stderr",
     "output_type": "stream",
     "text": [
      "INFO\tTask(Task-2) nodify.node.139719887500160:node.py:get()- Evaluated because inputs changed.\n"
     ]
    },
    {
     "data": {
      "application/vnd.plotly.v1+json": {
       "config": {
        "plotlyServerURL": "https://plot.ly"
       },
       "data": [
        {
         "coloraxis": "coloraxis",
         "meta": {},
         "opacity": 1,
         "texttemplate": "%{z:.2f}",
         "type": "heatmap",
         "z": {
          "bdata": "Avu7mQ5T77+Il6ltAra0v6Rvh+pFl+i/ICFqDy/0lT8gU05A3ibWvwAAAAAAAPh/AAAAAAAA+H8AAAAAAAD4fwAAAAAAAPh/Lm+rIj31kD8AAAAAAAD4fwAAAAAAAPh/AAAAAAAA+H8AAAAAAAD4fwAAAAAAAPh/iJepbQK2tL9YbZVl3AvNPwNX0+u4XeM/vHBtbIR6yL9apZkXjlvovwAAAAAAAPh/AAAAAAAA+H8AAAAAAAD4fwAAAAAAAPh/ANBjXxMRnb8AAAAAAAD4fwAAAAAAAPh/AAAAAAAA+H8AAAAAAAD4fwAAAAAAAPh/pG+H6kWX6L8DV9PruF3jP4LHzQCDsO6/rEhCIALF1L8IrEZ53jS3vwAAAAAAAPh/AAAAAAAA+H8AAAAAAAD4fwAAAAAAAPh/q3hpZP5YoD8AAAAAAAD4fwAAAAAAAPh/AAAAAAAA+H8AAAAAAAD4fwAAAAAAAPh/ICFqDy/0lT+8cG1shHrIv6xIQiACxdS/ZGxmyqzS1T+ALeMXET69PwAAAAAAAPh/AAAAAAAA+H8AAAAAAAD4fwAAAAAAAPh/VWav5R6nwT8AAAAAAAD4fwAAAAAAAPh/AAAAAAAA+H8AAAAAAAD4fwAAAAAAAPh/IFNOQN4m1r9apZkXjlvovwisRnneNLe/gC3jFxE+vT+IG2VUNzbGvwAAAAAAAPh/AAAAAAAA+H8AAAAAAAD4fwAAAAAAAPh/AAAAAAAA+H8ub6siPfWQPwDQY18TEZ2/q3hpZP5YoD9VZq/lHqfBPwAAAAAAAPh/",
          "dtype": "f8",
          "shape": "5, 15"
         },
         "zsmooth": false
        }
       ],
       "layout": {
        "coloraxis": {
         "cmid": 0,
         "colorscale": [
          [
           0.0,
           "rgb(0, 147, 146)"
          ],
          [
           0.16666666666666666,
           "rgb(57, 177, 133)"
          ],
          [
           0.3333333333333333,
           "rgb(156, 203, 134)"
          ],
          [
           0.5,
           "rgb(233, 226, 156)"
          ],
          [
           0.6666666666666666,
           "rgb(238, 180, 121)"
          ],
          [
           0.8333333333333334,
           "rgb(232, 132, 113)"
          ],
          [
           1.0,
           "rgb(207, 89, 126)"
          ]
         ],
         "showscale": true
        },
        "scene": {
         "aspectmode": "data",
         "xaxis": {
          "range": [
           -0.5,
           14.5
          ]
         },
         "yaxis": {
          "range": [
           4.5,
           -0.5
          ]
         }
        },
        "template": {
         "layout": {
          "hovermode": "closest",
          "paper_bgcolor": "white",
          "plot_bgcolor": "white",
          "scene": {
           "xaxis": {
            "color": "black",
            "gridcolor": "#ccc",
            "gridwidth": 1,
            "linewidth": 1,
            "mirror": true,
            "showgrid": false,
            "showline": true,
            "ticklen": 5,
            "ticks": "outside",
            "ticksuffix": " ",
            "visible": true,
            "zeroline": false,
            "zerolinecolor": "#ccc",
            "zerolinewidth": 1
           },
           "yaxis": {
            "color": "black",
            "gridcolor": "#ccc",
            "gridwidth": 1,
            "linewidth": 1,
            "mirror": true,
            "showgrid": false,
            "showline": true,
            "ticklen": 5,
            "ticks": "outside",
            "ticksuffix": " ",
            "visible": true,
            "zeroline": false,
            "zerolinecolor": "#ccc",
            "zerolinewidth": 1
           },
           "zaxis": {
            "color": "black",
            "gridcolor": "#ccc",
            "gridwidth": 1,
            "linewidth": 1,
            "mirror": true,
            "showgrid": false,
            "showline": true,
            "ticklen": 5,
            "ticks": "outside",
            "ticksuffix": " ",
            "visible": true,
            "zeroline": false,
            "zerolinecolor": "#ccc",
            "zerolinewidth": 1
           }
          },
          "xaxis": {
           "color": "black",
           "gridcolor": "#ccc",
           "gridwidth": 1,
           "linewidth": 1,
           "mirror": true,
           "showgrid": false,
           "showline": true,
           "ticklen": 5,
           "ticks": "outside",
           "ticksuffix": " ",
           "visible": true,
           "zeroline": false,
           "zerolinecolor": "#ccc",
           "zerolinewidth": 1
          },
          "yaxis": {
           "color": "black",
           "gridcolor": "#ccc",
           "gridwidth": 1,
           "linewidth": 1,
           "mirror": true,
           "showgrid": false,
           "showline": true,
           "ticklen": 5,
           "ticks": "outside",
           "ticksuffix": " ",
           "visible": true,
           "zeroline": false,
           "zerolinecolor": "#ccc",
           "zerolinewidth": 1
          }
         }
        },
        "xaxis": {
         "constrain": "domain",
         "range": [
          -0.5,
          14.5
         ],
         "scaleanchor": "y",
         "scaleratio": 1
        },
        "yaxis": {
         "constrain": "domain",
         "range": [
          4.5,
          -0.5
         ]
        }
       }
      }
     },
     "metadata": {},
     "output_type": "display_data"
    }
   ],
   "source": [
    "plot.update_inputs(text=\".2f\")"
   ]
  },
  {
   "cell_type": "markdown",
   "metadata": {},
   "source": [
    "You can tweak the style of text with the `textfont` input, which is a dictionary with three (optional) keys:\n",
    "\n",
    "- `color`: Text color.\n",
    "- `family`: Font family for the text. Note that different backends might support different fonts.\n",
    "- `size`: The size of the font.\n",
    "\n",
    "The default value will be used for any key that you don't include in the dictionary."
   ]
  },
  {
   "cell_type": "code",
   "execution_count": 9,
   "metadata": {
    "execution": {
     "iopub.execute_input": "2025-08-14T08:48:49.043504Z",
     "iopub.status.busy": "2025-08-14T08:48:49.043321Z",
     "iopub.status.idle": "2025-08-14T08:48:49.128524Z",
     "shell.execute_reply": "2025-08-14T08:48:49.128024Z"
    }
   },
   "outputs": [
    {
     "name": "stderr",
     "output_type": "stream",
     "text": [
      "INFO\tTask(Task-2) nodify.node.139719887494400:node.py:get()- No need to evaluate\n"
     ]
    },
    {
     "name": "stderr",
     "output_type": "stream",
     "text": [
      "INFO\tTask(Task-2) nodify.node.139719887489120:node.py:get()- No need to evaluate\n"
     ]
    },
    {
     "name": "stderr",
     "output_type": "stream",
     "text": [
      "INFO\tTask(Task-2) nodify.node.139719887488064:node.py:get()- No need to evaluate\n"
     ]
    },
    {
     "name": "stderr",
     "output_type": "stream",
     "text": [
      "INFO\tTask(Task-2) nodify.node.139719887489552:node.py:get()- No need to evaluate\n"
     ]
    },
    {
     "name": "stderr",
     "output_type": "stream",
     "text": [
      "INFO\tTask(Task-2) nodify.node.139719887489504:node.py:get()- No need to evaluate\n"
     ]
    },
    {
     "name": "stderr",
     "output_type": "stream",
     "text": [
      "INFO\tTask(Task-2) nodify.node.139719887496176:node.py:get()- No need to evaluate\n"
     ]
    },
    {
     "name": "stderr",
     "output_type": "stream",
     "text": [
      "INFO\tTask(Task-2) nodify.node.139719887491328:node.py:get()- No need to evaluate\n"
     ]
    },
    {
     "name": "stderr",
     "output_type": "stream",
     "text": [
      "INFO\tTask(Task-2) nodify.node.139719887491712:node.py:get()- No need to evaluate\n"
     ]
    },
    {
     "name": "stderr",
     "output_type": "stream",
     "text": [
      "INFO\tTask(Task-2) nodify.node.139719887489120:node.py:get()- No need to evaluate\n"
     ]
    },
    {
     "name": "stderr",
     "output_type": "stream",
     "text": [
      "INFO\tTask(Task-2) nodify.node.139719887492096:node.py:get()- No need to evaluate\n"
     ]
    },
    {
     "name": "stderr",
     "output_type": "stream",
     "text": [
      "INFO\tTask(Task-2) nodify.node.139719887491712:node.py:get()- No need to evaluate\n"
     ]
    },
    {
     "name": "stderr",
     "output_type": "stream",
     "text": [
      "INFO\tTask(Task-2) nodify.node.139719887497472:node.py:get()- No need to evaluate\n"
     ]
    },
    {
     "name": "stderr",
     "output_type": "stream",
     "text": [
      "INFO\tTask(Task-2) nodify.node.139719887490944:node.py:get()- No need to evaluate\n"
     ]
    },
    {
     "name": "stderr",
     "output_type": "stream",
     "text": [
      "INFO\tTask(Task-2) nodify.node.139719887492480:node.py:get()- No need to evaluate\n"
     ]
    },
    {
     "name": "stderr",
     "output_type": "stream",
     "text": [
      "INFO\tTask(Task-2) nodify.node.139719887492864:node.py:get()- Evaluated because inputs changed.\n"
     ]
    },
    {
     "name": "stderr",
     "output_type": "stream",
     "text": [
      "INFO\tTask(Task-2) nodify.node.139719887497376:node.py:get()- Evaluated because inputs changed.\n"
     ]
    },
    {
     "name": "stderr",
     "output_type": "stream",
     "text": [
      "INFO\tTask(Task-2) nodify.node.139719887489120:node.py:get()- No need to evaluate\n"
     ]
    },
    {
     "name": "stderr",
     "output_type": "stream",
     "text": [
      "INFO\tTask(Task-2) nodify.node.139719887488064:node.py:get()- No need to evaluate\n"
     ]
    },
    {
     "name": "stderr",
     "output_type": "stream",
     "text": [
      "INFO\tTask(Task-2) nodify.node.139719887489552:node.py:get()- No need to evaluate\n"
     ]
    },
    {
     "name": "stderr",
     "output_type": "stream",
     "text": [
      "INFO\tTask(Task-2) nodify.node.139719887489504:node.py:get()- No need to evaluate\n"
     ]
    },
    {
     "name": "stderr",
     "output_type": "stream",
     "text": [
      "INFO\tTask(Task-2) nodify.node.139719887496176:node.py:get()- No need to evaluate\n"
     ]
    },
    {
     "name": "stderr",
     "output_type": "stream",
     "text": [
      "INFO\tTask(Task-2) nodify.node.139719887494016:node.py:get()- No need to evaluate\n"
     ]
    },
    {
     "name": "stderr",
     "output_type": "stream",
     "text": [
      "INFO\tTask(Task-2) nodify.node.139719887498144:node.py:get()- No need to evaluate\n"
     ]
    },
    {
     "name": "stderr",
     "output_type": "stream",
     "text": [
      "INFO\tTask(Task-2) nodify.node.139719887497520:node.py:get()- No need to evaluate\n"
     ]
    },
    {
     "name": "stderr",
     "output_type": "stream",
     "text": [
      "INFO\tTask(Task-2) nodify.node.139719887489168:node.py:get()- No need to evaluate\n"
     ]
    },
    {
     "name": "stderr",
     "output_type": "stream",
     "text": [
      "INFO\tTask(Task-2) nodify.node.139719887489120:node.py:get()- No need to evaluate\n"
     ]
    },
    {
     "name": "stderr",
     "output_type": "stream",
     "text": [
      "INFO\tTask(Task-2) nodify.node.139719887489744:node.py:get()- No need to evaluate\n"
     ]
    },
    {
     "name": "stderr",
     "output_type": "stream",
     "text": [
      "INFO\tTask(Task-2) nodify.node.139719887495696:node.py:get()- No need to evaluate\n"
     ]
    },
    {
     "name": "stderr",
     "output_type": "stream",
     "text": [
      "INFO\tTask(Task-2) nodify.node.139719887489120:node.py:get()- No need to evaluate\n"
     ]
    },
    {
     "name": "stderr",
     "output_type": "stream",
     "text": [
      "INFO\tTask(Task-2) nodify.node.139719887496272:node.py:get()- No need to evaluate\n"
     ]
    },
    {
     "name": "stderr",
     "output_type": "stream",
     "text": [
      "INFO\tTask(Task-2) nodify.node.139719887498192:node.py:get()- No need to evaluate\n"
     ]
    },
    {
     "name": "stderr",
     "output_type": "stream",
     "text": [
      "INFO\tTask(Task-2) nodify.node.139719887490128:node.py:get()- No need to evaluate\n"
     ]
    },
    {
     "name": "stderr",
     "output_type": "stream",
     "text": [
      "INFO\tTask(Task-2) nodify.node.139719887489120:node.py:get()- No need to evaluate\n"
     ]
    },
    {
     "name": "stderr",
     "output_type": "stream",
     "text": [
      "INFO\tTask(Task-2) nodify.node.139719887489744:node.py:get()- No need to evaluate\n"
     ]
    },
    {
     "name": "stderr",
     "output_type": "stream",
     "text": [
      "INFO\tTask(Task-2) nodify.node.139719887495696:node.py:get()- No need to evaluate\n"
     ]
    },
    {
     "name": "stderr",
     "output_type": "stream",
     "text": [
      "INFO\tTask(Task-2) nodify.node.139719887489120:node.py:get()- No need to evaluate\n"
     ]
    },
    {
     "name": "stderr",
     "output_type": "stream",
     "text": [
      "INFO\tTask(Task-2) nodify.node.139719887496272:node.py:get()- No need to evaluate\n"
     ]
    },
    {
     "name": "stderr",
     "output_type": "stream",
     "text": [
      "INFO\tTask(Task-2) nodify.node.139719887498864:node.py:get()- No need to evaluate\n"
     ]
    },
    {
     "name": "stderr",
     "output_type": "stream",
     "text": [
      "INFO\tTask(Task-2) nodify.node.139719887490512:node.py:get()- No need to evaluate\n"
     ]
    },
    {
     "name": "stderr",
     "output_type": "stream",
     "text": [
      "INFO\tTask(Task-2) nodify.node.139719887489120:node.py:get()- No need to evaluate\n"
     ]
    },
    {
     "name": "stderr",
     "output_type": "stream",
     "text": [
      "INFO\tTask(Task-2) nodify.node.139719887489744:node.py:get()- No need to evaluate\n"
     ]
    },
    {
     "name": "stderr",
     "output_type": "stream",
     "text": [
      "INFO\tTask(Task-2) nodify.node.139719887495696:node.py:get()- No need to evaluate\n"
     ]
    },
    {
     "name": "stderr",
     "output_type": "stream",
     "text": [
      "INFO\tTask(Task-2) nodify.node.139719887489120:node.py:get()- No need to evaluate\n"
     ]
    },
    {
     "name": "stderr",
     "output_type": "stream",
     "text": [
      "INFO\tTask(Task-2) nodify.node.139719887496272:node.py:get()- No need to evaluate\n"
     ]
    },
    {
     "name": "stderr",
     "output_type": "stream",
     "text": [
      "INFO\tTask(Task-2) nodify.node.139719887499200:node.py:get()- No need to evaluate\n"
     ]
    },
    {
     "name": "stderr",
     "output_type": "stream",
     "text": [
      "INFO\tTask(Task-2) nodify.node.139719887489120:node.py:get()- No need to evaluate\n"
     ]
    },
    {
     "name": "stderr",
     "output_type": "stream",
     "text": [
      "INFO\tTask(Task-2) nodify.node.139719887488064:node.py:get()- No need to evaluate\n"
     ]
    },
    {
     "name": "stderr",
     "output_type": "stream",
     "text": [
      "INFO\tTask(Task-2) nodify.node.139719887489552:node.py:get()- No need to evaluate\n"
     ]
    },
    {
     "name": "stderr",
     "output_type": "stream",
     "text": [
      "INFO\tTask(Task-2) nodify.node.139719887489504:node.py:get()- No need to evaluate\n"
     ]
    },
    {
     "name": "stderr",
     "output_type": "stream",
     "text": [
      "INFO\tTask(Task-2) nodify.node.139719887496176:node.py:get()- No need to evaluate\n"
     ]
    },
    {
     "name": "stderr",
     "output_type": "stream",
     "text": [
      "INFO\tTask(Task-2) nodify.node.139719887489120:node.py:get()- No need to evaluate\n"
     ]
    },
    {
     "name": "stderr",
     "output_type": "stream",
     "text": [
      "INFO\tTask(Task-2) nodify.node.139719887489744:node.py:get()- No need to evaluate\n"
     ]
    },
    {
     "name": "stderr",
     "output_type": "stream",
     "text": [
      "INFO\tTask(Task-2) nodify.node.139719887495696:node.py:get()- No need to evaluate\n"
     ]
    },
    {
     "name": "stderr",
     "output_type": "stream",
     "text": [
      "INFO\tTask(Task-2) nodify.node.139719887489120:node.py:get()- No need to evaluate\n"
     ]
    },
    {
     "name": "stderr",
     "output_type": "stream",
     "text": [
      "INFO\tTask(Task-2) nodify.node.139719887496272:node.py:get()- No need to evaluate\n"
     ]
    },
    {
     "name": "stderr",
     "output_type": "stream",
     "text": [
      "INFO\tTask(Task-2) nodify.node.139719887493632:node.py:get()- No need to evaluate\n"
     ]
    },
    {
     "name": "stderr",
     "output_type": "stream",
     "text": [
      "INFO\tTask(Task-2) nodify.node.139719887493248:node.py:get()- No need to evaluate\n"
     ]
    },
    {
     "name": "stderr",
     "output_type": "stream",
     "text": [
      "INFO\tTask(Task-2) nodify.node.139719887495984:node.py:get()- No need to evaluate\n"
     ]
    },
    {
     "name": "stderr",
     "output_type": "stream",
     "text": [
      "INFO\tTask(Task-2) nodify.node.139719887496416:node.py:get()- Evaluated because inputs changed.\n"
     ]
    },
    {
     "name": "stderr",
     "output_type": "stream",
     "text": [
      "INFO\tTask(Task-2) nodify.node.139719887499680:node.py:get()- Evaluated because inputs changed.\n"
     ]
    },
    {
     "name": "stderr",
     "output_type": "stream",
     "text": [
      "INFO\tTask(Task-2) nodify.node.139719887500160:node.py:get()- Evaluated because inputs changed.\n"
     ]
    },
    {
     "data": {
      "application/vnd.plotly.v1+json": {
       "config": {
        "plotlyServerURL": "https://plot.ly"
       },
       "data": [
        {
         "coloraxis": "coloraxis",
         "meta": {},
         "opacity": 1,
         "text": [
          [
           "-0.98",
           "-0.08",
           "-0.77",
           "0.02",
           "-0.35",
           "",
           "",
           "",
           "",
           "0.02",
           "",
           "",
           "",
           "",
           ""
          ],
          [
           "-0.08",
           "0.23",
           "0.61",
           "-0.19",
           "-0.76",
           "",
           "",
           "",
           "",
           "-0.03",
           "",
           "",
           "",
           "",
           ""
          ],
          [
           "-0.77",
           "0.61",
           "-0.96",
           "-0.32",
           "-0.09",
           "",
           "",
           "",
           "",
           "0.03",
           "",
           "",
           "",
           "",
           ""
          ],
          [
           "0.02",
           "-0.19",
           "-0.32",
           "0.34",
           "0.11",
           "",
           "",
           "",
           "",
           "0.14",
           "",
           "",
           "",
           "",
           ""
          ],
          [
           "-0.35",
           "-0.76",
           "-0.09",
           "0.11",
           "-0.17",
           "",
           "",
           "",
           "",
           "",
           "0.02",
           "-0.03",
           "0.03",
           "0.14",
           ""
          ]
         ],
         "textfont": {
          "color": "blue",
          "family": "times",
          "size": 15
         },
         "texttemplate": "%{text}",
         "type": "heatmap",
         "z": {
          "bdata": "Avu7mQ5T77+Il6ltAra0v6Rvh+pFl+i/ICFqDy/0lT8gU05A3ibWvwAAAAAAAPh/AAAAAAAA+H8AAAAAAAD4fwAAAAAAAPh/Lm+rIj31kD8AAAAAAAD4fwAAAAAAAPh/AAAAAAAA+H8AAAAAAAD4fwAAAAAAAPh/iJepbQK2tL9YbZVl3AvNPwNX0+u4XeM/vHBtbIR6yL9apZkXjlvovwAAAAAAAPh/AAAAAAAA+H8AAAAAAAD4fwAAAAAAAPh/ANBjXxMRnb8AAAAAAAD4fwAAAAAAAPh/AAAAAAAA+H8AAAAAAAD4fwAAAAAAAPh/pG+H6kWX6L8DV9PruF3jP4LHzQCDsO6/rEhCIALF1L8IrEZ53jS3vwAAAAAAAPh/AAAAAAAA+H8AAAAAAAD4fwAAAAAAAPh/q3hpZP5YoD8AAAAAAAD4fwAAAAAAAPh/AAAAAAAA+H8AAAAAAAD4fwAAAAAAAPh/ICFqDy/0lT+8cG1shHrIv6xIQiACxdS/ZGxmyqzS1T+ALeMXET69PwAAAAAAAPh/AAAAAAAA+H8AAAAAAAD4fwAAAAAAAPh/VWav5R6nwT8AAAAAAAD4fwAAAAAAAPh/AAAAAAAA+H8AAAAAAAD4fwAAAAAAAPh/IFNOQN4m1r9apZkXjlvovwisRnneNLe/gC3jFxE+vT+IG2VUNzbGvwAAAAAAAPh/AAAAAAAA+H8AAAAAAAD4fwAAAAAAAPh/AAAAAAAA+H8ub6siPfWQPwDQY18TEZ2/q3hpZP5YoD9VZq/lHqfBPwAAAAAAAPh/",
          "dtype": "f8",
          "shape": "5, 15"
         },
         "zsmooth": false
        }
       ],
       "layout": {
        "coloraxis": {
         "cmid": 0,
         "colorscale": [
          [
           0.0,
           "rgb(0, 147, 146)"
          ],
          [
           0.16666666666666666,
           "rgb(57, 177, 133)"
          ],
          [
           0.3333333333333333,
           "rgb(156, 203, 134)"
          ],
          [
           0.5,
           "rgb(233, 226, 156)"
          ],
          [
           0.6666666666666666,
           "rgb(238, 180, 121)"
          ],
          [
           0.8333333333333334,
           "rgb(232, 132, 113)"
          ],
          [
           1.0,
           "rgb(207, 89, 126)"
          ]
         ],
         "showscale": true
        },
        "scene": {
         "aspectmode": "data",
         "xaxis": {
          "range": [
           -0.5,
           14.5
          ]
         },
         "yaxis": {
          "range": [
           4.5,
           -0.5
          ]
         }
        },
        "template": {
         "layout": {
          "hovermode": "closest",
          "paper_bgcolor": "white",
          "plot_bgcolor": "white",
          "scene": {
           "xaxis": {
            "color": "black",
            "gridcolor": "#ccc",
            "gridwidth": 1,
            "linewidth": 1,
            "mirror": true,
            "showgrid": false,
            "showline": true,
            "ticklen": 5,
            "ticks": "outside",
            "ticksuffix": " ",
            "visible": true,
            "zeroline": false,
            "zerolinecolor": "#ccc",
            "zerolinewidth": 1
           },
           "yaxis": {
            "color": "black",
            "gridcolor": "#ccc",
            "gridwidth": 1,
            "linewidth": 1,
            "mirror": true,
            "showgrid": false,
            "showline": true,
            "ticklen": 5,
            "ticks": "outside",
            "ticksuffix": " ",
            "visible": true,
            "zeroline": false,
            "zerolinecolor": "#ccc",
            "zerolinewidth": 1
           },
           "zaxis": {
            "color": "black",
            "gridcolor": "#ccc",
            "gridwidth": 1,
            "linewidth": 1,
            "mirror": true,
            "showgrid": false,
            "showline": true,
            "ticklen": 5,
            "ticks": "outside",
            "ticksuffix": " ",
            "visible": true,
            "zeroline": false,
            "zerolinecolor": "#ccc",
            "zerolinewidth": 1
           }
          },
          "xaxis": {
           "color": "black",
           "gridcolor": "#ccc",
           "gridwidth": 1,
           "linewidth": 1,
           "mirror": true,
           "showgrid": false,
           "showline": true,
           "ticklen": 5,
           "ticks": "outside",
           "ticksuffix": " ",
           "visible": true,
           "zeroline": false,
           "zerolinecolor": "#ccc",
           "zerolinewidth": 1
          },
          "yaxis": {
           "color": "black",
           "gridcolor": "#ccc",
           "gridwidth": 1,
           "linewidth": 1,
           "mirror": true,
           "showgrid": false,
           "showline": true,
           "ticklen": 5,
           "ticks": "outside",
           "ticksuffix": " ",
           "visible": true,
           "zeroline": false,
           "zerolinecolor": "#ccc",
           "zerolinewidth": 1
          }
         }
        },
        "xaxis": {
         "constrain": "domain",
         "range": [
          -0.5,
          14.5
         ],
         "scaleanchor": "y",
         "scaleratio": 1
        },
        "yaxis": {
         "constrain": "domain",
         "range": [
          4.5,
          -0.5
         ]
        }
       }
      }
     },
     "metadata": {},
     "output_type": "display_data"
    }
   ],
   "source": [
    "plot.update_inputs(textfont={\"color\": \"blue\", \"family\": \"times\", \"size\": 15})"
   ]
  },
  {
   "cell_type": "markdown",
   "metadata": {},
   "source": [
    "If you want the text to go away, set the `text` input to `None`:"
   ]
  },
  {
   "cell_type": "code",
   "execution_count": 10,
   "metadata": {
    "execution": {
     "iopub.execute_input": "2025-08-14T08:48:49.130290Z",
     "iopub.status.busy": "2025-08-14T08:48:49.130078Z",
     "iopub.status.idle": "2025-08-14T08:48:49.214957Z",
     "shell.execute_reply": "2025-08-14T08:48:49.214437Z"
    }
   },
   "outputs": [
    {
     "name": "stderr",
     "output_type": "stream",
     "text": [
      "INFO\tTask(Task-2) nodify.node.139719887494400:node.py:get()- No need to evaluate\n"
     ]
    },
    {
     "name": "stderr",
     "output_type": "stream",
     "text": [
      "INFO\tTask(Task-2) nodify.node.139719887489120:node.py:get()- No need to evaluate\n"
     ]
    },
    {
     "name": "stderr",
     "output_type": "stream",
     "text": [
      "INFO\tTask(Task-2) nodify.node.139719887488064:node.py:get()- No need to evaluate\n"
     ]
    },
    {
     "name": "stderr",
     "output_type": "stream",
     "text": [
      "INFO\tTask(Task-2) nodify.node.139719887489552:node.py:get()- No need to evaluate\n"
     ]
    },
    {
     "name": "stderr",
     "output_type": "stream",
     "text": [
      "INFO\tTask(Task-2) nodify.node.139719887489504:node.py:get()- No need to evaluate\n"
     ]
    },
    {
     "name": "stderr",
     "output_type": "stream",
     "text": [
      "INFO\tTask(Task-2) nodify.node.139719887496176:node.py:get()- No need to evaluate\n"
     ]
    },
    {
     "name": "stderr",
     "output_type": "stream",
     "text": [
      "INFO\tTask(Task-2) nodify.node.139719887491328:node.py:get()- No need to evaluate\n"
     ]
    },
    {
     "name": "stderr",
     "output_type": "stream",
     "text": [
      "INFO\tTask(Task-2) nodify.node.139719887491712:node.py:get()- No need to evaluate\n"
     ]
    },
    {
     "name": "stderr",
     "output_type": "stream",
     "text": [
      "INFO\tTask(Task-2) nodify.node.139719887489120:node.py:get()- No need to evaluate\n"
     ]
    },
    {
     "name": "stderr",
     "output_type": "stream",
     "text": [
      "INFO\tTask(Task-2) nodify.node.139719887492096:node.py:get()- No need to evaluate\n"
     ]
    },
    {
     "name": "stderr",
     "output_type": "stream",
     "text": [
      "INFO\tTask(Task-2) nodify.node.139719887491712:node.py:get()- No need to evaluate\n"
     ]
    },
    {
     "name": "stderr",
     "output_type": "stream",
     "text": [
      "INFO\tTask(Task-2) nodify.node.139719887497472:node.py:get()- No need to evaluate\n"
     ]
    },
    {
     "name": "stderr",
     "output_type": "stream",
     "text": [
      "INFO\tTask(Task-2) nodify.node.139719887490944:node.py:get()- No need to evaluate\n"
     ]
    },
    {
     "name": "stderr",
     "output_type": "stream",
     "text": [
      "INFO\tTask(Task-2) nodify.node.139719887492480:node.py:get()- Evaluated because inputs changed.\n"
     ]
    },
    {
     "name": "stderr",
     "output_type": "stream",
     "text": [
      "INFO\tTask(Task-2) nodify.node.139719887492864:node.py:get()- No need to evaluate\n"
     ]
    },
    {
     "name": "stderr",
     "output_type": "stream",
     "text": [
      "INFO\tTask(Task-2) nodify.node.139719887497376:node.py:get()- Evaluated because inputs changed.\n"
     ]
    },
    {
     "name": "stderr",
     "output_type": "stream",
     "text": [
      "INFO\tTask(Task-2) nodify.node.139719887489120:node.py:get()- No need to evaluate\n"
     ]
    },
    {
     "name": "stderr",
     "output_type": "stream",
     "text": [
      "INFO\tTask(Task-2) nodify.node.139719887488064:node.py:get()- No need to evaluate\n"
     ]
    },
    {
     "name": "stderr",
     "output_type": "stream",
     "text": [
      "INFO\tTask(Task-2) nodify.node.139719887489552:node.py:get()- No need to evaluate\n"
     ]
    },
    {
     "name": "stderr",
     "output_type": "stream",
     "text": [
      "INFO\tTask(Task-2) nodify.node.139719887489504:node.py:get()- No need to evaluate\n"
     ]
    },
    {
     "name": "stderr",
     "output_type": "stream",
     "text": [
      "INFO\tTask(Task-2) nodify.node.139719887496176:node.py:get()- No need to evaluate\n"
     ]
    },
    {
     "name": "stderr",
     "output_type": "stream",
     "text": [
      "INFO\tTask(Task-2) nodify.node.139719887494016:node.py:get()- No need to evaluate\n"
     ]
    },
    {
     "name": "stderr",
     "output_type": "stream",
     "text": [
      "INFO\tTask(Task-2) nodify.node.139719887498144:node.py:get()- No need to evaluate\n"
     ]
    },
    {
     "name": "stderr",
     "output_type": "stream",
     "text": [
      "INFO\tTask(Task-2) nodify.node.139719887497520:node.py:get()- No need to evaluate\n"
     ]
    },
    {
     "name": "stderr",
     "output_type": "stream",
     "text": [
      "INFO\tTask(Task-2) nodify.node.139719887489168:node.py:get()- No need to evaluate\n"
     ]
    },
    {
     "name": "stderr",
     "output_type": "stream",
     "text": [
      "INFO\tTask(Task-2) nodify.node.139719887489120:node.py:get()- No need to evaluate\n"
     ]
    },
    {
     "name": "stderr",
     "output_type": "stream",
     "text": [
      "INFO\tTask(Task-2) nodify.node.139719887489744:node.py:get()- No need to evaluate\n"
     ]
    },
    {
     "name": "stderr",
     "output_type": "stream",
     "text": [
      "INFO\tTask(Task-2) nodify.node.139719887495696:node.py:get()- No need to evaluate\n"
     ]
    },
    {
     "name": "stderr",
     "output_type": "stream",
     "text": [
      "INFO\tTask(Task-2) nodify.node.139719887489120:node.py:get()- No need to evaluate\n"
     ]
    },
    {
     "name": "stderr",
     "output_type": "stream",
     "text": [
      "INFO\tTask(Task-2) nodify.node.139719887496272:node.py:get()- No need to evaluate\n"
     ]
    },
    {
     "name": "stderr",
     "output_type": "stream",
     "text": [
      "INFO\tTask(Task-2) nodify.node.139719887498192:node.py:get()- No need to evaluate\n"
     ]
    },
    {
     "name": "stderr",
     "output_type": "stream",
     "text": [
      "INFO\tTask(Task-2) nodify.node.139719887490128:node.py:get()- No need to evaluate\n"
     ]
    },
    {
     "name": "stderr",
     "output_type": "stream",
     "text": [
      "INFO\tTask(Task-2) nodify.node.139719887489120:node.py:get()- No need to evaluate\n"
     ]
    },
    {
     "name": "stderr",
     "output_type": "stream",
     "text": [
      "INFO\tTask(Task-2) nodify.node.139719887489744:node.py:get()- No need to evaluate\n"
     ]
    },
    {
     "name": "stderr",
     "output_type": "stream",
     "text": [
      "INFO\tTask(Task-2) nodify.node.139719887495696:node.py:get()- No need to evaluate\n"
     ]
    },
    {
     "name": "stderr",
     "output_type": "stream",
     "text": [
      "INFO\tTask(Task-2) nodify.node.139719887489120:node.py:get()- No need to evaluate\n"
     ]
    },
    {
     "name": "stderr",
     "output_type": "stream",
     "text": [
      "INFO\tTask(Task-2) nodify.node.139719887496272:node.py:get()- No need to evaluate\n"
     ]
    },
    {
     "name": "stderr",
     "output_type": "stream",
     "text": [
      "INFO\tTask(Task-2) nodify.node.139719887498864:node.py:get()- No need to evaluate\n"
     ]
    },
    {
     "name": "stderr",
     "output_type": "stream",
     "text": [
      "INFO\tTask(Task-2) nodify.node.139719887490512:node.py:get()- No need to evaluate\n"
     ]
    },
    {
     "name": "stderr",
     "output_type": "stream",
     "text": [
      "INFO\tTask(Task-2) nodify.node.139719887489120:node.py:get()- No need to evaluate\n"
     ]
    },
    {
     "name": "stderr",
     "output_type": "stream",
     "text": [
      "INFO\tTask(Task-2) nodify.node.139719887489744:node.py:get()- No need to evaluate\n"
     ]
    },
    {
     "name": "stderr",
     "output_type": "stream",
     "text": [
      "INFO\tTask(Task-2) nodify.node.139719887495696:node.py:get()- No need to evaluate\n"
     ]
    },
    {
     "name": "stderr",
     "output_type": "stream",
     "text": [
      "INFO\tTask(Task-2) nodify.node.139719887489120:node.py:get()- No need to evaluate\n"
     ]
    },
    {
     "name": "stderr",
     "output_type": "stream",
     "text": [
      "INFO\tTask(Task-2) nodify.node.139719887496272:node.py:get()- No need to evaluate\n"
     ]
    },
    {
     "name": "stderr",
     "output_type": "stream",
     "text": [
      "INFO\tTask(Task-2) nodify.node.139719887499200:node.py:get()- No need to evaluate\n"
     ]
    },
    {
     "name": "stderr",
     "output_type": "stream",
     "text": [
      "INFO\tTask(Task-2) nodify.node.139719887489120:node.py:get()- No need to evaluate\n"
     ]
    },
    {
     "name": "stderr",
     "output_type": "stream",
     "text": [
      "INFO\tTask(Task-2) nodify.node.139719887488064:node.py:get()- No need to evaluate\n"
     ]
    },
    {
     "name": "stderr",
     "output_type": "stream",
     "text": [
      "INFO\tTask(Task-2) nodify.node.139719887489552:node.py:get()- No need to evaluate\n"
     ]
    },
    {
     "name": "stderr",
     "output_type": "stream",
     "text": [
      "INFO\tTask(Task-2) nodify.node.139719887489504:node.py:get()- No need to evaluate\n"
     ]
    },
    {
     "name": "stderr",
     "output_type": "stream",
     "text": [
      "INFO\tTask(Task-2) nodify.node.139719887496176:node.py:get()- No need to evaluate\n"
     ]
    },
    {
     "name": "stderr",
     "output_type": "stream",
     "text": [
      "INFO\tTask(Task-2) nodify.node.139719887489120:node.py:get()- No need to evaluate\n"
     ]
    },
    {
     "name": "stderr",
     "output_type": "stream",
     "text": [
      "INFO\tTask(Task-2) nodify.node.139719887489744:node.py:get()- No need to evaluate\n"
     ]
    },
    {
     "name": "stderr",
     "output_type": "stream",
     "text": [
      "INFO\tTask(Task-2) nodify.node.139719887495696:node.py:get()- No need to evaluate\n"
     ]
    },
    {
     "name": "stderr",
     "output_type": "stream",
     "text": [
      "INFO\tTask(Task-2) nodify.node.139719887489120:node.py:get()- No need to evaluate\n"
     ]
    },
    {
     "name": "stderr",
     "output_type": "stream",
     "text": [
      "INFO\tTask(Task-2) nodify.node.139719887496272:node.py:get()- No need to evaluate\n"
     ]
    },
    {
     "name": "stderr",
     "output_type": "stream",
     "text": [
      "INFO\tTask(Task-2) nodify.node.139719887493632:node.py:get()- No need to evaluate\n"
     ]
    },
    {
     "name": "stderr",
     "output_type": "stream",
     "text": [
      "INFO\tTask(Task-2) nodify.node.139719887493248:node.py:get()- No need to evaluate\n"
     ]
    },
    {
     "name": "stderr",
     "output_type": "stream",
     "text": [
      "INFO\tTask(Task-2) nodify.node.139719887495984:node.py:get()- No need to evaluate\n"
     ]
    },
    {
     "name": "stderr",
     "output_type": "stream",
     "text": [
      "INFO\tTask(Task-2) nodify.node.139719887496416:node.py:get()- Evaluated because inputs changed.\n"
     ]
    },
    {
     "name": "stderr",
     "output_type": "stream",
     "text": [
      "INFO\tTask(Task-2) nodify.node.139719887499680:node.py:get()- Evaluated because inputs changed.\n"
     ]
    },
    {
     "name": "stderr",
     "output_type": "stream",
     "text": [
      "INFO\tTask(Task-2) nodify.node.139719887500160:node.py:get()- Evaluated because inputs changed.\n"
     ]
    },
    {
     "data": {
      "application/vnd.plotly.v1+json": {
       "config": {
        "plotlyServerURL": "https://plot.ly"
       },
       "data": [
        {
         "coloraxis": "coloraxis",
         "meta": {},
         "opacity": 1,
         "textfont": {
          "color": "blue",
          "family": "times",
          "size": 15
         },
         "type": "heatmap",
         "z": {
          "bdata": "Avu7mQ5T77+Il6ltAra0v6Rvh+pFl+i/ICFqDy/0lT8gU05A3ibWvwAAAAAAAPh/AAAAAAAA+H8AAAAAAAD4fwAAAAAAAPh/Lm+rIj31kD8AAAAAAAD4fwAAAAAAAPh/AAAAAAAA+H8AAAAAAAD4fwAAAAAAAPh/iJepbQK2tL9YbZVl3AvNPwNX0+u4XeM/vHBtbIR6yL9apZkXjlvovwAAAAAAAPh/AAAAAAAA+H8AAAAAAAD4fwAAAAAAAPh/ANBjXxMRnb8AAAAAAAD4fwAAAAAAAPh/AAAAAAAA+H8AAAAAAAD4fwAAAAAAAPh/pG+H6kWX6L8DV9PruF3jP4LHzQCDsO6/rEhCIALF1L8IrEZ53jS3vwAAAAAAAPh/AAAAAAAA+H8AAAAAAAD4fwAAAAAAAPh/q3hpZP5YoD8AAAAAAAD4fwAAAAAAAPh/AAAAAAAA+H8AAAAAAAD4fwAAAAAAAPh/ICFqDy/0lT+8cG1shHrIv6xIQiACxdS/ZGxmyqzS1T+ALeMXET69PwAAAAAAAPh/AAAAAAAA+H8AAAAAAAD4fwAAAAAAAPh/VWav5R6nwT8AAAAAAAD4fwAAAAAAAPh/AAAAAAAA+H8AAAAAAAD4fwAAAAAAAPh/IFNOQN4m1r9apZkXjlvovwisRnneNLe/gC3jFxE+vT+IG2VUNzbGvwAAAAAAAPh/AAAAAAAA+H8AAAAAAAD4fwAAAAAAAPh/AAAAAAAA+H8ub6siPfWQPwDQY18TEZ2/q3hpZP5YoD9VZq/lHqfBPwAAAAAAAPh/",
          "dtype": "f8",
          "shape": "5, 15"
         },
         "zsmooth": false
        }
       ],
       "layout": {
        "coloraxis": {
         "cmid": 0,
         "colorscale": [
          [
           0.0,
           "rgb(0, 147, 146)"
          ],
          [
           0.16666666666666666,
           "rgb(57, 177, 133)"
          ],
          [
           0.3333333333333333,
           "rgb(156, 203, 134)"
          ],
          [
           0.5,
           "rgb(233, 226, 156)"
          ],
          [
           0.6666666666666666,
           "rgb(238, 180, 121)"
          ],
          [
           0.8333333333333334,
           "rgb(232, 132, 113)"
          ],
          [
           1.0,
           "rgb(207, 89, 126)"
          ]
         ],
         "showscale": true
        },
        "scene": {
         "aspectmode": "data",
         "xaxis": {
          "range": [
           -0.5,
           14.5
          ]
         },
         "yaxis": {
          "range": [
           4.5,
           -0.5
          ]
         }
        },
        "template": {
         "layout": {
          "hovermode": "closest",
          "paper_bgcolor": "white",
          "plot_bgcolor": "white",
          "scene": {
           "xaxis": {
            "color": "black",
            "gridcolor": "#ccc",
            "gridwidth": 1,
            "linewidth": 1,
            "mirror": true,
            "showgrid": false,
            "showline": true,
            "ticklen": 5,
            "ticks": "outside",
            "ticksuffix": " ",
            "visible": true,
            "zeroline": false,
            "zerolinecolor": "#ccc",
            "zerolinewidth": 1
           },
           "yaxis": {
            "color": "black",
            "gridcolor": "#ccc",
            "gridwidth": 1,
            "linewidth": 1,
            "mirror": true,
            "showgrid": false,
            "showline": true,
            "ticklen": 5,
            "ticks": "outside",
            "ticksuffix": " ",
            "visible": true,
            "zeroline": false,
            "zerolinecolor": "#ccc",
            "zerolinewidth": 1
           },
           "zaxis": {
            "color": "black",
            "gridcolor": "#ccc",
            "gridwidth": 1,
            "linewidth": 1,
            "mirror": true,
            "showgrid": false,
            "showline": true,
            "ticklen": 5,
            "ticks": "outside",
            "ticksuffix": " ",
            "visible": true,
            "zeroline": false,
            "zerolinecolor": "#ccc",
            "zerolinewidth": 1
           }
          },
          "xaxis": {
           "color": "black",
           "gridcolor": "#ccc",
           "gridwidth": 1,
           "linewidth": 1,
           "mirror": true,
           "showgrid": false,
           "showline": true,
           "ticklen": 5,
           "ticks": "outside",
           "ticksuffix": " ",
           "visible": true,
           "zeroline": false,
           "zerolinecolor": "#ccc",
           "zerolinewidth": 1
          },
          "yaxis": {
           "color": "black",
           "gridcolor": "#ccc",
           "gridwidth": 1,
           "linewidth": 1,
           "mirror": true,
           "showgrid": false,
           "showline": true,
           "ticklen": 5,
           "ticks": "outside",
           "ticksuffix": " ",
           "visible": true,
           "zeroline": false,
           "zerolinecolor": "#ccc",
           "zerolinewidth": 1
          }
         }
        },
        "xaxis": {
         "constrain": "domain",
         "range": [
          -0.5,
          14.5
         ],
         "scaleanchor": "y",
         "scaleratio": 1
        },
        "yaxis": {
         "constrain": "domain",
         "range": [
          4.5,
          -0.5
         ]
        }
       }
      }
     },
     "metadata": {},
     "output_type": "display_data"
    }
   ],
   "source": [
    "plot.update_inputs(text=None)"
   ]
  },
  {
   "cell_type": "code",
   "execution_count": 11,
   "metadata": {
    "execution": {
     "iopub.execute_input": "2025-08-14T08:48:49.216789Z",
     "iopub.status.busy": "2025-08-14T08:48:49.216581Z",
     "iopub.status.idle": "2025-08-14T08:48:49.219866Z",
     "shell.execute_reply": "2025-08-14T08:48:49.219263Z"
    }
   },
   "outputs": [],
   "source": [
    "plot = plot.update_inputs(textfont={}, text=\".2f\")"
   ]
  },
  {
   "cell_type": "markdown",
   "metadata": {},
   "source": [
    "## Separators\n",
    "\n",
    "Sparse atomic matrices may be hard to interpret because it's hard to know by eye to which atoms/orbitals an element belongs.\n",
    "\n",
    "Separators come to the rescue by providing a guide for your eye to quickly pinpoint what each element is. There are three types of separators:\n",
    "\n",
    "- `sc_lines`: Draw lines separating the **different cells of the auxiliary supercell**.\n",
    "- `atom_lines`: Draw lines separating the blocks corresponding to **each atom-atom interaction**.\n",
    "- `orbital_lines`: Within each atom, draw lines that **isolate the interactions between two sets of orbitals**. E.g. a set of 3 `p` orbitals from one atom and an `s` orbital from another atom.\n",
    "\n",
    "They all can be activated (deactivated) by setting the corresponding input to `True` (`False`)."
   ]
  },
  {
   "cell_type": "code",
   "execution_count": 12,
   "metadata": {
    "execution": {
     "iopub.execute_input": "2025-08-14T08:48:49.221803Z",
     "iopub.status.busy": "2025-08-14T08:48:49.221621Z",
     "iopub.status.idle": "2025-08-14T08:48:49.315273Z",
     "shell.execute_reply": "2025-08-14T08:48:49.314642Z"
    }
   },
   "outputs": [
    {
     "name": "stderr",
     "output_type": "stream",
     "text": [
      "INFO\tTask(Task-2) nodify.node.139719887494400:node.py:get()- No need to evaluate\n"
     ]
    },
    {
     "name": "stderr",
     "output_type": "stream",
     "text": [
      "INFO\tTask(Task-2) nodify.node.139719887489120:node.py:get()- No need to evaluate\n"
     ]
    },
    {
     "name": "stderr",
     "output_type": "stream",
     "text": [
      "INFO\tTask(Task-2) nodify.node.139719887488064:node.py:get()- No need to evaluate\n"
     ]
    },
    {
     "name": "stderr",
     "output_type": "stream",
     "text": [
      "INFO\tTask(Task-2) nodify.node.139719887489552:node.py:get()- No need to evaluate\n"
     ]
    },
    {
     "name": "stderr",
     "output_type": "stream",
     "text": [
      "INFO\tTask(Task-2) nodify.node.139719887489504:node.py:get()- No need to evaluate\n"
     ]
    },
    {
     "name": "stderr",
     "output_type": "stream",
     "text": [
      "INFO\tTask(Task-2) nodify.node.139719887496176:node.py:get()- No need to evaluate\n"
     ]
    },
    {
     "name": "stderr",
     "output_type": "stream",
     "text": [
      "INFO\tTask(Task-2) nodify.node.139719887491328:node.py:get()- No need to evaluate\n"
     ]
    },
    {
     "name": "stderr",
     "output_type": "stream",
     "text": [
      "INFO\tTask(Task-2) nodify.node.139719887491712:node.py:get()- No need to evaluate\n"
     ]
    },
    {
     "name": "stderr",
     "output_type": "stream",
     "text": [
      "INFO\tTask(Task-2) nodify.node.139719887489120:node.py:get()- No need to evaluate\n"
     ]
    },
    {
     "name": "stderr",
     "output_type": "stream",
     "text": [
      "INFO\tTask(Task-2) nodify.node.139719887492096:node.py:get()- No need to evaluate\n"
     ]
    },
    {
     "name": "stderr",
     "output_type": "stream",
     "text": [
      "INFO\tTask(Task-2) nodify.node.139719887491712:node.py:get()- No need to evaluate\n"
     ]
    },
    {
     "name": "stderr",
     "output_type": "stream",
     "text": [
      "INFO\tTask(Task-2) nodify.node.139719887497472:node.py:get()- No need to evaluate\n"
     ]
    },
    {
     "name": "stderr",
     "output_type": "stream",
     "text": [
      "INFO\tTask(Task-2) nodify.node.139719887490944:node.py:get()- No need to evaluate\n"
     ]
    },
    {
     "name": "stderr",
     "output_type": "stream",
     "text": [
      "INFO\tTask(Task-2) nodify.node.139719887492480:node.py:get()- Evaluated because inputs changed.\n"
     ]
    },
    {
     "name": "stderr",
     "output_type": "stream",
     "text": [
      "INFO\tTask(Task-2) nodify.node.139719887492864:node.py:get()- Evaluated because inputs changed.\n"
     ]
    },
    {
     "name": "stderr",
     "output_type": "stream",
     "text": [
      "INFO\tTask(Task-2) nodify.node.139719887497376:node.py:get()- Evaluated because inputs changed.\n"
     ]
    },
    {
     "name": "stderr",
     "output_type": "stream",
     "text": [
      "INFO\tTask(Task-2) nodify.node.139719887489120:node.py:get()- No need to evaluate\n"
     ]
    },
    {
     "name": "stderr",
     "output_type": "stream",
     "text": [
      "INFO\tTask(Task-2) nodify.node.139719887488064:node.py:get()- No need to evaluate\n"
     ]
    },
    {
     "name": "stderr",
     "output_type": "stream",
     "text": [
      "INFO\tTask(Task-2) nodify.node.139719887489552:node.py:get()- No need to evaluate\n"
     ]
    },
    {
     "name": "stderr",
     "output_type": "stream",
     "text": [
      "INFO\tTask(Task-2) nodify.node.139719887489504:node.py:get()- No need to evaluate\n"
     ]
    },
    {
     "name": "stderr",
     "output_type": "stream",
     "text": [
      "INFO\tTask(Task-2) nodify.node.139719887496176:node.py:get()- No need to evaluate\n"
     ]
    },
    {
     "name": "stderr",
     "output_type": "stream",
     "text": [
      "INFO\tTask(Task-2) nodify.node.139719887494016:node.py:get()- No need to evaluate\n"
     ]
    },
    {
     "name": "stderr",
     "output_type": "stream",
     "text": [
      "INFO\tTask(Task-2) nodify.node.139719887498144:node.py:get()- No need to evaluate\n"
     ]
    },
    {
     "name": "stderr",
     "output_type": "stream",
     "text": [
      "INFO\tTask(Task-2) nodify.node.139719887497520:node.py:get()- No need to evaluate\n"
     ]
    },
    {
     "name": "stderr",
     "output_type": "stream",
     "text": [
      "INFO\tTask(Task-2) nodify.node.139719887489168:node.py:get()- Evaluated because inputs changed.\n"
     ]
    },
    {
     "name": "stderr",
     "output_type": "stream",
     "text": [
      "INFO\tTask(Task-2) nodify.node.139719887489120:node.py:get()- No need to evaluate\n"
     ]
    },
    {
     "name": "stderr",
     "output_type": "stream",
     "text": [
      "INFO\tTask(Task-2) nodify.node.139719887489744:node.py:get()- No need to evaluate\n"
     ]
    },
    {
     "name": "stderr",
     "output_type": "stream",
     "text": [
      "INFO\tTask(Task-2) nodify.node.139719887495696:node.py:get()- No need to evaluate\n"
     ]
    },
    {
     "name": "stderr",
     "output_type": "stream",
     "text": [
      "INFO\tTask(Task-2) nodify.node.139719887489120:node.py:get()- No need to evaluate\n"
     ]
    },
    {
     "name": "stderr",
     "output_type": "stream",
     "text": [
      "INFO\tTask(Task-2) nodify.node.139719887496272:node.py:get()- No need to evaluate\n"
     ]
    },
    {
     "name": "stderr",
     "output_type": "stream",
     "text": [
      "INFO\tTask(Task-2) nodify.node.139719887498192:node.py:get()- Evaluated because inputs changed.\n"
     ]
    },
    {
     "name": "stderr",
     "output_type": "stream",
     "text": [
      "INFO\tTask(Task-2) nodify.node.139719887490128:node.py:get()- Evaluated because inputs changed.\n"
     ]
    },
    {
     "name": "stderr",
     "output_type": "stream",
     "text": [
      "INFO\tTask(Task-2) nodify.node.139719887489120:node.py:get()- No need to evaluate\n"
     ]
    },
    {
     "name": "stderr",
     "output_type": "stream",
     "text": [
      "INFO\tTask(Task-2) nodify.node.139719887489744:node.py:get()- No need to evaluate\n"
     ]
    },
    {
     "name": "stderr",
     "output_type": "stream",
     "text": [
      "INFO\tTask(Task-2) nodify.node.139719887495696:node.py:get()- No need to evaluate\n"
     ]
    },
    {
     "name": "stderr",
     "output_type": "stream",
     "text": [
      "INFO\tTask(Task-2) nodify.node.139719887489120:node.py:get()- No need to evaluate\n"
     ]
    },
    {
     "name": "stderr",
     "output_type": "stream",
     "text": [
      "INFO\tTask(Task-2) nodify.node.139719887496272:node.py:get()- No need to evaluate\n"
     ]
    },
    {
     "name": "stderr",
     "output_type": "stream",
     "text": [
      "INFO\tTask(Task-2) nodify.node.139719887498864:node.py:get()- Evaluated because inputs changed.\n"
     ]
    },
    {
     "name": "stderr",
     "output_type": "stream",
     "text": [
      "INFO\tTask(Task-2) nodify.node.139719887490512:node.py:get()- Evaluated because inputs changed.\n"
     ]
    },
    {
     "name": "stderr",
     "output_type": "stream",
     "text": [
      "INFO\tTask(Task-2) nodify.node.139719887489120:node.py:get()- No need to evaluate\n"
     ]
    },
    {
     "name": "stderr",
     "output_type": "stream",
     "text": [
      "INFO\tTask(Task-2) nodify.node.139719887489744:node.py:get()- No need to evaluate\n"
     ]
    },
    {
     "name": "stderr",
     "output_type": "stream",
     "text": [
      "INFO\tTask(Task-2) nodify.node.139719887495696:node.py:get()- No need to evaluate\n"
     ]
    },
    {
     "name": "stderr",
     "output_type": "stream",
     "text": [
      "INFO\tTask(Task-2) nodify.node.139719887489120:node.py:get()- No need to evaluate\n"
     ]
    },
    {
     "name": "stderr",
     "output_type": "stream",
     "text": [
      "INFO\tTask(Task-2) nodify.node.139719887496272:node.py:get()- No need to evaluate\n"
     ]
    },
    {
     "name": "stderr",
     "output_type": "stream",
     "text": [
      "INFO\tTask(Task-2) nodify.node.139719887499200:node.py:get()- Evaluated because inputs changed.\n"
     ]
    },
    {
     "name": "stderr",
     "output_type": "stream",
     "text": [
      "INFO\tTask(Task-2) nodify.node.139719887489120:node.py:get()- No need to evaluate\n"
     ]
    },
    {
     "name": "stderr",
     "output_type": "stream",
     "text": [
      "INFO\tTask(Task-2) nodify.node.139719887488064:node.py:get()- No need to evaluate\n"
     ]
    },
    {
     "name": "stderr",
     "output_type": "stream",
     "text": [
      "INFO\tTask(Task-2) nodify.node.139719887489552:node.py:get()- No need to evaluate\n"
     ]
    },
    {
     "name": "stderr",
     "output_type": "stream",
     "text": [
      "INFO\tTask(Task-2) nodify.node.139719887489504:node.py:get()- No need to evaluate\n"
     ]
    },
    {
     "name": "stderr",
     "output_type": "stream",
     "text": [
      "INFO\tTask(Task-2) nodify.node.139719887496176:node.py:get()- No need to evaluate\n"
     ]
    },
    {
     "name": "stderr",
     "output_type": "stream",
     "text": [
      "INFO\tTask(Task-2) nodify.node.139719887489120:node.py:get()- No need to evaluate\n"
     ]
    },
    {
     "name": "stderr",
     "output_type": "stream",
     "text": [
      "INFO\tTask(Task-2) nodify.node.139719887489744:node.py:get()- No need to evaluate\n"
     ]
    },
    {
     "name": "stderr",
     "output_type": "stream",
     "text": [
      "INFO\tTask(Task-2) nodify.node.139719887495696:node.py:get()- No need to evaluate\n"
     ]
    },
    {
     "name": "stderr",
     "output_type": "stream",
     "text": [
      "INFO\tTask(Task-2) nodify.node.139719887489120:node.py:get()- No need to evaluate\n"
     ]
    },
    {
     "name": "stderr",
     "output_type": "stream",
     "text": [
      "INFO\tTask(Task-2) nodify.node.139719887496272:node.py:get()- No need to evaluate\n"
     ]
    },
    {
     "name": "stderr",
     "output_type": "stream",
     "text": [
      "INFO\tTask(Task-2) nodify.node.139719887493632:node.py:get()- No need to evaluate\n"
     ]
    },
    {
     "name": "stderr",
     "output_type": "stream",
     "text": [
      "INFO\tTask(Task-2) nodify.node.139719887493248:node.py:get()- No need to evaluate\n"
     ]
    },
    {
     "name": "stderr",
     "output_type": "stream",
     "text": [
      "INFO\tTask(Task-2) nodify.node.139719887495984:node.py:get()- No need to evaluate\n"
     ]
    },
    {
     "name": "stderr",
     "output_type": "stream",
     "text": [
      "INFO\tTask(Task-2) nodify.node.139719887496416:node.py:get()- Evaluated because inputs changed.\n"
     ]
    },
    {
     "name": "stderr",
     "output_type": "stream",
     "text": [
      "INFO\tTask(Task-2) nodify.node.139719887499680:node.py:get()- Evaluated because inputs changed.\n"
     ]
    },
    {
     "name": "stderr",
     "output_type": "stream",
     "text": [
      "INFO\tTask(Task-2) nodify.node.139719887500160:node.py:get()- Evaluated because inputs changed.\n"
     ]
    },
    {
     "data": {
      "application/vnd.plotly.v1+json": {
       "config": {
        "plotlyServerURL": "https://plot.ly"
       },
       "data": [
        {
         "coloraxis": "coloraxis",
         "meta": {},
         "opacity": 1,
         "texttemplate": "%{z:.2f}",
         "type": "heatmap",
         "z": {
          "bdata": "Avu7mQ5T77+Il6ltAra0v6Rvh+pFl+i/ICFqDy/0lT8gU05A3ibWvwAAAAAAAPh/AAAAAAAA+H8AAAAAAAD4fwAAAAAAAPh/Lm+rIj31kD8AAAAAAAD4fwAAAAAAAPh/AAAAAAAA+H8AAAAAAAD4fwAAAAAAAPh/iJepbQK2tL9YbZVl3AvNPwNX0+u4XeM/vHBtbIR6yL9apZkXjlvovwAAAAAAAPh/AAAAAAAA+H8AAAAAAAD4fwAAAAAAAPh/ANBjXxMRnb8AAAAAAAD4fwAAAAAAAPh/AAAAAAAA+H8AAAAAAAD4fwAAAAAAAPh/pG+H6kWX6L8DV9PruF3jP4LHzQCDsO6/rEhCIALF1L8IrEZ53jS3vwAAAAAAAPh/AAAAAAAA+H8AAAAAAAD4fwAAAAAAAPh/q3hpZP5YoD8AAAAAAAD4fwAAAAAAAPh/AAAAAAAA+H8AAAAAAAD4fwAAAAAAAPh/ICFqDy/0lT+8cG1shHrIv6xIQiACxdS/ZGxmyqzS1T+ALeMXET69PwAAAAAAAPh/AAAAAAAA+H8AAAAAAAD4fwAAAAAAAPh/VWav5R6nwT8AAAAAAAD4fwAAAAAAAPh/AAAAAAAA+H8AAAAAAAD4fwAAAAAAAPh/IFNOQN4m1r9apZkXjlvovwisRnneNLe/gC3jFxE+vT+IG2VUNzbGvwAAAAAAAPh/AAAAAAAA+H8AAAAAAAD4fwAAAAAAAPh/AAAAAAAA+H8ub6siPfWQPwDQY18TEZ2/q3hpZP5YoD9VZq/lHqfBPwAAAAAAAPh/",
          "dtype": "f8",
          "shape": "5, 15"
         },
         "zsmooth": false
        },
        {
         "line": {
          "color": "black",
          "dash": "dot"
         },
         "meta": {},
         "mode": "lines",
         "name": "orbitals separators",
         "opacity": 1,
         "showlegend": false,
         "type": "scatter",
         "x": {
          "bdata": "AAAAAAAA4L8AAAAAAAASQAAAAAAAAPh/AAAAAAAA4D8AAAAAAADgPwAAAAAAAPh/",
          "dtype": "f8"
         },
         "y": {
          "bdata": "AAAAAAAA4D8AAAAAAADgPwAAAAAAAPh/AAAAAAAA4L8AAAAAAAASQAAAAAAAAPh/",
          "dtype": "f8"
         }
        },
        {
         "line": {
          "color": "orange"
         },
         "meta": {},
         "mode": "lines",
         "name": "atoms separators",
         "opacity": 1,
         "showlegend": false,
         "type": "scatter",
         "x": {
          "bdata": "AAAAAAAA4L8AAAAAAAASQAAAAAAAAPh/AAAAAAAADEAAAAAAAAAMQAAAAAAAAPh/",
          "dtype": "f8"
         },
         "y": {
          "bdata": "AAAAAAAADEAAAAAAAAAMQAAAAAAAAPh/AAAAAAAA4L8AAAAAAAASQAAAAAAAAPh/",
          "dtype": "f8"
         }
        }
       ],
       "layout": {
        "coloraxis": {
         "cmid": 0,
         "colorscale": [
          [
           0.0,
           "rgb(0, 147, 146)"
          ],
          [
           0.16666666666666666,
           "rgb(57, 177, 133)"
          ],
          [
           0.3333333333333333,
           "rgb(156, 203, 134)"
          ],
          [
           0.5,
           "rgb(233, 226, 156)"
          ],
          [
           0.6666666666666666,
           "rgb(238, 180, 121)"
          ],
          [
           0.8333333333333334,
           "rgb(232, 132, 113)"
          ],
          [
           1.0,
           "rgb(207, 89, 126)"
          ]
         ],
         "showscale": true
        },
        "scene": {
         "aspectmode": "data",
         "xaxis": {
          "range": [
           -0.5,
           14.5
          ]
         },
         "yaxis": {
          "range": [
           4.5,
           -0.5
          ]
         }
        },
        "template": {
         "layout": {
          "hovermode": "closest",
          "paper_bgcolor": "white",
          "plot_bgcolor": "white",
          "scene": {
           "xaxis": {
            "color": "black",
            "gridcolor": "#ccc",
            "gridwidth": 1,
            "linewidth": 1,
            "mirror": true,
            "showgrid": false,
            "showline": true,
            "ticklen": 5,
            "ticks": "outside",
            "ticksuffix": " ",
            "visible": true,
            "zeroline": false,
            "zerolinecolor": "#ccc",
            "zerolinewidth": 1
           },
           "yaxis": {
            "color": "black",
            "gridcolor": "#ccc",
            "gridwidth": 1,
            "linewidth": 1,
            "mirror": true,
            "showgrid": false,
            "showline": true,
            "ticklen": 5,
            "ticks": "outside",
            "ticksuffix": " ",
            "visible": true,
            "zeroline": false,
            "zerolinecolor": "#ccc",
            "zerolinewidth": 1
           },
           "zaxis": {
            "color": "black",
            "gridcolor": "#ccc",
            "gridwidth": 1,
            "linewidth": 1,
            "mirror": true,
            "showgrid": false,
            "showline": true,
            "ticklen": 5,
            "ticks": "outside",
            "ticksuffix": " ",
            "visible": true,
            "zeroline": false,
            "zerolinecolor": "#ccc",
            "zerolinewidth": 1
           }
          },
          "xaxis": {
           "color": "black",
           "gridcolor": "#ccc",
           "gridwidth": 1,
           "linewidth": 1,
           "mirror": true,
           "showgrid": false,
           "showline": true,
           "ticklen": 5,
           "ticks": "outside",
           "ticksuffix": " ",
           "visible": true,
           "zeroline": false,
           "zerolinecolor": "#ccc",
           "zerolinewidth": 1
          },
          "yaxis": {
           "color": "black",
           "gridcolor": "#ccc",
           "gridwidth": 1,
           "linewidth": 1,
           "mirror": true,
           "showgrid": false,
           "showline": true,
           "ticklen": 5,
           "ticks": "outside",
           "ticksuffix": " ",
           "visible": true,
           "zeroline": false,
           "zerolinecolor": "#ccc",
           "zerolinewidth": 1
          }
         }
        },
        "xaxis": {
         "constrain": "domain",
         "range": [
          -0.5,
          14.5
         ],
         "scaleanchor": "y",
         "scaleratio": 1
        },
        "yaxis": {
         "constrain": "domain",
         "range": [
          4.5,
          -0.5
         ]
        }
       }
      }
     },
     "metadata": {},
     "output_type": "display_data"
    }
   ],
   "source": [
    "plot.update_inputs(\n",
    "    sc_lines=True,\n",
    "    atom_lines=True,\n",
    "    orbital_lines=True,\n",
    ")"
   ]
  },
  {
   "cell_type": "markdown",
   "metadata": {},
   "source": [
    "Sometimes, the **default styles for the lines might not suit your visualization**. For example, they might not play well with your chosen colorscale. In that case, you can **pass a dictionary of line styles** to the inputs."
   ]
  },
  {
   "cell_type": "code",
   "execution_count": 13,
   "metadata": {
    "execution": {
     "iopub.execute_input": "2025-08-14T08:48:49.317353Z",
     "iopub.status.busy": "2025-08-14T08:48:49.317140Z",
     "iopub.status.idle": "2025-08-14T08:48:49.411980Z",
     "shell.execute_reply": "2025-08-14T08:48:49.411489Z"
    }
   },
   "outputs": [
    {
     "name": "stderr",
     "output_type": "stream",
     "text": [
      "INFO\tTask(Task-2) nodify.node.139719887494400:node.py:get()- No need to evaluate\n"
     ]
    },
    {
     "name": "stderr",
     "output_type": "stream",
     "text": [
      "INFO\tTask(Task-2) nodify.node.139719887489120:node.py:get()- No need to evaluate\n"
     ]
    },
    {
     "name": "stderr",
     "output_type": "stream",
     "text": [
      "INFO\tTask(Task-2) nodify.node.139719887488064:node.py:get()- No need to evaluate\n"
     ]
    },
    {
     "name": "stderr",
     "output_type": "stream",
     "text": [
      "INFO\tTask(Task-2) nodify.node.139719887489552:node.py:get()- No need to evaluate\n"
     ]
    },
    {
     "name": "stderr",
     "output_type": "stream",
     "text": [
      "INFO\tTask(Task-2) nodify.node.139719887489504:node.py:get()- No need to evaluate\n"
     ]
    },
    {
     "name": "stderr",
     "output_type": "stream",
     "text": [
      "INFO\tTask(Task-2) nodify.node.139719887496176:node.py:get()- No need to evaluate\n"
     ]
    },
    {
     "name": "stderr",
     "output_type": "stream",
     "text": [
      "INFO\tTask(Task-2) nodify.node.139719887491328:node.py:get()- No need to evaluate\n"
     ]
    },
    {
     "name": "stderr",
     "output_type": "stream",
     "text": [
      "INFO\tTask(Task-2) nodify.node.139719887491712:node.py:get()- No need to evaluate\n"
     ]
    },
    {
     "name": "stderr",
     "output_type": "stream",
     "text": [
      "INFO\tTask(Task-2) nodify.node.139719887489120:node.py:get()- No need to evaluate\n"
     ]
    },
    {
     "name": "stderr",
     "output_type": "stream",
     "text": [
      "INFO\tTask(Task-2) nodify.node.139719887492096:node.py:get()- No need to evaluate\n"
     ]
    },
    {
     "name": "stderr",
     "output_type": "stream",
     "text": [
      "INFO\tTask(Task-2) nodify.node.139719887491712:node.py:get()- No need to evaluate\n"
     ]
    },
    {
     "name": "stderr",
     "output_type": "stream",
     "text": [
      "INFO\tTask(Task-2) nodify.node.139719887497472:node.py:get()- No need to evaluate\n"
     ]
    },
    {
     "name": "stderr",
     "output_type": "stream",
     "text": [
      "INFO\tTask(Task-2) nodify.node.139719887490944:node.py:get()- No need to evaluate\n"
     ]
    },
    {
     "name": "stderr",
     "output_type": "stream",
     "text": [
      "INFO\tTask(Task-2) nodify.node.139719887492480:node.py:get()- No need to evaluate\n"
     ]
    },
    {
     "name": "stderr",
     "output_type": "stream",
     "text": [
      "INFO\tTask(Task-2) nodify.node.139719887492864:node.py:get()- No need to evaluate\n"
     ]
    },
    {
     "name": "stderr",
     "output_type": "stream",
     "text": [
      "INFO\tTask(Task-2) nodify.node.139719887497376:node.py:get()- No need to evaluate\n"
     ]
    },
    {
     "name": "stderr",
     "output_type": "stream",
     "text": [
      "INFO\tTask(Task-2) nodify.node.139719887489120:node.py:get()- No need to evaluate\n"
     ]
    },
    {
     "name": "stderr",
     "output_type": "stream",
     "text": [
      "INFO\tTask(Task-2) nodify.node.139719887488064:node.py:get()- No need to evaluate\n"
     ]
    },
    {
     "name": "stderr",
     "output_type": "stream",
     "text": [
      "INFO\tTask(Task-2) nodify.node.139719887489552:node.py:get()- No need to evaluate\n"
     ]
    },
    {
     "name": "stderr",
     "output_type": "stream",
     "text": [
      "INFO\tTask(Task-2) nodify.node.139719887489504:node.py:get()- No need to evaluate\n"
     ]
    },
    {
     "name": "stderr",
     "output_type": "stream",
     "text": [
      "INFO\tTask(Task-2) nodify.node.139719887496176:node.py:get()- No need to evaluate\n"
     ]
    },
    {
     "name": "stderr",
     "output_type": "stream",
     "text": [
      "INFO\tTask(Task-2) nodify.node.139719887494016:node.py:get()- No need to evaluate\n"
     ]
    },
    {
     "name": "stderr",
     "output_type": "stream",
     "text": [
      "INFO\tTask(Task-2) nodify.node.139719887498144:node.py:get()- No need to evaluate\n"
     ]
    },
    {
     "name": "stderr",
     "output_type": "stream",
     "text": [
      "INFO\tTask(Task-2) nodify.node.139719887497520:node.py:get()- No need to evaluate\n"
     ]
    },
    {
     "name": "stderr",
     "output_type": "stream",
     "text": [
      "INFO\tTask(Task-2) nodify.node.139719887489168:node.py:get()- Evaluated because inputs changed.\n"
     ]
    },
    {
     "name": "stderr",
     "output_type": "stream",
     "text": [
      "INFO\tTask(Task-2) nodify.node.139719887489120:node.py:get()- No need to evaluate\n"
     ]
    },
    {
     "name": "stderr",
     "output_type": "stream",
     "text": [
      "INFO\tTask(Task-2) nodify.node.139719887489744:node.py:get()- No need to evaluate\n"
     ]
    },
    {
     "name": "stderr",
     "output_type": "stream",
     "text": [
      "INFO\tTask(Task-2) nodify.node.139719887495696:node.py:get()- No need to evaluate\n"
     ]
    },
    {
     "name": "stderr",
     "output_type": "stream",
     "text": [
      "INFO\tTask(Task-2) nodify.node.139719887489120:node.py:get()- No need to evaluate\n"
     ]
    },
    {
     "name": "stderr",
     "output_type": "stream",
     "text": [
      "INFO\tTask(Task-2) nodify.node.139719887496272:node.py:get()- No need to evaluate\n"
     ]
    },
    {
     "name": "stderr",
     "output_type": "stream",
     "text": [
      "INFO\tTask(Task-2) nodify.node.139719887498192:node.py:get()- Evaluated because inputs changed.\n"
     ]
    },
    {
     "name": "stderr",
     "output_type": "stream",
     "text": [
      "INFO\tTask(Task-2) nodify.node.139719887490128:node.py:get()- Evaluated because inputs changed.\n"
     ]
    },
    {
     "name": "stderr",
     "output_type": "stream",
     "text": [
      "INFO\tTask(Task-2) nodify.node.139719887489120:node.py:get()- No need to evaluate\n"
     ]
    },
    {
     "name": "stderr",
     "output_type": "stream",
     "text": [
      "INFO\tTask(Task-2) nodify.node.139719887489744:node.py:get()- No need to evaluate\n"
     ]
    },
    {
     "name": "stderr",
     "output_type": "stream",
     "text": [
      "INFO\tTask(Task-2) nodify.node.139719887495696:node.py:get()- No need to evaluate\n"
     ]
    },
    {
     "name": "stderr",
     "output_type": "stream",
     "text": [
      "INFO\tTask(Task-2) nodify.node.139719887489120:node.py:get()- No need to evaluate\n"
     ]
    },
    {
     "name": "stderr",
     "output_type": "stream",
     "text": [
      "INFO\tTask(Task-2) nodify.node.139719887496272:node.py:get()- No need to evaluate\n"
     ]
    },
    {
     "name": "stderr",
     "output_type": "stream",
     "text": [
      "INFO\tTask(Task-2) nodify.node.139719887498864:node.py:get()- Evaluated because inputs changed.\n"
     ]
    },
    {
     "name": "stderr",
     "output_type": "stream",
     "text": [
      "INFO\tTask(Task-2) nodify.node.139719887490512:node.py:get()- Evaluated because inputs changed.\n"
     ]
    },
    {
     "name": "stderr",
     "output_type": "stream",
     "text": [
      "INFO\tTask(Task-2) nodify.node.139719887489120:node.py:get()- No need to evaluate\n"
     ]
    },
    {
     "name": "stderr",
     "output_type": "stream",
     "text": [
      "INFO\tTask(Task-2) nodify.node.139719887489744:node.py:get()- No need to evaluate\n"
     ]
    },
    {
     "name": "stderr",
     "output_type": "stream",
     "text": [
      "INFO\tTask(Task-2) nodify.node.139719887495696:node.py:get()- No need to evaluate\n"
     ]
    },
    {
     "name": "stderr",
     "output_type": "stream",
     "text": [
      "INFO\tTask(Task-2) nodify.node.139719887489120:node.py:get()- No need to evaluate\n"
     ]
    },
    {
     "name": "stderr",
     "output_type": "stream",
     "text": [
      "INFO\tTask(Task-2) nodify.node.139719887496272:node.py:get()- No need to evaluate\n"
     ]
    },
    {
     "name": "stderr",
     "output_type": "stream",
     "text": [
      "INFO\tTask(Task-2) nodify.node.139719887499200:node.py:get()- Evaluated because inputs changed.\n"
     ]
    },
    {
     "name": "stderr",
     "output_type": "stream",
     "text": [
      "INFO\tTask(Task-2) nodify.node.139719887489120:node.py:get()- No need to evaluate\n"
     ]
    },
    {
     "name": "stderr",
     "output_type": "stream",
     "text": [
      "INFO\tTask(Task-2) nodify.node.139719887488064:node.py:get()- No need to evaluate\n"
     ]
    },
    {
     "name": "stderr",
     "output_type": "stream",
     "text": [
      "INFO\tTask(Task-2) nodify.node.139719887489552:node.py:get()- No need to evaluate\n"
     ]
    },
    {
     "name": "stderr",
     "output_type": "stream",
     "text": [
      "INFO\tTask(Task-2) nodify.node.139719887489504:node.py:get()- No need to evaluate\n"
     ]
    },
    {
     "name": "stderr",
     "output_type": "stream",
     "text": [
      "INFO\tTask(Task-2) nodify.node.139719887496176:node.py:get()- No need to evaluate\n"
     ]
    },
    {
     "name": "stderr",
     "output_type": "stream",
     "text": [
      "INFO\tTask(Task-2) nodify.node.139719887489120:node.py:get()- No need to evaluate\n"
     ]
    },
    {
     "name": "stderr",
     "output_type": "stream",
     "text": [
      "INFO\tTask(Task-2) nodify.node.139719887489744:node.py:get()- No need to evaluate\n"
     ]
    },
    {
     "name": "stderr",
     "output_type": "stream",
     "text": [
      "INFO\tTask(Task-2) nodify.node.139719887495696:node.py:get()- No need to evaluate\n"
     ]
    },
    {
     "name": "stderr",
     "output_type": "stream",
     "text": [
      "INFO\tTask(Task-2) nodify.node.139719887489120:node.py:get()- No need to evaluate\n"
     ]
    },
    {
     "name": "stderr",
     "output_type": "stream",
     "text": [
      "INFO\tTask(Task-2) nodify.node.139719887496272:node.py:get()- No need to evaluate\n"
     ]
    },
    {
     "name": "stderr",
     "output_type": "stream",
     "text": [
      "INFO\tTask(Task-2) nodify.node.139719887493632:node.py:get()- No need to evaluate\n"
     ]
    },
    {
     "name": "stderr",
     "output_type": "stream",
     "text": [
      "INFO\tTask(Task-2) nodify.node.139719887493248:node.py:get()- No need to evaluate\n"
     ]
    },
    {
     "name": "stderr",
     "output_type": "stream",
     "text": [
      "INFO\tTask(Task-2) nodify.node.139719887495984:node.py:get()- No need to evaluate\n"
     ]
    },
    {
     "name": "stderr",
     "output_type": "stream",
     "text": [
      "INFO\tTask(Task-2) nodify.node.139719887496416:node.py:get()- Evaluated because inputs changed.\n"
     ]
    },
    {
     "name": "stderr",
     "output_type": "stream",
     "text": [
      "INFO\tTask(Task-2) nodify.node.139719887499680:node.py:get()- Evaluated because inputs changed.\n"
     ]
    },
    {
     "name": "stderr",
     "output_type": "stream",
     "text": [
      "INFO\tTask(Task-2) nodify.node.139719887500160:node.py:get()- Evaluated because inputs changed.\n"
     ]
    },
    {
     "data": {
      "application/vnd.plotly.v1+json": {
       "config": {
        "plotlyServerURL": "https://plot.ly"
       },
       "data": [
        {
         "coloraxis": "coloraxis",
         "meta": {},
         "opacity": 1,
         "texttemplate": "%{z:.2f}",
         "type": "heatmap",
         "z": {
          "bdata": "Avu7mQ5T77+Il6ltAra0v6Rvh+pFl+i/ICFqDy/0lT8gU05A3ibWvwAAAAAAAPh/AAAAAAAA+H8AAAAAAAD4fwAAAAAAAPh/Lm+rIj31kD8AAAAAAAD4fwAAAAAAAPh/AAAAAAAA+H8AAAAAAAD4fwAAAAAAAPh/iJepbQK2tL9YbZVl3AvNPwNX0+u4XeM/vHBtbIR6yL9apZkXjlvovwAAAAAAAPh/AAAAAAAA+H8AAAAAAAD4fwAAAAAAAPh/ANBjXxMRnb8AAAAAAAD4fwAAAAAAAPh/AAAAAAAA+H8AAAAAAAD4fwAAAAAAAPh/pG+H6kWX6L8DV9PruF3jP4LHzQCDsO6/rEhCIALF1L8IrEZ53jS3vwAAAAAAAPh/AAAAAAAA+H8AAAAAAAD4fwAAAAAAAPh/q3hpZP5YoD8AAAAAAAD4fwAAAAAAAPh/AAAAAAAA+H8AAAAAAAD4fwAAAAAAAPh/ICFqDy/0lT+8cG1shHrIv6xIQiACxdS/ZGxmyqzS1T+ALeMXET69PwAAAAAAAPh/AAAAAAAA+H8AAAAAAAD4fwAAAAAAAPh/VWav5R6nwT8AAAAAAAD4fwAAAAAAAPh/AAAAAAAA+H8AAAAAAAD4fwAAAAAAAPh/IFNOQN4m1r9apZkXjlvovwisRnneNLe/gC3jFxE+vT+IG2VUNzbGvwAAAAAAAPh/AAAAAAAA+H8AAAAAAAD4fwAAAAAAAPh/AAAAAAAA+H8ub6siPfWQPwDQY18TEZ2/q3hpZP5YoD9VZq/lHqfBPwAAAAAAAPh/",
          "dtype": "f8",
          "shape": "5, 15"
         },
         "zsmooth": false
        },
        {
         "line": {
          "color": "pink",
          "dash": "dash",
          "width": 5
         },
         "meta": {},
         "mode": "lines",
         "name": "orbitals separators",
         "opacity": 0.8,
         "showlegend": false,
         "type": "scatter",
         "x": {
          "bdata": "AAAAAAAA4L8AAAAAAAASQAAAAAAAAPh/AAAAAAAA4D8AAAAAAADgPwAAAAAAAPh/",
          "dtype": "f8"
         },
         "y": {
          "bdata": "AAAAAAAA4D8AAAAAAADgPwAAAAAAAPh/AAAAAAAA4L8AAAAAAAASQAAAAAAAAPh/",
          "dtype": "f8"
         }
        },
        {
         "line": {
          "color": "gray"
         },
         "meta": {},
         "mode": "lines",
         "name": "atoms separators",
         "opacity": 1,
         "showlegend": false,
         "type": "scatter",
         "x": {
          "bdata": "AAAAAAAA4L8AAAAAAAASQAAAAAAAAPh/AAAAAAAADEAAAAAAAAAMQAAAAAAAAPh/",
          "dtype": "f8"
         },
         "y": {
          "bdata": "AAAAAAAADEAAAAAAAAAMQAAAAAAAAPh/AAAAAAAA4L8AAAAAAAASQAAAAAAAAPh/",
          "dtype": "f8"
         }
        }
       ],
       "layout": {
        "coloraxis": {
         "cmid": 0,
         "colorscale": [
          [
           0.0,
           "rgb(0, 147, 146)"
          ],
          [
           0.16666666666666666,
           "rgb(57, 177, 133)"
          ],
          [
           0.3333333333333333,
           "rgb(156, 203, 134)"
          ],
          [
           0.5,
           "rgb(233, 226, 156)"
          ],
          [
           0.6666666666666666,
           "rgb(238, 180, 121)"
          ],
          [
           0.8333333333333334,
           "rgb(232, 132, 113)"
          ],
          [
           1.0,
           "rgb(207, 89, 126)"
          ]
         ],
         "showscale": true
        },
        "scene": {
         "aspectmode": "data",
         "xaxis": {
          "range": [
           -0.5,
           14.5
          ]
         },
         "yaxis": {
          "range": [
           4.5,
           -0.5
          ]
         }
        },
        "template": {
         "layout": {
          "hovermode": "closest",
          "paper_bgcolor": "white",
          "plot_bgcolor": "white",
          "scene": {
           "xaxis": {
            "color": "black",
            "gridcolor": "#ccc",
            "gridwidth": 1,
            "linewidth": 1,
            "mirror": true,
            "showgrid": false,
            "showline": true,
            "ticklen": 5,
            "ticks": "outside",
            "ticksuffix": " ",
            "visible": true,
            "zeroline": false,
            "zerolinecolor": "#ccc",
            "zerolinewidth": 1
           },
           "yaxis": {
            "color": "black",
            "gridcolor": "#ccc",
            "gridwidth": 1,
            "linewidth": 1,
            "mirror": true,
            "showgrid": false,
            "showline": true,
            "ticklen": 5,
            "ticks": "outside",
            "ticksuffix": " ",
            "visible": true,
            "zeroline": false,
            "zerolinecolor": "#ccc",
            "zerolinewidth": 1
           },
           "zaxis": {
            "color": "black",
            "gridcolor": "#ccc",
            "gridwidth": 1,
            "linewidth": 1,
            "mirror": true,
            "showgrid": false,
            "showline": true,
            "ticklen": 5,
            "ticks": "outside",
            "ticksuffix": " ",
            "visible": true,
            "zeroline": false,
            "zerolinecolor": "#ccc",
            "zerolinewidth": 1
           }
          },
          "xaxis": {
           "color": "black",
           "gridcolor": "#ccc",
           "gridwidth": 1,
           "linewidth": 1,
           "mirror": true,
           "showgrid": false,
           "showline": true,
           "ticklen": 5,
           "ticks": "outside",
           "ticksuffix": " ",
           "visible": true,
           "zeroline": false,
           "zerolinecolor": "#ccc",
           "zerolinewidth": 1
          },
          "yaxis": {
           "color": "black",
           "gridcolor": "#ccc",
           "gridwidth": 1,
           "linewidth": 1,
           "mirror": true,
           "showgrid": false,
           "showline": true,
           "ticklen": 5,
           "ticks": "outside",
           "ticksuffix": " ",
           "visible": true,
           "zeroline": false,
           "zerolinecolor": "#ccc",
           "zerolinewidth": 1
          }
         }
        },
        "xaxis": {
         "constrain": "domain",
         "range": [
          -0.5,
          14.5
         ],
         "scaleanchor": "y",
         "scaleratio": 1
        },
        "yaxis": {
         "constrain": "domain",
         "range": [
          4.5,
          -0.5
         ]
        }
       }
      }
     },
     "metadata": {},
     "output_type": "display_data"
    }
   ],
   "source": [
    "plot.update_inputs(\n",
    "    orbital_lines={\"color\": \"pink\", \"width\": 5, \"dash\": \"dash\", \"opacity\": 0.8},\n",
    "    sc_lines={\"width\": 4},\n",
    "    atom_lines={\"color\": \"gray\"},\n",
    ")"
   ]
  },
  {
   "cell_type": "markdown",
   "metadata": {},
   "source": [
    "## Labels\n",
    "\n",
    "You might want to have a clearer idea of the orbitals that correspond to a given matrix element. You can turn on labels with `set_labels`:"
   ]
  },
  {
   "cell_type": "code",
   "execution_count": 14,
   "metadata": {
    "execution": {
     "iopub.execute_input": "2025-08-14T08:48:49.413839Z",
     "iopub.status.busy": "2025-08-14T08:48:49.413642Z",
     "iopub.status.idle": "2025-08-14T08:48:49.514049Z",
     "shell.execute_reply": "2025-08-14T08:48:49.513532Z"
    }
   },
   "outputs": [
    {
     "name": "stderr",
     "output_type": "stream",
     "text": [
      "INFO\tTask(Task-2) nodify.node.139719887494400:node.py:get()- No need to evaluate\n"
     ]
    },
    {
     "name": "stderr",
     "output_type": "stream",
     "text": [
      "INFO\tTask(Task-2) nodify.node.139719887489120:node.py:get()- No need to evaluate\n"
     ]
    },
    {
     "name": "stderr",
     "output_type": "stream",
     "text": [
      "INFO\tTask(Task-2) nodify.node.139719887488064:node.py:get()- No need to evaluate\n"
     ]
    },
    {
     "name": "stderr",
     "output_type": "stream",
     "text": [
      "INFO\tTask(Task-2) nodify.node.139719887489552:node.py:get()- No need to evaluate\n"
     ]
    },
    {
     "name": "stderr",
     "output_type": "stream",
     "text": [
      "INFO\tTask(Task-2) nodify.node.139719887489504:node.py:get()- No need to evaluate\n"
     ]
    },
    {
     "name": "stderr",
     "output_type": "stream",
     "text": [
      "INFO\tTask(Task-2) nodify.node.139719887496176:node.py:get()- No need to evaluate\n"
     ]
    },
    {
     "name": "stderr",
     "output_type": "stream",
     "text": [
      "INFO\tTask(Task-2) nodify.node.139719887491328:node.py:get()- No need to evaluate\n"
     ]
    },
    {
     "name": "stderr",
     "output_type": "stream",
     "text": [
      "INFO\tTask(Task-2) nodify.node.139719887491712:node.py:get()- No need to evaluate\n"
     ]
    },
    {
     "name": "stderr",
     "output_type": "stream",
     "text": [
      "INFO\tTask(Task-2) nodify.node.139719887489120:node.py:get()- No need to evaluate\n"
     ]
    },
    {
     "name": "stderr",
     "output_type": "stream",
     "text": [
      "INFO\tTask(Task-2) nodify.node.139719887492096:node.py:get()- No need to evaluate\n"
     ]
    },
    {
     "name": "stderr",
     "output_type": "stream",
     "text": [
      "INFO\tTask(Task-2) nodify.node.139719887491712:node.py:get()- No need to evaluate\n"
     ]
    },
    {
     "name": "stderr",
     "output_type": "stream",
     "text": [
      "INFO\tTask(Task-2) nodify.node.139719887497472:node.py:get()- No need to evaluate\n"
     ]
    },
    {
     "name": "stderr",
     "output_type": "stream",
     "text": [
      "INFO\tTask(Task-2) nodify.node.139719887490944:node.py:get()- No need to evaluate\n"
     ]
    },
    {
     "name": "stderr",
     "output_type": "stream",
     "text": [
      "INFO\tTask(Task-2) nodify.node.139719887492480:node.py:get()- No need to evaluate\n"
     ]
    },
    {
     "name": "stderr",
     "output_type": "stream",
     "text": [
      "INFO\tTask(Task-2) nodify.node.139719887492864:node.py:get()- No need to evaluate\n"
     ]
    },
    {
     "name": "stderr",
     "output_type": "stream",
     "text": [
      "INFO\tTask(Task-2) nodify.node.139719887497376:node.py:get()- No need to evaluate\n"
     ]
    },
    {
     "name": "stderr",
     "output_type": "stream",
     "text": [
      "INFO\tTask(Task-2) nodify.node.139719887489120:node.py:get()- No need to evaluate\n"
     ]
    },
    {
     "name": "stderr",
     "output_type": "stream",
     "text": [
      "INFO\tTask(Task-2) nodify.node.139719887488064:node.py:get()- No need to evaluate\n"
     ]
    },
    {
     "name": "stderr",
     "output_type": "stream",
     "text": [
      "INFO\tTask(Task-2) nodify.node.139719887489552:node.py:get()- No need to evaluate\n"
     ]
    },
    {
     "name": "stderr",
     "output_type": "stream",
     "text": [
      "INFO\tTask(Task-2) nodify.node.139719887489504:node.py:get()- No need to evaluate\n"
     ]
    },
    {
     "name": "stderr",
     "output_type": "stream",
     "text": [
      "INFO\tTask(Task-2) nodify.node.139719887496176:node.py:get()- No need to evaluate\n"
     ]
    },
    {
     "name": "stderr",
     "output_type": "stream",
     "text": [
      "INFO\tTask(Task-2) nodify.node.139719887494016:node.py:get()- No need to evaluate\n"
     ]
    },
    {
     "name": "stderr",
     "output_type": "stream",
     "text": [
      "INFO\tTask(Task-2) nodify.node.139719887498144:node.py:get()- No need to evaluate\n"
     ]
    },
    {
     "name": "stderr",
     "output_type": "stream",
     "text": [
      "INFO\tTask(Task-2) nodify.node.139719887497520:node.py:get()- No need to evaluate\n"
     ]
    },
    {
     "name": "stderr",
     "output_type": "stream",
     "text": [
      "INFO\tTask(Task-2) nodify.node.139719887489168:node.py:get()- No need to evaluate\n"
     ]
    },
    {
     "name": "stderr",
     "output_type": "stream",
     "text": [
      "INFO\tTask(Task-2) nodify.node.139719887489120:node.py:get()- No need to evaluate\n"
     ]
    },
    {
     "name": "stderr",
     "output_type": "stream",
     "text": [
      "INFO\tTask(Task-2) nodify.node.139719887489744:node.py:get()- No need to evaluate\n"
     ]
    },
    {
     "name": "stderr",
     "output_type": "stream",
     "text": [
      "INFO\tTask(Task-2) nodify.node.139719887495696:node.py:get()- No need to evaluate\n"
     ]
    },
    {
     "name": "stderr",
     "output_type": "stream",
     "text": [
      "INFO\tTask(Task-2) nodify.node.139719887489120:node.py:get()- No need to evaluate\n"
     ]
    },
    {
     "name": "stderr",
     "output_type": "stream",
     "text": [
      "INFO\tTask(Task-2) nodify.node.139719887496272:node.py:get()- No need to evaluate\n"
     ]
    },
    {
     "name": "stderr",
     "output_type": "stream",
     "text": [
      "INFO\tTask(Task-2) nodify.node.139719887498192:node.py:get()- No need to evaluate\n"
     ]
    },
    {
     "name": "stderr",
     "output_type": "stream",
     "text": [
      "INFO\tTask(Task-2) nodify.node.139719887490128:node.py:get()- No need to evaluate\n"
     ]
    },
    {
     "name": "stderr",
     "output_type": "stream",
     "text": [
      "INFO\tTask(Task-2) nodify.node.139719887489120:node.py:get()- No need to evaluate\n"
     ]
    },
    {
     "name": "stderr",
     "output_type": "stream",
     "text": [
      "INFO\tTask(Task-2) nodify.node.139719887489744:node.py:get()- No need to evaluate\n"
     ]
    },
    {
     "name": "stderr",
     "output_type": "stream",
     "text": [
      "INFO\tTask(Task-2) nodify.node.139719887495696:node.py:get()- No need to evaluate\n"
     ]
    },
    {
     "name": "stderr",
     "output_type": "stream",
     "text": [
      "INFO\tTask(Task-2) nodify.node.139719887489120:node.py:get()- No need to evaluate\n"
     ]
    },
    {
     "name": "stderr",
     "output_type": "stream",
     "text": [
      "INFO\tTask(Task-2) nodify.node.139719887496272:node.py:get()- No need to evaluate\n"
     ]
    },
    {
     "name": "stderr",
     "output_type": "stream",
     "text": [
      "INFO\tTask(Task-2) nodify.node.139719887498864:node.py:get()- No need to evaluate\n"
     ]
    },
    {
     "name": "stderr",
     "output_type": "stream",
     "text": [
      "INFO\tTask(Task-2) nodify.node.139719887490512:node.py:get()- No need to evaluate\n"
     ]
    },
    {
     "name": "stderr",
     "output_type": "stream",
     "text": [
      "INFO\tTask(Task-2) nodify.node.139719887489120:node.py:get()- No need to evaluate\n"
     ]
    },
    {
     "name": "stderr",
     "output_type": "stream",
     "text": [
      "INFO\tTask(Task-2) nodify.node.139719887489744:node.py:get()- No need to evaluate\n"
     ]
    },
    {
     "name": "stderr",
     "output_type": "stream",
     "text": [
      "INFO\tTask(Task-2) nodify.node.139719887495696:node.py:get()- No need to evaluate\n"
     ]
    },
    {
     "name": "stderr",
     "output_type": "stream",
     "text": [
      "INFO\tTask(Task-2) nodify.node.139719887489120:node.py:get()- No need to evaluate\n"
     ]
    },
    {
     "name": "stderr",
     "output_type": "stream",
     "text": [
      "INFO\tTask(Task-2) nodify.node.139719887496272:node.py:get()- No need to evaluate\n"
     ]
    },
    {
     "name": "stderr",
     "output_type": "stream",
     "text": [
      "INFO\tTask(Task-2) nodify.node.139719887499200:node.py:get()- No need to evaluate\n"
     ]
    },
    {
     "name": "stderr",
     "output_type": "stream",
     "text": [
      "INFO\tTask(Task-2) nodify.node.139719887489120:node.py:get()- No need to evaluate\n"
     ]
    },
    {
     "name": "stderr",
     "output_type": "stream",
     "text": [
      "INFO\tTask(Task-2) nodify.node.139719887488064:node.py:get()- No need to evaluate\n"
     ]
    },
    {
     "name": "stderr",
     "output_type": "stream",
     "text": [
      "INFO\tTask(Task-2) nodify.node.139719887489552:node.py:get()- No need to evaluate\n"
     ]
    },
    {
     "name": "stderr",
     "output_type": "stream",
     "text": [
      "INFO\tTask(Task-2) nodify.node.139719887489504:node.py:get()- No need to evaluate\n"
     ]
    },
    {
     "name": "stderr",
     "output_type": "stream",
     "text": [
      "INFO\tTask(Task-2) nodify.node.139719887496176:node.py:get()- No need to evaluate\n"
     ]
    },
    {
     "name": "stderr",
     "output_type": "stream",
     "text": [
      "INFO\tTask(Task-2) nodify.node.139719887489120:node.py:get()- No need to evaluate\n"
     ]
    },
    {
     "name": "stderr",
     "output_type": "stream",
     "text": [
      "INFO\tTask(Task-2) nodify.node.139719887489744:node.py:get()- No need to evaluate\n"
     ]
    },
    {
     "name": "stderr",
     "output_type": "stream",
     "text": [
      "INFO\tTask(Task-2) nodify.node.139719887495696:node.py:get()- No need to evaluate\n"
     ]
    },
    {
     "name": "stderr",
     "output_type": "stream",
     "text": [
      "INFO\tTask(Task-2) nodify.node.139719887489120:node.py:get()- No need to evaluate\n"
     ]
    },
    {
     "name": "stderr",
     "output_type": "stream",
     "text": [
      "INFO\tTask(Task-2) nodify.node.139719887496272:node.py:get()- No need to evaluate\n"
     ]
    },
    {
     "name": "stderr",
     "output_type": "stream",
     "text": [
      "INFO\tTask(Task-2) nodify.node.139719887493632:node.py:get()- No need to evaluate\n"
     ]
    },
    {
     "name": "stderr",
     "output_type": "stream",
     "text": [
      "INFO\tTask(Task-2) nodify.node.139719887493248:node.py:get()- Evaluated because inputs changed.\n"
     ]
    },
    {
     "name": "stderr",
     "output_type": "stream",
     "text": [
      "INFO\tTask(Task-2) nodify.node.139719887495984:node.py:get()- Evaluated because inputs changed.\n"
     ]
    },
    {
     "name": "stderr",
     "output_type": "stream",
     "text": [
      "INFO\tTask(Task-2) nodify.node.139719887496416:node.py:get()- Evaluated because inputs changed.\n"
     ]
    },
    {
     "name": "stderr",
     "output_type": "stream",
     "text": [
      "INFO\tTask(Task-2) nodify.node.139719887499680:node.py:get()- Evaluated because inputs changed.\n"
     ]
    },
    {
     "name": "stderr",
     "output_type": "stream",
     "text": [
      "INFO\tTask(Task-2) nodify.node.139719887500160:node.py:get()- Evaluated because inputs changed.\n"
     ]
    },
    {
     "data": {
      "application/vnd.plotly.v1+json": {
       "config": {
        "plotlyServerURL": "https://plot.ly"
       },
       "data": [
        {
         "coloraxis": "coloraxis",
         "meta": {},
         "opacity": 1,
         "texttemplate": "%{z:.2f}",
         "type": "heatmap",
         "z": {
          "bdata": "Avu7mQ5T77+Il6ltAra0v6Rvh+pFl+i/ICFqDy/0lT8gU05A3ibWvwAAAAAAAPh/AAAAAAAA+H8AAAAAAAD4fwAAAAAAAPh/Lm+rIj31kD8AAAAAAAD4fwAAAAAAAPh/AAAAAAAA+H8AAAAAAAD4fwAAAAAAAPh/iJepbQK2tL9YbZVl3AvNPwNX0+u4XeM/vHBtbIR6yL9apZkXjlvovwAAAAAAAPh/AAAAAAAA+H8AAAAAAAD4fwAAAAAAAPh/ANBjXxMRnb8AAAAAAAD4fwAAAAAAAPh/AAAAAAAA+H8AAAAAAAD4fwAAAAAAAPh/pG+H6kWX6L8DV9PruF3jP4LHzQCDsO6/rEhCIALF1L8IrEZ53jS3vwAAAAAAAPh/AAAAAAAA+H8AAAAAAAD4fwAAAAAAAPh/q3hpZP5YoD8AAAAAAAD4fwAAAAAAAPh/AAAAAAAA+H8AAAAAAAD4fwAAAAAAAPh/ICFqDy/0lT+8cG1shHrIv6xIQiACxdS/ZGxmyqzS1T+ALeMXET69PwAAAAAAAPh/AAAAAAAA+H8AAAAAAAD4fwAAAAAAAPh/VWav5R6nwT8AAAAAAAD4fwAAAAAAAPh/AAAAAAAA+H8AAAAAAAD4fwAAAAAAAPh/IFNOQN4m1r9apZkXjlvovwisRnneNLe/gC3jFxE+vT+IG2VUNzbGvwAAAAAAAPh/AAAAAAAA+H8AAAAAAAD4fwAAAAAAAPh/AAAAAAAA+H8ub6siPfWQPwDQY18TEZ2/q3hpZP5YoD9VZq/lHqfBPwAAAAAAAPh/",
          "dtype": "f8",
          "shape": "5, 15"
         },
         "zsmooth": false
        },
        {
         "line": {
          "color": "pink",
          "dash": "dash",
          "width": 5
         },
         "meta": {},
         "mode": "lines",
         "name": "orbitals separators",
         "opacity": 0.8,
         "showlegend": false,
         "type": "scatter",
         "x": {
          "bdata": "AAAAAAAA4L8AAAAAAAASQAAAAAAAAPh/AAAAAAAA4D8AAAAAAADgPwAAAAAAAPh/",
          "dtype": "f8"
         },
         "y": {
          "bdata": "AAAAAAAA4D8AAAAAAADgPwAAAAAAAPh/AAAAAAAA4L8AAAAAAAASQAAAAAAAAPh/",
          "dtype": "f8"
         }
        },
        {
         "line": {
          "color": "gray"
         },
         "meta": {},
         "mode": "lines",
         "name": "atoms separators",
         "opacity": 1,
         "showlegend": false,
         "type": "scatter",
         "x": {
          "bdata": "AAAAAAAA4L8AAAAAAAASQAAAAAAAAPh/AAAAAAAADEAAAAAAAAAMQAAAAAAAAPh/",
          "dtype": "f8"
         },
         "y": {
          "bdata": "AAAAAAAADEAAAAAAAAAMQAAAAAAAAPh/AAAAAAAA4L8AAAAAAAASQAAAAAAAAPh/",
          "dtype": "f8"
         }
        }
       ],
       "layout": {
        "coloraxis": {
         "cmid": 0,
         "colorscale": [
          [
           0.0,
           "rgb(0, 147, 146)"
          ],
          [
           0.16666666666666666,
           "rgb(57, 177, 133)"
          ],
          [
           0.3333333333333333,
           "rgb(156, 203, 134)"
          ],
          [
           0.5,
           "rgb(233, 226, 156)"
          ],
          [
           0.6666666666666666,
           "rgb(238, 180, 121)"
          ],
          [
           0.8333333333333334,
           "rgb(232, 132, 113)"
          ],
          [
           1.0,
           "rgb(207, 89, 126)"
          ]
         ],
         "showscale": true
        },
        "scene": {
         "aspectmode": "data",
         "xaxis": {
          "range": [
           -0.5,
           14.5
          ],
          "ticktext": [
           "0: (0, 0)",
           "0: (1, -1)",
           "0: (1, 0)",
           "0: (1, 1)",
           "1: (0, 0)",
           "0: (0, 0)",
           "0: (1, -1)",
           "0: (1, 0)",
           "0: (1, 1)",
           "1: (0, 0)",
           "0: (0, 0)",
           "0: (1, -1)",
           "0: (1, 0)",
           "0: (1, 1)",
           "1: (0, 0)"
          ],
          "tickvals": {
           "bdata": "AAECAwQFBgcICQoLDA0O",
           "dtype": "i1"
          }
         },
         "yaxis": {
          "range": [
           4.5,
           -0.5
          ],
          "ticktext": [
           "0: (0, 0)",
           "0: (1, -1)",
           "0: (1, 0)",
           "0: (1, 1)",
           "1: (0, 0)"
          ],
          "tickvals": {
           "bdata": "AAECAwQ=",
           "dtype": "i1"
          }
         }
        },
        "template": {
         "layout": {
          "hovermode": "closest",
          "paper_bgcolor": "white",
          "plot_bgcolor": "white",
          "scene": {
           "xaxis": {
            "color": "black",
            "gridcolor": "#ccc",
            "gridwidth": 1,
            "linewidth": 1,
            "mirror": true,
            "showgrid": false,
            "showline": true,
            "ticklen": 5,
            "ticks": "outside",
            "ticksuffix": " ",
            "visible": true,
            "zeroline": false,
            "zerolinecolor": "#ccc",
            "zerolinewidth": 1
           },
           "yaxis": {
            "color": "black",
            "gridcolor": "#ccc",
            "gridwidth": 1,
            "linewidth": 1,
            "mirror": true,
            "showgrid": false,
            "showline": true,
            "ticklen": 5,
            "ticks": "outside",
            "ticksuffix": " ",
            "visible": true,
            "zeroline": false,
            "zerolinecolor": "#ccc",
            "zerolinewidth": 1
           },
           "zaxis": {
            "color": "black",
            "gridcolor": "#ccc",
            "gridwidth": 1,
            "linewidth": 1,
            "mirror": true,
            "showgrid": false,
            "showline": true,
            "ticklen": 5,
            "ticks": "outside",
            "ticksuffix": " ",
            "visible": true,
            "zeroline": false,
            "zerolinecolor": "#ccc",
            "zerolinewidth": 1
           }
          },
          "xaxis": {
           "color": "black",
           "gridcolor": "#ccc",
           "gridwidth": 1,
           "linewidth": 1,
           "mirror": true,
           "showgrid": false,
           "showline": true,
           "ticklen": 5,
           "ticks": "outside",
           "ticksuffix": " ",
           "visible": true,
           "zeroline": false,
           "zerolinecolor": "#ccc",
           "zerolinewidth": 1
          },
          "yaxis": {
           "color": "black",
           "gridcolor": "#ccc",
           "gridwidth": 1,
           "linewidth": 1,
           "mirror": true,
           "showgrid": false,
           "showline": true,
           "ticklen": 5,
           "ticks": "outside",
           "ticksuffix": " ",
           "visible": true,
           "zeroline": false,
           "zerolinecolor": "#ccc",
           "zerolinewidth": 1
          }
         }
        },
        "xaxis": {
         "constrain": "domain",
         "range": [
          -0.5,
          14.5
         ],
         "scaleanchor": "y",
         "scaleratio": 1,
         "ticktext": [
          "0: (0, 0)",
          "0: (1, -1)",
          "0: (1, 0)",
          "0: (1, 1)",
          "1: (0, 0)",
          "0: (0, 0)",
          "0: (1, -1)",
          "0: (1, 0)",
          "0: (1, 1)",
          "1: (0, 0)",
          "0: (0, 0)",
          "0: (1, -1)",
          "0: (1, 0)",
          "0: (1, 1)",
          "1: (0, 0)"
         ],
         "tickvals": {
          "bdata": "AAECAwQFBgcICQoLDA0O",
          "dtype": "i1"
         }
        },
        "yaxis": {
         "constrain": "domain",
         "range": [
          4.5,
          -0.5
         ],
         "ticktext": [
          "0: (0, 0)",
          "0: (1, -1)",
          "0: (1, 0)",
          "0: (1, 1)",
          "1: (0, 0)"
         ],
         "tickvals": {
          "bdata": "AAECAwQ=",
          "dtype": "i1"
         }
        }
       }
      }
     },
     "metadata": {},
     "output_type": "display_data"
    }
   ],
   "source": [
    "plot.update_inputs(set_labels=True)"
   ]
  },
  {
   "cell_type": "markdown",
   "metadata": {},
   "source": [
    "Labels have the format: `Atom index: (l, m)`. where l and m are the quantum numbers of the orbital."
   ]
  },
  {
   "cell_type": "code",
   "execution_count": 15,
   "metadata": {
    "execution": {
     "iopub.execute_input": "2025-08-14T08:48:49.515858Z",
     "iopub.status.busy": "2025-08-14T08:48:49.515659Z",
     "iopub.status.idle": "2025-08-14T08:48:49.518751Z",
     "shell.execute_reply": "2025-08-14T08:48:49.518140Z"
    }
   },
   "outputs": [],
   "source": [
    "plot = plot.update_inputs(set_labels=False)"
   ]
  },
  {
   "cell_type": "markdown",
   "metadata": {},
   "source": [
    "## Showing only one cell\n",
    "\n",
    "If you only want to visualize a given cell in the supercell, you can pass the index to the `isc` input."
   ]
  },
  {
   "cell_type": "code",
   "execution_count": 16,
   "metadata": {
    "execution": {
     "iopub.execute_input": "2025-08-14T08:48:49.520563Z",
     "iopub.status.busy": "2025-08-14T08:48:49.520373Z",
     "iopub.status.idle": "2025-08-14T08:48:49.616854Z",
     "shell.execute_reply": "2025-08-14T08:48:49.616206Z"
    }
   },
   "outputs": [
    {
     "name": "stderr",
     "output_type": "stream",
     "text": [
      "INFO\tTask(Task-2) nodify.node.139719887494400:node.py:get()- No need to evaluate\n"
     ]
    },
    {
     "name": "stderr",
     "output_type": "stream",
     "text": [
      "INFO\tTask(Task-2) nodify.node.139719887489120:node.py:get()- No need to evaluate\n"
     ]
    },
    {
     "name": "stderr",
     "output_type": "stream",
     "text": [
      "INFO\tTask(Task-2) nodify.node.139719887488064:node.py:get()- No need to evaluate\n"
     ]
    },
    {
     "name": "stderr",
     "output_type": "stream",
     "text": [
      "INFO\tTask(Task-2) nodify.node.139719887489552:node.py:get()- Evaluated because inputs changed.\n"
     ]
    },
    {
     "name": "stderr",
     "output_type": "stream",
     "text": [
      "INFO\tTask(Task-2) nodify.node.139719887489504:node.py:get()- No need to evaluate\n"
     ]
    },
    {
     "name": "stderr",
     "output_type": "stream",
     "text": [
      "INFO\tTask(Task-2) nodify.node.139719887496176:node.py:get()- Evaluated because inputs changed.\n"
     ]
    },
    {
     "name": "stderr",
     "output_type": "stream",
     "text": [
      "INFO\tTask(Task-2) nodify.node.139719887491328:node.py:get()- No need to evaluate\n"
     ]
    },
    {
     "name": "stderr",
     "output_type": "stream",
     "text": [
      "INFO\tTask(Task-2) nodify.node.139719887491712:node.py:get()- No need to evaluate\n"
     ]
    },
    {
     "name": "stderr",
     "output_type": "stream",
     "text": [
      "INFO\tTask(Task-2) nodify.node.139719887489120:node.py:get()- No need to evaluate\n"
     ]
    },
    {
     "name": "stderr",
     "output_type": "stream",
     "text": [
      "INFO\tTask(Task-2) nodify.node.139719887492096:node.py:get()- No need to evaluate\n"
     ]
    },
    {
     "name": "stderr",
     "output_type": "stream",
     "text": [
      "INFO\tTask(Task-2) nodify.node.139719887491712:node.py:get()- No need to evaluate\n"
     ]
    },
    {
     "name": "stderr",
     "output_type": "stream",
     "text": [
      "INFO\tTask(Task-2) nodify.node.139719887497472:node.py:get()- No need to evaluate\n"
     ]
    },
    {
     "name": "stderr",
     "output_type": "stream",
     "text": [
      "INFO\tTask(Task-2) nodify.node.139719887490944:node.py:get()- No need to evaluate\n"
     ]
    },
    {
     "name": "stderr",
     "output_type": "stream",
     "text": [
      "INFO\tTask(Task-2) nodify.node.139719887492480:node.py:get()- No need to evaluate\n"
     ]
    },
    {
     "name": "stderr",
     "output_type": "stream",
     "text": [
      "INFO\tTask(Task-2) nodify.node.139719887492864:node.py:get()- No need to evaluate\n"
     ]
    },
    {
     "name": "stderr",
     "output_type": "stream",
     "text": [
      "INFO\tTask(Task-2) nodify.node.139719887497376:node.py:get()- Evaluated because inputs changed.\n"
     ]
    },
    {
     "name": "stderr",
     "output_type": "stream",
     "text": [
      "INFO\tTask(Task-2) nodify.node.139719887489120:node.py:get()- No need to evaluate\n"
     ]
    },
    {
     "name": "stderr",
     "output_type": "stream",
     "text": [
      "INFO\tTask(Task-2) nodify.node.139719887488064:node.py:get()- No need to evaluate\n"
     ]
    },
    {
     "name": "stderr",
     "output_type": "stream",
     "text": [
      "INFO\tTask(Task-2) nodify.node.139719887489552:node.py:get()- No need to evaluate\n"
     ]
    },
    {
     "name": "stderr",
     "output_type": "stream",
     "text": [
      "INFO\tTask(Task-2) nodify.node.139719887489504:node.py:get()- No need to evaluate\n"
     ]
    },
    {
     "name": "stderr",
     "output_type": "stream",
     "text": [
      "INFO\tTask(Task-2) nodify.node.139719887496176:node.py:get()- No need to evaluate\n"
     ]
    },
    {
     "name": "stderr",
     "output_type": "stream",
     "text": [
      "INFO\tTask(Task-2) nodify.node.139719887494016:node.py:get()- No need to evaluate\n"
     ]
    },
    {
     "name": "stderr",
     "output_type": "stream",
     "text": [
      "INFO\tTask(Task-2) nodify.node.139719887498144:node.py:get()- No need to evaluate\n"
     ]
    },
    {
     "name": "stderr",
     "output_type": "stream",
     "text": [
      "INFO\tTask(Task-2) nodify.node.139719887497520:node.py:get()- Evaluated because inputs changed.\n"
     ]
    },
    {
     "name": "stderr",
     "output_type": "stream",
     "text": [
      "INFO\tTask(Task-2) nodify.node.139719887489168:node.py:get()- No need to evaluate\n"
     ]
    },
    {
     "name": "stderr",
     "output_type": "stream",
     "text": [
      "INFO\tTask(Task-2) nodify.node.139719887489120:node.py:get()- No need to evaluate\n"
     ]
    },
    {
     "name": "stderr",
     "output_type": "stream",
     "text": [
      "INFO\tTask(Task-2) nodify.node.139719887489744:node.py:get()- No need to evaluate\n"
     ]
    },
    {
     "name": "stderr",
     "output_type": "stream",
     "text": [
      "INFO\tTask(Task-2) nodify.node.139719887495696:node.py:get()- No need to evaluate\n"
     ]
    },
    {
     "name": "stderr",
     "output_type": "stream",
     "text": [
      "INFO\tTask(Task-2) nodify.node.139719887489120:node.py:get()- No need to evaluate\n"
     ]
    },
    {
     "name": "stderr",
     "output_type": "stream",
     "text": [
      "INFO\tTask(Task-2) nodify.node.139719887496272:node.py:get()- No need to evaluate\n"
     ]
    },
    {
     "name": "stderr",
     "output_type": "stream",
     "text": [
      "INFO\tTask(Task-2) nodify.node.139719887498192:node.py:get()- No need to evaluate\n"
     ]
    },
    {
     "name": "stderr",
     "output_type": "stream",
     "text": [
      "INFO\tTask(Task-2) nodify.node.139719887490128:node.py:get()- No need to evaluate\n"
     ]
    },
    {
     "name": "stderr",
     "output_type": "stream",
     "text": [
      "INFO\tTask(Task-2) nodify.node.139719887489120:node.py:get()- No need to evaluate\n"
     ]
    },
    {
     "name": "stderr",
     "output_type": "stream",
     "text": [
      "INFO\tTask(Task-2) nodify.node.139719887489744:node.py:get()- No need to evaluate\n"
     ]
    },
    {
     "name": "stderr",
     "output_type": "stream",
     "text": [
      "INFO\tTask(Task-2) nodify.node.139719887495696:node.py:get()- No need to evaluate\n"
     ]
    },
    {
     "name": "stderr",
     "output_type": "stream",
     "text": [
      "INFO\tTask(Task-2) nodify.node.139719887489120:node.py:get()- No need to evaluate\n"
     ]
    },
    {
     "name": "stderr",
     "output_type": "stream",
     "text": [
      "INFO\tTask(Task-2) nodify.node.139719887496272:node.py:get()- No need to evaluate\n"
     ]
    },
    {
     "name": "stderr",
     "output_type": "stream",
     "text": [
      "INFO\tTask(Task-2) nodify.node.139719887498864:node.py:get()- No need to evaluate\n"
     ]
    },
    {
     "name": "stderr",
     "output_type": "stream",
     "text": [
      "INFO\tTask(Task-2) nodify.node.139719887490512:node.py:get()- No need to evaluate\n"
     ]
    },
    {
     "name": "stderr",
     "output_type": "stream",
     "text": [
      "INFO\tTask(Task-2) nodify.node.139719887489120:node.py:get()- No need to evaluate\n"
     ]
    },
    {
     "name": "stderr",
     "output_type": "stream",
     "text": [
      "INFO\tTask(Task-2) nodify.node.139719887489744:node.py:get()- No need to evaluate\n"
     ]
    },
    {
     "name": "stderr",
     "output_type": "stream",
     "text": [
      "INFO\tTask(Task-2) nodify.node.139719887495696:node.py:get()- No need to evaluate\n"
     ]
    },
    {
     "name": "stderr",
     "output_type": "stream",
     "text": [
      "INFO\tTask(Task-2) nodify.node.139719887489120:node.py:get()- No need to evaluate\n"
     ]
    },
    {
     "name": "stderr",
     "output_type": "stream",
     "text": [
      "INFO\tTask(Task-2) nodify.node.139719887496272:node.py:get()- No need to evaluate\n"
     ]
    },
    {
     "name": "stderr",
     "output_type": "stream",
     "text": [
      "INFO\tTask(Task-2) nodify.node.139719887499200:node.py:get()- No need to evaluate\n"
     ]
    },
    {
     "name": "stderr",
     "output_type": "stream",
     "text": [
      "INFO\tTask(Task-2) nodify.node.139719887489120:node.py:get()- No need to evaluate\n"
     ]
    },
    {
     "name": "stderr",
     "output_type": "stream",
     "text": [
      "INFO\tTask(Task-2) nodify.node.139719887488064:node.py:get()- No need to evaluate\n"
     ]
    },
    {
     "name": "stderr",
     "output_type": "stream",
     "text": [
      "INFO\tTask(Task-2) nodify.node.139719887489552:node.py:get()- No need to evaluate\n"
     ]
    },
    {
     "name": "stderr",
     "output_type": "stream",
     "text": [
      "INFO\tTask(Task-2) nodify.node.139719887489504:node.py:get()- No need to evaluate\n"
     ]
    },
    {
     "name": "stderr",
     "output_type": "stream",
     "text": [
      "INFO\tTask(Task-2) nodify.node.139719887496176:node.py:get()- No need to evaluate\n"
     ]
    },
    {
     "name": "stderr",
     "output_type": "stream",
     "text": [
      "INFO\tTask(Task-2) nodify.node.139719887489120:node.py:get()- No need to evaluate\n"
     ]
    },
    {
     "name": "stderr",
     "output_type": "stream",
     "text": [
      "INFO\tTask(Task-2) nodify.node.139719887489744:node.py:get()- No need to evaluate\n"
     ]
    },
    {
     "name": "stderr",
     "output_type": "stream",
     "text": [
      "INFO\tTask(Task-2) nodify.node.139719887495696:node.py:get()- No need to evaluate\n"
     ]
    },
    {
     "name": "stderr",
     "output_type": "stream",
     "text": [
      "INFO\tTask(Task-2) nodify.node.139719887489120:node.py:get()- No need to evaluate\n"
     ]
    },
    {
     "name": "stderr",
     "output_type": "stream",
     "text": [
      "INFO\tTask(Task-2) nodify.node.139719887496272:node.py:get()- No need to evaluate\n"
     ]
    },
    {
     "name": "stderr",
     "output_type": "stream",
     "text": [
      "INFO\tTask(Task-2) nodify.node.139719887493632:node.py:get()- No need to evaluate\n"
     ]
    },
    {
     "name": "stderr",
     "output_type": "stream",
     "text": [
      "INFO\tTask(Task-2) nodify.node.139719887493248:node.py:get()- Evaluated because inputs changed.\n"
     ]
    },
    {
     "name": "stderr",
     "output_type": "stream",
     "text": [
      "INFO\tTask(Task-2) nodify.node.139719887495984:node.py:get()- Evaluated because inputs changed.\n"
     ]
    },
    {
     "name": "stderr",
     "output_type": "stream",
     "text": [
      "INFO\tTask(Task-2) nodify.node.139719887496416:node.py:get()- Evaluated because inputs changed.\n"
     ]
    },
    {
     "name": "stderr",
     "output_type": "stream",
     "text": [
      "INFO\tTask(Task-2) nodify.node.139719887499680:node.py:get()- Evaluated because inputs changed.\n"
     ]
    },
    {
     "name": "stderr",
     "output_type": "stream",
     "text": [
      "INFO\tTask(Task-2) nodify.node.139719887500160:node.py:get()- Evaluated because inputs changed.\n"
     ]
    },
    {
     "data": {
      "application/vnd.plotly.v1+json": {
       "config": {
        "plotlyServerURL": "https://plot.ly"
       },
       "data": [
        {
         "coloraxis": "coloraxis",
         "meta": {},
         "opacity": 1,
         "texttemplate": "%{z:.2f}",
         "type": "heatmap",
         "z": {
          "bdata": "AAAAAAAA+H8AAAAAAAD4fwAAAAAAAPh/AAAAAAAA+H8ub6siPfWQPwAAAAAAAPh/AAAAAAAA+H8AAAAAAAD4fwAAAAAAAPh/ANBjXxMRnb8AAAAAAAD4fwAAAAAAAPh/AAAAAAAA+H8AAAAAAAD4f6t4aWT+WKA/AAAAAAAA+H8AAAAAAAD4fwAAAAAAAPh/AAAAAAAA+H9VZq/lHqfBPwAAAAAAAPh/AAAAAAAA+H8AAAAAAAD4fwAAAAAAAPh/AAAAAAAA+H8=",
          "dtype": "f8",
          "shape": "5, 5"
         },
         "zsmooth": false
        },
        {
         "line": {
          "color": "pink",
          "dash": "dash",
          "width": 5
         },
         "meta": {},
         "mode": "lines",
         "name": "orbitals separators",
         "opacity": 0.8,
         "showlegend": false,
         "type": "scatter",
         "x": {
          "bdata": "AAAAAAAA4L8AAAAAAAASQAAAAAAAAPh/AAAAAAAA4D8AAAAAAADgPwAAAAAAAPh/",
          "dtype": "f8"
         },
         "y": {
          "bdata": "AAAAAAAA4D8AAAAAAADgPwAAAAAAAPh/AAAAAAAA4L8AAAAAAAASQAAAAAAAAPh/",
          "dtype": "f8"
         }
        },
        {
         "line": {
          "color": "gray"
         },
         "meta": {},
         "mode": "lines",
         "name": "atoms separators",
         "opacity": 1,
         "showlegend": false,
         "type": "scatter",
         "x": {
          "bdata": "AAAAAAAA4L8AAAAAAAASQAAAAAAAAPh/AAAAAAAADEAAAAAAAAAMQAAAAAAAAPh/",
          "dtype": "f8"
         },
         "y": {
          "bdata": "AAAAAAAADEAAAAAAAAAMQAAAAAAAAPh/AAAAAAAA4L8AAAAAAAASQAAAAAAAAPh/",
          "dtype": "f8"
         }
        }
       ],
       "layout": {
        "coloraxis": {
         "cmid": 0,
         "colorscale": [
          [
           0.0,
           "rgb(0, 147, 146)"
          ],
          [
           0.16666666666666666,
           "rgb(57, 177, 133)"
          ],
          [
           0.3333333333333333,
           "rgb(156, 203, 134)"
          ],
          [
           0.5,
           "rgb(233, 226, 156)"
          ],
          [
           0.6666666666666666,
           "rgb(238, 180, 121)"
          ],
          [
           0.8333333333333334,
           "rgb(232, 132, 113)"
          ],
          [
           1.0,
           "rgb(207, 89, 126)"
          ]
         ],
         "showscale": true
        },
        "scene": {
         "aspectmode": "data",
         "xaxis": {
          "range": [
           -0.5,
           4.5
          ]
         },
         "yaxis": {
          "range": [
           4.5,
           -0.5
          ]
         }
        },
        "template": {
         "layout": {
          "hovermode": "closest",
          "paper_bgcolor": "white",
          "plot_bgcolor": "white",
          "scene": {
           "xaxis": {
            "color": "black",
            "gridcolor": "#ccc",
            "gridwidth": 1,
            "linewidth": 1,
            "mirror": true,
            "showgrid": false,
            "showline": true,
            "ticklen": 5,
            "ticks": "outside",
            "ticksuffix": " ",
            "visible": true,
            "zeroline": false,
            "zerolinecolor": "#ccc",
            "zerolinewidth": 1
           },
           "yaxis": {
            "color": "black",
            "gridcolor": "#ccc",
            "gridwidth": 1,
            "linewidth": 1,
            "mirror": true,
            "showgrid": false,
            "showline": true,
            "ticklen": 5,
            "ticks": "outside",
            "ticksuffix": " ",
            "visible": true,
            "zeroline": false,
            "zerolinecolor": "#ccc",
            "zerolinewidth": 1
           },
           "zaxis": {
            "color": "black",
            "gridcolor": "#ccc",
            "gridwidth": 1,
            "linewidth": 1,
            "mirror": true,
            "showgrid": false,
            "showline": true,
            "ticklen": 5,
            "ticks": "outside",
            "ticksuffix": " ",
            "visible": true,
            "zeroline": false,
            "zerolinecolor": "#ccc",
            "zerolinewidth": 1
           }
          },
          "xaxis": {
           "color": "black",
           "gridcolor": "#ccc",
           "gridwidth": 1,
           "linewidth": 1,
           "mirror": true,
           "showgrid": false,
           "showline": true,
           "ticklen": 5,
           "ticks": "outside",
           "ticksuffix": " ",
           "visible": true,
           "zeroline": false,
           "zerolinecolor": "#ccc",
           "zerolinewidth": 1
          },
          "yaxis": {
           "color": "black",
           "gridcolor": "#ccc",
           "gridwidth": 1,
           "linewidth": 1,
           "mirror": true,
           "showgrid": false,
           "showline": true,
           "ticklen": 5,
           "ticks": "outside",
           "ticksuffix": " ",
           "visible": true,
           "zeroline": false,
           "zerolinecolor": "#ccc",
           "zerolinewidth": 1
          }
         }
        },
        "xaxis": {
         "constrain": "domain",
         "range": [
          -0.5,
          4.5
         ],
         "scaleanchor": "y",
         "scaleratio": 1
        },
        "yaxis": {
         "constrain": "domain",
         "range": [
          4.5,
          -0.5
         ]
        }
       }
      }
     },
     "metadata": {},
     "output_type": "display_data"
    }
   ],
   "source": [
    "plot.update_inputs(isc=1)"
   ]
  },
  {
   "cell_type": "markdown",
   "metadata": {},
   "source": [
    "To go back to visualizing the whole supercell, just set `isc` to `None`."
   ]
  },
  {
   "cell_type": "code",
   "execution_count": 17,
   "metadata": {
    "execution": {
     "iopub.execute_input": "2025-08-14T08:48:49.618671Z",
     "iopub.status.busy": "2025-08-14T08:48:49.618458Z",
     "iopub.status.idle": "2025-08-14T08:48:49.718406Z",
     "shell.execute_reply": "2025-08-14T08:48:49.717755Z"
    }
   },
   "outputs": [
    {
     "name": "stderr",
     "output_type": "stream",
     "text": [
      "INFO\tTask(Task-2) nodify.node.139719887494400:node.py:get()- No need to evaluate\n"
     ]
    },
    {
     "name": "stderr",
     "output_type": "stream",
     "text": [
      "INFO\tTask(Task-2) nodify.node.139719887489120:node.py:get()- No need to evaluate\n"
     ]
    },
    {
     "name": "stderr",
     "output_type": "stream",
     "text": [
      "INFO\tTask(Task-2) nodify.node.139719887488064:node.py:get()- No need to evaluate\n"
     ]
    },
    {
     "name": "stderr",
     "output_type": "stream",
     "text": [
      "INFO\tTask(Task-2) nodify.node.139719887489552:node.py:get()- Evaluated because inputs changed.\n"
     ]
    },
    {
     "name": "stderr",
     "output_type": "stream",
     "text": [
      "INFO\tTask(Task-2) nodify.node.139719887489504:node.py:get()- No need to evaluate\n"
     ]
    },
    {
     "name": "stderr",
     "output_type": "stream",
     "text": [
      "INFO\tTask(Task-2) nodify.node.139719887496176:node.py:get()- Evaluated because inputs changed.\n"
     ]
    },
    {
     "name": "stderr",
     "output_type": "stream",
     "text": [
      "INFO\tTask(Task-2) nodify.node.139719887491328:node.py:get()- No need to evaluate\n"
     ]
    },
    {
     "name": "stderr",
     "output_type": "stream",
     "text": [
      "INFO\tTask(Task-2) nodify.node.139719887491712:node.py:get()- No need to evaluate\n"
     ]
    },
    {
     "name": "stderr",
     "output_type": "stream",
     "text": [
      "INFO\tTask(Task-2) nodify.node.139719887489120:node.py:get()- No need to evaluate\n"
     ]
    },
    {
     "name": "stderr",
     "output_type": "stream",
     "text": [
      "INFO\tTask(Task-2) nodify.node.139719887492096:node.py:get()- No need to evaluate\n"
     ]
    },
    {
     "name": "stderr",
     "output_type": "stream",
     "text": [
      "INFO\tTask(Task-2) nodify.node.139719887491712:node.py:get()- No need to evaluate\n"
     ]
    },
    {
     "name": "stderr",
     "output_type": "stream",
     "text": [
      "INFO\tTask(Task-2) nodify.node.139719887497472:node.py:get()- No need to evaluate\n"
     ]
    },
    {
     "name": "stderr",
     "output_type": "stream",
     "text": [
      "INFO\tTask(Task-2) nodify.node.139719887490944:node.py:get()- No need to evaluate\n"
     ]
    },
    {
     "name": "stderr",
     "output_type": "stream",
     "text": [
      "INFO\tTask(Task-2) nodify.node.139719887492480:node.py:get()- No need to evaluate\n"
     ]
    },
    {
     "name": "stderr",
     "output_type": "stream",
     "text": [
      "INFO\tTask(Task-2) nodify.node.139719887492864:node.py:get()- No need to evaluate\n"
     ]
    },
    {
     "name": "stderr",
     "output_type": "stream",
     "text": [
      "INFO\tTask(Task-2) nodify.node.139719887497376:node.py:get()- Evaluated because inputs changed.\n"
     ]
    },
    {
     "name": "stderr",
     "output_type": "stream",
     "text": [
      "INFO\tTask(Task-2) nodify.node.139719887489120:node.py:get()- No need to evaluate\n"
     ]
    },
    {
     "name": "stderr",
     "output_type": "stream",
     "text": [
      "INFO\tTask(Task-2) nodify.node.139719887488064:node.py:get()- No need to evaluate\n"
     ]
    },
    {
     "name": "stderr",
     "output_type": "stream",
     "text": [
      "INFO\tTask(Task-2) nodify.node.139719887489552:node.py:get()- No need to evaluate\n"
     ]
    },
    {
     "name": "stderr",
     "output_type": "stream",
     "text": [
      "INFO\tTask(Task-2) nodify.node.139719887489504:node.py:get()- No need to evaluate\n"
     ]
    },
    {
     "name": "stderr",
     "output_type": "stream",
     "text": [
      "INFO\tTask(Task-2) nodify.node.139719887496176:node.py:get()- No need to evaluate\n"
     ]
    },
    {
     "name": "stderr",
     "output_type": "stream",
     "text": [
      "INFO\tTask(Task-2) nodify.node.139719887494016:node.py:get()- No need to evaluate\n"
     ]
    },
    {
     "name": "stderr",
     "output_type": "stream",
     "text": [
      "INFO\tTask(Task-2) nodify.node.139719887498144:node.py:get()- No need to evaluate\n"
     ]
    },
    {
     "name": "stderr",
     "output_type": "stream",
     "text": [
      "INFO\tTask(Task-2) nodify.node.139719887497520:node.py:get()- Evaluated because inputs changed.\n"
     ]
    },
    {
     "name": "stderr",
     "output_type": "stream",
     "text": [
      "INFO\tTask(Task-2) nodify.node.139719887489168:node.py:get()- No need to evaluate\n"
     ]
    },
    {
     "name": "stderr",
     "output_type": "stream",
     "text": [
      "INFO\tTask(Task-2) nodify.node.139719887489120:node.py:get()- No need to evaluate\n"
     ]
    },
    {
     "name": "stderr",
     "output_type": "stream",
     "text": [
      "INFO\tTask(Task-2) nodify.node.139719887489744:node.py:get()- No need to evaluate\n"
     ]
    },
    {
     "name": "stderr",
     "output_type": "stream",
     "text": [
      "INFO\tTask(Task-2) nodify.node.139719887495696:node.py:get()- No need to evaluate\n"
     ]
    },
    {
     "name": "stderr",
     "output_type": "stream",
     "text": [
      "INFO\tTask(Task-2) nodify.node.139719887489120:node.py:get()- No need to evaluate\n"
     ]
    },
    {
     "name": "stderr",
     "output_type": "stream",
     "text": [
      "INFO\tTask(Task-2) nodify.node.139719887496272:node.py:get()- No need to evaluate\n"
     ]
    },
    {
     "name": "stderr",
     "output_type": "stream",
     "text": [
      "INFO\tTask(Task-2) nodify.node.139719887498192:node.py:get()- No need to evaluate\n"
     ]
    },
    {
     "name": "stderr",
     "output_type": "stream",
     "text": [
      "INFO\tTask(Task-2) nodify.node.139719887490128:node.py:get()- No need to evaluate\n"
     ]
    },
    {
     "name": "stderr",
     "output_type": "stream",
     "text": [
      "INFO\tTask(Task-2) nodify.node.139719887489120:node.py:get()- No need to evaluate\n"
     ]
    },
    {
     "name": "stderr",
     "output_type": "stream",
     "text": [
      "INFO\tTask(Task-2) nodify.node.139719887489744:node.py:get()- No need to evaluate\n"
     ]
    },
    {
     "name": "stderr",
     "output_type": "stream",
     "text": [
      "INFO\tTask(Task-2) nodify.node.139719887495696:node.py:get()- No need to evaluate\n"
     ]
    },
    {
     "name": "stderr",
     "output_type": "stream",
     "text": [
      "INFO\tTask(Task-2) nodify.node.139719887489120:node.py:get()- No need to evaluate\n"
     ]
    },
    {
     "name": "stderr",
     "output_type": "stream",
     "text": [
      "INFO\tTask(Task-2) nodify.node.139719887496272:node.py:get()- No need to evaluate\n"
     ]
    },
    {
     "name": "stderr",
     "output_type": "stream",
     "text": [
      "INFO\tTask(Task-2) nodify.node.139719887498864:node.py:get()- No need to evaluate\n"
     ]
    },
    {
     "name": "stderr",
     "output_type": "stream",
     "text": [
      "INFO\tTask(Task-2) nodify.node.139719887490512:node.py:get()- No need to evaluate\n"
     ]
    },
    {
     "name": "stderr",
     "output_type": "stream",
     "text": [
      "INFO\tTask(Task-2) nodify.node.139719887489120:node.py:get()- No need to evaluate\n"
     ]
    },
    {
     "name": "stderr",
     "output_type": "stream",
     "text": [
      "INFO\tTask(Task-2) nodify.node.139719887489744:node.py:get()- No need to evaluate\n"
     ]
    },
    {
     "name": "stderr",
     "output_type": "stream",
     "text": [
      "INFO\tTask(Task-2) nodify.node.139719887495696:node.py:get()- No need to evaluate\n"
     ]
    },
    {
     "name": "stderr",
     "output_type": "stream",
     "text": [
      "INFO\tTask(Task-2) nodify.node.139719887489120:node.py:get()- No need to evaluate\n"
     ]
    },
    {
     "name": "stderr",
     "output_type": "stream",
     "text": [
      "INFO\tTask(Task-2) nodify.node.139719887496272:node.py:get()- No need to evaluate\n"
     ]
    },
    {
     "name": "stderr",
     "output_type": "stream",
     "text": [
      "INFO\tTask(Task-2) nodify.node.139719887499200:node.py:get()- No need to evaluate\n"
     ]
    },
    {
     "name": "stderr",
     "output_type": "stream",
     "text": [
      "INFO\tTask(Task-2) nodify.node.139719887489120:node.py:get()- No need to evaluate\n"
     ]
    },
    {
     "name": "stderr",
     "output_type": "stream",
     "text": [
      "INFO\tTask(Task-2) nodify.node.139719887488064:node.py:get()- No need to evaluate\n"
     ]
    },
    {
     "name": "stderr",
     "output_type": "stream",
     "text": [
      "INFO\tTask(Task-2) nodify.node.139719887489552:node.py:get()- No need to evaluate\n"
     ]
    },
    {
     "name": "stderr",
     "output_type": "stream",
     "text": [
      "INFO\tTask(Task-2) nodify.node.139719887489504:node.py:get()- No need to evaluate\n"
     ]
    },
    {
     "name": "stderr",
     "output_type": "stream",
     "text": [
      "INFO\tTask(Task-2) nodify.node.139719887496176:node.py:get()- No need to evaluate\n"
     ]
    },
    {
     "name": "stderr",
     "output_type": "stream",
     "text": [
      "INFO\tTask(Task-2) nodify.node.139719887489120:node.py:get()- No need to evaluate\n"
     ]
    },
    {
     "name": "stderr",
     "output_type": "stream",
     "text": [
      "INFO\tTask(Task-2) nodify.node.139719887489744:node.py:get()- No need to evaluate\n"
     ]
    },
    {
     "name": "stderr",
     "output_type": "stream",
     "text": [
      "INFO\tTask(Task-2) nodify.node.139719887495696:node.py:get()- No need to evaluate\n"
     ]
    },
    {
     "name": "stderr",
     "output_type": "stream",
     "text": [
      "INFO\tTask(Task-2) nodify.node.139719887489120:node.py:get()- No need to evaluate\n"
     ]
    },
    {
     "name": "stderr",
     "output_type": "stream",
     "text": [
      "INFO\tTask(Task-2) nodify.node.139719887496272:node.py:get()- No need to evaluate\n"
     ]
    },
    {
     "name": "stderr",
     "output_type": "stream",
     "text": [
      "INFO\tTask(Task-2) nodify.node.139719887493632:node.py:get()- No need to evaluate\n"
     ]
    },
    {
     "name": "stderr",
     "output_type": "stream",
     "text": [
      "INFO\tTask(Task-2) nodify.node.139719887493248:node.py:get()- No need to evaluate\n"
     ]
    },
    {
     "name": "stderr",
     "output_type": "stream",
     "text": [
      "INFO\tTask(Task-2) nodify.node.139719887495984:node.py:get()- Evaluated because inputs changed.\n"
     ]
    },
    {
     "name": "stderr",
     "output_type": "stream",
     "text": [
      "INFO\tTask(Task-2) nodify.node.139719887496416:node.py:get()- Evaluated because inputs changed.\n"
     ]
    },
    {
     "name": "stderr",
     "output_type": "stream",
     "text": [
      "INFO\tTask(Task-2) nodify.node.139719887499680:node.py:get()- Evaluated because inputs changed.\n"
     ]
    },
    {
     "name": "stderr",
     "output_type": "stream",
     "text": [
      "INFO\tTask(Task-2) nodify.node.139719887500160:node.py:get()- Evaluated because inputs changed.\n"
     ]
    },
    {
     "data": {
      "application/vnd.plotly.v1+json": {
       "config": {
        "plotlyServerURL": "https://plot.ly"
       },
       "data": [
        {
         "coloraxis": "coloraxis",
         "meta": {},
         "opacity": 1,
         "texttemplate": "%{z:.2f}",
         "type": "heatmap",
         "z": {
          "bdata": "Avu7mQ5T77+Il6ltAra0v6Rvh+pFl+i/ICFqDy/0lT8gU05A3ibWvwAAAAAAAPh/AAAAAAAA+H8AAAAAAAD4fwAAAAAAAPh/Lm+rIj31kD8AAAAAAAD4fwAAAAAAAPh/AAAAAAAA+H8AAAAAAAD4fwAAAAAAAPh/iJepbQK2tL9YbZVl3AvNPwNX0+u4XeM/vHBtbIR6yL9apZkXjlvovwAAAAAAAPh/AAAAAAAA+H8AAAAAAAD4fwAAAAAAAPh/ANBjXxMRnb8AAAAAAAD4fwAAAAAAAPh/AAAAAAAA+H8AAAAAAAD4fwAAAAAAAPh/pG+H6kWX6L8DV9PruF3jP4LHzQCDsO6/rEhCIALF1L8IrEZ53jS3vwAAAAAAAPh/AAAAAAAA+H8AAAAAAAD4fwAAAAAAAPh/q3hpZP5YoD8AAAAAAAD4fwAAAAAAAPh/AAAAAAAA+H8AAAAAAAD4fwAAAAAAAPh/ICFqDy/0lT+8cG1shHrIv6xIQiACxdS/ZGxmyqzS1T+ALeMXET69PwAAAAAAAPh/AAAAAAAA+H8AAAAAAAD4fwAAAAAAAPh/VWav5R6nwT8AAAAAAAD4fwAAAAAAAPh/AAAAAAAA+H8AAAAAAAD4fwAAAAAAAPh/IFNOQN4m1r9apZkXjlvovwisRnneNLe/gC3jFxE+vT+IG2VUNzbGvwAAAAAAAPh/AAAAAAAA+H8AAAAAAAD4fwAAAAAAAPh/AAAAAAAA+H8ub6siPfWQPwDQY18TEZ2/q3hpZP5YoD9VZq/lHqfBPwAAAAAAAPh/",
          "dtype": "f8",
          "shape": "5, 15"
         },
         "zsmooth": false
        },
        {
         "line": {
          "color": "pink",
          "dash": "dash",
          "width": 5
         },
         "meta": {},
         "mode": "lines",
         "name": "orbitals separators",
         "opacity": 0.8,
         "showlegend": false,
         "type": "scatter",
         "x": {
          "bdata": "AAAAAAAA4L8AAAAAAAASQAAAAAAAAPh/AAAAAAAA4D8AAAAAAADgPwAAAAAAAPh/",
          "dtype": "f8"
         },
         "y": {
          "bdata": "AAAAAAAA4D8AAAAAAADgPwAAAAAAAPh/AAAAAAAA4L8AAAAAAAASQAAAAAAAAPh/",
          "dtype": "f8"
         }
        },
        {
         "line": {
          "color": "gray"
         },
         "meta": {},
         "mode": "lines",
         "name": "atoms separators",
         "opacity": 1,
         "showlegend": false,
         "type": "scatter",
         "x": {
          "bdata": "AAAAAAAA4L8AAAAAAAASQAAAAAAAAPh/AAAAAAAADEAAAAAAAAAMQAAAAAAAAPh/",
          "dtype": "f8"
         },
         "y": {
          "bdata": "AAAAAAAADEAAAAAAAAAMQAAAAAAAAPh/AAAAAAAA4L8AAAAAAAASQAAAAAAAAPh/",
          "dtype": "f8"
         }
        }
       ],
       "layout": {
        "coloraxis": {
         "cmid": 0,
         "colorscale": [
          [
           0.0,
           "rgb(0, 147, 146)"
          ],
          [
           0.16666666666666666,
           "rgb(57, 177, 133)"
          ],
          [
           0.3333333333333333,
           "rgb(156, 203, 134)"
          ],
          [
           0.5,
           "rgb(233, 226, 156)"
          ],
          [
           0.6666666666666666,
           "rgb(238, 180, 121)"
          ],
          [
           0.8333333333333334,
           "rgb(232, 132, 113)"
          ],
          [
           1.0,
           "rgb(207, 89, 126)"
          ]
         ],
         "showscale": true
        },
        "scene": {
         "aspectmode": "data",
         "xaxis": {
          "range": [
           -0.5,
           14.5
          ]
         },
         "yaxis": {
          "range": [
           4.5,
           -0.5
          ]
         }
        },
        "template": {
         "layout": {
          "hovermode": "closest",
          "paper_bgcolor": "white",
          "plot_bgcolor": "white",
          "scene": {
           "xaxis": {
            "color": "black",
            "gridcolor": "#ccc",
            "gridwidth": 1,
            "linewidth": 1,
            "mirror": true,
            "showgrid": false,
            "showline": true,
            "ticklen": 5,
            "ticks": "outside",
            "ticksuffix": " ",
            "visible": true,
            "zeroline": false,
            "zerolinecolor": "#ccc",
            "zerolinewidth": 1
           },
           "yaxis": {
            "color": "black",
            "gridcolor": "#ccc",
            "gridwidth": 1,
            "linewidth": 1,
            "mirror": true,
            "showgrid": false,
            "showline": true,
            "ticklen": 5,
            "ticks": "outside",
            "ticksuffix": " ",
            "visible": true,
            "zeroline": false,
            "zerolinecolor": "#ccc",
            "zerolinewidth": 1
           },
           "zaxis": {
            "color": "black",
            "gridcolor": "#ccc",
            "gridwidth": 1,
            "linewidth": 1,
            "mirror": true,
            "showgrid": false,
            "showline": true,
            "ticklen": 5,
            "ticks": "outside",
            "ticksuffix": " ",
            "visible": true,
            "zeroline": false,
            "zerolinecolor": "#ccc",
            "zerolinewidth": 1
           }
          },
          "xaxis": {
           "color": "black",
           "gridcolor": "#ccc",
           "gridwidth": 1,
           "linewidth": 1,
           "mirror": true,
           "showgrid": false,
           "showline": true,
           "ticklen": 5,
           "ticks": "outside",
           "ticksuffix": " ",
           "visible": true,
           "zeroline": false,
           "zerolinecolor": "#ccc",
           "zerolinewidth": 1
          },
          "yaxis": {
           "color": "black",
           "gridcolor": "#ccc",
           "gridwidth": 1,
           "linewidth": 1,
           "mirror": true,
           "showgrid": false,
           "showline": true,
           "ticklen": 5,
           "ticks": "outside",
           "ticksuffix": " ",
           "visible": true,
           "zeroline": false,
           "zerolinecolor": "#ccc",
           "zerolinewidth": 1
          }
         }
        },
        "xaxis": {
         "constrain": "domain",
         "range": [
          -0.5,
          14.5
         ],
         "scaleanchor": "y",
         "scaleratio": 1
        },
        "yaxis": {
         "constrain": "domain",
         "range": [
          4.5,
          -0.5
         ]
        }
       }
      }
     },
     "metadata": {},
     "output_type": "display_data"
    }
   ],
   "source": [
    "plot.update_inputs(isc=None)"
   ]
  },
  {
   "cell_type": "markdown",
   "metadata": {},
   "source": [
    "## Arrows\n",
    "\n",
    "One can ask for an arrow to be drawn on each matrix element. You are free to represent whatever you like as arrows.\n",
    "\n",
    "The arrow specification works the same as for atom arrows in `GeometryPlot`. It is a dictionary with the key `data` containing the arrow data and the styling keys (`color`, `width`, `opacity`...) to tweak the style.\n",
    "\n",
    "However, there is one main difference. If `data` is skipped, vertical arrows are drawn, with the value of the corresponding matrix element defining the length of the arrow:"
   ]
  },
  {
   "cell_type": "code",
   "execution_count": 18,
   "metadata": {
    "execution": {
     "iopub.execute_input": "2025-08-14T08:48:49.720367Z",
     "iopub.status.busy": "2025-08-14T08:48:49.720143Z",
     "iopub.status.idle": "2025-08-14T08:48:51.568834Z",
     "shell.execute_reply": "2025-08-14T08:48:51.568200Z"
    },
    "tags": [
     "nbsphinx-thumbnail"
    ]
   },
   "outputs": [
    {
     "name": "stderr",
     "output_type": "stream",
     "text": [
      "INFO\tTask(Task-2) nodify.node.139719887494400:node.py:get()- No need to evaluate\n"
     ]
    },
    {
     "name": "stderr",
     "output_type": "stream",
     "text": [
      "INFO\tTask(Task-2) nodify.node.139719887489120:node.py:get()- No need to evaluate\n"
     ]
    },
    {
     "name": "stderr",
     "output_type": "stream",
     "text": [
      "INFO\tTask(Task-2) nodify.node.139719887488064:node.py:get()- No need to evaluate\n"
     ]
    },
    {
     "name": "stderr",
     "output_type": "stream",
     "text": [
      "INFO\tTask(Task-2) nodify.node.139719887489552:node.py:get()- No need to evaluate\n"
     ]
    },
    {
     "name": "stderr",
     "output_type": "stream",
     "text": [
      "INFO\tTask(Task-2) nodify.node.139719887489504:node.py:get()- No need to evaluate\n"
     ]
    },
    {
     "name": "stderr",
     "output_type": "stream",
     "text": [
      "INFO\tTask(Task-2) nodify.node.139719887496176:node.py:get()- No need to evaluate\n"
     ]
    },
    {
     "name": "stderr",
     "output_type": "stream",
     "text": [
      "INFO\tTask(Task-2) nodify.node.139719887491328:node.py:get()- No need to evaluate\n"
     ]
    },
    {
     "name": "stderr",
     "output_type": "stream",
     "text": [
      "INFO\tTask(Task-2) nodify.node.139719887491712:node.py:get()- No need to evaluate\n"
     ]
    },
    {
     "name": "stderr",
     "output_type": "stream",
     "text": [
      "INFO\tTask(Task-2) nodify.node.139719887489120:node.py:get()- No need to evaluate\n"
     ]
    },
    {
     "name": "stderr",
     "output_type": "stream",
     "text": [
      "INFO\tTask(Task-2) nodify.node.139719887492096:node.py:get()- No need to evaluate\n"
     ]
    },
    {
     "name": "stderr",
     "output_type": "stream",
     "text": [
      "INFO\tTask(Task-2) nodify.node.139719887491712:node.py:get()- No need to evaluate\n"
     ]
    },
    {
     "name": "stderr",
     "output_type": "stream",
     "text": [
      "INFO\tTask(Task-2) nodify.node.139719887497472:node.py:get()- No need to evaluate\n"
     ]
    },
    {
     "name": "stderr",
     "output_type": "stream",
     "text": [
      "INFO\tTask(Task-2) nodify.node.139719887490944:node.py:get()- No need to evaluate\n"
     ]
    },
    {
     "name": "stderr",
     "output_type": "stream",
     "text": [
      "INFO\tTask(Task-2) nodify.node.139719887492480:node.py:get()- No need to evaluate\n"
     ]
    },
    {
     "name": "stderr",
     "output_type": "stream",
     "text": [
      "INFO\tTask(Task-2) nodify.node.139719887492864:node.py:get()- No need to evaluate\n"
     ]
    },
    {
     "name": "stderr",
     "output_type": "stream",
     "text": [
      "INFO\tTask(Task-2) nodify.node.139719887497376:node.py:get()- No need to evaluate\n"
     ]
    },
    {
     "name": "stderr",
     "output_type": "stream",
     "text": [
      "INFO\tTask(Task-2) nodify.node.139719887489120:node.py:get()- No need to evaluate\n"
     ]
    },
    {
     "name": "stderr",
     "output_type": "stream",
     "text": [
      "INFO\tTask(Task-2) nodify.node.139719887488064:node.py:get()- No need to evaluate\n"
     ]
    },
    {
     "name": "stderr",
     "output_type": "stream",
     "text": [
      "INFO\tTask(Task-2) nodify.node.139719887489552:node.py:get()- No need to evaluate\n"
     ]
    },
    {
     "name": "stderr",
     "output_type": "stream",
     "text": [
      "INFO\tTask(Task-2) nodify.node.139719887489504:node.py:get()- No need to evaluate\n"
     ]
    },
    {
     "name": "stderr",
     "output_type": "stream",
     "text": [
      "INFO\tTask(Task-2) nodify.node.139719887496176:node.py:get()- No need to evaluate\n"
     ]
    },
    {
     "name": "stderr",
     "output_type": "stream",
     "text": [
      "INFO\tTask(Task-2) nodify.node.139719887494016:node.py:get()- Evaluated because inputs changed.\n"
     ]
    },
    {
     "name": "stderr",
     "output_type": "stream",
     "text": [
      "INFO\tTask(Task-2) nodify.node.139719887498144:node.py:get()- Evaluated because inputs changed.\n"
     ]
    },
    {
     "name": "stderr",
     "output_type": "stream",
     "text": [
      "INFO\tTask(Task-2) nodify.node.139719887497520:node.py:get()- Evaluated because inputs changed.\n"
     ]
    },
    {
     "name": "stderr",
     "output_type": "stream",
     "text": [
      "INFO\tTask(Task-2) nodify.node.139719887489168:node.py:get()- No need to evaluate\n"
     ]
    },
    {
     "name": "stderr",
     "output_type": "stream",
     "text": [
      "INFO\tTask(Task-2) nodify.node.139719887489120:node.py:get()- No need to evaluate\n"
     ]
    },
    {
     "name": "stderr",
     "output_type": "stream",
     "text": [
      "INFO\tTask(Task-2) nodify.node.139719887489744:node.py:get()- No need to evaluate\n"
     ]
    },
    {
     "name": "stderr",
     "output_type": "stream",
     "text": [
      "INFO\tTask(Task-2) nodify.node.139719887495696:node.py:get()- No need to evaluate\n"
     ]
    },
    {
     "name": "stderr",
     "output_type": "stream",
     "text": [
      "INFO\tTask(Task-2) nodify.node.139719887489120:node.py:get()- No need to evaluate\n"
     ]
    },
    {
     "name": "stderr",
     "output_type": "stream",
     "text": [
      "INFO\tTask(Task-2) nodify.node.139719887496272:node.py:get()- No need to evaluate\n"
     ]
    },
    {
     "name": "stderr",
     "output_type": "stream",
     "text": [
      "INFO\tTask(Task-2) nodify.node.139719887498192:node.py:get()- No need to evaluate\n"
     ]
    },
    {
     "name": "stderr",
     "output_type": "stream",
     "text": [
      "INFO\tTask(Task-2) nodify.node.139719887490128:node.py:get()- No need to evaluate\n"
     ]
    },
    {
     "name": "stderr",
     "output_type": "stream",
     "text": [
      "INFO\tTask(Task-2) nodify.node.139719887489120:node.py:get()- No need to evaluate\n"
     ]
    },
    {
     "name": "stderr",
     "output_type": "stream",
     "text": [
      "INFO\tTask(Task-2) nodify.node.139719887489744:node.py:get()- No need to evaluate\n"
     ]
    },
    {
     "name": "stderr",
     "output_type": "stream",
     "text": [
      "INFO\tTask(Task-2) nodify.node.139719887495696:node.py:get()- No need to evaluate\n"
     ]
    },
    {
     "name": "stderr",
     "output_type": "stream",
     "text": [
      "INFO\tTask(Task-2) nodify.node.139719887489120:node.py:get()- No need to evaluate\n"
     ]
    },
    {
     "name": "stderr",
     "output_type": "stream",
     "text": [
      "INFO\tTask(Task-2) nodify.node.139719887496272:node.py:get()- No need to evaluate\n"
     ]
    },
    {
     "name": "stderr",
     "output_type": "stream",
     "text": [
      "INFO\tTask(Task-2) nodify.node.139719887498864:node.py:get()- No need to evaluate\n"
     ]
    },
    {
     "name": "stderr",
     "output_type": "stream",
     "text": [
      "INFO\tTask(Task-2) nodify.node.139719887490512:node.py:get()- No need to evaluate\n"
     ]
    },
    {
     "name": "stderr",
     "output_type": "stream",
     "text": [
      "INFO\tTask(Task-2) nodify.node.139719887489120:node.py:get()- No need to evaluate\n"
     ]
    },
    {
     "name": "stderr",
     "output_type": "stream",
     "text": [
      "INFO\tTask(Task-2) nodify.node.139719887489744:node.py:get()- No need to evaluate\n"
     ]
    },
    {
     "name": "stderr",
     "output_type": "stream",
     "text": [
      "INFO\tTask(Task-2) nodify.node.139719887495696:node.py:get()- No need to evaluate\n"
     ]
    },
    {
     "name": "stderr",
     "output_type": "stream",
     "text": [
      "INFO\tTask(Task-2) nodify.node.139719887489120:node.py:get()- No need to evaluate\n"
     ]
    },
    {
     "name": "stderr",
     "output_type": "stream",
     "text": [
      "INFO\tTask(Task-2) nodify.node.139719887496272:node.py:get()- No need to evaluate\n"
     ]
    },
    {
     "name": "stderr",
     "output_type": "stream",
     "text": [
      "INFO\tTask(Task-2) nodify.node.139719887499200:node.py:get()- No need to evaluate\n"
     ]
    },
    {
     "name": "stderr",
     "output_type": "stream",
     "text": [
      "INFO\tTask(Task-2) nodify.node.139719887489120:node.py:get()- No need to evaluate\n"
     ]
    },
    {
     "name": "stderr",
     "output_type": "stream",
     "text": [
      "INFO\tTask(Task-2) nodify.node.139719887488064:node.py:get()- No need to evaluate\n"
     ]
    },
    {
     "name": "stderr",
     "output_type": "stream",
     "text": [
      "INFO\tTask(Task-2) nodify.node.139719887489552:node.py:get()- No need to evaluate\n"
     ]
    },
    {
     "name": "stderr",
     "output_type": "stream",
     "text": [
      "INFO\tTask(Task-2) nodify.node.139719887489504:node.py:get()- No need to evaluate\n"
     ]
    },
    {
     "name": "stderr",
     "output_type": "stream",
     "text": [
      "INFO\tTask(Task-2) nodify.node.139719887496176:node.py:get()- No need to evaluate\n"
     ]
    },
    {
     "name": "stderr",
     "output_type": "stream",
     "text": [
      "INFO\tTask(Task-2) nodify.node.139719887489120:node.py:get()- No need to evaluate\n"
     ]
    },
    {
     "name": "stderr",
     "output_type": "stream",
     "text": [
      "INFO\tTask(Task-2) nodify.node.139719887489744:node.py:get()- No need to evaluate\n"
     ]
    },
    {
     "name": "stderr",
     "output_type": "stream",
     "text": [
      "INFO\tTask(Task-2) nodify.node.139719887495696:node.py:get()- No need to evaluate\n"
     ]
    },
    {
     "name": "stderr",
     "output_type": "stream",
     "text": [
      "INFO\tTask(Task-2) nodify.node.139719887489120:node.py:get()- No need to evaluate\n"
     ]
    },
    {
     "name": "stderr",
     "output_type": "stream",
     "text": [
      "INFO\tTask(Task-2) nodify.node.139719887496272:node.py:get()- No need to evaluate\n"
     ]
    },
    {
     "name": "stderr",
     "output_type": "stream",
     "text": [
      "INFO\tTask(Task-2) nodify.node.139719887493632:node.py:get()- No need to evaluate\n"
     ]
    },
    {
     "name": "stderr",
     "output_type": "stream",
     "text": [
      "INFO\tTask(Task-2) nodify.node.139719887493248:node.py:get()- No need to evaluate\n"
     ]
    },
    {
     "name": "stderr",
     "output_type": "stream",
     "text": [
      "INFO\tTask(Task-2) nodify.node.139719887495984:node.py:get()- No need to evaluate\n"
     ]
    },
    {
     "name": "stderr",
     "output_type": "stream",
     "text": [
      "INFO\tTask(Task-2) nodify.node.139719887496416:node.py:get()- Evaluated because inputs changed.\n"
     ]
    },
    {
     "name": "stderr",
     "output_type": "stream",
     "text": [
      "INFO\tTask(Task-2) nodify.node.139719887499680:node.py:get()- Evaluated because inputs changed.\n"
     ]
    },
    {
     "name": "stderr",
     "output_type": "stream",
     "text": [
      "INFO\tTask(Task-2) nodify.node.139719887500160:node.py:get()- Evaluated because inputs changed.\n"
     ]
    },
    {
     "data": {
      "image/png": "[encoded data removed]"
     },
     "metadata": {},
     "output_type": "display_data"
    }
   ],
   "source": [
    "plot.update_inputs(arrows={\"color\": \"blue\"}).show(\"png\")"
   ]
  },
  {
   "cell_type": "markdown",
   "metadata": {},
   "source": [
    "**Arrows are normalized so that they fit the box** of their matrix element.\n",
    "\n",
    "It may be that pixel colors and numbers make it difficult to visualize the arrows. In that case, you can disable them both. We have already seen how to disable text. For pixel colors there's the `color_pixels` input, which is a switch to turn them on or off:"
   ]
  },
  {
   "cell_type": "code",
   "execution_count": 19,
   "metadata": {
    "execution": {
     "iopub.execute_input": "2025-08-14T08:48:51.570658Z",
     "iopub.status.busy": "2025-08-14T08:48:51.570461Z",
     "iopub.status.idle": "2025-08-14T08:48:51.714796Z",
     "shell.execute_reply": "2025-08-14T08:48:51.714299Z"
    }
   },
   "outputs": [
    {
     "name": "stderr",
     "output_type": "stream",
     "text": [
      "INFO\tTask(Task-2) nodify.node.139719887494400:node.py:get()- No need to evaluate\n"
     ]
    },
    {
     "name": "stderr",
     "output_type": "stream",
     "text": [
      "INFO\tTask(Task-2) nodify.node.139719887489120:node.py:get()- No need to evaluate\n"
     ]
    },
    {
     "name": "stderr",
     "output_type": "stream",
     "text": [
      "INFO\tTask(Task-2) nodify.node.139719887488064:node.py:get()- No need to evaluate\n"
     ]
    },
    {
     "name": "stderr",
     "output_type": "stream",
     "text": [
      "INFO\tTask(Task-2) nodify.node.139719887489552:node.py:get()- No need to evaluate\n"
     ]
    },
    {
     "name": "stderr",
     "output_type": "stream",
     "text": [
      "INFO\tTask(Task-2) nodify.node.139719887489504:node.py:get()- No need to evaluate\n"
     ]
    },
    {
     "name": "stderr",
     "output_type": "stream",
     "text": [
      "INFO\tTask(Task-2) nodify.node.139719887496176:node.py:get()- No need to evaluate\n"
     ]
    },
    {
     "name": "stderr",
     "output_type": "stream",
     "text": [
      "INFO\tTask(Task-2) nodify.node.139719887491328:node.py:get()- No need to evaluate\n"
     ]
    },
    {
     "name": "stderr",
     "output_type": "stream",
     "text": [
      "INFO\tTask(Task-2) nodify.node.139719887491712:node.py:get()- No need to evaluate\n"
     ]
    },
    {
     "name": "stderr",
     "output_type": "stream",
     "text": [
      "INFO\tTask(Task-2) nodify.node.139719887489120:node.py:get()- No need to evaluate\n"
     ]
    },
    {
     "name": "stderr",
     "output_type": "stream",
     "text": [
      "INFO\tTask(Task-2) nodify.node.139719887492096:node.py:get()- No need to evaluate\n"
     ]
    },
    {
     "name": "stderr",
     "output_type": "stream",
     "text": [
      "INFO\tTask(Task-2) nodify.node.139719887491712:node.py:get()- No need to evaluate\n"
     ]
    },
    {
     "name": "stderr",
     "output_type": "stream",
     "text": [
      "INFO\tTask(Task-2) nodify.node.139719887497472:node.py:get()- No need to evaluate\n"
     ]
    },
    {
     "name": "stderr",
     "output_type": "stream",
     "text": [
      "INFO\tTask(Task-2) nodify.node.139719887490944:node.py:get()- Evaluated because inputs changed.\n"
     ]
    },
    {
     "name": "stderr",
     "output_type": "stream",
     "text": [
      "INFO\tTask(Task-2) nodify.node.139719887492480:node.py:get()- Evaluated because inputs changed.\n"
     ]
    },
    {
     "name": "stderr",
     "output_type": "stream",
     "text": [
      "INFO\tTask(Task-2) nodify.node.139719887492864:node.py:get()- No need to evaluate\n"
     ]
    },
    {
     "name": "stderr",
     "output_type": "stream",
     "text": [
      "INFO\tTask(Task-2) nodify.node.139719887497376:node.py:get()- Evaluated because inputs changed.\n"
     ]
    },
    {
     "name": "stderr",
     "output_type": "stream",
     "text": [
      "INFO\tTask(Task-2) nodify.node.139719887489120:node.py:get()- No need to evaluate\n"
     ]
    },
    {
     "name": "stderr",
     "output_type": "stream",
     "text": [
      "INFO\tTask(Task-2) nodify.node.139719887488064:node.py:get()- No need to evaluate\n"
     ]
    },
    {
     "name": "stderr",
     "output_type": "stream",
     "text": [
      "INFO\tTask(Task-2) nodify.node.139719887489552:node.py:get()- No need to evaluate\n"
     ]
    },
    {
     "name": "stderr",
     "output_type": "stream",
     "text": [
      "INFO\tTask(Task-2) nodify.node.139719887489504:node.py:get()- No need to evaluate\n"
     ]
    },
    {
     "name": "stderr",
     "output_type": "stream",
     "text": [
      "INFO\tTask(Task-2) nodify.node.139719887496176:node.py:get()- No need to evaluate\n"
     ]
    },
    {
     "name": "stderr",
     "output_type": "stream",
     "text": [
      "INFO\tTask(Task-2) nodify.node.139719887494016:node.py:get()- No need to evaluate\n"
     ]
    },
    {
     "name": "stderr",
     "output_type": "stream",
     "text": [
      "INFO\tTask(Task-2) nodify.node.139719887498144:node.py:get()- No need to evaluate\n"
     ]
    },
    {
     "name": "stderr",
     "output_type": "stream",
     "text": [
      "INFO\tTask(Task-2) nodify.node.139719887497520:node.py:get()- No need to evaluate\n"
     ]
    },
    {
     "name": "stderr",
     "output_type": "stream",
     "text": [
      "INFO\tTask(Task-2) nodify.node.139719887489168:node.py:get()- No need to evaluate\n"
     ]
    },
    {
     "name": "stderr",
     "output_type": "stream",
     "text": [
      "INFO\tTask(Task-2) nodify.node.139719887489120:node.py:get()- No need to evaluate\n"
     ]
    },
    {
     "name": "stderr",
     "output_type": "stream",
     "text": [
      "INFO\tTask(Task-2) nodify.node.139719887489744:node.py:get()- No need to evaluate\n"
     ]
    },
    {
     "name": "stderr",
     "output_type": "stream",
     "text": [
      "INFO\tTask(Task-2) nodify.node.139719887495696:node.py:get()- No need to evaluate\n"
     ]
    },
    {
     "name": "stderr",
     "output_type": "stream",
     "text": [
      "INFO\tTask(Task-2) nodify.node.139719887489120:node.py:get()- No need to evaluate\n"
     ]
    },
    {
     "name": "stderr",
     "output_type": "stream",
     "text": [
      "INFO\tTask(Task-2) nodify.node.139719887496272:node.py:get()- No need to evaluate\n"
     ]
    },
    {
     "name": "stderr",
     "output_type": "stream",
     "text": [
      "INFO\tTask(Task-2) nodify.node.139719887498192:node.py:get()- No need to evaluate\n"
     ]
    },
    {
     "name": "stderr",
     "output_type": "stream",
     "text": [
      "INFO\tTask(Task-2) nodify.node.139719887490128:node.py:get()- No need to evaluate\n"
     ]
    },
    {
     "name": "stderr",
     "output_type": "stream",
     "text": [
      "INFO\tTask(Task-2) nodify.node.139719887489120:node.py:get()- No need to evaluate\n"
     ]
    },
    {
     "name": "stderr",
     "output_type": "stream",
     "text": [
      "INFO\tTask(Task-2) nodify.node.139719887489744:node.py:get()- No need to evaluate\n"
     ]
    },
    {
     "name": "stderr",
     "output_type": "stream",
     "text": [
      "INFO\tTask(Task-2) nodify.node.139719887495696:node.py:get()- No need to evaluate\n"
     ]
    },
    {
     "name": "stderr",
     "output_type": "stream",
     "text": [
      "INFO\tTask(Task-2) nodify.node.139719887489120:node.py:get()- No need to evaluate\n"
     ]
    },
    {
     "name": "stderr",
     "output_type": "stream",
     "text": [
      "INFO\tTask(Task-2) nodify.node.139719887496272:node.py:get()- No need to evaluate\n"
     ]
    },
    {
     "name": "stderr",
     "output_type": "stream",
     "text": [
      "INFO\tTask(Task-2) nodify.node.139719887498864:node.py:get()- No need to evaluate\n"
     ]
    },
    {
     "name": "stderr",
     "output_type": "stream",
     "text": [
      "INFO\tTask(Task-2) nodify.node.139719887490512:node.py:get()- No need to evaluate\n"
     ]
    },
    {
     "name": "stderr",
     "output_type": "stream",
     "text": [
      "INFO\tTask(Task-2) nodify.node.139719887489120:node.py:get()- No need to evaluate\n"
     ]
    },
    {
     "name": "stderr",
     "output_type": "stream",
     "text": [
      "INFO\tTask(Task-2) nodify.node.139719887489744:node.py:get()- No need to evaluate\n"
     ]
    },
    {
     "name": "stderr",
     "output_type": "stream",
     "text": [
      "INFO\tTask(Task-2) nodify.node.139719887495696:node.py:get()- No need to evaluate\n"
     ]
    },
    {
     "name": "stderr",
     "output_type": "stream",
     "text": [
      "INFO\tTask(Task-2) nodify.node.139719887489120:node.py:get()- No need to evaluate\n"
     ]
    },
    {
     "name": "stderr",
     "output_type": "stream",
     "text": [
      "INFO\tTask(Task-2) nodify.node.139719887496272:node.py:get()- No need to evaluate\n"
     ]
    },
    {
     "name": "stderr",
     "output_type": "stream",
     "text": [
      "INFO\tTask(Task-2) nodify.node.139719887499200:node.py:get()- No need to evaluate\n"
     ]
    },
    {
     "name": "stderr",
     "output_type": "stream",
     "text": [
      "INFO\tTask(Task-2) nodify.node.139719887489120:node.py:get()- No need to evaluate\n"
     ]
    },
    {
     "name": "stderr",
     "output_type": "stream",
     "text": [
      "INFO\tTask(Task-2) nodify.node.139719887488064:node.py:get()- No need to evaluate\n"
     ]
    },
    {
     "name": "stderr",
     "output_type": "stream",
     "text": [
      "INFO\tTask(Task-2) nodify.node.139719887489552:node.py:get()- No need to evaluate\n"
     ]
    },
    {
     "name": "stderr",
     "output_type": "stream",
     "text": [
      "INFO\tTask(Task-2) nodify.node.139719887489504:node.py:get()- No need to evaluate\n"
     ]
    },
    {
     "name": "stderr",
     "output_type": "stream",
     "text": [
      "INFO\tTask(Task-2) nodify.node.139719887496176:node.py:get()- No need to evaluate\n"
     ]
    },
    {
     "name": "stderr",
     "output_type": "stream",
     "text": [
      "INFO\tTask(Task-2) nodify.node.139719887489120:node.py:get()- No need to evaluate\n"
     ]
    },
    {
     "name": "stderr",
     "output_type": "stream",
     "text": [
      "INFO\tTask(Task-2) nodify.node.139719887489744:node.py:get()- No need to evaluate\n"
     ]
    },
    {
     "name": "stderr",
     "output_type": "stream",
     "text": [
      "INFO\tTask(Task-2) nodify.node.139719887495696:node.py:get()- No need to evaluate\n"
     ]
    },
    {
     "name": "stderr",
     "output_type": "stream",
     "text": [
      "INFO\tTask(Task-2) nodify.node.139719887489120:node.py:get()- No need to evaluate\n"
     ]
    },
    {
     "name": "stderr",
     "output_type": "stream",
     "text": [
      "INFO\tTask(Task-2) nodify.node.139719887496272:node.py:get()- No need to evaluate\n"
     ]
    },
    {
     "name": "stderr",
     "output_type": "stream",
     "text": [
      "INFO\tTask(Task-2) nodify.node.139719887493632:node.py:get()- No need to evaluate\n"
     ]
    },
    {
     "name": "stderr",
     "output_type": "stream",
     "text": [
      "INFO\tTask(Task-2) nodify.node.139719887493248:node.py:get()- No need to evaluate\n"
     ]
    },
    {
     "name": "stderr",
     "output_type": "stream",
     "text": [
      "INFO\tTask(Task-2) nodify.node.139719887495984:node.py:get()- No need to evaluate\n"
     ]
    },
    {
     "name": "stderr",
     "output_type": "stream",
     "text": [
      "INFO\tTask(Task-2) nodify.node.139719887496416:node.py:get()- Evaluated because inputs changed.\n"
     ]
    },
    {
     "name": "stderr",
     "output_type": "stream",
     "text": [
      "INFO\tTask(Task-2) nodify.node.139719887499680:node.py:get()- Evaluated because inputs changed.\n"
     ]
    },
    {
     "name": "stderr",
     "output_type": "stream",
     "text": [
      "INFO\tTask(Task-2) nodify.node.139719887500160:node.py:get()- Evaluated because inputs changed.\n"
     ]
    },
    {
     "data": {
      "application/vnd.plotly.v1+json": {
       "config": {
        "plotlyServerURL": "https://plot.ly"
       },
       "data": [
        {
         "coloraxis": "coloraxis",
         "meta": {},
         "opacity": 0,
         "textfont": {
          "color": "black"
         },
         "type": "heatmap",
         "z": {
          "bdata": "Avu7mQ5T77+Il6ltAra0v6Rvh+pFl+i/ICFqDy/0lT8gU05A3ibWvwAAAAAAAPh/AAAAAAAA+H8AAAAAAAD4fwAAAAAAAPh/Lm+rIj31kD8AAAAAAAD4fwAAAAAAAPh/AAAAAAAA+H8AAAAAAAD4fwAAAAAAAPh/iJepbQK2tL9YbZVl3AvNPwNX0+u4XeM/vHBtbIR6yL9apZkXjlvovwAAAAAAAPh/AAAAAAAA+H8AAAAAAAD4fwAAAAAAAPh/ANBjXxMRnb8AAAAAAAD4fwAAAAAAAPh/AAAAAAAA+H8AAAAAAAD4fwAAAAAAAPh/pG+H6kWX6L8DV9PruF3jP4LHzQCDsO6/rEhCIALF1L8IrEZ53jS3vwAAAAAAAPh/AAAAAAAA+H8AAAAAAAD4fwAAAAAAAPh/q3hpZP5YoD8AAAAAAAD4fwAAAAAAAPh/AAAAAAAA+H8AAAAAAAD4fwAAAAAAAPh/ICFqDy/0lT+8cG1shHrIv6xIQiACxdS/ZGxmyqzS1T+ALeMXET69PwAAAAAAAPh/AAAAAAAA+H8AAAAAAAD4fwAAAAAAAPh/VWav5R6nwT8AAAAAAAD4fwAAAAAAAPh/AAAAAAAA+H8AAAAAAAD4fwAAAAAAAPh/IFNOQN4m1r9apZkXjlvovwisRnneNLe/gC3jFxE+vT+IG2VUNzbGvwAAAAAAAPh/AAAAAAAA+H8AAAAAAAD4fwAAAAAAAPh/AAAAAAAA+H8ub6siPfWQPwDQY18TEZ2/q3hpZP5YoD9VZq/lHqfBPwAAAAAAAPh/",
          "dtype": "f8",
          "shape": "5, 15"
         },
         "zsmooth": false
        },
        {
         "hovertext": [
          "[0. 1.]",
          "[0. 1.]",
          "[0. 1.]",
          "[0. 1.]",
          "[0. 1.]",
          "[0. 1.]",
          "[0. 1.]",
          "[0.         0.08264702]",
          "[0.         0.08264702]",
          "[0.         0.08264702]",
          "[0.         0.08264702]",
          "[0.         0.08264702]",
          "[0.         0.08264702]",
          "[0.         0.08264702]",
          "[0.         0.78503907]",
          "[0.         0.78503907]",
          "[0.         0.78503907]",
          "[0.         0.78503907]",
          "[0.         0.78503907]",
          "[0.         0.78503907]",
          "[0.         0.78503907]",
          "[ 0.         -0.02190167]",
          "[ 0.         -0.02190167]",
          "[ 0.         -0.02190167]",
          "[ 0.         -0.02190167]",
          "[ 0.         -0.02190167]",
          "[ 0.         -0.02190167]",
          "[ 0.         -0.02190167]",
          "[0.         0.35358697]",
          "[0.         0.35358697]",
          "[0.         0.35358697]",
          "[0.         0.35358697]",
          "[0.         0.35358697]",
          "[0.         0.35358697]",
          "[0.         0.35358697]",
          "[ 0. nan]",
          "[ 0. nan]",
          "[ 0. nan]",
          "[ 0. nan]",
          "[ 0. nan]",
          "[ 0. nan]",
          "[ 0. nan]",
          "[ 0. nan]",
          "[ 0. nan]",
          "[ 0. nan]",
          "[ 0. nan]",
          "[ 0. nan]",
          "[ 0. nan]",
          "[ 0. nan]",
          "[ 0. nan]",
          "[ 0. nan]",
          "[ 0. nan]",
          "[ 0. nan]",
          "[ 0. nan]",
          "[ 0. nan]",
          "[ 0. nan]",
          "[ 0. nan]",
          "[ 0. nan]",
          "[ 0. nan]",
          "[ 0. nan]",
          "[ 0. nan]",
          "[ 0. nan]",
          "[ 0. nan]",
          "[ 0.         -0.01691766]",
          "[ 0.         -0.01691766]",
          "[ 0.         -0.01691766]",
          "[ 0.         -0.01691766]",
          "[ 0.         -0.01691766]",
          "[ 0.         -0.01691766]",
          "[ 0.         -0.01691766]",
          "[ 0. nan]",
          "[ 0. nan]",
          "[ 0. nan]",
          "[ 0. nan]",
          "[ 0. nan]",
          "[ 0. nan]",
          "[ 0. nan]",
          "[ 0. nan]",
          "[ 0. nan]",
          "[ 0. nan]",
          "[ 0. nan]",
          "[ 0. nan]",
          "[ 0. nan]",
          "[ 0. nan]",
          "[ 0. nan]",
          "[ 0. nan]",
          "[ 0. nan]",
          "[ 0. nan]",
          "[ 0. nan]",
          "[ 0. nan]",
          "[ 0. nan]",
          "[ 0. nan]",
          "[ 0. nan]",
          "[ 0. nan]",
          "[ 0. nan]",
          "[ 0. nan]",
          "[ 0. nan]",
          "[ 0. nan]",
          "[ 0. nan]",
          "[ 0. nan]",
          "[ 0. nan]",
          "[ 0. nan]",
          "[ 0. nan]",
          "[ 0. nan]",
          "[ 0. nan]",
          "[0.         0.08264702]",
          "[0.         0.08264702]",
          "[0.         0.08264702]",
          "[0.         0.08264702]",
          "[0.         0.08264702]",
          "[0.         0.08264702]",
          "[0.         0.08264702]",
          "[ 0.         -0.23181843]",
          "[ 0.         -0.23181843]",
          "[ 0.         -0.23181843]",
          "[ 0.         -0.23181843]",
          "[ 0.         -0.23181843]",
          "[ 0.         -0.23181843]",
          "[ 0.         -0.23181843]",
          "[ 0.         -0.61824256]",
          "[ 0.         -0.61824256]",
          "[ 0.         -0.61824256]",
          "[ 0.         -0.61824256]",
          "[ 0.         -0.61824256]",
          "[ 0.         -0.61824256]",
          "[ 0.         -0.61824256]",
          "[0.         0.19536328]",
          "[0.         0.19536328]",
          "[0.         0.19536328]",
          "[0.         0.19536328]",
          "[0.         0.19536328]",
          "[0.         0.19536328]",
          "[0.         0.19536328]",
          "[0.         0.77759206]",
          "[0.         0.77759206]",
          "[0.         0.77759206]",
          "[0.         0.77759206]",
          "[0.         0.77759206]",
          "[0.         0.77759206]",
          "[0.         0.77759206]",
          "[ 0. nan]",
          "[ 0. nan]",
          "[ 0. nan]",
          "[ 0. nan]",
          "[ 0. nan]",
          "[ 0. nan]",
          "[ 0. nan]",
          "[ 0. nan]",
          "[ 0. nan]",
          "[ 0. nan]",
          "[ 0. nan]",
          "[ 0. nan]",
          "[ 0. nan]",
          "[ 0. nan]",
          "[ 0. nan]",
          "[ 0. nan]",
          "[ 0. nan]",
          "[ 0. nan]",
          "[ 0. nan]",
          "[ 0. nan]",
          "[ 0. nan]",
          "[ 0. nan]",
          "[ 0. nan]",
          "[ 0. nan]",
          "[ 0. nan]",
          "[ 0. nan]",
          "[ 0. nan]",
          "[ 0. nan]",
          "[0.         0.02899763]",
          "[0.         0.02899763]",
          "[0.         0.02899763]",
          "[0.         0.02899763]",
          "[0.         0.02899763]",
          "[0.         0.02899763]",
          "[0.         0.02899763]",
          "[ 0. nan]",
          "[ 0. nan]",
          "[ 0. nan]",
          "[ 0. nan]",
          "[ 0. nan]",
          "[ 0. nan]",
          "[ 0. nan]",
          "[ 0. nan]",
          "[ 0. nan]",
          "[ 0. nan]",
          "[ 0. nan]",
          "[ 0. nan]",
          "[ 0. nan]",
          "[ 0. nan]",
          "[ 0. nan]",
          "[ 0. nan]",
          "[ 0. nan]",
          "[ 0. nan]",
          "[ 0. nan]",
          "[ 0. nan]",
          "[ 0. nan]",
          "[ 0. nan]",
          "[ 0. nan]",
          "[ 0. nan]",
          "[ 0. nan]",
          "[ 0. nan]",
          "[ 0. nan]",
          "[ 0. nan]",
          "[ 0. nan]",
          "[ 0. nan]",
          "[ 0. nan]",
          "[ 0. nan]",
          "[ 0. nan]",
          "[ 0. nan]",
          "[ 0. nan]",
          "[0.         0.78503907]",
          "[0.         0.78503907]",
          "[0.         0.78503907]",
          "[0.         0.78503907]",
          "[0.         0.78503907]",
          "[0.         0.78503907]",
          "[0.         0.78503907]",
          "[ 0.         -0.61824256]",
          "[ 0.         -0.61824256]",
          "[ 0.         -0.61824256]",
          "[ 0.         -0.61824256]",
          "[ 0.         -0.61824256]",
          "[ 0.         -0.61824256]",
          "[ 0.         -0.61824256]",
          "[0.         0.97973012]",
          "[0.         0.97973012]",
          "[0.         0.97973012]",
          "[0.         0.97973012]",
          "[0.         0.97973012]",
          "[0.         0.97973012]",
          "[0.         0.97973012]",
          "[0.         0.33152329]",
          "[0.         0.33152329]",
          "[0.         0.33152329]",
          "[0.         0.33152329]",
          "[0.         0.33152329]",
          "[0.         0.33152329]",
          "[0.         0.33152329]",
          "[0.         0.09260548]",
          "[0.         0.09260548]",
          "[0.         0.09260548]",
          "[0.         0.09260548]",
          "[0.         0.09260548]",
          "[0.         0.09260548]",
          "[0.         0.09260548]",
          "[ 0. nan]",
          "[ 0. nan]",
          "[ 0. nan]",
          "[ 0. nan]",
          "[ 0. nan]",
          "[ 0. nan]",
          "[ 0. nan]",
          "[ 0. nan]",
          "[ 0. nan]",
          "[ 0. nan]",
          "[ 0. nan]",
          "[ 0. nan]",
          "[ 0. nan]",
          "[ 0. nan]",
          "[ 0. nan]",
          "[ 0. nan]",
          "[ 0. nan]",
          "[ 0. nan]",
          "[ 0. nan]",
          "[ 0. nan]",
          "[ 0. nan]",
          "[ 0. nan]",
          "[ 0. nan]",
          "[ 0. nan]",
          "[ 0. nan]",
          "[ 0. nan]",
          "[ 0. nan]",
          "[ 0. nan]",
          "[ 0.         -0.03261756]",
          "[ 0.         -0.03261756]",
          "[ 0.         -0.03261756]",
          "[ 0.         -0.03261756]",
          "[ 0.         -0.03261756]",
          "[ 0.         -0.03261756]",
          "[ 0.         -0.03261756]",
          "[ 0. nan]",
          "[ 0. nan]",
          "[ 0. nan]",
          "[ 0. nan]",
          "[ 0. nan]",
          "[ 0. nan]",
          "[ 0. nan]",
          "[ 0. nan]",
          "[ 0. nan]",
          "[ 0. nan]",
          "[ 0. nan]",
          "[ 0. nan]",
          "[ 0. nan]",
          "[ 0. nan]",
          "[ 0. nan]",
          "[ 0. nan]",
          "[ 0. nan]",
          "[ 0. nan]",
          "[ 0. nan]",
          "[ 0. nan]",
          "[ 0. nan]",
          "[ 0. nan]",
          "[ 0. nan]",
          "[ 0. nan]",
          "[ 0. nan]",
          "[ 0. nan]",
          "[ 0. nan]",
          "[ 0. nan]",
          "[ 0. nan]",
          "[ 0. nan]",
          "[ 0. nan]",
          "[ 0. nan]",
          "[ 0. nan]",
          "[ 0. nan]",
          "[ 0. nan]",
          "[ 0.         -0.02190167]",
          "[ 0.         -0.02190167]",
          "[ 0.         -0.02190167]",
          "[ 0.         -0.02190167]",
          "[ 0.         -0.02190167]",
          "[ 0.         -0.02190167]",
          "[ 0.         -0.02190167]",
          "[0.         0.19536328]",
          "[0.         0.19536328]",
          "[0.         0.19536328]",
          "[0.         0.19536328]",
          "[0.         0.19536328]",
          "[0.         0.19536328]",
          "[0.         0.19536328]",
          "[0.         0.33152329]",
          "[0.         0.33152329]",
          "[0.         0.33152329]",
          "[0.         0.33152329]",
          "[0.         0.33152329]",
          "[0.         0.33152329]",
          "[0.         0.33152329]",
          "[ 0.        -0.3483374]",
          "[ 0.        -0.3483374]",
          "[ 0.        -0.3483374]",
          "[ 0.        -0.3483374]",
          "[ 0.        -0.3483374]",
          "[ 0.        -0.3483374]",
          "[ 0.        -0.3483374]",
          "[ 0.         -0.11669182]",
          "[ 0.         -0.11669182]",
          "[ 0.         -0.11669182]",
          "[ 0.         -0.11669182]",
          "[ 0.         -0.11669182]",
          "[ 0.         -0.11669182]",
          "[ 0.         -0.11669182]",
          "[ 0. nan]",
          "[ 0. nan]",
          "[ 0. nan]",
          "[ 0. nan]",
          "[ 0. nan]",
          "[ 0. nan]",
          "[ 0. nan]",
          "[ 0. nan]",
          "[ 0. nan]",
          "[ 0. nan]",
          "[ 0. nan]",
          "[ 0. nan]",
          "[ 0. nan]",
          "[ 0. nan]",
          "[ 0. nan]",
          "[ 0. nan]",
          "[ 0. nan]",
          "[ 0. nan]",
          "[ 0. nan]",
          "[ 0. nan]",
          "[ 0. nan]",
          "[ 0. nan]",
          "[ 0. nan]",
          "[ 0. nan]",
          "[ 0. nan]",
          "[ 0. nan]",
          "[ 0. nan]",
          "[ 0. nan]",
          "[ 0.         -0.14088691]",
          "[ 0.         -0.14088691]",
          "[ 0.         -0.14088691]",
          "[ 0.         -0.14088691]",
          "[ 0.         -0.14088691]",
          "[ 0.         -0.14088691]",
          "[ 0.         -0.14088691]",
          "[ 0. nan]",
          "[ 0. nan]",
          "[ 0. nan]",
          "[ 0. nan]",
          "[ 0. nan]",
          "[ 0. nan]",
          "[ 0. nan]",
          "[ 0. nan]",
          "[ 0. nan]",
          "[ 0. nan]",
          "[ 0. nan]",
          "[ 0. nan]",
          "[ 0. nan]",
          "[ 0. nan]",
          "[ 0. nan]",
          "[ 0. nan]",
          "[ 0. nan]",
          "[ 0. nan]",
          "[ 0. nan]",
          "[ 0. nan]",
          "[ 0. nan]",
          "[ 0. nan]",
          "[ 0. nan]",
          "[ 0. nan]",
          "[ 0. nan]",
          "[ 0. nan]",
          "[ 0. nan]",
          "[ 0. nan]",
          "[ 0. nan]",
          "[ 0. nan]",
          "[ 0. nan]",
          "[ 0. nan]",
          "[ 0. nan]",
          "[ 0. nan]",
          "[ 0. nan]",
          "[0.         0.35358697]",
          "[0.         0.35358697]",
          "[0.         0.35358697]",
          "[0.         0.35358697]",
          "[0.         0.35358697]",
          "[0.         0.35358697]",
          "[0.         0.35358697]",
          "[0.         0.77759206]",
          "[0.         0.77759206]",
          "[0.         0.77759206]",
          "[0.         0.77759206]",
          "[0.         0.77759206]",
          "[0.         0.77759206]",
          "[0.         0.77759206]",
          "[0.         0.09260548]",
          "[0.         0.09260548]",
          "[0.         0.09260548]",
          "[0.         0.09260548]",
          "[0.         0.09260548]",
          "[0.         0.09260548]",
          "[0.         0.09260548]",
          "[ 0.         -0.11669182]",
          "[ 0.         -0.11669182]",
          "[ 0.         -0.11669182]",
          "[ 0.         -0.11669182]",
          "[ 0.         -0.11669182]",
          "[ 0.         -0.11669182]",
          "[ 0.         -0.11669182]",
          "[0.         0.17727197]",
          "[0.         0.17727197]",
          "[0.         0.17727197]",
          "[0.         0.17727197]",
          "[0.         0.17727197]",
          "[0.         0.17727197]",
          "[0.         0.17727197]",
          "[ 0. nan]",
          "[ 0. nan]",
          "[ 0. nan]",
          "[ 0. nan]",
          "[ 0. nan]",
          "[ 0. nan]",
          "[ 0. nan]",
          "[ 0. nan]",
          "[ 0. nan]",
          "[ 0. nan]",
          "[ 0. nan]",
          "[ 0. nan]",
          "[ 0. nan]",
          "[ 0. nan]",
          "[ 0. nan]",
          "[ 0. nan]",
          "[ 0. nan]",
          "[ 0. nan]",
          "[ 0. nan]",
          "[ 0. nan]",
          "[ 0. nan]",
          "[ 0. nan]",
          "[ 0. nan]",
          "[ 0. nan]",
          "[ 0. nan]",
          "[ 0. nan]",
          "[ 0. nan]",
          "[ 0. nan]",
          "[ 0. nan]",
          "[ 0. nan]",
          "[ 0. nan]",
          "[ 0. nan]",
          "[ 0. nan]",
          "[ 0. nan]",
          "[ 0. nan]",
          "[ 0.         -0.01691766]",
          "[ 0.         -0.01691766]",
          "[ 0.         -0.01691766]",
          "[ 0.         -0.01691766]",
          "[ 0.         -0.01691766]",
          "[ 0.         -0.01691766]",
          "[ 0.         -0.01691766]",
          "[0.         0.02899763]",
          "[0.         0.02899763]",
          "[0.         0.02899763]",
          "[0.         0.02899763]",
          "[0.         0.02899763]",
          "[0.         0.02899763]",
          "[0.         0.02899763]",
          "[ 0.         -0.03261756]",
          "[ 0.         -0.03261756]",
          "[ 0.         -0.03261756]",
          "[ 0.         -0.03261756]",
          "[ 0.         -0.03261756]",
          "[ 0.         -0.03261756]",
          "[ 0.         -0.03261756]",
          "[ 0.         -0.14088691]",
          "[ 0.         -0.14088691]",
          "[ 0.         -0.14088691]",
          "[ 0.         -0.14088691]",
          "[ 0.         -0.14088691]",
          "[ 0.         -0.14088691]",
          "[ 0.         -0.14088691]",
          "[ 0. nan]",
          "[ 0. nan]",
          "[ 0. nan]",
          "[ 0. nan]",
          "[ 0. nan]",
          "[ 0. nan]",
          "[ 0. nan]"
         ],
         "line": {
          "color": "blue"
         },
         "meta": {},
         "mode": "lines",
         "type": "scatter",
         "x": {
          "bdata": "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",
          "dtype": "f8"
         },
         "y": {
          "bdata": "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",
          "dtype": "f8"
         }
        },
        {
         "line": {
          "color": "pink",
          "dash": "dash",
          "width": 5
         },
         "meta": {},
         "mode": "lines",
         "name": "orbitals separators",
         "opacity": 0.8,
         "showlegend": false,
         "type": "scatter",
         "x": {
          "bdata": "AAAAAAAA4L8AAAAAAAASQAAAAAAAAPh/AAAAAAAA4D8AAAAAAADgPwAAAAAAAPh/",
          "dtype": "f8"
         },
         "y": {
          "bdata": "AAAAAAAA4D8AAAAAAADgPwAAAAAAAPh/AAAAAAAA4L8AAAAAAAASQAAAAAAAAPh/",
          "dtype": "f8"
         }
        },
        {
         "line": {
          "color": "gray"
         },
         "meta": {},
         "mode": "lines",
         "name": "atoms separators",
         "opacity": 1,
         "showlegend": false,
         "type": "scatter",
         "x": {
          "bdata": "AAAAAAAA4L8AAAAAAAASQAAAAAAAAPh/AAAAAAAADEAAAAAAAAAMQAAAAAAAAPh/",
          "dtype": "f8"
         },
         "y": {
          "bdata": "AAAAAAAADEAAAAAAAAAMQAAAAAAAAPh/AAAAAAAA4L8AAAAAAAASQAAAAAAAAPh/",
          "dtype": "f8"
         }
        }
       ],
       "layout": {
        "coloraxis": {
         "cmid": 0,
         "colorscale": [
          [
           0.0,
           "rgb(0, 147, 146)"
          ],
          [
           0.16666666666666666,
           "rgb(57, 177, 133)"
          ],
          [
           0.3333333333333333,
           "rgb(156, 203, 134)"
          ],
          [
           0.5,
           "rgb(233, 226, 156)"
          ],
          [
           0.6666666666666666,
           "rgb(238, 180, 121)"
          ],
          [
           0.8333333333333334,
           "rgb(232, 132, 113)"
          ],
          [
           1.0,
           "rgb(207, 89, 126)"
          ]
         ],
         "showscale": false
        },
        "scene": {
         "aspectmode": "data",
         "xaxis": {
          "range": [
           -0.5,
           14.5
          ]
         },
         "yaxis": {
          "range": [
           4.5,
           -0.5
          ]
         }
        },
        "template": {
         "layout": {
          "hovermode": "closest",
          "paper_bgcolor": "white",
          "plot_bgcolor": "white",
          "scene": {
           "xaxis": {
            "color": "black",
            "gridcolor": "#ccc",
            "gridwidth": 1,
            "linewidth": 1,
            "mirror": true,
            "showgrid": false,
            "showline": true,
            "ticklen": 5,
            "ticks": "outside",
            "ticksuffix": " ",
            "visible": true,
            "zeroline": false,
            "zerolinecolor": "#ccc",
            "zerolinewidth": 1
           },
           "yaxis": {
            "color": "black",
            "gridcolor": "#ccc",
            "gridwidth": 1,
            "linewidth": 1,
            "mirror": true,
            "showgrid": false,
            "showline": true,
            "ticklen": 5,
            "ticks": "outside",
            "ticksuffix": " ",
            "visible": true,
            "zeroline": false,
            "zerolinecolor": "#ccc",
            "zerolinewidth": 1
           },
           "zaxis": {
            "color": "black",
            "gridcolor": "#ccc",
            "gridwidth": 1,
            "linewidth": 1,
            "mirror": true,
            "showgrid": false,
            "showline": true,
            "ticklen": 5,
            "ticks": "outside",
            "ticksuffix": " ",
            "visible": true,
            "zeroline": false,
            "zerolinecolor": "#ccc",
            "zerolinewidth": 1
           }
          },
          "xaxis": {
           "color": "black",
           "gridcolor": "#ccc",
           "gridwidth": 1,
           "linewidth": 1,
           "mirror": true,
           "showgrid": false,
           "showline": true,
           "ticklen": 5,
           "ticks": "outside",
           "ticksuffix": " ",
           "visible": true,
           "zeroline": false,
           "zerolinecolor": "#ccc",
           "zerolinewidth": 1
          },
          "yaxis": {
           "color": "black",
           "gridcolor": "#ccc",
           "gridwidth": 1,
           "linewidth": 1,
           "mirror": true,
           "showgrid": false,
           "showline": true,
           "ticklen": 5,
           "ticks": "outside",
           "ticksuffix": " ",
           "visible": true,
           "zeroline": false,
           "zerolinecolor": "#ccc",
           "zerolinewidth": 1
          }
         }
        },
        "xaxis": {
         "constrain": "domain",
         "range": [
          -0.5,
          14.5
         ],
         "scaleanchor": "y",
         "scaleratio": 1
        },
        "yaxis": {
         "constrain": "domain",
         "range": [
          4.5,
          -0.5
         ]
        }
       }
      }
     },
     "metadata": {},
     "output_type": "display_data"
    }
   ],
   "source": [
    "plot.update_inputs(color_pixels=False, text=None)"
   ]
  },
  {
   "cell_type": "markdown",
   "metadata": {},
   "source": [
    "If you want to plot custom data for the arrows, you have to pass a sparse matrix where the last dimension is the cartesian coordinate `(X, Y)`. Let's create some random data to display it:"
   ]
  },
  {
   "cell_type": "code",
   "execution_count": 20,
   "metadata": {
    "execution": {
     "iopub.execute_input": "2025-08-14T08:48:51.716707Z",
     "iopub.status.busy": "2025-08-14T08:48:51.716516Z",
     "iopub.status.idle": "2025-08-14T08:48:51.865645Z",
     "shell.execute_reply": "2025-08-14T08:48:51.865126Z"
    }
   },
   "outputs": [
    {
     "name": "stderr",
     "output_type": "stream",
     "text": [
      "INFO\tTask(Task-2) nodify.node.139719887494400:node.py:get()- No need to evaluate\n"
     ]
    },
    {
     "name": "stderr",
     "output_type": "stream",
     "text": [
      "INFO\tTask(Task-2) nodify.node.139719887489120:node.py:get()- No need to evaluate\n"
     ]
    },
    {
     "name": "stderr",
     "output_type": "stream",
     "text": [
      "INFO\tTask(Task-2) nodify.node.139719887488064:node.py:get()- No need to evaluate\n"
     ]
    },
    {
     "name": "stderr",
     "output_type": "stream",
     "text": [
      "INFO\tTask(Task-2) nodify.node.139719887489552:node.py:get()- No need to evaluate\n"
     ]
    },
    {
     "name": "stderr",
     "output_type": "stream",
     "text": [
      "INFO\tTask(Task-2) nodify.node.139719887489504:node.py:get()- No need to evaluate\n"
     ]
    },
    {
     "name": "stderr",
     "output_type": "stream",
     "text": [
      "INFO\tTask(Task-2) nodify.node.139719887496176:node.py:get()- No need to evaluate\n"
     ]
    },
    {
     "name": "stderr",
     "output_type": "stream",
     "text": [
      "INFO\tTask(Task-2) nodify.node.139719887491328:node.py:get()- No need to evaluate\n"
     ]
    },
    {
     "name": "stderr",
     "output_type": "stream",
     "text": [
      "INFO\tTask(Task-2) nodify.node.139719887491712:node.py:get()- No need to evaluate\n"
     ]
    },
    {
     "name": "stderr",
     "output_type": "stream",
     "text": [
      "INFO\tTask(Task-2) nodify.node.139719887489120:node.py:get()- No need to evaluate\n"
     ]
    },
    {
     "name": "stderr",
     "output_type": "stream",
     "text": [
      "INFO\tTask(Task-2) nodify.node.139719887492096:node.py:get()- No need to evaluate\n"
     ]
    },
    {
     "name": "stderr",
     "output_type": "stream",
     "text": [
      "INFO\tTask(Task-2) nodify.node.139719887491712:node.py:get()- No need to evaluate\n"
     ]
    },
    {
     "name": "stderr",
     "output_type": "stream",
     "text": [
      "INFO\tTask(Task-2) nodify.node.139719887497472:node.py:get()- No need to evaluate\n"
     ]
    },
    {
     "name": "stderr",
     "output_type": "stream",
     "text": [
      "INFO\tTask(Task-2) nodify.node.139719887490944:node.py:get()- No need to evaluate\n"
     ]
    },
    {
     "name": "stderr",
     "output_type": "stream",
     "text": [
      "INFO\tTask(Task-2) nodify.node.139719887492480:node.py:get()- No need to evaluate\n"
     ]
    },
    {
     "name": "stderr",
     "output_type": "stream",
     "text": [
      "INFO\tTask(Task-2) nodify.node.139719887492864:node.py:get()- No need to evaluate\n"
     ]
    },
    {
     "name": "stderr",
     "output_type": "stream",
     "text": [
      "INFO\tTask(Task-2) nodify.node.139719887497376:node.py:get()- No need to evaluate\n"
     ]
    },
    {
     "name": "stderr",
     "output_type": "stream",
     "text": [
      "INFO\tTask(Task-2) nodify.node.139719887489120:node.py:get()- No need to evaluate\n"
     ]
    },
    {
     "name": "stderr",
     "output_type": "stream",
     "text": [
      "INFO\tTask(Task-2) nodify.node.139719887488064:node.py:get()- No need to evaluate\n"
     ]
    },
    {
     "name": "stderr",
     "output_type": "stream",
     "text": [
      "INFO\tTask(Task-2) nodify.node.139719887489552:node.py:get()- No need to evaluate\n"
     ]
    },
    {
     "name": "stderr",
     "output_type": "stream",
     "text": [
      "INFO\tTask(Task-2) nodify.node.139719887489504:node.py:get()- No need to evaluate\n"
     ]
    },
    {
     "name": "stderr",
     "output_type": "stream",
     "text": [
      "INFO\tTask(Task-2) nodify.node.139719887496176:node.py:get()- No need to evaluate\n"
     ]
    },
    {
     "name": "stderr",
     "output_type": "stream",
     "text": [
      "INFO\tTask(Task-2) nodify.node.139719887494016:node.py:get()- Evaluated because inputs changed.\n"
     ]
    },
    {
     "name": "stderr",
     "output_type": "stream",
     "text": [
      "INFO\tTask(Task-2) nodify.node.139719887498144:node.py:get()- Evaluated because inputs changed.\n"
     ]
    },
    {
     "name": "stderr",
     "output_type": "stream",
     "text": [
      "INFO\tTask(Task-2) nodify.node.139719887497520:node.py:get()- Evaluated because inputs changed.\n"
     ]
    },
    {
     "name": "stderr",
     "output_type": "stream",
     "text": [
      "INFO\tTask(Task-2) nodify.node.139719887489168:node.py:get()- No need to evaluate\n"
     ]
    },
    {
     "name": "stderr",
     "output_type": "stream",
     "text": [
      "INFO\tTask(Task-2) nodify.node.139719887489120:node.py:get()- No need to evaluate\n"
     ]
    },
    {
     "name": "stderr",
     "output_type": "stream",
     "text": [
      "INFO\tTask(Task-2) nodify.node.139719887489744:node.py:get()- No need to evaluate\n"
     ]
    },
    {
     "name": "stderr",
     "output_type": "stream",
     "text": [
      "INFO\tTask(Task-2) nodify.node.139719887495696:node.py:get()- No need to evaluate\n"
     ]
    },
    {
     "name": "stderr",
     "output_type": "stream",
     "text": [
      "INFO\tTask(Task-2) nodify.node.139719887489120:node.py:get()- No need to evaluate\n"
     ]
    },
    {
     "name": "stderr",
     "output_type": "stream",
     "text": [
      "INFO\tTask(Task-2) nodify.node.139719887496272:node.py:get()- No need to evaluate\n"
     ]
    },
    {
     "name": "stderr",
     "output_type": "stream",
     "text": [
      "INFO\tTask(Task-2) nodify.node.139719887498192:node.py:get()- No need to evaluate\n"
     ]
    },
    {
     "name": "stderr",
     "output_type": "stream",
     "text": [
      "INFO\tTask(Task-2) nodify.node.139719887490128:node.py:get()- No need to evaluate\n"
     ]
    },
    {
     "name": "stderr",
     "output_type": "stream",
     "text": [
      "INFO\tTask(Task-2) nodify.node.139719887489120:node.py:get()- No need to evaluate\n"
     ]
    },
    {
     "name": "stderr",
     "output_type": "stream",
     "text": [
      "INFO\tTask(Task-2) nodify.node.139719887489744:node.py:get()- No need to evaluate\n"
     ]
    },
    {
     "name": "stderr",
     "output_type": "stream",
     "text": [
      "INFO\tTask(Task-2) nodify.node.139719887495696:node.py:get()- No need to evaluate\n"
     ]
    },
    {
     "name": "stderr",
     "output_type": "stream",
     "text": [
      "INFO\tTask(Task-2) nodify.node.139719887489120:node.py:get()- No need to evaluate\n"
     ]
    },
    {
     "name": "stderr",
     "output_type": "stream",
     "text": [
      "INFO\tTask(Task-2) nodify.node.139719887496272:node.py:get()- No need to evaluate\n"
     ]
    },
    {
     "name": "stderr",
     "output_type": "stream",
     "text": [
      "INFO\tTask(Task-2) nodify.node.139719887498864:node.py:get()- No need to evaluate\n"
     ]
    },
    {
     "name": "stderr",
     "output_type": "stream",
     "text": [
      "INFO\tTask(Task-2) nodify.node.139719887490512:node.py:get()- No need to evaluate\n"
     ]
    },
    {
     "name": "stderr",
     "output_type": "stream",
     "text": [
      "INFO\tTask(Task-2) nodify.node.139719887489120:node.py:get()- No need to evaluate\n"
     ]
    },
    {
     "name": "stderr",
     "output_type": "stream",
     "text": [
      "INFO\tTask(Task-2) nodify.node.139719887489744:node.py:get()- No need to evaluate\n"
     ]
    },
    {
     "name": "stderr",
     "output_type": "stream",
     "text": [
      "INFO\tTask(Task-2) nodify.node.139719887495696:node.py:get()- No need to evaluate\n"
     ]
    },
    {
     "name": "stderr",
     "output_type": "stream",
     "text": [
      "INFO\tTask(Task-2) nodify.node.139719887489120:node.py:get()- No need to evaluate\n"
     ]
    },
    {
     "name": "stderr",
     "output_type": "stream",
     "text": [
      "INFO\tTask(Task-2) nodify.node.139719887496272:node.py:get()- No need to evaluate\n"
     ]
    },
    {
     "name": "stderr",
     "output_type": "stream",
     "text": [
      "INFO\tTask(Task-2) nodify.node.139719887499200:node.py:get()- No need to evaluate\n"
     ]
    },
    {
     "name": "stderr",
     "output_type": "stream",
     "text": [
      "INFO\tTask(Task-2) nodify.node.139719887489120:node.py:get()- No need to evaluate\n"
     ]
    },
    {
     "name": "stderr",
     "output_type": "stream",
     "text": [
      "INFO\tTask(Task-2) nodify.node.139719887488064:node.py:get()- No need to evaluate\n"
     ]
    },
    {
     "name": "stderr",
     "output_type": "stream",
     "text": [
      "INFO\tTask(Task-2) nodify.node.139719887489552:node.py:get()- No need to evaluate\n"
     ]
    },
    {
     "name": "stderr",
     "output_type": "stream",
     "text": [
      "INFO\tTask(Task-2) nodify.node.139719887489504:node.py:get()- No need to evaluate\n"
     ]
    },
    {
     "name": "stderr",
     "output_type": "stream",
     "text": [
      "INFO\tTask(Task-2) nodify.node.139719887496176:node.py:get()- No need to evaluate\n"
     ]
    },
    {
     "name": "stderr",
     "output_type": "stream",
     "text": [
      "INFO\tTask(Task-2) nodify.node.139719887489120:node.py:get()- No need to evaluate\n"
     ]
    },
    {
     "name": "stderr",
     "output_type": "stream",
     "text": [
      "INFO\tTask(Task-2) nodify.node.139719887489744:node.py:get()- No need to evaluate\n"
     ]
    },
    {
     "name": "stderr",
     "output_type": "stream",
     "text": [
      "INFO\tTask(Task-2) nodify.node.139719887495696:node.py:get()- No need to evaluate\n"
     ]
    },
    {
     "name": "stderr",
     "output_type": "stream",
     "text": [
      "INFO\tTask(Task-2) nodify.node.139719887489120:node.py:get()- No need to evaluate\n"
     ]
    },
    {
     "name": "stderr",
     "output_type": "stream",
     "text": [
      "INFO\tTask(Task-2) nodify.node.139719887496272:node.py:get()- No need to evaluate\n"
     ]
    },
    {
     "name": "stderr",
     "output_type": "stream",
     "text": [
      "INFO\tTask(Task-2) nodify.node.139719887493632:node.py:get()- No need to evaluate\n"
     ]
    },
    {
     "name": "stderr",
     "output_type": "stream",
     "text": [
      "INFO\tTask(Task-2) nodify.node.139719887493248:node.py:get()- No need to evaluate\n"
     ]
    },
    {
     "name": "stderr",
     "output_type": "stream",
     "text": [
      "INFO\tTask(Task-2) nodify.node.139719887495984:node.py:get()- No need to evaluate\n"
     ]
    },
    {
     "name": "stderr",
     "output_type": "stream",
     "text": [
      "INFO\tTask(Task-2) nodify.node.139719887496416:node.py:get()- Evaluated because inputs changed.\n"
     ]
    },
    {
     "name": "stderr",
     "output_type": "stream",
     "text": [
      "INFO\tTask(Task-2) nodify.node.139719887499680:node.py:get()- Evaluated because inputs changed.\n"
     ]
    },
    {
     "name": "stderr",
     "output_type": "stream",
     "text": [
      "INFO\tTask(Task-2) nodify.node.139719887500160:node.py:get()- Evaluated because inputs changed.\n"
     ]
    },
    {
     "data": {
      "application/vnd.plotly.v1+json": {
       "config": {
        "plotlyServerURL": "https://plot.ly"
       },
       "data": [
        {
         "coloraxis": "coloraxis",
         "meta": {},
         "opacity": 0,
         "textfont": {
          "color": "black"
         },
         "type": "heatmap",
         "z": {
          "bdata": "Avu7mQ5T77+Il6ltAra0v6Rvh+pFl+i/ICFqDy/0lT8gU05A3ibWvwAAAAAAAPh/AAAAAAAA+H8AAAAAAAD4fwAAAAAAAPh/Lm+rIj31kD8AAAAAAAD4fwAAAAAAAPh/AAAAAAAA+H8AAAAAAAD4fwAAAAAAAPh/iJepbQK2tL9YbZVl3AvNPwNX0+u4XeM/vHBtbIR6yL9apZkXjlvovwAAAAAAAPh/AAAAAAAA+H8AAAAAAAD4fwAAAAAAAPh/ANBjXxMRnb8AAAAAAAD4fwAAAAAAAPh/AAAAAAAA+H8AAAAAAAD4fwAAAAAAAPh/pG+H6kWX6L8DV9PruF3jP4LHzQCDsO6/rEhCIALF1L8IrEZ53jS3vwAAAAAAAPh/AAAAAAAA+H8AAAAAAAD4fwAAAAAAAPh/q3hpZP5YoD8AAAAAAAD4fwAAAAAAAPh/AAAAAAAA+H8AAAAAAAD4fwAAAAAAAPh/ICFqDy/0lT+8cG1shHrIv6xIQiACxdS/ZGxmyqzS1T+ALeMXET69PwAAAAAAAPh/AAAAAAAA+H8AAAAAAAD4fwAAAAAAAPh/VWav5R6nwT8AAAAAAAD4fwAAAAAAAPh/AAAAAAAA+H8AAAAAAAD4fwAAAAAAAPh/IFNOQN4m1r9apZkXjlvovwisRnneNLe/gC3jFxE+vT+IG2VUNzbGvwAAAAAAAPh/AAAAAAAA+H8AAAAAAAD4fwAAAAAAAPh/AAAAAAAA+H8ub6siPfWQPwDQY18TEZ2/q3hpZP5YoD9VZq/lHqfBPwAAAAAAAPh/",
          "dtype": "f8",
          "shape": "5, 15"
         },
         "zsmooth": false
        },
        {
         "hovertext": [
          "[-0.74985027  0.66160756]",
          "[-0.74985027  0.66160756]",
          "[-0.74985027  0.66160756]",
          "[-0.74985027  0.66160756]",
          "[-0.74985027  0.66160756]",
          "[-0.74985027  0.66160756]",
          "[-0.74985027  0.66160756]",
          "[-0.06197289  0.02026815]",
          "[-0.06197289  0.02026815]",
          "[-0.06197289  0.02026815]",
          "[-0.06197289  0.02026815]",
          "[-0.06197289  0.02026815]",
          "[-0.06197289  0.02026815]",
          "[-0.06197289  0.02026815]",
          "[-0.58866176  0.34498037]",
          "[-0.58866176  0.34498037]",
          "[-0.58866176  0.34498037]",
          "[-0.58866176  0.34498037]",
          "[-0.58866176  0.34498037]",
          "[-0.58866176  0.34498037]",
          "[-0.58866176  0.34498037]",
          "[ 0.01642297 -0.00484366]",
          "[ 0.01642297 -0.00484366]",
          "[ 0.01642297 -0.00484366]",
          "[ 0.01642297 -0.00484366]",
          "[ 0.01642297 -0.00484366]",
          "[ 0.01642297 -0.00484366]",
          "[ 0.01642297 -0.00484366]",
          "[-0.26513729  0.07659757]",
          "[-0.26513729  0.07659757]",
          "[-0.26513729  0.07659757]",
          "[-0.26513729  0.07659757]",
          "[-0.26513729  0.07659757]",
          "[-0.26513729  0.07659757]",
          "[-0.26513729  0.07659757]",
          "[ 0. -0.]",
          "[ 0. -0.]",
          "[ 0. -0.]",
          "[ 0. -0.]",
          "[ 0. -0.]",
          "[ 0. -0.]",
          "[ 0. -0.]",
          "[ 0. -0.]",
          "[ 0. -0.]",
          "[ 0. -0.]",
          "[ 0. -0.]",
          "[ 0. -0.]",
          "[ 0. -0.]",
          "[ 0. -0.]",
          "[ 0. -0.]",
          "[ 0. -0.]",
          "[ 0. -0.]",
          "[ 0. -0.]",
          "[ 0. -0.]",
          "[ 0. -0.]",
          "[ 0. -0.]",
          "[ 0. -0.]",
          "[ 0. -0.]",
          "[ 0. -0.]",
          "[ 0. -0.]",
          "[ 0. -0.]",
          "[ 0. -0.]",
          "[ 0. -0.]",
          "[ 0.01268572 -0.00039362]",
          "[ 0.01268572 -0.00039362]",
          "[ 0.01268572 -0.00039362]",
          "[ 0.01268572 -0.00039362]",
          "[ 0.01268572 -0.00039362]",
          "[ 0.01268572 -0.00039362]",
          "[ 0.01268572 -0.00039362]",
          "[ 0. -0.]",
          "[ 0. -0.]",
          "[ 0. -0.]",
          "[ 0. -0.]",
          "[ 0. -0.]",
          "[ 0. -0.]",
          "[ 0. -0.]",
          "[ 0. -0.]",
          "[ 0. -0.]",
          "[ 0. -0.]",
          "[ 0. -0.]",
          "[ 0. -0.]",
          "[ 0. -0.]",
          "[ 0. -0.]",
          "[ 0. -0.]",
          "[ 0. -0.]",
          "[ 0. -0.]",
          "[ 0. -0.]",
          "[ 0. -0.]",
          "[ 0. -0.]",
          "[ 0. -0.]",
          "[ 0. -0.]",
          "[ 0. -0.]",
          "[ 0. -0.]",
          "[ 0. -0.]",
          "[ 0. -0.]",
          "[ 0. -0.]",
          "[ 0. -0.]",
          "[ 0. -0.]",
          "[ 0. -0.]",
          "[ 0. -0.]",
          "[ 0. -0.]",
          "[ 0. -0.]",
          "[ 0. -0.]",
          "[ 0. -0.]",
          "[-0.06197289  0.03547085]",
          "[-0.06197289  0.03547085]",
          "[-0.06197289  0.03547085]",
          "[-0.06197289  0.03547085]",
          "[-0.06197289  0.03547085]",
          "[-0.06197289  0.03547085]",
          "[-0.06197289  0.03547085]",
          "[ 0.17382911 -0.12359305]",
          "[ 0.17382911 -0.12359305]",
          "[ 0.17382911 -0.12359305]",
          "[ 0.17382911 -0.12359305]",
          "[ 0.17382911 -0.12359305]",
          "[ 0.17382911 -0.12359305]",
          "[ 0.17382911 -0.12359305]",
          "[ 0.46358935 -0.15811693]",
          "[ 0.46358935 -0.15811693]",
          "[ 0.46358935 -0.15811693]",
          "[ 0.46358935 -0.15811693]",
          "[ 0.46358935 -0.15811693]",
          "[ 0.46358935 -0.15811693]",
          "[ 0.46358935 -0.15811693]",
          "[-0.14649321  0.13054369]",
          "[-0.14649321  0.13054369]",
          "[-0.14649321  0.13054369]",
          "[-0.14649321  0.13054369]",
          "[-0.14649321  0.13054369]",
          "[-0.14649321  0.13054369]",
          "[-0.14649321  0.13054369]",
          "[-0.58307762  0.19551962]",
          "[-0.58307762  0.19551962]",
          "[-0.58307762  0.19551962]",
          "[-0.58307762  0.19551962]",
          "[-0.58307762  0.19551962]",
          "[-0.58307762  0.19551962]",
          "[-0.58307762  0.19551962]",
          "[ 0. -0.]",
          "[ 0. -0.]",
          "[ 0. -0.]",
          "[ 0. -0.]",
          "[ 0. -0.]",
          "[ 0. -0.]",
          "[ 0. -0.]",
          "[ 0. -0.]",
          "[ 0. -0.]",
          "[ 0. -0.]",
          "[ 0. -0.]",
          "[ 0. -0.]",
          "[ 0. -0.]",
          "[ 0. -0.]",
          "[ 0. -0.]",
          "[ 0. -0.]",
          "[ 0. -0.]",
          "[ 0. -0.]",
          "[ 0. -0.]",
          "[ 0. -0.]",
          "[ 0. -0.]",
          "[ 0. -0.]",
          "[ 0. -0.]",
          "[ 0. -0.]",
          "[ 0. -0.]",
          "[ 0. -0.]",
          "[ 0. -0.]",
          "[ 0. -0.]",
          "[-0.02174388  0.00975605]",
          "[-0.02174388  0.00975605]",
          "[-0.02174388  0.00975605]",
          "[-0.02174388  0.00975605]",
          "[-0.02174388  0.00975605]",
          "[-0.02174388  0.00975605]",
          "[-0.02174388  0.00975605]",
          "[ 0. -0.]",
          "[ 0. -0.]",
          "[ 0. -0.]",
          "[ 0. -0.]",
          "[ 0. -0.]",
          "[ 0. -0.]",
          "[ 0. -0.]",
          "[ 0. -0.]",
          "[ 0. -0.]",
          "[ 0. -0.]",
          "[ 0. -0.]",
          "[ 0. -0.]",
          "[ 0. -0.]",
          "[ 0. -0.]",
          "[ 0. -0.]",
          "[ 0. -0.]",
          "[ 0. -0.]",
          "[ 0. -0.]",
          "[ 0. -0.]",
          "[ 0. -0.]",
          "[ 0. -0.]",
          "[ 0. -0.]",
          "[ 0. -0.]",
          "[ 0. -0.]",
          "[ 0. -0.]",
          "[ 0. -0.]",
          "[ 0. -0.]",
          "[ 0. -0.]",
          "[ 0. -0.]",
          "[ 0. -0.]",
          "[ 0. -0.]",
          "[ 0. -0.]",
          "[ 0. -0.]",
          "[ 0. -0.]",
          "[ 0. -0.]",
          "[-0.58866176  0.16078614]",
          "[-0.58866176  0.16078614]",
          "[-0.58866176  0.16078614]",
          "[-0.58866176  0.16078614]",
          "[-0.58866176  0.16078614]",
          "[-0.58866176  0.16078614]",
          "[-0.58866176  0.16078614]",
          "[ 0.46358935 -0.20546532]",
          "[ 0.46358935 -0.20546532]",
          "[ 0.46358935 -0.20546532]",
          "[ 0.46358935 -0.20546532]",
          "[ 0.46358935 -0.20546532]",
          "[ 0.46358935 -0.20546532]",
          "[ 0.46358935 -0.20546532]",
          "[-0.7346509  0.6106026]",
          "[-0.7346509  0.6106026]",
          "[-0.7346509  0.6106026]",
          "[-0.7346509  0.6106026]",
          "[-0.7346509  0.6106026]",
          "[-0.7346509  0.6106026]",
          "[-0.7346509  0.6106026]",
          "[-0.24859283  0.18085625]",
          "[-0.24859283  0.18085625]",
          "[-0.24859283  0.18085625]",
          "[-0.24859283  0.18085625]",
          "[-0.24859283  0.18085625]",
          "[-0.24859283  0.18085625]",
          "[-0.24859283  0.18085625]",
          "[-0.06944024  0.00407693]",
          "[-0.06944024  0.00407693]",
          "[-0.06944024  0.00407693]",
          "[-0.06944024  0.00407693]",
          "[-0.06944024  0.00407693]",
          "[-0.06944024  0.00407693]",
          "[-0.06944024  0.00407693]",
          "[ 0. -0.]",
          "[ 0. -0.]",
          "[ 0. -0.]",
          "[ 0. -0.]",
          "[ 0. -0.]",
          "[ 0. -0.]",
          "[ 0. -0.]",
          "[ 0. -0.]",
          "[ 0. -0.]",
          "[ 0. -0.]",
          "[ 0. -0.]",
          "[ 0. -0.]",
          "[ 0. -0.]",
          "[ 0. -0.]",
          "[ 0. -0.]",
          "[ 0. -0.]",
          "[ 0. -0.]",
          "[ 0. -0.]",
          "[ 0. -0.]",
          "[ 0. -0.]",
          "[ 0. -0.]",
          "[ 0. -0.]",
          "[ 0. -0.]",
          "[ 0. -0.]",
          "[ 0. -0.]",
          "[ 0. -0.]",
          "[ 0. -0.]",
          "[ 0. -0.]",
          "[ 0.02445829 -0.01690661]",
          "[ 0.02445829 -0.01690661]",
          "[ 0.02445829 -0.01690661]",
          "[ 0.02445829 -0.01690661]",
          "[ 0.02445829 -0.01690661]",
          "[ 0.02445829 -0.01690661]",
          "[ 0.02445829 -0.01690661]",
          "[ 0. -0.]",
          "[ 0. -0.]",
          "[ 0. -0.]",
          "[ 0. -0.]",
          "[ 0. -0.]",
          "[ 0. -0.]",
          "[ 0. -0.]",
          "[ 0. -0.]",
          "[ 0. -0.]",
          "[ 0. -0.]",
          "[ 0. -0.]",
          "[ 0. -0.]",
          "[ 0. -0.]",
          "[ 0. -0.]",
          "[ 0. -0.]",
          "[ 0. -0.]",
          "[ 0. -0.]",
          "[ 0. -0.]",
          "[ 0. -0.]",
          "[ 0. -0.]",
          "[ 0. -0.]",
          "[ 0. -0.]",
          "[ 0. -0.]",
          "[ 0. -0.]",
          "[ 0. -0.]",
          "[ 0. -0.]",
          "[ 0. -0.]",
          "[ 0. -0.]",
          "[ 0. -0.]",
          "[ 0. -0.]",
          "[ 0. -0.]",
          "[ 0. -0.]",
          "[ 0. -0.]",
          "[ 0. -0.]",
          "[ 0. -0.]",
          "[ 0.01642297 -0.00494998]",
          "[ 0.01642297 -0.00494998]",
          "[ 0.01642297 -0.00494998]",
          "[ 0.01642297 -0.00494998]",
          "[ 0.01642297 -0.00494998]",
          "[ 0.01642297 -0.00494998]",
          "[ 0.01642297 -0.00494998]",
          "[-0.14649321  0.11956736]",
          "[-0.14649321  0.11956736]",
          "[-0.14649321  0.11956736]",
          "[-0.14649321  0.11956736]",
          "[-0.14649321  0.11956736]",
          "[-0.14649321  0.11956736]",
          "[-0.14649321  0.11956736]",
          "[-0.24859283  0.20471526]",
          "[-0.24859283  0.20471526]",
          "[-0.24859283  0.20471526]",
          "[-0.24859283  0.20471526]",
          "[-0.24859283  0.20471526]",
          "[-0.24859283  0.20471526]",
          "[-0.24859283  0.20471526]",
          "[ 0.26120089 -0.08371119]",
          "[ 0.26120089 -0.08371119]",
          "[ 0.26120089 -0.08371119]",
          "[ 0.26120089 -0.08371119]",
          "[ 0.26120089 -0.08371119]",
          "[ 0.26120089 -0.08371119]",
          "[ 0.26120089 -0.08371119]",
          "[ 0.08750139 -0.06838263]",
          "[ 0.08750139 -0.06838263]",
          "[ 0.08750139 -0.06838263]",
          "[ 0.08750139 -0.06838263]",
          "[ 0.08750139 -0.06838263]",
          "[ 0.08750139 -0.06838263]",
          "[ 0.08750139 -0.06838263]",
          "[ 0. -0.]",
          "[ 0. -0.]",
          "[ 0. -0.]",
          "[ 0. -0.]",
          "[ 0. -0.]",
          "[ 0. -0.]",
          "[ 0. -0.]",
          "[ 0. -0.]",
          "[ 0. -0.]",
          "[ 0. -0.]",
          "[ 0. -0.]",
          "[ 0. -0.]",
          "[ 0. -0.]",
          "[ 0. -0.]",
          "[ 0. -0.]",
          "[ 0. -0.]",
          "[ 0. -0.]",
          "[ 0. -0.]",
          "[ 0. -0.]",
          "[ 0. -0.]",
          "[ 0. -0.]",
          "[ 0. -0.]",
          "[ 0. -0.]",
          "[ 0. -0.]",
          "[ 0. -0.]",
          "[ 0. -0.]",
          "[ 0. -0.]",
          "[ 0. -0.]",
          "[ 0.10564409 -0.02744529]",
          "[ 0.10564409 -0.02744529]",
          "[ 0.10564409 -0.02744529]",
          "[ 0.10564409 -0.02744529]",
          "[ 0.10564409 -0.02744529]",
          "[ 0.10564409 -0.02744529]",
          "[ 0.10564409 -0.02744529]",
          "[ 0. -0.]",
          "[ 0. -0.]",
          "[ 0. -0.]",
          "[ 0. -0.]",
          "[ 0. -0.]",
          "[ 0. -0.]",
          "[ 0. -0.]",
          "[ 0. -0.]",
          "[ 0. -0.]",
          "[ 0. -0.]",
          "[ 0. -0.]",
          "[ 0. -0.]",
          "[ 0. -0.]",
          "[ 0. -0.]",
          "[ 0. -0.]",
          "[ 0. -0.]",
          "[ 0. -0.]",
          "[ 0. -0.]",
          "[ 0. -0.]",
          "[ 0. -0.]",
          "[ 0. -0.]",
          "[ 0. -0.]",
          "[ 0. -0.]",
          "[ 0. -0.]",
          "[ 0. -0.]",
          "[ 0. -0.]",
          "[ 0. -0.]",
          "[ 0. -0.]",
          "[ 0. -0.]",
          "[ 0. -0.]",
          "[ 0. -0.]",
          "[ 0. -0.]",
          "[ 0. -0.]",
          "[ 0. -0.]",
          "[ 0. -0.]",
          "[-0.26513729  0.10017492]",
          "[-0.26513729  0.10017492]",
          "[-0.26513729  0.10017492]",
          "[-0.26513729  0.10017492]",
          "[-0.26513729  0.10017492]",
          "[-0.26513729  0.10017492]",
          "[-0.26513729  0.10017492]",
          "[-0.58307762  0.17794992]",
          "[-0.58307762  0.17794992]",
          "[-0.58307762  0.17794992]",
          "[-0.58307762  0.17794992]",
          "[-0.58307762  0.17794992]",
          "[-0.58307762  0.17794992]",
          "[-0.58307762  0.17794992]",
          "[-0.06944024  0.02288571]",
          "[-0.06944024  0.02288571]",
          "[-0.06944024  0.02288571]",
          "[-0.06944024  0.02288571]",
          "[-0.06944024  0.02288571]",
          "[-0.06944024  0.02288571]",
          "[-0.06944024  0.02288571]",
          "[ 0.08750139 -0.0262043 ]",
          "[ 0.08750139 -0.0262043 ]",
          "[ 0.08750139 -0.0262043 ]",
          "[ 0.08750139 -0.0262043 ]",
          "[ 0.08750139 -0.0262043 ]",
          "[ 0.08750139 -0.0262043 ]",
          "[ 0.08750139 -0.0262043 ]",
          "[-0.13292743  0.03550723]",
          "[-0.13292743  0.03550723]",
          "[-0.13292743  0.03550723]",
          "[-0.13292743  0.03550723]",
          "[-0.13292743  0.03550723]",
          "[-0.13292743  0.03550723]",
          "[-0.13292743  0.03550723]",
          "[ 0. -0.]",
          "[ 0. -0.]",
          "[ 0. -0.]",
          "[ 0. -0.]",
          "[ 0. -0.]",
          "[ 0. -0.]",
          "[ 0. -0.]",
          "[ 0. -0.]",
          "[ 0. -0.]",
          "[ 0. -0.]",
          "[ 0. -0.]",
          "[ 0. -0.]",
          "[ 0. -0.]",
          "[ 0. -0.]",
          "[ 0. -0.]",
          "[ 0. -0.]",
          "[ 0. -0.]",
          "[ 0. -0.]",
          "[ 0. -0.]",
          "[ 0. -0.]",
          "[ 0. -0.]",
          "[ 0. -0.]",
          "[ 0. -0.]",
          "[ 0. -0.]",
          "[ 0. -0.]",
          "[ 0. -0.]",
          "[ 0. -0.]",
          "[ 0. -0.]",
          "[ 0. -0.]",
          "[ 0. -0.]",
          "[ 0. -0.]",
          "[ 0. -0.]",
          "[ 0. -0.]",
          "[ 0. -0.]",
          "[ 0. -0.]",
          "[ 0.01268572 -0.00730652]",
          "[ 0.01268572 -0.00730652]",
          "[ 0.01268572 -0.00730652]",
          "[ 0.01268572 -0.00730652]",
          "[ 0.01268572 -0.00730652]",
          "[ 0.01268572 -0.00730652]",
          "[ 0.01268572 -0.00730652]",
          "[-0.02174388  0.01565161]",
          "[-0.02174388  0.01565161]",
          "[-0.02174388  0.01565161]",
          "[-0.02174388  0.01565161]",
          "[-0.02174388  0.01565161]",
          "[-0.02174388  0.01565161]",
          "[-0.02174388  0.01565161]",
          "[ 0.02445829 -0.01472499]",
          "[ 0.02445829 -0.01472499]",
          "[ 0.02445829 -0.01472499]",
          "[ 0.02445829 -0.01472499]",
          "[ 0.02445829 -0.01472499]",
          "[ 0.02445829 -0.01472499]",
          "[ 0.02445829 -0.01472499]",
          "[ 0.10564409 -0.09160638]",
          "[ 0.10564409 -0.09160638]",
          "[ 0.10564409 -0.09160638]",
          "[ 0.10564409 -0.09160638]",
          "[ 0.10564409 -0.09160638]",
          "[ 0.10564409 -0.09160638]",
          "[ 0.10564409 -0.09160638]",
          "[ 0. -0.]",
          "[ 0. -0.]",
          "[ 0. -0.]",
          "[ 0. -0.]",
          "[ 0. -0.]",
          "[ 0. -0.]",
          "[ 0. -0.]"
         ],
         "line": {
          "color": "red"
         },
         "meta": {},
         "mode": "lines",
         "type": "scatter",
         "x": {
          "bdata": "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",
          "dtype": "f8"
         },
         "y": {
          "bdata": "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",
          "dtype": "f8"
         }
        },
        {
         "line": {
          "color": "pink",
          "dash": "dash",
          "width": 5
         },
         "meta": {},
         "mode": "lines",
         "name": "orbitals separators",
         "opacity": 0.8,
         "showlegend": false,
         "type": "scatter",
         "x": {
          "bdata": "AAAAAAAA4L8AAAAAAAASQAAAAAAAAPh/AAAAAAAA4D8AAAAAAADgPwAAAAAAAPh/",
          "dtype": "f8"
         },
         "y": {
          "bdata": "AAAAAAAA4D8AAAAAAADgPwAAAAAAAPh/AAAAAAAA4L8AAAAAAAASQAAAAAAAAPh/",
          "dtype": "f8"
         }
        },
        {
         "line": {
          "color": "gray"
         },
         "meta": {},
         "mode": "lines",
         "name": "atoms separators",
         "opacity": 1,
         "showlegend": false,
         "type": "scatter",
         "x": {
          "bdata": "AAAAAAAA4L8AAAAAAAASQAAAAAAAAPh/AAAAAAAADEAAAAAAAAAMQAAAAAAAAPh/",
          "dtype": "f8"
         },
         "y": {
          "bdata": "AAAAAAAADEAAAAAAAAAMQAAAAAAAAPh/AAAAAAAA4L8AAAAAAAASQAAAAAAAAPh/",
          "dtype": "f8"
         }
        }
       ],
       "layout": {
        "coloraxis": {
         "cmid": 0,
         "colorscale": [
          [
           0.0,
           "rgb(0, 147, 146)"
          ],
          [
           0.16666666666666666,
           "rgb(57, 177, 133)"
          ],
          [
           0.3333333333333333,
           "rgb(156, 203, 134)"
          ],
          [
           0.5,
           "rgb(233, 226, 156)"
          ],
          [
           0.6666666666666666,
           "rgb(238, 180, 121)"
          ],
          [
           0.8333333333333334,
           "rgb(232, 132, 113)"
          ],
          [
           1.0,
           "rgb(207, 89, 126)"
          ]
         ],
         "showscale": false
        },
        "scene": {
         "aspectmode": "data",
         "xaxis": {
          "range": [
           -0.5,
           14.5
          ]
         },
         "yaxis": {
          "range": [
           4.5,
           -0.5
          ]
         }
        },
        "template": {
         "layout": {
          "hovermode": "closest",
          "paper_bgcolor": "white",
          "plot_bgcolor": "white",
          "scene": {
           "xaxis": {
            "color": "black",
            "gridcolor": "#ccc",
            "gridwidth": 1,
            "linewidth": 1,
            "mirror": true,
            "showgrid": false,
            "showline": true,
            "ticklen": 5,
            "ticks": "outside",
            "ticksuffix": " ",
            "visible": true,
            "zeroline": false,
            "zerolinecolor": "#ccc",
            "zerolinewidth": 1
           },
           "yaxis": {
            "color": "black",
            "gridcolor": "#ccc",
            "gridwidth": 1,
            "linewidth": 1,
            "mirror": true,
            "showgrid": false,
            "showline": true,
            "ticklen": 5,
            "ticks": "outside",
            "ticksuffix": " ",
            "visible": true,
            "zeroline": false,
            "zerolinecolor": "#ccc",
            "zerolinewidth": 1
           },
           "zaxis": {
            "color": "black",
            "gridcolor": "#ccc",
            "gridwidth": 1,
            "linewidth": 1,
            "mirror": true,
            "showgrid": false,
            "showline": true,
            "ticklen": 5,
            "ticks": "outside",
            "ticksuffix": " ",
            "visible": true,
            "zeroline": false,
            "zerolinecolor": "#ccc",
            "zerolinewidth": 1
           }
          },
          "xaxis": {
           "color": "black",
           "gridcolor": "#ccc",
           "gridwidth": 1,
           "linewidth": 1,
           "mirror": true,
           "showgrid": false,
           "showline": true,
           "ticklen": 5,
           "ticks": "outside",
           "ticksuffix": " ",
           "visible": true,
           "zeroline": false,
           "zerolinecolor": "#ccc",
           "zerolinewidth": 1
          },
          "yaxis": {
           "color": "black",
           "gridcolor": "#ccc",
           "gridwidth": 1,
           "linewidth": 1,
           "mirror": true,
           "showgrid": false,
           "showline": true,
           "ticklen": 5,
           "ticks": "outside",
           "ticksuffix": " ",
           "visible": true,
           "zeroline": false,
           "zerolinecolor": "#ccc",
           "zerolinewidth": 1
          }
         }
        },
        "xaxis": {
         "constrain": "domain",
         "range": [
          -0.5,
          14.5
         ],
         "scaleanchor": "y",
         "scaleratio": 1
        },
        "yaxis": {
         "constrain": "domain",
         "range": [
          4.5,
          -0.5
         ]
        }
       }
      }
     },
     "metadata": {},
     "output_type": "display_data"
    }
   ],
   "source": [
    "# Initialize a sparse matrix with the same sparsity pattern as our Hamiltonian,\n",
    "# but with an extra dimension that will host the X and Y coordinates.\n",
    "arrow_data = sisl.SparseCSR.fromsp([H, H])\n",
    "\n",
    "# The X coordinate will be the Hamiltonian's value,\n",
    "# while the Y coordinate will be just random.\n",
    "for i in range(arrow_data.shape[0]):\n",
    "    for j in range(arrow_data.shape[1]):\n",
    "        if arrow_data[i, j, 1] != 0:\n",
    "            arrow_data[i, j, 1] *= np.random.random()\n",
    "\n",
    "# Let's display the data\n",
    "plot.update_inputs(arrows={\"data\": arrow_data, \"color\": \"red\"})"
   ]
  },
  {
   "cell_type": "markdown",
   "metadata": {},
   "source": [
    "Finally, we showcase how **you can have multiple specifications of arrows**.\n",
    "\n",
    "We also show how you can use the `center` key. You can set `center` to `\"start\"`, `\"middle\"` or `\"end\"`. It determines which part of the arrow is pinned to the center of the matrix element (the default is `\"middle\"`):"
   ]
  },
  {
   "cell_type": "code",
   "execution_count": 21,
   "metadata": {
    "execution": {
     "iopub.execute_input": "2025-08-14T08:48:51.867392Z",
     "iopub.status.busy": "2025-08-14T08:48:51.867173Z",
     "iopub.status.idle": "2025-08-14T08:48:52.046802Z",
     "shell.execute_reply": "2025-08-14T08:48:52.046287Z"
    }
   },
   "outputs": [
    {
     "name": "stderr",
     "output_type": "stream",
     "text": [
      "INFO\tTask(Task-2) nodify.node.139719887494400:node.py:get()- No need to evaluate\n"
     ]
    },
    {
     "name": "stderr",
     "output_type": "stream",
     "text": [
      "INFO\tTask(Task-2) nodify.node.139719887489120:node.py:get()- No need to evaluate\n"
     ]
    },
    {
     "name": "stderr",
     "output_type": "stream",
     "text": [
      "INFO\tTask(Task-2) nodify.node.139719887488064:node.py:get()- No need to evaluate\n"
     ]
    },
    {
     "name": "stderr",
     "output_type": "stream",
     "text": [
      "INFO\tTask(Task-2) nodify.node.139719887489552:node.py:get()- No need to evaluate\n"
     ]
    },
    {
     "name": "stderr",
     "output_type": "stream",
     "text": [
      "INFO\tTask(Task-2) nodify.node.139719887489504:node.py:get()- No need to evaluate\n"
     ]
    },
    {
     "name": "stderr",
     "output_type": "stream",
     "text": [
      "INFO\tTask(Task-2) nodify.node.139719887496176:node.py:get()- No need to evaluate\n"
     ]
    },
    {
     "name": "stderr",
     "output_type": "stream",
     "text": [
      "INFO\tTask(Task-2) nodify.node.139719887491328:node.py:get()- No need to evaluate\n"
     ]
    },
    {
     "name": "stderr",
     "output_type": "stream",
     "text": [
      "INFO\tTask(Task-2) nodify.node.139719887491712:node.py:get()- No need to evaluate\n"
     ]
    },
    {
     "name": "stderr",
     "output_type": "stream",
     "text": [
      "INFO\tTask(Task-2) nodify.node.139719887489120:node.py:get()- No need to evaluate\n"
     ]
    },
    {
     "name": "stderr",
     "output_type": "stream",
     "text": [
      "INFO\tTask(Task-2) nodify.node.139719887492096:node.py:get()- No need to evaluate\n"
     ]
    },
    {
     "name": "stderr",
     "output_type": "stream",
     "text": [
      "INFO\tTask(Task-2) nodify.node.139719887491712:node.py:get()- No need to evaluate\n"
     ]
    },
    {
     "name": "stderr",
     "output_type": "stream",
     "text": [
      "INFO\tTask(Task-2) nodify.node.139719887497472:node.py:get()- No need to evaluate\n"
     ]
    },
    {
     "name": "stderr",
     "output_type": "stream",
     "text": [
      "INFO\tTask(Task-2) nodify.node.139719887490944:node.py:get()- No need to evaluate\n"
     ]
    },
    {
     "name": "stderr",
     "output_type": "stream",
     "text": [
      "INFO\tTask(Task-2) nodify.node.139719887492480:node.py:get()- No need to evaluate\n"
     ]
    },
    {
     "name": "stderr",
     "output_type": "stream",
     "text": [
      "INFO\tTask(Task-2) nodify.node.139719887492864:node.py:get()- No need to evaluate\n"
     ]
    },
    {
     "name": "stderr",
     "output_type": "stream",
     "text": [
      "INFO\tTask(Task-2) nodify.node.139719887497376:node.py:get()- No need to evaluate\n"
     ]
    },
    {
     "name": "stderr",
     "output_type": "stream",
     "text": [
      "INFO\tTask(Task-2) nodify.node.139719887489120:node.py:get()- No need to evaluate\n"
     ]
    },
    {
     "name": "stderr",
     "output_type": "stream",
     "text": [
      "INFO\tTask(Task-2) nodify.node.139719887488064:node.py:get()- No need to evaluate\n"
     ]
    },
    {
     "name": "stderr",
     "output_type": "stream",
     "text": [
      "INFO\tTask(Task-2) nodify.node.139719887489552:node.py:get()- No need to evaluate\n"
     ]
    },
    {
     "name": "stderr",
     "output_type": "stream",
     "text": [
      "INFO\tTask(Task-2) nodify.node.139719887489504:node.py:get()- No need to evaluate\n"
     ]
    },
    {
     "name": "stderr",
     "output_type": "stream",
     "text": [
      "INFO\tTask(Task-2) nodify.node.139719887496176:node.py:get()- No need to evaluate\n"
     ]
    },
    {
     "name": "stderr",
     "output_type": "stream",
     "text": [
      "INFO\tTask(Task-2) nodify.node.139719887494016:node.py:get()- Evaluated because inputs changed.\n"
     ]
    },
    {
     "name": "stderr",
     "output_type": "stream",
     "text": [
      "INFO\tTask(Task-2) nodify.node.139719887498144:node.py:get()- Evaluated because inputs changed.\n"
     ]
    },
    {
     "name": "stderr",
     "output_type": "stream",
     "text": [
      "INFO\tTask(Task-2) nodify.node.139719887497520:node.py:get()- Evaluated because inputs changed.\n"
     ]
    },
    {
     "name": "stderr",
     "output_type": "stream",
     "text": [
      "INFO\tTask(Task-2) nodify.node.139719887489168:node.py:get()- No need to evaluate\n"
     ]
    },
    {
     "name": "stderr",
     "output_type": "stream",
     "text": [
      "INFO\tTask(Task-2) nodify.node.139719887489120:node.py:get()- No need to evaluate\n"
     ]
    },
    {
     "name": "stderr",
     "output_type": "stream",
     "text": [
      "INFO\tTask(Task-2) nodify.node.139719887489744:node.py:get()- No need to evaluate\n"
     ]
    },
    {
     "name": "stderr",
     "output_type": "stream",
     "text": [
      "INFO\tTask(Task-2) nodify.node.139719887495696:node.py:get()- No need to evaluate\n"
     ]
    },
    {
     "name": "stderr",
     "output_type": "stream",
     "text": [
      "INFO\tTask(Task-2) nodify.node.139719887489120:node.py:get()- No need to evaluate\n"
     ]
    },
    {
     "name": "stderr",
     "output_type": "stream",
     "text": [
      "INFO\tTask(Task-2) nodify.node.139719887496272:node.py:get()- No need to evaluate\n"
     ]
    },
    {
     "name": "stderr",
     "output_type": "stream",
     "text": [
      "INFO\tTask(Task-2) nodify.node.139719887498192:node.py:get()- No need to evaluate\n"
     ]
    },
    {
     "name": "stderr",
     "output_type": "stream",
     "text": [
      "INFO\tTask(Task-2) nodify.node.139719887490128:node.py:get()- No need to evaluate\n"
     ]
    },
    {
     "name": "stderr",
     "output_type": "stream",
     "text": [
      "INFO\tTask(Task-2) nodify.node.139719887489120:node.py:get()- No need to evaluate\n"
     ]
    },
    {
     "name": "stderr",
     "output_type": "stream",
     "text": [
      "INFO\tTask(Task-2) nodify.node.139719887489744:node.py:get()- No need to evaluate\n"
     ]
    },
    {
     "name": "stderr",
     "output_type": "stream",
     "text": [
      "INFO\tTask(Task-2) nodify.node.139719887495696:node.py:get()- No need to evaluate\n"
     ]
    },
    {
     "name": "stderr",
     "output_type": "stream",
     "text": [
      "INFO\tTask(Task-2) nodify.node.139719887489120:node.py:get()- No need to evaluate\n"
     ]
    },
    {
     "name": "stderr",
     "output_type": "stream",
     "text": [
      "INFO\tTask(Task-2) nodify.node.139719887496272:node.py:get()- No need to evaluate\n"
     ]
    },
    {
     "name": "stderr",
     "output_type": "stream",
     "text": [
      "INFO\tTask(Task-2) nodify.node.139719887498864:node.py:get()- No need to evaluate\n"
     ]
    },
    {
     "name": "stderr",
     "output_type": "stream",
     "text": [
      "INFO\tTask(Task-2) nodify.node.139719887490512:node.py:get()- No need to evaluate\n"
     ]
    },
    {
     "name": "stderr",
     "output_type": "stream",
     "text": [
      "INFO\tTask(Task-2) nodify.node.139719887489120:node.py:get()- No need to evaluate\n"
     ]
    },
    {
     "name": "stderr",
     "output_type": "stream",
     "text": [
      "INFO\tTask(Task-2) nodify.node.139719887489744:node.py:get()- No need to evaluate\n"
     ]
    },
    {
     "name": "stderr",
     "output_type": "stream",
     "text": [
      "INFO\tTask(Task-2) nodify.node.139719887495696:node.py:get()- No need to evaluate\n"
     ]
    },
    {
     "name": "stderr",
     "output_type": "stream",
     "text": [
      "INFO\tTask(Task-2) nodify.node.139719887489120:node.py:get()- No need to evaluate\n"
     ]
    },
    {
     "name": "stderr",
     "output_type": "stream",
     "text": [
      "INFO\tTask(Task-2) nodify.node.139719887496272:node.py:get()- No need to evaluate\n"
     ]
    },
    {
     "name": "stderr",
     "output_type": "stream",
     "text": [
      "INFO\tTask(Task-2) nodify.node.139719887499200:node.py:get()- No need to evaluate\n"
     ]
    },
    {
     "name": "stderr",
     "output_type": "stream",
     "text": [
      "INFO\tTask(Task-2) nodify.node.139719887489120:node.py:get()- No need to evaluate\n"
     ]
    },
    {
     "name": "stderr",
     "output_type": "stream",
     "text": [
      "INFO\tTask(Task-2) nodify.node.139719887488064:node.py:get()- No need to evaluate\n"
     ]
    },
    {
     "name": "stderr",
     "output_type": "stream",
     "text": [
      "INFO\tTask(Task-2) nodify.node.139719887489552:node.py:get()- No need to evaluate\n"
     ]
    },
    {
     "name": "stderr",
     "output_type": "stream",
     "text": [
      "INFO\tTask(Task-2) nodify.node.139719887489504:node.py:get()- No need to evaluate\n"
     ]
    },
    {
     "name": "stderr",
     "output_type": "stream",
     "text": [
      "INFO\tTask(Task-2) nodify.node.139719887496176:node.py:get()- No need to evaluate\n"
     ]
    },
    {
     "name": "stderr",
     "output_type": "stream",
     "text": [
      "INFO\tTask(Task-2) nodify.node.139719887489120:node.py:get()- No need to evaluate\n"
     ]
    },
    {
     "name": "stderr",
     "output_type": "stream",
     "text": [
      "INFO\tTask(Task-2) nodify.node.139719887489744:node.py:get()- No need to evaluate\n"
     ]
    },
    {
     "name": "stderr",
     "output_type": "stream",
     "text": [
      "INFO\tTask(Task-2) nodify.node.139719887495696:node.py:get()- No need to evaluate\n"
     ]
    },
    {
     "name": "stderr",
     "output_type": "stream",
     "text": [
      "INFO\tTask(Task-2) nodify.node.139719887489120:node.py:get()- No need to evaluate\n"
     ]
    },
    {
     "name": "stderr",
     "output_type": "stream",
     "text": [
      "INFO\tTask(Task-2) nodify.node.139719887496272:node.py:get()- No need to evaluate\n"
     ]
    },
    {
     "name": "stderr",
     "output_type": "stream",
     "text": [
      "INFO\tTask(Task-2) nodify.node.139719887493632:node.py:get()- No need to evaluate\n"
     ]
    },
    {
     "name": "stderr",
     "output_type": "stream",
     "text": [
      "INFO\tTask(Task-2) nodify.node.139719887493248:node.py:get()- No need to evaluate\n"
     ]
    },
    {
     "name": "stderr",
     "output_type": "stream",
     "text": [
      "INFO\tTask(Task-2) nodify.node.139719887495984:node.py:get()- No need to evaluate\n"
     ]
    },
    {
     "name": "stderr",
     "output_type": "stream",
     "text": [
      "INFO\tTask(Task-2) nodify.node.139719887496416:node.py:get()- Evaluated because inputs changed.\n"
     ]
    },
    {
     "name": "stderr",
     "output_type": "stream",
     "text": [
      "INFO\tTask(Task-2) nodify.node.139719887499680:node.py:get()- Evaluated because inputs changed.\n"
     ]
    },
    {
     "name": "stderr",
     "output_type": "stream",
     "text": [
      "INFO\tTask(Task-2) nodify.node.139719887500160:node.py:get()- Evaluated because inputs changed.\n"
     ]
    },
    {
     "data": {
      "application/vnd.plotly.v1+json": {
       "config": {
        "plotlyServerURL": "https://plot.ly"
       },
       "data": [
        {
         "coloraxis": "coloraxis",
         "meta": {},
         "opacity": 0,
         "textfont": {
          "color": "black"
         },
         "type": "heatmap",
         "z": {
          "bdata": "Avu7mQ5T77+Il6ltAra0v6Rvh+pFl+i/ICFqDy/0lT8gU05A3ibWvwAAAAAAAPh/AAAAAAAA+H8AAAAAAAD4fwAAAAAAAPh/Lm+rIj31kD8AAAAAAAD4fwAAAAAAAPh/AAAAAAAA+H8AAAAAAAD4fwAAAAAAAPh/iJepbQK2tL9YbZVl3AvNPwNX0+u4XeM/vHBtbIR6yL9apZkXjlvovwAAAAAAAPh/AAAAAAAA+H8AAAAAAAD4fwAAAAAAAPh/ANBjXxMRnb8AAAAAAAD4fwAAAAAAAPh/AAAAAAAA+H8AAAAAAAD4fwAAAAAAAPh/pG+H6kWX6L8DV9PruF3jP4LHzQCDsO6/rEhCIALF1L8IrEZ53jS3vwAAAAAAAPh/AAAAAAAA+H8AAAAAAAD4fwAAAAAAAPh/q3hpZP5YoD8AAAAAAAD4fwAAAAAAAPh/AAAAAAAA+H8AAAAAAAD4fwAAAAAAAPh/ICFqDy/0lT+8cG1shHrIv6xIQiACxdS/ZGxmyqzS1T+ALeMXET69PwAAAAAAAPh/AAAAAAAA+H8AAAAAAAD4fwAAAAAAAPh/VWav5R6nwT8AAAAAAAD4fwAAAAAAAPh/AAAAAAAA+H8AAAAAAAD4fwAAAAAAAPh/IFNOQN4m1r9apZkXjlvovwisRnneNLe/gC3jFxE+vT+IG2VUNzbGvwAAAAAAAPh/AAAAAAAA+H8AAAAAAAD4fwAAAAAAAPh/AAAAAAAA+H8ub6siPfWQPwDQY18TEZ2/q3hpZP5YoD9VZq/lHqfBPwAAAAAAAPh/",
          "dtype": "f8",
          "shape": "5, 15"
         },
         "zsmooth": false
        },
        {
         "hovertext": [
          "[0.  0.5]",
          "[0.  0.5]",
          "[0.  0.5]",
          "[0.  0.5]",
          "[0.  0.5]",
          "[0.  0.5]",
          "[0.  0.5]",
          "[0.         0.04132351]",
          "[0.         0.04132351]",
          "[0.         0.04132351]",
          "[0.         0.04132351]",
          "[0.         0.04132351]",
          "[0.         0.04132351]",
          "[0.         0.04132351]",
          "[0.         0.39251954]",
          "[0.         0.39251954]",
          "[0.         0.39251954]",
          "[0.         0.39251954]",
          "[0.         0.39251954]",
          "[0.         0.39251954]",
          "[0.         0.39251954]",
          "[ 0.         -0.01095084]",
          "[ 0.         -0.01095084]",
          "[ 0.         -0.01095084]",
          "[ 0.         -0.01095084]",
          "[ 0.         -0.01095084]",
          "[ 0.         -0.01095084]",
          "[ 0.         -0.01095084]",
          "[0.         0.17679349]",
          "[0.         0.17679349]",
          "[0.         0.17679349]",
          "[0.         0.17679349]",
          "[0.         0.17679349]",
          "[0.         0.17679349]",
          "[0.         0.17679349]",
          "[ 0. nan]",
          "[ 0. nan]",
          "[ 0. nan]",
          "[ 0. nan]",
          "[ 0. nan]",
          "[ 0. nan]",
          "[ 0. nan]",
          "[ 0. nan]",
          "[ 0. nan]",
          "[ 0. nan]",
          "[ 0. nan]",
          "[ 0. nan]",
          "[ 0. nan]",
          "[ 0. nan]",
          "[ 0. nan]",
          "[ 0. nan]",
          "[ 0. nan]",
          "[ 0. nan]",
          "[ 0. nan]",
          "[ 0. nan]",
          "[ 0. nan]",
          "[ 0. nan]",
          "[ 0. nan]",
          "[ 0. nan]",
          "[ 0. nan]",
          "[ 0. nan]",
          "[ 0. nan]",
          "[ 0. nan]",
          "[ 0.         -0.00845883]",
          "[ 0.         -0.00845883]",
          "[ 0.         -0.00845883]",
          "[ 0.         -0.00845883]",
          "[ 0.         -0.00845883]",
          "[ 0.         -0.00845883]",
          "[ 0.         -0.00845883]",
          "[ 0. nan]",
          "[ 0. nan]",
          "[ 0. nan]",
          "[ 0. nan]",
          "[ 0. nan]",
          "[ 0. nan]",
          "[ 0. nan]",
          "[ 0. nan]",
          "[ 0. nan]",
          "[ 0. nan]",
          "[ 0. nan]",
          "[ 0. nan]",
          "[ 0. nan]",
          "[ 0. nan]",
          "[ 0. nan]",
          "[ 0. nan]",
          "[ 0. nan]",
          "[ 0. nan]",
          "[ 0. nan]",
          "[ 0. nan]",
          "[ 0. nan]",
          "[ 0. nan]",
          "[ 0. nan]",
          "[ 0. nan]",
          "[ 0. nan]",
          "[ 0. nan]",
          "[ 0. nan]",
          "[ 0. nan]",
          "[ 0. nan]",
          "[ 0. nan]",
          "[ 0. nan]",
          "[ 0. nan]",
          "[ 0. nan]",
          "[ 0. nan]",
          "[ 0. nan]",
          "[0.         0.04132351]",
          "[0.         0.04132351]",
          "[0.         0.04132351]",
          "[0.         0.04132351]",
          "[0.         0.04132351]",
          "[0.         0.04132351]",
          "[0.         0.04132351]",
          "[ 0.         -0.11590922]",
          "[ 0.         -0.11590922]",
          "[ 0.         -0.11590922]",
          "[ 0.         -0.11590922]",
          "[ 0.         -0.11590922]",
          "[ 0.         -0.11590922]",
          "[ 0.         -0.11590922]",
          "[ 0.         -0.30912128]",
          "[ 0.         -0.30912128]",
          "[ 0.         -0.30912128]",
          "[ 0.         -0.30912128]",
          "[ 0.         -0.30912128]",
          "[ 0.         -0.30912128]",
          "[ 0.         -0.30912128]",
          "[0.         0.09768164]",
          "[0.         0.09768164]",
          "[0.         0.09768164]",
          "[0.         0.09768164]",
          "[0.         0.09768164]",
          "[0.         0.09768164]",
          "[0.         0.09768164]",
          "[0.         0.38879603]",
          "[0.         0.38879603]",
          "[0.         0.38879603]",
          "[0.         0.38879603]",
          "[0.         0.38879603]",
          "[0.         0.38879603]",
          "[0.         0.38879603]",
          "[ 0. nan]",
          "[ 0. nan]",
          "[ 0. nan]",
          "[ 0. nan]",
          "[ 0. nan]",
          "[ 0. nan]",
          "[ 0. nan]",
          "[ 0. nan]",
          "[ 0. nan]",
          "[ 0. nan]",
          "[ 0. nan]",
          "[ 0. nan]",
          "[ 0. nan]",
          "[ 0. nan]",
          "[ 0. nan]",
          "[ 0. nan]",
          "[ 0. nan]",
          "[ 0. nan]",
          "[ 0. nan]",
          "[ 0. nan]",
          "[ 0. nan]",
          "[ 0. nan]",
          "[ 0. nan]",
          "[ 0. nan]",
          "[ 0. nan]",
          "[ 0. nan]",
          "[ 0. nan]",
          "[ 0. nan]",
          "[0.         0.01449881]",
          "[0.         0.01449881]",
          "[0.         0.01449881]",
          "[0.         0.01449881]",
          "[0.         0.01449881]",
          "[0.         0.01449881]",
          "[0.         0.01449881]",
          "[ 0. nan]",
          "[ 0. nan]",
          "[ 0. nan]",
          "[ 0. nan]",
          "[ 0. nan]",
          "[ 0. nan]",
          "[ 0. nan]",
          "[ 0. nan]",
          "[ 0. nan]",
          "[ 0. nan]",
          "[ 0. nan]",
          "[ 0. nan]",
          "[ 0. nan]",
          "[ 0. nan]",
          "[ 0. nan]",
          "[ 0. nan]",
          "[ 0. nan]",
          "[ 0. nan]",
          "[ 0. nan]",
          "[ 0. nan]",
          "[ 0. nan]",
          "[ 0. nan]",
          "[ 0. nan]",
          "[ 0. nan]",
          "[ 0. nan]",
          "[ 0. nan]",
          "[ 0. nan]",
          "[ 0. nan]",
          "[ 0. nan]",
          "[ 0. nan]",
          "[ 0. nan]",
          "[ 0. nan]",
          "[ 0. nan]",
          "[ 0. nan]",
          "[ 0. nan]",
          "[0.         0.39251954]",
          "[0.         0.39251954]",
          "[0.         0.39251954]",
          "[0.         0.39251954]",
          "[0.         0.39251954]",
          "[0.         0.39251954]",
          "[0.         0.39251954]",
          "[ 0.         -0.30912128]",
          "[ 0.         -0.30912128]",
          "[ 0.         -0.30912128]",
          "[ 0.         -0.30912128]",
          "[ 0.         -0.30912128]",
          "[ 0.         -0.30912128]",
          "[ 0.         -0.30912128]",
          "[0.         0.48986506]",
          "[0.         0.48986506]",
          "[0.         0.48986506]",
          "[0.         0.48986506]",
          "[0.         0.48986506]",
          "[0.         0.48986506]",
          "[0.         0.48986506]",
          "[0.         0.16576164]",
          "[0.         0.16576164]",
          "[0.         0.16576164]",
          "[0.         0.16576164]",
          "[0.         0.16576164]",
          "[0.         0.16576164]",
          "[0.         0.16576164]",
          "[0.         0.04630274]",
          "[0.         0.04630274]",
          "[0.         0.04630274]",
          "[0.         0.04630274]",
          "[0.         0.04630274]",
          "[0.         0.04630274]",
          "[0.         0.04630274]",
          "[ 0. nan]",
          "[ 0. nan]",
          "[ 0. nan]",
          "[ 0. nan]",
          "[ 0. nan]",
          "[ 0. nan]",
          "[ 0. nan]",
          "[ 0. nan]",
          "[ 0. nan]",
          "[ 0. nan]",
          "[ 0. nan]",
          "[ 0. nan]",
          "[ 0. nan]",
          "[ 0. nan]",
          "[ 0. nan]",
          "[ 0. nan]",
          "[ 0. nan]",
          "[ 0. nan]",
          "[ 0. nan]",
          "[ 0. nan]",
          "[ 0. nan]",
          "[ 0. nan]",
          "[ 0. nan]",
          "[ 0. nan]",
          "[ 0. nan]",
          "[ 0. nan]",
          "[ 0. nan]",
          "[ 0. nan]",
          "[ 0.         -0.01630878]",
          "[ 0.         -0.01630878]",
          "[ 0.         -0.01630878]",
          "[ 0.         -0.01630878]",
          "[ 0.         -0.01630878]",
          "[ 0.         -0.01630878]",
          "[ 0.         -0.01630878]",
          "[ 0. nan]",
          "[ 0. nan]",
          "[ 0. nan]",
          "[ 0. nan]",
          "[ 0. nan]",
          "[ 0. nan]",
          "[ 0. nan]",
          "[ 0. nan]",
          "[ 0. nan]",
          "[ 0. nan]",
          "[ 0. nan]",
          "[ 0. nan]",
          "[ 0. nan]",
          "[ 0. nan]",
          "[ 0. nan]",
          "[ 0. nan]",
          "[ 0. nan]",
          "[ 0. nan]",
          "[ 0. nan]",
          "[ 0. nan]",
          "[ 0. nan]",
          "[ 0. nan]",
          "[ 0. nan]",
          "[ 0. nan]",
          "[ 0. nan]",
          "[ 0. nan]",
          "[ 0. nan]",
          "[ 0. nan]",
          "[ 0. nan]",
          "[ 0. nan]",
          "[ 0. nan]",
          "[ 0. nan]",
          "[ 0. nan]",
          "[ 0. nan]",
          "[ 0. nan]",
          "[ 0.         -0.01095084]",
          "[ 0.         -0.01095084]",
          "[ 0.         -0.01095084]",
          "[ 0.         -0.01095084]",
          "[ 0.         -0.01095084]",
          "[ 0.         -0.01095084]",
          "[ 0.         -0.01095084]",
          "[0.         0.09768164]",
          "[0.         0.09768164]",
          "[0.         0.09768164]",
          "[0.         0.09768164]",
          "[0.         0.09768164]",
          "[0.         0.09768164]",
          "[0.         0.09768164]",
          "[0.         0.16576164]",
          "[0.         0.16576164]",
          "[0.         0.16576164]",
          "[0.         0.16576164]",
          "[0.         0.16576164]",
          "[0.         0.16576164]",
          "[0.         0.16576164]",
          "[ 0.        -0.1741687]",
          "[ 0.        -0.1741687]",
          "[ 0.        -0.1741687]",
          "[ 0.        -0.1741687]",
          "[ 0.        -0.1741687]",
          "[ 0.        -0.1741687]",
          "[ 0.        -0.1741687]",
          "[ 0.         -0.05834591]",
          "[ 0.         -0.05834591]",
          "[ 0.         -0.05834591]",
          "[ 0.         -0.05834591]",
          "[ 0.         -0.05834591]",
          "[ 0.         -0.05834591]",
          "[ 0.         -0.05834591]",
          "[ 0. nan]",
          "[ 0. nan]",
          "[ 0. nan]",
          "[ 0. nan]",
          "[ 0. nan]",
          "[ 0. nan]",
          "[ 0. nan]",
          "[ 0. nan]",
          "[ 0. nan]",
          "[ 0. nan]",
          "[ 0. nan]",
          "[ 0. nan]",
          "[ 0. nan]",
          "[ 0. nan]",
          "[ 0. nan]",
          "[ 0. nan]",
          "[ 0. nan]",
          "[ 0. nan]",
          "[ 0. nan]",
          "[ 0. nan]",
          "[ 0. nan]",
          "[ 0. nan]",
          "[ 0. nan]",
          "[ 0. nan]",
          "[ 0. nan]",
          "[ 0. nan]",
          "[ 0. nan]",
          "[ 0. nan]",
          "[ 0.         -0.07044346]",
          "[ 0.         -0.07044346]",
          "[ 0.         -0.07044346]",
          "[ 0.         -0.07044346]",
          "[ 0.         -0.07044346]",
          "[ 0.         -0.07044346]",
          "[ 0.         -0.07044346]",
          "[ 0. nan]",
          "[ 0. nan]",
          "[ 0. nan]",
          "[ 0. nan]",
          "[ 0. nan]",
          "[ 0. nan]",
          "[ 0. nan]",
          "[ 0. nan]",
          "[ 0. nan]",
          "[ 0. nan]",
          "[ 0. nan]",
          "[ 0. nan]",
          "[ 0. nan]",
          "[ 0. nan]",
          "[ 0. nan]",
          "[ 0. nan]",
          "[ 0. nan]",
          "[ 0. nan]",
          "[ 0. nan]",
          "[ 0. nan]",
          "[ 0. nan]",
          "[ 0. nan]",
          "[ 0. nan]",
          "[ 0. nan]",
          "[ 0. nan]",
          "[ 0. nan]",
          "[ 0. nan]",
          "[ 0. nan]",
          "[ 0. nan]",
          "[ 0. nan]",
          "[ 0. nan]",
          "[ 0. nan]",
          "[ 0. nan]",
          "[ 0. nan]",
          "[ 0. nan]",
          "[0.         0.17679349]",
          "[0.         0.17679349]",
          "[0.         0.17679349]",
          "[0.         0.17679349]",
          "[0.         0.17679349]",
          "[0.         0.17679349]",
          "[0.         0.17679349]",
          "[0.         0.38879603]",
          "[0.         0.38879603]",
          "[0.         0.38879603]",
          "[0.         0.38879603]",
          "[0.         0.38879603]",
          "[0.         0.38879603]",
          "[0.         0.38879603]",
          "[0.         0.04630274]",
          "[0.         0.04630274]",
          "[0.         0.04630274]",
          "[0.         0.04630274]",
          "[0.         0.04630274]",
          "[0.         0.04630274]",
          "[0.         0.04630274]",
          "[ 0.         -0.05834591]",
          "[ 0.         -0.05834591]",
          "[ 0.         -0.05834591]",
          "[ 0.         -0.05834591]",
          "[ 0.         -0.05834591]",
          "[ 0.         -0.05834591]",
          "[ 0.         -0.05834591]",
          "[0.         0.08863598]",
          "[0.         0.08863598]",
          "[0.         0.08863598]",
          "[0.         0.08863598]",
          "[0.         0.08863598]",
          "[0.         0.08863598]",
          "[0.         0.08863598]",
          "[ 0. nan]",
          "[ 0. nan]",
          "[ 0. nan]",
          "[ 0. nan]",
          "[ 0. nan]",
          "[ 0. nan]",
          "[ 0. nan]",
          "[ 0. nan]",
          "[ 0. nan]",
          "[ 0. nan]",
          "[ 0. nan]",
          "[ 0. nan]",
          "[ 0. nan]",
          "[ 0. nan]",
          "[ 0. nan]",
          "[ 0. nan]",
          "[ 0. nan]",
          "[ 0. nan]",
          "[ 0. nan]",
          "[ 0. nan]",
          "[ 0. nan]",
          "[ 0. nan]",
          "[ 0. nan]",
          "[ 0. nan]",
          "[ 0. nan]",
          "[ 0. nan]",
          "[ 0. nan]",
          "[ 0. nan]",
          "[ 0. nan]",
          "[ 0. nan]",
          "[ 0. nan]",
          "[ 0. nan]",
          "[ 0. nan]",
          "[ 0. nan]",
          "[ 0. nan]",
          "[ 0.         -0.00845883]",
          "[ 0.         -0.00845883]",
          "[ 0.         -0.00845883]",
          "[ 0.         -0.00845883]",
          "[ 0.         -0.00845883]",
          "[ 0.         -0.00845883]",
          "[ 0.         -0.00845883]",
          "[0.         0.01449881]",
          "[0.         0.01449881]",
          "[0.         0.01449881]",
          "[0.         0.01449881]",
          "[0.         0.01449881]",
          "[0.         0.01449881]",
          "[0.         0.01449881]",
          "[ 0.         -0.01630878]",
          "[ 0.         -0.01630878]",
          "[ 0.         -0.01630878]",
          "[ 0.         -0.01630878]",
          "[ 0.         -0.01630878]",
          "[ 0.         -0.01630878]",
          "[ 0.         -0.01630878]",
          "[ 0.         -0.07044346]",
          "[ 0.         -0.07044346]",
          "[ 0.         -0.07044346]",
          "[ 0.         -0.07044346]",
          "[ 0.         -0.07044346]",
          "[ 0.         -0.07044346]",
          "[ 0.         -0.07044346]",
          "[ 0. nan]",
          "[ 0. nan]",
          "[ 0. nan]",
          "[ 0. nan]",
          "[ 0. nan]",
          "[ 0. nan]",
          "[ 0. nan]"
         ],
         "line": {
          "color": "blue"
         },
         "meta": {},
         "mode": "lines",
         "name": "Hamiltonian value",
         "type": "scatter",
         "x": {
          "bdata": "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",
          "dtype": "f8"
         },
         "y": {
          "bdata": "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",
          "dtype": "f8"
         }
        },
        {
         "hovertext": [
          "[-0.37492514  0.33080378]",
          "[-0.37492514  0.33080378]",
          "[-0.37492514  0.33080378]",
          "[-0.37492514  0.33080378]",
          "[-0.37492514  0.33080378]",
          "[-0.37492514  0.33080378]",
          "[-0.37492514  0.33080378]",
          "[-0.03098645  0.01013407]",
          "[-0.03098645  0.01013407]",
          "[-0.03098645  0.01013407]",
          "[-0.03098645  0.01013407]",
          "[-0.03098645  0.01013407]",
          "[-0.03098645  0.01013407]",
          "[-0.03098645  0.01013407]",
          "[-0.29433088  0.17249019]",
          "[-0.29433088  0.17249019]",
          "[-0.29433088  0.17249019]",
          "[-0.29433088  0.17249019]",
          "[-0.29433088  0.17249019]",
          "[-0.29433088  0.17249019]",
          "[-0.29433088  0.17249019]",
          "[ 0.00821149 -0.00242183]",
          "[ 0.00821149 -0.00242183]",
          "[ 0.00821149 -0.00242183]",
          "[ 0.00821149 -0.00242183]",
          "[ 0.00821149 -0.00242183]",
          "[ 0.00821149 -0.00242183]",
          "[ 0.00821149 -0.00242183]",
          "[-0.13256864  0.03829879]",
          "[-0.13256864  0.03829879]",
          "[-0.13256864  0.03829879]",
          "[-0.13256864  0.03829879]",
          "[-0.13256864  0.03829879]",
          "[-0.13256864  0.03829879]",
          "[-0.13256864  0.03829879]",
          "[ 0. -0.]",
          "[ 0. -0.]",
          "[ 0. -0.]",
          "[ 0. -0.]",
          "[ 0. -0.]",
          "[ 0. -0.]",
          "[ 0. -0.]",
          "[ 0. -0.]",
          "[ 0. -0.]",
          "[ 0. -0.]",
          "[ 0. -0.]",
          "[ 0. -0.]",
          "[ 0. -0.]",
          "[ 0. -0.]",
          "[ 0. -0.]",
          "[ 0. -0.]",
          "[ 0. -0.]",
          "[ 0. -0.]",
          "[ 0. -0.]",
          "[ 0. -0.]",
          "[ 0. -0.]",
          "[ 0. -0.]",
          "[ 0. -0.]",
          "[ 0. -0.]",
          "[ 0. -0.]",
          "[ 0. -0.]",
          "[ 0. -0.]",
          "[ 0. -0.]",
          "[ 0.00634286 -0.00019681]",
          "[ 0.00634286 -0.00019681]",
          "[ 0.00634286 -0.00019681]",
          "[ 0.00634286 -0.00019681]",
          "[ 0.00634286 -0.00019681]",
          "[ 0.00634286 -0.00019681]",
          "[ 0.00634286 -0.00019681]",
          "[ 0. -0.]",
          "[ 0. -0.]",
          "[ 0. -0.]",
          "[ 0. -0.]",
          "[ 0. -0.]",
          "[ 0. -0.]",
          "[ 0. -0.]",
          "[ 0. -0.]",
          "[ 0. -0.]",
          "[ 0. -0.]",
          "[ 0. -0.]",
          "[ 0. -0.]",
          "[ 0. -0.]",
          "[ 0. -0.]",
          "[ 0. -0.]",
          "[ 0. -0.]",
          "[ 0. -0.]",
          "[ 0. -0.]",
          "[ 0. -0.]",
          "[ 0. -0.]",
          "[ 0. -0.]",
          "[ 0. -0.]",
          "[ 0. -0.]",
          "[ 0. -0.]",
          "[ 0. -0.]",
          "[ 0. -0.]",
          "[ 0. -0.]",
          "[ 0. -0.]",
          "[ 0. -0.]",
          "[ 0. -0.]",
          "[ 0. -0.]",
          "[ 0. -0.]",
          "[ 0. -0.]",
          "[ 0. -0.]",
          "[ 0. -0.]",
          "[-0.03098645  0.01773542]",
          "[-0.03098645  0.01773542]",
          "[-0.03098645  0.01773542]",
          "[-0.03098645  0.01773542]",
          "[-0.03098645  0.01773542]",
          "[-0.03098645  0.01773542]",
          "[-0.03098645  0.01773542]",
          "[ 0.08691456 -0.06179653]",
          "[ 0.08691456 -0.06179653]",
          "[ 0.08691456 -0.06179653]",
          "[ 0.08691456 -0.06179653]",
          "[ 0.08691456 -0.06179653]",
          "[ 0.08691456 -0.06179653]",
          "[ 0.08691456 -0.06179653]",
          "[ 0.23179468 -0.07905847]",
          "[ 0.23179468 -0.07905847]",
          "[ 0.23179468 -0.07905847]",
          "[ 0.23179468 -0.07905847]",
          "[ 0.23179468 -0.07905847]",
          "[ 0.23179468 -0.07905847]",
          "[ 0.23179468 -0.07905847]",
          "[-0.07324661  0.06527185]",
          "[-0.07324661  0.06527185]",
          "[-0.07324661  0.06527185]",
          "[-0.07324661  0.06527185]",
          "[-0.07324661  0.06527185]",
          "[-0.07324661  0.06527185]",
          "[-0.07324661  0.06527185]",
          "[-0.29153881  0.09775981]",
          "[-0.29153881  0.09775981]",
          "[-0.29153881  0.09775981]",
          "[-0.29153881  0.09775981]",
          "[-0.29153881  0.09775981]",
          "[-0.29153881  0.09775981]",
          "[-0.29153881  0.09775981]",
          "[ 0. -0.]",
          "[ 0. -0.]",
          "[ 0. -0.]",
          "[ 0. -0.]",
          "[ 0. -0.]",
          "[ 0. -0.]",
          "[ 0. -0.]",
          "[ 0. -0.]",
          "[ 0. -0.]",
          "[ 0. -0.]",
          "[ 0. -0.]",
          "[ 0. -0.]",
          "[ 0. -0.]",
          "[ 0. -0.]",
          "[ 0. -0.]",
          "[ 0. -0.]",
          "[ 0. -0.]",
          "[ 0. -0.]",
          "[ 0. -0.]",
          "[ 0. -0.]",
          "[ 0. -0.]",
          "[ 0. -0.]",
          "[ 0. -0.]",
          "[ 0. -0.]",
          "[ 0. -0.]",
          "[ 0. -0.]",
          "[ 0. -0.]",
          "[ 0. -0.]",
          "[-0.01087194  0.00487802]",
          "[-0.01087194  0.00487802]",
          "[-0.01087194  0.00487802]",
          "[-0.01087194  0.00487802]",
          "[-0.01087194  0.00487802]",
          "[-0.01087194  0.00487802]",
          "[-0.01087194  0.00487802]",
          "[ 0. -0.]",
          "[ 0. -0.]",
          "[ 0. -0.]",
          "[ 0. -0.]",
          "[ 0. -0.]",
          "[ 0. -0.]",
          "[ 0. -0.]",
          "[ 0. -0.]",
          "[ 0. -0.]",
          "[ 0. -0.]",
          "[ 0. -0.]",
          "[ 0. -0.]",
          "[ 0. -0.]",
          "[ 0. -0.]",
          "[ 0. -0.]",
          "[ 0. -0.]",
          "[ 0. -0.]",
          "[ 0. -0.]",
          "[ 0. -0.]",
          "[ 0. -0.]",
          "[ 0. -0.]",
          "[ 0. -0.]",
          "[ 0. -0.]",
          "[ 0. -0.]",
          "[ 0. -0.]",
          "[ 0. -0.]",
          "[ 0. -0.]",
          "[ 0. -0.]",
          "[ 0. -0.]",
          "[ 0. -0.]",
          "[ 0. -0.]",
          "[ 0. -0.]",
          "[ 0. -0.]",
          "[ 0. -0.]",
          "[ 0. -0.]",
          "[-0.29433088  0.08039307]",
          "[-0.29433088  0.08039307]",
          "[-0.29433088  0.08039307]",
          "[-0.29433088  0.08039307]",
          "[-0.29433088  0.08039307]",
          "[-0.29433088  0.08039307]",
          "[-0.29433088  0.08039307]",
          "[ 0.23179468 -0.10273266]",
          "[ 0.23179468 -0.10273266]",
          "[ 0.23179468 -0.10273266]",
          "[ 0.23179468 -0.10273266]",
          "[ 0.23179468 -0.10273266]",
          "[ 0.23179468 -0.10273266]",
          "[ 0.23179468 -0.10273266]",
          "[-0.36732545  0.3053013 ]",
          "[-0.36732545  0.3053013 ]",
          "[-0.36732545  0.3053013 ]",
          "[-0.36732545  0.3053013 ]",
          "[-0.36732545  0.3053013 ]",
          "[-0.36732545  0.3053013 ]",
          "[-0.36732545  0.3053013 ]",
          "[-0.12429641  0.09042813]",
          "[-0.12429641  0.09042813]",
          "[-0.12429641  0.09042813]",
          "[-0.12429641  0.09042813]",
          "[-0.12429641  0.09042813]",
          "[-0.12429641  0.09042813]",
          "[-0.12429641  0.09042813]",
          "[-0.03472012  0.00203846]",
          "[-0.03472012  0.00203846]",
          "[-0.03472012  0.00203846]",
          "[-0.03472012  0.00203846]",
          "[-0.03472012  0.00203846]",
          "[-0.03472012  0.00203846]",
          "[-0.03472012  0.00203846]",
          "[ 0. -0.]",
          "[ 0. -0.]",
          "[ 0. -0.]",
          "[ 0. -0.]",
          "[ 0. -0.]",
          "[ 0. -0.]",
          "[ 0. -0.]",
          "[ 0. -0.]",
          "[ 0. -0.]",
          "[ 0. -0.]",
          "[ 0. -0.]",
          "[ 0. -0.]",
          "[ 0. -0.]",
          "[ 0. -0.]",
          "[ 0. -0.]",
          "[ 0. -0.]",
          "[ 0. -0.]",
          "[ 0. -0.]",
          "[ 0. -0.]",
          "[ 0. -0.]",
          "[ 0. -0.]",
          "[ 0. -0.]",
          "[ 0. -0.]",
          "[ 0. -0.]",
          "[ 0. -0.]",
          "[ 0. -0.]",
          "[ 0. -0.]",
          "[ 0. -0.]",
          "[ 0.01222914 -0.00845331]",
          "[ 0.01222914 -0.00845331]",
          "[ 0.01222914 -0.00845331]",
          "[ 0.01222914 -0.00845331]",
          "[ 0.01222914 -0.00845331]",
          "[ 0.01222914 -0.00845331]",
          "[ 0.01222914 -0.00845331]",
          "[ 0. -0.]",
          "[ 0. -0.]",
          "[ 0. -0.]",
          "[ 0. -0.]",
          "[ 0. -0.]",
          "[ 0. -0.]",
          "[ 0. -0.]",
          "[ 0. -0.]",
          "[ 0. -0.]",
          "[ 0. -0.]",
          "[ 0. -0.]",
          "[ 0. -0.]",
          "[ 0. -0.]",
          "[ 0. -0.]",
          "[ 0. -0.]",
          "[ 0. -0.]",
          "[ 0. -0.]",
          "[ 0. -0.]",
          "[ 0. -0.]",
          "[ 0. -0.]",
          "[ 0. -0.]",
          "[ 0. -0.]",
          "[ 0. -0.]",
          "[ 0. -0.]",
          "[ 0. -0.]",
          "[ 0. -0.]",
          "[ 0. -0.]",
          "[ 0. -0.]",
          "[ 0. -0.]",
          "[ 0. -0.]",
          "[ 0. -0.]",
          "[ 0. -0.]",
          "[ 0. -0.]",
          "[ 0. -0.]",
          "[ 0. -0.]",
          "[ 0.00821149 -0.00247499]",
          "[ 0.00821149 -0.00247499]",
          "[ 0.00821149 -0.00247499]",
          "[ 0.00821149 -0.00247499]",
          "[ 0.00821149 -0.00247499]",
          "[ 0.00821149 -0.00247499]",
          "[ 0.00821149 -0.00247499]",
          "[-0.07324661  0.05978368]",
          "[-0.07324661  0.05978368]",
          "[-0.07324661  0.05978368]",
          "[-0.07324661  0.05978368]",
          "[-0.07324661  0.05978368]",
          "[-0.07324661  0.05978368]",
          "[-0.07324661  0.05978368]",
          "[-0.12429641  0.10235763]",
          "[-0.12429641  0.10235763]",
          "[-0.12429641  0.10235763]",
          "[-0.12429641  0.10235763]",
          "[-0.12429641  0.10235763]",
          "[-0.12429641  0.10235763]",
          "[-0.12429641  0.10235763]",
          "[ 0.13060045 -0.0418556 ]",
          "[ 0.13060045 -0.0418556 ]",
          "[ 0.13060045 -0.0418556 ]",
          "[ 0.13060045 -0.0418556 ]",
          "[ 0.13060045 -0.0418556 ]",
          "[ 0.13060045 -0.0418556 ]",
          "[ 0.13060045 -0.0418556 ]",
          "[ 0.0437507  -0.03419131]",
          "[ 0.0437507  -0.03419131]",
          "[ 0.0437507  -0.03419131]",
          "[ 0.0437507  -0.03419131]",
          "[ 0.0437507  -0.03419131]",
          "[ 0.0437507  -0.03419131]",
          "[ 0.0437507  -0.03419131]",
          "[ 0. -0.]",
          "[ 0. -0.]",
          "[ 0. -0.]",
          "[ 0. -0.]",
          "[ 0. -0.]",
          "[ 0. -0.]",
          "[ 0. -0.]",
          "[ 0. -0.]",
          "[ 0. -0.]",
          "[ 0. -0.]",
          "[ 0. -0.]",
          "[ 0. -0.]",
          "[ 0. -0.]",
          "[ 0. -0.]",
          "[ 0. -0.]",
          "[ 0. -0.]",
          "[ 0. -0.]",
          "[ 0. -0.]",
          "[ 0. -0.]",
          "[ 0. -0.]",
          "[ 0. -0.]",
          "[ 0. -0.]",
          "[ 0. -0.]",
          "[ 0. -0.]",
          "[ 0. -0.]",
          "[ 0. -0.]",
          "[ 0. -0.]",
          "[ 0. -0.]",
          "[ 0.05282204 -0.01372265]",
          "[ 0.05282204 -0.01372265]",
          "[ 0.05282204 -0.01372265]",
          "[ 0.05282204 -0.01372265]",
          "[ 0.05282204 -0.01372265]",
          "[ 0.05282204 -0.01372265]",
          "[ 0.05282204 -0.01372265]",
          "[ 0. -0.]",
          "[ 0. -0.]",
          "[ 0. -0.]",
          "[ 0. -0.]",
          "[ 0. -0.]",
          "[ 0. -0.]",
          "[ 0. -0.]",
          "[ 0. -0.]",
          "[ 0. -0.]",
          "[ 0. -0.]",
          "[ 0. -0.]",
          "[ 0. -0.]",
          "[ 0. -0.]",
          "[ 0. -0.]",
          "[ 0. -0.]",
          "[ 0. -0.]",
          "[ 0. -0.]",
          "[ 0. -0.]",
          "[ 0. -0.]",
          "[ 0. -0.]",
          "[ 0. -0.]",
          "[ 0. -0.]",
          "[ 0. -0.]",
          "[ 0. -0.]",
          "[ 0. -0.]",
          "[ 0. -0.]",
          "[ 0. -0.]",
          "[ 0. -0.]",
          "[ 0. -0.]",
          "[ 0. -0.]",
          "[ 0. -0.]",
          "[ 0. -0.]",
          "[ 0. -0.]",
          "[ 0. -0.]",
          "[ 0. -0.]",
          "[-0.13256864  0.05008746]",
          "[-0.13256864  0.05008746]",
          "[-0.13256864  0.05008746]",
          "[-0.13256864  0.05008746]",
          "[-0.13256864  0.05008746]",
          "[-0.13256864  0.05008746]",
          "[-0.13256864  0.05008746]",
          "[-0.29153881  0.08897496]",
          "[-0.29153881  0.08897496]",
          "[-0.29153881  0.08897496]",
          "[-0.29153881  0.08897496]",
          "[-0.29153881  0.08897496]",
          "[-0.29153881  0.08897496]",
          "[-0.29153881  0.08897496]",
          "[-0.03472012  0.01144286]",
          "[-0.03472012  0.01144286]",
          "[-0.03472012  0.01144286]",
          "[-0.03472012  0.01144286]",
          "[-0.03472012  0.01144286]",
          "[-0.03472012  0.01144286]",
          "[-0.03472012  0.01144286]",
          "[ 0.0437507  -0.01310215]",
          "[ 0.0437507  -0.01310215]",
          "[ 0.0437507  -0.01310215]",
          "[ 0.0437507  -0.01310215]",
          "[ 0.0437507  -0.01310215]",
          "[ 0.0437507  -0.01310215]",
          "[ 0.0437507  -0.01310215]",
          "[-0.06646372  0.01775362]",
          "[-0.06646372  0.01775362]",
          "[-0.06646372  0.01775362]",
          "[-0.06646372  0.01775362]",
          "[-0.06646372  0.01775362]",
          "[-0.06646372  0.01775362]",
          "[-0.06646372  0.01775362]",
          "[ 0. -0.]",
          "[ 0. -0.]",
          "[ 0. -0.]",
          "[ 0. -0.]",
          "[ 0. -0.]",
          "[ 0. -0.]",
          "[ 0. -0.]",
          "[ 0. -0.]",
          "[ 0. -0.]",
          "[ 0. -0.]",
          "[ 0. -0.]",
          "[ 0. -0.]",
          "[ 0. -0.]",
          "[ 0. -0.]",
          "[ 0. -0.]",
          "[ 0. -0.]",
          "[ 0. -0.]",
          "[ 0. -0.]",
          "[ 0. -0.]",
          "[ 0. -0.]",
          "[ 0. -0.]",
          "[ 0. -0.]",
          "[ 0. -0.]",
          "[ 0. -0.]",
          "[ 0. -0.]",
          "[ 0. -0.]",
          "[ 0. -0.]",
          "[ 0. -0.]",
          "[ 0. -0.]",
          "[ 0. -0.]",
          "[ 0. -0.]",
          "[ 0. -0.]",
          "[ 0. -0.]",
          "[ 0. -0.]",
          "[ 0. -0.]",
          "[ 0.00634286 -0.00365326]",
          "[ 0.00634286 -0.00365326]",
          "[ 0.00634286 -0.00365326]",
          "[ 0.00634286 -0.00365326]",
          "[ 0.00634286 -0.00365326]",
          "[ 0.00634286 -0.00365326]",
          "[ 0.00634286 -0.00365326]",
          "[-0.01087194  0.00782581]",
          "[-0.01087194  0.00782581]",
          "[-0.01087194  0.00782581]",
          "[-0.01087194  0.00782581]",
          "[-0.01087194  0.00782581]",
          "[-0.01087194  0.00782581]",
          "[-0.01087194  0.00782581]",
          "[ 0.01222914 -0.0073625 ]",
          "[ 0.01222914 -0.0073625 ]",
          "[ 0.01222914 -0.0073625 ]",
          "[ 0.01222914 -0.0073625 ]",
          "[ 0.01222914 -0.0073625 ]",
          "[ 0.01222914 -0.0073625 ]",
          "[ 0.01222914 -0.0073625 ]",
          "[ 0.05282204 -0.04580319]",
          "[ 0.05282204 -0.04580319]",
          "[ 0.05282204 -0.04580319]",
          "[ 0.05282204 -0.04580319]",
          "[ 0.05282204 -0.04580319]",
          "[ 0.05282204 -0.04580319]",
          "[ 0.05282204 -0.04580319]",
          "[ 0. -0.]",
          "[ 0. -0.]",
          "[ 0. -0.]",
          "[ 0. -0.]",
          "[ 0. -0.]",
          "[ 0. -0.]",
          "[ 0. -0.]"
         ],
         "line": {
          "color": "red"
         },
         "meta": {},
         "mode": "lines",
         "name": "Some data",
         "type": "scatter",
         "x": {
          "bdata": "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",
          "dtype": "f8"
         },
         "y": {
          "bdata": "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",
          "dtype": "f8"
         }
        },
        {
         "line": {
          "color": "pink",
          "dash": "dash",
          "width": 5
         },
         "meta": {},
         "mode": "lines",
         "name": "orbitals separators",
         "opacity": 0.8,
         "showlegend": false,
         "type": "scatter",
         "x": {
          "bdata": "AAAAAAAA4L8AAAAAAAASQAAAAAAAAPh/AAAAAAAA4D8AAAAAAADgPwAAAAAAAPh/",
          "dtype": "f8"
         },
         "y": {
          "bdata": "AAAAAAAA4D8AAAAAAADgPwAAAAAAAPh/AAAAAAAA4L8AAAAAAAASQAAAAAAAAPh/",
          "dtype": "f8"
         }
        },
        {
         "line": {
          "color": "gray"
         },
         "meta": {},
         "mode": "lines",
         "name": "atoms separators",
         "opacity": 1,
         "showlegend": false,
         "type": "scatter",
         "x": {
          "bdata": "AAAAAAAA4L8AAAAAAAASQAAAAAAAAPh/AAAAAAAADEAAAAAAAAAMQAAAAAAAAPh/",
          "dtype": "f8"
         },
         "y": {
          "bdata": "AAAAAAAADEAAAAAAAAAMQAAAAAAAAPh/AAAAAAAA4L8AAAAAAAASQAAAAAAAAPh/",
          "dtype": "f8"
         }
        }
       ],
       "layout": {
        "coloraxis": {
         "cmid": 0,
         "colorscale": [
          [
           0.0,
           "rgb(0, 147, 146)"
          ],
          [
           0.16666666666666666,
           "rgb(57, 177, 133)"
          ],
          [
           0.3333333333333333,
           "rgb(156, 203, 134)"
          ],
          [
           0.5,
           "rgb(233, 226, 156)"
          ],
          [
           0.6666666666666666,
           "rgb(238, 180, 121)"
          ],
          [
           0.8333333333333334,
           "rgb(232, 132, 113)"
          ],
          [
           1.0,
           "rgb(207, 89, 126)"
          ]
         ],
         "showscale": false
        },
        "scene": {
         "aspectmode": "data",
         "xaxis": {
          "range": [
           -0.5,
           14.5
          ]
         },
         "yaxis": {
          "range": [
           4.5,
           -0.5
          ]
         }
        },
        "template": {
         "layout": {
          "hovermode": "closest",
          "paper_bgcolor": "white",
          "plot_bgcolor": "white",
          "scene": {
           "xaxis": {
            "color": "black",
            "gridcolor": "#ccc",
            "gridwidth": 1,
            "linewidth": 1,
            "mirror": true,
            "showgrid": false,
            "showline": true,
            "ticklen": 5,
            "ticks": "outside",
            "ticksuffix": " ",
            "visible": true,
            "zeroline": false,
            "zerolinecolor": "#ccc",
            "zerolinewidth": 1
           },
           "yaxis": {
            "color": "black",
            "gridcolor": "#ccc",
            "gridwidth": 1,
            "linewidth": 1,
            "mirror": true,
            "showgrid": false,
            "showline": true,
            "ticklen": 5,
            "ticks": "outside",
            "ticksuffix": " ",
            "visible": true,
            "zeroline": false,
            "zerolinecolor": "#ccc",
            "zerolinewidth": 1
           },
           "zaxis": {
            "color": "black",
            "gridcolor": "#ccc",
            "gridwidth": 1,
            "linewidth": 1,
            "mirror": true,
            "showgrid": false,
            "showline": true,
            "ticklen": 5,
            "ticks": "outside",
            "ticksuffix": " ",
            "visible": true,
            "zeroline": false,
            "zerolinecolor": "#ccc",
            "zerolinewidth": 1
           }
          },
          "xaxis": {
           "color": "black",
           "gridcolor": "#ccc",
           "gridwidth": 1,
           "linewidth": 1,
           "mirror": true,
           "showgrid": false,
           "showline": true,
           "ticklen": 5,
           "ticks": "outside",
           "ticksuffix": " ",
           "visible": true,
           "zeroline": false,
           "zerolinecolor": "#ccc",
           "zerolinewidth": 1
          },
          "yaxis": {
           "color": "black",
           "gridcolor": "#ccc",
           "gridwidth": 1,
           "linewidth": 1,
           "mirror": true,
           "showgrid": false,
           "showline": true,
           "ticklen": 5,
           "ticks": "outside",
           "ticksuffix": " ",
           "visible": true,
           "zeroline": false,
           "zerolinecolor": "#ccc",
           "zerolinewidth": 1
          }
         }
        },
        "xaxis": {
         "constrain": "domain",
         "range": [
          -0.5,
          14.5
         ],
         "scaleanchor": "y",
         "scaleratio": 1
        },
        "yaxis": {
         "constrain": "domain",
         "range": [
          4.5,
          -0.5
         ]
        }
       }
      }
     },
     "metadata": {},
     "output_type": "display_data"
    }
   ],
   "source": [
    "plot.update_inputs(\n",
    "    arrows=[\n",
    "        {\"color\": \"blue\", \"center\": \"start\", \"name\": \"Hamiltonian value\"},\n",
    "        {\"data\": arrow_data, \"color\": \"red\", \"center\": \"end\", \"name\": \"Some data\"},\n",
    "    ]\n",
    ")"
   ]
  }
 ],
 "metadata": {
  "kernelspec": {
   "display_name": "Python 3 (ipykernel)",
   "language": "python",
   "name": "python3"
  },
  "language_info": {
   "codemirror_mode": {
    "name": "ipython",
    "version": 3
   },
   "file_extension": ".py",
   "mimetype": "text/x-python",
   "name": "python",
   "nbconvert_exporter": "python",
   "pygments_lexer": "ipython3",
   "version": "3.12.11"
  }
 },
 "nbformat": 4,
 "nbformat_minor": 4
}
