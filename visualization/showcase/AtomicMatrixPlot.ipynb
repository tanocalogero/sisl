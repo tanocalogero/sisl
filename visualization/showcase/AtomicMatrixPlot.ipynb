{
 "cells": [
  {
   "cell_type": "markdown",
   "metadata": {
    "tags": [
     "notebook-header"
    ]
   },
   "source": [
    "[![GitHub issues by-label](https://img.shields.io/github/issues-raw/pfebrer/sisl/AtomicmatrixPlot?style=for-the-badge)](https://github.com/pfebrer/sisl/labels/AtomicMatrixPlot)"
   ]
  },
  {
   "cell_type": "markdown",
   "metadata": {},
   "source": [
    "AtomicMatrixPlot\n",
    "=========\n",
    "\n",
    "`AtomicMatrixPlot` allows you to visualize sparse matrices. This can help you:\n",
    "\n",
    "- **Understand sparse matrices better**, if you are new to them.\n",
    "- Easily **introspect matrices** to debug or understand how to implement new functionality."
   ]
  },
  {
   "cell_type": "code",
   "execution_count": 1,
   "metadata": {
    "execution": {
     "iopub.execute_input": "2025-08-23T10:46:52.955572Z",
     "iopub.status.busy": "2025-08-23T10:46:52.955383Z",
     "iopub.status.idle": "2025-08-23T10:46:53.880755Z",
     "shell.execute_reply": "2025-08-23T10:46:53.880081Z"
    }
   },
   "outputs": [],
   "source": [
    "import sisl\n",
    "\n",
    "import numpy as np"
   ]
  },
  {
   "cell_type": "markdown",
   "metadata": {},
   "source": [
    "Let's create a toy **Hamiltonian** that we will play with. We will use a chain with two atoms: \n",
    "\n",
    "  - C: With one s orbital and a set of p orbitals.\n",
    "  - H: With one s orbital."
   ]
  },
  {
   "cell_type": "code",
   "execution_count": 2,
   "metadata": {
    "execution": {
     "iopub.execute_input": "2025-08-23T10:46:53.883059Z",
     "iopub.status.busy": "2025-08-23T10:46:53.882715Z",
     "iopub.status.idle": "2025-08-23T10:46:53.912524Z",
     "shell.execute_reply": "2025-08-23T10:46:53.911814Z"
    }
   },
   "outputs": [],
   "source": [
    "# Create a C atom with s and p orbitals\n",
    "C = sisl.Atom(\n",
    "    \"C\",\n",
    "    orbitals=[\n",
    "        sisl.AtomicOrbital(\"2s\", R=0.8),\n",
    "        sisl.AtomicOrbital(\"2py\", R=0.8),\n",
    "        sisl.AtomicOrbital(\"2pz\", R=0.8),\n",
    "        sisl.AtomicOrbital(\"2px\", R=0.8),\n",
    "    ],\n",
    ")\n",
    "\n",
    "# Create a H atom with one s orbital\n",
    "H = sisl.Atom(\"H\", orbitals=[sisl.AtomicOrbital(\"1s\", R=0.4)])\n",
    "\n",
    "# Create a chain along X\n",
    "geom = sisl.Geometry(\n",
    "    [[0, 0, 0], [1, 0, 0]],\n",
    "    atoms=[C, H],\n",
    "    lattice=sisl.Lattice([2, 10, 10], nsc=[3, 1, 1]),\n",
    ")\n",
    "\n",
    "# Random Hamiltonian with non-zero elements only for orbitals that overlap\n",
    "H = sisl.Hamiltonian(geom)\n",
    "for i in range(geom.no):\n",
    "    for j in range(geom.no * 3):\n",
    "        dist = geom.rij(*geom.o2a([i, j]))\n",
    "        if dist < 1.2:\n",
    "            H[i, j] = (np.random.random() - 0.5) * (1 if j < geom.no else 0.2)\n",
    "# Symmetrize it to make it more realistic\n",
    "H = H + H.transpose()"
   ]
  },
  {
   "cell_type": "markdown",
   "metadata": {},
   "source": [
    "## Matrix as an image\n",
    "\n",
    "The default mode of `AtomicMatrixPlot` is simply to plot an image where the values of the matrix are encoded as colors:"
   ]
  },
  {
   "cell_type": "code",
   "execution_count": 3,
   "metadata": {
    "execution": {
     "iopub.execute_input": "2025-08-23T10:46:53.914790Z",
     "iopub.status.busy": "2025-08-23T10:46:53.914584Z",
     "iopub.status.idle": "2025-08-23T10:46:54.719785Z",
     "shell.execute_reply": "2025-08-23T10:46:54.719245Z"
    }
   },
   "outputs": [
    {
     "data": {
      "application/vnd.plotly.v1+json": {
       "config": {
        "plotlyServerURL": "https://plot.ly"
       },
       "data": [
        {
         "coloraxis": "coloraxis",
         "meta": {},
         "opacity": 1,
         "type": "heatmap",
         "z": {
          "bdata": "Zj44kial5L+AWqLFeL58PxCtfTWiG9o/otOlkjQC1T/Gz3Cenz3nPwAAAAAAAPh/AAAAAAAA+H8AAAAAAAD4fwAAAAAAAPh/k1gyToQXkD8AAAAAAAD4fwAAAAAAAPh/AAAAAAAA+H8AAAAAAAD4fwAAAAAAAPh/gFqixXi+fD+cn7Gpbm/Uv4pCaXQ95tW/ROW7RHVY5L84TWpXQy62vwAAAAAAAPh/AAAAAAAA+H8AAAAAAAD4fwAAAAAAAPh/kJxOoI1Fpb8AAAAAAAD4fwAAAAAAAPh/AAAAAAAA+H8AAAAAAAD4fwAAAAAAAPh/EK19NaIb2j+KQml0PebVv7Y/yms1RuG/COxPx49PvD8Q0bVTOwWmvwAAAAAAAPh/AAAAAAAA+H8AAAAAAAD4fwAAAAAAAPh/HeooupCftb8AAAAAAAD4fwAAAAAAAPh/AAAAAAAA+H8AAAAAAAD4fwAAAAAAAPh/otOlkjQC1T9E5btEdVjkvwjsT8ePT7w/mKfoPVrf1T/sgvepDMvivwAAAAAAAPh/AAAAAAAA+H8AAAAAAAD4fwAAAAAAAPh/oKcYhYRhp78AAAAAAAD4fwAAAAAAAPh/AAAAAAAA+H8AAAAAAAD4fwAAAAAAAPh/xs9wnp895z84TWpXQy62vxDRtVM7Baa/7IL3qQzL4r8kJHAG1fnTvwAAAAAAAPh/AAAAAAAA+H8AAAAAAAD4fwAAAAAAAPh/AAAAAAAA+H+TWDJOhBeQP5CcTqCNRaW/HeooupCftb+gpxiFhGGnvwAAAAAAAPh/",
          "dtype": "f8",
          "shape": "5, 15"
         },
         "zsmooth": false
        }
       ],
       "layout": {
        "coloraxis": {
         "cmid": 0,
         "colorscale": [
          [
           0.0,
           "rgb(103,0,31)"
          ],
          [
           0.1,
           "rgb(178,24,43)"
          ],
          [
           0.2,
           "rgb(214,96,77)"
          ],
          [
           0.3,
           "rgb(244,165,130)"
          ],
          [
           0.4,
           "rgb(253,219,199)"
          ],
          [
           0.5,
           "rgb(247,247,247)"
          ],
          [
           0.6,
           "rgb(209,229,240)"
          ],
          [
           0.7,
           "rgb(146,197,222)"
          ],
          [
           0.8,
           "rgb(67,147,195)"
          ],
          [
           0.9,
           "rgb(33,102,172)"
          ],
          [
           1.0,
           "rgb(5,48,97)"
          ]
         ],
         "showscale": true
        },
        "scene": {
         "aspectmode": "data",
         "xaxis": {
          "range": [
           -0.5,
           14.5
          ]
         },
         "yaxis": {
          "range": [
           4.5,
           -0.5
          ]
         }
        },
        "template": {
         "layout": {
          "hovermode": "closest",
          "paper_bgcolor": "white",
          "plot_bgcolor": "white",
          "scene": {
           "xaxis": {
            "color": "black",
            "gridcolor": "#ccc",
            "gridwidth": 1,
            "linewidth": 1,
            "mirror": true,
            "showgrid": false,
            "showline": true,
            "ticklen": 5,
            "ticks": "outside",
            "ticksuffix": " ",
            "visible": true,
            "zeroline": false,
            "zerolinecolor": "#ccc",
            "zerolinewidth": 1
           },
           "yaxis": {
            "color": "black",
            "gridcolor": "#ccc",
            "gridwidth": 1,
            "linewidth": 1,
            "mirror": true,
            "showgrid": false,
            "showline": true,
            "ticklen": 5,
            "ticks": "outside",
            "ticksuffix": " ",
            "visible": true,
            "zeroline": false,
            "zerolinecolor": "#ccc",
            "zerolinewidth": 1
           },
           "zaxis": {
            "color": "black",
            "gridcolor": "#ccc",
            "gridwidth": 1,
            "linewidth": 1,
            "mirror": true,
            "showgrid": false,
            "showline": true,
            "ticklen": 5,
            "ticks": "outside",
            "ticksuffix": " ",
            "visible": true,
            "zeroline": false,
            "zerolinecolor": "#ccc",
            "zerolinewidth": 1
           }
          },
          "xaxis": {
           "color": "black",
           "gridcolor": "#ccc",
           "gridwidth": 1,
           "linewidth": 1,
           "mirror": true,
           "showgrid": false,
           "showline": true,
           "ticklen": 5,
           "ticks": "outside",
           "ticksuffix": " ",
           "visible": true,
           "zeroline": false,
           "zerolinecolor": "#ccc",
           "zerolinewidth": 1
          },
          "yaxis": {
           "color": "black",
           "gridcolor": "#ccc",
           "gridwidth": 1,
           "linewidth": 1,
           "mirror": true,
           "showgrid": false,
           "showline": true,
           "ticklen": 5,
           "ticks": "outside",
           "ticksuffix": " ",
           "visible": true,
           "zeroline": false,
           "zerolinecolor": "#ccc",
           "zerolinewidth": 1
          }
         }
        },
        "xaxis": {
         "constrain": "domain",
         "range": [
          -0.5,
          14.5
         ],
         "scaleanchor": "y",
         "scaleratio": 1
        },
        "yaxis": {
         "constrain": "domain",
         "range": [
          4.5,
          -0.5
         ]
        }
       }
      }
     },
     "metadata": {},
     "output_type": "display_data"
    }
   ],
   "source": [
    "plot = H.plot()\n",
    "plot.get()"
   ]
  },
  {
   "cell_type": "markdown",
   "metadata": {},
   "source": [
    "## Changing the colorscale\n",
    "\n",
    "The most obvious thing to tweak here is the colorscale, you can do so by using the `colorscale` input, which, as usual, accepts any colorscale that the plotting backend can understand."
   ]
  },
  {
   "cell_type": "code",
   "execution_count": 4,
   "metadata": {
    "execution": {
     "iopub.execute_input": "2025-08-23T10:46:54.721567Z",
     "iopub.status.busy": "2025-08-23T10:46:54.721363Z",
     "iopub.status.idle": "2025-08-23T10:46:54.795830Z",
     "shell.execute_reply": "2025-08-23T10:46:54.795216Z"
    }
   },
   "outputs": [
    {
     "name": "stderr",
     "output_type": "stream",
     "text": [
      "INFO\tTask(Task-3) nodify.node.139788942796864:node.py:get()- No need to evaluate\n"
     ]
    },
    {
     "name": "stderr",
     "output_type": "stream",
     "text": [
      "INFO\tTask(Task-3) nodify.node.139788942790912:node.py:get()- No need to evaluate\n"
     ]
    },
    {
     "name": "stderr",
     "output_type": "stream",
     "text": [
      "INFO\tTask(Task-3) nodify.node.139788942790240:node.py:get()- No need to evaluate\n"
     ]
    },
    {
     "name": "stderr",
     "output_type": "stream",
     "text": [
      "INFO\tTask(Task-3) nodify.node.139788942790144:node.py:get()- No need to evaluate\n"
     ]
    },
    {
     "name": "stderr",
     "output_type": "stream",
     "text": [
      "INFO\tTask(Task-3) nodify.node.139788942791968:node.py:get()- No need to evaluate\n"
     ]
    },
    {
     "name": "stderr",
     "output_type": "stream",
     "text": [
      "INFO\tTask(Task-3) nodify.node.139788942798640:node.py:get()- No need to evaluate\n"
     ]
    },
    {
     "name": "stderr",
     "output_type": "stream",
     "text": [
      "INFO\tTask(Task-3) nodify.node.139788942793792:node.py:get()- Evaluated because inputs changed.\n"
     ]
    },
    {
     "name": "stderr",
     "output_type": "stream",
     "text": [
      "INFO\tTask(Task-3) nodify.node.139788942794176:node.py:get()- No need to evaluate\n"
     ]
    },
    {
     "name": "stderr",
     "output_type": "stream",
     "text": [
      "INFO\tTask(Task-3) nodify.node.139788942790912:node.py:get()- No need to evaluate\n"
     ]
    },
    {
     "name": "stderr",
     "output_type": "stream",
     "text": [
      "INFO\tTask(Task-3) nodify.node.139788942794560:node.py:get()- No need to evaluate\n"
     ]
    },
    {
     "name": "stderr",
     "output_type": "stream",
     "text": [
      "INFO\tTask(Task-3) nodify.node.139788942794176:node.py:get()- No need to evaluate\n"
     ]
    },
    {
     "name": "stderr",
     "output_type": "stream",
     "text": [
      "INFO\tTask(Task-3) nodify.node.139788942799936:node.py:get()- No need to evaluate\n"
     ]
    },
    {
     "name": "stderr",
     "output_type": "stream",
     "text": [
      "INFO\tTask(Task-3) nodify.node.139788942793408:node.py:get()- No need to evaluate\n"
     ]
    },
    {
     "name": "stderr",
     "output_type": "stream",
     "text": [
      "INFO\tTask(Task-3) nodify.node.139788942794944:node.py:get()- No need to evaluate\n"
     ]
    },
    {
     "name": "stderr",
     "output_type": "stream",
     "text": [
      "INFO\tTask(Task-3) nodify.node.139788942795328:node.py:get()- No need to evaluate\n"
     ]
    },
    {
     "name": "stderr",
     "output_type": "stream",
     "text": [
      "INFO\tTask(Task-3) nodify.node.139788942799840:node.py:get()- Evaluated because inputs changed.\n"
     ]
    },
    {
     "name": "stderr",
     "output_type": "stream",
     "text": [
      "INFO\tTask(Task-3) nodify.node.139788942790912:node.py:get()- No need to evaluate\n"
     ]
    },
    {
     "name": "stderr",
     "output_type": "stream",
     "text": [
      "INFO\tTask(Task-3) nodify.node.139788942790240:node.py:get()- No need to evaluate\n"
     ]
    },
    {
     "name": "stderr",
     "output_type": "stream",
     "text": [
      "INFO\tTask(Task-3) nodify.node.139788942790144:node.py:get()- No need to evaluate\n"
     ]
    },
    {
     "name": "stderr",
     "output_type": "stream",
     "text": [
      "INFO\tTask(Task-3) nodify.node.139788942791968:node.py:get()- No need to evaluate\n"
     ]
    },
    {
     "name": "stderr",
     "output_type": "stream",
     "text": [
      "INFO\tTask(Task-3) nodify.node.139788942798640:node.py:get()- No need to evaluate\n"
     ]
    },
    {
     "name": "stderr",
     "output_type": "stream",
     "text": [
      "INFO\tTask(Task-3) nodify.node.139788942796480:node.py:get()- No need to evaluate\n"
     ]
    },
    {
     "name": "stderr",
     "output_type": "stream",
     "text": [
      "INFO\tTask(Task-3) nodify.node.139788942800608:node.py:get()- No need to evaluate\n"
     ]
    },
    {
     "name": "stderr",
     "output_type": "stream",
     "text": [
      "INFO\tTask(Task-3) nodify.node.139788942799984:node.py:get()- No need to evaluate\n"
     ]
    },
    {
     "name": "stderr",
     "output_type": "stream",
     "text": [
      "INFO\tTask(Task-3) nodify.node.139788942791632:node.py:get()- No need to evaluate\n"
     ]
    },
    {
     "name": "stderr",
     "output_type": "stream",
     "text": [
      "INFO\tTask(Task-3) nodify.node.139788942790912:node.py:get()- No need to evaluate\n"
     ]
    },
    {
     "name": "stderr",
     "output_type": "stream",
     "text": [
      "INFO\tTask(Task-3) nodify.node.139788942792208:node.py:get()- No need to evaluate\n"
     ]
    },
    {
     "name": "stderr",
     "output_type": "stream",
     "text": [
      "INFO\tTask(Task-3) nodify.node.139788942798160:node.py:get()- No need to evaluate\n"
     ]
    },
    {
     "name": "stderr",
     "output_type": "stream",
     "text": [
      "INFO\tTask(Task-3) nodify.node.139788942790912:node.py:get()- No need to evaluate\n"
     ]
    },
    {
     "name": "stderr",
     "output_type": "stream",
     "text": [
      "INFO\tTask(Task-3) nodify.node.139788942798736:node.py:get()- No need to evaluate\n"
     ]
    },
    {
     "name": "stderr",
     "output_type": "stream",
     "text": [
      "INFO\tTask(Task-3) nodify.node.139788942800656:node.py:get()- No need to evaluate\n"
     ]
    },
    {
     "name": "stderr",
     "output_type": "stream",
     "text": [
      "INFO\tTask(Task-3) nodify.node.139788942792592:node.py:get()- No need to evaluate\n"
     ]
    },
    {
     "name": "stderr",
     "output_type": "stream",
     "text": [
      "INFO\tTask(Task-3) nodify.node.139788942790912:node.py:get()- No need to evaluate\n"
     ]
    },
    {
     "name": "stderr",
     "output_type": "stream",
     "text": [
      "INFO\tTask(Task-3) nodify.node.139788942792208:node.py:get()- No need to evaluate\n"
     ]
    },
    {
     "name": "stderr",
     "output_type": "stream",
     "text": [
      "INFO\tTask(Task-3) nodify.node.139788942798160:node.py:get()- No need to evaluate\n"
     ]
    },
    {
     "name": "stderr",
     "output_type": "stream",
     "text": [
      "INFO\tTask(Task-3) nodify.node.139788942790912:node.py:get()- No need to evaluate\n"
     ]
    },
    {
     "name": "stderr",
     "output_type": "stream",
     "text": [
      "INFO\tTask(Task-3) nodify.node.139788942798736:node.py:get()- No need to evaluate\n"
     ]
    },
    {
     "name": "stderr",
     "output_type": "stream",
     "text": [
      "INFO\tTask(Task-3) nodify.node.139788942801328:node.py:get()- No need to evaluate\n"
     ]
    },
    {
     "name": "stderr",
     "output_type": "stream",
     "text": [
      "INFO\tTask(Task-3) nodify.node.139788942792976:node.py:get()- No need to evaluate\n"
     ]
    },
    {
     "name": "stderr",
     "output_type": "stream",
     "text": [
      "INFO\tTask(Task-3) nodify.node.139788942790912:node.py:get()- No need to evaluate\n"
     ]
    },
    {
     "name": "stderr",
     "output_type": "stream",
     "text": [
      "INFO\tTask(Task-3) nodify.node.139788942792208:node.py:get()- No need to evaluate\n"
     ]
    },
    {
     "name": "stderr",
     "output_type": "stream",
     "text": [
      "INFO\tTask(Task-3) nodify.node.139788942798160:node.py:get()- No need to evaluate\n"
     ]
    },
    {
     "name": "stderr",
     "output_type": "stream",
     "text": [
      "INFO\tTask(Task-3) nodify.node.139788942790912:node.py:get()- No need to evaluate\n"
     ]
    },
    {
     "name": "stderr",
     "output_type": "stream",
     "text": [
      "INFO\tTask(Task-3) nodify.node.139788942798736:node.py:get()- No need to evaluate\n"
     ]
    },
    {
     "name": "stderr",
     "output_type": "stream",
     "text": [
      "INFO\tTask(Task-3) nodify.node.139788942801664:node.py:get()- No need to evaluate\n"
     ]
    },
    {
     "name": "stderr",
     "output_type": "stream",
     "text": [
      "INFO\tTask(Task-3) nodify.node.139788942790912:node.py:get()- No need to evaluate\n"
     ]
    },
    {
     "name": "stderr",
     "output_type": "stream",
     "text": [
      "INFO\tTask(Task-3) nodify.node.139788942790240:node.py:get()- No need to evaluate\n"
     ]
    },
    {
     "name": "stderr",
     "output_type": "stream",
     "text": [
      "INFO\tTask(Task-3) nodify.node.139788942790144:node.py:get()- No need to evaluate\n"
     ]
    },
    {
     "name": "stderr",
     "output_type": "stream",
     "text": [
      "INFO\tTask(Task-3) nodify.node.139788942791968:node.py:get()- No need to evaluate\n"
     ]
    },
    {
     "name": "stderr",
     "output_type": "stream",
     "text": [
      "INFO\tTask(Task-3) nodify.node.139788942798640:node.py:get()- No need to evaluate\n"
     ]
    },
    {
     "name": "stderr",
     "output_type": "stream",
     "text": [
      "INFO\tTask(Task-3) nodify.node.139788942790912:node.py:get()- No need to evaluate\n"
     ]
    },
    {
     "name": "stderr",
     "output_type": "stream",
     "text": [
      "INFO\tTask(Task-3) nodify.node.139788942792208:node.py:get()- No need to evaluate\n"
     ]
    },
    {
     "name": "stderr",
     "output_type": "stream",
     "text": [
      "INFO\tTask(Task-3) nodify.node.139788942798160:node.py:get()- No need to evaluate\n"
     ]
    },
    {
     "name": "stderr",
     "output_type": "stream",
     "text": [
      "INFO\tTask(Task-3) nodify.node.139788942790912:node.py:get()- No need to evaluate\n"
     ]
    },
    {
     "name": "stderr",
     "output_type": "stream",
     "text": [
      "INFO\tTask(Task-3) nodify.node.139788942798736:node.py:get()- No need to evaluate\n"
     ]
    },
    {
     "name": "stderr",
     "output_type": "stream",
     "text": [
      "INFO\tTask(Task-3) nodify.node.139788942796096:node.py:get()- No need to evaluate\n"
     ]
    },
    {
     "name": "stderr",
     "output_type": "stream",
     "text": [
      "INFO\tTask(Task-3) nodify.node.139788942795712:node.py:get()- No need to evaluate\n"
     ]
    },
    {
     "name": "stderr",
     "output_type": "stream",
     "text": [
      "INFO\tTask(Task-3) nodify.node.139788942798448:node.py:get()- No need to evaluate\n"
     ]
    },
    {
     "name": "stderr",
     "output_type": "stream",
     "text": [
      "INFO\tTask(Task-3) nodify.node.139788942798880:node.py:get()- Evaluated because inputs changed.\n"
     ]
    },
    {
     "name": "stderr",
     "output_type": "stream",
     "text": [
      "INFO\tTask(Task-3) nodify.node.139788945755072:node.py:get()- Evaluated because inputs changed.\n"
     ]
    },
    {
     "name": "stderr",
     "output_type": "stream",
     "text": [
      "INFO\tTask(Task-3) nodify.node.139788942802432:node.py:get()- Evaluated because inputs changed.\n"
     ]
    },
    {
     "data": {
      "application/vnd.plotly.v1+json": {
       "config": {
        "plotlyServerURL": "https://plot.ly"
       },
       "data": [
        {
         "coloraxis": "coloraxis",
         "meta": {},
         "opacity": 1,
         "type": "heatmap",
         "z": {
          "bdata": "Zj44kial5L+AWqLFeL58PxCtfTWiG9o/otOlkjQC1T/Gz3Cenz3nPwAAAAAAAPh/AAAAAAAA+H8AAAAAAAD4fwAAAAAAAPh/k1gyToQXkD8AAAAAAAD4fwAAAAAAAPh/AAAAAAAA+H8AAAAAAAD4fwAAAAAAAPh/gFqixXi+fD+cn7Gpbm/Uv4pCaXQ95tW/ROW7RHVY5L84TWpXQy62vwAAAAAAAPh/AAAAAAAA+H8AAAAAAAD4fwAAAAAAAPh/kJxOoI1Fpb8AAAAAAAD4fwAAAAAAAPh/AAAAAAAA+H8AAAAAAAD4fwAAAAAAAPh/EK19NaIb2j+KQml0PebVv7Y/yms1RuG/COxPx49PvD8Q0bVTOwWmvwAAAAAAAPh/AAAAAAAA+H8AAAAAAAD4fwAAAAAAAPh/HeooupCftb8AAAAAAAD4fwAAAAAAAPh/AAAAAAAA+H8AAAAAAAD4fwAAAAAAAPh/otOlkjQC1T9E5btEdVjkvwjsT8ePT7w/mKfoPVrf1T/sgvepDMvivwAAAAAAAPh/AAAAAAAA+H8AAAAAAAD4fwAAAAAAAPh/oKcYhYRhp78AAAAAAAD4fwAAAAAAAPh/AAAAAAAA+H8AAAAAAAD4fwAAAAAAAPh/xs9wnp895z84TWpXQy62vxDRtVM7Baa/7IL3qQzL4r8kJHAG1fnTvwAAAAAAAPh/AAAAAAAA+H8AAAAAAAD4fwAAAAAAAPh/AAAAAAAA+H+TWDJOhBeQP5CcTqCNRaW/HeooupCftb+gpxiFhGGnvwAAAAAAAPh/",
          "dtype": "f8",
          "shape": "5, 15"
         },
         "zsmooth": false
        }
       ],
       "layout": {
        "coloraxis": {
         "cmid": 0,
         "colorscale": [
          [
           0.0,
           "rgb(0, 147, 146)"
          ],
          [
           0.16666666666666666,
           "rgb(57, 177, 133)"
          ],
          [
           0.3333333333333333,
           "rgb(156, 203, 134)"
          ],
          [
           0.5,
           "rgb(233, 226, 156)"
          ],
          [
           0.6666666666666666,
           "rgb(238, 180, 121)"
          ],
          [
           0.8333333333333334,
           "rgb(232, 132, 113)"
          ],
          [
           1.0,
           "rgb(207, 89, 126)"
          ]
         ],
         "showscale": true
        },
        "scene": {
         "aspectmode": "data",
         "xaxis": {
          "range": [
           -0.5,
           14.5
          ]
         },
         "yaxis": {
          "range": [
           4.5,
           -0.5
          ]
         }
        },
        "template": {
         "layout": {
          "hovermode": "closest",
          "paper_bgcolor": "white",
          "plot_bgcolor": "white",
          "scene": {
           "xaxis": {
            "color": "black",
            "gridcolor": "#ccc",
            "gridwidth": 1,
            "linewidth": 1,
            "mirror": true,
            "showgrid": false,
            "showline": true,
            "ticklen": 5,
            "ticks": "outside",
            "ticksuffix": " ",
            "visible": true,
            "zeroline": false,
            "zerolinecolor": "#ccc",
            "zerolinewidth": 1
           },
           "yaxis": {
            "color": "black",
            "gridcolor": "#ccc",
            "gridwidth": 1,
            "linewidth": 1,
            "mirror": true,
            "showgrid": false,
            "showline": true,
            "ticklen": 5,
            "ticks": "outside",
            "ticksuffix": " ",
            "visible": true,
            "zeroline": false,
            "zerolinecolor": "#ccc",
            "zerolinewidth": 1
           },
           "zaxis": {
            "color": "black",
            "gridcolor": "#ccc",
            "gridwidth": 1,
            "linewidth": 1,
            "mirror": true,
            "showgrid": false,
            "showline": true,
            "ticklen": 5,
            "ticks": "outside",
            "ticksuffix": " ",
            "visible": true,
            "zeroline": false,
            "zerolinecolor": "#ccc",
            "zerolinewidth": 1
           }
          },
          "xaxis": {
           "color": "black",
           "gridcolor": "#ccc",
           "gridwidth": 1,
           "linewidth": 1,
           "mirror": true,
           "showgrid": false,
           "showline": true,
           "ticklen": 5,
           "ticks": "outside",
           "ticksuffix": " ",
           "visible": true,
           "zeroline": false,
           "zerolinecolor": "#ccc",
           "zerolinewidth": 1
          },
          "yaxis": {
           "color": "black",
           "gridcolor": "#ccc",
           "gridwidth": 1,
           "linewidth": 1,
           "mirror": true,
           "showgrid": false,
           "showline": true,
           "ticklen": 5,
           "ticks": "outside",
           "ticksuffix": " ",
           "visible": true,
           "zeroline": false,
           "zerolinecolor": "#ccc",
           "zerolinewidth": 1
          }
         }
        },
        "xaxis": {
         "constrain": "domain",
         "range": [
          -0.5,
          14.5
         ],
         "scaleanchor": "y",
         "scaleratio": 1
        },
        "yaxis": {
         "constrain": "domain",
         "range": [
          4.5,
          -0.5
         ]
        }
       }
      }
     },
     "metadata": {},
     "output_type": "display_data"
    }
   ],
   "source": [
    "plot.update_inputs(colorscale=\"temps\")"
   ]
  },
  {
   "cell_type": "markdown",
   "metadata": {},
   "source": [
    "Note how the `temps` colorscale makes it more clear that there are elements of the matrix that are not set (because the matrix is sparse). Those elements are not displayed.\n",
    "\n",
    "The range of colors **by default is set from min to max**. **Unless there are negative and positive values**. In that case, the colorscale is just **centered at 0** by default.\n",
    "\n",
    "However, you can set the `crange` and `cmid` to customize the colorscale as you wish. For example, to center the scale at `0.5`:"
   ]
  },
  {
   "cell_type": "code",
   "execution_count": 5,
   "metadata": {
    "execution": {
     "iopub.execute_input": "2025-08-23T10:46:54.797632Z",
     "iopub.status.busy": "2025-08-23T10:46:54.797432Z",
     "iopub.status.idle": "2025-08-23T10:46:54.873248Z",
     "shell.execute_reply": "2025-08-23T10:46:54.872799Z"
    }
   },
   "outputs": [
    {
     "name": "stderr",
     "output_type": "stream",
     "text": [
      "INFO\tTask(Task-3) nodify.node.139788942796864:node.py:get()- No need to evaluate\n"
     ]
    },
    {
     "name": "stderr",
     "output_type": "stream",
     "text": [
      "INFO\tTask(Task-3) nodify.node.139788942790912:node.py:get()- No need to evaluate\n"
     ]
    },
    {
     "name": "stderr",
     "output_type": "stream",
     "text": [
      "INFO\tTask(Task-3) nodify.node.139788942790240:node.py:get()- No need to evaluate\n"
     ]
    },
    {
     "name": "stderr",
     "output_type": "stream",
     "text": [
      "INFO\tTask(Task-3) nodify.node.139788942790144:node.py:get()- No need to evaluate\n"
     ]
    },
    {
     "name": "stderr",
     "output_type": "stream",
     "text": [
      "INFO\tTask(Task-3) nodify.node.139788942791968:node.py:get()- No need to evaluate\n"
     ]
    },
    {
     "name": "stderr",
     "output_type": "stream",
     "text": [
      "INFO\tTask(Task-3) nodify.node.139788942798640:node.py:get()- No need to evaluate\n"
     ]
    },
    {
     "name": "stderr",
     "output_type": "stream",
     "text": [
      "INFO\tTask(Task-3) nodify.node.139788942793792:node.py:get()- No need to evaluate\n"
     ]
    },
    {
     "name": "stderr",
     "output_type": "stream",
     "text": [
      "INFO\tTask(Task-3) nodify.node.139788942794176:node.py:get()- No need to evaluate\n"
     ]
    },
    {
     "name": "stderr",
     "output_type": "stream",
     "text": [
      "INFO\tTask(Task-3) nodify.node.139788942790912:node.py:get()- No need to evaluate\n"
     ]
    },
    {
     "name": "stderr",
     "output_type": "stream",
     "text": [
      "INFO\tTask(Task-3) nodify.node.139788942794560:node.py:get()- Evaluated because inputs changed.\n"
     ]
    },
    {
     "name": "stderr",
     "output_type": "stream",
     "text": [
      "INFO\tTask(Task-3) nodify.node.139788942794176:node.py:get()- No need to evaluate\n"
     ]
    },
    {
     "name": "stderr",
     "output_type": "stream",
     "text": [
      "INFO\tTask(Task-3) nodify.node.139788942799936:node.py:get()- Evaluated because inputs changed.\n"
     ]
    },
    {
     "name": "stderr",
     "output_type": "stream",
     "text": [
      "INFO\tTask(Task-3) nodify.node.139788942793408:node.py:get()- No need to evaluate\n"
     ]
    },
    {
     "name": "stderr",
     "output_type": "stream",
     "text": [
      "INFO\tTask(Task-3) nodify.node.139788942794944:node.py:get()- No need to evaluate\n"
     ]
    },
    {
     "name": "stderr",
     "output_type": "stream",
     "text": [
      "INFO\tTask(Task-3) nodify.node.139788942795328:node.py:get()- No need to evaluate\n"
     ]
    },
    {
     "name": "stderr",
     "output_type": "stream",
     "text": [
      "INFO\tTask(Task-3) nodify.node.139788942799840:node.py:get()- Evaluated because inputs changed.\n"
     ]
    },
    {
     "name": "stderr",
     "output_type": "stream",
     "text": [
      "INFO\tTask(Task-3) nodify.node.139788942790912:node.py:get()- No need to evaluate\n"
     ]
    },
    {
     "name": "stderr",
     "output_type": "stream",
     "text": [
      "INFO\tTask(Task-3) nodify.node.139788942790240:node.py:get()- No need to evaluate\n"
     ]
    },
    {
     "name": "stderr",
     "output_type": "stream",
     "text": [
      "INFO\tTask(Task-3) nodify.node.139788942790144:node.py:get()- No need to evaluate\n"
     ]
    },
    {
     "name": "stderr",
     "output_type": "stream",
     "text": [
      "INFO\tTask(Task-3) nodify.node.139788942791968:node.py:get()- No need to evaluate\n"
     ]
    },
    {
     "name": "stderr",
     "output_type": "stream",
     "text": [
      "INFO\tTask(Task-3) nodify.node.139788942798640:node.py:get()- No need to evaluate\n"
     ]
    },
    {
     "name": "stderr",
     "output_type": "stream",
     "text": [
      "INFO\tTask(Task-3) nodify.node.139788942796480:node.py:get()- No need to evaluate\n"
     ]
    },
    {
     "name": "stderr",
     "output_type": "stream",
     "text": [
      "INFO\tTask(Task-3) nodify.node.139788942800608:node.py:get()- No need to evaluate\n"
     ]
    },
    {
     "name": "stderr",
     "output_type": "stream",
     "text": [
      "INFO\tTask(Task-3) nodify.node.139788942799984:node.py:get()- No need to evaluate\n"
     ]
    },
    {
     "name": "stderr",
     "output_type": "stream",
     "text": [
      "INFO\tTask(Task-3) nodify.node.139788942791632:node.py:get()- No need to evaluate\n"
     ]
    },
    {
     "name": "stderr",
     "output_type": "stream",
     "text": [
      "INFO\tTask(Task-3) nodify.node.139788942790912:node.py:get()- No need to evaluate\n"
     ]
    },
    {
     "name": "stderr",
     "output_type": "stream",
     "text": [
      "INFO\tTask(Task-3) nodify.node.139788942792208:node.py:get()- No need to evaluate\n"
     ]
    },
    {
     "name": "stderr",
     "output_type": "stream",
     "text": [
      "INFO\tTask(Task-3) nodify.node.139788942798160:node.py:get()- No need to evaluate\n"
     ]
    },
    {
     "name": "stderr",
     "output_type": "stream",
     "text": [
      "INFO\tTask(Task-3) nodify.node.139788942790912:node.py:get()- No need to evaluate\n"
     ]
    },
    {
     "name": "stderr",
     "output_type": "stream",
     "text": [
      "INFO\tTask(Task-3) nodify.node.139788942798736:node.py:get()- No need to evaluate\n"
     ]
    },
    {
     "name": "stderr",
     "output_type": "stream",
     "text": [
      "INFO\tTask(Task-3) nodify.node.139788942800656:node.py:get()- No need to evaluate\n"
     ]
    },
    {
     "name": "stderr",
     "output_type": "stream",
     "text": [
      "INFO\tTask(Task-3) nodify.node.139788942792592:node.py:get()- No need to evaluate\n"
     ]
    },
    {
     "name": "stderr",
     "output_type": "stream",
     "text": [
      "INFO\tTask(Task-3) nodify.node.139788942790912:node.py:get()- No need to evaluate\n"
     ]
    },
    {
     "name": "stderr",
     "output_type": "stream",
     "text": [
      "INFO\tTask(Task-3) nodify.node.139788942792208:node.py:get()- No need to evaluate\n"
     ]
    },
    {
     "name": "stderr",
     "output_type": "stream",
     "text": [
      "INFO\tTask(Task-3) nodify.node.139788942798160:node.py:get()- No need to evaluate\n"
     ]
    },
    {
     "name": "stderr",
     "output_type": "stream",
     "text": [
      "INFO\tTask(Task-3) nodify.node.139788942790912:node.py:get()- No need to evaluate\n"
     ]
    },
    {
     "name": "stderr",
     "output_type": "stream",
     "text": [
      "INFO\tTask(Task-3) nodify.node.139788942798736:node.py:get()- No need to evaluate\n"
     ]
    },
    {
     "name": "stderr",
     "output_type": "stream",
     "text": [
      "INFO\tTask(Task-3) nodify.node.139788942801328:node.py:get()- No need to evaluate\n"
     ]
    },
    {
     "name": "stderr",
     "output_type": "stream",
     "text": [
      "INFO\tTask(Task-3) nodify.node.139788942792976:node.py:get()- No need to evaluate\n"
     ]
    },
    {
     "name": "stderr",
     "output_type": "stream",
     "text": [
      "INFO\tTask(Task-3) nodify.node.139788942790912:node.py:get()- No need to evaluate\n"
     ]
    },
    {
     "name": "stderr",
     "output_type": "stream",
     "text": [
      "INFO\tTask(Task-3) nodify.node.139788942792208:node.py:get()- No need to evaluate\n"
     ]
    },
    {
     "name": "stderr",
     "output_type": "stream",
     "text": [
      "INFO\tTask(Task-3) nodify.node.139788942798160:node.py:get()- No need to evaluate\n"
     ]
    },
    {
     "name": "stderr",
     "output_type": "stream",
     "text": [
      "INFO\tTask(Task-3) nodify.node.139788942790912:node.py:get()- No need to evaluate\n"
     ]
    },
    {
     "name": "stderr",
     "output_type": "stream",
     "text": [
      "INFO\tTask(Task-3) nodify.node.139788942798736:node.py:get()- No need to evaluate\n"
     ]
    },
    {
     "name": "stderr",
     "output_type": "stream",
     "text": [
      "INFO\tTask(Task-3) nodify.node.139788942801664:node.py:get()- No need to evaluate\n"
     ]
    },
    {
     "name": "stderr",
     "output_type": "stream",
     "text": [
      "INFO\tTask(Task-3) nodify.node.139788942790912:node.py:get()- No need to evaluate\n"
     ]
    },
    {
     "name": "stderr",
     "output_type": "stream",
     "text": [
      "INFO\tTask(Task-3) nodify.node.139788942790240:node.py:get()- No need to evaluate\n"
     ]
    },
    {
     "name": "stderr",
     "output_type": "stream",
     "text": [
      "INFO\tTask(Task-3) nodify.node.139788942790144:node.py:get()- No need to evaluate\n"
     ]
    },
    {
     "name": "stderr",
     "output_type": "stream",
     "text": [
      "INFO\tTask(Task-3) nodify.node.139788942791968:node.py:get()- No need to evaluate\n"
     ]
    },
    {
     "name": "stderr",
     "output_type": "stream",
     "text": [
      "INFO\tTask(Task-3) nodify.node.139788942798640:node.py:get()- No need to evaluate\n"
     ]
    },
    {
     "name": "stderr",
     "output_type": "stream",
     "text": [
      "INFO\tTask(Task-3) nodify.node.139788942790912:node.py:get()- No need to evaluate\n"
     ]
    },
    {
     "name": "stderr",
     "output_type": "stream",
     "text": [
      "INFO\tTask(Task-3) nodify.node.139788942792208:node.py:get()- No need to evaluate\n"
     ]
    },
    {
     "name": "stderr",
     "output_type": "stream",
     "text": [
      "INFO\tTask(Task-3) nodify.node.139788942798160:node.py:get()- No need to evaluate\n"
     ]
    },
    {
     "name": "stderr",
     "output_type": "stream",
     "text": [
      "INFO\tTask(Task-3) nodify.node.139788942790912:node.py:get()- No need to evaluate\n"
     ]
    },
    {
     "name": "stderr",
     "output_type": "stream",
     "text": [
      "INFO\tTask(Task-3) nodify.node.139788942798736:node.py:get()- No need to evaluate\n"
     ]
    },
    {
     "name": "stderr",
     "output_type": "stream",
     "text": [
      "INFO\tTask(Task-3) nodify.node.139788942796096:node.py:get()- No need to evaluate\n"
     ]
    },
    {
     "name": "stderr",
     "output_type": "stream",
     "text": [
      "INFO\tTask(Task-3) nodify.node.139788942795712:node.py:get()- No need to evaluate\n"
     ]
    },
    {
     "name": "stderr",
     "output_type": "stream",
     "text": [
      "INFO\tTask(Task-3) nodify.node.139788942798448:node.py:get()- No need to evaluate\n"
     ]
    },
    {
     "name": "stderr",
     "output_type": "stream",
     "text": [
      "INFO\tTask(Task-3) nodify.node.139788942798880:node.py:get()- Evaluated because inputs changed.\n"
     ]
    },
    {
     "name": "stderr",
     "output_type": "stream",
     "text": [
      "INFO\tTask(Task-3) nodify.node.139788945755072:node.py:get()- Evaluated because inputs changed.\n"
     ]
    },
    {
     "name": "stderr",
     "output_type": "stream",
     "text": [
      "INFO\tTask(Task-3) nodify.node.139788942802432:node.py:get()- Evaluated because inputs changed.\n"
     ]
    },
    {
     "data": {
      "application/vnd.plotly.v1+json": {
       "config": {
        "plotlyServerURL": "https://plot.ly"
       },
       "data": [
        {
         "coloraxis": "coloraxis",
         "meta": {},
         "opacity": 1,
         "type": "heatmap",
         "z": {
          "bdata": "Zj44kial5L+AWqLFeL58PxCtfTWiG9o/otOlkjQC1T/Gz3Cenz3nPwAAAAAAAPh/AAAAAAAA+H8AAAAAAAD4fwAAAAAAAPh/k1gyToQXkD8AAAAAAAD4fwAAAAAAAPh/AAAAAAAA+H8AAAAAAAD4fwAAAAAAAPh/gFqixXi+fD+cn7Gpbm/Uv4pCaXQ95tW/ROW7RHVY5L84TWpXQy62vwAAAAAAAPh/AAAAAAAA+H8AAAAAAAD4fwAAAAAAAPh/kJxOoI1Fpb8AAAAAAAD4fwAAAAAAAPh/AAAAAAAA+H8AAAAAAAD4fwAAAAAAAPh/EK19NaIb2j+KQml0PebVv7Y/yms1RuG/COxPx49PvD8Q0bVTOwWmvwAAAAAAAPh/AAAAAAAA+H8AAAAAAAD4fwAAAAAAAPh/HeooupCftb8AAAAAAAD4fwAAAAAAAPh/AAAAAAAA+H8AAAAAAAD4fwAAAAAAAPh/otOlkjQC1T9E5btEdVjkvwjsT8ePT7w/mKfoPVrf1T/sgvepDMvivwAAAAAAAPh/AAAAAAAA+H8AAAAAAAD4fwAAAAAAAPh/oKcYhYRhp78AAAAAAAD4fwAAAAAAAPh/AAAAAAAA+H8AAAAAAAD4fwAAAAAAAPh/xs9wnp895z84TWpXQy62vxDRtVM7Baa/7IL3qQzL4r8kJHAG1fnTvwAAAAAAAPh/AAAAAAAA+H8AAAAAAAD4fwAAAAAAAPh/AAAAAAAA+H+TWDJOhBeQP5CcTqCNRaW/HeooupCftb+gpxiFhGGnvwAAAAAAAPh/",
          "dtype": "f8",
          "shape": "5, 15"
         },
         "zsmooth": false
        }
       ],
       "layout": {
        "coloraxis": {
         "cmid": 0.5,
         "colorscale": [
          [
           0.0,
           "rgb(0, 147, 146)"
          ],
          [
           0.16666666666666666,
           "rgb(57, 177, 133)"
          ],
          [
           0.3333333333333333,
           "rgb(156, 203, 134)"
          ],
          [
           0.5,
           "rgb(233, 226, 156)"
          ],
          [
           0.6666666666666666,
           "rgb(238, 180, 121)"
          ],
          [
           0.8333333333333334,
           "rgb(232, 132, 113)"
          ],
          [
           1.0,
           "rgb(207, 89, 126)"
          ]
         ],
         "showscale": true
        },
        "scene": {
         "aspectmode": "data",
         "xaxis": {
          "range": [
           -0.5,
           14.5
          ]
         },
         "yaxis": {
          "range": [
           4.5,
           -0.5
          ]
         }
        },
        "template": {
         "layout": {
          "hovermode": "closest",
          "paper_bgcolor": "white",
          "plot_bgcolor": "white",
          "scene": {
           "xaxis": {
            "color": "black",
            "gridcolor": "#ccc",
            "gridwidth": 1,
            "linewidth": 1,
            "mirror": true,
            "showgrid": false,
            "showline": true,
            "ticklen": 5,
            "ticks": "outside",
            "ticksuffix": " ",
            "visible": true,
            "zeroline": false,
            "zerolinecolor": "#ccc",
            "zerolinewidth": 1
           },
           "yaxis": {
            "color": "black",
            "gridcolor": "#ccc",
            "gridwidth": 1,
            "linewidth": 1,
            "mirror": true,
            "showgrid": false,
            "showline": true,
            "ticklen": 5,
            "ticks": "outside",
            "ticksuffix": " ",
            "visible": true,
            "zeroline": false,
            "zerolinecolor": "#ccc",
            "zerolinewidth": 1
           },
           "zaxis": {
            "color": "black",
            "gridcolor": "#ccc",
            "gridwidth": 1,
            "linewidth": 1,
            "mirror": true,
            "showgrid": false,
            "showline": true,
            "ticklen": 5,
            "ticks": "outside",
            "ticksuffix": " ",
            "visible": true,
            "zeroline": false,
            "zerolinecolor": "#ccc",
            "zerolinewidth": 1
           }
          },
          "xaxis": {
           "color": "black",
           "gridcolor": "#ccc",
           "gridwidth": 1,
           "linewidth": 1,
           "mirror": true,
           "showgrid": false,
           "showline": true,
           "ticklen": 5,
           "ticks": "outside",
           "ticksuffix": " ",
           "visible": true,
           "zeroline": false,
           "zerolinecolor": "#ccc",
           "zerolinewidth": 1
          },
          "yaxis": {
           "color": "black",
           "gridcolor": "#ccc",
           "gridwidth": 1,
           "linewidth": 1,
           "mirror": true,
           "showgrid": false,
           "showline": true,
           "ticklen": 5,
           "ticks": "outside",
           "ticksuffix": " ",
           "visible": true,
           "zeroline": false,
           "zerolinecolor": "#ccc",
           "zerolinewidth": 1
          }
         }
        },
        "xaxis": {
         "constrain": "domain",
         "range": [
          -0.5,
          14.5
         ],
         "scaleanchor": "y",
         "scaleratio": 1
        },
        "yaxis": {
         "constrain": "domain",
         "range": [
          4.5,
          -0.5
         ]
        }
       }
      }
     },
     "metadata": {},
     "output_type": "display_data"
    }
   ],
   "source": [
    "plot.update_inputs(cmid=0.5)"
   ]
  },
  {
   "cell_type": "markdown",
   "metadata": {},
   "source": [
    "And to set the range of the scale from `-4` to `1`:"
   ]
  },
  {
   "cell_type": "code",
   "execution_count": 6,
   "metadata": {
    "execution": {
     "iopub.execute_input": "2025-08-23T10:46:54.874971Z",
     "iopub.status.busy": "2025-08-23T10:46:54.874805Z",
     "iopub.status.idle": "2025-08-23T10:46:54.952292Z",
     "shell.execute_reply": "2025-08-23T10:46:54.951771Z"
    }
   },
   "outputs": [
    {
     "name": "stderr",
     "output_type": "stream",
     "text": [
      "INFO\tTask(Task-3) nodify.node.139788942796864:node.py:get()- No need to evaluate\n"
     ]
    },
    {
     "name": "stderr",
     "output_type": "stream",
     "text": [
      "INFO\tTask(Task-3) nodify.node.139788942790912:node.py:get()- No need to evaluate\n"
     ]
    },
    {
     "name": "stderr",
     "output_type": "stream",
     "text": [
      "INFO\tTask(Task-3) nodify.node.139788942790240:node.py:get()- No need to evaluate\n"
     ]
    },
    {
     "name": "stderr",
     "output_type": "stream",
     "text": [
      "INFO\tTask(Task-3) nodify.node.139788942790144:node.py:get()- No need to evaluate\n"
     ]
    },
    {
     "name": "stderr",
     "output_type": "stream",
     "text": [
      "INFO\tTask(Task-3) nodify.node.139788942791968:node.py:get()- No need to evaluate\n"
     ]
    },
    {
     "name": "stderr",
     "output_type": "stream",
     "text": [
      "INFO\tTask(Task-3) nodify.node.139788942798640:node.py:get()- No need to evaluate\n"
     ]
    },
    {
     "name": "stderr",
     "output_type": "stream",
     "text": [
      "INFO\tTask(Task-3) nodify.node.139788942793792:node.py:get()- No need to evaluate\n"
     ]
    },
    {
     "name": "stderr",
     "output_type": "stream",
     "text": [
      "INFO\tTask(Task-3) nodify.node.139788942794176:node.py:get()- Evaluated because inputs changed.\n"
     ]
    },
    {
     "name": "stderr",
     "output_type": "stream",
     "text": [
      "INFO\tTask(Task-3) nodify.node.139788942790912:node.py:get()- No need to evaluate\n"
     ]
    },
    {
     "name": "stderr",
     "output_type": "stream",
     "text": [
      "INFO\tTask(Task-3) nodify.node.139788942794560:node.py:get()- No need to evaluate\n"
     ]
    },
    {
     "name": "stderr",
     "output_type": "stream",
     "text": [
      "INFO\tTask(Task-3) nodify.node.139788942794176:node.py:get()- No need to evaluate\n"
     ]
    },
    {
     "name": "stderr",
     "output_type": "stream",
     "text": [
      "INFO\tTask(Task-3) nodify.node.139788942799936:node.py:get()- Evaluated because inputs changed.\n"
     ]
    },
    {
     "name": "stderr",
     "output_type": "stream",
     "text": [
      "INFO\tTask(Task-3) nodify.node.139788942793408:node.py:get()- No need to evaluate\n"
     ]
    },
    {
     "name": "stderr",
     "output_type": "stream",
     "text": [
      "INFO\tTask(Task-3) nodify.node.139788942794944:node.py:get()- No need to evaluate\n"
     ]
    },
    {
     "name": "stderr",
     "output_type": "stream",
     "text": [
      "INFO\tTask(Task-3) nodify.node.139788942795328:node.py:get()- No need to evaluate\n"
     ]
    },
    {
     "name": "stderr",
     "output_type": "stream",
     "text": [
      "INFO\tTask(Task-3) nodify.node.139788942799840:node.py:get()- Evaluated because inputs changed.\n"
     ]
    },
    {
     "name": "stderr",
     "output_type": "stream",
     "text": [
      "INFO\tTask(Task-3) nodify.node.139788942790912:node.py:get()- No need to evaluate\n"
     ]
    },
    {
     "name": "stderr",
     "output_type": "stream",
     "text": [
      "INFO\tTask(Task-3) nodify.node.139788942790240:node.py:get()- No need to evaluate\n"
     ]
    },
    {
     "name": "stderr",
     "output_type": "stream",
     "text": [
      "INFO\tTask(Task-3) nodify.node.139788942790144:node.py:get()- No need to evaluate\n"
     ]
    },
    {
     "name": "stderr",
     "output_type": "stream",
     "text": [
      "INFO\tTask(Task-3) nodify.node.139788942791968:node.py:get()- No need to evaluate\n"
     ]
    },
    {
     "name": "stderr",
     "output_type": "stream",
     "text": [
      "INFO\tTask(Task-3) nodify.node.139788942798640:node.py:get()- No need to evaluate\n"
     ]
    },
    {
     "name": "stderr",
     "output_type": "stream",
     "text": [
      "INFO\tTask(Task-3) nodify.node.139788942796480:node.py:get()- No need to evaluate\n"
     ]
    },
    {
     "name": "stderr",
     "output_type": "stream",
     "text": [
      "INFO\tTask(Task-3) nodify.node.139788942800608:node.py:get()- No need to evaluate\n"
     ]
    },
    {
     "name": "stderr",
     "output_type": "stream",
     "text": [
      "INFO\tTask(Task-3) nodify.node.139788942799984:node.py:get()- No need to evaluate\n"
     ]
    },
    {
     "name": "stderr",
     "output_type": "stream",
     "text": [
      "INFO\tTask(Task-3) nodify.node.139788942791632:node.py:get()- No need to evaluate\n"
     ]
    },
    {
     "name": "stderr",
     "output_type": "stream",
     "text": [
      "INFO\tTask(Task-3) nodify.node.139788942790912:node.py:get()- No need to evaluate\n"
     ]
    },
    {
     "name": "stderr",
     "output_type": "stream",
     "text": [
      "INFO\tTask(Task-3) nodify.node.139788942792208:node.py:get()- No need to evaluate\n"
     ]
    },
    {
     "name": "stderr",
     "output_type": "stream",
     "text": [
      "INFO\tTask(Task-3) nodify.node.139788942798160:node.py:get()- No need to evaluate\n"
     ]
    },
    {
     "name": "stderr",
     "output_type": "stream",
     "text": [
      "INFO\tTask(Task-3) nodify.node.139788942790912:node.py:get()- No need to evaluate\n"
     ]
    },
    {
     "name": "stderr",
     "output_type": "stream",
     "text": [
      "INFO\tTask(Task-3) nodify.node.139788942798736:node.py:get()- No need to evaluate\n"
     ]
    },
    {
     "name": "stderr",
     "output_type": "stream",
     "text": [
      "INFO\tTask(Task-3) nodify.node.139788942800656:node.py:get()- No need to evaluate\n"
     ]
    },
    {
     "name": "stderr",
     "output_type": "stream",
     "text": [
      "INFO\tTask(Task-3) nodify.node.139788942792592:node.py:get()- No need to evaluate\n"
     ]
    },
    {
     "name": "stderr",
     "output_type": "stream",
     "text": [
      "INFO\tTask(Task-3) nodify.node.139788942790912:node.py:get()- No need to evaluate\n"
     ]
    },
    {
     "name": "stderr",
     "output_type": "stream",
     "text": [
      "INFO\tTask(Task-3) nodify.node.139788942792208:node.py:get()- No need to evaluate\n"
     ]
    },
    {
     "name": "stderr",
     "output_type": "stream",
     "text": [
      "INFO\tTask(Task-3) nodify.node.139788942798160:node.py:get()- No need to evaluate\n"
     ]
    },
    {
     "name": "stderr",
     "output_type": "stream",
     "text": [
      "INFO\tTask(Task-3) nodify.node.139788942790912:node.py:get()- No need to evaluate\n"
     ]
    },
    {
     "name": "stderr",
     "output_type": "stream",
     "text": [
      "INFO\tTask(Task-3) nodify.node.139788942798736:node.py:get()- No need to evaluate\n"
     ]
    },
    {
     "name": "stderr",
     "output_type": "stream",
     "text": [
      "INFO\tTask(Task-3) nodify.node.139788942801328:node.py:get()- No need to evaluate\n"
     ]
    },
    {
     "name": "stderr",
     "output_type": "stream",
     "text": [
      "INFO\tTask(Task-3) nodify.node.139788942792976:node.py:get()- No need to evaluate\n"
     ]
    },
    {
     "name": "stderr",
     "output_type": "stream",
     "text": [
      "INFO\tTask(Task-3) nodify.node.139788942790912:node.py:get()- No need to evaluate\n"
     ]
    },
    {
     "name": "stderr",
     "output_type": "stream",
     "text": [
      "INFO\tTask(Task-3) nodify.node.139788942792208:node.py:get()- No need to evaluate\n"
     ]
    },
    {
     "name": "stderr",
     "output_type": "stream",
     "text": [
      "INFO\tTask(Task-3) nodify.node.139788942798160:node.py:get()- No need to evaluate\n"
     ]
    },
    {
     "name": "stderr",
     "output_type": "stream",
     "text": [
      "INFO\tTask(Task-3) nodify.node.139788942790912:node.py:get()- No need to evaluate\n"
     ]
    },
    {
     "name": "stderr",
     "output_type": "stream",
     "text": [
      "INFO\tTask(Task-3) nodify.node.139788942798736:node.py:get()- No need to evaluate\n"
     ]
    },
    {
     "name": "stderr",
     "output_type": "stream",
     "text": [
      "INFO\tTask(Task-3) nodify.node.139788942801664:node.py:get()- No need to evaluate\n"
     ]
    },
    {
     "name": "stderr",
     "output_type": "stream",
     "text": [
      "INFO\tTask(Task-3) nodify.node.139788942790912:node.py:get()- No need to evaluate\n"
     ]
    },
    {
     "name": "stderr",
     "output_type": "stream",
     "text": [
      "INFO\tTask(Task-3) nodify.node.139788942790240:node.py:get()- No need to evaluate\n"
     ]
    },
    {
     "name": "stderr",
     "output_type": "stream",
     "text": [
      "INFO\tTask(Task-3) nodify.node.139788942790144:node.py:get()- No need to evaluate\n"
     ]
    },
    {
     "name": "stderr",
     "output_type": "stream",
     "text": [
      "INFO\tTask(Task-3) nodify.node.139788942791968:node.py:get()- No need to evaluate\n"
     ]
    },
    {
     "name": "stderr",
     "output_type": "stream",
     "text": [
      "INFO\tTask(Task-3) nodify.node.139788942798640:node.py:get()- No need to evaluate\n"
     ]
    },
    {
     "name": "stderr",
     "output_type": "stream",
     "text": [
      "INFO\tTask(Task-3) nodify.node.139788942790912:node.py:get()- No need to evaluate\n"
     ]
    },
    {
     "name": "stderr",
     "output_type": "stream",
     "text": [
      "INFO\tTask(Task-3) nodify.node.139788942792208:node.py:get()- No need to evaluate\n"
     ]
    },
    {
     "name": "stderr",
     "output_type": "stream",
     "text": [
      "INFO\tTask(Task-3) nodify.node.139788942798160:node.py:get()- No need to evaluate\n"
     ]
    },
    {
     "name": "stderr",
     "output_type": "stream",
     "text": [
      "INFO\tTask(Task-3) nodify.node.139788942790912:node.py:get()- No need to evaluate\n"
     ]
    },
    {
     "name": "stderr",
     "output_type": "stream",
     "text": [
      "INFO\tTask(Task-3) nodify.node.139788942798736:node.py:get()- No need to evaluate\n"
     ]
    },
    {
     "name": "stderr",
     "output_type": "stream",
     "text": [
      "INFO\tTask(Task-3) nodify.node.139788942796096:node.py:get()- No need to evaluate\n"
     ]
    },
    {
     "name": "stderr",
     "output_type": "stream",
     "text": [
      "INFO\tTask(Task-3) nodify.node.139788942795712:node.py:get()- No need to evaluate\n"
     ]
    },
    {
     "name": "stderr",
     "output_type": "stream",
     "text": [
      "INFO\tTask(Task-3) nodify.node.139788942798448:node.py:get()- No need to evaluate\n"
     ]
    },
    {
     "name": "stderr",
     "output_type": "stream",
     "text": [
      "INFO\tTask(Task-3) nodify.node.139788942798880:node.py:get()- Evaluated because inputs changed.\n"
     ]
    },
    {
     "name": "stderr",
     "output_type": "stream",
     "text": [
      "INFO\tTask(Task-3) nodify.node.139788945755072:node.py:get()- Evaluated because inputs changed.\n"
     ]
    },
    {
     "name": "stderr",
     "output_type": "stream",
     "text": [
      "INFO\tTask(Task-3) nodify.node.139788942802432:node.py:get()- Evaluated because inputs changed.\n"
     ]
    },
    {
     "data": {
      "application/vnd.plotly.v1+json": {
       "config": {
        "plotlyServerURL": "https://plot.ly"
       },
       "data": [
        {
         "coloraxis": "coloraxis",
         "meta": {},
         "opacity": 1,
         "type": "heatmap",
         "z": {
          "bdata": "Zj44kial5L+AWqLFeL58PxCtfTWiG9o/otOlkjQC1T/Gz3Cenz3nPwAAAAAAAPh/AAAAAAAA+H8AAAAAAAD4fwAAAAAAAPh/k1gyToQXkD8AAAAAAAD4fwAAAAAAAPh/AAAAAAAA+H8AAAAAAAD4fwAAAAAAAPh/gFqixXi+fD+cn7Gpbm/Uv4pCaXQ95tW/ROW7RHVY5L84TWpXQy62vwAAAAAAAPh/AAAAAAAA+H8AAAAAAAD4fwAAAAAAAPh/kJxOoI1Fpb8AAAAAAAD4fwAAAAAAAPh/AAAAAAAA+H8AAAAAAAD4fwAAAAAAAPh/EK19NaIb2j+KQml0PebVv7Y/yms1RuG/COxPx49PvD8Q0bVTOwWmvwAAAAAAAPh/AAAAAAAA+H8AAAAAAAD4fwAAAAAAAPh/HeooupCftb8AAAAAAAD4fwAAAAAAAPh/AAAAAAAA+H8AAAAAAAD4fwAAAAAAAPh/otOlkjQC1T9E5btEdVjkvwjsT8ePT7w/mKfoPVrf1T/sgvepDMvivwAAAAAAAPh/AAAAAAAA+H8AAAAAAAD4fwAAAAAAAPh/oKcYhYRhp78AAAAAAAD4fwAAAAAAAPh/AAAAAAAA+H8AAAAAAAD4fwAAAAAAAPh/xs9wnp895z84TWpXQy62vxDRtVM7Baa/7IL3qQzL4r8kJHAG1fnTvwAAAAAAAPh/AAAAAAAA+H8AAAAAAAD4fwAAAAAAAPh/AAAAAAAA+H+TWDJOhBeQP5CcTqCNRaW/HeooupCftb+gpxiFhGGnvwAAAAAAAPh/",
          "dtype": "f8",
          "shape": "5, 15"
         },
         "zsmooth": false
        }
       ],
       "layout": {
        "coloraxis": {
         "cmax": 1,
         "cmid": 0.5,
         "cmin": -4,
         "colorscale": [
          [
           0.0,
           "rgb(0, 147, 146)"
          ],
          [
           0.16666666666666666,
           "rgb(57, 177, 133)"
          ],
          [
           0.3333333333333333,
           "rgb(156, 203, 134)"
          ],
          [
           0.5,
           "rgb(233, 226, 156)"
          ],
          [
           0.6666666666666666,
           "rgb(238, 180, 121)"
          ],
          [
           0.8333333333333334,
           "rgb(232, 132, 113)"
          ],
          [
           1.0,
           "rgb(207, 89, 126)"
          ]
         ],
         "showscale": true
        },
        "scene": {
         "aspectmode": "data",
         "xaxis": {
          "range": [
           -0.5,
           14.5
          ]
         },
         "yaxis": {
          "range": [
           4.5,
           -0.5
          ]
         }
        },
        "template": {
         "layout": {
          "hovermode": "closest",
          "paper_bgcolor": "white",
          "plot_bgcolor": "white",
          "scene": {
           "xaxis": {
            "color": "black",
            "gridcolor": "#ccc",
            "gridwidth": 1,
            "linewidth": 1,
            "mirror": true,
            "showgrid": false,
            "showline": true,
            "ticklen": 5,
            "ticks": "outside",
            "ticksuffix": " ",
            "visible": true,
            "zeroline": false,
            "zerolinecolor": "#ccc",
            "zerolinewidth": 1
           },
           "yaxis": {
            "color": "black",
            "gridcolor": "#ccc",
            "gridwidth": 1,
            "linewidth": 1,
            "mirror": true,
            "showgrid": false,
            "showline": true,
            "ticklen": 5,
            "ticks": "outside",
            "ticksuffix": " ",
            "visible": true,
            "zeroline": false,
            "zerolinecolor": "#ccc",
            "zerolinewidth": 1
           },
           "zaxis": {
            "color": "black",
            "gridcolor": "#ccc",
            "gridwidth": 1,
            "linewidth": 1,
            "mirror": true,
            "showgrid": false,
            "showline": true,
            "ticklen": 5,
            "ticks": "outside",
            "ticksuffix": " ",
            "visible": true,
            "zeroline": false,
            "zerolinecolor": "#ccc",
            "zerolinewidth": 1
           }
          },
          "xaxis": {
           "color": "black",
           "gridcolor": "#ccc",
           "gridwidth": 1,
           "linewidth": 1,
           "mirror": true,
           "showgrid": false,
           "showline": true,
           "ticklen": 5,
           "ticks": "outside",
           "ticksuffix": " ",
           "visible": true,
           "zeroline": false,
           "zerolinecolor": "#ccc",
           "zerolinewidth": 1
          },
          "yaxis": {
           "color": "black",
           "gridcolor": "#ccc",
           "gridwidth": 1,
           "linewidth": 1,
           "mirror": true,
           "showgrid": false,
           "showline": true,
           "ticklen": 5,
           "ticks": "outside",
           "ticksuffix": " ",
           "visible": true,
           "zeroline": false,
           "zerolinecolor": "#ccc",
           "zerolinewidth": 1
          }
         }
        },
        "xaxis": {
         "constrain": "domain",
         "range": [
          -0.5,
          14.5
         ],
         "scaleanchor": "y",
         "scaleratio": 1
        },
        "yaxis": {
         "constrain": "domain",
         "range": [
          4.5,
          -0.5
         ]
        }
       }
      }
     },
     "metadata": {},
     "output_type": "display_data"
    }
   ],
   "source": [
    "plot.update_inputs(crange=(-4, 1))"
   ]
  },
  {
   "cell_type": "markdown",
   "metadata": {},
   "source": [
    "Notice how **`crange` takes precedence over `cmid`**. Now, to go back to the default range, just set both to `None`."
   ]
  },
  {
   "cell_type": "code",
   "execution_count": 7,
   "metadata": {
    "execution": {
     "iopub.execute_input": "2025-08-23T10:46:54.954062Z",
     "iopub.status.busy": "2025-08-23T10:46:54.953883Z",
     "iopub.status.idle": "2025-08-23T10:46:55.036072Z",
     "shell.execute_reply": "2025-08-23T10:46:55.035585Z"
    }
   },
   "outputs": [
    {
     "name": "stderr",
     "output_type": "stream",
     "text": [
      "INFO\tTask(Task-3) nodify.node.139788942796864:node.py:get()- No need to evaluate\n"
     ]
    },
    {
     "name": "stderr",
     "output_type": "stream",
     "text": [
      "INFO\tTask(Task-3) nodify.node.139788942790912:node.py:get()- No need to evaluate\n"
     ]
    },
    {
     "name": "stderr",
     "output_type": "stream",
     "text": [
      "INFO\tTask(Task-3) nodify.node.139788942790240:node.py:get()- No need to evaluate\n"
     ]
    },
    {
     "name": "stderr",
     "output_type": "stream",
     "text": [
      "INFO\tTask(Task-3) nodify.node.139788942790144:node.py:get()- No need to evaluate\n"
     ]
    },
    {
     "name": "stderr",
     "output_type": "stream",
     "text": [
      "INFO\tTask(Task-3) nodify.node.139788942791968:node.py:get()- No need to evaluate\n"
     ]
    },
    {
     "name": "stderr",
     "output_type": "stream",
     "text": [
      "INFO\tTask(Task-3) nodify.node.139788942798640:node.py:get()- No need to evaluate\n"
     ]
    },
    {
     "name": "stderr",
     "output_type": "stream",
     "text": [
      "INFO\tTask(Task-3) nodify.node.139788942793792:node.py:get()- No need to evaluate\n"
     ]
    },
    {
     "name": "stderr",
     "output_type": "stream",
     "text": [
      "INFO\tTask(Task-3) nodify.node.139788942794176:node.py:get()- Evaluated because inputs changed.\n"
     ]
    },
    {
     "name": "stderr",
     "output_type": "stream",
     "text": [
      "INFO\tTask(Task-3) nodify.node.139788942790912:node.py:get()- No need to evaluate\n"
     ]
    },
    {
     "name": "stderr",
     "output_type": "stream",
     "text": [
      "INFO\tTask(Task-3) nodify.node.139788942794560:node.py:get()- Evaluated because inputs changed.\n"
     ]
    },
    {
     "name": "stderr",
     "output_type": "stream",
     "text": [
      "INFO\tTask(Task-3) nodify.node.139788942794176:node.py:get()- No need to evaluate\n"
     ]
    },
    {
     "name": "stderr",
     "output_type": "stream",
     "text": [
      "INFO\tTask(Task-3) nodify.node.139788942799936:node.py:get()- Evaluated because inputs changed.\n"
     ]
    },
    {
     "name": "stderr",
     "output_type": "stream",
     "text": [
      "INFO\tTask(Task-3) nodify.node.139788942793408:node.py:get()- No need to evaluate\n"
     ]
    },
    {
     "name": "stderr",
     "output_type": "stream",
     "text": [
      "INFO\tTask(Task-3) nodify.node.139788942794944:node.py:get()- No need to evaluate\n"
     ]
    },
    {
     "name": "stderr",
     "output_type": "stream",
     "text": [
      "INFO\tTask(Task-3) nodify.node.139788942795328:node.py:get()- No need to evaluate\n"
     ]
    },
    {
     "name": "stderr",
     "output_type": "stream",
     "text": [
      "INFO\tTask(Task-3) nodify.node.139788942799840:node.py:get()- Evaluated because inputs changed.\n"
     ]
    },
    {
     "name": "stderr",
     "output_type": "stream",
     "text": [
      "INFO\tTask(Task-3) nodify.node.139788942790912:node.py:get()- No need to evaluate\n"
     ]
    },
    {
     "name": "stderr",
     "output_type": "stream",
     "text": [
      "INFO\tTask(Task-3) nodify.node.139788942790240:node.py:get()- No need to evaluate\n"
     ]
    },
    {
     "name": "stderr",
     "output_type": "stream",
     "text": [
      "INFO\tTask(Task-3) nodify.node.139788942790144:node.py:get()- No need to evaluate\n"
     ]
    },
    {
     "name": "stderr",
     "output_type": "stream",
     "text": [
      "INFO\tTask(Task-3) nodify.node.139788942791968:node.py:get()- No need to evaluate\n"
     ]
    },
    {
     "name": "stderr",
     "output_type": "stream",
     "text": [
      "INFO\tTask(Task-3) nodify.node.139788942798640:node.py:get()- No need to evaluate\n"
     ]
    },
    {
     "name": "stderr",
     "output_type": "stream",
     "text": [
      "INFO\tTask(Task-3) nodify.node.139788942796480:node.py:get()- No need to evaluate\n"
     ]
    },
    {
     "name": "stderr",
     "output_type": "stream",
     "text": [
      "INFO\tTask(Task-3) nodify.node.139788942800608:node.py:get()- No need to evaluate\n"
     ]
    },
    {
     "name": "stderr",
     "output_type": "stream",
     "text": [
      "INFO\tTask(Task-3) nodify.node.139788942799984:node.py:get()- No need to evaluate\n"
     ]
    },
    {
     "name": "stderr",
     "output_type": "stream",
     "text": [
      "INFO\tTask(Task-3) nodify.node.139788942791632:node.py:get()- No need to evaluate\n"
     ]
    },
    {
     "name": "stderr",
     "output_type": "stream",
     "text": [
      "INFO\tTask(Task-3) nodify.node.139788942790912:node.py:get()- No need to evaluate\n"
     ]
    },
    {
     "name": "stderr",
     "output_type": "stream",
     "text": [
      "INFO\tTask(Task-3) nodify.node.139788942792208:node.py:get()- No need to evaluate\n"
     ]
    },
    {
     "name": "stderr",
     "output_type": "stream",
     "text": [
      "INFO\tTask(Task-3) nodify.node.139788942798160:node.py:get()- No need to evaluate\n"
     ]
    },
    {
     "name": "stderr",
     "output_type": "stream",
     "text": [
      "INFO\tTask(Task-3) nodify.node.139788942790912:node.py:get()- No need to evaluate\n"
     ]
    },
    {
     "name": "stderr",
     "output_type": "stream",
     "text": [
      "INFO\tTask(Task-3) nodify.node.139788942798736:node.py:get()- No need to evaluate\n"
     ]
    },
    {
     "name": "stderr",
     "output_type": "stream",
     "text": [
      "INFO\tTask(Task-3) nodify.node.139788942800656:node.py:get()- No need to evaluate\n"
     ]
    },
    {
     "name": "stderr",
     "output_type": "stream",
     "text": [
      "INFO\tTask(Task-3) nodify.node.139788942792592:node.py:get()- No need to evaluate\n"
     ]
    },
    {
     "name": "stderr",
     "output_type": "stream",
     "text": [
      "INFO\tTask(Task-3) nodify.node.139788942790912:node.py:get()- No need to evaluate\n"
     ]
    },
    {
     "name": "stderr",
     "output_type": "stream",
     "text": [
      "INFO\tTask(Task-3) nodify.node.139788942792208:node.py:get()- No need to evaluate\n"
     ]
    },
    {
     "name": "stderr",
     "output_type": "stream",
     "text": [
      "INFO\tTask(Task-3) nodify.node.139788942798160:node.py:get()- No need to evaluate\n"
     ]
    },
    {
     "name": "stderr",
     "output_type": "stream",
     "text": [
      "INFO\tTask(Task-3) nodify.node.139788942790912:node.py:get()- No need to evaluate\n"
     ]
    },
    {
     "name": "stderr",
     "output_type": "stream",
     "text": [
      "INFO\tTask(Task-3) nodify.node.139788942798736:node.py:get()- No need to evaluate\n"
     ]
    },
    {
     "name": "stderr",
     "output_type": "stream",
     "text": [
      "INFO\tTask(Task-3) nodify.node.139788942801328:node.py:get()- No need to evaluate\n"
     ]
    },
    {
     "name": "stderr",
     "output_type": "stream",
     "text": [
      "INFO\tTask(Task-3) nodify.node.139788942792976:node.py:get()- No need to evaluate\n"
     ]
    },
    {
     "name": "stderr",
     "output_type": "stream",
     "text": [
      "INFO\tTask(Task-3) nodify.node.139788942790912:node.py:get()- No need to evaluate\n"
     ]
    },
    {
     "name": "stderr",
     "output_type": "stream",
     "text": [
      "INFO\tTask(Task-3) nodify.node.139788942792208:node.py:get()- No need to evaluate\n"
     ]
    },
    {
     "name": "stderr",
     "output_type": "stream",
     "text": [
      "INFO\tTask(Task-3) nodify.node.139788942798160:node.py:get()- No need to evaluate\n"
     ]
    },
    {
     "name": "stderr",
     "output_type": "stream",
     "text": [
      "INFO\tTask(Task-3) nodify.node.139788942790912:node.py:get()- No need to evaluate\n"
     ]
    },
    {
     "name": "stderr",
     "output_type": "stream",
     "text": [
      "INFO\tTask(Task-3) nodify.node.139788942798736:node.py:get()- No need to evaluate\n"
     ]
    },
    {
     "name": "stderr",
     "output_type": "stream",
     "text": [
      "INFO\tTask(Task-3) nodify.node.139788942801664:node.py:get()- No need to evaluate\n"
     ]
    },
    {
     "name": "stderr",
     "output_type": "stream",
     "text": [
      "INFO\tTask(Task-3) nodify.node.139788942790912:node.py:get()- No need to evaluate\n"
     ]
    },
    {
     "name": "stderr",
     "output_type": "stream",
     "text": [
      "INFO\tTask(Task-3) nodify.node.139788942790240:node.py:get()- No need to evaluate\n"
     ]
    },
    {
     "name": "stderr",
     "output_type": "stream",
     "text": [
      "INFO\tTask(Task-3) nodify.node.139788942790144:node.py:get()- No need to evaluate\n"
     ]
    },
    {
     "name": "stderr",
     "output_type": "stream",
     "text": [
      "INFO\tTask(Task-3) nodify.node.139788942791968:node.py:get()- No need to evaluate\n"
     ]
    },
    {
     "name": "stderr",
     "output_type": "stream",
     "text": [
      "INFO\tTask(Task-3) nodify.node.139788942798640:node.py:get()- No need to evaluate\n"
     ]
    },
    {
     "name": "stderr",
     "output_type": "stream",
     "text": [
      "INFO\tTask(Task-3) nodify.node.139788942790912:node.py:get()- No need to evaluate\n"
     ]
    },
    {
     "name": "stderr",
     "output_type": "stream",
     "text": [
      "INFO\tTask(Task-3) nodify.node.139788942792208:node.py:get()- No need to evaluate\n"
     ]
    },
    {
     "name": "stderr",
     "output_type": "stream",
     "text": [
      "INFO\tTask(Task-3) nodify.node.139788942798160:node.py:get()- No need to evaluate\n"
     ]
    },
    {
     "name": "stderr",
     "output_type": "stream",
     "text": [
      "INFO\tTask(Task-3) nodify.node.139788942790912:node.py:get()- No need to evaluate\n"
     ]
    },
    {
     "name": "stderr",
     "output_type": "stream",
     "text": [
      "INFO\tTask(Task-3) nodify.node.139788942798736:node.py:get()- No need to evaluate\n"
     ]
    },
    {
     "name": "stderr",
     "output_type": "stream",
     "text": [
      "INFO\tTask(Task-3) nodify.node.139788942796096:node.py:get()- No need to evaluate\n"
     ]
    },
    {
     "name": "stderr",
     "output_type": "stream",
     "text": [
      "INFO\tTask(Task-3) nodify.node.139788942795712:node.py:get()- No need to evaluate\n"
     ]
    },
    {
     "name": "stderr",
     "output_type": "stream",
     "text": [
      "INFO\tTask(Task-3) nodify.node.139788942798448:node.py:get()- No need to evaluate\n"
     ]
    },
    {
     "name": "stderr",
     "output_type": "stream",
     "text": [
      "INFO\tTask(Task-3) nodify.node.139788942798880:node.py:get()- Evaluated because inputs changed.\n"
     ]
    },
    {
     "name": "stderr",
     "output_type": "stream",
     "text": [
      "INFO\tTask(Task-3) nodify.node.139788945755072:node.py:get()- Evaluated because inputs changed.\n"
     ]
    },
    {
     "name": "stderr",
     "output_type": "stream",
     "text": [
      "INFO\tTask(Task-3) nodify.node.139788942802432:node.py:get()- Evaluated because inputs changed.\n"
     ]
    },
    {
     "data": {
      "application/vnd.plotly.v1+json": {
       "config": {
        "plotlyServerURL": "https://plot.ly"
       },
       "data": [
        {
         "coloraxis": "coloraxis",
         "meta": {},
         "opacity": 1,
         "type": "heatmap",
         "z": {
          "bdata": "Zj44kial5L+AWqLFeL58PxCtfTWiG9o/otOlkjQC1T/Gz3Cenz3nPwAAAAAAAPh/AAAAAAAA+H8AAAAAAAD4fwAAAAAAAPh/k1gyToQXkD8AAAAAAAD4fwAAAAAAAPh/AAAAAAAA+H8AAAAAAAD4fwAAAAAAAPh/gFqixXi+fD+cn7Gpbm/Uv4pCaXQ95tW/ROW7RHVY5L84TWpXQy62vwAAAAAAAPh/AAAAAAAA+H8AAAAAAAD4fwAAAAAAAPh/kJxOoI1Fpb8AAAAAAAD4fwAAAAAAAPh/AAAAAAAA+H8AAAAAAAD4fwAAAAAAAPh/EK19NaIb2j+KQml0PebVv7Y/yms1RuG/COxPx49PvD8Q0bVTOwWmvwAAAAAAAPh/AAAAAAAA+H8AAAAAAAD4fwAAAAAAAPh/HeooupCftb8AAAAAAAD4fwAAAAAAAPh/AAAAAAAA+H8AAAAAAAD4fwAAAAAAAPh/otOlkjQC1T9E5btEdVjkvwjsT8ePT7w/mKfoPVrf1T/sgvepDMvivwAAAAAAAPh/AAAAAAAA+H8AAAAAAAD4fwAAAAAAAPh/oKcYhYRhp78AAAAAAAD4fwAAAAAAAPh/AAAAAAAA+H8AAAAAAAD4fwAAAAAAAPh/xs9wnp895z84TWpXQy62vxDRtVM7Baa/7IL3qQzL4r8kJHAG1fnTvwAAAAAAAPh/AAAAAAAA+H8AAAAAAAD4fwAAAAAAAPh/AAAAAAAA+H+TWDJOhBeQP5CcTqCNRaW/HeooupCftb+gpxiFhGGnvwAAAAAAAPh/",
          "dtype": "f8",
          "shape": "5, 15"
         },
         "zsmooth": false
        }
       ],
       "layout": {
        "coloraxis": {
         "cmid": 0,
         "colorscale": [
          [
           0.0,
           "rgb(0, 147, 146)"
          ],
          [
           0.16666666666666666,
           "rgb(57, 177, 133)"
          ],
          [
           0.3333333333333333,
           "rgb(156, 203, 134)"
          ],
          [
           0.5,
           "rgb(233, 226, 156)"
          ],
          [
           0.6666666666666666,
           "rgb(238, 180, 121)"
          ],
          [
           0.8333333333333334,
           "rgb(232, 132, 113)"
          ],
          [
           1.0,
           "rgb(207, 89, 126)"
          ]
         ],
         "showscale": true
        },
        "scene": {
         "aspectmode": "data",
         "xaxis": {
          "range": [
           -0.5,
           14.5
          ]
         },
         "yaxis": {
          "range": [
           4.5,
           -0.5
          ]
         }
        },
        "template": {
         "layout": {
          "hovermode": "closest",
          "paper_bgcolor": "white",
          "plot_bgcolor": "white",
          "scene": {
           "xaxis": {
            "color": "black",
            "gridcolor": "#ccc",
            "gridwidth": 1,
            "linewidth": 1,
            "mirror": true,
            "showgrid": false,
            "showline": true,
            "ticklen": 5,
            "ticks": "outside",
            "ticksuffix": " ",
            "visible": true,
            "zeroline": false,
            "zerolinecolor": "#ccc",
            "zerolinewidth": 1
           },
           "yaxis": {
            "color": "black",
            "gridcolor": "#ccc",
            "gridwidth": 1,
            "linewidth": 1,
            "mirror": true,
            "showgrid": false,
            "showline": true,
            "ticklen": 5,
            "ticks": "outside",
            "ticksuffix": " ",
            "visible": true,
            "zeroline": false,
            "zerolinecolor": "#ccc",
            "zerolinewidth": 1
           },
           "zaxis": {
            "color": "black",
            "gridcolor": "#ccc",
            "gridwidth": 1,
            "linewidth": 1,
            "mirror": true,
            "showgrid": false,
            "showline": true,
            "ticklen": 5,
            "ticks": "outside",
            "ticksuffix": " ",
            "visible": true,
            "zeroline": false,
            "zerolinecolor": "#ccc",
            "zerolinewidth": 1
           }
          },
          "xaxis": {
           "color": "black",
           "gridcolor": "#ccc",
           "gridwidth": 1,
           "linewidth": 1,
           "mirror": true,
           "showgrid": false,
           "showline": true,
           "ticklen": 5,
           "ticks": "outside",
           "ticksuffix": " ",
           "visible": true,
           "zeroline": false,
           "zerolinecolor": "#ccc",
           "zerolinewidth": 1
          },
          "yaxis": {
           "color": "black",
           "gridcolor": "#ccc",
           "gridwidth": 1,
           "linewidth": 1,
           "mirror": true,
           "showgrid": false,
           "showline": true,
           "ticklen": 5,
           "ticks": "outside",
           "ticksuffix": " ",
           "visible": true,
           "zeroline": false,
           "zerolinecolor": "#ccc",
           "zerolinewidth": 1
          }
         }
        },
        "xaxis": {
         "constrain": "domain",
         "range": [
          -0.5,
          14.5
         ],
         "scaleanchor": "y",
         "scaleratio": 1
        },
        "yaxis": {
         "constrain": "domain",
         "range": [
          4.5,
          -0.5
         ]
        }
       }
      }
     },
     "metadata": {},
     "output_type": "display_data"
    }
   ],
   "source": [
    "plot.update_inputs(crange=None, cmid=None)"
   ]
  },
  {
   "cell_type": "markdown",
   "metadata": {},
   "source": [
    "## Show values as text\n",
    "\n",
    "Colors are nice to give you a quick impression of the relative magnitude of the matrix elements. However, you might want to know the exact value. Although `plotly` shows them when you pass the mouse over the matrix elements, sometimes it might be more convenient to directly display them on top.\n",
    "\n",
    "To do this, you need to pass a formatting string to the `text` input. For example, to show two decimals:"
   ]
  },
  {
   "cell_type": "code",
   "execution_count": 8,
   "metadata": {
    "execution": {
     "iopub.execute_input": "2025-08-23T10:46:55.037895Z",
     "iopub.status.busy": "2025-08-23T10:46:55.037708Z",
     "iopub.status.idle": "2025-08-23T10:46:55.120795Z",
     "shell.execute_reply": "2025-08-23T10:46:55.120299Z"
    }
   },
   "outputs": [
    {
     "name": "stderr",
     "output_type": "stream",
     "text": [
      "INFO\tTask(Task-3) nodify.node.139788942796864:node.py:get()- No need to evaluate\n"
     ]
    },
    {
     "name": "stderr",
     "output_type": "stream",
     "text": [
      "INFO\tTask(Task-3) nodify.node.139788942790912:node.py:get()- No need to evaluate\n"
     ]
    },
    {
     "name": "stderr",
     "output_type": "stream",
     "text": [
      "INFO\tTask(Task-3) nodify.node.139788942790240:node.py:get()- No need to evaluate\n"
     ]
    },
    {
     "name": "stderr",
     "output_type": "stream",
     "text": [
      "INFO\tTask(Task-3) nodify.node.139788942790144:node.py:get()- No need to evaluate\n"
     ]
    },
    {
     "name": "stderr",
     "output_type": "stream",
     "text": [
      "INFO\tTask(Task-3) nodify.node.139788942791968:node.py:get()- No need to evaluate\n"
     ]
    },
    {
     "name": "stderr",
     "output_type": "stream",
     "text": [
      "INFO\tTask(Task-3) nodify.node.139788942798640:node.py:get()- No need to evaluate\n"
     ]
    },
    {
     "name": "stderr",
     "output_type": "stream",
     "text": [
      "INFO\tTask(Task-3) nodify.node.139788942793792:node.py:get()- No need to evaluate\n"
     ]
    },
    {
     "name": "stderr",
     "output_type": "stream",
     "text": [
      "INFO\tTask(Task-3) nodify.node.139788942794176:node.py:get()- No need to evaluate\n"
     ]
    },
    {
     "name": "stderr",
     "output_type": "stream",
     "text": [
      "INFO\tTask(Task-3) nodify.node.139788942790912:node.py:get()- No need to evaluate\n"
     ]
    },
    {
     "name": "stderr",
     "output_type": "stream",
     "text": [
      "INFO\tTask(Task-3) nodify.node.139788942794560:node.py:get()- No need to evaluate\n"
     ]
    },
    {
     "name": "stderr",
     "output_type": "stream",
     "text": [
      "INFO\tTask(Task-3) nodify.node.139788942794176:node.py:get()- No need to evaluate\n"
     ]
    },
    {
     "name": "stderr",
     "output_type": "stream",
     "text": [
      "INFO\tTask(Task-3) nodify.node.139788942799936:node.py:get()- No need to evaluate\n"
     ]
    },
    {
     "name": "stderr",
     "output_type": "stream",
     "text": [
      "INFO\tTask(Task-3) nodify.node.139788942793408:node.py:get()- No need to evaluate\n"
     ]
    },
    {
     "name": "stderr",
     "output_type": "stream",
     "text": [
      "INFO\tTask(Task-3) nodify.node.139788942794944:node.py:get()- Evaluated because inputs changed.\n"
     ]
    },
    {
     "name": "stderr",
     "output_type": "stream",
     "text": [
      "INFO\tTask(Task-3) nodify.node.139788942795328:node.py:get()- No need to evaluate\n"
     ]
    },
    {
     "name": "stderr",
     "output_type": "stream",
     "text": [
      "INFO\tTask(Task-3) nodify.node.139788942799840:node.py:get()- Evaluated because inputs changed.\n"
     ]
    },
    {
     "name": "stderr",
     "output_type": "stream",
     "text": [
      "INFO\tTask(Task-3) nodify.node.139788942790912:node.py:get()- No need to evaluate\n"
     ]
    },
    {
     "name": "stderr",
     "output_type": "stream",
     "text": [
      "INFO\tTask(Task-3) nodify.node.139788942790240:node.py:get()- No need to evaluate\n"
     ]
    },
    {
     "name": "stderr",
     "output_type": "stream",
     "text": [
      "INFO\tTask(Task-3) nodify.node.139788942790144:node.py:get()- No need to evaluate\n"
     ]
    },
    {
     "name": "stderr",
     "output_type": "stream",
     "text": [
      "INFO\tTask(Task-3) nodify.node.139788942791968:node.py:get()- No need to evaluate\n"
     ]
    },
    {
     "name": "stderr",
     "output_type": "stream",
     "text": [
      "INFO\tTask(Task-3) nodify.node.139788942798640:node.py:get()- No need to evaluate\n"
     ]
    },
    {
     "name": "stderr",
     "output_type": "stream",
     "text": [
      "INFO\tTask(Task-3) nodify.node.139788942796480:node.py:get()- No need to evaluate\n"
     ]
    },
    {
     "name": "stderr",
     "output_type": "stream",
     "text": [
      "INFO\tTask(Task-3) nodify.node.139788942800608:node.py:get()- No need to evaluate\n"
     ]
    },
    {
     "name": "stderr",
     "output_type": "stream",
     "text": [
      "INFO\tTask(Task-3) nodify.node.139788942799984:node.py:get()- No need to evaluate\n"
     ]
    },
    {
     "name": "stderr",
     "output_type": "stream",
     "text": [
      "INFO\tTask(Task-3) nodify.node.139788942791632:node.py:get()- No need to evaluate\n"
     ]
    },
    {
     "name": "stderr",
     "output_type": "stream",
     "text": [
      "INFO\tTask(Task-3) nodify.node.139788942790912:node.py:get()- No need to evaluate\n"
     ]
    },
    {
     "name": "stderr",
     "output_type": "stream",
     "text": [
      "INFO\tTask(Task-3) nodify.node.139788942792208:node.py:get()- No need to evaluate\n"
     ]
    },
    {
     "name": "stderr",
     "output_type": "stream",
     "text": [
      "INFO\tTask(Task-3) nodify.node.139788942798160:node.py:get()- No need to evaluate\n"
     ]
    },
    {
     "name": "stderr",
     "output_type": "stream",
     "text": [
      "INFO\tTask(Task-3) nodify.node.139788942790912:node.py:get()- No need to evaluate\n"
     ]
    },
    {
     "name": "stderr",
     "output_type": "stream",
     "text": [
      "INFO\tTask(Task-3) nodify.node.139788942798736:node.py:get()- No need to evaluate\n"
     ]
    },
    {
     "name": "stderr",
     "output_type": "stream",
     "text": [
      "INFO\tTask(Task-3) nodify.node.139788942800656:node.py:get()- No need to evaluate\n"
     ]
    },
    {
     "name": "stderr",
     "output_type": "stream",
     "text": [
      "INFO\tTask(Task-3) nodify.node.139788942792592:node.py:get()- No need to evaluate\n"
     ]
    },
    {
     "name": "stderr",
     "output_type": "stream",
     "text": [
      "INFO\tTask(Task-3) nodify.node.139788942790912:node.py:get()- No need to evaluate\n"
     ]
    },
    {
     "name": "stderr",
     "output_type": "stream",
     "text": [
      "INFO\tTask(Task-3) nodify.node.139788942792208:node.py:get()- No need to evaluate\n"
     ]
    },
    {
     "name": "stderr",
     "output_type": "stream",
     "text": [
      "INFO\tTask(Task-3) nodify.node.139788942798160:node.py:get()- No need to evaluate\n"
     ]
    },
    {
     "name": "stderr",
     "output_type": "stream",
     "text": [
      "INFO\tTask(Task-3) nodify.node.139788942790912:node.py:get()- No need to evaluate\n"
     ]
    },
    {
     "name": "stderr",
     "output_type": "stream",
     "text": [
      "INFO\tTask(Task-3) nodify.node.139788942798736:node.py:get()- No need to evaluate\n"
     ]
    },
    {
     "name": "stderr",
     "output_type": "stream",
     "text": [
      "INFO\tTask(Task-3) nodify.node.139788942801328:node.py:get()- No need to evaluate\n"
     ]
    },
    {
     "name": "stderr",
     "output_type": "stream",
     "text": [
      "INFO\tTask(Task-3) nodify.node.139788942792976:node.py:get()- No need to evaluate\n"
     ]
    },
    {
     "name": "stderr",
     "output_type": "stream",
     "text": [
      "INFO\tTask(Task-3) nodify.node.139788942790912:node.py:get()- No need to evaluate\n"
     ]
    },
    {
     "name": "stderr",
     "output_type": "stream",
     "text": [
      "INFO\tTask(Task-3) nodify.node.139788942792208:node.py:get()- No need to evaluate\n"
     ]
    },
    {
     "name": "stderr",
     "output_type": "stream",
     "text": [
      "INFO\tTask(Task-3) nodify.node.139788942798160:node.py:get()- No need to evaluate\n"
     ]
    },
    {
     "name": "stderr",
     "output_type": "stream",
     "text": [
      "INFO\tTask(Task-3) nodify.node.139788942790912:node.py:get()- No need to evaluate\n"
     ]
    },
    {
     "name": "stderr",
     "output_type": "stream",
     "text": [
      "INFO\tTask(Task-3) nodify.node.139788942798736:node.py:get()- No need to evaluate\n"
     ]
    },
    {
     "name": "stderr",
     "output_type": "stream",
     "text": [
      "INFO\tTask(Task-3) nodify.node.139788942801664:node.py:get()- No need to evaluate\n"
     ]
    },
    {
     "name": "stderr",
     "output_type": "stream",
     "text": [
      "INFO\tTask(Task-3) nodify.node.139788942790912:node.py:get()- No need to evaluate\n"
     ]
    },
    {
     "name": "stderr",
     "output_type": "stream",
     "text": [
      "INFO\tTask(Task-3) nodify.node.139788942790240:node.py:get()- No need to evaluate\n"
     ]
    },
    {
     "name": "stderr",
     "output_type": "stream",
     "text": [
      "INFO\tTask(Task-3) nodify.node.139788942790144:node.py:get()- No need to evaluate\n"
     ]
    },
    {
     "name": "stderr",
     "output_type": "stream",
     "text": [
      "INFO\tTask(Task-3) nodify.node.139788942791968:node.py:get()- No need to evaluate\n"
     ]
    },
    {
     "name": "stderr",
     "output_type": "stream",
     "text": [
      "INFO\tTask(Task-3) nodify.node.139788942798640:node.py:get()- No need to evaluate\n"
     ]
    },
    {
     "name": "stderr",
     "output_type": "stream",
     "text": [
      "INFO\tTask(Task-3) nodify.node.139788942790912:node.py:get()- No need to evaluate\n"
     ]
    },
    {
     "name": "stderr",
     "output_type": "stream",
     "text": [
      "INFO\tTask(Task-3) nodify.node.139788942792208:node.py:get()- No need to evaluate\n"
     ]
    },
    {
     "name": "stderr",
     "output_type": "stream",
     "text": [
      "INFO\tTask(Task-3) nodify.node.139788942798160:node.py:get()- No need to evaluate\n"
     ]
    },
    {
     "name": "stderr",
     "output_type": "stream",
     "text": [
      "INFO\tTask(Task-3) nodify.node.139788942790912:node.py:get()- No need to evaluate\n"
     ]
    },
    {
     "name": "stderr",
     "output_type": "stream",
     "text": [
      "INFO\tTask(Task-3) nodify.node.139788942798736:node.py:get()- No need to evaluate\n"
     ]
    },
    {
     "name": "stderr",
     "output_type": "stream",
     "text": [
      "INFO\tTask(Task-3) nodify.node.139788942796096:node.py:get()- No need to evaluate\n"
     ]
    },
    {
     "name": "stderr",
     "output_type": "stream",
     "text": [
      "INFO\tTask(Task-3) nodify.node.139788942795712:node.py:get()- No need to evaluate\n"
     ]
    },
    {
     "name": "stderr",
     "output_type": "stream",
     "text": [
      "INFO\tTask(Task-3) nodify.node.139788942798448:node.py:get()- No need to evaluate\n"
     ]
    },
    {
     "name": "stderr",
     "output_type": "stream",
     "text": [
      "INFO\tTask(Task-3) nodify.node.139788942798880:node.py:get()- Evaluated because inputs changed.\n"
     ]
    },
    {
     "name": "stderr",
     "output_type": "stream",
     "text": [
      "INFO\tTask(Task-3) nodify.node.139788945755072:node.py:get()- Evaluated because inputs changed.\n"
     ]
    },
    {
     "name": "stderr",
     "output_type": "stream",
     "text": [
      "INFO\tTask(Task-3) nodify.node.139788942802432:node.py:get()- Evaluated because inputs changed.\n"
     ]
    },
    {
     "data": {
      "application/vnd.plotly.v1+json": {
       "config": {
        "plotlyServerURL": "https://plot.ly"
       },
       "data": [
        {
         "coloraxis": "coloraxis",
         "meta": {},
         "opacity": 1,
         "texttemplate": "%{z:.2f}",
         "type": "heatmap",
         "z": {
          "bdata": "Zj44kial5L+AWqLFeL58PxCtfTWiG9o/otOlkjQC1T/Gz3Cenz3nPwAAAAAAAPh/AAAAAAAA+H8AAAAAAAD4fwAAAAAAAPh/k1gyToQXkD8AAAAAAAD4fwAAAAAAAPh/AAAAAAAA+H8AAAAAAAD4fwAAAAAAAPh/gFqixXi+fD+cn7Gpbm/Uv4pCaXQ95tW/ROW7RHVY5L84TWpXQy62vwAAAAAAAPh/AAAAAAAA+H8AAAAAAAD4fwAAAAAAAPh/kJxOoI1Fpb8AAAAAAAD4fwAAAAAAAPh/AAAAAAAA+H8AAAAAAAD4fwAAAAAAAPh/EK19NaIb2j+KQml0PebVv7Y/yms1RuG/COxPx49PvD8Q0bVTOwWmvwAAAAAAAPh/AAAAAAAA+H8AAAAAAAD4fwAAAAAAAPh/HeooupCftb8AAAAAAAD4fwAAAAAAAPh/AAAAAAAA+H8AAAAAAAD4fwAAAAAAAPh/otOlkjQC1T9E5btEdVjkvwjsT8ePT7w/mKfoPVrf1T/sgvepDMvivwAAAAAAAPh/AAAAAAAA+H8AAAAAAAD4fwAAAAAAAPh/oKcYhYRhp78AAAAAAAD4fwAAAAAAAPh/AAAAAAAA+H8AAAAAAAD4fwAAAAAAAPh/xs9wnp895z84TWpXQy62vxDRtVM7Baa/7IL3qQzL4r8kJHAG1fnTvwAAAAAAAPh/AAAAAAAA+H8AAAAAAAD4fwAAAAAAAPh/AAAAAAAA+H+TWDJOhBeQP5CcTqCNRaW/HeooupCftb+gpxiFhGGnvwAAAAAAAPh/",
          "dtype": "f8",
          "shape": "5, 15"
         },
         "zsmooth": false
        }
       ],
       "layout": {
        "coloraxis": {
         "cmid": 0,
         "colorscale": [
          [
           0.0,
           "rgb(0, 147, 146)"
          ],
          [
           0.16666666666666666,
           "rgb(57, 177, 133)"
          ],
          [
           0.3333333333333333,
           "rgb(156, 203, 134)"
          ],
          [
           0.5,
           "rgb(233, 226, 156)"
          ],
          [
           0.6666666666666666,
           "rgb(238, 180, 121)"
          ],
          [
           0.8333333333333334,
           "rgb(232, 132, 113)"
          ],
          [
           1.0,
           "rgb(207, 89, 126)"
          ]
         ],
         "showscale": true
        },
        "scene": {
         "aspectmode": "data",
         "xaxis": {
          "range": [
           -0.5,
           14.5
          ]
         },
         "yaxis": {
          "range": [
           4.5,
           -0.5
          ]
         }
        },
        "template": {
         "layout": {
          "hovermode": "closest",
          "paper_bgcolor": "white",
          "plot_bgcolor": "white",
          "scene": {
           "xaxis": {
            "color": "black",
            "gridcolor": "#ccc",
            "gridwidth": 1,
            "linewidth": 1,
            "mirror": true,
            "showgrid": false,
            "showline": true,
            "ticklen": 5,
            "ticks": "outside",
            "ticksuffix": " ",
            "visible": true,
            "zeroline": false,
            "zerolinecolor": "#ccc",
            "zerolinewidth": 1
           },
           "yaxis": {
            "color": "black",
            "gridcolor": "#ccc",
            "gridwidth": 1,
            "linewidth": 1,
            "mirror": true,
            "showgrid": false,
            "showline": true,
            "ticklen": 5,
            "ticks": "outside",
            "ticksuffix": " ",
            "visible": true,
            "zeroline": false,
            "zerolinecolor": "#ccc",
            "zerolinewidth": 1
           },
           "zaxis": {
            "color": "black",
            "gridcolor": "#ccc",
            "gridwidth": 1,
            "linewidth": 1,
            "mirror": true,
            "showgrid": false,
            "showline": true,
            "ticklen": 5,
            "ticks": "outside",
            "ticksuffix": " ",
            "visible": true,
            "zeroline": false,
            "zerolinecolor": "#ccc",
            "zerolinewidth": 1
           }
          },
          "xaxis": {
           "color": "black",
           "gridcolor": "#ccc",
           "gridwidth": 1,
           "linewidth": 1,
           "mirror": true,
           "showgrid": false,
           "showline": true,
           "ticklen": 5,
           "ticks": "outside",
           "ticksuffix": " ",
           "visible": true,
           "zeroline": false,
           "zerolinecolor": "#ccc",
           "zerolinewidth": 1
          },
          "yaxis": {
           "color": "black",
           "gridcolor": "#ccc",
           "gridwidth": 1,
           "linewidth": 1,
           "mirror": true,
           "showgrid": false,
           "showline": true,
           "ticklen": 5,
           "ticks": "outside",
           "ticksuffix": " ",
           "visible": true,
           "zeroline": false,
           "zerolinecolor": "#ccc",
           "zerolinewidth": 1
          }
         }
        },
        "xaxis": {
         "constrain": "domain",
         "range": [
          -0.5,
          14.5
         ],
         "scaleanchor": "y",
         "scaleratio": 1
        },
        "yaxis": {
         "constrain": "domain",
         "range": [
          4.5,
          -0.5
         ]
        }
       }
      }
     },
     "metadata": {},
     "output_type": "display_data"
    }
   ],
   "source": [
    "plot.update_inputs(text=\".2f\")"
   ]
  },
  {
   "cell_type": "markdown",
   "metadata": {},
   "source": [
    "You can tweak the style of text with the `textfont` input, which is a dictionary with three (optional) keys:\n",
    "\n",
    "- `color`: Text color.\n",
    "- `family`: Font family for the text. Note that different backends might support different fonts.\n",
    "- `size`: The size of the font.\n",
    "\n",
    "The default value will be used for any key that you don't include in the dictionary."
   ]
  },
  {
   "cell_type": "code",
   "execution_count": 9,
   "metadata": {
    "execution": {
     "iopub.execute_input": "2025-08-23T10:46:55.122503Z",
     "iopub.status.busy": "2025-08-23T10:46:55.122334Z",
     "iopub.status.idle": "2025-08-23T10:46:55.205295Z",
     "shell.execute_reply": "2025-08-23T10:46:55.204819Z"
    }
   },
   "outputs": [
    {
     "name": "stderr",
     "output_type": "stream",
     "text": [
      "INFO\tTask(Task-3) nodify.node.139788942796864:node.py:get()- No need to evaluate\n"
     ]
    },
    {
     "name": "stderr",
     "output_type": "stream",
     "text": [
      "INFO\tTask(Task-3) nodify.node.139788942790912:node.py:get()- No need to evaluate\n"
     ]
    },
    {
     "name": "stderr",
     "output_type": "stream",
     "text": [
      "INFO\tTask(Task-3) nodify.node.139788942790240:node.py:get()- No need to evaluate\n"
     ]
    },
    {
     "name": "stderr",
     "output_type": "stream",
     "text": [
      "INFO\tTask(Task-3) nodify.node.139788942790144:node.py:get()- No need to evaluate\n"
     ]
    },
    {
     "name": "stderr",
     "output_type": "stream",
     "text": [
      "INFO\tTask(Task-3) nodify.node.139788942791968:node.py:get()- No need to evaluate\n"
     ]
    },
    {
     "name": "stderr",
     "output_type": "stream",
     "text": [
      "INFO\tTask(Task-3) nodify.node.139788942798640:node.py:get()- No need to evaluate\n"
     ]
    },
    {
     "name": "stderr",
     "output_type": "stream",
     "text": [
      "INFO\tTask(Task-3) nodify.node.139788942793792:node.py:get()- No need to evaluate\n"
     ]
    },
    {
     "name": "stderr",
     "output_type": "stream",
     "text": [
      "INFO\tTask(Task-3) nodify.node.139788942794176:node.py:get()- No need to evaluate\n"
     ]
    },
    {
     "name": "stderr",
     "output_type": "stream",
     "text": [
      "INFO\tTask(Task-3) nodify.node.139788942790912:node.py:get()- No need to evaluate\n"
     ]
    },
    {
     "name": "stderr",
     "output_type": "stream",
     "text": [
      "INFO\tTask(Task-3) nodify.node.139788942794560:node.py:get()- No need to evaluate\n"
     ]
    },
    {
     "name": "stderr",
     "output_type": "stream",
     "text": [
      "INFO\tTask(Task-3) nodify.node.139788942794176:node.py:get()- No need to evaluate\n"
     ]
    },
    {
     "name": "stderr",
     "output_type": "stream",
     "text": [
      "INFO\tTask(Task-3) nodify.node.139788942799936:node.py:get()- No need to evaluate\n"
     ]
    },
    {
     "name": "stderr",
     "output_type": "stream",
     "text": [
      "INFO\tTask(Task-3) nodify.node.139788942793408:node.py:get()- No need to evaluate\n"
     ]
    },
    {
     "name": "stderr",
     "output_type": "stream",
     "text": [
      "INFO\tTask(Task-3) nodify.node.139788942794944:node.py:get()- No need to evaluate\n"
     ]
    },
    {
     "name": "stderr",
     "output_type": "stream",
     "text": [
      "INFO\tTask(Task-3) nodify.node.139788942795328:node.py:get()- Evaluated because inputs changed.\n"
     ]
    },
    {
     "name": "stderr",
     "output_type": "stream",
     "text": [
      "INFO\tTask(Task-3) nodify.node.139788942799840:node.py:get()- Evaluated because inputs changed.\n"
     ]
    },
    {
     "name": "stderr",
     "output_type": "stream",
     "text": [
      "INFO\tTask(Task-3) nodify.node.139788942790912:node.py:get()- No need to evaluate\n"
     ]
    },
    {
     "name": "stderr",
     "output_type": "stream",
     "text": [
      "INFO\tTask(Task-3) nodify.node.139788942790240:node.py:get()- No need to evaluate\n"
     ]
    },
    {
     "name": "stderr",
     "output_type": "stream",
     "text": [
      "INFO\tTask(Task-3) nodify.node.139788942790144:node.py:get()- No need to evaluate\n"
     ]
    },
    {
     "name": "stderr",
     "output_type": "stream",
     "text": [
      "INFO\tTask(Task-3) nodify.node.139788942791968:node.py:get()- No need to evaluate\n"
     ]
    },
    {
     "name": "stderr",
     "output_type": "stream",
     "text": [
      "INFO\tTask(Task-3) nodify.node.139788942798640:node.py:get()- No need to evaluate\n"
     ]
    },
    {
     "name": "stderr",
     "output_type": "stream",
     "text": [
      "INFO\tTask(Task-3) nodify.node.139788942796480:node.py:get()- No need to evaluate\n"
     ]
    },
    {
     "name": "stderr",
     "output_type": "stream",
     "text": [
      "INFO\tTask(Task-3) nodify.node.139788942800608:node.py:get()- No need to evaluate\n"
     ]
    },
    {
     "name": "stderr",
     "output_type": "stream",
     "text": [
      "INFO\tTask(Task-3) nodify.node.139788942799984:node.py:get()- No need to evaluate\n"
     ]
    },
    {
     "name": "stderr",
     "output_type": "stream",
     "text": [
      "INFO\tTask(Task-3) nodify.node.139788942791632:node.py:get()- No need to evaluate\n"
     ]
    },
    {
     "name": "stderr",
     "output_type": "stream",
     "text": [
      "INFO\tTask(Task-3) nodify.node.139788942790912:node.py:get()- No need to evaluate\n"
     ]
    },
    {
     "name": "stderr",
     "output_type": "stream",
     "text": [
      "INFO\tTask(Task-3) nodify.node.139788942792208:node.py:get()- No need to evaluate\n"
     ]
    },
    {
     "name": "stderr",
     "output_type": "stream",
     "text": [
      "INFO\tTask(Task-3) nodify.node.139788942798160:node.py:get()- No need to evaluate\n"
     ]
    },
    {
     "name": "stderr",
     "output_type": "stream",
     "text": [
      "INFO\tTask(Task-3) nodify.node.139788942790912:node.py:get()- No need to evaluate\n"
     ]
    },
    {
     "name": "stderr",
     "output_type": "stream",
     "text": [
      "INFO\tTask(Task-3) nodify.node.139788942798736:node.py:get()- No need to evaluate\n"
     ]
    },
    {
     "name": "stderr",
     "output_type": "stream",
     "text": [
      "INFO\tTask(Task-3) nodify.node.139788942800656:node.py:get()- No need to evaluate\n"
     ]
    },
    {
     "name": "stderr",
     "output_type": "stream",
     "text": [
      "INFO\tTask(Task-3) nodify.node.139788942792592:node.py:get()- No need to evaluate\n"
     ]
    },
    {
     "name": "stderr",
     "output_type": "stream",
     "text": [
      "INFO\tTask(Task-3) nodify.node.139788942790912:node.py:get()- No need to evaluate\n"
     ]
    },
    {
     "name": "stderr",
     "output_type": "stream",
     "text": [
      "INFO\tTask(Task-3) nodify.node.139788942792208:node.py:get()- No need to evaluate\n"
     ]
    },
    {
     "name": "stderr",
     "output_type": "stream",
     "text": [
      "INFO\tTask(Task-3) nodify.node.139788942798160:node.py:get()- No need to evaluate\n"
     ]
    },
    {
     "name": "stderr",
     "output_type": "stream",
     "text": [
      "INFO\tTask(Task-3) nodify.node.139788942790912:node.py:get()- No need to evaluate\n"
     ]
    },
    {
     "name": "stderr",
     "output_type": "stream",
     "text": [
      "INFO\tTask(Task-3) nodify.node.139788942798736:node.py:get()- No need to evaluate\n"
     ]
    },
    {
     "name": "stderr",
     "output_type": "stream",
     "text": [
      "INFO\tTask(Task-3) nodify.node.139788942801328:node.py:get()- No need to evaluate\n"
     ]
    },
    {
     "name": "stderr",
     "output_type": "stream",
     "text": [
      "INFO\tTask(Task-3) nodify.node.139788942792976:node.py:get()- No need to evaluate\n"
     ]
    },
    {
     "name": "stderr",
     "output_type": "stream",
     "text": [
      "INFO\tTask(Task-3) nodify.node.139788942790912:node.py:get()- No need to evaluate\n"
     ]
    },
    {
     "name": "stderr",
     "output_type": "stream",
     "text": [
      "INFO\tTask(Task-3) nodify.node.139788942792208:node.py:get()- No need to evaluate\n"
     ]
    },
    {
     "name": "stderr",
     "output_type": "stream",
     "text": [
      "INFO\tTask(Task-3) nodify.node.139788942798160:node.py:get()- No need to evaluate\n"
     ]
    },
    {
     "name": "stderr",
     "output_type": "stream",
     "text": [
      "INFO\tTask(Task-3) nodify.node.139788942790912:node.py:get()- No need to evaluate\n"
     ]
    },
    {
     "name": "stderr",
     "output_type": "stream",
     "text": [
      "INFO\tTask(Task-3) nodify.node.139788942798736:node.py:get()- No need to evaluate\n"
     ]
    },
    {
     "name": "stderr",
     "output_type": "stream",
     "text": [
      "INFO\tTask(Task-3) nodify.node.139788942801664:node.py:get()- No need to evaluate\n"
     ]
    },
    {
     "name": "stderr",
     "output_type": "stream",
     "text": [
      "INFO\tTask(Task-3) nodify.node.139788942790912:node.py:get()- No need to evaluate\n"
     ]
    },
    {
     "name": "stderr",
     "output_type": "stream",
     "text": [
      "INFO\tTask(Task-3) nodify.node.139788942790240:node.py:get()- No need to evaluate\n"
     ]
    },
    {
     "name": "stderr",
     "output_type": "stream",
     "text": [
      "INFO\tTask(Task-3) nodify.node.139788942790144:node.py:get()- No need to evaluate\n"
     ]
    },
    {
     "name": "stderr",
     "output_type": "stream",
     "text": [
      "INFO\tTask(Task-3) nodify.node.139788942791968:node.py:get()- No need to evaluate\n"
     ]
    },
    {
     "name": "stderr",
     "output_type": "stream",
     "text": [
      "INFO\tTask(Task-3) nodify.node.139788942798640:node.py:get()- No need to evaluate\n"
     ]
    },
    {
     "name": "stderr",
     "output_type": "stream",
     "text": [
      "INFO\tTask(Task-3) nodify.node.139788942790912:node.py:get()- No need to evaluate\n"
     ]
    },
    {
     "name": "stderr",
     "output_type": "stream",
     "text": [
      "INFO\tTask(Task-3) nodify.node.139788942792208:node.py:get()- No need to evaluate\n"
     ]
    },
    {
     "name": "stderr",
     "output_type": "stream",
     "text": [
      "INFO\tTask(Task-3) nodify.node.139788942798160:node.py:get()- No need to evaluate\n"
     ]
    },
    {
     "name": "stderr",
     "output_type": "stream",
     "text": [
      "INFO\tTask(Task-3) nodify.node.139788942790912:node.py:get()- No need to evaluate\n"
     ]
    },
    {
     "name": "stderr",
     "output_type": "stream",
     "text": [
      "INFO\tTask(Task-3) nodify.node.139788942798736:node.py:get()- No need to evaluate\n"
     ]
    },
    {
     "name": "stderr",
     "output_type": "stream",
     "text": [
      "INFO\tTask(Task-3) nodify.node.139788942796096:node.py:get()- No need to evaluate\n"
     ]
    },
    {
     "name": "stderr",
     "output_type": "stream",
     "text": [
      "INFO\tTask(Task-3) nodify.node.139788942795712:node.py:get()- No need to evaluate\n"
     ]
    },
    {
     "name": "stderr",
     "output_type": "stream",
     "text": [
      "INFO\tTask(Task-3) nodify.node.139788942798448:node.py:get()- No need to evaluate\n"
     ]
    },
    {
     "name": "stderr",
     "output_type": "stream",
     "text": [
      "INFO\tTask(Task-3) nodify.node.139788942798880:node.py:get()- Evaluated because inputs changed.\n"
     ]
    },
    {
     "name": "stderr",
     "output_type": "stream",
     "text": [
      "INFO\tTask(Task-3) nodify.node.139788945755072:node.py:get()- Evaluated because inputs changed.\n"
     ]
    },
    {
     "name": "stderr",
     "output_type": "stream",
     "text": [
      "INFO\tTask(Task-3) nodify.node.139788942802432:node.py:get()- Evaluated because inputs changed.\n"
     ]
    },
    {
     "data": {
      "application/vnd.plotly.v1+json": {
       "config": {
        "plotlyServerURL": "https://plot.ly"
       },
       "data": [
        {
         "coloraxis": "coloraxis",
         "meta": {},
         "opacity": 1,
         "text": [
          [
           "-0.65",
           "0.01",
           "0.41",
           "0.33",
           "0.73",
           "",
           "",
           "",
           "",
           "0.02",
           "",
           "",
           "",
           "",
           ""
          ],
          [
           "0.01",
           "-0.32",
           "-0.34",
           "-0.64",
           "-0.09",
           "",
           "",
           "",
           "",
           "-0.04",
           "",
           "",
           "",
           "",
           ""
          ],
          [
           "0.41",
           "-0.34",
           "-0.54",
           "0.11",
           "-0.04",
           "",
           "",
           "",
           "",
           "-0.08",
           "",
           "",
           "",
           "",
           ""
          ],
          [
           "0.33",
           "-0.64",
           "0.11",
           "0.34",
           "-0.59",
           "",
           "",
           "",
           "",
           "-0.05",
           "",
           "",
           "",
           "",
           ""
          ],
          [
           "0.73",
           "-0.09",
           "-0.04",
           "-0.59",
           "-0.31",
           "",
           "",
           "",
           "",
           "",
           "0.02",
           "-0.04",
           "-0.08",
           "-0.05",
           ""
          ]
         ],
         "textfont": {
          "color": "blue",
          "family": "times",
          "size": 15
         },
         "texttemplate": "%{text}",
         "type": "heatmap",
         "z": {
          "bdata": "Zj44kial5L+AWqLFeL58PxCtfTWiG9o/otOlkjQC1T/Gz3Cenz3nPwAAAAAAAPh/AAAAAAAA+H8AAAAAAAD4fwAAAAAAAPh/k1gyToQXkD8AAAAAAAD4fwAAAAAAAPh/AAAAAAAA+H8AAAAAAAD4fwAAAAAAAPh/gFqixXi+fD+cn7Gpbm/Uv4pCaXQ95tW/ROW7RHVY5L84TWpXQy62vwAAAAAAAPh/AAAAAAAA+H8AAAAAAAD4fwAAAAAAAPh/kJxOoI1Fpb8AAAAAAAD4fwAAAAAAAPh/AAAAAAAA+H8AAAAAAAD4fwAAAAAAAPh/EK19NaIb2j+KQml0PebVv7Y/yms1RuG/COxPx49PvD8Q0bVTOwWmvwAAAAAAAPh/AAAAAAAA+H8AAAAAAAD4fwAAAAAAAPh/HeooupCftb8AAAAAAAD4fwAAAAAAAPh/AAAAAAAA+H8AAAAAAAD4fwAAAAAAAPh/otOlkjQC1T9E5btEdVjkvwjsT8ePT7w/mKfoPVrf1T/sgvepDMvivwAAAAAAAPh/AAAAAAAA+H8AAAAAAAD4fwAAAAAAAPh/oKcYhYRhp78AAAAAAAD4fwAAAAAAAPh/AAAAAAAA+H8AAAAAAAD4fwAAAAAAAPh/xs9wnp895z84TWpXQy62vxDRtVM7Baa/7IL3qQzL4r8kJHAG1fnTvwAAAAAAAPh/AAAAAAAA+H8AAAAAAAD4fwAAAAAAAPh/AAAAAAAA+H+TWDJOhBeQP5CcTqCNRaW/HeooupCftb+gpxiFhGGnvwAAAAAAAPh/",
          "dtype": "f8",
          "shape": "5, 15"
         },
         "zsmooth": false
        }
       ],
       "layout": {
        "coloraxis": {
         "cmid": 0,
         "colorscale": [
          [
           0.0,
           "rgb(0, 147, 146)"
          ],
          [
           0.16666666666666666,
           "rgb(57, 177, 133)"
          ],
          [
           0.3333333333333333,
           "rgb(156, 203, 134)"
          ],
          [
           0.5,
           "rgb(233, 226, 156)"
          ],
          [
           0.6666666666666666,
           "rgb(238, 180, 121)"
          ],
          [
           0.8333333333333334,
           "rgb(232, 132, 113)"
          ],
          [
           1.0,
           "rgb(207, 89, 126)"
          ]
         ],
         "showscale": true
        },
        "scene": {
         "aspectmode": "data",
         "xaxis": {
          "range": [
           -0.5,
           14.5
          ]
         },
         "yaxis": {
          "range": [
           4.5,
           -0.5
          ]
         }
        },
        "template": {
         "layout": {
          "hovermode": "closest",
          "paper_bgcolor": "white",
          "plot_bgcolor": "white",
          "scene": {
           "xaxis": {
            "color": "black",
            "gridcolor": "#ccc",
            "gridwidth": 1,
            "linewidth": 1,
            "mirror": true,
            "showgrid": false,
            "showline": true,
            "ticklen": 5,
            "ticks": "outside",
            "ticksuffix": " ",
            "visible": true,
            "zeroline": false,
            "zerolinecolor": "#ccc",
            "zerolinewidth": 1
           },
           "yaxis": {
            "color": "black",
            "gridcolor": "#ccc",
            "gridwidth": 1,
            "linewidth": 1,
            "mirror": true,
            "showgrid": false,
            "showline": true,
            "ticklen": 5,
            "ticks": "outside",
            "ticksuffix": " ",
            "visible": true,
            "zeroline": false,
            "zerolinecolor": "#ccc",
            "zerolinewidth": 1
           },
           "zaxis": {
            "color": "black",
            "gridcolor": "#ccc",
            "gridwidth": 1,
            "linewidth": 1,
            "mirror": true,
            "showgrid": false,
            "showline": true,
            "ticklen": 5,
            "ticks": "outside",
            "ticksuffix": " ",
            "visible": true,
            "zeroline": false,
            "zerolinecolor": "#ccc",
            "zerolinewidth": 1
           }
          },
          "xaxis": {
           "color": "black",
           "gridcolor": "#ccc",
           "gridwidth": 1,
           "linewidth": 1,
           "mirror": true,
           "showgrid": false,
           "showline": true,
           "ticklen": 5,
           "ticks": "outside",
           "ticksuffix": " ",
           "visible": true,
           "zeroline": false,
           "zerolinecolor": "#ccc",
           "zerolinewidth": 1
          },
          "yaxis": {
           "color": "black",
           "gridcolor": "#ccc",
           "gridwidth": 1,
           "linewidth": 1,
           "mirror": true,
           "showgrid": false,
           "showline": true,
           "ticklen": 5,
           "ticks": "outside",
           "ticksuffix": " ",
           "visible": true,
           "zeroline": false,
           "zerolinecolor": "#ccc",
           "zerolinewidth": 1
          }
         }
        },
        "xaxis": {
         "constrain": "domain",
         "range": [
          -0.5,
          14.5
         ],
         "scaleanchor": "y",
         "scaleratio": 1
        },
        "yaxis": {
         "constrain": "domain",
         "range": [
          4.5,
          -0.5
         ]
        }
       }
      }
     },
     "metadata": {},
     "output_type": "display_data"
    }
   ],
   "source": [
    "plot.update_inputs(textfont={\"color\": \"blue\", \"family\": \"times\", \"size\": 15})"
   ]
  },
  {
   "cell_type": "markdown",
   "metadata": {},
   "source": [
    "If you want the text to go away, set the `text` input to `None`:"
   ]
  },
  {
   "cell_type": "code",
   "execution_count": 10,
   "metadata": {
    "execution": {
     "iopub.execute_input": "2025-08-23T10:46:55.207055Z",
     "iopub.status.busy": "2025-08-23T10:46:55.206880Z",
     "iopub.status.idle": "2025-08-23T10:46:55.293087Z",
     "shell.execute_reply": "2025-08-23T10:46:55.292532Z"
    }
   },
   "outputs": [
    {
     "name": "stderr",
     "output_type": "stream",
     "text": [
      "INFO\tTask(Task-3) nodify.node.139788942796864:node.py:get()- No need to evaluate\n"
     ]
    },
    {
     "name": "stderr",
     "output_type": "stream",
     "text": [
      "INFO\tTask(Task-3) nodify.node.139788942790912:node.py:get()- No need to evaluate\n"
     ]
    },
    {
     "name": "stderr",
     "output_type": "stream",
     "text": [
      "INFO\tTask(Task-3) nodify.node.139788942790240:node.py:get()- No need to evaluate\n"
     ]
    },
    {
     "name": "stderr",
     "output_type": "stream",
     "text": [
      "INFO\tTask(Task-3) nodify.node.139788942790144:node.py:get()- No need to evaluate\n"
     ]
    },
    {
     "name": "stderr",
     "output_type": "stream",
     "text": [
      "INFO\tTask(Task-3) nodify.node.139788942791968:node.py:get()- No need to evaluate\n"
     ]
    },
    {
     "name": "stderr",
     "output_type": "stream",
     "text": [
      "INFO\tTask(Task-3) nodify.node.139788942798640:node.py:get()- No need to evaluate\n"
     ]
    },
    {
     "name": "stderr",
     "output_type": "stream",
     "text": [
      "INFO\tTask(Task-3) nodify.node.139788942793792:node.py:get()- No need to evaluate\n"
     ]
    },
    {
     "name": "stderr",
     "output_type": "stream",
     "text": [
      "INFO\tTask(Task-3) nodify.node.139788942794176:node.py:get()- No need to evaluate\n"
     ]
    },
    {
     "name": "stderr",
     "output_type": "stream",
     "text": [
      "INFO\tTask(Task-3) nodify.node.139788942790912:node.py:get()- No need to evaluate\n"
     ]
    },
    {
     "name": "stderr",
     "output_type": "stream",
     "text": [
      "INFO\tTask(Task-3) nodify.node.139788942794560:node.py:get()- No need to evaluate\n"
     ]
    },
    {
     "name": "stderr",
     "output_type": "stream",
     "text": [
      "INFO\tTask(Task-3) nodify.node.139788942794176:node.py:get()- No need to evaluate\n"
     ]
    },
    {
     "name": "stderr",
     "output_type": "stream",
     "text": [
      "INFO\tTask(Task-3) nodify.node.139788942799936:node.py:get()- No need to evaluate\n"
     ]
    },
    {
     "name": "stderr",
     "output_type": "stream",
     "text": [
      "INFO\tTask(Task-3) nodify.node.139788942793408:node.py:get()- No need to evaluate\n"
     ]
    },
    {
     "name": "stderr",
     "output_type": "stream",
     "text": [
      "INFO\tTask(Task-3) nodify.node.139788942794944:node.py:get()- Evaluated because inputs changed.\n"
     ]
    },
    {
     "name": "stderr",
     "output_type": "stream",
     "text": [
      "INFO\tTask(Task-3) nodify.node.139788942795328:node.py:get()- No need to evaluate\n"
     ]
    },
    {
     "name": "stderr",
     "output_type": "stream",
     "text": [
      "INFO\tTask(Task-3) nodify.node.139788942799840:node.py:get()- Evaluated because inputs changed.\n"
     ]
    },
    {
     "name": "stderr",
     "output_type": "stream",
     "text": [
      "INFO\tTask(Task-3) nodify.node.139788942790912:node.py:get()- No need to evaluate\n"
     ]
    },
    {
     "name": "stderr",
     "output_type": "stream",
     "text": [
      "INFO\tTask(Task-3) nodify.node.139788942790240:node.py:get()- No need to evaluate\n"
     ]
    },
    {
     "name": "stderr",
     "output_type": "stream",
     "text": [
      "INFO\tTask(Task-3) nodify.node.139788942790144:node.py:get()- No need to evaluate\n"
     ]
    },
    {
     "name": "stderr",
     "output_type": "stream",
     "text": [
      "INFO\tTask(Task-3) nodify.node.139788942791968:node.py:get()- No need to evaluate\n"
     ]
    },
    {
     "name": "stderr",
     "output_type": "stream",
     "text": [
      "INFO\tTask(Task-3) nodify.node.139788942798640:node.py:get()- No need to evaluate\n"
     ]
    },
    {
     "name": "stderr",
     "output_type": "stream",
     "text": [
      "INFO\tTask(Task-3) nodify.node.139788942796480:node.py:get()- No need to evaluate\n"
     ]
    },
    {
     "name": "stderr",
     "output_type": "stream",
     "text": [
      "INFO\tTask(Task-3) nodify.node.139788942800608:node.py:get()- No need to evaluate\n"
     ]
    },
    {
     "name": "stderr",
     "output_type": "stream",
     "text": [
      "INFO\tTask(Task-3) nodify.node.139788942799984:node.py:get()- No need to evaluate\n"
     ]
    },
    {
     "name": "stderr",
     "output_type": "stream",
     "text": [
      "INFO\tTask(Task-3) nodify.node.139788942791632:node.py:get()- No need to evaluate\n"
     ]
    },
    {
     "name": "stderr",
     "output_type": "stream",
     "text": [
      "INFO\tTask(Task-3) nodify.node.139788942790912:node.py:get()- No need to evaluate\n"
     ]
    },
    {
     "name": "stderr",
     "output_type": "stream",
     "text": [
      "INFO\tTask(Task-3) nodify.node.139788942792208:node.py:get()- No need to evaluate\n"
     ]
    },
    {
     "name": "stderr",
     "output_type": "stream",
     "text": [
      "INFO\tTask(Task-3) nodify.node.139788942798160:node.py:get()- No need to evaluate\n"
     ]
    },
    {
     "name": "stderr",
     "output_type": "stream",
     "text": [
      "INFO\tTask(Task-3) nodify.node.139788942790912:node.py:get()- No need to evaluate\n"
     ]
    },
    {
     "name": "stderr",
     "output_type": "stream",
     "text": [
      "INFO\tTask(Task-3) nodify.node.139788942798736:node.py:get()- No need to evaluate\n"
     ]
    },
    {
     "name": "stderr",
     "output_type": "stream",
     "text": [
      "INFO\tTask(Task-3) nodify.node.139788942800656:node.py:get()- No need to evaluate\n"
     ]
    },
    {
     "name": "stderr",
     "output_type": "stream",
     "text": [
      "INFO\tTask(Task-3) nodify.node.139788942792592:node.py:get()- No need to evaluate\n"
     ]
    },
    {
     "name": "stderr",
     "output_type": "stream",
     "text": [
      "INFO\tTask(Task-3) nodify.node.139788942790912:node.py:get()- No need to evaluate\n"
     ]
    },
    {
     "name": "stderr",
     "output_type": "stream",
     "text": [
      "INFO\tTask(Task-3) nodify.node.139788942792208:node.py:get()- No need to evaluate\n"
     ]
    },
    {
     "name": "stderr",
     "output_type": "stream",
     "text": [
      "INFO\tTask(Task-3) nodify.node.139788942798160:node.py:get()- No need to evaluate\n"
     ]
    },
    {
     "name": "stderr",
     "output_type": "stream",
     "text": [
      "INFO\tTask(Task-3) nodify.node.139788942790912:node.py:get()- No need to evaluate\n"
     ]
    },
    {
     "name": "stderr",
     "output_type": "stream",
     "text": [
      "INFO\tTask(Task-3) nodify.node.139788942798736:node.py:get()- No need to evaluate\n"
     ]
    },
    {
     "name": "stderr",
     "output_type": "stream",
     "text": [
      "INFO\tTask(Task-3) nodify.node.139788942801328:node.py:get()- No need to evaluate\n"
     ]
    },
    {
     "name": "stderr",
     "output_type": "stream",
     "text": [
      "INFO\tTask(Task-3) nodify.node.139788942792976:node.py:get()- No need to evaluate\n"
     ]
    },
    {
     "name": "stderr",
     "output_type": "stream",
     "text": [
      "INFO\tTask(Task-3) nodify.node.139788942790912:node.py:get()- No need to evaluate\n"
     ]
    },
    {
     "name": "stderr",
     "output_type": "stream",
     "text": [
      "INFO\tTask(Task-3) nodify.node.139788942792208:node.py:get()- No need to evaluate\n"
     ]
    },
    {
     "name": "stderr",
     "output_type": "stream",
     "text": [
      "INFO\tTask(Task-3) nodify.node.139788942798160:node.py:get()- No need to evaluate\n"
     ]
    },
    {
     "name": "stderr",
     "output_type": "stream",
     "text": [
      "INFO\tTask(Task-3) nodify.node.139788942790912:node.py:get()- No need to evaluate\n"
     ]
    },
    {
     "name": "stderr",
     "output_type": "stream",
     "text": [
      "INFO\tTask(Task-3) nodify.node.139788942798736:node.py:get()- No need to evaluate\n"
     ]
    },
    {
     "name": "stderr",
     "output_type": "stream",
     "text": [
      "INFO\tTask(Task-3) nodify.node.139788942801664:node.py:get()- No need to evaluate\n"
     ]
    },
    {
     "name": "stderr",
     "output_type": "stream",
     "text": [
      "INFO\tTask(Task-3) nodify.node.139788942790912:node.py:get()- No need to evaluate\n"
     ]
    },
    {
     "name": "stderr",
     "output_type": "stream",
     "text": [
      "INFO\tTask(Task-3) nodify.node.139788942790240:node.py:get()- No need to evaluate\n"
     ]
    },
    {
     "name": "stderr",
     "output_type": "stream",
     "text": [
      "INFO\tTask(Task-3) nodify.node.139788942790144:node.py:get()- No need to evaluate\n"
     ]
    },
    {
     "name": "stderr",
     "output_type": "stream",
     "text": [
      "INFO\tTask(Task-3) nodify.node.139788942791968:node.py:get()- No need to evaluate\n"
     ]
    },
    {
     "name": "stderr",
     "output_type": "stream",
     "text": [
      "INFO\tTask(Task-3) nodify.node.139788942798640:node.py:get()- No need to evaluate\n"
     ]
    },
    {
     "name": "stderr",
     "output_type": "stream",
     "text": [
      "INFO\tTask(Task-3) nodify.node.139788942790912:node.py:get()- No need to evaluate\n"
     ]
    },
    {
     "name": "stderr",
     "output_type": "stream",
     "text": [
      "INFO\tTask(Task-3) nodify.node.139788942792208:node.py:get()- No need to evaluate\n"
     ]
    },
    {
     "name": "stderr",
     "output_type": "stream",
     "text": [
      "INFO\tTask(Task-3) nodify.node.139788942798160:node.py:get()- No need to evaluate\n"
     ]
    },
    {
     "name": "stderr",
     "output_type": "stream",
     "text": [
      "INFO\tTask(Task-3) nodify.node.139788942790912:node.py:get()- No need to evaluate\n"
     ]
    },
    {
     "name": "stderr",
     "output_type": "stream",
     "text": [
      "INFO\tTask(Task-3) nodify.node.139788942798736:node.py:get()- No need to evaluate\n"
     ]
    },
    {
     "name": "stderr",
     "output_type": "stream",
     "text": [
      "INFO\tTask(Task-3) nodify.node.139788942796096:node.py:get()- No need to evaluate\n"
     ]
    },
    {
     "name": "stderr",
     "output_type": "stream",
     "text": [
      "INFO\tTask(Task-3) nodify.node.139788942795712:node.py:get()- No need to evaluate\n"
     ]
    },
    {
     "name": "stderr",
     "output_type": "stream",
     "text": [
      "INFO\tTask(Task-3) nodify.node.139788942798448:node.py:get()- No need to evaluate\n"
     ]
    },
    {
     "name": "stderr",
     "output_type": "stream",
     "text": [
      "INFO\tTask(Task-3) nodify.node.139788942798880:node.py:get()- Evaluated because inputs changed.\n"
     ]
    },
    {
     "name": "stderr",
     "output_type": "stream",
     "text": [
      "INFO\tTask(Task-3) nodify.node.139788945755072:node.py:get()- Evaluated because inputs changed.\n"
     ]
    },
    {
     "name": "stderr",
     "output_type": "stream",
     "text": [
      "INFO\tTask(Task-3) nodify.node.139788942802432:node.py:get()- Evaluated because inputs changed.\n"
     ]
    },
    {
     "data": {
      "application/vnd.plotly.v1+json": {
       "config": {
        "plotlyServerURL": "https://plot.ly"
       },
       "data": [
        {
         "coloraxis": "coloraxis",
         "meta": {},
         "opacity": 1,
         "textfont": {
          "color": "blue",
          "family": "times",
          "size": 15
         },
         "type": "heatmap",
         "z": {
          "bdata": "Zj44kial5L+AWqLFeL58PxCtfTWiG9o/otOlkjQC1T/Gz3Cenz3nPwAAAAAAAPh/AAAAAAAA+H8AAAAAAAD4fwAAAAAAAPh/k1gyToQXkD8AAAAAAAD4fwAAAAAAAPh/AAAAAAAA+H8AAAAAAAD4fwAAAAAAAPh/gFqixXi+fD+cn7Gpbm/Uv4pCaXQ95tW/ROW7RHVY5L84TWpXQy62vwAAAAAAAPh/AAAAAAAA+H8AAAAAAAD4fwAAAAAAAPh/kJxOoI1Fpb8AAAAAAAD4fwAAAAAAAPh/AAAAAAAA+H8AAAAAAAD4fwAAAAAAAPh/EK19NaIb2j+KQml0PebVv7Y/yms1RuG/COxPx49PvD8Q0bVTOwWmvwAAAAAAAPh/AAAAAAAA+H8AAAAAAAD4fwAAAAAAAPh/HeooupCftb8AAAAAAAD4fwAAAAAAAPh/AAAAAAAA+H8AAAAAAAD4fwAAAAAAAPh/otOlkjQC1T9E5btEdVjkvwjsT8ePT7w/mKfoPVrf1T/sgvepDMvivwAAAAAAAPh/AAAAAAAA+H8AAAAAAAD4fwAAAAAAAPh/oKcYhYRhp78AAAAAAAD4fwAAAAAAAPh/AAAAAAAA+H8AAAAAAAD4fwAAAAAAAPh/xs9wnp895z84TWpXQy62vxDRtVM7Baa/7IL3qQzL4r8kJHAG1fnTvwAAAAAAAPh/AAAAAAAA+H8AAAAAAAD4fwAAAAAAAPh/AAAAAAAA+H+TWDJOhBeQP5CcTqCNRaW/HeooupCftb+gpxiFhGGnvwAAAAAAAPh/",
          "dtype": "f8",
          "shape": "5, 15"
         },
         "zsmooth": false
        }
       ],
       "layout": {
        "coloraxis": {
         "cmid": 0,
         "colorscale": [
          [
           0.0,
           "rgb(0, 147, 146)"
          ],
          [
           0.16666666666666666,
           "rgb(57, 177, 133)"
          ],
          [
           0.3333333333333333,
           "rgb(156, 203, 134)"
          ],
          [
           0.5,
           "rgb(233, 226, 156)"
          ],
          [
           0.6666666666666666,
           "rgb(238, 180, 121)"
          ],
          [
           0.8333333333333334,
           "rgb(232, 132, 113)"
          ],
          [
           1.0,
           "rgb(207, 89, 126)"
          ]
         ],
         "showscale": true
        },
        "scene": {
         "aspectmode": "data",
         "xaxis": {
          "range": [
           -0.5,
           14.5
          ]
         },
         "yaxis": {
          "range": [
           4.5,
           -0.5
          ]
         }
        },
        "template": {
         "layout": {
          "hovermode": "closest",
          "paper_bgcolor": "white",
          "plot_bgcolor": "white",
          "scene": {
           "xaxis": {
            "color": "black",
            "gridcolor": "#ccc",
            "gridwidth": 1,
            "linewidth": 1,
            "mirror": true,
            "showgrid": false,
            "showline": true,
            "ticklen": 5,
            "ticks": "outside",
            "ticksuffix": " ",
            "visible": true,
            "zeroline": false,
            "zerolinecolor": "#ccc",
            "zerolinewidth": 1
           },
           "yaxis": {
            "color": "black",
            "gridcolor": "#ccc",
            "gridwidth": 1,
            "linewidth": 1,
            "mirror": true,
            "showgrid": false,
            "showline": true,
            "ticklen": 5,
            "ticks": "outside",
            "ticksuffix": " ",
            "visible": true,
            "zeroline": false,
            "zerolinecolor": "#ccc",
            "zerolinewidth": 1
           },
           "zaxis": {
            "color": "black",
            "gridcolor": "#ccc",
            "gridwidth": 1,
            "linewidth": 1,
            "mirror": true,
            "showgrid": false,
            "showline": true,
            "ticklen": 5,
            "ticks": "outside",
            "ticksuffix": " ",
            "visible": true,
            "zeroline": false,
            "zerolinecolor": "#ccc",
            "zerolinewidth": 1
           }
          },
          "xaxis": {
           "color": "black",
           "gridcolor": "#ccc",
           "gridwidth": 1,
           "linewidth": 1,
           "mirror": true,
           "showgrid": false,
           "showline": true,
           "ticklen": 5,
           "ticks": "outside",
           "ticksuffix": " ",
           "visible": true,
           "zeroline": false,
           "zerolinecolor": "#ccc",
           "zerolinewidth": 1
          },
          "yaxis": {
           "color": "black",
           "gridcolor": "#ccc",
           "gridwidth": 1,
           "linewidth": 1,
           "mirror": true,
           "showgrid": false,
           "showline": true,
           "ticklen": 5,
           "ticks": "outside",
           "ticksuffix": " ",
           "visible": true,
           "zeroline": false,
           "zerolinecolor": "#ccc",
           "zerolinewidth": 1
          }
         }
        },
        "xaxis": {
         "constrain": "domain",
         "range": [
          -0.5,
          14.5
         ],
         "scaleanchor": "y",
         "scaleratio": 1
        },
        "yaxis": {
         "constrain": "domain",
         "range": [
          4.5,
          -0.5
         ]
        }
       }
      }
     },
     "metadata": {},
     "output_type": "display_data"
    }
   ],
   "source": [
    "plot.update_inputs(text=None)"
   ]
  },
  {
   "cell_type": "code",
   "execution_count": 11,
   "metadata": {
    "execution": {
     "iopub.execute_input": "2025-08-23T10:46:55.294804Z",
     "iopub.status.busy": "2025-08-23T10:46:55.294632Z",
     "iopub.status.idle": "2025-08-23T10:46:55.297218Z",
     "shell.execute_reply": "2025-08-23T10:46:55.296773Z"
    }
   },
   "outputs": [],
   "source": [
    "plot = plot.update_inputs(textfont={}, text=\".2f\")"
   ]
  },
  {
   "cell_type": "markdown",
   "metadata": {},
   "source": [
    "## Separators\n",
    "\n",
    "Sparse atomic matrices may be hard to interpret because it's hard to know by eye to which atoms/orbitals an element belongs.\n",
    "\n",
    "Separators come to the rescue by providing a guide for your eye to quickly pinpoint what each element is. There are three types of separators:\n",
    "\n",
    "- `sc_lines`: Draw lines separating the **different cells of the auxiliary supercell**.\n",
    "- `atom_lines`: Draw lines separating the blocks corresponding to **each atom-atom interaction**.\n",
    "- `orbital_lines`: Within each atom, draw lines that **isolate the interactions between two sets of orbitals**. E.g. a set of 3 `p` orbitals from one atom and an `s` orbital from another atom.\n",
    "\n",
    "They all can be activated (deactivated) by setting the corresponding input to `True` (`False`)."
   ]
  },
  {
   "cell_type": "code",
   "execution_count": 12,
   "metadata": {
    "execution": {
     "iopub.execute_input": "2025-08-23T10:46:55.298805Z",
     "iopub.status.busy": "2025-08-23T10:46:55.298625Z",
     "iopub.status.idle": "2025-08-23T10:46:55.392471Z",
     "shell.execute_reply": "2025-08-23T10:46:55.391886Z"
    }
   },
   "outputs": [
    {
     "name": "stderr",
     "output_type": "stream",
     "text": [
      "INFO\tTask(Task-3) nodify.node.139788942796864:node.py:get()- No need to evaluate\n"
     ]
    },
    {
     "name": "stderr",
     "output_type": "stream",
     "text": [
      "INFO\tTask(Task-3) nodify.node.139788942790912:node.py:get()- No need to evaluate\n"
     ]
    },
    {
     "name": "stderr",
     "output_type": "stream",
     "text": [
      "INFO\tTask(Task-3) nodify.node.139788942790240:node.py:get()- No need to evaluate\n"
     ]
    },
    {
     "name": "stderr",
     "output_type": "stream",
     "text": [
      "INFO\tTask(Task-3) nodify.node.139788942790144:node.py:get()- No need to evaluate\n"
     ]
    },
    {
     "name": "stderr",
     "output_type": "stream",
     "text": [
      "INFO\tTask(Task-3) nodify.node.139788942791968:node.py:get()- No need to evaluate\n"
     ]
    },
    {
     "name": "stderr",
     "output_type": "stream",
     "text": [
      "INFO\tTask(Task-3) nodify.node.139788942798640:node.py:get()- No need to evaluate\n"
     ]
    },
    {
     "name": "stderr",
     "output_type": "stream",
     "text": [
      "INFO\tTask(Task-3) nodify.node.139788942793792:node.py:get()- No need to evaluate\n"
     ]
    },
    {
     "name": "stderr",
     "output_type": "stream",
     "text": [
      "INFO\tTask(Task-3) nodify.node.139788942794176:node.py:get()- No need to evaluate\n"
     ]
    },
    {
     "name": "stderr",
     "output_type": "stream",
     "text": [
      "INFO\tTask(Task-3) nodify.node.139788942790912:node.py:get()- No need to evaluate\n"
     ]
    },
    {
     "name": "stderr",
     "output_type": "stream",
     "text": [
      "INFO\tTask(Task-3) nodify.node.139788942794560:node.py:get()- No need to evaluate\n"
     ]
    },
    {
     "name": "stderr",
     "output_type": "stream",
     "text": [
      "INFO\tTask(Task-3) nodify.node.139788942794176:node.py:get()- No need to evaluate\n"
     ]
    },
    {
     "name": "stderr",
     "output_type": "stream",
     "text": [
      "INFO\tTask(Task-3) nodify.node.139788942799936:node.py:get()- No need to evaluate\n"
     ]
    },
    {
     "name": "stderr",
     "output_type": "stream",
     "text": [
      "INFO\tTask(Task-3) nodify.node.139788942793408:node.py:get()- No need to evaluate\n"
     ]
    },
    {
     "name": "stderr",
     "output_type": "stream",
     "text": [
      "INFO\tTask(Task-3) nodify.node.139788942794944:node.py:get()- Evaluated because inputs changed.\n"
     ]
    },
    {
     "name": "stderr",
     "output_type": "stream",
     "text": [
      "INFO\tTask(Task-3) nodify.node.139788942795328:node.py:get()- Evaluated because inputs changed.\n"
     ]
    },
    {
     "name": "stderr",
     "output_type": "stream",
     "text": [
      "INFO\tTask(Task-3) nodify.node.139788942799840:node.py:get()- Evaluated because inputs changed.\n"
     ]
    },
    {
     "name": "stderr",
     "output_type": "stream",
     "text": [
      "INFO\tTask(Task-3) nodify.node.139788942790912:node.py:get()- No need to evaluate\n"
     ]
    },
    {
     "name": "stderr",
     "output_type": "stream",
     "text": [
      "INFO\tTask(Task-3) nodify.node.139788942790240:node.py:get()- No need to evaluate\n"
     ]
    },
    {
     "name": "stderr",
     "output_type": "stream",
     "text": [
      "INFO\tTask(Task-3) nodify.node.139788942790144:node.py:get()- No need to evaluate\n"
     ]
    },
    {
     "name": "stderr",
     "output_type": "stream",
     "text": [
      "INFO\tTask(Task-3) nodify.node.139788942791968:node.py:get()- No need to evaluate\n"
     ]
    },
    {
     "name": "stderr",
     "output_type": "stream",
     "text": [
      "INFO\tTask(Task-3) nodify.node.139788942798640:node.py:get()- No need to evaluate\n"
     ]
    },
    {
     "name": "stderr",
     "output_type": "stream",
     "text": [
      "INFO\tTask(Task-3) nodify.node.139788942796480:node.py:get()- No need to evaluate\n"
     ]
    },
    {
     "name": "stderr",
     "output_type": "stream",
     "text": [
      "INFO\tTask(Task-3) nodify.node.139788942800608:node.py:get()- No need to evaluate\n"
     ]
    },
    {
     "name": "stderr",
     "output_type": "stream",
     "text": [
      "INFO\tTask(Task-3) nodify.node.139788942799984:node.py:get()- No need to evaluate\n"
     ]
    },
    {
     "name": "stderr",
     "output_type": "stream",
     "text": [
      "INFO\tTask(Task-3) nodify.node.139788942791632:node.py:get()- Evaluated because inputs changed.\n"
     ]
    },
    {
     "name": "stderr",
     "output_type": "stream",
     "text": [
      "INFO\tTask(Task-3) nodify.node.139788942790912:node.py:get()- No need to evaluate\n"
     ]
    },
    {
     "name": "stderr",
     "output_type": "stream",
     "text": [
      "INFO\tTask(Task-3) nodify.node.139788942792208:node.py:get()- No need to evaluate\n"
     ]
    },
    {
     "name": "stderr",
     "output_type": "stream",
     "text": [
      "INFO\tTask(Task-3) nodify.node.139788942798160:node.py:get()- No need to evaluate\n"
     ]
    },
    {
     "name": "stderr",
     "output_type": "stream",
     "text": [
      "INFO\tTask(Task-3) nodify.node.139788942790912:node.py:get()- No need to evaluate\n"
     ]
    },
    {
     "name": "stderr",
     "output_type": "stream",
     "text": [
      "INFO\tTask(Task-3) nodify.node.139788942798736:node.py:get()- No need to evaluate\n"
     ]
    },
    {
     "name": "stderr",
     "output_type": "stream",
     "text": [
      "INFO\tTask(Task-3) nodify.node.139788942800656:node.py:get()- Evaluated because inputs changed.\n"
     ]
    },
    {
     "name": "stderr",
     "output_type": "stream",
     "text": [
      "INFO\tTask(Task-3) nodify.node.139788942792592:node.py:get()- Evaluated because inputs changed.\n"
     ]
    },
    {
     "name": "stderr",
     "output_type": "stream",
     "text": [
      "INFO\tTask(Task-3) nodify.node.139788942790912:node.py:get()- No need to evaluate\n"
     ]
    },
    {
     "name": "stderr",
     "output_type": "stream",
     "text": [
      "INFO\tTask(Task-3) nodify.node.139788942792208:node.py:get()- No need to evaluate\n"
     ]
    },
    {
     "name": "stderr",
     "output_type": "stream",
     "text": [
      "INFO\tTask(Task-3) nodify.node.139788942798160:node.py:get()- No need to evaluate\n"
     ]
    },
    {
     "name": "stderr",
     "output_type": "stream",
     "text": [
      "INFO\tTask(Task-3) nodify.node.139788942790912:node.py:get()- No need to evaluate\n"
     ]
    },
    {
     "name": "stderr",
     "output_type": "stream",
     "text": [
      "INFO\tTask(Task-3) nodify.node.139788942798736:node.py:get()- No need to evaluate\n"
     ]
    },
    {
     "name": "stderr",
     "output_type": "stream",
     "text": [
      "INFO\tTask(Task-3) nodify.node.139788942801328:node.py:get()- Evaluated because inputs changed.\n"
     ]
    },
    {
     "name": "stderr",
     "output_type": "stream",
     "text": [
      "INFO\tTask(Task-3) nodify.node.139788942792976:node.py:get()- Evaluated because inputs changed.\n"
     ]
    },
    {
     "name": "stderr",
     "output_type": "stream",
     "text": [
      "INFO\tTask(Task-3) nodify.node.139788942790912:node.py:get()- No need to evaluate\n"
     ]
    },
    {
     "name": "stderr",
     "output_type": "stream",
     "text": [
      "INFO\tTask(Task-3) nodify.node.139788942792208:node.py:get()- No need to evaluate\n"
     ]
    },
    {
     "name": "stderr",
     "output_type": "stream",
     "text": [
      "INFO\tTask(Task-3) nodify.node.139788942798160:node.py:get()- No need to evaluate\n"
     ]
    },
    {
     "name": "stderr",
     "output_type": "stream",
     "text": [
      "INFO\tTask(Task-3) nodify.node.139788942790912:node.py:get()- No need to evaluate\n"
     ]
    },
    {
     "name": "stderr",
     "output_type": "stream",
     "text": [
      "INFO\tTask(Task-3) nodify.node.139788942798736:node.py:get()- No need to evaluate\n"
     ]
    },
    {
     "name": "stderr",
     "output_type": "stream",
     "text": [
      "INFO\tTask(Task-3) nodify.node.139788942801664:node.py:get()- Evaluated because inputs changed.\n"
     ]
    },
    {
     "name": "stderr",
     "output_type": "stream",
     "text": [
      "INFO\tTask(Task-3) nodify.node.139788942790912:node.py:get()- No need to evaluate\n"
     ]
    },
    {
     "name": "stderr",
     "output_type": "stream",
     "text": [
      "INFO\tTask(Task-3) nodify.node.139788942790240:node.py:get()- No need to evaluate\n"
     ]
    },
    {
     "name": "stderr",
     "output_type": "stream",
     "text": [
      "INFO\tTask(Task-3) nodify.node.139788942790144:node.py:get()- No need to evaluate\n"
     ]
    },
    {
     "name": "stderr",
     "output_type": "stream",
     "text": [
      "INFO\tTask(Task-3) nodify.node.139788942791968:node.py:get()- No need to evaluate\n"
     ]
    },
    {
     "name": "stderr",
     "output_type": "stream",
     "text": [
      "INFO\tTask(Task-3) nodify.node.139788942798640:node.py:get()- No need to evaluate\n"
     ]
    },
    {
     "name": "stderr",
     "output_type": "stream",
     "text": [
      "INFO\tTask(Task-3) nodify.node.139788942790912:node.py:get()- No need to evaluate\n"
     ]
    },
    {
     "name": "stderr",
     "output_type": "stream",
     "text": [
      "INFO\tTask(Task-3) nodify.node.139788942792208:node.py:get()- No need to evaluate\n"
     ]
    },
    {
     "name": "stderr",
     "output_type": "stream",
     "text": [
      "INFO\tTask(Task-3) nodify.node.139788942798160:node.py:get()- No need to evaluate\n"
     ]
    },
    {
     "name": "stderr",
     "output_type": "stream",
     "text": [
      "INFO\tTask(Task-3) nodify.node.139788942790912:node.py:get()- No need to evaluate\n"
     ]
    },
    {
     "name": "stderr",
     "output_type": "stream",
     "text": [
      "INFO\tTask(Task-3) nodify.node.139788942798736:node.py:get()- No need to evaluate\n"
     ]
    },
    {
     "name": "stderr",
     "output_type": "stream",
     "text": [
      "INFO\tTask(Task-3) nodify.node.139788942796096:node.py:get()- No need to evaluate\n"
     ]
    },
    {
     "name": "stderr",
     "output_type": "stream",
     "text": [
      "INFO\tTask(Task-3) nodify.node.139788942795712:node.py:get()- No need to evaluate\n"
     ]
    },
    {
     "name": "stderr",
     "output_type": "stream",
     "text": [
      "INFO\tTask(Task-3) nodify.node.139788942798448:node.py:get()- No need to evaluate\n"
     ]
    },
    {
     "name": "stderr",
     "output_type": "stream",
     "text": [
      "INFO\tTask(Task-3) nodify.node.139788942798880:node.py:get()- Evaluated because inputs changed.\n"
     ]
    },
    {
     "name": "stderr",
     "output_type": "stream",
     "text": [
      "INFO\tTask(Task-3) nodify.node.139788945755072:node.py:get()- Evaluated because inputs changed.\n"
     ]
    },
    {
     "name": "stderr",
     "output_type": "stream",
     "text": [
      "INFO\tTask(Task-3) nodify.node.139788942802432:node.py:get()- Evaluated because inputs changed.\n"
     ]
    },
    {
     "data": {
      "application/vnd.plotly.v1+json": {
       "config": {
        "plotlyServerURL": "https://plot.ly"
       },
       "data": [
        {
         "coloraxis": "coloraxis",
         "meta": {},
         "opacity": 1,
         "texttemplate": "%{z:.2f}",
         "type": "heatmap",
         "z": {
          "bdata": "Zj44kial5L+AWqLFeL58PxCtfTWiG9o/otOlkjQC1T/Gz3Cenz3nPwAAAAAAAPh/AAAAAAAA+H8AAAAAAAD4fwAAAAAAAPh/k1gyToQXkD8AAAAAAAD4fwAAAAAAAPh/AAAAAAAA+H8AAAAAAAD4fwAAAAAAAPh/gFqixXi+fD+cn7Gpbm/Uv4pCaXQ95tW/ROW7RHVY5L84TWpXQy62vwAAAAAAAPh/AAAAAAAA+H8AAAAAAAD4fwAAAAAAAPh/kJxOoI1Fpb8AAAAAAAD4fwAAAAAAAPh/AAAAAAAA+H8AAAAAAAD4fwAAAAAAAPh/EK19NaIb2j+KQml0PebVv7Y/yms1RuG/COxPx49PvD8Q0bVTOwWmvwAAAAAAAPh/AAAAAAAA+H8AAAAAAAD4fwAAAAAAAPh/HeooupCftb8AAAAAAAD4fwAAAAAAAPh/AAAAAAAA+H8AAAAAAAD4fwAAAAAAAPh/otOlkjQC1T9E5btEdVjkvwjsT8ePT7w/mKfoPVrf1T/sgvepDMvivwAAAAAAAPh/AAAAAAAA+H8AAAAAAAD4fwAAAAAAAPh/oKcYhYRhp78AAAAAAAD4fwAAAAAAAPh/AAAAAAAA+H8AAAAAAAD4fwAAAAAAAPh/xs9wnp895z84TWpXQy62vxDRtVM7Baa/7IL3qQzL4r8kJHAG1fnTvwAAAAAAAPh/AAAAAAAA+H8AAAAAAAD4fwAAAAAAAPh/AAAAAAAA+H+TWDJOhBeQP5CcTqCNRaW/HeooupCftb+gpxiFhGGnvwAAAAAAAPh/",
          "dtype": "f8",
          "shape": "5, 15"
         },
         "zsmooth": false
        },
        {
         "line": {
          "color": "black",
          "dash": "dot"
         },
         "meta": {},
         "mode": "lines",
         "name": "orbitals separators",
         "opacity": 1,
         "showlegend": false,
         "type": "scatter",
         "x": {
          "bdata": "AAAAAAAA4L8AAAAAAAASQAAAAAAAAPh/AAAAAAAA4D8AAAAAAADgPwAAAAAAAPh/",
          "dtype": "f8"
         },
         "y": {
          "bdata": "AAAAAAAA4D8AAAAAAADgPwAAAAAAAPh/AAAAAAAA4L8AAAAAAAASQAAAAAAAAPh/",
          "dtype": "f8"
         }
        },
        {
         "line": {
          "color": "orange"
         },
         "meta": {},
         "mode": "lines",
         "name": "atoms separators",
         "opacity": 1,
         "showlegend": false,
         "type": "scatter",
         "x": {
          "bdata": "AAAAAAAA4L8AAAAAAAASQAAAAAAAAPh/AAAAAAAADEAAAAAAAAAMQAAAAAAAAPh/",
          "dtype": "f8"
         },
         "y": {
          "bdata": "AAAAAAAADEAAAAAAAAAMQAAAAAAAAPh/AAAAAAAA4L8AAAAAAAASQAAAAAAAAPh/",
          "dtype": "f8"
         }
        }
       ],
       "layout": {
        "coloraxis": {
         "cmid": 0,
         "colorscale": [
          [
           0.0,
           "rgb(0, 147, 146)"
          ],
          [
           0.16666666666666666,
           "rgb(57, 177, 133)"
          ],
          [
           0.3333333333333333,
           "rgb(156, 203, 134)"
          ],
          [
           0.5,
           "rgb(233, 226, 156)"
          ],
          [
           0.6666666666666666,
           "rgb(238, 180, 121)"
          ],
          [
           0.8333333333333334,
           "rgb(232, 132, 113)"
          ],
          [
           1.0,
           "rgb(207, 89, 126)"
          ]
         ],
         "showscale": true
        },
        "scene": {
         "aspectmode": "data",
         "xaxis": {
          "range": [
           -0.5,
           14.5
          ]
         },
         "yaxis": {
          "range": [
           4.5,
           -0.5
          ]
         }
        },
        "template": {
         "layout": {
          "hovermode": "closest",
          "paper_bgcolor": "white",
          "plot_bgcolor": "white",
          "scene": {
           "xaxis": {
            "color": "black",
            "gridcolor": "#ccc",
            "gridwidth": 1,
            "linewidth": 1,
            "mirror": true,
            "showgrid": false,
            "showline": true,
            "ticklen": 5,
            "ticks": "outside",
            "ticksuffix": " ",
            "visible": true,
            "zeroline": false,
            "zerolinecolor": "#ccc",
            "zerolinewidth": 1
           },
           "yaxis": {
            "color": "black",
            "gridcolor": "#ccc",
            "gridwidth": 1,
            "linewidth": 1,
            "mirror": true,
            "showgrid": false,
            "showline": true,
            "ticklen": 5,
            "ticks": "outside",
            "ticksuffix": " ",
            "visible": true,
            "zeroline": false,
            "zerolinecolor": "#ccc",
            "zerolinewidth": 1
           },
           "zaxis": {
            "color": "black",
            "gridcolor": "#ccc",
            "gridwidth": 1,
            "linewidth": 1,
            "mirror": true,
            "showgrid": false,
            "showline": true,
            "ticklen": 5,
            "ticks": "outside",
            "ticksuffix": " ",
            "visible": true,
            "zeroline": false,
            "zerolinecolor": "#ccc",
            "zerolinewidth": 1
           }
          },
          "xaxis": {
           "color": "black",
           "gridcolor": "#ccc",
           "gridwidth": 1,
           "linewidth": 1,
           "mirror": true,
           "showgrid": false,
           "showline": true,
           "ticklen": 5,
           "ticks": "outside",
           "ticksuffix": " ",
           "visible": true,
           "zeroline": false,
           "zerolinecolor": "#ccc",
           "zerolinewidth": 1
          },
          "yaxis": {
           "color": "black",
           "gridcolor": "#ccc",
           "gridwidth": 1,
           "linewidth": 1,
           "mirror": true,
           "showgrid": false,
           "showline": true,
           "ticklen": 5,
           "ticks": "outside",
           "ticksuffix": " ",
           "visible": true,
           "zeroline": false,
           "zerolinecolor": "#ccc",
           "zerolinewidth": 1
          }
         }
        },
        "xaxis": {
         "constrain": "domain",
         "range": [
          -0.5,
          14.5
         ],
         "scaleanchor": "y",
         "scaleratio": 1
        },
        "yaxis": {
         "constrain": "domain",
         "range": [
          4.5,
          -0.5
         ]
        }
       }
      }
     },
     "metadata": {},
     "output_type": "display_data"
    }
   ],
   "source": [
    "plot.update_inputs(\n",
    "    sc_lines=True,\n",
    "    atom_lines=True,\n",
    "    orbital_lines=True,\n",
    ")"
   ]
  },
  {
   "cell_type": "markdown",
   "metadata": {},
   "source": [
    "Sometimes, the **default styles for the lines might not suit your visualization**. For example, they might not play well with your chosen colorscale. In that case, you can **pass a dictionary of line styles** to the inputs."
   ]
  },
  {
   "cell_type": "code",
   "execution_count": 13,
   "metadata": {
    "execution": {
     "iopub.execute_input": "2025-08-23T10:46:55.394237Z",
     "iopub.status.busy": "2025-08-23T10:46:55.394055Z",
     "iopub.status.idle": "2025-08-23T10:46:55.485422Z",
     "shell.execute_reply": "2025-08-23T10:46:55.484944Z"
    }
   },
   "outputs": [
    {
     "name": "stderr",
     "output_type": "stream",
     "text": [
      "INFO\tTask(Task-3) nodify.node.139788942796864:node.py:get()- No need to evaluate\n"
     ]
    },
    {
     "name": "stderr",
     "output_type": "stream",
     "text": [
      "INFO\tTask(Task-3) nodify.node.139788942790912:node.py:get()- No need to evaluate\n"
     ]
    },
    {
     "name": "stderr",
     "output_type": "stream",
     "text": [
      "INFO\tTask(Task-3) nodify.node.139788942790240:node.py:get()- No need to evaluate\n"
     ]
    },
    {
     "name": "stderr",
     "output_type": "stream",
     "text": [
      "INFO\tTask(Task-3) nodify.node.139788942790144:node.py:get()- No need to evaluate\n"
     ]
    },
    {
     "name": "stderr",
     "output_type": "stream",
     "text": [
      "INFO\tTask(Task-3) nodify.node.139788942791968:node.py:get()- No need to evaluate\n"
     ]
    },
    {
     "name": "stderr",
     "output_type": "stream",
     "text": [
      "INFO\tTask(Task-3) nodify.node.139788942798640:node.py:get()- No need to evaluate\n"
     ]
    },
    {
     "name": "stderr",
     "output_type": "stream",
     "text": [
      "INFO\tTask(Task-3) nodify.node.139788942793792:node.py:get()- No need to evaluate\n"
     ]
    },
    {
     "name": "stderr",
     "output_type": "stream",
     "text": [
      "INFO\tTask(Task-3) nodify.node.139788942794176:node.py:get()- No need to evaluate\n"
     ]
    },
    {
     "name": "stderr",
     "output_type": "stream",
     "text": [
      "INFO\tTask(Task-3) nodify.node.139788942790912:node.py:get()- No need to evaluate\n"
     ]
    },
    {
     "name": "stderr",
     "output_type": "stream",
     "text": [
      "INFO\tTask(Task-3) nodify.node.139788942794560:node.py:get()- No need to evaluate\n"
     ]
    },
    {
     "name": "stderr",
     "output_type": "stream",
     "text": [
      "INFO\tTask(Task-3) nodify.node.139788942794176:node.py:get()- No need to evaluate\n"
     ]
    },
    {
     "name": "stderr",
     "output_type": "stream",
     "text": [
      "INFO\tTask(Task-3) nodify.node.139788942799936:node.py:get()- No need to evaluate\n"
     ]
    },
    {
     "name": "stderr",
     "output_type": "stream",
     "text": [
      "INFO\tTask(Task-3) nodify.node.139788942793408:node.py:get()- No need to evaluate\n"
     ]
    },
    {
     "name": "stderr",
     "output_type": "stream",
     "text": [
      "INFO\tTask(Task-3) nodify.node.139788942794944:node.py:get()- No need to evaluate\n"
     ]
    },
    {
     "name": "stderr",
     "output_type": "stream",
     "text": [
      "INFO\tTask(Task-3) nodify.node.139788942795328:node.py:get()- No need to evaluate\n"
     ]
    },
    {
     "name": "stderr",
     "output_type": "stream",
     "text": [
      "INFO\tTask(Task-3) nodify.node.139788942799840:node.py:get()- No need to evaluate\n"
     ]
    },
    {
     "name": "stderr",
     "output_type": "stream",
     "text": [
      "INFO\tTask(Task-3) nodify.node.139788942790912:node.py:get()- No need to evaluate\n"
     ]
    },
    {
     "name": "stderr",
     "output_type": "stream",
     "text": [
      "INFO\tTask(Task-3) nodify.node.139788942790240:node.py:get()- No need to evaluate\n"
     ]
    },
    {
     "name": "stderr",
     "output_type": "stream",
     "text": [
      "INFO\tTask(Task-3) nodify.node.139788942790144:node.py:get()- No need to evaluate\n"
     ]
    },
    {
     "name": "stderr",
     "output_type": "stream",
     "text": [
      "INFO\tTask(Task-3) nodify.node.139788942791968:node.py:get()- No need to evaluate\n"
     ]
    },
    {
     "name": "stderr",
     "output_type": "stream",
     "text": [
      "INFO\tTask(Task-3) nodify.node.139788942798640:node.py:get()- No need to evaluate\n"
     ]
    },
    {
     "name": "stderr",
     "output_type": "stream",
     "text": [
      "INFO\tTask(Task-3) nodify.node.139788942796480:node.py:get()- No need to evaluate\n"
     ]
    },
    {
     "name": "stderr",
     "output_type": "stream",
     "text": [
      "INFO\tTask(Task-3) nodify.node.139788942800608:node.py:get()- No need to evaluate\n"
     ]
    },
    {
     "name": "stderr",
     "output_type": "stream",
     "text": [
      "INFO\tTask(Task-3) nodify.node.139788942799984:node.py:get()- No need to evaluate\n"
     ]
    },
    {
     "name": "stderr",
     "output_type": "stream",
     "text": [
      "INFO\tTask(Task-3) nodify.node.139788942791632:node.py:get()- Evaluated because inputs changed.\n"
     ]
    },
    {
     "name": "stderr",
     "output_type": "stream",
     "text": [
      "INFO\tTask(Task-3) nodify.node.139788942790912:node.py:get()- No need to evaluate\n"
     ]
    },
    {
     "name": "stderr",
     "output_type": "stream",
     "text": [
      "INFO\tTask(Task-3) nodify.node.139788942792208:node.py:get()- No need to evaluate\n"
     ]
    },
    {
     "name": "stderr",
     "output_type": "stream",
     "text": [
      "INFO\tTask(Task-3) nodify.node.139788942798160:node.py:get()- No need to evaluate\n"
     ]
    },
    {
     "name": "stderr",
     "output_type": "stream",
     "text": [
      "INFO\tTask(Task-3) nodify.node.139788942790912:node.py:get()- No need to evaluate\n"
     ]
    },
    {
     "name": "stderr",
     "output_type": "stream",
     "text": [
      "INFO\tTask(Task-3) nodify.node.139788942798736:node.py:get()- No need to evaluate\n"
     ]
    },
    {
     "name": "stderr",
     "output_type": "stream",
     "text": [
      "INFO\tTask(Task-3) nodify.node.139788942800656:node.py:get()- Evaluated because inputs changed.\n"
     ]
    },
    {
     "name": "stderr",
     "output_type": "stream",
     "text": [
      "INFO\tTask(Task-3) nodify.node.139788942792592:node.py:get()- Evaluated because inputs changed.\n"
     ]
    },
    {
     "name": "stderr",
     "output_type": "stream",
     "text": [
      "INFO\tTask(Task-3) nodify.node.139788942790912:node.py:get()- No need to evaluate\n"
     ]
    },
    {
     "name": "stderr",
     "output_type": "stream",
     "text": [
      "INFO\tTask(Task-3) nodify.node.139788942792208:node.py:get()- No need to evaluate\n"
     ]
    },
    {
     "name": "stderr",
     "output_type": "stream",
     "text": [
      "INFO\tTask(Task-3) nodify.node.139788942798160:node.py:get()- No need to evaluate\n"
     ]
    },
    {
     "name": "stderr",
     "output_type": "stream",
     "text": [
      "INFO\tTask(Task-3) nodify.node.139788942790912:node.py:get()- No need to evaluate\n"
     ]
    },
    {
     "name": "stderr",
     "output_type": "stream",
     "text": [
      "INFO\tTask(Task-3) nodify.node.139788942798736:node.py:get()- No need to evaluate\n"
     ]
    },
    {
     "name": "stderr",
     "output_type": "stream",
     "text": [
      "INFO\tTask(Task-3) nodify.node.139788942801328:node.py:get()- Evaluated because inputs changed.\n"
     ]
    },
    {
     "name": "stderr",
     "output_type": "stream",
     "text": [
      "INFO\tTask(Task-3) nodify.node.139788942792976:node.py:get()- Evaluated because inputs changed.\n"
     ]
    },
    {
     "name": "stderr",
     "output_type": "stream",
     "text": [
      "INFO\tTask(Task-3) nodify.node.139788942790912:node.py:get()- No need to evaluate\n"
     ]
    },
    {
     "name": "stderr",
     "output_type": "stream",
     "text": [
      "INFO\tTask(Task-3) nodify.node.139788942792208:node.py:get()- No need to evaluate\n"
     ]
    },
    {
     "name": "stderr",
     "output_type": "stream",
     "text": [
      "INFO\tTask(Task-3) nodify.node.139788942798160:node.py:get()- No need to evaluate\n"
     ]
    },
    {
     "name": "stderr",
     "output_type": "stream",
     "text": [
      "INFO\tTask(Task-3) nodify.node.139788942790912:node.py:get()- No need to evaluate\n"
     ]
    },
    {
     "name": "stderr",
     "output_type": "stream",
     "text": [
      "INFO\tTask(Task-3) nodify.node.139788942798736:node.py:get()- No need to evaluate\n"
     ]
    },
    {
     "name": "stderr",
     "output_type": "stream",
     "text": [
      "INFO\tTask(Task-3) nodify.node.139788942801664:node.py:get()- Evaluated because inputs changed.\n"
     ]
    },
    {
     "name": "stderr",
     "output_type": "stream",
     "text": [
      "INFO\tTask(Task-3) nodify.node.139788942790912:node.py:get()- No need to evaluate\n"
     ]
    },
    {
     "name": "stderr",
     "output_type": "stream",
     "text": [
      "INFO\tTask(Task-3) nodify.node.139788942790240:node.py:get()- No need to evaluate\n"
     ]
    },
    {
     "name": "stderr",
     "output_type": "stream",
     "text": [
      "INFO\tTask(Task-3) nodify.node.139788942790144:node.py:get()- No need to evaluate\n"
     ]
    },
    {
     "name": "stderr",
     "output_type": "stream",
     "text": [
      "INFO\tTask(Task-3) nodify.node.139788942791968:node.py:get()- No need to evaluate\n"
     ]
    },
    {
     "name": "stderr",
     "output_type": "stream",
     "text": [
      "INFO\tTask(Task-3) nodify.node.139788942798640:node.py:get()- No need to evaluate\n"
     ]
    },
    {
     "name": "stderr",
     "output_type": "stream",
     "text": [
      "INFO\tTask(Task-3) nodify.node.139788942790912:node.py:get()- No need to evaluate\n"
     ]
    },
    {
     "name": "stderr",
     "output_type": "stream",
     "text": [
      "INFO\tTask(Task-3) nodify.node.139788942792208:node.py:get()- No need to evaluate\n"
     ]
    },
    {
     "name": "stderr",
     "output_type": "stream",
     "text": [
      "INFO\tTask(Task-3) nodify.node.139788942798160:node.py:get()- No need to evaluate\n"
     ]
    },
    {
     "name": "stderr",
     "output_type": "stream",
     "text": [
      "INFO\tTask(Task-3) nodify.node.139788942790912:node.py:get()- No need to evaluate\n"
     ]
    },
    {
     "name": "stderr",
     "output_type": "stream",
     "text": [
      "INFO\tTask(Task-3) nodify.node.139788942798736:node.py:get()- No need to evaluate\n"
     ]
    },
    {
     "name": "stderr",
     "output_type": "stream",
     "text": [
      "INFO\tTask(Task-3) nodify.node.139788942796096:node.py:get()- No need to evaluate\n"
     ]
    },
    {
     "name": "stderr",
     "output_type": "stream",
     "text": [
      "INFO\tTask(Task-3) nodify.node.139788942795712:node.py:get()- No need to evaluate\n"
     ]
    },
    {
     "name": "stderr",
     "output_type": "stream",
     "text": [
      "INFO\tTask(Task-3) nodify.node.139788942798448:node.py:get()- No need to evaluate\n"
     ]
    },
    {
     "name": "stderr",
     "output_type": "stream",
     "text": [
      "INFO\tTask(Task-3) nodify.node.139788942798880:node.py:get()- Evaluated because inputs changed.\n"
     ]
    },
    {
     "name": "stderr",
     "output_type": "stream",
     "text": [
      "INFO\tTask(Task-3) nodify.node.139788945755072:node.py:get()- Evaluated because inputs changed.\n"
     ]
    },
    {
     "name": "stderr",
     "output_type": "stream",
     "text": [
      "INFO\tTask(Task-3) nodify.node.139788942802432:node.py:get()- Evaluated because inputs changed.\n"
     ]
    },
    {
     "data": {
      "application/vnd.plotly.v1+json": {
       "config": {
        "plotlyServerURL": "https://plot.ly"
       },
       "data": [
        {
         "coloraxis": "coloraxis",
         "meta": {},
         "opacity": 1,
         "texttemplate": "%{z:.2f}",
         "type": "heatmap",
         "z": {
          "bdata": "Zj44kial5L+AWqLFeL58PxCtfTWiG9o/otOlkjQC1T/Gz3Cenz3nPwAAAAAAAPh/AAAAAAAA+H8AAAAAAAD4fwAAAAAAAPh/k1gyToQXkD8AAAAAAAD4fwAAAAAAAPh/AAAAAAAA+H8AAAAAAAD4fwAAAAAAAPh/gFqixXi+fD+cn7Gpbm/Uv4pCaXQ95tW/ROW7RHVY5L84TWpXQy62vwAAAAAAAPh/AAAAAAAA+H8AAAAAAAD4fwAAAAAAAPh/kJxOoI1Fpb8AAAAAAAD4fwAAAAAAAPh/AAAAAAAA+H8AAAAAAAD4fwAAAAAAAPh/EK19NaIb2j+KQml0PebVv7Y/yms1RuG/COxPx49PvD8Q0bVTOwWmvwAAAAAAAPh/AAAAAAAA+H8AAAAAAAD4fwAAAAAAAPh/HeooupCftb8AAAAAAAD4fwAAAAAAAPh/AAAAAAAA+H8AAAAAAAD4fwAAAAAAAPh/otOlkjQC1T9E5btEdVjkvwjsT8ePT7w/mKfoPVrf1T/sgvepDMvivwAAAAAAAPh/AAAAAAAA+H8AAAAAAAD4fwAAAAAAAPh/oKcYhYRhp78AAAAAAAD4fwAAAAAAAPh/AAAAAAAA+H8AAAAAAAD4fwAAAAAAAPh/xs9wnp895z84TWpXQy62vxDRtVM7Baa/7IL3qQzL4r8kJHAG1fnTvwAAAAAAAPh/AAAAAAAA+H8AAAAAAAD4fwAAAAAAAPh/AAAAAAAA+H+TWDJOhBeQP5CcTqCNRaW/HeooupCftb+gpxiFhGGnvwAAAAAAAPh/",
          "dtype": "f8",
          "shape": "5, 15"
         },
         "zsmooth": false
        },
        {
         "line": {
          "color": "pink",
          "dash": "dash",
          "width": 5
         },
         "meta": {},
         "mode": "lines",
         "name": "orbitals separators",
         "opacity": 0.8,
         "showlegend": false,
         "type": "scatter",
         "x": {
          "bdata": "AAAAAAAA4L8AAAAAAAASQAAAAAAAAPh/AAAAAAAA4D8AAAAAAADgPwAAAAAAAPh/",
          "dtype": "f8"
         },
         "y": {
          "bdata": "AAAAAAAA4D8AAAAAAADgPwAAAAAAAPh/AAAAAAAA4L8AAAAAAAASQAAAAAAAAPh/",
          "dtype": "f8"
         }
        },
        {
         "line": {
          "color": "gray"
         },
         "meta": {},
         "mode": "lines",
         "name": "atoms separators",
         "opacity": 1,
         "showlegend": false,
         "type": "scatter",
         "x": {
          "bdata": "AAAAAAAA4L8AAAAAAAASQAAAAAAAAPh/AAAAAAAADEAAAAAAAAAMQAAAAAAAAPh/",
          "dtype": "f8"
         },
         "y": {
          "bdata": "AAAAAAAADEAAAAAAAAAMQAAAAAAAAPh/AAAAAAAA4L8AAAAAAAASQAAAAAAAAPh/",
          "dtype": "f8"
         }
        }
       ],
       "layout": {
        "coloraxis": {
         "cmid": 0,
         "colorscale": [
          [
           0.0,
           "rgb(0, 147, 146)"
          ],
          [
           0.16666666666666666,
           "rgb(57, 177, 133)"
          ],
          [
           0.3333333333333333,
           "rgb(156, 203, 134)"
          ],
          [
           0.5,
           "rgb(233, 226, 156)"
          ],
          [
           0.6666666666666666,
           "rgb(238, 180, 121)"
          ],
          [
           0.8333333333333334,
           "rgb(232, 132, 113)"
          ],
          [
           1.0,
           "rgb(207, 89, 126)"
          ]
         ],
         "showscale": true
        },
        "scene": {
         "aspectmode": "data",
         "xaxis": {
          "range": [
           -0.5,
           14.5
          ]
         },
         "yaxis": {
          "range": [
           4.5,
           -0.5
          ]
         }
        },
        "template": {
         "layout": {
          "hovermode": "closest",
          "paper_bgcolor": "white",
          "plot_bgcolor": "white",
          "scene": {
           "xaxis": {
            "color": "black",
            "gridcolor": "#ccc",
            "gridwidth": 1,
            "linewidth": 1,
            "mirror": true,
            "showgrid": false,
            "showline": true,
            "ticklen": 5,
            "ticks": "outside",
            "ticksuffix": " ",
            "visible": true,
            "zeroline": false,
            "zerolinecolor": "#ccc",
            "zerolinewidth": 1
           },
           "yaxis": {
            "color": "black",
            "gridcolor": "#ccc",
            "gridwidth": 1,
            "linewidth": 1,
            "mirror": true,
            "showgrid": false,
            "showline": true,
            "ticklen": 5,
            "ticks": "outside",
            "ticksuffix": " ",
            "visible": true,
            "zeroline": false,
            "zerolinecolor": "#ccc",
            "zerolinewidth": 1
           },
           "zaxis": {
            "color": "black",
            "gridcolor": "#ccc",
            "gridwidth": 1,
            "linewidth": 1,
            "mirror": true,
            "showgrid": false,
            "showline": true,
            "ticklen": 5,
            "ticks": "outside",
            "ticksuffix": " ",
            "visible": true,
            "zeroline": false,
            "zerolinecolor": "#ccc",
            "zerolinewidth": 1
           }
          },
          "xaxis": {
           "color": "black",
           "gridcolor": "#ccc",
           "gridwidth": 1,
           "linewidth": 1,
           "mirror": true,
           "showgrid": false,
           "showline": true,
           "ticklen": 5,
           "ticks": "outside",
           "ticksuffix": " ",
           "visible": true,
           "zeroline": false,
           "zerolinecolor": "#ccc",
           "zerolinewidth": 1
          },
          "yaxis": {
           "color": "black",
           "gridcolor": "#ccc",
           "gridwidth": 1,
           "linewidth": 1,
           "mirror": true,
           "showgrid": false,
           "showline": true,
           "ticklen": 5,
           "ticks": "outside",
           "ticksuffix": " ",
           "visible": true,
           "zeroline": false,
           "zerolinecolor": "#ccc",
           "zerolinewidth": 1
          }
         }
        },
        "xaxis": {
         "constrain": "domain",
         "range": [
          -0.5,
          14.5
         ],
         "scaleanchor": "y",
         "scaleratio": 1
        },
        "yaxis": {
         "constrain": "domain",
         "range": [
          4.5,
          -0.5
         ]
        }
       }
      }
     },
     "metadata": {},
     "output_type": "display_data"
    }
   ],
   "source": [
    "plot.update_inputs(\n",
    "    orbital_lines={\"color\": \"pink\", \"width\": 5, \"dash\": \"dash\", \"opacity\": 0.8},\n",
    "    sc_lines={\"width\": 4},\n",
    "    atom_lines={\"color\": \"gray\"},\n",
    ")"
   ]
  },
  {
   "cell_type": "markdown",
   "metadata": {},
   "source": [
    "## Labels\n",
    "\n",
    "You might want to have a clearer idea of the orbitals that correspond to a given matrix element. You can turn on labels with `set_labels`:"
   ]
  },
  {
   "cell_type": "code",
   "execution_count": 14,
   "metadata": {
    "execution": {
     "iopub.execute_input": "2025-08-23T10:46:55.487178Z",
     "iopub.status.busy": "2025-08-23T10:46:55.487002Z",
     "iopub.status.idle": "2025-08-23T10:46:55.586316Z",
     "shell.execute_reply": "2025-08-23T10:46:55.585667Z"
    }
   },
   "outputs": [
    {
     "name": "stderr",
     "output_type": "stream",
     "text": [
      "INFO\tTask(Task-3) nodify.node.139788942796864:node.py:get()- No need to evaluate\n"
     ]
    },
    {
     "name": "stderr",
     "output_type": "stream",
     "text": [
      "INFO\tTask(Task-3) nodify.node.139788942790912:node.py:get()- No need to evaluate\n"
     ]
    },
    {
     "name": "stderr",
     "output_type": "stream",
     "text": [
      "INFO\tTask(Task-3) nodify.node.139788942790240:node.py:get()- No need to evaluate\n"
     ]
    },
    {
     "name": "stderr",
     "output_type": "stream",
     "text": [
      "INFO\tTask(Task-3) nodify.node.139788942790144:node.py:get()- No need to evaluate\n"
     ]
    },
    {
     "name": "stderr",
     "output_type": "stream",
     "text": [
      "INFO\tTask(Task-3) nodify.node.139788942791968:node.py:get()- No need to evaluate\n"
     ]
    },
    {
     "name": "stderr",
     "output_type": "stream",
     "text": [
      "INFO\tTask(Task-3) nodify.node.139788942798640:node.py:get()- No need to evaluate\n"
     ]
    },
    {
     "name": "stderr",
     "output_type": "stream",
     "text": [
      "INFO\tTask(Task-3) nodify.node.139788942793792:node.py:get()- No need to evaluate\n"
     ]
    },
    {
     "name": "stderr",
     "output_type": "stream",
     "text": [
      "INFO\tTask(Task-3) nodify.node.139788942794176:node.py:get()- No need to evaluate\n"
     ]
    },
    {
     "name": "stderr",
     "output_type": "stream",
     "text": [
      "INFO\tTask(Task-3) nodify.node.139788942790912:node.py:get()- No need to evaluate\n"
     ]
    },
    {
     "name": "stderr",
     "output_type": "stream",
     "text": [
      "INFO\tTask(Task-3) nodify.node.139788942794560:node.py:get()- No need to evaluate\n"
     ]
    },
    {
     "name": "stderr",
     "output_type": "stream",
     "text": [
      "INFO\tTask(Task-3) nodify.node.139788942794176:node.py:get()- No need to evaluate\n"
     ]
    },
    {
     "name": "stderr",
     "output_type": "stream",
     "text": [
      "INFO\tTask(Task-3) nodify.node.139788942799936:node.py:get()- No need to evaluate\n"
     ]
    },
    {
     "name": "stderr",
     "output_type": "stream",
     "text": [
      "INFO\tTask(Task-3) nodify.node.139788942793408:node.py:get()- No need to evaluate\n"
     ]
    },
    {
     "name": "stderr",
     "output_type": "stream",
     "text": [
      "INFO\tTask(Task-3) nodify.node.139788942794944:node.py:get()- No need to evaluate\n"
     ]
    },
    {
     "name": "stderr",
     "output_type": "stream",
     "text": [
      "INFO\tTask(Task-3) nodify.node.139788942795328:node.py:get()- No need to evaluate\n"
     ]
    },
    {
     "name": "stderr",
     "output_type": "stream",
     "text": [
      "INFO\tTask(Task-3) nodify.node.139788942799840:node.py:get()- No need to evaluate\n"
     ]
    },
    {
     "name": "stderr",
     "output_type": "stream",
     "text": [
      "INFO\tTask(Task-3) nodify.node.139788942790912:node.py:get()- No need to evaluate\n"
     ]
    },
    {
     "name": "stderr",
     "output_type": "stream",
     "text": [
      "INFO\tTask(Task-3) nodify.node.139788942790240:node.py:get()- No need to evaluate\n"
     ]
    },
    {
     "name": "stderr",
     "output_type": "stream",
     "text": [
      "INFO\tTask(Task-3) nodify.node.139788942790144:node.py:get()- No need to evaluate\n"
     ]
    },
    {
     "name": "stderr",
     "output_type": "stream",
     "text": [
      "INFO\tTask(Task-3) nodify.node.139788942791968:node.py:get()- No need to evaluate\n"
     ]
    },
    {
     "name": "stderr",
     "output_type": "stream",
     "text": [
      "INFO\tTask(Task-3) nodify.node.139788942798640:node.py:get()- No need to evaluate\n"
     ]
    },
    {
     "name": "stderr",
     "output_type": "stream",
     "text": [
      "INFO\tTask(Task-3) nodify.node.139788942796480:node.py:get()- No need to evaluate\n"
     ]
    },
    {
     "name": "stderr",
     "output_type": "stream",
     "text": [
      "INFO\tTask(Task-3) nodify.node.139788942800608:node.py:get()- No need to evaluate\n"
     ]
    },
    {
     "name": "stderr",
     "output_type": "stream",
     "text": [
      "INFO\tTask(Task-3) nodify.node.139788942799984:node.py:get()- No need to evaluate\n"
     ]
    },
    {
     "name": "stderr",
     "output_type": "stream",
     "text": [
      "INFO\tTask(Task-3) nodify.node.139788942791632:node.py:get()- No need to evaluate\n"
     ]
    },
    {
     "name": "stderr",
     "output_type": "stream",
     "text": [
      "INFO\tTask(Task-3) nodify.node.139788942790912:node.py:get()- No need to evaluate\n"
     ]
    },
    {
     "name": "stderr",
     "output_type": "stream",
     "text": [
      "INFO\tTask(Task-3) nodify.node.139788942792208:node.py:get()- No need to evaluate\n"
     ]
    },
    {
     "name": "stderr",
     "output_type": "stream",
     "text": [
      "INFO\tTask(Task-3) nodify.node.139788942798160:node.py:get()- No need to evaluate\n"
     ]
    },
    {
     "name": "stderr",
     "output_type": "stream",
     "text": [
      "INFO\tTask(Task-3) nodify.node.139788942790912:node.py:get()- No need to evaluate\n"
     ]
    },
    {
     "name": "stderr",
     "output_type": "stream",
     "text": [
      "INFO\tTask(Task-3) nodify.node.139788942798736:node.py:get()- No need to evaluate\n"
     ]
    },
    {
     "name": "stderr",
     "output_type": "stream",
     "text": [
      "INFO\tTask(Task-3) nodify.node.139788942800656:node.py:get()- No need to evaluate\n"
     ]
    },
    {
     "name": "stderr",
     "output_type": "stream",
     "text": [
      "INFO\tTask(Task-3) nodify.node.139788942792592:node.py:get()- No need to evaluate\n"
     ]
    },
    {
     "name": "stderr",
     "output_type": "stream",
     "text": [
      "INFO\tTask(Task-3) nodify.node.139788942790912:node.py:get()- No need to evaluate\n"
     ]
    },
    {
     "name": "stderr",
     "output_type": "stream",
     "text": [
      "INFO\tTask(Task-3) nodify.node.139788942792208:node.py:get()- No need to evaluate\n"
     ]
    },
    {
     "name": "stderr",
     "output_type": "stream",
     "text": [
      "INFO\tTask(Task-3) nodify.node.139788942798160:node.py:get()- No need to evaluate\n"
     ]
    },
    {
     "name": "stderr",
     "output_type": "stream",
     "text": [
      "INFO\tTask(Task-3) nodify.node.139788942790912:node.py:get()- No need to evaluate\n"
     ]
    },
    {
     "name": "stderr",
     "output_type": "stream",
     "text": [
      "INFO\tTask(Task-3) nodify.node.139788942798736:node.py:get()- No need to evaluate\n"
     ]
    },
    {
     "name": "stderr",
     "output_type": "stream",
     "text": [
      "INFO\tTask(Task-3) nodify.node.139788942801328:node.py:get()- No need to evaluate\n"
     ]
    },
    {
     "name": "stderr",
     "output_type": "stream",
     "text": [
      "INFO\tTask(Task-3) nodify.node.139788942792976:node.py:get()- No need to evaluate\n"
     ]
    },
    {
     "name": "stderr",
     "output_type": "stream",
     "text": [
      "INFO\tTask(Task-3) nodify.node.139788942790912:node.py:get()- No need to evaluate\n"
     ]
    },
    {
     "name": "stderr",
     "output_type": "stream",
     "text": [
      "INFO\tTask(Task-3) nodify.node.139788942792208:node.py:get()- No need to evaluate\n"
     ]
    },
    {
     "name": "stderr",
     "output_type": "stream",
     "text": [
      "INFO\tTask(Task-3) nodify.node.139788942798160:node.py:get()- No need to evaluate\n"
     ]
    },
    {
     "name": "stderr",
     "output_type": "stream",
     "text": [
      "INFO\tTask(Task-3) nodify.node.139788942790912:node.py:get()- No need to evaluate\n"
     ]
    },
    {
     "name": "stderr",
     "output_type": "stream",
     "text": [
      "INFO\tTask(Task-3) nodify.node.139788942798736:node.py:get()- No need to evaluate\n"
     ]
    },
    {
     "name": "stderr",
     "output_type": "stream",
     "text": [
      "INFO\tTask(Task-3) nodify.node.139788942801664:node.py:get()- No need to evaluate\n"
     ]
    },
    {
     "name": "stderr",
     "output_type": "stream",
     "text": [
      "INFO\tTask(Task-3) nodify.node.139788942790912:node.py:get()- No need to evaluate\n"
     ]
    },
    {
     "name": "stderr",
     "output_type": "stream",
     "text": [
      "INFO\tTask(Task-3) nodify.node.139788942790240:node.py:get()- No need to evaluate\n"
     ]
    },
    {
     "name": "stderr",
     "output_type": "stream",
     "text": [
      "INFO\tTask(Task-3) nodify.node.139788942790144:node.py:get()- No need to evaluate\n"
     ]
    },
    {
     "name": "stderr",
     "output_type": "stream",
     "text": [
      "INFO\tTask(Task-3) nodify.node.139788942791968:node.py:get()- No need to evaluate\n"
     ]
    },
    {
     "name": "stderr",
     "output_type": "stream",
     "text": [
      "INFO\tTask(Task-3) nodify.node.139788942798640:node.py:get()- No need to evaluate\n"
     ]
    },
    {
     "name": "stderr",
     "output_type": "stream",
     "text": [
      "INFO\tTask(Task-3) nodify.node.139788942790912:node.py:get()- No need to evaluate\n"
     ]
    },
    {
     "name": "stderr",
     "output_type": "stream",
     "text": [
      "INFO\tTask(Task-3) nodify.node.139788942792208:node.py:get()- No need to evaluate\n"
     ]
    },
    {
     "name": "stderr",
     "output_type": "stream",
     "text": [
      "INFO\tTask(Task-3) nodify.node.139788942798160:node.py:get()- No need to evaluate\n"
     ]
    },
    {
     "name": "stderr",
     "output_type": "stream",
     "text": [
      "INFO\tTask(Task-3) nodify.node.139788942790912:node.py:get()- No need to evaluate\n"
     ]
    },
    {
     "name": "stderr",
     "output_type": "stream",
     "text": [
      "INFO\tTask(Task-3) nodify.node.139788942798736:node.py:get()- No need to evaluate\n"
     ]
    },
    {
     "name": "stderr",
     "output_type": "stream",
     "text": [
      "INFO\tTask(Task-3) nodify.node.139788942796096:node.py:get()- No need to evaluate\n"
     ]
    },
    {
     "name": "stderr",
     "output_type": "stream",
     "text": [
      "INFO\tTask(Task-3) nodify.node.139788942795712:node.py:get()- Evaluated because inputs changed.\n"
     ]
    },
    {
     "name": "stderr",
     "output_type": "stream",
     "text": [
      "INFO\tTask(Task-3) nodify.node.139788942798448:node.py:get()- Evaluated because inputs changed.\n"
     ]
    },
    {
     "name": "stderr",
     "output_type": "stream",
     "text": [
      "INFO\tTask(Task-3) nodify.node.139788942798880:node.py:get()- Evaluated because inputs changed.\n"
     ]
    },
    {
     "name": "stderr",
     "output_type": "stream",
     "text": [
      "INFO\tTask(Task-3) nodify.node.139788945755072:node.py:get()- Evaluated because inputs changed.\n"
     ]
    },
    {
     "name": "stderr",
     "output_type": "stream",
     "text": [
      "INFO\tTask(Task-3) nodify.node.139788942802432:node.py:get()- Evaluated because inputs changed.\n"
     ]
    },
    {
     "data": {
      "application/vnd.plotly.v1+json": {
       "config": {
        "plotlyServerURL": "https://plot.ly"
       },
       "data": [
        {
         "coloraxis": "coloraxis",
         "meta": {},
         "opacity": 1,
         "texttemplate": "%{z:.2f}",
         "type": "heatmap",
         "z": {
          "bdata": "Zj44kial5L+AWqLFeL58PxCtfTWiG9o/otOlkjQC1T/Gz3Cenz3nPwAAAAAAAPh/AAAAAAAA+H8AAAAAAAD4fwAAAAAAAPh/k1gyToQXkD8AAAAAAAD4fwAAAAAAAPh/AAAAAAAA+H8AAAAAAAD4fwAAAAAAAPh/gFqixXi+fD+cn7Gpbm/Uv4pCaXQ95tW/ROW7RHVY5L84TWpXQy62vwAAAAAAAPh/AAAAAAAA+H8AAAAAAAD4fwAAAAAAAPh/kJxOoI1Fpb8AAAAAAAD4fwAAAAAAAPh/AAAAAAAA+H8AAAAAAAD4fwAAAAAAAPh/EK19NaIb2j+KQml0PebVv7Y/yms1RuG/COxPx49PvD8Q0bVTOwWmvwAAAAAAAPh/AAAAAAAA+H8AAAAAAAD4fwAAAAAAAPh/HeooupCftb8AAAAAAAD4fwAAAAAAAPh/AAAAAAAA+H8AAAAAAAD4fwAAAAAAAPh/otOlkjQC1T9E5btEdVjkvwjsT8ePT7w/mKfoPVrf1T/sgvepDMvivwAAAAAAAPh/AAAAAAAA+H8AAAAAAAD4fwAAAAAAAPh/oKcYhYRhp78AAAAAAAD4fwAAAAAAAPh/AAAAAAAA+H8AAAAAAAD4fwAAAAAAAPh/xs9wnp895z84TWpXQy62vxDRtVM7Baa/7IL3qQzL4r8kJHAG1fnTvwAAAAAAAPh/AAAAAAAA+H8AAAAAAAD4fwAAAAAAAPh/AAAAAAAA+H+TWDJOhBeQP5CcTqCNRaW/HeooupCftb+gpxiFhGGnvwAAAAAAAPh/",
          "dtype": "f8",
          "shape": "5, 15"
         },
         "zsmooth": false
        },
        {
         "line": {
          "color": "pink",
          "dash": "dash",
          "width": 5
         },
         "meta": {},
         "mode": "lines",
         "name": "orbitals separators",
         "opacity": 0.8,
         "showlegend": false,
         "type": "scatter",
         "x": {
          "bdata": "AAAAAAAA4L8AAAAAAAASQAAAAAAAAPh/AAAAAAAA4D8AAAAAAADgPwAAAAAAAPh/",
          "dtype": "f8"
         },
         "y": {
          "bdata": "AAAAAAAA4D8AAAAAAADgPwAAAAAAAPh/AAAAAAAA4L8AAAAAAAASQAAAAAAAAPh/",
          "dtype": "f8"
         }
        },
        {
         "line": {
          "color": "gray"
         },
         "meta": {},
         "mode": "lines",
         "name": "atoms separators",
         "opacity": 1,
         "showlegend": false,
         "type": "scatter",
         "x": {
          "bdata": "AAAAAAAA4L8AAAAAAAASQAAAAAAAAPh/AAAAAAAADEAAAAAAAAAMQAAAAAAAAPh/",
          "dtype": "f8"
         },
         "y": {
          "bdata": "AAAAAAAADEAAAAAAAAAMQAAAAAAAAPh/AAAAAAAA4L8AAAAAAAASQAAAAAAAAPh/",
          "dtype": "f8"
         }
        }
       ],
       "layout": {
        "coloraxis": {
         "cmid": 0,
         "colorscale": [
          [
           0.0,
           "rgb(0, 147, 146)"
          ],
          [
           0.16666666666666666,
           "rgb(57, 177, 133)"
          ],
          [
           0.3333333333333333,
           "rgb(156, 203, 134)"
          ],
          [
           0.5,
           "rgb(233, 226, 156)"
          ],
          [
           0.6666666666666666,
           "rgb(238, 180, 121)"
          ],
          [
           0.8333333333333334,
           "rgb(232, 132, 113)"
          ],
          [
           1.0,
           "rgb(207, 89, 126)"
          ]
         ],
         "showscale": true
        },
        "scene": {
         "aspectmode": "data",
         "xaxis": {
          "range": [
           -0.5,
           14.5
          ],
          "ticktext": [
           "0: (0, 0)",
           "0: (1, -1)",
           "0: (1, 0)",
           "0: (1, 1)",
           "1: (0, 0)",
           "0: (0, 0)",
           "0: (1, -1)",
           "0: (1, 0)",
           "0: (1, 1)",
           "1: (0, 0)",
           "0: (0, 0)",
           "0: (1, -1)",
           "0: (1, 0)",
           "0: (1, 1)",
           "1: (0, 0)"
          ],
          "tickvals": {
           "bdata": "AAECAwQFBgcICQoLDA0O",
           "dtype": "i1"
          }
         },
         "yaxis": {
          "range": [
           4.5,
           -0.5
          ],
          "ticktext": [
           "0: (0, 0)",
           "0: (1, -1)",
           "0: (1, 0)",
           "0: (1, 1)",
           "1: (0, 0)"
          ],
          "tickvals": {
           "bdata": "AAECAwQ=",
           "dtype": "i1"
          }
         }
        },
        "template": {
         "layout": {
          "hovermode": "closest",
          "paper_bgcolor": "white",
          "plot_bgcolor": "white",
          "scene": {
           "xaxis": {
            "color": "black",
            "gridcolor": "#ccc",
            "gridwidth": 1,
            "linewidth": 1,
            "mirror": true,
            "showgrid": false,
            "showline": true,
            "ticklen": 5,
            "ticks": "outside",
            "ticksuffix": " ",
            "visible": true,
            "zeroline": false,
            "zerolinecolor": "#ccc",
            "zerolinewidth": 1
           },
           "yaxis": {
            "color": "black",
            "gridcolor": "#ccc",
            "gridwidth": 1,
            "linewidth": 1,
            "mirror": true,
            "showgrid": false,
            "showline": true,
            "ticklen": 5,
            "ticks": "outside",
            "ticksuffix": " ",
            "visible": true,
            "zeroline": false,
            "zerolinecolor": "#ccc",
            "zerolinewidth": 1
           },
           "zaxis": {
            "color": "black",
            "gridcolor": "#ccc",
            "gridwidth": 1,
            "linewidth": 1,
            "mirror": true,
            "showgrid": false,
            "showline": true,
            "ticklen": 5,
            "ticks": "outside",
            "ticksuffix": " ",
            "visible": true,
            "zeroline": false,
            "zerolinecolor": "#ccc",
            "zerolinewidth": 1
           }
          },
          "xaxis": {
           "color": "black",
           "gridcolor": "#ccc",
           "gridwidth": 1,
           "linewidth": 1,
           "mirror": true,
           "showgrid": false,
           "showline": true,
           "ticklen": 5,
           "ticks": "outside",
           "ticksuffix": " ",
           "visible": true,
           "zeroline": false,
           "zerolinecolor": "#ccc",
           "zerolinewidth": 1
          },
          "yaxis": {
           "color": "black",
           "gridcolor": "#ccc",
           "gridwidth": 1,
           "linewidth": 1,
           "mirror": true,
           "showgrid": false,
           "showline": true,
           "ticklen": 5,
           "ticks": "outside",
           "ticksuffix": " ",
           "visible": true,
           "zeroline": false,
           "zerolinecolor": "#ccc",
           "zerolinewidth": 1
          }
         }
        },
        "xaxis": {
         "constrain": "domain",
         "range": [
          -0.5,
          14.5
         ],
         "scaleanchor": "y",
         "scaleratio": 1,
         "ticktext": [
          "0: (0, 0)",
          "0: (1, -1)",
          "0: (1, 0)",
          "0: (1, 1)",
          "1: (0, 0)",
          "0: (0, 0)",
          "0: (1, -1)",
          "0: (1, 0)",
          "0: (1, 1)",
          "1: (0, 0)",
          "0: (0, 0)",
          "0: (1, -1)",
          "0: (1, 0)",
          "0: (1, 1)",
          "1: (0, 0)"
         ],
         "tickvals": {
          "bdata": "AAECAwQFBgcICQoLDA0O",
          "dtype": "i1"
         }
        },
        "yaxis": {
         "constrain": "domain",
         "range": [
          4.5,
          -0.5
         ],
         "ticktext": [
          "0: (0, 0)",
          "0: (1, -1)",
          "0: (1, 0)",
          "0: (1, 1)",
          "1: (0, 0)"
         ],
         "tickvals": {
          "bdata": "AAECAwQ=",
          "dtype": "i1"
         }
        }
       }
      }
     },
     "metadata": {},
     "output_type": "display_data"
    }
   ],
   "source": [
    "plot.update_inputs(set_labels=True)"
   ]
  },
  {
   "cell_type": "markdown",
   "metadata": {},
   "source": [
    "Labels have the format: `Atom index: (l, m)`. where l and m are the quantum numbers of the orbital."
   ]
  },
  {
   "cell_type": "code",
   "execution_count": 15,
   "metadata": {
    "execution": {
     "iopub.execute_input": "2025-08-23T10:46:55.588329Z",
     "iopub.status.busy": "2025-08-23T10:46:55.588140Z",
     "iopub.status.idle": "2025-08-23T10:46:55.590964Z",
     "shell.execute_reply": "2025-08-23T10:46:55.590465Z"
    }
   },
   "outputs": [],
   "source": [
    "plot = plot.update_inputs(set_labels=False)"
   ]
  },
  {
   "cell_type": "markdown",
   "metadata": {},
   "source": [
    "## Showing only one cell\n",
    "\n",
    "If you only want to visualize a given cell in the supercell, you can pass the index to the `isc` input."
   ]
  },
  {
   "cell_type": "code",
   "execution_count": 16,
   "metadata": {
    "execution": {
     "iopub.execute_input": "2025-08-23T10:46:55.592570Z",
     "iopub.status.busy": "2025-08-23T10:46:55.592390Z",
     "iopub.status.idle": "2025-08-23T10:46:55.686609Z",
     "shell.execute_reply": "2025-08-23T10:46:55.685957Z"
    }
   },
   "outputs": [
    {
     "name": "stderr",
     "output_type": "stream",
     "text": [
      "INFO\tTask(Task-3) nodify.node.139788942796864:node.py:get()- No need to evaluate\n"
     ]
    },
    {
     "name": "stderr",
     "output_type": "stream",
     "text": [
      "INFO\tTask(Task-3) nodify.node.139788942790912:node.py:get()- No need to evaluate\n"
     ]
    },
    {
     "name": "stderr",
     "output_type": "stream",
     "text": [
      "INFO\tTask(Task-3) nodify.node.139788942790240:node.py:get()- No need to evaluate\n"
     ]
    },
    {
     "name": "stderr",
     "output_type": "stream",
     "text": [
      "INFO\tTask(Task-3) nodify.node.139788942790144:node.py:get()- Evaluated because inputs changed.\n"
     ]
    },
    {
     "name": "stderr",
     "output_type": "stream",
     "text": [
      "INFO\tTask(Task-3) nodify.node.139788942791968:node.py:get()- No need to evaluate\n"
     ]
    },
    {
     "name": "stderr",
     "output_type": "stream",
     "text": [
      "INFO\tTask(Task-3) nodify.node.139788942798640:node.py:get()- Evaluated because inputs changed.\n"
     ]
    },
    {
     "name": "stderr",
     "output_type": "stream",
     "text": [
      "INFO\tTask(Task-3) nodify.node.139788942793792:node.py:get()- No need to evaluate\n"
     ]
    },
    {
     "name": "stderr",
     "output_type": "stream",
     "text": [
      "INFO\tTask(Task-3) nodify.node.139788942794176:node.py:get()- No need to evaluate\n"
     ]
    },
    {
     "name": "stderr",
     "output_type": "stream",
     "text": [
      "INFO\tTask(Task-3) nodify.node.139788942790912:node.py:get()- No need to evaluate\n"
     ]
    },
    {
     "name": "stderr",
     "output_type": "stream",
     "text": [
      "INFO\tTask(Task-3) nodify.node.139788942794560:node.py:get()- No need to evaluate\n"
     ]
    },
    {
     "name": "stderr",
     "output_type": "stream",
     "text": [
      "INFO\tTask(Task-3) nodify.node.139788942794176:node.py:get()- No need to evaluate\n"
     ]
    },
    {
     "name": "stderr",
     "output_type": "stream",
     "text": [
      "INFO\tTask(Task-3) nodify.node.139788942799936:node.py:get()- No need to evaluate\n"
     ]
    },
    {
     "name": "stderr",
     "output_type": "stream",
     "text": [
      "INFO\tTask(Task-3) nodify.node.139788942793408:node.py:get()- No need to evaluate\n"
     ]
    },
    {
     "name": "stderr",
     "output_type": "stream",
     "text": [
      "INFO\tTask(Task-3) nodify.node.139788942794944:node.py:get()- No need to evaluate\n"
     ]
    },
    {
     "name": "stderr",
     "output_type": "stream",
     "text": [
      "INFO\tTask(Task-3) nodify.node.139788942795328:node.py:get()- No need to evaluate\n"
     ]
    },
    {
     "name": "stderr",
     "output_type": "stream",
     "text": [
      "INFO\tTask(Task-3) nodify.node.139788942799840:node.py:get()- Evaluated because inputs changed.\n"
     ]
    },
    {
     "name": "stderr",
     "output_type": "stream",
     "text": [
      "INFO\tTask(Task-3) nodify.node.139788942790912:node.py:get()- No need to evaluate\n"
     ]
    },
    {
     "name": "stderr",
     "output_type": "stream",
     "text": [
      "INFO\tTask(Task-3) nodify.node.139788942790240:node.py:get()- No need to evaluate\n"
     ]
    },
    {
     "name": "stderr",
     "output_type": "stream",
     "text": [
      "INFO\tTask(Task-3) nodify.node.139788942790144:node.py:get()- No need to evaluate\n"
     ]
    },
    {
     "name": "stderr",
     "output_type": "stream",
     "text": [
      "INFO\tTask(Task-3) nodify.node.139788942791968:node.py:get()- No need to evaluate\n"
     ]
    },
    {
     "name": "stderr",
     "output_type": "stream",
     "text": [
      "INFO\tTask(Task-3) nodify.node.139788942798640:node.py:get()- No need to evaluate\n"
     ]
    },
    {
     "name": "stderr",
     "output_type": "stream",
     "text": [
      "INFO\tTask(Task-3) nodify.node.139788942796480:node.py:get()- No need to evaluate\n"
     ]
    },
    {
     "name": "stderr",
     "output_type": "stream",
     "text": [
      "INFO\tTask(Task-3) nodify.node.139788942800608:node.py:get()- No need to evaluate\n"
     ]
    },
    {
     "name": "stderr",
     "output_type": "stream",
     "text": [
      "INFO\tTask(Task-3) nodify.node.139788942799984:node.py:get()- Evaluated because inputs changed.\n"
     ]
    },
    {
     "name": "stderr",
     "output_type": "stream",
     "text": [
      "INFO\tTask(Task-3) nodify.node.139788942791632:node.py:get()- No need to evaluate\n"
     ]
    },
    {
     "name": "stderr",
     "output_type": "stream",
     "text": [
      "INFO\tTask(Task-3) nodify.node.139788942790912:node.py:get()- No need to evaluate\n"
     ]
    },
    {
     "name": "stderr",
     "output_type": "stream",
     "text": [
      "INFO\tTask(Task-3) nodify.node.139788942792208:node.py:get()- No need to evaluate\n"
     ]
    },
    {
     "name": "stderr",
     "output_type": "stream",
     "text": [
      "INFO\tTask(Task-3) nodify.node.139788942798160:node.py:get()- No need to evaluate\n"
     ]
    },
    {
     "name": "stderr",
     "output_type": "stream",
     "text": [
      "INFO\tTask(Task-3) nodify.node.139788942790912:node.py:get()- No need to evaluate\n"
     ]
    },
    {
     "name": "stderr",
     "output_type": "stream",
     "text": [
      "INFO\tTask(Task-3) nodify.node.139788942798736:node.py:get()- No need to evaluate\n"
     ]
    },
    {
     "name": "stderr",
     "output_type": "stream",
     "text": [
      "INFO\tTask(Task-3) nodify.node.139788942800656:node.py:get()- No need to evaluate\n"
     ]
    },
    {
     "name": "stderr",
     "output_type": "stream",
     "text": [
      "INFO\tTask(Task-3) nodify.node.139788942792592:node.py:get()- No need to evaluate\n"
     ]
    },
    {
     "name": "stderr",
     "output_type": "stream",
     "text": [
      "INFO\tTask(Task-3) nodify.node.139788942790912:node.py:get()- No need to evaluate\n"
     ]
    },
    {
     "name": "stderr",
     "output_type": "stream",
     "text": [
      "INFO\tTask(Task-3) nodify.node.139788942792208:node.py:get()- No need to evaluate\n"
     ]
    },
    {
     "name": "stderr",
     "output_type": "stream",
     "text": [
      "INFO\tTask(Task-3) nodify.node.139788942798160:node.py:get()- No need to evaluate\n"
     ]
    },
    {
     "name": "stderr",
     "output_type": "stream",
     "text": [
      "INFO\tTask(Task-3) nodify.node.139788942790912:node.py:get()- No need to evaluate\n"
     ]
    },
    {
     "name": "stderr",
     "output_type": "stream",
     "text": [
      "INFO\tTask(Task-3) nodify.node.139788942798736:node.py:get()- No need to evaluate\n"
     ]
    },
    {
     "name": "stderr",
     "output_type": "stream",
     "text": [
      "INFO\tTask(Task-3) nodify.node.139788942801328:node.py:get()- No need to evaluate\n"
     ]
    },
    {
     "name": "stderr",
     "output_type": "stream",
     "text": [
      "INFO\tTask(Task-3) nodify.node.139788942792976:node.py:get()- No need to evaluate\n"
     ]
    },
    {
     "name": "stderr",
     "output_type": "stream",
     "text": [
      "INFO\tTask(Task-3) nodify.node.139788942790912:node.py:get()- No need to evaluate\n"
     ]
    },
    {
     "name": "stderr",
     "output_type": "stream",
     "text": [
      "INFO\tTask(Task-3) nodify.node.139788942792208:node.py:get()- No need to evaluate\n"
     ]
    },
    {
     "name": "stderr",
     "output_type": "stream",
     "text": [
      "INFO\tTask(Task-3) nodify.node.139788942798160:node.py:get()- No need to evaluate\n"
     ]
    },
    {
     "name": "stderr",
     "output_type": "stream",
     "text": [
      "INFO\tTask(Task-3) nodify.node.139788942790912:node.py:get()- No need to evaluate\n"
     ]
    },
    {
     "name": "stderr",
     "output_type": "stream",
     "text": [
      "INFO\tTask(Task-3) nodify.node.139788942798736:node.py:get()- No need to evaluate\n"
     ]
    },
    {
     "name": "stderr",
     "output_type": "stream",
     "text": [
      "INFO\tTask(Task-3) nodify.node.139788942801664:node.py:get()- No need to evaluate\n"
     ]
    },
    {
     "name": "stderr",
     "output_type": "stream",
     "text": [
      "INFO\tTask(Task-3) nodify.node.139788942790912:node.py:get()- No need to evaluate\n"
     ]
    },
    {
     "name": "stderr",
     "output_type": "stream",
     "text": [
      "INFO\tTask(Task-3) nodify.node.139788942790240:node.py:get()- No need to evaluate\n"
     ]
    },
    {
     "name": "stderr",
     "output_type": "stream",
     "text": [
      "INFO\tTask(Task-3) nodify.node.139788942790144:node.py:get()- No need to evaluate\n"
     ]
    },
    {
     "name": "stderr",
     "output_type": "stream",
     "text": [
      "INFO\tTask(Task-3) nodify.node.139788942791968:node.py:get()- No need to evaluate\n"
     ]
    },
    {
     "name": "stderr",
     "output_type": "stream",
     "text": [
      "INFO\tTask(Task-3) nodify.node.139788942798640:node.py:get()- No need to evaluate\n"
     ]
    },
    {
     "name": "stderr",
     "output_type": "stream",
     "text": [
      "INFO\tTask(Task-3) nodify.node.139788942790912:node.py:get()- No need to evaluate\n"
     ]
    },
    {
     "name": "stderr",
     "output_type": "stream",
     "text": [
      "INFO\tTask(Task-3) nodify.node.139788942792208:node.py:get()- No need to evaluate\n"
     ]
    },
    {
     "name": "stderr",
     "output_type": "stream",
     "text": [
      "INFO\tTask(Task-3) nodify.node.139788942798160:node.py:get()- No need to evaluate\n"
     ]
    },
    {
     "name": "stderr",
     "output_type": "stream",
     "text": [
      "INFO\tTask(Task-3) nodify.node.139788942790912:node.py:get()- No need to evaluate\n"
     ]
    },
    {
     "name": "stderr",
     "output_type": "stream",
     "text": [
      "INFO\tTask(Task-3) nodify.node.139788942798736:node.py:get()- No need to evaluate\n"
     ]
    },
    {
     "name": "stderr",
     "output_type": "stream",
     "text": [
      "INFO\tTask(Task-3) nodify.node.139788942796096:node.py:get()- No need to evaluate\n"
     ]
    },
    {
     "name": "stderr",
     "output_type": "stream",
     "text": [
      "INFO\tTask(Task-3) nodify.node.139788942795712:node.py:get()- Evaluated because inputs changed.\n"
     ]
    },
    {
     "name": "stderr",
     "output_type": "stream",
     "text": [
      "INFO\tTask(Task-3) nodify.node.139788942798448:node.py:get()- Evaluated because inputs changed.\n"
     ]
    },
    {
     "name": "stderr",
     "output_type": "stream",
     "text": [
      "INFO\tTask(Task-3) nodify.node.139788942798880:node.py:get()- Evaluated because inputs changed.\n"
     ]
    },
    {
     "name": "stderr",
     "output_type": "stream",
     "text": [
      "INFO\tTask(Task-3) nodify.node.139788945755072:node.py:get()- Evaluated because inputs changed.\n"
     ]
    },
    {
     "name": "stderr",
     "output_type": "stream",
     "text": [
      "INFO\tTask(Task-3) nodify.node.139788942802432:node.py:get()- Evaluated because inputs changed.\n"
     ]
    },
    {
     "data": {
      "application/vnd.plotly.v1+json": {
       "config": {
        "plotlyServerURL": "https://plot.ly"
       },
       "data": [
        {
         "coloraxis": "coloraxis",
         "meta": {},
         "opacity": 1,
         "texttemplate": "%{z:.2f}",
         "type": "heatmap",
         "z": {
          "bdata": "AAAAAAAA+H8AAAAAAAD4fwAAAAAAAPh/AAAAAAAA+H+TWDJOhBeQPwAAAAAAAPh/AAAAAAAA+H8AAAAAAAD4fwAAAAAAAPh/kJxOoI1Fpb8AAAAAAAD4fwAAAAAAAPh/AAAAAAAA+H8AAAAAAAD4fx3qKLqQn7W/AAAAAAAA+H8AAAAAAAD4fwAAAAAAAPh/AAAAAAAA+H+gpxiFhGGnvwAAAAAAAPh/AAAAAAAA+H8AAAAAAAD4fwAAAAAAAPh/AAAAAAAA+H8=",
          "dtype": "f8",
          "shape": "5, 5"
         },
         "zsmooth": false
        },
        {
         "line": {
          "color": "pink",
          "dash": "dash",
          "width": 5
         },
         "meta": {},
         "mode": "lines",
         "name": "orbitals separators",
         "opacity": 0.8,
         "showlegend": false,
         "type": "scatter",
         "x": {
          "bdata": "AAAAAAAA4L8AAAAAAAASQAAAAAAAAPh/AAAAAAAA4D8AAAAAAADgPwAAAAAAAPh/",
          "dtype": "f8"
         },
         "y": {
          "bdata": "AAAAAAAA4D8AAAAAAADgPwAAAAAAAPh/AAAAAAAA4L8AAAAAAAASQAAAAAAAAPh/",
          "dtype": "f8"
         }
        },
        {
         "line": {
          "color": "gray"
         },
         "meta": {},
         "mode": "lines",
         "name": "atoms separators",
         "opacity": 1,
         "showlegend": false,
         "type": "scatter",
         "x": {
          "bdata": "AAAAAAAA4L8AAAAAAAASQAAAAAAAAPh/AAAAAAAADEAAAAAAAAAMQAAAAAAAAPh/",
          "dtype": "f8"
         },
         "y": {
          "bdata": "AAAAAAAADEAAAAAAAAAMQAAAAAAAAPh/AAAAAAAA4L8AAAAAAAASQAAAAAAAAPh/",
          "dtype": "f8"
         }
        }
       ],
       "layout": {
        "coloraxis": {
         "cmid": 0,
         "colorscale": [
          [
           0.0,
           "rgb(0, 147, 146)"
          ],
          [
           0.16666666666666666,
           "rgb(57, 177, 133)"
          ],
          [
           0.3333333333333333,
           "rgb(156, 203, 134)"
          ],
          [
           0.5,
           "rgb(233, 226, 156)"
          ],
          [
           0.6666666666666666,
           "rgb(238, 180, 121)"
          ],
          [
           0.8333333333333334,
           "rgb(232, 132, 113)"
          ],
          [
           1.0,
           "rgb(207, 89, 126)"
          ]
         ],
         "showscale": true
        },
        "scene": {
         "aspectmode": "data",
         "xaxis": {
          "range": [
           -0.5,
           4.5
          ]
         },
         "yaxis": {
          "range": [
           4.5,
           -0.5
          ]
         }
        },
        "template": {
         "layout": {
          "hovermode": "closest",
          "paper_bgcolor": "white",
          "plot_bgcolor": "white",
          "scene": {
           "xaxis": {
            "color": "black",
            "gridcolor": "#ccc",
            "gridwidth": 1,
            "linewidth": 1,
            "mirror": true,
            "showgrid": false,
            "showline": true,
            "ticklen": 5,
            "ticks": "outside",
            "ticksuffix": " ",
            "visible": true,
            "zeroline": false,
            "zerolinecolor": "#ccc",
            "zerolinewidth": 1
           },
           "yaxis": {
            "color": "black",
            "gridcolor": "#ccc",
            "gridwidth": 1,
            "linewidth": 1,
            "mirror": true,
            "showgrid": false,
            "showline": true,
            "ticklen": 5,
            "ticks": "outside",
            "ticksuffix": " ",
            "visible": true,
            "zeroline": false,
            "zerolinecolor": "#ccc",
            "zerolinewidth": 1
           },
           "zaxis": {
            "color": "black",
            "gridcolor": "#ccc",
            "gridwidth": 1,
            "linewidth": 1,
            "mirror": true,
            "showgrid": false,
            "showline": true,
            "ticklen": 5,
            "ticks": "outside",
            "ticksuffix": " ",
            "visible": true,
            "zeroline": false,
            "zerolinecolor": "#ccc",
            "zerolinewidth": 1
           }
          },
          "xaxis": {
           "color": "black",
           "gridcolor": "#ccc",
           "gridwidth": 1,
           "linewidth": 1,
           "mirror": true,
           "showgrid": false,
           "showline": true,
           "ticklen": 5,
           "ticks": "outside",
           "ticksuffix": " ",
           "visible": true,
           "zeroline": false,
           "zerolinecolor": "#ccc",
           "zerolinewidth": 1
          },
          "yaxis": {
           "color": "black",
           "gridcolor": "#ccc",
           "gridwidth": 1,
           "linewidth": 1,
           "mirror": true,
           "showgrid": false,
           "showline": true,
           "ticklen": 5,
           "ticks": "outside",
           "ticksuffix": " ",
           "visible": true,
           "zeroline": false,
           "zerolinecolor": "#ccc",
           "zerolinewidth": 1
          }
         }
        },
        "xaxis": {
         "constrain": "domain",
         "range": [
          -0.5,
          4.5
         ],
         "scaleanchor": "y",
         "scaleratio": 1
        },
        "yaxis": {
         "constrain": "domain",
         "range": [
          4.5,
          -0.5
         ]
        }
       }
      }
     },
     "metadata": {},
     "output_type": "display_data"
    }
   ],
   "source": [
    "plot.update_inputs(isc=1)"
   ]
  },
  {
   "cell_type": "markdown",
   "metadata": {},
   "source": [
    "To go back to visualizing the whole supercell, just set `isc` to `None`."
   ]
  },
  {
   "cell_type": "code",
   "execution_count": 17,
   "metadata": {
    "execution": {
     "iopub.execute_input": "2025-08-23T10:46:55.688525Z",
     "iopub.status.busy": "2025-08-23T10:46:55.688339Z",
     "iopub.status.idle": "2025-08-23T10:46:55.783479Z",
     "shell.execute_reply": "2025-08-23T10:46:55.782908Z"
    }
   },
   "outputs": [
    {
     "name": "stderr",
     "output_type": "stream",
     "text": [
      "INFO\tTask(Task-3) nodify.node.139788942796864:node.py:get()- No need to evaluate\n"
     ]
    },
    {
     "name": "stderr",
     "output_type": "stream",
     "text": [
      "INFO\tTask(Task-3) nodify.node.139788942790912:node.py:get()- No need to evaluate\n"
     ]
    },
    {
     "name": "stderr",
     "output_type": "stream",
     "text": [
      "INFO\tTask(Task-3) nodify.node.139788942790240:node.py:get()- No need to evaluate\n"
     ]
    },
    {
     "name": "stderr",
     "output_type": "stream",
     "text": [
      "INFO\tTask(Task-3) nodify.node.139788942790144:node.py:get()- Evaluated because inputs changed.\n"
     ]
    },
    {
     "name": "stderr",
     "output_type": "stream",
     "text": [
      "INFO\tTask(Task-3) nodify.node.139788942791968:node.py:get()- No need to evaluate\n"
     ]
    },
    {
     "name": "stderr",
     "output_type": "stream",
     "text": [
      "INFO\tTask(Task-3) nodify.node.139788942798640:node.py:get()- Evaluated because inputs changed.\n"
     ]
    },
    {
     "name": "stderr",
     "output_type": "stream",
     "text": [
      "INFO\tTask(Task-3) nodify.node.139788942793792:node.py:get()- No need to evaluate\n"
     ]
    },
    {
     "name": "stderr",
     "output_type": "stream",
     "text": [
      "INFO\tTask(Task-3) nodify.node.139788942794176:node.py:get()- No need to evaluate\n"
     ]
    },
    {
     "name": "stderr",
     "output_type": "stream",
     "text": [
      "INFO\tTask(Task-3) nodify.node.139788942790912:node.py:get()- No need to evaluate\n"
     ]
    },
    {
     "name": "stderr",
     "output_type": "stream",
     "text": [
      "INFO\tTask(Task-3) nodify.node.139788942794560:node.py:get()- No need to evaluate\n"
     ]
    },
    {
     "name": "stderr",
     "output_type": "stream",
     "text": [
      "INFO\tTask(Task-3) nodify.node.139788942794176:node.py:get()- No need to evaluate\n"
     ]
    },
    {
     "name": "stderr",
     "output_type": "stream",
     "text": [
      "INFO\tTask(Task-3) nodify.node.139788942799936:node.py:get()- No need to evaluate\n"
     ]
    },
    {
     "name": "stderr",
     "output_type": "stream",
     "text": [
      "INFO\tTask(Task-3) nodify.node.139788942793408:node.py:get()- No need to evaluate\n"
     ]
    },
    {
     "name": "stderr",
     "output_type": "stream",
     "text": [
      "INFO\tTask(Task-3) nodify.node.139788942794944:node.py:get()- No need to evaluate\n"
     ]
    },
    {
     "name": "stderr",
     "output_type": "stream",
     "text": [
      "INFO\tTask(Task-3) nodify.node.139788942795328:node.py:get()- No need to evaluate\n"
     ]
    },
    {
     "name": "stderr",
     "output_type": "stream",
     "text": [
      "INFO\tTask(Task-3) nodify.node.139788942799840:node.py:get()- Evaluated because inputs changed.\n"
     ]
    },
    {
     "name": "stderr",
     "output_type": "stream",
     "text": [
      "INFO\tTask(Task-3) nodify.node.139788942790912:node.py:get()- No need to evaluate\n"
     ]
    },
    {
     "name": "stderr",
     "output_type": "stream",
     "text": [
      "INFO\tTask(Task-3) nodify.node.139788942790240:node.py:get()- No need to evaluate\n"
     ]
    },
    {
     "name": "stderr",
     "output_type": "stream",
     "text": [
      "INFO\tTask(Task-3) nodify.node.139788942790144:node.py:get()- No need to evaluate\n"
     ]
    },
    {
     "name": "stderr",
     "output_type": "stream",
     "text": [
      "INFO\tTask(Task-3) nodify.node.139788942791968:node.py:get()- No need to evaluate\n"
     ]
    },
    {
     "name": "stderr",
     "output_type": "stream",
     "text": [
      "INFO\tTask(Task-3) nodify.node.139788942798640:node.py:get()- No need to evaluate\n"
     ]
    },
    {
     "name": "stderr",
     "output_type": "stream",
     "text": [
      "INFO\tTask(Task-3) nodify.node.139788942796480:node.py:get()- No need to evaluate\n"
     ]
    },
    {
     "name": "stderr",
     "output_type": "stream",
     "text": [
      "INFO\tTask(Task-3) nodify.node.139788942800608:node.py:get()- No need to evaluate\n"
     ]
    },
    {
     "name": "stderr",
     "output_type": "stream",
     "text": [
      "INFO\tTask(Task-3) nodify.node.139788942799984:node.py:get()- Evaluated because inputs changed.\n"
     ]
    },
    {
     "name": "stderr",
     "output_type": "stream",
     "text": [
      "INFO\tTask(Task-3) nodify.node.139788942791632:node.py:get()- No need to evaluate\n"
     ]
    },
    {
     "name": "stderr",
     "output_type": "stream",
     "text": [
      "INFO\tTask(Task-3) nodify.node.139788942790912:node.py:get()- No need to evaluate\n"
     ]
    },
    {
     "name": "stderr",
     "output_type": "stream",
     "text": [
      "INFO\tTask(Task-3) nodify.node.139788942792208:node.py:get()- No need to evaluate\n"
     ]
    },
    {
     "name": "stderr",
     "output_type": "stream",
     "text": [
      "INFO\tTask(Task-3) nodify.node.139788942798160:node.py:get()- No need to evaluate\n"
     ]
    },
    {
     "name": "stderr",
     "output_type": "stream",
     "text": [
      "INFO\tTask(Task-3) nodify.node.139788942790912:node.py:get()- No need to evaluate\n"
     ]
    },
    {
     "name": "stderr",
     "output_type": "stream",
     "text": [
      "INFO\tTask(Task-3) nodify.node.139788942798736:node.py:get()- No need to evaluate\n"
     ]
    },
    {
     "name": "stderr",
     "output_type": "stream",
     "text": [
      "INFO\tTask(Task-3) nodify.node.139788942800656:node.py:get()- No need to evaluate\n"
     ]
    },
    {
     "name": "stderr",
     "output_type": "stream",
     "text": [
      "INFO\tTask(Task-3) nodify.node.139788942792592:node.py:get()- No need to evaluate\n"
     ]
    },
    {
     "name": "stderr",
     "output_type": "stream",
     "text": [
      "INFO\tTask(Task-3) nodify.node.139788942790912:node.py:get()- No need to evaluate\n"
     ]
    },
    {
     "name": "stderr",
     "output_type": "stream",
     "text": [
      "INFO\tTask(Task-3) nodify.node.139788942792208:node.py:get()- No need to evaluate\n"
     ]
    },
    {
     "name": "stderr",
     "output_type": "stream",
     "text": [
      "INFO\tTask(Task-3) nodify.node.139788942798160:node.py:get()- No need to evaluate\n"
     ]
    },
    {
     "name": "stderr",
     "output_type": "stream",
     "text": [
      "INFO\tTask(Task-3) nodify.node.139788942790912:node.py:get()- No need to evaluate\n"
     ]
    },
    {
     "name": "stderr",
     "output_type": "stream",
     "text": [
      "INFO\tTask(Task-3) nodify.node.139788942798736:node.py:get()- No need to evaluate\n"
     ]
    },
    {
     "name": "stderr",
     "output_type": "stream",
     "text": [
      "INFO\tTask(Task-3) nodify.node.139788942801328:node.py:get()- No need to evaluate\n"
     ]
    },
    {
     "name": "stderr",
     "output_type": "stream",
     "text": [
      "INFO\tTask(Task-3) nodify.node.139788942792976:node.py:get()- No need to evaluate\n"
     ]
    },
    {
     "name": "stderr",
     "output_type": "stream",
     "text": [
      "INFO\tTask(Task-3) nodify.node.139788942790912:node.py:get()- No need to evaluate\n"
     ]
    },
    {
     "name": "stderr",
     "output_type": "stream",
     "text": [
      "INFO\tTask(Task-3) nodify.node.139788942792208:node.py:get()- No need to evaluate\n"
     ]
    },
    {
     "name": "stderr",
     "output_type": "stream",
     "text": [
      "INFO\tTask(Task-3) nodify.node.139788942798160:node.py:get()- No need to evaluate\n"
     ]
    },
    {
     "name": "stderr",
     "output_type": "stream",
     "text": [
      "INFO\tTask(Task-3) nodify.node.139788942790912:node.py:get()- No need to evaluate\n"
     ]
    },
    {
     "name": "stderr",
     "output_type": "stream",
     "text": [
      "INFO\tTask(Task-3) nodify.node.139788942798736:node.py:get()- No need to evaluate\n"
     ]
    },
    {
     "name": "stderr",
     "output_type": "stream",
     "text": [
      "INFO\tTask(Task-3) nodify.node.139788942801664:node.py:get()- No need to evaluate\n"
     ]
    },
    {
     "name": "stderr",
     "output_type": "stream",
     "text": [
      "INFO\tTask(Task-3) nodify.node.139788942790912:node.py:get()- No need to evaluate\n"
     ]
    },
    {
     "name": "stderr",
     "output_type": "stream",
     "text": [
      "INFO\tTask(Task-3) nodify.node.139788942790240:node.py:get()- No need to evaluate\n"
     ]
    },
    {
     "name": "stderr",
     "output_type": "stream",
     "text": [
      "INFO\tTask(Task-3) nodify.node.139788942790144:node.py:get()- No need to evaluate\n"
     ]
    },
    {
     "name": "stderr",
     "output_type": "stream",
     "text": [
      "INFO\tTask(Task-3) nodify.node.139788942791968:node.py:get()- No need to evaluate\n"
     ]
    },
    {
     "name": "stderr",
     "output_type": "stream",
     "text": [
      "INFO\tTask(Task-3) nodify.node.139788942798640:node.py:get()- No need to evaluate\n"
     ]
    },
    {
     "name": "stderr",
     "output_type": "stream",
     "text": [
      "INFO\tTask(Task-3) nodify.node.139788942790912:node.py:get()- No need to evaluate\n"
     ]
    },
    {
     "name": "stderr",
     "output_type": "stream",
     "text": [
      "INFO\tTask(Task-3) nodify.node.139788942792208:node.py:get()- No need to evaluate\n"
     ]
    },
    {
     "name": "stderr",
     "output_type": "stream",
     "text": [
      "INFO\tTask(Task-3) nodify.node.139788942798160:node.py:get()- No need to evaluate\n"
     ]
    },
    {
     "name": "stderr",
     "output_type": "stream",
     "text": [
      "INFO\tTask(Task-3) nodify.node.139788942790912:node.py:get()- No need to evaluate\n"
     ]
    },
    {
     "name": "stderr",
     "output_type": "stream",
     "text": [
      "INFO\tTask(Task-3) nodify.node.139788942798736:node.py:get()- No need to evaluate\n"
     ]
    },
    {
     "name": "stderr",
     "output_type": "stream",
     "text": [
      "INFO\tTask(Task-3) nodify.node.139788942796096:node.py:get()- No need to evaluate\n"
     ]
    },
    {
     "name": "stderr",
     "output_type": "stream",
     "text": [
      "INFO\tTask(Task-3) nodify.node.139788942795712:node.py:get()- No need to evaluate\n"
     ]
    },
    {
     "name": "stderr",
     "output_type": "stream",
     "text": [
      "INFO\tTask(Task-3) nodify.node.139788942798448:node.py:get()- Evaluated because inputs changed.\n"
     ]
    },
    {
     "name": "stderr",
     "output_type": "stream",
     "text": [
      "INFO\tTask(Task-3) nodify.node.139788942798880:node.py:get()- Evaluated because inputs changed.\n"
     ]
    },
    {
     "name": "stderr",
     "output_type": "stream",
     "text": [
      "INFO\tTask(Task-3) nodify.node.139788945755072:node.py:get()- Evaluated because inputs changed.\n"
     ]
    },
    {
     "name": "stderr",
     "output_type": "stream",
     "text": [
      "INFO\tTask(Task-3) nodify.node.139788942802432:node.py:get()- Evaluated because inputs changed.\n"
     ]
    },
    {
     "data": {
      "application/vnd.plotly.v1+json": {
       "config": {
        "plotlyServerURL": "https://plot.ly"
       },
       "data": [
        {
         "coloraxis": "coloraxis",
         "meta": {},
         "opacity": 1,
         "texttemplate": "%{z:.2f}",
         "type": "heatmap",
         "z": {
          "bdata": "Zj44kial5L+AWqLFeL58PxCtfTWiG9o/otOlkjQC1T/Gz3Cenz3nPwAAAAAAAPh/AAAAAAAA+H8AAAAAAAD4fwAAAAAAAPh/k1gyToQXkD8AAAAAAAD4fwAAAAAAAPh/AAAAAAAA+H8AAAAAAAD4fwAAAAAAAPh/gFqixXi+fD+cn7Gpbm/Uv4pCaXQ95tW/ROW7RHVY5L84TWpXQy62vwAAAAAAAPh/AAAAAAAA+H8AAAAAAAD4fwAAAAAAAPh/kJxOoI1Fpb8AAAAAAAD4fwAAAAAAAPh/AAAAAAAA+H8AAAAAAAD4fwAAAAAAAPh/EK19NaIb2j+KQml0PebVv7Y/yms1RuG/COxPx49PvD8Q0bVTOwWmvwAAAAAAAPh/AAAAAAAA+H8AAAAAAAD4fwAAAAAAAPh/HeooupCftb8AAAAAAAD4fwAAAAAAAPh/AAAAAAAA+H8AAAAAAAD4fwAAAAAAAPh/otOlkjQC1T9E5btEdVjkvwjsT8ePT7w/mKfoPVrf1T/sgvepDMvivwAAAAAAAPh/AAAAAAAA+H8AAAAAAAD4fwAAAAAAAPh/oKcYhYRhp78AAAAAAAD4fwAAAAAAAPh/AAAAAAAA+H8AAAAAAAD4fwAAAAAAAPh/xs9wnp895z84TWpXQy62vxDRtVM7Baa/7IL3qQzL4r8kJHAG1fnTvwAAAAAAAPh/AAAAAAAA+H8AAAAAAAD4fwAAAAAAAPh/AAAAAAAA+H+TWDJOhBeQP5CcTqCNRaW/HeooupCftb+gpxiFhGGnvwAAAAAAAPh/",
          "dtype": "f8",
          "shape": "5, 15"
         },
         "zsmooth": false
        },
        {
         "line": {
          "color": "pink",
          "dash": "dash",
          "width": 5
         },
         "meta": {},
         "mode": "lines",
         "name": "orbitals separators",
         "opacity": 0.8,
         "showlegend": false,
         "type": "scatter",
         "x": {
          "bdata": "AAAAAAAA4L8AAAAAAAASQAAAAAAAAPh/AAAAAAAA4D8AAAAAAADgPwAAAAAAAPh/",
          "dtype": "f8"
         },
         "y": {
          "bdata": "AAAAAAAA4D8AAAAAAADgPwAAAAAAAPh/AAAAAAAA4L8AAAAAAAASQAAAAAAAAPh/",
          "dtype": "f8"
         }
        },
        {
         "line": {
          "color": "gray"
         },
         "meta": {},
         "mode": "lines",
         "name": "atoms separators",
         "opacity": 1,
         "showlegend": false,
         "type": "scatter",
         "x": {
          "bdata": "AAAAAAAA4L8AAAAAAAASQAAAAAAAAPh/AAAAAAAADEAAAAAAAAAMQAAAAAAAAPh/",
          "dtype": "f8"
         },
         "y": {
          "bdata": "AAAAAAAADEAAAAAAAAAMQAAAAAAAAPh/AAAAAAAA4L8AAAAAAAASQAAAAAAAAPh/",
          "dtype": "f8"
         }
        }
       ],
       "layout": {
        "coloraxis": {
         "cmid": 0,
         "colorscale": [
          [
           0.0,
           "rgb(0, 147, 146)"
          ],
          [
           0.16666666666666666,
           "rgb(57, 177, 133)"
          ],
          [
           0.3333333333333333,
           "rgb(156, 203, 134)"
          ],
          [
           0.5,
           "rgb(233, 226, 156)"
          ],
          [
           0.6666666666666666,
           "rgb(238, 180, 121)"
          ],
          [
           0.8333333333333334,
           "rgb(232, 132, 113)"
          ],
          [
           1.0,
           "rgb(207, 89, 126)"
          ]
         ],
         "showscale": true
        },
        "scene": {
         "aspectmode": "data",
         "xaxis": {
          "range": [
           -0.5,
           14.5
          ]
         },
         "yaxis": {
          "range": [
           4.5,
           -0.5
          ]
         }
        },
        "template": {
         "layout": {
          "hovermode": "closest",
          "paper_bgcolor": "white",
          "plot_bgcolor": "white",
          "scene": {
           "xaxis": {
            "color": "black",
            "gridcolor": "#ccc",
            "gridwidth": 1,
            "linewidth": 1,
            "mirror": true,
            "showgrid": false,
            "showline": true,
            "ticklen": 5,
            "ticks": "outside",
            "ticksuffix": " ",
            "visible": true,
            "zeroline": false,
            "zerolinecolor": "#ccc",
            "zerolinewidth": 1
           },
           "yaxis": {
            "color": "black",
            "gridcolor": "#ccc",
            "gridwidth": 1,
            "linewidth": 1,
            "mirror": true,
            "showgrid": false,
            "showline": true,
            "ticklen": 5,
            "ticks": "outside",
            "ticksuffix": " ",
            "visible": true,
            "zeroline": false,
            "zerolinecolor": "#ccc",
            "zerolinewidth": 1
           },
           "zaxis": {
            "color": "black",
            "gridcolor": "#ccc",
            "gridwidth": 1,
            "linewidth": 1,
            "mirror": true,
            "showgrid": false,
            "showline": true,
            "ticklen": 5,
            "ticks": "outside",
            "ticksuffix": " ",
            "visible": true,
            "zeroline": false,
            "zerolinecolor": "#ccc",
            "zerolinewidth": 1
           }
          },
          "xaxis": {
           "color": "black",
           "gridcolor": "#ccc",
           "gridwidth": 1,
           "linewidth": 1,
           "mirror": true,
           "showgrid": false,
           "showline": true,
           "ticklen": 5,
           "ticks": "outside",
           "ticksuffix": " ",
           "visible": true,
           "zeroline": false,
           "zerolinecolor": "#ccc",
           "zerolinewidth": 1
          },
          "yaxis": {
           "color": "black",
           "gridcolor": "#ccc",
           "gridwidth": 1,
           "linewidth": 1,
           "mirror": true,
           "showgrid": false,
           "showline": true,
           "ticklen": 5,
           "ticks": "outside",
           "ticksuffix": " ",
           "visible": true,
           "zeroline": false,
           "zerolinecolor": "#ccc",
           "zerolinewidth": 1
          }
         }
        },
        "xaxis": {
         "constrain": "domain",
         "range": [
          -0.5,
          14.5
         ],
         "scaleanchor": "y",
         "scaleratio": 1
        },
        "yaxis": {
         "constrain": "domain",
         "range": [
          4.5,
          -0.5
         ]
        }
       }
      }
     },
     "metadata": {},
     "output_type": "display_data"
    }
   ],
   "source": [
    "plot.update_inputs(isc=None)"
   ]
  },
  {
   "cell_type": "markdown",
   "metadata": {},
   "source": [
    "## Arrows\n",
    "\n",
    "One can ask for an arrow to be drawn on each matrix element. You are free to represent whatever you like as arrows.\n",
    "\n",
    "The arrow specification works the same as for atom arrows in `GeometryPlot`. It is a dictionary with the key `data` containing the arrow data and the styling keys (`color`, `width`, `opacity`...) to tweak the style.\n",
    "\n",
    "However, there is one main difference. If `data` is skipped, vertical arrows are drawn, with the value of the corresponding matrix element defining the length of the arrow:"
   ]
  },
  {
   "cell_type": "code",
   "execution_count": 18,
   "metadata": {
    "execution": {
     "iopub.execute_input": "2025-08-23T10:46:55.785442Z",
     "iopub.status.busy": "2025-08-23T10:46:55.785261Z",
     "iopub.status.idle": "2025-08-23T10:46:57.537779Z",
     "shell.execute_reply": "2025-08-23T10:46:57.537195Z"
    },
    "tags": [
     "nbsphinx-thumbnail"
    ]
   },
   "outputs": [
    {
     "name": "stderr",
     "output_type": "stream",
     "text": [
      "INFO\tTask(Task-3) nodify.node.139788942796864:node.py:get()- No need to evaluate\n"
     ]
    },
    {
     "name": "stderr",
     "output_type": "stream",
     "text": [
      "INFO\tTask(Task-3) nodify.node.139788942790912:node.py:get()- No need to evaluate\n"
     ]
    },
    {
     "name": "stderr",
     "output_type": "stream",
     "text": [
      "INFO\tTask(Task-3) nodify.node.139788942790240:node.py:get()- No need to evaluate\n"
     ]
    },
    {
     "name": "stderr",
     "output_type": "stream",
     "text": [
      "INFO\tTask(Task-3) nodify.node.139788942790144:node.py:get()- No need to evaluate\n"
     ]
    },
    {
     "name": "stderr",
     "output_type": "stream",
     "text": [
      "INFO\tTask(Task-3) nodify.node.139788942791968:node.py:get()- No need to evaluate\n"
     ]
    },
    {
     "name": "stderr",
     "output_type": "stream",
     "text": [
      "INFO\tTask(Task-3) nodify.node.139788942798640:node.py:get()- No need to evaluate\n"
     ]
    },
    {
     "name": "stderr",
     "output_type": "stream",
     "text": [
      "INFO\tTask(Task-3) nodify.node.139788942793792:node.py:get()- No need to evaluate\n"
     ]
    },
    {
     "name": "stderr",
     "output_type": "stream",
     "text": [
      "INFO\tTask(Task-3) nodify.node.139788942794176:node.py:get()- No need to evaluate\n"
     ]
    },
    {
     "name": "stderr",
     "output_type": "stream",
     "text": [
      "INFO\tTask(Task-3) nodify.node.139788942790912:node.py:get()- No need to evaluate\n"
     ]
    },
    {
     "name": "stderr",
     "output_type": "stream",
     "text": [
      "INFO\tTask(Task-3) nodify.node.139788942794560:node.py:get()- No need to evaluate\n"
     ]
    },
    {
     "name": "stderr",
     "output_type": "stream",
     "text": [
      "INFO\tTask(Task-3) nodify.node.139788942794176:node.py:get()- No need to evaluate\n"
     ]
    },
    {
     "name": "stderr",
     "output_type": "stream",
     "text": [
      "INFO\tTask(Task-3) nodify.node.139788942799936:node.py:get()- No need to evaluate\n"
     ]
    },
    {
     "name": "stderr",
     "output_type": "stream",
     "text": [
      "INFO\tTask(Task-3) nodify.node.139788942793408:node.py:get()- No need to evaluate\n"
     ]
    },
    {
     "name": "stderr",
     "output_type": "stream",
     "text": [
      "INFO\tTask(Task-3) nodify.node.139788942794944:node.py:get()- No need to evaluate\n"
     ]
    },
    {
     "name": "stderr",
     "output_type": "stream",
     "text": [
      "INFO\tTask(Task-3) nodify.node.139788942795328:node.py:get()- No need to evaluate\n"
     ]
    },
    {
     "name": "stderr",
     "output_type": "stream",
     "text": [
      "INFO\tTask(Task-3) nodify.node.139788942799840:node.py:get()- No need to evaluate\n"
     ]
    },
    {
     "name": "stderr",
     "output_type": "stream",
     "text": [
      "INFO\tTask(Task-3) nodify.node.139788942790912:node.py:get()- No need to evaluate\n"
     ]
    },
    {
     "name": "stderr",
     "output_type": "stream",
     "text": [
      "INFO\tTask(Task-3) nodify.node.139788942790240:node.py:get()- No need to evaluate\n"
     ]
    },
    {
     "name": "stderr",
     "output_type": "stream",
     "text": [
      "INFO\tTask(Task-3) nodify.node.139788942790144:node.py:get()- No need to evaluate\n"
     ]
    },
    {
     "name": "stderr",
     "output_type": "stream",
     "text": [
      "INFO\tTask(Task-3) nodify.node.139788942791968:node.py:get()- No need to evaluate\n"
     ]
    },
    {
     "name": "stderr",
     "output_type": "stream",
     "text": [
      "INFO\tTask(Task-3) nodify.node.139788942798640:node.py:get()- No need to evaluate\n"
     ]
    },
    {
     "name": "stderr",
     "output_type": "stream",
     "text": [
      "INFO\tTask(Task-3) nodify.node.139788942796480:node.py:get()- Evaluated because inputs changed.\n"
     ]
    },
    {
     "name": "stderr",
     "output_type": "stream",
     "text": [
      "INFO\tTask(Task-3) nodify.node.139788942800608:node.py:get()- Evaluated because inputs changed.\n"
     ]
    },
    {
     "name": "stderr",
     "output_type": "stream",
     "text": [
      "INFO\tTask(Task-3) nodify.node.139788942799984:node.py:get()- Evaluated because inputs changed.\n"
     ]
    },
    {
     "name": "stderr",
     "output_type": "stream",
     "text": [
      "INFO\tTask(Task-3) nodify.node.139788942791632:node.py:get()- No need to evaluate\n"
     ]
    },
    {
     "name": "stderr",
     "output_type": "stream",
     "text": [
      "INFO\tTask(Task-3) nodify.node.139788942790912:node.py:get()- No need to evaluate\n"
     ]
    },
    {
     "name": "stderr",
     "output_type": "stream",
     "text": [
      "INFO\tTask(Task-3) nodify.node.139788942792208:node.py:get()- No need to evaluate\n"
     ]
    },
    {
     "name": "stderr",
     "output_type": "stream",
     "text": [
      "INFO\tTask(Task-3) nodify.node.139788942798160:node.py:get()- No need to evaluate\n"
     ]
    },
    {
     "name": "stderr",
     "output_type": "stream",
     "text": [
      "INFO\tTask(Task-3) nodify.node.139788942790912:node.py:get()- No need to evaluate\n"
     ]
    },
    {
     "name": "stderr",
     "output_type": "stream",
     "text": [
      "INFO\tTask(Task-3) nodify.node.139788942798736:node.py:get()- No need to evaluate\n"
     ]
    },
    {
     "name": "stderr",
     "output_type": "stream",
     "text": [
      "INFO\tTask(Task-3) nodify.node.139788942800656:node.py:get()- No need to evaluate\n"
     ]
    },
    {
     "name": "stderr",
     "output_type": "stream",
     "text": [
      "INFO\tTask(Task-3) nodify.node.139788942792592:node.py:get()- No need to evaluate\n"
     ]
    },
    {
     "name": "stderr",
     "output_type": "stream",
     "text": [
      "INFO\tTask(Task-3) nodify.node.139788942790912:node.py:get()- No need to evaluate\n"
     ]
    },
    {
     "name": "stderr",
     "output_type": "stream",
     "text": [
      "INFO\tTask(Task-3) nodify.node.139788942792208:node.py:get()- No need to evaluate\n"
     ]
    },
    {
     "name": "stderr",
     "output_type": "stream",
     "text": [
      "INFO\tTask(Task-3) nodify.node.139788942798160:node.py:get()- No need to evaluate\n"
     ]
    },
    {
     "name": "stderr",
     "output_type": "stream",
     "text": [
      "INFO\tTask(Task-3) nodify.node.139788942790912:node.py:get()- No need to evaluate\n"
     ]
    },
    {
     "name": "stderr",
     "output_type": "stream",
     "text": [
      "INFO\tTask(Task-3) nodify.node.139788942798736:node.py:get()- No need to evaluate\n"
     ]
    },
    {
     "name": "stderr",
     "output_type": "stream",
     "text": [
      "INFO\tTask(Task-3) nodify.node.139788942801328:node.py:get()- No need to evaluate\n"
     ]
    },
    {
     "name": "stderr",
     "output_type": "stream",
     "text": [
      "INFO\tTask(Task-3) nodify.node.139788942792976:node.py:get()- No need to evaluate\n"
     ]
    },
    {
     "name": "stderr",
     "output_type": "stream",
     "text": [
      "INFO\tTask(Task-3) nodify.node.139788942790912:node.py:get()- No need to evaluate\n"
     ]
    },
    {
     "name": "stderr",
     "output_type": "stream",
     "text": [
      "INFO\tTask(Task-3) nodify.node.139788942792208:node.py:get()- No need to evaluate\n"
     ]
    },
    {
     "name": "stderr",
     "output_type": "stream",
     "text": [
      "INFO\tTask(Task-3) nodify.node.139788942798160:node.py:get()- No need to evaluate\n"
     ]
    },
    {
     "name": "stderr",
     "output_type": "stream",
     "text": [
      "INFO\tTask(Task-3) nodify.node.139788942790912:node.py:get()- No need to evaluate\n"
     ]
    },
    {
     "name": "stderr",
     "output_type": "stream",
     "text": [
      "INFO\tTask(Task-3) nodify.node.139788942798736:node.py:get()- No need to evaluate\n"
     ]
    },
    {
     "name": "stderr",
     "output_type": "stream",
     "text": [
      "INFO\tTask(Task-3) nodify.node.139788942801664:node.py:get()- No need to evaluate\n"
     ]
    },
    {
     "name": "stderr",
     "output_type": "stream",
     "text": [
      "INFO\tTask(Task-3) nodify.node.139788942790912:node.py:get()- No need to evaluate\n"
     ]
    },
    {
     "name": "stderr",
     "output_type": "stream",
     "text": [
      "INFO\tTask(Task-3) nodify.node.139788942790240:node.py:get()- No need to evaluate\n"
     ]
    },
    {
     "name": "stderr",
     "output_type": "stream",
     "text": [
      "INFO\tTask(Task-3) nodify.node.139788942790144:node.py:get()- No need to evaluate\n"
     ]
    },
    {
     "name": "stderr",
     "output_type": "stream",
     "text": [
      "INFO\tTask(Task-3) nodify.node.139788942791968:node.py:get()- No need to evaluate\n"
     ]
    },
    {
     "name": "stderr",
     "output_type": "stream",
     "text": [
      "INFO\tTask(Task-3) nodify.node.139788942798640:node.py:get()- No need to evaluate\n"
     ]
    },
    {
     "name": "stderr",
     "output_type": "stream",
     "text": [
      "INFO\tTask(Task-3) nodify.node.139788942790912:node.py:get()- No need to evaluate\n"
     ]
    },
    {
     "name": "stderr",
     "output_type": "stream",
     "text": [
      "INFO\tTask(Task-3) nodify.node.139788942792208:node.py:get()- No need to evaluate\n"
     ]
    },
    {
     "name": "stderr",
     "output_type": "stream",
     "text": [
      "INFO\tTask(Task-3) nodify.node.139788942798160:node.py:get()- No need to evaluate\n"
     ]
    },
    {
     "name": "stderr",
     "output_type": "stream",
     "text": [
      "INFO\tTask(Task-3) nodify.node.139788942790912:node.py:get()- No need to evaluate\n"
     ]
    },
    {
     "name": "stderr",
     "output_type": "stream",
     "text": [
      "INFO\tTask(Task-3) nodify.node.139788942798736:node.py:get()- No need to evaluate\n"
     ]
    },
    {
     "name": "stderr",
     "output_type": "stream",
     "text": [
      "INFO\tTask(Task-3) nodify.node.139788942796096:node.py:get()- No need to evaluate\n"
     ]
    },
    {
     "name": "stderr",
     "output_type": "stream",
     "text": [
      "INFO\tTask(Task-3) nodify.node.139788942795712:node.py:get()- No need to evaluate\n"
     ]
    },
    {
     "name": "stderr",
     "output_type": "stream",
     "text": [
      "INFO\tTask(Task-3) nodify.node.139788942798448:node.py:get()- No need to evaluate\n"
     ]
    },
    {
     "name": "stderr",
     "output_type": "stream",
     "text": [
      "INFO\tTask(Task-3) nodify.node.139788942798880:node.py:get()- Evaluated because inputs changed.\n"
     ]
    },
    {
     "name": "stderr",
     "output_type": "stream",
     "text": [
      "INFO\tTask(Task-3) nodify.node.139788945755072:node.py:get()- Evaluated because inputs changed.\n"
     ]
    },
    {
     "name": "stderr",
     "output_type": "stream",
     "text": [
      "INFO\tTask(Task-3) nodify.node.139788942802432:node.py:get()- Evaluated because inputs changed.\n"
     ]
    },
    {
     "data": {
      "image/png": "[encoded data removed]"
     },
     "metadata": {},
     "output_type": "display_data"
    }
   ],
   "source": [
    "plot.update_inputs(arrows={\"color\": \"blue\"}).show(\"png\")"
   ]
  },
  {
   "cell_type": "markdown",
   "metadata": {},
   "source": [
    "**Arrows are normalized so that they fit the box** of their matrix element.\n",
    "\n",
    "It may be that pixel colors and numbers make it difficult to visualize the arrows. In that case, you can disable them both. We have already seen how to disable text. For pixel colors there's the `color_pixels` input, which is a switch to turn them on or off:"
   ]
  },
  {
   "cell_type": "code",
   "execution_count": 19,
   "metadata": {
    "execution": {
     "iopub.execute_input": "2025-08-23T10:46:57.539482Z",
     "iopub.status.busy": "2025-08-23T10:46:57.539309Z",
     "iopub.status.idle": "2025-08-23T10:46:57.678696Z",
     "shell.execute_reply": "2025-08-23T10:46:57.678084Z"
    }
   },
   "outputs": [
    {
     "name": "stderr",
     "output_type": "stream",
     "text": [
      "INFO\tTask(Task-3) nodify.node.139788942796864:node.py:get()- No need to evaluate\n"
     ]
    },
    {
     "name": "stderr",
     "output_type": "stream",
     "text": [
      "INFO\tTask(Task-3) nodify.node.139788942790912:node.py:get()- No need to evaluate\n"
     ]
    },
    {
     "name": "stderr",
     "output_type": "stream",
     "text": [
      "INFO\tTask(Task-3) nodify.node.139788942790240:node.py:get()- No need to evaluate\n"
     ]
    },
    {
     "name": "stderr",
     "output_type": "stream",
     "text": [
      "INFO\tTask(Task-3) nodify.node.139788942790144:node.py:get()- No need to evaluate\n"
     ]
    },
    {
     "name": "stderr",
     "output_type": "stream",
     "text": [
      "INFO\tTask(Task-3) nodify.node.139788942791968:node.py:get()- No need to evaluate\n"
     ]
    },
    {
     "name": "stderr",
     "output_type": "stream",
     "text": [
      "INFO\tTask(Task-3) nodify.node.139788942798640:node.py:get()- No need to evaluate\n"
     ]
    },
    {
     "name": "stderr",
     "output_type": "stream",
     "text": [
      "INFO\tTask(Task-3) nodify.node.139788942793792:node.py:get()- No need to evaluate\n"
     ]
    },
    {
     "name": "stderr",
     "output_type": "stream",
     "text": [
      "INFO\tTask(Task-3) nodify.node.139788942794176:node.py:get()- No need to evaluate\n"
     ]
    },
    {
     "name": "stderr",
     "output_type": "stream",
     "text": [
      "INFO\tTask(Task-3) nodify.node.139788942790912:node.py:get()- No need to evaluate\n"
     ]
    },
    {
     "name": "stderr",
     "output_type": "stream",
     "text": [
      "INFO\tTask(Task-3) nodify.node.139788942794560:node.py:get()- No need to evaluate\n"
     ]
    },
    {
     "name": "stderr",
     "output_type": "stream",
     "text": [
      "INFO\tTask(Task-3) nodify.node.139788942794176:node.py:get()- No need to evaluate\n"
     ]
    },
    {
     "name": "stderr",
     "output_type": "stream",
     "text": [
      "INFO\tTask(Task-3) nodify.node.139788942799936:node.py:get()- No need to evaluate\n"
     ]
    },
    {
     "name": "stderr",
     "output_type": "stream",
     "text": [
      "INFO\tTask(Task-3) nodify.node.139788942793408:node.py:get()- Evaluated because inputs changed.\n"
     ]
    },
    {
     "name": "stderr",
     "output_type": "stream",
     "text": [
      "INFO\tTask(Task-3) nodify.node.139788942794944:node.py:get()- Evaluated because inputs changed.\n"
     ]
    },
    {
     "name": "stderr",
     "output_type": "stream",
     "text": [
      "INFO\tTask(Task-3) nodify.node.139788942795328:node.py:get()- No need to evaluate\n"
     ]
    },
    {
     "name": "stderr",
     "output_type": "stream",
     "text": [
      "INFO\tTask(Task-3) nodify.node.139788942799840:node.py:get()- Evaluated because inputs changed.\n"
     ]
    },
    {
     "name": "stderr",
     "output_type": "stream",
     "text": [
      "INFO\tTask(Task-3) nodify.node.139788942790912:node.py:get()- No need to evaluate\n"
     ]
    },
    {
     "name": "stderr",
     "output_type": "stream",
     "text": [
      "INFO\tTask(Task-3) nodify.node.139788942790240:node.py:get()- No need to evaluate\n"
     ]
    },
    {
     "name": "stderr",
     "output_type": "stream",
     "text": [
      "INFO\tTask(Task-3) nodify.node.139788942790144:node.py:get()- No need to evaluate\n"
     ]
    },
    {
     "name": "stderr",
     "output_type": "stream",
     "text": [
      "INFO\tTask(Task-3) nodify.node.139788942791968:node.py:get()- No need to evaluate\n"
     ]
    },
    {
     "name": "stderr",
     "output_type": "stream",
     "text": [
      "INFO\tTask(Task-3) nodify.node.139788942798640:node.py:get()- No need to evaluate\n"
     ]
    },
    {
     "name": "stderr",
     "output_type": "stream",
     "text": [
      "INFO\tTask(Task-3) nodify.node.139788942796480:node.py:get()- No need to evaluate\n"
     ]
    },
    {
     "name": "stderr",
     "output_type": "stream",
     "text": [
      "INFO\tTask(Task-3) nodify.node.139788942800608:node.py:get()- No need to evaluate\n"
     ]
    },
    {
     "name": "stderr",
     "output_type": "stream",
     "text": [
      "INFO\tTask(Task-3) nodify.node.139788942799984:node.py:get()- No need to evaluate\n"
     ]
    },
    {
     "name": "stderr",
     "output_type": "stream",
     "text": [
      "INFO\tTask(Task-3) nodify.node.139788942791632:node.py:get()- No need to evaluate\n"
     ]
    },
    {
     "name": "stderr",
     "output_type": "stream",
     "text": [
      "INFO\tTask(Task-3) nodify.node.139788942790912:node.py:get()- No need to evaluate\n"
     ]
    },
    {
     "name": "stderr",
     "output_type": "stream",
     "text": [
      "INFO\tTask(Task-3) nodify.node.139788942792208:node.py:get()- No need to evaluate\n"
     ]
    },
    {
     "name": "stderr",
     "output_type": "stream",
     "text": [
      "INFO\tTask(Task-3) nodify.node.139788942798160:node.py:get()- No need to evaluate\n"
     ]
    },
    {
     "name": "stderr",
     "output_type": "stream",
     "text": [
      "INFO\tTask(Task-3) nodify.node.139788942790912:node.py:get()- No need to evaluate\n"
     ]
    },
    {
     "name": "stderr",
     "output_type": "stream",
     "text": [
      "INFO\tTask(Task-3) nodify.node.139788942798736:node.py:get()- No need to evaluate\n"
     ]
    },
    {
     "name": "stderr",
     "output_type": "stream",
     "text": [
      "INFO\tTask(Task-3) nodify.node.139788942800656:node.py:get()- No need to evaluate\n"
     ]
    },
    {
     "name": "stderr",
     "output_type": "stream",
     "text": [
      "INFO\tTask(Task-3) nodify.node.139788942792592:node.py:get()- No need to evaluate\n"
     ]
    },
    {
     "name": "stderr",
     "output_type": "stream",
     "text": [
      "INFO\tTask(Task-3) nodify.node.139788942790912:node.py:get()- No need to evaluate\n"
     ]
    },
    {
     "name": "stderr",
     "output_type": "stream",
     "text": [
      "INFO\tTask(Task-3) nodify.node.139788942792208:node.py:get()- No need to evaluate\n"
     ]
    },
    {
     "name": "stderr",
     "output_type": "stream",
     "text": [
      "INFO\tTask(Task-3) nodify.node.139788942798160:node.py:get()- No need to evaluate\n"
     ]
    },
    {
     "name": "stderr",
     "output_type": "stream",
     "text": [
      "INFO\tTask(Task-3) nodify.node.139788942790912:node.py:get()- No need to evaluate\n"
     ]
    },
    {
     "name": "stderr",
     "output_type": "stream",
     "text": [
      "INFO\tTask(Task-3) nodify.node.139788942798736:node.py:get()- No need to evaluate\n"
     ]
    },
    {
     "name": "stderr",
     "output_type": "stream",
     "text": [
      "INFO\tTask(Task-3) nodify.node.139788942801328:node.py:get()- No need to evaluate\n"
     ]
    },
    {
     "name": "stderr",
     "output_type": "stream",
     "text": [
      "INFO\tTask(Task-3) nodify.node.139788942792976:node.py:get()- No need to evaluate\n"
     ]
    },
    {
     "name": "stderr",
     "output_type": "stream",
     "text": [
      "INFO\tTask(Task-3) nodify.node.139788942790912:node.py:get()- No need to evaluate\n"
     ]
    },
    {
     "name": "stderr",
     "output_type": "stream",
     "text": [
      "INFO\tTask(Task-3) nodify.node.139788942792208:node.py:get()- No need to evaluate\n"
     ]
    },
    {
     "name": "stderr",
     "output_type": "stream",
     "text": [
      "INFO\tTask(Task-3) nodify.node.139788942798160:node.py:get()- No need to evaluate\n"
     ]
    },
    {
     "name": "stderr",
     "output_type": "stream",
     "text": [
      "INFO\tTask(Task-3) nodify.node.139788942790912:node.py:get()- No need to evaluate\n"
     ]
    },
    {
     "name": "stderr",
     "output_type": "stream",
     "text": [
      "INFO\tTask(Task-3) nodify.node.139788942798736:node.py:get()- No need to evaluate\n"
     ]
    },
    {
     "name": "stderr",
     "output_type": "stream",
     "text": [
      "INFO\tTask(Task-3) nodify.node.139788942801664:node.py:get()- No need to evaluate\n"
     ]
    },
    {
     "name": "stderr",
     "output_type": "stream",
     "text": [
      "INFO\tTask(Task-3) nodify.node.139788942790912:node.py:get()- No need to evaluate\n"
     ]
    },
    {
     "name": "stderr",
     "output_type": "stream",
     "text": [
      "INFO\tTask(Task-3) nodify.node.139788942790240:node.py:get()- No need to evaluate\n"
     ]
    },
    {
     "name": "stderr",
     "output_type": "stream",
     "text": [
      "INFO\tTask(Task-3) nodify.node.139788942790144:node.py:get()- No need to evaluate\n"
     ]
    },
    {
     "name": "stderr",
     "output_type": "stream",
     "text": [
      "INFO\tTask(Task-3) nodify.node.139788942791968:node.py:get()- No need to evaluate\n"
     ]
    },
    {
     "name": "stderr",
     "output_type": "stream",
     "text": [
      "INFO\tTask(Task-3) nodify.node.139788942798640:node.py:get()- No need to evaluate\n"
     ]
    },
    {
     "name": "stderr",
     "output_type": "stream",
     "text": [
      "INFO\tTask(Task-3) nodify.node.139788942790912:node.py:get()- No need to evaluate\n"
     ]
    },
    {
     "name": "stderr",
     "output_type": "stream",
     "text": [
      "INFO\tTask(Task-3) nodify.node.139788942792208:node.py:get()- No need to evaluate\n"
     ]
    },
    {
     "name": "stderr",
     "output_type": "stream",
     "text": [
      "INFO\tTask(Task-3) nodify.node.139788942798160:node.py:get()- No need to evaluate\n"
     ]
    },
    {
     "name": "stderr",
     "output_type": "stream",
     "text": [
      "INFO\tTask(Task-3) nodify.node.139788942790912:node.py:get()- No need to evaluate\n"
     ]
    },
    {
     "name": "stderr",
     "output_type": "stream",
     "text": [
      "INFO\tTask(Task-3) nodify.node.139788942798736:node.py:get()- No need to evaluate\n"
     ]
    },
    {
     "name": "stderr",
     "output_type": "stream",
     "text": [
      "INFO\tTask(Task-3) nodify.node.139788942796096:node.py:get()- No need to evaluate\n"
     ]
    },
    {
     "name": "stderr",
     "output_type": "stream",
     "text": [
      "INFO\tTask(Task-3) nodify.node.139788942795712:node.py:get()- No need to evaluate\n"
     ]
    },
    {
     "name": "stderr",
     "output_type": "stream",
     "text": [
      "INFO\tTask(Task-3) nodify.node.139788942798448:node.py:get()- No need to evaluate\n"
     ]
    },
    {
     "name": "stderr",
     "output_type": "stream",
     "text": [
      "INFO\tTask(Task-3) nodify.node.139788942798880:node.py:get()- Evaluated because inputs changed.\n"
     ]
    },
    {
     "name": "stderr",
     "output_type": "stream",
     "text": [
      "INFO\tTask(Task-3) nodify.node.139788945755072:node.py:get()- Evaluated because inputs changed.\n"
     ]
    },
    {
     "name": "stderr",
     "output_type": "stream",
     "text": [
      "INFO\tTask(Task-3) nodify.node.139788942802432:node.py:get()- Evaluated because inputs changed.\n"
     ]
    },
    {
     "data": {
      "application/vnd.plotly.v1+json": {
       "config": {
        "plotlyServerURL": "https://plot.ly"
       },
       "data": [
        {
         "coloraxis": "coloraxis",
         "meta": {},
         "opacity": 0,
         "textfont": {
          "color": "black"
         },
         "type": "heatmap",
         "z": {
          "bdata": "Zj44kial5L+AWqLFeL58PxCtfTWiG9o/otOlkjQC1T/Gz3Cenz3nPwAAAAAAAPh/AAAAAAAA+H8AAAAAAAD4fwAAAAAAAPh/k1gyToQXkD8AAAAAAAD4fwAAAAAAAPh/AAAAAAAA+H8AAAAAAAD4fwAAAAAAAPh/gFqixXi+fD+cn7Gpbm/Uv4pCaXQ95tW/ROW7RHVY5L84TWpXQy62vwAAAAAAAPh/AAAAAAAA+H8AAAAAAAD4fwAAAAAAAPh/kJxOoI1Fpb8AAAAAAAD4fwAAAAAAAPh/AAAAAAAA+H8AAAAAAAD4fwAAAAAAAPh/EK19NaIb2j+KQml0PebVv7Y/yms1RuG/COxPx49PvD8Q0bVTOwWmvwAAAAAAAPh/AAAAAAAA+H8AAAAAAAD4fwAAAAAAAPh/HeooupCftb8AAAAAAAD4fwAAAAAAAPh/AAAAAAAA+H8AAAAAAAD4fwAAAAAAAPh/otOlkjQC1T9E5btEdVjkvwjsT8ePT7w/mKfoPVrf1T/sgvepDMvivwAAAAAAAPh/AAAAAAAA+H8AAAAAAAD4fwAAAAAAAPh/oKcYhYRhp78AAAAAAAD4fwAAAAAAAPh/AAAAAAAA+H8AAAAAAAD4fwAAAAAAAPh/xs9wnp895z84TWpXQy62vxDRtVM7Baa/7IL3qQzL4r8kJHAG1fnTvwAAAAAAAPh/AAAAAAAA+H8AAAAAAAD4fwAAAAAAAPh/AAAAAAAA+H+TWDJOhBeQP5CcTqCNRaW/HeooupCftb+gpxiFhGGnvwAAAAAAAPh/",
          "dtype": "f8",
          "shape": "5, 15"
         },
         "zsmooth": false
        },
        {
         "hovertext": [
          "[0.         0.88831683]",
          "[0.         0.88831683]",
          "[0.         0.88831683]",
          "[0.         0.88831683]",
          "[0.         0.88831683]",
          "[0.         0.88831683]",
          "[0.         0.88831683]",
          "[ 0.         -0.00966247]",
          "[ 0.         -0.00966247]",
          "[ 0.         -0.00966247]",
          "[ 0.         -0.00966247]",
          "[ 0.         -0.00966247]",
          "[ 0.         -0.00966247]",
          "[ 0.         -0.00966247]",
          "[ 0.         -0.56168543]",
          "[ 0.         -0.56168543]",
          "[ 0.         -0.56168543]",
          "[ 0.         -0.56168543]",
          "[ 0.         -0.56168543]",
          "[ 0.         -0.56168543]",
          "[ 0.         -0.56168543]",
          "[ 0.         -0.45197863]",
          "[ 0.         -0.45197863]",
          "[ 0.         -0.45197863]",
          "[ 0.         -0.45197863]",
          "[ 0.         -0.45197863]",
          "[ 0.         -0.45197863]",
          "[ 0.         -0.45197863]",
          "[ 0. -1.]",
          "[ 0. -1.]",
          "[ 0. -1.]",
          "[ 0. -1.]",
          "[ 0. -1.]",
          "[ 0. -1.]",
          "[ 0. -1.]",
          "[ 0. nan]",
          "[ 0. nan]",
          "[ 0. nan]",
          "[ 0. nan]",
          "[ 0. nan]",
          "[ 0. nan]",
          "[ 0. nan]",
          "[ 0. nan]",
          "[ 0. nan]",
          "[ 0. nan]",
          "[ 0. nan]",
          "[ 0. nan]",
          "[ 0. nan]",
          "[ 0. nan]",
          "[ 0. nan]",
          "[ 0. nan]",
          "[ 0. nan]",
          "[ 0. nan]",
          "[ 0. nan]",
          "[ 0. nan]",
          "[ 0. nan]",
          "[ 0. nan]",
          "[ 0. nan]",
          "[ 0. nan]",
          "[ 0. nan]",
          "[ 0. nan]",
          "[ 0. nan]",
          "[ 0. nan]",
          "[ 0.         -0.02163749]",
          "[ 0.         -0.02163749]",
          "[ 0.         -0.02163749]",
          "[ 0.         -0.02163749]",
          "[ 0.         -0.02163749]",
          "[ 0.         -0.02163749]",
          "[ 0.         -0.02163749]",
          "[ 0. nan]",
          "[ 0. nan]",
          "[ 0. nan]",
          "[ 0. nan]",
          "[ 0. nan]",
          "[ 0. nan]",
          "[ 0. nan]",
          "[ 0. nan]",
          "[ 0. nan]",
          "[ 0. nan]",
          "[ 0. nan]",
          "[ 0. nan]",
          "[ 0. nan]",
          "[ 0. nan]",
          "[ 0. nan]",
          "[ 0. nan]",
          "[ 0. nan]",
          "[ 0. nan]",
          "[ 0. nan]",
          "[ 0. nan]",
          "[ 0. nan]",
          "[ 0. nan]",
          "[ 0. nan]",
          "[ 0. nan]",
          "[ 0. nan]",
          "[ 0. nan]",
          "[ 0. nan]",
          "[ 0. nan]",
          "[ 0. nan]",
          "[ 0. nan]",
          "[ 0. nan]",
          "[ 0. nan]",
          "[ 0. nan]",
          "[ 0. nan]",
          "[ 0. nan]",
          "[ 0.         -0.00966247]",
          "[ 0.         -0.00966247]",
          "[ 0.         -0.00966247]",
          "[ 0.         -0.00966247]",
          "[ 0.         -0.00966247]",
          "[ 0.         -0.00966247]",
          "[ 0.         -0.00966247]",
          "[0.         0.43964398]",
          "[0.         0.43964398]",
          "[0.         0.43964398]",
          "[0.         0.43964398]",
          "[0.         0.43964398]",
          "[0.         0.43964398]",
          "[0.         0.43964398]",
          "[0.         0.47114242]",
          "[0.         0.47114242]",
          "[0.         0.47114242]",
          "[0.         0.47114242]",
          "[0.         0.47114242]",
          "[0.         0.47114242]",
          "[0.         0.47114242]",
          "[0.        0.8754265]",
          "[0.        0.8754265]",
          "[0.        0.8754265]",
          "[0.        0.8754265]",
          "[0.        0.8754265]",
          "[0.        0.8754265]",
          "[0.        0.8754265]",
          "[0.         0.11929879]",
          "[0.         0.11929879]",
          "[0.         0.11929879]",
          "[0.         0.11929879]",
          "[0.         0.11929879]",
          "[0.         0.11929879]",
          "[0.         0.11929879]",
          "[ 0. nan]",
          "[ 0. nan]",
          "[ 0. nan]",
          "[ 0. nan]",
          "[ 0. nan]",
          "[ 0. nan]",
          "[ 0. nan]",
          "[ 0. nan]",
          "[ 0. nan]",
          "[ 0. nan]",
          "[ 0. nan]",
          "[ 0. nan]",
          "[ 0. nan]",
          "[ 0. nan]",
          "[ 0. nan]",
          "[ 0. nan]",
          "[ 0. nan]",
          "[ 0. nan]",
          "[ 0. nan]",
          "[ 0. nan]",
          "[ 0. nan]",
          "[ 0. nan]",
          "[ 0. nan]",
          "[ 0. nan]",
          "[ 0. nan]",
          "[ 0. nan]",
          "[ 0. nan]",
          "[ 0. nan]",
          "[0.         0.05720481]",
          "[0.         0.05720481]",
          "[0.         0.05720481]",
          "[0.         0.05720481]",
          "[0.         0.05720481]",
          "[0.         0.05720481]",
          "[0.         0.05720481]",
          "[ 0. nan]",
          "[ 0. nan]",
          "[ 0. nan]",
          "[ 0. nan]",
          "[ 0. nan]",
          "[ 0. nan]",
          "[ 0. nan]",
          "[ 0. nan]",
          "[ 0. nan]",
          "[ 0. nan]",
          "[ 0. nan]",
          "[ 0. nan]",
          "[ 0. nan]",
          "[ 0. nan]",
          "[ 0. nan]",
          "[ 0. nan]",
          "[ 0. nan]",
          "[ 0. nan]",
          "[ 0. nan]",
          "[ 0. nan]",
          "[ 0. nan]",
          "[ 0. nan]",
          "[ 0. nan]",
          "[ 0. nan]",
          "[ 0. nan]",
          "[ 0. nan]",
          "[ 0. nan]",
          "[ 0. nan]",
          "[ 0. nan]",
          "[ 0. nan]",
          "[ 0. nan]",
          "[ 0. nan]",
          "[ 0. nan]",
          "[ 0. nan]",
          "[ 0. nan]",
          "[ 0.         -0.56168543]",
          "[ 0.         -0.56168543]",
          "[ 0.         -0.56168543]",
          "[ 0.         -0.56168543]",
          "[ 0.         -0.56168543]",
          "[ 0.         -0.56168543]",
          "[ 0.         -0.56168543]",
          "[0.         0.47114242]",
          "[0.         0.47114242]",
          "[0.         0.47114242]",
          "[0.         0.47114242]",
          "[0.         0.47114242]",
          "[0.         0.47114242]",
          "[0.         0.47114242]",
          "[0.         0.74327538]",
          "[0.         0.74327538]",
          "[0.         0.74327538]",
          "[0.         0.74327538]",
          "[0.         0.74327538]",
          "[0.         0.74327538]",
          "[0.         0.74327538]",
          "[ 0.         -0.15226933]",
          "[ 0.         -0.15226933]",
          "[ 0.         -0.15226933]",
          "[ 0.         -0.15226933]",
          "[ 0.         -0.15226933]",
          "[ 0.         -0.15226933]",
          "[ 0.         -0.15226933]",
          "[0.         0.05921837]",
          "[0.         0.05921837]",
          "[0.         0.05921837]",
          "[0.         0.05921837]",
          "[0.         0.05921837]",
          "[0.         0.05921837]",
          "[0.         0.05921837]",
          "[ 0. nan]",
          "[ 0. nan]",
          "[ 0. nan]",
          "[ 0. nan]",
          "[ 0. nan]",
          "[ 0. nan]",
          "[ 0. nan]",
          "[ 0. nan]",
          "[ 0. nan]",
          "[ 0. nan]",
          "[ 0. nan]",
          "[ 0. nan]",
          "[ 0. nan]",
          "[ 0. nan]",
          "[ 0. nan]",
          "[ 0. nan]",
          "[ 0. nan]",
          "[ 0. nan]",
          "[ 0. nan]",
          "[ 0. nan]",
          "[ 0. nan]",
          "[ 0. nan]",
          "[ 0. nan]",
          "[ 0. nan]",
          "[ 0. nan]",
          "[ 0. nan]",
          "[ 0. nan]",
          "[ 0. nan]",
          "[0.         0.11630075]",
          "[0.         0.11630075]",
          "[0.         0.11630075]",
          "[0.         0.11630075]",
          "[0.         0.11630075]",
          "[0.         0.11630075]",
          "[0.         0.11630075]",
          "[ 0. nan]",
          "[ 0. nan]",
          "[ 0. nan]",
          "[ 0. nan]",
          "[ 0. nan]",
          "[ 0. nan]",
          "[ 0. nan]",
          "[ 0. nan]",
          "[ 0. nan]",
          "[ 0. nan]",
          "[ 0. nan]",
          "[ 0. nan]",
          "[ 0. nan]",
          "[ 0. nan]",
          "[ 0. nan]",
          "[ 0. nan]",
          "[ 0. nan]",
          "[ 0. nan]",
          "[ 0. nan]",
          "[ 0. nan]",
          "[ 0. nan]",
          "[ 0. nan]",
          "[ 0. nan]",
          "[ 0. nan]",
          "[ 0. nan]",
          "[ 0. nan]",
          "[ 0. nan]",
          "[ 0. nan]",
          "[ 0. nan]",
          "[ 0. nan]",
          "[ 0. nan]",
          "[ 0. nan]",
          "[ 0. nan]",
          "[ 0. nan]",
          "[ 0. nan]",
          "[ 0.         -0.45197863]",
          "[ 0.         -0.45197863]",
          "[ 0.         -0.45197863]",
          "[ 0.         -0.45197863]",
          "[ 0.         -0.45197863]",
          "[ 0.         -0.45197863]",
          "[ 0.         -0.45197863]",
          "[0.        0.8754265]",
          "[0.        0.8754265]",
          "[0.        0.8754265]",
          "[0.        0.8754265]",
          "[0.        0.8754265]",
          "[0.        0.8754265]",
          "[0.        0.8754265]",
          "[ 0.         -0.15226933]",
          "[ 0.         -0.15226933]",
          "[ 0.         -0.15226933]",
          "[ 0.         -0.15226933]",
          "[ 0.         -0.15226933]",
          "[ 0.         -0.15226933]",
          "[ 0.         -0.15226933]",
          "[ 0.        -0.4705636]",
          "[ 0.        -0.4705636]",
          "[ 0.        -0.4705636]",
          "[ 0.        -0.4705636]",
          "[ 0.        -0.4705636]",
          "[ 0.        -0.4705636]",
          "[ 0.        -0.4705636]",
          "[0.         0.80863091]",
          "[0.         0.80863091]",
          "[0.         0.80863091]",
          "[0.         0.80863091]",
          "[0.         0.80863091]",
          "[0.         0.80863091]",
          "[0.         0.80863091]",
          "[ 0. nan]",
          "[ 0. nan]",
          "[ 0. nan]",
          "[ 0. nan]",
          "[ 0. nan]",
          "[ 0. nan]",
          "[ 0. nan]",
          "[ 0. nan]",
          "[ 0. nan]",
          "[ 0. nan]",
          "[ 0. nan]",
          "[ 0. nan]",
          "[ 0. nan]",
          "[ 0. nan]",
          "[ 0. nan]",
          "[ 0. nan]",
          "[ 0. nan]",
          "[ 0. nan]",
          "[ 0. nan]",
          "[ 0. nan]",
          "[ 0. nan]",
          "[ 0. nan]",
          "[ 0. nan]",
          "[ 0. nan]",
          "[ 0. nan]",
          "[ 0. nan]",
          "[ 0. nan]",
          "[ 0. nan]",
          "[0.         0.06287706]",
          "[0.         0.06287706]",
          "[0.         0.06287706]",
          "[0.         0.06287706]",
          "[0.         0.06287706]",
          "[0.         0.06287706]",
          "[0.         0.06287706]",
          "[ 0. nan]",
          "[ 0. nan]",
          "[ 0. nan]",
          "[ 0. nan]",
          "[ 0. nan]",
          "[ 0. nan]",
          "[ 0. nan]",
          "[ 0. nan]",
          "[ 0. nan]",
          "[ 0. nan]",
          "[ 0. nan]",
          "[ 0. nan]",
          "[ 0. nan]",
          "[ 0. nan]",
          "[ 0. nan]",
          "[ 0. nan]",
          "[ 0. nan]",
          "[ 0. nan]",
          "[ 0. nan]",
          "[ 0. nan]",
          "[ 0. nan]",
          "[ 0. nan]",
          "[ 0. nan]",
          "[ 0. nan]",
          "[ 0. nan]",
          "[ 0. nan]",
          "[ 0. nan]",
          "[ 0. nan]",
          "[ 0. nan]",
          "[ 0. nan]",
          "[ 0. nan]",
          "[ 0. nan]",
          "[ 0. nan]",
          "[ 0. nan]",
          "[ 0. nan]",
          "[ 0. -1.]",
          "[ 0. -1.]",
          "[ 0. -1.]",
          "[ 0. -1.]",
          "[ 0. -1.]",
          "[ 0. -1.]",
          "[ 0. -1.]",
          "[0.         0.11929879]",
          "[0.         0.11929879]",
          "[0.         0.11929879]",
          "[0.         0.11929879]",
          "[0.         0.11929879]",
          "[0.         0.11929879]",
          "[0.         0.11929879]",
          "[0.         0.05921837]",
          "[0.         0.05921837]",
          "[0.         0.05921837]",
          "[0.         0.05921837]",
          "[0.         0.05921837]",
          "[0.         0.05921837]",
          "[0.         0.05921837]",
          "[0.         0.80863091]",
          "[0.         0.80863091]",
          "[0.         0.80863091]",
          "[0.         0.80863091]",
          "[0.         0.80863091]",
          "[0.         0.80863091]",
          "[0.         0.80863091]",
          "[0.         0.42976099]",
          "[0.         0.42976099]",
          "[0.         0.42976099]",
          "[0.         0.42976099]",
          "[0.         0.42976099]",
          "[0.         0.42976099]",
          "[0.         0.42976099]",
          "[ 0. nan]",
          "[ 0. nan]",
          "[ 0. nan]",
          "[ 0. nan]",
          "[ 0. nan]",
          "[ 0. nan]",
          "[ 0. nan]",
          "[ 0. nan]",
          "[ 0. nan]",
          "[ 0. nan]",
          "[ 0. nan]",
          "[ 0. nan]",
          "[ 0. nan]",
          "[ 0. nan]",
          "[ 0. nan]",
          "[ 0. nan]",
          "[ 0. nan]",
          "[ 0. nan]",
          "[ 0. nan]",
          "[ 0. nan]",
          "[ 0. nan]",
          "[ 0. nan]",
          "[ 0. nan]",
          "[ 0. nan]",
          "[ 0. nan]",
          "[ 0. nan]",
          "[ 0. nan]",
          "[ 0. nan]",
          "[ 0. nan]",
          "[ 0. nan]",
          "[ 0. nan]",
          "[ 0. nan]",
          "[ 0. nan]",
          "[ 0. nan]",
          "[ 0. nan]",
          "[ 0.         -0.02163749]",
          "[ 0.         -0.02163749]",
          "[ 0.         -0.02163749]",
          "[ 0.         -0.02163749]",
          "[ 0.         -0.02163749]",
          "[ 0.         -0.02163749]",
          "[ 0.         -0.02163749]",
          "[0.         0.05720481]",
          "[0.         0.05720481]",
          "[0.         0.05720481]",
          "[0.         0.05720481]",
          "[0.         0.05720481]",
          "[0.         0.05720481]",
          "[0.         0.05720481]",
          "[0.         0.11630075]",
          "[0.         0.11630075]",
          "[0.         0.11630075]",
          "[0.         0.11630075]",
          "[0.         0.11630075]",
          "[0.         0.11630075]",
          "[0.         0.11630075]",
          "[0.         0.06287706]",
          "[0.         0.06287706]",
          "[0.         0.06287706]",
          "[0.         0.06287706]",
          "[0.         0.06287706]",
          "[0.         0.06287706]",
          "[0.         0.06287706]",
          "[ 0. nan]",
          "[ 0. nan]",
          "[ 0. nan]",
          "[ 0. nan]",
          "[ 0. nan]",
          "[ 0. nan]",
          "[ 0. nan]"
         ],
         "line": {
          "color": "blue"
         },
         "meta": {},
         "mode": "lines",
         "type": "scatter",
         "x": {
          "bdata": "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",
          "dtype": "f8"
         },
         "y": {
          "bdata": "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",
          "dtype": "f8"
         }
        },
        {
         "line": {
          "color": "pink",
          "dash": "dash",
          "width": 5
         },
         "meta": {},
         "mode": "lines",
         "name": "orbitals separators",
         "opacity": 0.8,
         "showlegend": false,
         "type": "scatter",
         "x": {
          "bdata": "AAAAAAAA4L8AAAAAAAASQAAAAAAAAPh/AAAAAAAA4D8AAAAAAADgPwAAAAAAAPh/",
          "dtype": "f8"
         },
         "y": {
          "bdata": "AAAAAAAA4D8AAAAAAADgPwAAAAAAAPh/AAAAAAAA4L8AAAAAAAASQAAAAAAAAPh/",
          "dtype": "f8"
         }
        },
        {
         "line": {
          "color": "gray"
         },
         "meta": {},
         "mode": "lines",
         "name": "atoms separators",
         "opacity": 1,
         "showlegend": false,
         "type": "scatter",
         "x": {
          "bdata": "AAAAAAAA4L8AAAAAAAASQAAAAAAAAPh/AAAAAAAADEAAAAAAAAAMQAAAAAAAAPh/",
          "dtype": "f8"
         },
         "y": {
          "bdata": "AAAAAAAADEAAAAAAAAAMQAAAAAAAAPh/AAAAAAAA4L8AAAAAAAASQAAAAAAAAPh/",
          "dtype": "f8"
         }
        }
       ],
       "layout": {
        "coloraxis": {
         "cmid": 0,
         "colorscale": [
          [
           0.0,
           "rgb(0, 147, 146)"
          ],
          [
           0.16666666666666666,
           "rgb(57, 177, 133)"
          ],
          [
           0.3333333333333333,
           "rgb(156, 203, 134)"
          ],
          [
           0.5,
           "rgb(233, 226, 156)"
          ],
          [
           0.6666666666666666,
           "rgb(238, 180, 121)"
          ],
          [
           0.8333333333333334,
           "rgb(232, 132, 113)"
          ],
          [
           1.0,
           "rgb(207, 89, 126)"
          ]
         ],
         "showscale": false
        },
        "scene": {
         "aspectmode": "data",
         "xaxis": {
          "range": [
           -0.5,
           14.5
          ]
         },
         "yaxis": {
          "range": [
           4.5,
           -0.5
          ]
         }
        },
        "template": {
         "layout": {
          "hovermode": "closest",
          "paper_bgcolor": "white",
          "plot_bgcolor": "white",
          "scene": {
           "xaxis": {
            "color": "black",
            "gridcolor": "#ccc",
            "gridwidth": 1,
            "linewidth": 1,
            "mirror": true,
            "showgrid": false,
            "showline": true,
            "ticklen": 5,
            "ticks": "outside",
            "ticksuffix": " ",
            "visible": true,
            "zeroline": false,
            "zerolinecolor": "#ccc",
            "zerolinewidth": 1
           },
           "yaxis": {
            "color": "black",
            "gridcolor": "#ccc",
            "gridwidth": 1,
            "linewidth": 1,
            "mirror": true,
            "showgrid": false,
            "showline": true,
            "ticklen": 5,
            "ticks": "outside",
            "ticksuffix": " ",
            "visible": true,
            "zeroline": false,
            "zerolinecolor": "#ccc",
            "zerolinewidth": 1
           },
           "zaxis": {
            "color": "black",
            "gridcolor": "#ccc",
            "gridwidth": 1,
            "linewidth": 1,
            "mirror": true,
            "showgrid": false,
            "showline": true,
            "ticklen": 5,
            "ticks": "outside",
            "ticksuffix": " ",
            "visible": true,
            "zeroline": false,
            "zerolinecolor": "#ccc",
            "zerolinewidth": 1
           }
          },
          "xaxis": {
           "color": "black",
           "gridcolor": "#ccc",
           "gridwidth": 1,
           "linewidth": 1,
           "mirror": true,
           "showgrid": false,
           "showline": true,
           "ticklen": 5,
           "ticks": "outside",
           "ticksuffix": " ",
           "visible": true,
           "zeroline": false,
           "zerolinecolor": "#ccc",
           "zerolinewidth": 1
          },
          "yaxis": {
           "color": "black",
           "gridcolor": "#ccc",
           "gridwidth": 1,
           "linewidth": 1,
           "mirror": true,
           "showgrid": false,
           "showline": true,
           "ticklen": 5,
           "ticks": "outside",
           "ticksuffix": " ",
           "visible": true,
           "zeroline": false,
           "zerolinecolor": "#ccc",
           "zerolinewidth": 1
          }
         }
        },
        "xaxis": {
         "constrain": "domain",
         "range": [
          -0.5,
          14.5
         ],
         "scaleanchor": "y",
         "scaleratio": 1
        },
        "yaxis": {
         "constrain": "domain",
         "range": [
          4.5,
          -0.5
         ]
        }
       }
      }
     },
     "metadata": {},
     "output_type": "display_data"
    }
   ],
   "source": [
    "plot.update_inputs(color_pixels=False, text=None)"
   ]
  },
  {
   "cell_type": "markdown",
   "metadata": {},
   "source": [
    "If you want to plot custom data for the arrows, you have to pass a sparse matrix where the last dimension is the cartesian coordinate `(X, Y)`. Let's create some random data to display it:"
   ]
  },
  {
   "cell_type": "code",
   "execution_count": 20,
   "metadata": {
    "execution": {
     "iopub.execute_input": "2025-08-23T10:46:57.680612Z",
     "iopub.status.busy": "2025-08-23T10:46:57.680381Z",
     "iopub.status.idle": "2025-08-23T10:46:57.835021Z",
     "shell.execute_reply": "2025-08-23T10:46:57.834463Z"
    }
   },
   "outputs": [
    {
     "name": "stderr",
     "output_type": "stream",
     "text": [
      "INFO\tTask(Task-3) nodify.node.139788942796864:node.py:get()- No need to evaluate\n"
     ]
    },
    {
     "name": "stderr",
     "output_type": "stream",
     "text": [
      "INFO\tTask(Task-3) nodify.node.139788942790912:node.py:get()- No need to evaluate\n"
     ]
    },
    {
     "name": "stderr",
     "output_type": "stream",
     "text": [
      "INFO\tTask(Task-3) nodify.node.139788942790240:node.py:get()- No need to evaluate\n"
     ]
    },
    {
     "name": "stderr",
     "output_type": "stream",
     "text": [
      "INFO\tTask(Task-3) nodify.node.139788942790144:node.py:get()- No need to evaluate\n"
     ]
    },
    {
     "name": "stderr",
     "output_type": "stream",
     "text": [
      "INFO\tTask(Task-3) nodify.node.139788942791968:node.py:get()- No need to evaluate\n"
     ]
    },
    {
     "name": "stderr",
     "output_type": "stream",
     "text": [
      "INFO\tTask(Task-3) nodify.node.139788942798640:node.py:get()- No need to evaluate\n"
     ]
    },
    {
     "name": "stderr",
     "output_type": "stream",
     "text": [
      "INFO\tTask(Task-3) nodify.node.139788942793792:node.py:get()- No need to evaluate\n"
     ]
    },
    {
     "name": "stderr",
     "output_type": "stream",
     "text": [
      "INFO\tTask(Task-3) nodify.node.139788942794176:node.py:get()- No need to evaluate\n"
     ]
    },
    {
     "name": "stderr",
     "output_type": "stream",
     "text": [
      "INFO\tTask(Task-3) nodify.node.139788942790912:node.py:get()- No need to evaluate\n"
     ]
    },
    {
     "name": "stderr",
     "output_type": "stream",
     "text": [
      "INFO\tTask(Task-3) nodify.node.139788942794560:node.py:get()- No need to evaluate\n"
     ]
    },
    {
     "name": "stderr",
     "output_type": "stream",
     "text": [
      "INFO\tTask(Task-3) nodify.node.139788942794176:node.py:get()- No need to evaluate\n"
     ]
    },
    {
     "name": "stderr",
     "output_type": "stream",
     "text": [
      "INFO\tTask(Task-3) nodify.node.139788942799936:node.py:get()- No need to evaluate\n"
     ]
    },
    {
     "name": "stderr",
     "output_type": "stream",
     "text": [
      "INFO\tTask(Task-3) nodify.node.139788942793408:node.py:get()- No need to evaluate\n"
     ]
    },
    {
     "name": "stderr",
     "output_type": "stream",
     "text": [
      "INFO\tTask(Task-3) nodify.node.139788942794944:node.py:get()- No need to evaluate\n"
     ]
    },
    {
     "name": "stderr",
     "output_type": "stream",
     "text": [
      "INFO\tTask(Task-3) nodify.node.139788942795328:node.py:get()- No need to evaluate\n"
     ]
    },
    {
     "name": "stderr",
     "output_type": "stream",
     "text": [
      "INFO\tTask(Task-3) nodify.node.139788942799840:node.py:get()- No need to evaluate\n"
     ]
    },
    {
     "name": "stderr",
     "output_type": "stream",
     "text": [
      "INFO\tTask(Task-3) nodify.node.139788942790912:node.py:get()- No need to evaluate\n"
     ]
    },
    {
     "name": "stderr",
     "output_type": "stream",
     "text": [
      "INFO\tTask(Task-3) nodify.node.139788942790240:node.py:get()- No need to evaluate\n"
     ]
    },
    {
     "name": "stderr",
     "output_type": "stream",
     "text": [
      "INFO\tTask(Task-3) nodify.node.139788942790144:node.py:get()- No need to evaluate\n"
     ]
    },
    {
     "name": "stderr",
     "output_type": "stream",
     "text": [
      "INFO\tTask(Task-3) nodify.node.139788942791968:node.py:get()- No need to evaluate\n"
     ]
    },
    {
     "name": "stderr",
     "output_type": "stream",
     "text": [
      "INFO\tTask(Task-3) nodify.node.139788942798640:node.py:get()- No need to evaluate\n"
     ]
    },
    {
     "name": "stderr",
     "output_type": "stream",
     "text": [
      "INFO\tTask(Task-3) nodify.node.139788942796480:node.py:get()- Evaluated because inputs changed.\n"
     ]
    },
    {
     "name": "stderr",
     "output_type": "stream",
     "text": [
      "INFO\tTask(Task-3) nodify.node.139788942800608:node.py:get()- Evaluated because inputs changed.\n"
     ]
    },
    {
     "name": "stderr",
     "output_type": "stream",
     "text": [
      "INFO\tTask(Task-3) nodify.node.139788942799984:node.py:get()- Evaluated because inputs changed.\n"
     ]
    },
    {
     "name": "stderr",
     "output_type": "stream",
     "text": [
      "INFO\tTask(Task-3) nodify.node.139788942791632:node.py:get()- No need to evaluate\n"
     ]
    },
    {
     "name": "stderr",
     "output_type": "stream",
     "text": [
      "INFO\tTask(Task-3) nodify.node.139788942790912:node.py:get()- No need to evaluate\n"
     ]
    },
    {
     "name": "stderr",
     "output_type": "stream",
     "text": [
      "INFO\tTask(Task-3) nodify.node.139788942792208:node.py:get()- No need to evaluate\n"
     ]
    },
    {
     "name": "stderr",
     "output_type": "stream",
     "text": [
      "INFO\tTask(Task-3) nodify.node.139788942798160:node.py:get()- No need to evaluate\n"
     ]
    },
    {
     "name": "stderr",
     "output_type": "stream",
     "text": [
      "INFO\tTask(Task-3) nodify.node.139788942790912:node.py:get()- No need to evaluate\n"
     ]
    },
    {
     "name": "stderr",
     "output_type": "stream",
     "text": [
      "INFO\tTask(Task-3) nodify.node.139788942798736:node.py:get()- No need to evaluate\n"
     ]
    },
    {
     "name": "stderr",
     "output_type": "stream",
     "text": [
      "INFO\tTask(Task-3) nodify.node.139788942800656:node.py:get()- No need to evaluate\n"
     ]
    },
    {
     "name": "stderr",
     "output_type": "stream",
     "text": [
      "INFO\tTask(Task-3) nodify.node.139788942792592:node.py:get()- No need to evaluate\n"
     ]
    },
    {
     "name": "stderr",
     "output_type": "stream",
     "text": [
      "INFO\tTask(Task-3) nodify.node.139788942790912:node.py:get()- No need to evaluate\n"
     ]
    },
    {
     "name": "stderr",
     "output_type": "stream",
     "text": [
      "INFO\tTask(Task-3) nodify.node.139788942792208:node.py:get()- No need to evaluate\n"
     ]
    },
    {
     "name": "stderr",
     "output_type": "stream",
     "text": [
      "INFO\tTask(Task-3) nodify.node.139788942798160:node.py:get()- No need to evaluate\n"
     ]
    },
    {
     "name": "stderr",
     "output_type": "stream",
     "text": [
      "INFO\tTask(Task-3) nodify.node.139788942790912:node.py:get()- No need to evaluate\n"
     ]
    },
    {
     "name": "stderr",
     "output_type": "stream",
     "text": [
      "INFO\tTask(Task-3) nodify.node.139788942798736:node.py:get()- No need to evaluate\n"
     ]
    },
    {
     "name": "stderr",
     "output_type": "stream",
     "text": [
      "INFO\tTask(Task-3) nodify.node.139788942801328:node.py:get()- No need to evaluate\n"
     ]
    },
    {
     "name": "stderr",
     "output_type": "stream",
     "text": [
      "INFO\tTask(Task-3) nodify.node.139788942792976:node.py:get()- No need to evaluate\n"
     ]
    },
    {
     "name": "stderr",
     "output_type": "stream",
     "text": [
      "INFO\tTask(Task-3) nodify.node.139788942790912:node.py:get()- No need to evaluate\n"
     ]
    },
    {
     "name": "stderr",
     "output_type": "stream",
     "text": [
      "INFO\tTask(Task-3) nodify.node.139788942792208:node.py:get()- No need to evaluate\n"
     ]
    },
    {
     "name": "stderr",
     "output_type": "stream",
     "text": [
      "INFO\tTask(Task-3) nodify.node.139788942798160:node.py:get()- No need to evaluate\n"
     ]
    },
    {
     "name": "stderr",
     "output_type": "stream",
     "text": [
      "INFO\tTask(Task-3) nodify.node.139788942790912:node.py:get()- No need to evaluate\n"
     ]
    },
    {
     "name": "stderr",
     "output_type": "stream",
     "text": [
      "INFO\tTask(Task-3) nodify.node.139788942798736:node.py:get()- No need to evaluate\n"
     ]
    },
    {
     "name": "stderr",
     "output_type": "stream",
     "text": [
      "INFO\tTask(Task-3) nodify.node.139788942801664:node.py:get()- No need to evaluate\n"
     ]
    },
    {
     "name": "stderr",
     "output_type": "stream",
     "text": [
      "INFO\tTask(Task-3) nodify.node.139788942790912:node.py:get()- No need to evaluate\n"
     ]
    },
    {
     "name": "stderr",
     "output_type": "stream",
     "text": [
      "INFO\tTask(Task-3) nodify.node.139788942790240:node.py:get()- No need to evaluate\n"
     ]
    },
    {
     "name": "stderr",
     "output_type": "stream",
     "text": [
      "INFO\tTask(Task-3) nodify.node.139788942790144:node.py:get()- No need to evaluate\n"
     ]
    },
    {
     "name": "stderr",
     "output_type": "stream",
     "text": [
      "INFO\tTask(Task-3) nodify.node.139788942791968:node.py:get()- No need to evaluate\n"
     ]
    },
    {
     "name": "stderr",
     "output_type": "stream",
     "text": [
      "INFO\tTask(Task-3) nodify.node.139788942798640:node.py:get()- No need to evaluate\n"
     ]
    },
    {
     "name": "stderr",
     "output_type": "stream",
     "text": [
      "INFO\tTask(Task-3) nodify.node.139788942790912:node.py:get()- No need to evaluate\n"
     ]
    },
    {
     "name": "stderr",
     "output_type": "stream",
     "text": [
      "INFO\tTask(Task-3) nodify.node.139788942792208:node.py:get()- No need to evaluate\n"
     ]
    },
    {
     "name": "stderr",
     "output_type": "stream",
     "text": [
      "INFO\tTask(Task-3) nodify.node.139788942798160:node.py:get()- No need to evaluate\n"
     ]
    },
    {
     "name": "stderr",
     "output_type": "stream",
     "text": [
      "INFO\tTask(Task-3) nodify.node.139788942790912:node.py:get()- No need to evaluate\n"
     ]
    },
    {
     "name": "stderr",
     "output_type": "stream",
     "text": [
      "INFO\tTask(Task-3) nodify.node.139788942798736:node.py:get()- No need to evaluate\n"
     ]
    },
    {
     "name": "stderr",
     "output_type": "stream",
     "text": [
      "INFO\tTask(Task-3) nodify.node.139788942796096:node.py:get()- No need to evaluate\n"
     ]
    },
    {
     "name": "stderr",
     "output_type": "stream",
     "text": [
      "INFO\tTask(Task-3) nodify.node.139788942795712:node.py:get()- No need to evaluate\n"
     ]
    },
    {
     "name": "stderr",
     "output_type": "stream",
     "text": [
      "INFO\tTask(Task-3) nodify.node.139788942798448:node.py:get()- No need to evaluate\n"
     ]
    },
    {
     "name": "stderr",
     "output_type": "stream",
     "text": [
      "INFO\tTask(Task-3) nodify.node.139788942798880:node.py:get()- Evaluated because inputs changed.\n"
     ]
    },
    {
     "name": "stderr",
     "output_type": "stream",
     "text": [
      "INFO\tTask(Task-3) nodify.node.139788945755072:node.py:get()- Evaluated because inputs changed.\n"
     ]
    },
    {
     "name": "stderr",
     "output_type": "stream",
     "text": [
      "INFO\tTask(Task-3) nodify.node.139788942802432:node.py:get()- Evaluated because inputs changed.\n"
     ]
    },
    {
     "data": {
      "application/vnd.plotly.v1+json": {
       "config": {
        "plotlyServerURL": "https://plot.ly"
       },
       "data": [
        {
         "coloraxis": "coloraxis",
         "meta": {},
         "opacity": 0,
         "textfont": {
          "color": "black"
         },
         "type": "heatmap",
         "z": {
          "bdata": "Zj44kial5L+AWqLFeL58PxCtfTWiG9o/otOlkjQC1T/Gz3Cenz3nPwAAAAAAAPh/AAAAAAAA+H8AAAAAAAD4fwAAAAAAAPh/k1gyToQXkD8AAAAAAAD4fwAAAAAAAPh/AAAAAAAA+H8AAAAAAAD4fwAAAAAAAPh/gFqixXi+fD+cn7Gpbm/Uv4pCaXQ95tW/ROW7RHVY5L84TWpXQy62vwAAAAAAAPh/AAAAAAAA+H8AAAAAAAD4fwAAAAAAAPh/kJxOoI1Fpb8AAAAAAAD4fwAAAAAAAPh/AAAAAAAA+H8AAAAAAAD4fwAAAAAAAPh/EK19NaIb2j+KQml0PebVv7Y/yms1RuG/COxPx49PvD8Q0bVTOwWmvwAAAAAAAPh/AAAAAAAA+H8AAAAAAAD4fwAAAAAAAPh/HeooupCftb8AAAAAAAD4fwAAAAAAAPh/AAAAAAAA+H8AAAAAAAD4fwAAAAAAAPh/otOlkjQC1T9E5btEdVjkvwjsT8ePT7w/mKfoPVrf1T/sgvepDMvivwAAAAAAAPh/AAAAAAAA+H8AAAAAAAD4fwAAAAAAAPh/oKcYhYRhp78AAAAAAAD4fwAAAAAAAPh/AAAAAAAA+H8AAAAAAAD4fwAAAAAAAPh/xs9wnp895z84TWpXQy62vxDRtVM7Baa/7IL3qQzL4r8kJHAG1fnTvwAAAAAAAPh/AAAAAAAA+H8AAAAAAAD4fwAAAAAAAPh/AAAAAAAA+H+TWDJOhBeQP5CcTqCNRaW/HeooupCftb+gpxiFhGGnvwAAAAAAAPh/",
          "dtype": "f8",
          "shape": "5, 15"
         },
         "zsmooth": false
        },
        {
         "hovertext": [
          "[-0.80489512  0.59341709]",
          "[-0.80489512  0.59341709]",
          "[-0.80489512  0.59341709]",
          "[-0.80489512  0.59341709]",
          "[-0.80489512  0.59341709]",
          "[-0.80489512  0.59341709]",
          "[-0.80489512  0.59341709]",
          "[ 0.00875507 -0.00030005]",
          "[ 0.00875507 -0.00030005]",
          "[ 0.00875507 -0.00030005]",
          "[ 0.00875507 -0.00030005]",
          "[ 0.00875507 -0.00030005]",
          "[ 0.00875507 -0.00030005]",
          "[ 0.00875507 -0.00030005]",
          "[ 0.50893763 -0.35994683]",
          "[ 0.50893763 -0.35994683]",
          "[ 0.50893763 -0.35994683]",
          "[ 0.50893763 -0.35994683]",
          "[ 0.50893763 -0.35994683]",
          "[ 0.50893763 -0.35994683]",
          "[ 0.50893763 -0.35994683]",
          "[ 0.40953338 -0.17724274]",
          "[ 0.40953338 -0.17724274]",
          "[ 0.40953338 -0.17724274]",
          "[ 0.40953338 -0.17724274]",
          "[ 0.40953338 -0.17724274]",
          "[ 0.40953338 -0.17724274]",
          "[ 0.40953338 -0.17724274]",
          "[ 0.90609015 -0.22330779]",
          "[ 0.90609015 -0.22330779]",
          "[ 0.90609015 -0.22330779]",
          "[ 0.90609015 -0.22330779]",
          "[ 0.90609015 -0.22330779]",
          "[ 0.90609015 -0.22330779]",
          "[ 0.90609015 -0.22330779]",
          "[ 0. -0.]",
          "[ 0. -0.]",
          "[ 0. -0.]",
          "[ 0. -0.]",
          "[ 0. -0.]",
          "[ 0. -0.]",
          "[ 0. -0.]",
          "[ 0. -0.]",
          "[ 0. -0.]",
          "[ 0. -0.]",
          "[ 0. -0.]",
          "[ 0. -0.]",
          "[ 0. -0.]",
          "[ 0. -0.]",
          "[ 0. -0.]",
          "[ 0. -0.]",
          "[ 0. -0.]",
          "[ 0. -0.]",
          "[ 0. -0.]",
          "[ 0. -0.]",
          "[ 0. -0.]",
          "[ 0. -0.]",
          "[ 0. -0.]",
          "[ 0. -0.]",
          "[ 0. -0.]",
          "[ 0. -0.]",
          "[ 0. -0.]",
          "[ 0. -0.]",
          "[ 0.01960551 -0.00574703]",
          "[ 0.01960551 -0.00574703]",
          "[ 0.01960551 -0.00574703]",
          "[ 0.01960551 -0.00574703]",
          "[ 0.01960551 -0.00574703]",
          "[ 0.01960551 -0.00574703]",
          "[ 0.01960551 -0.00574703]",
          "[ 0. -0.]",
          "[ 0. -0.]",
          "[ 0. -0.]",
          "[ 0. -0.]",
          "[ 0. -0.]",
          "[ 0. -0.]",
          "[ 0. -0.]",
          "[ 0. -0.]",
          "[ 0. -0.]",
          "[ 0. -0.]",
          "[ 0. -0.]",
          "[ 0. -0.]",
          "[ 0. -0.]",
          "[ 0. -0.]",
          "[ 0. -0.]",
          "[ 0. -0.]",
          "[ 0. -0.]",
          "[ 0. -0.]",
          "[ 0. -0.]",
          "[ 0. -0.]",
          "[ 0. -0.]",
          "[ 0. -0.]",
          "[ 0. -0.]",
          "[ 0. -0.]",
          "[ 0. -0.]",
          "[ 0. -0.]",
          "[ 0. -0.]",
          "[ 0. -0.]",
          "[ 0. -0.]",
          "[ 0. -0.]",
          "[ 0. -0.]",
          "[ 0. -0.]",
          "[ 0. -0.]",
          "[ 0. -0.]",
          "[ 0. -0.]",
          "[ 0.00875507 -0.00098903]",
          "[ 0.00875507 -0.00098903]",
          "[ 0.00875507 -0.00098903]",
          "[ 0.00875507 -0.00098903]",
          "[ 0.00875507 -0.00098903]",
          "[ 0.00875507 -0.00098903]",
          "[ 0.00875507 -0.00098903]",
          "[-0.39835707  0.24159007]",
          "[-0.39835707  0.24159007]",
          "[-0.39835707  0.24159007]",
          "[-0.39835707  0.24159007]",
          "[-0.39835707  0.24159007]",
          "[-0.39835707  0.24159007]",
          "[-0.39835707  0.24159007]",
          "[-0.42689751  0.40878759]",
          "[-0.42689751  0.40878759]",
          "[-0.42689751  0.40878759]",
          "[-0.42689751  0.40878759]",
          "[-0.42689751  0.40878759]",
          "[-0.42689751  0.40878759]",
          "[-0.42689751  0.40878759]",
          "[-0.79321532  0.46837002]",
          "[-0.79321532  0.46837002]",
          "[-0.79321532  0.46837002]",
          "[-0.79321532  0.46837002]",
          "[-0.79321532  0.46837002]",
          "[-0.79321532  0.46837002]",
          "[-0.79321532  0.46837002]",
          "[-0.10809546  0.01409014]",
          "[-0.10809546  0.01409014]",
          "[-0.10809546  0.01409014]",
          "[-0.10809546  0.01409014]",
          "[-0.10809546  0.01409014]",
          "[-0.10809546  0.01409014]",
          "[-0.10809546  0.01409014]",
          "[ 0. -0.]",
          "[ 0. -0.]",
          "[ 0. -0.]",
          "[ 0. -0.]",
          "[ 0. -0.]",
          "[ 0. -0.]",
          "[ 0. -0.]",
          "[ 0. -0.]",
          "[ 0. -0.]",
          "[ 0. -0.]",
          "[ 0. -0.]",
          "[ 0. -0.]",
          "[ 0. -0.]",
          "[ 0. -0.]",
          "[ 0. -0.]",
          "[ 0. -0.]",
          "[ 0. -0.]",
          "[ 0. -0.]",
          "[ 0. -0.]",
          "[ 0. -0.]",
          "[ 0. -0.]",
          "[ 0. -0.]",
          "[ 0. -0.]",
          "[ 0. -0.]",
          "[ 0. -0.]",
          "[ 0. -0.]",
          "[ 0. -0.]",
          "[ 0. -0.]",
          "[-0.05183271  0.04886343]",
          "[-0.05183271  0.04886343]",
          "[-0.05183271  0.04886343]",
          "[-0.05183271  0.04886343]",
          "[-0.05183271  0.04886343]",
          "[-0.05183271  0.04886343]",
          "[-0.05183271  0.04886343]",
          "[ 0. -0.]",
          "[ 0. -0.]",
          "[ 0. -0.]",
          "[ 0. -0.]",
          "[ 0. -0.]",
          "[ 0. -0.]",
          "[ 0. -0.]",
          "[ 0. -0.]",
          "[ 0. -0.]",
          "[ 0. -0.]",
          "[ 0. -0.]",
          "[ 0. -0.]",
          "[ 0. -0.]",
          "[ 0. -0.]",
          "[ 0. -0.]",
          "[ 0. -0.]",
          "[ 0. -0.]",
          "[ 0. -0.]",
          "[ 0. -0.]",
          "[ 0. -0.]",
          "[ 0. -0.]",
          "[ 0. -0.]",
          "[ 0. -0.]",
          "[ 0. -0.]",
          "[ 0. -0.]",
          "[ 0. -0.]",
          "[ 0. -0.]",
          "[ 0. -0.]",
          "[ 0. -0.]",
          "[ 0. -0.]",
          "[ 0. -0.]",
          "[ 0. -0.]",
          "[ 0. -0.]",
          "[ 0. -0.]",
          "[ 0. -0.]",
          "[ 0.50893763 -0.12397442]",
          "[ 0.50893763 -0.12397442]",
          "[ 0.50893763 -0.12397442]",
          "[ 0.50893763 -0.12397442]",
          "[ 0.50893763 -0.12397442]",
          "[ 0.50893763 -0.12397442]",
          "[ 0.50893763 -0.12397442]",
          "[-0.42689751  0.37320349]",
          "[-0.42689751  0.37320349]",
          "[-0.42689751  0.37320349]",
          "[-0.42689751  0.37320349]",
          "[-0.42689751  0.37320349]",
          "[-0.42689751  0.37320349]",
          "[-0.42689751  0.37320349]",
          "[-0.6734745   0.59635628]",
          "[-0.6734745   0.59635628]",
          "[-0.6734745   0.59635628]",
          "[-0.6734745   0.59635628]",
          "[-0.6734745   0.59635628]",
          "[-0.6734745   0.59635628]",
          "[-0.6734745   0.59635628]",
          "[ 0.13796974 -0.10704814]",
          "[ 0.13796974 -0.10704814]",
          "[ 0.13796974 -0.10704814]",
          "[ 0.13796974 -0.10704814]",
          "[ 0.13796974 -0.10704814]",
          "[ 0.13796974 -0.10704814]",
          "[ 0.13796974 -0.10704814]",
          "[-0.05365718  0.04142576]",
          "[-0.05365718  0.04142576]",
          "[-0.05365718  0.04142576]",
          "[-0.05365718  0.04142576]",
          "[-0.05365718  0.04142576]",
          "[-0.05365718  0.04142576]",
          "[-0.05365718  0.04142576]",
          "[ 0. -0.]",
          "[ 0. -0.]",
          "[ 0. -0.]",
          "[ 0. -0.]",
          "[ 0. -0.]",
          "[ 0. -0.]",
          "[ 0. -0.]",
          "[ 0. -0.]",
          "[ 0. -0.]",
          "[ 0. -0.]",
          "[ 0. -0.]",
          "[ 0. -0.]",
          "[ 0. -0.]",
          "[ 0. -0.]",
          "[ 0. -0.]",
          "[ 0. -0.]",
          "[ 0. -0.]",
          "[ 0. -0.]",
          "[ 0. -0.]",
          "[ 0. -0.]",
          "[ 0. -0.]",
          "[ 0. -0.]",
          "[ 0. -0.]",
          "[ 0. -0.]",
          "[ 0. -0.]",
          "[ 0. -0.]",
          "[ 0. -0.]",
          "[ 0. -0.]",
          "[-0.10537896  0.00094453]",
          "[-0.10537896  0.00094453]",
          "[-0.10537896  0.00094453]",
          "[-0.10537896  0.00094453]",
          "[-0.10537896  0.00094453]",
          "[-0.10537896  0.00094453]",
          "[-0.10537896  0.00094453]",
          "[ 0. -0.]",
          "[ 0. -0.]",
          "[ 0. -0.]",
          "[ 0. -0.]",
          "[ 0. -0.]",
          "[ 0. -0.]",
          "[ 0. -0.]",
          "[ 0. -0.]",
          "[ 0. -0.]",
          "[ 0. -0.]",
          "[ 0. -0.]",
          "[ 0. -0.]",
          "[ 0. -0.]",
          "[ 0. -0.]",
          "[ 0. -0.]",
          "[ 0. -0.]",
          "[ 0. -0.]",
          "[ 0. -0.]",
          "[ 0. -0.]",
          "[ 0. -0.]",
          "[ 0. -0.]",
          "[ 0. -0.]",
          "[ 0. -0.]",
          "[ 0. -0.]",
          "[ 0. -0.]",
          "[ 0. -0.]",
          "[ 0. -0.]",
          "[ 0. -0.]",
          "[ 0. -0.]",
          "[ 0. -0.]",
          "[ 0. -0.]",
          "[ 0. -0.]",
          "[ 0. -0.]",
          "[ 0. -0.]",
          "[ 0. -0.]",
          "[ 0.40953338 -0.17983884]",
          "[ 0.40953338 -0.17983884]",
          "[ 0.40953338 -0.17983884]",
          "[ 0.40953338 -0.17983884]",
          "[ 0.40953338 -0.17983884]",
          "[ 0.40953338 -0.17983884]",
          "[ 0.40953338 -0.17983884]",
          "[-0.79321532  0.57839224]",
          "[-0.79321532  0.57839224]",
          "[-0.79321532  0.57839224]",
          "[-0.79321532  0.57839224]",
          "[-0.79321532  0.57839224]",
          "[-0.79321532  0.57839224]",
          "[-0.79321532  0.57839224]",
          "[ 0.13796974 -0.0233839 ]",
          "[ 0.13796974 -0.0233839 ]",
          "[ 0.13796974 -0.0233839 ]",
          "[ 0.13796974 -0.0233839 ]",
          "[ 0.13796974 -0.0233839 ]",
          "[ 0.13796974 -0.0233839 ]",
          "[ 0.13796974 -0.0233839 ]",
          "[ 0.42637304 -0.04811114]",
          "[ 0.42637304 -0.04811114]",
          "[ 0.42637304 -0.04811114]",
          "[ 0.42637304 -0.04811114]",
          "[ 0.42637304 -0.04811114]",
          "[ 0.42637304 -0.04811114]",
          "[ 0.42637304 -0.04811114]",
          "[-0.7326925   0.16657829]",
          "[-0.7326925   0.16657829]",
          "[-0.7326925   0.16657829]",
          "[-0.7326925   0.16657829]",
          "[-0.7326925   0.16657829]",
          "[-0.7326925   0.16657829]",
          "[-0.7326925   0.16657829]",
          "[ 0. -0.]",
          "[ 0. -0.]",
          "[ 0. -0.]",
          "[ 0. -0.]",
          "[ 0. -0.]",
          "[ 0. -0.]",
          "[ 0. -0.]",
          "[ 0. -0.]",
          "[ 0. -0.]",
          "[ 0. -0.]",
          "[ 0. -0.]",
          "[ 0. -0.]",
          "[ 0. -0.]",
          "[ 0. -0.]",
          "[ 0. -0.]",
          "[ 0. -0.]",
          "[ 0. -0.]",
          "[ 0. -0.]",
          "[ 0. -0.]",
          "[ 0. -0.]",
          "[ 0. -0.]",
          "[ 0. -0.]",
          "[ 0. -0.]",
          "[ 0. -0.]",
          "[ 0. -0.]",
          "[ 0. -0.]",
          "[ 0. -0.]",
          "[ 0. -0.]",
          "[-0.05697229  0.00466233]",
          "[-0.05697229  0.00466233]",
          "[-0.05697229  0.00466233]",
          "[-0.05697229  0.00466233]",
          "[-0.05697229  0.00466233]",
          "[-0.05697229  0.00466233]",
          "[-0.05697229  0.00466233]",
          "[ 0. -0.]",
          "[ 0. -0.]",
          "[ 0. -0.]",
          "[ 0. -0.]",
          "[ 0. -0.]",
          "[ 0. -0.]",
          "[ 0. -0.]",
          "[ 0. -0.]",
          "[ 0. -0.]",
          "[ 0. -0.]",
          "[ 0. -0.]",
          "[ 0. -0.]",
          "[ 0. -0.]",
          "[ 0. -0.]",
          "[ 0. -0.]",
          "[ 0. -0.]",
          "[ 0. -0.]",
          "[ 0. -0.]",
          "[ 0. -0.]",
          "[ 0. -0.]",
          "[ 0. -0.]",
          "[ 0. -0.]",
          "[ 0. -0.]",
          "[ 0. -0.]",
          "[ 0. -0.]",
          "[ 0. -0.]",
          "[ 0. -0.]",
          "[ 0. -0.]",
          "[ 0. -0.]",
          "[ 0. -0.]",
          "[ 0. -0.]",
          "[ 0. -0.]",
          "[ 0. -0.]",
          "[ 0. -0.]",
          "[ 0. -0.]",
          "[ 0.90609015 -0.25473384]",
          "[ 0.90609015 -0.25473384]",
          "[ 0.90609015 -0.25473384]",
          "[ 0.90609015 -0.25473384]",
          "[ 0.90609015 -0.25473384]",
          "[ 0.90609015 -0.25473384]",
          "[ 0.90609015 -0.25473384]",
          "[-0.10809546  0.04709589]",
          "[-0.10809546  0.04709589]",
          "[-0.10809546  0.04709589]",
          "[-0.10809546  0.04709589]",
          "[-0.10809546  0.04709589]",
          "[-0.10809546  0.04709589]",
          "[-0.10809546  0.04709589]",
          "[-0.05365718  0.0472671 ]",
          "[-0.05365718  0.0472671 ]",
          "[-0.05365718  0.0472671 ]",
          "[-0.05365718  0.0472671 ]",
          "[-0.05365718  0.0472671 ]",
          "[-0.05365718  0.0472671 ]",
          "[-0.05365718  0.0472671 ]",
          "[-0.7326925   0.15363538]",
          "[-0.7326925   0.15363538]",
          "[-0.7326925   0.15363538]",
          "[-0.7326925   0.15363538]",
          "[-0.7326925   0.15363538]",
          "[-0.7326925   0.15363538]",
          "[-0.7326925   0.15363538]",
          "[-0.38940219  0.20352554]",
          "[-0.38940219  0.20352554]",
          "[-0.38940219  0.20352554]",
          "[-0.38940219  0.20352554]",
          "[-0.38940219  0.20352554]",
          "[-0.38940219  0.20352554]",
          "[-0.38940219  0.20352554]",
          "[ 0. -0.]",
          "[ 0. -0.]",
          "[ 0. -0.]",
          "[ 0. -0.]",
          "[ 0. -0.]",
          "[ 0. -0.]",
          "[ 0. -0.]",
          "[ 0. -0.]",
          "[ 0. -0.]",
          "[ 0. -0.]",
          "[ 0. -0.]",
          "[ 0. -0.]",
          "[ 0. -0.]",
          "[ 0. -0.]",
          "[ 0. -0.]",
          "[ 0. -0.]",
          "[ 0. -0.]",
          "[ 0. -0.]",
          "[ 0. -0.]",
          "[ 0. -0.]",
          "[ 0. -0.]",
          "[ 0. -0.]",
          "[ 0. -0.]",
          "[ 0. -0.]",
          "[ 0. -0.]",
          "[ 0. -0.]",
          "[ 0. -0.]",
          "[ 0. -0.]",
          "[ 0. -0.]",
          "[ 0. -0.]",
          "[ 0. -0.]",
          "[ 0. -0.]",
          "[ 0. -0.]",
          "[ 0. -0.]",
          "[ 0. -0.]",
          "[ 0.01960551 -0.01029616]",
          "[ 0.01960551 -0.01029616]",
          "[ 0.01960551 -0.01029616]",
          "[ 0.01960551 -0.01029616]",
          "[ 0.01960551 -0.01029616]",
          "[ 0.01960551 -0.01029616]",
          "[ 0.01960551 -0.01029616]",
          "[-0.05183271  0.04333717]",
          "[-0.05183271  0.04333717]",
          "[-0.05183271  0.04333717]",
          "[-0.05183271  0.04333717]",
          "[-0.05183271  0.04333717]",
          "[-0.05183271  0.04333717]",
          "[-0.05183271  0.04333717]",
          "[-0.10537896  0.02347644]",
          "[-0.10537896  0.02347644]",
          "[-0.10537896  0.02347644]",
          "[-0.10537896  0.02347644]",
          "[-0.10537896  0.02347644]",
          "[-0.10537896  0.02347644]",
          "[-0.10537896  0.02347644]",
          "[-0.05697229  0.0047012 ]",
          "[-0.05697229  0.0047012 ]",
          "[-0.05697229  0.0047012 ]",
          "[-0.05697229  0.0047012 ]",
          "[-0.05697229  0.0047012 ]",
          "[-0.05697229  0.0047012 ]",
          "[-0.05697229  0.0047012 ]",
          "[ 0. -0.]",
          "[ 0. -0.]",
          "[ 0. -0.]",
          "[ 0. -0.]",
          "[ 0. -0.]",
          "[ 0. -0.]",
          "[ 0. -0.]"
         ],
         "line": {
          "color": "red"
         },
         "meta": {},
         "mode": "lines",
         "type": "scatter",
         "x": {
          "bdata": "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",
          "dtype": "f8"
         },
         "y": {
          "bdata": "WlU21kX90r9aVTbWRf3SPwAAAAAAAPh/2QkayuunwD9aVTbWRf3SP9Sy1+c0wM4/AAAAAAAA+H8mGq16FKojPyYarXoUqiO/AAAAAAAA+H/gRousUI5APyYarXoUqiO/Fv7a70GxRr8AAAAAAAD4f89GC2teCcc/z0YLa14Jx78AAAAAAAD4f0cVfCbW17O/z0YLa14Jx7/ITdK9ctXCvwAAAAAAAPh/P6655+Ovtj8/rrnn46+2vwAAAAAAAPh/uoOk5bfzm78/rrnn46+2v6U+peG+VLW/AAAAAAAA+H+jHCKLWZW8P6McIotZlby/AAAAAAAA+H8QlaAG2Y9/v6McIotZlby/SGpgQm7awL8AAAAAAAD4fwAAAAAAAAAAAAAAAAAAAAAAAAAAAAD4fwAAAAAAAAAAAAAAAAAAAAAAAAAAAAAAAAAAAAAAAPh/AAAAAAAAAAAAAAAAAAAAAAAAAAAAAPh/AAAAAAAAAAAAAAAAAAAAAAAAAAAAAAAAAAAAAAAA+H8AAAAAAAAAAAAAAAAAAAAAAAAAAAAA+H8AAAAAAAAAAAAAAAAAAAAAAAAAAAAAAAAAAAAAAAD4fwAAAAAAAAAAAAAAAAAAAAAAAAAAAAD4fwAAAAAAAAAAAAAAAAAAAAAAAAAAAAAAAAAAAAAAAPh//cVTRjOKZz/9xVNGM4pnvwAAAAAAAPh/UOc/LtykPb/9xVNGM4pnv8zoX4OSrWm/AAAAAAAA+H8AAAAAAAAAAAAAAAAAAAAAAAAAAAAA+H8AAAAAAAAAAAAAAAAAAAAAAAAAAAAAAAAAAAAAAAD4fwAAAAAAAAAAAAAAAAAAAAAAAAAAAAD4fwAAAAAAAAAAAAAAAAAAAAAAAAAAAAAAAAAAAAAAAPh/AAAAAAAAAAAAAAAAAAAAAAAAAAAAAPh/AAAAAAAAAAAAAAAAAAAAAAAAAAAAAAAAAAAAAAAA+H8AAAAAAAAAAAAAAAAAAAAAAAAAAAAA+H8AAAAAAAAAAAAAAAAAAAAAAAAAAAAAAAAAAAAAAAD4fwAAAAAAAAAAAAAAAAAAAAAAAAAAAAD4fwAAAAAAAAAAAAAAAAAAAAAAAAAAAAAAAAAAAAAAAPh/CuF/iQYC8D/sPQDt8vvvPwAAAAAAAPh/NHOmVzAB8D/sPQDt8vvvP9bMpcqQ+O8/AAAAAAAA+H++46h0ciLsPyGOq8XG7vE/AAAAAAAA+H8P6YNBMMXwPyGOq8XG7vE/+oXQB2qk8T8AAAAAAAD4f12nbCSbdek/UqzJbTJF8z8AAAAAAAD4f9cdkYvnkvE/UqzJbTJF8z8br3OMH4LyPwAAAAAAAPh/wsWJb46B6D8gHTvIOL/zPwAAAAAAAPh/aAIhTm148T8gHTvIOL/zP4qPZu/qNPM/AAAAAAAA+H8qgr9pScbvP+s+IEvbHPA/AAAAAAAA+H9vg6t4cufvP+s+IEvbHPA/fFJR7Esw8D8AAAAAAAD4fwAAAAAAAPA/AAAAAAAA8D8AAAAAAAD4fwAAAAAAAPA/AAAAAAAA8D8AAAAAAADwPwAAAAAAAPh/AAAAAAAA8D8AAAAAAADwPwAAAAAAAPh/AAAAAAAA8D8AAAAAAADwPwAAAAAAAPA/AAAAAAAA+H8AAAAAAADwPwAAAAAAAPA/AAAAAAAA+H8AAAAAAADwPwAAAAAAAPA/AAAAAAAA8D8AAAAAAAD4fwAAAAAAAPA/AAAAAAAA8D8AAAAAAAD4fwAAAAAAAPA/AAAAAAAA8D8AAAAAAADwPwAAAAAAAPh/KMPb+9o37z9sHhKCEmTwPwAAAAAAAPh/QDeSTe8v8D9sHhKCEmTwP2oBD+X6TPA/AAAAAAAA+H8AAAAAAADwPwAAAAAAAPA/AAAAAAAA+H8AAAAAAADwPwAAAAAAAPA/AAAAAAAA8D8AAAAAAAD4fwAAAAAAAPA/AAAAAAAA8D8AAAAAAAD4fwAAAAAAAPA/AAAAAAAA8D8AAAAAAADwPwAAAAAAAPh/AAAAAAAA8D8AAAAAAADwPwAAAAAAAPh/AAAAAAAA8D8AAAAAAADwPwAAAAAAAPA/AAAAAAAA+H8AAAAAAADwPwAAAAAAAPA/AAAAAAAA+H8AAAAAAADwPwAAAAAAAPA/AAAAAAAA8D8AAAAAAAD4fwAAAAAAAPA/AAAAAAAA8D8AAAAAAAD4fwAAAAAAAPA/AAAAAAAA8D8AAAAAAADwPwAAAAAAAPh/bClCJvN+AEAorXuzGQL/PwAAAAAAAPh/bkeKjCHw/z8orXuzGQL/Pwq/N5fw0v4/AAAAAAAA+H+1/HrjrQP9P6aBQg4pfgFAAAAAAAAA+H+CO8natbIAQKaBQg4pfgFAI4Q621EqAUAAAAAAAAD4fyt2qY+pOvs/60QrOKtiAkAAAAAAAAD4f2lLI8/IHgFA60QrOKtiAkDWnbz+etsBQAAAAAAAAPh/EDAGB55tAEDen/PxwyT/PwAAAAAAAPh/Y+UJ0tOd/z/en/PxwyT/PzA91o6DUP8/AAAAAAAA+H+82an4KKv/PyITq4NrKgBAAAAAAAAA+H/kI7pX9RIAQCITq4NrKgBAnDJoAP4hAEAAAAAAAAD4fwAAAAAAAABAAAAAAAAAAEAAAAAAAAD4fwAAAAAAAABAAAAAAAAAAEAAAAAAAAAAQAAAAAAAAPh/AAAAAAAAAEAAAAAAAAAAQAAAAAAAAPh/AAAAAAAAAEAAAAAAAAAAQAAAAAAAAABAAAAAAAAA+H8AAAAAAAAAQAAAAAAAAABAAAAAAAAA+H8AAAAAAAAAQAAAAAAAAABAAAAAAAAAAEAAAAAAAAD4fwAAAAAAAABAAAAAAAAAAEAAAAAAAAD4fwAAAAAAAABAAAAAAAAAAEAAAAAAAAAAQAAAAAAAAPh/SVyPyxD+/z/bUTia9wAAQAAAAAAAAPh/5HoQkq7j/z/bUTia9wAAQFuojshdDwBAAAAAAAAA+H8AAAAAAAAAQAAAAAAAAABAAAAAAAAA+H8AAAAAAAAAQAAAAAAAAABAAAAAAAAAAEAAAAAAAAD4fwAAAAAAAABAAAAAAAAAAEAAAAAAAAD4fwAAAAAAAABAAAAAAAAAAEAAAAAAAAAAQAAAAAAAAPh/AAAAAAAAAEAAAAAAAAAAQAAAAAAAAPh/AAAAAAAAAEAAAAAAAAAAQAAAAAAAAABAAAAAAAAA+H8AAAAAAAAAQAAAAAAAAABAAAAAAAAA+H8AAAAAAAAAQAAAAAAAAABAAAAAAAAAAEAAAAAAAAD4fwAAAAAAAABAAAAAAAAAAEAAAAAAAAD4fwAAAAAAAABAAAAAAAAAAEAAAAAAAAAAQAAAAAAAAPh/Ib4NrCe4CEDeQfJT2EcHQAAAAAAAAPh/6ZH/0G/GB0DeQfJT2EcHQPuwvUmxUwdAAAAAAAAA+H9URKPxua8FQK27XA5GUApAAAAAAAAA+H/D5M9lhwIJQK27XA5GUApAVatyNsbgCUAAAAAAAAD4f+9mofLxFwhAEZleDQ7oB0AAAAAAAAD4fxujejliBAhAEZleDQ7oB0ACz+AXut0HQAAAAAAAAPh/3j5FDEQxCEAiwbrzu84HQAAAAAAAAPh/aqIhufscCEAiwbrzu84HQP1m9FaFpQdAAAAAAAAA+H/EuziAbFUHQDtEx3+TqghAAAAAAAAA+H+JiDQJ0QMIQDtEx3+TqghAbLSuvRrRCEAAAAAAAAD4fwAAAAAAAAhAAAAAAAAACEAAAAAAAAD4fwAAAAAAAAhAAAAAAAAACEAAAAAAAAAIQAAAAAAAAPh/AAAAAAAACEAAAAAAAAAIQAAAAAAAAPh/AAAAAAAACEAAAAAAAAAIQAAAAAAAAAhAAAAAAAAA+H8AAAAAAAAIQAAAAAAAAAhAAAAAAAAA+H8AAAAAAAAIQAAAAAAAAAhAAAAAAAAACEAAAAAAAAD4fwAAAAAAAAhAAAAAAAAACEAAAAAAAAD4fwAAAAAAAAhAAAAAAAAACEAAAAAAAAAIQAAAAAAAAPh/dUSSzDn7B0CMu20zxgQIQAAAAAAAAPh/yLZClf/6B0CMu20zxgQIQBiLMgb2CghAAAAAAAAA+H8AAAAAAAAIQAAAAAAAAAhAAAAAAAAA+H8AAAAAAAAIQAAAAAAAAAhAAAAAAAAACEAAAAAAAAD4fwAAAAAAAAhAAAAAAAAACEAAAAAAAAD4fwAAAAAAAAhAAAAAAAAACEAAAAAAAAAIQAAAAAAAAPh/AAAAAAAACEAAAAAAAAAIQAAAAAAAAPh/AAAAAAAACEAAAAAAAAAIQAAAAAAAAAhAAAAAAAAA+H8AAAAAAAAIQAAAAAAAAAhAAAAAAAAA+H8AAAAAAAAIQAAAAAAAAAhAAAAAAAAACEAAAAAAAAD4fwAAAAAAAAhAAAAAAAAACEAAAAAAAAD4fwAAAAAAAAhAAAAAAAAACEAAAAAAAAAIQAAAAAAAAPh/Tv5KeWyCEEBkA2oNJ/sOQAAAAAAAAPh/cuxAdSLcD0BkA2oNJ/sOQBg2nn1D3g5AAAAAAAAA+H91rhsYxs8PQMYo8vMcGBBAAAAAAAAA+H/xcX1YegcQQMYo8vMcGBBAIlZ8BJ8WEEAAAAAAAAD4fyaKgDaZzw9A7bq/ZDMYEEAAAAAAAAD4f4sCyIVYCxBA7bq/ZDMYEEDoCR/a3BIQQAAAAAAAAPh/saEkaK1iD0Aor+1LqU4QQAAAAAAAAPh/fFoLcov7D0Aor+1LqU4QQDDDQpNqZBBAAAAAAAAA+H8pnFoAly8PQOyx0n80aBBAAAAAAAAA+H+MEhvFwiUQQOyx0n80aBBAGe2fD1BcEEAAAAAAAAD4fwAAAAAAABBAAAAAAAAAEEAAAAAAAAD4fwAAAAAAABBAAAAAAAAAEEAAAAAAAAAQQAAAAAAAAPh/AAAAAAAAEEAAAAAAAAAQQAAAAAAAAPh/AAAAAAAAEEAAAAAAAAAQQAAAAAAAABBAAAAAAAAA+H8AAAAAAAAQQAAAAAAAABBAAAAAAAAA+H8AAAAAAAAQQAAAAAAAABBAAAAAAAAAEEAAAAAAAAD4fwAAAAAAABBAAAAAAAAAEEAAAAAAAAD4fwAAAAAAABBAAAAAAAAAEEAAAAAAAAAQQAAAAAAAAPh/AAAAAAAAEEAAAAAAAAAQQAAAAAAAAPh/AAAAAAAAEEAAAAAAAAAQQAAAAAAAABBAAAAAAAAA+H/ljfGJRQUQQDjkHOx09Q9AAAAAAAAA+H+d/HOQKvwPQDjkHOx09Q9Aopa0Uqz2D0AAAAAAAAD4fzV4/Guf0w9A5sMBSjAWEEAAAAAAAAD4f5d+9L83ChBA5sMBSjAWEEAhsdOlehEQQAAAAAAAAPh/3m+qyvXnD0ARyKoaBQwQQAAAAAAAAPh/d5vm3R4AEEARyKoaBQwQQOvQqR3iDhBAAAAAAAAA+H/F8ZybL/sPQB2HMTJoAhBAAAAAAAAA+H8hRJLxBfsPQB2HMTJoAhBAOAxBMX4FEEAAAAAAAAD4fwAAAAAAABBAAAAAAAAAEEAAAAAAAAD4fwAAAAAAABBAAAAAAAAAEEAAAAAAAAAQQAAAAAAAAPh/",
          "dtype": "f8"
         }
        },
        {
         "line": {
          "color": "pink",
          "dash": "dash",
          "width": 5
         },
         "meta": {},
         "mode": "lines",
         "name": "orbitals separators",
         "opacity": 0.8,
         "showlegend": false,
         "type": "scatter",
         "x": {
          "bdata": "AAAAAAAA4L8AAAAAAAASQAAAAAAAAPh/AAAAAAAA4D8AAAAAAADgPwAAAAAAAPh/",
          "dtype": "f8"
         },
         "y": {
          "bdata": "AAAAAAAA4D8AAAAAAADgPwAAAAAAAPh/AAAAAAAA4L8AAAAAAAASQAAAAAAAAPh/",
          "dtype": "f8"
         }
        },
        {
         "line": {
          "color": "gray"
         },
         "meta": {},
         "mode": "lines",
         "name": "atoms separators",
         "opacity": 1,
         "showlegend": false,
         "type": "scatter",
         "x": {
          "bdata": "AAAAAAAA4L8AAAAAAAASQAAAAAAAAPh/AAAAAAAADEAAAAAAAAAMQAAAAAAAAPh/",
          "dtype": "f8"
         },
         "y": {
          "bdata": "AAAAAAAADEAAAAAAAAAMQAAAAAAAAPh/AAAAAAAA4L8AAAAAAAASQAAAAAAAAPh/",
          "dtype": "f8"
         }
        }
       ],
       "layout": {
        "coloraxis": {
         "cmid": 0,
         "colorscale": [
          [
           0.0,
           "rgb(0, 147, 146)"
          ],
          [
           0.16666666666666666,
           "rgb(57, 177, 133)"
          ],
          [
           0.3333333333333333,
           "rgb(156, 203, 134)"
          ],
          [
           0.5,
           "rgb(233, 226, 156)"
          ],
          [
           0.6666666666666666,
           "rgb(238, 180, 121)"
          ],
          [
           0.8333333333333334,
           "rgb(232, 132, 113)"
          ],
          [
           1.0,
           "rgb(207, 89, 126)"
          ]
         ],
         "showscale": false
        },
        "scene": {
         "aspectmode": "data",
         "xaxis": {
          "range": [
           -0.5,
           14.5
          ]
         },
         "yaxis": {
          "range": [
           4.5,
           -0.5
          ]
         }
        },
        "template": {
         "layout": {
          "hovermode": "closest",
          "paper_bgcolor": "white",
          "plot_bgcolor": "white",
          "scene": {
           "xaxis": {
            "color": "black",
            "gridcolor": "#ccc",
            "gridwidth": 1,
            "linewidth": 1,
            "mirror": true,
            "showgrid": false,
            "showline": true,
            "ticklen": 5,
            "ticks": "outside",
            "ticksuffix": " ",
            "visible": true,
            "zeroline": false,
            "zerolinecolor": "#ccc",
            "zerolinewidth": 1
           },
           "yaxis": {
            "color": "black",
            "gridcolor": "#ccc",
            "gridwidth": 1,
            "linewidth": 1,
            "mirror": true,
            "showgrid": false,
            "showline": true,
            "ticklen": 5,
            "ticks": "outside",
            "ticksuffix": " ",
            "visible": true,
            "zeroline": false,
            "zerolinecolor": "#ccc",
            "zerolinewidth": 1
           },
           "zaxis": {
            "color": "black",
            "gridcolor": "#ccc",
            "gridwidth": 1,
            "linewidth": 1,
            "mirror": true,
            "showgrid": false,
            "showline": true,
            "ticklen": 5,
            "ticks": "outside",
            "ticksuffix": " ",
            "visible": true,
            "zeroline": false,
            "zerolinecolor": "#ccc",
            "zerolinewidth": 1
           }
          },
          "xaxis": {
           "color": "black",
           "gridcolor": "#ccc",
           "gridwidth": 1,
           "linewidth": 1,
           "mirror": true,
           "showgrid": false,
           "showline": true,
           "ticklen": 5,
           "ticks": "outside",
           "ticksuffix": " ",
           "visible": true,
           "zeroline": false,
           "zerolinecolor": "#ccc",
           "zerolinewidth": 1
          },
          "yaxis": {
           "color": "black",
           "gridcolor": "#ccc",
           "gridwidth": 1,
           "linewidth": 1,
           "mirror": true,
           "showgrid": false,
           "showline": true,
           "ticklen": 5,
           "ticks": "outside",
           "ticksuffix": " ",
           "visible": true,
           "zeroline": false,
           "zerolinecolor": "#ccc",
           "zerolinewidth": 1
          }
         }
        },
        "xaxis": {
         "constrain": "domain",
         "range": [
          -0.5,
          14.5
         ],
         "scaleanchor": "y",
         "scaleratio": 1
        },
        "yaxis": {
         "constrain": "domain",
         "range": [
          4.5,
          -0.5
         ]
        }
       }
      }
     },
     "metadata": {},
     "output_type": "display_data"
    }
   ],
   "source": [
    "# Initialize a sparse matrix with the same sparsity pattern as our Hamiltonian,\n",
    "# but with an extra dimension that will host the X and Y coordinates.\n",
    "arrow_data = sisl.SparseCSR.fromsp([H, H])\n",
    "\n",
    "# The X coordinate will be the Hamiltonian's value,\n",
    "# while the Y coordinate will be just random.\n",
    "for i in range(arrow_data.shape[0]):\n",
    "    for j in range(arrow_data.shape[1]):\n",
    "        if arrow_data[i, j, 1] != 0:\n",
    "            arrow_data[i, j, 1] *= np.random.random()\n",
    "\n",
    "# Let's display the data\n",
    "plot.update_inputs(arrows={\"data\": arrow_data, \"color\": \"red\"})"
   ]
  },
  {
   "cell_type": "markdown",
   "metadata": {},
   "source": [
    "Finally, we showcase how **you can have multiple specifications of arrows**.\n",
    "\n",
    "We also show how you can use the `center` key. You can set `center` to `\"start\"`, `\"middle\"` or `\"end\"`. It determines which part of the arrow is pinned to the center of the matrix element (the default is `\"middle\"`):"
   ]
  },
  {
   "cell_type": "code",
   "execution_count": 21,
   "metadata": {
    "execution": {
     "iopub.execute_input": "2025-08-23T10:46:57.837293Z",
     "iopub.status.busy": "2025-08-23T10:46:57.837111Z",
     "iopub.status.idle": "2025-08-23T10:46:58.020866Z",
     "shell.execute_reply": "2025-08-23T10:46:58.020223Z"
    }
   },
   "outputs": [
    {
     "name": "stderr",
     "output_type": "stream",
     "text": [
      "INFO\tTask(Task-3) nodify.node.139788942796864:node.py:get()- No need to evaluate\n"
     ]
    },
    {
     "name": "stderr",
     "output_type": "stream",
     "text": [
      "INFO\tTask(Task-3) nodify.node.139788942790912:node.py:get()- No need to evaluate\n"
     ]
    },
    {
     "name": "stderr",
     "output_type": "stream",
     "text": [
      "INFO\tTask(Task-3) nodify.node.139788942790240:node.py:get()- No need to evaluate\n"
     ]
    },
    {
     "name": "stderr",
     "output_type": "stream",
     "text": [
      "INFO\tTask(Task-3) nodify.node.139788942790144:node.py:get()- No need to evaluate\n"
     ]
    },
    {
     "name": "stderr",
     "output_type": "stream",
     "text": [
      "INFO\tTask(Task-3) nodify.node.139788942791968:node.py:get()- No need to evaluate\n"
     ]
    },
    {
     "name": "stderr",
     "output_type": "stream",
     "text": [
      "INFO\tTask(Task-3) nodify.node.139788942798640:node.py:get()- No need to evaluate\n"
     ]
    },
    {
     "name": "stderr",
     "output_type": "stream",
     "text": [
      "INFO\tTask(Task-3) nodify.node.139788942793792:node.py:get()- No need to evaluate\n"
     ]
    },
    {
     "name": "stderr",
     "output_type": "stream",
     "text": [
      "INFO\tTask(Task-3) nodify.node.139788942794176:node.py:get()- No need to evaluate\n"
     ]
    },
    {
     "name": "stderr",
     "output_type": "stream",
     "text": [
      "INFO\tTask(Task-3) nodify.node.139788942790912:node.py:get()- No need to evaluate\n"
     ]
    },
    {
     "name": "stderr",
     "output_type": "stream",
     "text": [
      "INFO\tTask(Task-3) nodify.node.139788942794560:node.py:get()- No need to evaluate\n"
     ]
    },
    {
     "name": "stderr",
     "output_type": "stream",
     "text": [
      "INFO\tTask(Task-3) nodify.node.139788942794176:node.py:get()- No need to evaluate\n"
     ]
    },
    {
     "name": "stderr",
     "output_type": "stream",
     "text": [
      "INFO\tTask(Task-3) nodify.node.139788942799936:node.py:get()- No need to evaluate\n"
     ]
    },
    {
     "name": "stderr",
     "output_type": "stream",
     "text": [
      "INFO\tTask(Task-3) nodify.node.139788942793408:node.py:get()- No need to evaluate\n"
     ]
    },
    {
     "name": "stderr",
     "output_type": "stream",
     "text": [
      "INFO\tTask(Task-3) nodify.node.139788942794944:node.py:get()- No need to evaluate\n"
     ]
    },
    {
     "name": "stderr",
     "output_type": "stream",
     "text": [
      "INFO\tTask(Task-3) nodify.node.139788942795328:node.py:get()- No need to evaluate\n"
     ]
    },
    {
     "name": "stderr",
     "output_type": "stream",
     "text": [
      "INFO\tTask(Task-3) nodify.node.139788942799840:node.py:get()- No need to evaluate\n"
     ]
    },
    {
     "name": "stderr",
     "output_type": "stream",
     "text": [
      "INFO\tTask(Task-3) nodify.node.139788942790912:node.py:get()- No need to evaluate\n"
     ]
    },
    {
     "name": "stderr",
     "output_type": "stream",
     "text": [
      "INFO\tTask(Task-3) nodify.node.139788942790240:node.py:get()- No need to evaluate\n"
     ]
    },
    {
     "name": "stderr",
     "output_type": "stream",
     "text": [
      "INFO\tTask(Task-3) nodify.node.139788942790144:node.py:get()- No need to evaluate\n"
     ]
    },
    {
     "name": "stderr",
     "output_type": "stream",
     "text": [
      "INFO\tTask(Task-3) nodify.node.139788942791968:node.py:get()- No need to evaluate\n"
     ]
    },
    {
     "name": "stderr",
     "output_type": "stream",
     "text": [
      "INFO\tTask(Task-3) nodify.node.139788942798640:node.py:get()- No need to evaluate\n"
     ]
    },
    {
     "name": "stderr",
     "output_type": "stream",
     "text": [
      "INFO\tTask(Task-3) nodify.node.139788942796480:node.py:get()- Evaluated because inputs changed.\n"
     ]
    },
    {
     "name": "stderr",
     "output_type": "stream",
     "text": [
      "INFO\tTask(Task-3) nodify.node.139788942800608:node.py:get()- Evaluated because inputs changed.\n"
     ]
    },
    {
     "name": "stderr",
     "output_type": "stream",
     "text": [
      "INFO\tTask(Task-3) nodify.node.139788942799984:node.py:get()- Evaluated because inputs changed.\n"
     ]
    },
    {
     "name": "stderr",
     "output_type": "stream",
     "text": [
      "INFO\tTask(Task-3) nodify.node.139788942791632:node.py:get()- No need to evaluate\n"
     ]
    },
    {
     "name": "stderr",
     "output_type": "stream",
     "text": [
      "INFO\tTask(Task-3) nodify.node.139788942790912:node.py:get()- No need to evaluate\n"
     ]
    },
    {
     "name": "stderr",
     "output_type": "stream",
     "text": [
      "INFO\tTask(Task-3) nodify.node.139788942792208:node.py:get()- No need to evaluate\n"
     ]
    },
    {
     "name": "stderr",
     "output_type": "stream",
     "text": [
      "INFO\tTask(Task-3) nodify.node.139788942798160:node.py:get()- No need to evaluate\n"
     ]
    },
    {
     "name": "stderr",
     "output_type": "stream",
     "text": [
      "INFO\tTask(Task-3) nodify.node.139788942790912:node.py:get()- No need to evaluate\n"
     ]
    },
    {
     "name": "stderr",
     "output_type": "stream",
     "text": [
      "INFO\tTask(Task-3) nodify.node.139788942798736:node.py:get()- No need to evaluate\n"
     ]
    },
    {
     "name": "stderr",
     "output_type": "stream",
     "text": [
      "INFO\tTask(Task-3) nodify.node.139788942800656:node.py:get()- No need to evaluate\n"
     ]
    },
    {
     "name": "stderr",
     "output_type": "stream",
     "text": [
      "INFO\tTask(Task-3) nodify.node.139788942792592:node.py:get()- No need to evaluate\n"
     ]
    },
    {
     "name": "stderr",
     "output_type": "stream",
     "text": [
      "INFO\tTask(Task-3) nodify.node.139788942790912:node.py:get()- No need to evaluate\n"
     ]
    },
    {
     "name": "stderr",
     "output_type": "stream",
     "text": [
      "INFO\tTask(Task-3) nodify.node.139788942792208:node.py:get()- No need to evaluate\n"
     ]
    },
    {
     "name": "stderr",
     "output_type": "stream",
     "text": [
      "INFO\tTask(Task-3) nodify.node.139788942798160:node.py:get()- No need to evaluate\n"
     ]
    },
    {
     "name": "stderr",
     "output_type": "stream",
     "text": [
      "INFO\tTask(Task-3) nodify.node.139788942790912:node.py:get()- No need to evaluate\n"
     ]
    },
    {
     "name": "stderr",
     "output_type": "stream",
     "text": [
      "INFO\tTask(Task-3) nodify.node.139788942798736:node.py:get()- No need to evaluate\n"
     ]
    },
    {
     "name": "stderr",
     "output_type": "stream",
     "text": [
      "INFO\tTask(Task-3) nodify.node.139788942801328:node.py:get()- No need to evaluate\n"
     ]
    },
    {
     "name": "stderr",
     "output_type": "stream",
     "text": [
      "INFO\tTask(Task-3) nodify.node.139788942792976:node.py:get()- No need to evaluate\n"
     ]
    },
    {
     "name": "stderr",
     "output_type": "stream",
     "text": [
      "INFO\tTask(Task-3) nodify.node.139788942790912:node.py:get()- No need to evaluate\n"
     ]
    },
    {
     "name": "stderr",
     "output_type": "stream",
     "text": [
      "INFO\tTask(Task-3) nodify.node.139788942792208:node.py:get()- No need to evaluate\n"
     ]
    },
    {
     "name": "stderr",
     "output_type": "stream",
     "text": [
      "INFO\tTask(Task-3) nodify.node.139788942798160:node.py:get()- No need to evaluate\n"
     ]
    },
    {
     "name": "stderr",
     "output_type": "stream",
     "text": [
      "INFO\tTask(Task-3) nodify.node.139788942790912:node.py:get()- No need to evaluate\n"
     ]
    },
    {
     "name": "stderr",
     "output_type": "stream",
     "text": [
      "INFO\tTask(Task-3) nodify.node.139788942798736:node.py:get()- No need to evaluate\n"
     ]
    },
    {
     "name": "stderr",
     "output_type": "stream",
     "text": [
      "INFO\tTask(Task-3) nodify.node.139788942801664:node.py:get()- No need to evaluate\n"
     ]
    },
    {
     "name": "stderr",
     "output_type": "stream",
     "text": [
      "INFO\tTask(Task-3) nodify.node.139788942790912:node.py:get()- No need to evaluate\n"
     ]
    },
    {
     "name": "stderr",
     "output_type": "stream",
     "text": [
      "INFO\tTask(Task-3) nodify.node.139788942790240:node.py:get()- No need to evaluate\n"
     ]
    },
    {
     "name": "stderr",
     "output_type": "stream",
     "text": [
      "INFO\tTask(Task-3) nodify.node.139788942790144:node.py:get()- No need to evaluate\n"
     ]
    },
    {
     "name": "stderr",
     "output_type": "stream",
     "text": [
      "INFO\tTask(Task-3) nodify.node.139788942791968:node.py:get()- No need to evaluate\n"
     ]
    },
    {
     "name": "stderr",
     "output_type": "stream",
     "text": [
      "INFO\tTask(Task-3) nodify.node.139788942798640:node.py:get()- No need to evaluate\n"
     ]
    },
    {
     "name": "stderr",
     "output_type": "stream",
     "text": [
      "INFO\tTask(Task-3) nodify.node.139788942790912:node.py:get()- No need to evaluate\n"
     ]
    },
    {
     "name": "stderr",
     "output_type": "stream",
     "text": [
      "INFO\tTask(Task-3) nodify.node.139788942792208:node.py:get()- No need to evaluate\n"
     ]
    },
    {
     "name": "stderr",
     "output_type": "stream",
     "text": [
      "INFO\tTask(Task-3) nodify.node.139788942798160:node.py:get()- No need to evaluate\n"
     ]
    },
    {
     "name": "stderr",
     "output_type": "stream",
     "text": [
      "INFO\tTask(Task-3) nodify.node.139788942790912:node.py:get()- No need to evaluate\n"
     ]
    },
    {
     "name": "stderr",
     "output_type": "stream",
     "text": [
      "INFO\tTask(Task-3) nodify.node.139788942798736:node.py:get()- No need to evaluate\n"
     ]
    },
    {
     "name": "stderr",
     "output_type": "stream",
     "text": [
      "INFO\tTask(Task-3) nodify.node.139788942796096:node.py:get()- No need to evaluate\n"
     ]
    },
    {
     "name": "stderr",
     "output_type": "stream",
     "text": [
      "INFO\tTask(Task-3) nodify.node.139788942795712:node.py:get()- No need to evaluate\n"
     ]
    },
    {
     "name": "stderr",
     "output_type": "stream",
     "text": [
      "INFO\tTask(Task-3) nodify.node.139788942798448:node.py:get()- No need to evaluate\n"
     ]
    },
    {
     "name": "stderr",
     "output_type": "stream",
     "text": [
      "INFO\tTask(Task-3) nodify.node.139788942798880:node.py:get()- Evaluated because inputs changed.\n"
     ]
    },
    {
     "name": "stderr",
     "output_type": "stream",
     "text": [
      "INFO\tTask(Task-3) nodify.node.139788945755072:node.py:get()- Evaluated because inputs changed.\n"
     ]
    },
    {
     "name": "stderr",
     "output_type": "stream",
     "text": [
      "INFO\tTask(Task-3) nodify.node.139788942802432:node.py:get()- Evaluated because inputs changed.\n"
     ]
    },
    {
     "data": {
      "application/vnd.plotly.v1+json": {
       "config": {
        "plotlyServerURL": "https://plot.ly"
       },
       "data": [
        {
         "coloraxis": "coloraxis",
         "meta": {},
         "opacity": 0,
         "textfont": {
          "color": "black"
         },
         "type": "heatmap",
         "z": {
          "bdata": "Zj44kial5L+AWqLFeL58PxCtfTWiG9o/otOlkjQC1T/Gz3Cenz3nPwAAAAAAAPh/AAAAAAAA+H8AAAAAAAD4fwAAAAAAAPh/k1gyToQXkD8AAAAAAAD4fwAAAAAAAPh/AAAAAAAA+H8AAAAAAAD4fwAAAAAAAPh/gFqixXi+fD+cn7Gpbm/Uv4pCaXQ95tW/ROW7RHVY5L84TWpXQy62vwAAAAAAAPh/AAAAAAAA+H8AAAAAAAD4fwAAAAAAAPh/kJxOoI1Fpb8AAAAAAAD4fwAAAAAAAPh/AAAAAAAA+H8AAAAAAAD4fwAAAAAAAPh/EK19NaIb2j+KQml0PebVv7Y/yms1RuG/COxPx49PvD8Q0bVTOwWmvwAAAAAAAPh/AAAAAAAA+H8AAAAAAAD4fwAAAAAAAPh/HeooupCftb8AAAAAAAD4fwAAAAAAAPh/AAAAAAAA+H8AAAAAAAD4fwAAAAAAAPh/otOlkjQC1T9E5btEdVjkvwjsT8ePT7w/mKfoPVrf1T/sgvepDMvivwAAAAAAAPh/AAAAAAAA+H8AAAAAAAD4fwAAAAAAAPh/oKcYhYRhp78AAAAAAAD4fwAAAAAAAPh/AAAAAAAA+H8AAAAAAAD4fwAAAAAAAPh/xs9wnp895z84TWpXQy62vxDRtVM7Baa/7IL3qQzL4r8kJHAG1fnTvwAAAAAAAPh/AAAAAAAA+H8AAAAAAAD4fwAAAAAAAPh/AAAAAAAA+H+TWDJOhBeQP5CcTqCNRaW/HeooupCftb+gpxiFhGGnvwAAAAAAAPh/",
          "dtype": "f8",
          "shape": "5, 15"
         },
         "zsmooth": false
        },
        {
         "hovertext": [
          "[0.         0.44415841]",
          "[0.         0.44415841]",
          "[0.         0.44415841]",
          "[0.         0.44415841]",
          "[0.         0.44415841]",
          "[0.         0.44415841]",
          "[0.         0.44415841]",
          "[ 0.         -0.00483124]",
          "[ 0.         -0.00483124]",
          "[ 0.         -0.00483124]",
          "[ 0.         -0.00483124]",
          "[ 0.         -0.00483124]",
          "[ 0.         -0.00483124]",
          "[ 0.         -0.00483124]",
          "[ 0.         -0.28084271]",
          "[ 0.         -0.28084271]",
          "[ 0.         -0.28084271]",
          "[ 0.         -0.28084271]",
          "[ 0.         -0.28084271]",
          "[ 0.         -0.28084271]",
          "[ 0.         -0.28084271]",
          "[ 0.         -0.22598931]",
          "[ 0.         -0.22598931]",
          "[ 0.         -0.22598931]",
          "[ 0.         -0.22598931]",
          "[ 0.         -0.22598931]",
          "[ 0.         -0.22598931]",
          "[ 0.         -0.22598931]",
          "[ 0.  -0.5]",
          "[ 0.  -0.5]",
          "[ 0.  -0.5]",
          "[ 0.  -0.5]",
          "[ 0.  -0.5]",
          "[ 0.  -0.5]",
          "[ 0.  -0.5]",
          "[ 0. nan]",
          "[ 0. nan]",
          "[ 0. nan]",
          "[ 0. nan]",
          "[ 0. nan]",
          "[ 0. nan]",
          "[ 0. nan]",
          "[ 0. nan]",
          "[ 0. nan]",
          "[ 0. nan]",
          "[ 0. nan]",
          "[ 0. nan]",
          "[ 0. nan]",
          "[ 0. nan]",
          "[ 0. nan]",
          "[ 0. nan]",
          "[ 0. nan]",
          "[ 0. nan]",
          "[ 0. nan]",
          "[ 0. nan]",
          "[ 0. nan]",
          "[ 0. nan]",
          "[ 0. nan]",
          "[ 0. nan]",
          "[ 0. nan]",
          "[ 0. nan]",
          "[ 0. nan]",
          "[ 0. nan]",
          "[ 0.         -0.01081874]",
          "[ 0.         -0.01081874]",
          "[ 0.         -0.01081874]",
          "[ 0.         -0.01081874]",
          "[ 0.         -0.01081874]",
          "[ 0.         -0.01081874]",
          "[ 0.         -0.01081874]",
          "[ 0. nan]",
          "[ 0. nan]",
          "[ 0. nan]",
          "[ 0. nan]",
          "[ 0. nan]",
          "[ 0. nan]",
          "[ 0. nan]",
          "[ 0. nan]",
          "[ 0. nan]",
          "[ 0. nan]",
          "[ 0. nan]",
          "[ 0. nan]",
          "[ 0. nan]",
          "[ 0. nan]",
          "[ 0. nan]",
          "[ 0. nan]",
          "[ 0. nan]",
          "[ 0. nan]",
          "[ 0. nan]",
          "[ 0. nan]",
          "[ 0. nan]",
          "[ 0. nan]",
          "[ 0. nan]",
          "[ 0. nan]",
          "[ 0. nan]",
          "[ 0. nan]",
          "[ 0. nan]",
          "[ 0. nan]",
          "[ 0. nan]",
          "[ 0. nan]",
          "[ 0. nan]",
          "[ 0. nan]",
          "[ 0. nan]",
          "[ 0. nan]",
          "[ 0. nan]",
          "[ 0.         -0.00483124]",
          "[ 0.         -0.00483124]",
          "[ 0.         -0.00483124]",
          "[ 0.         -0.00483124]",
          "[ 0.         -0.00483124]",
          "[ 0.         -0.00483124]",
          "[ 0.         -0.00483124]",
          "[0.         0.21982199]",
          "[0.         0.21982199]",
          "[0.         0.21982199]",
          "[0.         0.21982199]",
          "[0.         0.21982199]",
          "[0.         0.21982199]",
          "[0.         0.21982199]",
          "[0.         0.23557121]",
          "[0.         0.23557121]",
          "[0.         0.23557121]",
          "[0.         0.23557121]",
          "[0.         0.23557121]",
          "[0.         0.23557121]",
          "[0.         0.23557121]",
          "[0.         0.43771325]",
          "[0.         0.43771325]",
          "[0.         0.43771325]",
          "[0.         0.43771325]",
          "[0.         0.43771325]",
          "[0.         0.43771325]",
          "[0.         0.43771325]",
          "[0.         0.05964939]",
          "[0.         0.05964939]",
          "[0.         0.05964939]",
          "[0.         0.05964939]",
          "[0.         0.05964939]",
          "[0.         0.05964939]",
          "[0.         0.05964939]",
          "[ 0. nan]",
          "[ 0. nan]",
          "[ 0. nan]",
          "[ 0. nan]",
          "[ 0. nan]",
          "[ 0. nan]",
          "[ 0. nan]",
          "[ 0. nan]",
          "[ 0. nan]",
          "[ 0. nan]",
          "[ 0. nan]",
          "[ 0. nan]",
          "[ 0. nan]",
          "[ 0. nan]",
          "[ 0. nan]",
          "[ 0. nan]",
          "[ 0. nan]",
          "[ 0. nan]",
          "[ 0. nan]",
          "[ 0. nan]",
          "[ 0. nan]",
          "[ 0. nan]",
          "[ 0. nan]",
          "[ 0. nan]",
          "[ 0. nan]",
          "[ 0. nan]",
          "[ 0. nan]",
          "[ 0. nan]",
          "[0.        0.0286024]",
          "[0.        0.0286024]",
          "[0.        0.0286024]",
          "[0.        0.0286024]",
          "[0.        0.0286024]",
          "[0.        0.0286024]",
          "[0.        0.0286024]",
          "[ 0. nan]",
          "[ 0. nan]",
          "[ 0. nan]",
          "[ 0. nan]",
          "[ 0. nan]",
          "[ 0. nan]",
          "[ 0. nan]",
          "[ 0. nan]",
          "[ 0. nan]",
          "[ 0. nan]",
          "[ 0. nan]",
          "[ 0. nan]",
          "[ 0. nan]",
          "[ 0. nan]",
          "[ 0. nan]",
          "[ 0. nan]",
          "[ 0. nan]",
          "[ 0. nan]",
          "[ 0. nan]",
          "[ 0. nan]",
          "[ 0. nan]",
          "[ 0. nan]",
          "[ 0. nan]",
          "[ 0. nan]",
          "[ 0. nan]",
          "[ 0. nan]",
          "[ 0. nan]",
          "[ 0. nan]",
          "[ 0. nan]",
          "[ 0. nan]",
          "[ 0. nan]",
          "[ 0. nan]",
          "[ 0. nan]",
          "[ 0. nan]",
          "[ 0. nan]",
          "[ 0.         -0.28084271]",
          "[ 0.         -0.28084271]",
          "[ 0.         -0.28084271]",
          "[ 0.         -0.28084271]",
          "[ 0.         -0.28084271]",
          "[ 0.         -0.28084271]",
          "[ 0.         -0.28084271]",
          "[0.         0.23557121]",
          "[0.         0.23557121]",
          "[0.         0.23557121]",
          "[0.         0.23557121]",
          "[0.         0.23557121]",
          "[0.         0.23557121]",
          "[0.         0.23557121]",
          "[0.         0.37163769]",
          "[0.         0.37163769]",
          "[0.         0.37163769]",
          "[0.         0.37163769]",
          "[0.         0.37163769]",
          "[0.         0.37163769]",
          "[0.         0.37163769]",
          "[ 0.         -0.07613467]",
          "[ 0.         -0.07613467]",
          "[ 0.         -0.07613467]",
          "[ 0.         -0.07613467]",
          "[ 0.         -0.07613467]",
          "[ 0.         -0.07613467]",
          "[ 0.         -0.07613467]",
          "[0.         0.02960918]",
          "[0.         0.02960918]",
          "[0.         0.02960918]",
          "[0.         0.02960918]",
          "[0.         0.02960918]",
          "[0.         0.02960918]",
          "[0.         0.02960918]",
          "[ 0. nan]",
          "[ 0. nan]",
          "[ 0. nan]",
          "[ 0. nan]",
          "[ 0. nan]",
          "[ 0. nan]",
          "[ 0. nan]",
          "[ 0. nan]",
          "[ 0. nan]",
          "[ 0. nan]",
          "[ 0. nan]",
          "[ 0. nan]",
          "[ 0. nan]",
          "[ 0. nan]",
          "[ 0. nan]",
          "[ 0. nan]",
          "[ 0. nan]",
          "[ 0. nan]",
          "[ 0. nan]",
          "[ 0. nan]",
          "[ 0. nan]",
          "[ 0. nan]",
          "[ 0. nan]",
          "[ 0. nan]",
          "[ 0. nan]",
          "[ 0. nan]",
          "[ 0. nan]",
          "[ 0. nan]",
          "[0.         0.05815037]",
          "[0.         0.05815037]",
          "[0.         0.05815037]",
          "[0.         0.05815037]",
          "[0.         0.05815037]",
          "[0.         0.05815037]",
          "[0.         0.05815037]",
          "[ 0. nan]",
          "[ 0. nan]",
          "[ 0. nan]",
          "[ 0. nan]",
          "[ 0. nan]",
          "[ 0. nan]",
          "[ 0. nan]",
          "[ 0. nan]",
          "[ 0. nan]",
          "[ 0. nan]",
          "[ 0. nan]",
          "[ 0. nan]",
          "[ 0. nan]",
          "[ 0. nan]",
          "[ 0. nan]",
          "[ 0. nan]",
          "[ 0. nan]",
          "[ 0. nan]",
          "[ 0. nan]",
          "[ 0. nan]",
          "[ 0. nan]",
          "[ 0. nan]",
          "[ 0. nan]",
          "[ 0. nan]",
          "[ 0. nan]",
          "[ 0. nan]",
          "[ 0. nan]",
          "[ 0. nan]",
          "[ 0. nan]",
          "[ 0. nan]",
          "[ 0. nan]",
          "[ 0. nan]",
          "[ 0. nan]",
          "[ 0. nan]",
          "[ 0. nan]",
          "[ 0.         -0.22598931]",
          "[ 0.         -0.22598931]",
          "[ 0.         -0.22598931]",
          "[ 0.         -0.22598931]",
          "[ 0.         -0.22598931]",
          "[ 0.         -0.22598931]",
          "[ 0.         -0.22598931]",
          "[0.         0.43771325]",
          "[0.         0.43771325]",
          "[0.         0.43771325]",
          "[0.         0.43771325]",
          "[0.         0.43771325]",
          "[0.         0.43771325]",
          "[0.         0.43771325]",
          "[ 0.         -0.07613467]",
          "[ 0.         -0.07613467]",
          "[ 0.         -0.07613467]",
          "[ 0.         -0.07613467]",
          "[ 0.         -0.07613467]",
          "[ 0.         -0.07613467]",
          "[ 0.         -0.07613467]",
          "[ 0.        -0.2352818]",
          "[ 0.        -0.2352818]",
          "[ 0.        -0.2352818]",
          "[ 0.        -0.2352818]",
          "[ 0.        -0.2352818]",
          "[ 0.        -0.2352818]",
          "[ 0.        -0.2352818]",
          "[0.         0.40431545]",
          "[0.         0.40431545]",
          "[0.         0.40431545]",
          "[0.         0.40431545]",
          "[0.         0.40431545]",
          "[0.         0.40431545]",
          "[0.         0.40431545]",
          "[ 0. nan]",
          "[ 0. nan]",
          "[ 0. nan]",
          "[ 0. nan]",
          "[ 0. nan]",
          "[ 0. nan]",
          "[ 0. nan]",
          "[ 0. nan]",
          "[ 0. nan]",
          "[ 0. nan]",
          "[ 0. nan]",
          "[ 0. nan]",
          "[ 0. nan]",
          "[ 0. nan]",
          "[ 0. nan]",
          "[ 0. nan]",
          "[ 0. nan]",
          "[ 0. nan]",
          "[ 0. nan]",
          "[ 0. nan]",
          "[ 0. nan]",
          "[ 0. nan]",
          "[ 0. nan]",
          "[ 0. nan]",
          "[ 0. nan]",
          "[ 0. nan]",
          "[ 0. nan]",
          "[ 0. nan]",
          "[0.         0.03143853]",
          "[0.         0.03143853]",
          "[0.         0.03143853]",
          "[0.         0.03143853]",
          "[0.         0.03143853]",
          "[0.         0.03143853]",
          "[0.         0.03143853]",
          "[ 0. nan]",
          "[ 0. nan]",
          "[ 0. nan]",
          "[ 0. nan]",
          "[ 0. nan]",
          "[ 0. nan]",
          "[ 0. nan]",
          "[ 0. nan]",
          "[ 0. nan]",
          "[ 0. nan]",
          "[ 0. nan]",
          "[ 0. nan]",
          "[ 0. nan]",
          "[ 0. nan]",
          "[ 0. nan]",
          "[ 0. nan]",
          "[ 0. nan]",
          "[ 0. nan]",
          "[ 0. nan]",
          "[ 0. nan]",
          "[ 0. nan]",
          "[ 0. nan]",
          "[ 0. nan]",
          "[ 0. nan]",
          "[ 0. nan]",
          "[ 0. nan]",
          "[ 0. nan]",
          "[ 0. nan]",
          "[ 0. nan]",
          "[ 0. nan]",
          "[ 0. nan]",
          "[ 0. nan]",
          "[ 0. nan]",
          "[ 0. nan]",
          "[ 0. nan]",
          "[ 0.  -0.5]",
          "[ 0.  -0.5]",
          "[ 0.  -0.5]",
          "[ 0.  -0.5]",
          "[ 0.  -0.5]",
          "[ 0.  -0.5]",
          "[ 0.  -0.5]",
          "[0.         0.05964939]",
          "[0.         0.05964939]",
          "[0.         0.05964939]",
          "[0.         0.05964939]",
          "[0.         0.05964939]",
          "[0.         0.05964939]",
          "[0.         0.05964939]",
          "[0.         0.02960918]",
          "[0.         0.02960918]",
          "[0.         0.02960918]",
          "[0.         0.02960918]",
          "[0.         0.02960918]",
          "[0.         0.02960918]",
          "[0.         0.02960918]",
          "[0.         0.40431545]",
          "[0.         0.40431545]",
          "[0.         0.40431545]",
          "[0.         0.40431545]",
          "[0.         0.40431545]",
          "[0.         0.40431545]",
          "[0.         0.40431545]",
          "[0.         0.21488049]",
          "[0.         0.21488049]",
          "[0.         0.21488049]",
          "[0.         0.21488049]",
          "[0.         0.21488049]",
          "[0.         0.21488049]",
          "[0.         0.21488049]",
          "[ 0. nan]",
          "[ 0. nan]",
          "[ 0. nan]",
          "[ 0. nan]",
          "[ 0. nan]",
          "[ 0. nan]",
          "[ 0. nan]",
          "[ 0. nan]",
          "[ 0. nan]",
          "[ 0. nan]",
          "[ 0. nan]",
          "[ 0. nan]",
          "[ 0. nan]",
          "[ 0. nan]",
          "[ 0. nan]",
          "[ 0. nan]",
          "[ 0. nan]",
          "[ 0. nan]",
          "[ 0. nan]",
          "[ 0. nan]",
          "[ 0. nan]",
          "[ 0. nan]",
          "[ 0. nan]",
          "[ 0. nan]",
          "[ 0. nan]",
          "[ 0. nan]",
          "[ 0. nan]",
          "[ 0. nan]",
          "[ 0. nan]",
          "[ 0. nan]",
          "[ 0. nan]",
          "[ 0. nan]",
          "[ 0. nan]",
          "[ 0. nan]",
          "[ 0. nan]",
          "[ 0.         -0.01081874]",
          "[ 0.         -0.01081874]",
          "[ 0.         -0.01081874]",
          "[ 0.         -0.01081874]",
          "[ 0.         -0.01081874]",
          "[ 0.         -0.01081874]",
          "[ 0.         -0.01081874]",
          "[0.        0.0286024]",
          "[0.        0.0286024]",
          "[0.        0.0286024]",
          "[0.        0.0286024]",
          "[0.        0.0286024]",
          "[0.        0.0286024]",
          "[0.        0.0286024]",
          "[0.         0.05815037]",
          "[0.         0.05815037]",
          "[0.         0.05815037]",
          "[0.         0.05815037]",
          "[0.         0.05815037]",
          "[0.         0.05815037]",
          "[0.         0.05815037]",
          "[0.         0.03143853]",
          "[0.         0.03143853]",
          "[0.         0.03143853]",
          "[0.         0.03143853]",
          "[0.         0.03143853]",
          "[0.         0.03143853]",
          "[0.         0.03143853]",
          "[ 0. nan]",
          "[ 0. nan]",
          "[ 0. nan]",
          "[ 0. nan]",
          "[ 0. nan]",
          "[ 0. nan]",
          "[ 0. nan]"
         ],
         "line": {
          "color": "blue"
         },
         "meta": {},
         "mode": "lines",
         "name": "Hamiltonian value",
         "type": "scatter",
         "x": {
          "bdata": "AAAAAAAAAAAAAAAAAAAAAAAAAAAAAPh/erdal4Qcn78AAAAAAAAAAHi3WpeEHJ8/AAAAAAAA+H8AAAAAAADwPwAAAAAAAPA/AAAAAAAA+H+cRnaHWgHwPwAAAAAAAPA/x3IT8Ur97z8AAAAAAAD4fwAAAAAAAABAAAAAAAAAAEAAAAAAAAD4f/VeTfpXJwBAAAAAAAAAAEAXQmULULH/PwAAAAAAAPh/AAAAAAAACEAAAAAAAAAIQAAAAAAAAPh/Xn1tv6gfCEAAAAAAAAAIQKKCkkBX4AdAAAAAAAAA+H8AAAAAAAAQQAAAAAAAABBAAAAAAAAA+H8TEFTaBSMQQAAAAAAAABBA2t9XS/S5D0AAAAAAAAD4fwAAAAAAABRAAAAAAAAAFEAAAAAAAAD4fwAAAAAAAPj/AAAAAAAAFEAAAAAAAAD4/wAAAAAAAPh/AAAAAAAAGEAAAAAAAAAYQAAAAAAAAPh/AAAAAAAA+P8AAAAAAAAYQAAAAAAAAPj/AAAAAAAA+H8AAAAAAAAcQAAAAAAAABxAAAAAAAAA+H8AAAAAAAD4/wAAAAAAABxAAAAAAAAA+P8AAAAAAAD4fwAAAAAAACBAAAAAAAAAIEAAAAAAAAD4fwAAAAAAAPj/AAAAAAAAIEAAAAAAAAD4/wAAAAAAAPh/AAAAAAAAIkAAAAAAAAAiQAAAAAAAAPh/VZvP/2AAIkAAAAAAAAAiQKtkMACf/yFAAAAAAAAA+H8AAAAAAAAkQAAAAAAAACRAAAAAAAAA+H8AAAAAAAD4/wAAAAAAACRAAAAAAAAA+P8AAAAAAAD4fwAAAAAAACZAAAAAAAAAJkAAAAAAAAD4fwAAAAAAAPj/AAAAAAAAJkAAAAAAAAD4/wAAAAAAAPh/AAAAAAAAKEAAAAAAAAAoQAAAAAAAAPh/AAAAAAAA+P8AAAAAAAAoQAAAAAAAAPj/AAAAAAAA+H8AAAAAAAAqQAAAAAAAACpAAAAAAAAA+H8AAAAAAAD4/wAAAAAAACpAAAAAAAAA+P8AAAAAAAD4fwAAAAAAACxAAAAAAAAALEAAAAAAAAD4fwAAAAAAAPj/AAAAAAAALEAAAAAAAAD4/wAAAAAAAPh/AAAAAAAAAAAAAAAAAAAAAAAAAAAAAPh/Q8VpZHeoNT8AAAAAAAAAAELFaWR3qDW/AAAAAAAA+H8AAAAAAADwPwAAAAAAAPA/AAAAAAAA+H8FiwO80YTvPwAAAAAAAPA/fTr+IZc98D8AAAAAAAD4fwAAAAAAAABAAAAAAAAAAEAAAAAAAAD4f4dbuzn/vf8/AAAAAAAAAEA8UiJjACEAQAAAAAAAAPh/AAAAAAAACEAAAAAAAAAIQAAAAAAAAPh/Y0QTHK7CB0AAAAAAAAAIQJ277ONRPQhAAAAAAAAA+H8AAAAAAAAQQAAAAAAAABBAAAAAAAAA+H/hsevEpPcPQAAAAAAAABBAECeKnS0EEEAAAAAAAAD4fwAAAAAAABRAAAAAAAAAFEAAAAAAAAD4fwAAAAAAAPj/AAAAAAAAFEAAAAAAAAD4/wAAAAAAAPh/AAAAAAAAGEAAAAAAAAAYQAAAAAAAAPh/AAAAAAAA+P8AAAAAAAAYQAAAAAAAAPj/AAAAAAAA+H8AAAAAAAAcQAAAAAAAABxAAAAAAAAA+H8AAAAAAAD4/wAAAAAAABxAAAAAAAAA+P8AAAAAAAD4fwAAAAAAACBAAAAAAAAAIEAAAAAAAAD4fwAAAAAAAPj/AAAAAAAAIEAAAAAAAAD4/wAAAAAAAPh/AAAAAAAAIkAAAAAAAAAiQAAAAAAAAPh/KcQXjv/+IUAAAAAAAAAiQNc76HEAASJAAAAAAAAA+H8AAAAAAAAkQAAAAAAAACRAAAAAAAAA+H8AAAAAAAD4/wAAAAAAACRAAAAAAAAA+P8AAAAAAAD4fwAAAAAAACZAAAAAAAAAJkAAAAAAAAD4fwAAAAAAAPj/AAAAAAAAJkAAAAAAAAD4/wAAAAAAAPh/AAAAAAAAKEAAAAAAAAAoQAAAAAAAAPh/AAAAAAAA+P8AAAAAAAAoQAAAAAAAAPj/AAAAAAAA+H8AAAAAAAAqQAAAAAAAACpAAAAAAAAA+H8AAAAAAAD4/wAAAAAAACpAAAAAAAAA+P8AAAAAAAD4fwAAAAAAACxAAAAAAAAALEAAAAAAAAD4fwAAAAAAAPj/AAAAAAAALEAAAAAAAAD4/wAAAAAAAPh/AAAAAAAAAAAAAAAAAAAAAAAAAAAAAPh/V3qvJv2rkz8AAAAAAAAAAFZ6ryb9q5O/AAAAAAAA+H8AAAAAAADwPwAAAAAAAPA/AAAAAAAA+H8Ot3Zz/nvvPwAAAAAAAPA/eaRExgBC8D8AAAAAAAD4fwAAAAAAAABAAAAAAAAAAEAAAAAAAAD4f1+9+Zvfl/8/AAAAAAAAAEBQIQMyEDQAQAAAAAAAAPh/AAAAAAAACEAAAAAAAAAIQAAAAAAAAPh/8vTocqoKCEAAAAAAAAAIQA4LF41V9QdAAAAAAAAA+H8AAAAAAAAQQAAAAAAAABBAAAAAAAAA+H+bdRod2vsPQAAAAAAAABBAM8Vy8RICEEAAAAAAAAD4fwAAAAAAABRAAAAAAAAAFEAAAAAAAAD4fwAAAAAAAPj/AAAAAAAAFEAAAAAAAAD4/wAAAAAAAPh/AAAAAAAAGEAAAAAAAAAYQAAAAAAAAPh/AAAAAAAA+P8AAAAAAAAYQAAAAAAAAPj/AAAAAAAA+H8AAAAAAAAcQAAAAAAAABxAAAAAAAAA+H8AAAAAAAD4/wAAAAAAABxAAAAAAAAA+P8AAAAAAAD4fwAAAAAAACBAAAAAAAAAIEAAAAAAAAD4fwAAAAAAAPj/AAAAAAAAIEAAAAAAAAD4/wAAAAAAAPh/AAAAAAAAIkAAAAAAAAAiQAAAAAAAAPh/YoXeofb9IUAAAAAAAAAiQJ56IV4JAiJAAAAAAAAA+H8AAAAAAAAkQAAAAAAAACRAAAAAAAAA+H8AAAAAAAD4/wAAAAAAACRAAAAAAAAA+P8AAAAAAAD4fwAAAAAAACZAAAAAAAAAJkAAAAAAAAD4fwAAAAAAAPj/AAAAAAAAJkAAAAAAAAD4/wAAAAAAAPh/AAAAAAAAKEAAAAAAAAAoQAAAAAAAAPh/AAAAAAAA+P8AAAAAAAAoQAAAAAAAAPj/AAAAAAAA+H8AAAAAAAAqQAAAAAAAACpAAAAAAAAA+H8AAAAAAAD4/wAAAAAAACpAAAAAAAAA+P8AAAAAAAD4fwAAAAAAACxAAAAAAAAALEAAAAAAAAD4fwAAAAAAAPj/AAAAAAAALEAAAAAAAAD4/wAAAAAAAPh/AAAAAAAAAAAAAAAAAAAAAAAAAAAAAPh/PF59bb+ojz8AAAAAAAAAADpefW2/qI+/AAAAAAAA+H8AAAAAAADwPwAAAAAAAPA/AAAAAAAA+H+KEU1wuArvPwAAAAAAAPA/O3fZx6N68D8AAAAAAAD4fwAAAAAAAABAAAAAAAAAAEAAAAAAAAD4f/L06HKqCgBAAAAAAAAAAEAcFi4aq+r/PwAAAAAAAPh/AAAAAAAACEAAAAAAAAAIQAAAAAAAAPh/z1IKAvYgCEAAAAAAAAAIQDGt9f0J3wdAAAAAAAAA+H8AAAAAAAAQQAAAAAAAABBAAAAAAAAA+H+WxVfeW8cPQAAAAAAAABBANR3UEFIcEEAAAAAAAAD4fwAAAAAAABRAAAAAAAAAFEAAAAAAAAD4fwAAAAAAAPj/AAAAAAAAFEAAAAAAAAD4/wAAAAAAAPh/AAAAAAAAGEAAAAAAAAAYQAAAAAAAAPh/AAAAAAAA+P8AAAAAAAAYQAAAAAAAAPj/AAAAAAAA+H8AAAAAAAAcQAAAAAAAABxAAAAAAAAA+H8AAAAAAAD4/wAAAAAAABxAAAAAAAAA+P8AAAAAAAD4fwAAAAAAACBAAAAAAAAAIEAAAAAAAAD4fwAAAAAAAPj/AAAAAAAAIEAAAAAAAAD4/wAAAAAAAPh/AAAAAAAAIkAAAAAAAAAiQAAAAAAAAPh/XtJyIOb+IUAAAAAAAAAiQKItjd8ZASJAAAAAAAAA+H8AAAAAAAAkQAAAAAAAACRAAAAAAAAA+H8AAAAAAAD4/wAAAAAAACRAAAAAAAAA+P8AAAAAAAD4fwAAAAAAACZAAAAAAAAAJkAAAAAAAAD4fwAAAAAAAPj/AAAAAAAAJkAAAAAAAAD4/wAAAAAAAPh/AAAAAAAAKEAAAAAAAAAoQAAAAAAAAPh/AAAAAAAA+P8AAAAAAAAoQAAAAAAAAPj/AAAAAAAA+H8AAAAAAAAqQAAAAAAAACpAAAAAAAAA+H8AAAAAAAD4/wAAAAAAACpAAAAAAAAA+P8AAAAAAAD4fwAAAAAAACxAAAAAAAAALEAAAAAAAAD4fwAAAAAAAPj/AAAAAAAALEAAAAAAAAD4/wAAAAAAAPh/AAAAAAAAAAAAAAAAAAAAAAAAAAAAAPh/kQkIKu2CoT8AAAAAAAAAAJAJCCrtgqG/AAAAAAAA+H8AAAAAAADwPwAAAAAAAPA/AAAAAAAA+H+Ex64Tk97vPwAAAAAAAPA/PpwodrYQ8D8AAAAAAAD4fwAAAAAAAABAAAAAAAAAAEAAAAAAAAD4fzbrNDq09/8/AAAAAAAAAEBliuXiJQQAQAAAAAAAAPh/AAAAAAAACEAAAAAAAAAIQAAAAAAAAPh/lsVX3lvHB0AAAAAAAAAIQGo6qCGkOAhAAAAAAAAA+H8AAAAAAAAQQAAAAAAAABBAAAAAAAAA+H8laQmn5eEPQAAAAAAAABBAbUt7LA0PEEAAAAAAAAD4fwAAAAAAABRAAAAAAAAAFEAAAAAAAAD4fwAAAAAAAPj/AAAAAAAAFEAAAAAAAAD4/wAAAAAAAPh/AAAAAAAAGEAAAAAAAAAYQAAAAAAAAPh/AAAAAAAA+P8AAAAAAAAYQAAAAAAAAPj/AAAAAAAA+H8AAAAAAAAcQAAAAAAAABxAAAAAAAAA+H8AAAAAAAD4/wAAAAAAABxAAAAAAAAA+P8AAAAAAAD4fwAAAAAAACBAAAAAAAAAIEAAAAAAAAD4fwAAAAAAAPj/AAAAAAAAIEAAAAAAAAD4/wAAAAAAAPh/AAAAAAAAIkAAAAAAAAAiQAAAAAAAAPh/AAAAAAAA+P8AAAAAAAAiQAAAAAAAAPj/AAAAAAAA+H8AAAAAAAAkQAAAAAAAACRAAAAAAAAA+H9Vm8//YAAkQAAAAAAAACRAq2QwAJ//I0AAAAAAAAD4fwAAAAAAACZAAAAAAAAAJkAAAAAAAAD4fynEF47//iVAAAAAAAAAJkDXO+hxAAEmQAAAAAAAAPh/AAAAAAAAKEAAAAAAAAAoQAAAAAAAAPh/YoXeofb9J0AAAAAAAAAoQJ56IV4JAihAAAAAAAAA+H8AAAAAAAAqQAAAAAAAACpAAAAAAAAA+H9e0nIg5v4pQAAAAAAAACpAoi2N3xkBKkAAAAAAAAD4fwAAAAAAACxAAAAAAAAALEAAAAAAAAD4fwAAAAAAAPj/AAAAAAAALEAAAAAAAAD4/wAAAAAAAPh/",
          "dtype": "f8"
         },
         "y": {
          "bdata": "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",
          "dtype": "f8"
         }
        },
        {
         "hovertext": [
          "[-0.40244756  0.29670854]",
          "[-0.40244756  0.29670854]",
          "[-0.40244756  0.29670854]",
          "[-0.40244756  0.29670854]",
          "[-0.40244756  0.29670854]",
          "[-0.40244756  0.29670854]",
          "[-0.40244756  0.29670854]",
          "[ 0.00437753 -0.00015003]",
          "[ 0.00437753 -0.00015003]",
          "[ 0.00437753 -0.00015003]",
          "[ 0.00437753 -0.00015003]",
          "[ 0.00437753 -0.00015003]",
          "[ 0.00437753 -0.00015003]",
          "[ 0.00437753 -0.00015003]",
          "[ 0.25446881 -0.17997341]",
          "[ 0.25446881 -0.17997341]",
          "[ 0.25446881 -0.17997341]",
          "[ 0.25446881 -0.17997341]",
          "[ 0.25446881 -0.17997341]",
          "[ 0.25446881 -0.17997341]",
          "[ 0.25446881 -0.17997341]",
          "[ 0.20476669 -0.08862137]",
          "[ 0.20476669 -0.08862137]",
          "[ 0.20476669 -0.08862137]",
          "[ 0.20476669 -0.08862137]",
          "[ 0.20476669 -0.08862137]",
          "[ 0.20476669 -0.08862137]",
          "[ 0.20476669 -0.08862137]",
          "[ 0.45304507 -0.1116539 ]",
          "[ 0.45304507 -0.1116539 ]",
          "[ 0.45304507 -0.1116539 ]",
          "[ 0.45304507 -0.1116539 ]",
          "[ 0.45304507 -0.1116539 ]",
          "[ 0.45304507 -0.1116539 ]",
          "[ 0.45304507 -0.1116539 ]",
          "[ 0. -0.]",
          "[ 0. -0.]",
          "[ 0. -0.]",
          "[ 0. -0.]",
          "[ 0. -0.]",
          "[ 0. -0.]",
          "[ 0. -0.]",
          "[ 0. -0.]",
          "[ 0. -0.]",
          "[ 0. -0.]",
          "[ 0. -0.]",
          "[ 0. -0.]",
          "[ 0. -0.]",
          "[ 0. -0.]",
          "[ 0. -0.]",
          "[ 0. -0.]",
          "[ 0. -0.]",
          "[ 0. -0.]",
          "[ 0. -0.]",
          "[ 0. -0.]",
          "[ 0. -0.]",
          "[ 0. -0.]",
          "[ 0. -0.]",
          "[ 0. -0.]",
          "[ 0. -0.]",
          "[ 0. -0.]",
          "[ 0. -0.]",
          "[ 0. -0.]",
          "[ 0.00980276 -0.00287352]",
          "[ 0.00980276 -0.00287352]",
          "[ 0.00980276 -0.00287352]",
          "[ 0.00980276 -0.00287352]",
          "[ 0.00980276 -0.00287352]",
          "[ 0.00980276 -0.00287352]",
          "[ 0.00980276 -0.00287352]",
          "[ 0. -0.]",
          "[ 0. -0.]",
          "[ 0. -0.]",
          "[ 0. -0.]",
          "[ 0. -0.]",
          "[ 0. -0.]",
          "[ 0. -0.]",
          "[ 0. -0.]",
          "[ 0. -0.]",
          "[ 0. -0.]",
          "[ 0. -0.]",
          "[ 0. -0.]",
          "[ 0. -0.]",
          "[ 0. -0.]",
          "[ 0. -0.]",
          "[ 0. -0.]",
          "[ 0. -0.]",
          "[ 0. -0.]",
          "[ 0. -0.]",
          "[ 0. -0.]",
          "[ 0. -0.]",
          "[ 0. -0.]",
          "[ 0. -0.]",
          "[ 0. -0.]",
          "[ 0. -0.]",
          "[ 0. -0.]",
          "[ 0. -0.]",
          "[ 0. -0.]",
          "[ 0. -0.]",
          "[ 0. -0.]",
          "[ 0. -0.]",
          "[ 0. -0.]",
          "[ 0. -0.]",
          "[ 0. -0.]",
          "[ 0. -0.]",
          "[ 0.00437753 -0.00049452]",
          "[ 0.00437753 -0.00049452]",
          "[ 0.00437753 -0.00049452]",
          "[ 0.00437753 -0.00049452]",
          "[ 0.00437753 -0.00049452]",
          "[ 0.00437753 -0.00049452]",
          "[ 0.00437753 -0.00049452]",
          "[-0.19917854  0.12079503]",
          "[-0.19917854  0.12079503]",
          "[-0.19917854  0.12079503]",
          "[-0.19917854  0.12079503]",
          "[-0.19917854  0.12079503]",
          "[-0.19917854  0.12079503]",
          "[-0.19917854  0.12079503]",
          "[-0.21344875  0.2043938 ]",
          "[-0.21344875  0.2043938 ]",
          "[-0.21344875  0.2043938 ]",
          "[-0.21344875  0.2043938 ]",
          "[-0.21344875  0.2043938 ]",
          "[-0.21344875  0.2043938 ]",
          "[-0.21344875  0.2043938 ]",
          "[-0.39660766  0.23418501]",
          "[-0.39660766  0.23418501]",
          "[-0.39660766  0.23418501]",
          "[-0.39660766  0.23418501]",
          "[-0.39660766  0.23418501]",
          "[-0.39660766  0.23418501]",
          "[-0.39660766  0.23418501]",
          "[-0.05404773  0.00704507]",
          "[-0.05404773  0.00704507]",
          "[-0.05404773  0.00704507]",
          "[-0.05404773  0.00704507]",
          "[-0.05404773  0.00704507]",
          "[-0.05404773  0.00704507]",
          "[-0.05404773  0.00704507]",
          "[ 0. -0.]",
          "[ 0. -0.]",
          "[ 0. -0.]",
          "[ 0. -0.]",
          "[ 0. -0.]",
          "[ 0. -0.]",
          "[ 0. -0.]",
          "[ 0. -0.]",
          "[ 0. -0.]",
          "[ 0. -0.]",
          "[ 0. -0.]",
          "[ 0. -0.]",
          "[ 0. -0.]",
          "[ 0. -0.]",
          "[ 0. -0.]",
          "[ 0. -0.]",
          "[ 0. -0.]",
          "[ 0. -0.]",
          "[ 0. -0.]",
          "[ 0. -0.]",
          "[ 0. -0.]",
          "[ 0. -0.]",
          "[ 0. -0.]",
          "[ 0. -0.]",
          "[ 0. -0.]",
          "[ 0. -0.]",
          "[ 0. -0.]",
          "[ 0. -0.]",
          "[-0.02591636  0.02443171]",
          "[-0.02591636  0.02443171]",
          "[-0.02591636  0.02443171]",
          "[-0.02591636  0.02443171]",
          "[-0.02591636  0.02443171]",
          "[-0.02591636  0.02443171]",
          "[-0.02591636  0.02443171]",
          "[ 0. -0.]",
          "[ 0. -0.]",
          "[ 0. -0.]",
          "[ 0. -0.]",
          "[ 0. -0.]",
          "[ 0. -0.]",
          "[ 0. -0.]",
          "[ 0. -0.]",
          "[ 0. -0.]",
          "[ 0. -0.]",
          "[ 0. -0.]",
          "[ 0. -0.]",
          "[ 0. -0.]",
          "[ 0. -0.]",
          "[ 0. -0.]",
          "[ 0. -0.]",
          "[ 0. -0.]",
          "[ 0. -0.]",
          "[ 0. -0.]",
          "[ 0. -0.]",
          "[ 0. -0.]",
          "[ 0. -0.]",
          "[ 0. -0.]",
          "[ 0. -0.]",
          "[ 0. -0.]",
          "[ 0. -0.]",
          "[ 0. -0.]",
          "[ 0. -0.]",
          "[ 0. -0.]",
          "[ 0. -0.]",
          "[ 0. -0.]",
          "[ 0. -0.]",
          "[ 0. -0.]",
          "[ 0. -0.]",
          "[ 0. -0.]",
          "[ 0.25446881 -0.06198721]",
          "[ 0.25446881 -0.06198721]",
          "[ 0.25446881 -0.06198721]",
          "[ 0.25446881 -0.06198721]",
          "[ 0.25446881 -0.06198721]",
          "[ 0.25446881 -0.06198721]",
          "[ 0.25446881 -0.06198721]",
          "[-0.21344875  0.18660175]",
          "[-0.21344875  0.18660175]",
          "[-0.21344875  0.18660175]",
          "[-0.21344875  0.18660175]",
          "[-0.21344875  0.18660175]",
          "[-0.21344875  0.18660175]",
          "[-0.21344875  0.18660175]",
          "[-0.33673725  0.29817814]",
          "[-0.33673725  0.29817814]",
          "[-0.33673725  0.29817814]",
          "[-0.33673725  0.29817814]",
          "[-0.33673725  0.29817814]",
          "[-0.33673725  0.29817814]",
          "[-0.33673725  0.29817814]",
          "[ 0.06898487 -0.05352407]",
          "[ 0.06898487 -0.05352407]",
          "[ 0.06898487 -0.05352407]",
          "[ 0.06898487 -0.05352407]",
          "[ 0.06898487 -0.05352407]",
          "[ 0.06898487 -0.05352407]",
          "[ 0.06898487 -0.05352407]",
          "[-0.02682859  0.02071288]",
          "[-0.02682859  0.02071288]",
          "[-0.02682859  0.02071288]",
          "[-0.02682859  0.02071288]",
          "[-0.02682859  0.02071288]",
          "[-0.02682859  0.02071288]",
          "[-0.02682859  0.02071288]",
          "[ 0. -0.]",
          "[ 0. -0.]",
          "[ 0. -0.]",
          "[ 0. -0.]",
          "[ 0. -0.]",
          "[ 0. -0.]",
          "[ 0. -0.]",
          "[ 0. -0.]",
          "[ 0. -0.]",
          "[ 0. -0.]",
          "[ 0. -0.]",
          "[ 0. -0.]",
          "[ 0. -0.]",
          "[ 0. -0.]",
          "[ 0. -0.]",
          "[ 0. -0.]",
          "[ 0. -0.]",
          "[ 0. -0.]",
          "[ 0. -0.]",
          "[ 0. -0.]",
          "[ 0. -0.]",
          "[ 0. -0.]",
          "[ 0. -0.]",
          "[ 0. -0.]",
          "[ 0. -0.]",
          "[ 0. -0.]",
          "[ 0. -0.]",
          "[ 0. -0.]",
          "[-0.05268948  0.00047226]",
          "[-0.05268948  0.00047226]",
          "[-0.05268948  0.00047226]",
          "[-0.05268948  0.00047226]",
          "[-0.05268948  0.00047226]",
          "[-0.05268948  0.00047226]",
          "[-0.05268948  0.00047226]",
          "[ 0. -0.]",
          "[ 0. -0.]",
          "[ 0. -0.]",
          "[ 0. -0.]",
          "[ 0. -0.]",
          "[ 0. -0.]",
          "[ 0. -0.]",
          "[ 0. -0.]",
          "[ 0. -0.]",
          "[ 0. -0.]",
          "[ 0. -0.]",
          "[ 0. -0.]",
          "[ 0. -0.]",
          "[ 0. -0.]",
          "[ 0. -0.]",
          "[ 0. -0.]",
          "[ 0. -0.]",
          "[ 0. -0.]",
          "[ 0. -0.]",
          "[ 0. -0.]",
          "[ 0. -0.]",
          "[ 0. -0.]",
          "[ 0. -0.]",
          "[ 0. -0.]",
          "[ 0. -0.]",
          "[ 0. -0.]",
          "[ 0. -0.]",
          "[ 0. -0.]",
          "[ 0. -0.]",
          "[ 0. -0.]",
          "[ 0. -0.]",
          "[ 0. -0.]",
          "[ 0. -0.]",
          "[ 0. -0.]",
          "[ 0. -0.]",
          "[ 0.20476669 -0.08991942]",
          "[ 0.20476669 -0.08991942]",
          "[ 0.20476669 -0.08991942]",
          "[ 0.20476669 -0.08991942]",
          "[ 0.20476669 -0.08991942]",
          "[ 0.20476669 -0.08991942]",
          "[ 0.20476669 -0.08991942]",
          "[-0.39660766  0.28919612]",
          "[-0.39660766  0.28919612]",
          "[-0.39660766  0.28919612]",
          "[-0.39660766  0.28919612]",
          "[-0.39660766  0.28919612]",
          "[-0.39660766  0.28919612]",
          "[-0.39660766  0.28919612]",
          "[ 0.06898487 -0.01169195]",
          "[ 0.06898487 -0.01169195]",
          "[ 0.06898487 -0.01169195]",
          "[ 0.06898487 -0.01169195]",
          "[ 0.06898487 -0.01169195]",
          "[ 0.06898487 -0.01169195]",
          "[ 0.06898487 -0.01169195]",
          "[ 0.21318652 -0.02405557]",
          "[ 0.21318652 -0.02405557]",
          "[ 0.21318652 -0.02405557]",
          "[ 0.21318652 -0.02405557]",
          "[ 0.21318652 -0.02405557]",
          "[ 0.21318652 -0.02405557]",
          "[ 0.21318652 -0.02405557]",
          "[-0.36634625  0.08328914]",
          "[-0.36634625  0.08328914]",
          "[-0.36634625  0.08328914]",
          "[-0.36634625  0.08328914]",
          "[-0.36634625  0.08328914]",
          "[-0.36634625  0.08328914]",
          "[-0.36634625  0.08328914]",
          "[ 0. -0.]",
          "[ 0. -0.]",
          "[ 0. -0.]",
          "[ 0. -0.]",
          "[ 0. -0.]",
          "[ 0. -0.]",
          "[ 0. -0.]",
          "[ 0. -0.]",
          "[ 0. -0.]",
          "[ 0. -0.]",
          "[ 0. -0.]",
          "[ 0. -0.]",
          "[ 0. -0.]",
          "[ 0. -0.]",
          "[ 0. -0.]",
          "[ 0. -0.]",
          "[ 0. -0.]",
          "[ 0. -0.]",
          "[ 0. -0.]",
          "[ 0. -0.]",
          "[ 0. -0.]",
          "[ 0. -0.]",
          "[ 0. -0.]",
          "[ 0. -0.]",
          "[ 0. -0.]",
          "[ 0. -0.]",
          "[ 0. -0.]",
          "[ 0. -0.]",
          "[-0.02848614  0.00233116]",
          "[-0.02848614  0.00233116]",
          "[-0.02848614  0.00233116]",
          "[-0.02848614  0.00233116]",
          "[-0.02848614  0.00233116]",
          "[-0.02848614  0.00233116]",
          "[-0.02848614  0.00233116]",
          "[ 0. -0.]",
          "[ 0. -0.]",
          "[ 0. -0.]",
          "[ 0. -0.]",
          "[ 0. -0.]",
          "[ 0. -0.]",
          "[ 0. -0.]",
          "[ 0. -0.]",
          "[ 0. -0.]",
          "[ 0. -0.]",
          "[ 0. -0.]",
          "[ 0. -0.]",
          "[ 0. -0.]",
          "[ 0. -0.]",
          "[ 0. -0.]",
          "[ 0. -0.]",
          "[ 0. -0.]",
          "[ 0. -0.]",
          "[ 0. -0.]",
          "[ 0. -0.]",
          "[ 0. -0.]",
          "[ 0. -0.]",
          "[ 0. -0.]",
          "[ 0. -0.]",
          "[ 0. -0.]",
          "[ 0. -0.]",
          "[ 0. -0.]",
          "[ 0. -0.]",
          "[ 0. -0.]",
          "[ 0. -0.]",
          "[ 0. -0.]",
          "[ 0. -0.]",
          "[ 0. -0.]",
          "[ 0. -0.]",
          "[ 0. -0.]",
          "[ 0.45304507 -0.12736692]",
          "[ 0.45304507 -0.12736692]",
          "[ 0.45304507 -0.12736692]",
          "[ 0.45304507 -0.12736692]",
          "[ 0.45304507 -0.12736692]",
          "[ 0.45304507 -0.12736692]",
          "[ 0.45304507 -0.12736692]",
          "[-0.05404773  0.02354795]",
          "[-0.05404773  0.02354795]",
          "[-0.05404773  0.02354795]",
          "[-0.05404773  0.02354795]",
          "[-0.05404773  0.02354795]",
          "[-0.05404773  0.02354795]",
          "[-0.05404773  0.02354795]",
          "[-0.02682859  0.02363355]",
          "[-0.02682859  0.02363355]",
          "[-0.02682859  0.02363355]",
          "[-0.02682859  0.02363355]",
          "[-0.02682859  0.02363355]",
          "[-0.02682859  0.02363355]",
          "[-0.02682859  0.02363355]",
          "[-0.36634625  0.07681769]",
          "[-0.36634625  0.07681769]",
          "[-0.36634625  0.07681769]",
          "[-0.36634625  0.07681769]",
          "[-0.36634625  0.07681769]",
          "[-0.36634625  0.07681769]",
          "[-0.36634625  0.07681769]",
          "[-0.1947011   0.10176277]",
          "[-0.1947011   0.10176277]",
          "[-0.1947011   0.10176277]",
          "[-0.1947011   0.10176277]",
          "[-0.1947011   0.10176277]",
          "[-0.1947011   0.10176277]",
          "[-0.1947011   0.10176277]",
          "[ 0. -0.]",
          "[ 0. -0.]",
          "[ 0. -0.]",
          "[ 0. -0.]",
          "[ 0. -0.]",
          "[ 0. -0.]",
          "[ 0. -0.]",
          "[ 0. -0.]",
          "[ 0. -0.]",
          "[ 0. -0.]",
          "[ 0. -0.]",
          "[ 0. -0.]",
          "[ 0. -0.]",
          "[ 0. -0.]",
          "[ 0. -0.]",
          "[ 0. -0.]",
          "[ 0. -0.]",
          "[ 0. -0.]",
          "[ 0. -0.]",
          "[ 0. -0.]",
          "[ 0. -0.]",
          "[ 0. -0.]",
          "[ 0. -0.]",
          "[ 0. -0.]",
          "[ 0. -0.]",
          "[ 0. -0.]",
          "[ 0. -0.]",
          "[ 0. -0.]",
          "[ 0. -0.]",
          "[ 0. -0.]",
          "[ 0. -0.]",
          "[ 0. -0.]",
          "[ 0. -0.]",
          "[ 0. -0.]",
          "[ 0. -0.]",
          "[ 0.00980276 -0.00514808]",
          "[ 0.00980276 -0.00514808]",
          "[ 0.00980276 -0.00514808]",
          "[ 0.00980276 -0.00514808]",
          "[ 0.00980276 -0.00514808]",
          "[ 0.00980276 -0.00514808]",
          "[ 0.00980276 -0.00514808]",
          "[-0.02591636  0.02166858]",
          "[-0.02591636  0.02166858]",
          "[-0.02591636  0.02166858]",
          "[-0.02591636  0.02166858]",
          "[-0.02591636  0.02166858]",
          "[-0.02591636  0.02166858]",
          "[-0.02591636  0.02166858]",
          "[-0.05268948  0.01173822]",
          "[-0.05268948  0.01173822]",
          "[-0.05268948  0.01173822]",
          "[-0.05268948  0.01173822]",
          "[-0.05268948  0.01173822]",
          "[-0.05268948  0.01173822]",
          "[-0.05268948  0.01173822]",
          "[-0.02848614  0.0023506 ]",
          "[-0.02848614  0.0023506 ]",
          "[-0.02848614  0.0023506 ]",
          "[-0.02848614  0.0023506 ]",
          "[-0.02848614  0.0023506 ]",
          "[-0.02848614  0.0023506 ]",
          "[-0.02848614  0.0023506 ]",
          "[ 0. -0.]",
          "[ 0. -0.]",
          "[ 0. -0.]",
          "[ 0. -0.]",
          "[ 0. -0.]",
          "[ 0. -0.]",
          "[ 0. -0.]"
         ],
         "line": {
          "color": "red"
         },
         "meta": {},
         "mode": "lines",
         "name": "Some data",
         "type": "scatter",
         "x": {
          "bdata": "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",
          "dtype": "f8"
         },
         "y": {
          "bdata": "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",
          "dtype": "f8"
         }
        },
        {
         "line": {
          "color": "pink",
          "dash": "dash",
          "width": 5
         },
         "meta": {},
         "mode": "lines",
         "name": "orbitals separators",
         "opacity": 0.8,
         "showlegend": false,
         "type": "scatter",
         "x": {
          "bdata": "AAAAAAAA4L8AAAAAAAASQAAAAAAAAPh/AAAAAAAA4D8AAAAAAADgPwAAAAAAAPh/",
          "dtype": "f8"
         },
         "y": {
          "bdata": "AAAAAAAA4D8AAAAAAADgPwAAAAAAAPh/AAAAAAAA4L8AAAAAAAASQAAAAAAAAPh/",
          "dtype": "f8"
         }
        },
        {
         "line": {
          "color": "gray"
         },
         "meta": {},
         "mode": "lines",
         "name": "atoms separators",
         "opacity": 1,
         "showlegend": false,
         "type": "scatter",
         "x": {
          "bdata": "AAAAAAAA4L8AAAAAAAASQAAAAAAAAPh/AAAAAAAADEAAAAAAAAAMQAAAAAAAAPh/",
          "dtype": "f8"
         },
         "y": {
          "bdata": "AAAAAAAADEAAAAAAAAAMQAAAAAAAAPh/AAAAAAAA4L8AAAAAAAASQAAAAAAAAPh/",
          "dtype": "f8"
         }
        }
       ],
       "layout": {
        "coloraxis": {
         "cmid": 0,
         "colorscale": [
          [
           0.0,
           "rgb(0, 147, 146)"
          ],
          [
           0.16666666666666666,
           "rgb(57, 177, 133)"
          ],
          [
           0.3333333333333333,
           "rgb(156, 203, 134)"
          ],
          [
           0.5,
           "rgb(233, 226, 156)"
          ],
          [
           0.6666666666666666,
           "rgb(238, 180, 121)"
          ],
          [
           0.8333333333333334,
           "rgb(232, 132, 113)"
          ],
          [
           1.0,
           "rgb(207, 89, 126)"
          ]
         ],
         "showscale": false
        },
        "scene": {
         "aspectmode": "data",
         "xaxis": {
          "range": [
           -0.5,
           14.5
          ]
         },
         "yaxis": {
          "range": [
           4.5,
           -0.5
          ]
         }
        },
        "template": {
         "layout": {
          "hovermode": "closest",
          "paper_bgcolor": "white",
          "plot_bgcolor": "white",
          "scene": {
           "xaxis": {
            "color": "black",
            "gridcolor": "#ccc",
            "gridwidth": 1,
            "linewidth": 1,
            "mirror": true,
            "showgrid": false,
            "showline": true,
            "ticklen": 5,
            "ticks": "outside",
            "ticksuffix": " ",
            "visible": true,
            "zeroline": false,
            "zerolinecolor": "#ccc",
            "zerolinewidth": 1
           },
           "yaxis": {
            "color": "black",
            "gridcolor": "#ccc",
            "gridwidth": 1,
            "linewidth": 1,
            "mirror": true,
            "showgrid": false,
            "showline": true,
            "ticklen": 5,
            "ticks": "outside",
            "ticksuffix": " ",
            "visible": true,
            "zeroline": false,
            "zerolinecolor": "#ccc",
            "zerolinewidth": 1
           },
           "zaxis": {
            "color": "black",
            "gridcolor": "#ccc",
            "gridwidth": 1,
            "linewidth": 1,
            "mirror": true,
            "showgrid": false,
            "showline": true,
            "ticklen": 5,
            "ticks": "outside",
            "ticksuffix": " ",
            "visible": true,
            "zeroline": false,
            "zerolinecolor": "#ccc",
            "zerolinewidth": 1
           }
          },
          "xaxis": {
           "color": "black",
           "gridcolor": "#ccc",
           "gridwidth": 1,
           "linewidth": 1,
           "mirror": true,
           "showgrid": false,
           "showline": true,
           "ticklen": 5,
           "ticks": "outside",
           "ticksuffix": " ",
           "visible": true,
           "zeroline": false,
           "zerolinecolor": "#ccc",
           "zerolinewidth": 1
          },
          "yaxis": {
           "color": "black",
           "gridcolor": "#ccc",
           "gridwidth": 1,
           "linewidth": 1,
           "mirror": true,
           "showgrid": false,
           "showline": true,
           "ticklen": 5,
           "ticks": "outside",
           "ticksuffix": " ",
           "visible": true,
           "zeroline": false,
           "zerolinecolor": "#ccc",
           "zerolinewidth": 1
          }
         }
        },
        "xaxis": {
         "constrain": "domain",
         "range": [
          -0.5,
          14.5
         ],
         "scaleanchor": "y",
         "scaleratio": 1
        },
        "yaxis": {
         "constrain": "domain",
         "range": [
          4.5,
          -0.5
         ]
        }
       }
      }
     },
     "metadata": {},
     "output_type": "display_data"
    }
   ],
   "source": [
    "plot.update_inputs(\n",
    "    arrows=[\n",
    "        {\"color\": \"blue\", \"center\": \"start\", \"name\": \"Hamiltonian value\"},\n",
    "        {\"data\": arrow_data, \"color\": \"red\", \"center\": \"end\", \"name\": \"Some data\"},\n",
    "    ]\n",
    ")"
   ]
  }
 ],
 "metadata": {
  "kernelspec": {
   "display_name": "Python 3 (ipykernel)",
   "language": "python",
   "name": "python3"
  },
  "language_info": {
   "codemirror_mode": {
    "name": "ipython",
    "version": 3
   },
   "file_extension": ".py",
   "mimetype": "text/x-python",
   "name": "python",
   "nbconvert_exporter": "python",
   "pygments_lexer": "ipython3",
   "version": "3.12.11"
  }
 },
 "nbformat": 4,
 "nbformat_minor": 4
}
